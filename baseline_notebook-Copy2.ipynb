{
 "cells": [
  {
   "cell_type": "markdown",
   "metadata": {},
   "source": [
    "# Imports"
   ]
  },
  {
   "cell_type": "code",
   "execution_count": 1,
   "metadata": {},
   "outputs": [],
   "source": [
    "import os\n",
    "import json\n",
    "import time\n",
    "import numpy as np\n",
    "import matplotlib.pyplot as plt\n",
    "import matplotlib.patches as patches\n",
    "import torch\n",
    "import torchvision\n",
    "from torchvision import transforms\n",
    "from torchvision.transforms import ToTensor\n",
    "from torchvision.io import read_image\n",
    "from torchvision.models.detection.faster_rcnn import FastRCNNPredictor\n",
    "from torch.utils.data import Dataset, DataLoader\n",
    "from torchmetrics.detection.map import MeanAveragePrecision\n",
    "from PIL import Image\n",
    "import pycocotools"
   ]
  },
  {
   "cell_type": "code",
   "execution_count": 2,
   "metadata": {},
   "outputs": [],
   "source": [
    "# Imports local modules downloaded from TorchVision repo v0.8.2, references/detection\n",
    "# https://github.com/pytorch/vision/tree/v0.8.2/references/detection\n",
    "import utils\n",
    "import transforms\n",
    "import coco_eval\n",
    "from engine import train_one_epoch, evaluate"
   ]
  },
  {
   "cell_type": "code",
   "execution_count": 3,
   "metadata": {},
   "outputs": [],
   "source": [
    "# Imports from local lib files\n",
    "from coco_utils import get_coco_api_from_dataset\n",
    "from coco_eval import CocoEvaluator\n",
    "from engine import _get_iou_types "
   ]
  },
  {
   "cell_type": "markdown",
   "metadata": {},
   "source": [
    "# Functions and initiations"
   ]
  },
  {
   "cell_type": "markdown",
   "metadata": {
    "id": "CFo8FhOT4-Yf"
   },
   "source": [
    "## File paths"
   ]
  },
  {
   "cell_type": "code",
   "execution_count": 4,
   "metadata": {
    "id": "IlU99PhcSNDv"
   },
   "outputs": [],
   "source": [
    "# Set the paths to the annotation files that will retrieve the images with the split based on the annotations\n",
    "output_path = 'output'\n",
    "img_folder = 'eccv_18_all_images_sm'\n",
    "cis_test_ann_path = 'eccv_18_annotation_files/cis_test_annotations.json'\n",
    "cis_val_ann_path = 'eccv_18_annotation_files/cis_val_annotations.json'\n",
    "train_ann_path = 'eccv_18_annotation_files/train_annotations.json'\n",
    "trans_test_ann_path = 'eccv_18_annotation_files/trans_test_annotations.json'\n",
    "trans_val_ann_path = 'eccv_18_annotation_files/trans_val_annotations.json'\n",
    "\n",
    "# Load the json files of the annotations for better exploring of each images\n",
    "cis_test_ann = json.load(open(cis_test_ann_path))\n",
    "cis_val_ann = json.load(open(cis_val_ann_path))\n",
    "train_ann = json.load(open(train_ann_path))\n",
    "trans_test_ann = json.load(open(trans_test_ann_path))\n",
    "trans_val_ann = json.load(open(trans_val_ann_path))"
   ]
  },
  {
   "cell_type": "markdown",
   "metadata": {
    "id": "OMhB4CM354Px"
   },
   "source": [
    "## Utils"
   ]
  },
  {
   "cell_type": "code",
   "execution_count": 5,
   "metadata": {},
   "outputs": [],
   "source": [
    "# Sets the device for pytorch\n",
    "device = torch.device('cuda') if torch.cuda.is_available() else torch.device('cpu')"
   ]
  },
  {
   "cell_type": "markdown",
   "metadata": {},
   "source": [
    "### Transformation"
   ]
  },
  {
   "cell_type": "code",
   "execution_count": 6,
   "metadata": {
    "id": "3mHaZNrt7D98"
   },
   "outputs": [],
   "source": [
    "# Make and horizontal flip data transformation with 50% chance to use as data augmentation in a data loader\n",
    "# In paper :  ' ... and employ horizontal flipping for data augmentation. ( for detection)\n",
    "\n",
    "import transforms as T   # from git hub repo\n",
    "import torchvision.transforms as TorchTrans\n",
    "# In paper :  ' ... and employ horizontal flipping for data augmentation. ( for detection)\n",
    "\n",
    "colorTranformations = torch.nn.Sequential(\n",
    "                      TorchTrans.RandomInvert(1), # or 0.6\n",
    "                      TorchTrans.ColorJitter([.2,.3], [0.7,0.9], [.1,0.12])#jitter2 = T.ColorJitter([.2,.3], [0.7,0.9],  hue=.1)\n",
    ")"
   ]
  },
  {
   "cell_type": "markdown",
   "metadata": {},
   "source": [
    "### Images and dataset"
   ]
  },
  {
   "cell_type": "code",
   "execution_count": 7,
   "metadata": {},
   "outputs": [],
   "source": [
    "# Method that returns a list with the idx of images with at least one bounding box (img_wbbox) and a \n",
    "# list with the number of bbox for each valid image (num_bbox)\n",
    "def get_img_with_bbox(file_path):\n",
    "  \n",
    "    file = json.load(open(file_path))\n",
    "    img_wbbox = []\n",
    "    num_bbox = []\n",
    "\n",
    "    for i in range(len(file['images'])):\n",
    "        bboxes = [file['annotations'][j]['bbox'] \n",
    "                  for j in range(len(file['annotations'])) \n",
    "                  if file['annotations'][j]['image_id']==file['images'][i]['id'] \n",
    "                  and 'bbox' in file['annotations'][j].keys()]\n",
    "\n",
    "        if len(bboxes)!=0:\n",
    "            img_wbbox.append(i)\n",
    "\n",
    "            num_bbox.append(len(bboxes))\n",
    "\n",
    "    return img_wbbox, num_bbox"
   ]
  },
  {
   "cell_type": "code",
   "execution_count": 10,
   "metadata": {
    "id": "SdJaZm5aOJ6y"
   },
   "outputs": [],
   "source": [
    "# Class used to create a custom dataset\n",
    "class CustomImageDataset(Dataset):\n",
    "    def __init__(self, label_path, img_dir, valid_img, transform = None, rotation = False):\n",
    "        self.label_file = json.load(open(label_path))\n",
    "        self.img_dir = img_dir\n",
    "        self.transform = transform\n",
    "        self.valid_img = valid_img\n",
    "        self.rotation = rotation  \n",
    "        self.rotate = T.RandomHorizontalFlip(0.5)\n",
    "    \n",
    "    def __len__(self):\n",
    "        return len(self.valid_img)\n",
    "\n",
    "    def __getitem__(self, idx):\n",
    "        \n",
    "        idx = self.valid_img[idx] # consider only images with bbox annotations\n",
    "        img_path = os.path.join(self.img_dir, self.label_file['images'][idx]['file_name'])\n",
    "        image = read_image(img_path)\n",
    "\n",
    "        conv = torchvision.transforms.ToTensor()\n",
    "        # if image.shape[0]==1:\n",
    "        # some images have only one channel, we convert them to rgb\n",
    "        image = Image.open(img_path).convert(\"RGB\")\n",
    "        image = conv(image)\n",
    "\n",
    "        boxes = [self.label_file['annotations'][j]['bbox'] \n",
    "                 for j in range(len(self.label_file['annotations'])) \n",
    "                 if self.label_file['annotations'][j]['image_id']==self.label_file['images'][idx]['id']]\n",
    "        \n",
    "        label = [self.label_file['annotations'][j]['category_id'] \n",
    "                 for j in range(len(self.label_file['annotations'])) \n",
    "                 if self.label_file['annotations'][j]['image_id']==self.label_file['images'][idx]['id']]\n",
    "\n",
    "        # transform bbox coords to adjust for resizing\n",
    "        scale_x = image.shape[2] / self.label_file['images'][idx]['width'] \n",
    "        scale_y = image.shape[1] / self.label_file['images'][idx]['height']\n",
    "\n",
    "        boxes = torch.as_tensor(boxes)\n",
    "        for i in range(boxes.shape[0]):\n",
    "            boxes[i][0] = torch.round(boxes[i][0] * scale_x)\n",
    "            boxes[i][1] = torch.round(boxes[i][1] * scale_y)\n",
    "            boxes[i][2] = torch.round(boxes[i][2] * scale_x)\n",
    "            boxes[i][3] = torch.round(boxes[i][3] * scale_y)\n",
    "\n",
    "            boxes[i][2] = boxes[i][0] + boxes[i][2] # to transform to pytorch bbox format\n",
    "            boxes[i][3] = boxes[i][1] + boxes[i][3]\n",
    "\n",
    "        label = torch.as_tensor(label)\n",
    "        label = torch.where(label==30,0,1)  # 0 if empty (categ id = 30), 1 if animal\n",
    "        image_id = torch.tensor([idx])\n",
    "        area = (boxes[:, 3] - boxes[:, 1]) * (boxes[:, 2] - boxes[:, 0])\n",
    "        iscrowd = torch.zeros((boxes.shape[0],), dtype=torch.int64)\n",
    "\n",
    "        target = {}\n",
    "        target[\"boxes\"] = boxes\n",
    "        target[\"labels\"] = label\n",
    "        target[\"image_id\"] = image_id\n",
    "        target['area']=area\n",
    "        target['iscrowd']=iscrowd\n",
    "        \n",
    "        \n",
    "        if self.rotation:\n",
    "            image, target= self.rotate(image, target)\n",
    "        if self.transform:\n",
    "            image = self.transform(image)\n",
    "        return image, target"
   ]
  },
  {
   "cell_type": "markdown",
   "metadata": {},
   "source": [
    " "
   ]
  },
  {
   "cell_type": "markdown",
   "metadata": {},
   "source": [
    "## Create the model"
   ]
  },
  {
   "cell_type": "markdown",
   "metadata": {
    "id": "iuPqrCPG8wsr"
   },
   "source": [
    "### Pre-trained models\n",
    "Inspred from https://colab.research.google.com/github/pytorch/tutorials/blob/gh-pages/_downloads/torchvision_finetuning_instance_segmentation.ipynb#scrollTo=YjNHjVMOyYlH"
   ]
  },
  {
   "cell_type": "markdown",
   "metadata": {},
   "source": [
    "### Model with only the last layer to train (CNN layers)"
   ]
  },
  {
   "cell_type": "code",
   "execution_count": 11,
   "metadata": {
    "id": "vuz8DJUgccUx"
   },
   "outputs": [],
   "source": [
    "# Get a pretrained model and set to train the last layer (CNN : model 1)\n",
    "def get_model_from_pretrained_cnn(num_classes):\n",
    "\n",
    "    # load an instance segmentation model pre-trained on COCO\n",
    "    model = torchvision.models.detection.fasterrcnn_resnet50_fpn(pretrained=True)\n",
    "\n",
    "    for param in model.parameters(): # to freeze all existing weights\n",
    "        param.requires_grad = False\n",
    "\n",
    "    # get the number of input features for the classifier\n",
    "    in_features = model.roi_heads.box_predictor.cls_score.in_features\n",
    "    # replace the pre-trained head with a new one\n",
    "    model.roi_heads.box_predictor = FastRCNNPredictor(in_features, num_classes)\n",
    "\n",
    "    return model\n",
    "\n",
    "\n",
    "# Get a pretrained model and set to train the last 2 layers (ROI + CNN : model 2)\n",
    "def get_model_from_pretrained_roi(num_classes):\n",
    "\n",
    "    # load an instance segmentation model pre-trained on COCO\n",
    "    model = torchvision.models.detection.fasterrcnn_resnet50_fpn(pretrained=True)\n",
    "\n",
    "    for param in model.parameters(): # to freeze all existing weights\n",
    "        param.requires_grad = False\n",
    "\n",
    "    for param in model.roi_heads.parameters():\n",
    "        param.requires_grad = True\n",
    "\n",
    "    # get the number of input features for the classifier\n",
    "    in_features = model.roi_heads.box_predictor.cls_score.in_features\n",
    "    # replace the pre-trained head with a new one\n",
    "    model.roi_heads.box_predictor = FastRCNNPredictor(in_features, num_classes)\n",
    "\n",
    "    return model\n",
    "\n",
    "\n",
    "# Get a pretrained model and set to train the last 3 layers (RPN + ROI + CNN : model 3)\n",
    "def get_model_from_pretrained_rpn(num_classes):\n",
    "\n",
    "    # load an instance segmentation model pre-trained on COCO\n",
    "    model = torchvision.models.detection.fasterrcnn_resnet50_fpn(pretrained=True)\n",
    "\n",
    "    for param in model.parameters(): # to freeze all existing weights\n",
    "\n",
    "        param.requires_grad = False\n",
    "\n",
    "    for param in model.roi_heads.parameters():\n",
    "\n",
    "        param.requires_grad = True\n",
    "\n",
    "    for param in model.rpn.parameters():\n",
    "\n",
    "        param.requires_grad = True\n",
    "\n",
    "    # get the number of input features for the classifier\n",
    "    in_features = model.roi_heads.box_predictor.cls_score.in_features\n",
    "    # replace the pre-trained head with a new one\n",
    "    model.roi_heads.box_predictor = FastRCNNPredictor(in_features, num_classes)\n",
    "\n",
    "    return model\n",
    "\n",
    "\n",
    "# Create a model based on a type preference between the 3 proposed\n",
    "def create_model(model_type, normalize=False, num_classes=2, milestones=[5, 10]):\n",
    "\n",
    "    # our dataset has two classes only - background and person\n",
    "    num_classes = num_classes\n",
    "\n",
    "    # get the model from the type we want using our helper function\n",
    "    if model_type==1 or model_type=='cnn':\n",
    "        model = get_model_from_pretrained_cnn(num_classes)\n",
    "    elif model_type==2 or model_type=='roi':\n",
    "        model = get_model_from_pretrained_roi(num_classes)\n",
    "    elif model_type==3 or model_type=='rpn':\n",
    "        model = get_model_from_pretrained_rpn(num_classes)\n",
    "    else:\n",
    "        return 'Please select a valid model. 1:CNN - 2:ROI - 3:RPN'\n",
    "\n",
    "    # move model to the right device\n",
    "    model.to(device)\n",
    "    \n",
    "    ## Mean and Std by chanel by pixel from the training set.  \n",
    "    if normalize:\n",
    "        model.transform.image_mean = [0.3321, 0.3406, 0.3210] # mean = [0.3321, 0.3406, 0.3210]\n",
    "        model.transform.image_std = [0.2359, 0.2369, 0.2313] # std = [0.2359, 0.2369, 0.2313]\n",
    "\n",
    "    # construct an SGD optimizer\n",
    "    params = [p for p in model.parameters() if p.requires_grad]\n",
    "    optimizer = torch.optim.SGD(params, lr=0.0003, momentum=0.9)\n",
    "\n",
    "    # like in the paper, construct the scheduler\n",
    "    lr_scheduler = torch.optim.lr_scheduler.MultiStepLR(optimizer, milestones = milestones, gamma=0.1)\n",
    "    \n",
    "    return model, optimizer, lr_scheduler\n",
    "\n",
    "\n",
    "# Save the model, the optimizer and the scheduler into 3 separate files (~165MB)\n",
    "def save_model(file_name = time.strftime(\"%Y%m%d_%H%M%S\")):\n",
    "    filename = file_name\n",
    "\n",
    "    torch.save(model.state_dict(), 'saved_models/' + filename + '_model.pt')\n",
    "    torch.save(optimizer.state_dict(), 'saved_models/' + filename + '_optimizer.pt')\n",
    "    torch.save(lr_scheduler.state_dict(), 'saved_models/' + filename + '_scheduler.pt')\n",
    "    print(\"Succesfully saved!\")\n",
    "    return None\n",
    "\n",
    "\n",
    "# Load a model, an optimizer and a schduler into 3 different variables\n",
    "def load_model(model_type, model_type_file_name, num_classes=2, milestones=[5, 10]):\n",
    "    model, optimizer, lr_scheduler = create_model(model_type, num_classes, milestones)\n",
    "    \n",
    "    # load the model, the optimizer and the scheduler\n",
    "    model.load_state_dict(torch.load('saved_models/' + model_type_file_name + '_model.pt'))\n",
    "    optimizer.load_state_dict(torch.load('saved_models/' + model_type_file_name + '_optimizer.pt'))\n",
    "    lr_scheduler.load_state_dict(torch.load('saved_models/' + model_type_file_name + '_scheduler.pt'))\n",
    "    \n",
    "    return model, optimizer, lr_scheduler"
   ]
  },
  {
   "cell_type": "markdown",
   "metadata": {},
   "source": [
    "## Create the dataloaders\n",
    "To load the data of the dataset efficiently for the model"
   ]
  },
  {
   "cell_type": "code",
   "execution_count": 12,
   "metadata": {},
   "outputs": [],
   "source": [
    "# Create the full/light dataloader with the full/light dataset\n",
    "def create_dataloader(ann_path, batch_size, transform = None, rotate=True, light=False, shuffle=True):\n",
    "    images_with_bbox,_ = get_img_with_bbox(ann_path)\n",
    "    if light:\n",
    "        index = np.random.choice(range(len(images_with_bbox)), 100)\n",
    "        images_with_bbox = [images_with_bbox[i] for i in index]\n",
    "    data = CustomImageDataset(ann_path, img_folder, images_with_bbox, transform, rotate)\n",
    "    return DataLoader(data, batch_size=batch_size, shuffle=shuffle, collate_fn=utils.collate_fn)"
   ]
  },
  {
   "cell_type": "markdown",
   "metadata": {},
   "source": [
    "## Define the 'evaluate' fonction"
   ]
  },
  {
   "cell_type": "code",
   "execution_count": 13,
   "metadata": {},
   "outputs": [],
   "source": [
    "# Evaluates the current model using the coco_evaluator passing through a test dataloader\n",
    "def evaluate(dataloader, coco, nms=True, iou=0.35):\n",
    "    apply_nms = nms\n",
    "    iou_threshold = iou # param to potentially tune (threshold for nms)\n",
    "    the_data_loader = dataloader # change to test set\n",
    "    \n",
    "    iou_types = _get_iou_types(model)\n",
    "    coco_evaluator = CocoEvaluator(coco, iou_types)\n",
    "\n",
    "    model.eval()\n",
    "\n",
    "    for images, targets in the_data_loader:\n",
    "        images = [image.to(device) for image in images]\n",
    "        targets = [{k: v.to(device) for k, v in t.items()} for t in targets]\n",
    "\n",
    "        with torch.no_grad():\n",
    "\n",
    "            pred=model(images)\n",
    "\n",
    "            if apply_nms:\n",
    "                boxes_to_keep = torchvision.ops.nms(pred[0]['boxes'], pred[0]['scores'], iou_threshold=iou_threshold).cpu()\n",
    "                pred[0]['boxes'] = pred[0]['boxes'][boxes_to_keep]\n",
    "                pred[0]['labels'] = pred[0]['labels'][boxes_to_keep]\n",
    "                pred[0]['scores'] = pred[0]['scores'][boxes_to_keep]\n",
    "\n",
    "            outputs = [{k: v.cpu() for k, v in t.items()} for t in pred]\n",
    "            res = {target[\"image_id\"].item(): output for target, output in zip(targets, outputs)}\n",
    "            coco_evaluator.update(res)\n",
    "    \n",
    "    coco_evaluator.synchronize_between_processes()\n",
    "    coco_evaluator.accumulate()\n",
    "    coco_evaluator.summarize()\n",
    "    \n",
    "    return coco_evaluator"
   ]
  },
  {
   "cell_type": "markdown",
   "metadata": {},
   "source": [
    "## Logs utils"
   ]
  },
  {
   "cell_type": "markdown",
   "metadata": {},
   "source": [
    "#### Train logs utils"
   ]
  },
  {
   "cell_type": "code",
   "execution_count": 14,
   "metadata": {},
   "outputs": [],
   "source": [
    "# Converts the smoothed values to a dictionnary of each values\n",
    "def smoothed_value_to_str(smoothed_value):\n",
    "    d_values = {}\n",
    "    d_values['median'] = smoothed_value.median\n",
    "    d_values['avg'] = smoothed_value.avg\n",
    "    d_values['global_avg'] = smoothed_value.global_avg\n",
    "    d_values['max'] = smoothed_value.max\n",
    "    d_values['value'] = smoothed_value.value\n",
    "    return d_values\n",
    "\n",
    "\n",
    "# Converts the train logs from MetricLogger to list\n",
    "def train_logs_to_lst(logs):\n",
    "    lst = []\n",
    "    for i in range(len(logs)):\n",
    "        d = {}\n",
    "        for key in logs[i].meters.keys():\n",
    "            d[key] = smoothed_value_to_str(logs[i].meters[key])\n",
    "        lst.append(d)\n",
    "    return lst\n",
    "\n",
    "\n",
    "# Puts the training logs into a json file with time dependent file name\n",
    "def train_logs_to_json(logs, ftime=time.strftime(\"%Y%m%d_%H%M%S\")):\n",
    "    train_metric_logs = train_logs_to_lst(logs)\n",
    "    filename = ftime + \"_train_logs.json\"\n",
    "    \n",
    "    with open('saved_logs/' + filename, 'w', encoding='utf-8') as f:\n",
    "        json.dump(train_metric_logs, f, ensure_ascii=False, indent=4)\n",
    "    return None\n",
    "\n",
    "\n",
    "# Converts the train logs from MetricLogger to list\n",
    "def train_logs_to_lst(logs):\n",
    "    lst = []\n",
    "    for i in range(len(logs)):\n",
    "        d = {}\n",
    "        for key in logs[i].meters.keys():\n",
    "            d[key] = smoothed_value_to_str(logs[i].meters[key])\n",
    "        lst.append(d)\n",
    "    return lst\n",
    "\n",
    "\n",
    "# Puts the training logs into a json file with time dependent file name\n",
    "def train_logs_to_json(logs, ftime=time.strftime(\"%Y%m%d_%H%M%S\")):\n",
    "    train_metric_logs = train_logs_to_lst(logs)\n",
    "    filename = ftime + \"_train_logs.json\"\n",
    "    \n",
    "    with open('saved_logs/' + filename, 'w', encoding='utf-8') as f:\n",
    "        json.dump(train_metric_logs, f, ensure_ascii=False, indent=4)\n",
    "    return None"
   ]
  },
  {
   "cell_type": "markdown",
   "metadata": {},
   "source": [
    "#### Valid logs utils"
   ]
  },
  {
   "cell_type": "code",
   "execution_count": 15,
   "metadata": {},
   "outputs": [],
   "source": [
    "# Merge the dicts of a list \n",
    "def merge_dict(logs):\n",
    "    logs_better = []\n",
    "    try:\n",
    "        for i in range(len(logs)):\n",
    "            logs_better.append({**logs[i][0], **logs[i][1], **logs[i][2], **logs[i][3]})\n",
    "        return logs_better\n",
    "    except:\n",
    "        print(logs[0])\n",
    "        logs_better = logs\n",
    "        return logs_better\n",
    "    return None\n",
    "\n",
    "\n",
    "# Converts the valid logs from list of dictionnaries to string\n",
    "# TODO: add if type == list to not do anything if its already a list\n",
    "def valid_logs_to_lst(valid_logs):\n",
    "    logs = merge_dict(valid_logs)\n",
    "    lst = []\n",
    "    for i in range(len(logs)):\n",
    "        d = {}\n",
    "        for key in logs[i].keys():\n",
    "            d[key] = logs[i][key].cpu().numpy().tolist()\n",
    "        lst.append(d)\n",
    "    return lst\n",
    "\n",
    "\n",
    "# Puts the cis validation logs into a json file with time dependent file name\n",
    "def cis_valid_logs_to_json(logs, ftime=time.strftime(\"%Y%m%d_%H%M%S\")):\n",
    "    valid_metric_logs = valid_logs_to_lst(logs)\n",
    "    filename = ftime + \"_cis_valid_logs.json\"\n",
    "    \n",
    "    with open('saved_logs/' + filename, 'w', encoding='utf-8') as f:\n",
    "        json.dump(valid_metric_logs, f, ensure_ascii=False, indent=4)\n",
    "    return None\n",
    "\n",
    "\n",
    "# Puts the trans validation logs into a json file with time dependent file name\n",
    "def trans_valid_logs_to_json(logs, ftime=time.strftime(\"%Y%m%d_%H%M%S\")):\n",
    "    valid_metric_logs = valid_logs_to_lst(logs)\n",
    "    filename = ftime + \"_trans_valid_logs.json\"\n",
    "    \n",
    "    with open('saved_logs/' + filename, 'w', encoding='utf-8') as f:\n",
    "        json.dump(valid_metric_logs, f, ensure_ascii=False, indent=4)\n",
    "    return None"
   ]
  },
  {
   "cell_type": "markdown",
   "metadata": {},
   "source": [
    "## Training the model"
   ]
  },
  {
   "cell_type": "code",
   "execution_count": 16,
   "metadata": {},
   "outputs": [],
   "source": [
    "def train(dataloader, num_epochs, save_logs=True, save_model=True, print_freq=100):\n",
    "    \n",
    "    model.train()\n",
    "    \n",
    "    all_train_logs = []\n",
    "    all_cis_valid_logs = []\n",
    "    all_trans_valid_logs = []\n",
    "\n",
    "    for epoch in range(num_epochs):\n",
    "        \n",
    "        # train for one epoch, printing every 100 images\n",
    "        train_logs = train_one_epoch(model, optimizer, dataloader, device, epoch, print_freq)\n",
    "        all_train_logs.append(train_logs)\n",
    "        \n",
    "        # update the learning rate\n",
    "        lr_scheduler.step()\n",
    "        \n",
    "        # evaluate on the validation dataset after training one epoch\n",
    "        for images, targets in trans_valid_dataloader: # can do batch of 10 prob.\n",
    "            images = [image.to(device) for image in images]\n",
    "            targets = [{k: v.to(device) for k, v in t.items()} for t in targets]\n",
    "\n",
    "            with torch.no_grad():\n",
    "                trans_loss_dict = model(images, targets)\n",
    "                trans_loss_dict = [{k: loss.to('cpu')} for k, loss in trans_loss_dict.items()]\n",
    "                all_trans_valid_logs.append(trans_loss_dict)\n",
    "\n",
    "\n",
    "        for images, targets in cis_valid_dataloader: # can do batch of 10 prob.\n",
    "            images = [image.to(device) for image in images]\n",
    "            targets = [{k: v.to(device) for k, v in t.items()} for t in targets]\n",
    "\n",
    "            with torch.no_grad():\n",
    "                cis_loss_dict = model(images, targets)\n",
    "                cis_loss_dict = [{k: loss.to('cpu')} for k, loss in cis_loss_dict.items()]\n",
    "                all_cis_valid_logs.append(cis_loss_dict)\n",
    "    \n",
    "    filetime = time.strftime(\"%Y%m%d_%H%M%S\")\n",
    "    \n",
    "    if save_logs:\n",
    "        \n",
    "        # save the train, cis valid and trans valid logs\n",
    "        train_logs_to_json(all_train_logs, filetime)\n",
    "        cis_valid_logs_to_json(all_cis_valid_logs, filetime)\n",
    "        trans_valid_logs_to_json(all_trans_valid_logs, filetime)\n",
    "        \n",
    "    if save_model:\n",
    "        \n",
    "        # save the model, the optimizer and the scheduler\n",
    "        torch.save(model.state_dict(), 'saved_models/' + filetime + '_model.pt')\n",
    "        torch.save(optimizer.state_dict(), 'saved_models/' + filetime + '_optimizer.pt')\n",
    "        torch.save(lr_scheduler.state_dict(), 'saved_models/' + filetime + '_scheduler.pt')\n",
    "    \n",
    "    \n",
    "    \n",
    "    return all_train_logs, all_trans_valid_logs, all_cis_valid_logs\n"
   ]
  },
  {
   "cell_type": "markdown",
   "metadata": {},
   "source": [
    "# Interactive Part\n",
    "#### Before training"
   ]
  },
  {
   "cell_type": "code",
   "execution_count": 17,
   "metadata": {},
   "outputs": [],
   "source": [
    "# Set the lightweight configuration mode to use subset of data, simpler architecture and few epochs\n",
    "# to quickly test the code for evaluation (False:0, True:1)\n",
    "lightweight_mode = 0\n",
    "\n",
    "# Set the data aumentation mode ('none', 'offline', 'online')\n",
    "data_augmentation_mode = 'none'"
   ]
  },
  {
   "cell_type": "markdown",
   "metadata": {},
   "source": [
    "#### You can specify the data augmentation transformation at will"
   ]
  },
  {
   "cell_type": "code",
   "execution_count": null,
   "metadata": {},
   "outputs": [],
   "source": [
    "def offline_augment_dataloader(light):\n",
    "    if light:\n",
    "        train_valid_img,_ = get_img_with_bbox(train_ann_path)\n",
    "        train_data = CustomImageDataset(label_path=train_ann_path, img_dir=img_folder, valid_img=train_valid_img)\n",
    "        train_data_colored = CustomImageDataset(label_path=train_ann_path, img_dir=img_folder, \n",
    "                                                # Transformations applied: transform=colorTranformations, rotate = True\n",
    "                                                valid_img=train_valid_img,transform=colorTranformations)\n",
    "        train_data_rotated = CustomImageDataset(label_path=train_ann_path, img_dir=img_folder, \n",
    "                                                valid_img=train_valid_img, rotation = True) \n",
    "\n",
    "        trainFinal = ConcatDataset([train_data, train_data_rotated, train_data_colored])\n",
    "        return DataLoader(trainFinal, batch_size=1, shuffle=True, collate_fn=utils.collate_fn)\n",
    "    else:\n",
    "        train_valid_img,_ = get_img_with_bbox(train_ann_path)\n",
    "        train_data = CustomImageDataset(label_path=train_ann_path, img_dir=img_folder, valid_img=train_valid_img)\n",
    "        train_data_colored = CustomImageDataset(label_path=train_ann_path, img_dir=img_folder, \n",
    "                                                # Transformations applied: transform=colorTranformations, rotate = True\n",
    "                                                valid_img=train_valid_img,transform=colorTranformations)\n",
    "        train_data_rotated = CustomImageDataset(label_path=train_ann_path, img_dir=img_folder, \n",
    "                                                valid_img=train_valid_img, rotation = True) \n",
    "\n",
    "        trainFinal = ConcatDataset([train_data,train_data_rotated, train_data_colored])\n",
    "        return DataLoader(trainFinal, batch_size=1, shuffle=True, collate_fn=utils.collate_fn)"
   ]
  },
  {
   "cell_type": "code",
   "execution_count": 18,
   "metadata": {
    "scrolled": true
   },
   "outputs": [],
   "source": [
    "# Initiate the dataloaders with batch size from the paper for better comparison\n",
    "\n",
    "if lightweight_mode:\n",
    "    valid = True\n",
    "    if data_augmentation_mode == 'none':\n",
    "        train_dataloader = create_dataloader(train_ann_path, 1, light=True)\n",
    "    if data_augmentation_mode == 'online':\n",
    "        train_dataloader = create_dataloader(train_ann_path, 1, light=True, transform=colorTranformations)\n",
    "    if data_augmentation_mode == 'offline':\n",
    "        train_dataloader = create_dataloader(train_ann_path, 1, light=True, transform=colorTranformations)\n",
    "    else:\n",
    "        valid = False\n",
    "        print('Please enter a valid data_augmentation mode')\n",
    "    \n",
    "    if valid:\n",
    "        cis_valid_dataloader = create_dataloader(cis_val_ann_path, 10, light=True)\n",
    "        trans_valid_dataloader = create_dataloader(trans_val_ann_path, 10, light=True)\n",
    "        cis_test_dataloader = create_dataloader(cis_test_ann_path, 10, light=True)\n",
    "        trans_test_dataloader = create_dataloader(trans_test_ann_path, 10, light=True)\n",
    "elif not lightweight_mode:\n",
    "    valid = True\n",
    "    if data_augmentation_mode == 'none':\n",
    "        train_dataloader = create_dataloader(train_ann_path, 1)\n",
    "    if data_augmentation_mode == 'online'\n",
    "        train_dataloader = create_dataloader(train_ann_path, 1, transform=colorTranformations)\n",
    "    if data_augmentation_mode == 'offline'\n",
    "        train_dataloader = create_dataloader(train_ann_path, 1, transform=colorTranformations)\n",
    "    else:\n",
    "        valid = False\n",
    "        print('Please enter a valid data_augmentation mode')\n",
    "    if valid:\n",
    "        cis_valid_dataloader = create_dataloader(cis_val_ann_path, 10)\n",
    "        trans_valid_dataloader = create_dataloader(trans_val_ann_path, 10)\n",
    "        cis_test_dataloader = create_dataloader(cis_test_ann_path, 10)\n",
    "        trans_test_dataloader = create_dataloader(trans_test_ann_path, 10)\n",
    "else:\n",
    "    print(\"Please enter a valid lightweight option.\"))"
   ]
  },
  {
   "cell_type": "code",
   "execution_count": null,
   "metadata": {},
   "outputs": [],
   "source": [
    "# Loads the test dataset for coco evaluation later on\n",
    "cis_coco = get_coco_api_from_dataset(cis_test_dataloader.dataset)\n",
    "trans_coco = get_coco_api_from_dataset(trans_test_dataloader.dataset)"
   ]
  },
  {
   "cell_type": "markdown",
   "metadata": {},
   "source": [
    "#### Specify the model to create and the parameters"
   ]
  },
  {
   "cell_type": "code",
   "execution_count": 19,
   "metadata": {},
   "outputs": [],
   "source": [
    "model, optimizer, lr_scheduler = create_model(3, normalize=True)"
   ]
  },
  {
   "cell_type": "code",
   "execution_count": 20,
   "metadata": {},
   "outputs": [
    {
     "data": {
      "text/plain": [
       "'NVIDIA GeForce GTX 1080 Ti'"
      ]
     },
     "execution_count": 20,
     "metadata": {},
     "output_type": "execute_result"
    }
   ],
   "source": [
    "# Parameters before training\n",
    "num_epochs = 10\n",
    "\n",
    "# Check if using the right device before training\n",
    "torch.cuda.get_device_name(0)"
   ]
  },
  {
   "cell_type": "markdown",
   "metadata": {},
   "source": [
    "### This next cell starts the training of the model"
   ]
  },
  {
   "cell_type": "code",
   "execution_count": null,
   "metadata": {},
   "outputs": [],
   "source": [
    "model, optimizer, lr_scheduler = load_model(3, \"20220430_071543\")"
   ]
  },
  {
   "cell_type": "code",
   "execution_count": null,
   "metadata": {
    "scrolled": true
   },
   "outputs": [
    {
     "name": "stderr",
     "output_type": "stream",
     "text": [
      "C:\\Users\\kevin\\miniconda3\\envs\\animals\\lib\\site-packages\\torch\\functional.py:445: UserWarning: torch.meshgrid: in an upcoming release, it will be required to pass the indexing argument. (Triggered internally at  ..\\aten\\src\\ATen\\native\\TensorShape.cpp:2157.)\n",
      "  return _VF.meshgrid(tensors, **kwargs)  # type: ignore[attr-defined]\n"
     ]
    },
    {
     "name": "stdout",
     "output_type": "stream",
     "text": [
      "Epoch: [0]  [    0/12099]  eta: 8:03:15  lr: 0.000001  loss: 1.3731 (1.3731)  loss_classifier: 1.1648 (1.1648)  loss_box_reg: 0.0892 (0.0892)  loss_objectness: 0.1130 (0.1130)  loss_rpn_box_reg: 0.0060 (0.0060)  time: 2.3965  data: 0.0795  max mem: 594\n",
      "Epoch: [0]  [  100/12099]  eta: 0:39:23  lr: 0.000031  loss: 0.3243 (0.6969)  loss_classifier: 0.1266 (0.4951)  loss_box_reg: 0.0966 (0.0884)  loss_objectness: 0.0587 (0.1027)  loss_rpn_box_reg: 0.0035 (0.0107)  time: 0.1744  data: 0.0636  max mem: 652\n",
      "Epoch: [0]  [  200/12099]  eta: 0:36:52  lr: 0.000061  loss: 0.2225 (0.4770)  loss_classifier: 0.0729 (0.2950)  loss_box_reg: 0.0499 (0.0828)  loss_objectness: 0.0491 (0.0898)  loss_rpn_box_reg: 0.0077 (0.0094)  time: 0.1764  data: 0.0647  max mem: 652\n",
      "Epoch: [0]  [  300/12099]  eta: 0:35:49  lr: 0.000091  loss: 0.2261 (0.4068)  loss_classifier: 0.0690 (0.2264)  loss_box_reg: 0.0525 (0.0811)  loss_objectness: 0.0507 (0.0889)  loss_rpn_box_reg: 0.0049 (0.0103)  time: 0.1733  data: 0.0626  max mem: 652\n",
      "Epoch: [0]  [  400/12099]  eta: 0:35:09  lr: 0.000120  loss: 0.2337 (0.3685)  loss_classifier: 0.0818 (0.1909)  loss_box_reg: 0.0845 (0.0820)  loss_objectness: 0.0491 (0.0857)  loss_rpn_box_reg: 0.0038 (0.0099)  time: 0.1742  data: 0.0639  max mem: 652\n",
      "Epoch: [0]  [  500/12099]  eta: 0:34:40  lr: 0.000150  loss: 0.2091 (0.3401)  loss_classifier: 0.0793 (0.1688)  loss_box_reg: 0.0710 (0.0809)  loss_objectness: 0.0324 (0.0808)  loss_rpn_box_reg: 0.0035 (0.0095)  time: 0.1753  data: 0.0641  max mem: 652\n",
      "Epoch: [0]  [  600/12099]  eta: 0:34:13  lr: 0.000180  loss: 0.1852 (0.3208)  loss_classifier: 0.0649 (0.1536)  loss_box_reg: 0.0603 (0.0806)  loss_objectness: 0.0178 (0.0769)  loss_rpn_box_reg: 0.0047 (0.0096)  time: 0.1753  data: 0.0649  max mem: 652\n",
      "Epoch: [0]  [  700/12099]  eta: 0:33:48  lr: 0.000210  loss: 0.1866 (0.3063)  loss_classifier: 0.0738 (0.1424)  loss_box_reg: 0.0698 (0.0793)  loss_objectness: 0.0295 (0.0749)  loss_rpn_box_reg: 0.0028 (0.0098)  time: 0.1731  data: 0.0625  max mem: 652\n",
      "Epoch: [0]  [  800/12099]  eta: 0:33:25  lr: 0.000240  loss: 0.1762 (0.2915)  loss_classifier: 0.0550 (0.1329)  loss_box_reg: 0.0534 (0.0773)  loss_objectness: 0.0247 (0.0716)  loss_rpn_box_reg: 0.0043 (0.0096)  time: 0.1750  data: 0.0640  max mem: 652\n",
      "Epoch: [0]  [  900/12099]  eta: 0:33:03  lr: 0.000270  loss: 0.1567 (0.2790)  loss_classifier: 0.0531 (0.1254)  loss_box_reg: 0.0474 (0.0758)  loss_objectness: 0.0334 (0.0681)  loss_rpn_box_reg: 0.0042 (0.0097)  time: 0.1746  data: 0.0655  max mem: 652\n",
      "Epoch: [0]  [ 1000/12099]  eta: 0:32:43  lr: 0.000300  loss: 0.1538 (0.2691)  loss_classifier: 0.0614 (0.1195)  loss_box_reg: 0.0465 (0.0752)  loss_objectness: 0.0240 (0.0649)  loss_rpn_box_reg: 0.0049 (0.0094)  time: 0.1726  data: 0.0636  max mem: 652\n",
      "Epoch: [0]  [ 1100/12099]  eta: 0:32:21  lr: 0.000300  loss: 0.1559 (0.2595)  loss_classifier: 0.0557 (0.1143)  loss_box_reg: 0.0627 (0.0742)  loss_objectness: 0.0307 (0.0617)  loss_rpn_box_reg: 0.0031 (0.0092)  time: 0.1744  data: 0.0651  max mem: 652\n",
      "Epoch: [0]  [ 1200/12099]  eta: 0:32:01  lr: 0.000300  loss: 0.1875 (0.2523)  loss_classifier: 0.0680 (0.1103)  loss_box_reg: 0.0639 (0.0736)  loss_objectness: 0.0266 (0.0592)  loss_rpn_box_reg: 0.0038 (0.0092)  time: 0.1716  data: 0.0631  max mem: 652\n",
      "Epoch: [0]  [ 1300/12099]  eta: 0:31:41  lr: 0.000300  loss: 0.1618 (0.2451)  loss_classifier: 0.0484 (0.1066)  loss_box_reg: 0.0513 (0.0725)  loss_objectness: 0.0237 (0.0569)  loss_rpn_box_reg: 0.0047 (0.0090)  time: 0.1725  data: 0.0640  max mem: 652\n",
      "Epoch: [0]  [ 1400/12099]  eta: 0:31:20  lr: 0.000300  loss: 0.1687 (0.2394)  loss_classifier: 0.0604 (0.1033)  loss_box_reg: 0.0514 (0.0716)  loss_objectness: 0.0288 (0.0555)  loss_rpn_box_reg: 0.0031 (0.0089)  time: 0.1715  data: 0.0627  max mem: 652\n",
      "Epoch: [0]  [ 1500/12099]  eta: 0:31:01  lr: 0.000300  loss: 0.1527 (0.2342)  loss_classifier: 0.0578 (0.1006)  loss_box_reg: 0.0619 (0.0709)  loss_objectness: 0.0233 (0.0538)  loss_rpn_box_reg: 0.0026 (0.0088)  time: 0.1728  data: 0.0645  max mem: 652\n",
      "Epoch: [0]  [ 1600/12099]  eta: 0:30:42  lr: 0.000300  loss: 0.1490 (0.2291)  loss_classifier: 0.0471 (0.0980)  loss_box_reg: 0.0563 (0.0699)  loss_objectness: 0.0218 (0.0524)  loss_rpn_box_reg: 0.0026 (0.0088)  time: 0.1732  data: 0.0640  max mem: 652\n",
      "Epoch: [0]  [ 1700/12099]  eta: 0:30:22  lr: 0.000300  loss: 0.1720 (0.2254)  loss_classifier: 0.0618 (0.0962)  loss_box_reg: 0.0570 (0.0692)  loss_objectness: 0.0325 (0.0512)  loss_rpn_box_reg: 0.0030 (0.0087)  time: 0.1719  data: 0.0634  max mem: 652\n",
      "Epoch: [0]  [ 1800/12099]  eta: 0:30:03  lr: 0.000300  loss: 0.1617 (0.2222)  loss_classifier: 0.0575 (0.0945)  loss_box_reg: 0.0606 (0.0690)  loss_objectness: 0.0143 (0.0500)  loss_rpn_box_reg: 0.0041 (0.0086)  time: 0.1732  data: 0.0639  max mem: 652\n",
      "Epoch: [0]  [ 1900/12099]  eta: 0:29:44  lr: 0.000300  loss: 0.1455 (0.2190)  loss_classifier: 0.0579 (0.0930)  loss_box_reg: 0.0611 (0.0687)  loss_objectness: 0.0143 (0.0489)  loss_rpn_box_reg: 0.0036 (0.0085)  time: 0.1750  data: 0.0661  max mem: 652\n",
      "Epoch: [0]  [ 2000/12099]  eta: 0:29:26  lr: 0.000300  loss: 0.1318 (0.2164)  loss_classifier: 0.0574 (0.0915)  loss_box_reg: 0.0446 (0.0682)  loss_objectness: 0.0199 (0.0480)  loss_rpn_box_reg: 0.0048 (0.0086)  time: 0.1743  data: 0.0655  max mem: 652\n",
      "Epoch: [0]  [ 2100/12099]  eta: 0:29:07  lr: 0.000300  loss: 0.1599 (0.2135)  loss_classifier: 0.0637 (0.0901)  loss_box_reg: 0.0815 (0.0678)  loss_objectness: 0.0161 (0.0469)  loss_rpn_box_reg: 0.0047 (0.0086)  time: 0.1724  data: 0.0631  max mem: 652\n",
      "Epoch: [0]  [ 2200/12099]  eta: 0:28:49  lr: 0.000300  loss: 0.1544 (0.2109)  loss_classifier: 0.0623 (0.0889)  loss_box_reg: 0.0542 (0.0675)  loss_objectness: 0.0230 (0.0460)  loss_rpn_box_reg: 0.0068 (0.0086)  time: 0.1737  data: 0.0648  max mem: 652\n",
      "Epoch: [0]  [ 2300/12099]  eta: 0:28:30  lr: 0.000300  loss: 0.1699 (0.2087)  loss_classifier: 0.0547 (0.0877)  loss_box_reg: 0.0498 (0.0673)  loss_objectness: 0.0183 (0.0452)  loss_rpn_box_reg: 0.0044 (0.0085)  time: 0.1723  data: 0.0634  max mem: 652\n",
      "Epoch: [0]  [ 2400/12099]  eta: 0:28:12  lr: 0.000300  loss: 0.1597 (0.2068)  loss_classifier: 0.0599 (0.0867)  loss_box_reg: 0.0590 (0.0671)  loss_objectness: 0.0139 (0.0445)  loss_rpn_box_reg: 0.0030 (0.0085)  time: 0.1728  data: 0.0642  max mem: 652\n",
      "Epoch: [0]  [ 2500/12099]  eta: 0:27:54  lr: 0.000300  loss: 0.1474 (0.2047)  loss_classifier: 0.0527 (0.0858)  loss_box_reg: 0.0585 (0.0668)  loss_objectness: 0.0202 (0.0437)  loss_rpn_box_reg: 0.0034 (0.0085)  time: 0.1696  data: 0.0620  max mem: 652\n",
      "Epoch: [0]  [ 2600/12099]  eta: 0:27:35  lr: 0.000300  loss: 0.1608 (0.2031)  loss_classifier: 0.0545 (0.0850)  loss_box_reg: 0.0732 (0.0667)  loss_objectness: 0.0176 (0.0430)  loss_rpn_box_reg: 0.0036 (0.0084)  time: 0.1722  data: 0.0644  max mem: 652\n",
      "Epoch: [0]  [ 2700/12099]  eta: 0:27:17  lr: 0.000300  loss: 0.1309 (0.2011)  loss_classifier: 0.0506 (0.0840)  loss_box_reg: 0.0531 (0.0663)  loss_objectness: 0.0142 (0.0424)  loss_rpn_box_reg: 0.0028 (0.0084)  time: 0.1717  data: 0.0643  max mem: 652\n",
      "Epoch: [0]  [ 2800/12099]  eta: 0:26:59  lr: 0.000300  loss: 0.1356 (0.1993)  loss_classifier: 0.0504 (0.0832)  loss_box_reg: 0.0568 (0.0661)  loss_objectness: 0.0179 (0.0417)  loss_rpn_box_reg: 0.0024 (0.0083)  time: 0.1719  data: 0.0646  max mem: 652\n",
      "Epoch: [0]  [ 2900/12099]  eta: 0:26:41  lr: 0.000300  loss: 0.1341 (0.1981)  loss_classifier: 0.0485 (0.0824)  loss_box_reg: 0.0558 (0.0659)  loss_objectness: 0.0152 (0.0414)  loss_rpn_box_reg: 0.0024 (0.0084)  time: 0.1712  data: 0.0629  max mem: 652\n",
      "Epoch: [0]  [ 3000/12099]  eta: 0:26:22  lr: 0.000300  loss: 0.1583 (0.1969)  loss_classifier: 0.0528 (0.0818)  loss_box_reg: 0.0631 (0.0659)  loss_objectness: 0.0204 (0.0409)  loss_rpn_box_reg: 0.0021 (0.0084)  time: 0.1689  data: 0.0631  max mem: 652\n",
      "Epoch: [0]  [ 3100/12099]  eta: 0:26:04  lr: 0.000300  loss: 0.1393 (0.1955)  loss_classifier: 0.0513 (0.0811)  loss_box_reg: 0.0585 (0.0658)  loss_objectness: 0.0120 (0.0403)  loss_rpn_box_reg: 0.0027 (0.0084)  time: 0.1696  data: 0.0631  max mem: 652\n",
      "Epoch: [0]  [ 3200/12099]  eta: 0:25:45  lr: 0.000300  loss: 0.1631 (0.1943)  loss_classifier: 0.0624 (0.0805)  loss_box_reg: 0.0593 (0.0655)  loss_objectness: 0.0262 (0.0399)  loss_rpn_box_reg: 0.0033 (0.0084)  time: 0.1718  data: 0.0654  max mem: 652\n"
     ]
    },
    {
     "name": "stdout",
     "output_type": "stream",
     "text": [
      "Epoch: [0]  [ 3300/12099]  eta: 0:25:27  lr: 0.000300  loss: 0.1627 (0.1933)  loss_classifier: 0.0641 (0.0799)  loss_box_reg: 0.0579 (0.0654)  loss_objectness: 0.0220 (0.0396)  loss_rpn_box_reg: 0.0038 (0.0083)  time: 0.1713  data: 0.0648  max mem: 652\n",
      "Epoch: [0]  [ 3400/12099]  eta: 0:25:09  lr: 0.000300  loss: 0.1337 (0.1919)  loss_classifier: 0.0473 (0.0792)  loss_box_reg: 0.0406 (0.0651)  loss_objectness: 0.0139 (0.0393)  loss_rpn_box_reg: 0.0026 (0.0083)  time: 0.1698  data: 0.0644  max mem: 652\n",
      "Epoch: [0]  [ 3500/12099]  eta: 0:24:51  lr: 0.000300  loss: 0.1436 (0.1909)  loss_classifier: 0.0595 (0.0787)  loss_box_reg: 0.0464 (0.0649)  loss_objectness: 0.0170 (0.0390)  loss_rpn_box_reg: 0.0025 (0.0083)  time: 0.1709  data: 0.0650  max mem: 652\n",
      "Epoch: [0]  [ 3600/12099]  eta: 0:24:33  lr: 0.000300  loss: 0.1450 (0.1897)  loss_classifier: 0.0456 (0.0781)  loss_box_reg: 0.0439 (0.0647)  loss_objectness: 0.0153 (0.0386)  loss_rpn_box_reg: 0.0034 (0.0083)  time: 0.1685  data: 0.0623  max mem: 652\n",
      "Epoch: [0]  [ 3700/12099]  eta: 0:24:15  lr: 0.000300  loss: 0.1675 (0.1887)  loss_classifier: 0.0670 (0.0776)  loss_box_reg: 0.0543 (0.0646)  loss_objectness: 0.0213 (0.0382)  loss_rpn_box_reg: 0.0048 (0.0083)  time: 0.1709  data: 0.0639  max mem: 652\n",
      "Epoch: [0]  [ 3800/12099]  eta: 0:23:56  lr: 0.000300  loss: 0.1671 (0.1880)  loss_classifier: 0.0644 (0.0773)  loss_box_reg: 0.0793 (0.0647)  loss_objectness: 0.0125 (0.0378)  loss_rpn_box_reg: 0.0046 (0.0082)  time: 0.1701  data: 0.0631  max mem: 652\n",
      "Epoch: [0]  [ 3900/12099]  eta: 0:23:39  lr: 0.000300  loss: 0.1324 (0.1874)  loss_classifier: 0.0451 (0.0769)  loss_box_reg: 0.0574 (0.0648)  loss_objectness: 0.0151 (0.0374)  loss_rpn_box_reg: 0.0033 (0.0082)  time: 0.1709  data: 0.0651  max mem: 652\n",
      "Epoch: [0]  [ 4000/12099]  eta: 0:23:21  lr: 0.000300  loss: 0.1449 (0.1865)  loss_classifier: 0.0498 (0.0765)  loss_box_reg: 0.0548 (0.0647)  loss_objectness: 0.0114 (0.0370)  loss_rpn_box_reg: 0.0021 (0.0082)  time: 0.1712  data: 0.0651  max mem: 652\n",
      "Epoch: [0]  [ 4100/12099]  eta: 0:23:03  lr: 0.000300  loss: 0.1387 (0.1856)  loss_classifier: 0.0557 (0.0761)  loss_box_reg: 0.0584 (0.0647)  loss_objectness: 0.0134 (0.0367)  loss_rpn_box_reg: 0.0027 (0.0082)  time: 0.1703  data: 0.0639  max mem: 652\n",
      "Epoch: [0]  [ 4200/12099]  eta: 0:22:45  lr: 0.000300  loss: 0.1389 (0.1850)  loss_classifier: 0.0606 (0.0758)  loss_box_reg: 0.0663 (0.0647)  loss_objectness: 0.0094 (0.0363)  loss_rpn_box_reg: 0.0015 (0.0082)  time: 0.1711  data: 0.0646  max mem: 652\n",
      "Epoch: [0]  [ 4300/12099]  eta: 0:22:27  lr: 0.000300  loss: 0.1510 (0.1844)  loss_classifier: 0.0475 (0.0756)  loss_box_reg: 0.0549 (0.0646)  loss_objectness: 0.0132 (0.0361)  loss_rpn_box_reg: 0.0040 (0.0081)  time: 0.1699  data: 0.0639  max mem: 652\n",
      "Epoch: [0]  [ 4400/12099]  eta: 0:22:10  lr: 0.000300  loss: 0.1300 (0.1837)  loss_classifier: 0.0456 (0.0753)  loss_box_reg: 0.0531 (0.0645)  loss_objectness: 0.0173 (0.0359)  loss_rpn_box_reg: 0.0024 (0.0081)  time: 0.1708  data: 0.0643  max mem: 652\n",
      "Epoch: [0]  [ 4500/12099]  eta: 0:21:52  lr: 0.000300  loss: 0.1528 (0.1828)  loss_classifier: 0.0449 (0.0748)  loss_box_reg: 0.0570 (0.0644)  loss_objectness: 0.0172 (0.0356)  loss_rpn_box_reg: 0.0044 (0.0081)  time: 0.1669  data: 0.0638  max mem: 652\n",
      "Epoch: [0]  [ 4600/12099]  eta: 0:21:34  lr: 0.000300  loss: 0.1598 (0.1823)  loss_classifier: 0.0494 (0.0745)  loss_box_reg: 0.0649 (0.0643)  loss_objectness: 0.0160 (0.0354)  loss_rpn_box_reg: 0.0037 (0.0080)  time: 0.1715  data: 0.0628  max mem: 652\n",
      "Epoch: [0]  [ 4700/12099]  eta: 0:21:16  lr: 0.000300  loss: 0.1233 (0.1816)  loss_classifier: 0.0551 (0.0742)  loss_box_reg: 0.0622 (0.0642)  loss_objectness: 0.0156 (0.0352)  loss_rpn_box_reg: 0.0029 (0.0080)  time: 0.1692  data: 0.0625  max mem: 652\n",
      "Epoch: [0]  [ 4800/12099]  eta: 0:20:59  lr: 0.000300  loss: 0.1688 (0.1812)  loss_classifier: 0.0531 (0.0740)  loss_box_reg: 0.0522 (0.0642)  loss_objectness: 0.0218 (0.0351)  loss_rpn_box_reg: 0.0031 (0.0080)  time: 0.1705  data: 0.0628  max mem: 652\n",
      "Epoch: [0]  [ 4900/12099]  eta: 0:20:41  lr: 0.000300  loss: 0.1352 (0.1807)  loss_classifier: 0.0515 (0.0737)  loss_box_reg: 0.0660 (0.0641)  loss_objectness: 0.0154 (0.0349)  loss_rpn_box_reg: 0.0042 (0.0080)  time: 0.1720  data: 0.0659  max mem: 652\n",
      "Epoch: [0]  [ 5000/12099]  eta: 0:20:24  lr: 0.000300  loss: 0.1313 (0.1802)  loss_classifier: 0.0462 (0.0735)  loss_box_reg: 0.0577 (0.0642)  loss_objectness: 0.0161 (0.0346)  loss_rpn_box_reg: 0.0030 (0.0080)  time: 0.1700  data: 0.0632  max mem: 652\n",
      "Epoch: [0]  [ 5100/12099]  eta: 0:20:06  lr: 0.000300  loss: 0.1457 (0.1799)  loss_classifier: 0.0563 (0.0733)  loss_box_reg: 0.0707 (0.0641)  loss_objectness: 0.0181 (0.0345)  loss_rpn_box_reg: 0.0023 (0.0080)  time: 0.1693  data: 0.0625  max mem: 652\n",
      "Epoch: [0]  [ 5200/12099]  eta: 0:19:49  lr: 0.000300  loss: 0.1409 (0.1792)  loss_classifier: 0.0503 (0.0729)  loss_box_reg: 0.0629 (0.0640)  loss_objectness: 0.0157 (0.0343)  loss_rpn_box_reg: 0.0041 (0.0079)  time: 0.1731  data: 0.0667  max mem: 652\n",
      "Epoch: [0]  [ 5300/12099]  eta: 0:19:32  lr: 0.000300  loss: 0.1176 (0.1786)  loss_classifier: 0.0470 (0.0727)  loss_box_reg: 0.0524 (0.0639)  loss_objectness: 0.0120 (0.0342)  loss_rpn_box_reg: 0.0014 (0.0079)  time: 0.1727  data: 0.0641  max mem: 652\n",
      "Epoch: [0]  [ 5400/12099]  eta: 0:19:14  lr: 0.000300  loss: 0.1581 (0.1782)  loss_classifier: 0.0593 (0.0724)  loss_box_reg: 0.0642 (0.0639)  loss_objectness: 0.0149 (0.0340)  loss_rpn_box_reg: 0.0035 (0.0079)  time: 0.1725  data: 0.0633  max mem: 652\n",
      "Epoch: [0]  [ 5500/12099]  eta: 0:18:57  lr: 0.000300  loss: 0.1373 (0.1777)  loss_classifier: 0.0384 (0.0722)  loss_box_reg: 0.0483 (0.0638)  loss_objectness: 0.0138 (0.0338)  loss_rpn_box_reg: 0.0020 (0.0079)  time: 0.1705  data: 0.0620  max mem: 652\n",
      "Epoch: [0]  [ 5600/12099]  eta: 0:18:40  lr: 0.000300  loss: 0.1430 (0.1773)  loss_classifier: 0.0524 (0.0720)  loss_box_reg: 0.0595 (0.0639)  loss_objectness: 0.0243 (0.0336)  loss_rpn_box_reg: 0.0032 (0.0078)  time: 0.1748  data: 0.0662  max mem: 652\n",
      "Epoch: [0]  [ 5700/12099]  eta: 0:18:23  lr: 0.000300  loss: 0.1437 (0.1769)  loss_classifier: 0.0488 (0.0718)  loss_box_reg: 0.0812 (0.0639)  loss_objectness: 0.0200 (0.0334)  loss_rpn_box_reg: 0.0025 (0.0078)  time: 0.1701  data: 0.0633  max mem: 652\n",
      "Epoch: [0]  [ 5800/12099]  eta: 0:18:05  lr: 0.000300  loss: 0.1178 (0.1764)  loss_classifier: 0.0413 (0.0716)  loss_box_reg: 0.0521 (0.0639)  loss_objectness: 0.0108 (0.0332)  loss_rpn_box_reg: 0.0029 (0.0078)  time: 0.1692  data: 0.0629  max mem: 652\n",
      "Epoch: [0]  [ 5900/12099]  eta: 0:17:48  lr: 0.000300  loss: 0.1772 (0.1761)  loss_classifier: 0.0689 (0.0714)  loss_box_reg: 0.0740 (0.0639)  loss_objectness: 0.0169 (0.0331)  loss_rpn_box_reg: 0.0045 (0.0078)  time: 0.1698  data: 0.0629  max mem: 652\n",
      "Epoch: [0]  [ 6000/12099]  eta: 0:17:30  lr: 0.000300  loss: 0.1090 (0.1756)  loss_classifier: 0.0421 (0.0712)  loss_box_reg: 0.0517 (0.0638)  loss_objectness: 0.0084 (0.0329)  loss_rpn_box_reg: 0.0027 (0.0078)  time: 0.1710  data: 0.0640  max mem: 652\n",
      "Epoch: [0]  [ 6100/12099]  eta: 0:17:13  lr: 0.000300  loss: 0.1342 (0.1755)  loss_classifier: 0.0505 (0.0711)  loss_box_reg: 0.0397 (0.0638)  loss_objectness: 0.0207 (0.0328)  loss_rpn_box_reg: 0.0024 (0.0077)  time: 0.1705  data: 0.0640  max mem: 652\n",
      "Epoch: [0]  [ 6200/12099]  eta: 0:16:56  lr: 0.000300  loss: 0.1123 (0.1752)  loss_classifier: 0.0419 (0.0710)  loss_box_reg: 0.0424 (0.0638)  loss_objectness: 0.0138 (0.0327)  loss_rpn_box_reg: 0.0041 (0.0077)  time: 0.1692  data: 0.0624  max mem: 652\n",
      "Epoch: [0]  [ 6300/12099]  eta: 0:16:38  lr: 0.000300  loss: 0.1366 (0.1749)  loss_classifier: 0.0527 (0.0708)  loss_box_reg: 0.0693 (0.0638)  loss_objectness: 0.0148 (0.0326)  loss_rpn_box_reg: 0.0031 (0.0077)  time: 0.1714  data: 0.0642  max mem: 652\n",
      "Epoch: [0]  [ 6400/12099]  eta: 0:16:21  lr: 0.000300  loss: 0.1499 (0.1747)  loss_classifier: 0.0614 (0.0707)  loss_box_reg: 0.0560 (0.0639)  loss_objectness: 0.0197 (0.0324)  loss_rpn_box_reg: 0.0018 (0.0077)  time: 0.1708  data: 0.0640  max mem: 652\n",
      "Epoch: [0]  [ 6500/12099]  eta: 0:16:03  lr: 0.000300  loss: 0.1369 (0.1745)  loss_classifier: 0.0545 (0.0706)  loss_box_reg: 0.0601 (0.0640)  loss_objectness: 0.0151 (0.0322)  loss_rpn_box_reg: 0.0025 (0.0077)  time: 0.1707  data: 0.0636  max mem: 652\n"
     ]
    },
    {
     "name": "stdout",
     "output_type": "stream",
     "text": [
      "Epoch: [0]  [ 6600/12099]  eta: 0:15:46  lr: 0.000300  loss: 0.1279 (0.1742)  loss_classifier: 0.0479 (0.0705)  loss_box_reg: 0.0608 (0.0640)  loss_objectness: 0.0101 (0.0321)  loss_rpn_box_reg: 0.0023 (0.0077)  time: 0.1699  data: 0.0635  max mem: 652\n",
      "Epoch: [0]  [ 6700/12099]  eta: 0:15:29  lr: 0.000300  loss: 0.1407 (0.1739)  loss_classifier: 0.0455 (0.0703)  loss_box_reg: 0.0656 (0.0640)  loss_objectness: 0.0169 (0.0319)  loss_rpn_box_reg: 0.0030 (0.0076)  time: 0.1711  data: 0.0643  max mem: 652\n",
      "Epoch: [0]  [ 6800/12099]  eta: 0:15:12  lr: 0.000300  loss: 0.1220 (0.1734)  loss_classifier: 0.0447 (0.0701)  loss_box_reg: 0.0619 (0.0640)  loss_objectness: 0.0138 (0.0317)  loss_rpn_box_reg: 0.0020 (0.0076)  time: 0.1707  data: 0.0641  max mem: 652\n",
      "Epoch: [0]  [ 6900/12099]  eta: 0:14:54  lr: 0.000300  loss: 0.1196 (0.1732)  loss_classifier: 0.0432 (0.0700)  loss_box_reg: 0.0411 (0.0640)  loss_objectness: 0.0177 (0.0316)  loss_rpn_box_reg: 0.0016 (0.0076)  time: 0.1696  data: 0.0630  max mem: 652\n",
      "Epoch: [0]  [ 7000/12099]  eta: 0:14:37  lr: 0.000300  loss: 0.1250 (0.1728)  loss_classifier: 0.0398 (0.0698)  loss_box_reg: 0.0446 (0.0640)  loss_objectness: 0.0204 (0.0315)  loss_rpn_box_reg: 0.0021 (0.0076)  time: 0.1699  data: 0.0636  max mem: 652\n",
      "Epoch: [0]  [ 7100/12099]  eta: 0:14:20  lr: 0.000300  loss: 0.1429 (0.1725)  loss_classifier: 0.0464 (0.0696)  loss_box_reg: 0.0579 (0.0640)  loss_objectness: 0.0127 (0.0314)  loss_rpn_box_reg: 0.0027 (0.0075)  time: 0.1713  data: 0.0659  max mem: 652\n",
      "Epoch: [0]  [ 7200/12099]  eta: 0:14:02  lr: 0.000300  loss: 0.1516 (0.1725)  loss_classifier: 0.0595 (0.0696)  loss_box_reg: 0.0630 (0.0640)  loss_objectness: 0.0201 (0.0313)  loss_rpn_box_reg: 0.0032 (0.0075)  time: 0.1702  data: 0.0648  max mem: 652\n",
      "Epoch: [0]  [ 7300/12099]  eta: 0:13:45  lr: 0.000300  loss: 0.1195 (0.1722)  loss_classifier: 0.0411 (0.0694)  loss_box_reg: 0.0581 (0.0641)  loss_objectness: 0.0162 (0.0312)  loss_rpn_box_reg: 0.0034 (0.0075)  time: 0.1732  data: 0.0632  max mem: 652\n",
      "Epoch: [0]  [ 7400/12099]  eta: 0:13:28  lr: 0.000300  loss: 0.1278 (0.1719)  loss_classifier: 0.0439 (0.0693)  loss_box_reg: 0.0523 (0.0641)  loss_objectness: 0.0104 (0.0310)  loss_rpn_box_reg: 0.0028 (0.0075)  time: 0.1734  data: 0.0631  max mem: 652\n",
      "Epoch: [0]  [ 7500/12099]  eta: 0:13:11  lr: 0.000300  loss: 0.1734 (0.1716)  loss_classifier: 0.0618 (0.0691)  loss_box_reg: 0.0584 (0.0641)  loss_objectness: 0.0186 (0.0309)  loss_rpn_box_reg: 0.0030 (0.0075)  time: 0.1714  data: 0.0639  max mem: 652\n",
      "Epoch: [0]  [ 7600/12099]  eta: 0:12:53  lr: 0.000300  loss: 0.1424 (0.1715)  loss_classifier: 0.0586 (0.0691)  loss_box_reg: 0.0731 (0.0641)  loss_objectness: 0.0115 (0.0308)  loss_rpn_box_reg: 0.0022 (0.0075)  time: 0.1711  data: 0.0644  max mem: 652\n",
      "Epoch: [0]  [ 7700/12099]  eta: 0:12:36  lr: 0.000300  loss: 0.1228 (0.1714)  loss_classifier: 0.0446 (0.0690)  loss_box_reg: 0.0589 (0.0641)  loss_objectness: 0.0098 (0.0308)  loss_rpn_box_reg: 0.0021 (0.0075)  time: 0.1713  data: 0.0643  max mem: 652\n",
      "Epoch: [0]  [ 7800/12099]  eta: 0:12:19  lr: 0.000300  loss: 0.1576 (0.1713)  loss_classifier: 0.0460 (0.0688)  loss_box_reg: 0.0629 (0.0642)  loss_objectness: 0.0175 (0.0307)  loss_rpn_box_reg: 0.0021 (0.0075)  time: 0.1696  data: 0.0633  max mem: 652\n",
      "Epoch: [0]  [ 7900/12099]  eta: 0:12:02  lr: 0.000300  loss: 0.1305 (0.1711)  loss_classifier: 0.0423 (0.0688)  loss_box_reg: 0.0646 (0.0643)  loss_objectness: 0.0181 (0.0306)  loss_rpn_box_reg: 0.0045 (0.0075)  time: 0.1709  data: 0.0641  max mem: 652\n",
      "Epoch: [0]  [ 8000/12099]  eta: 0:11:44  lr: 0.000300  loss: 0.1496 (0.1710)  loss_classifier: 0.0708 (0.0687)  loss_box_reg: 0.0738 (0.0643)  loss_objectness: 0.0159 (0.0305)  loss_rpn_box_reg: 0.0045 (0.0075)  time: 0.1719  data: 0.0653  max mem: 652\n",
      "Epoch: [0]  [ 8100/12099]  eta: 0:11:27  lr: 0.000300  loss: 0.1618 (0.1708)  loss_classifier: 0.0565 (0.0686)  loss_box_reg: 0.0509 (0.0643)  loss_objectness: 0.0222 (0.0305)  loss_rpn_box_reg: 0.0021 (0.0074)  time: 0.1700  data: 0.0634  max mem: 652\n",
      "Epoch: [0]  [ 8200/12099]  eta: 0:11:10  lr: 0.000300  loss: 0.1652 (0.1705)  loss_classifier: 0.0595 (0.0685)  loss_box_reg: 0.0602 (0.0643)  loss_objectness: 0.0114 (0.0303)  loss_rpn_box_reg: 0.0024 (0.0074)  time: 0.1728  data: 0.0641  max mem: 652\n",
      "Epoch: [0]  [ 8300/12099]  eta: 0:10:53  lr: 0.000300  loss: 0.1207 (0.1702)  loss_classifier: 0.0418 (0.0683)  loss_box_reg: 0.0565 (0.0643)  loss_objectness: 0.0093 (0.0302)  loss_rpn_box_reg: 0.0031 (0.0074)  time: 0.1736  data: 0.0650  max mem: 652\n",
      "Epoch: [0]  [ 8400/12099]  eta: 0:10:35  lr: 0.000300  loss: 0.1496 (0.1700)  loss_classifier: 0.0516 (0.0683)  loss_box_reg: 0.0647 (0.0643)  loss_objectness: 0.0134 (0.0301)  loss_rpn_box_reg: 0.0040 (0.0074)  time: 0.1720  data: 0.0632  max mem: 652\n",
      "Epoch: [0]  [ 8500/12099]  eta: 0:10:18  lr: 0.000300  loss: 0.1497 (0.1698)  loss_classifier: 0.0587 (0.0682)  loss_box_reg: 0.0489 (0.0643)  loss_objectness: 0.0212 (0.0300)  loss_rpn_box_reg: 0.0022 (0.0073)  time: 0.1748  data: 0.0666  max mem: 652\n",
      "Epoch: [0]  [ 8600/12099]  eta: 0:10:01  lr: 0.000300  loss: 0.1811 (0.1698)  loss_classifier: 0.0671 (0.0681)  loss_box_reg: 0.0716 (0.0643)  loss_objectness: 0.0169 (0.0300)  loss_rpn_box_reg: 0.0038 (0.0074)  time: 0.1733  data: 0.0648  max mem: 652\n",
      "Epoch: [0]  [ 8700/12099]  eta: 0:09:44  lr: 0.000300  loss: 0.1592 (0.1697)  loss_classifier: 0.0483 (0.0680)  loss_box_reg: 0.0612 (0.0644)  loss_objectness: 0.0176 (0.0299)  loss_rpn_box_reg: 0.0024 (0.0074)  time: 0.1718  data: 0.0642  max mem: 652\n",
      "Epoch: [0]  [ 8800/12099]  eta: 0:09:27  lr: 0.000300  loss: 0.1392 (0.1696)  loss_classifier: 0.0528 (0.0679)  loss_box_reg: 0.0670 (0.0645)  loss_objectness: 0.0127 (0.0299)  loss_rpn_box_reg: 0.0022 (0.0073)  time: 0.1909  data: 0.0747  max mem: 652\n",
      "Epoch: [0]  [ 8900/12099]  eta: 0:09:10  lr: 0.000300  loss: 0.1439 (0.1694)  loss_classifier: 0.0550 (0.0679)  loss_box_reg: 0.0617 (0.0645)  loss_objectness: 0.0112 (0.0297)  loss_rpn_box_reg: 0.0027 (0.0073)  time: 0.1779  data: 0.0707  max mem: 652\n",
      "Epoch: [0]  [ 9000/12099]  eta: 0:08:53  lr: 0.000300  loss: 0.1338 (0.1693)  loss_classifier: 0.0477 (0.0678)  loss_box_reg: 0.0634 (0.0646)  loss_objectness: 0.0228 (0.0296)  loss_rpn_box_reg: 0.0026 (0.0073)  time: 0.1734  data: 0.0674  max mem: 652\n",
      "Epoch: [0]  [ 9100/12099]  eta: 0:08:36  lr: 0.000300  loss: 0.1342 (0.1693)  loss_classifier: 0.0421 (0.0678)  loss_box_reg: 0.0628 (0.0646)  loss_objectness: 0.0158 (0.0296)  loss_rpn_box_reg: 0.0019 (0.0073)  time: 0.1682  data: 0.0646  max mem: 652\n",
      "Epoch: [0]  [ 9200/12099]  eta: 0:08:18  lr: 0.000300  loss: 0.1577 (0.1692)  loss_classifier: 0.0602 (0.0677)  loss_box_reg: 0.0687 (0.0647)  loss_objectness: 0.0135 (0.0295)  loss_rpn_box_reg: 0.0027 (0.0073)  time: 0.1606  data: 0.0623  max mem: 652\n",
      "Epoch: [0]  [ 9300/12099]  eta: 0:08:01  lr: 0.000300  loss: 0.1559 (0.1690)  loss_classifier: 0.0449 (0.0676)  loss_box_reg: 0.0579 (0.0647)  loss_objectness: 0.0089 (0.0294)  loss_rpn_box_reg: 0.0025 (0.0073)  time: 0.1916  data: 0.0791  max mem: 652\n",
      "Epoch: [0]  [ 9400/12099]  eta: 0:07:44  lr: 0.000300  loss: 0.1354 (0.1689)  loss_classifier: 0.0431 (0.0675)  loss_box_reg: 0.0701 (0.0647)  loss_objectness: 0.0170 (0.0293)  loss_rpn_box_reg: 0.0039 (0.0073)  time: 0.1709  data: 0.0679  max mem: 652\n",
      "Epoch: [0]  [ 9500/12099]  eta: 0:07:27  lr: 0.000300  loss: 0.1328 (0.1688)  loss_classifier: 0.0528 (0.0674)  loss_box_reg: 0.0539 (0.0648)  loss_objectness: 0.0153 (0.0293)  loss_rpn_box_reg: 0.0050 (0.0073)  time: 0.1673  data: 0.0652  max mem: 652\n",
      "Epoch: [0]  [ 9600/12099]  eta: 0:07:10  lr: 0.000300  loss: 0.1412 (0.1686)  loss_classifier: 0.0571 (0.0673)  loss_box_reg: 0.0678 (0.0648)  loss_objectness: 0.0086 (0.0292)  loss_rpn_box_reg: 0.0015 (0.0073)  time: 0.1705  data: 0.0641  max mem: 652\n",
      "Epoch: [0]  [ 9700/12099]  eta: 0:06:52  lr: 0.000300  loss: 0.1623 (0.1685)  loss_classifier: 0.0490 (0.0673)  loss_box_reg: 0.0712 (0.0649)  loss_objectness: 0.0149 (0.0291)  loss_rpn_box_reg: 0.0019 (0.0073)  time: 0.1744  data: 0.0663  max mem: 652\n",
      "Epoch: [0]  [ 9800/12099]  eta: 0:06:35  lr: 0.000300  loss: 0.1281 (0.1685)  loss_classifier: 0.0365 (0.0673)  loss_box_reg: 0.0579 (0.0649)  loss_objectness: 0.0104 (0.0290)  loss_rpn_box_reg: 0.0039 (0.0073)  time: 0.1693  data: 0.0626  max mem: 652\n"
     ]
    },
    {
     "name": "stdout",
     "output_type": "stream",
     "text": [
      "Epoch: [0]  [ 9900/12099]  eta: 0:06:18  lr: 0.000300  loss: 0.1327 (0.1683)  loss_classifier: 0.0479 (0.0672)  loss_box_reg: 0.0477 (0.0649)  loss_objectness: 0.0195 (0.0289)  loss_rpn_box_reg: 0.0023 (0.0073)  time: 0.1722  data: 0.0648  max mem: 652\n",
      "Epoch: [0]  [10000/12099]  eta: 0:06:01  lr: 0.000300  loss: 0.1494 (0.1684)  loss_classifier: 0.0516 (0.0672)  loss_box_reg: 0.0868 (0.0650)  loss_objectness: 0.0131 (0.0289)  loss_rpn_box_reg: 0.0024 (0.0073)  time: 0.1798  data: 0.0725  max mem: 652\n",
      "Epoch: [0]  [10100/12099]  eta: 0:05:44  lr: 0.000300  loss: 0.1847 (0.1685)  loss_classifier: 0.0673 (0.0672)  loss_box_reg: 0.0677 (0.0651)  loss_objectness: 0.0173 (0.0289)  loss_rpn_box_reg: 0.0031 (0.0073)  time: 0.1705  data: 0.0651  max mem: 652\n",
      "Epoch: [0]  [10200/12099]  eta: 0:05:26  lr: 0.000300  loss: 0.1502 (0.1683)  loss_classifier: 0.0620 (0.0672)  loss_box_reg: 0.0699 (0.0651)  loss_objectness: 0.0125 (0.0288)  loss_rpn_box_reg: 0.0028 (0.0072)  time: 0.1876  data: 0.0746  max mem: 652\n",
      "Epoch: [0]  [10300/12099]  eta: 0:05:09  lr: 0.000300  loss: 0.1488 (0.1683)  loss_classifier: 0.0594 (0.0671)  loss_box_reg: 0.0729 (0.0651)  loss_objectness: 0.0134 (0.0288)  loss_rpn_box_reg: 0.0024 (0.0072)  time: 0.1845  data: 0.0726  max mem: 652\n",
      "Epoch: [0]  [10400/12099]  eta: 0:04:52  lr: 0.000300  loss: 0.1594 (0.1682)  loss_classifier: 0.0656 (0.0670)  loss_box_reg: 0.0648 (0.0652)  loss_objectness: 0.0168 (0.0287)  loss_rpn_box_reg: 0.0026 (0.0072)  time: 0.1685  data: 0.0650  max mem: 652\n",
      "Epoch: [0]  [10500/12099]  eta: 0:04:35  lr: 0.000300  loss: 0.1596 (0.1682)  loss_classifier: 0.0569 (0.0670)  loss_box_reg: 0.0788 (0.0653)  loss_objectness: 0.0187 (0.0287)  loss_rpn_box_reg: 0.0022 (0.0072)  time: 0.1677  data: 0.0616  max mem: 652\n",
      "Epoch: [0]  [10600/12099]  eta: 0:04:18  lr: 0.000300  loss: 0.1325 (0.1681)  loss_classifier: 0.0453 (0.0670)  loss_box_reg: 0.0633 (0.0654)  loss_objectness: 0.0093 (0.0286)  loss_rpn_box_reg: 0.0032 (0.0072)  time: 0.1662  data: 0.0634  max mem: 652\n",
      "Epoch: [0]  [10700/12099]  eta: 0:04:00  lr: 0.000300  loss: 0.1576 (0.1680)  loss_classifier: 0.0657 (0.0669)  loss_box_reg: 0.0718 (0.0654)  loss_objectness: 0.0115 (0.0285)  loss_rpn_box_reg: 0.0018 (0.0072)  time: 0.1674  data: 0.0626  max mem: 652\n",
      "Epoch: [0]  [10800/12099]  eta: 0:03:43  lr: 0.000300  loss: 0.1404 (0.1678)  loss_classifier: 0.0503 (0.0668)  loss_box_reg: 0.0585 (0.0653)  loss_objectness: 0.0200 (0.0284)  loss_rpn_box_reg: 0.0044 (0.0072)  time: 0.1720  data: 0.0656  max mem: 652\n",
      "Epoch: [0]  [10900/12099]  eta: 0:03:26  lr: 0.000300  loss: 0.1456 (0.1677)  loss_classifier: 0.0521 (0.0668)  loss_box_reg: 0.0774 (0.0654)  loss_objectness: 0.0122 (0.0284)  loss_rpn_box_reg: 0.0032 (0.0072)  time: 0.1612  data: 0.0635  max mem: 652\n",
      "Epoch: [0]  [11000/12099]  eta: 0:03:09  lr: 0.000300  loss: 0.1592 (0.1677)  loss_classifier: 0.0618 (0.0667)  loss_box_reg: 0.0512 (0.0654)  loss_objectness: 0.0169 (0.0283)  loss_rpn_box_reg: 0.0041 (0.0072)  time: 0.1598  data: 0.0626  max mem: 652\n",
      "Epoch: [0]  [11100/12099]  eta: 0:02:51  lr: 0.000300  loss: 0.1404 (0.1676)  loss_classifier: 0.0444 (0.0667)  loss_box_reg: 0.0671 (0.0655)  loss_objectness: 0.0111 (0.0283)  loss_rpn_box_reg: 0.0027 (0.0072)  time: 0.1788  data: 0.0708  max mem: 652\n",
      "Epoch: [0]  [11200/12099]  eta: 0:02:34  lr: 0.000300  loss: 0.1364 (0.1675)  loss_classifier: 0.0412 (0.0666)  loss_box_reg: 0.0671 (0.0655)  loss_objectness: 0.0116 (0.0282)  loss_rpn_box_reg: 0.0027 (0.0072)  time: 0.1801  data: 0.0719  max mem: 652\n",
      "Epoch: [0]  [11300/12099]  eta: 0:02:17  lr: 0.000300  loss: 0.1306 (0.1675)  loss_classifier: 0.0578 (0.0666)  loss_box_reg: 0.0532 (0.0656)  loss_objectness: 0.0128 (0.0281)  loss_rpn_box_reg: 0.0024 (0.0072)  time: 0.1793  data: 0.0699  max mem: 652\n",
      "Epoch: [0]  [11400/12099]  eta: 0:02:00  lr: 0.000300  loss: 0.1744 (0.1674)  loss_classifier: 0.0739 (0.0666)  loss_box_reg: 0.0624 (0.0656)  loss_objectness: 0.0247 (0.0281)  loss_rpn_box_reg: 0.0037 (0.0072)  time: 0.1788  data: 0.0699  max mem: 652\n",
      "Epoch: [0]  [11500/12099]  eta: 0:01:43  lr: 0.000300  loss: 0.1351 (0.1673)  loss_classifier: 0.0514 (0.0665)  loss_box_reg: 0.0785 (0.0656)  loss_objectness: 0.0124 (0.0279)  loss_rpn_box_reg: 0.0032 (0.0072)  time: 0.1803  data: 0.0705  max mem: 652\n",
      "Epoch: [0]  [11600/12099]  eta: 0:01:26  lr: 0.000300  loss: 0.1231 (0.1672)  loss_classifier: 0.0507 (0.0665)  loss_box_reg: 0.0551 (0.0657)  loss_objectness: 0.0135 (0.0279)  loss_rpn_box_reg: 0.0027 (0.0072)  time: 0.1785  data: 0.0708  max mem: 652\n",
      "Epoch: [0]  [11700/12099]  eta: 0:01:08  lr: 0.000300  loss: 0.1660 (0.1672)  loss_classifier: 0.0676 (0.0665)  loss_box_reg: 0.0708 (0.0657)  loss_objectness: 0.0161 (0.0278)  loss_rpn_box_reg: 0.0034 (0.0072)  time: 0.1814  data: 0.0730  max mem: 652\n",
      "Epoch: [0]  [11800/12099]  eta: 0:00:51  lr: 0.000300  loss: 0.1454 (0.1671)  loss_classifier: 0.0441 (0.0664)  loss_box_reg: 0.0781 (0.0658)  loss_objectness: 0.0136 (0.0278)  loss_rpn_box_reg: 0.0035 (0.0072)  time: 0.1826  data: 0.0705  max mem: 652\n",
      "Epoch: [0]  [11900/12099]  eta: 0:00:34  lr: 0.000300  loss: 0.1626 (0.1671)  loss_classifier: 0.0680 (0.0664)  loss_box_reg: 0.0692 (0.0658)  loss_objectness: 0.0120 (0.0277)  loss_rpn_box_reg: 0.0021 (0.0071)  time: 0.1812  data: 0.0689  max mem: 652\n",
      "Epoch: [0]  [12000/12099]  eta: 0:00:17  lr: 0.000300  loss: 0.1502 (0.1671)  loss_classifier: 0.0597 (0.0664)  loss_box_reg: 0.0667 (0.0659)  loss_objectness: 0.0130 (0.0277)  loss_rpn_box_reg: 0.0043 (0.0071)  time: 0.1705  data: 0.0659  max mem: 652\n",
      "Epoch: [0]  [12098/12099]  eta: 0:00:00  lr: 0.000300  loss: 0.1695 (0.1671)  loss_classifier: 0.0544 (0.0664)  loss_box_reg: 0.0727 (0.0659)  loss_objectness: 0.0163 (0.0277)  loss_rpn_box_reg: 0.0019 (0.0071)  time: 0.1722  data: 0.0638  max mem: 652\n",
      "Epoch: [0] Total time: 0:34:47 (0.1725 s / it)\n",
      "Epoch: [1]  [    0/12099]  eta: 0:30:14  lr: 0.000300  loss: 0.0937 (0.0937)  loss_classifier: 0.0396 (0.0396)  loss_box_reg: 0.0339 (0.0339)  loss_objectness: 0.0188 (0.0188)  loss_rpn_box_reg: 0.0014 (0.0014)  time: 0.1500  data: 0.0550  max mem: 3863\n",
      "Epoch: [1]  [  100/12099]  eta: 0:31:54  lr: 0.000300  loss: 0.1393 (0.1601)  loss_classifier: 0.0580 (0.0617)  loss_box_reg: 0.0505 (0.0676)  loss_objectness: 0.0187 (0.0250)  loss_rpn_box_reg: 0.0021 (0.0058)  time: 0.1594  data: 0.0618  max mem: 3863\n",
      "Epoch: [1]  [  200/12099]  eta: 0:31:54  lr: 0.000300  loss: 0.1628 (0.1603)  loss_classifier: 0.0552 (0.0611)  loss_box_reg: 0.0812 (0.0706)  loss_objectness: 0.0117 (0.0226)  loss_rpn_box_reg: 0.0031 (0.0060)  time: 0.1653  data: 0.0637  max mem: 3863\n",
      "Epoch: [1]  [  300/12099]  eta: 0:32:05  lr: 0.000300  loss: 0.1487 (0.1596)  loss_classifier: 0.0529 (0.0609)  loss_box_reg: 0.0632 (0.0689)  loss_objectness: 0.0099 (0.0228)  loss_rpn_box_reg: 0.0025 (0.0070)  time: 0.1665  data: 0.0610  max mem: 3863\n",
      "Epoch: [1]  [  400/12099]  eta: 0:32:05  lr: 0.000300  loss: 0.1646 (0.1579)  loss_classifier: 0.0592 (0.0601)  loss_box_reg: 0.0670 (0.0683)  loss_objectness: 0.0116 (0.0227)  loss_rpn_box_reg: 0.0019 (0.0068)  time: 0.1669  data: 0.0612  max mem: 3863\n",
      "Epoch: [1]  [  500/12099]  eta: 0:31:59  lr: 0.000300  loss: 0.1441 (0.1564)  loss_classifier: 0.0581 (0.0596)  loss_box_reg: 0.0629 (0.0677)  loss_objectness: 0.0156 (0.0226)  loss_rpn_box_reg: 0.0025 (0.0065)  time: 0.1694  data: 0.0629  max mem: 3863\n",
      "Epoch: [1]  [  600/12099]  eta: 0:31:48  lr: 0.000300  loss: 0.1167 (0.1563)  loss_classifier: 0.0411 (0.0597)  loss_box_reg: 0.0577 (0.0679)  loss_objectness: 0.0121 (0.0224)  loss_rpn_box_reg: 0.0025 (0.0063)  time: 0.1681  data: 0.0628  max mem: 3863\n",
      "Epoch: [1]  [  700/12099]  eta: 0:31:37  lr: 0.000300  loss: 0.1415 (0.1557)  loss_classifier: 0.0358 (0.0591)  loss_box_reg: 0.0650 (0.0677)  loss_objectness: 0.0134 (0.0224)  loss_rpn_box_reg: 0.0051 (0.0065)  time: 0.1718  data: 0.0663  max mem: 3863\n",
      "Epoch: [1]  [  800/12099]  eta: 0:31:27  lr: 0.000300  loss: 0.1619 (0.1557)  loss_classifier: 0.0603 (0.0593)  loss_box_reg: 0.0728 (0.0681)  loss_objectness: 0.0121 (0.0220)  loss_rpn_box_reg: 0.0023 (0.0064)  time: 0.1742  data: 0.0654  max mem: 3863\n",
      "Epoch: [1]  [  900/12099]  eta: 0:31:29  lr: 0.000300  loss: 0.1503 (0.1561)  loss_classifier: 0.0560 (0.0598)  loss_box_reg: 0.0735 (0.0685)  loss_objectness: 0.0095 (0.0215)  loss_rpn_box_reg: 0.0021 (0.0062)  time: 0.1879  data: 0.0734  max mem: 3863\n"
     ]
    },
    {
     "name": "stdout",
     "output_type": "stream",
     "text": [
      "Epoch: [1]  [ 1000/12099]  eta: 0:31:29  lr: 0.000300  loss: 0.1482 (0.1564)  loss_classifier: 0.0559 (0.0600)  loss_box_reg: 0.0736 (0.0688)  loss_objectness: 0.0126 (0.0214)  loss_rpn_box_reg: 0.0031 (0.0061)  time: 0.1804  data: 0.0677  max mem: 3863\n",
      "Epoch: [1]  [ 1100/12099]  eta: 0:31:19  lr: 0.000300  loss: 0.1458 (0.1573)  loss_classifier: 0.0517 (0.0600)  loss_box_reg: 0.0589 (0.0689)  loss_objectness: 0.0107 (0.0221)  loss_rpn_box_reg: 0.0024 (0.0063)  time: 0.1728  data: 0.0624  max mem: 3863\n",
      "Epoch: [1]  [ 1200/12099]  eta: 0:31:05  lr: 0.000300  loss: 0.1593 (0.1571)  loss_classifier: 0.0615 (0.0600)  loss_box_reg: 0.0666 (0.0691)  loss_objectness: 0.0124 (0.0218)  loss_rpn_box_reg: 0.0023 (0.0061)  time: 0.1772  data: 0.0658  max mem: 3863\n",
      "Epoch: [1]  [ 1300/12099]  eta: 0:30:55  lr: 0.000300  loss: 0.1407 (0.1573)  loss_classifier: 0.0462 (0.0601)  loss_box_reg: 0.0725 (0.0691)  loss_objectness: 0.0155 (0.0218)  loss_rpn_box_reg: 0.0038 (0.0063)  time: 0.1738  data: 0.0683  max mem: 3863\n",
      "Epoch: [1]  [ 1400/12099]  eta: 0:30:35  lr: 0.000300  loss: 0.1161 (0.1564)  loss_classifier: 0.0513 (0.0598)  loss_box_reg: 0.0582 (0.0689)  loss_objectness: 0.0121 (0.0215)  loss_rpn_box_reg: 0.0028 (0.0061)  time: 0.1650  data: 0.0635  max mem: 3863\n",
      "Epoch: [1]  [ 1500/12099]  eta: 0:30:12  lr: 0.000300  loss: 0.1181 (0.1564)  loss_classifier: 0.0386 (0.0600)  loss_box_reg: 0.0609 (0.0689)  loss_objectness: 0.0098 (0.0213)  loss_rpn_box_reg: 0.0021 (0.0062)  time: 0.1627  data: 0.0623  max mem: 3863\n",
      "Epoch: [1]  [ 1600/12099]  eta: 0:29:50  lr: 0.000300  loss: 0.1540 (0.1571)  loss_classifier: 0.0624 (0.0604)  loss_box_reg: 0.0646 (0.0689)  loss_objectness: 0.0138 (0.0216)  loss_rpn_box_reg: 0.0026 (0.0062)  time: 0.1644  data: 0.0636  max mem: 3863\n",
      "Epoch: [1]  [ 1700/12099]  eta: 0:29:33  lr: 0.000300  loss: 0.1295 (0.1570)  loss_classifier: 0.0383 (0.0603)  loss_box_reg: 0.0466 (0.0688)  loss_objectness: 0.0231 (0.0216)  loss_rpn_box_reg: 0.0029 (0.0063)  time: 0.1646  data: 0.0628  max mem: 3863\n",
      "Epoch: [1]  [ 1800/12099]  eta: 0:29:12  lr: 0.000300  loss: 0.1200 (0.1568)  loss_classifier: 0.0392 (0.0602)  loss_box_reg: 0.0658 (0.0689)  loss_objectness: 0.0084 (0.0214)  loss_rpn_box_reg: 0.0029 (0.0063)  time: 0.1618  data: 0.0601  max mem: 3863\n",
      "Epoch: [1]  [ 1900/12099]  eta: 0:28:52  lr: 0.000300  loss: 0.1431 (0.1566)  loss_classifier: 0.0598 (0.0602)  loss_box_reg: 0.0554 (0.0689)  loss_objectness: 0.0173 (0.0213)  loss_rpn_box_reg: 0.0029 (0.0063)  time: 0.1637  data: 0.0619  max mem: 3863\n",
      "Epoch: [1]  [ 2000/12099]  eta: 0:28:35  lr: 0.000300  loss: 0.1483 (0.1563)  loss_classifier: 0.0519 (0.0601)  loss_box_reg: 0.0574 (0.0687)  loss_objectness: 0.0173 (0.0212)  loss_rpn_box_reg: 0.0042 (0.0063)  time: 0.1687  data: 0.0623  max mem: 3863\n",
      "Epoch: [1]  [ 2100/12099]  eta: 0:28:18  lr: 0.000300  loss: 0.1484 (0.1562)  loss_classifier: 0.0470 (0.0600)  loss_box_reg: 0.0661 (0.0689)  loss_objectness: 0.0074 (0.0211)  loss_rpn_box_reg: 0.0025 (0.0063)  time: 0.1686  data: 0.0623  max mem: 3863\n",
      "Epoch: [1]  [ 2200/12099]  eta: 0:28:01  lr: 0.000300  loss: 0.1330 (0.1561)  loss_classifier: 0.0489 (0.0600)  loss_box_reg: 0.0636 (0.0689)  loss_objectness: 0.0125 (0.0210)  loss_rpn_box_reg: 0.0017 (0.0062)  time: 0.1687  data: 0.0620  max mem: 3863\n",
      "Epoch: [1]  [ 2300/12099]  eta: 0:27:43  lr: 0.000300  loss: 0.1369 (0.1560)  loss_classifier: 0.0516 (0.0601)  loss_box_reg: 0.0582 (0.0688)  loss_objectness: 0.0150 (0.0209)  loss_rpn_box_reg: 0.0022 (0.0062)  time: 0.1705  data: 0.0643  max mem: 3863\n",
      "Epoch: [1]  [ 2400/12099]  eta: 0:27:26  lr: 0.000300  loss: 0.1401 (0.1564)  loss_classifier: 0.0495 (0.0603)  loss_box_reg: 0.0599 (0.0689)  loss_objectness: 0.0231 (0.0209)  loss_rpn_box_reg: 0.0032 (0.0062)  time: 0.1699  data: 0.0647  max mem: 3863\n",
      "Epoch: [1]  [ 2500/12099]  eta: 0:27:09  lr: 0.000300  loss: 0.1580 (0.1563)  loss_classifier: 0.0681 (0.0602)  loss_box_reg: 0.0765 (0.0690)  loss_objectness: 0.0126 (0.0210)  loss_rpn_box_reg: 0.0014 (0.0062)  time: 0.1691  data: 0.0623  max mem: 3863\n",
      "Epoch: [1]  [ 2600/12099]  eta: 0:26:52  lr: 0.000300  loss: 0.1554 (0.1568)  loss_classifier: 0.0506 (0.0605)  loss_box_reg: 0.0765 (0.0692)  loss_objectness: 0.0126 (0.0210)  loss_rpn_box_reg: 0.0041 (0.0062)  time: 0.1719  data: 0.0644  max mem: 3863\n",
      "Epoch: [1]  [ 2700/12099]  eta: 0:26:35  lr: 0.000300  loss: 0.1290 (0.1569)  loss_classifier: 0.0474 (0.0605)  loss_box_reg: 0.0540 (0.0693)  loss_objectness: 0.0107 (0.0210)  loss_rpn_box_reg: 0.0024 (0.0062)  time: 0.1726  data: 0.0639  max mem: 3863\n",
      "Epoch: [1]  [ 2800/12099]  eta: 0:26:18  lr: 0.000300  loss: 0.1433 (0.1568)  loss_classifier: 0.0571 (0.0604)  loss_box_reg: 0.0684 (0.0692)  loss_objectness: 0.0111 (0.0210)  loss_rpn_box_reg: 0.0051 (0.0062)  time: 0.1708  data: 0.0634  max mem: 3863\n",
      "Epoch: [1]  [ 2900/12099]  eta: 0:26:01  lr: 0.000300  loss: 0.1468 (0.1569)  loss_classifier: 0.0604 (0.0605)  loss_box_reg: 0.0741 (0.0692)  loss_objectness: 0.0135 (0.0210)  loss_rpn_box_reg: 0.0015 (0.0062)  time: 0.1694  data: 0.0625  max mem: 3863\n",
      "Epoch: [1]  [ 3000/12099]  eta: 0:25:44  lr: 0.000300  loss: 0.1254 (0.1565)  loss_classifier: 0.0405 (0.0603)  loss_box_reg: 0.0556 (0.0690)  loss_objectness: 0.0135 (0.0210)  loss_rpn_box_reg: 0.0034 (0.0062)  time: 0.1699  data: 0.0627  max mem: 3863\n",
      "Epoch: [1]  [ 3100/12099]  eta: 0:25:27  lr: 0.000300  loss: 0.1487 (0.1570)  loss_classifier: 0.0628 (0.0605)  loss_box_reg: 0.0654 (0.0692)  loss_objectness: 0.0139 (0.0211)  loss_rpn_box_reg: 0.0026 (0.0062)  time: 0.1674  data: 0.0600  max mem: 3863\n",
      "Epoch: [1]  [ 3200/12099]  eta: 0:25:10  lr: 0.000300  loss: 0.1425 (0.1568)  loss_classifier: 0.0540 (0.0605)  loss_box_reg: 0.0593 (0.0691)  loss_objectness: 0.0153 (0.0210)  loss_rpn_box_reg: 0.0031 (0.0062)  time: 0.1682  data: 0.0612  max mem: 3863\n",
      "Epoch: [1]  [ 3300/12099]  eta: 0:24:53  lr: 0.000300  loss: 0.1645 (0.1569)  loss_classifier: 0.0608 (0.0605)  loss_box_reg: 0.0649 (0.0692)  loss_objectness: 0.0138 (0.0210)  loss_rpn_box_reg: 0.0033 (0.0062)  time: 0.1705  data: 0.0634  max mem: 3863\n",
      "Epoch: [1]  [ 3400/12099]  eta: 0:24:36  lr: 0.000300  loss: 0.1165 (0.1568)  loss_classifier: 0.0375 (0.0604)  loss_box_reg: 0.0471 (0.0691)  loss_objectness: 0.0158 (0.0210)  loss_rpn_box_reg: 0.0055 (0.0063)  time: 0.1721  data: 0.0643  max mem: 3863\n",
      "Epoch: [1]  [ 3500/12099]  eta: 0:24:19  lr: 0.000300  loss: 0.1355 (0.1564)  loss_classifier: 0.0427 (0.0602)  loss_box_reg: 0.0501 (0.0689)  loss_objectness: 0.0130 (0.0210)  loss_rpn_box_reg: 0.0025 (0.0063)  time: 0.1697  data: 0.0623  max mem: 3863\n",
      "Epoch: [1]  [ 3600/12099]  eta: 0:24:03  lr: 0.000300  loss: 0.1358 (0.1563)  loss_classifier: 0.0447 (0.0603)  loss_box_reg: 0.0732 (0.0689)  loss_objectness: 0.0115 (0.0209)  loss_rpn_box_reg: 0.0021 (0.0063)  time: 0.1648  data: 0.0628  max mem: 3863\n",
      "Epoch: [1]  [ 3700/12099]  eta: 0:23:45  lr: 0.000300  loss: 0.1370 (0.1562)  loss_classifier: 0.0537 (0.0603)  loss_box_reg: 0.0564 (0.0688)  loss_objectness: 0.0149 (0.0208)  loss_rpn_box_reg: 0.0020 (0.0063)  time: 0.1684  data: 0.0629  max mem: 3863\n",
      "Epoch: [1]  [ 3800/12099]  eta: 0:23:28  lr: 0.000300  loss: 0.1632 (0.1560)  loss_classifier: 0.0499 (0.0602)  loss_box_reg: 0.0721 (0.0687)  loss_objectness: 0.0188 (0.0208)  loss_rpn_box_reg: 0.0041 (0.0063)  time: 0.1678  data: 0.0625  max mem: 3863\n",
      "Epoch: [1]  [ 3900/12099]  eta: 0:23:11  lr: 0.000300  loss: 0.1595 (0.1560)  loss_classifier: 0.0595 (0.0602)  loss_box_reg: 0.0789 (0.0688)  loss_objectness: 0.0145 (0.0207)  loss_rpn_box_reg: 0.0037 (0.0063)  time: 0.1703  data: 0.0643  max mem: 3863\n",
      "Epoch: [1]  [ 4000/12099]  eta: 0:22:54  lr: 0.000300  loss: 0.1393 (0.1561)  loss_classifier: 0.0395 (0.0602)  loss_box_reg: 0.0552 (0.0688)  loss_objectness: 0.0195 (0.0207)  loss_rpn_box_reg: 0.0038 (0.0063)  time: 0.1689  data: 0.0633  max mem: 3863\n",
      "Epoch: [1]  [ 4100/12099]  eta: 0:22:37  lr: 0.000300  loss: 0.1630 (0.1562)  loss_classifier: 0.0608 (0.0603)  loss_box_reg: 0.0672 (0.0690)  loss_objectness: 0.0169 (0.0207)  loss_rpn_box_reg: 0.0037 (0.0063)  time: 0.1697  data: 0.0635  max mem: 3863\n",
      "Epoch: [1]  [ 4200/12099]  eta: 0:22:20  lr: 0.000300  loss: 0.1387 (0.1561)  loss_classifier: 0.0526 (0.0602)  loss_box_reg: 0.0608 (0.0690)  loss_objectness: 0.0122 (0.0206)  loss_rpn_box_reg: 0.0035 (0.0063)  time: 0.1874  data: 0.0715  max mem: 3863\n"
     ]
    },
    {
     "name": "stdout",
     "output_type": "stream",
     "text": [
      "Epoch: [1]  [ 4300/12099]  eta: 0:22:04  lr: 0.000300  loss: 0.1497 (0.1565)  loss_classifier: 0.0577 (0.0604)  loss_box_reg: 0.0619 (0.0690)  loss_objectness: 0.0139 (0.0208)  loss_rpn_box_reg: 0.0014 (0.0062)  time: 0.1622  data: 0.0655  max mem: 3863\n",
      "Epoch: [1]  [ 4400/12099]  eta: 0:21:46  lr: 0.000300  loss: 0.1465 (0.1566)  loss_classifier: 0.0431 (0.0603)  loss_box_reg: 0.0688 (0.0691)  loss_objectness: 0.0083 (0.0209)  loss_rpn_box_reg: 0.0030 (0.0063)  time: 0.1615  data: 0.0607  max mem: 3863\n",
      "Epoch: [1]  [ 4500/12099]  eta: 0:21:29  lr: 0.000300  loss: 0.1436 (0.1565)  loss_classifier: 0.0491 (0.0603)  loss_box_reg: 0.0614 (0.0691)  loss_objectness: 0.0153 (0.0208)  loss_rpn_box_reg: 0.0026 (0.0063)  time: 0.1635  data: 0.0627  max mem: 3863\n",
      "Epoch: [1]  [ 4600/12099]  eta: 0:21:11  lr: 0.000300  loss: 0.1487 (0.1566)  loss_classifier: 0.0566 (0.0603)  loss_box_reg: 0.0724 (0.0692)  loss_objectness: 0.0189 (0.0208)  loss_rpn_box_reg: 0.0017 (0.0063)  time: 0.1649  data: 0.0623  max mem: 3863\n",
      "Epoch: [1]  [ 4700/12099]  eta: 0:20:54  lr: 0.000300  loss: 0.1373 (0.1565)  loss_classifier: 0.0416 (0.0603)  loss_box_reg: 0.0647 (0.0692)  loss_objectness: 0.0098 (0.0208)  loss_rpn_box_reg: 0.0028 (0.0062)  time: 0.1682  data: 0.0608  max mem: 3863\n",
      "Epoch: [1]  [ 4800/12099]  eta: 0:20:37  lr: 0.000300  loss: 0.1230 (0.1566)  loss_classifier: 0.0473 (0.0603)  loss_box_reg: 0.0442 (0.0692)  loss_objectness: 0.0127 (0.0208)  loss_rpn_box_reg: 0.0048 (0.0063)  time: 0.1731  data: 0.0636  max mem: 3863\n",
      "Epoch: [1]  [ 4900/12099]  eta: 0:20:21  lr: 0.000300  loss: 0.1192 (0.1562)  loss_classifier: 0.0468 (0.0602)  loss_box_reg: 0.0578 (0.0691)  loss_objectness: 0.0087 (0.0207)  loss_rpn_box_reg: 0.0047 (0.0062)  time: 0.1703  data: 0.0627  max mem: 3863\n",
      "Epoch: [1]  [ 5000/12099]  eta: 0:20:04  lr: 0.000300  loss: 0.1059 (0.1562)  loss_classifier: 0.0394 (0.0602)  loss_box_reg: 0.0481 (0.0691)  loss_objectness: 0.0114 (0.0207)  loss_rpn_box_reg: 0.0029 (0.0062)  time: 0.1716  data: 0.0640  max mem: 3863\n",
      "Epoch: [1]  [ 5100/12099]  eta: 0:19:47  lr: 0.000300  loss: 0.1441 (0.1562)  loss_classifier: 0.0525 (0.0603)  loss_box_reg: 0.0681 (0.0691)  loss_objectness: 0.0128 (0.0207)  loss_rpn_box_reg: 0.0025 (0.0062)  time: 0.1724  data: 0.0632  max mem: 3863\n",
      "Epoch: [1]  [ 5200/12099]  eta: 0:19:30  lr: 0.000300  loss: 0.1522 (0.1560)  loss_classifier: 0.0517 (0.0602)  loss_box_reg: 0.0598 (0.0690)  loss_objectness: 0.0131 (0.0207)  loss_rpn_box_reg: 0.0015 (0.0062)  time: 0.1755  data: 0.0660  max mem: 3863\n",
      "Epoch: [1]  [ 5300/12099]  eta: 0:19:14  lr: 0.000300  loss: 0.1378 (0.1559)  loss_classifier: 0.0444 (0.0601)  loss_box_reg: 0.0594 (0.0689)  loss_objectness: 0.0096 (0.0206)  loss_rpn_box_reg: 0.0028 (0.0062)  time: 0.1735  data: 0.0652  max mem: 3863\n",
      "Epoch: [1]  [ 5400/12099]  eta: 0:18:57  lr: 0.000300  loss: 0.1408 (0.1559)  loss_classifier: 0.0511 (0.0600)  loss_box_reg: 0.0665 (0.0689)  loss_objectness: 0.0193 (0.0207)  loss_rpn_box_reg: 0.0045 (0.0062)  time: 0.1754  data: 0.0669  max mem: 3863\n",
      "Epoch: [1]  [ 5500/12099]  eta: 0:18:41  lr: 0.000300  loss: 0.1162 (0.1558)  loss_classifier: 0.0438 (0.0600)  loss_box_reg: 0.0598 (0.0688)  loss_objectness: 0.0123 (0.0207)  loss_rpn_box_reg: 0.0023 (0.0062)  time: 0.1721  data: 0.0643  max mem: 3863\n",
      "Epoch: [1]  [ 5600/12099]  eta: 0:18:24  lr: 0.000300  loss: 0.1359 (0.1559)  loss_classifier: 0.0482 (0.0601)  loss_box_reg: 0.0649 (0.0689)  loss_objectness: 0.0117 (0.0207)  loss_rpn_box_reg: 0.0038 (0.0062)  time: 0.1752  data: 0.0666  max mem: 3863\n",
      "Epoch: [1]  [ 5700/12099]  eta: 0:18:07  lr: 0.000300  loss: 0.1230 (0.1559)  loss_classifier: 0.0381 (0.0601)  loss_box_reg: 0.0725 (0.0689)  loss_objectness: 0.0094 (0.0207)  loss_rpn_box_reg: 0.0022 (0.0063)  time: 0.1755  data: 0.0677  max mem: 3863\n",
      "Epoch: [1]  [ 5800/12099]  eta: 0:17:50  lr: 0.000300  loss: 0.1452 (0.1559)  loss_classifier: 0.0618 (0.0600)  loss_box_reg: 0.0660 (0.0688)  loss_objectness: 0.0136 (0.0208)  loss_rpn_box_reg: 0.0030 (0.0063)  time: 0.1722  data: 0.0650  max mem: 3863\n",
      "Epoch: [1]  [ 5900/12099]  eta: 0:17:34  lr: 0.000300  loss: 0.1511 (0.1559)  loss_classifier: 0.0627 (0.0600)  loss_box_reg: 0.0704 (0.0689)  loss_objectness: 0.0170 (0.0207)  loss_rpn_box_reg: 0.0027 (0.0063)  time: 0.1700  data: 0.0647  max mem: 3863\n",
      "Epoch: [1]  [ 6000/12099]  eta: 0:17:17  lr: 0.000300  loss: 0.1360 (0.1558)  loss_classifier: 0.0461 (0.0599)  loss_box_reg: 0.0690 (0.0688)  loss_objectness: 0.0156 (0.0208)  loss_rpn_box_reg: 0.0021 (0.0063)  time: 0.1734  data: 0.0677  max mem: 3863\n",
      "Epoch: [1]  [ 6100/12099]  eta: 0:17:00  lr: 0.000300  loss: 0.1416 (0.1558)  loss_classifier: 0.0499 (0.0599)  loss_box_reg: 0.0669 (0.0689)  loss_objectness: 0.0139 (0.0208)  loss_rpn_box_reg: 0.0025 (0.0063)  time: 0.1708  data: 0.0633  max mem: 3863\n",
      "Epoch: [1]  [ 6200/12099]  eta: 0:16:43  lr: 0.000300  loss: 0.1572 (0.1559)  loss_classifier: 0.0524 (0.0600)  loss_box_reg: 0.0754 (0.0689)  loss_objectness: 0.0125 (0.0207)  loss_rpn_box_reg: 0.0022 (0.0063)  time: 0.1742  data: 0.0651  max mem: 3863\n",
      "Epoch: [1]  [ 6300/12099]  eta: 0:16:27  lr: 0.000300  loss: 0.1410 (0.1562)  loss_classifier: 0.0372 (0.0601)  loss_box_reg: 0.0667 (0.0691)  loss_objectness: 0.0089 (0.0207)  loss_rpn_box_reg: 0.0012 (0.0063)  time: 0.1727  data: 0.0638  max mem: 3863\n",
      "Epoch: [1]  [ 6400/12099]  eta: 0:16:10  lr: 0.000300  loss: 0.1752 (0.1562)  loss_classifier: 0.0594 (0.0601)  loss_box_reg: 0.0793 (0.0692)  loss_objectness: 0.0106 (0.0207)  loss_rpn_box_reg: 0.0033 (0.0063)  time: 0.1695  data: 0.0622  max mem: 3863\n",
      "Epoch: [1]  [ 6500/12099]  eta: 0:15:53  lr: 0.000300  loss: 0.1460 (0.1563)  loss_classifier: 0.0470 (0.0601)  loss_box_reg: 0.0703 (0.0692)  loss_objectness: 0.0082 (0.0207)  loss_rpn_box_reg: 0.0018 (0.0063)  time: 0.1710  data: 0.0632  max mem: 3863\n",
      "Epoch: [1]  [ 6600/12099]  eta: 0:15:36  lr: 0.000300  loss: 0.1282 (0.1560)  loss_classifier: 0.0511 (0.0600)  loss_box_reg: 0.0562 (0.0691)  loss_objectness: 0.0097 (0.0206)  loss_rpn_box_reg: 0.0014 (0.0063)  time: 0.1699  data: 0.0626  max mem: 3863\n",
      "Epoch: [1]  [ 6700/12099]  eta: 0:15:19  lr: 0.000300  loss: 0.1270 (0.1557)  loss_classifier: 0.0436 (0.0599)  loss_box_reg: 0.0752 (0.0690)  loss_objectness: 0.0100 (0.0206)  loss_rpn_box_reg: 0.0015 (0.0062)  time: 0.1711  data: 0.0642  max mem: 3863\n",
      "Epoch: [1]  [ 6800/12099]  eta: 0:15:02  lr: 0.000300  loss: 0.1462 (0.1556)  loss_classifier: 0.0537 (0.0599)  loss_box_reg: 0.0519 (0.0690)  loss_objectness: 0.0115 (0.0206)  loss_rpn_box_reg: 0.0015 (0.0062)  time: 0.1667  data: 0.0632  max mem: 3863\n",
      "Epoch: [1]  [ 6900/12099]  eta: 0:14:44  lr: 0.000300  loss: 0.1523 (0.1558)  loss_classifier: 0.0577 (0.0599)  loss_box_reg: 0.0852 (0.0691)  loss_objectness: 0.0082 (0.0206)  loss_rpn_box_reg: 0.0021 (0.0062)  time: 0.1673  data: 0.0614  max mem: 3863\n",
      "Epoch: [1]  [ 7000/12099]  eta: 0:14:27  lr: 0.000300  loss: 0.1287 (0.1556)  loss_classifier: 0.0399 (0.0598)  loss_box_reg: 0.0676 (0.0690)  loss_objectness: 0.0097 (0.0206)  loss_rpn_box_reg: 0.0020 (0.0062)  time: 0.1695  data: 0.0620  max mem: 3863\n",
      "Epoch: [1]  [ 7100/12099]  eta: 0:14:10  lr: 0.000300  loss: 0.1386 (0.1557)  loss_classifier: 0.0516 (0.0598)  loss_box_reg: 0.0615 (0.0691)  loss_objectness: 0.0114 (0.0206)  loss_rpn_box_reg: 0.0023 (0.0062)  time: 0.1694  data: 0.0639  max mem: 3863\n",
      "Epoch: [1]  [ 7200/12099]  eta: 0:13:53  lr: 0.000300  loss: 0.1508 (0.1559)  loss_classifier: 0.0542 (0.0599)  loss_box_reg: 0.0674 (0.0692)  loss_objectness: 0.0164 (0.0206)  loss_rpn_box_reg: 0.0033 (0.0062)  time: 0.1951  data: 0.0775  max mem: 3863\n",
      "Epoch: [1]  [ 7300/12099]  eta: 0:13:37  lr: 0.000300  loss: 0.1453 (0.1559)  loss_classifier: 0.0442 (0.0599)  loss_box_reg: 0.0667 (0.0692)  loss_objectness: 0.0143 (0.0206)  loss_rpn_box_reg: 0.0021 (0.0062)  time: 0.1891  data: 0.0756  max mem: 3863\n",
      "Epoch: [1]  [ 7400/12099]  eta: 0:13:21  lr: 0.000300  loss: 0.1444 (0.1561)  loss_classifier: 0.0589 (0.0600)  loss_box_reg: 0.0628 (0.0693)  loss_objectness: 0.0111 (0.0206)  loss_rpn_box_reg: 0.0031 (0.0062)  time: 0.1818  data: 0.0728  max mem: 3863\n",
      "Epoch: [1]  [ 7500/12099]  eta: 0:13:04  lr: 0.000300  loss: 0.1374 (0.1561)  loss_classifier: 0.0503 (0.0600)  loss_box_reg: 0.0615 (0.0693)  loss_objectness: 0.0150 (0.0206)  loss_rpn_box_reg: 0.0029 (0.0062)  time: 0.1594  data: 0.0614  max mem: 3863\n"
     ]
    },
    {
     "name": "stdout",
     "output_type": "stream",
     "text": [
      "Epoch: [1]  [ 7600/12099]  eta: 0:12:46  lr: 0.000300  loss: 0.1004 (0.1561)  loss_classifier: 0.0348 (0.0600)  loss_box_reg: 0.0594 (0.0694)  loss_objectness: 0.0109 (0.0206)  loss_rpn_box_reg: 0.0025 (0.0062)  time: 0.1588  data: 0.0613  max mem: 3863\n",
      "Epoch: [1]  [ 7700/12099]  eta: 0:12:28  lr: 0.000300  loss: 0.1499 (0.1561)  loss_classifier: 0.0553 (0.0600)  loss_box_reg: 0.0652 (0.0694)  loss_objectness: 0.0135 (0.0206)  loss_rpn_box_reg: 0.0034 (0.0062)  time: 0.1634  data: 0.0623  max mem: 3863\n",
      "Epoch: [1]  [ 7800/12099]  eta: 0:12:11  lr: 0.000300  loss: 0.1080 (0.1560)  loss_classifier: 0.0387 (0.0599)  loss_box_reg: 0.0539 (0.0693)  loss_objectness: 0.0118 (0.0206)  loss_rpn_box_reg: 0.0018 (0.0062)  time: 0.1611  data: 0.0630  max mem: 3863\n",
      "Epoch: [1]  [ 7900/12099]  eta: 0:11:54  lr: 0.000300  loss: 0.1406 (0.1560)  loss_classifier: 0.0485 (0.0599)  loss_box_reg: 0.0633 (0.0693)  loss_objectness: 0.0123 (0.0205)  loss_rpn_box_reg: 0.0028 (0.0062)  time: 0.1691  data: 0.0658  max mem: 3863\n",
      "Epoch: [1]  [ 8000/12099]  eta: 0:11:37  lr: 0.000300  loss: 0.1347 (0.1559)  loss_classifier: 0.0379 (0.0598)  loss_box_reg: 0.0662 (0.0694)  loss_objectness: 0.0083 (0.0205)  loss_rpn_box_reg: 0.0020 (0.0062)  time: 0.1632  data: 0.0614  max mem: 3863\n",
      "Epoch: [1]  [ 8100/12099]  eta: 0:11:20  lr: 0.000300  loss: 0.1667 (0.1560)  loss_classifier: 0.0540 (0.0599)  loss_box_reg: 0.0716 (0.0694)  loss_objectness: 0.0145 (0.0205)  loss_rpn_box_reg: 0.0031 (0.0062)  time: 0.1695  data: 0.0632  max mem: 3863\n",
      "Epoch: [1]  [ 8200/12099]  eta: 0:11:03  lr: 0.000300  loss: 0.1428 (0.1563)  loss_classifier: 0.0526 (0.0600)  loss_box_reg: 0.0712 (0.0695)  loss_objectness: 0.0160 (0.0205)  loss_rpn_box_reg: 0.0023 (0.0062)  time: 0.1713  data: 0.0674  max mem: 3863\n",
      "Epoch: [1]  [ 8300/12099]  eta: 0:10:46  lr: 0.000300  loss: 0.1370 (0.1563)  loss_classifier: 0.0425 (0.0600)  loss_box_reg: 0.0818 (0.0696)  loss_objectness: 0.0100 (0.0205)  loss_rpn_box_reg: 0.0030 (0.0062)  time: 0.1655  data: 0.0642  max mem: 3863\n",
      "Epoch: [1]  [ 8400/12099]  eta: 0:10:30  lr: 0.000300  loss: 0.1482 (0.1563)  loss_classifier: 0.0613 (0.0600)  loss_box_reg: 0.0803 (0.0696)  loss_objectness: 0.0128 (0.0205)  loss_rpn_box_reg: 0.0023 (0.0062)  time: 0.1802  data: 0.0704  max mem: 3863\n",
      "Epoch: [1]  [ 8500/12099]  eta: 0:10:13  lr: 0.000300  loss: 0.1303 (0.1563)  loss_classifier: 0.0458 (0.0600)  loss_box_reg: 0.0609 (0.0696)  loss_objectness: 0.0160 (0.0205)  loss_rpn_box_reg: 0.0024 (0.0063)  time: 0.1586  data: 0.0618  max mem: 3863\n",
      "Epoch: [1]  [ 8600/12099]  eta: 0:09:55  lr: 0.000300  loss: 0.1442 (0.1563)  loss_classifier: 0.0557 (0.0600)  loss_box_reg: 0.0724 (0.0696)  loss_objectness: 0.0083 (0.0205)  loss_rpn_box_reg: 0.0022 (0.0063)  time: 0.1655  data: 0.0636  max mem: 3863\n",
      "Epoch: [1]  [ 8700/12099]  eta: 0:09:39  lr: 0.000300  loss: 0.1331 (0.1564)  loss_classifier: 0.0475 (0.0600)  loss_box_reg: 0.0668 (0.0696)  loss_objectness: 0.0128 (0.0206)  loss_rpn_box_reg: 0.0022 (0.0063)  time: 0.2014  data: 0.0844  max mem: 3863\n",
      "Epoch: [1]  [ 8800/12099]  eta: 0:09:22  lr: 0.000300  loss: 0.1434 (0.1565)  loss_classifier: 0.0411 (0.0600)  loss_box_reg: 0.0653 (0.0697)  loss_objectness: 0.0123 (0.0206)  loss_rpn_box_reg: 0.0015 (0.0063)  time: 0.1758  data: 0.0721  max mem: 3863\n",
      "Epoch: [1]  [ 8900/12099]  eta: 0:09:05  lr: 0.000300  loss: 0.1575 (0.1565)  loss_classifier: 0.0570 (0.0600)  loss_box_reg: 0.0858 (0.0697)  loss_objectness: 0.0103 (0.0205)  loss_rpn_box_reg: 0.0026 (0.0063)  time: 0.1714  data: 0.0667  max mem: 3863\n",
      "Epoch: [1]  [ 9000/12099]  eta: 0:08:48  lr: 0.000300  loss: 0.1336 (0.1564)  loss_classifier: 0.0400 (0.0599)  loss_box_reg: 0.0734 (0.0697)  loss_objectness: 0.0088 (0.0205)  loss_rpn_box_reg: 0.0041 (0.0063)  time: 0.1727  data: 0.0676  max mem: 3863\n",
      "Epoch: [1]  [ 9100/12099]  eta: 0:08:31  lr: 0.000300  loss: 0.1177 (0.1562)  loss_classifier: 0.0478 (0.0598)  loss_box_reg: 0.0693 (0.0696)  loss_objectness: 0.0074 (0.0205)  loss_rpn_box_reg: 0.0026 (0.0063)  time: 0.1620  data: 0.0617  max mem: 3863\n",
      "Epoch: [1]  [ 9200/12099]  eta: 0:08:14  lr: 0.000300  loss: 0.1312 (0.1563)  loss_classifier: 0.0381 (0.0598)  loss_box_reg: 0.0647 (0.0697)  loss_objectness: 0.0162 (0.0205)  loss_rpn_box_reg: 0.0039 (0.0063)  time: 0.1603  data: 0.0616  max mem: 3863\n",
      "Epoch: [1]  [ 9300/12099]  eta: 0:07:57  lr: 0.000300  loss: 0.1261 (0.1564)  loss_classifier: 0.0477 (0.0599)  loss_box_reg: 0.0551 (0.0697)  loss_objectness: 0.0150 (0.0205)  loss_rpn_box_reg: 0.0056 (0.0063)  time: 0.1714  data: 0.0651  max mem: 3863\n",
      "Epoch: [1]  [ 9400/12099]  eta: 0:07:40  lr: 0.000300  loss: 0.1240 (0.1563)  loss_classifier: 0.0411 (0.0599)  loss_box_reg: 0.0643 (0.0697)  loss_objectness: 0.0079 (0.0205)  loss_rpn_box_reg: 0.0019 (0.0063)  time: 0.1769  data: 0.0706  max mem: 3863\n",
      "Epoch: [1]  [ 9500/12099]  eta: 0:07:25  lr: 0.000300  loss: 0.1663 (0.1564)  loss_classifier: 0.0579 (0.0599)  loss_box_reg: 0.0700 (0.0697)  loss_objectness: 0.0152 (0.0205)  loss_rpn_box_reg: 0.0022 (0.0063)  time: 0.2227  data: 0.1025  max mem: 3863\n",
      "Epoch: [1]  [ 9600/12099]  eta: 0:07:07  lr: 0.000300  loss: 0.1640 (0.1564)  loss_classifier: 0.0618 (0.0599)  loss_box_reg: 0.0598 (0.0697)  loss_objectness: 0.0213 (0.0205)  loss_rpn_box_reg: 0.0025 (0.0063)  time: 0.1612  data: 0.0636  max mem: 3863\n",
      "Epoch: [1]  [ 9700/12099]  eta: 0:06:51  lr: 0.000300  loss: 0.1574 (0.1563)  loss_classifier: 0.0500 (0.0599)  loss_box_reg: 0.0812 (0.0697)  loss_objectness: 0.0105 (0.0205)  loss_rpn_box_reg: 0.0027 (0.0063)  time: 0.1744  data: 0.0712  max mem: 3863\n",
      "Epoch: [1]  [ 9800/12099]  eta: 0:06:34  lr: 0.000300  loss: 0.1514 (0.1564)  loss_classifier: 0.0532 (0.0600)  loss_box_reg: 0.0668 (0.0698)  loss_objectness: 0.0120 (0.0205)  loss_rpn_box_reg: 0.0018 (0.0063)  time: 0.2005  data: 0.0856  max mem: 3863\n",
      "Epoch: [1]  [ 9900/12099]  eta: 0:06:16  lr: 0.000300  loss: 0.1279 (0.1563)  loss_classifier: 0.0462 (0.0599)  loss_box_reg: 0.0555 (0.0697)  loss_objectness: 0.0148 (0.0204)  loss_rpn_box_reg: 0.0023 (0.0063)  time: 0.1736  data: 0.0716  max mem: 3863\n",
      "Epoch: [1]  [10000/12099]  eta: 0:06:00  lr: 0.000300  loss: 0.1355 (0.1563)  loss_classifier: 0.0595 (0.0600)  loss_box_reg: 0.0584 (0.0697)  loss_objectness: 0.0136 (0.0204)  loss_rpn_box_reg: 0.0034 (0.0063)  time: 0.2140  data: 0.0948  max mem: 3863\n",
      "Epoch: [1]  [10100/12099]  eta: 0:05:43  lr: 0.000300  loss: 0.1515 (0.1563)  loss_classifier: 0.0559 (0.0600)  loss_box_reg: 0.0721 (0.0697)  loss_objectness: 0.0113 (0.0204)  loss_rpn_box_reg: 0.0027 (0.0063)  time: 0.1789  data: 0.0732  max mem: 3863\n",
      "Epoch: [1]  [10200/12099]  eta: 0:05:26  lr: 0.000300  loss: 0.1442 (0.1564)  loss_classifier: 0.0397 (0.0600)  loss_box_reg: 0.0684 (0.0697)  loss_objectness: 0.0111 (0.0204)  loss_rpn_box_reg: 0.0026 (0.0063)  time: 0.1989  data: 0.0902  max mem: 3863\n",
      "Epoch: [1]  [10300/12099]  eta: 0:05:09  lr: 0.000300  loss: 0.1621 (0.1565)  loss_classifier: 0.0581 (0.0600)  loss_box_reg: 0.0748 (0.0698)  loss_objectness: 0.0148 (0.0204)  loss_rpn_box_reg: 0.0035 (0.0063)  time: 0.1715  data: 0.0700  max mem: 3863\n",
      "Epoch: [1]  [10400/12099]  eta: 0:04:51  lr: 0.000300  loss: 0.1663 (0.1565)  loss_classifier: 0.0568 (0.0600)  loss_box_reg: 0.0697 (0.0698)  loss_objectness: 0.0116 (0.0204)  loss_rpn_box_reg: 0.0027 (0.0063)  time: 0.1607  data: 0.0650  max mem: 3863\n",
      "Epoch: [1]  [10500/12099]  eta: 0:04:34  lr: 0.000300  loss: 0.1701 (0.1565)  loss_classifier: 0.0533 (0.0600)  loss_box_reg: 0.0828 (0.0698)  loss_objectness: 0.0159 (0.0204)  loss_rpn_box_reg: 0.0026 (0.0063)  time: 0.1568  data: 0.0610  max mem: 3863\n",
      "Epoch: [1]  [10600/12099]  eta: 0:04:17  lr: 0.000300  loss: 0.1489 (0.1566)  loss_classifier: 0.0518 (0.0601)  loss_box_reg: 0.0672 (0.0699)  loss_objectness: 0.0115 (0.0204)  loss_rpn_box_reg: 0.0029 (0.0063)  time: 0.1595  data: 0.0618  max mem: 3863\n",
      "Epoch: [1]  [10700/12099]  eta: 0:03:59  lr: 0.000300  loss: 0.1538 (0.1566)  loss_classifier: 0.0494 (0.0601)  loss_box_reg: 0.0707 (0.0699)  loss_objectness: 0.0150 (0.0204)  loss_rpn_box_reg: 0.0033 (0.0063)  time: 0.1601  data: 0.0634  max mem: 3863\n",
      "Epoch: [1]  [10800/12099]  eta: 0:03:42  lr: 0.000300  loss: 0.1513 (0.1566)  loss_classifier: 0.0521 (0.0601)  loss_box_reg: 0.0750 (0.0699)  loss_objectness: 0.0119 (0.0204)  loss_rpn_box_reg: 0.0023 (0.0063)  time: 0.1723  data: 0.0688  max mem: 3863\n"
     ]
    },
    {
     "name": "stdout",
     "output_type": "stream",
     "text": [
      "Epoch: [1]  [10900/12099]  eta: 0:03:25  lr: 0.000300  loss: 0.1571 (0.1566)  loss_classifier: 0.0605 (0.0601)  loss_box_reg: 0.0666 (0.0699)  loss_objectness: 0.0129 (0.0204)  loss_rpn_box_reg: 0.0027 (0.0063)  time: 0.1595  data: 0.0628  max mem: 3863\n",
      "Epoch: [1]  [11000/12099]  eta: 0:03:08  lr: 0.000300  loss: 0.1210 (0.1566)  loss_classifier: 0.0467 (0.0601)  loss_box_reg: 0.0570 (0.0699)  loss_objectness: 0.0100 (0.0204)  loss_rpn_box_reg: 0.0031 (0.0063)  time: 0.1834  data: 0.0798  max mem: 3863\n",
      "Epoch: [1]  [11100/12099]  eta: 0:02:51  lr: 0.000300  loss: 0.1298 (0.1565)  loss_classifier: 0.0432 (0.0600)  loss_box_reg: 0.0663 (0.0698)  loss_objectness: 0.0090 (0.0204)  loss_rpn_box_reg: 0.0019 (0.0063)  time: 0.1591  data: 0.0630  max mem: 3863\n",
      "Epoch: [1]  [11200/12099]  eta: 0:02:33  lr: 0.000300  loss: 0.1462 (0.1565)  loss_classifier: 0.0573 (0.0600)  loss_box_reg: 0.0699 (0.0699)  loss_objectness: 0.0099 (0.0204)  loss_rpn_box_reg: 0.0015 (0.0063)  time: 0.1582  data: 0.0622  max mem: 3863\n",
      "Epoch: [1]  [11300/12099]  eta: 0:02:16  lr: 0.000300  loss: 0.1214 (0.1564)  loss_classifier: 0.0453 (0.0600)  loss_box_reg: 0.0534 (0.0698)  loss_objectness: 0.0101 (0.0204)  loss_rpn_box_reg: 0.0018 (0.0063)  time: 0.1747  data: 0.0729  max mem: 3863\n",
      "Epoch: [1]  [11400/12099]  eta: 0:01:59  lr: 0.000300  loss: 0.1621 (0.1564)  loss_classifier: 0.0673 (0.0600)  loss_box_reg: 0.0657 (0.0698)  loss_objectness: 0.0116 (0.0204)  loss_rpn_box_reg: 0.0028 (0.0062)  time: 0.1697  data: 0.0690  max mem: 3863\n",
      "Epoch: [1]  [11500/12099]  eta: 0:01:42  lr: 0.000300  loss: 0.1203 (0.1564)  loss_classifier: 0.0448 (0.0600)  loss_box_reg: 0.0687 (0.0698)  loss_objectness: 0.0124 (0.0204)  loss_rpn_box_reg: 0.0025 (0.0063)  time: 0.1594  data: 0.0630  max mem: 3863\n",
      "Epoch: [1]  [11600/12099]  eta: 0:01:25  lr: 0.000300  loss: 0.1425 (0.1564)  loss_classifier: 0.0623 (0.0600)  loss_box_reg: 0.0683 (0.0698)  loss_objectness: 0.0118 (0.0204)  loss_rpn_box_reg: 0.0021 (0.0063)  time: 0.1594  data: 0.0632  max mem: 3863\n",
      "Epoch: [1]  [11700/12099]  eta: 0:01:08  lr: 0.000300  loss: 0.1190 (0.1565)  loss_classifier: 0.0399 (0.0600)  loss_box_reg: 0.0707 (0.0698)  loss_objectness: 0.0096 (0.0205)  loss_rpn_box_reg: 0.0021 (0.0063)  time: 0.1778  data: 0.0722  max mem: 3863\n",
      "Epoch: [1]  [11800/12099]  eta: 0:00:51  lr: 0.000300  loss: 0.1418 (0.1565)  loss_classifier: 0.0508 (0.0600)  loss_box_reg: 0.0673 (0.0698)  loss_objectness: 0.0101 (0.0204)  loss_rpn_box_reg: 0.0026 (0.0063)  time: 0.1646  data: 0.0669  max mem: 3863\n",
      "Epoch: [1]  [11900/12099]  eta: 0:00:34  lr: 0.000300  loss: 0.1479 (0.1564)  loss_classifier: 0.0472 (0.0600)  loss_box_reg: 0.0667 (0.0698)  loss_objectness: 0.0128 (0.0204)  loss_rpn_box_reg: 0.0016 (0.0063)  time: 0.1583  data: 0.0625  max mem: 3863\n",
      "Epoch: [1]  [12000/12099]  eta: 0:00:16  lr: 0.000300  loss: 0.1546 (0.1564)  loss_classifier: 0.0522 (0.0600)  loss_box_reg: 0.0827 (0.0698)  loss_objectness: 0.0100 (0.0204)  loss_rpn_box_reg: 0.0017 (0.0063)  time: 0.1607  data: 0.0639  max mem: 3863\n",
      "Epoch: [1]  [12098/12099]  eta: 0:00:00  lr: 0.000300  loss: 0.1129 (0.1563)  loss_classifier: 0.0355 (0.0599)  loss_box_reg: 0.0612 (0.0697)  loss_objectness: 0.0101 (0.0204)  loss_rpn_box_reg: 0.0024 (0.0063)  time: 0.1617  data: 0.0654  max mem: 3863\n",
      "Epoch: [1] Total time: 0:34:26 (0.1708 s / it)\n",
      "Epoch: [2]  [    0/12099]  eta: 0:31:33  lr: 0.000300  loss: 0.3536 (0.3536)  loss_classifier: 0.1809 (0.1809)  loss_box_reg: 0.1100 (0.1100)  loss_objectness: 0.0572 (0.0572)  loss_rpn_box_reg: 0.0055 (0.0055)  time: 0.1565  data: 0.0600  max mem: 3863\n",
      "Epoch: [2]  [  100/12099]  eta: 0:32:21  lr: 0.000300  loss: 0.1237 (0.1611)  loss_classifier: 0.0465 (0.0655)  loss_box_reg: 0.0534 (0.0690)  loss_objectness: 0.0141 (0.0213)  loss_rpn_box_reg: 0.0019 (0.0054)  time: 0.1629  data: 0.0660  max mem: 3863\n",
      "Epoch: [2]  [  200/12099]  eta: 0:31:59  lr: 0.000300  loss: 0.1361 (0.1581)  loss_classifier: 0.0451 (0.0631)  loss_box_reg: 0.0667 (0.0698)  loss_objectness: 0.0112 (0.0203)  loss_rpn_box_reg: 0.0025 (0.0048)  time: 0.1612  data: 0.0648  max mem: 3863\n",
      "Epoch: [2]  [  300/12099]  eta: 0:31:43  lr: 0.000300  loss: 0.1202 (0.1557)  loss_classifier: 0.0306 (0.0597)  loss_box_reg: 0.0566 (0.0709)  loss_objectness: 0.0095 (0.0194)  loss_rpn_box_reg: 0.0016 (0.0057)  time: 0.1602  data: 0.0631  max mem: 3863\n",
      "Epoch: [2]  [  400/12099]  eta: 0:31:30  lr: 0.000300  loss: 0.1376 (0.1564)  loss_classifier: 0.0492 (0.0597)  loss_box_reg: 0.0659 (0.0720)  loss_objectness: 0.0124 (0.0187)  loss_rpn_box_reg: 0.0026 (0.0060)  time: 0.1659  data: 0.0666  max mem: 3863\n",
      "Epoch: [2]  [  500/12099]  eta: 0:31:12  lr: 0.000300  loss: 0.1376 (0.1566)  loss_classifier: 0.0472 (0.0595)  loss_box_reg: 0.0650 (0.0717)  loss_objectness: 0.0079 (0.0192)  loss_rpn_box_reg: 0.0029 (0.0062)  time: 0.1605  data: 0.0635  max mem: 3863\n",
      "Epoch: [2]  [  600/12099]  eta: 0:30:57  lr: 0.000300  loss: 0.1331 (0.1558)  loss_classifier: 0.0459 (0.0586)  loss_box_reg: 0.0681 (0.0715)  loss_objectness: 0.0106 (0.0192)  loss_rpn_box_reg: 0.0028 (0.0066)  time: 0.1630  data: 0.0653  max mem: 3863\n",
      "Epoch: [2]  [  700/12099]  eta: 0:30:44  lr: 0.000300  loss: 0.1626 (0.1557)  loss_classifier: 0.0580 (0.0585)  loss_box_reg: 0.0724 (0.0716)  loss_objectness: 0.0085 (0.0193)  loss_rpn_box_reg: 0.0029 (0.0063)  time: 0.1644  data: 0.0669  max mem: 3863\n",
      "Epoch: [2]  [  800/12099]  eta: 0:30:32  lr: 0.000300  loss: 0.1521 (0.1552)  loss_classifier: 0.0511 (0.0580)  loss_box_reg: 0.0593 (0.0708)  loss_objectness: 0.0126 (0.0201)  loss_rpn_box_reg: 0.0024 (0.0063)  time: 0.1593  data: 0.0627  max mem: 3863\n",
      "Epoch: [2]  [  900/12099]  eta: 0:30:12  lr: 0.000300  loss: 0.1242 (0.1552)  loss_classifier: 0.0450 (0.0583)  loss_box_reg: 0.0594 (0.0706)  loss_objectness: 0.0070 (0.0198)  loss_rpn_box_reg: 0.0032 (0.0064)  time: 0.1595  data: 0.0643  max mem: 3863\n",
      "Epoch: [2]  [ 1000/12099]  eta: 0:29:52  lr: 0.000300  loss: 0.1357 (0.1561)  loss_classifier: 0.0454 (0.0587)  loss_box_reg: 0.0593 (0.0707)  loss_objectness: 0.0105 (0.0202)  loss_rpn_box_reg: 0.0021 (0.0064)  time: 0.1570  data: 0.0618  max mem: 3863\n",
      "Epoch: [2]  [ 1100/12099]  eta: 0:29:32  lr: 0.000300  loss: 0.1808 (0.1562)  loss_classifier: 0.0648 (0.0589)  loss_box_reg: 0.0849 (0.0705)  loss_objectness: 0.0130 (0.0203)  loss_rpn_box_reg: 0.0021 (0.0066)  time: 0.1607  data: 0.0641  max mem: 3863\n",
      "Epoch: [2]  [ 1200/12099]  eta: 0:29:16  lr: 0.000300  loss: 0.1528 (0.1566)  loss_classifier: 0.0490 (0.0593)  loss_box_reg: 0.0580 (0.0706)  loss_objectness: 0.0146 (0.0204)  loss_rpn_box_reg: 0.0029 (0.0064)  time: 0.1585  data: 0.0632  max mem: 3863\n",
      "Epoch: [2]  [ 1300/12099]  eta: 0:28:59  lr: 0.000300  loss: 0.1459 (0.1574)  loss_classifier: 0.0498 (0.0597)  loss_box_reg: 0.0731 (0.0709)  loss_objectness: 0.0109 (0.0205)  loss_rpn_box_reg: 0.0026 (0.0064)  time: 0.1600  data: 0.0638  max mem: 3863\n",
      "Epoch: [2]  [ 1400/12099]  eta: 0:28:41  lr: 0.000300  loss: 0.1484 (0.1569)  loss_classifier: 0.0529 (0.0597)  loss_box_reg: 0.0808 (0.0709)  loss_objectness: 0.0105 (0.0201)  loss_rpn_box_reg: 0.0017 (0.0062)  time: 0.1579  data: 0.0617  max mem: 3863\n",
      "Epoch: [2]  [ 1500/12099]  eta: 0:28:23  lr: 0.000300  loss: 0.1179 (0.1556)  loss_classifier: 0.0419 (0.0591)  loss_box_reg: 0.0627 (0.0703)  loss_objectness: 0.0098 (0.0199)  loss_rpn_box_reg: 0.0027 (0.0063)  time: 0.1573  data: 0.0618  max mem: 3863\n",
      "Epoch: [2]  [ 1600/12099]  eta: 0:28:06  lr: 0.000300  loss: 0.1387 (0.1551)  loss_classifier: 0.0375 (0.0590)  loss_box_reg: 0.0583 (0.0702)  loss_objectness: 0.0112 (0.0197)  loss_rpn_box_reg: 0.0029 (0.0062)  time: 0.1572  data: 0.0609  max mem: 3863\n",
      "Epoch: [2]  [ 1700/12099]  eta: 0:27:48  lr: 0.000300  loss: 0.1236 (0.1545)  loss_classifier: 0.0447 (0.0587)  loss_box_reg: 0.0606 (0.0701)  loss_objectness: 0.0055 (0.0196)  loss_rpn_box_reg: 0.0015 (0.0062)  time: 0.1578  data: 0.0618  max mem: 3863\n",
      "Epoch: [2]  [ 1800/12099]  eta: 0:27:32  lr: 0.000300  loss: 0.1237 (0.1537)  loss_classifier: 0.0440 (0.0583)  loss_box_reg: 0.0597 (0.0699)  loss_objectness: 0.0115 (0.0193)  loss_rpn_box_reg: 0.0023 (0.0061)  time: 0.1583  data: 0.0618  max mem: 3863\n",
      "Epoch: [2]  [ 1900/12099]  eta: 0:27:15  lr: 0.000300  loss: 0.1614 (0.1533)  loss_classifier: 0.0524 (0.0582)  loss_box_reg: 0.0662 (0.0698)  loss_objectness: 0.0143 (0.0193)  loss_rpn_box_reg: 0.0025 (0.0060)  time: 0.1570  data: 0.0611  max mem: 3863\n"
     ]
    },
    {
     "name": "stdout",
     "output_type": "stream",
     "text": [
      "Epoch: [2]  [ 2000/12099]  eta: 0:27:00  lr: 0.000300  loss: 0.1646 (0.1531)  loss_classifier: 0.0459 (0.0580)  loss_box_reg: 0.0699 (0.0697)  loss_objectness: 0.0114 (0.0194)  loss_rpn_box_reg: 0.0017 (0.0060)  time: 0.1630  data: 0.0648  max mem: 3863\n",
      "Epoch: [2]  [ 2100/12099]  eta: 0:26:44  lr: 0.000300  loss: 0.1334 (0.1530)  loss_classifier: 0.0450 (0.0580)  loss_box_reg: 0.0712 (0.0696)  loss_objectness: 0.0122 (0.0194)  loss_rpn_box_reg: 0.0033 (0.0060)  time: 0.1617  data: 0.0644  max mem: 3863\n",
      "Epoch: [2]  [ 2200/12099]  eta: 0:26:28  lr: 0.000300  loss: 0.1535 (0.1532)  loss_classifier: 0.0603 (0.0580)  loss_box_reg: 0.0779 (0.0697)  loss_objectness: 0.0139 (0.0194)  loss_rpn_box_reg: 0.0024 (0.0060)  time: 0.1577  data: 0.0615  max mem: 3863\n",
      "Epoch: [2]  [ 2300/12099]  eta: 0:26:12  lr: 0.000300  loss: 0.1529 (0.1532)  loss_classifier: 0.0484 (0.0579)  loss_box_reg: 0.0721 (0.0696)  loss_objectness: 0.0111 (0.0197)  loss_rpn_box_reg: 0.0021 (0.0061)  time: 0.1603  data: 0.0635  max mem: 3863\n",
      "Epoch: [2]  [ 2400/12099]  eta: 0:25:56  lr: 0.000300  loss: 0.1407 (0.1536)  loss_classifier: 0.0506 (0.0580)  loss_box_reg: 0.0685 (0.0699)  loss_objectness: 0.0153 (0.0196)  loss_rpn_box_reg: 0.0028 (0.0060)  time: 0.1589  data: 0.0623  max mem: 3863\n",
      "Epoch: [2]  [ 2500/12099]  eta: 0:25:40  lr: 0.000300  loss: 0.1475 (0.1539)  loss_classifier: 0.0486 (0.0581)  loss_box_reg: 0.0742 (0.0702)  loss_objectness: 0.0102 (0.0195)  loss_rpn_box_reg: 0.0017 (0.0060)  time: 0.1622  data: 0.0654  max mem: 3863\n",
      "Epoch: [2]  [ 2600/12099]  eta: 0:25:24  lr: 0.000300  loss: 0.1236 (0.1541)  loss_classifier: 0.0416 (0.0582)  loss_box_reg: 0.0656 (0.0702)  loss_objectness: 0.0113 (0.0196)  loss_rpn_box_reg: 0.0028 (0.0061)  time: 0.1599  data: 0.0644  max mem: 3863\n",
      "Epoch: [2]  [ 2700/12099]  eta: 0:25:09  lr: 0.000300  loss: 0.1296 (0.1541)  loss_classifier: 0.0476 (0.0583)  loss_box_reg: 0.0659 (0.0702)  loss_objectness: 0.0113 (0.0196)  loss_rpn_box_reg: 0.0014 (0.0061)  time: 0.1569  data: 0.0604  max mem: 3863\n",
      "Epoch: [2]  [ 2800/12099]  eta: 0:24:53  lr: 0.000300  loss: 0.1194 (0.1537)  loss_classifier: 0.0417 (0.0580)  loss_box_reg: 0.0469 (0.0700)  loss_objectness: 0.0109 (0.0197)  loss_rpn_box_reg: 0.0018 (0.0061)  time: 0.1584  data: 0.0624  max mem: 3863\n",
      "Epoch: [2]  [ 2900/12099]  eta: 0:24:36  lr: 0.000300  loss: 0.1389 (0.1544)  loss_classifier: 0.0488 (0.0582)  loss_box_reg: 0.0676 (0.0703)  loss_objectness: 0.0118 (0.0197)  loss_rpn_box_reg: 0.0032 (0.0061)  time: 0.1591  data: 0.0633  max mem: 3863\n",
      "Epoch: [2]  [ 3000/12099]  eta: 0:24:22  lr: 0.000300  loss: 0.1569 (0.1542)  loss_classifier: 0.0620 (0.0582)  loss_box_reg: 0.0690 (0.0703)  loss_objectness: 0.0154 (0.0197)  loss_rpn_box_reg: 0.0023 (0.0061)  time: 0.1776  data: 0.0732  max mem: 3863\n",
      "Epoch: [2]  [ 3100/12099]  eta: 0:24:08  lr: 0.000300  loss: 0.1370 (0.1542)  loss_classifier: 0.0493 (0.0582)  loss_box_reg: 0.0742 (0.0704)  loss_objectness: 0.0145 (0.0195)  loss_rpn_box_reg: 0.0023 (0.0061)  time: 0.1771  data: 0.0706  max mem: 3863\n",
      "Epoch: [2]  [ 3200/12099]  eta: 0:23:57  lr: 0.000300  loss: 0.1348 (0.1545)  loss_classifier: 0.0516 (0.0585)  loss_box_reg: 0.0576 (0.0706)  loss_objectness: 0.0096 (0.0194)  loss_rpn_box_reg: 0.0027 (0.0060)  time: 0.1768  data: 0.0705  max mem: 3863\n",
      "Epoch: [2]  [ 3300/12099]  eta: 0:23:45  lr: 0.000300  loss: 0.1188 (0.1543)  loss_classifier: 0.0434 (0.0583)  loss_box_reg: 0.0564 (0.0706)  loss_objectness: 0.0103 (0.0194)  loss_rpn_box_reg: 0.0016 (0.0060)  time: 0.1783  data: 0.0713  max mem: 3863\n",
      "Epoch: [2]  [ 3400/12099]  eta: 0:23:33  lr: 0.000300  loss: 0.1640 (0.1544)  loss_classifier: 0.0670 (0.0583)  loss_box_reg: 0.0799 (0.0706)  loss_objectness: 0.0107 (0.0194)  loss_rpn_box_reg: 0.0022 (0.0061)  time: 0.1769  data: 0.0717  max mem: 3863\n",
      "Epoch: [2]  [ 3500/12099]  eta: 0:23:19  lr: 0.000300  loss: 0.1369 (0.1546)  loss_classifier: 0.0549 (0.0586)  loss_box_reg: 0.0535 (0.0706)  loss_objectness: 0.0161 (0.0194)  loss_rpn_box_reg: 0.0029 (0.0060)  time: 0.1776  data: 0.0703  max mem: 3863\n",
      "Epoch: [2]  [ 3600/12099]  eta: 0:23:05  lr: 0.000300  loss: 0.1361 (0.1547)  loss_classifier: 0.0443 (0.0585)  loss_box_reg: 0.0629 (0.0706)  loss_objectness: 0.0171 (0.0194)  loss_rpn_box_reg: 0.0034 (0.0061)  time: 0.1625  data: 0.0635  max mem: 3863\n",
      "Epoch: [2]  [ 3700/12099]  eta: 0:22:50  lr: 0.000300  loss: 0.1431 (0.1545)  loss_classifier: 0.0528 (0.0584)  loss_box_reg: 0.0748 (0.0707)  loss_objectness: 0.0100 (0.0193)  loss_rpn_box_reg: 0.0027 (0.0060)  time: 0.1717  data: 0.0695  max mem: 3863\n",
      "Epoch: [2]  [ 3800/12099]  eta: 0:22:34  lr: 0.000300  loss: 0.1633 (0.1548)  loss_classifier: 0.0509 (0.0585)  loss_box_reg: 0.0781 (0.0708)  loss_objectness: 0.0144 (0.0194)  loss_rpn_box_reg: 0.0033 (0.0060)  time: 0.1612  data: 0.0647  max mem: 3863\n",
      "Epoch: [2]  [ 3900/12099]  eta: 0:22:18  lr: 0.000300  loss: 0.1491 (0.1551)  loss_classifier: 0.0592 (0.0587)  loss_box_reg: 0.0756 (0.0710)  loss_objectness: 0.0104 (0.0194)  loss_rpn_box_reg: 0.0017 (0.0060)  time: 0.1665  data: 0.0679  max mem: 3863\n",
      "Epoch: [2]  [ 4000/12099]  eta: 0:22:04  lr: 0.000300  loss: 0.1105 (0.1550)  loss_classifier: 0.0244 (0.0586)  loss_box_reg: 0.0553 (0.0710)  loss_objectness: 0.0117 (0.0194)  loss_rpn_box_reg: 0.0029 (0.0060)  time: 0.1791  data: 0.0727  max mem: 3863\n",
      "Epoch: [2]  [ 4100/12099]  eta: 0:21:50  lr: 0.000300  loss: 0.1285 (0.1547)  loss_classifier: 0.0489 (0.0585)  loss_box_reg: 0.0607 (0.0709)  loss_objectness: 0.0123 (0.0193)  loss_rpn_box_reg: 0.0022 (0.0060)  time: 0.1732  data: 0.0690  max mem: 3863\n",
      "Epoch: [2]  [ 4200/12099]  eta: 0:21:36  lr: 0.000300  loss: 0.1739 (0.1551)  loss_classifier: 0.0591 (0.0587)  loss_box_reg: 0.0635 (0.0710)  loss_objectness: 0.0143 (0.0193)  loss_rpn_box_reg: 0.0035 (0.0061)  time: 0.1802  data: 0.0738  max mem: 3863\n",
      "Epoch: [2]  [ 4300/12099]  eta: 0:21:22  lr: 0.000300  loss: 0.1308 (0.1548)  loss_classifier: 0.0466 (0.0586)  loss_box_reg: 0.0678 (0.0709)  loss_objectness: 0.0080 (0.0193)  loss_rpn_box_reg: 0.0024 (0.0061)  time: 0.1783  data: 0.0722  max mem: 3863\n",
      "Epoch: [2]  [ 4400/12099]  eta: 0:21:08  lr: 0.000300  loss: 0.1411 (0.1548)  loss_classifier: 0.0502 (0.0585)  loss_box_reg: 0.0750 (0.0710)  loss_objectness: 0.0157 (0.0192)  loss_rpn_box_reg: 0.0024 (0.0061)  time: 0.1823  data: 0.0741  max mem: 3863\n",
      "Epoch: [2]  [ 4500/12099]  eta: 0:20:53  lr: 0.000300  loss: 0.1500 (0.1548)  loss_classifier: 0.0538 (0.0585)  loss_box_reg: 0.0634 (0.0710)  loss_objectness: 0.0132 (0.0192)  loss_rpn_box_reg: 0.0036 (0.0061)  time: 0.1754  data: 0.0706  max mem: 3863\n",
      "Epoch: [2]  [ 4600/12099]  eta: 0:20:38  lr: 0.000300  loss: 0.1101 (0.1546)  loss_classifier: 0.0423 (0.0585)  loss_box_reg: 0.0410 (0.0708)  loss_objectness: 0.0126 (0.0192)  loss_rpn_box_reg: 0.0019 (0.0061)  time: 0.1786  data: 0.0719  max mem: 3863\n",
      "Epoch: [2]  [ 4700/12099]  eta: 0:20:23  lr: 0.000300  loss: 0.1173 (0.1546)  loss_classifier: 0.0410 (0.0584)  loss_box_reg: 0.0553 (0.0708)  loss_objectness: 0.0066 (0.0192)  loss_rpn_box_reg: 0.0024 (0.0061)  time: 0.1775  data: 0.0707  max mem: 3863\n",
      "Epoch: [2]  [ 4800/12099]  eta: 0:20:08  lr: 0.000300  loss: 0.1530 (0.1548)  loss_classifier: 0.0550 (0.0585)  loss_box_reg: 0.0702 (0.0709)  loss_objectness: 0.0140 (0.0193)  loss_rpn_box_reg: 0.0032 (0.0061)  time: 0.1738  data: 0.0681  max mem: 3863\n",
      "Epoch: [2]  [ 4900/12099]  eta: 0:19:53  lr: 0.000300  loss: 0.1231 (0.1544)  loss_classifier: 0.0338 (0.0584)  loss_box_reg: 0.0702 (0.0708)  loss_objectness: 0.0104 (0.0192)  loss_rpn_box_reg: 0.0027 (0.0061)  time: 0.1751  data: 0.0693  max mem: 3863\n",
      "Epoch: [2]  [ 5000/12099]  eta: 0:19:38  lr: 0.000300  loss: 0.1396 (0.1542)  loss_classifier: 0.0422 (0.0583)  loss_box_reg: 0.0602 (0.0707)  loss_objectness: 0.0069 (0.0191)  loss_rpn_box_reg: 0.0030 (0.0061)  time: 0.1773  data: 0.0711  max mem: 3863\n",
      "Epoch: [2]  [ 5100/12099]  eta: 0:19:22  lr: 0.000300  loss: 0.1361 (0.1546)  loss_classifier: 0.0495 (0.0584)  loss_box_reg: 0.0625 (0.0709)  loss_objectness: 0.0129 (0.0192)  loss_rpn_box_reg: 0.0023 (0.0061)  time: 0.1776  data: 0.0709  max mem: 3863\n",
      "Epoch: [2]  [ 5200/12099]  eta: 0:19:07  lr: 0.000300  loss: 0.1381 (0.1547)  loss_classifier: 0.0371 (0.0584)  loss_box_reg: 0.0565 (0.0709)  loss_objectness: 0.0169 (0.0193)  loss_rpn_box_reg: 0.0024 (0.0061)  time: 0.1780  data: 0.0717  max mem: 3863\n"
     ]
    },
    {
     "name": "stdout",
     "output_type": "stream",
     "text": [
      "Epoch: [2]  [ 5300/12099]  eta: 0:18:52  lr: 0.000300  loss: 0.1842 (0.1548)  loss_classifier: 0.0633 (0.0585)  loss_box_reg: 0.0598 (0.0708)  loss_objectness: 0.0209 (0.0194)  loss_rpn_box_reg: 0.0034 (0.0061)  time: 0.1738  data: 0.0692  max mem: 3863\n",
      "Epoch: [2]  [ 5400/12099]  eta: 0:18:36  lr: 0.000300  loss: 0.1282 (0.1548)  loss_classifier: 0.0504 (0.0585)  loss_box_reg: 0.0580 (0.0708)  loss_objectness: 0.0088 (0.0194)  loss_rpn_box_reg: 0.0023 (0.0061)  time: 0.1763  data: 0.0698  max mem: 3863\n",
      "Epoch: [2]  [ 5500/12099]  eta: 0:18:20  lr: 0.000300  loss: 0.1282 (0.1549)  loss_classifier: 0.0512 (0.0585)  loss_box_reg: 0.0525 (0.0709)  loss_objectness: 0.0177 (0.0194)  loss_rpn_box_reg: 0.0023 (0.0061)  time: 0.1625  data: 0.0635  max mem: 3863\n",
      "Epoch: [2]  [ 5600/12099]  eta: 0:18:03  lr: 0.000300  loss: 0.1392 (0.1552)  loss_classifier: 0.0469 (0.0586)  loss_box_reg: 0.0668 (0.0710)  loss_objectness: 0.0139 (0.0195)  loss_rpn_box_reg: 0.0025 (0.0061)  time: 0.1677  data: 0.0679  max mem: 3863\n",
      "Epoch: [2]  [ 5700/12099]  eta: 0:17:46  lr: 0.000300  loss: 0.1620 (0.1554)  loss_classifier: 0.0586 (0.0587)  loss_box_reg: 0.0748 (0.0711)  loss_objectness: 0.0146 (0.0195)  loss_rpn_box_reg: 0.0020 (0.0061)  time: 0.1601  data: 0.0642  max mem: 3863\n",
      "Epoch: [2]  [ 5800/12099]  eta: 0:17:28  lr: 0.000300  loss: 0.1494 (0.1553)  loss_classifier: 0.0504 (0.0586)  loss_box_reg: 0.0764 (0.0711)  loss_objectness: 0.0084 (0.0194)  loss_rpn_box_reg: 0.0028 (0.0061)  time: 0.1656  data: 0.0670  max mem: 3863\n",
      "Epoch: [2]  [ 5900/12099]  eta: 0:17:11  lr: 0.000300  loss: 0.1397 (0.1552)  loss_classifier: 0.0402 (0.0586)  loss_box_reg: 0.0736 (0.0711)  loss_objectness: 0.0154 (0.0194)  loss_rpn_box_reg: 0.0028 (0.0061)  time: 0.1632  data: 0.0650  max mem: 3863\n",
      "Epoch: [2]  [ 6000/12099]  eta: 0:16:54  lr: 0.000300  loss: 0.1353 (0.1551)  loss_classifier: 0.0433 (0.0585)  loss_box_reg: 0.0528 (0.0711)  loss_objectness: 0.0105 (0.0193)  loss_rpn_box_reg: 0.0017 (0.0061)  time: 0.1580  data: 0.0611  max mem: 3863\n",
      "Epoch: [2]  [ 6100/12099]  eta: 0:16:37  lr: 0.000300  loss: 0.1517 (0.1549)  loss_classifier: 0.0496 (0.0584)  loss_box_reg: 0.0714 (0.0711)  loss_objectness: 0.0088 (0.0193)  loss_rpn_box_reg: 0.0018 (0.0061)  time: 0.1600  data: 0.0629  max mem: 3863\n",
      "Epoch: [2]  [ 6200/12099]  eta: 0:16:20  lr: 0.000300  loss: 0.1482 (0.1550)  loss_classifier: 0.0459 (0.0585)  loss_box_reg: 0.0751 (0.0711)  loss_objectness: 0.0166 (0.0193)  loss_rpn_box_reg: 0.0039 (0.0061)  time: 0.1758  data: 0.0716  max mem: 3863\n",
      "Epoch: [2]  [ 6300/12099]  eta: 0:16:03  lr: 0.000300  loss: 0.1329 (0.1550)  loss_classifier: 0.0391 (0.0585)  loss_box_reg: 0.0551 (0.0712)  loss_objectness: 0.0076 (0.0193)  loss_rpn_box_reg: 0.0031 (0.0061)  time: 0.1602  data: 0.0622  max mem: 3863\n",
      "Epoch: [2]  [ 6400/12099]  eta: 0:15:47  lr: 0.000300  loss: 0.1290 (0.1549)  loss_classifier: 0.0405 (0.0584)  loss_box_reg: 0.0688 (0.0711)  loss_objectness: 0.0049 (0.0192)  loss_rpn_box_reg: 0.0018 (0.0061)  time: 0.1604  data: 0.0632  max mem: 3863\n",
      "Epoch: [2]  [ 6500/12099]  eta: 0:15:30  lr: 0.000300  loss: 0.1289 (0.1549)  loss_classifier: 0.0491 (0.0585)  loss_box_reg: 0.0628 (0.0711)  loss_objectness: 0.0071 (0.0192)  loss_rpn_box_reg: 0.0027 (0.0061)  time: 0.1616  data: 0.0644  max mem: 3863\n",
      "Epoch: [2]  [ 6600/12099]  eta: 0:15:13  lr: 0.000300  loss: 0.1248 (0.1549)  loss_classifier: 0.0398 (0.0584)  loss_box_reg: 0.0574 (0.0711)  loss_objectness: 0.0130 (0.0193)  loss_rpn_box_reg: 0.0041 (0.0061)  time: 0.1610  data: 0.0627  max mem: 3863\n",
      "Epoch: [2]  [ 6700/12099]  eta: 0:14:56  lr: 0.000300  loss: 0.1504 (0.1548)  loss_classifier: 0.0465 (0.0584)  loss_box_reg: 0.0511 (0.0711)  loss_objectness: 0.0127 (0.0192)  loss_rpn_box_reg: 0.0025 (0.0061)  time: 0.1585  data: 0.0616  max mem: 3863\n",
      "Epoch: [2]  [ 6800/12099]  eta: 0:14:39  lr: 0.000300  loss: 0.1385 (0.1548)  loss_classifier: 0.0561 (0.0584)  loss_box_reg: 0.0822 (0.0711)  loss_objectness: 0.0138 (0.0192)  loss_rpn_box_reg: 0.0054 (0.0061)  time: 0.1614  data: 0.0643  max mem: 3863\n",
      "Epoch: [2]  [ 6900/12099]  eta: 0:14:23  lr: 0.000300  loss: 0.1503 (0.1547)  loss_classifier: 0.0639 (0.0584)  loss_box_reg: 0.0632 (0.0711)  loss_objectness: 0.0094 (0.0192)  loss_rpn_box_reg: 0.0020 (0.0061)  time: 0.1606  data: 0.0634  max mem: 3863\n",
      "Epoch: [2]  [ 7000/12099]  eta: 0:14:06  lr: 0.000300  loss: 0.1329 (0.1547)  loss_classifier: 0.0510 (0.0584)  loss_box_reg: 0.0625 (0.0710)  loss_objectness: 0.0100 (0.0191)  loss_rpn_box_reg: 0.0032 (0.0061)  time: 0.1615  data: 0.0642  max mem: 3863\n",
      "Epoch: [2]  [ 7100/12099]  eta: 0:13:50  lr: 0.000300  loss: 0.1496 (0.1548)  loss_classifier: 0.0520 (0.0584)  loss_box_reg: 0.0758 (0.0710)  loss_objectness: 0.0141 (0.0192)  loss_rpn_box_reg: 0.0032 (0.0061)  time: 0.1724  data: 0.0700  max mem: 3863\n",
      "Epoch: [2]  [ 7200/12099]  eta: 0:13:33  lr: 0.000300  loss: 0.1335 (0.1549)  loss_classifier: 0.0508 (0.0585)  loss_box_reg: 0.0571 (0.0711)  loss_objectness: 0.0103 (0.0192)  loss_rpn_box_reg: 0.0017 (0.0061)  time: 0.1587  data: 0.0633  max mem: 3863\n",
      "Epoch: [2]  [ 7300/12099]  eta: 0:13:16  lr: 0.000300  loss: 0.1211 (0.1546)  loss_classifier: 0.0373 (0.0584)  loss_box_reg: 0.0617 (0.0709)  loss_objectness: 0.0094 (0.0192)  loss_rpn_box_reg: 0.0021 (0.0061)  time: 0.1587  data: 0.0623  max mem: 3863\n",
      "Epoch: [2]  [ 7400/12099]  eta: 0:12:59  lr: 0.000300  loss: 0.1144 (0.1546)  loss_classifier: 0.0430 (0.0584)  loss_box_reg: 0.0490 (0.0709)  loss_objectness: 0.0085 (0.0192)  loss_rpn_box_reg: 0.0028 (0.0061)  time: 0.1590  data: 0.0623  max mem: 3863\n",
      "Epoch: [2]  [ 7500/12099]  eta: 0:12:42  lr: 0.000300  loss: 0.1036 (0.1546)  loss_classifier: 0.0333 (0.0584)  loss_box_reg: 0.0629 (0.0709)  loss_objectness: 0.0064 (0.0192)  loss_rpn_box_reg: 0.0020 (0.0061)  time: 0.1616  data: 0.0638  max mem: 3863\n",
      "Epoch: [2]  [ 7600/12099]  eta: 0:12:26  lr: 0.000300  loss: 0.1450 (0.1546)  loss_classifier: 0.0495 (0.0583)  loss_box_reg: 0.0761 (0.0710)  loss_objectness: 0.0127 (0.0192)  loss_rpn_box_reg: 0.0021 (0.0061)  time: 0.1738  data: 0.0724  max mem: 3863\n",
      "Epoch: [2]  [ 7700/12099]  eta: 0:12:10  lr: 0.000300  loss: 0.1357 (0.1546)  loss_classifier: 0.0439 (0.0583)  loss_box_reg: 0.0720 (0.0709)  loss_objectness: 0.0125 (0.0192)  loss_rpn_box_reg: 0.0018 (0.0061)  time: 0.2014  data: 0.0899  max mem: 3863\n",
      "Epoch: [2]  [ 7800/12099]  eta: 0:11:53  lr: 0.000300  loss: 0.1569 (0.1546)  loss_classifier: 0.0599 (0.0583)  loss_box_reg: 0.0699 (0.0709)  loss_objectness: 0.0116 (0.0192)  loss_rpn_box_reg: 0.0027 (0.0061)  time: 0.1608  data: 0.0630  max mem: 3863\n",
      "Epoch: [2]  [ 7900/12099]  eta: 0:11:37  lr: 0.000300  loss: 0.1683 (0.1546)  loss_classifier: 0.0456 (0.0583)  loss_box_reg: 0.0791 (0.0709)  loss_objectness: 0.0127 (0.0192)  loss_rpn_box_reg: 0.0024 (0.0061)  time: 0.1884  data: 0.0789  max mem: 3863\n",
      "Epoch: [2]  [ 8000/12099]  eta: 0:11:22  lr: 0.000300  loss: 0.0966 (0.1545)  loss_classifier: 0.0379 (0.0583)  loss_box_reg: 0.0470 (0.0709)  loss_objectness: 0.0085 (0.0192)  loss_rpn_box_reg: 0.0016 (0.0061)  time: 0.1949  data: 0.0800  max mem: 3863\n",
      "Epoch: [2]  [ 8100/12099]  eta: 0:11:05  lr: 0.000300  loss: 0.1229 (0.1543)  loss_classifier: 0.0285 (0.0582)  loss_box_reg: 0.0660 (0.0708)  loss_objectness: 0.0105 (0.0192)  loss_rpn_box_reg: 0.0039 (0.0061)  time: 0.1688  data: 0.0671  max mem: 3863\n",
      "Epoch: [2]  [ 8200/12099]  eta: 0:10:49  lr: 0.000300  loss: 0.1294 (0.1542)  loss_classifier: 0.0514 (0.0582)  loss_box_reg: 0.0708 (0.0707)  loss_objectness: 0.0114 (0.0193)  loss_rpn_box_reg: 0.0016 (0.0061)  time: 0.1661  data: 0.0657  max mem: 3863\n",
      "Epoch: [2]  [ 8300/12099]  eta: 0:10:32  lr: 0.000300  loss: 0.1632 (0.1543)  loss_classifier: 0.0433 (0.0582)  loss_box_reg: 0.0838 (0.0708)  loss_objectness: 0.0144 (0.0193)  loss_rpn_box_reg: 0.0019 (0.0061)  time: 0.1723  data: 0.0677  max mem: 3863\n",
      "Epoch: [2]  [ 8400/12099]  eta: 0:10:15  lr: 0.000300  loss: 0.1252 (0.1541)  loss_classifier: 0.0408 (0.0581)  loss_box_reg: 0.0635 (0.0707)  loss_objectness: 0.0105 (0.0192)  loss_rpn_box_reg: 0.0028 (0.0061)  time: 0.1604  data: 0.0643  max mem: 3863\n",
      "Epoch: [2]  [ 8500/12099]  eta: 0:09:58  lr: 0.000300  loss: 0.1191 (0.1542)  loss_classifier: 0.0378 (0.0581)  loss_box_reg: 0.0672 (0.0707)  loss_objectness: 0.0097 (0.0193)  loss_rpn_box_reg: 0.0033 (0.0061)  time: 0.1597  data: 0.0635  max mem: 3863\n"
     ]
    },
    {
     "name": "stdout",
     "output_type": "stream",
     "text": [
      "Epoch: [2]  [ 8600/12099]  eta: 0:09:41  lr: 0.000300  loss: 0.1450 (0.1541)  loss_classifier: 0.0573 (0.0581)  loss_box_reg: 0.0753 (0.0707)  loss_objectness: 0.0098 (0.0193)  loss_rpn_box_reg: 0.0026 (0.0061)  time: 0.1620  data: 0.0655  max mem: 3863\n",
      "Epoch: [2]  [ 8700/12099]  eta: 0:09:25  lr: 0.000300  loss: 0.1168 (0.1539)  loss_classifier: 0.0358 (0.0580)  loss_box_reg: 0.0502 (0.0706)  loss_objectness: 0.0095 (0.0193)  loss_rpn_box_reg: 0.0020 (0.0061)  time: 0.1599  data: 0.0639  max mem: 3863\n",
      "Epoch: [2]  [ 8800/12099]  eta: 0:09:08  lr: 0.000300  loss: 0.1372 (0.1539)  loss_classifier: 0.0560 (0.0580)  loss_box_reg: 0.0614 (0.0706)  loss_objectness: 0.0076 (0.0193)  loss_rpn_box_reg: 0.0019 (0.0061)  time: 0.1771  data: 0.0733  max mem: 3863\n",
      "Epoch: [2]  [ 8900/12099]  eta: 0:08:51  lr: 0.000300  loss: 0.1475 (0.1540)  loss_classifier: 0.0492 (0.0580)  loss_box_reg: 0.0760 (0.0706)  loss_objectness: 0.0188 (0.0193)  loss_rpn_box_reg: 0.0052 (0.0061)  time: 0.1711  data: 0.0690  max mem: 3863\n",
      "Epoch: [2]  [ 9000/12099]  eta: 0:08:35  lr: 0.000300  loss: 0.1411 (0.1539)  loss_classifier: 0.0495 (0.0579)  loss_box_reg: 0.0715 (0.0705)  loss_objectness: 0.0215 (0.0194)  loss_rpn_box_reg: 0.0026 (0.0061)  time: 0.1685  data: 0.0685  max mem: 3863\n",
      "Epoch: [2]  [ 9100/12099]  eta: 0:08:18  lr: 0.000300  loss: 0.1311 (0.1539)  loss_classifier: 0.0335 (0.0579)  loss_box_reg: 0.0525 (0.0705)  loss_objectness: 0.0145 (0.0194)  loss_rpn_box_reg: 0.0021 (0.0061)  time: 0.1656  data: 0.0668  max mem: 3863\n",
      "Epoch: [2]  [ 9200/12099]  eta: 0:08:01  lr: 0.000300  loss: 0.1672 (0.1538)  loss_classifier: 0.0546 (0.0579)  loss_box_reg: 0.0814 (0.0705)  loss_objectness: 0.0089 (0.0193)  loss_rpn_box_reg: 0.0026 (0.0061)  time: 0.1645  data: 0.0653  max mem: 3863\n",
      "Epoch: [2]  [ 9300/12099]  eta: 0:07:44  lr: 0.000300  loss: 0.1512 (0.1538)  loss_classifier: 0.0461 (0.0579)  loss_box_reg: 0.0725 (0.0705)  loss_objectness: 0.0097 (0.0193)  loss_rpn_box_reg: 0.0014 (0.0061)  time: 0.1632  data: 0.0650  max mem: 3863\n",
      "Epoch: [2]  [ 9400/12099]  eta: 0:07:28  lr: 0.000300  loss: 0.1417 (0.1537)  loss_classifier: 0.0488 (0.0579)  loss_box_reg: 0.0671 (0.0705)  loss_objectness: 0.0086 (0.0193)  loss_rpn_box_reg: 0.0032 (0.0061)  time: 0.1613  data: 0.0646  max mem: 3863\n",
      "Epoch: [2]  [ 9500/12099]  eta: 0:07:11  lr: 0.000300  loss: 0.1876 (0.1538)  loss_classifier: 0.0677 (0.0579)  loss_box_reg: 0.0793 (0.0705)  loss_objectness: 0.0140 (0.0193)  loss_rpn_box_reg: 0.0037 (0.0061)  time: 0.1631  data: 0.0648  max mem: 3863\n",
      "Epoch: [2]  [ 9600/12099]  eta: 0:06:54  lr: 0.000300  loss: 0.1465 (0.1537)  loss_classifier: 0.0476 (0.0578)  loss_box_reg: 0.0685 (0.0705)  loss_objectness: 0.0103 (0.0193)  loss_rpn_box_reg: 0.0026 (0.0061)  time: 0.1618  data: 0.0642  max mem: 3863\n",
      "Epoch: [2]  [ 9700/12099]  eta: 0:06:38  lr: 0.000300  loss: 0.1176 (0.1537)  loss_classifier: 0.0417 (0.0578)  loss_box_reg: 0.0494 (0.0704)  loss_objectness: 0.0119 (0.0193)  loss_rpn_box_reg: 0.0028 (0.0061)  time: 0.1597  data: 0.0627  max mem: 3863\n",
      "Epoch: [2]  [ 9800/12099]  eta: 0:06:21  lr: 0.000300  loss: 0.1419 (0.1537)  loss_classifier: 0.0398 (0.0579)  loss_box_reg: 0.0523 (0.0704)  loss_objectness: 0.0132 (0.0193)  loss_rpn_box_reg: 0.0027 (0.0061)  time: 0.1627  data: 0.0642  max mem: 3863\n",
      "Epoch: [2]  [ 9900/12099]  eta: 0:06:04  lr: 0.000300  loss: 0.1415 (0.1536)  loss_classifier: 0.0621 (0.0578)  loss_box_reg: 0.0663 (0.0704)  loss_objectness: 0.0155 (0.0193)  loss_rpn_box_reg: 0.0022 (0.0061)  time: 0.1653  data: 0.0668  max mem: 3863\n",
      "Epoch: [2]  [10000/12099]  eta: 0:05:48  lr: 0.000300  loss: 0.1247 (0.1536)  loss_classifier: 0.0433 (0.0578)  loss_box_reg: 0.0633 (0.0704)  loss_objectness: 0.0079 (0.0193)  loss_rpn_box_reg: 0.0015 (0.0061)  time: 0.1588  data: 0.0627  max mem: 3863\n",
      "Epoch: [2]  [10100/12099]  eta: 0:05:31  lr: 0.000300  loss: 0.1405 (0.1535)  loss_classifier: 0.0477 (0.0578)  loss_box_reg: 0.0745 (0.0704)  loss_objectness: 0.0083 (0.0193)  loss_rpn_box_reg: 0.0023 (0.0061)  time: 0.1652  data: 0.0656  max mem: 3863\n",
      "Epoch: [2]  [10200/12099]  eta: 0:05:14  lr: 0.000300  loss: 0.1469 (0.1536)  loss_classifier: 0.0531 (0.0578)  loss_box_reg: 0.0753 (0.0704)  loss_objectness: 0.0150 (0.0193)  loss_rpn_box_reg: 0.0028 (0.0061)  time: 0.1637  data: 0.0654  max mem: 3863\n",
      "Epoch: [2]  [10300/12099]  eta: 0:04:58  lr: 0.000300  loss: 0.1664 (0.1536)  loss_classifier: 0.0489 (0.0578)  loss_box_reg: 0.0699 (0.0705)  loss_objectness: 0.0146 (0.0193)  loss_rpn_box_reg: 0.0027 (0.0061)  time: 0.1649  data: 0.0669  max mem: 3863\n",
      "Epoch: [2]  [10400/12099]  eta: 0:04:41  lr: 0.000300  loss: 0.1461 (0.1535)  loss_classifier: 0.0530 (0.0577)  loss_box_reg: 0.0688 (0.0704)  loss_objectness: 0.0120 (0.0192)  loss_rpn_box_reg: 0.0020 (0.0061)  time: 0.1659  data: 0.0665  max mem: 3863\n",
      "Epoch: [2]  [10500/12099]  eta: 0:04:24  lr: 0.000300  loss: 0.1495 (0.1534)  loss_classifier: 0.0586 (0.0577)  loss_box_reg: 0.0650 (0.0704)  loss_objectness: 0.0111 (0.0192)  loss_rpn_box_reg: 0.0017 (0.0061)  time: 0.1575  data: 0.0608  max mem: 3863\n",
      "Epoch: [2]  [10600/12099]  eta: 0:04:08  lr: 0.000300  loss: 0.1405 (0.1533)  loss_classifier: 0.0391 (0.0577)  loss_box_reg: 0.0568 (0.0704)  loss_objectness: 0.0126 (0.0192)  loss_rpn_box_reg: 0.0029 (0.0061)  time: 0.1589  data: 0.0623  max mem: 3863\n",
      "Epoch: [2]  [10700/12099]  eta: 0:03:51  lr: 0.000300  loss: 0.1251 (0.1533)  loss_classifier: 0.0557 (0.0577)  loss_box_reg: 0.0654 (0.0703)  loss_objectness: 0.0099 (0.0192)  loss_rpn_box_reg: 0.0018 (0.0060)  time: 0.1574  data: 0.0614  max mem: 3863\n",
      "Epoch: [2]  [10800/12099]  eta: 0:03:35  lr: 0.000300  loss: 0.1546 (0.1533)  loss_classifier: 0.0510 (0.0577)  loss_box_reg: 0.0750 (0.0704)  loss_objectness: 0.0107 (0.0192)  loss_rpn_box_reg: 0.0032 (0.0061)  time: 0.1592  data: 0.0633  max mem: 3863\n",
      "Epoch: [2]  [10900/12099]  eta: 0:03:18  lr: 0.000300  loss: 0.1120 (0.1532)  loss_classifier: 0.0415 (0.0577)  loss_box_reg: 0.0547 (0.0703)  loss_objectness: 0.0112 (0.0192)  loss_rpn_box_reg: 0.0011 (0.0060)  time: 0.1598  data: 0.0624  max mem: 3863\n",
      "Epoch: [2]  [11000/12099]  eta: 0:03:01  lr: 0.000300  loss: 0.1288 (0.1533)  loss_classifier: 0.0548 (0.0577)  loss_box_reg: 0.0623 (0.0704)  loss_objectness: 0.0108 (0.0192)  loss_rpn_box_reg: 0.0025 (0.0061)  time: 0.1713  data: 0.0709  max mem: 3863\n",
      "Epoch: [2]  [11100/12099]  eta: 0:02:45  lr: 0.000300  loss: 0.1529 (0.1533)  loss_classifier: 0.0444 (0.0577)  loss_box_reg: 0.0620 (0.0704)  loss_objectness: 0.0158 (0.0191)  loss_rpn_box_reg: 0.0066 (0.0061)  time: 0.1648  data: 0.0659  max mem: 3863\n",
      "Epoch: [2]  [11200/12099]  eta: 0:02:28  lr: 0.000300  loss: 0.1282 (0.1533)  loss_classifier: 0.0463 (0.0577)  loss_box_reg: 0.0657 (0.0704)  loss_objectness: 0.0090 (0.0192)  loss_rpn_box_reg: 0.0025 (0.0061)  time: 0.1623  data: 0.0649  max mem: 3863\n",
      "Epoch: [2]  [11300/12099]  eta: 0:02:12  lr: 0.000300  loss: 0.1278 (0.1534)  loss_classifier: 0.0503 (0.0577)  loss_box_reg: 0.0605 (0.0704)  loss_objectness: 0.0126 (0.0192)  loss_rpn_box_reg: 0.0020 (0.0060)  time: 0.1662  data: 0.0678  max mem: 3863\n",
      "Epoch: [2]  [11400/12099]  eta: 0:01:55  lr: 0.000300  loss: 0.1259 (0.1533)  loss_classifier: 0.0444 (0.0577)  loss_box_reg: 0.0664 (0.0704)  loss_objectness: 0.0084 (0.0192)  loss_rpn_box_reg: 0.0019 (0.0060)  time: 0.1622  data: 0.0660  max mem: 3863\n",
      "Epoch: [2]  [11500/12099]  eta: 0:01:39  lr: 0.000300  loss: 0.1468 (0.1533)  loss_classifier: 0.0589 (0.0577)  loss_box_reg: 0.0538 (0.0704)  loss_objectness: 0.0148 (0.0192)  loss_rpn_box_reg: 0.0019 (0.0060)  time: 0.1618  data: 0.0652  max mem: 3863\n",
      "Epoch: [2]  [11600/12099]  eta: 0:01:22  lr: 0.000300  loss: 0.1356 (0.1532)  loss_classifier: 0.0522 (0.0577)  loss_box_reg: 0.0683 (0.0704)  loss_objectness: 0.0095 (0.0191)  loss_rpn_box_reg: 0.0013 (0.0060)  time: 0.1642  data: 0.0662  max mem: 3863\n",
      "Epoch: [2]  [11700/12099]  eta: 0:01:05  lr: 0.000300  loss: 0.1316 (0.1532)  loss_classifier: 0.0461 (0.0577)  loss_box_reg: 0.0609 (0.0704)  loss_objectness: 0.0097 (0.0191)  loss_rpn_box_reg: 0.0018 (0.0060)  time: 0.1646  data: 0.0663  max mem: 3863\n",
      "Epoch: [2]  [11800/12099]  eta: 0:00:49  lr: 0.000300  loss: 0.1632 (0.1533)  loss_classifier: 0.0532 (0.0578)  loss_box_reg: 0.0714 (0.0704)  loss_objectness: 0.0166 (0.0191)  loss_rpn_box_reg: 0.0025 (0.0060)  time: 0.1651  data: 0.0672  max mem: 3863\n"
     ]
    },
    {
     "name": "stdout",
     "output_type": "stream",
     "text": [
      "Epoch: [2]  [11900/12099]  eta: 0:00:32  lr: 0.000300  loss: 0.1229 (0.1531)  loss_classifier: 0.0322 (0.0577)  loss_box_reg: 0.0327 (0.0703)  loss_objectness: 0.0133 (0.0191)  loss_rpn_box_reg: 0.0022 (0.0060)  time: 0.1641  data: 0.0659  max mem: 3863\n",
      "Epoch: [2]  [12000/12099]  eta: 0:00:16  lr: 0.000300  loss: 0.1704 (0.1532)  loss_classifier: 0.0576 (0.0577)  loss_box_reg: 0.0623 (0.0703)  loss_objectness: 0.0118 (0.0191)  loss_rpn_box_reg: 0.0020 (0.0060)  time: 0.1592  data: 0.0625  max mem: 3863\n",
      "Epoch: [2]  [12098/12099]  eta: 0:00:00  lr: 0.000300  loss: 0.1626 (0.1532)  loss_classifier: 0.0507 (0.0577)  loss_box_reg: 0.0749 (0.0704)  loss_objectness: 0.0145 (0.0191)  loss_rpn_box_reg: 0.0037 (0.0060)  time: 0.1601  data: 0.0636  max mem: 3863\n",
      "Epoch: [2] Total time: 0:33:19 (0.1652 s / it)\n",
      "Epoch: [3]  [    0/12099]  eta: 0:31:45  lr: 0.000300  loss: 0.2013 (0.2013)  loss_classifier: 0.0821 (0.0821)  loss_box_reg: 0.0968 (0.0968)  loss_objectness: 0.0162 (0.0162)  loss_rpn_box_reg: 0.0061 (0.0061)  time: 0.1575  data: 0.0625  max mem: 3863\n",
      "Epoch: [3]  [  100/12099]  eta: 0:31:59  lr: 0.000300  loss: 0.1144 (0.1640)  loss_classifier: 0.0390 (0.0605)  loss_box_reg: 0.0701 (0.0729)  loss_objectness: 0.0075 (0.0249)  loss_rpn_box_reg: 0.0022 (0.0058)  time: 0.1594  data: 0.0639  max mem: 3863\n",
      "Epoch: [3]  [  200/12099]  eta: 0:31:56  lr: 0.000300  loss: 0.1316 (0.1509)  loss_classifier: 0.0408 (0.0562)  loss_box_reg: 0.0678 (0.0683)  loss_objectness: 0.0104 (0.0210)  loss_rpn_box_reg: 0.0033 (0.0055)  time: 0.1662  data: 0.0666  max mem: 3863\n",
      "Epoch: [3]  [  300/12099]  eta: 0:31:35  lr: 0.000300  loss: 0.1372 (0.1554)  loss_classifier: 0.0459 (0.0584)  loss_box_reg: 0.0702 (0.0718)  loss_objectness: 0.0109 (0.0200)  loss_rpn_box_reg: 0.0026 (0.0053)  time: 0.1596  data: 0.0623  max mem: 3863\n",
      "Epoch: [3]  [  400/12099]  eta: 0:31:16  lr: 0.000300  loss: 0.1572 (0.1557)  loss_classifier: 0.0572 (0.0583)  loss_box_reg: 0.0598 (0.0708)  loss_objectness: 0.0116 (0.0207)  loss_rpn_box_reg: 0.0024 (0.0059)  time: 0.1623  data: 0.0648  max mem: 3863\n",
      "Epoch: [3]  [  500/12099]  eta: 0:31:10  lr: 0.000300  loss: 0.1103 (0.1537)  loss_classifier: 0.0432 (0.0575)  loss_box_reg: 0.0427 (0.0702)  loss_objectness: 0.0101 (0.0201)  loss_rpn_box_reg: 0.0020 (0.0058)  time: 0.1608  data: 0.0645  max mem: 3863\n",
      "Epoch: [3]  [  600/12099]  eta: 0:31:00  lr: 0.000300  loss: 0.1414 (0.1520)  loss_classifier: 0.0502 (0.0570)  loss_box_reg: 0.0800 (0.0700)  loss_objectness: 0.0107 (0.0192)  loss_rpn_box_reg: 0.0017 (0.0058)  time: 0.1605  data: 0.0645  max mem: 3863\n",
      "Epoch: [3]  [  700/12099]  eta: 0:30:47  lr: 0.000300  loss: 0.1212 (0.1523)  loss_classifier: 0.0481 (0.0571)  loss_box_reg: 0.0631 (0.0703)  loss_objectness: 0.0097 (0.0190)  loss_rpn_box_reg: 0.0031 (0.0059)  time: 0.1619  data: 0.0652  max mem: 3863\n",
      "Epoch: [3]  [  800/12099]  eta: 0:30:35  lr: 0.000300  loss: 0.1163 (0.1518)  loss_classifier: 0.0441 (0.0571)  loss_box_reg: 0.0584 (0.0696)  loss_objectness: 0.0088 (0.0191)  loss_rpn_box_reg: 0.0022 (0.0060)  time: 0.1590  data: 0.0631  max mem: 3863\n",
      "Epoch: [3]  [  900/12099]  eta: 0:30:14  lr: 0.000300  loss: 0.1611 (0.1523)  loss_classifier: 0.0614 (0.0574)  loss_box_reg: 0.0764 (0.0699)  loss_objectness: 0.0114 (0.0191)  loss_rpn_box_reg: 0.0018 (0.0059)  time: 0.1589  data: 0.0625  max mem: 3863\n",
      "Epoch: [3]  [ 1000/12099]  eta: 0:29:57  lr: 0.000300  loss: 0.1324 (0.1525)  loss_classifier: 0.0406 (0.0576)  loss_box_reg: 0.0628 (0.0699)  loss_objectness: 0.0076 (0.0190)  loss_rpn_box_reg: 0.0021 (0.0060)  time: 0.1594  data: 0.0633  max mem: 3863\n",
      "Epoch: [3]  [ 1100/12099]  eta: 0:29:38  lr: 0.000300  loss: 0.1308 (0.1520)  loss_classifier: 0.0468 (0.0574)  loss_box_reg: 0.0634 (0.0697)  loss_objectness: 0.0102 (0.0188)  loss_rpn_box_reg: 0.0014 (0.0061)  time: 0.1640  data: 0.0657  max mem: 3863\n",
      "Epoch: [3]  [ 1200/12099]  eta: 0:29:25  lr: 0.000300  loss: 0.1447 (0.1520)  loss_classifier: 0.0480 (0.0576)  loss_box_reg: 0.0719 (0.0698)  loss_objectness: 0.0118 (0.0186)  loss_rpn_box_reg: 0.0024 (0.0060)  time: 0.1627  data: 0.0660  max mem: 3863\n",
      "Epoch: [3]  [ 1300/12099]  eta: 0:29:08  lr: 0.000300  loss: 0.1574 (0.1525)  loss_classifier: 0.0555 (0.0575)  loss_box_reg: 0.0757 (0.0703)  loss_objectness: 0.0113 (0.0187)  loss_rpn_box_reg: 0.0036 (0.0060)  time: 0.1621  data: 0.0647  max mem: 3863\n",
      "Epoch: [3]  [ 1400/12099]  eta: 0:28:52  lr: 0.000300  loss: 0.1192 (0.1521)  loss_classifier: 0.0476 (0.0575)  loss_box_reg: 0.0571 (0.0700)  loss_objectness: 0.0076 (0.0185)  loss_rpn_box_reg: 0.0019 (0.0060)  time: 0.1702  data: 0.0699  max mem: 3863\n",
      "Epoch: [3]  [ 1500/12099]  eta: 0:28:37  lr: 0.000300  loss: 0.1554 (0.1521)  loss_classifier: 0.0501 (0.0574)  loss_box_reg: 0.0893 (0.0701)  loss_objectness: 0.0128 (0.0184)  loss_rpn_box_reg: 0.0038 (0.0061)  time: 0.1620  data: 0.0656  max mem: 3863\n",
      "Epoch: [3]  [ 1600/12099]  eta: 0:28:22  lr: 0.000300  loss: 0.1532 (0.1521)  loss_classifier: 0.0614 (0.0575)  loss_box_reg: 0.0777 (0.0703)  loss_objectness: 0.0134 (0.0183)  loss_rpn_box_reg: 0.0027 (0.0060)  time: 0.1642  data: 0.0675  max mem: 3863\n",
      "Epoch: [3]  [ 1700/12099]  eta: 0:28:04  lr: 0.000300  loss: 0.1309 (0.1521)  loss_classifier: 0.0412 (0.0575)  loss_box_reg: 0.0678 (0.0704)  loss_objectness: 0.0062 (0.0183)  loss_rpn_box_reg: 0.0016 (0.0060)  time: 0.1584  data: 0.0622  max mem: 3863\n",
      "Epoch: [3]  [ 1800/12099]  eta: 0:27:47  lr: 0.000300  loss: 0.1055 (0.1516)  loss_classifier: 0.0344 (0.0572)  loss_box_reg: 0.0552 (0.0701)  loss_objectness: 0.0076 (0.0183)  loss_rpn_box_reg: 0.0014 (0.0060)  time: 0.1587  data: 0.0625  max mem: 3863\n",
      "Epoch: [3]  [ 1900/12099]  eta: 0:27:32  lr: 0.000300  loss: 0.1133 (0.1513)  loss_classifier: 0.0338 (0.0571)  loss_box_reg: 0.0566 (0.0700)  loss_objectness: 0.0094 (0.0181)  loss_rpn_box_reg: 0.0017 (0.0061)  time: 0.1610  data: 0.0642  max mem: 3863\n",
      "Epoch: [3]  [ 2000/12099]  eta: 0:27:14  lr: 0.000300  loss: 0.1434 (0.1517)  loss_classifier: 0.0514 (0.0571)  loss_box_reg: 0.0720 (0.0703)  loss_objectness: 0.0113 (0.0182)  loss_rpn_box_reg: 0.0025 (0.0060)  time: 0.1598  data: 0.0637  max mem: 3863\n",
      "Epoch: [3]  [ 2100/12099]  eta: 0:26:59  lr: 0.000300  loss: 0.1484 (0.1515)  loss_classifier: 0.0416 (0.0571)  loss_box_reg: 0.0719 (0.0704)  loss_objectness: 0.0090 (0.0180)  loss_rpn_box_reg: 0.0027 (0.0060)  time: 0.1589  data: 0.0627  max mem: 3863\n",
      "Epoch: [3]  [ 2200/12099]  eta: 0:26:42  lr: 0.000300  loss: 0.1449 (0.1517)  loss_classifier: 0.0450 (0.0571)  loss_box_reg: 0.0758 (0.0707)  loss_objectness: 0.0103 (0.0179)  loss_rpn_box_reg: 0.0030 (0.0060)  time: 0.1599  data: 0.0632  max mem: 3863\n",
      "Epoch: [3]  [ 2300/12099]  eta: 0:26:25  lr: 0.000300  loss: 0.1355 (0.1519)  loss_classifier: 0.0408 (0.0572)  loss_box_reg: 0.0680 (0.0708)  loss_objectness: 0.0101 (0.0180)  loss_rpn_box_reg: 0.0031 (0.0060)  time: 0.1597  data: 0.0635  max mem: 3863\n",
      "Epoch: [3]  [ 2400/12099]  eta: 0:26:09  lr: 0.000300  loss: 0.1299 (0.1512)  loss_classifier: 0.0487 (0.0569)  loss_box_reg: 0.0484 (0.0704)  loss_objectness: 0.0086 (0.0179)  loss_rpn_box_reg: 0.0018 (0.0060)  time: 0.1633  data: 0.0653  max mem: 3863\n",
      "Epoch: [3]  [ 2500/12099]  eta: 0:25:54  lr: 0.000300  loss: 0.1155 (0.1510)  loss_classifier: 0.0417 (0.0567)  loss_box_reg: 0.0584 (0.0704)  loss_objectness: 0.0078 (0.0178)  loss_rpn_box_reg: 0.0018 (0.0061)  time: 0.1607  data: 0.0640  max mem: 3863\n",
      "Epoch: [3]  [ 2600/12099]  eta: 0:25:38  lr: 0.000300  loss: 0.1203 (0.1506)  loss_classifier: 0.0457 (0.0566)  loss_box_reg: 0.0513 (0.0703)  loss_objectness: 0.0197 (0.0177)  loss_rpn_box_reg: 0.0015 (0.0061)  time: 0.1596  data: 0.0633  max mem: 3863\n",
      "Epoch: [3]  [ 2700/12099]  eta: 0:25:22  lr: 0.000300  loss: 0.1482 (0.1508)  loss_classifier: 0.0578 (0.0567)  loss_box_reg: 0.0678 (0.0703)  loss_objectness: 0.0096 (0.0178)  loss_rpn_box_reg: 0.0031 (0.0060)  time: 0.1611  data: 0.0652  max mem: 3863\n",
      "Epoch: [3]  [ 2800/12099]  eta: 0:25:05  lr: 0.000300  loss: 0.1777 (0.1514)  loss_classifier: 0.0469 (0.0570)  loss_box_reg: 0.0855 (0.0705)  loss_objectness: 0.0143 (0.0180)  loss_rpn_box_reg: 0.0021 (0.0060)  time: 0.1655  data: 0.0664  max mem: 3863\n",
      "Epoch: [3]  [ 2900/12099]  eta: 0:24:49  lr: 0.000300  loss: 0.1455 (0.1515)  loss_classifier: 0.0510 (0.0569)  loss_box_reg: 0.0746 (0.0705)  loss_objectness: 0.0162 (0.0181)  loss_rpn_box_reg: 0.0037 (0.0060)  time: 0.1604  data: 0.0640  max mem: 3863\n"
     ]
    },
    {
     "name": "stdout",
     "output_type": "stream",
     "text": [
      "Epoch: [3]  [ 3000/12099]  eta: 0:24:32  lr: 0.000300  loss: 0.1409 (0.1512)  loss_classifier: 0.0490 (0.0567)  loss_box_reg: 0.0738 (0.0704)  loss_objectness: 0.0100 (0.0180)  loss_rpn_box_reg: 0.0024 (0.0060)  time: 0.1593  data: 0.0630  max mem: 3863\n",
      "Epoch: [3]  [ 3100/12099]  eta: 0:24:15  lr: 0.000300  loss: 0.1282 (0.1512)  loss_classifier: 0.0406 (0.0568)  loss_box_reg: 0.0626 (0.0704)  loss_objectness: 0.0096 (0.0180)  loss_rpn_box_reg: 0.0018 (0.0060)  time: 0.1620  data: 0.0646  max mem: 3863\n",
      "Epoch: [3]  [ 3200/12099]  eta: 0:23:59  lr: 0.000300  loss: 0.1253 (0.1511)  loss_classifier: 0.0406 (0.0567)  loss_box_reg: 0.0604 (0.0704)  loss_objectness: 0.0094 (0.0180)  loss_rpn_box_reg: 0.0020 (0.0060)  time: 0.1589  data: 0.0630  max mem: 3863\n",
      "Epoch: [3]  [ 3300/12099]  eta: 0:23:43  lr: 0.000300  loss: 0.1533 (0.1510)  loss_classifier: 0.0549 (0.0567)  loss_box_reg: 0.0678 (0.0704)  loss_objectness: 0.0132 (0.0180)  loss_rpn_box_reg: 0.0021 (0.0060)  time: 0.1611  data: 0.0644  max mem: 3863\n",
      "Epoch: [3]  [ 3400/12099]  eta: 0:23:26  lr: 0.000300  loss: 0.1189 (0.1509)  loss_classifier: 0.0484 (0.0566)  loss_box_reg: 0.0617 (0.0703)  loss_objectness: 0.0099 (0.0180)  loss_rpn_box_reg: 0.0029 (0.0060)  time: 0.1595  data: 0.0635  max mem: 3863\n",
      "Epoch: [3]  [ 3500/12099]  eta: 0:23:10  lr: 0.000300  loss: 0.1416 (0.1512)  loss_classifier: 0.0467 (0.0567)  loss_box_reg: 0.0626 (0.0703)  loss_objectness: 0.0122 (0.0181)  loss_rpn_box_reg: 0.0023 (0.0060)  time: 0.1656  data: 0.0656  max mem: 3863\n",
      "Epoch: [3]  [ 3600/12099]  eta: 0:22:55  lr: 0.000300  loss: 0.1382 (0.1511)  loss_classifier: 0.0434 (0.0566)  loss_box_reg: 0.0441 (0.0703)  loss_objectness: 0.0122 (0.0182)  loss_rpn_box_reg: 0.0030 (0.0060)  time: 0.1645  data: 0.0658  max mem: 3863\n",
      "Epoch: [3]  [ 3700/12099]  eta: 0:22:41  lr: 0.000300  loss: 0.1217 (0.1508)  loss_classifier: 0.0477 (0.0565)  loss_box_reg: 0.0518 (0.0701)  loss_objectness: 0.0111 (0.0181)  loss_rpn_box_reg: 0.0024 (0.0060)  time: 0.1613  data: 0.0646  max mem: 3863\n",
      "Epoch: [3]  [ 3800/12099]  eta: 0:22:26  lr: 0.000300  loss: 0.1063 (0.1507)  loss_classifier: 0.0298 (0.0564)  loss_box_reg: 0.0617 (0.0702)  loss_objectness: 0.0098 (0.0181)  loss_rpn_box_reg: 0.0015 (0.0060)  time: 0.1725  data: 0.0705  max mem: 3863\n",
      "Epoch: [3]  [ 3900/12099]  eta: 0:22:10  lr: 0.000300  loss: 0.1854 (0.1509)  loss_classifier: 0.0576 (0.0565)  loss_box_reg: 0.0594 (0.0703)  loss_objectness: 0.0248 (0.0182)  loss_rpn_box_reg: 0.0064 (0.0060)  time: 0.1605  data: 0.0635  max mem: 3863\n",
      "Epoch: [3]  [ 4000/12099]  eta: 0:21:53  lr: 0.000300  loss: 0.1336 (0.1511)  loss_classifier: 0.0400 (0.0565)  loss_box_reg: 0.0613 (0.0703)  loss_objectness: 0.0087 (0.0182)  loss_rpn_box_reg: 0.0030 (0.0060)  time: 0.1602  data: 0.0640  max mem: 3863\n",
      "Epoch: [3]  [ 4100/12099]  eta: 0:21:38  lr: 0.000300  loss: 0.1284 (0.1510)  loss_classifier: 0.0392 (0.0565)  loss_box_reg: 0.0515 (0.0703)  loss_objectness: 0.0078 (0.0182)  loss_rpn_box_reg: 0.0014 (0.0061)  time: 0.1672  data: 0.0680  max mem: 3863\n",
      "Epoch: [3]  [ 4200/12099]  eta: 0:21:23  lr: 0.000300  loss: 0.1072 (0.1510)  loss_classifier: 0.0429 (0.0565)  loss_box_reg: 0.0459 (0.0703)  loss_objectness: 0.0104 (0.0182)  loss_rpn_box_reg: 0.0026 (0.0060)  time: 0.1684  data: 0.0674  max mem: 3863\n",
      "Epoch: [3]  [ 4300/12099]  eta: 0:21:07  lr: 0.000300  loss: 0.1072 (0.1509)  loss_classifier: 0.0350 (0.0564)  loss_box_reg: 0.0645 (0.0702)  loss_objectness: 0.0073 (0.0182)  loss_rpn_box_reg: 0.0013 (0.0060)  time: 0.1750  data: 0.0706  max mem: 3863\n",
      "Epoch: [3]  [ 4400/12099]  eta: 0:20:51  lr: 0.000300  loss: 0.1504 (0.1511)  loss_classifier: 0.0516 (0.0565)  loss_box_reg: 0.0738 (0.0702)  loss_objectness: 0.0135 (0.0183)  loss_rpn_box_reg: 0.0035 (0.0060)  time: 0.1598  data: 0.0639  max mem: 3863\n",
      "Epoch: [3]  [ 4500/12099]  eta: 0:20:35  lr: 0.000300  loss: 0.1114 (0.1510)  loss_classifier: 0.0321 (0.0565)  loss_box_reg: 0.0624 (0.0702)  loss_objectness: 0.0076 (0.0183)  loss_rpn_box_reg: 0.0020 (0.0061)  time: 0.1630  data: 0.0654  max mem: 3863\n",
      "Epoch: [3]  [ 4600/12099]  eta: 0:20:19  lr: 0.000300  loss: 0.1450 (0.1515)  loss_classifier: 0.0563 (0.0566)  loss_box_reg: 0.0557 (0.0705)  loss_objectness: 0.0272 (0.0183)  loss_rpn_box_reg: 0.0049 (0.0061)  time: 0.1616  data: 0.0655  max mem: 3863\n",
      "Epoch: [3]  [ 4700/12099]  eta: 0:20:03  lr: 0.000300  loss: 0.1150 (0.1514)  loss_classifier: 0.0410 (0.0565)  loss_box_reg: 0.0526 (0.0704)  loss_objectness: 0.0095 (0.0183)  loss_rpn_box_reg: 0.0016 (0.0061)  time: 0.1632  data: 0.0659  max mem: 3863\n",
      "Epoch: [3]  [ 4800/12099]  eta: 0:19:46  lr: 0.000300  loss: 0.1773 (0.1514)  loss_classifier: 0.0747 (0.0566)  loss_box_reg: 0.0762 (0.0705)  loss_objectness: 0.0158 (0.0183)  loss_rpn_box_reg: 0.0025 (0.0061)  time: 0.1624  data: 0.0646  max mem: 3863\n",
      "Epoch: [3]  [ 4900/12099]  eta: 0:19:30  lr: 0.000300  loss: 0.1574 (0.1515)  loss_classifier: 0.0504 (0.0565)  loss_box_reg: 0.0724 (0.0705)  loss_objectness: 0.0124 (0.0184)  loss_rpn_box_reg: 0.0024 (0.0061)  time: 0.1641  data: 0.0659  max mem: 3863\n",
      "Epoch: [3]  [ 5000/12099]  eta: 0:19:14  lr: 0.000300  loss: 0.1248 (0.1516)  loss_classifier: 0.0493 (0.0566)  loss_box_reg: 0.0651 (0.0706)  loss_objectness: 0.0094 (0.0183)  loss_rpn_box_reg: 0.0032 (0.0061)  time: 0.1589  data: 0.0626  max mem: 3863\n",
      "Epoch: [3]  [ 5100/12099]  eta: 0:18:57  lr: 0.000300  loss: 0.1518 (0.1517)  loss_classifier: 0.0522 (0.0566)  loss_box_reg: 0.0725 (0.0706)  loss_objectness: 0.0140 (0.0184)  loss_rpn_box_reg: 0.0031 (0.0061)  time: 0.1647  data: 0.0670  max mem: 3863\n",
      "Epoch: [3]  [ 5200/12099]  eta: 0:18:41  lr: 0.000300  loss: 0.1276 (0.1515)  loss_classifier: 0.0584 (0.0566)  loss_box_reg: 0.0563 (0.0705)  loss_objectness: 0.0102 (0.0183)  loss_rpn_box_reg: 0.0021 (0.0061)  time: 0.1642  data: 0.0660  max mem: 3863\n",
      "Epoch: [3]  [ 5300/12099]  eta: 0:18:24  lr: 0.000300  loss: 0.1234 (0.1515)  loss_classifier: 0.0402 (0.0566)  loss_box_reg: 0.0603 (0.0706)  loss_objectness: 0.0107 (0.0183)  loss_rpn_box_reg: 0.0040 (0.0061)  time: 0.1583  data: 0.0624  max mem: 3863\n",
      "Epoch: [3]  [ 5400/12099]  eta: 0:18:08  lr: 0.000300  loss: 0.1162 (0.1515)  loss_classifier: 0.0371 (0.0566)  loss_box_reg: 0.0589 (0.0706)  loss_objectness: 0.0097 (0.0183)  loss_rpn_box_reg: 0.0018 (0.0061)  time: 0.1594  data: 0.0630  max mem: 3863\n",
      "Epoch: [3]  [ 5500/12099]  eta: 0:17:51  lr: 0.000300  loss: 0.1646 (0.1516)  loss_classifier: 0.0557 (0.0566)  loss_box_reg: 0.0853 (0.0707)  loss_objectness: 0.0095 (0.0182)  loss_rpn_box_reg: 0.0020 (0.0060)  time: 0.1586  data: 0.0627  max mem: 3863\n",
      "Epoch: [3]  [ 5600/12099]  eta: 0:17:35  lr: 0.000300  loss: 0.1448 (0.1517)  loss_classifier: 0.0508 (0.0567)  loss_box_reg: 0.0818 (0.0707)  loss_objectness: 0.0122 (0.0183)  loss_rpn_box_reg: 0.0034 (0.0060)  time: 0.1653  data: 0.0661  max mem: 3863\n",
      "Epoch: [3]  [ 5700/12099]  eta: 0:17:19  lr: 0.000300  loss: 0.1280 (0.1517)  loss_classifier: 0.0486 (0.0567)  loss_box_reg: 0.0758 (0.0707)  loss_objectness: 0.0120 (0.0183)  loss_rpn_box_reg: 0.0027 (0.0060)  time: 0.1603  data: 0.0642  max mem: 3863\n",
      "Epoch: [3]  [ 5800/12099]  eta: 0:17:02  lr: 0.000300  loss: 0.1340 (0.1518)  loss_classifier: 0.0370 (0.0567)  loss_box_reg: 0.0662 (0.0708)  loss_objectness: 0.0119 (0.0183)  loss_rpn_box_reg: 0.0026 (0.0060)  time: 0.1631  data: 0.0663  max mem: 3863\n",
      "Epoch: [3]  [ 5900/12099]  eta: 0:16:46  lr: 0.000300  loss: 0.1568 (0.1518)  loss_classifier: 0.0577 (0.0567)  loss_box_reg: 0.0759 (0.0709)  loss_objectness: 0.0141 (0.0182)  loss_rpn_box_reg: 0.0024 (0.0060)  time: 0.1597  data: 0.0630  max mem: 3863\n",
      "Epoch: [3]  [ 6000/12099]  eta: 0:16:29  lr: 0.000300  loss: 0.1409 (0.1519)  loss_classifier: 0.0474 (0.0567)  loss_box_reg: 0.0678 (0.0709)  loss_objectness: 0.0103 (0.0183)  loss_rpn_box_reg: 0.0031 (0.0060)  time: 0.1650  data: 0.0667  max mem: 3863\n",
      "Epoch: [3]  [ 6100/12099]  eta: 0:16:13  lr: 0.000300  loss: 0.1193 (0.1519)  loss_classifier: 0.0396 (0.0567)  loss_box_reg: 0.0609 (0.0710)  loss_objectness: 0.0081 (0.0183)  loss_rpn_box_reg: 0.0035 (0.0060)  time: 0.1596  data: 0.0638  max mem: 3863\n",
      "Epoch: [3]  [ 6200/12099]  eta: 0:15:57  lr: 0.000300  loss: 0.1725 (0.1519)  loss_classifier: 0.0761 (0.0567)  loss_box_reg: 0.0717 (0.0709)  loss_objectness: 0.0146 (0.0183)  loss_rpn_box_reg: 0.0015 (0.0060)  time: 0.1595  data: 0.0628  max mem: 3863\n"
     ]
    },
    {
     "name": "stdout",
     "output_type": "stream",
     "text": [
      "Epoch: [3]  [ 6300/12099]  eta: 0:15:40  lr: 0.000300  loss: 0.1310 (0.1519)  loss_classifier: 0.0517 (0.0567)  loss_box_reg: 0.0703 (0.0709)  loss_objectness: 0.0121 (0.0183)  loss_rpn_box_reg: 0.0025 (0.0060)  time: 0.1603  data: 0.0647  max mem: 3863\n",
      "Epoch: [3]  [ 6400/12099]  eta: 0:15:24  lr: 0.000300  loss: 0.1177 (0.1518)  loss_classifier: 0.0377 (0.0567)  loss_box_reg: 0.0597 (0.0709)  loss_objectness: 0.0142 (0.0183)  loss_rpn_box_reg: 0.0019 (0.0059)  time: 0.1649  data: 0.0658  max mem: 3863\n",
      "Epoch: [3]  [ 6500/12099]  eta: 0:15:08  lr: 0.000300  loss: 0.1321 (0.1519)  loss_classifier: 0.0506 (0.0567)  loss_box_reg: 0.0533 (0.0709)  loss_objectness: 0.0106 (0.0183)  loss_rpn_box_reg: 0.0030 (0.0059)  time: 0.1615  data: 0.0652  max mem: 3863\n",
      "Epoch: [3]  [ 6600/12099]  eta: 0:14:51  lr: 0.000300  loss: 0.1183 (0.1517)  loss_classifier: 0.0457 (0.0566)  loss_box_reg: 0.0566 (0.0708)  loss_objectness: 0.0097 (0.0183)  loss_rpn_box_reg: 0.0025 (0.0059)  time: 0.1601  data: 0.0640  max mem: 3863\n",
      "Epoch: [3]  [ 6700/12099]  eta: 0:14:36  lr: 0.000300  loss: 0.1020 (0.1515)  loss_classifier: 0.0412 (0.0565)  loss_box_reg: 0.0460 (0.0708)  loss_objectness: 0.0073 (0.0183)  loss_rpn_box_reg: 0.0012 (0.0059)  time: 0.1636  data: 0.0651  max mem: 3863\n",
      "Epoch: [3]  [ 6800/12099]  eta: 0:14:19  lr: 0.000300  loss: 0.1396 (0.1515)  loss_classifier: 0.0614 (0.0565)  loss_box_reg: 0.0762 (0.0708)  loss_objectness: 0.0119 (0.0183)  loss_rpn_box_reg: 0.0023 (0.0059)  time: 0.1608  data: 0.0625  max mem: 3863\n",
      "Epoch: [3]  [ 6900/12099]  eta: 0:14:03  lr: 0.000300  loss: 0.1310 (0.1515)  loss_classifier: 0.0441 (0.0565)  loss_box_reg: 0.0612 (0.0708)  loss_objectness: 0.0211 (0.0183)  loss_rpn_box_reg: 0.0024 (0.0059)  time: 0.1654  data: 0.0664  max mem: 3863\n",
      "Epoch: [3]  [ 7000/12099]  eta: 0:13:47  lr: 0.000300  loss: 0.1344 (0.1516)  loss_classifier: 0.0454 (0.0566)  loss_box_reg: 0.0729 (0.0708)  loss_objectness: 0.0123 (0.0183)  loss_rpn_box_reg: 0.0020 (0.0059)  time: 0.1612  data: 0.0632  max mem: 3863\n",
      "Epoch: [3]  [ 7100/12099]  eta: 0:13:31  lr: 0.000300  loss: 0.1293 (0.1514)  loss_classifier: 0.0552 (0.0565)  loss_box_reg: 0.0635 (0.0708)  loss_objectness: 0.0137 (0.0182)  loss_rpn_box_reg: 0.0014 (0.0059)  time: 0.1642  data: 0.0646  max mem: 3863\n",
      "Epoch: [3]  [ 7200/12099]  eta: 0:13:15  lr: 0.000300  loss: 0.1633 (0.1517)  loss_classifier: 0.0600 (0.0567)  loss_box_reg: 0.0627 (0.0709)  loss_objectness: 0.0224 (0.0183)  loss_rpn_box_reg: 0.0042 (0.0059)  time: 0.1598  data: 0.0639  max mem: 3863\n",
      "Epoch: [3]  [ 7300/12099]  eta: 0:12:59  lr: 0.000300  loss: 0.1432 (0.1517)  loss_classifier: 0.0442 (0.0567)  loss_box_reg: 0.0761 (0.0709)  loss_objectness: 0.0116 (0.0183)  loss_rpn_box_reg: 0.0021 (0.0059)  time: 0.1675  data: 0.0668  max mem: 3863\n",
      "Epoch: [3]  [ 7400/12099]  eta: 0:12:43  lr: 0.000300  loss: 0.1301 (0.1518)  loss_classifier: 0.0431 (0.0567)  loss_box_reg: 0.0664 (0.0709)  loss_objectness: 0.0084 (0.0183)  loss_rpn_box_reg: 0.0025 (0.0059)  time: 0.1632  data: 0.0649  max mem: 3863\n",
      "Epoch: [3]  [ 7500/12099]  eta: 0:12:27  lr: 0.000300  loss: 0.1319 (0.1518)  loss_classifier: 0.0586 (0.0567)  loss_box_reg: 0.0681 (0.0709)  loss_objectness: 0.0076 (0.0182)  loss_rpn_box_reg: 0.0031 (0.0059)  time: 0.1636  data: 0.0657  max mem: 3863\n",
      "Epoch: [3]  [ 7600/12099]  eta: 0:12:11  lr: 0.000300  loss: 0.1407 (0.1517)  loss_classifier: 0.0487 (0.0566)  loss_box_reg: 0.0523 (0.0709)  loss_objectness: 0.0092 (0.0182)  loss_rpn_box_reg: 0.0027 (0.0059)  time: 0.1777  data: 0.0755  max mem: 3863\n",
      "Epoch: [3]  [ 7700/12099]  eta: 0:11:55  lr: 0.000300  loss: 0.1617 (0.1518)  loss_classifier: 0.0640 (0.0567)  loss_box_reg: 0.0783 (0.0709)  loss_objectness: 0.0090 (0.0183)  loss_rpn_box_reg: 0.0029 (0.0059)  time: 0.1618  data: 0.0642  max mem: 3863\n",
      "Epoch: [3]  [ 7800/12099]  eta: 0:11:39  lr: 0.000300  loss: 0.1306 (0.1517)  loss_classifier: 0.0353 (0.0567)  loss_box_reg: 0.0639 (0.0709)  loss_objectness: 0.0090 (0.0183)  loss_rpn_box_reg: 0.0024 (0.0059)  time: 0.1651  data: 0.0660  max mem: 3863\n",
      "Epoch: [3]  [ 7900/12099]  eta: 0:11:22  lr: 0.000300  loss: 0.1349 (0.1516)  loss_classifier: 0.0502 (0.0566)  loss_box_reg: 0.0591 (0.0709)  loss_objectness: 0.0130 (0.0183)  loss_rpn_box_reg: 0.0033 (0.0059)  time: 0.1650  data: 0.0653  max mem: 3863\n",
      "Epoch: [3]  [ 8000/12099]  eta: 0:11:06  lr: 0.000300  loss: 0.1239 (0.1516)  loss_classifier: 0.0395 (0.0566)  loss_box_reg: 0.0608 (0.0709)  loss_objectness: 0.0082 (0.0182)  loss_rpn_box_reg: 0.0011 (0.0059)  time: 0.1702  data: 0.0686  max mem: 3863\n",
      "Epoch: [3]  [ 8100/12099]  eta: 0:10:51  lr: 0.000300  loss: 0.1395 (0.1516)  loss_classifier: 0.0483 (0.0566)  loss_box_reg: 0.0708 (0.0709)  loss_objectness: 0.0077 (0.0182)  loss_rpn_box_reg: 0.0028 (0.0059)  time: 0.1923  data: 0.0810  max mem: 3863\n",
      "Epoch: [3]  [ 8200/12099]  eta: 0:10:35  lr: 0.000300  loss: 0.1225 (0.1518)  loss_classifier: 0.0351 (0.0566)  loss_box_reg: 0.0614 (0.0710)  loss_objectness: 0.0075 (0.0183)  loss_rpn_box_reg: 0.0021 (0.0059)  time: 0.1700  data: 0.0679  max mem: 3863\n",
      "Epoch: [3]  [ 8300/12099]  eta: 0:10:20  lr: 0.000300  loss: 0.1566 (0.1517)  loss_classifier: 0.0547 (0.0566)  loss_box_reg: 0.0733 (0.0710)  loss_objectness: 0.0181 (0.0183)  loss_rpn_box_reg: 0.0024 (0.0059)  time: 0.1712  data: 0.0716  max mem: 3863\n",
      "Epoch: [3]  [ 8400/12099]  eta: 0:10:04  lr: 0.000300  loss: 0.1118 (0.1517)  loss_classifier: 0.0330 (0.0566)  loss_box_reg: 0.0493 (0.0709)  loss_objectness: 0.0068 (0.0183)  loss_rpn_box_reg: 0.0029 (0.0059)  time: 0.1699  data: 0.0686  max mem: 3863\n",
      "Epoch: [3]  [ 8500/12099]  eta: 0:09:47  lr: 0.000300  loss: 0.1355 (0.1518)  loss_classifier: 0.0507 (0.0566)  loss_box_reg: 0.0675 (0.0710)  loss_objectness: 0.0134 (0.0183)  loss_rpn_box_reg: 0.0026 (0.0059)  time: 0.1700  data: 0.0705  max mem: 3863\n",
      "Epoch: [3]  [ 8600/12099]  eta: 0:09:31  lr: 0.000300  loss: 0.1344 (0.1517)  loss_classifier: 0.0406 (0.0566)  loss_box_reg: 0.0668 (0.0709)  loss_objectness: 0.0139 (0.0183)  loss_rpn_box_reg: 0.0016 (0.0059)  time: 0.1655  data: 0.0671  max mem: 3863\n",
      "Epoch: [3]  [ 8700/12099]  eta: 0:09:15  lr: 0.000300  loss: 0.1776 (0.1516)  loss_classifier: 0.0671 (0.0565)  loss_box_reg: 0.0763 (0.0709)  loss_objectness: 0.0089 (0.0183)  loss_rpn_box_reg: 0.0019 (0.0059)  time: 0.1593  data: 0.0633  max mem: 3863\n",
      "Epoch: [3]  [ 8800/12099]  eta: 0:08:58  lr: 0.000300  loss: 0.1326 (0.1515)  loss_classifier: 0.0414 (0.0565)  loss_box_reg: 0.0653 (0.0709)  loss_objectness: 0.0161 (0.0183)  loss_rpn_box_reg: 0.0019 (0.0059)  time: 0.1755  data: 0.0713  max mem: 3863\n",
      "Epoch: [3]  [ 8900/12099]  eta: 0:08:42  lr: 0.000300  loss: 0.1486 (0.1516)  loss_classifier: 0.0504 (0.0565)  loss_box_reg: 0.0801 (0.0709)  loss_objectness: 0.0145 (0.0184)  loss_rpn_box_reg: 0.0019 (0.0059)  time: 0.1599  data: 0.0638  max mem: 3863\n",
      "Epoch: [3]  [ 9000/12099]  eta: 0:08:26  lr: 0.000300  loss: 0.1063 (0.1516)  loss_classifier: 0.0389 (0.0565)  loss_box_reg: 0.0621 (0.0708)  loss_objectness: 0.0087 (0.0184)  loss_rpn_box_reg: 0.0025 (0.0059)  time: 0.1729  data: 0.0702  max mem: 3863\n",
      "Epoch: [3]  [ 9100/12099]  eta: 0:08:10  lr: 0.000300  loss: 0.1331 (0.1516)  loss_classifier: 0.0482 (0.0565)  loss_box_reg: 0.0666 (0.0708)  loss_objectness: 0.0107 (0.0184)  loss_rpn_box_reg: 0.0024 (0.0059)  time: 0.1596  data: 0.0632  max mem: 3863\n",
      "Epoch: [3]  [ 9200/12099]  eta: 0:07:53  lr: 0.000300  loss: 0.1037 (0.1514)  loss_classifier: 0.0346 (0.0564)  loss_box_reg: 0.0540 (0.0708)  loss_objectness: 0.0089 (0.0184)  loss_rpn_box_reg: 0.0016 (0.0058)  time: 0.1596  data: 0.0634  max mem: 3863\n",
      "Epoch: [3]  [ 9300/12099]  eta: 0:07:37  lr: 0.000300  loss: 0.1270 (0.1513)  loss_classifier: 0.0461 (0.0564)  loss_box_reg: 0.0653 (0.0707)  loss_objectness: 0.0086 (0.0183)  loss_rpn_box_reg: 0.0015 (0.0058)  time: 0.1709  data: 0.0704  max mem: 3863\n",
      "Epoch: [3]  [ 9400/12099]  eta: 0:07:21  lr: 0.000300  loss: 0.1382 (0.1513)  loss_classifier: 0.0414 (0.0564)  loss_box_reg: 0.0782 (0.0707)  loss_objectness: 0.0082 (0.0183)  loss_rpn_box_reg: 0.0024 (0.0058)  time: 0.1669  data: 0.0669  max mem: 3863\n",
      "Epoch: [3]  [ 9500/12099]  eta: 0:07:04  lr: 0.000300  loss: 0.1670 (0.1513)  loss_classifier: 0.0520 (0.0564)  loss_box_reg: 0.0827 (0.0708)  loss_objectness: 0.0118 (0.0183)  loss_rpn_box_reg: 0.0016 (0.0058)  time: 0.1583  data: 0.0628  max mem: 3863\n"
     ]
    },
    {
     "name": "stdout",
     "output_type": "stream",
     "text": [
      "Epoch: [3]  [ 9600/12099]  eta: 0:06:48  lr: 0.000300  loss: 0.1450 (0.1512)  loss_classifier: 0.0513 (0.0564)  loss_box_reg: 0.0667 (0.0707)  loss_objectness: 0.0116 (0.0183)  loss_rpn_box_reg: 0.0019 (0.0058)  time: 0.1626  data: 0.0663  max mem: 3863\n",
      "Epoch: [3]  [ 9700/12099]  eta: 0:06:32  lr: 0.000300  loss: 0.0943 (0.1512)  loss_classifier: 0.0336 (0.0563)  loss_box_reg: 0.0455 (0.0707)  loss_objectness: 0.0122 (0.0184)  loss_rpn_box_reg: 0.0021 (0.0059)  time: 0.1605  data: 0.0639  max mem: 3863\n",
      "Epoch: [3]  [ 9800/12099]  eta: 0:06:15  lr: 0.000300  loss: 0.1530 (0.1512)  loss_classifier: 0.0472 (0.0563)  loss_box_reg: 0.0784 (0.0706)  loss_objectness: 0.0112 (0.0184)  loss_rpn_box_reg: 0.0015 (0.0059)  time: 0.1620  data: 0.0656  max mem: 3863\n",
      "Epoch: [3]  [ 9900/12099]  eta: 0:05:59  lr: 0.000300  loss: 0.1362 (0.1512)  loss_classifier: 0.0475 (0.0563)  loss_box_reg: 0.0723 (0.0707)  loss_objectness: 0.0065 (0.0184)  loss_rpn_box_reg: 0.0014 (0.0058)  time: 0.1608  data: 0.0640  max mem: 3863\n",
      "Epoch: [3]  [10000/12099]  eta: 0:05:43  lr: 0.000300  loss: 0.1330 (0.1513)  loss_classifier: 0.0462 (0.0564)  loss_box_reg: 0.0534 (0.0707)  loss_objectness: 0.0096 (0.0184)  loss_rpn_box_reg: 0.0021 (0.0058)  time: 0.1616  data: 0.0650  max mem: 3863\n",
      "Epoch: [3]  [10100/12099]  eta: 0:05:26  lr: 0.000300  loss: 0.1308 (0.1513)  loss_classifier: 0.0441 (0.0564)  loss_box_reg: 0.0498 (0.0707)  loss_objectness: 0.0210 (0.0184)  loss_rpn_box_reg: 0.0019 (0.0058)  time: 0.1614  data: 0.0652  max mem: 3863\n",
      "Epoch: [3]  [10200/12099]  eta: 0:05:10  lr: 0.000300  loss: 0.1480 (0.1513)  loss_classifier: 0.0507 (0.0564)  loss_box_reg: 0.0634 (0.0707)  loss_objectness: 0.0121 (0.0184)  loss_rpn_box_reg: 0.0023 (0.0059)  time: 0.1581  data: 0.0619  max mem: 3863\n",
      "Epoch: [3]  [10300/12099]  eta: 0:04:53  lr: 0.000300  loss: 0.1240 (0.1512)  loss_classifier: 0.0419 (0.0564)  loss_box_reg: 0.0562 (0.0706)  loss_objectness: 0.0110 (0.0184)  loss_rpn_box_reg: 0.0035 (0.0058)  time: 0.1582  data: 0.0620  max mem: 3863\n",
      "Epoch: [3]  [10400/12099]  eta: 0:04:37  lr: 0.000300  loss: 0.1023 (0.1512)  loss_classifier: 0.0321 (0.0564)  loss_box_reg: 0.0586 (0.0706)  loss_objectness: 0.0093 (0.0184)  loss_rpn_box_reg: 0.0017 (0.0058)  time: 0.1627  data: 0.0656  max mem: 3863\n",
      "Epoch: [3]  [10500/12099]  eta: 0:04:21  lr: 0.000300  loss: 0.1101 (0.1512)  loss_classifier: 0.0419 (0.0564)  loss_box_reg: 0.0508 (0.0706)  loss_objectness: 0.0082 (0.0184)  loss_rpn_box_reg: 0.0026 (0.0058)  time: 0.1760  data: 0.0717  max mem: 3863\n",
      "Epoch: [3]  [10600/12099]  eta: 0:04:04  lr: 0.000300  loss: 0.1382 (0.1511)  loss_classifier: 0.0510 (0.0563)  loss_box_reg: 0.0672 (0.0705)  loss_objectness: 0.0145 (0.0184)  loss_rpn_box_reg: 0.0019 (0.0058)  time: 0.1610  data: 0.0651  max mem: 3863\n",
      "Epoch: [3]  [10700/12099]  eta: 0:03:48  lr: 0.000300  loss: 0.1283 (0.1511)  loss_classifier: 0.0401 (0.0563)  loss_box_reg: 0.0782 (0.0705)  loss_objectness: 0.0082 (0.0184)  loss_rpn_box_reg: 0.0032 (0.0058)  time: 0.1613  data: 0.0640  max mem: 3863\n",
      "Epoch: [3]  [10800/12099]  eta: 0:03:32  lr: 0.000300  loss: 0.1355 (0.1510)  loss_classifier: 0.0370 (0.0563)  loss_box_reg: 0.0560 (0.0705)  loss_objectness: 0.0094 (0.0184)  loss_rpn_box_reg: 0.0018 (0.0058)  time: 0.1662  data: 0.0670  max mem: 3863\n",
      "Epoch: [3]  [10900/12099]  eta: 0:03:15  lr: 0.000300  loss: 0.1328 (0.1509)  loss_classifier: 0.0461 (0.0563)  loss_box_reg: 0.0574 (0.0704)  loss_objectness: 0.0103 (0.0184)  loss_rpn_box_reg: 0.0016 (0.0058)  time: 0.1774  data: 0.0735  max mem: 3863\n",
      "Epoch: [3]  [11000/12099]  eta: 0:02:59  lr: 0.000300  loss: 0.1628 (0.1509)  loss_classifier: 0.0510 (0.0563)  loss_box_reg: 0.0771 (0.0705)  loss_objectness: 0.0097 (0.0184)  loss_rpn_box_reg: 0.0025 (0.0058)  time: 0.1812  data: 0.0747  max mem: 3863\n",
      "Epoch: [3]  [11100/12099]  eta: 0:02:43  lr: 0.000300  loss: 0.1564 (0.1510)  loss_classifier: 0.0473 (0.0563)  loss_box_reg: 0.0617 (0.0705)  loss_objectness: 0.0118 (0.0183)  loss_rpn_box_reg: 0.0027 (0.0058)  time: 0.1680  data: 0.0677  max mem: 3863\n",
      "Epoch: [3]  [11200/12099]  eta: 0:02:27  lr: 0.000300  loss: 0.1521 (0.1510)  loss_classifier: 0.0527 (0.0563)  loss_box_reg: 0.0733 (0.0705)  loss_objectness: 0.0198 (0.0183)  loss_rpn_box_reg: 0.0026 (0.0058)  time: 0.1629  data: 0.0643  max mem: 3863\n",
      "Epoch: [3]  [11300/12099]  eta: 0:02:10  lr: 0.000300  loss: 0.1282 (0.1510)  loss_classifier: 0.0482 (0.0563)  loss_box_reg: 0.0577 (0.0705)  loss_objectness: 0.0150 (0.0184)  loss_rpn_box_reg: 0.0027 (0.0059)  time: 0.1703  data: 0.0692  max mem: 3863\n",
      "Epoch: [3]  [11400/12099]  eta: 0:01:54  lr: 0.000300  loss: 0.1084 (0.1509)  loss_classifier: 0.0343 (0.0562)  loss_box_reg: 0.0567 (0.0704)  loss_objectness: 0.0116 (0.0184)  loss_rpn_box_reg: 0.0019 (0.0058)  time: 0.1783  data: 0.0750  max mem: 3863\n",
      "Epoch: [3]  [11500/12099]  eta: 0:01:38  lr: 0.000300  loss: 0.1388 (0.1511)  loss_classifier: 0.0354 (0.0563)  loss_box_reg: 0.0538 (0.0705)  loss_objectness: 0.0137 (0.0184)  loss_rpn_box_reg: 0.0025 (0.0058)  time: 0.1678  data: 0.0670  max mem: 3863\n",
      "Epoch: [3]  [11600/12099]  eta: 0:01:21  lr: 0.000300  loss: 0.1455 (0.1509)  loss_classifier: 0.0472 (0.0563)  loss_box_reg: 0.0645 (0.0704)  loss_objectness: 0.0088 (0.0184)  loss_rpn_box_reg: 0.0020 (0.0058)  time: 0.1685  data: 0.0687  max mem: 3863\n",
      "Epoch: [3]  [11700/12099]  eta: 0:01:05  lr: 0.000300  loss: 0.1471 (0.1509)  loss_classifier: 0.0483 (0.0563)  loss_box_reg: 0.0747 (0.0705)  loss_objectness: 0.0080 (0.0184)  loss_rpn_box_reg: 0.0017 (0.0058)  time: 0.1651  data: 0.0650  max mem: 3863\n",
      "Epoch: [3]  [11800/12099]  eta: 0:00:48  lr: 0.000300  loss: 0.1369 (0.1509)  loss_classifier: 0.0395 (0.0563)  loss_box_reg: 0.0769 (0.0705)  loss_objectness: 0.0070 (0.0184)  loss_rpn_box_reg: 0.0019 (0.0058)  time: 0.1668  data: 0.0677  max mem: 3863\n",
      "Epoch: [3]  [11900/12099]  eta: 0:00:32  lr: 0.000300  loss: 0.1392 (0.1508)  loss_classifier: 0.0540 (0.0562)  loss_box_reg: 0.0595 (0.0704)  loss_objectness: 0.0088 (0.0184)  loss_rpn_box_reg: 0.0015 (0.0058)  time: 0.1672  data: 0.0677  max mem: 3863\n",
      "Epoch: [3]  [12000/12099]  eta: 0:00:16  lr: 0.000300  loss: 0.1451 (0.1508)  loss_classifier: 0.0546 (0.0562)  loss_box_reg: 0.0754 (0.0705)  loss_objectness: 0.0089 (0.0183)  loss_rpn_box_reg: 0.0029 (0.0058)  time: 0.1683  data: 0.0665  max mem: 3863\n",
      "Epoch: [3]  [12098/12099]  eta: 0:00:00  lr: 0.000300  loss: 0.1504 (0.1508)  loss_classifier: 0.0491 (0.0562)  loss_box_reg: 0.0835 (0.0705)  loss_objectness: 0.0113 (0.0183)  loss_rpn_box_reg: 0.0020 (0.0058)  time: 0.1748  data: 0.0705  max mem: 3863\n",
      "Epoch: [3] Total time: 0:33:02 (0.1638 s / it)\n",
      "Epoch: [4]  [    0/12099]  eta: 0:33:34  lr: 0.000300  loss: 0.0776 (0.0776)  loss_classifier: 0.0283 (0.0283)  loss_box_reg: 0.0401 (0.0401)  loss_objectness: 0.0087 (0.0087)  loss_rpn_box_reg: 0.0005 (0.0005)  time: 0.1665  data: 0.0590  max mem: 3863\n",
      "Epoch: [4]  [  100/12099]  eta: 0:34:51  lr: 0.000300  loss: 0.1144 (0.1489)  loss_classifier: 0.0404 (0.0546)  loss_box_reg: 0.0627 (0.0716)  loss_objectness: 0.0081 (0.0156)  loss_rpn_box_reg: 0.0025 (0.0071)  time: 0.1697  data: 0.0678  max mem: 3863\n",
      "Epoch: [4]  [  200/12099]  eta: 0:33:46  lr: 0.000300  loss: 0.1445 (0.1484)  loss_classifier: 0.0523 (0.0548)  loss_box_reg: 0.0609 (0.0717)  loss_objectness: 0.0072 (0.0159)  loss_rpn_box_reg: 0.0024 (0.0060)  time: 0.1715  data: 0.0705  max mem: 3863\n",
      "Epoch: [4]  [  300/12099]  eta: 0:33:20  lr: 0.000300  loss: 0.1511 (0.1535)  loss_classifier: 0.0553 (0.0583)  loss_box_reg: 0.0778 (0.0735)  loss_objectness: 0.0126 (0.0162)  loss_rpn_box_reg: 0.0030 (0.0056)  time: 0.1856  data: 0.0776  max mem: 3863\n",
      "Epoch: [4]  [  400/12099]  eta: 0:35:10  lr: 0.000300  loss: 0.1318 (0.1504)  loss_classifier: 0.0351 (0.0569)  loss_box_reg: 0.0352 (0.0715)  loss_objectness: 0.0090 (0.0167)  loss_rpn_box_reg: 0.0024 (0.0054)  time: 0.1994  data: 0.0873  max mem: 3863\n",
      "Epoch: [4]  [  500/12099]  eta: 0:34:23  lr: 0.000300  loss: 0.1155 (0.1512)  loss_classifier: 0.0443 (0.0572)  loss_box_reg: 0.0650 (0.0719)  loss_objectness: 0.0123 (0.0168)  loss_rpn_box_reg: 0.0024 (0.0053)  time: 0.1629  data: 0.0648  max mem: 3863\n",
      "Epoch: [4]  [  600/12099]  eta: 0:33:43  lr: 0.000300  loss: 0.1674 (0.1511)  loss_classifier: 0.0617 (0.0573)  loss_box_reg: 0.0762 (0.0715)  loss_objectness: 0.0121 (0.0169)  loss_rpn_box_reg: 0.0022 (0.0054)  time: 0.1639  data: 0.0667  max mem: 3863\n"
     ]
    },
    {
     "name": "stdout",
     "output_type": "stream",
     "text": [
      "Epoch: [4]  [  700/12099]  eta: 0:33:04  lr: 0.000300  loss: 0.1194 (0.1523)  loss_classifier: 0.0443 (0.0577)  loss_box_reg: 0.0482 (0.0722)  loss_objectness: 0.0079 (0.0172)  loss_rpn_box_reg: 0.0017 (0.0053)  time: 0.1630  data: 0.0645  max mem: 3863\n",
      "Epoch: [4]  [  800/12099]  eta: 0:32:29  lr: 0.000300  loss: 0.1399 (0.1522)  loss_classifier: 0.0506 (0.0575)  loss_box_reg: 0.0725 (0.0717)  loss_objectness: 0.0095 (0.0177)  loss_rpn_box_reg: 0.0032 (0.0053)  time: 0.1664  data: 0.0681  max mem: 3863\n",
      "Epoch: [4]  [  900/12099]  eta: 0:31:56  lr: 0.000300  loss: 0.1176 (0.1513)  loss_classifier: 0.0467 (0.0567)  loss_box_reg: 0.0611 (0.0713)  loss_objectness: 0.0081 (0.0179)  loss_rpn_box_reg: 0.0009 (0.0053)  time: 0.1613  data: 0.0634  max mem: 3863\n",
      "Epoch: [4]  [ 1000/12099]  eta: 0:31:25  lr: 0.000300  loss: 0.1287 (0.1507)  loss_classifier: 0.0418 (0.0565)  loss_box_reg: 0.0688 (0.0713)  loss_objectness: 0.0088 (0.0176)  loss_rpn_box_reg: 0.0022 (0.0054)  time: 0.1598  data: 0.0637  max mem: 3863\n",
      "Epoch: [4]  [ 1100/12099]  eta: 0:30:59  lr: 0.000300  loss: 0.1339 (0.1502)  loss_classifier: 0.0494 (0.0565)  loss_box_reg: 0.0555 (0.0712)  loss_objectness: 0.0104 (0.0173)  loss_rpn_box_reg: 0.0012 (0.0052)  time: 0.1619  data: 0.0661  max mem: 3863\n",
      "Epoch: [4]  [ 1200/12099]  eta: 0:30:39  lr: 0.000300  loss: 0.1612 (0.1498)  loss_classifier: 0.0586 (0.0564)  loss_box_reg: 0.0665 (0.0707)  loss_objectness: 0.0117 (0.0175)  loss_rpn_box_reg: 0.0022 (0.0052)  time: 0.1710  data: 0.0706  max mem: 3863\n",
      "Epoch: [4]  [ 1300/12099]  eta: 0:30:22  lr: 0.000300  loss: 0.1128 (0.1495)  loss_classifier: 0.0428 (0.0563)  loss_box_reg: 0.0624 (0.0704)  loss_objectness: 0.0101 (0.0175)  loss_rpn_box_reg: 0.0021 (0.0053)  time: 0.1753  data: 0.0715  max mem: 3863\n",
      "Epoch: [4]  [ 1400/12099]  eta: 0:30:04  lr: 0.000300  loss: 0.1261 (0.1494)  loss_classifier: 0.0458 (0.0563)  loss_box_reg: 0.0769 (0.0703)  loss_objectness: 0.0120 (0.0176)  loss_rpn_box_reg: 0.0014 (0.0053)  time: 0.1658  data: 0.0665  max mem: 3863\n",
      "Epoch: [4]  [ 1500/12099]  eta: 0:29:43  lr: 0.000300  loss: 0.1204 (0.1492)  loss_classifier: 0.0375 (0.0560)  loss_box_reg: 0.0789 (0.0704)  loss_objectness: 0.0119 (0.0175)  loss_rpn_box_reg: 0.0030 (0.0053)  time: 0.1618  data: 0.0645  max mem: 3863\n",
      "Epoch: [4]  [ 1600/12099]  eta: 0:29:25  lr: 0.000300  loss: 0.1259 (0.1491)  loss_classifier: 0.0424 (0.0559)  loss_box_reg: 0.0584 (0.0702)  loss_objectness: 0.0138 (0.0175)  loss_rpn_box_reg: 0.0034 (0.0054)  time: 0.1636  data: 0.0651  max mem: 3863\n",
      "Epoch: [4]  [ 1700/12099]  eta: 0:29:08  lr: 0.000300  loss: 0.1251 (0.1486)  loss_classifier: 0.0399 (0.0558)  loss_box_reg: 0.0564 (0.0698)  loss_objectness: 0.0071 (0.0176)  loss_rpn_box_reg: 0.0018 (0.0054)  time: 0.1646  data: 0.0658  max mem: 3863\n",
      "Epoch: [4]  [ 1800/12099]  eta: 0:28:49  lr: 0.000300  loss: 0.1729 (0.1487)  loss_classifier: 0.0547 (0.0559)  loss_box_reg: 0.0922 (0.0699)  loss_objectness: 0.0150 (0.0175)  loss_rpn_box_reg: 0.0021 (0.0054)  time: 0.1676  data: 0.0680  max mem: 3863\n",
      "Epoch: [4]  [ 1900/12099]  eta: 0:28:30  lr: 0.000300  loss: 0.1275 (0.1488)  loss_classifier: 0.0407 (0.0560)  loss_box_reg: 0.0767 (0.0699)  loss_objectness: 0.0113 (0.0175)  loss_rpn_box_reg: 0.0020 (0.0053)  time: 0.1604  data: 0.0630  max mem: 3863\n",
      "Epoch: [4]  [ 2000/12099]  eta: 0:28:09  lr: 0.000300  loss: 0.1679 (0.1488)  loss_classifier: 0.0473 (0.0559)  loss_box_reg: 0.0657 (0.0699)  loss_objectness: 0.0139 (0.0177)  loss_rpn_box_reg: 0.0041 (0.0054)  time: 0.1608  data: 0.0641  max mem: 3863\n",
      "Epoch: [4]  [ 2100/12099]  eta: 0:27:49  lr: 0.000300  loss: 0.1152 (0.1485)  loss_classifier: 0.0394 (0.0556)  loss_box_reg: 0.0402 (0.0698)  loss_objectness: 0.0060 (0.0177)  loss_rpn_box_reg: 0.0027 (0.0054)  time: 0.1588  data: 0.0634  max mem: 3863\n",
      "Epoch: [4]  [ 2200/12099]  eta: 0:27:30  lr: 0.000300  loss: 0.1474 (0.1488)  loss_classifier: 0.0501 (0.0557)  loss_box_reg: 0.0632 (0.0699)  loss_objectness: 0.0132 (0.0178)  loss_rpn_box_reg: 0.0017 (0.0054)  time: 0.1620  data: 0.0640  max mem: 3863\n",
      "Epoch: [4]  [ 2300/12099]  eta: 0:27:09  lr: 0.000300  loss: 0.1531 (0.1492)  loss_classifier: 0.0591 (0.0558)  loss_box_reg: 0.0782 (0.0702)  loss_objectness: 0.0084 (0.0177)  loss_rpn_box_reg: 0.0028 (0.0054)  time: 0.1584  data: 0.0634  max mem: 3863\n",
      "Epoch: [4]  [ 2400/12099]  eta: 0:26:51  lr: 0.000300  loss: 0.1398 (0.1486)  loss_classifier: 0.0492 (0.0555)  loss_box_reg: 0.0672 (0.0700)  loss_objectness: 0.0079 (0.0176)  loss_rpn_box_reg: 0.0026 (0.0055)  time: 0.1725  data: 0.0708  max mem: 3863\n",
      "Epoch: [4]  [ 2500/12099]  eta: 0:26:35  lr: 0.000300  loss: 0.1472 (0.1483)  loss_classifier: 0.0528 (0.0554)  loss_box_reg: 0.0748 (0.0699)  loss_objectness: 0.0070 (0.0175)  loss_rpn_box_reg: 0.0024 (0.0056)  time: 0.1658  data: 0.0668  max mem: 3863\n",
      "Epoch: [4]  [ 2600/12099]  eta: 0:26:16  lr: 0.000300  loss: 0.1109 (0.1483)  loss_classifier: 0.0488 (0.0554)  loss_box_reg: 0.0622 (0.0699)  loss_objectness: 0.0072 (0.0174)  loss_rpn_box_reg: 0.0033 (0.0055)  time: 0.1608  data: 0.0643  max mem: 3863\n",
      "Epoch: [4]  [ 2700/12099]  eta: 0:25:57  lr: 0.000300  loss: 0.1094 (0.1483)  loss_classifier: 0.0308 (0.0554)  loss_box_reg: 0.0464 (0.0699)  loss_objectness: 0.0068 (0.0174)  loss_rpn_box_reg: 0.0010 (0.0055)  time: 0.1598  data: 0.0634  max mem: 3863\n",
      "Epoch: [4]  [ 2800/12099]  eta: 0:25:39  lr: 0.000300  loss: 0.1049 (0.1480)  loss_classifier: 0.0351 (0.0553)  loss_box_reg: 0.0518 (0.0698)  loss_objectness: 0.0058 (0.0174)  loss_rpn_box_reg: 0.0018 (0.0055)  time: 0.1600  data: 0.0634  max mem: 3863\n",
      "Epoch: [4]  [ 2900/12099]  eta: 0:25:21  lr: 0.000300  loss: 0.1515 (0.1478)  loss_classifier: 0.0688 (0.0552)  loss_box_reg: 0.0609 (0.0697)  loss_objectness: 0.0122 (0.0173)  loss_rpn_box_reg: 0.0025 (0.0056)  time: 0.1644  data: 0.0660  max mem: 3863\n",
      "Epoch: [4]  [ 3000/12099]  eta: 0:25:04  lr: 0.000300  loss: 0.1167 (0.1477)  loss_classifier: 0.0445 (0.0551)  loss_box_reg: 0.0576 (0.0696)  loss_objectness: 0.0116 (0.0174)  loss_rpn_box_reg: 0.0024 (0.0055)  time: 0.1611  data: 0.0644  max mem: 3863\n",
      "Epoch: [4]  [ 3100/12099]  eta: 0:24:47  lr: 0.000300  loss: 0.1079 (0.1476)  loss_classifier: 0.0374 (0.0550)  loss_box_reg: 0.0631 (0.0695)  loss_objectness: 0.0091 (0.0175)  loss_rpn_box_reg: 0.0025 (0.0056)  time: 0.1608  data: 0.0649  max mem: 3863\n",
      "Epoch: [4]  [ 3200/12099]  eta: 0:24:29  lr: 0.000300  loss: 0.1204 (0.1474)  loss_classifier: 0.0352 (0.0549)  loss_box_reg: 0.0564 (0.0694)  loss_objectness: 0.0147 (0.0175)  loss_rpn_box_reg: 0.0027 (0.0056)  time: 0.1586  data: 0.0633  max mem: 3863\n",
      "Epoch: [4]  [ 3300/12099]  eta: 0:24:11  lr: 0.000300  loss: 0.1228 (0.1473)  loss_classifier: 0.0483 (0.0549)  loss_box_reg: 0.0615 (0.0693)  loss_objectness: 0.0119 (0.0175)  loss_rpn_box_reg: 0.0025 (0.0055)  time: 0.1611  data: 0.0644  max mem: 3863\n",
      "Epoch: [4]  [ 3400/12099]  eta: 0:23:54  lr: 0.000300  loss: 0.1038 (0.1473)  loss_classifier: 0.0281 (0.0549)  loss_box_reg: 0.0515 (0.0693)  loss_objectness: 0.0065 (0.0175)  loss_rpn_box_reg: 0.0030 (0.0055)  time: 0.1592  data: 0.0624  max mem: 3863\n",
      "Epoch: [4]  [ 3500/12099]  eta: 0:23:37  lr: 0.000300  loss: 0.1286 (0.1471)  loss_classifier: 0.0445 (0.0548)  loss_box_reg: 0.0614 (0.0693)  loss_objectness: 0.0083 (0.0175)  loss_rpn_box_reg: 0.0033 (0.0055)  time: 0.1587  data: 0.0628  max mem: 3863\n",
      "Epoch: [4]  [ 3600/12099]  eta: 0:23:20  lr: 0.000300  loss: 0.1498 (0.1471)  loss_classifier: 0.0554 (0.0548)  loss_box_reg: 0.0672 (0.0691)  loss_objectness: 0.0158 (0.0175)  loss_rpn_box_reg: 0.0042 (0.0056)  time: 0.1670  data: 0.0671  max mem: 3863\n",
      "Epoch: [4]  [ 3700/12099]  eta: 0:23:02  lr: 0.000300  loss: 0.1123 (0.1470)  loss_classifier: 0.0438 (0.0547)  loss_box_reg: 0.0519 (0.0691)  loss_objectness: 0.0106 (0.0176)  loss_rpn_box_reg: 0.0016 (0.0056)  time: 0.1610  data: 0.0643  max mem: 3863\n",
      "Epoch: [4]  [ 3800/12099]  eta: 0:22:46  lr: 0.000300  loss: 0.1214 (0.1470)  loss_classifier: 0.0408 (0.0547)  loss_box_reg: 0.0595 (0.0692)  loss_objectness: 0.0079 (0.0175)  loss_rpn_box_reg: 0.0023 (0.0056)  time: 0.1673  data: 0.0687  max mem: 3863\n",
      "Epoch: [4]  [ 3900/12099]  eta: 0:22:29  lr: 0.000300  loss: 0.1522 (0.1472)  loss_classifier: 0.0565 (0.0548)  loss_box_reg: 0.0756 (0.0692)  loss_objectness: 0.0118 (0.0175)  loss_rpn_box_reg: 0.0027 (0.0056)  time: 0.1657  data: 0.0652  max mem: 3863\n"
     ]
    },
    {
     "name": "stdout",
     "output_type": "stream",
     "text": [
      "Epoch: [4]  [ 4000/12099]  eta: 0:22:13  lr: 0.000300  loss: 0.1235 (0.1473)  loss_classifier: 0.0374 (0.0549)  loss_box_reg: 0.0541 (0.0692)  loss_objectness: 0.0083 (0.0175)  loss_rpn_box_reg: 0.0017 (0.0057)  time: 0.1656  data: 0.0665  max mem: 3863\n",
      "Epoch: [4]  [ 4100/12099]  eta: 0:21:57  lr: 0.000300  loss: 0.1249 (0.1472)  loss_classifier: 0.0409 (0.0549)  loss_box_reg: 0.0652 (0.0693)  loss_objectness: 0.0101 (0.0174)  loss_rpn_box_reg: 0.0049 (0.0057)  time: 0.1646  data: 0.0657  max mem: 3863\n",
      "Epoch: [4]  [ 4200/12099]  eta: 0:21:40  lr: 0.000300  loss: 0.1493 (0.1471)  loss_classifier: 0.0505 (0.0548)  loss_box_reg: 0.0694 (0.0692)  loss_objectness: 0.0104 (0.0174)  loss_rpn_box_reg: 0.0039 (0.0057)  time: 0.1633  data: 0.0665  max mem: 3863\n",
      "Epoch: [4]  [ 4300/12099]  eta: 0:21:22  lr: 0.000300  loss: 0.1207 (0.1472)  loss_classifier: 0.0560 (0.0548)  loss_box_reg: 0.0589 (0.0692)  loss_objectness: 0.0095 (0.0174)  loss_rpn_box_reg: 0.0026 (0.0057)  time: 0.1591  data: 0.0635  max mem: 3863\n",
      "Epoch: [4]  [ 4400/12099]  eta: 0:21:05  lr: 0.000300  loss: 0.1658 (0.1473)  loss_classifier: 0.0560 (0.0549)  loss_box_reg: 0.0675 (0.0692)  loss_objectness: 0.0089 (0.0175)  loss_rpn_box_reg: 0.0030 (0.0057)  time: 0.1616  data: 0.0646  max mem: 3863\n",
      "Epoch: [4]  [ 4500/12099]  eta: 0:20:48  lr: 0.000300  loss: 0.1391 (0.1473)  loss_classifier: 0.0395 (0.0550)  loss_box_reg: 0.0489 (0.0692)  loss_objectness: 0.0090 (0.0174)  loss_rpn_box_reg: 0.0025 (0.0057)  time: 0.1617  data: 0.0648  max mem: 3863\n",
      "Epoch: [4]  [ 4600/12099]  eta: 0:20:31  lr: 0.000300  loss: 0.1443 (0.1472)  loss_classifier: 0.0551 (0.0550)  loss_box_reg: 0.0452 (0.0691)  loss_objectness: 0.0175 (0.0175)  loss_rpn_box_reg: 0.0043 (0.0057)  time: 0.1623  data: 0.0653  max mem: 3863\n",
      "Epoch: [4]  [ 4700/12099]  eta: 0:20:15  lr: 0.000300  loss: 0.1399 (0.1471)  loss_classifier: 0.0513 (0.0549)  loss_box_reg: 0.0809 (0.0691)  loss_objectness: 0.0106 (0.0174)  loss_rpn_box_reg: 0.0027 (0.0057)  time: 0.1642  data: 0.0660  max mem: 3863\n",
      "Epoch: [4]  [ 4800/12099]  eta: 0:19:58  lr: 0.000300  loss: 0.1370 (0.1472)  loss_classifier: 0.0468 (0.0549)  loss_box_reg: 0.0671 (0.0690)  loss_objectness: 0.0133 (0.0176)  loss_rpn_box_reg: 0.0022 (0.0058)  time: 0.1587  data: 0.0627  max mem: 3863\n",
      "Epoch: [4]  [ 4900/12099]  eta: 0:19:41  lr: 0.000300  loss: 0.1403 (0.1472)  loss_classifier: 0.0500 (0.0549)  loss_box_reg: 0.0613 (0.0690)  loss_objectness: 0.0134 (0.0176)  loss_rpn_box_reg: 0.0023 (0.0058)  time: 0.1596  data: 0.0640  max mem: 3863\n",
      "Epoch: [4]  [ 5000/12099]  eta: 0:19:24  lr: 0.000300  loss: 0.1407 (0.1475)  loss_classifier: 0.0474 (0.0550)  loss_box_reg: 0.0708 (0.0692)  loss_objectness: 0.0102 (0.0176)  loss_rpn_box_reg: 0.0024 (0.0057)  time: 0.1607  data: 0.0645  max mem: 3863\n",
      "Epoch: [4]  [ 5100/12099]  eta: 0:19:07  lr: 0.000300  loss: 0.1206 (0.1474)  loss_classifier: 0.0423 (0.0549)  loss_box_reg: 0.0653 (0.0692)  loss_objectness: 0.0074 (0.0175)  loss_rpn_box_reg: 0.0016 (0.0057)  time: 0.1621  data: 0.0652  max mem: 3863\n",
      "Epoch: [4]  [ 5200/12099]  eta: 0:18:50  lr: 0.000300  loss: 0.1263 (0.1473)  loss_classifier: 0.0366 (0.0548)  loss_box_reg: 0.0682 (0.0693)  loss_objectness: 0.0085 (0.0175)  loss_rpn_box_reg: 0.0019 (0.0057)  time: 0.1579  data: 0.0619  max mem: 3863\n",
      "Epoch: [4]  [ 5300/12099]  eta: 0:18:35  lr: 0.000300  loss: 0.1260 (0.1473)  loss_classifier: 0.0439 (0.0549)  loss_box_reg: 0.0713 (0.0693)  loss_objectness: 0.0108 (0.0175)  loss_rpn_box_reg: 0.0023 (0.0057)  time: 0.1702  data: 0.0689  max mem: 3863\n",
      "Epoch: [4]  [ 5400/12099]  eta: 0:18:19  lr: 0.000300  loss: 0.1080 (0.1474)  loss_classifier: 0.0415 (0.0548)  loss_box_reg: 0.0538 (0.0693)  loss_objectness: 0.0097 (0.0175)  loss_rpn_box_reg: 0.0018 (0.0057)  time: 0.1649  data: 0.0651  max mem: 3863\n",
      "Epoch: [4]  [ 5500/12099]  eta: 0:18:03  lr: 0.000300  loss: 0.1282 (0.1476)  loss_classifier: 0.0522 (0.0549)  loss_box_reg: 0.0588 (0.0695)  loss_objectness: 0.0108 (0.0174)  loss_rpn_box_reg: 0.0034 (0.0057)  time: 0.1662  data: 0.0673  max mem: 3863\n",
      "Epoch: [4]  [ 5600/12099]  eta: 0:17:47  lr: 0.000300  loss: 0.1173 (0.1476)  loss_classifier: 0.0417 (0.0549)  loss_box_reg: 0.0567 (0.0695)  loss_objectness: 0.0095 (0.0175)  loss_rpn_box_reg: 0.0025 (0.0057)  time: 0.1714  data: 0.0690  max mem: 3863\n",
      "Epoch: [4]  [ 5700/12099]  eta: 0:17:31  lr: 0.000300  loss: 0.1139 (0.1475)  loss_classifier: 0.0419 (0.0548)  loss_box_reg: 0.0646 (0.0695)  loss_objectness: 0.0093 (0.0175)  loss_rpn_box_reg: 0.0022 (0.0057)  time: 0.1681  data: 0.0688  max mem: 3863\n",
      "Epoch: [4]  [ 5800/12099]  eta: 0:17:15  lr: 0.000300  loss: 0.1390 (0.1474)  loss_classifier: 0.0542 (0.0548)  loss_box_reg: 0.0660 (0.0694)  loss_objectness: 0.0173 (0.0175)  loss_rpn_box_reg: 0.0033 (0.0058)  time: 0.1649  data: 0.0663  max mem: 3863\n",
      "Epoch: [4]  [ 5900/12099]  eta: 0:16:58  lr: 0.000300  loss: 0.1411 (0.1477)  loss_classifier: 0.0431 (0.0548)  loss_box_reg: 0.0755 (0.0696)  loss_objectness: 0.0096 (0.0175)  loss_rpn_box_reg: 0.0019 (0.0058)  time: 0.1597  data: 0.0626  max mem: 3863\n",
      "Epoch: [4]  [ 6000/12099]  eta: 0:16:42  lr: 0.000300  loss: 0.1534 (0.1477)  loss_classifier: 0.0660 (0.0548)  loss_box_reg: 0.0589 (0.0696)  loss_objectness: 0.0101 (0.0175)  loss_rpn_box_reg: 0.0029 (0.0058)  time: 0.1582  data: 0.0627  max mem: 3863\n",
      "Epoch: [4]  [ 6100/12099]  eta: 0:16:26  lr: 0.000300  loss: 0.1367 (0.1479)  loss_classifier: 0.0499 (0.0549)  loss_box_reg: 0.0673 (0.0697)  loss_objectness: 0.0092 (0.0176)  loss_rpn_box_reg: 0.0015 (0.0058)  time: 0.1597  data: 0.0628  max mem: 3863\n",
      "Epoch: [4]  [ 6200/12099]  eta: 0:16:09  lr: 0.000300  loss: 0.1504 (0.1480)  loss_classifier: 0.0571 (0.0549)  loss_box_reg: 0.0755 (0.0698)  loss_objectness: 0.0094 (0.0176)  loss_rpn_box_reg: 0.0020 (0.0057)  time: 0.1605  data: 0.0631  max mem: 3863\n",
      "Epoch: [4]  [ 6300/12099]  eta: 0:15:53  lr: 0.000300  loss: 0.1218 (0.1481)  loss_classifier: 0.0410 (0.0549)  loss_box_reg: 0.0694 (0.0699)  loss_objectness: 0.0095 (0.0175)  loss_rpn_box_reg: 0.0012 (0.0057)  time: 0.1785  data: 0.0736  max mem: 3863\n",
      "Epoch: [4]  [ 6400/12099]  eta: 0:15:37  lr: 0.000300  loss: 0.1344 (0.1481)  loss_classifier: 0.0483 (0.0549)  loss_box_reg: 0.0781 (0.0699)  loss_objectness: 0.0099 (0.0176)  loss_rpn_box_reg: 0.0018 (0.0057)  time: 0.1723  data: 0.0709  max mem: 3863\n",
      "Epoch: [4]  [ 6500/12099]  eta: 0:15:21  lr: 0.000300  loss: 0.1049 (0.1481)  loss_classifier: 0.0314 (0.0549)  loss_box_reg: 0.0516 (0.0699)  loss_objectness: 0.0134 (0.0176)  loss_rpn_box_reg: 0.0034 (0.0057)  time: 0.1651  data: 0.0663  max mem: 3863\n",
      "Epoch: [4]  [ 6600/12099]  eta: 0:15:04  lr: 0.000300  loss: 0.1100 (0.1481)  loss_classifier: 0.0348 (0.0549)  loss_box_reg: 0.0561 (0.0699)  loss_objectness: 0.0090 (0.0176)  loss_rpn_box_reg: 0.0036 (0.0057)  time: 0.1594  data: 0.0639  max mem: 3863\n",
      "Epoch: [4]  [ 6700/12099]  eta: 0:14:47  lr: 0.000300  loss: 0.1380 (0.1481)  loss_classifier: 0.0388 (0.0549)  loss_box_reg: 0.0772 (0.0699)  loss_objectness: 0.0121 (0.0176)  loss_rpn_box_reg: 0.0026 (0.0057)  time: 0.1604  data: 0.0643  max mem: 3863\n",
      "Epoch: [4]  [ 6800/12099]  eta: 0:14:31  lr: 0.000300  loss: 0.1296 (0.1480)  loss_classifier: 0.0478 (0.0549)  loss_box_reg: 0.0638 (0.0700)  loss_objectness: 0.0092 (0.0175)  loss_rpn_box_reg: 0.0020 (0.0057)  time: 0.1628  data: 0.0661  max mem: 3863\n",
      "Epoch: [4]  [ 6900/12099]  eta: 0:14:14  lr: 0.000300  loss: 0.1525 (0.1483)  loss_classifier: 0.0569 (0.0549)  loss_box_reg: 0.0698 (0.0700)  loss_objectness: 0.0099 (0.0176)  loss_rpn_box_reg: 0.0024 (0.0057)  time: 0.1622  data: 0.0653  max mem: 3863\n",
      "Epoch: [4]  [ 7000/12099]  eta: 0:13:57  lr: 0.000300  loss: 0.1257 (0.1483)  loss_classifier: 0.0451 (0.0550)  loss_box_reg: 0.0558 (0.0700)  loss_objectness: 0.0106 (0.0175)  loss_rpn_box_reg: 0.0031 (0.0057)  time: 0.1582  data: 0.0620  max mem: 3863\n",
      "Epoch: [4]  [ 7100/12099]  eta: 0:13:41  lr: 0.000300  loss: 0.1393 (0.1482)  loss_classifier: 0.0482 (0.0549)  loss_box_reg: 0.0689 (0.0700)  loss_objectness: 0.0122 (0.0176)  loss_rpn_box_reg: 0.0026 (0.0057)  time: 0.1636  data: 0.0653  max mem: 3863\n",
      "Epoch: [4]  [ 7200/12099]  eta: 0:13:24  lr: 0.000300  loss: 0.1019 (0.1480)  loss_classifier: 0.0309 (0.0548)  loss_box_reg: 0.0521 (0.0699)  loss_objectness: 0.0062 (0.0176)  loss_rpn_box_reg: 0.0019 (0.0057)  time: 0.1657  data: 0.0672  max mem: 3863\n"
     ]
    },
    {
     "name": "stdout",
     "output_type": "stream",
     "text": [
      "Epoch: [4]  [ 7300/12099]  eta: 0:13:08  lr: 0.000300  loss: 0.1188 (0.1480)  loss_classifier: 0.0458 (0.0548)  loss_box_reg: 0.0590 (0.0698)  loss_objectness: 0.0102 (0.0176)  loss_rpn_box_reg: 0.0020 (0.0057)  time: 0.1618  data: 0.0638  max mem: 3863\n",
      "Epoch: [4]  [ 7400/12099]  eta: 0:12:52  lr: 0.000300  loss: 0.1524 (0.1479)  loss_classifier: 0.0496 (0.0548)  loss_box_reg: 0.0725 (0.0699)  loss_objectness: 0.0089 (0.0176)  loss_rpn_box_reg: 0.0036 (0.0057)  time: 0.1604  data: 0.0641  max mem: 3863\n",
      "Epoch: [4]  [ 7500/12099]  eta: 0:12:35  lr: 0.000300  loss: 0.1452 (0.1478)  loss_classifier: 0.0442 (0.0547)  loss_box_reg: 0.0780 (0.0698)  loss_objectness: 0.0120 (0.0175)  loss_rpn_box_reg: 0.0034 (0.0057)  time: 0.1570  data: 0.0621  max mem: 3863\n",
      "Epoch: [4]  [ 7600/12099]  eta: 0:12:18  lr: 0.000300  loss: 0.1489 (0.1479)  loss_classifier: 0.0481 (0.0547)  loss_box_reg: 0.0671 (0.0698)  loss_objectness: 0.0125 (0.0176)  loss_rpn_box_reg: 0.0026 (0.0057)  time: 0.1588  data: 0.0627  max mem: 3863\n",
      "Epoch: [4]  [ 7700/12099]  eta: 0:12:02  lr: 0.000300  loss: 0.1229 (0.1479)  loss_classifier: 0.0370 (0.0547)  loss_box_reg: 0.0719 (0.0699)  loss_objectness: 0.0102 (0.0176)  loss_rpn_box_reg: 0.0023 (0.0057)  time: 0.1605  data: 0.0638  max mem: 3863\n",
      "Epoch: [4]  [ 7800/12099]  eta: 0:11:45  lr: 0.000300  loss: 0.1088 (0.1477)  loss_classifier: 0.0292 (0.0547)  loss_box_reg: 0.0630 (0.0698)  loss_objectness: 0.0080 (0.0176)  loss_rpn_box_reg: 0.0020 (0.0057)  time: 0.1593  data: 0.0639  max mem: 3863\n",
      "Epoch: [4]  [ 7900/12099]  eta: 0:11:28  lr: 0.000300  loss: 0.1232 (0.1477)  loss_classifier: 0.0394 (0.0547)  loss_box_reg: 0.0638 (0.0698)  loss_objectness: 0.0096 (0.0176)  loss_rpn_box_reg: 0.0038 (0.0057)  time: 0.1594  data: 0.0631  max mem: 3863\n",
      "Epoch: [4]  [ 8000/12099]  eta: 0:11:12  lr: 0.000300  loss: 0.1328 (0.1480)  loss_classifier: 0.0515 (0.0548)  loss_box_reg: 0.0662 (0.0699)  loss_objectness: 0.0140 (0.0176)  loss_rpn_box_reg: 0.0032 (0.0057)  time: 0.1601  data: 0.0637  max mem: 3863\n",
      "Epoch: [4]  [ 8100/12099]  eta: 0:10:55  lr: 0.000300  loss: 0.1131 (0.1480)  loss_classifier: 0.0395 (0.0547)  loss_box_reg: 0.0550 (0.0699)  loss_objectness: 0.0067 (0.0177)  loss_rpn_box_reg: 0.0036 (0.0057)  time: 0.1597  data: 0.0634  max mem: 3863\n",
      "Epoch: [4]  [ 8200/12099]  eta: 0:10:39  lr: 0.000300  loss: 0.1604 (0.1480)  loss_classifier: 0.0519 (0.0547)  loss_box_reg: 0.0703 (0.0699)  loss_objectness: 0.0103 (0.0177)  loss_rpn_box_reg: 0.0020 (0.0057)  time: 0.1686  data: 0.0692  max mem: 3863\n",
      "Epoch: [4]  [ 8300/12099]  eta: 0:10:23  lr: 0.000300  loss: 0.1416 (0.1480)  loss_classifier: 0.0484 (0.0547)  loss_box_reg: 0.0647 (0.0699)  loss_objectness: 0.0120 (0.0176)  loss_rpn_box_reg: 0.0033 (0.0057)  time: 0.1602  data: 0.0642  max mem: 3863\n",
      "Epoch: [4]  [ 8400/12099]  eta: 0:10:06  lr: 0.000300  loss: 0.1164 (0.1480)  loss_classifier: 0.0422 (0.0547)  loss_box_reg: 0.0621 (0.0699)  loss_objectness: 0.0065 (0.0176)  loss_rpn_box_reg: 0.0022 (0.0057)  time: 0.1601  data: 0.0639  max mem: 3863\n",
      "Epoch: [4]  [ 8500/12099]  eta: 0:09:49  lr: 0.000300  loss: 0.1390 (0.1481)  loss_classifier: 0.0524 (0.0548)  loss_box_reg: 0.0754 (0.0700)  loss_objectness: 0.0108 (0.0176)  loss_rpn_box_reg: 0.0034 (0.0057)  time: 0.1653  data: 0.0656  max mem: 3863\n",
      "Epoch: [4]  [ 8600/12099]  eta: 0:09:33  lr: 0.000300  loss: 0.1477 (0.1482)  loss_classifier: 0.0507 (0.0548)  loss_box_reg: 0.0682 (0.0701)  loss_objectness: 0.0146 (0.0176)  loss_rpn_box_reg: 0.0023 (0.0057)  time: 0.1620  data: 0.0641  max mem: 3863\n",
      "Epoch: [4]  [ 8700/12099]  eta: 0:09:17  lr: 0.000300  loss: 0.1144 (0.1482)  loss_classifier: 0.0422 (0.0548)  loss_box_reg: 0.0580 (0.0701)  loss_objectness: 0.0082 (0.0176)  loss_rpn_box_reg: 0.0026 (0.0057)  time: 0.1646  data: 0.0656  max mem: 3863\n",
      "Epoch: [4]  [ 8800/12099]  eta: 0:09:00  lr: 0.000300  loss: 0.1177 (0.1482)  loss_classifier: 0.0348 (0.0547)  loss_box_reg: 0.0557 (0.0702)  loss_objectness: 0.0068 (0.0176)  loss_rpn_box_reg: 0.0015 (0.0057)  time: 0.1721  data: 0.0701  max mem: 3863\n",
      "Epoch: [4]  [ 8900/12099]  eta: 0:08:44  lr: 0.000300  loss: 0.1221 (0.1481)  loss_classifier: 0.0419 (0.0547)  loss_box_reg: 0.0467 (0.0701)  loss_objectness: 0.0089 (0.0176)  loss_rpn_box_reg: 0.0032 (0.0057)  time: 0.1630  data: 0.0659  max mem: 3863\n",
      "Epoch: [4]  [ 9000/12099]  eta: 0:08:27  lr: 0.000300  loss: 0.1455 (0.1480)  loss_classifier: 0.0476 (0.0547)  loss_box_reg: 0.0651 (0.0701)  loss_objectness: 0.0086 (0.0175)  loss_rpn_box_reg: 0.0025 (0.0057)  time: 0.1584  data: 0.0622  max mem: 3863\n",
      "Epoch: [4]  [ 9100/12099]  eta: 0:08:11  lr: 0.000300  loss: 0.1407 (0.1483)  loss_classifier: 0.0608 (0.0548)  loss_box_reg: 0.0669 (0.0702)  loss_objectness: 0.0105 (0.0176)  loss_rpn_box_reg: 0.0027 (0.0057)  time: 0.1655  data: 0.0665  max mem: 3863\n",
      "Epoch: [4]  [ 9200/12099]  eta: 0:07:55  lr: 0.000300  loss: 0.1337 (0.1483)  loss_classifier: 0.0528 (0.0548)  loss_box_reg: 0.0893 (0.0703)  loss_objectness: 0.0077 (0.0176)  loss_rpn_box_reg: 0.0026 (0.0057)  time: 0.1639  data: 0.0658  max mem: 3863\n",
      "Epoch: [4]  [ 9300/12099]  eta: 0:07:38  lr: 0.000300  loss: 0.1311 (0.1482)  loss_classifier: 0.0437 (0.0547)  loss_box_reg: 0.0686 (0.0702)  loss_objectness: 0.0063 (0.0175)  loss_rpn_box_reg: 0.0024 (0.0057)  time: 0.1676  data: 0.0667  max mem: 3863\n",
      "Epoch: [4]  [ 9400/12099]  eta: 0:07:22  lr: 0.000300  loss: 0.1575 (0.1483)  loss_classifier: 0.0471 (0.0548)  loss_box_reg: 0.0705 (0.0703)  loss_objectness: 0.0119 (0.0176)  loss_rpn_box_reg: 0.0038 (0.0057)  time: 0.1612  data: 0.0646  max mem: 3863\n",
      "Epoch: [4]  [ 9500/12099]  eta: 0:07:05  lr: 0.000300  loss: 0.1123 (0.1484)  loss_classifier: 0.0437 (0.0548)  loss_box_reg: 0.0555 (0.0703)  loss_objectness: 0.0089 (0.0176)  loss_rpn_box_reg: 0.0020 (0.0057)  time: 0.1680  data: 0.0680  max mem: 3863\n",
      "Epoch: [4]  [ 9600/12099]  eta: 0:06:49  lr: 0.000300  loss: 0.1255 (0.1484)  loss_classifier: 0.0561 (0.0548)  loss_box_reg: 0.0677 (0.0703)  loss_objectness: 0.0080 (0.0176)  loss_rpn_box_reg: 0.0021 (0.0057)  time: 0.1596  data: 0.0633  max mem: 3863\n",
      "Epoch: [4]  [ 9700/12099]  eta: 0:06:33  lr: 0.000300  loss: 0.1464 (0.1485)  loss_classifier: 0.0457 (0.0549)  loss_box_reg: 0.0583 (0.0704)  loss_objectness: 0.0113 (0.0176)  loss_rpn_box_reg: 0.0041 (0.0057)  time: 0.1611  data: 0.0651  max mem: 3863\n",
      "Epoch: [4]  [ 9800/12099]  eta: 0:06:16  lr: 0.000300  loss: 0.1793 (0.1486)  loss_classifier: 0.0660 (0.0549)  loss_box_reg: 0.0862 (0.0704)  loss_objectness: 0.0169 (0.0176)  loss_rpn_box_reg: 0.0035 (0.0057)  time: 0.1615  data: 0.0648  max mem: 3863\n",
      "Epoch: [4]  [ 9900/12099]  eta: 0:06:00  lr: 0.000300  loss: 0.1379 (0.1486)  loss_classifier: 0.0358 (0.0549)  loss_box_reg: 0.0731 (0.0704)  loss_objectness: 0.0114 (0.0176)  loss_rpn_box_reg: 0.0030 (0.0057)  time: 0.1676  data: 0.0666  max mem: 3863\n",
      "Epoch: [4]  [10000/12099]  eta: 0:05:43  lr: 0.000300  loss: 0.1020 (0.1485)  loss_classifier: 0.0258 (0.0548)  loss_box_reg: 0.0571 (0.0703)  loss_objectness: 0.0091 (0.0176)  loss_rpn_box_reg: 0.0042 (0.0057)  time: 0.1613  data: 0.0637  max mem: 3863\n",
      "Epoch: [4]  [10100/12099]  eta: 0:05:27  lr: 0.000300  loss: 0.1136 (0.1485)  loss_classifier: 0.0349 (0.0549)  loss_box_reg: 0.0733 (0.0704)  loss_objectness: 0.0097 (0.0176)  loss_rpn_box_reg: 0.0027 (0.0057)  time: 0.1633  data: 0.0647  max mem: 3863\n",
      "Epoch: [4]  [10200/12099]  eta: 0:05:10  lr: 0.000300  loss: 0.1147 (0.1485)  loss_classifier: 0.0373 (0.0548)  loss_box_reg: 0.0566 (0.0704)  loss_objectness: 0.0069 (0.0176)  loss_rpn_box_reg: 0.0020 (0.0057)  time: 0.1610  data: 0.0650  max mem: 3863\n",
      "Epoch: [4]  [10300/12099]  eta: 0:04:54  lr: 0.000300  loss: 0.1416 (0.1485)  loss_classifier: 0.0517 (0.0548)  loss_box_reg: 0.0671 (0.0703)  loss_objectness: 0.0144 (0.0176)  loss_rpn_box_reg: 0.0028 (0.0057)  time: 0.1590  data: 0.0626  max mem: 3863\n",
      "Epoch: [4]  [10400/12099]  eta: 0:04:38  lr: 0.000300  loss: 0.1131 (0.1485)  loss_classifier: 0.0366 (0.0548)  loss_box_reg: 0.0523 (0.0703)  loss_objectness: 0.0139 (0.0176)  loss_rpn_box_reg: 0.0047 (0.0057)  time: 0.1614  data: 0.0658  max mem: 3863\n",
      "Epoch: [4]  [10500/12099]  eta: 0:04:21  lr: 0.000300  loss: 0.1372 (0.1484)  loss_classifier: 0.0487 (0.0548)  loss_box_reg: 0.0757 (0.0703)  loss_objectness: 0.0114 (0.0176)  loss_rpn_box_reg: 0.0032 (0.0057)  time: 0.1640  data: 0.0643  max mem: 3863\n"
     ]
    },
    {
     "name": "stdout",
     "output_type": "stream",
     "text": [
      "Epoch: [4]  [10600/12099]  eta: 0:04:05  lr: 0.000300  loss: 0.1707 (0.1483)  loss_classifier: 0.0523 (0.0547)  loss_box_reg: 0.0744 (0.0703)  loss_objectness: 0.0089 (0.0176)  loss_rpn_box_reg: 0.0021 (0.0057)  time: 0.1660  data: 0.0672  max mem: 3863\n",
      "Epoch: [4]  [10700/12099]  eta: 0:03:48  lr: 0.000300  loss: 0.1221 (0.1483)  loss_classifier: 0.0336 (0.0547)  loss_box_reg: 0.0659 (0.0703)  loss_objectness: 0.0115 (0.0176)  loss_rpn_box_reg: 0.0018 (0.0057)  time: 0.1664  data: 0.0674  max mem: 3863\n",
      "Epoch: [4]  [10800/12099]  eta: 0:03:32  lr: 0.000300  loss: 0.1017 (0.1482)  loss_classifier: 0.0355 (0.0547)  loss_box_reg: 0.0505 (0.0703)  loss_objectness: 0.0117 (0.0176)  loss_rpn_box_reg: 0.0020 (0.0057)  time: 0.1612  data: 0.0644  max mem: 3863\n",
      "Epoch: [4]  [10900/12099]  eta: 0:03:16  lr: 0.000300  loss: 0.1309 (0.1483)  loss_classifier: 0.0406 (0.0547)  loss_box_reg: 0.0645 (0.0703)  loss_objectness: 0.0123 (0.0176)  loss_rpn_box_reg: 0.0029 (0.0057)  time: 0.1589  data: 0.0628  max mem: 3863\n",
      "Epoch: [4]  [11000/12099]  eta: 0:02:59  lr: 0.000300  loss: 0.1500 (0.1484)  loss_classifier: 0.0502 (0.0547)  loss_box_reg: 0.0705 (0.0703)  loss_objectness: 0.0082 (0.0176)  loss_rpn_box_reg: 0.0017 (0.0057)  time: 0.1565  data: 0.0611  max mem: 3863\n",
      "Epoch: [4]  [11100/12099]  eta: 0:02:43  lr: 0.000300  loss: 0.1362 (0.1484)  loss_classifier: 0.0514 (0.0548)  loss_box_reg: 0.0605 (0.0703)  loss_objectness: 0.0111 (0.0177)  loss_rpn_box_reg: 0.0019 (0.0057)  time: 0.1637  data: 0.0663  max mem: 3863\n",
      "Epoch: [4]  [11200/12099]  eta: 0:02:27  lr: 0.000300  loss: 0.1371 (0.1483)  loss_classifier: 0.0409 (0.0547)  loss_box_reg: 0.0667 (0.0703)  loss_objectness: 0.0132 (0.0176)  loss_rpn_box_reg: 0.0023 (0.0056)  time: 0.1580  data: 0.0622  max mem: 3863\n",
      "Epoch: [4]  [11300/12099]  eta: 0:02:10  lr: 0.000300  loss: 0.1692 (0.1483)  loss_classifier: 0.0611 (0.0547)  loss_box_reg: 0.0879 (0.0703)  loss_objectness: 0.0123 (0.0176)  loss_rpn_box_reg: 0.0035 (0.0057)  time: 0.1570  data: 0.0610  max mem: 3863\n",
      "Epoch: [4]  [11400/12099]  eta: 0:01:54  lr: 0.000300  loss: 0.1385 (0.1483)  loss_classifier: 0.0319 (0.0547)  loss_box_reg: 0.0798 (0.0703)  loss_objectness: 0.0082 (0.0177)  loss_rpn_box_reg: 0.0021 (0.0057)  time: 0.1579  data: 0.0619  max mem: 3863\n",
      "Epoch: [4]  [11500/12099]  eta: 0:01:37  lr: 0.000300  loss: 0.1267 (0.1482)  loss_classifier: 0.0408 (0.0547)  loss_box_reg: 0.0553 (0.0702)  loss_objectness: 0.0142 (0.0177)  loss_rpn_box_reg: 0.0033 (0.0057)  time: 0.1573  data: 0.0619  max mem: 3863\n",
      "Epoch: [4]  [11600/12099]  eta: 0:01:21  lr: 0.000300  loss: 0.0890 (0.1482)  loss_classifier: 0.0286 (0.0546)  loss_box_reg: 0.0503 (0.0702)  loss_objectness: 0.0107 (0.0177)  loss_rpn_box_reg: 0.0015 (0.0057)  time: 0.1658  data: 0.0680  max mem: 3863\n",
      "Epoch: [4]  [11700/12099]  eta: 0:01:05  lr: 0.000300  loss: 0.1441 (0.1482)  loss_classifier: 0.0391 (0.0546)  loss_box_reg: 0.0762 (0.0702)  loss_objectness: 0.0116 (0.0177)  loss_rpn_box_reg: 0.0031 (0.0057)  time: 0.1589  data: 0.0623  max mem: 3863\n",
      "Epoch: [4]  [11800/12099]  eta: 0:00:48  lr: 0.000300  loss: 0.1300 (0.1482)  loss_classifier: 0.0502 (0.0546)  loss_box_reg: 0.0682 (0.0702)  loss_objectness: 0.0092 (0.0177)  loss_rpn_box_reg: 0.0023 (0.0057)  time: 0.1598  data: 0.0634  max mem: 3863\n",
      "Epoch: [4]  [11900/12099]  eta: 0:00:32  lr: 0.000300  loss: 0.1241 (0.1482)  loss_classifier: 0.0362 (0.0546)  loss_box_reg: 0.0598 (0.0702)  loss_objectness: 0.0091 (0.0177)  loss_rpn_box_reg: 0.0019 (0.0057)  time: 0.1606  data: 0.0638  max mem: 3863\n",
      "Epoch: [4]  [12000/12099]  eta: 0:00:16  lr: 0.000300  loss: 0.1438 (0.1482)  loss_classifier: 0.0522 (0.0546)  loss_box_reg: 0.0625 (0.0702)  loss_objectness: 0.0118 (0.0177)  loss_rpn_box_reg: 0.0017 (0.0057)  time: 0.1644  data: 0.0664  max mem: 3863\n",
      "Epoch: [4]  [12098/12099]  eta: 0:00:00  lr: 0.000300  loss: 0.1069 (0.1481)  loss_classifier: 0.0365 (0.0546)  loss_box_reg: 0.0582 (0.0702)  loss_objectness: 0.0107 (0.0177)  loss_rpn_box_reg: 0.0017 (0.0057)  time: 0.1633  data: 0.0652  max mem: 3863\n",
      "Epoch: [4] Total time: 0:32:56 (0.1634 s / it)\n",
      "Epoch: [5]  [    0/12099]  eta: 0:30:33  lr: 0.000030  loss: 0.0963 (0.0963)  loss_classifier: 0.0354 (0.0354)  loss_box_reg: 0.0580 (0.0580)  loss_objectness: 0.0018 (0.0018)  loss_rpn_box_reg: 0.0011 (0.0011)  time: 0.1515  data: 0.0550  max mem: 3863\n",
      "Epoch: [5]  [  100/12099]  eta: 0:34:32  lr: 0.000030  loss: 0.1004 (0.1400)  loss_classifier: 0.0320 (0.0482)  loss_box_reg: 0.0542 (0.0662)  loss_objectness: 0.0075 (0.0193)  loss_rpn_box_reg: 0.0024 (0.0063)  time: 0.1763  data: 0.0718  max mem: 3863\n",
      "Epoch: [5]  [  200/12099]  eta: 0:34:32  lr: 0.000030  loss: 0.1371 (0.1474)  loss_classifier: 0.0458 (0.0530)  loss_box_reg: 0.0634 (0.0690)  loss_objectness: 0.0110 (0.0190)  loss_rpn_box_reg: 0.0024 (0.0064)  time: 0.1773  data: 0.0715  max mem: 3863\n",
      "Epoch: [5]  [  300/12099]  eta: 0:34:33  lr: 0.000030  loss: 0.1272 (0.1468)  loss_classifier: 0.0360 (0.0529)  loss_box_reg: 0.0763 (0.0693)  loss_objectness: 0.0110 (0.0183)  loss_rpn_box_reg: 0.0020 (0.0062)  time: 0.1850  data: 0.0778  max mem: 3863\n",
      "Epoch: [5]  [  400/12099]  eta: 0:34:14  lr: 0.000030  loss: 0.1845 (0.1480)  loss_classifier: 0.0590 (0.0528)  loss_box_reg: 0.0900 (0.0712)  loss_objectness: 0.0124 (0.0179)  loss_rpn_box_reg: 0.0021 (0.0061)  time: 0.1729  data: 0.0713  max mem: 3863\n",
      "Epoch: [5]  [  500/12099]  eta: 0:33:34  lr: 0.000030  loss: 0.1158 (0.1494)  loss_classifier: 0.0338 (0.0533)  loss_box_reg: 0.0633 (0.0719)  loss_objectness: 0.0132 (0.0181)  loss_rpn_box_reg: 0.0031 (0.0060)  time: 0.1685  data: 0.0659  max mem: 3863\n",
      "Epoch: [5]  [  600/12099]  eta: 0:33:25  lr: 0.000030  loss: 0.1269 (0.1490)  loss_classifier: 0.0391 (0.0530)  loss_box_reg: 0.0726 (0.0721)  loss_objectness: 0.0080 (0.0180)  loss_rpn_box_reg: 0.0023 (0.0058)  time: 0.1780  data: 0.0713  max mem: 3863\n",
      "Epoch: [5]  [  700/12099]  eta: 0:33:13  lr: 0.000030  loss: 0.1224 (0.1475)  loss_classifier: 0.0479 (0.0527)  loss_box_reg: 0.0529 (0.0711)  loss_objectness: 0.0093 (0.0180)  loss_rpn_box_reg: 0.0017 (0.0057)  time: 0.1773  data: 0.0712  max mem: 3863\n",
      "Epoch: [5]  [  800/12099]  eta: 0:32:59  lr: 0.000030  loss: 0.1338 (0.1467)  loss_classifier: 0.0428 (0.0524)  loss_box_reg: 0.0718 (0.0709)  loss_objectness: 0.0084 (0.0178)  loss_rpn_box_reg: 0.0015 (0.0056)  time: 0.1797  data: 0.0717  max mem: 3863\n",
      "Epoch: [5]  [  900/12099]  eta: 0:32:37  lr: 0.000030  loss: 0.1643 (0.1467)  loss_classifier: 0.0565 (0.0527)  loss_box_reg: 0.0769 (0.0706)  loss_objectness: 0.0105 (0.0178)  loss_rpn_box_reg: 0.0030 (0.0056)  time: 0.1640  data: 0.0650  max mem: 3863\n",
      "Epoch: [5]  [ 1000/12099]  eta: 0:32:13  lr: 0.000030  loss: 0.1450 (0.1475)  loss_classifier: 0.0516 (0.0529)  loss_box_reg: 0.0586 (0.0705)  loss_objectness: 0.0138 (0.0186)  loss_rpn_box_reg: 0.0018 (0.0056)  time: 0.1701  data: 0.0685  max mem: 3863\n",
      "Epoch: [5]  [ 1100/12099]  eta: 0:31:47  lr: 0.000030  loss: 0.1274 (0.1471)  loss_classifier: 0.0437 (0.0526)  loss_box_reg: 0.0625 (0.0705)  loss_objectness: 0.0142 (0.0184)  loss_rpn_box_reg: 0.0020 (0.0056)  time: 0.1678  data: 0.0683  max mem: 3863\n",
      "Epoch: [5]  [ 1200/12099]  eta: 0:31:25  lr: 0.000030  loss: 0.1308 (0.1476)  loss_classifier: 0.0464 (0.0530)  loss_box_reg: 0.0623 (0.0705)  loss_objectness: 0.0121 (0.0185)  loss_rpn_box_reg: 0.0021 (0.0056)  time: 0.1688  data: 0.0690  max mem: 3863\n",
      "Epoch: [5]  [ 1300/12099]  eta: 0:31:02  lr: 0.000030  loss: 0.1391 (0.1470)  loss_classifier: 0.0465 (0.0529)  loss_box_reg: 0.0725 (0.0702)  loss_objectness: 0.0076 (0.0184)  loss_rpn_box_reg: 0.0019 (0.0055)  time: 0.1662  data: 0.0673  max mem: 3863\n",
      "Epoch: [5]  [ 1400/12099]  eta: 0:30:39  lr: 0.000030  loss: 0.1257 (0.1469)  loss_classifier: 0.0361 (0.0530)  loss_box_reg: 0.0706 (0.0703)  loss_objectness: 0.0077 (0.0181)  loss_rpn_box_reg: 0.0019 (0.0055)  time: 0.1640  data: 0.0651  max mem: 3863\n",
      "Epoch: [5]  [ 1500/12099]  eta: 0:30:21  lr: 0.000030  loss: 0.1178 (0.1463)  loss_classifier: 0.0350 (0.0528)  loss_box_reg: 0.0628 (0.0699)  loss_objectness: 0.0093 (0.0182)  loss_rpn_box_reg: 0.0030 (0.0055)  time: 0.1654  data: 0.0663  max mem: 3863\n",
      "Epoch: [5]  [ 1600/12099]  eta: 0:30:00  lr: 0.000030  loss: 0.1528 (0.1463)  loss_classifier: 0.0543 (0.0528)  loss_box_reg: 0.0624 (0.0699)  loss_objectness: 0.0091 (0.0182)  loss_rpn_box_reg: 0.0021 (0.0055)  time: 0.1726  data: 0.0700  max mem: 3863\n"
     ]
    },
    {
     "name": "stdout",
     "output_type": "stream",
     "text": [
      "Epoch: [5]  [ 1700/12099]  eta: 0:29:48  lr: 0.000030  loss: 0.1482 (0.1455)  loss_classifier: 0.0445 (0.0523)  loss_box_reg: 0.0820 (0.0695)  loss_objectness: 0.0111 (0.0180)  loss_rpn_box_reg: 0.0032 (0.0056)  time: 0.1785  data: 0.0740  max mem: 3863\n",
      "Epoch: [5]  [ 1800/12099]  eta: 0:29:36  lr: 0.000030  loss: 0.1445 (0.1454)  loss_classifier: 0.0466 (0.0524)  loss_box_reg: 0.0661 (0.0694)  loss_objectness: 0.0125 (0.0181)  loss_rpn_box_reg: 0.0015 (0.0056)  time: 0.1806  data: 0.0736  max mem: 3863\n",
      "Epoch: [5]  [ 1900/12099]  eta: 0:29:24  lr: 0.000030  loss: 0.1369 (0.1451)  loss_classifier: 0.0487 (0.0524)  loss_box_reg: 0.0699 (0.0692)  loss_objectness: 0.0096 (0.0179)  loss_rpn_box_reg: 0.0014 (0.0056)  time: 0.1915  data: 0.0825  max mem: 3863\n",
      "Epoch: [5]  [ 2000/12099]  eta: 0:29:10  lr: 0.000030  loss: 0.1204 (0.1450)  loss_classifier: 0.0312 (0.0525)  loss_box_reg: 0.0568 (0.0690)  loss_objectness: 0.0090 (0.0178)  loss_rpn_box_reg: 0.0023 (0.0056)  time: 0.1765  data: 0.0697  max mem: 3863\n",
      "Epoch: [5]  [ 2100/12099]  eta: 0:28:51  lr: 0.000030  loss: 0.1318 (0.1448)  loss_classifier: 0.0363 (0.0525)  loss_box_reg: 0.0576 (0.0689)  loss_objectness: 0.0138 (0.0178)  loss_rpn_box_reg: 0.0027 (0.0056)  time: 0.1695  data: 0.0674  max mem: 3863\n",
      "Epoch: [5]  [ 2200/12099]  eta: 0:28:39  lr: 0.000030  loss: 0.1633 (0.1449)  loss_classifier: 0.0494 (0.0525)  loss_box_reg: 0.0811 (0.0689)  loss_objectness: 0.0176 (0.0178)  loss_rpn_box_reg: 0.0024 (0.0056)  time: 0.1667  data: 0.0656  max mem: 3863\n",
      "Epoch: [5]  [ 2300/12099]  eta: 0:28:21  lr: 0.000030  loss: 0.1280 (0.1448)  loss_classifier: 0.0478 (0.0524)  loss_box_reg: 0.0581 (0.0690)  loss_objectness: 0.0107 (0.0178)  loss_rpn_box_reg: 0.0022 (0.0056)  time: 0.1618  data: 0.0662  max mem: 3863\n",
      "Epoch: [5]  [ 2400/12099]  eta: 0:28:00  lr: 0.000030  loss: 0.1201 (0.1450)  loss_classifier: 0.0430 (0.0525)  loss_box_reg: 0.0597 (0.0692)  loss_objectness: 0.0085 (0.0178)  loss_rpn_box_reg: 0.0024 (0.0056)  time: 0.1608  data: 0.0644  max mem: 3863\n",
      "Epoch: [5]  [ 2500/12099]  eta: 0:27:38  lr: 0.000030  loss: 0.1342 (0.1450)  loss_classifier: 0.0409 (0.0525)  loss_box_reg: 0.0796 (0.0691)  loss_objectness: 0.0106 (0.0178)  loss_rpn_box_reg: 0.0022 (0.0056)  time: 0.1589  data: 0.0627  max mem: 3863\n",
      "Epoch: [5]  [ 2600/12099]  eta: 0:27:16  lr: 0.000030  loss: 0.1586 (0.1456)  loss_classifier: 0.0508 (0.0527)  loss_box_reg: 0.0913 (0.0695)  loss_objectness: 0.0113 (0.0178)  loss_rpn_box_reg: 0.0031 (0.0056)  time: 0.1582  data: 0.0621  max mem: 3863\n",
      "Epoch: [5]  [ 2700/12099]  eta: 0:26:54  lr: 0.000030  loss: 0.1582 (0.1454)  loss_classifier: 0.0551 (0.0527)  loss_box_reg: 0.0801 (0.0693)  loss_objectness: 0.0106 (0.0177)  loss_rpn_box_reg: 0.0028 (0.0056)  time: 0.1577  data: 0.0620  max mem: 3863\n",
      "Epoch: [5]  [ 2800/12099]  eta: 0:26:32  lr: 0.000030  loss: 0.1289 (0.1453)  loss_classifier: 0.0522 (0.0527)  loss_box_reg: 0.0520 (0.0692)  loss_objectness: 0.0082 (0.0177)  loss_rpn_box_reg: 0.0023 (0.0056)  time: 0.1585  data: 0.0628  max mem: 3863\n",
      "Epoch: [5]  [ 2900/12099]  eta: 0:26:14  lr: 0.000030  loss: 0.1343 (0.1454)  loss_classifier: 0.0487 (0.0527)  loss_box_reg: 0.0674 (0.0693)  loss_objectness: 0.0147 (0.0178)  loss_rpn_box_reg: 0.0042 (0.0056)  time: 0.1684  data: 0.0699  max mem: 3863\n",
      "Epoch: [5]  [ 3000/12099]  eta: 0:25:54  lr: 0.000030  loss: 0.1456 (0.1453)  loss_classifier: 0.0537 (0.0527)  loss_box_reg: 0.0650 (0.0692)  loss_objectness: 0.0100 (0.0177)  loss_rpn_box_reg: 0.0021 (0.0057)  time: 0.1624  data: 0.0654  max mem: 3863\n",
      "Epoch: [5]  [ 3100/12099]  eta: 0:25:34  lr: 0.000030  loss: 0.1477 (0.1457)  loss_classifier: 0.0587 (0.0529)  loss_box_reg: 0.0748 (0.0694)  loss_objectness: 0.0088 (0.0178)  loss_rpn_box_reg: 0.0019 (0.0056)  time: 0.1630  data: 0.0654  max mem: 3863\n",
      "Epoch: [5]  [ 3200/12099]  eta: 0:25:15  lr: 0.000030  loss: 0.1390 (0.1456)  loss_classifier: 0.0484 (0.0528)  loss_box_reg: 0.0642 (0.0694)  loss_objectness: 0.0120 (0.0177)  loss_rpn_box_reg: 0.0024 (0.0056)  time: 0.1592  data: 0.0636  max mem: 3863\n",
      "Epoch: [5]  [ 3300/12099]  eta: 0:24:55  lr: 0.000030  loss: 0.1547 (0.1454)  loss_classifier: 0.0601 (0.0528)  loss_box_reg: 0.0767 (0.0693)  loss_objectness: 0.0078 (0.0177)  loss_rpn_box_reg: 0.0025 (0.0056)  time: 0.1630  data: 0.0655  max mem: 3863\n",
      "Epoch: [5]  [ 3400/12099]  eta: 0:24:36  lr: 0.000030  loss: 0.1645 (0.1456)  loss_classifier: 0.0649 (0.0529)  loss_box_reg: 0.0702 (0.0694)  loss_objectness: 0.0127 (0.0177)  loss_rpn_box_reg: 0.0030 (0.0057)  time: 0.1586  data: 0.0621  max mem: 3863\n",
      "Epoch: [5]  [ 3500/12099]  eta: 0:24:17  lr: 0.000030  loss: 0.1404 (0.1457)  loss_classifier: 0.0334 (0.0530)  loss_box_reg: 0.0689 (0.0695)  loss_objectness: 0.0089 (0.0176)  loss_rpn_box_reg: 0.0028 (0.0056)  time: 0.1598  data: 0.0626  max mem: 3863\n",
      "Epoch: [5]  [ 3600/12099]  eta: 0:23:58  lr: 0.000030  loss: 0.1525 (0.1457)  loss_classifier: 0.0512 (0.0530)  loss_box_reg: 0.0844 (0.0696)  loss_objectness: 0.0087 (0.0175)  loss_rpn_box_reg: 0.0032 (0.0056)  time: 0.1595  data: 0.0638  max mem: 3863\n",
      "Epoch: [5]  [ 3700/12099]  eta: 0:23:40  lr: 0.000030  loss: 0.1215 (0.1460)  loss_classifier: 0.0401 (0.0531)  loss_box_reg: 0.0491 (0.0698)  loss_objectness: 0.0119 (0.0175)  loss_rpn_box_reg: 0.0010 (0.0056)  time: 0.1776  data: 0.0746  max mem: 3863\n",
      "Epoch: [5]  [ 3800/12099]  eta: 0:23:23  lr: 0.000030  loss: 0.1545 (0.1463)  loss_classifier: 0.0501 (0.0533)  loss_box_reg: 0.0698 (0.0699)  loss_objectness: 0.0094 (0.0175)  loss_rpn_box_reg: 0.0020 (0.0056)  time: 0.1606  data: 0.0642  max mem: 3863\n",
      "Epoch: [5]  [ 3900/12099]  eta: 0:23:04  lr: 0.000030  loss: 0.1296 (0.1465)  loss_classifier: 0.0438 (0.0534)  loss_box_reg: 0.0559 (0.0700)  loss_objectness: 0.0184 (0.0175)  loss_rpn_box_reg: 0.0047 (0.0056)  time: 0.1602  data: 0.0637  max mem: 3863\n",
      "Epoch: [5]  [ 4000/12099]  eta: 0:22:47  lr: 0.000030  loss: 0.1176 (0.1462)  loss_classifier: 0.0280 (0.0532)  loss_box_reg: 0.0567 (0.0699)  loss_objectness: 0.0068 (0.0174)  loss_rpn_box_reg: 0.0021 (0.0056)  time: 0.1682  data: 0.0697  max mem: 3863\n",
      "Epoch: [5]  [ 4100/12099]  eta: 0:22:34  lr: 0.000030  loss: 0.1255 (0.1464)  loss_classifier: 0.0405 (0.0533)  loss_box_reg: 0.0609 (0.0700)  loss_objectness: 0.0145 (0.0175)  loss_rpn_box_reg: 0.0019 (0.0056)  time: 0.1792  data: 0.0802  max mem: 3863\n",
      "Epoch: [5]  [ 4200/12099]  eta: 0:22:15  lr: 0.000030  loss: 0.1193 (0.1464)  loss_classifier: 0.0448 (0.0533)  loss_box_reg: 0.0633 (0.0700)  loss_objectness: 0.0105 (0.0175)  loss_rpn_box_reg: 0.0021 (0.0056)  time: 0.1608  data: 0.0644  max mem: 3863\n",
      "Epoch: [5]  [ 4300/12099]  eta: 0:21:57  lr: 0.000030  loss: 0.1101 (0.1462)  loss_classifier: 0.0370 (0.0531)  loss_box_reg: 0.0592 (0.0700)  loss_objectness: 0.0089 (0.0174)  loss_rpn_box_reg: 0.0026 (0.0057)  time: 0.1597  data: 0.0628  max mem: 3863\n",
      "Epoch: [5]  [ 4400/12099]  eta: 0:21:39  lr: 0.000030  loss: 0.1222 (0.1461)  loss_classifier: 0.0380 (0.0531)  loss_box_reg: 0.0624 (0.0699)  loss_objectness: 0.0074 (0.0174)  loss_rpn_box_reg: 0.0017 (0.0057)  time: 0.1607  data: 0.0630  max mem: 3863\n",
      "Epoch: [5]  [ 4500/12099]  eta: 0:21:21  lr: 0.000030  loss: 0.1765 (0.1461)  loss_classifier: 0.0671 (0.0531)  loss_box_reg: 0.0636 (0.0699)  loss_objectness: 0.0117 (0.0174)  loss_rpn_box_reg: 0.0015 (0.0057)  time: 0.1619  data: 0.0653  max mem: 3863\n",
      "Epoch: [5]  [ 4600/12099]  eta: 0:21:03  lr: 0.000030  loss: 0.1069 (0.1457)  loss_classifier: 0.0334 (0.0530)  loss_box_reg: 0.0586 (0.0697)  loss_objectness: 0.0092 (0.0173)  loss_rpn_box_reg: 0.0017 (0.0057)  time: 0.1596  data: 0.0623  max mem: 3863\n",
      "Epoch: [5]  [ 4700/12099]  eta: 0:20:46  lr: 0.000030  loss: 0.1227 (0.1455)  loss_classifier: 0.0437 (0.0529)  loss_box_reg: 0.0608 (0.0697)  loss_objectness: 0.0089 (0.0172)  loss_rpn_box_reg: 0.0021 (0.0057)  time: 0.1615  data: 0.0645  max mem: 3863\n",
      "Epoch: [5]  [ 4800/12099]  eta: 0:20:28  lr: 0.000030  loss: 0.1420 (0.1454)  loss_classifier: 0.0571 (0.0529)  loss_box_reg: 0.0678 (0.0697)  loss_objectness: 0.0112 (0.0172)  loss_rpn_box_reg: 0.0023 (0.0057)  time: 0.1650  data: 0.0656  max mem: 3863\n",
      "Epoch: [5]  [ 4900/12099]  eta: 0:20:11  lr: 0.000030  loss: 0.1392 (0.1455)  loss_classifier: 0.0418 (0.0529)  loss_box_reg: 0.0612 (0.0697)  loss_objectness: 0.0093 (0.0173)  loss_rpn_box_reg: 0.0023 (0.0056)  time: 0.1644  data: 0.0666  max mem: 3863\n"
     ]
    },
    {
     "name": "stdout",
     "output_type": "stream",
     "text": [
      "Epoch: [5]  [ 5000/12099]  eta: 0:19:54  lr: 0.000030  loss: 0.1348 (0.1457)  loss_classifier: 0.0450 (0.0529)  loss_box_reg: 0.0785 (0.0697)  loss_objectness: 0.0073 (0.0174)  loss_rpn_box_reg: 0.0021 (0.0056)  time: 0.1818  data: 0.0756  max mem: 3863\n",
      "Epoch: [5]  [ 5100/12099]  eta: 0:19:38  lr: 0.000030  loss: 0.1128 (0.1454)  loss_classifier: 0.0305 (0.0528)  loss_box_reg: 0.0613 (0.0697)  loss_objectness: 0.0125 (0.0173)  loss_rpn_box_reg: 0.0017 (0.0056)  time: 0.1754  data: 0.0731  max mem: 3863\n",
      "Epoch: [5]  [ 5200/12099]  eta: 0:19:21  lr: 0.000030  loss: 0.1523 (0.1454)  loss_classifier: 0.0437 (0.0528)  loss_box_reg: 0.0610 (0.0696)  loss_objectness: 0.0121 (0.0174)  loss_rpn_box_reg: 0.0029 (0.0056)  time: 0.1704  data: 0.0668  max mem: 3863\n",
      "Epoch: [5]  [ 5300/12099]  eta: 0:19:04  lr: 0.000030  loss: 0.1163 (0.1455)  loss_classifier: 0.0382 (0.0529)  loss_box_reg: 0.0575 (0.0696)  loss_objectness: 0.0063 (0.0174)  loss_rpn_box_reg: 0.0021 (0.0056)  time: 0.1599  data: 0.0636  max mem: 3863\n"
     ]
    }
   ],
   "source": [
    "# TRAIN\n",
    "all_train_logs, all_trans_valid_logs, all_cis_valid_logs = train(dataloader=train_dataloader, num_epochs=num_epochs)"
   ]
  },
  {
   "cell_type": "markdown",
   "metadata": {},
   "source": [
    "# Checking the log results"
   ]
  },
  {
   "cell_type": "markdown",
   "metadata": {},
   "source": [
    "##### Ensures that if you hit the training cell, you don't lose the variables containing the logs from the last run"
   ]
  },
  {
   "cell_type": "code",
   "execution_count": null,
   "metadata": {
    "scrolled": true
   },
   "outputs": [],
   "source": [
    "last_train_logs = all_train_logs\n",
    "last_trans_valid_logs = all_trans_valid_logs\n",
    "last_cis_valid_logs = all_cis_valid_logs"
   ]
  },
  {
   "cell_type": "markdown",
   "metadata": {},
   "source": [
    "##### Converts the logs to lists and the tensors to numpy "
   ]
  },
  {
   "cell_type": "code",
   "execution_count": null,
   "metadata": {},
   "outputs": [],
   "source": [
    "train_logs = train_logs_to_lst(last_train_logs)\n",
    "cis_valid_logs = valid_logs_to_lst(last_cis_valid_logs)\n",
    "trans_valid_logs = valid_logs_to_lst(last_trans_valid_logs)"
   ]
  },
  {
   "cell_type": "markdown",
   "metadata": {},
   "source": [
    "## Results"
   ]
  },
  {
   "cell_type": "code",
   "execution_count": null,
   "metadata": {},
   "outputs": [],
   "source": [
    "# To confirm that the data is loaded properly\n",
    "n = len(train_logs)\n",
    "print(n)"
   ]
  },
  {
   "cell_type": "code",
   "execution_count": null,
   "metadata": {},
   "outputs": [],
   "source": [
    "# Train loss to print (here we use global_avg but we can use: value, median, avg, max or global_avg)\n",
    "\n",
    "results_train_loss = []\n",
    "\n",
    "for i in range(n):\n",
    "    results_train_loss.append(train_logs[i]['loss_box_reg']['global_avg'])\n",
    "    \n",
    "# Cis valid loss to print\n",
    "results_cis_valid_loss = [] # cis\n",
    "\n",
    "for i in range(n):\n",
    "    loss_interm = 0\n",
    "    for j in range(len(cis_valid_dataloader)):\n",
    "        loss_interm += cis_valid_logs[(len(cis_valid_dataloader) * i) + j]['loss_rpn_box_reg']\n",
    "    results_cis_valid_loss.append(loss_interm)\n",
    "\n",
    "# Trans valid loss to print\n",
    "results_trans_valid_loss = [] # trans\n",
    "\n",
    "for i in range(n):\n",
    "    loss_interm = 0\n",
    "    for j in range(len(trans_valid_dataloader)):\n",
    "        loss_interm += trans_valid_logs[(len(trans_valid_dataloader) * i) + j]['loss_rpn_box_reg']\n",
    "    results_trans_valid_loss.append(loss_interm)"
   ]
  },
  {
   "cell_type": "markdown",
   "metadata": {},
   "source": [
    "### Training and valid Plots"
   ]
  },
  {
   "cell_type": "code",
   "execution_count": null,
   "metadata": {},
   "outputs": [],
   "source": [
    "# Printing the different plots\n",
    "fig, ax = plt.subplots(1,2, figsize=(20,6))\n",
    "\n",
    "ax[0].plot(np.arange(1, n + 1), results_train_loss, label='train')\n",
    "ax[0].set_title('Train loss per epoch')\n",
    "ax[0].set_ylabel('loss_box_reg')\n",
    "ax[0].set_xlabel('epoch')\n",
    "\n",
    "plt.title('Train loss per epoch')\n",
    "ax[1].plot(np.arange(1, n + 1), results_cis_valid_loss, label='cis')\n",
    "ax[1].plot(np.arange(1, n + 1), results_trans_valid_loss, label='trans')\n",
    "ax[1].set_title('Valid loss per epoch')\n",
    "ax[1].set_ylabel('loss_box_reg')\n",
    "ax[1].set_xlabel('epoch')\n",
    "ax[1].legend()"
   ]
  },
  {
   "cell_type": "markdown",
   "metadata": {},
   "source": [
    "#### Save the figure to pdf format in the figures folder"
   ]
  },
  {
   "cell_type": "code",
   "execution_count": null,
   "metadata": {},
   "outputs": [],
   "source": [
    "fig.savefig(\"saved_figures/\" + time.strftime(\"%Y%m%d_%H%M%S\") + \"_figure.pdf\")"
   ]
  },
  {
   "cell_type": "markdown",
   "metadata": {},
   "source": [
    "# Evaluate on COCO detection metrics"
   ]
  },
  {
   "cell_type": "markdown",
   "metadata": {},
   "source": [
    "### Test on COCO metrics from data loaders\n",
    "##### 'For evaluation, we consider a detected box to be correct if its IoU ≥ 0.5 with a ground truth box.'\n",
    "\n",
    "We need to look at the precison score with IoU=0.5, area=all and maxDets=100.\n",
    "For the recall score, by default it's IoU=0.5:IoU=0.95."
   ]
  },
  {
   "cell_type": "code",
   "execution_count": null,
   "metadata": {
    "scrolled": true
   },
   "outputs": [],
   "source": [
    "# takes +- 25min to run on cis_test with full dataloader\n",
    "cis_coco_evaluator = evaluate(cis_test_dataloader, cis_coco)"
   ]
  },
  {
   "cell_type": "code",
   "execution_count": null,
   "metadata": {
    "scrolled": true
   },
   "outputs": [],
   "source": [
    "# takes +- 25min to run on trans_test with full dataloader\n",
    "trans_coco_evaluator = evaluate(trans_test_dataloader, trans_coco)"
   ]
  },
  {
   "cell_type": "code",
   "execution_count": null,
   "metadata": {},
   "outputs": [],
   "source": [
    "print('cis test 15 epochs rpn + roi online data augmentation')\n",
    "print('_'*80)\n",
    "cis_coco_evaluator.summarize()"
   ]
  },
  {
   "cell_type": "code",
   "execution_count": null,
   "metadata": {},
   "outputs": [],
   "source": [
    "print('trans test 15 epochs rpn + roi online data augmentation')\n",
    "print('_'*80)\n",
    "trans_coco_evaluator.summarize()"
   ]
  },
  {
   "cell_type": "markdown",
   "metadata": {
    "id": "SPV4Pxyajekr"
   },
   "source": [
    "## Make Predictions with a model"
   ]
  },
  {
   "cell_type": "markdown",
   "metadata": {},
   "source": [
    "### Load 10 random predictions"
   ]
  },
  {
   "cell_type": "code",
   "execution_count": null,
   "metadata": {
    "id": "1dTlEPVhRVHE"
   },
   "outputs": [],
   "source": [
    "# Loads 10 images and makes the model do predictions on these images\n",
    "# WARNING: Takes GPU ram space\n",
    "train_features, train_labels = next(iter(trans_valid_dataloader))\n",
    "image = list(image.to(device) for image in train_features)\n",
    "\n",
    "model.eval()\n",
    "with torch.no_grad():\n",
    "      pred = model(image)"
   ]
  },
  {
   "cell_type": "code",
   "execution_count": null,
   "metadata": {},
   "outputs": [],
   "source": [
    "# Prints 10 images with the predictions before and after NMS\n",
    "for image_i in range(len(image)):\n",
    "    fig, ax = plt.subplots(1,3,figsize=(24,16))\n",
    "\n",
    "    ax[0].imshow(train_features[image_i][0].squeeze(),cmap=\"gray\")\n",
    "    rect = patches.Rectangle((train_labels[image_i]['boxes'][0][0], \n",
    "                              train_labels[image_i]['boxes'][0][1]), \n",
    "                             train_labels[image_i]['boxes'][0][2]-train_labels[image_i]['boxes'][0][0], \n",
    "                             train_labels[image_i]['boxes'][0][3]-train_labels[image_i]['boxes'][0][1], \n",
    "                             linewidth=2, edgecolor='r', facecolor='none')\n",
    "    ax[0].add_patch(rect)\n",
    "    ax[0].set_title('Ground truth')\n",
    "\n",
    "    # Predictions\n",
    "    ax[1].imshow(train_features[image_i][0].squeeze(),cmap=\"gray\")\n",
    "    for i in range(len(pred[image_i]['boxes'])):\n",
    "        rect = patches.Rectangle((pred[image_i]['boxes'][i][0].cpu(), \n",
    "                                  pred[image_i]['boxes'][i][1].cpu()), \n",
    "                                 (pred[image_i]['boxes'][i][2]-pred[image_i]['boxes'][i][0]).cpu(), \n",
    "                                 (pred[image_i]['boxes'][i][3]-pred[image_i]['boxes'][i][1]).cpu(), \n",
    "                                 linewidth=2, edgecolor='r', facecolor='none')\n",
    "        ax[1].add_patch(rect)\n",
    "    ax[1].set_title('Pred')\n",
    "\n",
    "    # Predictions after NMS\n",
    "    iou_threshold = 0.001 # param to tune\n",
    "    boxes_to_keep = torchvision.ops.nms(pred[image_i]['boxes'], pred[image_i]['scores'], iou_threshold = iou_threshold).cpu()\n",
    "    ax[2].imshow(train_features[image_i][0].squeeze(),cmap=\"gray\")\n",
    "    for i in boxes_to_keep:\n",
    "        rect = patches.Rectangle((pred[image_i]['boxes'][i][0].cpu(), \n",
    "                                  pred[image_i]['boxes'][i][1].cpu()), \n",
    "                                 (pred[image_i]['boxes'][i][2]-pred[image_i]['boxes'][i][0]).cpu(), \n",
    "                                 (pred[image_i]['boxes'][i][3]-pred[image_i]['boxes'][i][1]).cpu(), \n",
    "                                 linewidth=2, edgecolor='r', facecolor='none')\n",
    "        ax[2].add_patch(rect)\n",
    "\n",
    "    ax[2].set_title('After NMS')"
   ]
  },
  {
   "cell_type": "code",
   "execution_count": null,
   "metadata": {
    "colab": {
     "base_uri": "https://localhost:8080/",
     "height": 368
    },
    "id": "tkwIJ6cCeRq3",
    "outputId": "33012e5f-2664-46ef-fa1e-b54bf5e2faf5",
    "scrolled": true
   },
   "outputs": [],
   "source": [
    "# Print a single image chosen by index from the last batch of 10 predictions\n",
    "image_i = 3 # from 0 to 9 included\n",
    "\n",
    "fig, ax = plt.subplots(1,3,figsize=(24,16))\n",
    "\n",
    "ax[0].imshow(train_features[image_i][0].squeeze(),cmap=\"gray\")\n",
    "for i in range(len(train_labels[image_i]['boxes'])):\n",
    "    rect = patches.Rectangle((train_labels[image_i]['boxes'][i][0], \n",
    "                            train_labels[image_i]['boxes'][i][1]), \n",
    "                            train_labels[image_i]['boxes'][i][2]-train_labels[image_i]['boxes'][i][0], \n",
    "                            train_labels[image_i]['boxes'][i][3]-train_labels[image_i]['boxes'][i][1], \n",
    "                            linewidth=2, edgecolor='r', facecolor='none')\n",
    "    ax[0].add_patch(rect)\n",
    "ax[0].set_title('Ground truth')\n",
    "\n",
    "# Predictions\n",
    "ax[1].imshow(train_features[image_i][0].squeeze(),cmap=\"gray\")\n",
    "for i in range(len(pred[image_i]['boxes'])):\n",
    "    rect = patches.Rectangle((pred[image_i]['boxes'][i][0].cpu(), \n",
    "                              pred[image_i]['boxes'][i][1].cpu()), \n",
    "                             (pred[image_i]['boxes'][i][2]-pred[image_i]['boxes'][i][0]).cpu(), \n",
    "                             (pred[image_i]['boxes'][i][3]-pred[image_i]['boxes'][i][1]).cpu(), \n",
    "                             linewidth=2, edgecolor='r', facecolor='none')\n",
    "    ax[1].add_patch(rect)\n",
    "ax[1].set_title('Pred')\n",
    "\n",
    "# Predictions after NMS\n",
    "iou_threshold = 0.01 # param to tune\n",
    "boxes_to_keep = torchvision.ops.nms(pred[image_i]['boxes'], pred[image_i]['scores'], iou_threshold = iou_threshold).cpu()\n",
    "ax[2].imshow(train_features[image_i][0].squeeze(),cmap=\"gray\")\n",
    "for i in boxes_to_keep:\n",
    "    rect = patches.Rectangle((pred[image_i]['boxes'][i][0].cpu(), \n",
    "                              pred[image_i]['boxes'][i][1].cpu()), \n",
    "                             (pred[image_i]['boxes'][i][2]-pred[image_i]['boxes'][i][0]).cpu(), \n",
    "                             (pred[image_i]['boxes'][i][3]-pred[image_i]['boxes'][i][1]).cpu(), \n",
    "                             linewidth=2, edgecolor='r', facecolor='none')\n",
    "    ax[2].add_patch(rect)\n",
    "\n",
    "ax[2].set_title('After NMS')"
   ]
  },
  {
   "cell_type": "markdown",
   "metadata": {},
   "source": [
    "# Method 1 (Subspace alignment based Domain adaptation)"
   ]
  },
  {
   "cell_type": "markdown",
   "metadata": {},
   "source": [
    "## Some new imports"
   ]
  },
  {
   "cell_type": "code",
   "execution_count": null,
   "metadata": {},
   "outputs": [],
   "source": [
    "# More imports needed to use the method\n",
    "import torchvision.ops.boxes as bops\n",
    "from sklearn.decomposition import PCA\n",
    "from sklearn.preprocessing import StandardScaler\n",
    "from torch import nn"
   ]
  },
  {
   "cell_type": "markdown",
   "metadata": {},
   "source": [
    "### Some utils method"
   ]
  },
  {
   "cell_type": "code",
   "execution_count": null,
   "metadata": {},
   "outputs": [],
   "source": [
    "def center_data(X, center_row=False):\n",
    "    if center_row:\n",
    "        # center data per row\n",
    "        scaler_row = StandardScaler()\n",
    "        X_scaled_row = scaler_row.fit_transform(X.T)\n",
    "\n",
    "        # center data per column\n",
    "        scaler_col = StandardScaler()\n",
    "        X_scaled = scaler_col.fit_transform(X_scaled_row.T)\n",
    "        return X_scaled\n",
    "    else:\n",
    "        # center data\n",
    "        scaler = StandardScaler()\n",
    "        X_scaled = scaler.fit_transform(X)\n",
    "        return X_scaled"
   ]
  },
  {
   "cell_type": "markdown",
   "metadata": {},
   "source": [
    "### Using the same model that we just trained"
   ]
  },
  {
   "cell_type": "markdown",
   "metadata": {},
   "source": [
    "Otherwise, you can just load a model by uncommenting the following code"
   ]
  },
  {
   "cell_type": "code",
   "execution_count": null,
   "metadata": {},
   "outputs": [],
   "source": [
    "# # UNCOMMENT THE FOLLOWING LINE TO LOAD A MODEL:\n",
    "# model, optimizer, lr_scheduler = load_model(3, \"10_rpn_roi_4\")"
   ]
  },
  {
   "cell_type": "code",
   "execution_count": null,
   "metadata": {},
   "outputs": [],
   "source": [
    "# Choose the number of dimensions to keep in PCA\n",
    "d_pca = 512\n",
    "\n",
    "# Tell the program to save the matrix created\n",
    "save_matrixes = True\n",
    "save_name = 'col_10_rpn_roi_online_512'"
   ]
  },
  {
   "cell_type": "markdown",
   "metadata": {},
   "source": [
    "Papers \n",
    "\n",
    " 1. https://arxiv.org/pdf/1507.05578.pdf\n",
    "\n",
    " 2.  https://openaccess.thecvf.com/content_iccv_2013/papers/Fernando_Unsupervised_Visual_Domain_2013_ICCV_paper.pdf"
   ]
  },
  {
   "cell_type": "markdown",
   "metadata": {},
   "source": [
    "**Construct source matrix:** \n",
    "\n",
    "We keep output of model.roi_heads.box_head (vector of size 1024) as feature representations of bounding boxes extracted by the RPN (region proposal network). For us to stack a box representation to the source matrix, it has to have a IoU > thres_IoU with the ground truth of the given image. "
   ]
  },
  {
   "cell_type": "code",
   "execution_count": null,
   "metadata": {
    "scrolled": true
   },
   "outputs": [],
   "source": [
    "thres_IoU = 0.50\n",
    "count = 0\n",
    "\n",
    "X_source = torch.tensor([])\n",
    "bbox_idx = torch.arange(1000)\n",
    "\n",
    "model.eval()\n",
    "\n",
    "for images, targets in train_dataloader: \n",
    "    images = [image.to(device) for image in images]\n",
    "    targets = [{k: v.to(device) for k, v in t.items()} for t in targets]\n",
    "\n",
    "    count += 1\n",
    "\n",
    "    if count%100 == 0:\n",
    "        print(count)\n",
    "\n",
    "    with torch.no_grad():\n",
    "        outputs = []\n",
    "        hook = model.rpn.register_forward_hook(\n",
    "        lambda self, input, output: outputs.append(output))\n",
    "\n",
    "        outputs1 = []\n",
    "        hook1 = model.roi_heads.box_head.register_forward_hook(\n",
    "        lambda self, input, output: outputs1.append(output))\n",
    "\n",
    "        res = model(images)\n",
    "        hook.remove()\n",
    "        hook1.remove()\n",
    "\n",
    "    coords = outputs[0][0][0].cpu() # [1000,4]\n",
    "    feat = outputs1[0].cpu() # [1000, 1024]\n",
    "\n",
    "    gt = targets[0]['boxes'].cpu()\n",
    "\n",
    "    bbox_idx_to_keep = torch.tensor([])\n",
    "    for i in range(gt.shape[0]):\n",
    "\n",
    "        IoUs = bops.box_iou(gt[i].reshape(1,4), coords)\n",
    "        IoUs = IoUs.reshape(1000)\n",
    "        bbox_idx_to_keep = torch.cat((bbox_idx_to_keep, bbox_idx[IoUs >= thres_IoU]),dim=0)\n",
    "\n",
    "    X_source = torch.cat((X_source,feat[torch.unique(bbox_idx_to_keep).long()]), dim=0)"
   ]
  },
  {
   "cell_type": "markdown",
   "metadata": {},
   "source": [
    "#### Save 1"
   ]
  },
  {
   "cell_type": "code",
   "execution_count": null,
   "metadata": {},
   "outputs": [],
   "source": [
    "if save_matrixes:\n",
    "    torch.save(X_source, 'saved_matrixes/X_source_05_' + save_name + '.pt')"
   ]
  },
  {
   "cell_type": "code",
   "execution_count": null,
   "metadata": {},
   "outputs": [],
   "source": [
    "# Center the data\n",
    "X_source_scaled = center_data(X_source)"
   ]
  },
  {
   "cell_type": "code",
   "execution_count": null,
   "metadata": {},
   "outputs": [],
   "source": [
    "# Apply PCA, keep only an amount of first components which gives the Projected source matrix\n",
    "\n",
    "pca = PCA(n_components=d_pca)\n",
    "pca.fit(X_source_scaled)\n",
    "\n",
    "X_source_proj = pca.components_\n",
    "X_source_proj = torch.from_numpy(X_source_proj)"
   ]
  },
  {
   "cell_type": "markdown",
   "metadata": {},
   "source": [
    "#### Save 2"
   ]
  },
  {
   "cell_type": "code",
   "execution_count": null,
   "metadata": {},
   "outputs": [],
   "source": [
    "if save_matrixes:\n",
    "    torch.save(X_source_proj, 'saved_matrixes/X_source_proj_05_' + save_name + '.pt')"
   ]
  },
  {
   "cell_type": "markdown",
   "metadata": {},
   "source": [
    "### Target data with batch size 1"
   ]
  },
  {
   "cell_type": "code",
   "execution_count": null,
   "metadata": {},
   "outputs": [],
   "source": [
    "# Initiate the dataloaders with batch size from the paper for better comparison\n",
    "if lightweight_mode:\n",
    "    trans_test_batch1_dataloader = create_dataloader(trans_test_ann_path, 1, light=True)\n",
    "else:\n",
    "    trans_test_batch1_dataloader = create_dataloader(trans_test_ann_path, 1)"
   ]
  },
  {
   "cell_type": "markdown",
   "metadata": {},
   "source": [
    " **Construct target matrix:** \n",
    " \n",
    "We keep output of model.roi_heads.box_head (vector of size 1024) as feature representations of bounding boxes\n",
    " extracted by the RPN (region proposal network). For us to stack a box representation to the source matrix, the predicted bbox associated with the feature has to have a confidence score > thres_conf_score (since we don't use target labels we can't use the IoU here).\n"
   ]
  },
  {
   "cell_type": "code",
   "execution_count": null,
   "metadata": {
    "scrolled": true
   },
   "outputs": [],
   "source": [
    "# 30 minutes\n",
    "thres_conf_score= 0.50 \n",
    "count=0\n",
    "\n",
    "X_target=torch.tensor([])\n",
    "\n",
    "model.eval()\n",
    "\n",
    "for images, targets in trans_test_batch1_dataloader: # trans location valid AND test ?\n",
    "    images = [image.to(device) for image in images]\n",
    "    targets = [{k: v.to(device) for k, v in t.items()} for t in targets]\n",
    "\n",
    "    count+=1\n",
    "\n",
    "    if count%100==0:\n",
    "        print(count)\n",
    "\n",
    "    with torch.no_grad():\n",
    "\n",
    "        outputs = []\n",
    "        hook = model.backbone.register_forward_hook(\n",
    "        lambda self, input, output: outputs.append(output))\n",
    "        res = model(images)\n",
    "        hook.remove()\n",
    "\n",
    "        box_features = model.roi_heads.box_roi_pool(outputs[0], [r['boxes'] for r in res], [i.shape[-2:] for i in images])\n",
    "        box_features = model.roi_heads.box_head(box_features)\n",
    "\n",
    "    X_target = torch.cat((X_target,box_features[res[0]['scores']>=thres_conf_score].cpu()), dim=0)\n"
   ]
  },
  {
   "cell_type": "code",
   "execution_count": null,
   "metadata": {},
   "outputs": [],
   "source": [
    "if save_matrixes:\n",
    "    torch.save(X_target, 'saved_matrixes/X_target_05_' + save_name + '.pt')"
   ]
  },
  {
   "cell_type": "code",
   "execution_count": null,
   "metadata": {},
   "outputs": [],
   "source": [
    "# Center the data\n",
    "X_target_scaled = center_data(X_target)"
   ]
  },
  {
   "cell_type": "code",
   "execution_count": null,
   "metadata": {},
   "outputs": [],
   "source": [
    "# Apply PCA, keep only an amount of first components which gives the Projected source matrix\n",
    "\n",
    "pca_proj = PCA(n_components=d_pca)\n",
    "pca_proj.fit(X_target_scaled)\n",
    "\n",
    "X_target_proj = pca_proj.components_\n",
    "X_target_proj = torch.from_numpy(X_target_proj)"
   ]
  },
  {
   "cell_type": "code",
   "execution_count": null,
   "metadata": {
    "scrolled": true
   },
   "outputs": [],
   "source": [
    "plt.plot(pca_proj.explained_variance_ratio_) # we keep d dimensions\n",
    "plt.grid()"
   ]
  },
  {
   "cell_type": "code",
   "execution_count": null,
   "metadata": {},
   "outputs": [],
   "source": [
    "X_target_proj.shape"
   ]
  },
  {
   "cell_type": "code",
   "execution_count": null,
   "metadata": {},
   "outputs": [],
   "source": [
    "if save_matrixes:\n",
    "    torch.save(X_target_proj, 'saved_matrixes/X_target_proj_05_' + save_name + '.pt')"
   ]
  },
  {
   "cell_type": "markdown",
   "metadata": {},
   "source": [
    "### Transformation matrix M\n",
    "\n",
    "𝑀 is obtained by minimizing the following Bregman matrix divergence (following closed-form solution given in the paper)"
   ]
  },
  {
   "cell_type": "code",
   "execution_count": null,
   "metadata": {},
   "outputs": [],
   "source": [
    "M = torch.matmul(X_source_proj, X_target_proj.T) "
   ]
  },
  {
   "cell_type": "code",
   "execution_count": null,
   "metadata": {},
   "outputs": [],
   "source": [
    "M.shape"
   ]
  },
  {
   "cell_type": "markdown",
   "metadata": {},
   "source": [
    "### Project source data into target aligned source subspace"
   ]
  },
  {
   "cell_type": "code",
   "execution_count": null,
   "metadata": {},
   "outputs": [],
   "source": [
    "Xa = torch.matmul(X_source_proj.T,M)"
   ]
  },
  {
   "cell_type": "code",
   "execution_count": null,
   "metadata": {},
   "outputs": [],
   "source": [
    "Xa.shape"
   ]
  },
  {
   "cell_type": "code",
   "execution_count": null,
   "metadata": {},
   "outputs": [],
   "source": [
    "M.to(device)"
   ]
  },
  {
   "cell_type": "code",
   "execution_count": null,
   "metadata": {},
   "outputs": [],
   "source": [
    "Xa.to(device)"
   ]
  },
  {
   "cell_type": "markdown",
   "metadata": {},
   "source": [
    "### Make the new model"
   ]
  },
  {
   "cell_type": "code",
   "execution_count": null,
   "metadata": {},
   "outputs": [],
   "source": [
    "class FastRCNNPredictor_custom(nn.Module):\n",
    "    \"\"\"\n",
    "    Standard classification + bounding box regression layers\n",
    "    for Fast R-CNN.\n",
    "\n",
    "    Args:\n",
    "        in_channels (int): number of input channels\n",
    "        num_classes (int): number of output classes (including background)\n",
    "    \"\"\"\n",
    "\n",
    "    def __init__(self, in_channels, num_classes, m_transfo):\n",
    "        super(FastRCNNPredictor_custom, self).__init__()\n",
    "        \n",
    "        self.cls_score = nn.Sequential(nn.Linear(in_features=1024, \n",
    "                                                 out_features = in_channels, \n",
    "                                                 bias=False), \n",
    "                                       nn.Linear(in_channels, num_classes))\n",
    "        \n",
    "        self.bbox_pred = nn.Sequential(nn.Linear(in_features=1024, \n",
    "                                                 out_features = in_channels, \n",
    "                                                 bias=False), \n",
    "                                       nn.Linear(in_channels, num_classes * 4))\n",
    "        \n",
    "        self.cls_score[0].weight = nn.Parameter(m_transfo, requires_grad = False)\n",
    "        self.bbox_pred[0].weight = nn.Parameter(m_transfo, requires_grad = False)\n",
    "\n",
    "    def forward(self, x):\n",
    "        if x.dim() == 4:\n",
    "            assert list(x.shape[2:]) == [1, 1]\n",
    "        x = x.flatten(start_dim=1)\n",
    "        scores = self.cls_score(x)\n",
    "        bbox_deltas = self.bbox_pred(x)\n",
    "\n",
    "        return scores, bbox_deltas"
   ]
  },
  {
   "cell_type": "code",
   "execution_count": null,
   "metadata": {},
   "outputs": [],
   "source": [
    "device = torch.device('cuda') if torch.cuda.is_available() else torch.device('cpu')\n",
    "\n",
    "# our dataset has two classes only - background and person\n",
    "num_classes = 2\n",
    "\n",
    "# get the model using our helper function\n",
    "model = get_model_from_pretrained_rpn(num_classes)\n",
    "\n",
    "# move model to the right device\n",
    "model.to(device)\n",
    "\n",
    "# load fine-tuned weights from the model of the projections\n",
    "model.load_state_dict(torch.load('saved_models/10_rpn_roi_4_model.pt'))\n",
    "\n",
    "for param in model.parameters(): # to freeze all existing weights\n",
    "\n",
    "    param.requires_grad = False\n",
    "\n",
    "# vector are of size 100 after the transformation\n",
    "model.roi_heads.box_predictor = FastRCNNPredictor_custom(M.shape[0], 2, Xa.T.float())\n",
    "# model.roi_heads.box_predictor = FastRCNNPredictor_custom(in_channels=100, num_classes=2, m_transfo=Xa.T.float()) \n",
    "\n",
    "# move model to the right device\n",
    "model.to(device)\n",
    "\n",
    "# construct an optimizer\n",
    "# We will only retrain model.roi_heads.box_predictor (2 last layers)\n",
    "params = [p for p in model.parameters() if p.requires_grad]\n",
    "optimizer = torch.optim.SGD(params, lr=0.0003, momentum=0.9)\n",
    "\n",
    "lr_scheduler = torch.optim.lr_scheduler.MultiStepLR(optimizer,milestones=[5,10], gamma=0.1)"
   ]
  },
  {
   "cell_type": "code",
   "execution_count": null,
   "metadata": {},
   "outputs": [],
   "source": [
    "# weights to learn\n",
    "for i in range(4):\n",
    "    print(params[i].shape)"
   ]
  },
  {
   "cell_type": "code",
   "execution_count": null,
   "metadata": {},
   "outputs": [],
   "source": [
    "# Nb of weights in the optimizer\n",
    "for i in range(len(optimizer.param_groups[0]['params'])):\n",
    "    print(optimizer.param_groups[0]['params'][i].shape)"
   ]
  },
  {
   "cell_type": "markdown",
   "metadata": {},
   "source": [
    "## Before training"
   ]
  },
  {
   "cell_type": "code",
   "execution_count": null,
   "metadata": {},
   "outputs": [],
   "source": [
    "# PARAMETERS TO TUNE BEFORE TRAINING\n",
    "num_epochs = 15\n",
    "\n",
    "# CHECK DEVICE BEFORE TRAINING\n",
    "torch.cuda.get_device_name(0)"
   ]
  },
  {
   "cell_type": "markdown",
   "metadata": {},
   "source": [
    "### This next cell starts the training of the model"
   ]
  },
  {
   "cell_type": "code",
   "execution_count": null,
   "metadata": {
    "scrolled": true
   },
   "outputs": [],
   "source": [
    "# TRAIN\n",
    "all_train_logs, all_trans_valid_logs, all_cis_valid_logs = train(dataloader=train_dataloader, num_epochs=num_epochs)"
   ]
  },
  {
   "cell_type": "markdown",
   "metadata": {},
   "source": [
    "## Checking the log results"
   ]
  },
  {
   "cell_type": "markdown",
   "metadata": {},
   "source": [
    "##### Ensures that if you hit the training cell, you don't lose the variables containing the logs from the last run"
   ]
  },
  {
   "cell_type": "code",
   "execution_count": null,
   "metadata": {},
   "outputs": [],
   "source": [
    "last_train_logs = all_train_logs\n",
    "last_trans_valid_logs = all_trans_valid_logs\n",
    "last_cis_valid_logs = all_cis_valid_logs"
   ]
  },
  {
   "cell_type": "markdown",
   "metadata": {},
   "source": [
    "##### Converts the logs to lists and the tensors to numpy "
   ]
  },
  {
   "cell_type": "code",
   "execution_count": null,
   "metadata": {},
   "outputs": [],
   "source": [
    "train_logs = train_logs_to_lst(last_train_logs)\n",
    "cis_valid_logs = valid_logs_to_lst(last_cis_valid_logs)\n",
    "trans_valid_logs = valid_logs_to_lst(last_trans_valid_logs)"
   ]
  },
  {
   "cell_type": "code",
   "execution_count": null,
   "metadata": {},
   "outputs": [],
   "source": [
    "last_train_logs = all_train_logs\n",
    "last_train_logs = all_train_logs\n",
    "last_trans_valid_logs = all_trans_valid_logs\n",
    "last_cis_valid_logs = all_cis_valid_logs"
   ]
  },
  {
   "cell_type": "code",
   "execution_count": null,
   "metadata": {},
   "outputs": [],
   "source": [
    "train_logs = train_logs_to_lst(last_train_logs)\n",
    "cis_valid_logs = valid_logs_to_lst(last_cis_valid_logs)\n",
    "trans_valid_logs = valid_logs_to_lst(last_trans_valid_logs)"
   ]
  },
  {
   "cell_type": "code",
   "execution_count": null,
   "metadata": {},
   "outputs": [],
   "source": [
    "# Train loss to print (here we use global_avg but we can use: value, median, avg, max or global_avg)\n",
    "results_train_loss = []\n",
    "\n",
    "for i in range(num_epochs):\n",
    "    results_train_loss.append(train_logs[i]['loss_box_reg']['global_avg'])\n",
    "    \n",
    "# Cis valid loss to print\n",
    "results_cis_valid_loss = [] # cis\n",
    "\n",
    "for i in range(num_epochs):\n",
    "    loss_interm = 0\n",
    "    for j in range(167):\n",
    "        loss_interm += cis_valid_logs[(167 * i) + j]['loss_box_reg']\n",
    "    results_cis_valid_loss.append(loss_interm)\n",
    "\n",
    "# Trans valid loss to print\n",
    "results_trans_valid_loss = [] # cis\n",
    "\n",
    "for i in range(num_epochs):\n",
    "    loss_interm = 0\n",
    "    for j in range(154):\n",
    "        loss_interm += trans_valid_logs[(154 * i) + j]['loss_box_reg']\n",
    "    results_trans_valid_loss.append(loss_interm)"
   ]
  },
  {
   "cell_type": "code",
   "execution_count": null,
   "metadata": {},
   "outputs": [],
   "source": [
    "# Printing the different plots\n",
    "fig, ax = plt.subplots(1,2, figsize=(20,6))\n",
    "\n",
    "ax[0].plot(np.arange(1, num_epochs + 1), results_train_loss, label='train')\n",
    "ax[0].set_title('Train loss per epoch')\n",
    "ax[0].set_ylabel('loss_box_reg')\n",
    "ax[0].set_xlabel('epoch')\n",
    "\n",
    "plt.title('Train loss per epoch')\n",
    "ax[1].plot(np.arange(1, num_epochs + 1), results_cis_valid_loss, label='cis')\n",
    "ax[1].plot(np.arange(1, num_epochs + 1), results_trans_valid_loss, label='trans')\n",
    "ax[1].set_title('Valid loss per epoch')\n",
    "ax[1].set_ylabel('loss_box_reg')\n",
    "ax[1].set_xlabel('epoch')\n",
    "ax[1].legend()"
   ]
  },
  {
   "cell_type": "code",
   "execution_count": null,
   "metadata": {},
   "outputs": [],
   "source": [
    "fig.savefig(\"saved_figures/\" + time.strftime(\"%Y%m%d_%H%M%S\") + \"_figure.pdf\")"
   ]
  },
  {
   "cell_type": "markdown",
   "metadata": {},
   "source": [
    "## Evaluate the new model"
   ]
  },
  {
   "cell_type": "code",
   "execution_count": null,
   "metadata": {},
   "outputs": [],
   "source": [
    "# takes +- 15min to run on cis_test\n",
    "cis_coco_evaluator_method = evaluate(cis_test_dataloader, cis_coco)"
   ]
  },
  {
   "cell_type": "code",
   "execution_count": null,
   "metadata": {},
   "outputs": [],
   "source": [
    "# trans with method 3\n",
    "model.roi_heads.box_predictor.cls_score[0].weight = nn.Parameter(X_target_proj.float(), requires_grad = False) \n",
    "model.roi_heads.box_predictor.bbox_pred[0].weight = nn.Parameter(X_target_proj.float(), requires_grad = False)\n",
    "model.to(device)"
   ]
  },
  {
   "cell_type": "code",
   "execution_count": null,
   "metadata": {},
   "outputs": [],
   "source": [
    "# takes +- 15min to run on cis_test\n",
    "trans_coco_evaluator_method = evaluate(trans_test_dataloader, trans_coco)"
   ]
  },
  {
   "cell_type": "code",
   "execution_count": null,
   "metadata": {},
   "outputs": [],
   "source": [
    "print('cis test 10 epochs rpn roi 4, method3.1 with 15 epochs & d=100')\n",
    "print('_'*80)\n",
    "cis_coco_evaluator_method.summarize()"
   ]
  },
  {
   "cell_type": "code",
   "execution_count": null,
   "metadata": {
    "scrolled": true
   },
   "outputs": [],
   "source": [
    "print('trans test 10 epochs rpn+roi 4, method3.1 with 15 epochs & d=100')\n",
    "print('_'*80)\n",
    "trans_coco_evaluator_method.summarize()"
   ]
  },
  {
   "cell_type": "markdown",
   "metadata": {},
   "source": [
    "### Load a model with Method 3.2"
   ]
  },
  {
   "cell_type": "code",
   "execution_count": null,
   "metadata": {},
   "outputs": [],
   "source": [
    "class FastRCNNPredictor_custom(nn.Module):\n",
    "    \"\"\"\n",
    "    Standard classification + bounding box regression layers\n",
    "    for Fast R-CNN.\n",
    "\n",
    "    Args:\n",
    "        in_channels (int): number of input channels\n",
    "        num_classes (int): number of output classes (including background)\n",
    "    \"\"\"\n",
    "\n",
    "    def __init__(self, in_channels, num_classes, m_transfo):\n",
    "        super(FastRCNNPredictor_custom, self).__init__()\n",
    "        self.cls_score = nn.Sequential(nn.Linear(in_features=1024, out_features = in_channels, bias=False),nn.Linear(in_channels, num_classes))\n",
    "        self.bbox_pred = nn.Sequential(nn.Linear(in_features=1024, out_features = in_channels, bias=False), nn.Linear(in_channels, num_classes * 4))\n",
    "        self.cls_score[0].weight = nn.Parameter(m_transfo, requires_grad = False)\n",
    "        self.bbox_pred[0].weight = nn.Parameter(m_transfo, requires_grad = False)\n",
    "\n",
    "    def forward(self, x):\n",
    "        if x.dim() == 4:\n",
    "            assert list(x.shape[2:]) == [1, 1]\n",
    "        x = x.flatten(start_dim=1)\n",
    "        scores = self.cls_score(x)\n",
    "        bbox_deltas = self.bbox_pred(x)\n",
    "\n",
    "        return scores, bbox_deltas"
   ]
  },
  {
   "cell_type": "code",
   "execution_count": null,
   "metadata": {},
   "outputs": [],
   "source": [
    "device = torch.device('cuda') if torch.cuda.is_available() else torch.device('cpu')\n",
    "\n",
    "# our dataset has two classes only - background and person\n",
    "num_classes = 2\n",
    "\n",
    "# get the model using our helper function\n",
    "model = get_model_from_pretrained(num_classes)\n",
    "\n",
    "# move model to the right device\n",
    "model.to(device)\n",
    "\n",
    "for param in model.parameters(): # to freeze all existing weights\n",
    "\n",
    "    param.requires_grad = False\n",
    "\n",
    "# vector are of size 100 after the transformation\n",
    "model.roi_heads.box_predictor = FastRCNNPredictor_custom(M.shape[0], 2, Xa.T.float())\n",
    "# model.roi_heads.box_predictor = FastRCNNPredictor_custom(in_channels=100, num_classes=2, m_transfo=Xa.T.float()) \n",
    "\n",
    "# move model to the right device\n",
    "model.to(device)\n",
    "\n",
    "# construct an optimizer\n",
    "# We will only retrain model.roi_heads.box_predictor (2 last layers)\n",
    "params = [p for p in model.parameters() if p.requires_grad]\n",
    "optimizer = torch.optim.SGD(params, lr=0.0003, momentum=0.9)\n",
    "\n",
    "lr_scheduler = torch.optim.lr_scheduler.MultiStepLR(optimizer,milestones=[5,10], gamma=0.1)"
   ]
  },
  {
   "cell_type": "code",
   "execution_count": null,
   "metadata": {},
   "outputs": [],
   "source": [
    "# load fine-tuned weights from the model of the projections\n",
    "model.load_state_dict(torch.load('saved_models/50_rpn_roi_1_method3.2_512_model.pt'))\n",
    "optimizer.load_state_dict(torch.load('saved_models/50_rpn_roi_1_method3.2_512_optimizer.pt'))\n",
    "lr_scheduler.load_state_dict(torch.load('saved_models/50_rpn_roi_1_method3.2_512_scheduler.pt'))"
   ]
  },
  {
   "cell_type": "code",
   "execution_count": null,
   "metadata": {},
   "outputs": [],
   "source": []
  }
 ],
 "metadata": {
  "accelerator": "GPU",
  "colab": {
   "collapsed_sections": [],
   "name": "Copy of Step1_TransferLearning.ipynb",
   "provenance": []
  },
  "kernelspec": {
   "display_name": "Animals",
   "language": "python",
   "name": "animals"
  },
  "language_info": {
   "codemirror_mode": {
    "name": "ipython",
    "version": 3
   },
   "file_extension": ".py",
   "mimetype": "text/x-python",
   "name": "python",
   "nbconvert_exporter": "python",
   "pygments_lexer": "ipython3",
   "version": "3.7.11"
  }
 },
 "nbformat": 4,
 "nbformat_minor": 1
}
