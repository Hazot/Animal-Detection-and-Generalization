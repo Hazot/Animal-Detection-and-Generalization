{
 "cells": [
  {
   "cell_type": "markdown",
   "metadata": {},
   "source": [
    "# Imports"
   ]
  },
  {
   "cell_type": "code",
   "execution_count": 1,
   "metadata": {
    "id": "3RUQCnETVJhK"
   },
   "outputs": [],
   "source": [
    "import time\n",
    "import json\n",
    "import matplotlib.pyplot as plt\n",
    "import torch\n",
    "\n",
    "import torchvision\n",
    "from torch.utils.data import Dataset, DataLoader\n",
    "from torchvision.transforms import ToTensor\n",
    "import os\n",
    "from torchvision.io import read_image\n",
    "from PIL import Image\n",
    "\n",
    "import numpy as np\n",
    "import matplotlib.patches as patches\n",
    "from torchvision import transforms\n",
    "\n",
    "from torchvision.models.detection.faster_rcnn import FastRCNNPredictor\n",
    "\n",
    "from torchmetrics.detection.map import MeanAveragePrecision\n",
    "\n",
    "import pycocotools"
   ]
  },
  {
   "cell_type": "code",
   "execution_count": 2,
   "metadata": {},
   "outputs": [],
   "source": [
    "# imports from local lib files\n",
    "import utils\n",
    "import transforms\n",
    "import coco_eval\n",
    "from engine import train_one_epoch, evaluate"
   ]
  },
  {
   "cell_type": "code",
   "execution_count": 3,
   "metadata": {},
   "outputs": [],
   "source": [
    "# Imports for evaluation from local lib files\n",
    "from coco_utils import get_coco_api_from_dataset\n",
    "from coco_eval import CocoEvaluator\n",
    "from engine import _get_iou_types "
   ]
  },
  {
   "cell_type": "markdown",
   "metadata": {},
   "source": [
    "# Functions and initiations"
   ]
  },
  {
   "cell_type": "markdown",
   "metadata": {
    "id": "CFo8FhOT4-Yf"
   },
   "source": [
    "## File paths"
   ]
  },
  {
   "cell_type": "code",
   "execution_count": 4,
   "metadata": {
    "id": "IlU99PhcSNDv"
   },
   "outputs": [],
   "source": [
    "output_path = 'output'\n",
    "img_folder = 'eccv_18_all_images_sm'\n",
    "\n",
    "cis_test_ann_path = 'eccv_18_annotation_files/cis_test_annotations.json'\n",
    "cis_val_ann_path = 'eccv_18_annotation_files/cis_val_annotations.json'\n",
    "train_ann_path = 'eccv_18_annotation_files/train_annotations.json'\n",
    "trans_test_ann_path = 'eccv_18_annotation_files/trans_test_annotations.json'\n",
    "trans_val_ann_path = 'eccv_18_annotation_files/trans_val_annotations.json'"
   ]
  },
  {
   "cell_type": "markdown",
   "metadata": {
    "id": "08r4QhagWuKZ"
   },
   "source": [
    "## Basic data exploration"
   ]
  },
  {
   "cell_type": "code",
   "execution_count": 5,
   "metadata": {
    "id": "5tYL7gDDW09R"
   },
   "outputs": [],
   "source": [
    "cis_test_ann = json.load(open(cis_test_ann_path))\n",
    "cis_val_ann = json.load(open(cis_val_ann_path))\n",
    "train_ann = json.load(open(train_ann_path))\n",
    "trans_test_ann = json.load(open(trans_test_ann_path))\n",
    "trans_val_ann = json.load(open(trans_val_ann_path))"
   ]
  },
  {
   "cell_type": "code",
   "execution_count": 6,
   "metadata": {
    "colab": {
     "base_uri": "https://localhost:8080/"
    },
    "id": "Qbuy1jLsWuew",
    "outputId": "7ba79560-5443-4fea-f46c-c0e3acaa1588",
    "scrolled": true
   },
   "outputs": [
    {
     "name": "stdout",
     "output_type": "stream",
     "text": [
      "cis test set length: 15827\n",
      "cis val set length: 3484\n",
      "train set length: 13553\n",
      "trans test set length: 23275\n",
      "trans val set length: 1725\n"
     ]
    }
   ],
   "source": [
    "print('cis test set length:', len(cis_test_ann['images']))\n",
    "print('cis val set length:', len(cis_val_ann['images']))\n",
    "print('train set length:', len(train_ann['images']))\n",
    "print('trans test set length:', len(trans_test_ann['images']))\n",
    "print('trans val set length:', len(trans_val_ann['images']))"
   ]
  },
  {
   "cell_type": "markdown",
   "metadata": {
    "id": "OMhB4CM354Px"
   },
   "source": [
    "## Utils"
   ]
  },
  {
   "cell_type": "code",
   "execution_count": 7,
   "metadata": {
    "id": "3mHaZNrt7D98"
   },
   "outputs": [],
   "source": [
    "# In paper :  ' ... and employ horizontal flipping for data augmentation. ( for detection)\n",
    "\n",
    "import transforms as T   # from git hub repo\n",
    "\n",
    "data_transform = {'train': T.RandomHorizontalFlip(0.5)}"
   ]
  },
  {
   "cell_type": "code",
   "execution_count": 8,
   "metadata": {},
   "outputs": [],
   "source": [
    "# Returns a list with the idx of images with at least one bounding box (img_wbbox) and a \n",
    "# list with the number of bbox for each valid image (num_bbox)\n",
    "def get_img_with_bbox(file_path):\n",
    "  \n",
    "    file = json.load(open(file_path))\n",
    "    img_wbbox = []\n",
    "    num_bbox = []\n",
    "\n",
    "    for i in range(len(file['images'])):\n",
    "        bboxes = [file['annotations'][j]['bbox'] \n",
    "                  for j in range(len(file['annotations'])) \n",
    "                  if file['annotations'][j]['image_id']==file['images'][i]['id'] \n",
    "                  and 'bbox' in file['annotations'][j].keys()]\n",
    "\n",
    "        if len(bboxes)!=0:\n",
    "            img_wbbox.append(i)\n",
    "\n",
    "            num_bbox.append(len(bboxes))\n",
    "\n",
    "    return img_wbbox, num_bbox"
   ]
  },
  {
   "cell_type": "code",
   "execution_count": 9,
   "metadata": {
    "id": "SdJaZm5aOJ6y"
   },
   "outputs": [],
   "source": [
    "class CustomImageDataset(Dataset):\n",
    "    def __init__(self, label_path, img_dir, valid_img, transform = None):\n",
    "        self.label_file = json.load(open(label_path))\n",
    "        self.img_dir = img_dir\n",
    "        self.transform = transform\n",
    "        self.valid_img = valid_img\n",
    "\n",
    "    def __len__(self):\n",
    "        return len(self.valid_img)\n",
    "\n",
    "    def __getitem__(self, idx):\n",
    "        \n",
    "        idx = self.valid_img[idx] # consider only images with bbox annotations\n",
    "        img_path = os.path.join(self.img_dir, self.label_file['images'][idx]['file_name'])\n",
    "        image = read_image(img_path)\n",
    "\n",
    "        conv = torchvision.transforms.ToTensor()\n",
    "        # if image.shape[0]==1:\n",
    "        # some images have only one channel, we convert them to rgb\n",
    "        image = Image.open(img_path).convert(\"RGB\")\n",
    "        image = conv(image)\n",
    "\n",
    "        boxes = [self.label_file['annotations'][j]['bbox'] \n",
    "                 for j in range(len(self.label_file['annotations'])) \n",
    "                 if self.label_file['annotations'][j]['image_id']==self.label_file['images'][idx]['id']]\n",
    "        \n",
    "        label = [self.label_file['annotations'][j]['category_id'] \n",
    "                 for j in range(len(self.label_file['annotations'])) \n",
    "                 if self.label_file['annotations'][j]['image_id']==self.label_file['images'][idx]['id']]\n",
    "\n",
    "        # transform bbox coords to adjust for resizing\n",
    "        scale_x = image.shape[2] / self.label_file['images'][idx]['width'] \n",
    "        scale_y = image.shape[1] / self.label_file['images'][idx]['height']\n",
    "\n",
    "        boxes = torch.as_tensor(boxes)\n",
    "        for i in range(boxes.shape[0]):\n",
    "            boxes[i][0] = torch.round(boxes[i][0] * scale_x)\n",
    "            boxes[i][1] = torch.round(boxes[i][1] * scale_y)\n",
    "            boxes[i][2] = torch.round(boxes[i][2] * scale_x)\n",
    "            boxes[i][3] = torch.round(boxes[i][3] * scale_y)\n",
    "\n",
    "            boxes[i][2] = boxes[i][0] + boxes[i][2] # to transform to pytorch bbox format\n",
    "            boxes[i][3] = boxes[i][1] + boxes[i][3]\n",
    "\n",
    "        label = torch.as_tensor(label)\n",
    "        label = torch.where(label==30,0,1)  # 0 if empty (categ id = 30), 1 if animal\n",
    "        image_id = torch.tensor([idx])\n",
    "        area = (boxes[:, 3] - boxes[:, 1]) * (boxes[:, 2] - boxes[:, 0])\n",
    "        iscrowd = torch.zeros((boxes.shape[0],), dtype=torch.int64)\n",
    "\n",
    "        target = {}\n",
    "        target[\"boxes\"] = boxes\n",
    "        target[\"labels\"] = label\n",
    "        target[\"image_id\"] = image_id\n",
    "        target['area']=area\n",
    "        target['iscrowd']=iscrowd\n",
    "\n",
    "        # TO DO : resize all to same size\n",
    "\n",
    "        if self.transform:\n",
    "            # transform image AND target\n",
    "            image, target = self.transform(image, target)\n",
    "\n",
    "        return image, target"
   ]
  },
  {
   "cell_type": "markdown",
   "metadata": {},
   "source": [
    " "
   ]
  },
  {
   "cell_type": "markdown",
   "metadata": {},
   "source": [
    "## Transformation"
   ]
  },
  {
   "cell_type": "code",
   "execution_count": 10,
   "metadata": {},
   "outputs": [],
   "source": [
    "# import transforms as T\n",
    "# import torchvision.transforms as TorchTrans\n",
    "# # In paper :  ' ... and employ horizontal flipping for data augmentation. ( for detection)\n",
    "\n",
    "# colorTranformations = torch.nn.Sequential(\n",
    "#                       TorchTrans.RandomInvert(0.6),\n",
    "#                       TorchTrans.ColorJitter([.2,.3], [0.8,0.9], [.1,0.12])#jitter2 = T.ColorJitter([.2,.3], [0.7,0.9],  hue=.1)\n",
    "# )"
   ]
  },
  {
   "cell_type": "code",
   "execution_count": 11,
   "metadata": {},
   "outputs": [],
   "source": [
    "# class CustomImageDataset(Dataset):\n",
    "#     def __init__(self, label_path, img_dir, valid_img, transform = None, rotation = False):\n",
    "#         self.label_file = json.load(open(label_path))\n",
    "#         self.img_dir = img_dir\n",
    "#         self.transform = transform\n",
    "#         self.valid_img = valid_img\n",
    "#         self.rotation = rotation  \n",
    "#         self.rotate= T.RandomHorizontalFlip(0.5)\n",
    "    \n",
    "#     def __len__(self):\n",
    "#         return len(self.valid_img)\n",
    "\n",
    "#     def __getitem__(self, idx):\n",
    "        \n",
    "#         idx = self.valid_img[idx] # consider only images with bbox annotations\n",
    "#         img_path = os.path.join(self.img_dir, self.label_file['images'][idx]['file_name'])\n",
    "#         image = read_image(img_path)\n",
    "\n",
    "#         conv = torchvision.transforms.ToTensor()\n",
    "#         # if image.shape[0]==1:\n",
    "#         # some images have only one channel, we convert them to rgb\n",
    "#         image = Image.open(img_path).convert(\"RGB\")\n",
    "#         image = conv(image)\n",
    "\n",
    "#         boxes = [self.label_file['annotations'][j]['bbox'] \n",
    "#                  for j in range(len(self.label_file['annotations'])) \n",
    "#                  if self.label_file['annotations'][j]['image_id']==self.label_file['images'][idx]['id']]\n",
    "        \n",
    "#         label = [self.label_file['annotations'][j]['category_id'] \n",
    "#                  for j in range(len(self.label_file['annotations'])) \n",
    "#                  if self.label_file['annotations'][j]['image_id']==self.label_file['images'][idx]['id']]\n",
    "\n",
    "#         # transform bbox coords to adjust for resizing\n",
    "#         scale_x = image.shape[2] / self.label_file['images'][idx]['width'] \n",
    "#         scale_y = image.shape[1] / self.label_file['images'][idx]['height']\n",
    "\n",
    "#         boxes = torch.as_tensor(boxes)\n",
    "#         for i in range(boxes.shape[0]):\n",
    "#             boxes[i][0] = torch.round(boxes[i][0] * scale_x)\n",
    "#             boxes[i][1] = torch.round(boxes[i][1] * scale_y)\n",
    "#             boxes[i][2] = torch.round(boxes[i][2] * scale_x)\n",
    "#             boxes[i][3] = torch.round(boxes[i][3] * scale_y)\n",
    "\n",
    "#             boxes[i][2] = boxes[i][0] + boxes[i][2] # to transform to pytorch bbox format\n",
    "#             boxes[i][3] = boxes[i][1] + boxes[i][3]\n",
    "\n",
    "#         label = torch.as_tensor(label)\n",
    "#         label = torch.where(label==30,0,1)  # 0 if empty (categ id = 30), 1 if animal\n",
    "#         image_id = torch.tensor([idx])\n",
    "#         area = (boxes[:, 3] - boxes[:, 1]) * (boxes[:, 2] - boxes[:, 0])\n",
    "#         iscrowd = torch.zeros((boxes.shape[0],), dtype=torch.int64)\n",
    "\n",
    "#         target = {}\n",
    "#         target[\"boxes\"] = boxes\n",
    "#         target[\"labels\"] = label\n",
    "#         target[\"image_id\"] = image_id\n",
    "#         target['area']=area\n",
    "#         target['iscrowd']=iscrowd\n",
    "#         # TO DO : resize all to same size\n",
    "#         if self.rotation:\n",
    "#             image, target= self.rotate(image, target)\n",
    "#         if self.transform:\n",
    "#             image = self.transform(image)\n",
    "#         return image, target"
   ]
  },
  {
   "cell_type": "markdown",
   "metadata": {
    "id": "iuPqrCPG8wsr"
   },
   "source": [
    "## Pre-trained models\n",
    "Inspred from https://colab.research.google.com/github/pytorch/tutorials/blob/gh-pages/_downloads/torchvision_finetuning_instance_segmentation.ipynb#scrollTo=YjNHjVMOyYlH"
   ]
  },
  {
   "cell_type": "markdown",
   "metadata": {},
   "source": [
    "### Model with only the last layer to train"
   ]
  },
  {
   "cell_type": "code",
   "execution_count": null,
   "metadata": {
    "id": "vuz8DJUgccUx"
   },
   "outputs": [],
   "source": [
    "def get_model_from_pretrained(num_classes):\n",
    "\n",
    "    # load an instance segmentation model pre-trained on COCO\n",
    "    model = torchvision.models.detection.fasterrcnn_resnet50_fpn(pretrained=True)\n",
    "\n",
    "    for param in model.parameters(): # to freeze all existing weights\n",
    "        param.requires_grad = False\n",
    "\n",
    "    # get the number of input features for the classifier\n",
    "    in_features = model.roi_heads.box_predictor.cls_score.in_features\n",
    "    # replace the pre-trained head with a new one\n",
    "    model.roi_heads.box_predictor = FastRCNNPredictor(in_features, num_classes)\n",
    "\n",
    "    return model"
   ]
  },
  {
   "cell_type": "markdown",
   "metadata": {},
   "source": [
    "### Model with deeper layers to train"
   ]
  },
  {
   "cell_type": "code",
   "execution_count": null,
   "metadata": {},
   "outputs": [],
   "source": [
    "def get_model_from_pretrained(num_classes):\n",
    "\n",
    "    # load an instance segmentation model pre-trained on COCO\n",
    "    model = torchvision.models.detection.fasterrcnn_resnet50_fpn(pretrained=True)\n",
    "\n",
    "    for param in model.parameters(): # to freeze all existing weights\n",
    "        param.requires_grad = False\n",
    "\n",
    "    for param in model.roi_heads.parameters():\n",
    "        param.requires_grad = True\n",
    "\n",
    "    # get the number of input features for the classifier\n",
    "    in_features = model.roi_heads.box_predictor.cls_score.in_features\n",
    "    # replace the pre-trained head with a new one\n",
    "    model.roi_heads.box_predictor = FastRCNNPredictor(in_features, num_classes)\n",
    "\n",
    "    return model"
   ]
  },
  {
   "cell_type": "markdown",
   "metadata": {},
   "source": [
    "### Model with even deeper layers to train"
   ]
  },
  {
   "cell_type": "code",
   "execution_count": 12,
   "metadata": {},
   "outputs": [],
   "source": [
    "def get_model_from_pretrained(num_classes):\n",
    "\n",
    "    # load an instance segmentation model pre-trained on COCO\n",
    "    model = torchvision.models.detection.fasterrcnn_resnet50_fpn(pretrained=True)\n",
    "\n",
    "    for param in model.parameters(): # to freeze all existing weights\n",
    "\n",
    "        param.requires_grad = False\n",
    "\n",
    "    for param in model.roi_heads.parameters():\n",
    "\n",
    "        param.requires_grad = True\n",
    "\n",
    "    for param in model.rpn.parameters():\n",
    "\n",
    "        param.requires_grad = True\n",
    "\n",
    "    # get the number of input features for the classifier\n",
    "    in_features = model.roi_heads.box_predictor.cls_score.in_features\n",
    "    # replace the pre-trained head with a new one\n",
    "    model.roi_heads.box_predictor = FastRCNNPredictor(in_features, num_classes)\n",
    "\n",
    "    return model"
   ]
  },
  {
   "cell_type": "markdown",
   "metadata": {},
   "source": [
    "### Params"
   ]
  },
  {
   "cell_type": "code",
   "execution_count": 13,
   "metadata": {
    "id": "hbSuc8Jwc5qT"
   },
   "outputs": [],
   "source": [
    "device = torch.device('cuda') if torch.cuda.is_available() else torch.device('cpu')\n",
    "\n",
    "# our dataset has two classes only - background and person\n",
    "num_classes = 2\n",
    "\n",
    "# get the model using our helper function\n",
    "model = get_model_from_pretrained(num_classes)\n",
    "\n",
    "# move model to the right device\n",
    "model.to(device)\n",
    "\n",
    "# construct an optimizer\n",
    "params = [p for p in model.parameters() if p.requires_grad]\n",
    "optimizer = torch.optim.SGD(params, lr=0.0003, momentum=0.9)\n",
    "\n",
    "# like in the paper, construct the scheduler\n",
    "lr_scheduler = torch.optim.lr_scheduler.MultiStepLR(optimizer,milestones=[5,10], gamma=0.1)"
   ]
  },
  {
   "cell_type": "code",
   "execution_count": 14,
   "metadata": {},
   "outputs": [],
   "source": [
    "# device = torch.device('cuda') if torch.cuda.is_available() else torch.device('cpu')\n",
    "\n",
    "# # our dataset has two classes only - background and person\n",
    "# num_classes = 2\n",
    "\n",
    "# # get the model using our helper function\n",
    "# model = get_model_from_pretrained(num_classes)\n",
    "\n",
    "# ## Mean and Std by chanel by pixel from the training set.  \n",
    "# model.transform.image_mean = [0.3321, 0.3406, 0.3210] # mean = [0.3321, 0.3406, 0.3210]\n",
    "# model.transform.image_std = [0.2359, 0.2369, 0.2313] # std = [0.2359, 0.2369, 0.2313]\n",
    "\n",
    "# # move model to the right device\n",
    "# model.to(device)\n",
    "\n",
    "# # construct an optimizer\n",
    "# params = [p for p in model.parameters() if p.requires_grad]\n",
    "# optimizer = torch.optim.SGD(params, lr=0.0003, momentum=0.9)\n",
    "\n",
    "# # like in the paper, construct the scheduler\n",
    "# lr_scheduler = torch.optim.lr_scheduler.MultiStepLR(optimizer,milestones=[5,10], gamma=0.1)"
   ]
  },
  {
   "cell_type": "markdown",
   "metadata": {},
   "source": [
    "## OPTIONAL - Loading/Importing a model\n",
    "#### Need to initiate the model, the optimizer and de scheduler before loading"
   ]
  },
  {
   "cell_type": "code",
   "execution_count": null,
   "metadata": {
    "scrolled": true
   },
   "outputs": [],
   "source": [
    "# NEED TO INITIATE THE MODEL, THE OPTIMIZER AND THE SCHEDULER BEFOREHAND (if )\n",
    "# load the model, the optimizer and the scheduler\n",
    "model.load_state_dict(torch.load('saved_models/50_rpn_roi_best_model.pt'))\n",
    "optimizer.load_state_dict(torch.load('saved_models/50_rpn_roi_best_optimizer.pt'))\n",
    "lr_scheduler.load_state_dict(torch.load('saved_models/50_rpn_roi_best_scheduler.pt'))"
   ]
  },
  {
   "cell_type": "markdown",
   "metadata": {},
   "source": [
    "## Create the dataloaders\n",
    "To load the data of the dataset efficiently for the model"
   ]
  },
  {
   "cell_type": "code",
   "execution_count": 15,
   "metadata": {},
   "outputs": [],
   "source": [
    "def create_dataloader(ann_path, batch_size, shuffle=True, transform=None):\n",
    "    images_with_bbox,_ = get_img_with_bbox(ann_path)\n",
    "    data = CustomImageDataset(ann_path, img_folder, images_with_bbox, transform)\n",
    "    return DataLoader(data, batch_size=batch_size, shuffle=shuffle, collate_fn=utils.collate_fn)"
   ]
  },
  {
   "cell_type": "markdown",
   "metadata": {},
   "source": [
    "#### You can specify the data augmentation transformation at will"
   ]
  },
  {
   "cell_type": "code",
   "execution_count": 16,
   "metadata": {},
   "outputs": [],
   "source": [
    "train_dataloader = create_dataloader(train_ann_path, 1, data_transform)\n",
    "cis_valid_dataloader = create_dataloader(cis_val_ann_path, 10)\n",
    "trans_valid_dataloader = create_dataloader(trans_val_ann_path, 10)\n",
    "cis_test_dataloader = create_dataloader(cis_test_ann_path, 10)\n",
    "trans_test_dataloader = create_dataloader(trans_test_ann_path, 10)"
   ]
  },
  {
   "cell_type": "markdown",
   "metadata": {},
   "source": [
    "## Define the 'evaluate' fonction"
   ]
  },
  {
   "cell_type": "code",
   "execution_count": 17,
   "metadata": {},
   "outputs": [
    {
     "name": "stdout",
     "output_type": "stream",
     "text": [
      "creating index...\n",
      "index created!\n",
      "creating index...\n",
      "index created!\n"
     ]
    }
   ],
   "source": [
    "# Loads the test datasetfor coco evaluation\n",
    "cis_coco = get_coco_api_from_dataset(cis_test_dataloader.dataset)\n",
    "trans_coco = get_coco_api_from_dataset(trans_test_dataloader.dataset)"
   ]
  },
  {
   "cell_type": "code",
   "execution_count": 18,
   "metadata": {},
   "outputs": [],
   "source": [
    "# TODO: méthode pour évaluer \n",
    "def evaluate(dataloader, coco, nms=True, iou=0.35):\n",
    "    apply_nms = nms\n",
    "    iou_threshold = iou # param to potentially tune (threshold for nms)\n",
    "    the_data_loader = dataloader # change to test set\n",
    "    \n",
    "    iou_types = _get_iou_types(model)\n",
    "    coco_evaluator = CocoEvaluator(coco, iou_types)\n",
    "\n",
    "    model.eval()\n",
    "\n",
    "    for images, targets in the_data_loader:\n",
    "        images = [image.to(device) for image in images]\n",
    "        targets = [{k: v.to(device) for k, v in t.items()} for t in targets]\n",
    "\n",
    "        with torch.no_grad():\n",
    "\n",
    "            pred=model(images)\n",
    "\n",
    "            if apply_nms:\n",
    "                boxes_to_keep = torchvision.ops.nms(pred[0]['boxes'], pred[0]['scores'], iou_threshold=iou_threshold).cpu()\n",
    "                pred[0]['boxes'] = pred[0]['boxes'][boxes_to_keep]\n",
    "                pred[0]['labels'] = pred[0]['labels'][boxes_to_keep]\n",
    "                pred[0]['scores'] = pred[0]['scores'][boxes_to_keep]\n",
    "\n",
    "            outputs = [{k: v.cpu() for k, v in t.items()} for t in pred]\n",
    "            res = {target[\"image_id\"].item(): output for target, output in zip(targets, outputs)}\n",
    "            coco_evaluator.update(res)\n",
    "    \n",
    "    coco_evaluator.synchronize_between_processes()\n",
    "    coco_evaluator.accumulate()\n",
    "    coco_evaluator.summarize()\n",
    "    return coco_evaluator"
   ]
  },
  {
   "cell_type": "markdown",
   "metadata": {},
   "source": [
    "## Logs utils"
   ]
  },
  {
   "cell_type": "markdown",
   "metadata": {},
   "source": [
    "#### Train logs utils"
   ]
  },
  {
   "cell_type": "code",
   "execution_count": 19,
   "metadata": {},
   "outputs": [],
   "source": [
    "import time"
   ]
  },
  {
   "cell_type": "code",
   "execution_count": 20,
   "metadata": {},
   "outputs": [],
   "source": [
    "# Converts the smoothed values to a dictionnary of each values\n",
    "def smoothed_value_to_str(smoothed_value):\n",
    "    d_values = {}\n",
    "    d_values['median'] = smoothed_value.median\n",
    "    d_values['avg'] = smoothed_value.avg\n",
    "    d_values['global_avg'] = smoothed_value.global_avg\n",
    "    d_values['max'] = smoothed_value.max\n",
    "    d_values['value'] = smoothed_value.value\n",
    "    return d_values\n",
    "\n",
    "\n",
    "# Converts the train logs from MetricLogger to list\n",
    "def train_logs_to_lst(logs):\n",
    "    lst = []\n",
    "    for i in range(len(logs)):\n",
    "        d = {}\n",
    "        for key in logs[i].meters.keys():\n",
    "            d[key] = smoothed_value_to_str(logs[i].meters[key])\n",
    "        lst.append(d)\n",
    "    return lst\n",
    "\n",
    "\n",
    "# Puts the training logs into a json file with time dependent file name\n",
    "def train_logs_to_json(logs, ftime=time.strftime(\"%Y%m%d_%H%M%S\")):\n",
    "    train_metric_logs = train_logs_to_lst(logs)\n",
    "    filename = ftime + \"_train_logs.json\"\n",
    "    \n",
    "    with open('saved_logs/' + filename, 'w', encoding='utf-8') as f:\n",
    "        json.dump(train_metric_logs, f, ensure_ascii=False, indent=4)"
   ]
  },
  {
   "cell_type": "code",
   "execution_count": 21,
   "metadata": {},
   "outputs": [],
   "source": [
    "# Converts the train logs from MetricLogger to list\n",
    "def train_logs_to_lst(logs):\n",
    "    lst = []\n",
    "    for i in range(len(logs)):\n",
    "        d = {}\n",
    "        for key in logs[i].meters.keys():\n",
    "            d[key] = smoothed_value_to_str(logs[i].meters[key])\n",
    "        lst.append(d)\n",
    "    return lst"
   ]
  },
  {
   "cell_type": "code",
   "execution_count": 22,
   "metadata": {},
   "outputs": [],
   "source": [
    "# Puts the training logs into a json file with time dependent file name\n",
    "def train_logs_to_json(logs, ftime=time.strftime(\"%Y%m%d_%H%M%S\")):\n",
    "    train_metric_logs = train_logs_to_lst(logs)\n",
    "    filename = ftime + \"_train_logs.json\"\n",
    "    \n",
    "    with open('saved_logs/' + filename, 'w', encoding='utf-8') as f:\n",
    "        json.dump(train_metric_logs, f, ensure_ascii=False, indent=4)"
   ]
  },
  {
   "cell_type": "markdown",
   "metadata": {},
   "source": [
    "#### Valid logs utils"
   ]
  },
  {
   "cell_type": "code",
   "execution_count": 23,
   "metadata": {},
   "outputs": [],
   "source": [
    "# Merge the dicts of a list \n",
    "def merge_dict(logs):\n",
    "    logs_better = []\n",
    "    try:\n",
    "        for i in range(len(logs)):\n",
    "            logs_better.append({**logs[i][0], **logs[i][1], **logs[i][2], **logs[i][3]})\n",
    "        return logs_better\n",
    "    except:\n",
    "        print(logs[0])\n",
    "        logs_better = logs\n",
    "        return logs_better"
   ]
  },
  {
   "cell_type": "code",
   "execution_count": 24,
   "metadata": {},
   "outputs": [],
   "source": [
    "# Converts the valid logs from list of dictionnaries to string\n",
    "# TODO: add if type == list to not do anything if its already a list\n",
    "def valid_logs_to_lst(valid_logs):\n",
    "    logs = merge_dict(valid_logs)\n",
    "    lst = []\n",
    "    for i in range(len(logs)):\n",
    "        d = {}\n",
    "        for key in logs[i].keys():\n",
    "            d[key] = logs[i][key].cpu().numpy().tolist()\n",
    "        lst.append(d)\n",
    "    return lst"
   ]
  },
  {
   "cell_type": "code",
   "execution_count": 25,
   "metadata": {},
   "outputs": [],
   "source": [
    "# Puts the cis validation logs into a json file with time dependent file name\n",
    "def cis_valid_logs_to_json(logs, ftime=time.strftime(\"%Y%m%d_%H%M%S\")):\n",
    "    valid_metric_logs = valid_logs_to_lst(logs)\n",
    "    filename = ftime + \"_cis_valid_logs.json\"\n",
    "    \n",
    "    with open('saved_logs/' + filename, 'w', encoding='utf-8') as f:\n",
    "        json.dump(valid_metric_logs, f, ensure_ascii=False, indent=4)"
   ]
  },
  {
   "cell_type": "code",
   "execution_count": 26,
   "metadata": {},
   "outputs": [],
   "source": [
    "# Puts the trans validation logs into a json file with time dependent file name\n",
    "def trans_valid_logs_to_json(logs, ftime=time.strftime(\"%Y%m%d_%H%M%S\")):\n",
    "    valid_metric_logs = valid_logs_to_lst(logs)\n",
    "    filename = ftime + \"_trans_valid_logs.json\"\n",
    "    \n",
    "    with open('saved_logs/' + filename, 'w', encoding='utf-8') as f:\n",
    "        json.dump(valid_metric_logs, f, ensure_ascii=False, indent=4)"
   ]
  },
  {
   "cell_type": "markdown",
   "metadata": {},
   "source": [
    "# Training the model"
   ]
  },
  {
   "cell_type": "code",
   "execution_count": 27,
   "metadata": {},
   "outputs": [],
   "source": [
    "# Defining the train function\n",
    "def train(dataloader, num_epochs, save_logs=True, save_model=True, print_freq=100):\n",
    "    \n",
    "    model.train()\n",
    "    \n",
    "    all_train_logs = []\n",
    "    all_cis_valid_logs = []\n",
    "    all_trans_valid_logs = []\n",
    "\n",
    "    for epoch in range(num_epochs):\n",
    "        \n",
    "        # train for one epoch, printing every 100 images\n",
    "        train_logs = train_one_epoch(model, optimizer, dataloader, device, epoch, print_freq)\n",
    "        all_train_logs.append(train_logs)\n",
    "        \n",
    "        # update the learning rate\n",
    "        lr_scheduler.step()\n",
    "        \n",
    "        # evaluate on the validation dataset after training one epoch\n",
    "        for images, targets in trans_valid_dataloader: # can do batch of 10 prob.\n",
    "            images = [image.to(device) for image in images]\n",
    "            targets = [{k: v.to(device) for k, v in t.items()} for t in targets]\n",
    "\n",
    "            with torch.no_grad():\n",
    "                trans_loss_dict = model(images, targets)\n",
    "                trans_loss_dict = [{k: loss.to('cpu')} for k, loss in trans_loss_dict.items()]\n",
    "                all_trans_valid_logs.append(trans_loss_dict)\n",
    "\n",
    "\n",
    "        for images, targets in cis_valid_dataloader: # can do batch of 10 prob.\n",
    "            images = [image.to(device) for image in images]\n",
    "            targets = [{k: v.to(device) for k, v in t.items()} for t in targets]\n",
    "\n",
    "            with torch.no_grad():\n",
    "                cis_loss_dict = model(images, targets)\n",
    "                cis_loss_dict = [{k: loss.to('cpu')} for k, loss in cis_loss_dict.items()]\n",
    "                all_cis_valid_logs.append(cis_loss_dict)\n",
    "    \n",
    "    filetime = time.strftime(\"%Y%m%d_%H%M%S\")\n",
    "    \n",
    "    if save_logs:\n",
    "        \n",
    "        # save the train, cis valid and trans valid logs\n",
    "        train_logs_to_json(all_train_logs, filetime)\n",
    "        cis_valid_logs_to_json(all_cis_valid_logs, filetime)\n",
    "        trans_valid_logs_to_json(all_trans_valid_logs, filetime)\n",
    "        \n",
    "    if save_model:\n",
    "        \n",
    "        # save the model, the optimizer and the scheduler\n",
    "        torch.save(model.state_dict(), 'saved_models/' + filetime + '_model.pt')\n",
    "        torch.save(optimizer.state_dict(), 'saved_models/' + filetime + '_optimizer.pt')\n",
    "        torch.save(lr_scheduler.state_dict(), 'saved_models/' + filetime + '_scheduler.pt')\n",
    "    \n",
    "    \n",
    "    \n",
    "    return all_train_logs, all_trans_valid_logs, all_cis_valid_logs\n"
   ]
  },
  {
   "cell_type": "markdown",
   "metadata": {},
   "source": [
    "# Interactive Part"
   ]
  },
  {
   "cell_type": "markdown",
   "metadata": {},
   "source": [
    "### Before training"
   ]
  },
  {
   "cell_type": "code",
   "execution_count": 28,
   "metadata": {},
   "outputs": [
    {
     "data": {
      "text/plain": [
       "'NVIDIA GeForce GTX 1080 Ti'"
      ]
     },
     "execution_count": 28,
     "metadata": {},
     "output_type": "execute_result"
    }
   ],
   "source": [
    "# PARAMETERS TO TUNE BEFORE TRAINING\n",
    "num_epochs = 50\n",
    "\n",
    "# CHECK DEVICE BEFORE TRAINING\n",
    "torch.cuda.get_device_name(0)"
   ]
  },
  {
   "cell_type": "markdown",
   "metadata": {},
   "source": [
    "### This next cell starts the training of the model"
   ]
  },
  {
   "cell_type": "code",
   "execution_count": null,
   "metadata": {
    "scrolled": true
   },
   "outputs": [
    {
     "name": "stderr",
     "output_type": "stream",
     "text": [
      "C:\\Users\\kevin\\miniconda3\\envs\\animals\\lib\\site-packages\\torch\\functional.py:445: UserWarning: torch.meshgrid: in an upcoming release, it will be required to pass the indexing argument. (Triggered internally at  ..\\aten\\src\\ATen\\native\\TensorShape.cpp:2157.)\n",
      "  return _VF.meshgrid(tensors, **kwargs)  # type: ignore[attr-defined]\n"
     ]
    },
    {
     "name": "stdout",
     "output_type": "stream",
     "text": [
      "Epoch: [0]  [    0/12099]  eta: 8:33:32  lr: 0.000001  loss: 0.7541 (0.7541)  loss_classifier: 0.6745 (0.6745)  loss_box_reg: 0.0398 (0.0398)  loss_objectness: 0.0375 (0.0375)  loss_rpn_box_reg: 0.0023 (0.0023)  time: 2.5467  data: 0.0640  max mem: 594\n",
      "Epoch: [0]  [  100/12099]  eta: 0:35:10  lr: 0.000031  loss: 0.2884 (0.5308)  loss_classifier: 0.1461 (0.3719)  loss_box_reg: 0.1176 (0.1212)  loss_objectness: 0.0085 (0.0268)  loss_rpn_box_reg: 0.0029 (0.0109)  time: 0.1501  data: 0.0384  max mem: 652\n",
      "Epoch: [0]  [  200/12099]  eta: 0:31:16  lr: 0.000061  loss: 0.2409 (0.4013)  loss_classifier: 0.0918 (0.2425)  loss_box_reg: 0.1059 (0.1232)  loss_objectness: 0.0056 (0.0268)  loss_rpn_box_reg: 0.0019 (0.0088)  time: 0.1318  data: 0.0325  max mem: 652\n",
      "Epoch: [0]  [  300/12099]  eta: 0:29:14  lr: 0.000091  loss: 0.2235 (0.3491)  loss_classifier: 0.0831 (0.1923)  loss_box_reg: 0.0880 (0.1202)  loss_objectness: 0.0085 (0.0275)  loss_rpn_box_reg: 0.0028 (0.0091)  time: 0.1323  data: 0.0336  max mem: 652\n",
      "Epoch: [0]  [  400/12099]  eta: 0:28:05  lr: 0.000120  loss: 0.2074 (0.3188)  loss_classifier: 0.0666 (0.1649)  loss_box_reg: 0.0902 (0.1187)  loss_objectness: 0.0083 (0.0273)  loss_rpn_box_reg: 0.0019 (0.0079)  time: 0.1305  data: 0.0316  max mem: 652\n",
      "Epoch: [0]  [  500/12099]  eta: 0:27:17  lr: 0.000150  loss: 0.2142 (0.2982)  loss_classifier: 0.0630 (0.1469)  loss_box_reg: 0.1170 (0.1167)  loss_objectness: 0.0074 (0.0271)  loss_rpn_box_reg: 0.0020 (0.0075)  time: 0.1300  data: 0.0316  max mem: 652\n",
      "Epoch: [0]  [  600/12099]  eta: 0:26:44  lr: 0.000180  loss: 0.1910 (0.2833)  loss_classifier: 0.0636 (0.1342)  loss_box_reg: 0.1169 (0.1153)  loss_objectness: 0.0071 (0.0267)  loss_rpn_box_reg: 0.0007 (0.0071)  time: 0.1302  data: 0.0319  max mem: 652\n",
      "Epoch: [0]  [  700/12099]  eta: 0:26:16  lr: 0.000210  loss: 0.1787 (0.2706)  loss_classifier: 0.0548 (0.1243)  loss_box_reg: 0.1056 (0.1132)  loss_objectness: 0.0054 (0.0263)  loss_rpn_box_reg: 0.0038 (0.0069)  time: 0.1377  data: 0.0353  max mem: 652\n",
      "Epoch: [0]  [  800/12099]  eta: 0:26:26  lr: 0.000240  loss: 0.1592 (0.2607)  loss_classifier: 0.0594 (0.1172)  loss_box_reg: 0.0785 (0.1107)  loss_objectness: 0.0053 (0.0260)  loss_rpn_box_reg: 0.0028 (0.0068)  time: 0.1616  data: 0.0433  max mem: 652\n",
      "Epoch: [0]  [  900/12099]  eta: 0:26:36  lr: 0.000270  loss: 0.1509 (0.2516)  loss_classifier: 0.0439 (0.1111)  loss_box_reg: 0.0721 (0.1083)  loss_objectness: 0.0062 (0.0253)  loss_rpn_box_reg: 0.0022 (0.0068)  time: 0.1540  data: 0.0389  max mem: 652\n",
      "Epoch: [0]  [ 1000/12099]  eta: 0:26:38  lr: 0.000300  loss: 0.1580 (0.2427)  loss_classifier: 0.0564 (0.1060)  loss_box_reg: 0.0648 (0.1053)  loss_objectness: 0.0178 (0.0247)  loss_rpn_box_reg: 0.0018 (0.0067)  time: 0.1553  data: 0.0398  max mem: 652\n",
      "Epoch: [0]  [ 1100/12099]  eta: 0:26:19  lr: 0.000300  loss: 0.1143 (0.2347)  loss_classifier: 0.0377 (0.1014)  loss_box_reg: 0.0688 (0.1026)  loss_objectness: 0.0063 (0.0242)  loss_rpn_box_reg: 0.0011 (0.0065)  time: 0.1486  data: 0.0400  max mem: 652\n",
      "Epoch: [0]  [ 1200/12099]  eta: 0:25:59  lr: 0.000300  loss: 0.1312 (0.2267)  loss_classifier: 0.0401 (0.0969)  loss_box_reg: 0.0722 (0.1001)  loss_objectness: 0.0044 (0.0233)  loss_rpn_box_reg: 0.0026 (0.0064)  time: 0.1434  data: 0.0360  max mem: 652\n",
      "Epoch: [0]  [ 1300/12099]  eta: 0:25:41  lr: 0.000300  loss: 0.1100 (0.2206)  loss_classifier: 0.0449 (0.0936)  loss_box_reg: 0.0566 (0.0977)  loss_objectness: 0.0075 (0.0229)  loss_rpn_box_reg: 0.0020 (0.0064)  time: 0.1500  data: 0.0383  max mem: 652\n",
      "Epoch: [0]  [ 1400/12099]  eta: 0:25:32  lr: 0.000300  loss: 0.1149 (0.2160)  loss_classifier: 0.0362 (0.0908)  loss_box_reg: 0.0757 (0.0962)  loss_objectness: 0.0032 (0.0226)  loss_rpn_box_reg: 0.0012 (0.0064)  time: 0.1466  data: 0.0375  max mem: 652\n",
      "Epoch: [0]  [ 1500/12099]  eta: 0:25:30  lr: 0.000300  loss: 0.1321 (0.2111)  loss_classifier: 0.0433 (0.0881)  loss_box_reg: 0.0652 (0.0942)  loss_objectness: 0.0072 (0.0224)  loss_rpn_box_reg: 0.0023 (0.0064)  time: 0.1561  data: 0.0416  max mem: 652\n",
      "Epoch: [0]  [ 1600/12099]  eta: 0:25:09  lr: 0.000300  loss: 0.1243 (0.2075)  loss_classifier: 0.0459 (0.0861)  loss_box_reg: 0.0480 (0.0928)  loss_objectness: 0.0092 (0.0223)  loss_rpn_box_reg: 0.0017 (0.0064)  time: 0.1291  data: 0.0313  max mem: 652\n",
      "Epoch: [0]  [ 1700/12099]  eta: 0:24:46  lr: 0.000300  loss: 0.1320 (0.2035)  loss_classifier: 0.0437 (0.0840)  loss_box_reg: 0.0623 (0.0911)  loss_objectness: 0.0102 (0.0219)  loss_rpn_box_reg: 0.0016 (0.0064)  time: 0.1306  data: 0.0314  max mem: 652\n",
      "Epoch: [0]  [ 1800/12099]  eta: 0:24:36  lr: 0.000300  loss: 0.1045 (0.1988)  loss_classifier: 0.0342 (0.0817)  loss_box_reg: 0.0637 (0.0894)  loss_objectness: 0.0071 (0.0213)  loss_rpn_box_reg: 0.0015 (0.0063)  time: 0.1510  data: 0.0393  max mem: 652\n",
      "Epoch: [0]  [ 1900/12099]  eta: 0:24:29  lr: 0.000300  loss: 0.1502 (0.1957)  loss_classifier: 0.0500 (0.0802)  loss_box_reg: 0.0633 (0.0882)  loss_objectness: 0.0112 (0.0210)  loss_rpn_box_reg: 0.0023 (0.0063)  time: 0.1628  data: 0.0422  max mem: 652\n",
      "Epoch: [0]  [ 2000/12099]  eta: 0:24:25  lr: 0.000300  loss: 0.1085 (0.1925)  loss_classifier: 0.0328 (0.0786)  loss_box_reg: 0.0576 (0.0871)  loss_objectness: 0.0044 (0.0206)  loss_rpn_box_reg: 0.0009 (0.0061)  time: 0.1625  data: 0.0411  max mem: 652\n",
      "Epoch: [0]  [ 2100/12099]  eta: 0:24:18  lr: 0.000300  loss: 0.1543 (0.1898)  loss_classifier: 0.0496 (0.0773)  loss_box_reg: 0.0774 (0.0861)  loss_objectness: 0.0078 (0.0204)  loss_rpn_box_reg: 0.0022 (0.0061)  time: 0.1613  data: 0.0410  max mem: 652\n",
      "Epoch: [0]  [ 2200/12099]  eta: 0:24:04  lr: 0.000300  loss: 0.1141 (0.1871)  loss_classifier: 0.0437 (0.0759)  loss_box_reg: 0.0529 (0.0850)  loss_objectness: 0.0079 (0.0200)  loss_rpn_box_reg: 0.0012 (0.0061)  time: 0.1373  data: 0.0335  max mem: 652\n",
      "Epoch: [0]  [ 2300/12099]  eta: 0:23:47  lr: 0.000300  loss: 0.1220 (0.1853)  loss_classifier: 0.0433 (0.0749)  loss_box_reg: 0.0621 (0.0842)  loss_objectness: 0.0093 (0.0201)  loss_rpn_box_reg: 0.0024 (0.0061)  time: 0.1395  data: 0.0339  max mem: 652\n",
      "Epoch: [0]  [ 2400/12099]  eta: 0:23:40  lr: 0.000300  loss: 0.1323 (0.1832)  loss_classifier: 0.0414 (0.0740)  loss_box_reg: 0.0582 (0.0832)  loss_objectness: 0.0077 (0.0200)  loss_rpn_box_reg: 0.0024 (0.0060)  time: 0.1648  data: 0.0437  max mem: 652\n",
      "Epoch: [0]  [ 2500/12099]  eta: 0:23:27  lr: 0.000300  loss: 0.1176 (0.1809)  loss_classifier: 0.0435 (0.0729)  loss_box_reg: 0.0555 (0.0824)  loss_objectness: 0.0060 (0.0197)  loss_rpn_box_reg: 0.0037 (0.0060)  time: 0.1563  data: 0.0446  max mem: 652\n",
      "Epoch: [0]  [ 2600/12099]  eta: 0:23:14  lr: 0.000300  loss: 0.1081 (0.1789)  loss_classifier: 0.0363 (0.0718)  loss_box_reg: 0.0628 (0.0817)  loss_objectness: 0.0060 (0.0194)  loss_rpn_box_reg: 0.0026 (0.0060)  time: 0.1441  data: 0.0376  max mem: 652\n",
      "Epoch: [0]  [ 2700/12099]  eta: 0:22:57  lr: 0.000300  loss: 0.1217 (0.1774)  loss_classifier: 0.0440 (0.0711)  loss_box_reg: 0.0603 (0.0811)  loss_objectness: 0.0078 (0.0192)  loss_rpn_box_reg: 0.0032 (0.0060)  time: 0.1367  data: 0.0341  max mem: 652\n",
      "Epoch: [0]  [ 2800/12099]  eta: 0:22:42  lr: 0.000300  loss: 0.1214 (0.1759)  loss_classifier: 0.0377 (0.0703)  loss_box_reg: 0.0514 (0.0805)  loss_objectness: 0.0057 (0.0190)  loss_rpn_box_reg: 0.0032 (0.0060)  time: 0.1748  data: 0.0548  max mem: 652\n",
      "Epoch: [0]  [ 2900/12099]  eta: 0:22:28  lr: 0.000300  loss: 0.1325 (0.1748)  loss_classifier: 0.0433 (0.0698)  loss_box_reg: 0.0572 (0.0799)  loss_objectness: 0.0114 (0.0191)  loss_rpn_box_reg: 0.0022 (0.0061)  time: 0.1470  data: 0.0404  max mem: 652\n",
      "Epoch: [0]  [ 3000/12099]  eta: 0:22:14  lr: 0.000300  loss: 0.1126 (0.1731)  loss_classifier: 0.0383 (0.0689)  loss_box_reg: 0.0612 (0.0794)  loss_objectness: 0.0048 (0.0187)  loss_rpn_box_reg: 0.0020 (0.0060)  time: 0.1468  data: 0.0386  max mem: 652\n",
      "Epoch: [0]  [ 3100/12099]  eta: 0:22:00  lr: 0.000300  loss: 0.1048 (0.1719)  loss_classifier: 0.0364 (0.0684)  loss_box_reg: 0.0567 (0.0789)  loss_objectness: 0.0070 (0.0186)  loss_rpn_box_reg: 0.0021 (0.0060)  time: 0.1394  data: 0.0357  max mem: 652\n",
      "Epoch: [0]  [ 3200/12099]  eta: 0:21:45  lr: 0.000300  loss: 0.1205 (0.1707)  loss_classifier: 0.0422 (0.0678)  loss_box_reg: 0.0611 (0.0785)  loss_objectness: 0.0037 (0.0184)  loss_rpn_box_reg: 0.0014 (0.0060)  time: 0.1426  data: 0.0367  max mem: 652\n"
     ]
    },
    {
     "name": "stdout",
     "output_type": "stream",
     "text": [
      "Epoch: [0]  [ 3300/12099]  eta: 0:21:29  lr: 0.000300  loss: 0.1164 (0.1696)  loss_classifier: 0.0378 (0.0673)  loss_box_reg: 0.0568 (0.0780)  loss_objectness: 0.0050 (0.0183)  loss_rpn_box_reg: 0.0021 (0.0060)  time: 0.1425  data: 0.0339  max mem: 652\n",
      "Epoch: [0]  [ 3400/12099]  eta: 0:21:13  lr: 0.000300  loss: 0.1133 (0.1684)  loss_classifier: 0.0377 (0.0667)  loss_box_reg: 0.0575 (0.0774)  loss_objectness: 0.0092 (0.0183)  loss_rpn_box_reg: 0.0023 (0.0060)  time: 0.1547  data: 0.0416  max mem: 652\n",
      "Epoch: [0]  [ 3500/12099]  eta: 0:20:58  lr: 0.000300  loss: 0.1081 (0.1674)  loss_classifier: 0.0367 (0.0663)  loss_box_reg: 0.0574 (0.0770)  loss_objectness: 0.0041 (0.0182)  loss_rpn_box_reg: 0.0015 (0.0059)  time: 0.1409  data: 0.0351  max mem: 652\n",
      "Epoch: [0]  [ 3600/12099]  eta: 0:20:41  lr: 0.000300  loss: 0.1373 (0.1664)  loss_classifier: 0.0436 (0.0658)  loss_box_reg: 0.0660 (0.0766)  loss_objectness: 0.0055 (0.0181)  loss_rpn_box_reg: 0.0023 (0.0059)  time: 0.1339  data: 0.0339  max mem: 652\n",
      "Epoch: [0]  [ 3700/12099]  eta: 0:20:26  lr: 0.000300  loss: 0.1248 (0.1652)  loss_classifier: 0.0364 (0.0652)  loss_box_reg: 0.0624 (0.0761)  loss_objectness: 0.0085 (0.0180)  loss_rpn_box_reg: 0.0023 (0.0059)  time: 0.1509  data: 0.0393  max mem: 652\n",
      "Epoch: [0]  [ 3800/12099]  eta: 0:20:10  lr: 0.000300  loss: 0.1197 (0.1644)  loss_classifier: 0.0357 (0.0649)  loss_box_reg: 0.0621 (0.0759)  loss_objectness: 0.0038 (0.0179)  loss_rpn_box_reg: 0.0024 (0.0058)  time: 0.1449  data: 0.0403  max mem: 652\n",
      "Epoch: [0]  [ 3900/12099]  eta: 0:19:54  lr: 0.000300  loss: 0.0973 (0.1635)  loss_classifier: 0.0283 (0.0643)  loss_box_reg: 0.0584 (0.0755)  loss_objectness: 0.0041 (0.0178)  loss_rpn_box_reg: 0.0011 (0.0058)  time: 0.1430  data: 0.0365  max mem: 652\n",
      "Epoch: [0]  [ 4000/12099]  eta: 0:19:38  lr: 0.000300  loss: 0.1181 (0.1625)  loss_classifier: 0.0322 (0.0639)  loss_box_reg: 0.0502 (0.0751)  loss_objectness: 0.0060 (0.0177)  loss_rpn_box_reg: 0.0030 (0.0058)  time: 0.1346  data: 0.0349  max mem: 652\n",
      "Epoch: [0]  [ 4100/12099]  eta: 0:19:23  lr: 0.000300  loss: 0.1397 (0.1616)  loss_classifier: 0.0462 (0.0635)  loss_box_reg: 0.0503 (0.0748)  loss_objectness: 0.0058 (0.0175)  loss_rpn_box_reg: 0.0030 (0.0058)  time: 0.1538  data: 0.0406  max mem: 652\n",
      "Epoch: [0]  [ 4200/12099]  eta: 0:19:07  lr: 0.000300  loss: 0.1032 (0.1610)  loss_classifier: 0.0411 (0.0631)  loss_box_reg: 0.0494 (0.0746)  loss_objectness: 0.0080 (0.0175)  loss_rpn_box_reg: 0.0014 (0.0058)  time: 0.1384  data: 0.0352  max mem: 652\n",
      "Epoch: [0]  [ 4300/12099]  eta: 0:18:53  lr: 0.000300  loss: 0.1102 (0.1603)  loss_classifier: 0.0341 (0.0627)  loss_box_reg: 0.0456 (0.0744)  loss_objectness: 0.0080 (0.0174)  loss_rpn_box_reg: 0.0013 (0.0058)  time: 0.1336  data: 0.0335  max mem: 652\n",
      "Epoch: [0]  [ 4400/12099]  eta: 0:18:38  lr: 0.000300  loss: 0.1200 (0.1597)  loss_classifier: 0.0401 (0.0624)  loss_box_reg: 0.0630 (0.0741)  loss_objectness: 0.0079 (0.0174)  loss_rpn_box_reg: 0.0013 (0.0058)  time: 0.1349  data: 0.0347  max mem: 652\n",
      "Epoch: [0]  [ 4500/12099]  eta: 0:18:21  lr: 0.000300  loss: 0.1194 (0.1589)  loss_classifier: 0.0393 (0.0620)  loss_box_reg: 0.0488 (0.0737)  loss_objectness: 0.0080 (0.0174)  loss_rpn_box_reg: 0.0015 (0.0058)  time: 0.1320  data: 0.0338  max mem: 652\n",
      "Epoch: [0]  [ 4600/12099]  eta: 0:18:06  lr: 0.000300  loss: 0.1363 (0.1584)  loss_classifier: 0.0518 (0.0618)  loss_box_reg: 0.0583 (0.0735)  loss_objectness: 0.0104 (0.0174)  loss_rpn_box_reg: 0.0037 (0.0058)  time: 0.1455  data: 0.0326  max mem: 652\n",
      "Epoch: [0]  [ 4700/12099]  eta: 0:17:53  lr: 0.000300  loss: 0.1150 (0.1577)  loss_classifier: 0.0353 (0.0614)  loss_box_reg: 0.0313 (0.0731)  loss_objectness: 0.0127 (0.0174)  loss_rpn_box_reg: 0.0024 (0.0058)  time: 0.1551  data: 0.0445  max mem: 652\n",
      "Epoch: [0]  [ 4800/12099]  eta: 0:17:37  lr: 0.000300  loss: 0.1203 (0.1572)  loss_classifier: 0.0457 (0.0611)  loss_box_reg: 0.0575 (0.0730)  loss_objectness: 0.0056 (0.0173)  loss_rpn_box_reg: 0.0016 (0.0058)  time: 0.1336  data: 0.0325  max mem: 652\n",
      "Epoch: [0]  [ 4900/12099]  eta: 0:17:21  lr: 0.000300  loss: 0.0971 (0.1567)  loss_classifier: 0.0265 (0.0609)  loss_box_reg: 0.0510 (0.0728)  loss_objectness: 0.0079 (0.0172)  loss_rpn_box_reg: 0.0018 (0.0058)  time: 0.1311  data: 0.0321  max mem: 652\n",
      "Epoch: [0]  [ 5000/12099]  eta: 0:17:08  lr: 0.000300  loss: 0.1069 (0.1560)  loss_classifier: 0.0298 (0.0605)  loss_box_reg: 0.0539 (0.0725)  loss_objectness: 0.0073 (0.0171)  loss_rpn_box_reg: 0.0013 (0.0058)  time: 0.1707  data: 0.0457  max mem: 652\n",
      "Epoch: [0]  [ 5100/12099]  eta: 0:16:54  lr: 0.000300  loss: 0.1137 (0.1557)  loss_classifier: 0.0390 (0.0604)  loss_box_reg: 0.0512 (0.0723)  loss_objectness: 0.0096 (0.0172)  loss_rpn_box_reg: 0.0018 (0.0057)  time: 0.1396  data: 0.0340  max mem: 652\n",
      "Epoch: [0]  [ 5200/12099]  eta: 0:16:39  lr: 0.000300  loss: 0.1219 (0.1550)  loss_classifier: 0.0403 (0.0601)  loss_box_reg: 0.0609 (0.0721)  loss_objectness: 0.0093 (0.0171)  loss_rpn_box_reg: 0.0011 (0.0058)  time: 0.1402  data: 0.0343  max mem: 652\n",
      "Epoch: [0]  [ 5300/12099]  eta: 0:16:24  lr: 0.000300  loss: 0.0898 (0.1544)  loss_classifier: 0.0299 (0.0597)  loss_box_reg: 0.0482 (0.0718)  loss_objectness: 0.0051 (0.0171)  loss_rpn_box_reg: 0.0017 (0.0058)  time: 0.1353  data: 0.0335  max mem: 652\n",
      "Epoch: [0]  [ 5400/12099]  eta: 0:16:09  lr: 0.000300  loss: 0.1433 (0.1541)  loss_classifier: 0.0389 (0.0596)  loss_box_reg: 0.0686 (0.0717)  loss_objectness: 0.0098 (0.0171)  loss_rpn_box_reg: 0.0036 (0.0057)  time: 0.1345  data: 0.0340  max mem: 652\n",
      "Epoch: [0]  [ 5500/12099]  eta: 0:15:53  lr: 0.000300  loss: 0.0999 (0.1536)  loss_classifier: 0.0393 (0.0593)  loss_box_reg: 0.0520 (0.0715)  loss_objectness: 0.0057 (0.0171)  loss_rpn_box_reg: 0.0015 (0.0058)  time: 0.1336  data: 0.0335  max mem: 652\n",
      "Epoch: [0]  [ 5600/12099]  eta: 0:15:37  lr: 0.000300  loss: 0.1471 (0.1531)  loss_classifier: 0.0480 (0.0590)  loss_box_reg: 0.0609 (0.0713)  loss_objectness: 0.0067 (0.0171)  loss_rpn_box_reg: 0.0021 (0.0057)  time: 0.1325  data: 0.0327  max mem: 652\n",
      "Epoch: [0]  [ 5700/12099]  eta: 0:15:22  lr: 0.000300  loss: 0.1006 (0.1526)  loss_classifier: 0.0385 (0.0588)  loss_box_reg: 0.0521 (0.0710)  loss_objectness: 0.0070 (0.0171)  loss_rpn_box_reg: 0.0020 (0.0057)  time: 0.1429  data: 0.0356  max mem: 652\n",
      "Epoch: [0]  [ 5800/12099]  eta: 0:15:07  lr: 0.000300  loss: 0.1245 (0.1523)  loss_classifier: 0.0401 (0.0586)  loss_box_reg: 0.0674 (0.0710)  loss_objectness: 0.0043 (0.0170)  loss_rpn_box_reg: 0.0024 (0.0057)  time: 0.1302  data: 0.0320  max mem: 652\n",
      "Epoch: [0]  [ 5900/12099]  eta: 0:14:52  lr: 0.000300  loss: 0.1194 (0.1520)  loss_classifier: 0.0447 (0.0585)  loss_box_reg: 0.0636 (0.0709)  loss_objectness: 0.0074 (0.0169)  loss_rpn_box_reg: 0.0023 (0.0057)  time: 0.1385  data: 0.0338  max mem: 652\n",
      "Epoch: [0]  [ 6000/12099]  eta: 0:14:37  lr: 0.000300  loss: 0.1032 (0.1516)  loss_classifier: 0.0354 (0.0583)  loss_box_reg: 0.0578 (0.0708)  loss_objectness: 0.0056 (0.0169)  loss_rpn_box_reg: 0.0015 (0.0057)  time: 0.1375  data: 0.0344  max mem: 652\n",
      "Epoch: [0]  [ 6100/12099]  eta: 0:14:22  lr: 0.000300  loss: 0.1123 (0.1510)  loss_classifier: 0.0298 (0.0580)  loss_box_reg: 0.0496 (0.0706)  loss_objectness: 0.0040 (0.0168)  loss_rpn_box_reg: 0.0018 (0.0057)  time: 0.1404  data: 0.0350  max mem: 652\n",
      "Epoch: [0]  [ 6200/12099]  eta: 0:14:07  lr: 0.000300  loss: 0.1115 (0.1506)  loss_classifier: 0.0345 (0.0578)  loss_box_reg: 0.0587 (0.0704)  loss_objectness: 0.0064 (0.0167)  loss_rpn_box_reg: 0.0016 (0.0057)  time: 0.1356  data: 0.0336  max mem: 652\n",
      "Epoch: [0]  [ 6300/12099]  eta: 0:13:51  lr: 0.000300  loss: 0.1100 (0.1503)  loss_classifier: 0.0353 (0.0576)  loss_box_reg: 0.0508 (0.0704)  loss_objectness: 0.0101 (0.0166)  loss_rpn_box_reg: 0.0033 (0.0057)  time: 0.1312  data: 0.0326  max mem: 652\n",
      "Epoch: [0]  [ 6400/12099]  eta: 0:13:36  lr: 0.000300  loss: 0.0921 (0.1499)  loss_classifier: 0.0257 (0.0574)  loss_box_reg: 0.0474 (0.0702)  loss_objectness: 0.0046 (0.0167)  loss_rpn_box_reg: 0.0009 (0.0056)  time: 0.1305  data: 0.0321  max mem: 652\n",
      "Epoch: [0]  [ 6500/12099]  eta: 0:13:22  lr: 0.000300  loss: 0.1206 (0.1498)  loss_classifier: 0.0460 (0.0573)  loss_box_reg: 0.0543 (0.0703)  loss_objectness: 0.0072 (0.0166)  loss_rpn_box_reg: 0.0012 (0.0056)  time: 0.1560  data: 0.0406  max mem: 652\n"
     ]
    },
    {
     "name": "stdout",
     "output_type": "stream",
     "text": [
      "Epoch: [0]  [ 6600/12099]  eta: 0:13:07  lr: 0.000300  loss: 0.1094 (0.1493)  loss_classifier: 0.0392 (0.0570)  loss_box_reg: 0.0445 (0.0701)  loss_objectness: 0.0056 (0.0165)  loss_rpn_box_reg: 0.0018 (0.0056)  time: 0.1259  data: 0.0296  max mem: 652\n",
      "Epoch: [0]  [ 6700/12099]  eta: 0:12:52  lr: 0.000300  loss: 0.1269 (0.1490)  loss_classifier: 0.0418 (0.0569)  loss_box_reg: 0.0593 (0.0700)  loss_objectness: 0.0075 (0.0165)  loss_rpn_box_reg: 0.0030 (0.0056)  time: 0.1262  data: 0.0301  max mem: 652\n",
      "Epoch: [0]  [ 6800/12099]  eta: 0:12:37  lr: 0.000300  loss: 0.1194 (0.1488)  loss_classifier: 0.0419 (0.0567)  loss_box_reg: 0.0467 (0.0700)  loss_objectness: 0.0047 (0.0165)  loss_rpn_box_reg: 0.0026 (0.0056)  time: 0.1323  data: 0.0330  max mem: 652\n",
      "Epoch: [0]  [ 6900/12099]  eta: 0:12:22  lr: 0.000300  loss: 0.1238 (0.1486)  loss_classifier: 0.0425 (0.0567)  loss_box_reg: 0.0643 (0.0699)  loss_objectness: 0.0079 (0.0165)  loss_rpn_box_reg: 0.0021 (0.0056)  time: 0.1394  data: 0.0360  max mem: 652\n",
      "Epoch: [0]  [ 7000/12099]  eta: 0:12:08  lr: 0.000300  loss: 0.1219 (0.1483)  loss_classifier: 0.0417 (0.0565)  loss_box_reg: 0.0562 (0.0699)  loss_objectness: 0.0067 (0.0164)  loss_rpn_box_reg: 0.0014 (0.0056)  time: 0.1536  data: 0.0435  max mem: 652\n",
      "Epoch: [0]  [ 7100/12099]  eta: 0:11:53  lr: 0.000300  loss: 0.1298 (0.1481)  loss_classifier: 0.0349 (0.0563)  loss_box_reg: 0.0643 (0.0698)  loss_objectness: 0.0051 (0.0164)  loss_rpn_box_reg: 0.0028 (0.0056)  time: 0.1289  data: 0.0314  max mem: 652\n",
      "Epoch: [0]  [ 7200/12099]  eta: 0:11:38  lr: 0.000300  loss: 0.1101 (0.1479)  loss_classifier: 0.0368 (0.0563)  loss_box_reg: 0.0518 (0.0697)  loss_objectness: 0.0057 (0.0164)  loss_rpn_box_reg: 0.0020 (0.0055)  time: 0.1302  data: 0.0335  max mem: 652\n",
      "Epoch: [0]  [ 7300/12099]  eta: 0:11:23  lr: 0.000300  loss: 0.1008 (0.1477)  loss_classifier: 0.0471 (0.0562)  loss_box_reg: 0.0533 (0.0696)  loss_objectness: 0.0062 (0.0164)  loss_rpn_box_reg: 0.0010 (0.0055)  time: 0.1328  data: 0.0322  max mem: 652\n",
      "Epoch: [0]  [ 7400/12099]  eta: 0:11:08  lr: 0.000300  loss: 0.1245 (0.1474)  loss_classifier: 0.0358 (0.0561)  loss_box_reg: 0.0713 (0.0694)  loss_objectness: 0.0057 (0.0163)  loss_rpn_box_reg: 0.0030 (0.0055)  time: 0.1291  data: 0.0320  max mem: 652\n",
      "Epoch: [0]  [ 7500/12099]  eta: 0:10:53  lr: 0.000300  loss: 0.0870 (0.1470)  loss_classifier: 0.0345 (0.0559)  loss_box_reg: 0.0522 (0.0693)  loss_objectness: 0.0061 (0.0162)  loss_rpn_box_reg: 0.0011 (0.0055)  time: 0.1300  data: 0.0298  max mem: 652\n",
      "Epoch: [0]  [ 7600/12099]  eta: 0:10:38  lr: 0.000300  loss: 0.1273 (0.1469)  loss_classifier: 0.0390 (0.0558)  loss_box_reg: 0.0587 (0.0693)  loss_objectness: 0.0108 (0.0162)  loss_rpn_box_reg: 0.0018 (0.0055)  time: 0.1448  data: 0.0350  max mem: 652\n",
      "Epoch: [0]  [ 7700/12099]  eta: 0:10:24  lr: 0.000300  loss: 0.1153 (0.1466)  loss_classifier: 0.0372 (0.0557)  loss_box_reg: 0.0513 (0.0692)  loss_objectness: 0.0055 (0.0161)  loss_rpn_box_reg: 0.0018 (0.0055)  time: 0.1449  data: 0.0352  max mem: 652\n",
      "Epoch: [0]  [ 7800/12099]  eta: 0:10:09  lr: 0.000300  loss: 0.1089 (0.1464)  loss_classifier: 0.0402 (0.0556)  loss_box_reg: 0.0549 (0.0692)  loss_objectness: 0.0049 (0.0161)  loss_rpn_box_reg: 0.0032 (0.0055)  time: 0.1262  data: 0.0298  max mem: 652\n",
      "Epoch: [0]  [ 7900/12099]  eta: 0:09:55  lr: 0.000300  loss: 0.1108 (0.1462)  loss_classifier: 0.0330 (0.0555)  loss_box_reg: 0.0588 (0.0692)  loss_objectness: 0.0063 (0.0160)  loss_rpn_box_reg: 0.0011 (0.0055)  time: 0.1445  data: 0.0379  max mem: 652\n",
      "Epoch: [0]  [ 8000/12099]  eta: 0:09:41  lr: 0.000300  loss: 0.1297 (0.1460)  loss_classifier: 0.0391 (0.0554)  loss_box_reg: 0.0663 (0.0691)  loss_objectness: 0.0062 (0.0160)  loss_rpn_box_reg: 0.0020 (0.0055)  time: 0.1556  data: 0.0406  max mem: 652\n",
      "Epoch: [0]  [ 8100/12099]  eta: 0:09:27  lr: 0.000300  loss: 0.1209 (0.1457)  loss_classifier: 0.0376 (0.0552)  loss_box_reg: 0.0612 (0.0691)  loss_objectness: 0.0050 (0.0159)  loss_rpn_box_reg: 0.0019 (0.0055)  time: 0.1347  data: 0.0322  max mem: 652\n",
      "Epoch: [0]  [ 8200/12099]  eta: 0:09:12  lr: 0.000300  loss: 0.1040 (0.1456)  loss_classifier: 0.0282 (0.0551)  loss_box_reg: 0.0671 (0.0691)  loss_objectness: 0.0028 (0.0158)  loss_rpn_box_reg: 0.0032 (0.0055)  time: 0.1369  data: 0.0332  max mem: 652\n",
      "Epoch: [0]  [ 8300/12099]  eta: 0:08:58  lr: 0.000300  loss: 0.1182 (0.1453)  loss_classifier: 0.0368 (0.0550)  loss_box_reg: 0.0527 (0.0690)  loss_objectness: 0.0073 (0.0158)  loss_rpn_box_reg: 0.0020 (0.0055)  time: 0.1440  data: 0.0379  max mem: 652\n",
      "Epoch: [0]  [ 8400/12099]  eta: 0:08:44  lr: 0.000300  loss: 0.1119 (0.1451)  loss_classifier: 0.0337 (0.0549)  loss_box_reg: 0.0595 (0.0689)  loss_objectness: 0.0043 (0.0157)  loss_rpn_box_reg: 0.0022 (0.0055)  time: 0.1440  data: 0.0378  max mem: 652\n",
      "Epoch: [0]  [ 8500/12099]  eta: 0:08:30  lr: 0.000300  loss: 0.1021 (0.1448)  loss_classifier: 0.0291 (0.0548)  loss_box_reg: 0.0498 (0.0689)  loss_objectness: 0.0043 (0.0157)  loss_rpn_box_reg: 0.0019 (0.0055)  time: 0.1294  data: 0.0306  max mem: 652\n",
      "Epoch: [0]  [ 8600/12099]  eta: 0:08:15  lr: 0.000300  loss: 0.1117 (0.1446)  loss_classifier: 0.0398 (0.0547)  loss_box_reg: 0.0513 (0.0688)  loss_objectness: 0.0063 (0.0156)  loss_rpn_box_reg: 0.0016 (0.0055)  time: 0.1299  data: 0.0321  max mem: 652\n",
      "Epoch: [0]  [ 8700/12099]  eta: 0:08:01  lr: 0.000300  loss: 0.1083 (0.1444)  loss_classifier: 0.0510 (0.0546)  loss_box_reg: 0.0551 (0.0689)  loss_objectness: 0.0029 (0.0155)  loss_rpn_box_reg: 0.0013 (0.0055)  time: 0.1422  data: 0.0347  max mem: 652\n",
      "Epoch: [0]  [ 8800/12099]  eta: 0:07:47  lr: 0.000300  loss: 0.0973 (0.1442)  loss_classifier: 0.0342 (0.0545)  loss_box_reg: 0.0540 (0.0688)  loss_objectness: 0.0032 (0.0155)  loss_rpn_box_reg: 0.0015 (0.0054)  time: 0.1320  data: 0.0322  max mem: 652\n",
      "Epoch: [0]  [ 8900/12099]  eta: 0:07:33  lr: 0.000300  loss: 0.1112 (0.1443)  loss_classifier: 0.0371 (0.0545)  loss_box_reg: 0.0603 (0.0688)  loss_objectness: 0.0051 (0.0155)  loss_rpn_box_reg: 0.0023 (0.0054)  time: 0.1483  data: 0.0389  max mem: 652\n",
      "Epoch: [0]  [ 9000/12099]  eta: 0:07:19  lr: 0.000300  loss: 0.1222 (0.1441)  loss_classifier: 0.0357 (0.0544)  loss_box_reg: 0.0477 (0.0687)  loss_objectness: 0.0032 (0.0155)  loss_rpn_box_reg: 0.0011 (0.0054)  time: 0.1314  data: 0.0316  max mem: 652\n",
      "Epoch: [0]  [ 9100/12099]  eta: 0:07:05  lr: 0.000300  loss: 0.1336 (0.1440)  loss_classifier: 0.0432 (0.0544)  loss_box_reg: 0.0744 (0.0688)  loss_objectness: 0.0084 (0.0154)  loss_rpn_box_reg: 0.0022 (0.0054)  time: 0.1391  data: 0.0362  max mem: 652\n",
      "Epoch: [0]  [ 9200/12099]  eta: 0:06:50  lr: 0.000300  loss: 0.0921 (0.1439)  loss_classifier: 0.0325 (0.0543)  loss_box_reg: 0.0542 (0.0687)  loss_objectness: 0.0054 (0.0154)  loss_rpn_box_reg: 0.0013 (0.0054)  time: 0.1321  data: 0.0330  max mem: 652\n",
      "Epoch: [0]  [ 9300/12099]  eta: 0:06:36  lr: 0.000300  loss: 0.1115 (0.1437)  loss_classifier: 0.0352 (0.0543)  loss_box_reg: 0.0656 (0.0687)  loss_objectness: 0.0026 (0.0154)  loss_rpn_box_reg: 0.0013 (0.0054)  time: 0.1648  data: 0.0408  max mem: 652\n",
      "Epoch: [0]  [ 9400/12099]  eta: 0:06:22  lr: 0.000300  loss: 0.0934 (0.1436)  loss_classifier: 0.0327 (0.0542)  loss_box_reg: 0.0612 (0.0687)  loss_objectness: 0.0040 (0.0153)  loss_rpn_box_reg: 0.0012 (0.0054)  time: 0.1449  data: 0.0373  max mem: 652\n",
      "Epoch: [0]  [ 9500/12099]  eta: 0:06:08  lr: 0.000300  loss: 0.1204 (0.1434)  loss_classifier: 0.0360 (0.0541)  loss_box_reg: 0.0695 (0.0687)  loss_objectness: 0.0036 (0.0153)  loss_rpn_box_reg: 0.0021 (0.0054)  time: 0.1316  data: 0.0324  max mem: 652\n",
      "Epoch: [0]  [ 9600/12099]  eta: 0:05:54  lr: 0.000300  loss: 0.1066 (0.1433)  loss_classifier: 0.0372 (0.0541)  loss_box_reg: 0.0537 (0.0687)  loss_objectness: 0.0018 (0.0152)  loss_rpn_box_reg: 0.0019 (0.0054)  time: 0.1493  data: 0.0395  max mem: 652\n",
      "Epoch: [0]  [ 9700/12099]  eta: 0:05:40  lr: 0.000300  loss: 0.1090 (0.1432)  loss_classifier: 0.0402 (0.0540)  loss_box_reg: 0.0582 (0.0687)  loss_objectness: 0.0069 (0.0152)  loss_rpn_box_reg: 0.0026 (0.0053)  time: 0.1441  data: 0.0375  max mem: 652\n",
      "Epoch: [0]  [ 9800/12099]  eta: 0:05:26  lr: 0.000300  loss: 0.1043 (0.1431)  loss_classifier: 0.0362 (0.0540)  loss_box_reg: 0.0471 (0.0686)  loss_objectness: 0.0026 (0.0151)  loss_rpn_box_reg: 0.0022 (0.0053)  time: 0.1378  data: 0.0344  max mem: 652\n"
     ]
    },
    {
     "name": "stdout",
     "output_type": "stream",
     "text": [
      "Epoch: [0]  [ 9900/12099]  eta: 0:05:12  lr: 0.000300  loss: 0.1040 (0.1429)  loss_classifier: 0.0349 (0.0539)  loss_box_reg: 0.0568 (0.0686)  loss_objectness: 0.0060 (0.0151)  loss_rpn_box_reg: 0.0016 (0.0053)  time: 0.1288  data: 0.0305  max mem: 652\n",
      "Epoch: [0]  [10000/12099]  eta: 0:04:58  lr: 0.000300  loss: 0.1081 (0.1429)  loss_classifier: 0.0343 (0.0538)  loss_box_reg: 0.0572 (0.0686)  loss_objectness: 0.0071 (0.0151)  loss_rpn_box_reg: 0.0015 (0.0053)  time: 0.1298  data: 0.0314  max mem: 652\n",
      "Epoch: [0]  [10100/12099]  eta: 0:04:44  lr: 0.000300  loss: 0.1375 (0.1428)  loss_classifier: 0.0424 (0.0538)  loss_box_reg: 0.0657 (0.0686)  loss_objectness: 0.0087 (0.0151)  loss_rpn_box_reg: 0.0019 (0.0053)  time: 0.1559  data: 0.0435  max mem: 652\n",
      "Epoch: [0]  [10200/12099]  eta: 0:04:29  lr: 0.000300  loss: 0.1237 (0.1427)  loss_classifier: 0.0370 (0.0537)  loss_box_reg: 0.0523 (0.0686)  loss_objectness: 0.0040 (0.0150)  loss_rpn_box_reg: 0.0026 (0.0053)  time: 0.1431  data: 0.0377  max mem: 652\n",
      "Epoch: [0]  [10300/12099]  eta: 0:04:15  lr: 0.000300  loss: 0.1142 (0.1426)  loss_classifier: 0.0455 (0.0537)  loss_box_reg: 0.0575 (0.0686)  loss_objectness: 0.0037 (0.0150)  loss_rpn_box_reg: 0.0015 (0.0053)  time: 0.1399  data: 0.0362  max mem: 652\n",
      "Epoch: [0]  [10400/12099]  eta: 0:04:01  lr: 0.000300  loss: 0.1161 (0.1424)  loss_classifier: 0.0351 (0.0535)  loss_box_reg: 0.0613 (0.0685)  loss_objectness: 0.0045 (0.0150)  loss_rpn_box_reg: 0.0012 (0.0053)  time: 0.1315  data: 0.0319  max mem: 652\n",
      "Epoch: [0]  [10500/12099]  eta: 0:03:47  lr: 0.000300  loss: 0.0939 (0.1422)  loss_classifier: 0.0338 (0.0535)  loss_box_reg: 0.0514 (0.0685)  loss_objectness: 0.0050 (0.0150)  loss_rpn_box_reg: 0.0012 (0.0053)  time: 0.1475  data: 0.0401  max mem: 652\n",
      "Epoch: [0]  [10600/12099]  eta: 0:03:32  lr: 0.000300  loss: 0.1043 (0.1421)  loss_classifier: 0.0367 (0.0534)  loss_box_reg: 0.0634 (0.0684)  loss_objectness: 0.0035 (0.0150)  loss_rpn_box_reg: 0.0008 (0.0053)  time: 0.1526  data: 0.0418  max mem: 652\n",
      "Epoch: [0]  [10700/12099]  eta: 0:03:18  lr: 0.000300  loss: 0.1083 (0.1421)  loss_classifier: 0.0323 (0.0533)  loss_box_reg: 0.0668 (0.0684)  loss_objectness: 0.0040 (0.0150)  loss_rpn_box_reg: 0.0019 (0.0053)  time: 0.1354  data: 0.0332  max mem: 652\n",
      "Epoch: [0]  [10800/12099]  eta: 0:03:04  lr: 0.000300  loss: 0.1381 (0.1420)  loss_classifier: 0.0537 (0.0533)  loss_box_reg: 0.0621 (0.0684)  loss_objectness: 0.0071 (0.0150)  loss_rpn_box_reg: 0.0023 (0.0053)  time: 0.1481  data: 0.0417  max mem: 652\n",
      "Epoch: [0]  [10900/12099]  eta: 0:02:50  lr: 0.000300  loss: 0.1168 (0.1419)  loss_classifier: 0.0352 (0.0533)  loss_box_reg: 0.0586 (0.0684)  loss_objectness: 0.0033 (0.0150)  loss_rpn_box_reg: 0.0018 (0.0053)  time: 0.1430  data: 0.0381  max mem: 652\n",
      "Epoch: [0]  [11000/12099]  eta: 0:02:35  lr: 0.000300  loss: 0.1061 (0.1419)  loss_classifier: 0.0322 (0.0532)  loss_box_reg: 0.0491 (0.0684)  loss_objectness: 0.0060 (0.0150)  loss_rpn_box_reg: 0.0010 (0.0053)  time: 0.1292  data: 0.0316  max mem: 652\n",
      "Epoch: [0]  [11100/12099]  eta: 0:02:21  lr: 0.000300  loss: 0.1224 (0.1417)  loss_classifier: 0.0406 (0.0532)  loss_box_reg: 0.0499 (0.0683)  loss_objectness: 0.0106 (0.0150)  loss_rpn_box_reg: 0.0022 (0.0053)  time: 0.1359  data: 0.0346  max mem: 652\n",
      "Epoch: [0]  [11200/12099]  eta: 0:02:07  lr: 0.000300  loss: 0.1318 (0.1416)  loss_classifier: 0.0321 (0.0531)  loss_box_reg: 0.0616 (0.0682)  loss_objectness: 0.0049 (0.0150)  loss_rpn_box_reg: 0.0021 (0.0053)  time: 0.1315  data: 0.0326  max mem: 652\n",
      "Epoch: [0]  [11300/12099]  eta: 0:01:53  lr: 0.000300  loss: 0.0928 (0.1414)  loss_classifier: 0.0287 (0.0530)  loss_box_reg: 0.0460 (0.0682)  loss_objectness: 0.0049 (0.0149)  loss_rpn_box_reg: 0.0015 (0.0053)  time: 0.1453  data: 0.0368  max mem: 652\n",
      "Epoch: [0]  [11400/12099]  eta: 0:01:39  lr: 0.000300  loss: 0.1137 (0.1414)  loss_classifier: 0.0384 (0.0530)  loss_box_reg: 0.0525 (0.0682)  loss_objectness: 0.0059 (0.0149)  loss_rpn_box_reg: 0.0015 (0.0053)  time: 0.1317  data: 0.0319  max mem: 652\n",
      "Epoch: [0]  [11500/12099]  eta: 0:01:24  lr: 0.000300  loss: 0.1381 (0.1413)  loss_classifier: 0.0439 (0.0530)  loss_box_reg: 0.0564 (0.0682)  loss_objectness: 0.0068 (0.0149)  loss_rpn_box_reg: 0.0016 (0.0053)  time: 0.1301  data: 0.0310  max mem: 652\n",
      "Epoch: [0]  [11600/12099]  eta: 0:01:10  lr: 0.000300  loss: 0.1066 (0.1412)  loss_classifier: 0.0376 (0.0529)  loss_box_reg: 0.0556 (0.0681)  loss_objectness: 0.0049 (0.0149)  loss_rpn_box_reg: 0.0016 (0.0053)  time: 0.1313  data: 0.0325  max mem: 652\n",
      "Epoch: [0]  [11700/12099]  eta: 0:00:56  lr: 0.000300  loss: 0.1063 (0.1411)  loss_classifier: 0.0422 (0.0528)  loss_box_reg: 0.0517 (0.0681)  loss_objectness: 0.0045 (0.0148)  loss_rpn_box_reg: 0.0015 (0.0053)  time: 0.1375  data: 0.0349  max mem: 652\n",
      "Epoch: [0]  [11800/12099]  eta: 0:00:42  lr: 0.000300  loss: 0.1038 (0.1410)  loss_classifier: 0.0400 (0.0528)  loss_box_reg: 0.0540 (0.0681)  loss_objectness: 0.0076 (0.0148)  loss_rpn_box_reg: 0.0023 (0.0053)  time: 0.1417  data: 0.0359  max mem: 652\n",
      "Epoch: [0]  [11900/12099]  eta: 0:00:28  lr: 0.000300  loss: 0.0959 (0.1409)  loss_classifier: 0.0377 (0.0527)  loss_box_reg: 0.0481 (0.0681)  loss_objectness: 0.0040 (0.0148)  loss_rpn_box_reg: 0.0011 (0.0053)  time: 0.1476  data: 0.0391  max mem: 652\n",
      "Epoch: [0]  [12000/12099]  eta: 0:00:14  lr: 0.000300  loss: 0.1142 (0.1408)  loss_classifier: 0.0426 (0.0527)  loss_box_reg: 0.0569 (0.0681)  loss_objectness: 0.0057 (0.0148)  loss_rpn_box_reg: 0.0012 (0.0053)  time: 0.1343  data: 0.0338  max mem: 652\n",
      "Epoch: [0]  [12098/12099]  eta: 0:00:00  lr: 0.000300  loss: 0.1016 (0.1407)  loss_classifier: 0.0402 (0.0527)  loss_box_reg: 0.0488 (0.0681)  loss_objectness: 0.0053 (0.0147)  loss_rpn_box_reg: 0.0017 (0.0053)  time: 0.1315  data: 0.0320  max mem: 652\n",
      "Epoch: [0] Total time: 0:28:33 (0.1416 s / it)\n",
      "Epoch: [1]  [    0/12099]  eta: 0:26:00  lr: 0.000300  loss: 0.0574 (0.0574)  loss_classifier: 0.0218 (0.0218)  loss_box_reg: 0.0326 (0.0326)  loss_objectness: 0.0023 (0.0023)  loss_rpn_box_reg: 0.0007 (0.0007)  time: 0.1290  data: 0.0260  max mem: 3863\n",
      "Epoch: [1]  [  100/12099]  eta: 0:29:33  lr: 0.000300  loss: 0.1127 (0.1356)  loss_classifier: 0.0388 (0.0527)  loss_box_reg: 0.0609 (0.0653)  loss_objectness: 0.0035 (0.0128)  loss_rpn_box_reg: 0.0017 (0.0048)  time: 0.1806  data: 0.0530  max mem: 3863\n",
      "Epoch: [1]  [  200/12099]  eta: 0:30:01  lr: 0.000300  loss: 0.1508 (0.1300)  loss_classifier: 0.0439 (0.0493)  loss_box_reg: 0.0578 (0.0638)  loss_objectness: 0.0081 (0.0128)  loss_rpn_box_reg: 0.0014 (0.0042)  time: 0.1538  data: 0.0407  max mem: 3863\n",
      "Epoch: [1]  [  300/12099]  eta: 0:29:56  lr: 0.000300  loss: 0.1257 (0.1319)  loss_classifier: 0.0488 (0.0491)  loss_box_reg: 0.0711 (0.0646)  loss_objectness: 0.0095 (0.0135)  loss_rpn_box_reg: 0.0015 (0.0047)  time: 0.1440  data: 0.0356  max mem: 3863\n",
      "Epoch: [1]  [  400/12099]  eta: 0:29:02  lr: 0.000300  loss: 0.0929 (0.1287)  loss_classifier: 0.0309 (0.0476)  loss_box_reg: 0.0425 (0.0639)  loss_objectness: 0.0069 (0.0125)  loss_rpn_box_reg: 0.0021 (0.0047)  time: 0.1377  data: 0.0339  max mem: 3863\n",
      "Epoch: [1]  [  500/12099]  eta: 0:28:26  lr: 0.000300  loss: 0.0949 (0.1287)  loss_classifier: 0.0288 (0.0471)  loss_box_reg: 0.0597 (0.0649)  loss_objectness: 0.0040 (0.0123)  loss_rpn_box_reg: 0.0015 (0.0044)  time: 0.1389  data: 0.0341  max mem: 3863\n",
      "Epoch: [1]  [  600/12099]  eta: 0:27:53  lr: 0.000300  loss: 0.1091 (0.1293)  loss_classifier: 0.0426 (0.0474)  loss_box_reg: 0.0587 (0.0652)  loss_objectness: 0.0073 (0.0121)  loss_rpn_box_reg: 0.0015 (0.0045)  time: 0.1378  data: 0.0331  max mem: 3863\n",
      "Epoch: [1]  [  700/12099]  eta: 0:27:27  lr: 0.000300  loss: 0.1025 (0.1288)  loss_classifier: 0.0304 (0.0471)  loss_box_reg: 0.0523 (0.0654)  loss_objectness: 0.0063 (0.0119)  loss_rpn_box_reg: 0.0015 (0.0044)  time: 0.1370  data: 0.0335  max mem: 3863\n",
      "Epoch: [1]  [  800/12099]  eta: 0:27:12  lr: 0.000300  loss: 0.1376 (0.1275)  loss_classifier: 0.0394 (0.0464)  loss_box_reg: 0.0718 (0.0650)  loss_objectness: 0.0065 (0.0117)  loss_rpn_box_reg: 0.0026 (0.0043)  time: 0.1544  data: 0.0397  max mem: 3863\n",
      "Epoch: [1]  [  900/12099]  eta: 0:26:48  lr: 0.000300  loss: 0.1089 (0.1263)  loss_classifier: 0.0366 (0.0461)  loss_box_reg: 0.0690 (0.0645)  loss_objectness: 0.0029 (0.0113)  loss_rpn_box_reg: 0.0011 (0.0044)  time: 0.1360  data: 0.0319  max mem: 3863\n"
     ]
    },
    {
     "name": "stdout",
     "output_type": "stream",
     "text": [
      "Epoch: [1]  [ 1000/12099]  eta: 0:26:26  lr: 0.000300  loss: 0.0841 (0.1266)  loss_classifier: 0.0291 (0.0460)  loss_box_reg: 0.0597 (0.0653)  loss_objectness: 0.0034 (0.0110)  loss_rpn_box_reg: 0.0017 (0.0043)  time: 0.1372  data: 0.0329  max mem: 3863\n",
      "Epoch: [1]  [ 1100/12099]  eta: 0:26:05  lr: 0.000300  loss: 0.0784 (0.1259)  loss_classifier: 0.0259 (0.0456)  loss_box_reg: 0.0388 (0.0647)  loss_objectness: 0.0053 (0.0112)  loss_rpn_box_reg: 0.0012 (0.0044)  time: 0.1380  data: 0.0334  max mem: 3863\n",
      "Epoch: [1]  [ 1200/12099]  eta: 0:25:49  lr: 0.000300  loss: 0.1229 (0.1262)  loss_classifier: 0.0445 (0.0457)  loss_box_reg: 0.0697 (0.0651)  loss_objectness: 0.0040 (0.0110)  loss_rpn_box_reg: 0.0017 (0.0044)  time: 0.1573  data: 0.0428  max mem: 3863\n",
      "Epoch: [1]  [ 1300/12099]  eta: 0:25:32  lr: 0.000300  loss: 0.1099 (0.1262)  loss_classifier: 0.0300 (0.0456)  loss_box_reg: 0.0639 (0.0651)  loss_objectness: 0.0068 (0.0109)  loss_rpn_box_reg: 0.0013 (0.0045)  time: 0.1345  data: 0.0325  max mem: 3863\n",
      "Epoch: [1]  [ 1400/12099]  eta: 0:25:31  lr: 0.000300  loss: 0.1376 (0.1264)  loss_classifier: 0.0485 (0.0459)  loss_box_reg: 0.0604 (0.0650)  loss_objectness: 0.0072 (0.0110)  loss_rpn_box_reg: 0.0021 (0.0045)  time: 0.1607  data: 0.0490  max mem: 3863\n",
      "Epoch: [1]  [ 1500/12099]  eta: 0:25:32  lr: 0.000300  loss: 0.1273 (0.1260)  loss_classifier: 0.0399 (0.0457)  loss_box_reg: 0.0673 (0.0649)  loss_objectness: 0.0059 (0.0109)  loss_rpn_box_reg: 0.0021 (0.0044)  time: 0.1576  data: 0.0449  max mem: 3863\n",
      "Epoch: [1]  [ 1600/12099]  eta: 0:25:21  lr: 0.000300  loss: 0.1026 (0.1256)  loss_classifier: 0.0353 (0.0455)  loss_box_reg: 0.0504 (0.0647)  loss_objectness: 0.0053 (0.0111)  loss_rpn_box_reg: 0.0014 (0.0044)  time: 0.1409  data: 0.0344  max mem: 3863\n",
      "Epoch: [1]  [ 1700/12099]  eta: 0:25:01  lr: 0.000300  loss: 0.1011 (0.1252)  loss_classifier: 0.0377 (0.0454)  loss_box_reg: 0.0591 (0.0644)  loss_objectness: 0.0036 (0.0110)  loss_rpn_box_reg: 0.0021 (0.0044)  time: 0.1364  data: 0.0329  max mem: 3863\n",
      "Epoch: [1]  [ 1800/12099]  eta: 0:24:50  lr: 0.000300  loss: 0.1132 (0.1255)  loss_classifier: 0.0380 (0.0455)  loss_box_reg: 0.0532 (0.0645)  loss_objectness: 0.0042 (0.0110)  loss_rpn_box_reg: 0.0036 (0.0045)  time: 0.1617  data: 0.0408  max mem: 3863\n",
      "Epoch: [1]  [ 1900/12099]  eta: 0:24:45  lr: 0.000300  loss: 0.0952 (0.1255)  loss_classifier: 0.0275 (0.0455)  loss_box_reg: 0.0567 (0.0645)  loss_objectness: 0.0071 (0.0110)  loss_rpn_box_reg: 0.0009 (0.0045)  time: 0.1756  data: 0.0373  max mem: 3863\n",
      "Epoch: [1]  [ 2000/12099]  eta: 0:24:39  lr: 0.000300  loss: 0.0980 (0.1257)  loss_classifier: 0.0284 (0.0455)  loss_box_reg: 0.0602 (0.0646)  loss_objectness: 0.0066 (0.0110)  loss_rpn_box_reg: 0.0034 (0.0045)  time: 0.1415  data: 0.0350  max mem: 3863\n",
      "Epoch: [1]  [ 2100/12099]  eta: 0:24:21  lr: 0.000300  loss: 0.1312 (0.1257)  loss_classifier: 0.0457 (0.0455)  loss_box_reg: 0.0762 (0.0647)  loss_objectness: 0.0066 (0.0110)  loss_rpn_box_reg: 0.0014 (0.0045)  time: 0.1393  data: 0.0343  max mem: 3863\n",
      "Epoch: [1]  [ 2200/12099]  eta: 0:24:06  lr: 0.000300  loss: 0.1250 (0.1259)  loss_classifier: 0.0384 (0.0455)  loss_box_reg: 0.0685 (0.0649)  loss_objectness: 0.0055 (0.0110)  loss_rpn_box_reg: 0.0021 (0.0045)  time: 0.1350  data: 0.0333  max mem: 3863\n",
      "Epoch: [1]  [ 2300/12099]  eta: 0:23:50  lr: 0.000300  loss: 0.0816 (0.1252)  loss_classifier: 0.0348 (0.0452)  loss_box_reg: 0.0386 (0.0646)  loss_objectness: 0.0041 (0.0109)  loss_rpn_box_reg: 0.0007 (0.0045)  time: 0.1332  data: 0.0332  max mem: 3863\n",
      "Epoch: [1]  [ 2400/12099]  eta: 0:23:41  lr: 0.000300  loss: 0.1024 (0.1248)  loss_classifier: 0.0255 (0.0451)  loss_box_reg: 0.0584 (0.0645)  loss_objectness: 0.0033 (0.0108)  loss_rpn_box_reg: 0.0012 (0.0045)  time: 0.1654  data: 0.0453  max mem: 3863\n",
      "Epoch: [1]  [ 2500/12099]  eta: 0:23:38  lr: 0.000300  loss: 0.1331 (0.1254)  loss_classifier: 0.0455 (0.0452)  loss_box_reg: 0.0558 (0.0646)  loss_objectness: 0.0081 (0.0110)  loss_rpn_box_reg: 0.0015 (0.0045)  time: 0.1360  data: 0.0330  max mem: 3863\n",
      "Epoch: [1]  [ 2600/12099]  eta: 0:23:20  lr: 0.000300  loss: 0.1182 (0.1251)  loss_classifier: 0.0379 (0.0450)  loss_box_reg: 0.0679 (0.0645)  loss_objectness: 0.0037 (0.0110)  loss_rpn_box_reg: 0.0016 (0.0046)  time: 0.1375  data: 0.0342  max mem: 3863\n",
      "Epoch: [1]  [ 2700/12099]  eta: 0:23:01  lr: 0.000300  loss: 0.1388 (0.1255)  loss_classifier: 0.0383 (0.0450)  loss_box_reg: 0.0764 (0.0648)  loss_objectness: 0.0029 (0.0110)  loss_rpn_box_reg: 0.0030 (0.0046)  time: 0.1357  data: 0.0329  max mem: 3863\n",
      "Epoch: [1]  [ 2800/12099]  eta: 0:22:49  lr: 0.000300  loss: 0.1070 (0.1252)  loss_classifier: 0.0296 (0.0449)  loss_box_reg: 0.0580 (0.0647)  loss_objectness: 0.0051 (0.0110)  loss_rpn_box_reg: 0.0024 (0.0046)  time: 0.1675  data: 0.0512  max mem: 3863\n",
      "Epoch: [1]  [ 2900/12099]  eta: 0:22:32  lr: 0.000300  loss: 0.1262 (0.1257)  loss_classifier: 0.0410 (0.0451)  loss_box_reg: 0.0581 (0.0649)  loss_objectness: 0.0040 (0.0111)  loss_rpn_box_reg: 0.0030 (0.0046)  time: 0.1420  data: 0.0362  max mem: 3863\n",
      "Epoch: [1]  [ 3000/12099]  eta: 0:22:21  lr: 0.000300  loss: 0.1376 (0.1259)  loss_classifier: 0.0375 (0.0451)  loss_box_reg: 0.0720 (0.0650)  loss_objectness: 0.0051 (0.0111)  loss_rpn_box_reg: 0.0030 (0.0047)  time: 0.1812  data: 0.0506  max mem: 3863\n",
      "Epoch: [1]  [ 3100/12099]  eta: 0:22:13  lr: 0.000300  loss: 0.1033 (0.1259)  loss_classifier: 0.0314 (0.0451)  loss_box_reg: 0.0643 (0.0650)  loss_objectness: 0.0045 (0.0111)  loss_rpn_box_reg: 0.0020 (0.0047)  time: 0.1707  data: 0.0444  max mem: 3863\n",
      "Epoch: [1]  [ 3200/12099]  eta: 0:22:00  lr: 0.000300  loss: 0.0892 (0.1259)  loss_classifier: 0.0315 (0.0451)  loss_box_reg: 0.0419 (0.0649)  loss_objectness: 0.0043 (0.0112)  loss_rpn_box_reg: 0.0009 (0.0047)  time: 0.1467  data: 0.0359  max mem: 3863\n",
      "Epoch: [1]  [ 3300/12099]  eta: 0:21:44  lr: 0.000300  loss: 0.1166 (0.1258)  loss_classifier: 0.0343 (0.0450)  loss_box_reg: 0.0532 (0.0648)  loss_objectness: 0.0057 (0.0113)  loss_rpn_box_reg: 0.0016 (0.0047)  time: 0.1450  data: 0.0362  max mem: 3863\n",
      "Epoch: [1]  [ 3400/12099]  eta: 0:21:29  lr: 0.000300  loss: 0.0982 (0.1255)  loss_classifier: 0.0293 (0.0449)  loss_box_reg: 0.0460 (0.0647)  loss_objectness: 0.0040 (0.0112)  loss_rpn_box_reg: 0.0013 (0.0047)  time: 0.1442  data: 0.0356  max mem: 3863\n",
      "Epoch: [1]  [ 3500/12099]  eta: 0:21:17  lr: 0.000300  loss: 0.1226 (0.1254)  loss_classifier: 0.0345 (0.0448)  loss_box_reg: 0.0609 (0.0646)  loss_objectness: 0.0083 (0.0113)  loss_rpn_box_reg: 0.0019 (0.0047)  time: 0.1709  data: 0.0459  max mem: 3863\n",
      "Epoch: [1]  [ 3600/12099]  eta: 0:21:04  lr: 0.000300  loss: 0.1039 (0.1254)  loss_classifier: 0.0370 (0.0448)  loss_box_reg: 0.0493 (0.0645)  loss_objectness: 0.0033 (0.0113)  loss_rpn_box_reg: 0.0012 (0.0047)  time: 0.1643  data: 0.0431  max mem: 3863\n",
      "Epoch: [1]  [ 3700/12099]  eta: 0:20:54  lr: 0.000300  loss: 0.1206 (0.1255)  loss_classifier: 0.0436 (0.0449)  loss_box_reg: 0.0507 (0.0646)  loss_objectness: 0.0058 (0.0113)  loss_rpn_box_reg: 0.0013 (0.0047)  time: 0.1783  data: 0.0467  max mem: 3863\n",
      "Epoch: [1]  [ 3800/12099]  eta: 0:20:42  lr: 0.000300  loss: 0.1096 (0.1254)  loss_classifier: 0.0369 (0.0448)  loss_box_reg: 0.0621 (0.0646)  loss_objectness: 0.0053 (0.0113)  loss_rpn_box_reg: 0.0025 (0.0047)  time: 0.1496  data: 0.0377  max mem: 3863\n",
      "Epoch: [1]  [ 3900/12099]  eta: 0:20:28  lr: 0.000300  loss: 0.0759 (0.1253)  loss_classifier: 0.0265 (0.0448)  loss_box_reg: 0.0383 (0.0645)  loss_objectness: 0.0039 (0.0113)  loss_rpn_box_reg: 0.0012 (0.0048)  time: 0.1739  data: 0.0396  max mem: 3863\n",
      "Epoch: [1]  [ 4000/12099]  eta: 0:20:13  lr: 0.000300  loss: 0.0871 (0.1253)  loss_classifier: 0.0323 (0.0448)  loss_box_reg: 0.0483 (0.0645)  loss_objectness: 0.0045 (0.0112)  loss_rpn_box_reg: 0.0018 (0.0048)  time: 0.1397  data: 0.0346  max mem: 3863\n",
      "Epoch: [1]  [ 4100/12099]  eta: 0:19:58  lr: 0.000300  loss: 0.1262 (0.1254)  loss_classifier: 0.0345 (0.0448)  loss_box_reg: 0.0728 (0.0646)  loss_objectness: 0.0049 (0.0113)  loss_rpn_box_reg: 0.0019 (0.0048)  time: 0.1526  data: 0.0372  max mem: 3863\n",
      "Epoch: [1]  [ 4200/12099]  eta: 0:19:42  lr: 0.000300  loss: 0.1266 (0.1255)  loss_classifier: 0.0422 (0.0448)  loss_box_reg: 0.0717 (0.0646)  loss_objectness: 0.0066 (0.0113)  loss_rpn_box_reg: 0.0027 (0.0047)  time: 0.1420  data: 0.0363  max mem: 3863\n"
     ]
    },
    {
     "name": "stdout",
     "output_type": "stream",
     "text": [
      "Epoch: [1]  [ 4300/12099]  eta: 0:19:26  lr: 0.000300  loss: 0.1151 (0.1255)  loss_classifier: 0.0386 (0.0448)  loss_box_reg: 0.0595 (0.0646)  loss_objectness: 0.0098 (0.0113)  loss_rpn_box_reg: 0.0023 (0.0047)  time: 0.1376  data: 0.0345  max mem: 3863\n",
      "Epoch: [1]  [ 4400/12099]  eta: 0:19:09  lr: 0.000300  loss: 0.0837 (0.1255)  loss_classifier: 0.0263 (0.0448)  loss_box_reg: 0.0518 (0.0647)  loss_objectness: 0.0029 (0.0113)  loss_rpn_box_reg: 0.0014 (0.0047)  time: 0.1399  data: 0.0377  max mem: 3863\n",
      "Epoch: [1]  [ 4500/12099]  eta: 0:18:53  lr: 0.000300  loss: 0.1052 (0.1253)  loss_classifier: 0.0254 (0.0447)  loss_box_reg: 0.0626 (0.0647)  loss_objectness: 0.0023 (0.0112)  loss_rpn_box_reg: 0.0011 (0.0047)  time: 0.1389  data: 0.0343  max mem: 3863\n",
      "Epoch: [1]  [ 4600/12099]  eta: 0:18:39  lr: 0.000300  loss: 0.1064 (0.1253)  loss_classifier: 0.0320 (0.0448)  loss_box_reg: 0.0632 (0.0647)  loss_objectness: 0.0065 (0.0112)  loss_rpn_box_reg: 0.0015 (0.0047)  time: 0.1603  data: 0.0442  max mem: 3863\n",
      "Epoch: [1]  [ 4700/12099]  eta: 0:18:24  lr: 0.000300  loss: 0.1074 (0.1253)  loss_classifier: 0.0393 (0.0447)  loss_box_reg: 0.0519 (0.0647)  loss_objectness: 0.0046 (0.0112)  loss_rpn_box_reg: 0.0024 (0.0047)  time: 0.1462  data: 0.0348  max mem: 3863\n",
      "Epoch: [1]  [ 4800/12099]  eta: 0:18:10  lr: 0.000300  loss: 0.1091 (0.1252)  loss_classifier: 0.0389 (0.0446)  loss_box_reg: 0.0590 (0.0647)  loss_objectness: 0.0042 (0.0112)  loss_rpn_box_reg: 0.0016 (0.0047)  time: 0.1548  data: 0.0415  max mem: 3863\n",
      "Epoch: [1]  [ 4900/12099]  eta: 0:17:54  lr: 0.000300  loss: 0.1282 (0.1252)  loss_classifier: 0.0505 (0.0446)  loss_box_reg: 0.0664 (0.0648)  loss_objectness: 0.0051 (0.0112)  loss_rpn_box_reg: 0.0020 (0.0047)  time: 0.1485  data: 0.0383  max mem: 3863\n",
      "Epoch: [1]  [ 5000/12099]  eta: 0:17:40  lr: 0.000300  loss: 0.1302 (0.1253)  loss_classifier: 0.0445 (0.0447)  loss_box_reg: 0.0682 (0.0647)  loss_objectness: 0.0120 (0.0113)  loss_rpn_box_reg: 0.0019 (0.0047)  time: 0.1617  data: 0.0475  max mem: 3863\n",
      "Epoch: [1]  [ 5100/12099]  eta: 0:17:27  lr: 0.000300  loss: 0.1145 (0.1254)  loss_classifier: 0.0380 (0.0447)  loss_box_reg: 0.0616 (0.0647)  loss_objectness: 0.0039 (0.0113)  loss_rpn_box_reg: 0.0032 (0.0047)  time: 0.1472  data: 0.0382  max mem: 3863\n",
      "Epoch: [1]  [ 5200/12099]  eta: 0:17:12  lr: 0.000300  loss: 0.1187 (0.1251)  loss_classifier: 0.0426 (0.0446)  loss_box_reg: 0.0676 (0.0647)  loss_objectness: 0.0051 (0.0112)  loss_rpn_box_reg: 0.0025 (0.0047)  time: 0.1582  data: 0.0437  max mem: 3863\n",
      "Epoch: [1]  [ 5300/12099]  eta: 0:16:57  lr: 0.000300  loss: 0.1122 (0.1251)  loss_classifier: 0.0316 (0.0446)  loss_box_reg: 0.0705 (0.0647)  loss_objectness: 0.0060 (0.0111)  loss_rpn_box_reg: 0.0020 (0.0047)  time: 0.1442  data: 0.0368  max mem: 3863\n",
      "Epoch: [1]  [ 5400/12099]  eta: 0:16:42  lr: 0.000300  loss: 0.1265 (0.1251)  loss_classifier: 0.0395 (0.0446)  loss_box_reg: 0.0640 (0.0647)  loss_objectness: 0.0088 (0.0112)  loss_rpn_box_reg: 0.0016 (0.0047)  time: 0.1515  data: 0.0406  max mem: 3863\n",
      "Epoch: [1]  [ 5500/12099]  eta: 0:16:27  lr: 0.000300  loss: 0.0785 (0.1251)  loss_classifier: 0.0213 (0.0446)  loss_box_reg: 0.0372 (0.0646)  loss_objectness: 0.0036 (0.0111)  loss_rpn_box_reg: 0.0015 (0.0047)  time: 0.1544  data: 0.0427  max mem: 3863\n",
      "Epoch: [1]  [ 5600/12099]  eta: 0:16:12  lr: 0.000300  loss: 0.1081 (0.1253)  loss_classifier: 0.0270 (0.0447)  loss_box_reg: 0.0531 (0.0647)  loss_objectness: 0.0043 (0.0112)  loss_rpn_box_reg: 0.0018 (0.0047)  time: 0.1567  data: 0.0433  max mem: 3863\n",
      "Epoch: [1]  [ 5700/12099]  eta: 0:15:56  lr: 0.000300  loss: 0.1167 (0.1253)  loss_classifier: 0.0405 (0.0447)  loss_box_reg: 0.0683 (0.0647)  loss_objectness: 0.0032 (0.0112)  loss_rpn_box_reg: 0.0013 (0.0047)  time: 0.1454  data: 0.0385  max mem: 3863\n",
      "Epoch: [1]  [ 5800/12099]  eta: 0:15:40  lr: 0.000300  loss: 0.1069 (0.1252)  loss_classifier: 0.0357 (0.0446)  loss_box_reg: 0.0614 (0.0647)  loss_objectness: 0.0056 (0.0111)  loss_rpn_box_reg: 0.0014 (0.0047)  time: 0.1346  data: 0.0324  max mem: 3863\n",
      "Epoch: [1]  [ 5900/12099]  eta: 0:15:24  lr: 0.000300  loss: 0.0999 (0.1251)  loss_classifier: 0.0341 (0.0446)  loss_box_reg: 0.0541 (0.0646)  loss_objectness: 0.0043 (0.0111)  loss_rpn_box_reg: 0.0016 (0.0047)  time: 0.1466  data: 0.0377  max mem: 3863\n"
     ]
    }
   ],
   "source": [
    "# TRAIN\n",
    "all_train_logs, all_trans_valid_logs, all_cis_valid_logs = train(dataloader=train_dataloader, num_epochs=num_epochs)"
   ]
  },
  {
   "cell_type": "markdown",
   "metadata": {},
   "source": [
    "### Saving the last training logs to variables"
   ]
  },
  {
   "cell_type": "code",
   "execution_count": null,
   "metadata": {},
   "outputs": [],
   "source": [
    "last_train_logs = all_train_logs\n",
    "last_trans_valid_logs = all_trans_valid_logs\n",
    "last_cis_valid_logs = all_cis_valid_logs"
   ]
  },
  {
   "cell_type": "markdown",
   "metadata": {},
   "source": [
    "## OPTIONAL - Saving manually every logs from training to json files"
   ]
  },
  {
   "cell_type": "code",
   "execution_count": null,
   "metadata": {},
   "outputs": [],
   "source": [
    "# Saves the log with the same time\n",
    "train_logs_to_json(last_train_logs)\n",
    "trans_valid_logs_to_json(last_trans_valid_logs)\n",
    "cis_valid_logs_to_json(last_cis_valid_logs)"
   ]
  },
  {
   "cell_type": "markdown",
   "metadata": {},
   "source": [
    "## OPTIONAL - Saving the model"
   ]
  },
  {
   "cell_type": "code",
   "execution_count": null,
   "metadata": {},
   "outputs": [],
   "source": [
    "# save the model, the optimizer and the scheduler\n",
    "# filetime = \"25_epochs_roi_3_augment_method_3\"\n",
    "filetime = time.strftime(\"%Y%m%d_%H%M%S\")\n",
    "\n",
    "torch.save(model.state_dict(), 'saved_models/' + filetime + '_model.pt')\n",
    "torch.save(optimizer.state_dict(), 'saved_models/' + filetime + '_optimizer.pt')\n",
    "torch.save(lr_scheduler.state_dict(), 'saved_models/' + filetime + '_scheduler.pt')"
   ]
  },
  {
   "cell_type": "markdown",
   "metadata": {},
   "source": [
    "## Exploration of the raw logs\n",
    "##### Only look at the MetricLogger if you just trained the model. You cannot import the model and then check the MetricLogger."
   ]
  },
  {
   "cell_type": "code",
   "execution_count": null,
   "metadata": {},
   "outputs": [],
   "source": [
    "all_train_logs[0].meters"
   ]
  },
  {
   "cell_type": "code",
   "execution_count": null,
   "metadata": {},
   "outputs": [],
   "source": [
    "all_train_logs[0].meters['loss_box_reg'].global_avg"
   ]
  },
  {
   "cell_type": "code",
   "execution_count": null,
   "metadata": {},
   "outputs": [],
   "source": [
    "len(train_dataloader)"
   ]
  },
  {
   "cell_type": "markdown",
   "metadata": {},
   "source": [
    "#### Here we check the amount of logs per epoch for each categories and the type"
   ]
  },
  {
   "cell_type": "code",
   "execution_count": null,
   "metadata": {},
   "outputs": [],
   "source": [
    "print(all_cis_valid_logs[0])\n",
    "print(\"total length:\", len(all_cis_valid_logs))\n",
    "print(\"-\"*8)\n",
    "print(\"per epoch length:\", len(all_cis_valid_logs)/num_epochs)"
   ]
  },
  {
   "cell_type": "code",
   "execution_count": null,
   "metadata": {},
   "outputs": [],
   "source": [
    "print(all_trans_valid_logs[0])\n",
    "print(\"total length:\", len(all_trans_valid_logs))\n",
    "print(\"-\"*8)\n",
    "print(\"per epoch length:\", len(all_trans_valid_logs)/num_epochs)"
   ]
  },
  {
   "cell_type": "markdown",
   "metadata": {},
   "source": [
    "## Looking at/Loading the logs in convenient ways\n",
    "Here we define the variables \"train_logs\", \"cis_valid_logs\" and \"trans_valid_logs\" that will be used in the methods for the results and the visualisations.\n",
    "\n",
    "We can import logs or use the ones from training."
   ]
  },
  {
   "cell_type": "markdown",
   "metadata": {},
   "source": [
    "### OPTIONAL - Can load some logs right here"
   ]
  },
  {
   "cell_type": "code",
   "execution_count": null,
   "metadata": {},
   "outputs": [],
   "source": [
    "# Imported logs - format: name = \"NAME_OR_TIME\"      Exemple file format: \"NAME_OR_TIME_train_logs\"\n",
    "\n",
    "file_time_or_nickname = '10_roi' # VALUE TO CHANGE TO THE IMPORTED FILES\n",
    "\n",
    "# Import training logs\n",
    "with open('saved_logs/' + file_time_or_nickname + '_train_logs.json', \"r\") as f:\n",
    "    train_logs = json.load(f)\n",
    "\n",
    "# Import cis valid logs\n",
    "with open('saved_logs/' + file_time_or_nickname + '_cis_valid_logs.json', \"r\") as f:\n",
    "    cis_valid_logs = json.load(f)\n",
    "\n",
    "# Import trans valid logs\n",
    "with open('saved_logs/' + file_time_or_nickname + '_trans_valid_logs.json', \"r\") as f:\n",
    "    trans_valid_logs = json.load(f)"
   ]
  },
  {
   "cell_type": "markdown",
   "metadata": {},
   "source": [
    "### Put the last trained logs into convenient list variables\n",
    "#### (USE THIS CELL ONLY IF MODEL HAVE BEEN TRAINED IN THIS KERNEL)"
   ]
  },
  {
   "cell_type": "markdown",
   "metadata": {},
   "source": [
    "##### Ensures that if you hit the training cell, you don't lose the variables containing the logs from the last run"
   ]
  },
  {
   "cell_type": "code",
   "execution_count": null,
   "metadata": {},
   "outputs": [],
   "source": [
    "last_train_logs = all_train_logs\n",
    "last_trans_valid_logs = all_trans_valid_logs\n",
    "last_cis_valid_logs = all_cis_valid_logs"
   ]
  },
  {
   "cell_type": "markdown",
   "metadata": {},
   "source": [
    "##### Converts the logs to lists and the tensors to numpy "
   ]
  },
  {
   "cell_type": "code",
   "execution_count": null,
   "metadata": {},
   "outputs": [],
   "source": [
    "train_logs = train_logs_to_lst(last_train_logs)\n",
    "cis_valid_logs = valid_logs_to_lst(last_cis_valid_logs)\n",
    "trans_valid_logs = valid_logs_to_lst(last_trans_valid_logs)"
   ]
  },
  {
   "cell_type": "markdown",
   "metadata": {},
   "source": [
    "## Results"
   ]
  },
  {
   "cell_type": "code",
   "execution_count": null,
   "metadata": {},
   "outputs": [],
   "source": [
    "# To confirm that the data is loaded properly\n",
    "len(train_logs)"
   ]
  },
  {
   "cell_type": "code",
   "execution_count": null,
   "metadata": {},
   "outputs": [],
   "source": [
    "num_epochs = len(train_logs)"
   ]
  },
  {
   "cell_type": "code",
   "execution_count": null,
   "metadata": {},
   "outputs": [],
   "source": [
    "cis_valid_logs[0]"
   ]
  },
  {
   "cell_type": "code",
   "execution_count": null,
   "metadata": {},
   "outputs": [],
   "source": [
    "# Train loss to print (here we use global_avg but we can use: value, median, avg, max or global_avg)\n",
    "results_train_loss = []\n",
    "\n",
    "for i in range(num_epochs):\n",
    "    results_train_loss.append(train_logs[i]['loss_box_reg']['global_avg'])\n",
    "    \n",
    "# Cis valid loss to print\n",
    "results_cis_valid_loss = [] # cis\n",
    "\n",
    "for i in range(num_epochs):\n",
    "    loss_interm = 0\n",
    "    for j in range(167):\n",
    "        loss_interm += cis_valid_logs[(167 * i) + j]['loss_rpn_box_reg']\n",
    "    results_cis_valid_loss.append(loss_interm)\n",
    "\n",
    "# Trans valid loss to print\n",
    "results_trans_valid_loss = [] # trans\n",
    "\n",
    "for i in range(num_epochs):\n",
    "    loss_interm = 0\n",
    "    for j in range(154):\n",
    "        loss_interm += trans_valid_logs[(154 * i) + j]['loss_rpn_box_reg']\n",
    "    results_trans_valid_loss.append(loss_interm)"
   ]
  },
  {
   "cell_type": "markdown",
   "metadata": {},
   "source": [
    "### Plots"
   ]
  },
  {
   "cell_type": "code",
   "execution_count": null,
   "metadata": {},
   "outputs": [],
   "source": [
    "# Printing the different plots\n",
    "fig, ax = plt.subplots(1,2, figsize=(20,6))\n",
    "\n",
    "ax[0].plot(np.arange(1, num_epochs + 1), results_train_loss, label='train')\n",
    "ax[0].set_title('Train loss per epoch')\n",
    "ax[0].set_ylabel('loss_box_reg')\n",
    "ax[0].set_xlabel('epoch')\n",
    "\n",
    "plt.title('Train loss per epoch')\n",
    "ax[1].plot(np.arange(1, num_epochs + 1), results_cis_valid_loss, label='cis')\n",
    "ax[1].plot(np.arange(1, num_epochs + 1), results_trans_valid_loss, label='trans')\n",
    "ax[1].set_title('Valid loss per epoch')\n",
    "ax[1].set_ylabel('loss_rpn_box_reg')\n",
    "ax[1].set_xlabel('epoch')\n",
    "ax[1].legend()"
   ]
  },
  {
   "cell_type": "markdown",
   "metadata": {},
   "source": [
    "#### Save the figure to pdf format in the figures folder"
   ]
  },
  {
   "cell_type": "code",
   "execution_count": null,
   "metadata": {},
   "outputs": [],
   "source": [
    "fig.savefig(\"figures/\" + time.strftime(\"%Y%m%d_%H%M%S\") + \"_figure.pdf\")"
   ]
  },
  {
   "cell_type": "markdown",
   "metadata": {
    "id": "SPV4Pxyajekr"
   },
   "source": [
    "## Make Predictions with a model"
   ]
  },
  {
   "cell_type": "markdown",
   "metadata": {},
   "source": [
    "### Load 10 random predictions"
   ]
  },
  {
   "cell_type": "code",
   "execution_count": null,
   "metadata": {
    "id": "1dTlEPVhRVHE"
   },
   "outputs": [],
   "source": [
    "# Loads 10 images and makes the model do predictions on these images\n",
    "train_features, train_labels = next(iter(trans_valid_dataloader))\n",
    "image = list(image.to(device) for image in train_features)\n",
    "\n",
    "model.eval()\n",
    "with torch.no_grad():\n",
    "      pred = model(image)"
   ]
  },
  {
   "cell_type": "code",
   "execution_count": null,
   "metadata": {},
   "outputs": [],
   "source": [
    "# Prints 10 images with the predictions before and after NMS\n",
    "# TODO: faire des méthodes pour simplifier le code\n",
    "for image_i in range(len(image)):\n",
    "    fig, ax = plt.subplots(1,3,figsize=(24,16))\n",
    "\n",
    "    ax[0].imshow(train_features[image_i][0].squeeze(),cmap=\"gray\")\n",
    "    rect = patches.Rectangle((train_labels[image_i]['boxes'][0][0], \n",
    "                              train_labels[image_i]['boxes'][0][1]), \n",
    "                             train_labels[image_i]['boxes'][0][2]-train_labels[image_i]['boxes'][0][0], \n",
    "                             train_labels[image_i]['boxes'][0][3]-train_labels[image_i]['boxes'][0][1], \n",
    "                             linewidth=2, edgecolor='r', facecolor='none')\n",
    "    ax[0].add_patch(rect)\n",
    "    ax[0].set_title('Ground truth')\n",
    "\n",
    "    # Predictions\n",
    "    ax[1].imshow(train_features[image_i][0].squeeze(),cmap=\"gray\")\n",
    "    for i in range(len(pred[image_i]['boxes'])):\n",
    "        rect = patches.Rectangle((pred[image_i]['boxes'][i][0].cpu(), \n",
    "                                  pred[image_i]['boxes'][i][1].cpu()), \n",
    "                                 (pred[image_i]['boxes'][i][2]-pred[image_i]['boxes'][i][0]).cpu(), \n",
    "                                 (pred[image_i]['boxes'][i][3]-pred[image_i]['boxes'][i][1]).cpu(), \n",
    "                                 linewidth=2, edgecolor='r', facecolor='none')\n",
    "        ax[1].add_patch(rect)\n",
    "    ax[1].set_title('Pred')\n",
    "\n",
    "    # Predictions after NMS\n",
    "    iou_threshold = 0.001 # param to tune\n",
    "    boxes_to_keep = torchvision.ops.nms(pred[image_i]['boxes'], pred[image_i]['scores'], iou_threshold = iou_threshold).cpu()\n",
    "    ax[2].imshow(train_features[image_i][0].squeeze(),cmap=\"gray\")\n",
    "    for i in boxes_to_keep:\n",
    "        rect = patches.Rectangle((pred[image_i]['boxes'][i][0].cpu(), \n",
    "                                  pred[image_i]['boxes'][i][1].cpu()), \n",
    "                                 (pred[image_i]['boxes'][i][2]-pred[image_i]['boxes'][i][0]).cpu(), \n",
    "                                 (pred[image_i]['boxes'][i][3]-pred[image_i]['boxes'][i][1]).cpu(), \n",
    "                                 linewidth=2, edgecolor='r', facecolor='none')\n",
    "        ax[2].add_patch(rect)\n",
    "\n",
    "    ax[2].set_title('After NMS')"
   ]
  },
  {
   "cell_type": "code",
   "execution_count": null,
   "metadata": {},
   "outputs": [],
   "source": [
    "trans_val_ann['images'][train_labels[3]['image_id']]"
   ]
  },
  {
   "cell_type": "code",
   "execution_count": null,
   "metadata": {
    "colab": {
     "base_uri": "https://localhost:8080/",
     "height": 368
    },
    "id": "tkwIJ6cCeRq3",
    "outputId": "33012e5f-2664-46ef-fa1e-b54bf5e2faf5",
    "scrolled": true
   },
   "outputs": [],
   "source": [
    "# Print a single image chosen by index from the last batch of 10 predictions\n",
    "image_i = 3 # from 0 to 9 included\n",
    "\n",
    "fig, ax = plt.subplots(1,3,figsize=(24,16))\n",
    "\n",
    "ax[0].imshow(train_features[image_i][0].squeeze(),cmap=\"gray\")\n",
    "for i in range(len(train_labels[image_i]['boxes'])):\n",
    "    rect = patches.Rectangle((train_labels[image_i]['boxes'][i][0], \n",
    "                            train_labels[image_i]['boxes'][i][1]), \n",
    "                            train_labels[image_i]['boxes'][i][2]-train_labels[image_i]['boxes'][i][0], \n",
    "                            train_labels[image_i]['boxes'][i][3]-train_labels[image_i]['boxes'][i][1], \n",
    "                            linewidth=2, edgecolor='r', facecolor='none')\n",
    "    ax[0].add_patch(rect)\n",
    "ax[0].set_title('Ground truth')\n",
    "\n",
    "# Predictions\n",
    "ax[1].imshow(train_features[image_i][0].squeeze(),cmap=\"gray\")\n",
    "for i in range(len(pred[image_i]['boxes'])):\n",
    "    rect = patches.Rectangle((pred[image_i]['boxes'][i][0].cpu(), \n",
    "                              pred[image_i]['boxes'][i][1].cpu()), \n",
    "                             (pred[image_i]['boxes'][i][2]-pred[image_i]['boxes'][i][0]).cpu(), \n",
    "                             (pred[image_i]['boxes'][i][3]-pred[image_i]['boxes'][i][1]).cpu(), \n",
    "                             linewidth=2, edgecolor='r', facecolor='none')\n",
    "    ax[1].add_patch(rect)\n",
    "ax[1].set_title('Pred')\n",
    "\n",
    "# Predictions after NMS\n",
    "iou_threshold = 0.01 # param to tune\n",
    "boxes_to_keep = torchvision.ops.nms(pred[image_i]['boxes'], pred[image_i]['scores'], iou_threshold = iou_threshold).cpu()\n",
    "ax[2].imshow(train_features[image_i][0].squeeze(),cmap=\"gray\")\n",
    "for i in boxes_to_keep:\n",
    "    rect = patches.Rectangle((pred[image_i]['boxes'][i][0].cpu(), \n",
    "                              pred[image_i]['boxes'][i][1].cpu()), \n",
    "                             (pred[image_i]['boxes'][i][2]-pred[image_i]['boxes'][i][0]).cpu(), \n",
    "                             (pred[image_i]['boxes'][i][3]-pred[image_i]['boxes'][i][1]).cpu(), \n",
    "                             linewidth=2, edgecolor='r', facecolor='none')\n",
    "    ax[2].add_patch(rect)\n",
    "\n",
    "ax[2].set_title('After NMS')"
   ]
  },
  {
   "cell_type": "code",
   "execution_count": null,
   "metadata": {},
   "outputs": [],
   "source": [
    "boxes_to_keep"
   ]
  },
  {
   "cell_type": "code",
   "execution_count": null,
   "metadata": {},
   "outputs": [],
   "source": [
    "pred[image_i]['boxes'][0]"
   ]
  },
  {
   "cell_type": "code",
   "execution_count": null,
   "metadata": {},
   "outputs": [],
   "source": [
    "train_labels[image_i]['boxes']"
   ]
  },
  {
   "cell_type": "markdown",
   "metadata": {},
   "source": [
    "# Evalutate on COCO detection metrics"
   ]
  },
  {
   "cell_type": "markdown",
   "metadata": {},
   "source": [
    "### Test on COCO metrics from data loaders\n",
    "##### 'For evaluation, we consider a detected box to be correct if its IoU ≥ 0.5 with a ground truth box.'\n",
    "\n",
    "We need to look at the precison score with IoU=0.5, area=all and maxDets=100.\n",
    "For the recall score, by default it's IoU=0.5:IoU=0.95."
   ]
  },
  {
   "cell_type": "code",
   "execution_count": null,
   "metadata": {
    "scrolled": true
   },
   "outputs": [],
   "source": [
    "# takes +- 25min to run on cis_test\n",
    "cis_coco_evaluator = evaluate(cis_test_dataloader, cis_coco)"
   ]
  },
  {
   "cell_type": "code",
   "execution_count": null,
   "metadata": {
    "scrolled": true
   },
   "outputs": [],
   "source": [
    "# takes +- 25min to run on cis_test\n",
    "trans_coco_evaluator = evaluate(trans_test_dataloader, trans_coco)"
   ]
  },
  {
   "cell_type": "code",
   "execution_count": null,
   "metadata": {},
   "outputs": [],
   "source": [
    "print('cis test 50 epochs rpn + roi 2')\n",
    "print('_'*80)\n",
    "cis_coco_evaluator.summarize()"
   ]
  },
  {
   "cell_type": "code",
   "execution_count": null,
   "metadata": {},
   "outputs": [],
   "source": [
    "print('trans test 50 epochs rpn + roi 2')\n",
    "print('_'*80)\n",
    "trans_coco_evaluator.summarize()"
   ]
  },
  {
   "cell_type": "markdown",
   "metadata": {},
   "source": [
    "# Methods"
   ]
  },
  {
   "cell_type": "markdown",
   "metadata": {},
   "source": [
    "## Method 3 (Subspace alignment based Domain adaptation)"
   ]
  },
  {
   "cell_type": "code",
   "execution_count": null,
   "metadata": {},
   "outputs": [],
   "source": [
    "import torchvision.ops.boxes as bops\n",
    "from sklearn.decomposition import PCA\n",
    "from sklearn.preprocessing import StandardScaler\n",
    "from torch import nn"
   ]
  },
  {
   "cell_type": "markdown",
   "metadata": {},
   "source": [
    "Papers \n",
    "\n",
    " 1. https://arxiv.org/pdf/1507.05578.pdf\n",
    "\n",
    " 2.  https://openaccess.thecvf.com/content_iccv_2013/papers/Fernando_Unsupervised_Visual_Domain_2013_ICCV_paper.pdf"
   ]
  },
  {
   "cell_type": "markdown",
   "metadata": {},
   "source": [
    "**Construct source matrix:** \n",
    "\n",
    "We keep output of model.roi_heads.box_head (vector of size 1024) as feature representations of bounding boxes extracted by the RPN (region proposal network). For us to stack a box representation to the source matrix, it has to have a IoU > thres_IoU with the ground truth of the given image. "
   ]
  },
  {
   "cell_type": "code",
   "execution_count": null,
   "metadata": {
    "scrolled": true
   },
   "outputs": [],
   "source": [
    "# 20 minutes\n",
    "thres_IoU = 0.50\n",
    "count = 0\n",
    "\n",
    "X_source = torch.tensor([])\n",
    "bbox_idx = torch.arange(1000)\n",
    "\n",
    "model.eval()\n",
    "\n",
    "for images, targets in train_dataloader: \n",
    "    images = [image.to(device) for image in images]\n",
    "    targets = [{k: v.to(device) for k, v in t.items()} for t in targets]\n",
    "\n",
    "    count += 1\n",
    "\n",
    "    if count%100 == 0:\n",
    "        print(count)\n",
    "\n",
    "    with torch.no_grad():\n",
    "        outputs = []\n",
    "        hook = model.rpn.register_forward_hook(\n",
    "        lambda self, input, output: outputs.append(output))\n",
    "\n",
    "        outputs1 = []\n",
    "        hook1 = model.roi_heads.box_head.register_forward_hook(\n",
    "        lambda self, input, output: outputs1.append(output))\n",
    "\n",
    "        res = model(images)\n",
    "        hook.remove()\n",
    "        hook1.remove()\n",
    "\n",
    "    coords = outputs[0][0][0].cpu() # [1000,4]\n",
    "    feat = outputs1[0].cpu() # [1000, 1024]\n",
    "\n",
    "    gt = targets[0]['boxes'].cpu()\n",
    "\n",
    "    bbox_idx_to_keep = torch.tensor([])\n",
    "    for i in range(gt.shape[0]):\n",
    "\n",
    "        IoUs = bops.box_iou(gt[i].reshape(1,4), coords)\n",
    "        IoUs = IoUs.reshape(1000)\n",
    "        bbox_idx_to_keep = torch.cat((bbox_idx_to_keep, bbox_idx[IoUs >= thres_IoU]),dim=0)\n",
    "\n",
    "    X_source = torch.cat((X_source,feat[torch.unique(bbox_idx_to_keep).long()]), dim=0)"
   ]
  },
  {
   "cell_type": "code",
   "execution_count": null,
   "metadata": {},
   "outputs": [],
   "source": [
    "X_source.shape"
   ]
  },
  {
   "cell_type": "markdown",
   "metadata": {},
   "source": [
    "### Save 1"
   ]
  },
  {
   "cell_type": "code",
   "execution_count": null,
   "metadata": {},
   "outputs": [],
   "source": [
    "torch.save(X_source, 'saved_data/X_source_05_50_rpn_roi_best_512.pt')"
   ]
  },
  {
   "cell_type": "code",
   "execution_count": null,
   "metadata": {},
   "outputs": [],
   "source": [
    "# center data\n",
    "scaler = StandardScaler()\n",
    "X_source_scaled = scaler.fit_transform(X_source)"
   ]
  },
  {
   "cell_type": "code",
   "execution_count": null,
   "metadata": {},
   "outputs": [],
   "source": [
    "# Apply PCA, keep only an amount of first components which gives the Projected source matrix\n",
    "\n",
    "pca = PCA(n_components=512)\n",
    "pca.fit(X_source_scaled)\n",
    "\n",
    "X_source_proj = pca.components_\n",
    "X_source_proj = torch.from_numpy(X_source_proj)\n"
   ]
  },
  {
   "cell_type": "code",
   "execution_count": null,
   "metadata": {},
   "outputs": [],
   "source": [
    "X_source_proj.shape"
   ]
  },
  {
   "cell_type": "code",
   "execution_count": null,
   "metadata": {},
   "outputs": [],
   "source": [
    "plt.plot(pca.explained_variance_ratio_) \n",
    "plt.grid()"
   ]
  },
  {
   "cell_type": "markdown",
   "metadata": {},
   "source": [
    "### Save 2"
   ]
  },
  {
   "cell_type": "code",
   "execution_count": null,
   "metadata": {},
   "outputs": [],
   "source": [
    "torch.save(X_source_proj, 'saved_data/X_source_proj_05_50_rpn_roi_best_512.pt')"
   ]
  },
  {
   "cell_type": "markdown",
   "metadata": {},
   "source": [
    "### Target data with batch size 1"
   ]
  },
  {
   "cell_type": "code",
   "execution_count": null,
   "metadata": {},
   "outputs": [],
   "source": [
    "# Target data/distribution = trans test set - Batch Size 1\n",
    "trans_test_batch1_img,_ = get_img_with_bbox(trans_test_ann_path)\n",
    "trans_test_batch1_data = CustomImageDataset(trans_test_ann_path, img_folder, trans_test_batch1_img)\n",
    "trans_test_batch1_dataloader = DataLoader(trans_test_batch1_data, batch_size=1, shuffle=True, collate_fn=utils.collate_fn)"
   ]
  },
  {
   "cell_type": "markdown",
   "metadata": {},
   "source": [
    " **Construct target matrix:** \n",
    " \n",
    "We keep output of model.roi_heads.box_head (vector of size 1024) as feature representations of bounding boxes\n",
    " extracted by the RPN (region proposal network). For us to stack a box representation to the source matrix, the predicted bbox associated with the feature has to have a confidence score > thres_conf_score (since we don't use target labels we can't use the IoU here).\n"
   ]
  },
  {
   "cell_type": "code",
   "execution_count": null,
   "metadata": {
    "scrolled": true
   },
   "outputs": [],
   "source": [
    "# 30 minutes\n",
    "thres_conf_score= 0.50 \n",
    "count=0\n",
    "\n",
    "X_target=torch.tensor([])\n",
    "\n",
    "model.eval()\n",
    "\n",
    "for images, targets in trans_test_batch1_dataloader: # trans location valid AND test ?\n",
    "    images = [image.to(device) for image in images]\n",
    "    targets = [{k: v.to(device) for k, v in t.items()} for t in targets]\n",
    "\n",
    "    count+=1\n",
    "\n",
    "    if count%100==0:\n",
    "        print(count)\n",
    "\n",
    "    with torch.no_grad():\n",
    "\n",
    "        outputs = []\n",
    "        hook = model.backbone.register_forward_hook(\n",
    "        lambda self, input, output: outputs.append(output))\n",
    "        res = model(images)\n",
    "        hook.remove()\n",
    "\n",
    "        box_features = model.roi_heads.box_roi_pool(outputs[0], [r['boxes'] for r in res], [i.shape[-2:] for i in images])\n",
    "        box_features = model.roi_heads.box_head(box_features)\n",
    "\n",
    "    X_target = torch.cat((X_target,box_features[res[0]['scores']>=thres_conf_score].cpu()), dim=0)\n"
   ]
  },
  {
   "cell_type": "code",
   "execution_count": null,
   "metadata": {},
   "outputs": [],
   "source": [
    "X_target.shape"
   ]
  },
  {
   "cell_type": "code",
   "execution_count": null,
   "metadata": {},
   "outputs": [],
   "source": [
    "torch.save(X_target, 'saved_data/X_target_05_50_rpn_roi_best_512.pt')"
   ]
  },
  {
   "cell_type": "code",
   "execution_count": null,
   "metadata": {},
   "outputs": [],
   "source": [
    "# center data\n",
    "scaler = StandardScaler()\n",
    "X_target_scaled = scaler.fit_transform(X_target)"
   ]
  },
  {
   "cell_type": "code",
   "execution_count": null,
   "metadata": {},
   "outputs": [],
   "source": [
    "# Apply PCA, keep only an amount of first components which gives the Projected source matrix\n",
    "\n",
    "pca_proj = PCA(n_components=512)\n",
    "pca_proj.fit(X_target_scaled)\n",
    "\n",
    "X_target_proj = pca_proj.components_\n",
    "X_target_proj = torch.from_numpy(X_target_proj)"
   ]
  },
  {
   "cell_type": "code",
   "execution_count": null,
   "metadata": {
    "scrolled": true
   },
   "outputs": [],
   "source": [
    "plt.plot(pca_proj.explained_variance_ratio_) # we keep 100 dimensions\n",
    "plt.grid()"
   ]
  },
  {
   "cell_type": "code",
   "execution_count": null,
   "metadata": {},
   "outputs": [],
   "source": [
    "X_target_proj.shape"
   ]
  },
  {
   "cell_type": "code",
   "execution_count": null,
   "metadata": {},
   "outputs": [],
   "source": [
    "torch.save(X_target_proj, 'saved_data/X_target_proj_05_50_rpn_roi_best_512.pt')"
   ]
  },
  {
   "cell_type": "markdown",
   "metadata": {},
   "source": [
    "### Transformation matrix M\n",
    "\n",
    "𝑀 is obtained by minimizing the following Bregman matrix divergence (following closed-form solution given in the paper)"
   ]
  },
  {
   "cell_type": "code",
   "execution_count": null,
   "metadata": {},
   "outputs": [],
   "source": [
    "M = torch.matmul(X_source_proj, X_target_proj.T) "
   ]
  },
  {
   "cell_type": "code",
   "execution_count": null,
   "metadata": {},
   "outputs": [],
   "source": [
    "M.shape"
   ]
  },
  {
   "cell_type": "markdown",
   "metadata": {},
   "source": [
    "### Project source data into target aligned source subspace"
   ]
  },
  {
   "cell_type": "code",
   "execution_count": null,
   "metadata": {},
   "outputs": [],
   "source": [
    "Xa = torch.matmul(X_source_proj.T,M)"
   ]
  },
  {
   "cell_type": "code",
   "execution_count": null,
   "metadata": {},
   "outputs": [],
   "source": [
    "Xa.shape"
   ]
  },
  {
   "cell_type": "code",
   "execution_count": null,
   "metadata": {},
   "outputs": [],
   "source": [
    "# To project a given feature\n",
    "\n",
    "# feat(1,1024) x Xa (1024,100)"
   ]
  },
  {
   "cell_type": "markdown",
   "metadata": {},
   "source": [
    "### Projet target data in target subspace"
   ]
  },
  {
   "cell_type": "code",
   "execution_count": null,
   "metadata": {},
   "outputs": [],
   "source": [
    "# To project a given feature\n",
    "\n",
    "# feat(1,1024) x X_target_proj.T (1024,100)"
   ]
  },
  {
   "cell_type": "markdown",
   "metadata": {},
   "source": [
    "### Train adapted model"
   ]
  },
  {
   "cell_type": "code",
   "execution_count": null,
   "metadata": {},
   "outputs": [],
   "source": [
    "import torchvision.ops.boxes as bops\n",
    "from sklearn.decomposition import PCA\n",
    "from sklearn.preprocessing import StandardScaler\n",
    "from torch import nn"
   ]
  },
  {
   "cell_type": "code",
   "execution_count": null,
   "metadata": {},
   "outputs": [],
   "source": [
    "device = torch.device('cuda') if torch.cuda.is_available() else torch.device('cpu')\n",
    "device"
   ]
  },
  {
   "cell_type": "code",
   "execution_count": null,
   "metadata": {},
   "outputs": [],
   "source": [
    "# Load because it takes time to generate the following matrices so they are saved\n",
    "X_source_proj = torch.load('saved_data/X_source_proj_05_50_rpn_roi_1_512.pt')\n",
    "X_target_proj = torch.load('saved_data/X_target_proj_05_50_rpn_roi_1_512.pt')"
   ]
  },
  {
   "cell_type": "code",
   "execution_count": null,
   "metadata": {},
   "outputs": [],
   "source": [
    "X_source_proj.device"
   ]
  },
  {
   "cell_type": "code",
   "execution_count": null,
   "metadata": {},
   "outputs": [],
   "source": [
    "M = torch.matmul(X_source_proj, X_target_proj.T) # transformation matrix\n",
    "\n",
    "Xa = torch.matmul(X_source_proj.T,M) # target aligned source subspace"
   ]
  },
  {
   "cell_type": "code",
   "execution_count": null,
   "metadata": {},
   "outputs": [],
   "source": [
    "M.to(device)"
   ]
  },
  {
   "cell_type": "code",
   "execution_count": null,
   "metadata": {},
   "outputs": [],
   "source": [
    "Xa.to(device)"
   ]
  },
  {
   "cell_type": "code",
   "execution_count": null,
   "metadata": {},
   "outputs": [],
   "source": [
    "# class FastRCNNPredictor_custom(nn.Module):\n",
    "#     \"\"\"\n",
    "#     Standard classification + bounding box regression layers\n",
    "#     for Fast R-CNN.\n",
    "\n",
    "#     Args:\n",
    "#         in_channels (int): number of input channels\n",
    "#         num_classes (int): number of output classes (including background)\n",
    "#     \"\"\"\n",
    "\n",
    "#     def __init__(self, in_channels, num_classes, m_transfo):\n",
    "#         super(FastRCNNPredictor_custom, self).__init__()\n",
    "#         self.cls_score = nn.Sequential(nn.Linear(in_features = 1024, out_features = 100, bias=False), nn.Linear(in_channels, num_classes))\n",
    "#         self.bbox_pred = nn.Sequential(nn.Linear(in_features = 1024, out_features = 100, bias=False), nn.Linear(in_channels, num_classes * 4))\n",
    "#         self.cls_score[0].weight= nn.Parameter(m_transfo, requires_grad = False)\n",
    "#         self.bbox_pred[0].weight= nn.Parameter(m_transfo, requires_grad = False)\n",
    "\n",
    "#     def forward(self, x):\n",
    "#         if x.dim() == 4:\n",
    "#             assert list(x.shape[2:]) == [1, 1]\n",
    "#         x = x.flatten(start_dim=1)\n",
    "#         scores = self.cls_score(x)\n",
    "#         bbox_deltas = self.bbox_pred(x)\n",
    "\n",
    "#         return scores, bbox_deltas\n"
   ]
  },
  {
   "cell_type": "code",
   "execution_count": null,
   "metadata": {},
   "outputs": [],
   "source": [
    "class FastRCNNPredictor_custom(nn.Module):\n",
    "    \"\"\"\n",
    "    Standard classification + bounding box regression layers\n",
    "    for Fast R-CNN.\n",
    "\n",
    "    Args:\n",
    "        in_channels (int): number of input channels\n",
    "        num_classes (int): number of output classes (including background)\n",
    "    \"\"\"\n",
    "\n",
    "    def __init__(self, in_channels, num_classes, m_transfo):\n",
    "        super(FastRCNNPredictor_custom, self).__init__()\n",
    "        self.cls_score = nn.Sequential(nn.Linear(in_features=1024, out_features = in_channels, bias=False),nn.Linear(in_channels, num_classes))\n",
    "        self.bbox_pred = nn.Sequential(nn.Linear(in_features=1024, out_features = in_channels, bias=False), nn.Linear(in_channels, num_classes * 4))\n",
    "        self.cls_score[0].weight = nn.Parameter(m_transfo, requires_grad = False)\n",
    "        self.bbox_pred[0].weight = nn.Parameter(m_transfo, requires_grad = False)\n",
    "\n",
    "    def forward(self, x):\n",
    "        if x.dim() == 4:\n",
    "            assert list(x.shape[2:]) == [1, 1]\n",
    "        x = x.flatten(start_dim=1)\n",
    "        scores = self.cls_score(x)\n",
    "        bbox_deltas = self.bbox_pred(x)\n",
    "\n",
    "        return scores, bbox_deltas"
   ]
  },
  {
   "cell_type": "code",
   "execution_count": null,
   "metadata": {},
   "outputs": [],
   "source": [
    "device = torch.device('cuda') if torch.cuda.is_available() else torch.device('cpu')\n",
    "\n",
    "# our dataset has two classes only - background and person\n",
    "num_classes = 2\n",
    "\n",
    "# get the model using our helper function\n",
    "model = get_model_from_pretrained(num_classes)\n",
    "\n",
    "# move model to the right device\n",
    "model.to(device)\n",
    "\n",
    "# load fine-tuned weights from the model of the projections\n",
    "model.load_state_dict(torch.load('saved_models/50_rpn_roi_best_model.pt'))\n",
    "\n",
    "for param in model.parameters(): # to freeze all existing weights\n",
    "\n",
    "    param.requires_grad = False\n",
    "\n",
    "# vector are of size 100 after the transformation\n",
    "model.roi_heads.box_predictor = FastRCNNPredictor_custom(M.shape[0], 2, Xa.T.float())\n",
    "# model.roi_heads.box_predictor = FastRCNNPredictor_custom(in_channels=100, num_classes=2, m_transfo=Xa.T.float()) \n",
    "\n",
    "# move model to the right device\n",
    "model.to(device)\n",
    "\n",
    "# construct an optimizer\n",
    "# We will only retrain model.roi_heads.box_predictor (2 last layers)\n",
    "params = [p for p in model.parameters() if p.requires_grad]\n",
    "optimizer = torch.optim.SGD(params, lr=0.0003, momentum=0.9)\n",
    "\n",
    "lr_scheduler = torch.optim.lr_scheduler.MultiStepLR(optimizer,milestones=[5,10], gamma=0.1)"
   ]
  },
  {
   "cell_type": "code",
   "execution_count": null,
   "metadata": {},
   "outputs": [],
   "source": [
    "# weights to learn\n",
    "for i in range(4):\n",
    "    print(params[i].shape)"
   ]
  },
  {
   "cell_type": "code",
   "execution_count": null,
   "metadata": {},
   "outputs": [],
   "source": [
    "# Nb of weights in the optimizer\n",
    "for i in range(len(optimizer.param_groups[0]['params'])):\n",
    "    print(optimizer.param_groups[0]['params'][i].shape)"
   ]
  },
  {
   "cell_type": "markdown",
   "metadata": {},
   "source": [
    "## Before training"
   ]
  },
  {
   "cell_type": "code",
   "execution_count": null,
   "metadata": {},
   "outputs": [],
   "source": [
    "# PARAMETERS TO TUNE BEFORE TRAINING\n",
    "num_epochs = 25\n",
    "\n",
    "# CHECK DEVICE BEFORE TRAINING\n",
    "torch.cuda.get_device_name(0)"
   ]
  },
  {
   "cell_type": "markdown",
   "metadata": {},
   "source": [
    "### This next cell starts the training of the model"
   ]
  },
  {
   "cell_type": "code",
   "execution_count": null,
   "metadata": {
    "scrolled": true
   },
   "outputs": [],
   "source": [
    "# TRAIN\n",
    "all_train_logs, all_trans_valid_logs, all_cis_valid_logs = train(dataloader=train_dataloader, num_epochs=num_epochs)"
   ]
  },
  {
   "cell_type": "code",
   "execution_count": null,
   "metadata": {},
   "outputs": [],
   "source": [
    "last_train_logs = all_train_logs\n",
    "last_train_logs = all_train_logs\n",
    "last_trans_valid_logs = all_trans_valid_logs\n",
    "last_cis_valid_logs = all_cis_valid_logs"
   ]
  },
  {
   "cell_type": "code",
   "execution_count": null,
   "metadata": {},
   "outputs": [],
   "source": [
    "train_logs = train_logs_to_lst(last_train_logs)\n",
    "cis_valid_logs = valid_logs_to_lst(last_cis_valid_logs)\n",
    "trans_valid_logs = valid_logs_to_lst(last_trans_valid_logs)"
   ]
  },
  {
   "cell_type": "code",
   "execution_count": null,
   "metadata": {},
   "outputs": [],
   "source": [
    "# Train loss to print (here we use global_avg but we can use: value, median, avg, max or global_avg)\n",
    "results_train_loss = []\n",
    "\n",
    "for i in range(num_epochs):\n",
    "    results_train_loss.append(train_logs[i]['loss_box_reg']['global_avg'])\n",
    "    \n",
    "# Cis valid loss to print\n",
    "results_cis_valid_loss = [] # cis\n",
    "\n",
    "for i in range(num_epochs):\n",
    "    loss_interm = 0\n",
    "    for j in range(167):\n",
    "        loss_interm += cis_valid_logs[(167 * i) + j]['loss_box_reg']\n",
    "    results_cis_valid_loss.append(loss_interm)\n",
    "\n",
    "# Trans valid loss to print\n",
    "results_trans_valid_loss = [] # cis\n",
    "\n",
    "for i in range(num_epochs):\n",
    "    loss_interm = 0\n",
    "    for j in range(154):\n",
    "        loss_interm += trans_valid_logs[(154 * i) + j]['loss_box_reg']\n",
    "    results_trans_valid_loss.append(loss_interm)"
   ]
  },
  {
   "cell_type": "code",
   "execution_count": null,
   "metadata": {},
   "outputs": [],
   "source": [
    "# Printing the different plots\n",
    "fig, ax = plt.subplots(1,2, figsize=(20,6))\n",
    "\n",
    "ax[0].plot(np.arange(1, num_epochs + 1), results_train_loss, label='train')\n",
    "ax[0].set_title('Train loss per epoch')\n",
    "ax[0].set_ylabel('loss_box_reg')\n",
    "ax[0].set_xlabel('epoch')\n",
    "\n",
    "plt.title('Train loss per epoch')\n",
    "ax[1].plot(np.arange(1, num_epochs + 1), results_cis_valid_loss, label='cis')\n",
    "ax[1].plot(np.arange(1, num_epochs + 1), results_trans_valid_loss, label='trans')\n",
    "ax[1].set_title('Valid loss per epoch')\n",
    "ax[1].set_ylabel('loss_box_reg')\n",
    "ax[1].set_xlabel('epoch')\n",
    "ax[1].legend()"
   ]
  },
  {
   "cell_type": "code",
   "execution_count": null,
   "metadata": {},
   "outputs": [],
   "source": [
    "fig.savefig(\"figures/\" + time.strftime(\"%Y%m%d_%H%M%S\") + \"_figure.pdf\")"
   ]
  },
  {
   "cell_type": "markdown",
   "metadata": {},
   "source": [
    "## Evaluate the new model"
   ]
  },
  {
   "cell_type": "code",
   "execution_count": null,
   "metadata": {},
   "outputs": [],
   "source": [
    "# takes +- 15min to run on cis_test\n",
    "cis_coco_evaluator_method = evaluate(cis_test_dataloader, cis_coco)"
   ]
  },
  {
   "cell_type": "code",
   "execution_count": null,
   "metadata": {},
   "outputs": [],
   "source": [
    "# trans with method 3\n",
    "model.roi_heads.box_predictor.cls_score[0].weight = nn.Parameter(X_target_proj.float(), requires_grad = False) \n",
    "model.roi_heads.box_predictor.bbox_pred[0].weight = nn.Parameter(X_target_proj.float(), requires_grad = False)\n",
    "model.to(device)"
   ]
  },
  {
   "cell_type": "code",
   "execution_count": null,
   "metadata": {},
   "outputs": [],
   "source": [
    "# takes +- 15min to run on cis_test\n",
    "trans_coco_evaluator_method = evaluate(trans_test_dataloader, trans_coco)"
   ]
  },
  {
   "cell_type": "code",
   "execution_count": null,
   "metadata": {},
   "outputs": [],
   "source": [
    "print('cis test 50 epochs rpn+roi best, method3 with 25 epochs & d=512')\n",
    "print('_'*80)\n",
    "cis_coco_evaluator_method.summarize()"
   ]
  },
  {
   "cell_type": "code",
   "execution_count": null,
   "metadata": {
    "scrolled": true
   },
   "outputs": [],
   "source": [
    "print('trans test 50 epochs rpn+roi best, method3 with 25 epochs & d=512')\n",
    "print('_'*80)\n",
    "trans_coco_evaluator_method.summarize()"
   ]
  },
  {
   "cell_type": "markdown",
   "metadata": {},
   "source": [
    "### Load a model with Method 3.2"
   ]
  },
  {
   "cell_type": "code",
   "execution_count": null,
   "metadata": {},
   "outputs": [],
   "source": [
    "class FastRCNNPredictor_custom(nn.Module):\n",
    "    \"\"\"\n",
    "    Standard classification + bounding box regression layers\n",
    "    for Fast R-CNN.\n",
    "\n",
    "    Args:\n",
    "        in_channels (int): number of input channels\n",
    "        num_classes (int): number of output classes (including background)\n",
    "    \"\"\"\n",
    "\n",
    "    def __init__(self, in_channels, num_classes, m_transfo):\n",
    "        super(FastRCNNPredictor_custom, self).__init__()\n",
    "        self.cls_score = nn.Sequential(nn.Linear(in_features=1024, out_features = in_channels, bias=False),nn.Linear(in_channels, num_classes))\n",
    "        self.bbox_pred = nn.Sequential(nn.Linear(in_features=1024, out_features = in_channels, bias=False), nn.Linear(in_channels, num_classes * 4))\n",
    "        self.cls_score[0].weight = nn.Parameter(m_transfo, requires_grad = False)\n",
    "        self.bbox_pred[0].weight = nn.Parameter(m_transfo, requires_grad = False)\n",
    "\n",
    "    def forward(self, x):\n",
    "        if x.dim() == 4:\n",
    "            assert list(x.shape[2:]) == [1, 1]\n",
    "        x = x.flatten(start_dim=1)\n",
    "        scores = self.cls_score(x)\n",
    "        bbox_deltas = self.bbox_pred(x)\n",
    "\n",
    "        return scores, bbox_deltas"
   ]
  },
  {
   "cell_type": "code",
   "execution_count": null,
   "metadata": {},
   "outputs": [],
   "source": [
    "device = torch.device('cuda') if torch.cuda.is_available() else torch.device('cpu')\n",
    "\n",
    "# our dataset has two classes only - background and person\n",
    "num_classes = 2\n",
    "\n",
    "# get the model using our helper function\n",
    "model = get_model_from_pretrained(num_classes)\n",
    "\n",
    "# move model to the right device\n",
    "model.to(device)\n",
    "\n",
    "for param in model.parameters(): # to freeze all existing weights\n",
    "\n",
    "    param.requires_grad = False\n",
    "\n",
    "# vector are of size 100 after the transformation\n",
    "model.roi_heads.box_predictor = FastRCNNPredictor_custom(M.shape[0], 2, Xa.T.float())\n",
    "# model.roi_heads.box_predictor = FastRCNNPredictor_custom(in_channels=100, num_classes=2, m_transfo=Xa.T.float()) \n",
    "\n",
    "# move model to the right device\n",
    "model.to(device)\n",
    "\n",
    "# construct an optimizer\n",
    "# We will only retrain model.roi_heads.box_predictor (2 last layers)\n",
    "params = [p for p in model.parameters() if p.requires_grad]\n",
    "optimizer = torch.optim.SGD(params, lr=0.0003, momentum=0.9)\n",
    "\n",
    "lr_scheduler = torch.optim.lr_scheduler.MultiStepLR(optimizer,milestones=[5,10], gamma=0.1)"
   ]
  },
  {
   "cell_type": "code",
   "execution_count": null,
   "metadata": {},
   "outputs": [],
   "source": [
    "# load fine-tuned weights from the model of the projections\n",
    "model.load_state_dict(torch.load('saved_models/50_rpn_roi_1_method3.2_512_model.pt'))\n",
    "optimizer.load_state_dict(torch.load('saved_models/50_rpn_roi_1_method3.2_512_optimizer.pt'))\n",
    "lr_scheduler.load_state_dict(torch.load('saved_models/50_rpn_roi_1_method3.2_512_scheduler.pt'))"
   ]
  },
  {
   "cell_type": "code",
   "execution_count": null,
   "metadata": {},
   "outputs": [],
   "source": []
  }
 ],
 "metadata": {
  "accelerator": "GPU",
  "colab": {
   "collapsed_sections": [],
   "name": "Copy of Step1_TransferLearning.ipynb",
   "provenance": []
  },
  "kernelspec": {
   "display_name": "Animals",
   "language": "python",
   "name": "animals"
  },
  "language_info": {
   "codemirror_mode": {
    "name": "ipython",
    "version": 3
   },
   "file_extension": ".py",
   "mimetype": "text/x-python",
   "name": "python",
   "nbconvert_exporter": "python",
   "pygments_lexer": "ipython3",
   "version": "3.7.11"
  }
 },
 "nbformat": 4,
 "nbformat_minor": 1
}
