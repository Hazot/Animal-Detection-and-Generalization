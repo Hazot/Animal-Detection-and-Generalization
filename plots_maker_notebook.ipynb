{
 "cells": [
  {
   "cell_type": "code",
   "execution_count": 1,
   "id": "215c5c78",
   "metadata": {},
   "outputs": [],
   "source": [
    "import time\n",
    "import json\n",
    "import matplotlib.pyplot as plt\n",
    "import seaborn as sns\n",
    "import os\n",
    "import numpy as np\n",
    "import matplotlib.patches as patches"
   ]
  },
  {
   "cell_type": "markdown",
   "id": "845038fb",
   "metadata": {},
   "source": [
    "## Logs utils"
   ]
  },
  {
   "cell_type": "markdown",
   "id": "e66e6fab",
   "metadata": {},
   "source": [
    "#### Train logs utils"
   ]
  },
  {
   "cell_type": "code",
   "execution_count": 2,
   "id": "07f0cccb",
   "metadata": {},
   "outputs": [],
   "source": [
    "# Converts the smoothed values to a dictionnary of each values\n",
    "def smoothed_value_to_str(smoothed_value):\n",
    "    d_values = {}\n",
    "    d_values['median'] = smoothed_value.median\n",
    "    d_values['avg'] = smoothed_value.avg\n",
    "    d_values['global_avg'] = smoothed_value.global_avg\n",
    "    d_values['max'] = smoothed_value.max\n",
    "    d_values['value'] = smoothed_value.value\n",
    "    return d_values\n",
    "\n",
    "\n",
    "# Converts the train logs from MetricLogger to list\n",
    "def train_logs_to_lst(logs):\n",
    "    lst = []\n",
    "    for i in range(len(logs)):\n",
    "        d = {}\n",
    "        for key in logs[i].meters.keys():\n",
    "            d[key] = smoothed_value_to_str(logs[i].meters[key])\n",
    "        lst.append(d)\n",
    "    return lst\n",
    "\n",
    "\n",
    "# Puts the training logs into a json file with time dependent file name\n",
    "def train_logs_to_json(logs, ftime=time.strftime(\"%Y%m%d_%H%M%S\")):\n",
    "    train_metric_logs = train_logs_to_lst(logs)\n",
    "    filename = ftime + \"_train_logs.json\"\n",
    "    \n",
    "    with open('saved_logs/' + filename, 'w', encoding='utf-8') as f:\n",
    "        json.dump(train_metric_logs, f, ensure_ascii=False, indent=4)\n",
    "\n",
    "\n",
    "# Converts the train logs from MetricLogger to list\n",
    "def train_logs_to_lst(logs):\n",
    "    lst = []\n",
    "    for i in range(len(logs)):\n",
    "        d = {}\n",
    "        for key in logs[i].meters.keys():\n",
    "            d[key] = smoothed_value_to_str(logs[i].meters[key])\n",
    "        lst.append(d)\n",
    "    return lst\n",
    "\n",
    "\n",
    "# Puts the training logs into a json file with time dependent file name\n",
    "def train_logs_to_json(logs, ftime=time.strftime(\"%Y%m%d_%H%M%S\")):\n",
    "    train_metric_logs = train_logs_to_lst(logs)\n",
    "    filename = ftime + \"_train_logs.json\"\n",
    "    \n",
    "    with open('saved_logs/' + filename, 'w', encoding='utf-8') as f:\n",
    "        json.dump(train_metric_logs, f, ensure_ascii=False, indent=4)"
   ]
  },
  {
   "cell_type": "markdown",
   "id": "d291eb50",
   "metadata": {},
   "source": [
    "#### Valid logs utils"
   ]
  },
  {
   "cell_type": "code",
   "execution_count": 3,
   "id": "b30d82cb",
   "metadata": {},
   "outputs": [],
   "source": [
    "# Merge the dicts of a list \n",
    "def merge_dict(logs):\n",
    "    logs_better = []\n",
    "    try:\n",
    "        for i in range(len(logs)):\n",
    "            logs_better.append({**logs[i][0], **logs[i][1], **logs[i][2], **logs[i][3]})\n",
    "        return logs_better\n",
    "    except:\n",
    "        print(logs[0])\n",
    "        logs_better = logs\n",
    "        return logs_better\n",
    "\n",
    "    \n",
    "# Converts the valid logs from list of dictionnaries to string\n",
    "def valid_logs_to_lst(valid_logs):\n",
    "    if type(valid_logs) == list:\n",
    "        return valid_logs\n",
    "    logs = merge_dict(valid_logs)\n",
    "    lst = []\n",
    "    for i in range(len(logs)):\n",
    "        d = {}\n",
    "        for key in logs[i].keys():\n",
    "            d[key] = logs[i][key].cpu().numpy().tolist()\n",
    "        lst.append(d)\n",
    "    return lst\n",
    "\n",
    "\n",
    "# Puts the cis validation logs into a json file with time dependent file name\n",
    "def cis_valid_logs_to_json(logs, ftime=time.strftime(\"%Y%m%d_%H%M%S\")):\n",
    "    valid_metric_logs = valid_logs_to_lst(logs)\n",
    "    filename = ftime + \"_cis_valid_logs.json\"\n",
    "    \n",
    "    with open('saved_logs/' + filename, 'w', encoding='utf-8') as f:\n",
    "        json.dump(valid_metric_logs, f, ensure_ascii=False, indent=4)\n",
    "\n",
    "\n",
    "# Puts the trans validation logs into a json file with time dependent file name\n",
    "def trans_valid_logs_to_json(logs, ftime=time.strftime(\"%Y%m%d_%H%M%S\")):\n",
    "    valid_metric_logs = valid_logs_to_lst(logs)\n",
    "    filename = ftime + \"_trans_valid_logs.json\"\n",
    "    \n",
    "    with open('saved_logs/' + filename, 'w', encoding='utf-8') as f:\n",
    "        json.dump(valid_metric_logs, f, ensure_ascii=False, indent=4)"
   ]
  },
  {
   "cell_type": "code",
   "execution_count": 4,
   "id": "08a3afb7",
   "metadata": {},
   "outputs": [],
   "source": [
    "## Logs utils\n",
    "\n",
    "#### Train logs utils\n",
    "\n",
    "# Converts the smoothed values to a dictionnary of each values\n",
    "def smoothed_value_to_str(smoothed_value):\n",
    "    d_values = {}\n",
    "    d_values['median'] = smoothed_value.median\n",
    "    d_values['avg'] = smoothed_value.avg\n",
    "    d_values['global_avg'] = smoothed_value.global_avg\n",
    "    d_values['max'] = smoothed_value.max\n",
    "    d_values['value'] = smoothed_value.value\n",
    "    return d_values\n",
    "\n",
    "\n",
    "# Converts the train logs from MetricLogger to list\n",
    "def train_logs_to_lst(logs):\n",
    "    lst = []\n",
    "    for i in range(len(logs)):\n",
    "        d = {}\n",
    "        for key in logs[i].meters.keys():\n",
    "            d[key] = smoothed_value_to_str(logs[i].meters[key])\n",
    "        lst.append(d)\n",
    "    return lst\n",
    "\n",
    "\n",
    "# Puts the training logs into a json file with time dependent file name\n",
    "def train_logs_to_json(logs, ftime=time.strftime(\"%Y%m%d_%H%M%S\")):\n",
    "    train_metric_logs = train_logs_to_lst(logs)\n",
    "    filename = ftime + \"_train_logs.json\"\n",
    "    \n",
    "    with open('saved_logs/' + filename, 'w', encoding='utf-8') as f:\n",
    "        json.dump(train_metric_logs, f, ensure_ascii=False, indent=4)\n",
    "\n",
    "\n",
    "# Converts the train logs from MetricLogger to list\n",
    "def train_logs_to_lst(logs):\n",
    "    lst = []\n",
    "    for i in range(len(logs)):\n",
    "        d = {}\n",
    "        for key in logs[i].meters.keys():\n",
    "            d[key] = smoothed_value_to_str(logs[i].meters[key])\n",
    "        lst.append(d)\n",
    "    return lst\n",
    "\n",
    "\n",
    "# Puts the training logs into a json file with time dependent file name\n",
    "def train_logs_to_json(logs, ftime=time.strftime(\"%Y%m%d_%H%M%S\")):\n",
    "    train_metric_logs = train_logs_to_lst(logs)\n",
    "    filename = ftime + \"_train_logs.json\"\n",
    "    \n",
    "    with open('saved_logs/' + filename, 'w', encoding='utf-8') as f:\n",
    "        json.dump(train_metric_logs, f, ensure_ascii=False, indent=4)\n",
    "\n",
    "#### Valid logs utils\n",
    "\n",
    "# Merge the dicts of a list \n",
    "def merge_dict(logs):\n",
    "    logs_better = []\n",
    "    try:\n",
    "        for i in range(len(logs)):\n",
    "            logs_better.append({**logs[i][0], **logs[i][1], **logs[i][2], **logs[i][3]})\n",
    "        return logs_better\n",
    "    except:\n",
    "        print(logs[0])\n",
    "        logs_better = logs\n",
    "        return logs_better\n",
    "\n",
    "    \n",
    "# Converts the valid logs from list of dictionnaries to string\n",
    "def valid_logs_to_lst(valid_logs):\n",
    "    if type(valid_logs) == list:\n",
    "        return valid_logs\n",
    "    logs = merge_dict(valid_logs)\n",
    "    lst = []\n",
    "    for i in range(len(logs)):\n",
    "        d = {}\n",
    "        for key in logs[i].keys():\n",
    "            d[key] = logs[i][key].cpu().numpy().tolist()\n",
    "        lst.append(d)\n",
    "    return lst\n",
    "\n",
    "\n",
    "# Puts the cis validation logs into a json file with time dependent file name\n",
    "def cis_valid_logs_to_json(logs, ftime=time.strftime(\"%Y%m%d_%H%M%S\")):\n",
    "    valid_metric_logs = valid_logs_to_lst(logs)\n",
    "    filename = ftime + \"_cis_valid_logs.json\"\n",
    "    \n",
    "    with open('saved_logs/' + filename, 'w', encoding='utf-8') as f:\n",
    "        json.dump(valid_metric_logs, f, ensure_ascii=False, indent=4)\n",
    "\n",
    "\n",
    "# Puts the trans validation logs into a json file with time dependent file name\n",
    "def trans_valid_logs_to_json(logs, ftime=time.strftime(\"%Y%m%d_%H%M%S\")):\n",
    "    valid_metric_logs = valid_logs_to_lst(logs)\n",
    "    filename = ftime + \"_trans_valid_logs.json\"\n",
    "    \n",
    "    with open('saved_logs/' + filename, 'w', encoding='utf-8') as f:\n",
    "        json.dump(valid_metric_logs, f, ensure_ascii=False, indent=4)"
   ]
  },
  {
   "cell_type": "markdown",
   "id": "f7777021",
   "metadata": {},
   "source": [
    "## Looking at/Loading the logs in convenient ways\n",
    "Here we define the variables \"train_logs\", \"cis_valid_logs\" and \"trans_valid_logs\" that will be used in the methods for the results and the visualisations.\n",
    "\n",
    "We can import logs or use the ones from training."
   ]
  },
  {
   "cell_type": "markdown",
   "id": "15decee1",
   "metadata": {},
   "source": [
    "### Load logs right here"
   ]
  },
  {
   "cell_type": "code",
   "execution_count": null,
   "id": "bb72e3ca",
   "metadata": {},
   "outputs": [],
   "source": [
    "# Imported logs - format: name = \"NAME_OR_TIME\"      Exemple file format: \"NAME_OR_TIME_train_logs\"\n",
    "\n",
    "file_time_or_nickname = '10_rpn_roi_4' # VALUE TO CHANGE TO THE IMPORTED FILES\n",
    "\n",
    "# Import training logs\n",
    "with open('saved_logs/' + file_time_or_nickname + '_train_logs.json', \"r\") as f:\n",
    "    train_logs = json.load(f)\n",
    "\n",
    "# Import cis valid logs\n",
    "with open('saved_logs/' + file_time_or_nickname + '_cis_valid_logs.json', \"r\") as f:\n",
    "    cis_valid_logs = json.load(f)\n",
    "\n",
    "# Import trans valid logs\n",
    "with open('saved_logs/' + file_time_or_nickname + '_trans_valid_logs.json', \"r\") as f:\n",
    "    trans_valid_logs = json.load(f)"
   ]
  },
  {
   "cell_type": "markdown",
   "id": "2578127a",
   "metadata": {},
   "source": [
    "### Combine with some other logs right here"
   ]
  },
  {
   "cell_type": "code",
   "execution_count": null,
   "id": "d701d19d",
   "metadata": {},
   "outputs": [],
   "source": [
    "# Imported logs - format: name = \"NAME_OR_TIME\"      Exemple file format: \"NAME_OR_TIME_train_logs\"\n",
    "\n",
    "file_time_or_nickname = '75_rpn_roi_1' # VALUE TO CHANGE TO THE IMPORTED FILES\n",
    "\n",
    "# Import training logs\n",
    "with open('saved_logs/' + file_time_or_nickname + '_train_logs.json', \"r\") as f:\n",
    "    train_logs = train_logs + json.load(f)\n",
    "\n",
    "# Import cis valid logs\n",
    "with open('saved_logs/' + file_time_or_nickname + '_cis_valid_logs.json', \"r\") as f:\n",
    "    cis_valid_logs = cis_valid_logs + json.load(f)\n",
    "\n",
    "# Import trans valid logs\n",
    "with open('saved_logs/' + file_time_or_nickname + '_trans_valid_logs.json', \"r\") as f:\n",
    "    trans_valid_logs = trans_valid_logs + json.load(f)"
   ]
  },
  {
   "cell_type": "markdown",
   "id": "52641baa",
   "metadata": {},
   "source": [
    "## Results"
   ]
  },
  {
   "cell_type": "code",
   "execution_count": null,
   "id": "3f3dfb9f",
   "metadata": {},
   "outputs": [],
   "source": [
    "# To confirm that the data is loaded properly\n",
    "n = len(train_logs)\n",
    "print(n)"
   ]
  },
  {
   "cell_type": "code",
   "execution_count": null,
   "id": "cf435c48",
   "metadata": {},
   "outputs": [],
   "source": [
    "# Train loss to print (here we use global_avg but we can use: value, median, avg, max or global_avg)\n",
    "results_train_loss = []\n",
    "\n",
    "for i in range(n):\n",
    "    results_train_loss.append(train_logs[i]['loss_box_reg']['global_avg'])\n",
    "    \n",
    "# Cis valid loss to print\n",
    "results_cis_valid_loss = [] # cis\n",
    "\n",
    "for i in range(n):\n",
    "    loss_interm = 0\n",
    "    for j in range(167):\n",
    "        loss_interm += cis_valid_logs[(167 * i) + j]['loss_rpn_box_reg']\n",
    "    results_cis_valid_loss.append(loss_interm)\n",
    "\n",
    "# Trans valid loss to print\n",
    "results_trans_valid_loss = [] # trans\n",
    "\n",
    "for i in range(n):\n",
    "    loss_interm = 0\n",
    "    for j in range(154):\n",
    "        loss_interm += trans_valid_logs[(154 * i) + j]['loss_rpn_box_reg']\n",
    "    results_trans_valid_loss.append(loss_interm)"
   ]
  },
  {
   "cell_type": "markdown",
   "id": "2e7cf10c",
   "metadata": {},
   "source": [
    "### Plots"
   ]
  },
  {
   "cell_type": "code",
   "execution_count": null,
   "id": "e24a35f2",
   "metadata": {},
   "outputs": [],
   "source": [
    "# Printing the different plots\n",
    "fig, ax = plt.subplots(1,2, figsize=(20,6))\n",
    "\n",
    "ax[0].plot(np.arange(1, n + 1), results_train_loss, label='train')\n",
    "ax[0].set_title('Train loss per epoch')\n",
    "ax[0].set_ylabel('loss_box_reg')\n",
    "ax[0].set_xlabel('epoch')\n",
    "\n",
    "plt.title('Train loss per epoch')\n",
    "ax[1].plot(np.arange(1, n + 1), results_cis_valid_loss, label='cis')\n",
    "ax[1].plot(np.arange(1, n + 1), results_trans_valid_loss, label='trans')\n",
    "ax[1].set_title('Valid loss per epoch')\n",
    "ax[1].set_ylabel('loss_rpn_box_reg')\n",
    "ax[1].set_xlabel('epoch')\n",
    "ax[1].legend()"
   ]
  },
  {
   "cell_type": "markdown",
   "id": "e8f08d80",
   "metadata": {},
   "source": [
    "#### Save the figure to pdf format in the figures folder"
   ]
  },
  {
   "cell_type": "code",
   "execution_count": null,
   "id": "668c028e",
   "metadata": {},
   "outputs": [],
   "source": [
    "fig.savefig(\"saved_figures/\" + time.strftime(\"%Y%m%d_%H%M%S\") + \"_figure.pdf\")"
   ]
  },
  {
   "cell_type": "code",
   "execution_count": null,
   "id": "ce24f5f1",
   "metadata": {},
   "outputs": [],
   "source": [
    "fig.savefig(\"figures/\" + time.strftime(\"%Y%m%d_%H%M%S\") + \"_figure.pdf\")"
   ]
  },
  {
   "cell_type": "code",
   "execution_count": null,
   "id": "f60560b5",
   "metadata": {},
   "outputs": [],
   "source": [
    "fig.savefig(\"figures/full_75_rpn_roi_1_figure.pdf\")"
   ]
  },
  {
   "cell_type": "markdown",
   "id": "599a3310",
   "metadata": {},
   "source": [
    "## Table to show results (manually)"
   ]
  },
  {
   "cell_type": "code",
   "execution_count": null,
   "id": "515f1909",
   "metadata": {},
   "outputs": [],
   "source": [
    "# RPN + ROI\n",
    "cis_results = [0.863, 0.895, 0.897]\n",
    "trans_results = [0.781, 0.794, 0.785]\n",
    "delta_results = [cis_results[i]-trans_results[i] for i in range(len(cis_results))]"
   ]
  },
  {
   "cell_type": "code",
   "execution_count": null,
   "id": "301ce1f3",
   "metadata": {},
   "outputs": [],
   "source": [
    "# RPN + ROI: Printing the different plots\n",
    "fig, ax = plt.subplots(1,2, figsize=(20,6))\n",
    "\n",
    "ax[0].plot(np.arange(1, len(cis_results) + 1), cis_results, label='cis')\n",
    "ax[0].plot(np.arange(1, len(trans_results) + 1), trans_results, label='trans')\n",
    "ax[0].axhline(y=0.7, c=\"white\")\n",
    "ax[0].set_title('Average precision over number of epochs')\n",
    "ax[0].set_ylabel('Average precision @IoU=0.50')\n",
    "ax[0].set_xlabel('epoch')\n",
    "ax[0].legend()\n",
    "\n",
    "ax[1].plot(np.arange(1, len(cis_results) + 1), delta_results,'r', label='train')\n",
    "ax[1].axhline(y=0.05, c=\"white\")\n",
    "ax[1].set_title('Difference in average precision over number of epochs')\n",
    "ax[1].set_ylabel('Difference in average precision')\n",
    "ax[1].set_xlabel('epoch')"
   ]
  },
  {
   "cell_type": "code",
   "execution_count": null,
   "id": "7ba0aebf",
   "metadata": {},
   "outputs": [],
   "source": [
    "# base vs roi vs roi+rpn\n",
    "cis_results = [0.863, 0.895, 0.897]"
   ]
  },
  {
   "cell_type": "markdown",
   "id": "22c23c3d",
   "metadata": {},
   "source": [
    "# Training"
   ]
  },
  {
   "cell_type": "code",
   "execution_count": null,
   "id": "2996d024",
   "metadata": {},
   "outputs": [],
   "source": [
    "plt.bar"
   ]
  },
  {
   "cell_type": "code",
   "execution_count": null,
   "id": "cddb863b",
   "metadata": {},
   "outputs": [],
   "source": [
    "plt.bar(np.arange(1, 3 + 1), cis_results, label='xd')\n",
    "plt.bar(np.arange(1, 3 + 1), trans_results)\n",
    "plt.title('Precision over number of epochs')\n",
    "plt.show"
   ]
  },
  {
   "cell_type": "code",
   "execution_count": null,
   "id": "db89b6e0",
   "metadata": {},
   "outputs": [],
   "source": [
    "# Imported logs - format: name = \"NAME_OR_TIME\"      Exemple file format: \"NAME_OR_TIME_train_logs\"\n",
    "\n",
    "file_time_or_nickname = '25_base' # VALUE TO CHANGE TO THE IMPORTED FILES\n",
    "\n",
    "# Import training logs\n",
    "with open('saved_logs/' + file_time_or_nickname + '_train_logs.json', \"r\") as f:\n",
    "    train_base = json.load(f)\n",
    "\n",
    "# Import cis valid logs\n",
    "with open('saved_logs/' + file_time_or_nickname + '_cis_valid_logs.json', \"r\") as f:\n",
    "    cis_base = json.load(f)\n",
    "\n",
    "# Import trans valid logsw\n",
    "with open('saved_logs/' + file_time_or_nickname + '_trans_valid_logs.json', \"r\") as f:\n",
    "    trans_base = json.load(f)"
   ]
  },
  {
   "cell_type": "code",
   "execution_count": null,
   "id": "a66adc41",
   "metadata": {},
   "outputs": [],
   "source": [
    "# Imported logs - format: name = \"NAME_OR_TIME\"      Exemple file format: \"NAME_OR_TIME_train_logs\"\n",
    "\n",
    "file_time_or_nickname = '25_roi_4_vision_version_diff' # VALUE TO CHANGE TO THE IMPORTED FILES\n",
    "\n",
    "# Import training logs\n",
    "with open('saved_logs/' + file_time_or_nickname + '_train_logs.json', \"r\") as f:\n",
    "    train_roi = json.load(f)\n",
    "\n",
    "# Import cis valid logs\n",
    "with open('saved_logs/' + file_time_or_nickname + '_cis_valid_logs.json', \"r\") as f:\n",
    "    cis_roi = json.load(f)\n",
    "\n",
    "# Import trans valid logs\n",
    "with open('saved_logs/' + file_time_or_nickname + '_trans_valid_logs.json', \"r\") as f:\n",
    "    trans_roi = json.load(f)"
   ]
  },
  {
   "cell_type": "code",
   "execution_count": null,
   "id": "d2d4ce57",
   "metadata": {},
   "outputs": [],
   "source": [
    "# Imported logs - format: name = \"NAME_OR_TIME\"      Exemple file format: \"NAME_OR_TIME_train_logs\"\n",
    "\n",
    "file_time_or_nickname = '25_rpn_roi_1' # VALUE TO CHANGE TO THE IMPORTED FILES\n",
    "\n",
    "# Import training logs\n",
    "with open('saved_logs/' + file_time_or_nickname + '_train_logs.json', \"r\") as f:\n",
    "    train_rpn_roi = json.load(f)\n",
    "\n",
    "# Import cis valid logs\n",
    "with open('saved_logs/' + file_time_or_nickname + '_cis_valid_logs.json', \"r\") as f:\n",
    "    cis_rpn_roi = json.load(f)\n",
    "\n",
    "# Import trans valid logs\n",
    "with open('saved_logs/' + file_time_or_nickname + '_trans_valid_logs.json', \"r\") as f:\n",
    "    trans_rpn_roi = json.load(f)"
   ]
  },
  {
   "cell_type": "code",
   "execution_count": null,
   "id": "2d066de0",
   "metadata": {},
   "outputs": [],
   "source": [
    "num_epochs = len(train_base)"
   ]
  },
  {
   "cell_type": "code",
   "execution_count": null,
   "id": "01a60d2f",
   "metadata": {},
   "outputs": [],
   "source": [
    "# base\n",
    "results_train_loss_base = []\n",
    "\n",
    "for i in range(num_epochs):\n",
    "    results_train_loss_base.append(train_base[i]['loss_box_reg']['global_avg'])\n",
    "    \n",
    "# Cis valid loss to print\n",
    "results_cis_valid_loss_base = [] # cis\n",
    "\n",
    "for i in range(num_epochs):\n",
    "    loss_interm = 0\n",
    "    for j in range(167):\n",
    "        loss_interm += cis_base[(167 * i) + j]['loss_box_reg']\n",
    "    results_cis_valid_loss_base.append(loss_interm)\n",
    "\n",
    "# Trans valid loss to print\n",
    "results_trans_valid_loss_base = [] # trans\n",
    "\n",
    "for i in range(num_epochs):\n",
    "    loss_interm = 0\n",
    "    for j in range(154):\n",
    "        loss_interm += trans_base[(154 * i) + j]['loss_box_reg']\n",
    "    results_trans_valid_loss_base.append(loss_interm)"
   ]
  },
  {
   "cell_type": "code",
   "execution_count": null,
   "id": "4ef93ea3",
   "metadata": {},
   "outputs": [],
   "source": [
    "# roi\n",
    "results_train_loss_roi = []\n",
    "\n",
    "for i in range(num_epochs):\n",
    "    results_train_loss_roi.append(train_roi[i]['loss_box_reg']['global_avg'])\n",
    "    \n",
    "# Cis valid loss to print\n",
    "results_cis_valid_loss_roi = [] # cis\n",
    "\n",
    "for i in range(num_epochs):\n",
    "    loss_interm = 0\n",
    "    for j in range(167):\n",
    "        loss_interm += cis_roi[(167 * i) + j]['loss_box_reg']\n",
    "    results_cis_valid_loss_roi.append(loss_interm)\n",
    "\n",
    "# Trans valid loss to print\n",
    "results_trans_valid_loss_roi = [] # trans\n",
    "\n",
    "for i in range(num_epochs):\n",
    "    loss_interm = 0\n",
    "    for j in range(154):\n",
    "        loss_interm += trans_roi[(154 * i) + j]['loss_box_reg']\n",
    "    results_trans_valid_loss_roi.append(loss_interm)"
   ]
  },
  {
   "cell_type": "code",
   "execution_count": null,
   "id": "8df68b78",
   "metadata": {},
   "outputs": [],
   "source": [
    "# rpn+roi\n",
    "results_train_loss_rpn_roi = []\n",
    "\n",
    "for i in range(num_epochs):\n",
    "    results_train_loss_rpn_roi.append(train_rpn_roi[i]['loss_box_reg']['global_avg'])\n",
    "    \n",
    "# Cis valid loss to print\n",
    "results_cis_valid_loss_rpn_roi = [] # cis\n",
    "\n",
    "for i in range(num_epochs):\n",
    "    loss_interm = 0\n",
    "    for j in range(167):\n",
    "        loss_interm += cis_rpn_roi[(167 * i) + j]['loss_box_reg']\n",
    "    results_cis_valid_loss_rpn_roi.append(loss_interm)\n",
    "\n",
    "# Trans valid loss to print\n",
    "results_trans_valid_loss_rpn_roi = [] # trans\n",
    "\n",
    "for i in range(num_epochs):\n",
    "    loss_interm = 0\n",
    "    for j in range(154):\n",
    "        loss_interm += trans_rpn_roi[(154 * i) + j]['loss_box_reg']\n",
    "    results_trans_valid_loss_rpn_roi.append(loss_interm)"
   ]
  },
  {
   "cell_type": "code",
   "execution_count": null,
   "id": "b8bd169f",
   "metadata": {
    "scrolled": true
   },
   "outputs": [],
   "source": [
    "# Printing the different plots\n",
    "fig, ax = plt.subplots(1,2, figsize=(14,4))\n",
    "\n",
    "ax[0].plot(np.arange(1, num_epochs + 1), results_train_loss_base, label='base')\n",
    "ax[0].plot(np.arange(1, num_epochs + 1), results_train_loss_roi, label='roi')\n",
    "ax[0].plot(np.arange(1, num_epochs + 1), results_train_loss_rpn_roi, label='rpn+roi')\n",
    "ax[0].set_title('Train loss per epoch')\n",
    "ax[0].set_ylabel('loss_box_reg')\n",
    "ax[0].set_xlabel('epoch')\n",
    "ax[0].legend()\n",
    "\n",
    "plt.title('Train loss per epoch')\n",
    "ax[1].plot(np.arange(1, num_epochs + 1), results_cis_valid_loss_base, label='cis', color='tab:blue')\n",
    "ax[1].plot(np.arange(1, num_epochs + 1), results_trans_valid_loss_base, label='trans', color='tab:red')\n",
    "ax[1].plot(np.arange(1, num_epochs + 1), results_cis_valid_loss_roi, color='tab:blue')\n",
    "ax[1].plot(np.arange(1, num_epochs + 1), results_trans_valid_loss_roi, color='tab:red')\n",
    "ax[1].plot(np.arange(1, num_epochs + 1), results_cis_valid_loss_rpn_roi, color='tab:blue')\n",
    "ax[1].plot(np.arange(1, num_epochs + 1), results_trans_valid_loss_rpn_roi, color='tab:red')\n",
    "ax[1].set_title('Valid loss per epoch')\n",
    "ax[1].set_ylabel('loss_box_reg')\n",
    "ax[1].set_xlabel('epoch')\n",
    "ax[1].legend()\n",
    "\n",
    "ax[0].spines['top'].set_visible(False)\n",
    "ax[0].spines['right'].set_visible(False)\n",
    "ax[1].spines['top'].set_visible(False)\n",
    "ax[1].spines['right'].set_visible(False)"
   ]
  },
  {
   "cell_type": "code",
   "execution_count": null,
   "id": "bb995807",
   "metadata": {},
   "outputs": [],
   "source": [
    "fig.savefig(\"figures/baseline_vs_roi_vs_rpn_roi_training.png\", transparent=True)"
   ]
  },
  {
   "cell_type": "code",
   "execution_count": null,
   "id": "709c2541",
   "metadata": {},
   "outputs": [],
   "source": [
    "# Cis valid loss to print\n",
    "results_cis_valid_loss_base = [] # cis\n",
    "\n",
    "for i in range(num_epochs):\n",
    "    loss_interm = 0\n",
    "    for j in range(167):\n",
    "        loss_interm += cis_base[(167 * i) + j]['loss_rpn_box_reg']\n",
    "    results_cis_valid_loss_base.append(loss_interm)\n",
    "\n",
    "# Trans valid loss to print\n",
    "results_trans_valid_loss_base = [] # trans\n",
    "\n",
    "for i in range(num_epochs):\n",
    "    loss_interm = 0\n",
    "    for j in range(154):\n",
    "        loss_interm += trans_base[(154 * i) + j]['loss_rpn_box_reg']\n",
    "    results_trans_valid_loss_base.append(loss_interm)"
   ]
  },
  {
   "cell_type": "code",
   "execution_count": null,
   "id": "19dfa177",
   "metadata": {},
   "outputs": [],
   "source": [
    "# Cis valid loss to print\n",
    "results_cis_valid_loss_roi = [] # cis\n",
    "\n",
    "for i in range(num_epochs):\n",
    "    loss_interm = 0\n",
    "    for j in range(167):\n",
    "        loss_interm += cis_roi[(167 * i) + j]['loss_rpn_box_reg']\n",
    "    results_cis_valid_loss_roi.append(loss_interm)\n",
    "\n",
    "# Trans valid loss to print\n",
    "results_trans_valid_loss_roi = [] # trans\n",
    "\n",
    "for i in range(num_epochs):\n",
    "    loss_interm = 0\n",
    "    for j in range(154):\n",
    "        loss_interm += trans_roi[(154 * i) + j]['loss_rpn_box_reg']\n",
    "    results_trans_valid_loss_roi.append(loss_interm)"
   ]
  },
  {
   "cell_type": "code",
   "execution_count": null,
   "id": "c2ba42ff",
   "metadata": {},
   "outputs": [],
   "source": [
    "# Cis valid loss to print\n",
    "results_cis_valid_loss_rpn_roi = [] # cis\n",
    "\n",
    "for i in range(num_epochs):\n",
    "    loss_interm = 0\n",
    "    for j in range(167):\n",
    "        loss_interm += cis_rpn_roi[(167 * i) + j]['loss_rpn_box_reg']\n",
    "    results_cis_valid_loss_rpn_roi.append(loss_interm)\n",
    "\n",
    "# Trans valid loss to print\n",
    "results_trans_valid_loss_rpn_roi = [] # trans\n",
    "\n",
    "for i in range(num_epochs):\n",
    "    loss_interm = 0\n",
    "    for j in range(154):\n",
    "        loss_interm += trans_rpn_roi[(154 * i) + j]['loss_rpn_box_reg']\n",
    "    results_trans_valid_loss_rpn_roi.append(loss_interm)"
   ]
  },
  {
   "cell_type": "code",
   "execution_count": null,
   "id": "3e3531f7",
   "metadata": {},
   "outputs": [],
   "source": [
    "fig, ax = plt.subplots(1,1, figsize=(7,4))\n",
    "\n",
    "plt.title('Train loss per epoch')\n",
    "ax.plot(np.arange(1, num_epochs + 1), results_cis_valid_loss_base, label='cis', color='tab:blue')\n",
    "ax.plot(np.arange(1, num_epochs + 1), results_trans_valid_loss_base, label='trans', color='tab:red')\n",
    "ax.plot(np.arange(1, num_epochs + 1), results_cis_valid_loss_roi, color='tab:blue')\n",
    "ax.plot(np.arange(1, num_epochs + 1), results_trans_valid_loss_roi, color='tab:red')\n",
    "ax.plot(np.arange(1, num_epochs + 1), results_cis_valid_loss_rpn_roi, color='tab:blue')\n",
    "ax.plot(np.arange(1, num_epochs + 1), results_trans_valid_loss_rpn_roi, color='tab:red')\n",
    "ax.set_title('Valid loss per epoch')\n",
    "ax.set_ylabel('loss_rpn_box_reg')\n",
    "ax.set_xlabel('epoch')\n",
    "ax.legend()\n",
    "\n",
    "ax.spines['top'].set_visible(False)\n",
    "ax.spines['right'].set_visible(False)"
   ]
  },
  {
   "cell_type": "code",
   "execution_count": null,
   "id": "6b0ab632",
   "metadata": {},
   "outputs": [],
   "source": [
    "fig.savefig(\"saved_figures/baseline_vs_roi_vs_rpn_roi_training_rpn.png\", transparent=True)"
   ]
  },
  {
   "cell_type": "markdown",
   "id": "46ee113c",
   "metadata": {},
   "source": [
    "# Evaluations"
   ]
  },
  {
   "cell_type": "markdown",
   "id": "c2ecc2ae",
   "metadata": {},
   "source": [
    "### Different depths"
   ]
  },
  {
   "cell_type": "code",
   "execution_count": null,
   "id": "647275aa",
   "metadata": {
    "scrolled": false
   },
   "outputs": [],
   "source": [
    "fig, ax = plt.subplots(1,2, figsize=(10,4))\n",
    "\n",
    "# Create bars\n",
    "barWidth = 0.55\n",
    "bars1 = [73.0, 65.3]\n",
    "bars2 = [52.4, 50.6]\n",
    "\n",
    "bars3 = [83.6, 76.3]\n",
    "bars4 = [56.9, 55.6]\n",
    "\n",
    "bars5 = [86.3, 78.1]\n",
    "bars6 = [59.1, 57.5]\n",
    "\n",
    "bars = bars1+bars3+bars5\n",
    "bars_recall = bars2+bars4+bars6\n",
    "\n",
    "# The X position of bars\n",
    "r1 = [1, 1]\n",
    "r2 = [2, 2]\n",
    "r3 = [3, 3]\n",
    "r4 = r1+r2+r3\n",
    "\n",
    "# Text below each barplot with a rotation at 90°\n",
    "ax[0].set_xticks([1, 2, 3], ['Baseline', 'ROI', 'RPN+ROI'])\n",
    "ax[1].set_xticks([1, 2, 3], ['Baseline', 'ROI', 'RPN+ROI'])\n",
    "\n",
    "# Create barplot 1\n",
    "ax[0].bar(r1, bars1, width = barWidth, color = ('tab:blue','tab:red'))\n",
    "ax[0].bar(r2, bars3, width = barWidth, color = ('tab:blue','tab:red'))\n",
    "ax[0].bar(r3, bars5, width = barWidth, color = ('tab:blue','tab:red'))\n",
    "ax[0].axis(ymin=40, ymax=100)\n",
    "ax[0].set_title('Precision at IoU = 0.50', fontsize=13)\n",
    "for i, v in enumerate(r4):\n",
    "    if i%2 ==0:\n",
    "        ax[0].text(v-0.13, bars[i] + 1, str(bars[i]), color='black')\n",
    "    else:\n",
    "        ax[0].text(v-0.13, bars[i] - 3, str(bars[i]), color='black')\n",
    "\n",
    "\n",
    "# Create barplot 2\n",
    "ax[1].bar(r1, bars2, width = barWidth, color = ('tab:blue','tab:red'))\n",
    "ax[1].bar(r2, bars4, width = barWidth, color = ('tab:blue','tab:red'))\n",
    "ax[1].bar(r3, bars6, width = barWidth, color = ('tab:blue','tab:red'))\n",
    "ax[1].axhline(100, color='white')\n",
    "ax[1].axis(ymin=40, ymax=70)\n",
    "ax[1].set_title('Recall (Max det = 100)', fontsize=13)\n",
    "for i, v in enumerate(r4):\n",
    "    if i%2 ==0:\n",
    "        ax[1].text(v-0.13, bars_recall[i] + 0.75, str(bars_recall[i]), color='black')\n",
    "    else:\n",
    "        ax[1].text(v-0.13, bars_recall[i] - 1.5, str(bars_recall[i]), color='black')\n",
    "\n",
    "ax[0].spines['top'].set_visible(False)\n",
    "ax[0].spines['right'].set_visible(False)\n",
    "ax[1].spines['top'].set_visible(False)\n",
    "ax[1].spines['right'].set_visible(False)\n",
    "\n",
    "fig.savefig(\"figures/baseline_vs_roi_vs_rpn_roi_precision_recall.png\", transparent=True)\n",
    "\n",
    "plt.show"
   ]
  },
  {
   "cell_type": "code",
   "execution_count": null,
   "id": "d34b98f0",
   "metadata": {
    "scrolled": false
   },
   "outputs": [],
   "source": [
    "fig, ax = plt.subplots(1,2, figsize=(10,4))\n",
    "\n",
    "# Create bars\n",
    "barWidth = 0.55\n",
    "diff_bars1 = [round(bars1[0]-bars1[1], 3)]\n",
    "diff_bars2 = [round(bars2[0]-bars2[1], 3)]\n",
    "\n",
    "diff_bars3 = [round(bars3[0]-bars3[1], 3)]\n",
    "diff_bars4 = [round(bars4[0]-bars4[1], 3)]\n",
    "\n",
    "diff_bars5 = [round(bars5[0]-bars5[1], 3)]\n",
    "diff_bars6 = [round(bars6[0]-bars6[1], 3)]\n",
    "\n",
    "diff_bars = diff_bars1+diff_bars3+diff_bars5\n",
    "diff_bars_recall = diff_bars2+diff_bars4+diff_bars6\n",
    "\n",
    "# The X position of bars\n",
    "r1 = [1]\n",
    "r2 = [2]\n",
    "r3 = [3]\n",
    "r4 = r1+r2+r3\n",
    "\n",
    "# Text below each barplot with a rotation at 90°\n",
    "ax[0].set_xticks([1, 2, 3], ['Baseline', 'ROI', 'RPN+ROI'])\n",
    "ax[1].set_xticks([1, 2, 3], ['Baseline', 'ROI', 'RPN+ROI'])\n",
    "\n",
    "# Create barplot 1\n",
    "ax[0].bar(r1, diff_bars1, width = barWidth, color = ('tab:orange'))\n",
    "ax[0].bar(r2, diff_bars3, width = barWidth, color = ('tab:orange'))\n",
    "ax[0].bar(r3, diff_bars5, width = barWidth, color = ('tab:orange'))\n",
    "ax[0].axis(ymin=0, ymax=10)\n",
    "ax[0].set_title('Diff. between Cis and Trans - Precision', fontsize=13)\n",
    "for i, v in enumerate(r4):\n",
    "    ax[0].text(v-0.13, diff_bars[i] + 0.25, str(diff_bars[i]), color='black')\n",
    "\n",
    "\n",
    "# Create barplot 2\n",
    "ax[1].bar(r1, diff_bars2, width = barWidth, color = ('tab:orange'))\n",
    "ax[1].bar(r2, diff_bars4, width = barWidth, color = ('tab:orange'))\n",
    "ax[1].bar(r3, diff_bars6, width = barWidth, color = ('tab:orange'))\n",
    "ax[1].axhline(100, color='white')\n",
    "ax[1].axis(ymin=0, ymax=5)\n",
    "ax[1].set_title('Diff. between Cis and Trans - Recall', fontsize=13)\n",
    "for i, v in enumerate(r4):\n",
    "    ax[1].text(v-0.13, diff_bars_recall[i] + 0.15, str(diff_bars_recall[i]), color='black')\n",
    "\n",
    "ax[0].spines['top'].set_visible(False)\n",
    "ax[0].spines['right'].set_visible(False)\n",
    "ax[1].spines['top'].set_visible(False)\n",
    "ax[1].spines['right'].set_visible(False)\n",
    "\n",
    "fig.savefig(\"figures/baseline_vs_roi_vs_rpn_roi_diff.png\", transparent=True)\n",
    "\n",
    "plt.show"
   ]
  },
  {
   "cell_type": "markdown",
   "id": "ec06ec6f",
   "metadata": {},
   "source": [
    "### Number of epochs"
   ]
  },
  {
   "cell_type": "code",
   "execution_count": null,
   "id": "ea502547",
   "metadata": {},
   "outputs": [],
   "source": [
    "fig, ax = plt.subplots(1,2, figsize=(10,4))\n",
    "\n",
    "# Create bars\n",
    "barWidth = 0.55\n",
    "\n",
    "bars00 = [85.4, 77.3]\n",
    "bars0 = [58.4, 57.1]\n",
    "\n",
    "bars1 = [86.3, 78.1]\n",
    "bars2 = [59.1, 57.5]\n",
    "\n",
    "bars3 = [89.5, 79.4]\n",
    "bars4 = [60.3, 57.7]\n",
    "\n",
    "bars5 = [89.7, 78.5]\n",
    "bars6 = [59.4, 56.2]\n",
    "\n",
    "bars = bars00+bars1+bars3+bars5\n",
    "bars_recall = bars0+bars2+bars4+bars6\n",
    "\n",
    "# The X position of bars\n",
    "r0 = [1, 1]\n",
    "r1 = [2, 2]\n",
    "r2 = [3, 3]\n",
    "r3 = [4, 4]\n",
    "r4 = r0+r1+r2+r3\n",
    "\n",
    "# Text below each barplot\n",
    "ax[0].set_xticks([1, 2, 3, 4], ['10', '25', '50', '75'])\n",
    "ax[1].set_xticks([1, 2, 3, 4], ['10', '25', '50', '75'])\n",
    "\n",
    "# Create barplot 1\n",
    "ax[0].bar(r0, bars00, width = barWidth, color = ('tab:blue','tab:red'))\n",
    "ax[0].bar(r1, bars1, width = barWidth, color = ('tab:blue','tab:red'))\n",
    "ax[0].bar(r2, bars3, width = barWidth, color = ('tab:blue','tab:red'))\n",
    "ax[0].bar(r3, bars5, width = barWidth, color = ('tab:blue','tab:red'))\n",
    "ax[0].axis(ymin=40, ymax=100)\n",
    "ax[0].set_title('Precision over epochs', fontsize=13)\n",
    "for i, v in enumerate(r4):\n",
    "    if i%2 ==0:\n",
    "        ax[0].text(v-0.13, bars[i] + 1, str(bars[i]), color='black')\n",
    "    else:\n",
    "        ax[0].text(v-0.13, bars[i] - 3, str(bars[i]), color='black')\n",
    "\n",
    "\n",
    "# Create barplot 2\n",
    "ax[1].bar(r0, bars0, width = barWidth, color = ('tab:blue','tab:red'))\n",
    "ax[1].bar(r1, bars2, width = barWidth, color = ('tab:blue','tab:red'))\n",
    "ax[1].bar(r2, bars4, width = barWidth, color = ('tab:blue','tab:red'))\n",
    "ax[1].bar(r3, bars6, width = barWidth, color = ('tab:blue','tab:red'))\n",
    "ax[1].axhline(100, color='white')\n",
    "ax[1].axis(ymin=40, ymax=70)\n",
    "ax[1].set_title('Recall over epochs', fontsize=13)\n",
    "for i, v in enumerate(r4):\n",
    "    if i%2 ==0:\n",
    "        ax[1].text(v-0.13, bars_recall[i] + 1, str(bars_recall[i]), color='black')\n",
    "    else:\n",
    "        ax[1].text(v-0.13, bars_recall[i] - 2, str(bars_recall[i]), color='black')\n",
    "\n",
    "ax[0].spines['top'].set_visible(False)\n",
    "ax[0].spines['right'].set_visible(False)\n",
    "ax[1].spines['top'].set_visible(False)\n",
    "ax[1].spines['right'].set_visible(False)\n",
    "\n",
    "fig.savefig(\"figures/rpn_roi_epochs_precision_recall.png\", transparent=True)\n",
    "\n",
    "plt.show"
   ]
  },
  {
   "cell_type": "code",
   "execution_count": null,
   "id": "d095a337",
   "metadata": {},
   "outputs": [],
   "source": [
    "fig, ax = plt.subplots(1,2, figsize=(10,4))\n",
    "\n",
    "# Create bars\n",
    "barWidth = 0.55\n",
    "\n",
    "diff_bars00 = [round(bars00[0]-bars00[1], 3)]\n",
    "diff_bars0 = [round(bars0[0]-bars0[1], 3)]\n",
    "\n",
    "diff_bars1 = [round(bars1[0]-bars1[1], 3)]\n",
    "diff_bars2 = [round(bars2[0]-bars2[1], 3)]\n",
    "\n",
    "diff_bars3 = [round(bars3[0]-bars3[1], 3)]\n",
    "diff_bars4 = [round(bars4[0]-bars4[1], 3)]\n",
    "\n",
    "diff_bars5 = [round(bars5[0]-bars5[1], 3)]\n",
    "diff_bars6 = [round(bars6[0]-bars6[1], 3)]\n",
    "\n",
    "diff_bars = diff_bars00+diff_bars1+diff_bars3+diff_bars5\n",
    "diff_bars_recall = diff_bars0+diff_bars2+diff_bars4+diff_bars6\n",
    "\n",
    "# The X position of bars\n",
    "r0 = [1]\n",
    "r1 = [2]\n",
    "r2 = [3]\n",
    "r3 = [4]\n",
    "r4 = r0+r1+r2+r3\n",
    "\n",
    "# Text below each barplot with a rotation at 90°\n",
    "ax[0].set_xticks([1, 2, 3, 4], ['10', '25', '50', '75'])\n",
    "ax[1].set_xticks([1, 2, 3, 4], ['10', '25', '50', '75'])\n",
    "\n",
    "# Create barplot 1\n",
    "ax[0].bar(r0, diff_bars00, width = barWidth, color = ('tab:orange'))\n",
    "ax[0].bar(r1, diff_bars1, width = barWidth, color = ('tab:orange'))\n",
    "ax[0].bar(r2, diff_bars3, width = barWidth, color = ('tab:orange'))\n",
    "ax[0].bar(r3, diff_bars5, width = barWidth, color = ('tab:orange'))\n",
    "ax[0].axis(ymin=0, ymax=14)\n",
    "ax[0].set_title('Diff. between Cis and Trans - Precision', fontsize=13)\n",
    "for i, v in enumerate(r4):\n",
    "    ax[0].text(v-0.13, diff_bars[i] + 0.25, str(diff_bars[i]), color='black')\n",
    "\n",
    "\n",
    "# Create barplot 2\n",
    "ax[1].bar(r0, diff_bars0, width = barWidth, color = ('tab:orange'))\n",
    "ax[1].bar(r1, diff_bars2, width = barWidth, color = ('tab:orange'))\n",
    "ax[1].bar(r2, diff_bars4, width = barWidth, color = ('tab:orange'))\n",
    "ax[1].bar(r3, diff_bars6, width = barWidth, color = ('tab:orange'))\n",
    "ax[1].axis(ymin=0, ymax=5)\n",
    "ax[1].set_title('Diff. between Cis and Trans - Recall', fontsize=13)\n",
    "for i, v in enumerate(r4):\n",
    "    ax[1].text(v-0.13, diff_bars_recall[i] + 0.15, str(diff_bars_recall[i]), color='black')\n",
    "\n",
    "ax[0].spines['top'].set_visible(False)\n",
    "ax[0].spines['right'].set_visible(False)\n",
    "ax[1].spines['top'].set_visible(False)\n",
    "ax[1].spines['right'].set_visible(False)\n",
    "\n",
    "plt.show"
   ]
  },
  {
   "cell_type": "code",
   "execution_count": null,
   "id": "fa431cee",
   "metadata": {},
   "outputs": [],
   "source": []
  },
  {
   "cell_type": "code",
   "execution_count": null,
   "id": "d471f87c",
   "metadata": {},
   "outputs": [],
   "source": []
  },
  {
   "cell_type": "code",
   "execution_count": null,
   "id": "a7e2c5b1",
   "metadata": {},
   "outputs": [],
   "source": [
    "fig.savefig(\"figures/rpn_roi_epochs_precision_diff.png\", transparent=True)"
   ]
  },
  {
   "cell_type": "markdown",
   "id": "1f8b95c4",
   "metadata": {},
   "source": [
    "## Plots for final report"
   ]
  },
  {
   "cell_type": "code",
   "execution_count": 18,
   "id": "f7ff4926",
   "metadata": {},
   "outputs": [],
   "source": [
    "# Model results for precision/recall\n",
    "\n",
    "# Models for epochs comparison [cis_precision, trans_precison, cis_recall, trans_recall]\n",
    "base_paper = [0.771, 0.702]\n",
    "\n",
    "base_25 = [0.730, 0.653, 0.524, 0.506]\n",
    "base_25_horiz_flip = [0.728, 0.647, 0.521, 0.503] # flip would maybe be better if we used a scheduler tuned for more precision\n",
    "\n",
    "roi_10 = [0.835, 0.761, 0.568, 0.555]\n",
    "roi_25 = [0.836, 0.763, 0.569, 0.556]\n",
    "roi_25_horiz_flip = [0.836, 0.767, 0.567, 0.557]\n",
    "\n",
    "rpn_10 = [0.861, 0.781, 0.590, 0.576]\n",
    "rpn_25 = [0.863, 0.781, 0.591, 0.575]\n",
    "rpn_50 = [0.865, 0.774, 0.592, 0.568]\n",
    "\n",
    "rpn_50_bug = [0.895, 0.794, 0.603, 0.577] # (bug) different scheduler\n",
    "rpn_75_bug = [0.897, 0.785, 0.594, 0.562] # (bug) different scheduler\n",
    "\n",
    "# Set a baseline for the results\n",
    "baseline_1 = [base_25[1]]+[base_25[1]]+[base_25[3]]+[base_25[3]]\n",
    "\n",
    "# Models with domain adaptation comparison \n",
    "# method31 : column normalization\n",
    "# method32 : column and then row normalization\n",
    "\n",
    "base_25_method31_512 = [0.720, 0.642, 0.519, 0.498]\n",
    "\n",
    "rpn_10_method31_100 = [0.858, 0.774, 0.588, 0.563]\n",
    "rpn_10_method31_512 = [0.862, 0.784, 0.590, 0.571]\n",
    "\n",
    "rpn_10_method32_100 = [0.850, 0.763, 0.586, 0.583]\n",
    "rpn_10_method32_512 = [0.858, 0.773, 0.588, 0.585]\n",
    "\n",
    "rpn_50_method31_100 = [0.860, 0.774, 0.588, 0.568]\n",
    "rpn_50_method31_512 = [0.864, 0.783, 0.590, 0.569]\n",
    "\n",
    "# Models with data augmentation comparison\n",
    "\n",
    "base_paper = [0.771, 0.702]\n",
    "\n",
    "base_25 = [0.730, 0.653, 0.524, 0.506]\n",
    "\n",
    "roi_25_online_augment = [0.783, 0.670, 0.535, 0.523]\n",
    "roi_25_offline_augment = [0.843, 0.763, 0.570, 0.552]\n",
    "\n",
    "rpn_10_online_augment = [\"training\"]\n",
    "rpn_10_online_augment_method31_512 = [\"training\"]\n",
    "\n",
    "baseline_3 = roi_25\n"
   ]
  },
  {
   "cell_type": "markdown",
   "id": "a97764b6",
   "metadata": {},
   "source": [
    "## Early models (no methods)"
   ]
  },
  {
   "cell_type": "code",
   "execution_count": 27,
   "id": "304b1302",
   "metadata": {},
   "outputs": [],
   "source": [
    "results_1 = np.array([base_25, base_25_horiz_flip, roi_10, roi_25, roi_25_horiz_flip, rpn_10, rpn_25, rpn_50, rpn_50_bug, rpn_75_bug])\n",
    "results_1_index = [\"BASE 25 epochs\", \"BASE 25 epochs\\nhorizontal flip\", \"ROI 10 epochs\", \"ROI 25 epochs\", \n",
    "                 \"ROI 25 epochs\\nhorizontal flip\", \"RPN+ROI 10 epochs\", \"RPN+ROI 25 epochs\", \"RPN+ROI 50 epochs\", \n",
    "                 \"RPN+ROI 50 epochs\\nUncanny Scheduler\", \"RPN+ROI 75 epochs\\nUncanny Scheduler\"]"
   ]
  },
  {
   "cell_type": "markdown",
   "id": "2e85bdbb",
   "metadata": {},
   "source": [
    "#### Precison"
   ]
  },
  {
   "cell_type": "code",
   "execution_count": 28,
   "id": "d1e96a17",
   "metadata": {},
   "outputs": [],
   "source": [
    "# Calculates the difference between the different results and the baseline\n",
    "diffs_cis_trans_1 = np.round((results_1[:, :1] - results_1[:, 1:2])*100, 3)"
   ]
  },
  {
   "cell_type": "code",
   "execution_count": 29,
   "id": "923a2075",
   "metadata": {},
   "outputs": [],
   "source": [
    "# Values to change for plot\n",
    "results = results_1\n",
    "diffs_cis_trans = diffs_cis_trans_1\n",
    "index = results_1_index\n",
    "cis_val = results[:, 0]*100\n",
    "trans_val = results[:, 1]*100\n",
    "n = len(cis_val)\n",
    "x = np.arange(n)\n",
    "base_cis = base_paper[0]\n",
    "base_trans = base_paper[1]\n",
    "min_x = np.ceil(np.min(trans_val) - 2)\n",
    "max_x = np.ceil(np.max(cis_val) + 2)"
   ]
  },
  {
   "cell_type": "code",
   "execution_count": 30,
   "id": "7a3bc712",
   "metadata": {},
   "outputs": [
    {
     "data": {
      "text/plain": [
       "<matplotlib.legend.Legend at 0x28350b52e88>"
      ]
     },
     "execution_count": 30,
     "metadata": {},
     "output_type": "execute_result"
    },
    {
     "data": {
      "image/png": "[encoded data removed]",
      "text/plain": [
       "<Figure size 1280x640 with 1 Axes>"
      ]
     },
     "metadata": {
      "needs_background": "light"
     },
     "output_type": "display_data"
    }
   ],
   "source": [
    "# Make the plot\n",
    "\n",
    "fig, ax = plt.subplots(figsize=(16,8), dpi= 80)\n",
    "# Precision\n",
    "ax.scatter(x = cis_val, y = x, label=\"Cis\", color=\"tab:blue\")\n",
    "ax.scatter(x = trans_val, y = x, label='Trans', color=\"tab:red\")\n",
    "ax.hlines(y=index, xmin=min_x, xmax=max_x, color='gray', alpha=0.5, linewidth=1, linestyles='dashdot')\n",
    "ax.vlines(x=base_cis*100, ymin=-1, ymax=n-0.5, color='gray', alpha=0.8, linewidth=1)\n",
    "ax.vlines(x=base_trans*100, ymin=-1, ymax=n-0.5, color='gray', alpha=0.8, linewidth=1)\n",
    "ax.text(base_cis*100-1.2, results.shape[0]-0.7, 'Trans baseline\\n       65.3%', bbox=dict(facecolor='white', edgecolor='none'))\n",
    "ax.text(base_trans*100-1.1, results.shape[0]-0.7, 'Cis baseline\\n     73.0%', bbox=dict(facecolor='white', edgecolor='none'))\n",
    "\n",
    "for i in range(n):\n",
    "    plt.plot([trans_val[i], cis_val[i]], [i, i], color='tab:gray')\n",
    "    plt.text(trans_val[i] - 0.5 + diffs_cis_trans[i]/2, i-0.4, 'd=' + ''.join(map(str, diffs_cis_trans[i])) + '%')\n",
    "    plt.text(trans_val[i] - 0.5, i-0.4, str(round(trans_val[i], 3)) + '%')\n",
    "\n",
    "ax.set_title('Precision of the paper baseline and our domain adaptation models', fontdict={'size':18})\n",
    "ax.set_xlabel('Precision [%]', fontdict={'size':14})\n",
    "ax.set_xticks(np.arange(min_x, max_x, 2.0))\n",
    "# ax.set_yticks(np.arange(0, 11, 1.0))\n",
    "ax.legend()"
   ]
  },
  {
   "cell_type": "markdown",
   "id": "f52ce536",
   "metadata": {},
   "source": [
    "#### Recall"
   ]
  },
  {
   "cell_type": "markdown",
   "id": "9cf32942",
   "metadata": {},
   "source": [
    "### Domain Adaptation"
   ]
  },
  {
   "cell_type": "code",
   "execution_count": 31,
   "id": "ae3a4143",
   "metadata": {},
   "outputs": [],
   "source": [
    "results_2 = np.array([base_25_method31_512, rpn_10_method31_100, rpn_10_method31_512, \n",
    "                     rpn_10_method32_100, rpn_10_method32_512, rpn_50_method31_100, rpn_50_method31_512])\n",
    "results_2_index = [\"BASE 25 epochs\\n Domain Adapt\\nCol Norm d=512\", \"RPN 10 epochs\\n Domain Adapt\\nCol Norm d=100\", \n",
    "                   \"RPN 10 epochs\\n Domain Adapt\\nCol Norm d=512\", \"RPN 10 epochs\\n Domain Adapt\\nCol+Row Norm d=100\", \n",
    "                   \"RPN 10 epochs\\n Domain Adapt\\nCol+Row Norm d=512\", \"RPN 50 epochs\\n Domain Adapt\\nCol Norm d=100\", \n",
    "                   \"RPN 50 epochs\\n Domain Adapt\\nCol Norm d=512\"]"
   ]
  },
  {
   "cell_type": "markdown",
   "id": "411b3ad1",
   "metadata": {},
   "source": [
    "#### Precision"
   ]
  },
  {
   "cell_type": "code",
   "execution_count": 32,
   "id": "53685ce3",
   "metadata": {},
   "outputs": [],
   "source": [
    "# Calculates the difference between the different results and the baseline\n",
    "diffs_cis_trans_2 = np.round((results_2[:, :1] - results_2[:, 1:2])*100, 3)"
   ]
  },
  {
   "cell_type": "code",
   "execution_count": 33,
   "id": "94d3484c",
   "metadata": {},
   "outputs": [],
   "source": [
    "# Values to change for plot\n",
    "results = results_2\n",
    "diffs_cis_trans = diffs_cis_trans_2\n",
    "index = results_2_index\n",
    "cis_val = results[:, 0]*100\n",
    "trans_val = results[:, 1]*100\n",
    "n = len(cis_val)\n",
    "x = np.arange(n)\n",
    "base_cis = base_paper[0]\n",
    "base_trans = base_paper[1]\n",
    "min_x = np.ceil(np.min(trans_val) - 2)\n",
    "max_x = np.ceil(np.max(cis_val) + 2)"
   ]
  },
  {
   "cell_type": "code",
   "execution_count": 34,
   "id": "c59f6c67",
   "metadata": {},
   "outputs": [
    {
     "data": {
      "text/plain": [
       "<matplotlib.legend.Legend at 0x28350a24c88>"
      ]
     },
     "execution_count": 34,
     "metadata": {},
     "output_type": "execute_result"
    },
    {
     "data": {
      "image/png": "[encoded data removed]",
      "text/plain": [
       "<Figure size 1280x640 with 1 Axes>"
      ]
     },
     "metadata": {
      "needs_background": "light"
     },
     "output_type": "display_data"
    }
   ],
   "source": [
    "# Make the plot\n",
    "\n",
    "fig, ax = plt.subplots(figsize=(16,8), dpi= 80)\n",
    "# Precision\n",
    "ax.scatter(x = cis_val, y = x, label=\"Cis\", color=\"tab:blue\")\n",
    "ax.scatter(x = trans_val, y = x, label='Trans', color=\"tab:red\")\n",
    "ax.hlines(y=index, xmin=min_x, xmax=max_x, color='gray', alpha=0.5, linewidth=1, linestyles='dashdot')\n",
    "ax.vlines(x=base_cis*100, ymin=-1, ymax=n-0.5, color='gray', alpha=0.8, linewidth=1)\n",
    "ax.vlines(x=base_trans*100, ymin=-1, ymax=n-0.5, color='gray', alpha=0.8, linewidth=1)\n",
    "ax.text(base_cis*100-1.2, results.shape[0]-0.7, 'Trans baseline\\n       65.3%', bbox=dict(facecolor='white', edgecolor='none'))\n",
    "ax.text(base_trans*100-1.1, results.shape[0]-0.7, 'Cis baseline\\n     73.0%', bbox=dict(facecolor='white', edgecolor='none'))\n",
    "\n",
    "for i in range(n):\n",
    "    plt.plot([trans_val[i], cis_val[i]], [i, i], color='tab:gray')\n",
    "    plt.text(trans_val[i] - 0.5 + diffs_cis_trans[i]/2, i-0.4, 'd=' + ''.join(map(str, diffs_cis_trans[i])) + '%')\n",
    "    plt.text(trans_val[i] - 0.5, i-0.4, str(round(trans_val[i], 3)) + '%')\n",
    "\n",
    "ax.set_title('Precision of the paper baseline and our domain adaptation models', fontdict={'size':18})\n",
    "ax.set_xlabel('Precision [%]', fontdict={'size':14})\n",
    "ax.set_xticks(np.arange(min_x, max_x, 2.0))\n",
    "# ax.set_yticks(np.arange(0, 11, 1.0))\n",
    "ax.legend()"
   ]
  },
  {
   "cell_type": "markdown",
   "id": "36e7a015",
   "metadata": {},
   "source": [
    "#### Recall"
   ]
  },
  {
   "cell_type": "code",
   "execution_count": null,
   "id": "3b2d33d6",
   "metadata": {},
   "outputs": [],
   "source": []
  },
  {
   "cell_type": "markdown",
   "id": "d7be59a7",
   "metadata": {},
   "source": [
    "### Data Augmentation"
   ]
  },
  {
   "cell_type": "code",
   "execution_count": null,
   "id": "04b62753",
   "metadata": {},
   "outputs": [],
   "source": [
    "results_3 = np.array([base_25_method31_512, rpn_10_method31_100, rpn_10_method31_512, \n",
    "                     rpn_10_method32_100, rpn_10_method32_512, rpn_50_method31_100, rpn_50_method31_512])\n",
    "results_3_index = [\"BASE 25 epochs\\n Domain Adapt\\nCol Norm d=512\", \"RPN 10 epochs\\n Domain Adapt\\nCol Norm d=100\", \n",
    "                   \"RPN 10 epochs\\n Domain Adapt\\nCol Norm d=512\", \"RPN 10 epochs\\n Domain Adapt\\nCol+Row Norm d=100\", \n",
    "                   \"RPN 10 epochs\\n Domain Adapt\\nCol+Row Norm d=512\", \"RPN 50 epochs\\n Domain Adapt\\nCol Norm d=100\", \n",
    "                   \"RPN 50 epochs\\n Domain Adapt\\nCol Norm d=512\"]"
   ]
  },
  {
   "cell_type": "code",
   "execution_count": null,
   "id": "42cdaf22",
   "metadata": {},
   "outputs": [],
   "source": [
    "# Calculates the difference between the different results and the baseline\n",
    "diffs_cis_trans_3 = np.round((results_2[:, :1] - results_2[:, 1:2])*100, 3)"
   ]
  },
  {
   "cell_type": "code",
   "execution_count": null,
   "id": "9e4f5028",
   "metadata": {},
   "outputs": [],
   "source": [
    "# Values to change for plot\n",
    "results = results_3\n",
    "diffs_cis_trans = diffs_cis_trans_3\n",
    "index = results_3_index\n",
    "cis_val = results[:, 0]*100\n",
    "trans_val = results[:, 1]*100\n",
    "n = len(cis_val)\n",
    "x = np.arange(n)\n",
    "base_cis = base_paper[0]\n",
    "base_trans = base_paper[1]\n",
    "min_x = np.ceil(np.min(trans_val) - 2)\n",
    "max_x = np.ceil(np.max(cis_val) + 2)"
   ]
  },
  {
   "cell_type": "code",
   "execution_count": null,
   "id": "b609f4cd",
   "metadata": {},
   "outputs": [],
   "source": [
    "# Make the plot\n",
    "\n",
    "fig, ax = plt.subplots(figsize=(16,8), dpi= 80)\n",
    "# Precision\n",
    "ax.scatter(x = cis_val, y = x, label=\"Cis\", color=\"tab:blue\")\n",
    "ax.scatter(x = trans_val, y = x, label='Trans', color=\"tab:red\")\n",
    "ax.hlines(y=index, xmin=min_x, xmax=max_x, color='gray', alpha=0.5, linewidth=1, linestyles='dashdot')\n",
    "ax.vlines(x=base_cis*100, ymin=-1, ymax=n-0.5, color='gray', alpha=0.8, linewidth=1)\n",
    "ax.vlines(x=base_trans*100, ymin=-1, ymax=n-0.5, color='gray', alpha=0.8, linewidth=1)\n",
    "ax.text(base_cis*100-1.2, results.shape[0]-0.7, 'Trans baseline\\n       65.3%', bbox=dict(facecolor='white', edgecolor='none'))\n",
    "ax.text(base_trans*100-1.1, results.shape[0]-0.7, 'Cis baseline\\n     73.0%', bbox=dict(facecolor='white', edgecolor='none'))\n",
    "\n",
    "for i in range(n):\n",
    "    plt.plot([trans_val[i], cis_val[i]], [i, i], color='tab:gray')\n",
    "    plt.text(trans_val[i] - 0.5 + diffs_cis_trans[i]/2, i-0.4, 'd=' + ''.join(map(str, diffs_cis_trans[i])) + '%')\n",
    "    plt.text(trans_val[i] - 0.5, i-0.4, str(round(trans_val[i], 3)) + '%')\n",
    "\n",
    "ax.set_title('Precision of the paper baseline and our domain adaptation models', fontdict={'size':18})\n",
    "ax.set_xlabel('Precision [%]', fontdict={'size':14})\n",
    "ax.set_xticks(np.arange(min_x, max_x, 2.0))\n",
    "# ax.set_yticks(np.arange(0, 11, 1.0))\n",
    "ax.legend()"
   ]
  },
  {
   "cell_type": "code",
   "execution_count": null,
   "id": "2ef68eb6",
   "metadata": {},
   "outputs": [],
   "source": []
  },
  {
   "cell_type": "code",
   "execution_count": null,
   "id": "5cf3b075",
   "metadata": {},
   "outputs": [],
   "source": []
  },
  {
   "cell_type": "code",
   "execution_count": null,
   "id": "0b06ed2c",
   "metadata": {},
   "outputs": [],
   "source": []
  },
  {
   "cell_type": "code",
   "execution_count": null,
   "id": "ea2d9c42",
   "metadata": {},
   "outputs": [],
   "source": []
  },
  {
   "cell_type": "code",
   "execution_count": null,
   "id": "7fcd1d86",
   "metadata": {},
   "outputs": [],
   "source": []
  },
  {
   "cell_type": "markdown",
   "id": "4ebfad60",
   "metadata": {},
   "source": [
    "### Improvment [%] plot (not used)"
   ]
  },
  {
   "cell_type": "code",
   "execution_count": null,
   "id": "7f5e6027",
   "metadata": {},
   "outputs": [],
   "source": [
    "# Calculates the difference between the different results and the baseline\n",
    "diffs_1 = np.array([round(results_1[j][i] - baseline_1[i], 4)*100 for j in range(len(results_1)) \n",
    "                                                                  for i in range(len(baseline_1))\n",
    "                 ]).reshape(len(results_1), 4)\n",
    "diffs_cis_trans_1 = np.round(diffs_1[:, :1] - diffs_1[:, 1:2], 3)"
   ]
  },
  {
   "cell_type": "code",
   "execution_count": null,
   "id": "fa664e77",
   "metadata": {},
   "outputs": [],
   "source": [
    "# Define the cis accuracy and trans accuracy x axis data\n",
    "cis_acc_diff = diffs_1[:,0]\n",
    "trans_acc_diff = diffs_1[:,1]\n",
    "x = np.arange(len(cis_acc))"
   ]
  },
  {
   "cell_type": "code",
   "execution_count": null,
   "id": "de1447d9",
   "metadata": {},
   "outputs": [],
   "source": [
    "# Make the plot of improvments\n",
    "fig, ax = plt.subplots(figsize=(16,8), dpi= 80)\n",
    "# Precision\n",
    "ax.scatter(x = cis_acc_diff, y = x, label=\"Cis\", color=\"tab:blue\")\n",
    "ax.scatter(x = trans_acc_diff, y = x, label='Trans', color=\"tab:red\")\n",
    "ax.hlines(y=results_index, xmin=-2, xmax=27, color='gray', alpha=0.5, linewidth=1, linestyles='dashdot')\n",
    "ax.vlines(x=0, ymin=-1, ymax=diffs_1.shape[0], color='gray', alpha=0.8, linewidth=1)\n",
    "ax.text(-0.8, 9.1, 'Baseline')\n",
    "\n",
    "for i in range(len(diffs_cis_trans_1)):\n",
    "    plt.plot([trans_acc_diff[i],cis_acc_diff[i]], [i, i], color='tab:gray')\n",
    "    plt.text(trans_acc_diff[i] -0.5 + diffs_cis_trans_1[i]/2, i-0.4, 'd=' + ''.join(map(str, diffs_cis_trans_1[i])) + '%')\n",
    "    plt.text(trans_acc_diff[i] - 0.5, i-0.4, str(round(trans_acc_diff[i], 3)) + '%')\n",
    "\n",
    "ax.set_title('Difference in precision between baseline and early models\\n' +\n",
    "             '(25 epochs, only CNN trained - trans accuracy: 65.3%)', fontdict={'size':18})\n",
    "ax.set_xlabel('Improvement [%] with respect to the baseline accuracy', fontdict={'size':14})\n",
    "ax.set_xticks(np.arange(-2, 27, 1.0))\n",
    "ax.legend()"
   ]
  }
 ],
 "metadata": {
  "kernelspec": {
   "display_name": "Animals",
   "language": "python",
   "name": "animals"
  },
  "language_info": {
   "codemirror_mode": {
    "name": "ipython",
    "version": 3
   },
   "file_extension": ".py",
   "mimetype": "text/x-python",
   "name": "python",
   "nbconvert_exporter": "python",
   "pygments_lexer": "ipython3",
   "version": "3.7.11"
  }
 },
 "nbformat": 4,
 "nbformat_minor": 5
}
