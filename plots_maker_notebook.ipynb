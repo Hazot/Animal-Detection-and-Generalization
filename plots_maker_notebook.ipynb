{
 "cells": [
  {
   "cell_type": "markdown",
   "id": "b83481d5",
   "metadata": {},
   "source": [
    "# Import"
   ]
  },
  {
   "cell_type": "code",
   "execution_count": null,
   "id": "215c5c78",
   "metadata": {},
   "outputs": [],
   "source": [
    "import time\n",
    "import json\n",
    "import matplotlib.pyplot as plt\n",
    "import seaborn as sns\n",
    "import os\n",
    "import numpy as np\n",
    "import matplotlib.patches as patches"
   ]
  },
  {
   "cell_type": "markdown",
   "id": "aa15d16e",
   "metadata": {},
   "source": [
    "# Logs utils"
   ]
  },
  {
   "cell_type": "markdown",
   "id": "d6e5075f",
   "metadata": {},
   "source": [
    "#### Train logs utils"
   ]
  },
  {
   "cell_type": "code",
   "execution_count": null,
   "id": "6f7cf46e",
   "metadata": {},
   "outputs": [],
   "source": [
    "def smoothed_value_to_str(smoothed_value):\n",
    "    \"\"\"\n",
    "    Converts the smoothed values to a dictionnary of each values\n",
    "\n",
    "    Args:\n",
    "        smoothed_value (smoothed_value): track a series of values and provide easy access to various values\n",
    "\n",
    "    Returns:\n",
    "        dict: dict corresponding to every type of smoothed_values\n",
    "    \"\"\"\n",
    "    d_values = {}\n",
    "    d_values['median'] = smoothed_value.median\n",
    "    d_values['avg'] = smoothed_value.avg\n",
    "    d_values['global_avg'] = smoothed_value.global_avg\n",
    "    d_values['max'] = smoothed_value.max\n",
    "    d_values['value'] = smoothed_value.value\n",
    "    return d_values\n",
    "\n",
    "\n",
    "def train_logs_to_lst(logs):\n",
    "    \"\"\"\n",
    "    Converts the train logs from MetricLogger to a list\n",
    "\n",
    "    Args:\n",
    "        logs (dict): dict containing every MetricLogger metrics and it's smoothed values\n",
    "\n",
    "    Returns:\n",
    "        list: every train logs matrics in an easier to use format which is a list\n",
    "    \"\"\"\n",
    "    lst = []\n",
    "    for i in range(len(logs)):\n",
    "        d = {}\n",
    "        for key in logs[i].meters.keys():\n",
    "            d[key] = smoothed_value_to_str(logs[i].meters[key])\n",
    "        lst.append(d)\n",
    "    return lst\n",
    "\n",
    "\n",
    "def train_logs_to_json(logs, ftime=time.strftime(\"%Y%m%d_%H%M%S\")):\n",
    "    \"\"\"\n",
    "    Puts the training logs into a json file with time dependent file name\n",
    "\n",
    "    Args:\n",
    "        logs (MetricLogger): dictionnary storing specific loss metrics with smoothed values for each\n",
    "        ftime (string, optional): prefix name to add to the json file name. Defaults to time.strftime(\"%Y%m%d_%H%M%S\").\n",
    "        \n",
    "    Returns:\n",
    "        None: nothing if the method is successful\n",
    "    \"\"\"\n",
    "    train_metric_logs = train_logs_to_lst(logs)\n",
    "    filename = ftime + \"_train_logs.json\"\n",
    "    \n",
    "    with open('saved_logs/' + filename, 'w', encoding='utf-8') as f:\n",
    "        json.dump(train_metric_logs, f, ensure_ascii=False, indent=4)\n",
    "    return None"
   ]
  },
  {
   "cell_type": "markdown",
   "id": "94953c2a",
   "metadata": {},
   "source": [
    "#### Valid logs utils"
   ]
  },
  {
   "cell_type": "code",
   "execution_count": null,
   "id": "1a61ac46",
   "metadata": {},
   "outputs": [],
   "source": [
    "def merge_dict(logs):\n",
    "    \"\"\"\n",
    "    Merge the dicts of a dict together. It's used to merge dictionnaries containing a single key and value from the\n",
    "    smoothed values together to form a bigger dictionnnary containing all the keys and the values corresponding to the\n",
    "    smoothed values. We then get a list of dictionnaries.\n",
    "\n",
    "    Args:\n",
    "        logs (dict): dictionnary smaller dictionnary containing only a single key and value\n",
    "\n",
    "    Returns:\n",
    "        list: list of dictionnaries containing smoothed values\n",
    "    \"\"\"\n",
    "    logs_better = []\n",
    "    try:\n",
    "        for i in range(len(logs)):\n",
    "            logs_better.append({**logs[i][0], **logs[i][1], **logs[i][2], **logs[i][3]})\n",
    "        return logs_better\n",
    "    except:\n",
    "        print(logs[0])\n",
    "        logs_better = logs\n",
    "        return logs_better\n",
    "    return None\n",
    "\n",
    "\n",
    "def valid_logs_to_lst(valid_logs):\n",
    "    \"\"\"\n",
    "    Converts the smoothed values inside the dictionnary to numpy float\n",
    "\n",
    "    Args:\n",
    "        valid_logs (list): validation logs from the training inside a dictionnary\n",
    "\n",
    "    Returns:\n",
    "        list: list of dictionnaries containing numpy float\n",
    "    \"\"\"\n",
    "    logs = merge_dict(valid_logs)\n",
    "    lst = []\n",
    "    for i in range(len(logs)):\n",
    "        d = {}\n",
    "        for key in logs[i].keys():\n",
    "            d[key] = logs[i][key].cpu().numpy().tolist()\n",
    "        lst.append(d)\n",
    "    return lst\n",
    "\n",
    "\n",
    "def cis_valid_logs_to_json(logs, ftime=time.strftime(\"%Y%m%d_%H%M%S\")):\n",
    "    \"\"\"\n",
    "    Puts the cis validation logs into a json file with time dependent file name\n",
    "\n",
    "    Args:\n",
    "        logs (list): list of dictionnary containing smoothed values\n",
    "        ftime (string, optional): prefix name to add to the json file name. Defaults to time.strftime(\"%Y%m%d_%H%M%S\").\n",
    "\n",
    "    Returns:\n",
    "        None: nothing if the method is successful\n",
    "    \"\"\"\n",
    "    valid_metric_logs = valid_logs_to_lst(logs)\n",
    "    filename = ftime + \"_cis_valid_logs.json\"\n",
    "    \n",
    "    with open('saved_logs/' + filename, 'w', encoding='utf-8') as f:\n",
    "        json.dump(valid_metric_logs, f, ensure_ascii=False, indent=4)\n",
    "    return None\n",
    "\n",
    "\n",
    "def trans_valid_logs_to_json(logs, ftime=time.strftime(\"%Y%m%d_%H%M%S\")):\n",
    "    \"\"\"\n",
    "    Puts the trans validation logs into a json file with time dependent file name\n",
    "\n",
    "    Args:\n",
    "        logs (list): list of dictionnary containing smoothed values\n",
    "        ftime (string, optional): prefix name to add to the json file name. Defaults to time.strftime(\"%Y%m%d_%H%M%S\").\n",
    "\n",
    "    Returns:\n",
    "        None: nothing if the method is successful\n",
    "    \"\"\"\n",
    "    valid_metric_logs = valid_logs_to_lst(logs)\n",
    "    filename = ftime + \"_trans_valid_logs.json\"\n",
    "    \n",
    "    with open('saved_logs/' + filename, 'w', encoding='utf-8') as f:\n",
    "        json.dump(valid_metric_logs, f, ensure_ascii=False, indent=4)\n",
    "    return None"
   ]
  },
  {
   "cell_type": "markdown",
   "id": "a17b22b9",
   "metadata": {},
   "source": [
    "# Plots for final report"
   ]
  },
  {
   "cell_type": "markdown",
   "id": "f0a7ce97",
   "metadata": {},
   "source": [
    "### Every results compiled manually from summaries"
   ]
  },
  {
   "cell_type": "code",
   "execution_count": null,
   "id": "6901b139",
   "metadata": {},
   "outputs": [],
   "source": [
    "# Model results for precision/recall\n",
    "\n",
    "# Models for epochs comparison [cis_precision, trans_precison, cis_recall, trans_recall]\n",
    "base_paper = [0.771, 0.702]\n",
    "\n",
    "base_25 = [0.730, 0.653, 0.524, 0.506]\n",
    "base_25_horiz_flip = [0.728, 0.647, 0.521, 0.503] # flip would maybe be better if we used a scheduler tuned for more precision\n",
    "\n",
    "roi_10 = [0.835, 0.761, 0.568, 0.555]\n",
    "roi_25 = [0.836, 0.763, 0.569, 0.556]\n",
    "roi_25_horiz_flip = [0.836, 0.767, 0.567, 0.557]\n",
    "\n",
    "rpn_10 = [0.861, 0.781, 0.590, 0.576]\n",
    "rpn_25 = [0.863, 0.781, 0.591, 0.575]\n",
    "rpn_50 = [0.865, 0.774, 0.592, 0.568]\n",
    "\n",
    "rpn_50_bug = [0.895, 0.794, 0.603, 0.577] # (bug) different scheduler\n",
    "rpn_75_bug = [0.897, 0.785, 0.594, 0.562] # (bug) different scheduler\n",
    "\n",
    "# Set a baseline for the results on early models\n",
    "baseline_1 = [base_25[1]]+[base_25[1]]+[base_25[3]]+[base_25[3]]\n",
    "\n",
    "# Models with domain adaptation comparison \n",
    "# method31 : column normalization\n",
    "# method32 : column and then row normalization\n",
    "\n",
    "base_25_method31_512 = [0.720, 0.642, 0.519, 0.498]\n",
    "\n",
    "rpn_10_method31_100 = [0.858, 0.774, 0.588, 0.563]\n",
    "rpn_10_method31_512 = [0.862, 0.784, 0.590, 0.571]\n",
    "\n",
    "rpn_10_method32_100 = [0.850, 0.763, 0.586, 0.583]\n",
    "rpn_10_method32_512 = [0.858, 0.773, 0.588, 0.585]\n",
    "\n",
    "rpn_50_method31_100 = [0.860, 0.774, 0.588, 0.568]\n",
    "rpn_50_method31_512 = [0.864, 0.783, 0.590, 0.569]\n",
    "\n",
    "# Models with data augmentation comparison\n",
    "\n",
    "base_paper = [0.771, 0.702]\n",
    "\n",
    "base_25 = [0.730, 0.653, 0.524, 0.506]\n",
    "\n",
    "roi_25_online_augment = [0.783, 0.670, 0.535, 0.523]\n",
    "roi_25_offline_augment = [0.843, 0.763, 0.570, 0.552]\n"
   ]
  },
  {
   "cell_type": "markdown",
   "id": "32af216a",
   "metadata": {},
   "source": [
    "## Early models (no methods)"
   ]
  },
  {
   "cell_type": "code",
   "execution_count": null,
   "id": "e45700bf",
   "metadata": {},
   "outputs": [],
   "source": [
    "results_1 = np.array([base_25, base_25_horiz_flip, roi_10, roi_25, roi_25_horiz_flip, rpn_10, rpn_25, rpn_50, \n",
    "                      rpn_50_bug, rpn_75_bug])\n",
    "results_1_index = [\"BASE 25 epochs\", \"BASE 25 epochs\\nhorizontal flip\", \"ROI 10 epochs\", \"ROI 25 epochs\", \n",
    "                 \"ROI 25 epochs\\nhorizontal flip\", \"RPN+ROI 10 epochs\", \"RPN+ROI 25 epochs\", \"RPN+ROI 50 epochs\", \n",
    "                 \"RPN+ROI 50 epochs\\nUncanny Scheduler\", \"RPN+ROI 75 epochs\\nUncanny Scheduler\"]\n",
    "results_1.shape[0] == len(results_1_index)"
   ]
  },
  {
   "cell_type": "markdown",
   "id": "3ad700b7",
   "metadata": {},
   "source": [
    "#### PLOT 1: Precison"
   ]
  },
  {
   "cell_type": "code",
   "execution_count": null,
   "id": "807d1fd0",
   "metadata": {},
   "outputs": [],
   "source": [
    "# Calculates the difference between the different results and the baseline\n",
    "diffs_cis_trans_1_prec = np.round((results_1[:, :1] - results_1[:, 1:2])*100, 3)\n",
    "\n",
    "# Values to change for plot\n",
    "results = results_1\n",
    "diffs_cis_trans = diffs_cis_trans_1_prec\n",
    "index = results_1_index\n",
    "cis_val = results[:, 0]*100\n",
    "trans_val = results[:, 1]*100\n",
    "n = len(cis_val)\n",
    "x = np.arange(n)\n",
    "base_cis = base_paper[0]\n",
    "base_trans = base_paper[1]\n",
    "min_x = np.ceil(np.min(trans_val) - 2)\n",
    "max_x = np.ceil(np.max(cis_val) + 2)\n",
    "\n",
    "# Make the plot\n",
    "\n",
    "fig, ax = plt.subplots(figsize=(16,8), dpi= 80)\n",
    "# Precision\n",
    "ax.scatter(x = cis_val, y = x, label=\"Cis\", color=\"tab:blue\")\n",
    "ax.scatter(x = trans_val, y = x, label='Trans', color=\"tab:red\")\n",
    "ax.hlines(y=index, xmin=min_x, xmax=max_x, color='gray', alpha=0.5, linewidth=1, linestyles='dashdot')\n",
    "ax.vlines(x=base_cis*100, ymin=-1, ymax=n-0.5, color='gray', alpha=0.8, linewidth=1)\n",
    "ax.vlines(x=base_trans*100, ymin=-1, ymax=n-0.5, color='gray', alpha=0.8, linewidth=1)\n",
    "ax.text(base_trans*100-1.2, results.shape[0]-0.7, 'Trans baseline\\n       70.2%', bbox=dict(facecolor='white', edgecolor='none'))\n",
    "ax.text(base_cis*100-1.1, results.shape[0]-0.7, 'Cis baseline\\n     77.1%', bbox=dict(facecolor='white', edgecolor='none'))\n",
    "\n",
    "for i in range(n):\n",
    "    plt.plot([trans_val[i], cis_val[i]], [i, i], color='tab:gray')\n",
    "    plt.text(trans_val[i] - 0.5 + diffs_cis_trans[i]/2, i-0.4, 'd=' + ''.join(map(str, diffs_cis_trans[i])) + '%')\n",
    "    plt.text(trans_val[i] - 0.5, i-0.4, str(round(trans_val[i], 3)) + '%')\n",
    "\n",
    "# ax.set_title('Precision of the paper baseline against our domain adaptation models\\n'+\n",
    "#              'ordered by number of epochs per model', fontdict={'size':18})\n",
    "ax.set_xlabel('Precision [%]   (d: diff between cis and trans)', fontdict={'size':14})\n",
    "ax.set_xticks(np.arange(min_x, max_x, 2.0))\n",
    "ax.legend()\n",
    "fig.savefig(\"saved_figures/main_report_figures/early_models_precision_figure.jpg\")"
   ]
  },
  {
   "cell_type": "markdown",
   "id": "1949308a",
   "metadata": {},
   "source": [
    "#### PLOT 2: Recall"
   ]
  },
  {
   "cell_type": "code",
   "execution_count": null,
   "id": "5076899e",
   "metadata": {},
   "outputs": [],
   "source": [
    "# Calculates the difference between the different results and the baseline\n",
    "diffs_cis_trans_1_recall = np.round((results_1[:, 2:3] - results_1[:, 3:4])*100, 3)\n",
    "\n",
    "# Values to change for plot\n",
    "results = results_1[1:, :]\n",
    "diffs_cis_trans = diffs_cis_trans_1_recall[1:, :]\n",
    "index = results_1_index[1:]\n",
    "cis_val = results[:, 2]*100\n",
    "trans_val = results[:, 3]*100\n",
    "n = len(cis_val)\n",
    "x = np.arange(n)\n",
    "base_cis = base_25[2]\n",
    "base_trans = base_25[3]\n",
    "min_x = np.ceil(np.min(trans_val) - 2)\n",
    "max_x = np.ceil(np.max(cis_val) + 2)\n",
    "\n",
    "# Make the plot\n",
    "\n",
    "fig, ax = plt.subplots(figsize=(16,8), dpi= 80)\n",
    "# Precision\n",
    "ax.scatter(x = cis_val, y = x, label=\"Cis\", color=\"tab:blue\")\n",
    "ax.scatter(x = trans_val, y = x, label='Trans', color=\"tab:red\")\n",
    "ax.hlines(y=index, xmin=min_x, xmax=max_x, color='gray', alpha=0.5, linewidth=1, linestyles='dashdot')\n",
    "ax.vlines(x=base_cis*100, ymin=-1, ymax=n-0.5, color='gray', alpha=0.8, linewidth=1)\n",
    "ax.vlines(x=base_trans*100, ymin=-1, ymax=n-0.5, color='gray', alpha=0.8, linewidth=1)\n",
    "ax.text(base_trans*100-0.6, results.shape[0]-0.7, 'Trans baseline\\n       50.6%', bbox=dict(facecolor='white', edgecolor='none'))\n",
    "ax.text(base_cis*100-0.5, results.shape[0]-0.7, 'Cis baseline\\n     52.4%', bbox=dict(facecolor='white', edgecolor='none'))\n",
    "\n",
    "for i in range(n):\n",
    "    plt.plot([trans_val[i], cis_val[i]], [i, i], color='tab:gray')\n",
    "    plt.text(trans_val[i] - 0.2 + diffs_cis_trans[i]/2, i-0.4, 'd=' + ''.join(map(str, diffs_cis_trans[i])) + '%')\n",
    "    plt.text(trans_val[i] - 0.3, i-0.4, str(round(trans_val[i], 3)) + '%')\n",
    "\n",
    "# ax.set_title('Recall of our baseline against our early test models\\n'+\n",
    "#              'ordered by trans precision (Baseline: 25 epochs, only predictors trained)', \n",
    "#              fontdict={'size':18})\n",
    "ax.set_xlabel('Recall [%]   (d: diff between cis and trans)', fontdict={'size':14})\n",
    "ax.set_xticks(np.arange(min_x, max_x, 1.0))\n",
    "ax.legend()\n",
    "fig.savefig(\"saved_figures/main_report_figures/early_models_recall_figure.jpg\")"
   ]
  },
  {
   "cell_type": "markdown",
   "id": "536ec4ea",
   "metadata": {},
   "source": [
    "## Domain Adaptation"
   ]
  },
  {
   "cell_type": "code",
   "execution_count": null,
   "id": "7d75cb91",
   "metadata": {},
   "outputs": [],
   "source": [
    "results_2 = np.array([rpn_10_method32_100, rpn_10_method32_512, rpn_10_method31_100, \n",
    "                      rpn_50_method31_100, rpn_50_method31_512, rpn_10_method31_512])\n",
    "results_2_index = [\"RPN 10 epochs\\n Domain Adapt\\nCol+Row Norm d=100\", \n",
    "                   \"RPN 10 epochs\\n Domain Adapt\\nCol+Row Norm d=512\", \"RPN 10 epochs\\n Domain Adapt\\nCol Norm d=100\", \n",
    "                   \"RPN 50 epochs\\n Domain Adapt\\nCol Norm d=100\", \"RPN 50 epochs\\n Domain Adapt\\nCol Norm d=512\", \n",
    "                   \"RPN 10 epochs\\n Domain Adapt\\nCol Norm d=512\"]\n",
    "results_2.shape[0] == len(results_2_index)"
   ]
  },
  {
   "cell_type": "markdown",
   "id": "754fd40d",
   "metadata": {},
   "source": [
    "#### PLOT 3: Precision"
   ]
  },
  {
   "cell_type": "code",
   "execution_count": null,
   "id": "9a4efb65",
   "metadata": {},
   "outputs": [],
   "source": [
    "# Calculates the difference between the different results and the baseline\n",
    "diffs_cis_trans_2 = np.round((results_2[:, :1] - results_2[:, 1:2])*100, 3)\n",
    "\n",
    "# Values to change for plot\n",
    "results = results_2\n",
    "diffs_cis_trans = diffs_cis_trans_2\n",
    "index = results_2_index\n",
    "cis_val = results[:, 0]*100\n",
    "trans_val = results[:, 1]*100\n",
    "n = len(cis_val)\n",
    "x = np.arange(n)\n",
    "base_cis = rpn_10[0]\n",
    "base_trans = rpn_10[1]\n",
    "min_x = np.ceil(np.min(trans_val) - 2)\n",
    "max_x = np.ceil(np.max(cis_val) + 2)\n",
    "\n",
    "# Make the plot\n",
    "\n",
    "fig, ax = plt.subplots(figsize=(16,8), dpi= 80)\n",
    "# Precision\n",
    "ax.scatter(x = cis_val, y = x, label=\"Cis\", color=\"tab:blue\")\n",
    "ax.scatter(x = trans_val, y = x, label='Trans', color=\"tab:red\")\n",
    "ax.hlines(y=index, xmin=min_x, xmax=max_x, color='gray', alpha=0.5, linewidth=1, linestyles='dashdot')\n",
    "ax.vlines(x=base_cis*100, ymin=-1, ymax=n-0.5, color='gray', alpha=0.8, linewidth=1)\n",
    "ax.vlines(x=base_trans*100, ymin=-1, ymax=n-0.5, color='gray', alpha=0.8, linewidth=1)\n",
    "ax.text(base_trans*100-0.6, results.shape[0]-0.7, 'Trans baseline\\n       78.1%', bbox=dict(facecolor='white', edgecolor='none'))\n",
    "ax.text(base_cis*100-0.5, results.shape[0]-0.7, 'Cis baseline\\n     86.1%', bbox=dict(facecolor='white', edgecolor='none'))\n",
    "\n",
    "for i in range(n):\n",
    "    plt.plot([trans_val[i], cis_val[i]], [i, i], color='tab:gray')\n",
    "    plt.text(trans_val[i] - 0.5 + diffs_cis_trans[i]/2, i-0.4, 'd=' + ''.join(map(str, diffs_cis_trans[i])) + '%')\n",
    "    plt.text(trans_val[i] - 0.3, i-0.4, str(round(trans_val[i], 3)) + '%')\n",
    "\n",
    "# ax.set_title('Precision of the paper baseline against our domain adaptation models\\n'+\n",
    "#              'ordered by trans precision'\n",
    "#              , fontdict={'size':18})\n",
    "ax.set_xlabel('Precision [%]   (d: diff between cis and trans)', fontdict={'size':14})\n",
    "ax.set_xticks(np.arange(min_x, max_x, 1.0))\n",
    "ax.legend()\n",
    "fig.savefig(\"saved_figures/main_report_figures/domain_adaptation_precision_figure.jpg\")"
   ]
  },
  {
   "cell_type": "markdown",
   "id": "7457d1e1",
   "metadata": {},
   "source": [
    "#### PLOT 4: Recall"
   ]
  },
  {
   "cell_type": "code",
   "execution_count": null,
   "id": "337e34dc",
   "metadata": {
    "scrolled": false
   },
   "outputs": [],
   "source": [
    "# Calculates the difference between the different results and the baseline\n",
    "diffs_cis_trans_2_recall = np.round((results_2[:, 2:3] - results_2[:, 3:4])*100, 3)\n",
    "\n",
    "# Values to change for plot\n",
    "results = results_2\n",
    "diffs_cis_trans = diffs_cis_trans_2_recall\n",
    "index = results_2_index\n",
    "cis_val = results[:, 2]*100\n",
    "trans_val = results[:, 3]*100\n",
    "n = len(cis_val)\n",
    "x = np.arange(n)\n",
    "base_cis = rpn_10[2]\n",
    "base_trans = rpn_10[3]\n",
    "min_x = np.ceil(np.min(trans_val) - 1)\n",
    "max_x = np.ceil(np.max(cis_val) + 1)\n",
    "\n",
    "# Make the plot\n",
    "\n",
    "fig, ax = plt.subplots(figsize=(16,8), dpi= 80)\n",
    "# Precision\n",
    "ax.scatter(x = cis_val, y = x, label=\"Cis\", color=\"tab:blue\")\n",
    "ax.scatter(x = trans_val, y = x, label='Trans', color=\"tab:red\")\n",
    "ax.hlines(y=index, xmin=min_x, xmax=max_x, color='gray', alpha=0.5, linewidth=1, linestyles='dashdot')\n",
    "ax.vlines(x=base_cis*100, ymin=-1, ymax=n-0.5, color='gray', alpha=0.8, linewidth=1)\n",
    "ax.vlines(x=base_trans*100, ymin=-1, ymax=n-0.5, color='gray', alpha=0.8, linewidth=1)\n",
    "ax.text(base_trans*100-0.180, results.shape[0]-0.7, 'Trans baseline\\n       57.6%', bbox=dict(facecolor='white', edgecolor='none'))\n",
    "ax.text(base_cis*100-0.15, results.shape[0]-0.7, 'Cis baseline\\n     59.0%', bbox=dict(facecolor='white', edgecolor='none'))\n",
    "\n",
    "for i in range(n):\n",
    "    plt.plot([trans_val[i], cis_val[i]], [i, i], color='tab:gray')\n",
    "    plt.text(trans_val[i] - 0.06 + diffs_cis_trans[i]/2, i-0.4, 'd=' + ''.join(map(str, diffs_cis_trans[i])) + '%')\n",
    "    plt.text(trans_val[i] - 0.1, i-0.4, str(round(trans_val[i], 3)) + '%')\n",
    "\n",
    "# ax.set_title('Recall of our RPN baseline model against our domain adaptation models\\n'+\n",
    "#              'ordered by trans precision (Baseline: 10 epochs, RPN+ROI trained)', \n",
    "#              fontdict={'size':18})\n",
    "ax.set_xlabel('Recall [%]   (d: diff between cis and trans)', fontdict={'size':14})\n",
    "ax.set_xticks(np.arange(min_x, max_x, 0.5))\n",
    "ax.legend()\n",
    "fig.savefig(\"saved_figures/main_report_figures/domain_adaptation_recall_figure.jpg\")"
   ]
  },
  {
   "cell_type": "markdown",
   "id": "ec8bcaa6",
   "metadata": {},
   "source": [
    "## Data Augmentation"
   ]
  },
  {
   "cell_type": "code",
   "execution_count": null,
   "id": "36094a5a",
   "metadata": {},
   "outputs": [],
   "source": [
    "results_3 = np.array([roi_25_online_augment, roi_25_offline_augment])\n",
    "results_3_index = np.array([\"ROI 25 epochs\\nOnline Augmentation\", \"ROI 25 epochs\\nOffline Augmentation\"])\n",
    "results_3.shape[0] == len(results_3_index)"
   ]
  },
  {
   "cell_type": "markdown",
   "id": "8dad4c53",
   "metadata": {},
   "source": [
    "#### PLOT 5: Precision"
   ]
  },
  {
   "cell_type": "code",
   "execution_count": null,
   "id": "313af129",
   "metadata": {},
   "outputs": [],
   "source": [
    "# Calculates the difference between the different results and the baseline\n",
    "diffs_cis_trans_3 = np.round((results_3[:, :1] - results_3[:, 1:2])*100, 3)\n",
    "\n",
    "# Values to change for plot\n",
    "results = results_3\n",
    "diffs_cis_trans = diffs_cis_trans_3\n",
    "index = results_3_index\n",
    "cis_val = results[:, 0]*100\n",
    "trans_val = results[:, 1]*100\n",
    "n = len(cis_val)\n",
    "x = np.arange(n)\n",
    "base_cis = roi_25[0]\n",
    "base_trans = roi_25[1]\n",
    "min_x = np.ceil(np.min(trans_val) - 2)\n",
    "max_x = np.ceil(np.max(cis_val) + 2)\n",
    "\n",
    "# Make the plot\n",
    "fig, ax = plt.subplots(figsize=(16,6), dpi= 80)\n",
    "\n",
    "ax.scatter(x = cis_val, y = x, label=\"Cis\", color=\"tab:blue\")\n",
    "ax.scatter(x = trans_val, y = x, label='Trans', color=\"tab:red\")\n",
    "ax.hlines(y=index, xmin=min_x, xmax=max_x, color='gray', alpha=0.5, linewidth=1, linestyles='dashdot')\n",
    "ax.vlines(x=base_cis*100, ymin=-1, ymax=n-0.5, color='gray', alpha=0.8, linewidth=1)\n",
    "ax.vlines(x=base_trans*100, ymin=-1, ymax=n-0.5, color='gray', alpha=0.8, linewidth=1)\n",
    "ax.text(base_trans*100-1, results.shape[0]-0.7, 'Trans baseline\\n       76.3%', bbox=dict(facecolor='white', edgecolor='none'))\n",
    "ax.text(base_cis*100-0.9, results.shape[0]-0.7, 'Cis baseline\\n     83.6%', bbox=dict(facecolor='white', edgecolor='none'))\n",
    "\n",
    "for i in range(n):\n",
    "    plt.plot([trans_val[i], cis_val[i]], [i, i], color='tab:gray')\n",
    "    plt.text(trans_val[i] - 0.6 + diffs_cis_trans[i]/2, i-0.2, 'd=' + ''.join(map(str, diffs_cis_trans[i])) + '%')\n",
    "    plt.text(trans_val[i] - 0.5, i-0.2, str(round(trans_val[i], 3)) + '%')\n",
    "\n",
    "# ax.set_title('Precision of the paper baseline against our data augmentation models\\n'+\n",
    "#              'ordered by trans precision'\n",
    "#              , fontdict={'size':18})\n",
    "ax.set_xlabel('Precision [%]   (d: diff between cis and trans)', fontdict={'size':14})\n",
    "ax.set_xticks(np.arange(min_x, max_x, 2.0))\n",
    "ax.legend()\n",
    "fig.savefig(\"saved_figures/main_report_figures/data_augmentation_precision_figure.jpg\")"
   ]
  },
  {
   "cell_type": "markdown",
   "id": "41c8f065",
   "metadata": {},
   "source": [
    "#### PLOT 6: Recall"
   ]
  },
  {
   "cell_type": "code",
   "execution_count": null,
   "id": "98a8701e",
   "metadata": {
    "scrolled": false
   },
   "outputs": [],
   "source": [
    "# Calculates the difference between the different results and the baseline\n",
    "diffs_cis_trans_3_recall = np.round((results_3[:, 2:3] - results_3[:, 3:4])*100, 3)\n",
    "\n",
    "# Values to change for plot\n",
    "results = results_3\n",
    "diffs_cis_trans = diffs_cis_trans_3_recall\n",
    "index = results_3_index\n",
    "cis_val = results[:, 2]*100\n",
    "trans_val = results[:, 3]*100\n",
    "n = len(cis_val)\n",
    "x = np.arange(n)\n",
    "base_cis = roi_25[2]\n",
    "base_trans = roi_25[3]\n",
    "min_x = np.ceil(np.min(trans_val) - 1)\n",
    "max_x = np.ceil(np.max(cis_val) + 1)\n",
    "\n",
    "# Make the plot\n",
    "\n",
    "fig, ax = plt.subplots(figsize=(16,6), dpi= 80)\n",
    "# Precision\n",
    "ax.scatter(x = cis_val, y = x, label=\"Cis\", color=\"tab:blue\")\n",
    "ax.scatter(x = trans_val, y = x, label='Trans', color=\"tab:red\")\n",
    "ax.hlines(y=index, xmin=min_x, xmax=max_x, color='gray', alpha=0.5, linewidth=1, linestyles='dashdot')\n",
    "ax.vlines(x=base_cis*100, ymin=-1, ymax=n-0.5, color='gray', alpha=0.8, linewidth=1)\n",
    "ax.vlines(x=base_trans*100, ymin=-1, ymax=n-0.5, color='gray', alpha=0.8, linewidth=1)\n",
    "ax.text(base_trans*100-0.3, results.shape[0]-0.7, 'Trans baseline\\n       55.6%', bbox=dict(facecolor='white', edgecolor='none'))\n",
    "ax.text(base_cis*100-0.2, results.shape[0]-0.7, 'Cis baseline\\n     56.9%', bbox=dict(facecolor='white', edgecolor='none'))\n",
    "\n",
    "for i in range(n):\n",
    "    plt.plot([trans_val[i], cis_val[i]], [i, i], color='tab:gray')\n",
    "    plt.text(trans_val[i] - 0.1 + diffs_cis_trans[i]/2, i-0.2, 'd=' + ''.join(map(str, diffs_cis_trans[i])) + '%')\n",
    "    plt.text(trans_val[i] - 0.2, i-0.2, str(round(trans_val[i], 3)) + '%')\n",
    "\n",
    "# ax.set_title('Recall of our RPN baseline model against our data augmentation models\\n'+\n",
    "#              'ordered by trans precision (Baseline: 25 epochs, ROI trained)', \n",
    "#              fontdict={'size':18})\n",
    "ax.set_xlabel('Recall [%]   (d: diff between cis and trans)', fontdict={'size':14})\n",
    "ax.set_xticks(np.arange(min_x, max_x, 0.5))\n",
    "ax.legend()\n",
    "fig.savefig(\"saved_figures/main_report_figures/data_augmentation_recall_figure.jpg\")"
   ]
  },
  {
   "cell_type": "markdown",
   "id": "68c35acf",
   "metadata": {},
   "source": [
    " "
   ]
  },
  {
   "cell_type": "markdown",
   "id": "9bc52b74",
   "metadata": {},
   "source": [
    "# Looking at the training loss for 75 epochs"
   ]
  },
  {
   "cell_type": "markdown",
   "id": "15decee1",
   "metadata": {},
   "source": [
    "### Load logs right here"
   ]
  },
  {
   "cell_type": "code",
   "execution_count": null,
   "id": "bb72e3ca",
   "metadata": {},
   "outputs": [],
   "source": [
    "# Imported logs - format: name = \"NAME_OR_TIME\"      Exemple file format: \"NAME_OR_TIME_train_logs\"\n",
    "\n",
    "file_time_or_nickname = '25_rpn_roi_1' # VALUE TO CHANGE TO THE IMPORTED FILES\n",
    "\n",
    "# Import training logs\n",
    "with open('saved_logs/' + file_time_or_nickname + '_train_logs.json', \"r\") as f:\n",
    "    train_logs = json.load(f)\n",
    "\n",
    "# Import cis valid logs\n",
    "with open('saved_logs/' + file_time_or_nickname + '_cis_valid_logs.json', \"r\") as f:\n",
    "    cis_valid_logs = json.load(f)\n",
    "\n",
    "# Import trans valid logs\n",
    "with open('saved_logs/' + file_time_or_nickname + '_trans_valid_logs.json', \"r\") as f:\n",
    "    trans_valid_logs = json.load(f)"
   ]
  },
  {
   "cell_type": "markdown",
   "id": "a0d3b9f4",
   "metadata": {},
   "source": [
    "### Combine with some other logs right here"
   ]
  },
  {
   "cell_type": "code",
   "execution_count": null,
   "id": "d701d19d",
   "metadata": {},
   "outputs": [],
   "source": [
    "# Imported logs - format: name = \"NAME_OR_TIME\"      Exemple file format: \"NAME_OR_TIME_train_logs\"\n",
    "\n",
    "file_time_or_nickname = '50_rpn_roi_1' # VALUE TO CHANGE TO THE IMPORTED FILES\n",
    "\n",
    "# Import training logs\n",
    "with open('saved_logs/' + file_time_or_nickname + '_train_logs.json', \"r\") as f:\n",
    "    train_logs = train_logs + json.load(f)\n",
    "\n",
    "# Import cis valid logs\n",
    "with open('saved_logs/' + file_time_or_nickname + '_cis_valid_logs.json', \"r\") as f:\n",
    "    cis_valid_logs = cis_valid_logs + json.load(f)\n",
    "\n",
    "# Import trans valid logs\n",
    "with open('saved_logs/' + file_time_or_nickname + '_trans_valid_logs.json', \"r\") as f:\n",
    "    trans_valid_logs = trans_valid_logs + json.load(f)"
   ]
  },
  {
   "cell_type": "code",
   "execution_count": null,
   "id": "8c3400ef",
   "metadata": {},
   "outputs": [],
   "source": [
    "# Imported logs - format: name = \"NAME_OR_TIME\"      Exemple file format: \"NAME_OR_TIME_train_logs\"\n",
    "\n",
    "file_time_or_nickname = '75_rpn_roi_1' # VALUE TO CHANGE TO THE IMPORTED FILES\n",
    "\n",
    "# Import training logs\n",
    "with open('saved_logs/' + file_time_or_nickname + '_train_logs.json', \"r\") as f:\n",
    "    train_logs = train_logs + json.load(f)\n",
    "\n",
    "# Import cis valid logs\n",
    "with open('saved_logs/' + file_time_or_nickname + '_cis_valid_logs.json', \"r\") as f:\n",
    "    cis_valid_logs = cis_valid_logs + json.load(f)\n",
    "\n",
    "# Import trans valid logs\n",
    "with open('saved_logs/' + file_time_or_nickname + '_trans_valid_logs.json', \"r\") as f:\n",
    "    trans_valid_logs = trans_valid_logs + json.load(f)"
   ]
  },
  {
   "cell_type": "markdown",
   "id": "cd7b5bca",
   "metadata": {},
   "source": [
    "## Results"
   ]
  },
  {
   "cell_type": "code",
   "execution_count": null,
   "id": "3ea39352",
   "metadata": {},
   "outputs": [],
   "source": [
    "# To confirm that the data is loaded properly\n",
    "n = len(train_logs)\n",
    "print(n)"
   ]
  },
  {
   "cell_type": "code",
   "execution_count": null,
   "id": "b6be3a23",
   "metadata": {},
   "outputs": [],
   "source": [
    "train_logs[i]['lr']"
   ]
  },
  {
   "cell_type": "code",
   "execution_count": null,
   "id": "20f58094",
   "metadata": {},
   "outputs": [],
   "source": [
    "# Train loss to print (here we use global_avg but we can use: value, median, avg, max or global_avg)\n",
    "results_train_loss = []\n",
    "\n",
    "for i in range(n):\n",
    "    results_train_loss.append(train_logs[i]['lr']['value'])\n",
    "    \n",
    "# Cis valid loss to print\n",
    "results_cis_valid_loss = [] # cis\n",
    "\n",
    "for i in range(n):\n",
    "    loss_interm = 0\n",
    "    for j in range(167):\n",
    "        loss_interm += cis_valid_logs[(167 * i) + j]['loss_rpn_box_reg']\n",
    "    results_cis_valid_loss.append(loss_interm)\n",
    "\n",
    "# Trans valid loss to print\n",
    "results_trans_valid_loss = [] # trans\n",
    "\n",
    "for i in range(n):\n",
    "    loss_interm = 0\n",
    "    for j in range(154):\n",
    "        loss_interm += trans_valid_logs[(154 * i) + j]['loss_rpn_box_reg']\n",
    "    results_trans_valid_loss.append(loss_interm)"
   ]
  },
  {
   "cell_type": "markdown",
   "id": "32bd1f3b",
   "metadata": {},
   "source": [
    "### Plots"
   ]
  },
  {
   "cell_type": "code",
   "execution_count": null,
   "id": "4351fca6",
   "metadata": {},
   "outputs": [],
   "source": [
    "# Printing the different plots\n",
    "fig, ax = plt.subplots(1,2, figsize=(20,6))\n",
    "\n",
    "ax[0].plot(np.arange(1, n + 1), results_train_loss, label='train')\n",
    "ax[0].set_title('Train loss per epoch')\n",
    "ax[0].set_ylabel('learning rate')\n",
    "ax[0].set_xlabel('epoch')\n",
    "\n",
    "plt.title('Train loss per epoch')\n",
    "ax[1].plot(np.arange(1, n + 1), results_cis_valid_loss, label='cis')\n",
    "ax[1].plot(np.arange(1, n + 1), results_trans_valid_loss, label='trans')\n",
    "ax[1].set_title('Valid loss per epoch')\n",
    "ax[1].set_ylabel('loss_rpn_box_reg')\n",
    "ax[1].set_xlabel('epoch')\n",
    "ax[1].legend()"
   ]
  },
  {
   "cell_type": "markdown",
   "id": "c3b80687",
   "metadata": {},
   "source": [
    "#### Save the figure "
   ]
  },
  {
   "cell_type": "code",
   "execution_count": null,
   "id": "f60560b5",
   "metadata": {},
   "outputs": [],
   "source": [
    "fig.savefig(\"saved_figures/main_report_figures/full_75_rpn_roi_1_figure.jpg\")"
   ]
  },
  {
   "cell_type": "markdown",
   "id": "a094c5c9",
   "metadata": {},
   "source": [
    "### Learning rate"
   ]
  },
  {
   "cell_type": "code",
   "execution_count": null,
   "id": "16e6ed69",
   "metadata": {},
   "outputs": [],
   "source": [
    "results_train_lr = []\n",
    "\n",
    "for i in range(n):\n",
    "    results_train_lr.append(train_logs[i]['lr']['value'])"
   ]
  },
  {
   "cell_type": "code",
   "execution_count": null,
   "id": "75a65e88",
   "metadata": {},
   "outputs": [],
   "source": [
    "fig, ax = plt.subplots(figsize=(8,4))\n",
    "\n",
    "ax.plot(np.arange(1, n + 1), results_train_loss, label='train')\n",
    "ax.set_ylabel('learning rate')\n",
    "ax.set_xlabel('epoch')"
   ]
  },
  {
   "cell_type": "code",
   "execution_count": null,
   "id": "a0d47fca",
   "metadata": {},
   "outputs": [],
   "source": [
    "fig.savefig(\"saved_figures/main_report_figures/full_75_rpn_roi_1_figure_lr.jpg\")"
   ]
  },
  {
   "cell_type": "markdown",
   "id": "40a4c2ac",
   "metadata": {},
   "source": [
    "# Unused stuff to keep in case (undocumented)"
   ]
  },
  {
   "cell_type": "markdown",
   "id": "4dbf9252",
   "metadata": {},
   "source": [
    "## Looking at/Loading the logs in convenient ways\n",
    "Here we define the variables \"train_logs\", \"cis_valid_logs\" and \"trans_valid_logs\" that will be used in the methods for the results and the visualisations.\n",
    "\n",
    "We can import logs or use the ones from training."
   ]
  },
  {
   "cell_type": "markdown",
   "id": "22c23c3d",
   "metadata": {},
   "source": [
    "# Training"
   ]
  },
  {
   "cell_type": "code",
   "execution_count": null,
   "id": "2996d024",
   "metadata": {},
   "outputs": [],
   "source": [
    "plt.bar"
   ]
  },
  {
   "cell_type": "code",
   "execution_count": null,
   "id": "cddb863b",
   "metadata": {},
   "outputs": [],
   "source": [
    "plt.bar(np.arange(1, 3 + 1), cis_results, label='xd')\n",
    "plt.bar(np.arange(1, 3 + 1), trans_results)\n",
    "plt.title('Precision over number of epochs')\n",
    "plt.show"
   ]
  },
  {
   "cell_type": "code",
   "execution_count": null,
   "id": "db89b6e0",
   "metadata": {},
   "outputs": [],
   "source": [
    "# Imported logs - format: name = \"NAME_OR_TIME\"      Exemple file format: \"NAME_OR_TIME_train_logs\"\n",
    "\n",
    "file_time_or_nickname = '25_base' # VALUE TO CHANGE TO THE IMPORTED FILES\n",
    "\n",
    "# Import training logs\n",
    "with open('saved_logs/' + file_time_or_nickname + '_train_logs.json', \"r\") as f:\n",
    "    train_base = json.load(f)\n",
    "\n",
    "# Import cis valid logs\n",
    "with open('saved_logs/' + file_time_or_nickname + '_cis_valid_logs.json', \"r\") as f:\n",
    "    cis_base = json.load(f)\n",
    "\n",
    "# Import trans valid logsw\n",
    "with open('saved_logs/' + file_time_or_nickname + '_trans_valid_logs.json', \"r\") as f:\n",
    "    trans_base = json.load(f)"
   ]
  },
  {
   "cell_type": "code",
   "execution_count": null,
   "id": "a66adc41",
   "metadata": {},
   "outputs": [],
   "source": [
    "# Imported logs - format: name = \"NAME_OR_TIME\"      Exemple file format: \"NAME_OR_TIME_train_logs\"\n",
    "\n",
    "file_time_or_nickname = '25_roi_4_vision_version_diff' # VALUE TO CHANGE TO THE IMPORTED FILES\n",
    "\n",
    "# Import training logs\n",
    "with open('saved_logs/' + file_time_or_nickname + '_train_logs.json', \"r\") as f:\n",
    "    train_roi = json.load(f)\n",
    "\n",
    "# Import cis valid logs\n",
    "with open('saved_logs/' + file_time_or_nickname + '_cis_valid_logs.json', \"r\") as f:\n",
    "    cis_roi = json.load(f)\n",
    "\n",
    "# Import trans valid logs\n",
    "with open('saved_logs/' + file_time_or_nickname + '_trans_valid_logs.json', \"r\") as f:\n",
    "    trans_roi = json.load(f)"
   ]
  },
  {
   "cell_type": "code",
   "execution_count": null,
   "id": "d2d4ce57",
   "metadata": {},
   "outputs": [],
   "source": [
    "# Imported logs - format: name = \"NAME_OR_TIME\"      Exemple file format: \"NAME_OR_TIME_train_logs\"\n",
    "\n",
    "file_time_or_nickname = '25_rpn_roi_1' # VALUE TO CHANGE TO THE IMPORTED FILES\n",
    "\n",
    "# Import training logs\n",
    "with open('saved_logs/' + file_time_or_nickname + '_train_logs.json', \"r\") as f:\n",
    "    train_rpn_roi = json.load(f)\n",
    "\n",
    "# Import cis valid logs\n",
    "with open('saved_logs/' + file_time_or_nickname + '_cis_valid_logs.json', \"r\") as f:\n",
    "    cis_rpn_roi = json.load(f)\n",
    "\n",
    "# Import trans valid logs\n",
    "with open('saved_logs/' + file_time_or_nickname + '_trans_valid_logs.json', \"r\") as f:\n",
    "    trans_rpn_roi = json.load(f)"
   ]
  },
  {
   "cell_type": "code",
   "execution_count": null,
   "id": "85d7c54a",
   "metadata": {},
   "outputs": [],
   "source": [
    "num_epochs = len(train_base)"
   ]
  },
  {
   "cell_type": "code",
   "execution_count": null,
   "id": "01a60d2f",
   "metadata": {},
   "outputs": [],
   "source": [
    "# base\n",
    "results_train_loss_base = []\n",
    "\n",
    "for i in range(num_epochs):\n",
    "    results_train_loss_base.append(train_base[i]['loss_box_reg']['global_avg'])\n",
    "    \n",
    "# Cis valid loss to print\n",
    "results_cis_valid_loss_base = [] # cis\n",
    "\n",
    "for i in range(num_epochs):\n",
    "    loss_interm = 0\n",
    "    for j in range(167):\n",
    "        loss_interm += cis_base[(167 * i) + j]['loss_box_reg']\n",
    "    results_cis_valid_loss_base.append(loss_interm)\n",
    "\n",
    "# Trans valid loss to print\n",
    "results_trans_valid_loss_base = [] # trans\n",
    "\n",
    "for i in range(num_epochs):\n",
    "    loss_interm = 0\n",
    "    for j in range(154):\n",
    "        loss_interm += trans_base[(154 * i) + j]['loss_box_reg']\n",
    "    results_trans_valid_loss_base.append(loss_interm)"
   ]
  },
  {
   "cell_type": "code",
   "execution_count": null,
   "id": "4ef93ea3",
   "metadata": {},
   "outputs": [],
   "source": [
    "# roi\n",
    "results_train_loss_roi = []\n",
    "\n",
    "for i in range(num_epochs):\n",
    "    results_train_loss_roi.append(train_roi[i]['loss_box_reg']['global_avg'])\n",
    "    \n",
    "# Cis valid loss to print\n",
    "results_cis_valid_loss_roi = [] # cis\n",
    "\n",
    "for i in range(num_epochs):\n",
    "    loss_interm = 0\n",
    "    for j in range(167):\n",
    "        loss_interm += cis_roi[(167 * i) + j]['loss_box_reg']\n",
    "    results_cis_valid_loss_roi.append(loss_interm)\n",
    "\n",
    "# Trans valid loss to print\n",
    "results_trans_valid_loss_roi = [] # trans\n",
    "\n",
    "for i in range(num_epochs):\n",
    "    loss_interm = 0\n",
    "    for j in range(154):\n",
    "        loss_interm += trans_roi[(154 * i) + j]['loss_box_reg']\n",
    "    results_trans_valid_loss_roi.append(loss_interm)"
   ]
  },
  {
   "cell_type": "code",
   "execution_count": null,
   "id": "8df68b78",
   "metadata": {},
   "outputs": [],
   "source": [
    "# rpn+roi\n",
    "results_train_loss_rpn_roi = []\n",
    "\n",
    "for i in range(num_epochs):\n",
    "    results_train_loss_rpn_roi.append(train_rpn_roi[i]['loss_box_reg']['global_avg'])\n",
    "    \n",
    "# Cis valid loss to print\n",
    "results_cis_valid_loss_rpn_roi = [] # cis\n",
    "\n",
    "for i in range(num_epochs):\n",
    "    loss_interm = 0\n",
    "    for j in range(167):\n",
    "        loss_interm += cis_rpn_roi[(167 * i) + j]['loss_box_reg']\n",
    "    results_cis_valid_loss_rpn_roi.append(loss_interm)\n",
    "\n",
    "# Trans valid loss to print\n",
    "results_trans_valid_loss_rpn_roi = [] # trans\n",
    "\n",
    "for i in range(num_epochs):\n",
    "    loss_interm = 0\n",
    "    for j in range(154):\n",
    "        loss_interm += trans_rpn_roi[(154 * i) + j]['loss_box_reg']\n",
    "    results_trans_valid_loss_rpn_roi.append(loss_interm)"
   ]
  },
  {
   "cell_type": "code",
   "execution_count": null,
   "id": "b8bd169f",
   "metadata": {
    "scrolled": true
   },
   "outputs": [],
   "source": [
    "# Printing the different plots\n",
    "fig, ax = plt.subplots(1,2, figsize=(14,4))\n",
    "\n",
    "ax[0].plot(np.arange(1, num_epochs + 1), results_train_loss_base, label='base')\n",
    "ax[0].plot(np.arange(1, num_epochs + 1), results_train_loss_roi, label='roi')\n",
    "ax[0].plot(np.arange(1, num_epochs + 1), results_train_loss_rpn_roi, label='rpn+roi')\n",
    "ax[0].set_title('Train loss per epoch')\n",
    "ax[0].set_ylabel('loss_box_reg')\n",
    "ax[0].set_xlabel('epoch')\n",
    "ax[0].legend()\n",
    "\n",
    "plt.title('Train loss per epoch')\n",
    "ax[1].plot(np.arange(1, num_epochs + 1), results_cis_valid_loss_base, label='cis', color='tab:blue')\n",
    "ax[1].plot(np.arange(1, num_epochs + 1), results_trans_valid_loss_base, label='trans', color='tab:red')\n",
    "ax[1].plot(np.arange(1, num_epochs + 1), results_cis_valid_loss_roi, color='tab:blue')\n",
    "ax[1].plot(np.arange(1, num_epochs + 1), results_trans_valid_loss_roi, color='tab:red')\n",
    "ax[1].plot(np.arange(1, num_epochs + 1), results_cis_valid_loss_rpn_roi, color='tab:blue')\n",
    "ax[1].plot(np.arange(1, num_epochs + 1), results_trans_valid_loss_rpn_roi, color='tab:red')\n",
    "ax[1].set_title('Valid loss per epoch')\n",
    "ax[1].set_ylabel('loss_box_reg')\n",
    "ax[1].set_xlabel('epoch')\n",
    "ax[1].legend()\n",
    "\n",
    "ax[0].spines['top'].set_visible(False)\n",
    "ax[0].spines['right'].set_visible(False)\n",
    "ax[1].spines['top'].set_visible(False)\n",
    "ax[1].spines['right'].set_visible(False)"
   ]
  },
  {
   "cell_type": "code",
   "execution_count": null,
   "id": "bb995807",
   "metadata": {},
   "outputs": [],
   "source": [
    "fig.savefig(\"figures/baseline_vs_roi_vs_rpn_roi_training.png\", transparent=True)"
   ]
  },
  {
   "cell_type": "code",
   "execution_count": null,
   "id": "709c2541",
   "metadata": {},
   "outputs": [],
   "source": [
    "# Cis valid loss to print\n",
    "results_cis_valid_loss_base = [] # cis\n",
    "\n",
    "for i in range(num_epochs):\n",
    "    loss_interm = 0\n",
    "    for j in range(167):\n",
    "        loss_interm += cis_base[(167 * i) + j]['loss_rpn_box_reg']\n",
    "    results_cis_valid_loss_base.append(loss_interm)\n",
    "\n",
    "# Trans valid loss to print\n",
    "results_trans_valid_loss_base = [] # trans\n",
    "\n",
    "for i in range(num_epochs):\n",
    "    loss_interm = 0\n",
    "    for j in range(154):\n",
    "        loss_interm += trans_base[(154 * i) + j]['loss_rpn_box_reg']\n",
    "    results_trans_valid_loss_base.append(loss_interm)"
   ]
  },
  {
   "cell_type": "code",
   "execution_count": null,
   "id": "19dfa177",
   "metadata": {},
   "outputs": [],
   "source": [
    "# Cis valid loss to print\n",
    "results_cis_valid_loss_roi = [] # cis\n",
    "\n",
    "for i in range(num_epochs):\n",
    "    loss_interm = 0\n",
    "    for j in range(167):\n",
    "        loss_interm += cis_roi[(167 * i) + j]['loss_rpn_box_reg']\n",
    "    results_cis_valid_loss_roi.append(loss_interm)\n",
    "\n",
    "# Trans valid loss to print\n",
    "results_trans_valid_loss_roi = [] # trans\n",
    "\n",
    "for i in range(num_epochs):\n",
    "    loss_interm = 0\n",
    "    for j in range(154):\n",
    "        loss_interm += trans_roi[(154 * i) + j]['loss_rpn_box_reg']\n",
    "    results_trans_valid_loss_roi.append(loss_interm)"
   ]
  },
  {
   "cell_type": "code",
   "execution_count": null,
   "id": "c2ba42ff",
   "metadata": {},
   "outputs": [],
   "source": [
    "# Cis valid loss to print\n",
    "results_cis_valid_loss_rpn_roi = [] # cis\n",
    "\n",
    "for i in range(num_epochs):\n",
    "    loss_interm = 0\n",
    "    for j in range(167):\n",
    "        loss_interm += cis_rpn_roi[(167 * i) + j]['loss_rpn_box_reg']\n",
    "    results_cis_valid_loss_rpn_roi.append(loss_interm)\n",
    "\n",
    "# Trans valid loss to print\n",
    "results_trans_valid_loss_rpn_roi = [] # trans\n",
    "\n",
    "for i in range(num_epochs):\n",
    "    loss_interm = 0\n",
    "    for j in range(154):\n",
    "        loss_interm += trans_rpn_roi[(154 * i) + j]['loss_rpn_box_reg']\n",
    "    results_trans_valid_loss_rpn_roi.append(loss_interm)"
   ]
  },
  {
   "cell_type": "code",
   "execution_count": null,
   "id": "3e3531f7",
   "metadata": {},
   "outputs": [],
   "source": [
    "fig, ax = plt.subplots(1,1, figsize=(7,4))\n",
    "\n",
    "plt.title('Train loss per epoch')\n",
    "ax.plot(np.arange(1, num_epochs + 1), results_cis_valid_loss_base, label='cis', color='tab:blue')\n",
    "ax.plot(np.arange(1, num_epochs + 1), results_trans_valid_loss_base, label='trans', color='tab:red')\n",
    "ax.plot(np.arange(1, num_epochs + 1), results_cis_valid_loss_roi, color='tab:blue')\n",
    "ax.plot(np.arange(1, num_epochs + 1), results_trans_valid_loss_roi, color='tab:red')\n",
    "ax.plot(np.arange(1, num_epochs + 1), results_cis_valid_loss_rpn_roi, color='tab:blue')\n",
    "ax.plot(np.arange(1, num_epochs + 1), results_trans_valid_loss_rpn_roi, color='tab:red')\n",
    "ax.set_title('Valid loss per epoch')\n",
    "ax.set_ylabel('loss_rpn_box_reg')\n",
    "ax.set_xlabel('epoch')\n",
    "ax.legend()\n",
    "\n",
    "ax.spines['top'].set_visible(False)\n",
    "ax.spines['right'].set_visible(False)"
   ]
  },
  {
   "cell_type": "code",
   "execution_count": null,
   "id": "6b0ab632",
   "metadata": {},
   "outputs": [],
   "source": [
    "fig.savefig(\"saved_figures/baseline_vs_roi_vs_rpn_roi_training_rpn.png\", transparent=True)"
   ]
  },
  {
   "cell_type": "markdown",
   "id": "5c6deec2",
   "metadata": {},
   "source": [
    "## Improvment [%] plot (not used)"
   ]
  },
  {
   "cell_type": "code",
   "execution_count": null,
   "id": "07d92d17",
   "metadata": {},
   "outputs": [],
   "source": [
    "# Calculates the difference between the different results and the baseline\n",
    "diffs_1 = np.array([round(results_1[j][i] - baseline_1[i], 4)*100 for j in range(len(results_1)) \n",
    "                                                                  for i in range(len(baseline_1))\n",
    "                 ]).reshape(len(results_1), 4)\n",
    "diffs_cis_trans_1 = np.round(diffs_1[:, :1] - diffs_1[:, 1:2], 3)"
   ]
  },
  {
   "cell_type": "code",
   "execution_count": null,
   "id": "6ec3da81",
   "metadata": {},
   "outputs": [],
   "source": [
    "# Define the cis accuracy and trans accuracy x axis data\n",
    "cis_acc_diff = diffs_1[:,0]\n",
    "trans_acc_diff = diffs_1[:,1]\n",
    "x = np.arange(len(cis_acc))"
   ]
  },
  {
   "cell_type": "code",
   "execution_count": null,
   "id": "bfa8edd2",
   "metadata": {},
   "outputs": [],
   "source": [
    "# Make the plot of improvments\n",
    "fig, ax = plt.subplots(figsize=(16,8), dpi= 80)\n",
    "# Precision\n",
    "ax.scatter(x = cis_acc_diff, y = x, label=\"Cis\", color=\"tab:blue\")\n",
    "ax.scatter(x = trans_acc_diff, y = x, label='Trans', color=\"tab:red\")\n",
    "ax.hlines(y=results_index, xmin=-2, xmax=27, color='gray', alpha=0.5, linewidth=1, linestyles='dashdot')\n",
    "ax.vlines(x=0, ymin=-1, ymax=diffs_1.shape[0], color='gray', alpha=0.8, linewidth=1)\n",
    "ax.text(-0.8, 9.1, 'Baseline')\n",
    "\n",
    "for i in range(len(diffs_cis_trans_1)):\n",
    "    plt.plot([trans_acc_diff[i],cis_acc_diff[i]], [i, i], color='tab:gray')\n",
    "    plt.text(trans_acc_diff[i] -0.5 + diffs_cis_trans_1[i]/2, i-0.4, 'd=' + ''.join(map(str, diffs_cis_trans_1[i])) + '%')\n",
    "    plt.text(trans_acc_diff[i] - 0.5, i-0.4, str(round(trans_acc_diff[i], 3)) + '%')\n",
    "\n",
    "ax.set_title('Difference in precision between baseline and early models\\n' +\n",
    "             '(25 epochs, only CNN trained - trans accuracy: 65.3%)', fontdict={'size':18})\n",
    "ax.set_xlabel('Improvement [%] with respect to the baseline accuracy', fontdict={'size':14})\n",
    "ax.set_xticks(np.arange(-2, 27, 1.0))\n",
    "ax.legend()"
   ]
  }
 ],
 "metadata": {
  "kernelspec": {
   "display_name": "Animals",
   "language": "python",
   "name": "animals"
  },
  "language_info": {
   "codemirror_mode": {
    "name": "ipython",
    "version": 3
   },
   "file_extension": ".py",
   "mimetype": "text/x-python",
   "name": "python",
   "nbconvert_exporter": "python",
   "pygments_lexer": "ipython3",
   "version": "3.7.11"
  }
 },
 "nbformat": 4,
 "nbformat_minor": 5
}
