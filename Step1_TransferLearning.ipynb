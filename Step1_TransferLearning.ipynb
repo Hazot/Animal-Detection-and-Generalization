{
 "cells": [
  {
   "cell_type": "code",
   "execution_count": 1,
   "metadata": {
    "colab": {
     "base_uri": "https://localhost:8080/"
    },
    "id": "LOw_54h_K15W",
    "outputId": "68485a5b-ce4e-4a66-be92-6219b89bfac8"
   },
   "outputs": [],
   "source": [
    "# !pip install torchmetrics\n",
    "# !pip install cython\n",
    "# Install pycocotools, the version by default in Colab\n",
    "# has a bug fixed in https://github.com/cocodataset/cocoapi/pull/354\n",
    "# !pip install -U 'git+https://github.com/cocodataset/cocoapi.git#subdirectory=PythonAPI'\n",
    "\n",
    "# Download TorchVision repo to use some files from\n",
    "# references/detection\n",
    "# git clone https://github.com/pytorch/vision.git\n",
    "# cd vision\n",
    "# git checkout v0.8.2\n",
    "\n",
    "# cp references/detection/utils.py ../\n",
    "# cp references/detection/transforms.py ../\n",
    "# cp references/detection/coco_eval.py ../\n",
    "# cp references/detection/engine.py ../\n",
    "# cp references/detection/coco_utils.py ../"
   ]
  },
  {
   "cell_type": "code",
   "execution_count": 2,
   "metadata": {
    "id": "3RUQCnETVJhK"
   },
   "outputs": [],
   "source": [
    "import json\n",
    "import matplotlib.pyplot as plt\n",
    "import torch\n",
    "\n",
    "import torchvision\n",
    "from torch.utils.data import Dataset, DataLoader\n",
    "from torchvision.transforms import ToTensor\n",
    "import os\n",
    "from torchvision.io import read_image\n",
    "from PIL import Image\n",
    "\n",
    "import numpy as np\n",
    "import matplotlib.patches as patches\n",
    "from torchvision import transforms\n",
    "\n",
    "from torchvision.models.detection.faster_rcnn import FastRCNNPredictor\n",
    "\n",
    "from torchmetrics.detection.map import MeanAveragePrecision"
   ]
  },
  {
   "cell_type": "code",
   "execution_count": 3,
   "metadata": {},
   "outputs": [],
   "source": [
    "import pycocotools"
   ]
  },
  {
   "cell_type": "code",
   "execution_count": 4,
   "metadata": {},
   "outputs": [],
   "source": [
    "# For jupyter\n",
    "import utils\n",
    "import transforms\n",
    "import coco_eval\n",
    "from engine import train_one_epoch, evaluate"
   ]
  },
  {
   "cell_type": "markdown",
   "metadata": {
    "id": "DiEOTFl_24EF"
   },
   "source": [
    "If you are using Google Colab"
   ]
  },
  {
   "cell_type": "code",
   "execution_count": 5,
   "metadata": {
    "colab": {
     "base_uri": "https://localhost:8080/"
    },
    "id": "5VSQf2i3LuN1",
    "outputId": "b457d52a-3e1b-4a7b-a340-5cae31490055"
   },
   "outputs": [],
   "source": [
    "# from google.colab import drive\n",
    "# drive.mount('/content/gdrive')"
   ]
  },
  {
   "cell_type": "code",
   "execution_count": 6,
   "metadata": {
    "colab": {
     "base_uri": "https://localhost:8080/"
    },
    "id": "pJ_QIR08LuaE",
    "outputId": "475d0f24-ff93-4c52-eedf-ee1b2b92a596"
   },
   "outputs": [],
   "source": [
    "# !tar -xf \"/content/gdrive/MyDrive/IFT-Projets/eccv_18_all_images_sm.tar\" -C \"/content/gdrive/MyDrive/IFT-Projets/output\"    #[run this cell to extract tar files] # images"
   ]
  },
  {
   "cell_type": "code",
   "execution_count": 7,
   "metadata": {
    "colab": {
     "base_uri": "https://localhost:8080/"
    },
    "id": "W8y-SY30Lucu",
    "outputId": "8df45c8b-df30-45e4-e17a-f21618df94df"
   },
   "outputs": [],
   "source": [
    "# !tar -xvf \"/content/gdrive/MyDrive/IFT-Projets/eccv_18_annotations.tar\" -C \"/content/gdrive/MyDrive/IFT-Projets/output\"   #[run this cell to extract tar files] # labels"
   ]
  },
  {
   "cell_type": "markdown",
   "metadata": {
    "id": "CFo8FhOT4-Yf"
   },
   "source": [
    "Example of data in annotation files"
   ]
  },
  {
   "cell_type": "code",
   "execution_count": 8,
   "metadata": {
    "id": "IlU99PhcSNDv"
   },
   "outputs": [],
   "source": [
    "output_path='output'\n",
    "img_folder= 'eccv_18_all_images_sm'\n",
    "\n",
    "cis_test_ann_path= 'eccv_18_annotation_files/cis_test_annotations.json'\n",
    "cis_val_ann_path= 'eccv_18_annotation_files/cis_val_annotations.json'\n",
    "train_ann_path = 'eccv_18_annotation_files/train_annotations.json'\n",
    "trans_test_ann_path= 'eccv_18_annotation_files/trans_test_annotations.json'\n",
    "trans_val_ann_path = 'eccv_18_annotation_files/trans_val_annotations.json'"
   ]
  },
  {
   "cell_type": "markdown",
   "metadata": {
    "id": "08r4QhagWuKZ"
   },
   "source": [
    "Number of images per split"
   ]
  },
  {
   "cell_type": "code",
   "execution_count": 9,
   "metadata": {
    "id": "5tYL7gDDW09R"
   },
   "outputs": [],
   "source": [
    "cis_test_ann = json.load(open(cis_test_ann_path))\n",
    "cis_val_ann = json.load(open(cis_val_ann_path))\n",
    "train_ann= json.load(open(train_ann_path))\n",
    "trans_test_ann = json.load(open(trans_test_ann_path))\n",
    "trans_val_ann = json.load(open(trans_val_ann_path))"
   ]
  },
  {
   "cell_type": "code",
   "execution_count": 10,
   "metadata": {
    "colab": {
     "base_uri": "https://localhost:8080/"
    },
    "id": "Qbuy1jLsWuew",
    "outputId": "7ba79560-5443-4fea-f46c-c0e3acaa1588"
   },
   "outputs": [
    {
     "name": "stdout",
     "output_type": "stream",
     "text": [
      "15827\n",
      "3484\n",
      "13553\n",
      "23275\n",
      "1725\n"
     ]
    }
   ],
   "source": [
    "print(len(cis_test_ann['images']))\n",
    "print(len(cis_val_ann['images']))\n",
    "print(len(train_ann['images']))\n",
    "print(len(trans_test_ann['images']))\n",
    "print(len(trans_val_ann['images']))"
   ]
  },
  {
   "cell_type": "code",
   "execution_count": 11,
   "metadata": {
    "colab": {
     "base_uri": "https://localhost:8080/"
    },
    "id": "tJSS3CO7heG3",
    "outputId": "32125207-6219-4017-8ad6-399632efd639"
   },
   "outputs": [
    {
     "data": {
      "text/plain": [
       "dict_keys(['info', 'categories', 'images', 'annotations'])"
      ]
     },
     "execution_count": 11,
     "metadata": {},
     "output_type": "execute_result"
    }
   ],
   "source": [
    "trans_val_ann.keys()"
   ]
  },
  {
   "cell_type": "code",
   "execution_count": 12,
   "metadata": {
    "colab": {
     "base_uri": "https://localhost:8080/"
    },
    "id": "K_xxRrJFRE29",
    "outputId": "57e66677-3c9d-478f-e48b-bb3226f53546"
   },
   "outputs": [
    {
     "data": {
      "text/plain": [
       "{'contributor': 'Sara Beery',\n",
       " 'date_created': '2018-07-03 18:34:36.573636',\n",
       " 'version': 'Caltech Camera Traps - ECCV18',\n",
       " 'description': 'Database of camera trap images collected from the NPS and the USGS with help from Justin Brown and Erin Boydston',\n",
       " 'year': 2018}"
      ]
     },
     "execution_count": 12,
     "metadata": {},
     "output_type": "execute_result"
    }
   ],
   "source": [
    "trans_val_ann['info']"
   ]
  },
  {
   "cell_type": "code",
   "execution_count": 13,
   "metadata": {
    "colab": {
     "base_uri": "https://localhost:8080/"
    },
    "id": "ajXJCO_jTGnY",
    "outputId": "f023204a-68dc-48c2-c5b4-2dd2da34b97e"
   },
   "outputs": [
    {
     "data": {
      "text/plain": [
       "[{'id': 6, 'name': 'bobcat'},\n",
       " {'id': 1, 'name': 'opossum'},\n",
       " {'id': 30, 'name': 'empty'},\n",
       " {'id': 9, 'name': 'coyote'},\n",
       " {'id': 3, 'name': 'raccoon'},\n",
       " {'id': 11, 'name': 'bird'},\n",
       " {'id': 8, 'name': 'dog'},\n",
       " {'id': 16, 'name': 'cat'},\n",
       " {'id': 5, 'name': 'squirrel'},\n",
       " {'id': 10, 'name': 'rabbit'},\n",
       " {'id': 7, 'name': 'skunk'},\n",
       " {'id': 99, 'name': 'rodent'},\n",
       " {'id': 21, 'name': 'badger'},\n",
       " {'id': 34, 'name': 'deer'},\n",
       " {'id': 33, 'name': 'car'},\n",
       " {'id': 51, 'name': 'fox'}]"
      ]
     },
     "execution_count": 13,
     "metadata": {},
     "output_type": "execute_result"
    }
   ],
   "source": [
    "trans_val_ann['categories']"
   ]
  },
  {
   "cell_type": "code",
   "execution_count": 14,
   "metadata": {
    "colab": {
     "base_uri": "https://localhost:8080/"
    },
    "id": "ChHLy0fE5s8Z",
    "outputId": "f0fac9dd-5a98-4738-8de9-dc67919292e4"
   },
   "outputs": [
    {
     "data": {
      "text/plain": [
       "{'image_id': '58df680b-23d2-11e8-a6a3-ec086b02610b',\n",
       " 'category_id': 6,\n",
       " 'bbox': [1123.7375892857142,\n",
       "  787.8743750000001,\n",
       "  284.6749107142857,\n",
       "  244.2854464285715],\n",
       " 'id': '19220'}"
      ]
     },
     "execution_count": 14,
     "metadata": {},
     "output_type": "execute_result"
    }
   ],
   "source": [
    "trans_val_ann['annotations'][0]"
   ]
  },
  {
   "cell_type": "markdown",
   "metadata": {
    "id": "DnDM9gbwrQNx"
   },
   "source": [
    "## Horizontal flip debugging"
   ]
  },
  {
   "cell_type": "code",
   "execution_count": 15,
   "metadata": {
    "colab": {
     "base_uri": "https://localhost:8080/",
     "height": 286
    },
    "id": "iOwBQIVEYWkN",
    "outputId": "c91a5292-95b4-4e30-9e96-a5cbbc6cdf66"
   },
   "outputs": [
    {
     "data": {
      "text/plain": [
       "<matplotlib.patches.Rectangle at 0x23d222efd08>"
      ]
     },
     "execution_count": 15,
     "metadata": {},
     "output_type": "execute_result"
    },
    {
     "data": {
      "image/png": "[encoded data removed]",
      "text/plain": [
       "<Figure size 432x288 with 1 Axes>"
      ]
     },
     "metadata": {
      "needs_background": "light"
     },
     "output_type": "display_data"
    }
   ],
   "source": [
    "i = 500\n",
    "\n",
    "boxes = [trans_val_ann['annotations'][j]['bbox'] for j in range(len(trans_val_ann['annotations'])) \n",
    "         if trans_val_ann['annotations'][j]['image_id']==trans_val_ann['images'][i]['id'] \n",
    "         and 'bbox' in trans_val_ann['annotations'][j].keys()]\n",
    "\n",
    "img_path = os.path.join('eccv_18_all_images_sm', trans_val_ann['images'][i]['file_name']) # to change\n",
    "\n",
    "image = read_image(img_path)\n",
    "\n",
    "fig, ax = plt.subplots()\n",
    "ax.imshow(image[0].squeeze(),cmap=\"gray\")\n",
    "\n",
    "scale_x = image.shape[2] / trans_val_ann['images'][i]['width'] \n",
    "scale_y = image.shape[1] / trans_val_ann['images'][i]['height']\n",
    "\n",
    "boxes = torch.as_tensor(boxes)\n",
    "\n",
    "for i in range(boxes.shape[0]):\n",
    "  boxes[i][0] = torch.round(boxes[i][0] * scale_x)\n",
    "  boxes[i][1] = torch.round(boxes[i][1] * scale_y)\n",
    "  boxes[i][2] = torch.round(boxes[i][2] * scale_x)\n",
    "  boxes[i][3] = torch.round(boxes[i][3] * scale_y)\n",
    "\n",
    "  boxes[i][2] = boxes[i][0] + boxes[i][2]\n",
    "  boxes[i][3] = boxes[i][1] + boxes[i][3]\n",
    "\n",
    "target = {}\n",
    "target[\"boxes\"] = boxes\n",
    "\n",
    "rect = patches.Rectangle((boxes[0][0], boxes[0][1]), boxes[0][2]-boxes[0][0], \n",
    "                         boxes[0][3]-boxes[0][1], linewidth=2, edgecolor='r', facecolor='none')\n",
    "ax.add_patch(rect)"
   ]
  },
  {
   "cell_type": "code",
   "execution_count": 16,
   "metadata": {
    "id": "L-RQS521hTUZ"
   },
   "outputs": [],
   "source": [
    "image = Image.open(img_path).convert(\"RGB\")\n",
    "#image=conv(image)"
   ]
  },
  {
   "cell_type": "code",
   "execution_count": 17,
   "metadata": {
    "colab": {
     "base_uri": "https://localhost:8080/"
    },
    "id": "TnnzSWwDY21l",
    "outputId": "394a67d3-5c61-4588-e343-c8f8bd923405"
   },
   "outputs": [
    {
     "data": {
      "text/plain": [
       "(1024, 747)"
      ]
     },
     "execution_count": 17,
     "metadata": {},
     "output_type": "execute_result"
    }
   ],
   "source": [
    "image.size"
   ]
  },
  {
   "cell_type": "code",
   "execution_count": 18,
   "metadata": {
    "id": "KQ6SPQCGhdE5"
   },
   "outputs": [],
   "source": [
    "conv = torchvision.transforms.ToTensor()"
   ]
  },
  {
   "cell_type": "code",
   "execution_count": 19,
   "metadata": {
    "id": "KQzZM7EvYkCE"
   },
   "outputs": [],
   "source": [
    "width, height = image.size[0], image.size[1]"
   ]
  },
  {
   "cell_type": "code",
   "execution_count": 20,
   "metadata": {
    "colab": {
     "base_uri": "https://localhost:8080/"
    },
    "id": "BNSinfTNYkIn",
    "outputId": "7ae7ecf8-a108-4042-d840-6a3951d10752"
   },
   "outputs": [
    {
     "data": {
      "text/plain": [
       "1024"
      ]
     },
     "execution_count": 20,
     "metadata": {},
     "output_type": "execute_result"
    }
   ],
   "source": [
    "width"
   ]
  },
  {
   "cell_type": "code",
   "execution_count": 21,
   "metadata": {},
   "outputs": [
    {
     "data": {
      "text/plain": [
       "747"
      ]
     },
     "execution_count": 21,
     "metadata": {},
     "output_type": "execute_result"
    }
   ],
   "source": [
    "height"
   ]
  },
  {
   "cell_type": "code",
   "execution_count": 22,
   "metadata": {
    "id": "CtVK02HYhfB-"
   },
   "outputs": [],
   "source": [
    "image_new = conv(image)"
   ]
  },
  {
   "cell_type": "code",
   "execution_count": 23,
   "metadata": {},
   "outputs": [
    {
     "name": "stdout",
     "output_type": "stream",
     "text": [
      "torch.Size([3, 747, 1024])\n"
     ]
    }
   ],
   "source": [
    "print(image_new.shape)"
   ]
  },
  {
   "cell_type": "markdown",
   "metadata": {
    "id": "OMhB4CM354Px"
   },
   "source": [
    "## Utils"
   ]
  },
  {
   "cell_type": "code",
   "execution_count": 24,
   "metadata": {
    "id": "3mHaZNrt7D98"
   },
   "outputs": [],
   "source": [
    "# In paper :  ' ... and employ horizontal flipping for data augmentation. ( for detection)\n",
    "\n",
    "import transforms as T   # from git hub repo\n",
    "\n",
    "data_transform = {\n",
    "    'train': T.RandomHorizontalFlip(0.5)}"
   ]
  },
  {
   "cell_type": "code",
   "execution_count": 25,
   "metadata": {
    "id": "bGYQbOaGzeYb"
   },
   "outputs": [],
   "source": [
    "def get_img_with_bbox(file_path):\n",
    "  \n",
    "  # returns a list with the idx of images with at least one bounding box (img_wbbox) and a list with the number of bbox for each valid image (num_bbox)\n",
    "  file = json.load(open(file_path))\n",
    "  img_wbbox=[]\n",
    "  num_bbox=[]\n",
    "\n",
    "  for i in range(len(file['images'])):\n",
    "    bboxes= [file['annotations'][j]['bbox'] for j in range(len(file['annotations'])) if file['annotations'][j]['image_id']==file['images'][i]['id'] and 'bbox' in file['annotations'][j].keys()]\n",
    "\n",
    "    if len(bboxes)!=0:\n",
    "      img_wbbox.append(i)\n",
    "\n",
    "      num_bbox.append(len(bboxes))\n",
    "\n",
    "  return img_wbbox, num_bbox"
   ]
  },
  {
   "cell_type": "code",
   "execution_count": 26,
   "metadata": {
    "id": "SdJaZm5aOJ6y"
   },
   "outputs": [],
   "source": [
    "class CustomImageDataset(Dataset):\n",
    "    def __init__(self, label_path, img_dir, valid_img, transform= None, target_transform=None):\n",
    "        self.label_file = json.load(open(label_path))\n",
    "        self.img_dir = img_dir\n",
    "        self.transform = transform\n",
    "        self.target_transform = target_transform\n",
    "        self.valid_img= valid_img\n",
    "\n",
    "    def __len__(self):\n",
    "        return len(self.valid_img)\n",
    "\n",
    "    def __getitem__(self, idx):\n",
    "        \n",
    "        idx=self.valid_img[idx] # consider only images with bbox annotations\n",
    "        img_path = os.path.join(self.img_dir, self.label_file['images'][idx]['file_name'])\n",
    "        image = read_image(img_path)\n",
    "\n",
    "        conv=torchvision.transforms.ToTensor()\n",
    "        #if image.shape[0]==1:\n",
    "        # some images have only one channel, we convert them to rgb\n",
    "        image = Image.open(img_path).convert(\"RGB\")\n",
    "        image=conv(image)\n",
    "\n",
    "        boxes= [self.label_file['annotations'][j]['bbox'] for j in range(len(self.label_file['annotations'])) if self.label_file['annotations'][j]['image_id']==self.label_file['images'][idx]['id']]\n",
    "        label= [self.label_file['annotations'][j]['category_id'] for j in range(len(self.label_file['annotations'])) if self.label_file['annotations'][j]['image_id']==self.label_file['images'][idx]['id']]\n",
    "\n",
    "        # transform bbox coords to adjust for resizing\n",
    "        scale_x=image.shape[2]/self.label_file['images'][idx]['width'] \n",
    "        scale_y=image.shape[1]/self.label_file['images'][idx]['height']\n",
    "\n",
    "        boxes=torch.as_tensor(boxes)\n",
    "        for i in range(boxes.shape[0]):\n",
    "          boxes[i][0]=torch.round(boxes[i][0]*scale_x)\n",
    "          boxes[i][1]=torch.round(boxes[i][1]*scale_y)\n",
    "          boxes[i][2]=torch.round(boxes[i][2]*scale_x)\n",
    "          boxes[i][3]=torch.round(boxes[i][3]*scale_y)\n",
    "\n",
    "          boxes[i][2]=boxes[i][0]+boxes[i][2] # to transform to pytorch bbox format\n",
    "          boxes[i][3]=boxes[i][1]+boxes[i][3]\n",
    "\n",
    "          #boxes[i][0]*=scale_x\n",
    "          #boxes[i][1]*=scale_y\n",
    "          #boxes[i][2]*=scale_x\n",
    "          #boxes[i][3]*=scale_y\n",
    "\n",
    "        label=torch.as_tensor(label)\n",
    "        label=torch.where(label==30,0,1)  # 0 if empty (categ id = 30), 1 if animal\n",
    "        image_id = torch.tensor([idx])\n",
    "        area = (boxes[:, 3] - boxes[:, 1]) * (boxes[:, 2] - boxes[:, 0])\n",
    "        iscrowd = torch.zeros((boxes.shape[0],), dtype=torch.int64)\n",
    "\n",
    "        target = {}\n",
    "        target[\"boxes\"] = boxes\n",
    "        target[\"labels\"] = label\n",
    "        target[\"image_id\"] = image_id\n",
    "        target['area']=area\n",
    "        target['iscrowd']=iscrowd\n",
    "\n",
    "        # TO DO : resize all to same size\n",
    "\n",
    "        if self.transform:\n",
    "          # transform image AND target\n",
    "            image, target = self.transform(image, target)\n",
    "        if self.target_transform:\n",
    "            label = self.target_transform(label)\n",
    "\n",
    "        return image, target\n"
   ]
  },
  {
   "cell_type": "markdown",
   "metadata": {
    "id": "WpDLz3L47UEc"
   },
   "source": [
    "Example of use"
   ]
  },
  {
   "cell_type": "code",
   "execution_count": 27,
   "metadata": {
    "id": "QMPXY53859HC"
   },
   "outputs": [],
   "source": [
    "train_valid_img,_ = get_img_with_bbox(train_ann_path)   # takes about 15sec to run on train data @kevin\n",
    "cis_val_valid_img,_ = get_img_with_bbox(cis_val_ann_path)   # takes about 15sec to run on train data @kevin"
   ]
  },
  {
   "cell_type": "code",
   "execution_count": null,
   "metadata": {},
   "outputs": [],
   "source": [
    "# def collate_fn(batch):\n",
    "#     return tuple(zip(*batch))"
   ]
  },
  {
   "cell_type": "code",
   "execution_count": 30,
   "metadata": {
    "id": "8EVMl_FsOJ9Z"
   },
   "outputs": [],
   "source": [
    "training_data = CustomImageDataset(train_ann_path, img_folder, train_valid_img)\n",
    "valid_data = CustomImageDataset(cis_val_ann_path, img_folder, cis_val_valid_img)\n",
    "\n",
    "train_dataloader = DataLoader(training_data, batch_size=1, shuffle=True, collate_fn=utils.collate_fn)\n",
    "# In paper : ' We use a batch size of 1'"
   ]
  },
  {
   "cell_type": "code",
   "execution_count": 31,
   "metadata": {
    "colab": {
     "base_uri": "https://localhost:8080/",
     "height": 321
    },
    "id": "CQ6gGqEal8d8",
    "outputId": "6fb81220-5e7b-4751-b47d-9c01f003d3aa"
   },
   "outputs": [
    {
     "name": "stdout",
     "output_type": "stream",
     "text": [
      "Target (Bbox) batch shape: torch.Size([1, 4])\n",
      "Target (category) batch shape: torch.Size([1])\n",
      "Label: animal\n"
     ]
    },
    {
     "data": {
      "image/png": "[encoded data removed]",
      "text/plain": [
       "<Figure size 432x288 with 1 Axes>"
      ]
     },
     "metadata": {
      "needs_background": "light"
     },
     "output_type": "display_data"
    }
   ],
   "source": [
    "train_features, train_labels = next(iter(train_dataloader))\n",
    "#print(f\"Feature batch shape: {train_features.size()}\")\n",
    "print(f\"Target (Bbox) batch shape: {train_labels[0]['boxes'].size()}\")\n",
    "print(f\"Target (category) batch shape: {train_labels[0]['labels'].size()}\")\n",
    "\n",
    "img = train_features[0][0].squeeze()\n",
    "label = train_labels[0]['labels']\n",
    "label_categ='animal'\n",
    "\n",
    "if label[0]==0:\n",
    "  label_categ='background'\n",
    "\n",
    "fig, ax = plt.subplots()\n",
    "ax.imshow(img,cmap=\"gray\")\n",
    "rect = patches.Rectangle((train_labels[0]['boxes'][0][0], train_labels[0]['boxes'][0][1]), train_labels[0]['boxes'][0][2]-train_labels[0]['boxes'][0][0], train_labels[0]['boxes'][0][3]-train_labels[0]['boxes'][0][1], linewidth=2, edgecolor='r', facecolor='none')\n",
    "ax.add_patch(rect)\n",
    "print(f\"Label: {label_categ}\")"
   ]
  },
  {
   "cell_type": "markdown",
   "metadata": {},
   "source": [
    "##Horizontal flip debugging p2"
   ]
  },
  {
   "cell_type": "code",
   "execution_count": 32,
   "metadata": {
    "id": "Q5149muQLuh7"
   },
   "outputs": [],
   "source": [
    "# trans = data_transform['train']\n",
    "# img2, target2 = trans(image, target)\n",
    "\n",
    "# fig, ax = plt.subplots()\n",
    "# ax.imshow(img2[0].squeeze(), cmap=\"gray\")\n",
    "\n",
    "# rect = patches.Rectangle((target2['boxes'][0][0], target2['boxes'][0][1]), \n",
    "#                          target2['boxes'][0][2] - target2['boxes'][0][0], \n",
    "#                          target2['boxes'][0][3] - target2['boxes'][0][1], \n",
    "#                          linewidth=2, edgecolor='r', facecolor='none')\n",
    "# ax.add_patch(rect)"
   ]
  },
  {
   "cell_type": "markdown",
   "metadata": {
    "id": "iuPqrCPG8wsr"
   },
   "source": [
    "## Pre-trained model"
   ]
  },
  {
   "cell_type": "code",
   "execution_count": 33,
   "metadata": {
    "id": "6UGQCk7Gcoy7"
   },
   "outputs": [],
   "source": [
    "# Inspired from https://colab.research.google.com/github/pytorch/tutorials/blob/gh-pages/_downloads/torchvision_finetuning_instance_segmentation.ipynb#scrollTo=YjNHjVMOyYlH"
   ]
  },
  {
   "cell_type": "code",
   "execution_count": 34,
   "metadata": {
    "id": "vuz8DJUgccUx"
   },
   "outputs": [],
   "source": [
    "def get_model_from_pretrained(num_classes):\n",
    "\n",
    "  # load an instance segmentation model pre-trained on COCO\n",
    "  model = torchvision.models.detection.fasterrcnn_resnet50_fpn(pretrained=True)\n",
    "\n",
    "  for param in model.parameters(): # to freeze all existing weights\n",
    "    param.requires_grad = False\n",
    "\n",
    "  # get the number of input features for the classifier\n",
    "  in_features = model.roi_heads.box_predictor.cls_score.in_features\n",
    "  # replace the pre-trained head with a new one\n",
    "  model.roi_heads.box_predictor = FastRCNNPredictor(in_features, num_classes)\n",
    "\n",
    "  return model"
   ]
  },
  {
   "cell_type": "code",
   "execution_count": 35,
   "metadata": {
    "id": "hbSuc8Jwc5qT"
   },
   "outputs": [],
   "source": [
    "device = torch.device('cuda') if torch.cuda.is_available() else torch.device('cpu')\n",
    "torch.cuda.get_device_name(0)\n",
    "# our dataset has two classes only - background and person\n",
    "num_classes = 2\n",
    "\n",
    "# get the model using our helper function\n",
    "model = get_model_from_pretrained(num_classes)\n",
    "\n",
    "# move model to the right device\n",
    "model.to(device)\n",
    "\n",
    "# construct an optimizer\n",
    "params = [p for p in model.parameters() if p.requires_grad]\n",
    "optimizer = torch.optim.SGD(params, lr=0.0003, momentum=0.9)\n",
    "\n",
    "# like in the paper\n",
    "lr_scheduler = torch.optim.lr_scheduler.MultiStepLR(optimizer,milestones=[5,10], gamma=0.1)"
   ]
  },
  {
   "cell_type": "code",
   "execution_count": 41,
   "metadata": {
    "id": "hNli84Y1V-Az"
   },
   "outputs": [],
   "source": [
    "train_dataloader = DataLoader(training_data, batch_size=1, shuffle=True, collate_fn=utils.collate_fn)"
   ]
  },
  {
   "cell_type": "code",
   "execution_count": 42,
   "metadata": {
    "id": "NdZtIwI_iy9l"
   },
   "outputs": [],
   "source": [
    "trans_val_valid_img,_ = get_img_with_bbox(trans_val_ann_path)   # takes about 1min to run on train data\n",
    "trans_valid_data = CustomImageDataset(trans_val_ann_path,img_folder, trans_val_valid_img)\n",
    "trans_valid_dataloader = DataLoader(trans_valid_data, batch_size=10, shuffle=True, collate_fn=utils.collate_fn)"
   ]
  },
  {
   "cell_type": "code",
   "execution_count": 43,
   "metadata": {
    "id": "VdGh66kZ_8av"
   },
   "outputs": [],
   "source": [
    "cis_val_valid_img,_ = get_img_with_bbox(cis_val_ann_path)   # takes about 1min to run on train data\n",
    "cis_valid_data = CustomImageDataset(cis_val_ann_path,img_folder, cis_val_valid_img)\n",
    "cis_valid_dataloader = DataLoader(cis_valid_data, batch_size=10, shuffle=True, collate_fn=utils.collate_fn)"
   ]
  },
  {
   "cell_type": "code",
   "execution_count": 44,
   "metadata": {
    "id": "eNdYtR0kzbAO"
   },
   "outputs": [],
   "source": [
    "# !!TO DO : replace this 'return coco_evaluator' by this 'return metric_logger' on line \n",
    "# #109 of engine.py in evaluate function and CTRL+S"
   ]
  },
  {
   "cell_type": "code",
   "execution_count": 45,
   "metadata": {
    "id": "_VTRNc5oohYv"
   },
   "outputs": [],
   "source": [
    "# way around weird behav\n",
    "# del evaluate\n",
    "# from engine_modif import train_one_epoch, evaluate"
   ]
  },
  {
   "cell_type": "code",
   "execution_count": 77,
   "metadata": {},
   "outputs": [
    {
     "data": {
      "text/plain": [
       "'NVIDIA GeForce GTX 1080 Ti'"
      ]
     },
     "execution_count": 77,
     "metadata": {},
     "output_type": "execute_result"
    }
   ],
   "source": [
    "torch.cuda.get_device_name(0)"
   ]
  },
  {
   "cell_type": "code",
   "execution_count": 48,
   "metadata": {
    "colab": {
     "base_uri": "https://localhost:8080/"
    },
    "id": "pKGZjyXBRVBn",
    "outputId": "017d37b3-eae9-48d1-aa8a-712c919ea9d9"
   },
   "outputs": [
    {
     "name": "stdout",
     "output_type": "stream",
     "text": [
      "Epoch: [0]  [    0/12099]  eta: 0:28:50  lr: 0.000000  loss: 0.2531 (0.2531)  loss_classifier: 0.0989 (0.0989)  loss_box_reg: 0.1523 (0.1523)  loss_objectness: 0.0018 (0.0018)  loss_rpn_box_reg: 0.0001 (0.0001)  time: 0.1430  data: 0.0380  max mem: 3752\n",
      "Epoch: [0]  [  100/12099]  eta: 0:25:45  lr: 0.000020  loss: 0.2541 (0.2558)  loss_classifier: 0.0960 (0.0996)  loss_box_reg: 0.1437 (0.1201)  loss_objectness: 0.0024 (0.0281)  loss_rpn_box_reg: 0.0026 (0.0081)  time: 0.1266  data: 0.0412  max mem: 3752\n",
      "Epoch: [0]  [  200/12099]  eta: 0:25:17  lr: 0.000040  loss: 0.1933 (0.2486)  loss_classifier: 0.0784 (0.0955)  loss_box_reg: 0.0788 (0.1155)  loss_objectness: 0.0151 (0.0304)  loss_rpn_box_reg: 0.0018 (0.0071)  time: 0.1282  data: 0.0416  max mem: 3752\n",
      "Epoch: [0]  [  300/12099]  eta: 0:25:02  lr: 0.000059  loss: 0.2304 (0.2447)  loss_classifier: 0.0926 (0.0923)  loss_box_reg: 0.1157 (0.1131)  loss_objectness: 0.0099 (0.0313)  loss_rpn_box_reg: 0.0030 (0.0080)  time: 0.1295  data: 0.0424  max mem: 3752\n",
      "Epoch: [0]  [  400/12099]  eta: 0:24:55  lr: 0.000079  loss: 0.2223 (0.2418)  loss_classifier: 0.0778 (0.0906)  loss_box_reg: 0.1143 (0.1127)  loss_objectness: 0.0024 (0.0306)  loss_rpn_box_reg: 0.0028 (0.0078)  time: 0.1270  data: 0.0409  max mem: 3752\n",
      "Epoch: [0]  [  500/12099]  eta: 0:24:41  lr: 0.000098  loss: 0.2350 (0.2398)  loss_classifier: 0.0722 (0.0887)  loss_box_reg: 0.1205 (0.1124)  loss_objectness: 0.0029 (0.0306)  loss_rpn_box_reg: 0.0023 (0.0080)  time: 0.1254  data: 0.0398  max mem: 3752\n",
      "Epoch: [0]  [  600/12099]  eta: 0:24:35  lr: 0.000118  loss: 0.2182 (0.2354)  loss_classifier: 0.0717 (0.0862)  loss_box_reg: 0.1267 (0.1108)  loss_objectness: 0.0044 (0.0305)  loss_rpn_box_reg: 0.0037 (0.0078)  time: 0.1235  data: 0.0386  max mem: 3752\n",
      "Epoch: [0]  [  700/12099]  eta: 0:24:16  lr: 0.000138  loss: 0.1968 (0.2340)  loss_classifier: 0.0699 (0.0847)  loss_box_reg: 0.0846 (0.1100)  loss_objectness: 0.0088 (0.0317)  loss_rpn_box_reg: 0.0022 (0.0076)  time: 0.1234  data: 0.0391  max mem: 3752\n",
      "Epoch: [0]  [  800/12099]  eta: 0:23:56  lr: 0.000157  loss: 0.1919 (0.2322)  loss_classifier: 0.0533 (0.0830)  loss_box_reg: 0.1157 (0.1096)  loss_objectness: 0.0045 (0.0319)  loss_rpn_box_reg: 0.0042 (0.0078)  time: 0.1224  data: 0.0380  max mem: 3752\n",
      "Epoch: [0]  [  900/12099]  eta: 0:23:43  lr: 0.000177  loss: 0.1873 (0.2298)  loss_classifier: 0.0660 (0.0814)  loss_box_reg: 0.0744 (0.1083)  loss_objectness: 0.0162 (0.0321)  loss_rpn_box_reg: 0.0037 (0.0080)  time: 0.1245  data: 0.0391  max mem: 3752\n",
      "Epoch: [0]  [ 1000/12099]  eta: 0:23:30  lr: 0.000196  loss: 0.2155 (0.2277)  loss_classifier: 0.0498 (0.0801)  loss_box_reg: 0.0989 (0.1077)  loss_objectness: 0.0196 (0.0318)  loss_rpn_box_reg: 0.0027 (0.0081)  time: 0.1252  data: 0.0384  max mem: 3752\n",
      "Epoch: [0]  [ 1100/12099]  eta: 0:23:26  lr: 0.000196  loss: 0.1769 (0.2254)  loss_classifier: 0.0536 (0.0788)  loss_box_reg: 0.0593 (0.1063)  loss_objectness: 0.0285 (0.0323)  loss_rpn_box_reg: 0.0032 (0.0081)  time: 0.1211  data: 0.0363  max mem: 3752\n",
      "Epoch: [0]  [ 1200/12099]  eta: 0:23:05  lr: 0.000196  loss: 0.1783 (0.2229)  loss_classifier: 0.0459 (0.0774)  loss_box_reg: 0.0909 (0.1051)  loss_objectness: 0.0109 (0.0323)  loss_rpn_box_reg: 0.0034 (0.0080)  time: 0.1184  data: 0.0344  max mem: 3752\n",
      "Epoch: [0]  [ 1300/12099]  eta: 0:22:46  lr: 0.000196  loss: 0.1733 (0.2212)  loss_classifier: 0.0528 (0.0765)  loss_box_reg: 0.0734 (0.1035)  loss_objectness: 0.0187 (0.0333)  loss_rpn_box_reg: 0.0028 (0.0080)  time: 0.1171  data: 0.0343  max mem: 3752\n",
      "Epoch: [0]  [ 1400/12099]  eta: 0:22:27  lr: 0.000196  loss: 0.1928 (0.2186)  loss_classifier: 0.0562 (0.0752)  loss_box_reg: 0.0848 (0.1022)  loss_objectness: 0.0106 (0.0331)  loss_rpn_box_reg: 0.0045 (0.0081)  time: 0.1171  data: 0.0335  max mem: 3752\n",
      "Epoch: [0]  [ 1500/12099]  eta: 0:22:09  lr: 0.000196  loss: 0.1450 (0.2159)  loss_classifier: 0.0458 (0.0744)  loss_box_reg: 0.0763 (0.1004)  loss_objectness: 0.0035 (0.0330)  loss_rpn_box_reg: 0.0014 (0.0080)  time: 0.1156  data: 0.0329  max mem: 3752\n",
      "Epoch: [0]  [ 1600/12099]  eta: 0:21:52  lr: 0.000196  loss: 0.1493 (0.2142)  loss_classifier: 0.0414 (0.0739)  loss_box_reg: 0.0814 (0.0993)  loss_objectness: 0.0054 (0.0330)  loss_rpn_box_reg: 0.0023 (0.0080)  time: 0.1187  data: 0.0357  max mem: 3752\n",
      "Epoch: [0]  [ 1700/12099]  eta: 0:21:35  lr: 0.000196  loss: 0.1351 (0.2123)  loss_classifier: 0.0462 (0.0730)  loss_box_reg: 0.0744 (0.0982)  loss_objectness: 0.0050 (0.0329)  loss_rpn_box_reg: 0.0033 (0.0081)  time: 0.1198  data: 0.0361  max mem: 3752\n",
      "Epoch: [0]  [ 1800/12099]  eta: 0:21:19  lr: 0.000196  loss: 0.1640 (0.2103)  loss_classifier: 0.0534 (0.0721)  loss_box_reg: 0.0689 (0.0968)  loss_objectness: 0.0035 (0.0331)  loss_rpn_box_reg: 0.0023 (0.0082)  time: 0.1181  data: 0.0340  max mem: 3752\n",
      "Epoch: [0]  [ 1900/12099]  eta: 0:21:03  lr: 0.000196  loss: 0.1554 (0.2078)  loss_classifier: 0.0437 (0.0711)  loss_box_reg: 0.0756 (0.0954)  loss_objectness: 0.0038 (0.0332)  loss_rpn_box_reg: 0.0024 (0.0081)  time: 0.1192  data: 0.0353  max mem: 3752\n",
      "Epoch: [0]  [ 2000/12099]  eta: 0:20:50  lr: 0.000196  loss: 0.1422 (0.2054)  loss_classifier: 0.0448 (0.0704)  loss_box_reg: 0.0667 (0.0940)  loss_objectness: 0.0114 (0.0330)  loss_rpn_box_reg: 0.0020 (0.0080)  time: 0.1236  data: 0.0365  max mem: 3752\n",
      "Epoch: [0]  [ 2100/12099]  eta: 0:20:37  lr: 0.000196  loss: 0.1639 (0.2033)  loss_classifier: 0.0482 (0.0697)  loss_box_reg: 0.0594 (0.0928)  loss_objectness: 0.0122 (0.0326)  loss_rpn_box_reg: 0.0026 (0.0081)  time: 0.1175  data: 0.0344  max mem: 3752\n",
      "Epoch: [0]  [ 2200/12099]  eta: 0:20:26  lr: 0.000196  loss: 0.1244 (0.2012)  loss_classifier: 0.0382 (0.0691)  loss_box_reg: 0.0635 (0.0918)  loss_objectness: 0.0050 (0.0323)  loss_rpn_box_reg: 0.0031 (0.0081)  time: 0.1511  data: 0.0509  max mem: 3752\n",
      "Epoch: [0]  [ 2300/12099]  eta: 0:20:12  lr: 0.000196  loss: 0.1187 (0.1997)  loss_classifier: 0.0451 (0.0684)  loss_box_reg: 0.0580 (0.0907)  loss_objectness: 0.0066 (0.0324)  loss_rpn_box_reg: 0.0015 (0.0082)  time: 0.1216  data: 0.0363  max mem: 3752\n",
      "Epoch: [0]  [ 2400/12099]  eta: 0:19:58  lr: 0.000196  loss: 0.1530 (0.1982)  loss_classifier: 0.0628 (0.0680)  loss_box_reg: 0.0607 (0.0896)  loss_objectness: 0.0046 (0.0325)  loss_rpn_box_reg: 0.0017 (0.0082)  time: 0.1193  data: 0.0352  max mem: 3752\n",
      "Epoch: [0]  [ 2500/12099]  eta: 0:19:45  lr: 0.000196  loss: 0.1649 (0.1974)  loss_classifier: 0.0462 (0.0678)  loss_box_reg: 0.0590 (0.0890)  loss_objectness: 0.0105 (0.0325)  loss_rpn_box_reg: 0.0032 (0.0082)  time: 0.1247  data: 0.0371  max mem: 3752\n",
      "Epoch: [0]  [ 2600/12099]  eta: 0:19:32  lr: 0.000196  loss: 0.1141 (0.1961)  loss_classifier: 0.0374 (0.0673)  loss_box_reg: 0.0597 (0.0881)  loss_objectness: 0.0016 (0.0326)  loss_rpn_box_reg: 0.0020 (0.0081)  time: 0.1232  data: 0.0375  max mem: 3752\n",
      "Epoch: [0]  [ 2700/12099]  eta: 0:19:19  lr: 0.000196  loss: 0.1235 (0.1944)  loss_classifier: 0.0371 (0.0667)  loss_box_reg: 0.0683 (0.0872)  loss_objectness: 0.0078 (0.0324)  loss_rpn_box_reg: 0.0022 (0.0081)  time: 0.1200  data: 0.0350  max mem: 3752\n",
      "Epoch: [0]  [ 2800/12099]  eta: 0:19:07  lr: 0.000196  loss: 0.1353 (0.1929)  loss_classifier: 0.0465 (0.0661)  loss_box_reg: 0.0533 (0.0863)  loss_objectness: 0.0082 (0.0323)  loss_rpn_box_reg: 0.0026 (0.0081)  time: 0.1301  data: 0.0402  max mem: 3752\n",
      "Epoch: [0]  [ 2900/12099]  eta: 0:18:54  lr: 0.000196  loss: 0.1080 (0.1920)  loss_classifier: 0.0333 (0.0658)  loss_box_reg: 0.0606 (0.0856)  loss_objectness: 0.0015 (0.0325)  loss_rpn_box_reg: 0.0017 (0.0081)  time: 0.1245  data: 0.0368  max mem: 3752\n",
      "Epoch: [0]  [ 3000/12099]  eta: 0:18:41  lr: 0.000196  loss: 0.1339 (0.1905)  loss_classifier: 0.0474 (0.0653)  loss_box_reg: 0.0573 (0.0848)  loss_objectness: 0.0032 (0.0323)  loss_rpn_box_reg: 0.0021 (0.0081)  time: 0.1199  data: 0.0362  max mem: 3752\n",
      "Epoch: [0]  [ 3100/12099]  eta: 0:18:28  lr: 0.000196  loss: 0.1505 (0.1897)  loss_classifier: 0.0369 (0.0651)  loss_box_reg: 0.0695 (0.0842)  loss_objectness: 0.0081 (0.0325)  loss_rpn_box_reg: 0.0021 (0.0080)  time: 0.1249  data: 0.0363  max mem: 3752\n",
      "Epoch: [0]  [ 3200/12099]  eta: 0:18:15  lr: 0.000196  loss: 0.1352 (0.1891)  loss_classifier: 0.0435 (0.0648)  loss_box_reg: 0.0714 (0.0836)  loss_objectness: 0.0143 (0.0327)  loss_rpn_box_reg: 0.0056 (0.0081)  time: 0.1204  data: 0.0357  max mem: 3752\n"
     ]
    },
    {
     "name": "stdout",
     "output_type": "stream",
     "text": [
      "Epoch: [0]  [ 3300/12099]  eta: 0:18:03  lr: 0.000196  loss: 0.1128 (0.1881)  loss_classifier: 0.0377 (0.0645)  loss_box_reg: 0.0520 (0.0830)  loss_objectness: 0.0019 (0.0325)  loss_rpn_box_reg: 0.0025 (0.0080)  time: 0.1279  data: 0.0397  max mem: 3752\n",
      "Epoch: [0]  [ 3400/12099]  eta: 0:17:51  lr: 0.000196  loss: 0.1297 (0.1871)  loss_classifier: 0.0416 (0.0641)  loss_box_reg: 0.0585 (0.0824)  loss_objectness: 0.0373 (0.0325)  loss_rpn_box_reg: 0.0039 (0.0081)  time: 0.1167  data: 0.0331  max mem: 3752\n",
      "Epoch: [0]  [ 3500/12099]  eta: 0:17:38  lr: 0.000196  loss: 0.1168 (0.1864)  loss_classifier: 0.0404 (0.0639)  loss_box_reg: 0.0484 (0.0818)  loss_objectness: 0.0031 (0.0325)  loss_rpn_box_reg: 0.0043 (0.0081)  time: 0.1234  data: 0.0381  max mem: 3752\n",
      "Epoch: [0]  [ 3600/12099]  eta: 0:17:24  lr: 0.000196  loss: 0.1444 (0.1857)  loss_classifier: 0.0476 (0.0637)  loss_box_reg: 0.0560 (0.0813)  loss_objectness: 0.0233 (0.0326)  loss_rpn_box_reg: 0.0039 (0.0081)  time: 0.1193  data: 0.0352  max mem: 3752\n",
      "Epoch: [0]  [ 3700/12099]  eta: 0:17:12  lr: 0.000196  loss: 0.1365 (0.1847)  loss_classifier: 0.0410 (0.0633)  loss_box_reg: 0.0422 (0.0806)  loss_objectness: 0.0234 (0.0327)  loss_rpn_box_reg: 0.0022 (0.0081)  time: 0.1232  data: 0.0379  max mem: 3752\n",
      "Epoch: [0]  [ 3800/12099]  eta: 0:16:59  lr: 0.000196  loss: 0.1346 (0.1837)  loss_classifier: 0.0435 (0.0630)  loss_box_reg: 0.0516 (0.0801)  loss_objectness: 0.0089 (0.0325)  loss_rpn_box_reg: 0.0031 (0.0080)  time: 0.1235  data: 0.0380  max mem: 3752\n",
      "Epoch: [0]  [ 3900/12099]  eta: 0:16:46  lr: 0.000196  loss: 0.1386 (0.1830)  loss_classifier: 0.0507 (0.0628)  loss_box_reg: 0.0703 (0.0797)  loss_objectness: 0.0021 (0.0325)  loss_rpn_box_reg: 0.0032 (0.0080)  time: 0.1199  data: 0.0357  max mem: 3752\n",
      "Epoch: [0]  [ 4000/12099]  eta: 0:16:33  lr: 0.000196  loss: 0.1753 (0.1824)  loss_classifier: 0.0419 (0.0627)  loss_box_reg: 0.0468 (0.0793)  loss_objectness: 0.0252 (0.0325)  loss_rpn_box_reg: 0.0051 (0.0079)  time: 0.1195  data: 0.0359  max mem: 3752\n",
      "Epoch: [0]  [ 4100/12099]  eta: 0:16:20  lr: 0.000196  loss: 0.1425 (0.1817)  loss_classifier: 0.0445 (0.0624)  loss_box_reg: 0.0402 (0.0787)  loss_objectness: 0.0146 (0.0326)  loss_rpn_box_reg: 0.0044 (0.0080)  time: 0.1183  data: 0.0349  max mem: 3752\n",
      "Epoch: [0]  [ 4200/12099]  eta: 0:16:07  lr: 0.000196  loss: 0.1265 (0.1809)  loss_classifier: 0.0346 (0.0621)  loss_box_reg: 0.0557 (0.0781)  loss_objectness: 0.0043 (0.0327)  loss_rpn_box_reg: 0.0024 (0.0080)  time: 0.1201  data: 0.0362  max mem: 3752\n",
      "Epoch: [0]  [ 4300/12099]  eta: 0:15:53  lr: 0.000196  loss: 0.1425 (0.1803)  loss_classifier: 0.0402 (0.0618)  loss_box_reg: 0.0569 (0.0776)  loss_objectness: 0.0213 (0.0329)  loss_rpn_box_reg: 0.0018 (0.0080)  time: 0.1186  data: 0.0356  max mem: 3752\n",
      "Epoch: [0]  [ 4400/12099]  eta: 0:15:40  lr: 0.000196  loss: 0.1449 (0.1799)  loss_classifier: 0.0488 (0.0617)  loss_box_reg: 0.0500 (0.0773)  loss_objectness: 0.0184 (0.0330)  loss_rpn_box_reg: 0.0053 (0.0080)  time: 0.1171  data: 0.0335  max mem: 3752\n",
      "Epoch: [0]  [ 4500/12099]  eta: 0:15:28  lr: 0.000196  loss: 0.1060 (0.1793)  loss_classifier: 0.0376 (0.0615)  loss_box_reg: 0.0475 (0.0769)  loss_objectness: 0.0057 (0.0330)  loss_rpn_box_reg: 0.0023 (0.0079)  time: 0.1184  data: 0.0350  max mem: 3752\n",
      "Epoch: [0]  [ 4600/12099]  eta: 0:15:15  lr: 0.000196  loss: 0.0999 (0.1785)  loss_classifier: 0.0309 (0.0613)  loss_box_reg: 0.0462 (0.0765)  loss_objectness: 0.0052 (0.0329)  loss_rpn_box_reg: 0.0015 (0.0079)  time: 0.1174  data: 0.0342  max mem: 3752\n",
      "Epoch: [0]  [ 4700/12099]  eta: 0:15:02  lr: 0.000196  loss: 0.1552 (0.1778)  loss_classifier: 0.0385 (0.0610)  loss_box_reg: 0.0608 (0.0761)  loss_objectness: 0.0086 (0.0328)  loss_rpn_box_reg: 0.0044 (0.0079)  time: 0.1166  data: 0.0333  max mem: 3752\n",
      "Epoch: [0]  [ 4800/12099]  eta: 0:14:49  lr: 0.000196  loss: 0.1145 (0.1772)  loss_classifier: 0.0359 (0.0609)  loss_box_reg: 0.0420 (0.0758)  loss_objectness: 0.0054 (0.0327)  loss_rpn_box_reg: 0.0021 (0.0079)  time: 0.1262  data: 0.0378  max mem: 3752\n",
      "Epoch: [0]  [ 4900/12099]  eta: 0:14:39  lr: 0.000196  loss: 0.1504 (0.1767)  loss_classifier: 0.0491 (0.0607)  loss_box_reg: 0.0599 (0.0755)  loss_objectness: 0.0027 (0.0326)  loss_rpn_box_reg: 0.0023 (0.0078)  time: 0.1386  data: 0.0420  max mem: 3752\n",
      "Epoch: [0]  [ 5000/12099]  eta: 0:14:28  lr: 0.000196  loss: 0.1276 (0.1764)  loss_classifier: 0.0370 (0.0606)  loss_box_reg: 0.0449 (0.0752)  loss_objectness: 0.0155 (0.0328)  loss_rpn_box_reg: 0.0029 (0.0078)  time: 0.1266  data: 0.0369  max mem: 3752\n",
      "Epoch: [0]  [ 5100/12099]  eta: 0:14:17  lr: 0.000196  loss: 0.1302 (0.1760)  loss_classifier: 0.0354 (0.0604)  loss_box_reg: 0.0660 (0.0749)  loss_objectness: 0.0024 (0.0329)  loss_rpn_box_reg: 0.0023 (0.0078)  time: 0.1342  data: 0.0427  max mem: 3752\n",
      "Epoch: [0]  [ 5200/12099]  eta: 0:14:04  lr: 0.000196  loss: 0.1564 (0.1756)  loss_classifier: 0.0418 (0.0602)  loss_box_reg: 0.0529 (0.0746)  loss_objectness: 0.0290 (0.0329)  loss_rpn_box_reg: 0.0024 (0.0078)  time: 0.1208  data: 0.0368  max mem: 3752\n",
      "Epoch: [0]  [ 5300/12099]  eta: 0:13:52  lr: 0.000196  loss: 0.1597 (0.1754)  loss_classifier: 0.0460 (0.0601)  loss_box_reg: 0.0576 (0.0744)  loss_objectness: 0.0101 (0.0331)  loss_rpn_box_reg: 0.0024 (0.0078)  time: 0.1211  data: 0.0362  max mem: 3752\n",
      "Epoch: [0]  [ 5400/12099]  eta: 0:13:39  lr: 0.000196  loss: 0.1336 (0.1748)  loss_classifier: 0.0477 (0.0599)  loss_box_reg: 0.0624 (0.0741)  loss_objectness: 0.0081 (0.0331)  loss_rpn_box_reg: 0.0031 (0.0078)  time: 0.1179  data: 0.0349  max mem: 3752\n",
      "Epoch: [0]  [ 5500/12099]  eta: 0:13:27  lr: 0.000196  loss: 0.1594 (0.1744)  loss_classifier: 0.0464 (0.0598)  loss_box_reg: 0.0713 (0.0738)  loss_objectness: 0.0109 (0.0331)  loss_rpn_box_reg: 0.0035 (0.0078)  time: 0.1217  data: 0.0363  max mem: 3752\n",
      "Epoch: [0]  [ 5600/12099]  eta: 0:13:14  lr: 0.000196  loss: 0.1444 (0.1738)  loss_classifier: 0.0420 (0.0596)  loss_box_reg: 0.0367 (0.0735)  loss_objectness: 0.0098 (0.0330)  loss_rpn_box_reg: 0.0031 (0.0078)  time: 0.1229  data: 0.0367  max mem: 3752\n",
      "Epoch: [0]  [ 5700/12099]  eta: 0:13:01  lr: 0.000196  loss: 0.1327 (0.1734)  loss_classifier: 0.0491 (0.0595)  loss_box_reg: 0.0718 (0.0733)  loss_objectness: 0.0081 (0.0329)  loss_rpn_box_reg: 0.0023 (0.0078)  time: 0.1190  data: 0.0342  max mem: 3752\n",
      "Epoch: [0]  [ 5800/12099]  eta: 0:12:50  lr: 0.000196  loss: 0.1380 (0.1734)  loss_classifier: 0.0497 (0.0595)  loss_box_reg: 0.0518 (0.0732)  loss_objectness: 0.0218 (0.0330)  loss_rpn_box_reg: 0.0058 (0.0078)  time: 0.1455  data: 0.0502  max mem: 3752\n",
      "Epoch: [0]  [ 5900/12099]  eta: 0:12:38  lr: 0.000196  loss: 0.1279 (0.1730)  loss_classifier: 0.0317 (0.0593)  loss_box_reg: 0.0509 (0.0728)  loss_objectness: 0.0166 (0.0332)  loss_rpn_box_reg: 0.0031 (0.0078)  time: 0.1280  data: 0.0420  max mem: 3752\n",
      "Epoch: [0]  [ 6000/12099]  eta: 0:12:27  lr: 0.000196  loss: 0.1279 (0.1729)  loss_classifier: 0.0407 (0.0592)  loss_box_reg: 0.0526 (0.0725)  loss_objectness: 0.0097 (0.0333)  loss_rpn_box_reg: 0.0029 (0.0078)  time: 0.1520  data: 0.0472  max mem: 3752\n",
      "Epoch: [0]  [ 6100/12099]  eta: 0:12:17  lr: 0.000196  loss: 0.1171 (0.1725)  loss_classifier: 0.0385 (0.0590)  loss_box_reg: 0.0673 (0.0723)  loss_objectness: 0.0052 (0.0334)  loss_rpn_box_reg: 0.0025 (0.0078)  time: 0.1374  data: 0.0450  max mem: 3752\n",
      "Epoch: [0]  [ 6200/12099]  eta: 0:12:07  lr: 0.000196  loss: 0.1369 (0.1722)  loss_classifier: 0.0449 (0.0589)  loss_box_reg: 0.0580 (0.0721)  loss_objectness: 0.0055 (0.0334)  loss_rpn_box_reg: 0.0024 (0.0079)  time: 0.1413  data: 0.0412  max mem: 3752\n",
      "Epoch: [0]  [ 6300/12099]  eta: 0:11:56  lr: 0.000196  loss: 0.1192 (0.1719)  loss_classifier: 0.0375 (0.0588)  loss_box_reg: 0.0522 (0.0719)  loss_objectness: 0.0071 (0.0333)  loss_rpn_box_reg: 0.0034 (0.0079)  time: 0.1467  data: 0.0434  max mem: 3752\n",
      "Epoch: [0]  [ 6400/12099]  eta: 0:11:46  lr: 0.000196  loss: 0.1340 (0.1715)  loss_classifier: 0.0372 (0.0586)  loss_box_reg: 0.0474 (0.0717)  loss_objectness: 0.0062 (0.0332)  loss_rpn_box_reg: 0.0040 (0.0079)  time: 0.1429  data: 0.0428  max mem: 3752\n",
      "Epoch: [0]  [ 6500/12099]  eta: 0:11:35  lr: 0.000196  loss: 0.0892 (0.1712)  loss_classifier: 0.0315 (0.0585)  loss_box_reg: 0.0425 (0.0716)  loss_objectness: 0.0035 (0.0333)  loss_rpn_box_reg: 0.0018 (0.0079)  time: 0.1381  data: 0.0421  max mem: 3752\n"
     ]
    },
    {
     "name": "stdout",
     "output_type": "stream",
     "text": [
      "Epoch: [0]  [ 6600/12099]  eta: 0:11:23  lr: 0.000196  loss: 0.1140 (0.1709)  loss_classifier: 0.0388 (0.0584)  loss_box_reg: 0.0567 (0.0714)  loss_objectness: 0.0079 (0.0332)  loss_rpn_box_reg: 0.0023 (0.0079)  time: 0.1258  data: 0.0361  max mem: 3752\n",
      "Epoch: [0]  [ 6700/12099]  eta: 0:11:11  lr: 0.000196  loss: 0.1532 (0.1706)  loss_classifier: 0.0502 (0.0583)  loss_box_reg: 0.0612 (0.0713)  loss_objectness: 0.0173 (0.0332)  loss_rpn_box_reg: 0.0042 (0.0078)  time: 0.1343  data: 0.0398  max mem: 3752\n",
      "Epoch: [0]  [ 6800/12099]  eta: 0:10:59  lr: 0.000196  loss: 0.1450 (0.1702)  loss_classifier: 0.0466 (0.0581)  loss_box_reg: 0.0524 (0.0710)  loss_objectness: 0.0083 (0.0332)  loss_rpn_box_reg: 0.0032 (0.0079)  time: 0.1227  data: 0.0356  max mem: 3752\n",
      "Epoch: [0]  [ 6900/12099]  eta: 0:10:47  lr: 0.000196  loss: 0.1350 (0.1699)  loss_classifier: 0.0404 (0.0580)  loss_box_reg: 0.0503 (0.0708)  loss_objectness: 0.0039 (0.0332)  loss_rpn_box_reg: 0.0024 (0.0079)  time: 0.1233  data: 0.0370  max mem: 3752\n",
      "Epoch: [0]  [ 7000/12099]  eta: 0:10:34  lr: 0.000196  loss: 0.0965 (0.1694)  loss_classifier: 0.0349 (0.0579)  loss_box_reg: 0.0341 (0.0705)  loss_objectness: 0.0090 (0.0331)  loss_rpn_box_reg: 0.0022 (0.0079)  time: 0.1320  data: 0.0408  max mem: 3752\n",
      "Epoch: [0]  [ 7100/12099]  eta: 0:10:22  lr: 0.000196  loss: 0.1498 (0.1691)  loss_classifier: 0.0441 (0.0578)  loss_box_reg: 0.0548 (0.0703)  loss_objectness: 0.0086 (0.0331)  loss_rpn_box_reg: 0.0030 (0.0079)  time: 0.1191  data: 0.0343  max mem: 3752\n",
      "Epoch: [0]  [ 7200/12099]  eta: 0:10:09  lr: 0.000196  loss: 0.1528 (0.1690)  loss_classifier: 0.0418 (0.0578)  loss_box_reg: 0.0523 (0.0702)  loss_objectness: 0.0145 (0.0331)  loss_rpn_box_reg: 0.0021 (0.0079)  time: 0.1159  data: 0.0324  max mem: 3752\n",
      "Epoch: [0]  [ 7300/12099]  eta: 0:09:56  lr: 0.000196  loss: 0.1049 (0.1686)  loss_classifier: 0.0356 (0.0577)  loss_box_reg: 0.0549 (0.0701)  loss_objectness: 0.0012 (0.0330)  loss_rpn_box_reg: 0.0023 (0.0079)  time: 0.1182  data: 0.0336  max mem: 3752\n",
      "Epoch: [0]  [ 7400/12099]  eta: 0:09:44  lr: 0.000196  loss: 0.1202 (0.1682)  loss_classifier: 0.0358 (0.0575)  loss_box_reg: 0.0425 (0.0699)  loss_objectness: 0.0028 (0.0329)  loss_rpn_box_reg: 0.0028 (0.0079)  time: 0.1359  data: 0.0407  max mem: 3752\n",
      "Epoch: [0]  [ 7500/12099]  eta: 0:09:32  lr: 0.000196  loss: 0.1092 (0.1680)  loss_classifier: 0.0398 (0.0575)  loss_box_reg: 0.0554 (0.0697)  loss_objectness: 0.0011 (0.0330)  loss_rpn_box_reg: 0.0020 (0.0079)  time: 0.1363  data: 0.0414  max mem: 3752\n",
      "Epoch: [0]  [ 7600/12099]  eta: 0:09:20  lr: 0.000196  loss: 0.1472 (0.1678)  loss_classifier: 0.0523 (0.0574)  loss_box_reg: 0.0632 (0.0696)  loss_objectness: 0.0050 (0.0330)  loss_rpn_box_reg: 0.0032 (0.0079)  time: 0.1132  data: 0.0326  max mem: 3752\n",
      "Epoch: [0]  [ 7700/12099]  eta: 0:09:07  lr: 0.000196  loss: 0.1019 (0.1674)  loss_classifier: 0.0336 (0.0573)  loss_box_reg: 0.0470 (0.0694)  loss_objectness: 0.0021 (0.0329)  loss_rpn_box_reg: 0.0023 (0.0079)  time: 0.1147  data: 0.0329  max mem: 3752\n",
      "Epoch: [0]  [ 7800/12099]  eta: 0:08:54  lr: 0.000196  loss: 0.1281 (0.1672)  loss_classifier: 0.0403 (0.0572)  loss_box_reg: 0.0550 (0.0693)  loss_objectness: 0.0062 (0.0329)  loss_rpn_box_reg: 0.0017 (0.0079)  time: 0.1153  data: 0.0342  max mem: 3752\n",
      "Epoch: [0]  [ 7900/12099]  eta: 0:08:41  lr: 0.000196  loss: 0.1649 (0.1671)  loss_classifier: 0.0548 (0.0571)  loss_box_reg: 0.0575 (0.0691)  loss_objectness: 0.0069 (0.0330)  loss_rpn_box_reg: 0.0031 (0.0079)  time: 0.1241  data: 0.0380  max mem: 3752\n",
      "Epoch: [0]  [ 8000/12099]  eta: 0:08:29  lr: 0.000196  loss: 0.1111 (0.1668)  loss_classifier: 0.0432 (0.0570)  loss_box_reg: 0.0548 (0.0689)  loss_objectness: 0.0075 (0.0329)  loss_rpn_box_reg: 0.0029 (0.0079)  time: 0.1264  data: 0.0392  max mem: 3752\n",
      "Epoch: [0]  [ 8100/12099]  eta: 0:08:16  lr: 0.000196  loss: 0.1468 (0.1665)  loss_classifier: 0.0537 (0.0569)  loss_box_reg: 0.0582 (0.0688)  loss_objectness: 0.0227 (0.0329)  loss_rpn_box_reg: 0.0046 (0.0078)  time: 0.1186  data: 0.0361  max mem: 3752\n",
      "Epoch: [0]  [ 8200/12099]  eta: 0:08:03  lr: 0.000196  loss: 0.1584 (0.1664)  loss_classifier: 0.0423 (0.0569)  loss_box_reg: 0.0571 (0.0687)  loss_objectness: 0.0165 (0.0329)  loss_rpn_box_reg: 0.0025 (0.0078)  time: 0.1149  data: 0.0333  max mem: 3752\n",
      "Epoch: [0]  [ 8300/12099]  eta: 0:07:50  lr: 0.000196  loss: 0.1094 (0.1662)  loss_classifier: 0.0340 (0.0568)  loss_box_reg: 0.0556 (0.0686)  loss_objectness: 0.0030 (0.0330)  loss_rpn_box_reg: 0.0022 (0.0078)  time: 0.1144  data: 0.0331  max mem: 3752\n",
      "Epoch: [0]  [ 8400/12099]  eta: 0:07:38  lr: 0.000196  loss: 0.1333 (0.1660)  loss_classifier: 0.0457 (0.0568)  loss_box_reg: 0.0485 (0.0684)  loss_objectness: 0.0073 (0.0330)  loss_rpn_box_reg: 0.0025 (0.0078)  time: 0.1149  data: 0.0335  max mem: 3752\n",
      "Epoch: [0]  [ 8500/12099]  eta: 0:07:25  lr: 0.000196  loss: 0.1137 (0.1657)  loss_classifier: 0.0334 (0.0566)  loss_box_reg: 0.0469 (0.0683)  loss_objectness: 0.0062 (0.0329)  loss_rpn_box_reg: 0.0037 (0.0078)  time: 0.1242  data: 0.0379  max mem: 3752\n",
      "Epoch: [0]  [ 8600/12099]  eta: 0:07:12  lr: 0.000196  loss: 0.1275 (0.1655)  loss_classifier: 0.0405 (0.0565)  loss_box_reg: 0.0624 (0.0682)  loss_objectness: 0.0087 (0.0329)  loss_rpn_box_reg: 0.0025 (0.0078)  time: 0.1168  data: 0.0338  max mem: 3752\n",
      "Epoch: [0]  [ 8700/12099]  eta: 0:07:00  lr: 0.000196  loss: 0.1154 (0.1653)  loss_classifier: 0.0347 (0.0565)  loss_box_reg: 0.0500 (0.0680)  loss_objectness: 0.0023 (0.0330)  loss_rpn_box_reg: 0.0029 (0.0078)  time: 0.1144  data: 0.0330  max mem: 3752\n",
      "Epoch: [0]  [ 8800/12099]  eta: 0:06:47  lr: 0.000196  loss: 0.1185 (0.1653)  loss_classifier: 0.0328 (0.0564)  loss_box_reg: 0.0563 (0.0679)  loss_objectness: 0.0230 (0.0331)  loss_rpn_box_reg: 0.0030 (0.0078)  time: 0.1170  data: 0.0337  max mem: 3752\n",
      "Epoch: [0]  [ 8900/12099]  eta: 0:06:34  lr: 0.000196  loss: 0.1296 (0.1653)  loss_classifier: 0.0396 (0.0563)  loss_box_reg: 0.0454 (0.0678)  loss_objectness: 0.0034 (0.0333)  loss_rpn_box_reg: 0.0016 (0.0079)  time: 0.1262  data: 0.0389  max mem: 3752\n",
      "Epoch: [0]  [ 9000/12099]  eta: 0:06:22  lr: 0.000196  loss: 0.1487 (0.1651)  loss_classifier: 0.0424 (0.0563)  loss_box_reg: 0.0514 (0.0677)  loss_objectness: 0.0085 (0.0333)  loss_rpn_box_reg: 0.0035 (0.0078)  time: 0.1145  data: 0.0330  max mem: 3752\n",
      "Epoch: [0]  [ 9100/12099]  eta: 0:06:09  lr: 0.000196  loss: 0.1639 (0.1651)  loss_classifier: 0.0449 (0.0562)  loss_box_reg: 0.0640 (0.0677)  loss_objectness: 0.0131 (0.0333)  loss_rpn_box_reg: 0.0031 (0.0078)  time: 0.1238  data: 0.0360  max mem: 3752\n",
      "Epoch: [0]  [ 9200/12099]  eta: 0:05:57  lr: 0.000196  loss: 0.1490 (0.1649)  loss_classifier: 0.0443 (0.0561)  loss_box_reg: 0.0466 (0.0676)  loss_objectness: 0.0187 (0.0333)  loss_rpn_box_reg: 0.0027 (0.0078)  time: 0.1150  data: 0.0327  max mem: 3752\n",
      "Epoch: [0]  [ 9300/12099]  eta: 0:05:44  lr: 0.000196  loss: 0.1347 (0.1649)  loss_classifier: 0.0433 (0.0561)  loss_box_reg: 0.0544 (0.0676)  loss_objectness: 0.0166 (0.0334)  loss_rpn_box_reg: 0.0032 (0.0079)  time: 0.1135  data: 0.0320  max mem: 3752\n",
      "Epoch: [0]  [ 9400/12099]  eta: 0:05:32  lr: 0.000196  loss: 0.1052 (0.1647)  loss_classifier: 0.0397 (0.0560)  loss_box_reg: 0.0592 (0.0675)  loss_objectness: 0.0057 (0.0333)  loss_rpn_box_reg: 0.0017 (0.0079)  time: 0.1143  data: 0.0319  max mem: 3752\n",
      "Epoch: [0]  [ 9500/12099]  eta: 0:05:19  lr: 0.000196  loss: 0.1505 (0.1645)  loss_classifier: 0.0412 (0.0559)  loss_box_reg: 0.0449 (0.0674)  loss_objectness: 0.0147 (0.0333)  loss_rpn_box_reg: 0.0021 (0.0079)  time: 0.1140  data: 0.0329  max mem: 3752\n",
      "Epoch: [0]  [ 9600/12099]  eta: 0:05:07  lr: 0.000196  loss: 0.1167 (0.1643)  loss_classifier: 0.0352 (0.0559)  loss_box_reg: 0.0582 (0.0673)  loss_objectness: 0.0042 (0.0332)  loss_rpn_box_reg: 0.0013 (0.0079)  time: 0.1129  data: 0.0315  max mem: 3752\n",
      "Epoch: [0]  [ 9700/12099]  eta: 0:04:55  lr: 0.000196  loss: 0.1222 (0.1641)  loss_classifier: 0.0433 (0.0558)  loss_box_reg: 0.0481 (0.0672)  loss_objectness: 0.0061 (0.0332)  loss_rpn_box_reg: 0.0020 (0.0079)  time: 0.1294  data: 0.0381  max mem: 3752\n",
      "Epoch: [0]  [ 9800/12099]  eta: 0:04:42  lr: 0.000196  loss: 0.1086 (0.1641)  loss_classifier: 0.0384 (0.0557)  loss_box_reg: 0.0473 (0.0671)  loss_objectness: 0.0102 (0.0334)  loss_rpn_box_reg: 0.0018 (0.0079)  time: 0.1231  data: 0.0375  max mem: 3752\n"
     ]
    },
    {
     "name": "stdout",
     "output_type": "stream",
     "text": [
      "Epoch: [0]  [ 9900/12099]  eta: 0:04:30  lr: 0.000196  loss: 0.1167 (0.1639)  loss_classifier: 0.0427 (0.0557)  loss_box_reg: 0.0599 (0.0670)  loss_objectness: 0.0053 (0.0333)  loss_rpn_box_reg: 0.0017 (0.0079)  time: 0.1269  data: 0.0379  max mem: 3752\n",
      "Epoch: [0]  [10000/12099]  eta: 0:04:18  lr: 0.000196  loss: 0.1211 (0.1637)  loss_classifier: 0.0318 (0.0556)  loss_box_reg: 0.0394 (0.0669)  loss_objectness: 0.0072 (0.0333)  loss_rpn_box_reg: 0.0030 (0.0079)  time: 0.1302  data: 0.0402  max mem: 3752\n",
      "Epoch: [0]  [10100/12099]  eta: 0:04:05  lr: 0.000196  loss: 0.1390 (0.1636)  loss_classifier: 0.0568 (0.0556)  loss_box_reg: 0.0508 (0.0668)  loss_objectness: 0.0178 (0.0334)  loss_rpn_box_reg: 0.0015 (0.0079)  time: 0.1135  data: 0.0324  max mem: 3752\n",
      "Epoch: [0]  [10200/12099]  eta: 0:03:53  lr: 0.000196  loss: 0.0945 (0.1634)  loss_classifier: 0.0302 (0.0555)  loss_box_reg: 0.0313 (0.0667)  loss_objectness: 0.0044 (0.0333)  loss_rpn_box_reg: 0.0017 (0.0079)  time: 0.1149  data: 0.0333  max mem: 3752\n",
      "Epoch: [0]  [10300/12099]  eta: 0:03:41  lr: 0.000196  loss: 0.1298 (0.1632)  loss_classifier: 0.0344 (0.0555)  loss_box_reg: 0.0487 (0.0666)  loss_objectness: 0.0064 (0.0333)  loss_rpn_box_reg: 0.0029 (0.0078)  time: 0.1148  data: 0.0327  max mem: 3752\n",
      "Epoch: [0]  [10400/12099]  eta: 0:03:28  lr: 0.000196  loss: 0.0781 (0.1629)  loss_classifier: 0.0274 (0.0554)  loss_box_reg: 0.0409 (0.0665)  loss_objectness: 0.0021 (0.0332)  loss_rpn_box_reg: 0.0021 (0.0078)  time: 0.1179  data: 0.0360  max mem: 3752\n",
      "Epoch: [0]  [10500/12099]  eta: 0:03:16  lr: 0.000196  loss: 0.1353 (0.1627)  loss_classifier: 0.0415 (0.0553)  loss_box_reg: 0.0643 (0.0664)  loss_objectness: 0.0018 (0.0332)  loss_rpn_box_reg: 0.0038 (0.0078)  time: 0.1150  data: 0.0332  max mem: 3752\n",
      "Epoch: [0]  [10600/12099]  eta: 0:03:04  lr: 0.000196  loss: 0.1402 (0.1626)  loss_classifier: 0.0388 (0.0553)  loss_box_reg: 0.0392 (0.0663)  loss_objectness: 0.0123 (0.0331)  loss_rpn_box_reg: 0.0035 (0.0078)  time: 0.1268  data: 0.0382  max mem: 3752\n",
      "Epoch: [0]  [10700/12099]  eta: 0:02:51  lr: 0.000196  loss: 0.1414 (0.1624)  loss_classifier: 0.0422 (0.0552)  loss_box_reg: 0.0490 (0.0662)  loss_objectness: 0.0076 (0.0331)  loss_rpn_box_reg: 0.0023 (0.0078)  time: 0.1135  data: 0.0311  max mem: 3752\n",
      "Epoch: [0]  [10800/12099]  eta: 0:02:39  lr: 0.000196  loss: 0.1384 (0.1622)  loss_classifier: 0.0383 (0.0552)  loss_box_reg: 0.0570 (0.0661)  loss_objectness: 0.0119 (0.0331)  loss_rpn_box_reg: 0.0017 (0.0078)  time: 0.1140  data: 0.0310  max mem: 3752\n",
      "Epoch: [0]  [10900/12099]  eta: 0:02:26  lr: 0.000196  loss: 0.1180 (0.1621)  loss_classifier: 0.0341 (0.0551)  loss_box_reg: 0.0456 (0.0660)  loss_objectness: 0.0099 (0.0331)  loss_rpn_box_reg: 0.0019 (0.0079)  time: 0.1148  data: 0.0316  max mem: 3752\n",
      "Epoch: [0]  [11000/12099]  eta: 0:02:14  lr: 0.000196  loss: 0.1231 (0.1619)  loss_classifier: 0.0393 (0.0551)  loss_box_reg: 0.0482 (0.0659)  loss_objectness: 0.0035 (0.0331)  loss_rpn_box_reg: 0.0030 (0.0079)  time: 0.1172  data: 0.0333  max mem: 3752\n",
      "Epoch: [0]  [11100/12099]  eta: 0:02:02  lr: 0.000196  loss: 0.1342 (0.1619)  loss_classifier: 0.0385 (0.0550)  loss_box_reg: 0.0538 (0.0659)  loss_objectness: 0.0184 (0.0332)  loss_rpn_box_reg: 0.0018 (0.0078)  time: 0.1155  data: 0.0326  max mem: 3752\n",
      "Epoch: [0]  [11200/12099]  eta: 0:01:50  lr: 0.000196  loss: 0.1576 (0.1617)  loss_classifier: 0.0491 (0.0550)  loss_box_reg: 0.0481 (0.0658)  loss_objectness: 0.0258 (0.0332)  loss_rpn_box_reg: 0.0021 (0.0078)  time: 0.1131  data: 0.0324  max mem: 3752\n",
      "Epoch: [0]  [11300/12099]  eta: 0:01:37  lr: 0.000196  loss: 0.0972 (0.1616)  loss_classifier: 0.0345 (0.0549)  loss_box_reg: 0.0376 (0.0657)  loss_objectness: 0.0041 (0.0332)  loss_rpn_box_reg: 0.0023 (0.0078)  time: 0.1125  data: 0.0318  max mem: 3752\n",
      "Epoch: [0]  [11400/12099]  eta: 0:01:25  lr: 0.000196  loss: 0.1381 (0.1616)  loss_classifier: 0.0476 (0.0549)  loss_box_reg: 0.0410 (0.0656)  loss_objectness: 0.0240 (0.0332)  loss_rpn_box_reg: 0.0039 (0.0078)  time: 0.1117  data: 0.0311  max mem: 3752\n",
      "Epoch: [0]  [11500/12099]  eta: 0:01:13  lr: 0.000196  loss: 0.1378 (0.1613)  loss_classifier: 0.0466 (0.0548)  loss_box_reg: 0.0542 (0.0655)  loss_objectness: 0.0178 (0.0332)  loss_rpn_box_reg: 0.0037 (0.0078)  time: 0.1114  data: 0.0310  max mem: 3752\n",
      "Epoch: [0]  [11600/12099]  eta: 0:01:00  lr: 0.000196  loss: 0.1259 (0.1614)  loss_classifier: 0.0432 (0.0548)  loss_box_reg: 0.0397 (0.0654)  loss_objectness: 0.0102 (0.0333)  loss_rpn_box_reg: 0.0039 (0.0079)  time: 0.1133  data: 0.0314  max mem: 3752\n",
      "Epoch: [0]  [11700/12099]  eta: 0:00:48  lr: 0.000196  loss: 0.1375 (0.1613)  loss_classifier: 0.0410 (0.0547)  loss_box_reg: 0.0556 (0.0654)  loss_objectness: 0.0191 (0.0334)  loss_rpn_box_reg: 0.0035 (0.0079)  time: 0.1103  data: 0.0296  max mem: 3752\n",
      "Epoch: [0]  [11800/12099]  eta: 0:00:36  lr: 0.000196  loss: 0.1417 (0.1612)  loss_classifier: 0.0361 (0.0547)  loss_box_reg: 0.0354 (0.0653)  loss_objectness: 0.0088 (0.0333)  loss_rpn_box_reg: 0.0048 (0.0079)  time: 0.1139  data: 0.0315  max mem: 3752\n",
      "Epoch: [0]  [11900/12099]  eta: 0:00:24  lr: 0.000196  loss: 0.1628 (0.1611)  loss_classifier: 0.0542 (0.0547)  loss_box_reg: 0.0531 (0.0653)  loss_objectness: 0.0133 (0.0333)  loss_rpn_box_reg: 0.0030 (0.0079)  time: 0.1217  data: 0.0362  max mem: 3752\n",
      "Epoch: [0]  [12000/12099]  eta: 0:00:12  lr: 0.000196  loss: 0.1219 (0.1610)  loss_classifier: 0.0339 (0.0546)  loss_box_reg: 0.0447 (0.0652)  loss_objectness: 0.0031 (0.0334)  loss_rpn_box_reg: 0.0034 (0.0079)  time: 0.1450  data: 0.0505  max mem: 3752\n",
      "Epoch: [0]  [12098/12099]  eta: 0:00:00  lr: 0.000196  loss: 0.0936 (0.1608)  loss_classifier: 0.0328 (0.0545)  loss_box_reg: 0.0396 (0.0651)  loss_objectness: 0.0033 (0.0333)  loss_rpn_box_reg: 0.0024 (0.0079)  time: 0.1274  data: 0.0390  max mem: 3752\n",
      "Epoch: [0] Total time: 0:24:36 (0.1221 s / it)\n"
     ]
    }
   ],
   "source": [
    "# TRAIN\n",
    "\n",
    "all_train_logs = []\n",
    "all_trans_valid_logs = []\n",
    "all_cis_valid_logs = []\n",
    "\n",
    "num_epochs = 1\n",
    "\n",
    "for epoch in range(num_epochs):\n",
    "    # train for one epoch, printing every 10 iterations\n",
    "    train_logs = train_one_epoch(model, optimizer, train_dataloader, device, epoch, print_freq=100)\n",
    "    all_train_logs.append(train_logs)\n",
    "    # update the learning rate\n",
    "    lr_scheduler.step()\n",
    "    # evaluate on the test dataset\n",
    "\n",
    "    for images, targets in trans_valid_dataloader: # can do batch of 10 prob.\n",
    "        images = [image.to(device) for image in images]\n",
    "        targets = [{k: v.to(device) for k, v in t.items()} for t in targets]\n",
    "\n",
    "        with torch.no_grad():\n",
    "            trans_loss_dict = model(images, targets)\n",
    "            trans_loss_dict = [{k: loss.to('cpu')} for k, loss in trans_loss_dict.items()]\n",
    "            all_trans_valid_logs.append(trans_loss_dict)\n",
    "\n",
    "\n",
    "    for images, targets in cis_valid_dataloader: # can do batch of 10 prob.\n",
    "        images = [image.to(device) for image in images]\n",
    "        targets = [{k: v.to(device) for k, v in t.items()} for t in targets]\n",
    "\n",
    "        with torch.no_grad():\n",
    "            cis_loss_dict = model(images, targets)\n",
    "            cis_loss_dict = [{k: loss.to('cpu')} for k, loss in cis_loss_dict.items()]\n",
    "            all_cis_valid_logs.append(cis_loss_dict)"
   ]
  },
  {
   "cell_type": "code",
   "execution_count": 126,
   "metadata": {
    "scrolled": true
   },
   "outputs": [
    {
     "name": "stdout",
     "output_type": "stream",
     "text": [
      "lr: 0.000196  loss: 0.0936 (0.1608)  loss_classifier: 0.0328 (0.0545)  loss_box_reg: 0.0396 (0.0651)  loss_objectness: 0.0033 (0.0333)  loss_rpn_box_reg: 0.0024 (0.0079)\n"
     ]
    }
   ],
   "source": [
    "print(all_train_logs[0])"
   ]
  },
  {
   "cell_type": "code",
   "execution_count": 127,
   "metadata": {},
   "outputs": [
    {
     "data": {
      "text/plain": [
       "1"
      ]
     },
     "execution_count": 127,
     "metadata": {},
     "output_type": "execute_result"
    }
   ],
   "source": [
    "len(all_train_logs)"
   ]
  },
  {
   "cell_type": "code",
   "execution_count": 129,
   "metadata": {},
   "outputs": [
    {
     "data": {
      "text/plain": [
       "154"
      ]
     },
     "execution_count": 129,
     "metadata": {},
     "output_type": "execute_result"
    }
   ],
   "source": [
    "len(all_trans_valid_logs)"
   ]
  },
  {
   "cell_type": "code",
   "execution_count": 131,
   "metadata": {},
   "outputs": [
    {
     "name": "stdout",
     "output_type": "stream",
     "text": [
      "[{'loss_classifier': tensor(0.0361)}, {'loss_box_reg': tensor(0.0472)}, {'loss_objectness': tensor(0.0536)}, {'loss_rpn_box_reg': tensor(0.0048)}]\n"
     ]
    }
   ],
   "source": [
    "print(all_cis_valid_logs[0])"
   ]
  },
  {
   "cell_type": "code",
   "execution_count": 149,
   "metadata": {},
   "outputs": [
    {
     "data": {
      "text/plain": [
       "defaultdict(utils.SmoothedValue,\n",
       "            {'lr': <utils.SmoothedValue at 0x23d36642748>,\n",
       "             'loss': <utils.SmoothedValue at 0x23d366e2888>,\n",
       "             'loss_classifier': <utils.SmoothedValue at 0x23d25ccba08>,\n",
       "             'loss_box_reg': <utils.SmoothedValue at 0x23d36717cc8>,\n",
       "             'loss_objectness': <utils.SmoothedValue at 0x23d36643988>,\n",
       "             'loss_rpn_box_reg': <utils.SmoothedValue at 0x23d366485c8>})"
      ]
     },
     "execution_count": 149,
     "metadata": {},
     "output_type": "execute_result"
    }
   ],
   "source": [
    "all_train_logs[0].meters"
   ]
  },
  {
   "cell_type": "code",
   "execution_count": 152,
   "metadata": {},
   "outputs": [
    {
     "data": {
      "text/plain": [
       "0.08557875454425812"
      ]
     },
     "execution_count": 152,
     "metadata": {},
     "output_type": "execute_result"
    }
   ],
   "source": [
    "all_train_logs[0].meters['loss_classifier'].value"
   ]
  },
  {
   "cell_type": "code",
   "execution_count": 151,
   "metadata": {},
   "outputs": [
    {
     "data": {
      "text/plain": [
       "0.17442281544208527"
      ]
     },
     "execution_count": 151,
     "metadata": {},
     "output_type": "execute_result"
    }
   ],
   "source": [
    "all_train_logs[0].meters['loss'].value"
   ]
  },
  {
   "cell_type": "code",
   "execution_count": 150,
   "metadata": {},
   "outputs": [
    {
     "data": {
      "text/plain": [
       "0.10768063366413116"
      ]
     },
     "execution_count": 150,
     "metadata": {},
     "output_type": "execute_result"
    }
   ],
   "source": [
    "all_train_logs[0].meters['loss'].avg"
   ]
  },
  {
   "cell_type": "code",
   "execution_count": null,
   "metadata": {
    "colab": {
     "base_uri": "https://localhost:8080/",
     "height": 383
    },
    "id": "pHMiI20IkMK3",
    "outputId": "5b87d0de-d3f2-44c1-9b19-12bce20d70aa"
   },
   "outputs": [],
   "source": [
    "# trans_valid_logs=evaluate(model, trans_valid_dataloader, device=device)"
   ]
  },
  {
   "cell_type": "code",
   "execution_count": null,
   "metadata": {
    "id": "4OFQ1cH_rTTh"
   },
   "outputs": [],
   "source": [
    "# all_trans_valid_logs=[]\n",
    "# all_trans_valid_logs.append(trans_valid_logs)"
   ]
  },
  {
   "cell_type": "code",
   "execution_count": 154,
   "metadata": {
    "colab": {
     "base_uri": "https://localhost:8080/",
     "height": 287
    },
    "id": "M6aLR3Q3sNRT",
    "outputId": "07d286b6-2a0f-4187-bb0b-a3b9ffa5c550"
   },
   "outputs": [
    {
     "data": {
      "text/plain": [
       "{'loss_rpn_box_reg': tensor(0.0101)}"
      ]
     },
     "execution_count": 154,
     "metadata": {},
     "output_type": "execute_result"
    }
   ],
   "source": [
    "# all_trans_valid_logs[0].meters['loss'].value\n",
    "all_trans_valid_logs[0][3]"
   ]
  },
  {
   "cell_type": "code",
   "execution_count": 155,
   "metadata": {
    "colab": {
     "base_uri": "https://localhost:8080/"
    },
    "id": "IZIzqsgdxpBk",
    "outputId": "2b5cefd1-8810-47f1-e1fa-f4df63a34a1a"
   },
   "outputs": [
    {
     "name": "stdout",
     "output_type": "stream",
     "text": [
      "[<utils.MetricLogger object at 0x0000023D36765DC8>]\n"
     ]
    }
   ],
   "source": [
    "print(all_train_logs)\n",
    "# print(all_train_logs[0])"
   ]
  },
  {
   "cell_type": "code",
   "execution_count": 156,
   "metadata": {
    "colab": {
     "base_uri": "https://localhost:8080/"
    },
    "id": "x11XEWeNCx8_",
    "outputId": "854d5e97-ea04-4f5d-fe0a-f91e758fb0c6"
   },
   "outputs": [
    {
     "ename": "AttributeError",
     "evalue": "'list' object has no attribute 'coco_eval'",
     "output_type": "error",
     "traceback": [
      "\u001b[1;31m---------------------------------------------------------------------------\u001b[0m",
      "\u001b[1;31mAttributeError\u001b[0m                            Traceback (most recent call last)",
      "\u001b[1;32m~\\AppData\\Local\\Temp/ipykernel_15608/3023293740.py\u001b[0m in \u001b[0;36m<module>\u001b[1;34m\u001b[0m\n\u001b[1;32m----> 1\u001b[1;33m \u001b[1;32mfor\u001b[0m \u001b[0miou_type\u001b[0m\u001b[1;33m,\u001b[0m \u001b[0mcoco_eval\u001b[0m \u001b[1;32min\u001b[0m \u001b[0mall_cis_valid_logs\u001b[0m\u001b[1;33m.\u001b[0m\u001b[0mcoco_eval\u001b[0m\u001b[1;33m.\u001b[0m\u001b[0mitems\u001b[0m\u001b[1;33m(\u001b[0m\u001b[1;33m)\u001b[0m\u001b[1;33m:\u001b[0m\u001b[1;33m\u001b[0m\u001b[1;33m\u001b[0m\u001b[0m\n\u001b[0m\u001b[0;32m      2\u001b[0m     \u001b[0mprint\u001b[0m\u001b[1;33m(\u001b[0m\u001b[1;34m\"IoU metric: {}\"\u001b[0m\u001b[1;33m.\u001b[0m\u001b[0mformat\u001b[0m\u001b[1;33m(\u001b[0m\u001b[0miou_type\u001b[0m\u001b[1;33m)\u001b[0m\u001b[1;33m)\u001b[0m\u001b[1;33m\u001b[0m\u001b[1;33m\u001b[0m\u001b[0m\n\u001b[0;32m      3\u001b[0m     \u001b[0mcoco_eval\u001b[0m\u001b[1;33m.\u001b[0m\u001b[0msummarize\u001b[0m\u001b[1;33m(\u001b[0m\u001b[1;33m)\u001b[0m\u001b[1;33m\u001b[0m\u001b[1;33m\u001b[0m\u001b[0m\n",
      "\u001b[1;31mAttributeError\u001b[0m: 'list' object has no attribute 'coco_eval'"
     ]
    }
   ],
   "source": [
    "for iou_type, coco_eval in all_cis_valid_logs.coco_eval.items():\n",
    "    print(\"IoU metric: {}\".format(iou_type))\n",
    "    coco_eval.summarize()"
   ]
  },
  {
   "cell_type": "code",
   "execution_count": null,
   "metadata": {
    "colab": {
     "base_uri": "https://localhost:8080/"
    },
    "id": "0Ha4nKBUCk1e",
    "outputId": "3aa24fe2-ed5f-4a38-8194-aecd4ba74cdc"
   },
   "outputs": [],
   "source": [
    "cis_valid_logs.coco_eval['bbox']"
   ]
  },
  {
   "cell_type": "code",
   "execution_count": 98,
   "metadata": {},
   "outputs": [
    {
     "data": {
      "text/plain": [
       "defaultdict(utils.SmoothedValue,\n",
       "            {'lr': <utils.SmoothedValue at 0x23d36642748>,\n",
       "             'loss': <utils.SmoothedValue at 0x23d366e2888>,\n",
       "             'loss_classifier': <utils.SmoothedValue at 0x23d25ccba08>,\n",
       "             'loss_box_reg': <utils.SmoothedValue at 0x23d36717cc8>,\n",
       "             'loss_objectness': <utils.SmoothedValue at 0x23d36643988>,\n",
       "             'loss_rpn_box_reg': <utils.SmoothedValue at 0x23d366485c8>})"
      ]
     },
     "execution_count": 98,
     "metadata": {},
     "output_type": "execute_result"
    }
   ],
   "source": [
    "all_train_logs[0].meters"
   ]
  },
  {
   "cell_type": "code",
   "execution_count": 89,
   "metadata": {},
   "outputs": [
    {
     "data": {
      "text/plain": [
       "0.17442281544208527"
      ]
     },
     "execution_count": 89,
     "metadata": {},
     "output_type": "execute_result"
    }
   ],
   "source": [
    "all_train_logs[0].meters['loss'].value"
   ]
  },
  {
   "cell_type": "code",
   "execution_count": 90,
   "metadata": {},
   "outputs": [
    {
     "name": "stdout",
     "output_type": "stream",
     "text": [
      "0.0936 (0.1608)\n"
     ]
    }
   ],
   "source": [
    "print(all_train_logs[0].meters['loss'])"
   ]
  },
  {
   "cell_type": "code",
   "execution_count": 83,
   "metadata": {},
   "outputs": [
    {
     "data": {
      "text/plain": [
       "range(0, 1)"
      ]
     },
     "execution_count": 83,
     "metadata": {},
     "output_type": "execute_result"
    }
   ],
   "source": [
    "range(1)"
   ]
  },
  {
   "cell_type": "code",
   "execution_count": 100,
   "metadata": {
    "colab": {
     "base_uri": "https://localhost:8080/",
     "height": 717
    },
    "id": "o9jlXazqwHCv",
    "outputId": "a7c7c674-5462-4436-dd65-e1e5887c8bab"
   },
   "outputs": [
    {
     "ename": "AttributeError",
     "evalue": "'list' object has no attribute 'meters'",
     "output_type": "error",
     "traceback": [
      "\u001b[1;31m---------------------------------------------------------------------------\u001b[0m",
      "\u001b[1;31mAttributeError\u001b[0m                            Traceback (most recent call last)",
      "\u001b[1;32m~\\AppData\\Local\\Temp/ipykernel_15608/1941833413.py\u001b[0m in \u001b[0;36m<module>\u001b[1;34m\u001b[0m\n\u001b[0;32m     11\u001b[0m     \u001b[0mtrain_loss_box_reg\u001b[0m\u001b[1;33m.\u001b[0m\u001b[0mappend\u001b[0m\u001b[1;33m(\u001b[0m\u001b[0mall_train_logs\u001b[0m\u001b[1;33m[\u001b[0m\u001b[0mi\u001b[0m\u001b[1;33m]\u001b[0m\u001b[1;33m.\u001b[0m\u001b[0mmeters\u001b[0m\u001b[1;33m[\u001b[0m\u001b[1;34m'loss_box_reg'\u001b[0m\u001b[1;33m]\u001b[0m\u001b[1;33m.\u001b[0m\u001b[0mvalue\u001b[0m\u001b[1;33m)\u001b[0m\u001b[1;33m\u001b[0m\u001b[1;33m\u001b[0m\u001b[0m\n\u001b[0;32m     12\u001b[0m \u001b[1;33m\u001b[0m\u001b[0m\n\u001b[1;32m---> 13\u001b[1;33m     \u001b[0mtrans_valid_loss\u001b[0m\u001b[1;33m.\u001b[0m\u001b[0mappend\u001b[0m\u001b[1;33m(\u001b[0m\u001b[0mall_trans_valid_logs\u001b[0m\u001b[1;33m[\u001b[0m\u001b[0mi\u001b[0m\u001b[1;33m]\u001b[0m\u001b[1;33m.\u001b[0m\u001b[0mmeters\u001b[0m\u001b[1;33m[\u001b[0m\u001b[1;34m'loss'\u001b[0m\u001b[1;33m]\u001b[0m\u001b[1;33m.\u001b[0m\u001b[0mvalue\u001b[0m\u001b[1;33m)\u001b[0m\u001b[1;33m\u001b[0m\u001b[1;33m\u001b[0m\u001b[0m\n\u001b[0m\u001b[0;32m     14\u001b[0m     \u001b[0mtrans_valid_loss\u001b[0m\u001b[1;33m.\u001b[0m\u001b[0mappend\u001b[0m\u001b[1;33m(\u001b[0m\u001b[0mall_trans_valid_logs\u001b[0m\u001b[1;33m[\u001b[0m\u001b[0mi\u001b[0m\u001b[1;33m]\u001b[0m\u001b[1;33m.\u001b[0m\u001b[0mmeters\u001b[0m\u001b[1;33m[\u001b[0m\u001b[1;34m'loss_box_reg'\u001b[0m\u001b[1;33m]\u001b[0m\u001b[1;33m.\u001b[0m\u001b[0mvalue\u001b[0m\u001b[1;33m)\u001b[0m\u001b[1;33m\u001b[0m\u001b[1;33m\u001b[0m\u001b[0m\n\u001b[0;32m     15\u001b[0m \u001b[1;33m\u001b[0m\u001b[0m\n",
      "\u001b[1;31mAttributeError\u001b[0m: 'list' object has no attribute 'meters'"
     ]
    },
    {
     "data": {
      "image/png": "[encoded data removed]",
      "text/plain": [
       "<Figure size 1440x432 with 2 Axes>"
      ]
     },
     "metadata": {
      "needs_background": "light"
     },
     "output_type": "display_data"
    }
   ],
   "source": [
    "train_loss = []\n",
    "train_loss_box_reg = []\n",
    "cis_valid_loss = []\n",
    "cis_valid_loss_box_reg = []\n",
    "trans_valid_loss = []\n",
    "trans_valid_loss_box_reg = []\n",
    "fig, ax = plt.subplots(1,2, figsize=(20,6))\n",
    "\n",
    "for i in range(1):\n",
    "    train_loss.append(all_train_logs[i].meters['loss'].value)\n",
    "    train_loss_box_reg.append(all_train_logs[i].meters['loss_box_reg'].value)\n",
    "\n",
    "    trans_valid_loss.append(all_trans_valid_logs[i].meters['loss'].value)\n",
    "    trans_valid_loss.append(all_trans_valid_logs[i].meters['loss_box_reg'].value)\n",
    "\n",
    "    #cis_valid_loss.append(all_cis_valid_logs[i].meters['loss'].value)\n",
    "    #cis_valid_loss_box_reg.append(all_cis_valid_logs[i].meters['loss_box_reg'].value)\n",
    "\n",
    "ax[0].plot(np.arange(1),train_loss, label='train')\n",
    "ax[0].plot(np.arange(1),trans_valid_loss, label='trans valid')\n",
    "#ax[0].plot(np.arange(num_epochs),cis_valid_loss, label='cis valid')\n",
    "ax[0].set_ylabel('loss')\n",
    "ax[0].set_xlabel('epoch')\n",
    "ax[0].legend()\n",
    "\n",
    "ax[1].plot(np.arange(num_epochs),train_loss_box_reg,label='train')\n",
    "ax[1].set_ylabel('loss_box_reg')\n",
    "ax[1].set_xlabel('epoch')"
   ]
  },
  {
   "cell_type": "markdown",
   "metadata": {
    "id": "SPV4Pxyajekr"
   },
   "source": [
    "To obtain predicitons"
   ]
  },
  {
   "cell_type": "code",
   "execution_count": null,
   "metadata": {
    "id": "1dTlEPVhRVHE"
   },
   "outputs": [],
   "source": [
    "train_features, train_labels = next(iter(trans_valid_dataloader))\n",
    "image=list(image.to(device) for image in train_features)\n",
    "\n",
    "model.eval()\n",
    "with torch.no_grad():\n",
    "  pred=model(image)"
   ]
  },
  {
   "cell_type": "code",
   "execution_count": null,
   "metadata": {
    "colab": {
     "base_uri": "https://localhost:8080/",
     "height": 368
    },
    "id": "tkwIJ6cCeRq3",
    "outputId": "33012e5f-2664-46ef-fa1e-b54bf5e2faf5"
   },
   "outputs": [],
   "source": [
    "fig, ax = plt.subplots(1,3,figsize=(24,16))\n",
    "\n",
    "ax[0].imshow(train_features[0][0].squeeze(),cmap=\"gray\")\n",
    "rect = patches.Rectangle((train_labels[0]['boxes'][0][0], train_labels[0]['boxes'][0][1]), train_labels[0]['boxes'][0][2]-train_labels[0]['boxes'][0][0], train_labels[0]['boxes'][0][3]-train_labels[0]['boxes'][0][1], linewidth=2, edgecolor='r', facecolor='none')\n",
    "ax[0].add_patch(rect)\n",
    "ax[0].set_title('Ground truth')\n",
    "\n",
    "ax[1].imshow(train_features[0][0].squeeze(),cmap=\"gray\")\n",
    "for i in range(len(pred[0]['boxes'])):\n",
    "  rect = patches.Rectangle((pred[0]['boxes'][i][0].cpu(), pred[0]['boxes'][i][1].cpu()), (pred[0]['boxes'][i][2]-pred[0]['boxes'][i][0]).cpu(), (pred[0]['boxes'][i][3]-pred[0]['boxes'][i][1]).cpu(), linewidth=2, edgecolor='r', facecolor='none')\n",
    "  ax[1].add_patch(rect)\n",
    "ax[1].set_title('Pred')\n",
    "\n",
    "#NMS\n",
    "iou_threshold=0.005 # param to tune\n",
    "boxes_to_keep=torchvision.ops.nms(pred[0]['boxes'],pred[0]['scores'],iou_threshold=iou_threshold).cpu()\n",
    "ax[2].imshow(train_features[0][0].squeeze(),cmap=\"gray\")\n",
    "for i in boxes_to_keep:\n",
    "  rect = patches.Rectangle((pred[0]['boxes'][i][0].cpu(), pred[0]['boxes'][i][1].cpu()), (pred[0]['boxes'][i][2]-pred[0]['boxes'][i][0]).cpu(), (pred[0]['boxes'][i][3]-pred[0]['boxes'][i][1]).cpu(), linewidth=2, edgecolor='r', facecolor='none')\n",
    "  ax[2].add_patch(rect)\n",
    "\n",
    "ax[2].set_title('After NMS')\n"
   ]
  },
  {
   "cell_type": "code",
   "execution_count": null,
   "metadata": {
    "id": "sZDc5hxIvZoN"
   },
   "outputs": [],
   "source": [
    "# ' For evaluation, we consider a detected box to be correct if its IoU≥ 0.5 with a ground truth box.'\n"
   ]
  },
  {
   "cell_type": "code",
   "execution_count": null,
   "metadata": {
    "id": "x7e4y2-nCND0"
   },
   "outputs": [],
   "source": [
    "# doesnt seem to change something to do this before the MAP \n",
    "pred[0]['boxes']=pred[0]['boxes'][boxes_to_keep]\n",
    "pred[0]['labels']=pred[0]['labels'][boxes_to_keep]\n",
    "pred[0]['scores']=pred[0]['scores'][boxes_to_keep]"
   ]
  },
  {
   "cell_type": "markdown",
   "metadata": {
    "id": "3R--lgH4RXfG"
   },
   "source": [
    "Metrics"
   ]
  },
  {
   "cell_type": "code",
   "execution_count": null,
   "metadata": {
    "colab": {
     "base_uri": "https://localhost:8080/"
    },
    "id": "pjYowlRyHjRa",
    "outputId": "812bbc3c-3659-403d-eb41-bb7fe3f1f8eb"
   },
   "outputs": [],
   "source": [
    "metric = MeanAveragePrecision( max_detection_thresholds=[2])\n",
    "metric.update(pred, list(train_labels))\n",
    "from pprint import pprint\n",
    "pprint(metric.compute())"
   ]
  },
  {
   "cell_type": "code",
   "execution_count": null,
   "metadata": {
    "colab": {
     "base_uri": "https://localhost:8080/"
    },
    "id": "BaOCxXDmRmJd",
    "outputId": "27cee095-b172-43f3-fa06-af480c243c16"
   },
   "outputs": [],
   "source": [
    "model.roi_heads # original roi heads"
   ]
  },
  {
   "cell_type": "code",
   "execution_count": null,
   "metadata": {
    "id": "EPLDTv-aPmSZ"
   },
   "outputs": [],
   "source": [
    "# replace the classifier with a new one, that has\n",
    "# num_classes which is user-defined\n",
    "num_classes = 2  # 1 class (animal) + background\n",
    "# get number of input features for the classifier\n",
    "in_features = model.roi_heads.box_predictor.cls_score.in_features\n",
    "# replace the pre-trained head with a new one\n",
    "model.roi_heads.box_predictor = FastRCNNPredictor(in_features, num_classes)"
   ]
  },
  {
   "cell_type": "code",
   "execution_count": null,
   "metadata": {
    "id": "pWhYPrH2d55v"
   },
   "outputs": [],
   "source": [
    "# We would prob need to change the size in \n",
    "# Resize(min_size=(800,), max_size=1333, mode='bilinear')\n",
    "\n",
    "\n",
    "## CEt Ligne est ecrit par Abdiel\n",
    "## Celle-ci est écrite par Kevin.\n",
    "\n",
    "# As well as the output size in the fc of the FastRCNN Predictor\n",
    "#(cls_score): Linear(in_features=1024, out_features=91, bias=True)\n",
    "#(bbox_pred): Linear(in_features=1024, out_features=364, bias=True)\n"
   ]
  }
 ],
 "metadata": {
  "accelerator": "GPU",
  "colab": {
   "collapsed_sections": [],
   "name": "Copy of Step1_TransferLearning.ipynb",
   "provenance": []
  },
  "kernelspec": {
   "display_name": "Animals",
   "language": "python",
   "name": "animals"
  },
  "language_info": {
   "codemirror_mode": {
    "name": "ipython",
    "version": 3
   },
   "file_extension": ".py",
   "mimetype": "text/x-python",
   "name": "python",
   "nbconvert_exporter": "python",
   "pygments_lexer": "ipython3",
   "version": "3.7.11"
  }
 },
 "nbformat": 4,
 "nbformat_minor": 1
}
