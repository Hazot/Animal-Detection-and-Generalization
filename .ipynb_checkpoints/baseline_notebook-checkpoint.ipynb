{
 "cells": [
  {
   "cell_type": "markdown",
   "metadata": {},
   "source": [
    "# Imports"
   ]
  },
  {
   "cell_type": "code",
   "execution_count": 1,
   "metadata": {},
   "outputs": [],
   "source": [
    "import os\n",
    "import json\n",
    "import time\n",
    "import numpy as np\n",
    "import matplotlib.pyplot as plt\n",
    "import matplotlib.patches as patches\n",
    "import torch\n",
    "import torchvision\n",
    "from torchvision import transforms\n",
    "from torchvision.transforms import ToTensor\n",
    "from torchvision.io import read_image\n",
    "from torchvision.models.detection.faster_rcnn import FastRCNNPredictor\n",
    "from torch.utils.data import Dataset, DataLoader\n",
    "from torchmetrics.detection.map import MeanAveragePrecision\n",
    "from PIL import Image\n",
    "import pycocotools"
   ]
  },
  {
   "cell_type": "code",
   "execution_count": 2,
   "metadata": {},
   "outputs": [],
   "source": [
    "# Imports local modules downloaded from TorchVision repo v0.8.2, references/detection\n",
    "# https://github.com/pytorch/vision/tree/v0.8.2/references/detection\n",
    "import utils\n",
    "import transforms\n",
    "import coco_eval\n",
    "from engine import train_one_epoch, evaluate"
   ]
  },
  {
   "cell_type": "code",
   "execution_count": 3,
   "metadata": {},
   "outputs": [],
   "source": [
    "# Imports from local lib files\n",
    "from coco_utils import get_coco_api_from_dataset\n",
    "from coco_eval import CocoEvaluator\n",
    "from engine import _get_iou_types "
   ]
  },
  {
   "cell_type": "markdown",
   "metadata": {},
   "source": [
    "# Functions and initiations"
   ]
  },
  {
   "cell_type": "markdown",
   "metadata": {
    "id": "CFo8FhOT4-Yf"
   },
   "source": [
    "## File paths"
   ]
  },
  {
   "cell_type": "code",
   "execution_count": 4,
   "metadata": {
    "id": "IlU99PhcSNDv"
   },
   "outputs": [],
   "source": [
    "# Set the paths to the annotation files that will retrieve the images with the split based on the annotations\n",
    "output_path = 'output'\n",
    "img_folder = 'eccv_18_all_images_sm'\n",
    "cis_test_ann_path = 'eccv_18_annotation_files/cis_test_annotations.json'\n",
    "cis_val_ann_path = 'eccv_18_annotation_files/cis_val_annotations.json'\n",
    "train_ann_path = 'eccv_18_annotation_files/train_annotations.json'\n",
    "trans_test_ann_path = 'eccv_18_annotation_files/trans_test_annotations.json'\n",
    "trans_val_ann_path = 'eccv_18_annotation_files/trans_val_annotations.json'\n",
    "\n",
    "# Load the json files of the annotations for better exploring of each images\n",
    "cis_test_ann = json.load(open(cis_test_ann_path))\n",
    "cis_val_ann = json.load(open(cis_val_ann_path))\n",
    "train_ann = json.load(open(train_ann_path))\n",
    "trans_test_ann = json.load(open(trans_test_ann_path))\n",
    "trans_val_ann = json.load(open(trans_val_ann_path))"
   ]
  },
  {
   "cell_type": "markdown",
   "metadata": {
    "id": "OMhB4CM354Px"
   },
   "source": [
    "## Utils"
   ]
  },
  {
   "cell_type": "code",
   "execution_count": 5,
   "metadata": {},
   "outputs": [],
   "source": [
    "device = torch.device('cuda') if torch.cuda.is_available() else torch.device('cpu')"
   ]
  },
  {
   "cell_type": "markdown",
   "metadata": {},
   "source": [
    "### Transformation"
   ]
  },
  {
   "cell_type": "code",
   "execution_count": 6,
   "metadata": {
    "id": "3mHaZNrt7D98"
   },
   "outputs": [],
   "source": [
    "# Make and horizontal flip data transformation with 50% chance to use as data augmentation in a data loader\n",
    "# In paper :  ' ... and employ horizontal flipping for data augmentation. ( for detection)\n",
    "\n",
    "import transforms as T   # from git hub repo\n",
    "\n",
    "data_transform = {'train': T.RandomHorizontalFlip(0.5)}"
   ]
  },
  {
   "cell_type": "markdown",
   "metadata": {},
   "source": [
    "### Images and dataset"
   ]
  },
  {
   "cell_type": "code",
   "execution_count": 7,
   "metadata": {},
   "outputs": [],
   "source": [
    "# Method that returns a list with the idx of images with at least one bounding box (img_wbbox) and a \n",
    "# list with the number of bbox for each valid image (num_bbox)\n",
    "def get_img_with_bbox(file_path):\n",
    "  \n",
    "    file = json.load(open(file_path))\n",
    "    img_wbbox = []\n",
    "    num_bbox = []\n",
    "\n",
    "    for i in range(len(file['images'])):\n",
    "        bboxes = [file['annotations'][j]['bbox'] \n",
    "                  for j in range(len(file['annotations'])) \n",
    "                  if file['annotations'][j]['image_id']==file['images'][i]['id'] \n",
    "                  and 'bbox' in file['annotations'][j].keys()]\n",
    "\n",
    "        if len(bboxes)!=0:\n",
    "            img_wbbox.append(i)\n",
    "\n",
    "            num_bbox.append(len(bboxes))\n",
    "\n",
    "    return img_wbbox, num_bbox"
   ]
  },
  {
   "cell_type": "code",
   "execution_count": 8,
   "metadata": {
    "id": "SdJaZm5aOJ6y"
   },
   "outputs": [],
   "source": [
    "# Class used to create a custom dataset\n",
    "class CustomImageDataset(Dataset):\n",
    "    def __init__(self, label_path, img_dir, valid_img, transform = None):\n",
    "        self.label_file = json.load(open(label_path))\n",
    "        self.img_dir = img_dir\n",
    "        self.transform = transform\n",
    "        self.valid_img = valid_img\n",
    "\n",
    "    def __len__(self):\n",
    "        return len(self.valid_img)\n",
    "\n",
    "    def __getitem__(self, idx):\n",
    "        \n",
    "        idx = self.valid_img[idx] # consider only images with bbox annotations\n",
    "        img_path = os.path.join(self.img_dir, self.label_file['images'][idx]['file_name'])\n",
    "        image = read_image(img_path)\n",
    "\n",
    "        conv = torchvision.transforms.ToTensor()\n",
    "        # if image.shape[0]==1:\n",
    "        # some images have only one channel, we convert them to rgb\n",
    "        image = Image.open(img_path).convert(\"RGB\")\n",
    "        image = conv(image)\n",
    "\n",
    "        boxes = [self.label_file['annotations'][j]['bbox'] \n",
    "                 for j in range(len(self.label_file['annotations'])) \n",
    "                 if self.label_file['annotations'][j]['image_id']==self.label_file['images'][idx]['id']]\n",
    "        \n",
    "        label = [self.label_file['annotations'][j]['category_id'] \n",
    "                 for j in range(len(self.label_file['annotations'])) \n",
    "                 if self.label_file['annotations'][j]['image_id']==self.label_file['images'][idx]['id']]\n",
    "\n",
    "        # transform bbox coords to adjust for resizing\n",
    "        scale_x = image.shape[2] / self.label_file['images'][idx]['width'] \n",
    "        scale_y = image.shape[1] / self.label_file['images'][idx]['height']\n",
    "\n",
    "        boxes = torch.as_tensor(boxes)\n",
    "        for i in range(boxes.shape[0]):\n",
    "            boxes[i][0] = torch.round(boxes[i][0] * scale_x)\n",
    "            boxes[i][1] = torch.round(boxes[i][1] * scale_y)\n",
    "            boxes[i][2] = torch.round(boxes[i][2] * scale_x)\n",
    "            boxes[i][3] = torch.round(boxes[i][3] * scale_y)\n",
    "\n",
    "            boxes[i][2] = boxes[i][0] + boxes[i][2] # to transform to pytorch bbox format\n",
    "            boxes[i][3] = boxes[i][1] + boxes[i][3]\n",
    "\n",
    "        label = torch.as_tensor(label)\n",
    "        label = torch.where(label==30,0,1)  # 0 if empty (categ id = 30), 1 if animal\n",
    "        image_id = torch.tensor([idx])\n",
    "        area = (boxes[:, 3] - boxes[:, 1]) * (boxes[:, 2] - boxes[:, 0])\n",
    "        iscrowd = torch.zeros((boxes.shape[0],), dtype=torch.int64)\n",
    "\n",
    "        target = {}\n",
    "        target[\"boxes\"] = boxes\n",
    "        target[\"labels\"] = label\n",
    "        target[\"image_id\"] = image_id\n",
    "        target['area']=area\n",
    "        target['iscrowd']=iscrowd\n",
    "\n",
    "        if self.transform:\n",
    "            # transform image AND target\n",
    "            image, target = self.transform(image, target)\n",
    "\n",
    "        return image, target"
   ]
  },
  {
   "cell_type": "markdown",
   "metadata": {},
   "source": [
    " "
   ]
  },
  {
   "cell_type": "markdown",
   "metadata": {},
   "source": [
    "## Create the model"
   ]
  },
  {
   "cell_type": "markdown",
   "metadata": {
    "id": "iuPqrCPG8wsr"
   },
   "source": [
    "### Pre-trained models\n",
    "Inspred from https://colab.research.google.com/github/pytorch/tutorials/blob/gh-pages/_downloads/torchvision_finetuning_instance_segmentation.ipynb#scrollTo=YjNHjVMOyYlH"
   ]
  },
  {
   "cell_type": "markdown",
   "metadata": {},
   "source": [
    "### Model with only the last layer to train (CNN layers)"
   ]
  },
  {
   "cell_type": "code",
   "execution_count": 9,
   "metadata": {
    "id": "vuz8DJUgccUx"
   },
   "outputs": [],
   "source": [
    "# Get a pretrained model and set to train the last layer (CNN : model 1)\n",
    "def get_model_from_pretrained_cnn(num_classes):\n",
    "\n",
    "    # load an instance segmentation model pre-trained on COCO\n",
    "    model = torchvision.models.detection.fasterrcnn_resnet50_fpn(pretrained=True)\n",
    "\n",
    "    for param in model.parameters(): # to freeze all existing weights\n",
    "        param.requires_grad = False\n",
    "\n",
    "    # get the number of input features for the classifier\n",
    "    in_features = model.roi_heads.box_predictor.cls_score.in_features\n",
    "    # replace the pre-trained head with a new one\n",
    "    model.roi_heads.box_predictor = FastRCNNPredictor(in_features, num_classes)\n",
    "\n",
    "    return model\n",
    "\n",
    "\n",
    "# Get a pretrained model and set to train the last 2 layers (ROI + CNN : model 2)\n",
    "def get_model_from_pretrained_roi(num_classes):\n",
    "\n",
    "    # load an instance segmentation model pre-trained on COCO\n",
    "    model = torchvision.models.detection.fasterrcnn_resnet50_fpn(pretrained=True)\n",
    "\n",
    "    for param in model.parameters(): # to freeze all existing weights\n",
    "        param.requires_grad = False\n",
    "\n",
    "    for param in model.roi_heads.parameters():\n",
    "        param.requires_grad = True\n",
    "\n",
    "    # get the number of input features for the classifier\n",
    "    in_features = model.roi_heads.box_predictor.cls_score.in_features\n",
    "    # replace the pre-trained head with a new one\n",
    "    model.roi_heads.box_predictor = FastRCNNPredictor(in_features, num_classes)\n",
    "\n",
    "    return model\n",
    "\n",
    "\n",
    "# Get a pretrained model and set to train the last 3 layers (RPN + ROI + CNN : model 3)\n",
    "def get_model_from_pretrained_rpn(num_classes):\n",
    "\n",
    "    # load an instance segmentation model pre-trained on COCO\n",
    "    model = torchvision.models.detection.fasterrcnn_resnet50_fpn(pretrained=True)\n",
    "\n",
    "    for param in model.parameters(): # to freeze all existing weights\n",
    "\n",
    "        param.requires_grad = False\n",
    "\n",
    "    for param in model.roi_heads.parameters():\n",
    "\n",
    "        param.requires_grad = True\n",
    "\n",
    "    for param in model.rpn.parameters():\n",
    "\n",
    "        param.requires_grad = True\n",
    "\n",
    "    # get the number of input features for the classifier\n",
    "    in_features = model.roi_heads.box_predictor.cls_score.in_features\n",
    "    # replace the pre-trained head with a new one\n",
    "    model.roi_heads.box_predictor = FastRCNNPredictor(in_features, num_classes)\n",
    "\n",
    "    return model\n",
    "\n",
    "\n",
    "# Create a model based on a type preference between the 3 proposed\n",
    "def create_model(model_type, num_classes=2, milestones=[5, 10]):\n",
    "\n",
    "    # our dataset has two classes only - background and person\n",
    "    num_classes = num_classes\n",
    "\n",
    "    # get the model from the type we want using our helper function\n",
    "    if model_type==1 or model_type=='cnn':\n",
    "        model = get_model_from_pretrained_cnn(num_classes)\n",
    "    elif model_type==2 or model_type=='roi':\n",
    "        model = get_model_from_pretrained_roi(num_classes)\n",
    "    elif model_type==3 or model_type=='rpn':\n",
    "        model = get_model_from_pretrained_rpn(num_classes)\n",
    "    else:\n",
    "        return 'Please select a valid model. 1:CNN - 2:ROI - 3:RPN'\n",
    "\n",
    "    # move model to the right device\n",
    "    model.to(device)\n",
    "\n",
    "    # construct an SGD optimizer\n",
    "    params = [p for p in model.parameters() if p.requires_grad]\n",
    "    optimizer = torch.optim.SGD(params, lr=0.0003, momentum=0.9)\n",
    "\n",
    "    # like in the paper, construct the scheduler\n",
    "    lr_scheduler = torch.optim.lr_scheduler.MultiStepLR(optimizer, milestones = milestones, gamma=0.1)\n",
    "    \n",
    "    return model, optimizer, lr_scheduler\n",
    "\n",
    "\n",
    "# Save the model, the optimizer and the scheduler into 3 separate files (~165MB)\n",
    "def save_model(file_name = time.strftime(\"%Y%m%d_%H%M%S\")):\n",
    "    filename = file_name\n",
    "\n",
    "    torch.save(model.state_dict(), 'saved_models/' + filename + '_model.pt')\n",
    "    torch.save(optimizer.state_dict(), 'saved_models/' + filename + '_optimizer.pt')\n",
    "    torch.save(lr_scheduler.state_dict(), 'saved_models/' + filename + '_scheduler.pt')\n",
    "    print(\"Succesfully saved!\")\n",
    "\n",
    "\n",
    "# Load a model, an optimizer and a schduler into 3 different variables\n",
    "def load_model(model_type, model_type_file_name, num_classes=2, milestones=[5, 10]):\n",
    "    model, optimizer, lr_scheduler = create_model(model_type, num_classes, milestones)\n",
    "    \n",
    "    # load the model, the optimizer and the scheduler\n",
    "    model.load_state_dict(torch.load('saved_models/' + model_type_file_name + '_model.pt'))\n",
    "    optimizer.load_state_dict(torch.load('saved_models/' + model_type_file_name + '_optimizer.pt'))\n",
    "    lr_scheduler.load_state_dict(torch.load('saved_models/' + model_type_file_name + '_scheduler.pt'))\n",
    "    \n",
    "    return model, optimizer, lr_scheduler"
   ]
  },
  {
   "cell_type": "markdown",
   "metadata": {},
   "source": [
    "## Create the dataloaders\n",
    "To load the data of the dataset efficiently for the model"
   ]
  },
  {
   "cell_type": "code",
   "execution_count": 11,
   "metadata": {},
   "outputs": [],
   "source": [
    "# Create the full dataloader with the full dataset\n",
    "def create_dataloader(ann_path, batch_size, transform=None, light=False, shuffle=True):\n",
    "    images_with_bbox,_ = get_img_with_bbox(ann_path)\n",
    "    if light:\n",
    "        index = np.random.choice(range(len(train_ann['images'])), 1000)\n",
    "        images_with_bbox = [train_ann['images'][i] for i in index]\n",
    "    data = CustomImageDataset(ann_path, img_folder, images_with_bbox, transform)\n",
    "    return DataLoader(data, batch_size=batch_size, shuffle=shuffle, collate_fn=utils.collate_fn)"
   ]
  },
  {
   "cell_type": "markdown",
   "metadata": {},
   "source": [
    "## Define the 'evaluate' fonction"
   ]
  },
  {
   "cell_type": "code",
   "execution_count": 12,
   "metadata": {},
   "outputs": [],
   "source": [
    "# Evaluates the current model using the coco_evaluator passing through a test dataloader\n",
    "def evaluate(dataloader, coco, nms=True, iou=0.35):\n",
    "    apply_nms = nms\n",
    "    iou_threshold = iou # param to potentially tune (threshold for nms)\n",
    "    the_data_loader = dataloader # change to test set\n",
    "    \n",
    "    iou_types = _get_iou_types(model)\n",
    "    coco_evaluator = CocoEvaluator(coco, iou_types)\n",
    "\n",
    "    model.eval()\n",
    "\n",
    "    for images, targets in the_data_loader:\n",
    "        images = [image.to(device) for image in images]\n",
    "        targets = [{k: v.to(device) for k, v in t.items()} for t in targets]\n",
    "\n",
    "        with torch.no_grad():\n",
    "\n",
    "            pred=model(images)\n",
    "\n",
    "            if apply_nms:\n",
    "                boxes_to_keep = torchvision.ops.nms(pred[0]['boxes'], pred[0]['scores'], iou_threshold=iou_threshold).cpu()\n",
    "                pred[0]['boxes'] = pred[0]['boxes'][boxes_to_keep]\n",
    "                pred[0]['labels'] = pred[0]['labels'][boxes_to_keep]\n",
    "                pred[0]['scores'] = pred[0]['scores'][boxes_to_keep]\n",
    "\n",
    "            outputs = [{k: v.cpu() for k, v in t.items()} for t in pred]\n",
    "            res = {target[\"image_id\"].item(): output for target, output in zip(targets, outputs)}\n",
    "            coco_evaluator.update(res)\n",
    "    \n",
    "    coco_evaluator.synchronize_between_processes()\n",
    "    coco_evaluator.accumulate()\n",
    "    coco_evaluator.summarize()\n",
    "    return coco_evaluator"
   ]
  },
  {
   "cell_type": "markdown",
   "metadata": {},
   "source": [
    "## Logs utils"
   ]
  },
  {
   "cell_type": "markdown",
   "metadata": {},
   "source": [
    "#### Train logs utils"
   ]
  },
  {
   "cell_type": "code",
   "execution_count": 13,
   "metadata": {},
   "outputs": [],
   "source": [
    "# Converts the smoothed values to a dictionnary of each values\n",
    "def smoothed_value_to_str(smoothed_value):\n",
    "    d_values = {}\n",
    "    d_values['median'] = smoothed_value.median\n",
    "    d_values['avg'] = smoothed_value.avg\n",
    "    d_values['global_avg'] = smoothed_value.global_avg\n",
    "    d_values['max'] = smoothed_value.max\n",
    "    d_values['value'] = smoothed_value.value\n",
    "    return d_values\n",
    "\n",
    "\n",
    "# Converts the train logs from MetricLogger to list\n",
    "def train_logs_to_lst(logs):\n",
    "    lst = []\n",
    "    for i in range(len(logs)):\n",
    "        d = {}\n",
    "        for key in logs[i].meters.keys():\n",
    "            d[key] = smoothed_value_to_str(logs[i].meters[key])\n",
    "        lst.append(d)\n",
    "    return lst\n",
    "\n",
    "\n",
    "# Puts the training logs into a json file with time dependent file name\n",
    "def train_logs_to_json(logs, ftime=time.strftime(\"%Y%m%d_%H%M%S\")):\n",
    "    train_metric_logs = train_logs_to_lst(logs)\n",
    "    filename = ftime + \"_train_logs.json\"\n",
    "    \n",
    "    with open('saved_logs/' + filename, 'w', encoding='utf-8') as f:\n",
    "        json.dump(train_metric_logs, f, ensure_ascii=False, indent=4)\n",
    "\n",
    "\n",
    "# Converts the train logs from MetricLogger to list\n",
    "def train_logs_to_lst(logs):\n",
    "    lst = []\n",
    "    for i in range(len(logs)):\n",
    "        d = {}\n",
    "        for key in logs[i].meters.keys():\n",
    "            d[key] = smoothed_value_to_str(logs[i].meters[key])\n",
    "        lst.append(d)\n",
    "    return lst\n",
    "\n",
    "\n",
    "# Puts the training logs into a json file with time dependent file name\n",
    "def train_logs_to_json(logs, ftime=time.strftime(\"%Y%m%d_%H%M%S\")):\n",
    "    train_metric_logs = train_logs_to_lst(logs)\n",
    "    filename = ftime + \"_train_logs.json\"\n",
    "    \n",
    "    with open('saved_logs/' + filename, 'w', encoding='utf-8') as f:\n",
    "        json.dump(train_metric_logs, f, ensure_ascii=False, indent=4)"
   ]
  },
  {
   "cell_type": "markdown",
   "metadata": {},
   "source": [
    "#### Valid logs utils"
   ]
  },
  {
   "cell_type": "code",
   "execution_count": 16,
   "metadata": {},
   "outputs": [],
   "source": [
    "# Merge the dicts of a list \n",
    "def merge_dict(logs):\n",
    "    logs_better = []\n",
    "    try:\n",
    "        for i in range(len(logs)):\n",
    "            logs_better.append({**logs[i][0], **logs[i][1], **logs[i][2], **logs[i][3]})\n",
    "        return logs_better\n",
    "    except:\n",
    "        print(logs[0])\n",
    "        logs_better = logs\n",
    "        return logs_better\n",
    "\n",
    "    \n",
    "# Converts the valid logs from list of dictionnaries to string\n",
    "def valid_logs_to_lst(valid_logs):\n",
    "    if type(valid_logs) == list:\n",
    "        return valid_logs\n",
    "    logs = merge_dict(valid_logs)\n",
    "    lst = []\n",
    "    for i in range(len(logs)):\n",
    "        d = {}\n",
    "        for key in logs[i].keys():\n",
    "            d[key] = logs[i][key].cpu().numpy().tolist()\n",
    "        lst.append(d)\n",
    "    return lst\n",
    "\n",
    "\n",
    "# Puts the cis validation logs into a json file with time dependent file name\n",
    "def cis_valid_logs_to_json(logs, ftime=time.strftime(\"%Y%m%d_%H%M%S\")):\n",
    "    valid_metric_logs = valid_logs_to_lst(logs)\n",
    "    filename = ftime + \"_cis_valid_logs.json\"\n",
    "    \n",
    "    with open('saved_logs/' + filename, 'w', encoding='utf-8') as f:\n",
    "        json.dump(valid_metric_logs, f, ensure_ascii=False, indent=4)\n",
    "\n",
    "\n",
    "# Puts the trans validation logs into a json file with time dependent file name\n",
    "def trans_valid_logs_to_json(logs, ftime=time.strftime(\"%Y%m%d_%H%M%S\")):\n",
    "    valid_metric_logs = valid_logs_to_lst(logs)\n",
    "    filename = ftime + \"_trans_valid_logs.json\"\n",
    "    \n",
    "    with open('saved_logs/' + filename, 'w', encoding='utf-8') as f:\n",
    "        json.dump(valid_metric_logs, f, ensure_ascii=False, indent=4)"
   ]
  },
  {
   "cell_type": "markdown",
   "metadata": {},
   "source": [
    "## Training the model"
   ]
  },
  {
   "cell_type": "code",
   "execution_count": 20,
   "metadata": {},
   "outputs": [],
   "source": [
    "def train(dataloader, num_epochs, save_logs=True, save_model=True, print_freq=100):\n",
    "    \n",
    "    model.train()\n",
    "    \n",
    "    all_train_logs = []\n",
    "    all_cis_valid_logs = []\n",
    "    all_trans_valid_logs = []\n",
    "\n",
    "    for epoch in range(num_epochs):\n",
    "        \n",
    "        # train for one epoch, printing every 100 images\n",
    "        train_logs = train_one_epoch(model, optimizer, dataloader, device, epoch, print_freq)\n",
    "        all_train_logs.append(train_logs)\n",
    "        \n",
    "        # update the learning rate\n",
    "        lr_scheduler.step()\n",
    "        \n",
    "        # evaluate on the validation dataset after training one epoch\n",
    "        for images, targets in trans_valid_dataloader: # can do batch of 10 prob.\n",
    "            images = [image.to(device) for image in images]\n",
    "            targets = [{k: v.to(device) for k, v in t.items()} for t in targets]\n",
    "\n",
    "            with torch.no_grad():\n",
    "                trans_loss_dict = model(images, targets)\n",
    "                trans_loss_dict = [{k: loss.to('cpu')} for k, loss in trans_loss_dict.items()]\n",
    "                all_trans_valid_logs.append(trans_loss_dict)\n",
    "\n",
    "\n",
    "        for images, targets in cis_valid_dataloader: # can do batch of 10 prob.\n",
    "            images = [image.to(device) for image in images]\n",
    "            targets = [{k: v.to(device) for k, v in t.items()} for t in targets]\n",
    "\n",
    "            with torch.no_grad():\n",
    "                cis_loss_dict = model(images, targets)\n",
    "                cis_loss_dict = [{k: loss.to('cpu')} for k, loss in cis_loss_dict.items()]\n",
    "                all_cis_valid_logs.append(cis_loss_dict)\n",
    "    \n",
    "    filetime = time.strftime(\"%Y%m%d_%H%M%S\")\n",
    "    \n",
    "    if save_logs:\n",
    "        \n",
    "        # save the train, cis valid and trans valid logs\n",
    "        train_logs_to_json(all_train_logs, filetime)\n",
    "        cis_valid_logs_to_json(all_cis_valid_logs, filetime)\n",
    "        trans_valid_logs_to_json(all_trans_valid_logs, filetime)\n",
    "        \n",
    "    if save_model:\n",
    "        \n",
    "        # save the model, the optimizer and the scheduler\n",
    "        torch.save(model.state_dict(), 'saved_models/' + filetime + '_model.pt')\n",
    "        torch.save(optimizer.state_dict(), 'saved_models/' + filetime + '_optimizer.pt')\n",
    "        torch.save(lr_scheduler.state_dict(), 'saved_models/' + filetime + '_scheduler.pt')\n",
    "    \n",
    "    \n",
    "    \n",
    "    return all_train_logs, all_trans_valid_logs, all_cis_valid_logs\n"
   ]
  },
  {
   "cell_type": "markdown",
   "metadata": {},
   "source": [
    "# Interactive Part"
   ]
  },
  {
   "cell_type": "markdown",
   "metadata": {},
   "source": [
    "### Before training"
   ]
  },
  {
   "cell_type": "code",
   "execution_count": 21,
   "metadata": {},
   "outputs": [],
   "source": [
    "# Set the lightweight configuration mode to use subset of data, simpler architecture and few epochs\n",
    "# to quickly test the code for evaluation\n",
    "lightweight_mode = 0"
   ]
  },
  {
   "cell_type": "markdown",
   "metadata": {},
   "source": [
    "#### You can specify the data augmentation transformation at will"
   ]
  },
  {
   "cell_type": "code",
   "execution_count": 22,
   "metadata": {},
   "outputs": [],
   "source": [
    "# Initiate the dataloaders with batch size from the paper for better comparison\n",
    "if lightweight_mode:\n",
    "    train_dataloader = create_dataloader(train_ann_path, 1, data_transform)\n",
    "    cis_valid_dataloader = create_dataloader(cis_val_ann_path, 10)\n",
    "    trans_valid_dataloader = create_dataloader(trans_val_ann_path, 10)\n",
    "    cis_test_dataloader = create_dataloader(cis_test_ann_path, 10)\n",
    "    trans_test_dataloader = create_dataloader(trans_test_ann_path, 10)\n",
    "else:\n",
    "    train_dataloader = create_dataloader(train_ann_path, 1, data_transform)\n",
    "    cis_valid_dataloader = create_dataloader(cis_val_ann_path, 10)\n",
    "    trans_valid_dataloader = create_dataloader(trans_val_ann_path, 10)\n",
    "    cis_test_dataloader = create_dataloader(cis_test_ann_path, 10)\n",
    "    trans_test_dataloader = create_dataloader(trans_test_ann_path, 10)"
   ]
  },
  {
   "cell_type": "code",
   "execution_count": 23,
   "metadata": {},
   "outputs": [
    {
     "name": "stdout",
     "output_type": "stream",
     "text": [
      "creating index...\n",
      "index created!\n",
      "creating index...\n",
      "index created!\n"
     ]
    }
   ],
   "source": [
    "# Loads the test dataset for coco evaluation later on\n",
    "cis_coco = get_coco_api_from_dataset(cis_test_dataloader.dataset)\n",
    "trans_coco = get_coco_api_from_dataset(trans_test_dataloader.dataset)"
   ]
  },
  {
   "cell_type": "markdown",
   "metadata": {},
   "source": [
    "#### Specify the model to create and the parameters"
   ]
  },
  {
   "cell_type": "code",
   "execution_count": 24,
   "metadata": {},
   "outputs": [],
   "source": [
    "model, optimizer, lr_scheduler = create_model(3)"
   ]
  },
  {
   "cell_type": "code",
   "execution_count": 25,
   "metadata": {},
   "outputs": [
    {
     "data": {
      "text/plain": [
       "'NVIDIA GeForce GTX 1080 Ti'"
      ]
     },
     "execution_count": 25,
     "metadata": {},
     "output_type": "execute_result"
    }
   ],
   "source": [
    "# Parameters before training\n",
    "num_epochs = 10\n",
    "\n",
    "# Check if using the right device before training\n",
    "torch.cuda.get_device_name(0)"
   ]
  },
  {
   "cell_type": "markdown",
   "metadata": {},
   "source": [
    "### This next cell starts the training of the model"
   ]
  },
  {
   "cell_type": "code",
   "execution_count": 26,
   "metadata": {
    "scrolled": true
   },
   "outputs": [
    {
     "name": "stderr",
     "output_type": "stream",
     "text": [
      "C:\\Users\\kevin\\miniconda3\\envs\\animals\\lib\\site-packages\\torch\\functional.py:445: UserWarning: torch.meshgrid: in an upcoming release, it will be required to pass the indexing argument. (Triggered internally at  ..\\aten\\src\\ATen\\native\\TensorShape.cpp:2157.)\n",
      "  return _VF.meshgrid(tensors, **kwargs)  # type: ignore[attr-defined]\n"
     ]
    },
    {
     "name": "stdout",
     "output_type": "stream",
     "text": [
      "Epoch: [0]  [    0/12099]  eta: 8:27:02  lr: 0.000001  loss: 0.7460 (0.7460)  loss_classifier: 0.6163 (0.6163)  loss_box_reg: 0.0641 (0.0641)  loss_objectness: 0.0624 (0.0624)  loss_rpn_box_reg: 0.0032 (0.0032)  time: 2.5145  data: 0.0280  max mem: 594\n",
      "Epoch: [0]  [  100/12099]  eta: 0:30:18  lr: 0.000031  loss: 0.2891 (0.4846)  loss_classifier: 0.1477 (0.3222)  loss_box_reg: 0.1105 (0.1217)  loss_objectness: 0.0158 (0.0332)  loss_rpn_box_reg: 0.0033 (0.0075)  time: 0.1276  data: 0.0311  max mem: 652\n",
      "Epoch: [0]  [  200/12099]  eta: 0:29:27  lr: 0.000061  loss: 0.2473 (0.3768)  loss_classifier: 0.0959 (0.2154)  loss_box_reg: 0.1223 (0.1175)  loss_objectness: 0.0110 (0.0364)  loss_rpn_box_reg: 0.0039 (0.0075)  time: 0.1458  data: 0.0400  max mem: 652\n",
      "Epoch: [0]  [  300/12099]  eta: 0:28:09  lr: 0.000091  loss: 0.2284 (0.3356)  loss_classifier: 0.0811 (0.1760)  loss_box_reg: 0.1169 (0.1189)  loss_objectness: 0.0046 (0.0330)  loss_rpn_box_reg: 0.0022 (0.0077)  time: 0.1299  data: 0.0331  max mem: 652\n",
      "Epoch: [0]  [  400/12099]  eta: 0:27:18  lr: 0.000120  loss: 0.2041 (0.3113)  loss_classifier: 0.0765 (0.1526)  loss_box_reg: 0.1126 (0.1169)  loss_objectness: 0.0063 (0.0341)  loss_rpn_box_reg: 0.0017 (0.0076)  time: 0.1275  data: 0.0308  max mem: 652\n",
      "Epoch: [0]  [  500/12099]  eta: 0:26:41  lr: 0.000150  loss: 0.2210 (0.2960)  loss_classifier: 0.0688 (0.1379)  loss_box_reg: 0.0974 (0.1146)  loss_objectness: 0.0164 (0.0356)  loss_rpn_box_reg: 0.0043 (0.0078)  time: 0.1335  data: 0.0318  max mem: 652\n"
     ]
    },
    {
     "ename": "KeyboardInterrupt",
     "evalue": "",
     "output_type": "error",
     "traceback": [
      "\u001b[1;31m---------------------------------------------------------------------------\u001b[0m",
      "\u001b[1;31mKeyboardInterrupt\u001b[0m                         Traceback (most recent call last)",
      "\u001b[1;32m~\\AppData\\Local\\Temp/ipykernel_26304/318506580.py\u001b[0m in \u001b[0;36m<module>\u001b[1;34m\u001b[0m\n\u001b[0;32m      1\u001b[0m \u001b[1;31m# TRAIN\u001b[0m\u001b[1;33m\u001b[0m\u001b[1;33m\u001b[0m\u001b[1;33m\u001b[0m\u001b[0m\n\u001b[1;32m----> 2\u001b[1;33m \u001b[0mall_train_logs\u001b[0m\u001b[1;33m,\u001b[0m \u001b[0mall_trans_valid_logs\u001b[0m\u001b[1;33m,\u001b[0m \u001b[0mall_cis_valid_logs\u001b[0m \u001b[1;33m=\u001b[0m \u001b[0mtrain\u001b[0m\u001b[1;33m(\u001b[0m\u001b[0mdataloader\u001b[0m\u001b[1;33m=\u001b[0m\u001b[0mtrain_dataloader\u001b[0m\u001b[1;33m,\u001b[0m \u001b[0mnum_epochs\u001b[0m\u001b[1;33m=\u001b[0m\u001b[0mnum_epochs\u001b[0m\u001b[1;33m)\u001b[0m\u001b[1;33m\u001b[0m\u001b[1;33m\u001b[0m\u001b[0m\n\u001b[0m",
      "\u001b[1;32m~\\AppData\\Local\\Temp/ipykernel_26304/150529973.py\u001b[0m in \u001b[0;36mtrain\u001b[1;34m(dataloader, num_epochs, save_logs, save_model, print_freq)\u001b[0m\n\u001b[0;32m     11\u001b[0m \u001b[1;33m\u001b[0m\u001b[0m\n\u001b[0;32m     12\u001b[0m         \u001b[1;31m# train for one epoch, printing every 100 images\u001b[0m\u001b[1;33m\u001b[0m\u001b[1;33m\u001b[0m\u001b[1;33m\u001b[0m\u001b[0m\n\u001b[1;32m---> 13\u001b[1;33m         \u001b[0mtrain_logs\u001b[0m \u001b[1;33m=\u001b[0m \u001b[0mtrain_one_epoch\u001b[0m\u001b[1;33m(\u001b[0m\u001b[0mmodel\u001b[0m\u001b[1;33m,\u001b[0m \u001b[0moptimizer\u001b[0m\u001b[1;33m,\u001b[0m \u001b[0mdataloader\u001b[0m\u001b[1;33m,\u001b[0m \u001b[0mdevice\u001b[0m\u001b[1;33m,\u001b[0m \u001b[0mepoch\u001b[0m\u001b[1;33m,\u001b[0m \u001b[0mprint_freq\u001b[0m\u001b[1;33m)\u001b[0m\u001b[1;33m\u001b[0m\u001b[1;33m\u001b[0m\u001b[0m\n\u001b[0m\u001b[0;32m     14\u001b[0m         \u001b[0mall_train_logs\u001b[0m\u001b[1;33m.\u001b[0m\u001b[0mappend\u001b[0m\u001b[1;33m(\u001b[0m\u001b[0mtrain_logs\u001b[0m\u001b[1;33m)\u001b[0m\u001b[1;33m\u001b[0m\u001b[1;33m\u001b[0m\u001b[0m\n\u001b[0;32m     15\u001b[0m \u001b[1;33m\u001b[0m\u001b[0m\n",
      "\u001b[1;32m~\\github\\projects\\Animal-Detection-and-Generalization\\engine.py\u001b[0m in \u001b[0;36mtrain_one_epoch\u001b[1;34m(model, optimizer, data_loader, device, epoch, print_freq)\u001b[0m\n\u001b[0;32m     24\u001b[0m         \u001b[0mlr_scheduler\u001b[0m \u001b[1;33m=\u001b[0m \u001b[0mutils\u001b[0m\u001b[1;33m.\u001b[0m\u001b[0mwarmup_lr_scheduler\u001b[0m\u001b[1;33m(\u001b[0m\u001b[0moptimizer\u001b[0m\u001b[1;33m,\u001b[0m \u001b[0mwarmup_iters\u001b[0m\u001b[1;33m,\u001b[0m \u001b[0mwarmup_factor\u001b[0m\u001b[1;33m)\u001b[0m\u001b[1;33m\u001b[0m\u001b[1;33m\u001b[0m\u001b[0m\n\u001b[0;32m     25\u001b[0m \u001b[1;33m\u001b[0m\u001b[0m\n\u001b[1;32m---> 26\u001b[1;33m     \u001b[1;32mfor\u001b[0m \u001b[0mimages\u001b[0m\u001b[1;33m,\u001b[0m \u001b[0mtargets\u001b[0m \u001b[1;32min\u001b[0m \u001b[0mmetric_logger\u001b[0m\u001b[1;33m.\u001b[0m\u001b[0mlog_every\u001b[0m\u001b[1;33m(\u001b[0m\u001b[0mdata_loader\u001b[0m\u001b[1;33m,\u001b[0m \u001b[0mprint_freq\u001b[0m\u001b[1;33m,\u001b[0m \u001b[0mheader\u001b[0m\u001b[1;33m)\u001b[0m\u001b[1;33m:\u001b[0m\u001b[1;33m\u001b[0m\u001b[1;33m\u001b[0m\u001b[0m\n\u001b[0m\u001b[0;32m     27\u001b[0m         \u001b[0mimages\u001b[0m \u001b[1;33m=\u001b[0m \u001b[0mlist\u001b[0m\u001b[1;33m(\u001b[0m\u001b[0mimage\u001b[0m\u001b[1;33m.\u001b[0m\u001b[0mto\u001b[0m\u001b[1;33m(\u001b[0m\u001b[0mdevice\u001b[0m\u001b[1;33m)\u001b[0m \u001b[1;32mfor\u001b[0m \u001b[0mimage\u001b[0m \u001b[1;32min\u001b[0m \u001b[0mimages\u001b[0m\u001b[1;33m)\u001b[0m\u001b[1;33m\u001b[0m\u001b[1;33m\u001b[0m\u001b[0m\n\u001b[0;32m     28\u001b[0m         \u001b[0mtargets\u001b[0m \u001b[1;33m=\u001b[0m \u001b[1;33m[\u001b[0m\u001b[1;33m{\u001b[0m\u001b[0mk\u001b[0m\u001b[1;33m:\u001b[0m \u001b[0mv\u001b[0m\u001b[1;33m.\u001b[0m\u001b[0mto\u001b[0m\u001b[1;33m(\u001b[0m\u001b[0mdevice\u001b[0m\u001b[1;33m)\u001b[0m \u001b[1;32mfor\u001b[0m \u001b[0mk\u001b[0m\u001b[1;33m,\u001b[0m \u001b[0mv\u001b[0m \u001b[1;32min\u001b[0m \u001b[0mt\u001b[0m\u001b[1;33m.\u001b[0m\u001b[0mitems\u001b[0m\u001b[1;33m(\u001b[0m\u001b[1;33m)\u001b[0m\u001b[1;33m}\u001b[0m \u001b[1;32mfor\u001b[0m \u001b[0mt\u001b[0m \u001b[1;32min\u001b[0m \u001b[0mtargets\u001b[0m\u001b[1;33m]\u001b[0m\u001b[1;33m\u001b[0m\u001b[1;33m\u001b[0m\u001b[0m\n",
      "\u001b[1;32m~\\github\\projects\\Animal-Detection-and-Generalization\\utils.py\u001b[0m in \u001b[0;36mlog_every\u001b[1;34m(self, iterable, print_freq, header)\u001b[0m\n\u001b[0;32m    207\u001b[0m             ])\n\u001b[0;32m    208\u001b[0m         \u001b[0mMB\u001b[0m \u001b[1;33m=\u001b[0m \u001b[1;36m1024.0\u001b[0m \u001b[1;33m*\u001b[0m \u001b[1;36m1024.0\u001b[0m\u001b[1;33m\u001b[0m\u001b[1;33m\u001b[0m\u001b[0m\n\u001b[1;32m--> 209\u001b[1;33m         \u001b[1;32mfor\u001b[0m \u001b[0mobj\u001b[0m \u001b[1;32min\u001b[0m \u001b[0miterable\u001b[0m\u001b[1;33m:\u001b[0m\u001b[1;33m\u001b[0m\u001b[1;33m\u001b[0m\u001b[0m\n\u001b[0m\u001b[0;32m    210\u001b[0m             \u001b[0mdata_time\u001b[0m\u001b[1;33m.\u001b[0m\u001b[0mupdate\u001b[0m\u001b[1;33m(\u001b[0m\u001b[0mtime\u001b[0m\u001b[1;33m.\u001b[0m\u001b[0mtime\u001b[0m\u001b[1;33m(\u001b[0m\u001b[1;33m)\u001b[0m \u001b[1;33m-\u001b[0m \u001b[0mend\u001b[0m\u001b[1;33m)\u001b[0m\u001b[1;33m\u001b[0m\u001b[1;33m\u001b[0m\u001b[0m\n\u001b[0;32m    211\u001b[0m             \u001b[1;32myield\u001b[0m \u001b[0mobj\u001b[0m\u001b[1;33m\u001b[0m\u001b[1;33m\u001b[0m\u001b[0m\n",
      "\u001b[1;32m~\\miniconda3\\envs\\animals\\lib\\site-packages\\torch\\utils\\data\\dataloader.py\u001b[0m in \u001b[0;36m__next__\u001b[1;34m(self)\u001b[0m\n\u001b[0;32m    519\u001b[0m             \u001b[1;32mif\u001b[0m \u001b[0mself\u001b[0m\u001b[1;33m.\u001b[0m\u001b[0m_sampler_iter\u001b[0m \u001b[1;32mis\u001b[0m \u001b[1;32mNone\u001b[0m\u001b[1;33m:\u001b[0m\u001b[1;33m\u001b[0m\u001b[1;33m\u001b[0m\u001b[0m\n\u001b[0;32m    520\u001b[0m                 \u001b[0mself\u001b[0m\u001b[1;33m.\u001b[0m\u001b[0m_reset\u001b[0m\u001b[1;33m(\u001b[0m\u001b[1;33m)\u001b[0m\u001b[1;33m\u001b[0m\u001b[1;33m\u001b[0m\u001b[0m\n\u001b[1;32m--> 521\u001b[1;33m             \u001b[0mdata\u001b[0m \u001b[1;33m=\u001b[0m \u001b[0mself\u001b[0m\u001b[1;33m.\u001b[0m\u001b[0m_next_data\u001b[0m\u001b[1;33m(\u001b[0m\u001b[1;33m)\u001b[0m\u001b[1;33m\u001b[0m\u001b[1;33m\u001b[0m\u001b[0m\n\u001b[0m\u001b[0;32m    522\u001b[0m             \u001b[0mself\u001b[0m\u001b[1;33m.\u001b[0m\u001b[0m_num_yielded\u001b[0m \u001b[1;33m+=\u001b[0m \u001b[1;36m1\u001b[0m\u001b[1;33m\u001b[0m\u001b[1;33m\u001b[0m\u001b[0m\n\u001b[0;32m    523\u001b[0m             \u001b[1;32mif\u001b[0m \u001b[0mself\u001b[0m\u001b[1;33m.\u001b[0m\u001b[0m_dataset_kind\u001b[0m \u001b[1;33m==\u001b[0m \u001b[0m_DatasetKind\u001b[0m\u001b[1;33m.\u001b[0m\u001b[0mIterable\u001b[0m \u001b[1;32mand\u001b[0m\u001b[0;31m \u001b[0m\u001b[0;31m\\\u001b[0m\u001b[1;33m\u001b[0m\u001b[1;33m\u001b[0m\u001b[0m\n",
      "\u001b[1;32m~\\miniconda3\\envs\\animals\\lib\\site-packages\\torch\\utils\\data\\dataloader.py\u001b[0m in \u001b[0;36m_next_data\u001b[1;34m(self)\u001b[0m\n\u001b[0;32m    559\u001b[0m     \u001b[1;32mdef\u001b[0m \u001b[0m_next_data\u001b[0m\u001b[1;33m(\u001b[0m\u001b[0mself\u001b[0m\u001b[1;33m)\u001b[0m\u001b[1;33m:\u001b[0m\u001b[1;33m\u001b[0m\u001b[1;33m\u001b[0m\u001b[0m\n\u001b[0;32m    560\u001b[0m         \u001b[0mindex\u001b[0m \u001b[1;33m=\u001b[0m \u001b[0mself\u001b[0m\u001b[1;33m.\u001b[0m\u001b[0m_next_index\u001b[0m\u001b[1;33m(\u001b[0m\u001b[1;33m)\u001b[0m  \u001b[1;31m# may raise StopIteration\u001b[0m\u001b[1;33m\u001b[0m\u001b[1;33m\u001b[0m\u001b[0m\n\u001b[1;32m--> 561\u001b[1;33m         \u001b[0mdata\u001b[0m \u001b[1;33m=\u001b[0m \u001b[0mself\u001b[0m\u001b[1;33m.\u001b[0m\u001b[0m_dataset_fetcher\u001b[0m\u001b[1;33m.\u001b[0m\u001b[0mfetch\u001b[0m\u001b[1;33m(\u001b[0m\u001b[0mindex\u001b[0m\u001b[1;33m)\u001b[0m  \u001b[1;31m# may raise StopIteration\u001b[0m\u001b[1;33m\u001b[0m\u001b[1;33m\u001b[0m\u001b[0m\n\u001b[0m\u001b[0;32m    562\u001b[0m         \u001b[1;32mif\u001b[0m \u001b[0mself\u001b[0m\u001b[1;33m.\u001b[0m\u001b[0m_pin_memory\u001b[0m\u001b[1;33m:\u001b[0m\u001b[1;33m\u001b[0m\u001b[1;33m\u001b[0m\u001b[0m\n\u001b[0;32m    563\u001b[0m             \u001b[0mdata\u001b[0m \u001b[1;33m=\u001b[0m \u001b[0m_utils\u001b[0m\u001b[1;33m.\u001b[0m\u001b[0mpin_memory\u001b[0m\u001b[1;33m.\u001b[0m\u001b[0mpin_memory\u001b[0m\u001b[1;33m(\u001b[0m\u001b[0mdata\u001b[0m\u001b[1;33m)\u001b[0m\u001b[1;33m\u001b[0m\u001b[1;33m\u001b[0m\u001b[0m\n",
      "\u001b[1;32m~\\miniconda3\\envs\\animals\\lib\\site-packages\\torch\\utils\\data\\_utils\\fetch.py\u001b[0m in \u001b[0;36mfetch\u001b[1;34m(self, possibly_batched_index)\u001b[0m\n\u001b[0;32m     47\u001b[0m     \u001b[1;32mdef\u001b[0m \u001b[0mfetch\u001b[0m\u001b[1;33m(\u001b[0m\u001b[0mself\u001b[0m\u001b[1;33m,\u001b[0m \u001b[0mpossibly_batched_index\u001b[0m\u001b[1;33m)\u001b[0m\u001b[1;33m:\u001b[0m\u001b[1;33m\u001b[0m\u001b[1;33m\u001b[0m\u001b[0m\n\u001b[0;32m     48\u001b[0m         \u001b[1;32mif\u001b[0m \u001b[0mself\u001b[0m\u001b[1;33m.\u001b[0m\u001b[0mauto_collation\u001b[0m\u001b[1;33m:\u001b[0m\u001b[1;33m\u001b[0m\u001b[1;33m\u001b[0m\u001b[0m\n\u001b[1;32m---> 49\u001b[1;33m             \u001b[0mdata\u001b[0m \u001b[1;33m=\u001b[0m \u001b[1;33m[\u001b[0m\u001b[0mself\u001b[0m\u001b[1;33m.\u001b[0m\u001b[0mdataset\u001b[0m\u001b[1;33m[\u001b[0m\u001b[0midx\u001b[0m\u001b[1;33m]\u001b[0m \u001b[1;32mfor\u001b[0m \u001b[0midx\u001b[0m \u001b[1;32min\u001b[0m \u001b[0mpossibly_batched_index\u001b[0m\u001b[1;33m]\u001b[0m\u001b[1;33m\u001b[0m\u001b[1;33m\u001b[0m\u001b[0m\n\u001b[0m\u001b[0;32m     50\u001b[0m         \u001b[1;32melse\u001b[0m\u001b[1;33m:\u001b[0m\u001b[1;33m\u001b[0m\u001b[1;33m\u001b[0m\u001b[0m\n\u001b[0;32m     51\u001b[0m             \u001b[0mdata\u001b[0m \u001b[1;33m=\u001b[0m \u001b[0mself\u001b[0m\u001b[1;33m.\u001b[0m\u001b[0mdataset\u001b[0m\u001b[1;33m[\u001b[0m\u001b[0mpossibly_batched_index\u001b[0m\u001b[1;33m]\u001b[0m\u001b[1;33m\u001b[0m\u001b[1;33m\u001b[0m\u001b[0m\n",
      "\u001b[1;32m~\\miniconda3\\envs\\animals\\lib\\site-packages\\torch\\utils\\data\\_utils\\fetch.py\u001b[0m in \u001b[0;36m<listcomp>\u001b[1;34m(.0)\u001b[0m\n\u001b[0;32m     47\u001b[0m     \u001b[1;32mdef\u001b[0m \u001b[0mfetch\u001b[0m\u001b[1;33m(\u001b[0m\u001b[0mself\u001b[0m\u001b[1;33m,\u001b[0m \u001b[0mpossibly_batched_index\u001b[0m\u001b[1;33m)\u001b[0m\u001b[1;33m:\u001b[0m\u001b[1;33m\u001b[0m\u001b[1;33m\u001b[0m\u001b[0m\n\u001b[0;32m     48\u001b[0m         \u001b[1;32mif\u001b[0m \u001b[0mself\u001b[0m\u001b[1;33m.\u001b[0m\u001b[0mauto_collation\u001b[0m\u001b[1;33m:\u001b[0m\u001b[1;33m\u001b[0m\u001b[1;33m\u001b[0m\u001b[0m\n\u001b[1;32m---> 49\u001b[1;33m             \u001b[0mdata\u001b[0m \u001b[1;33m=\u001b[0m \u001b[1;33m[\u001b[0m\u001b[0mself\u001b[0m\u001b[1;33m.\u001b[0m\u001b[0mdataset\u001b[0m\u001b[1;33m[\u001b[0m\u001b[0midx\u001b[0m\u001b[1;33m]\u001b[0m \u001b[1;32mfor\u001b[0m \u001b[0midx\u001b[0m \u001b[1;32min\u001b[0m \u001b[0mpossibly_batched_index\u001b[0m\u001b[1;33m]\u001b[0m\u001b[1;33m\u001b[0m\u001b[1;33m\u001b[0m\u001b[0m\n\u001b[0m\u001b[0;32m     50\u001b[0m         \u001b[1;32melse\u001b[0m\u001b[1;33m:\u001b[0m\u001b[1;33m\u001b[0m\u001b[1;33m\u001b[0m\u001b[0m\n\u001b[0;32m     51\u001b[0m             \u001b[0mdata\u001b[0m \u001b[1;33m=\u001b[0m \u001b[0mself\u001b[0m\u001b[1;33m.\u001b[0m\u001b[0mdataset\u001b[0m\u001b[1;33m[\u001b[0m\u001b[0mpossibly_batched_index\u001b[0m\u001b[1;33m]\u001b[0m\u001b[1;33m\u001b[0m\u001b[1;33m\u001b[0m\u001b[0m\n",
      "\u001b[1;32m~\\AppData\\Local\\Temp/ipykernel_26304/4099434514.py\u001b[0m in \u001b[0;36m__getitem__\u001b[1;34m(self, idx)\u001b[0m\n\u001b[0;32m     19\u001b[0m         \u001b[1;31m# if image.shape[0]==1:\u001b[0m\u001b[1;33m\u001b[0m\u001b[1;33m\u001b[0m\u001b[1;33m\u001b[0m\u001b[0m\n\u001b[0;32m     20\u001b[0m         \u001b[1;31m# some images have only one channel, we convert them to rgb\u001b[0m\u001b[1;33m\u001b[0m\u001b[1;33m\u001b[0m\u001b[1;33m\u001b[0m\u001b[0m\n\u001b[1;32m---> 21\u001b[1;33m         \u001b[0mimage\u001b[0m \u001b[1;33m=\u001b[0m \u001b[0mImage\u001b[0m\u001b[1;33m.\u001b[0m\u001b[0mopen\u001b[0m\u001b[1;33m(\u001b[0m\u001b[0mimg_path\u001b[0m\u001b[1;33m)\u001b[0m\u001b[1;33m.\u001b[0m\u001b[0mconvert\u001b[0m\u001b[1;33m(\u001b[0m\u001b[1;34m\"RGB\"\u001b[0m\u001b[1;33m)\u001b[0m\u001b[1;33m\u001b[0m\u001b[1;33m\u001b[0m\u001b[0m\n\u001b[0m\u001b[0;32m     22\u001b[0m         \u001b[0mimage\u001b[0m \u001b[1;33m=\u001b[0m \u001b[0mconv\u001b[0m\u001b[1;33m(\u001b[0m\u001b[0mimage\u001b[0m\u001b[1;33m)\u001b[0m\u001b[1;33m\u001b[0m\u001b[1;33m\u001b[0m\u001b[0m\n\u001b[0;32m     23\u001b[0m \u001b[1;33m\u001b[0m\u001b[0m\n",
      "\u001b[1;32m~\\miniconda3\\envs\\animals\\lib\\site-packages\\PIL\\Image.py\u001b[0m in \u001b[0;36mconvert\u001b[1;34m(self, mode, matrix, dither, palette, colors)\u001b[0m\n\u001b[0;32m    887\u001b[0m         \"\"\"\n\u001b[0;32m    888\u001b[0m \u001b[1;33m\u001b[0m\u001b[0m\n\u001b[1;32m--> 889\u001b[1;33m         \u001b[0mself\u001b[0m\u001b[1;33m.\u001b[0m\u001b[0mload\u001b[0m\u001b[1;33m(\u001b[0m\u001b[1;33m)\u001b[0m\u001b[1;33m\u001b[0m\u001b[1;33m\u001b[0m\u001b[0m\n\u001b[0m\u001b[0;32m    890\u001b[0m \u001b[1;33m\u001b[0m\u001b[0m\n\u001b[0;32m    891\u001b[0m         \u001b[0mhas_transparency\u001b[0m \u001b[1;33m=\u001b[0m \u001b[0mself\u001b[0m\u001b[1;33m.\u001b[0m\u001b[0minfo\u001b[0m\u001b[1;33m.\u001b[0m\u001b[0mget\u001b[0m\u001b[1;33m(\u001b[0m\u001b[1;34m\"transparency\"\u001b[0m\u001b[1;33m)\u001b[0m \u001b[1;32mis\u001b[0m \u001b[1;32mnot\u001b[0m \u001b[1;32mNone\u001b[0m\u001b[1;33m\u001b[0m\u001b[1;33m\u001b[0m\u001b[0m\n",
      "\u001b[1;32m~\\miniconda3\\envs\\animals\\lib\\site-packages\\PIL\\ImageFile.py\u001b[0m in \u001b[0;36mload\u001b[1;34m(self)\u001b[0m\n\u001b[0;32m    251\u001b[0m \u001b[1;33m\u001b[0m\u001b[0m\n\u001b[0;32m    252\u001b[0m                             \u001b[0mb\u001b[0m \u001b[1;33m=\u001b[0m \u001b[0mb\u001b[0m \u001b[1;33m+\u001b[0m \u001b[0ms\u001b[0m\u001b[1;33m\u001b[0m\u001b[1;33m\u001b[0m\u001b[0m\n\u001b[1;32m--> 253\u001b[1;33m                             \u001b[0mn\u001b[0m\u001b[1;33m,\u001b[0m \u001b[0merr_code\u001b[0m \u001b[1;33m=\u001b[0m \u001b[0mdecoder\u001b[0m\u001b[1;33m.\u001b[0m\u001b[0mdecode\u001b[0m\u001b[1;33m(\u001b[0m\u001b[0mb\u001b[0m\u001b[1;33m)\u001b[0m\u001b[1;33m\u001b[0m\u001b[1;33m\u001b[0m\u001b[0m\n\u001b[0m\u001b[0;32m    254\u001b[0m                             \u001b[1;32mif\u001b[0m \u001b[0mn\u001b[0m \u001b[1;33m<\u001b[0m \u001b[1;36m0\u001b[0m\u001b[1;33m:\u001b[0m\u001b[1;33m\u001b[0m\u001b[1;33m\u001b[0m\u001b[0m\n\u001b[0;32m    255\u001b[0m                                 \u001b[1;32mbreak\u001b[0m\u001b[1;33m\u001b[0m\u001b[1;33m\u001b[0m\u001b[0m\n",
      "\u001b[1;31mKeyboardInterrupt\u001b[0m: "
     ]
    }
   ],
   "source": [
    "# TRAIN\n",
    "all_train_logs, all_trans_valid_logs, all_cis_valid_logs = train(dataloader=train_dataloader, num_epochs=num_epochs)"
   ]
  },
  {
   "cell_type": "markdown",
   "metadata": {},
   "source": [
    "## Checking the log results"
   ]
  },
  {
   "cell_type": "markdown",
   "metadata": {},
   "source": [
    "##### Ensures that if you hit the training cell, you don't lose the variables containing the logs from the last run"
   ]
  },
  {
   "cell_type": "code",
   "execution_count": 27,
   "metadata": {
    "scrolled": true
   },
   "outputs": [
    {
     "ename": "NameError",
     "evalue": "name 'all_train_logs' is not defined",
     "output_type": "error",
     "traceback": [
      "\u001b[1;31m---------------------------------------------------------------------------\u001b[0m",
      "\u001b[1;31mNameError\u001b[0m                                 Traceback (most recent call last)",
      "\u001b[1;32m~\\AppData\\Local\\Temp/ipykernel_26304/151659712.py\u001b[0m in \u001b[0;36m<module>\u001b[1;34m\u001b[0m\n\u001b[1;32m----> 1\u001b[1;33m \u001b[0mlast_train_logs\u001b[0m \u001b[1;33m=\u001b[0m \u001b[0mall_train_logs\u001b[0m\u001b[1;33m\u001b[0m\u001b[1;33m\u001b[0m\u001b[0m\n\u001b[0m\u001b[0;32m      2\u001b[0m \u001b[0mlast_trans_valid_logs\u001b[0m \u001b[1;33m=\u001b[0m \u001b[0mall_trans_valid_logs\u001b[0m\u001b[1;33m\u001b[0m\u001b[1;33m\u001b[0m\u001b[0m\n\u001b[0;32m      3\u001b[0m \u001b[0mlast_cis_valid_logs\u001b[0m \u001b[1;33m=\u001b[0m \u001b[0mall_cis_valid_logs\u001b[0m\u001b[1;33m\u001b[0m\u001b[1;33m\u001b[0m\u001b[0m\n",
      "\u001b[1;31mNameError\u001b[0m: name 'all_train_logs' is not defined"
     ]
    }
   ],
   "source": [
    "last_train_logs = all_train_logs\n",
    "last_trans_valid_logs = all_trans_valid_logs\n",
    "last_cis_valid_logs = all_cis_valid_logs"
   ]
  },
  {
   "cell_type": "markdown",
   "metadata": {},
   "source": [
    "##### Converts the logs to lists and the tensors to numpy "
   ]
  },
  {
   "cell_type": "code",
   "execution_count": null,
   "metadata": {},
   "outputs": [],
   "source": [
    "train_logs = train_logs_to_lst(last_train_logs)\n",
    "cis_valid_logs = valid_logs_to_lst(last_cis_valid_logs)\n",
    "trans_valid_logs = valid_logs_to_lst(last_trans_valid_logs)"
   ]
  },
  {
   "cell_type": "markdown",
   "metadata": {},
   "source": [
    "## Results"
   ]
  },
  {
   "cell_type": "code",
   "execution_count": null,
   "metadata": {},
   "outputs": [],
   "source": [
    "# To confirm that the data is loaded properly\n",
    "n = len(train_logs)\n",
    "print(n)"
   ]
  },
  {
   "cell_type": "code",
   "execution_count": null,
   "metadata": {},
   "outputs": [],
   "source": [
    "# Train loss to print (here we use global_avg but we can use: value, median, avg, max or global_avg)\n",
    "results_train_loss = []\n",
    "\n",
    "for i in range(n):\n",
    "    results_train_loss.append(train_logs[i]['loss_box_reg']['global_avg'])\n",
    "    \n",
    "# Cis valid loss to print\n",
    "results_cis_valid_loss = [] # cis\n",
    "\n",
    "for i in range(n):\n",
    "    loss_interm = 0\n",
    "    for j in range(167):\n",
    "        loss_interm += cis_valid_logs[(167 * i) + j]['loss_rpn_box_reg']\n",
    "    results_cis_valid_loss.append(loss_interm)\n",
    "\n",
    "# Trans valid loss to print\n",
    "results_trans_valid_loss = [] # trans\n",
    "\n",
    "for i in range(n):\n",
    "    loss_interm = 0\n",
    "    for j in range(154):\n",
    "        loss_interm += trans_valid_logs[(154 * i) + j]['loss_rpn_box_reg']\n",
    "    results_trans_valid_loss.append(loss_interm)"
   ]
  },
  {
   "cell_type": "markdown",
   "metadata": {},
   "source": [
    "### Plots"
   ]
  },
  {
   "cell_type": "code",
   "execution_count": null,
   "metadata": {},
   "outputs": [],
   "source": [
    "# Printing the different plots\n",
    "fig, ax = plt.subplots(1,2, figsize=(20,6))\n",
    "\n",
    "ax[0].plot(np.arange(1, n + 1), results_train_loss, label='train')\n",
    "ax[0].set_title('Train loss per epoch')\n",
    "ax[0].set_ylabel('loss_box_reg')\n",
    "ax[0].set_xlabel('epoch')\n",
    "\n",
    "plt.title('Train loss per epoch')\n",
    "ax[1].plot(np.arange(1, n + 1), results_cis_valid_loss, label='cis')\n",
    "ax[1].plot(np.arange(1, n + 1), results_trans_valid_loss, label='trans')\n",
    "ax[1].set_title('Valid loss per epoch')\n",
    "ax[1].set_ylabel('loss_rpn_box_reg')\n",
    "ax[1].set_xlabel('epoch')\n",
    "ax[1].legend()"
   ]
  },
  {
   "cell_type": "markdown",
   "metadata": {},
   "source": [
    "#### Save the figure to pdf format in the figures folder"
   ]
  },
  {
   "cell_type": "code",
   "execution_count": null,
   "metadata": {},
   "outputs": [],
   "source": [
    "fig.savefig(\"saved_figures/\" + time.strftime(\"%Y%m%d_%H%M%S\") + \"_figure.pdf\")"
   ]
  },
  {
   "cell_type": "markdown",
   "metadata": {},
   "source": [
    "# Evaluate on COCO detection metrics"
   ]
  },
  {
   "cell_type": "markdown",
   "metadata": {},
   "source": [
    "### Test on COCO metrics from data loaders\n",
    "##### 'For evaluation, we consider a detected box to be correct if its IoU ≥ 0.5 with a ground truth box.'\n",
    "\n",
    "We need to look at the precison score with IoU=0.5, area=all and maxDets=100.\n",
    "For the recall score, by default it's IoU=0.5:IoU=0.95."
   ]
  },
  {
   "cell_type": "code",
   "execution_count": null,
   "metadata": {},
   "outputs": [],
   "source": [
    "# cis test 10 epochs rpn + roi 3"
   ]
  },
  {
   "cell_type": "code",
   "execution_count": null,
   "metadata": {
    "scrolled": true
   },
   "outputs": [],
   "source": [
    "# takes +- 25min to run on cis_test\n",
    "cis_coco_evaluator = evaluate(cis_test_dataloader, cis_coco)"
   ]
  },
  {
   "cell_type": "code",
   "execution_count": null,
   "metadata": {
    "scrolled": true
   },
   "outputs": [],
   "source": [
    "# takes +- 25min to run on cis_test\n",
    "trans_coco_evaluator = evaluate(trans_test_dataloader, trans_coco)"
   ]
  },
  {
   "cell_type": "code",
   "execution_count": null,
   "metadata": {},
   "outputs": [],
   "source": [
    "print('cis test 10 epochs rpn + roi 3')\n",
    "print('_'*80)\n",
    "cis_coco_evaluator.summarize()"
   ]
  },
  {
   "cell_type": "code",
   "execution_count": null,
   "metadata": {},
   "outputs": [],
   "source": [
    "print('trans test 10 epochs rpn + roi 3')\n",
    "print('_'*80)\n",
    "trans_coco_evaluator.summarize()"
   ]
  },
  {
   "cell_type": "markdown",
   "metadata": {
    "id": "SPV4Pxyajekr"
   },
   "source": [
    "## Make Predictions with a model"
   ]
  },
  {
   "cell_type": "markdown",
   "metadata": {},
   "source": [
    "### Load 10 random predictions"
   ]
  },
  {
   "cell_type": "code",
   "execution_count": null,
   "metadata": {
    "id": "1dTlEPVhRVHE"
   },
   "outputs": [],
   "source": [
    "# Loads 10 images and makes the model do predictions on these images\n",
    "# WARNING: Takes GPU ram space\n",
    "train_features, train_labels = next(iter(trans_valid_dataloader))\n",
    "image = list(image.to(device) for image in train_features)\n",
    "\n",
    "model.eval()\n",
    "with torch.no_grad():\n",
    "      pred = model(image)"
   ]
  },
  {
   "cell_type": "code",
   "execution_count": null,
   "metadata": {},
   "outputs": [],
   "source": [
    "# Prints 10 images with the predictions before and after NMS\n",
    "for image_i in range(len(image)):\n",
    "    fig, ax = plt.subplots(1,3,figsize=(24,16))\n",
    "\n",
    "    ax[0].imshow(train_features[image_i][0].squeeze(),cmap=\"gray\")\n",
    "    rect = patches.Rectangle((train_labels[image_i]['boxes'][0][0], \n",
    "                              train_labels[image_i]['boxes'][0][1]), \n",
    "                             train_labels[image_i]['boxes'][0][2]-train_labels[image_i]['boxes'][0][0], \n",
    "                             train_labels[image_i]['boxes'][0][3]-train_labels[image_i]['boxes'][0][1], \n",
    "                             linewidth=2, edgecolor='r', facecolor='none')\n",
    "    ax[0].add_patch(rect)\n",
    "    ax[0].set_title('Ground truth')\n",
    "\n",
    "    # Predictions\n",
    "    ax[1].imshow(train_features[image_i][0].squeeze(),cmap=\"gray\")\n",
    "    for i in range(len(pred[image_i]['boxes'])):\n",
    "        rect = patches.Rectangle((pred[image_i]['boxes'][i][0].cpu(), \n",
    "                                  pred[image_i]['boxes'][i][1].cpu()), \n",
    "                                 (pred[image_i]['boxes'][i][2]-pred[image_i]['boxes'][i][0]).cpu(), \n",
    "                                 (pred[image_i]['boxes'][i][3]-pred[image_i]['boxes'][i][1]).cpu(), \n",
    "                                 linewidth=2, edgecolor='r', facecolor='none')\n",
    "        ax[1].add_patch(rect)\n",
    "    ax[1].set_title('Pred')\n",
    "\n",
    "    # Predictions after NMS\n",
    "    iou_threshold = 0.001 # param to tune\n",
    "    boxes_to_keep = torchvision.ops.nms(pred[image_i]['boxes'], pred[image_i]['scores'], iou_threshold = iou_threshold).cpu()\n",
    "    ax[2].imshow(train_features[image_i][0].squeeze(),cmap=\"gray\")\n",
    "    for i in boxes_to_keep:\n",
    "        rect = patches.Rectangle((pred[image_i]['boxes'][i][0].cpu(), \n",
    "                                  pred[image_i]['boxes'][i][1].cpu()), \n",
    "                                 (pred[image_i]['boxes'][i][2]-pred[image_i]['boxes'][i][0]).cpu(), \n",
    "                                 (pred[image_i]['boxes'][i][3]-pred[image_i]['boxes'][i][1]).cpu(), \n",
    "                                 linewidth=2, edgecolor='r', facecolor='none')\n",
    "        ax[2].add_patch(rect)\n",
    "\n",
    "    ax[2].set_title('After NMS')"
   ]
  },
  {
   "cell_type": "code",
   "execution_count": null,
   "metadata": {
    "colab": {
     "base_uri": "https://localhost:8080/",
     "height": 368
    },
    "id": "tkwIJ6cCeRq3",
    "outputId": "33012e5f-2664-46ef-fa1e-b54bf5e2faf5",
    "scrolled": true
   },
   "outputs": [],
   "source": [
    "# Print a single image chosen by index from the last batch of 10 predictions\n",
    "image_i = 3 # from 0 to 9 included\n",
    "\n",
    "fig, ax = plt.subplots(1,3,figsize=(24,16))\n",
    "\n",
    "ax[0].imshow(train_features[image_i][0].squeeze(),cmap=\"gray\")\n",
    "for i in range(len(train_labels[image_i]['boxes'])):\n",
    "    rect = patches.Rectangle((train_labels[image_i]['boxes'][i][0], \n",
    "                            train_labels[image_i]['boxes'][i][1]), \n",
    "                            train_labels[image_i]['boxes'][i][2]-train_labels[image_i]['boxes'][i][0], \n",
    "                            train_labels[image_i]['boxes'][i][3]-train_labels[image_i]['boxes'][i][1], \n",
    "                            linewidth=2, edgecolor='r', facecolor='none')\n",
    "    ax[0].add_patch(rect)\n",
    "ax[0].set_title('Ground truth')\n",
    "\n",
    "# Predictions\n",
    "ax[1].imshow(train_features[image_i][0].squeeze(),cmap=\"gray\")\n",
    "for i in range(len(pred[image_i]['boxes'])):\n",
    "    rect = patches.Rectangle((pred[image_i]['boxes'][i][0].cpu(), \n",
    "                              pred[image_i]['boxes'][i][1].cpu()), \n",
    "                             (pred[image_i]['boxes'][i][2]-pred[image_i]['boxes'][i][0]).cpu(), \n",
    "                             (pred[image_i]['boxes'][i][3]-pred[image_i]['boxes'][i][1]).cpu(), \n",
    "                             linewidth=2, edgecolor='r', facecolor='none')\n",
    "    ax[1].add_patch(rect)\n",
    "ax[1].set_title('Pred')\n",
    "\n",
    "# Predictions after NMS\n",
    "iou_threshold = 0.01 # param to tune\n",
    "boxes_to_keep = torchvision.ops.nms(pred[image_i]['boxes'], pred[image_i]['scores'], iou_threshold = iou_threshold).cpu()\n",
    "ax[2].imshow(train_features[image_i][0].squeeze(),cmap=\"gray\")\n",
    "for i in boxes_to_keep:\n",
    "    rect = patches.Rectangle((pred[image_i]['boxes'][i][0].cpu(), \n",
    "                              pred[image_i]['boxes'][i][1].cpu()), \n",
    "                             (pred[image_i]['boxes'][i][2]-pred[image_i]['boxes'][i][0]).cpu(), \n",
    "                             (pred[image_i]['boxes'][i][3]-pred[image_i]['boxes'][i][1]).cpu(), \n",
    "                             linewidth=2, edgecolor='r', facecolor='none')\n",
    "    ax[2].add_patch(rect)\n",
    "\n",
    "ax[2].set_title('After NMS')"
   ]
  },
  {
   "cell_type": "markdown",
   "metadata": {},
   "source": [
    "# Method 1 (Subspace alignment based Domain adaptation)\n",
    "### Using the same modeel that we just trained"
   ]
  },
  {
   "cell_type": "markdown",
   "metadata": {},
   "source": [
    "Otherwise, you can just load a model by uncommenting the following code"
   ]
  },
  {
   "cell_type": "code",
   "execution_count": null,
   "metadata": {},
   "outputs": [],
   "source": [
    "# # UNCOMMENT THE FOLLOWING LINE:\n",
    "# model, optimizer, lr_scheduler = load_model(3, \"light_10_rpn_roi\")"
   ]
  },
  {
   "cell_type": "code",
   "execution_count": 30,
   "metadata": {},
   "outputs": [],
   "source": [
    "import torchvision.ops.boxes as bops\n",
    "from sklearn.decomposition import PCA\n",
    "from sklearn.preprocessing import StandardScaler\n",
    "from torch import nn"
   ]
  },
  {
   "cell_type": "markdown",
   "metadata": {},
   "source": [
    "Papers \n",
    "\n",
    " 1. https://arxiv.org/pdf/1507.05578.pdf\n",
    "\n",
    " 2.  https://openaccess.thecvf.com/content_iccv_2013/papers/Fernando_Unsupervised_Visual_Domain_2013_ICCV_paper.pdf"
   ]
  },
  {
   "cell_type": "markdown",
   "metadata": {},
   "source": [
    "**Construct source matrix:** \n",
    "\n",
    "We keep output of model.roi_heads.box_head (vector of size 1024) as feature representations of bounding boxes extracted by the RPN (region proposal network). For us to stack a box representation to the source matrix, it has to have a IoU > thres_IoU with the ground truth of the given image. "
   ]
  },
  {
   "cell_type": "code",
   "execution_count": 31,
   "metadata": {
    "scrolled": true
   },
   "outputs": [
    {
     "name": "stdout",
     "output_type": "stream",
     "text": [
      "100\n",
      "200\n",
      "300\n",
      "400\n",
      "500\n",
      "600\n",
      "700\n",
      "800\n",
      "900\n",
      "1000\n",
      "1100\n",
      "1200\n",
      "1300\n",
      "1400\n",
      "1500\n",
      "1600\n",
      "1700\n",
      "1800\n",
      "1900\n",
      "2000\n",
      "2100\n",
      "2200\n",
      "2300\n",
      "2400\n",
      "2500\n",
      "2600\n",
      "2700\n",
      "2800\n",
      "2900\n",
      "3000\n",
      "3100\n",
      "3200\n",
      "3300\n",
      "3400\n",
      "3500\n",
      "3600\n",
      "3700\n",
      "3800\n",
      "3900\n",
      "4000\n",
      "4100\n",
      "4200\n",
      "4300\n",
      "4400\n",
      "4500\n",
      "4600\n",
      "4700\n",
      "4800\n",
      "4900\n",
      "5000\n",
      "5100\n",
      "5200\n",
      "5300\n",
      "5400\n",
      "5500\n",
      "5600\n",
      "5700\n",
      "5800\n",
      "5900\n",
      "6000\n",
      "6100\n",
      "6200\n",
      "6300\n",
      "6400\n",
      "6500\n",
      "6600\n",
      "6700\n",
      "6800\n",
      "6900\n",
      "7000\n",
      "7100\n",
      "7200\n",
      "7300\n",
      "7400\n",
      "7500\n",
      "7600\n",
      "7700\n",
      "7800\n",
      "7900\n",
      "8000\n",
      "8100\n",
      "8200\n",
      "8300\n",
      "8400\n",
      "8500\n",
      "8600\n",
      "8700\n",
      "8800\n",
      "8900\n",
      "9000\n",
      "9100\n",
      "9200\n",
      "9300\n",
      "9400\n",
      "9500\n",
      "9600\n",
      "9700\n",
      "9800\n",
      "9900\n",
      "10000\n",
      "10100\n",
      "10200\n",
      "10300\n",
      "10400\n",
      "10500\n",
      "10600\n",
      "10700\n",
      "10800\n",
      "10900\n",
      "11000\n",
      "11100\n",
      "11200\n",
      "11300\n",
      "11400\n",
      "11500\n",
      "11600\n",
      "11700\n",
      "11800\n",
      "11900\n",
      "12000\n"
     ]
    }
   ],
   "source": [
    "thres_IoU = 0.50\n",
    "count = 0\n",
    "\n",
    "X_source = torch.tensor([])\n",
    "bbox_idx = torch.arange(1000)\n",
    "\n",
    "model.eval()\n",
    "\n",
    "for images, targets in train_dataloader: \n",
    "    images = [image.to(device) for image in images]\n",
    "    targets = [{k: v.to(device) for k, v in t.items()} for t in targets]\n",
    "\n",
    "    count += 1\n",
    "\n",
    "    if count%100 == 0:\n",
    "        print(count)\n",
    "\n",
    "    with torch.no_grad():\n",
    "        outputs = []\n",
    "        hook = model.rpn.register_forward_hook(\n",
    "        lambda self, input, output: outputs.append(output))\n",
    "\n",
    "        outputs1 = []\n",
    "        hook1 = model.roi_heads.box_head.register_forward_hook(\n",
    "        lambda self, input, output: outputs1.append(output))\n",
    "\n",
    "        res = model(images)\n",
    "        hook.remove()\n",
    "        hook1.remove()\n",
    "\n",
    "    coords = outputs[0][0][0].cpu() # [1000,4]\n",
    "    feat = outputs1[0].cpu() # [1000, 1024]\n",
    "\n",
    "    gt = targets[0]['boxes'].cpu()\n",
    "\n",
    "    bbox_idx_to_keep = torch.tensor([])\n",
    "    for i in range(gt.shape[0]):\n",
    "\n",
    "        IoUs = bops.box_iou(gt[i].reshape(1,4), coords)\n",
    "        IoUs = IoUs.reshape(1000)\n",
    "        bbox_idx_to_keep = torch.cat((bbox_idx_to_keep, bbox_idx[IoUs >= thres_IoU]),dim=0)\n",
    "\n",
    "    X_source = torch.cat((X_source,feat[torch.unique(bbox_idx_to_keep).long()]), dim=0)"
   ]
  },
  {
   "cell_type": "code",
   "execution_count": 32,
   "metadata": {},
   "outputs": [
    {
     "data": {
      "text/plain": [
       "torch.Size([101061, 1024])"
      ]
     },
     "execution_count": 32,
     "metadata": {},
     "output_type": "execute_result"
    }
   ],
   "source": [
    "X_source.shape"
   ]
  },
  {
   "cell_type": "markdown",
   "metadata": {},
   "source": [
    "### Save 1"
   ]
  },
  {
   "cell_type": "code",
   "execution_count": 33,
   "metadata": {},
   "outputs": [],
   "source": [
    "torch.save(X_source, 'saved_matrixes/X_source_05_row_col_10_rpn_roi_4_512.pt')"
   ]
  },
  {
   "cell_type": "code",
   "execution_count": null,
   "metadata": {},
   "outputs": [],
   "source": [
    "# # center data\n",
    "# scaler = StandardScaler()\n",
    "# X_source_scaled = scaler.fit_transform(X_source)"
   ]
  },
  {
   "cell_type": "code",
   "execution_count": 35,
   "metadata": {},
   "outputs": [],
   "source": [
    "# center data per row\n",
    "scaler_row = StandardScaler()\n",
    "X_source_scaled_row = scaler_row.fit_transform(X_source.T)\n",
    "\n",
    "# center data per column\n",
    "scaler_col = StandardScaler()\n",
    "X_source_scaled = scaler_col.fit_transform(X_source_scaled_row.T)"
   ]
  },
  {
   "cell_type": "code",
   "execution_count": 36,
   "metadata": {},
   "outputs": [],
   "source": [
    "# Apply PCA, keep only an amount of first components which gives the Projected source matrix\n",
    "\n",
    "pca = PCA(n_components=512)\n",
    "pca.fit(X_source_scaled)\n",
    "\n",
    "X_source_proj = pca.components_\n",
    "X_source_proj = torch.from_numpy(X_source_proj)\n"
   ]
  },
  {
   "cell_type": "code",
   "execution_count": 37,
   "metadata": {},
   "outputs": [
    {
     "data": {
      "text/plain": [
       "torch.Size([512, 1024])"
      ]
     },
     "execution_count": 37,
     "metadata": {},
     "output_type": "execute_result"
    }
   ],
   "source": [
    "X_source_proj.shape"
   ]
  },
  {
   "cell_type": "code",
   "execution_count": 38,
   "metadata": {},
   "outputs": [
    {
     "data": {
      "image/png": "[encoded data removed]",
      "text/plain": [
       "<Figure size 432x288 with 1 Axes>"
      ]
     },
     "metadata": {
      "needs_background": "light"
     },
     "output_type": "display_data"
    }
   ],
   "source": [
    "plt.plot(pca.explained_variance_ratio_) \n",
    "plt.grid()"
   ]
  },
  {
   "cell_type": "markdown",
   "metadata": {},
   "source": [
    "### Save 2"
   ]
  },
  {
   "cell_type": "code",
   "execution_count": 39,
   "metadata": {},
   "outputs": [],
   "source": [
    "torch.save(X_source_proj, 'saved_matrixes/X_source_proj_05_row_col_10_rpn_roi_4_512.pt')"
   ]
  },
  {
   "cell_type": "markdown",
   "metadata": {},
   "source": [
    "### Target data with batch size 1"
   ]
  },
  {
   "cell_type": "code",
   "execution_count": 40,
   "metadata": {},
   "outputs": [],
   "source": [
    "# Target data/distribution = trans test set - Batch Size 1\n",
    "trans_test_batch1_img,_ = get_img_with_bbox(trans_test_ann_path)\n",
    "trans_test_batch1_data = CustomImageDataset(trans_test_ann_path, img_folder, trans_test_batch1_img)\n",
    "trans_test_batch1_dataloader = DataLoader(trans_test_batch1_data, batch_size=1, shuffle=True, collate_fn=utils.collate_fn)"
   ]
  },
  {
   "cell_type": "markdown",
   "metadata": {},
   "source": [
    " **Construct target matrix:** \n",
    " \n",
    "We keep output of model.roi_heads.box_head (vector of size 1024) as feature representations of bounding boxes\n",
    " extracted by the RPN (region proposal network). For us to stack a box representation to the source matrix, the predicted bbox associated with the feature has to have a confidence score > thres_conf_score (since we don't use target labels we can't use the IoU here).\n"
   ]
  },
  {
   "cell_type": "code",
   "execution_count": 41,
   "metadata": {
    "scrolled": true
   },
   "outputs": [
    {
     "name": "stdout",
     "output_type": "stream",
     "text": [
      "100\n",
      "200\n",
      "300\n",
      "400\n",
      "500\n",
      "600\n",
      "700\n",
      "800\n",
      "900\n",
      "1000\n",
      "1100\n",
      "1200\n",
      "1300\n",
      "1400\n",
      "1500\n",
      "1600\n",
      "1700\n",
      "1800\n",
      "1900\n",
      "2000\n",
      "2100\n",
      "2200\n",
      "2300\n",
      "2400\n",
      "2500\n",
      "2600\n",
      "2700\n",
      "2800\n",
      "2900\n",
      "3000\n",
      "3100\n",
      "3200\n",
      "3300\n",
      "3400\n",
      "3500\n",
      "3600\n",
      "3700\n",
      "3800\n",
      "3900\n",
      "4000\n",
      "4100\n",
      "4200\n",
      "4300\n",
      "4400\n",
      "4500\n",
      "4600\n",
      "4700\n",
      "4800\n",
      "4900\n",
      "5000\n",
      "5100\n",
      "5200\n",
      "5300\n",
      "5400\n",
      "5500\n",
      "5600\n",
      "5700\n",
      "5800\n",
      "5900\n",
      "6000\n",
      "6100\n",
      "6200\n",
      "6300\n",
      "6400\n",
      "6500\n",
      "6600\n",
      "6700\n",
      "6800\n",
      "6900\n",
      "7000\n",
      "7100\n",
      "7200\n",
      "7300\n",
      "7400\n",
      "7500\n",
      "7600\n",
      "7700\n",
      "7800\n",
      "7900\n",
      "8000\n",
      "8100\n",
      "8200\n",
      "8300\n",
      "8400\n",
      "8500\n",
      "8600\n",
      "8700\n",
      "8800\n",
      "8900\n",
      "9000\n",
      "9100\n",
      "9200\n",
      "9300\n",
      "9400\n",
      "9500\n",
      "9600\n",
      "9700\n",
      "9800\n",
      "9900\n",
      "10000\n",
      "10100\n",
      "10200\n",
      "10300\n",
      "10400\n",
      "10500\n",
      "10600\n",
      "10700\n",
      "10800\n",
      "10900\n",
      "11000\n",
      "11100\n",
      "11200\n",
      "11300\n",
      "11400\n",
      "11500\n",
      "11600\n",
      "11700\n",
      "11800\n",
      "11900\n",
      "12000\n",
      "12100\n",
      "12200\n",
      "12300\n",
      "12400\n",
      "12500\n",
      "12600\n",
      "12700\n",
      "12800\n",
      "12900\n",
      "13000\n",
      "13100\n",
      "13200\n",
      "13300\n",
      "13400\n",
      "13500\n",
      "13600\n",
      "13700\n",
      "13800\n",
      "13900\n",
      "14000\n",
      "14100\n",
      "14200\n",
      "14300\n",
      "14400\n",
      "14500\n",
      "14600\n",
      "14700\n",
      "14800\n",
      "14900\n",
      "15000\n",
      "15100\n",
      "15200\n",
      "15300\n",
      "15400\n",
      "15500\n",
      "15600\n",
      "15700\n",
      "15800\n",
      "15900\n",
      "16000\n",
      "16100\n",
      "16200\n",
      "16300\n",
      "16400\n",
      "16500\n",
      "16600\n",
      "16700\n",
      "16800\n",
      "16900\n",
      "17000\n",
      "17100\n",
      "17200\n",
      "17300\n",
      "17400\n",
      "17500\n",
      "17600\n",
      "17700\n",
      "17800\n",
      "17900\n",
      "18000\n"
     ]
    }
   ],
   "source": [
    "# 30 minutes\n",
    "thres_conf_score= 0.50 \n",
    "count=0\n",
    "\n",
    "X_target=torch.tensor([])\n",
    "\n",
    "model.eval()\n",
    "\n",
    "for images, targets in trans_test_batch1_dataloader: # trans location valid AND test ?\n",
    "    images = [image.to(device) for image in images]\n",
    "    targets = [{k: v.to(device) for k, v in t.items()} for t in targets]\n",
    "\n",
    "    count+=1\n",
    "\n",
    "    if count%100==0:\n",
    "        print(count)\n",
    "\n",
    "    with torch.no_grad():\n",
    "\n",
    "        outputs = []\n",
    "        hook = model.backbone.register_forward_hook(\n",
    "        lambda self, input, output: outputs.append(output))\n",
    "        res = model(images)\n",
    "        hook.remove()\n",
    "\n",
    "        box_features = model.roi_heads.box_roi_pool(outputs[0], [r['boxes'] for r in res], [i.shape[-2:] for i in images])\n",
    "        box_features = model.roi_heads.box_head(box_features)\n",
    "\n",
    "    X_target = torch.cat((X_target,box_features[res[0]['scores']>=thres_conf_score].cpu()), dim=0)\n"
   ]
  },
  {
   "cell_type": "code",
   "execution_count": 42,
   "metadata": {},
   "outputs": [
    {
     "data": {
      "text/plain": [
       "torch.Size([37508, 1024])"
      ]
     },
     "execution_count": 42,
     "metadata": {},
     "output_type": "execute_result"
    }
   ],
   "source": [
    "X_target.shape"
   ]
  },
  {
   "cell_type": "code",
   "execution_count": 43,
   "metadata": {},
   "outputs": [],
   "source": [
    "torch.save(X_target, 'saved_matrixes/X_target_05_row_col_10_rpn_roi_4_512.pt')"
   ]
  },
  {
   "cell_type": "code",
   "execution_count": 44,
   "metadata": {},
   "outputs": [],
   "source": [
    "# # center data\n",
    "# scaler = StandardScaler()\n",
    "# X_target_scaled = scaler.fit_transform(X_target)"
   ]
  },
  {
   "cell_type": "code",
   "execution_count": 45,
   "metadata": {},
   "outputs": [],
   "source": [
    "# center data per row\n",
    "scaler_row = StandardScaler()\n",
    "X_target_scaled_row = scaler_row.fit_transform(X_target.T)\n",
    "\n",
    "# center data per column\n",
    "scaler_col = StandardScaler()\n",
    "X_target_scaled = scaler_col.fit_transform(X_target_scaled_row.T)"
   ]
  },
  {
   "cell_type": "code",
   "execution_count": 46,
   "metadata": {},
   "outputs": [],
   "source": [
    "# Apply PCA, keep only an amount of first components which gives the Projected source matrix\n",
    "\n",
    "pca_proj = PCA(n_components=512)\n",
    "pca_proj.fit(X_target_scaled)\n",
    "\n",
    "X_target_proj = pca_proj.components_\n",
    "X_target_proj = torch.from_numpy(X_target_proj)"
   ]
  },
  {
   "cell_type": "code",
   "execution_count": 47,
   "metadata": {
    "scrolled": true
   },
   "outputs": [
    {
     "data": {
      "image/png": "[encoded data removed]",
      "text/plain": [
       "<Figure size 432x288 with 1 Axes>"
      ]
     },
     "metadata": {
      "needs_background": "light"
     },
     "output_type": "display_data"
    }
   ],
   "source": [
    "plt.plot(pca_proj.explained_variance_ratio_) # we keep d dimensions\n",
    "plt.grid()"
   ]
  },
  {
   "cell_type": "code",
   "execution_count": 48,
   "metadata": {},
   "outputs": [
    {
     "data": {
      "text/plain": [
       "torch.Size([512, 1024])"
      ]
     },
     "execution_count": 48,
     "metadata": {},
     "output_type": "execute_result"
    }
   ],
   "source": [
    "X_target_proj.shape"
   ]
  },
  {
   "cell_type": "code",
   "execution_count": 49,
   "metadata": {},
   "outputs": [],
   "source": [
    "torch.save(X_target_proj, 'saved_matrixes/X_target_proj_05_row_col_10_rpn_roi_4_512.pt')"
   ]
  },
  {
   "cell_type": "markdown",
   "metadata": {},
   "source": [
    "### Transformation matrix M\n",
    "\n",
    "𝑀 is obtained by minimizing the following Bregman matrix divergence (following closed-form solution given in the paper)"
   ]
  },
  {
   "cell_type": "code",
   "execution_count": 50,
   "metadata": {},
   "outputs": [],
   "source": [
    "M = torch.matmul(X_source_proj, X_target_proj.T) "
   ]
  },
  {
   "cell_type": "code",
   "execution_count": 51,
   "metadata": {},
   "outputs": [
    {
     "data": {
      "text/plain": [
       "torch.Size([512, 512])"
      ]
     },
     "execution_count": 51,
     "metadata": {},
     "output_type": "execute_result"
    }
   ],
   "source": [
    "M.shape"
   ]
  },
  {
   "cell_type": "markdown",
   "metadata": {},
   "source": [
    "### Project source data into target aligned source subspace"
   ]
  },
  {
   "cell_type": "code",
   "execution_count": 52,
   "metadata": {},
   "outputs": [],
   "source": [
    "Xa = torch.matmul(X_source_proj.T,M)"
   ]
  },
  {
   "cell_type": "code",
   "execution_count": 53,
   "metadata": {},
   "outputs": [
    {
     "data": {
      "text/plain": [
       "torch.Size([1024, 512])"
      ]
     },
     "execution_count": 53,
     "metadata": {},
     "output_type": "execute_result"
    }
   ],
   "source": [
    "Xa.shape"
   ]
  },
  {
   "cell_type": "code",
   "execution_count": 54,
   "metadata": {},
   "outputs": [],
   "source": [
    "# To project a given feature\n",
    "\n",
    "# feat(1,1024) x Xa (1024,100)"
   ]
  },
  {
   "cell_type": "markdown",
   "metadata": {},
   "source": [
    "### Projet target data in target subspace"
   ]
  },
  {
   "cell_type": "code",
   "execution_count": null,
   "metadata": {},
   "outputs": [],
   "source": [
    "# To project a given feature\n",
    "\n",
    "# feat(1,1024) x X_target_proj.T (1024,100)"
   ]
  },
  {
   "cell_type": "markdown",
   "metadata": {},
   "source": [
    "### Train adapted model"
   ]
  },
  {
   "cell_type": "code",
   "execution_count": null,
   "metadata": {},
   "outputs": [],
   "source": [
    "import torchvision.ops.boxes as bops\n",
    "from sklearn.decomposition import PCA\n",
    "from sklearn.preprocessing import StandardScaler\n",
    "from torch import nn"
   ]
  },
  {
   "cell_type": "code",
   "execution_count": null,
   "metadata": {},
   "outputs": [],
   "source": [
    "device = torch.device('cuda') if torch.cuda.is_available() else torch.device('cpu')\n",
    "device"
   ]
  },
  {
   "cell_type": "code",
   "execution_count": null,
   "metadata": {},
   "outputs": [],
   "source": [
    "# Load because it takes time to generate the following matrices so they are saved\n",
    "X_source_proj = torch.load('saved_matrixes/X_source_proj_05_50_rpn_roi_1_512.pt')\n",
    "X_target_proj = torch.load('saved_matrixes/X_target_proj_05_50_rpn_roi_1_512.pt')"
   ]
  },
  {
   "cell_type": "code",
   "execution_count": null,
   "metadata": {},
   "outputs": [],
   "source": [
    "X_source_proj.device"
   ]
  },
  {
   "cell_type": "code",
   "execution_count": null,
   "metadata": {},
   "outputs": [],
   "source": [
    "M = torch.matmul(X_source_proj, X_target_proj.T) # transformation matrix\n",
    "\n",
    "Xa = torch.matmul(X_source_proj.T,M) # target aligned source subspace"
   ]
  },
  {
   "cell_type": "code",
   "execution_count": 55,
   "metadata": {},
   "outputs": [
    {
     "data": {
      "text/plain": [
       "tensor([[ 0.7546,  0.3949,  0.1756,  ..., -0.0034, -0.0043,  0.0020],\n",
       "        [-0.3077,  0.7026,  0.1243,  ...,  0.0098,  0.0125,  0.0016],\n",
       "        [ 0.3833,  0.0103, -0.1051,  ...,  0.0034,  0.0053, -0.0080],\n",
       "        ...,\n",
       "        [ 0.0008, -0.0079,  0.0036,  ..., -0.0179, -0.0406,  0.0384],\n",
       "        [ 0.0076,  0.0036,  0.0021,  ...,  0.0285, -0.0077, -0.0626],\n",
       "        [ 0.0026,  0.0113, -0.0020,  ...,  0.0612,  0.0524, -0.0717]],\n",
       "       device='cuda:0', dtype=torch.float64)"
      ]
     },
     "execution_count": 55,
     "metadata": {},
     "output_type": "execute_result"
    }
   ],
   "source": [
    "M.to(device)"
   ]
  },
  {
   "cell_type": "code",
   "execution_count": 56,
   "metadata": {},
   "outputs": [
    {
     "data": {
      "text/plain": [
       "tensor([[-0.0235,  0.0418, -0.0091,  ...,  0.0160, -0.0198, -0.0267],\n",
       "        [ 0.0162,  0.0514, -0.0051,  ...,  0.0265, -0.0045,  0.0217],\n",
       "        [-0.0031, -0.0540, -0.0327,  ...,  0.0032,  0.0075,  0.0098],\n",
       "        ...,\n",
       "        [-0.0431, -0.0063, -0.0082,  ..., -0.0137,  0.0114, -0.0256],\n",
       "        [ 0.0604, -0.0008, -0.0279,  ...,  0.0219, -0.0046,  0.0172],\n",
       "        [ 0.0052,  0.0703,  0.0054,  ...,  0.0007, -0.0021,  0.0152]],\n",
       "       device='cuda:0', dtype=torch.float64)"
      ]
     },
     "execution_count": 56,
     "metadata": {},
     "output_type": "execute_result"
    }
   ],
   "source": [
    "Xa.to(device)"
   ]
  },
  {
   "cell_type": "code",
   "execution_count": 58,
   "metadata": {},
   "outputs": [],
   "source": [
    "class FastRCNNPredictor_custom(nn.Module):\n",
    "    \"\"\"\n",
    "    Standard classification + bounding box regression layers\n",
    "    for Fast R-CNN.\n",
    "\n",
    "    Args:\n",
    "        in_channels (int): number of input channels\n",
    "        num_classes (int): number of output classes (including background)\n",
    "    \"\"\"\n",
    "\n",
    "    def __init__(self, in_channels, num_classes, m_transfo):\n",
    "        super(FastRCNNPredictor_custom, self).__init__()\n",
    "        \n",
    "        self.cls_score = nn.Sequential(nn.Linear(in_features=1024, \n",
    "                                                 out_features = in_channels, \n",
    "                                                 bias=False), \n",
    "                                       nn.Linear(in_channels, num_classes))\n",
    "        \n",
    "        self.bbox_pred = nn.Sequential(nn.Linear(in_features=1024, \n",
    "                                                 out_features = in_channels, \n",
    "                                                 bias=False), \n",
    "                                       nn.Linear(in_channels, num_classes * 4))\n",
    "        \n",
    "        self.cls_score[0].weight = nn.Parameter(m_transfo, requires_grad = False)\n",
    "        self.bbox_pred[0].weight = nn.Parameter(m_transfo, requires_grad = False)\n",
    "\n",
    "    def forward(self, x):\n",
    "        if x.dim() == 4:\n",
    "            assert list(x.shape[2:]) == [1, 1]\n",
    "        x = x.flatten(start_dim=1)\n",
    "        scores = self.cls_score(x)\n",
    "        bbox_deltas = self.bbox_pred(x)\n",
    "\n",
    "        return scores, bbox_deltas"
   ]
  },
  {
   "cell_type": "code",
   "execution_count": 60,
   "metadata": {},
   "outputs": [],
   "source": [
    "device = torch.device('cuda') if torch.cuda.is_available() else torch.device('cpu')\n",
    "\n",
    "# our dataset has two classes only - background and person\n",
    "num_classes = 2\n",
    "\n",
    "# get the model using our helper function\n",
    "model = get_model_from_pretrained_rpn(num_classes)\n",
    "\n",
    "# move model to the right device\n",
    "model.to(device)\n",
    "\n",
    "# load fine-tuned weights from the model of the projections\n",
    "model.load_state_dict(torch.load('saved_models/10_rpn_roi_4_model.pt'))\n",
    "\n",
    "for param in model.parameters(): # to freeze all existing weights\n",
    "\n",
    "    param.requires_grad = False\n",
    "\n",
    "# vector are of size 100 after the transformation\n",
    "model.roi_heads.box_predictor = FastRCNNPredictor_custom(M.shape[0], 2, Xa.T.float())\n",
    "# model.roi_heads.box_predictor = FastRCNNPredictor_custom(in_channels=100, num_classes=2, m_transfo=Xa.T.float()) \n",
    "\n",
    "# move model to the right device\n",
    "model.to(device)\n",
    "\n",
    "# construct an optimizer\n",
    "# We will only retrain model.roi_heads.box_predictor (2 last layers)\n",
    "params = [p for p in model.parameters() if p.requires_grad]\n",
    "optimizer = torch.optim.SGD(params, lr=0.0003, momentum=0.9)\n",
    "\n",
    "lr_scheduler = torch.optim.lr_scheduler.MultiStepLR(optimizer,milestones=[5,10], gamma=0.1)"
   ]
  },
  {
   "cell_type": "code",
   "execution_count": 61,
   "metadata": {},
   "outputs": [
    {
     "name": "stdout",
     "output_type": "stream",
     "text": [
      "torch.Size([2, 512])\n",
      "torch.Size([2])\n",
      "torch.Size([8, 512])\n",
      "torch.Size([8])\n"
     ]
    }
   ],
   "source": [
    "# weights to learn\n",
    "for i in range(4):\n",
    "    print(params[i].shape)"
   ]
  },
  {
   "cell_type": "code",
   "execution_count": 62,
   "metadata": {},
   "outputs": [
    {
     "name": "stdout",
     "output_type": "stream",
     "text": [
      "torch.Size([2, 512])\n",
      "torch.Size([2])\n",
      "torch.Size([8, 512])\n",
      "torch.Size([8])\n"
     ]
    }
   ],
   "source": [
    "# Nb of weights in the optimizer\n",
    "for i in range(len(optimizer.param_groups[0]['params'])):\n",
    "    print(optimizer.param_groups[0]['params'][i].shape)"
   ]
  },
  {
   "cell_type": "markdown",
   "metadata": {},
   "source": [
    "## Before training"
   ]
  },
  {
   "cell_type": "code",
   "execution_count": 63,
   "metadata": {},
   "outputs": [
    {
     "data": {
      "text/plain": [
       "'NVIDIA GeForce GTX 1080 Ti'"
      ]
     },
     "execution_count": 63,
     "metadata": {},
     "output_type": "execute_result"
    }
   ],
   "source": [
    "# PARAMETERS TO TUNE BEFORE TRAINING\n",
    "num_epochs = 15\n",
    "\n",
    "# CHECK DEVICE BEFORE TRAINING\n",
    "torch.cuda.get_device_name(0)"
   ]
  },
  {
   "cell_type": "markdown",
   "metadata": {},
   "source": [
    "### This next cell starts the training of the model"
   ]
  },
  {
   "cell_type": "code",
   "execution_count": null,
   "metadata": {
    "scrolled": true
   },
   "outputs": [
    {
     "name": "stdout",
     "output_type": "stream",
     "text": [
      "Epoch: [0]  [    0/12099]  eta: 0:27:07  lr: 0.000001  loss: 0.5639 (0.5639)  loss_classifier: 0.4263 (0.4263)  loss_box_reg: 0.0933 (0.0933)  loss_objectness: 0.0027 (0.0027)  loss_rpn_box_reg: 0.0415 (0.0415)  time: 0.1345  data: 0.0275  max mem: 770\n",
      "Epoch: [0]  [  100/12099]  eta: 0:23:32  lr: 0.000031  loss: 0.5535 (0.6361)  loss_classifier: 0.4025 (0.4714)  loss_box_reg: 0.1523 (0.1533)  loss_objectness: 0.0047 (0.0079)  loss_rpn_box_reg: 0.0014 (0.0034)  time: 0.1155  data: 0.0312  max mem: 780\n",
      "Epoch: [0]  [  200/12099]  eta: 0:23:02  lr: 0.000061  loss: 0.3736 (0.5481)  loss_classifier: 0.2266 (0.3819)  loss_box_reg: 0.1292 (0.1547)  loss_objectness: 0.0052 (0.0085)  loss_rpn_box_reg: 0.0015 (0.0031)  time: 0.1154  data: 0.0316  max mem: 780\n",
      "Epoch: [0]  [  300/12099]  eta: 0:22:44  lr: 0.000091  loss: 0.2930 (0.4796)  loss_classifier: 0.1498 (0.3131)  loss_box_reg: 0.1217 (0.1547)  loss_objectness: 0.0070 (0.0086)  loss_rpn_box_reg: 0.0018 (0.0032)  time: 0.1132  data: 0.0298  max mem: 780\n",
      "Epoch: [0]  [  400/12099]  eta: 0:22:30  lr: 0.000120  loss: 0.2983 (0.4300)  loss_classifier: 0.1129 (0.2653)  loss_box_reg: 0.1483 (0.1521)  loss_objectness: 0.0033 (0.0092)  loss_rpn_box_reg: 0.0026 (0.0034)  time: 0.1160  data: 0.0309  max mem: 780\n",
      "Epoch: [0]  [  500/12099]  eta: 0:22:16  lr: 0.000150  loss: 0.2495 (0.3969)  loss_classifier: 0.0848 (0.2322)  loss_box_reg: 0.1573 (0.1525)  loss_objectness: 0.0051 (0.0088)  loss_rpn_box_reg: 0.0030 (0.0035)  time: 0.1140  data: 0.0300  max mem: 780\n",
      "Epoch: [0]  [  600/12099]  eta: 0:22:02  lr: 0.000180  loss: 0.2299 (0.3712)  loss_classifier: 0.0776 (0.2081)  loss_box_reg: 0.1439 (0.1508)  loss_objectness: 0.0038 (0.0086)  loss_rpn_box_reg: 0.0025 (0.0037)  time: 0.1138  data: 0.0308  max mem: 780\n",
      "Epoch: [0]  [  700/12099]  eta: 0:21:51  lr: 0.000210  loss: 0.2294 (0.3511)  loss_classifier: 0.0668 (0.1888)  loss_box_reg: 0.1605 (0.1495)  loss_objectness: 0.0034 (0.0091)  loss_rpn_box_reg: 0.0017 (0.0038)  time: 0.1154  data: 0.0313  max mem: 780\n",
      "Epoch: [0]  [  800/12099]  eta: 0:21:39  lr: 0.000240  loss: 0.2358 (0.3367)  loss_classifier: 0.0766 (0.1744)  loss_box_reg: 0.1490 (0.1497)  loss_objectness: 0.0034 (0.0088)  loss_rpn_box_reg: 0.0014 (0.0038)  time: 0.1144  data: 0.0309  max mem: 780\n",
      "Epoch: [0]  [  900/12099]  eta: 0:21:28  lr: 0.000270  loss: 0.1712 (0.3229)  loss_classifier: 0.0577 (0.1630)  loss_box_reg: 0.1157 (0.1472)  loss_objectness: 0.0038 (0.0087)  loss_rpn_box_reg: 0.0014 (0.0040)  time: 0.1165  data: 0.0325  max mem: 780\n",
      "Epoch: [0]  [ 1000/12099]  eta: 0:21:17  lr: 0.000300  loss: 0.1883 (0.3112)  loss_classifier: 0.0484 (0.1533)  loss_box_reg: 0.1126 (0.1452)  loss_objectness: 0.0043 (0.0087)  loss_rpn_box_reg: 0.0014 (0.0040)  time: 0.1149  data: 0.0314  max mem: 780\n",
      "Epoch: [0]  [ 1100/12099]  eta: 0:21:05  lr: 0.000300  loss: 0.1957 (0.3020)  loss_classifier: 0.0585 (0.1452)  loss_box_reg: 0.1066 (0.1439)  loss_objectness: 0.0078 (0.0089)  loss_rpn_box_reg: 0.0012 (0.0041)  time: 0.1138  data: 0.0300  max mem: 780\n",
      "Epoch: [0]  [ 1200/12099]  eta: 0:20:55  lr: 0.000300  loss: 0.1726 (0.2916)  loss_classifier: 0.0490 (0.1377)  loss_box_reg: 0.1072 (0.1411)  loss_objectness: 0.0018 (0.0087)  loss_rpn_box_reg: 0.0012 (0.0041)  time: 0.1149  data: 0.0311  max mem: 780\n",
      "Epoch: [0]  [ 1300/12099]  eta: 0:20:43  lr: 0.000300  loss: 0.1472 (0.2828)  loss_classifier: 0.0384 (0.1312)  loss_box_reg: 0.0919 (0.1386)  loss_objectness: 0.0034 (0.0088)  loss_rpn_box_reg: 0.0011 (0.0041)  time: 0.1167  data: 0.0310  max mem: 780\n",
      "Epoch: [0]  [ 1400/12099]  eta: 0:20:31  lr: 0.000300  loss: 0.1558 (0.2751)  loss_classifier: 0.0477 (0.1260)  loss_box_reg: 0.1015 (0.1361)  loss_objectness: 0.0049 (0.0089)  loss_rpn_box_reg: 0.0010 (0.0042)  time: 0.1132  data: 0.0302  max mem: 780\n",
      "Epoch: [0]  [ 1500/12099]  eta: 0:20:19  lr: 0.000300  loss: 0.1626 (0.2680)  loss_classifier: 0.0575 (0.1214)  loss_box_reg: 0.0752 (0.1336)  loss_objectness: 0.0039 (0.0088)  loss_rpn_box_reg: 0.0018 (0.0042)  time: 0.1144  data: 0.0311  max mem: 780\n",
      "Epoch: [0]  [ 1600/12099]  eta: 0:20:08  lr: 0.000300  loss: 0.1529 (0.2617)  loss_classifier: 0.0432 (0.1174)  loss_box_reg: 0.0937 (0.1314)  loss_objectness: 0.0040 (0.0088)  loss_rpn_box_reg: 0.0012 (0.0042)  time: 0.1161  data: 0.0322  max mem: 780\n",
      "Epoch: [0]  [ 1700/12099]  eta: 0:19:57  lr: 0.000300  loss: 0.1472 (0.2560)  loss_classifier: 0.0450 (0.1137)  loss_box_reg: 0.0903 (0.1292)  loss_objectness: 0.0044 (0.0090)  loss_rpn_box_reg: 0.0020 (0.0042)  time: 0.1143  data: 0.0306  max mem: 780\n",
      "Epoch: [0]  [ 1800/12099]  eta: 0:19:45  lr: 0.000300  loss: 0.1276 (0.2507)  loss_classifier: 0.0361 (0.1102)  loss_box_reg: 0.0760 (0.1271)  loss_objectness: 0.0031 (0.0094)  loss_rpn_box_reg: 0.0009 (0.0041)  time: 0.1152  data: 0.0317  max mem: 780\n",
      "Epoch: [0]  [ 1900/12099]  eta: 0:19:34  lr: 0.000300  loss: 0.1334 (0.2458)  loss_classifier: 0.0417 (0.1073)  loss_box_reg: 0.0837 (0.1251)  loss_objectness: 0.0045 (0.0093)  loss_rpn_box_reg: 0.0018 (0.0041)  time: 0.1172  data: 0.0332  max mem: 780\n",
      "Epoch: [0]  [ 2000/12099]  eta: 0:19:22  lr: 0.000300  loss: 0.1643 (0.2412)  loss_classifier: 0.0471 (0.1046)  loss_box_reg: 0.0816 (0.1230)  loss_objectness: 0.0070 (0.0093)  loss_rpn_box_reg: 0.0015 (0.0041)  time: 0.1137  data: 0.0300  max mem: 780\n",
      "Epoch: [0]  [ 2100/12099]  eta: 0:19:11  lr: 0.000300  loss: 0.1272 (0.2368)  loss_classifier: 0.0357 (0.1021)  loss_box_reg: 0.0731 (0.1213)  loss_objectness: 0.0039 (0.0093)  loss_rpn_box_reg: 0.0011 (0.0041)  time: 0.1146  data: 0.0307  max mem: 780\n",
      "Epoch: [0]  [ 2200/12099]  eta: 0:19:00  lr: 0.000300  loss: 0.1397 (0.2325)  loss_classifier: 0.0396 (0.0998)  loss_box_reg: 0.0762 (0.1193)  loss_objectness: 0.0074 (0.0093)  loss_rpn_box_reg: 0.0019 (0.0041)  time: 0.1166  data: 0.0317  max mem: 780\n",
      "Epoch: [0]  [ 2300/12099]  eta: 0:18:48  lr: 0.000300  loss: 0.1215 (0.2284)  loss_classifier: 0.0353 (0.0977)  loss_box_reg: 0.0653 (0.1175)  loss_objectness: 0.0024 (0.0092)  loss_rpn_box_reg: 0.0013 (0.0041)  time: 0.1152  data: 0.0314  max mem: 780\n",
      "Epoch: [0]  [ 2400/12099]  eta: 0:18:37  lr: 0.000300  loss: 0.1390 (0.2246)  loss_classifier: 0.0470 (0.0956)  loss_box_reg: 0.0888 (0.1159)  loss_objectness: 0.0031 (0.0091)  loss_rpn_box_reg: 0.0015 (0.0041)  time: 0.1168  data: 0.0323  max mem: 780\n",
      "Epoch: [0]  [ 2500/12099]  eta: 0:18:26  lr: 0.000300  loss: 0.1503 (0.2216)  loss_classifier: 0.0413 (0.0940)  loss_box_reg: 0.0833 (0.1143)  loss_objectness: 0.0048 (0.0092)  loss_rpn_box_reg: 0.0015 (0.0042)  time: 0.1126  data: 0.0288  max mem: 780\n",
      "Epoch: [0]  [ 2600/12099]  eta: 0:18:14  lr: 0.000300  loss: 0.1236 (0.2186)  loss_classifier: 0.0487 (0.0923)  loss_box_reg: 0.0719 (0.1130)  loss_objectness: 0.0037 (0.0092)  loss_rpn_box_reg: 0.0012 (0.0042)  time: 0.1143  data: 0.0299  max mem: 780\n",
      "Epoch: [0]  [ 2700/12099]  eta: 0:18:02  lr: 0.000300  loss: 0.1315 (0.2157)  loss_classifier: 0.0419 (0.0908)  loss_box_reg: 0.0704 (0.1115)  loss_objectness: 0.0047 (0.0093)  loss_rpn_box_reg: 0.0026 (0.0041)  time: 0.1135  data: 0.0296  max mem: 780\n",
      "Epoch: [0]  [ 2800/12099]  eta: 0:17:51  lr: 0.000300  loss: 0.1186 (0.2128)  loss_classifier: 0.0387 (0.0892)  loss_box_reg: 0.0785 (0.1103)  loss_objectness: 0.0030 (0.0092)  loss_rpn_box_reg: 0.0011 (0.0042)  time: 0.1153  data: 0.0305  max mem: 780\n",
      "Epoch: [0]  [ 2900/12099]  eta: 0:17:40  lr: 0.000300  loss: 0.1330 (0.2103)  loss_classifier: 0.0479 (0.0878)  loss_box_reg: 0.0641 (0.1090)  loss_objectness: 0.0054 (0.0093)  loss_rpn_box_reg: 0.0016 (0.0041)  time: 0.1176  data: 0.0332  max mem: 780\n",
      "Epoch: [0]  [ 3000/12099]  eta: 0:17:28  lr: 0.000300  loss: 0.1645 (0.2079)  loss_classifier: 0.0497 (0.0866)  loss_box_reg: 0.0731 (0.1078)  loss_objectness: 0.0058 (0.0093)  loss_rpn_box_reg: 0.0022 (0.0042)  time: 0.1175  data: 0.0322  max mem: 780\n",
      "Epoch: [0]  [ 3100/12099]  eta: 0:17:17  lr: 0.000300  loss: 0.0951 (0.2053)  loss_classifier: 0.0350 (0.0853)  loss_box_reg: 0.0611 (0.1066)  loss_objectness: 0.0042 (0.0092)  loss_rpn_box_reg: 0.0011 (0.0042)  time: 0.1164  data: 0.0325  max mem: 780\n",
      "Epoch: [0]  [ 3200/12099]  eta: 0:17:05  lr: 0.000300  loss: 0.1109 (0.2028)  loss_classifier: 0.0359 (0.0840)  loss_box_reg: 0.0635 (0.1055)  loss_objectness: 0.0027 (0.0092)  loss_rpn_box_reg: 0.0015 (0.0041)  time: 0.1132  data: 0.0298  max mem: 780\n"
     ]
    },
    {
     "name": "stdout",
     "output_type": "stream",
     "text": [
      "Epoch: [0]  [ 3300/12099]  eta: 0:16:53  lr: 0.000300  loss: 0.1143 (0.2012)  loss_classifier: 0.0375 (0.0831)  loss_box_reg: 0.0517 (0.1047)  loss_objectness: 0.0048 (0.0092)  loss_rpn_box_reg: 0.0015 (0.0041)  time: 0.1156  data: 0.0302  max mem: 780\n",
      "Epoch: [0]  [ 3400/12099]  eta: 0:16:42  lr: 0.000300  loss: 0.1102 (0.1988)  loss_classifier: 0.0384 (0.0819)  loss_box_reg: 0.0767 (0.1035)  loss_objectness: 0.0054 (0.0092)  loss_rpn_box_reg: 0.0009 (0.0041)  time: 0.1149  data: 0.0307  max mem: 780\n",
      "Epoch: [0]  [ 3500/12099]  eta: 0:16:30  lr: 0.000300  loss: 0.1771 (0.1969)  loss_classifier: 0.0420 (0.0810)  loss_box_reg: 0.0810 (0.1026)  loss_objectness: 0.0042 (0.0092)  loss_rpn_box_reg: 0.0017 (0.0041)  time: 0.1151  data: 0.0310  max mem: 780\n",
      "Epoch: [0]  [ 3600/12099]  eta: 0:16:19  lr: 0.000300  loss: 0.1064 (0.1948)  loss_classifier: 0.0350 (0.0799)  loss_box_reg: 0.0690 (0.1016)  loss_objectness: 0.0043 (0.0091)  loss_rpn_box_reg: 0.0013 (0.0041)  time: 0.1168  data: 0.0322  max mem: 780\n",
      "Epoch: [0]  [ 3700/12099]  eta: 0:16:07  lr: 0.000300  loss: 0.1122 (0.1930)  loss_classifier: 0.0358 (0.0790)  loss_box_reg: 0.0626 (0.1008)  loss_objectness: 0.0036 (0.0091)  loss_rpn_box_reg: 0.0009 (0.0042)  time: 0.1153  data: 0.0316  max mem: 780\n",
      "Epoch: [0]  [ 3800/12099]  eta: 0:15:56  lr: 0.000300  loss: 0.0975 (0.1914)  loss_classifier: 0.0319 (0.0781)  loss_box_reg: 0.0595 (0.1000)  loss_objectness: 0.0021 (0.0091)  loss_rpn_box_reg: 0.0010 (0.0041)  time: 0.1152  data: 0.0312  max mem: 780\n",
      "Epoch: [0]  [ 3900/12099]  eta: 0:15:44  lr: 0.000300  loss: 0.1029 (0.1896)  loss_classifier: 0.0344 (0.0773)  loss_box_reg: 0.0616 (0.0991)  loss_objectness: 0.0037 (0.0091)  loss_rpn_box_reg: 0.0009 (0.0041)  time: 0.1152  data: 0.0307  max mem: 780\n",
      "Epoch: [0]  [ 4000/12099]  eta: 0:15:33  lr: 0.000300  loss: 0.1295 (0.1881)  loss_classifier: 0.0524 (0.0766)  loss_box_reg: 0.0542 (0.0983)  loss_objectness: 0.0093 (0.0091)  loss_rpn_box_reg: 0.0023 (0.0042)  time: 0.1140  data: 0.0304  max mem: 780\n",
      "Epoch: [0]  [ 4100/12099]  eta: 0:15:21  lr: 0.000300  loss: 0.1490 (0.1868)  loss_classifier: 0.0451 (0.0759)  loss_box_reg: 0.0848 (0.0977)  loss_objectness: 0.0057 (0.0091)  loss_rpn_box_reg: 0.0025 (0.0041)  time: 0.1170  data: 0.0318  max mem: 780\n",
      "Epoch: [0]  [ 4200/12099]  eta: 0:15:10  lr: 0.000300  loss: 0.1345 (0.1855)  loss_classifier: 0.0412 (0.0752)  loss_box_reg: 0.0714 (0.0971)  loss_objectness: 0.0052 (0.0091)  loss_rpn_box_reg: 0.0015 (0.0041)  time: 0.1154  data: 0.0314  max mem: 780\n",
      "Epoch: [0]  [ 4300/12099]  eta: 0:14:58  lr: 0.000300  loss: 0.0884 (0.1842)  loss_classifier: 0.0330 (0.0745)  loss_box_reg: 0.0521 (0.0965)  loss_objectness: 0.0047 (0.0091)  loss_rpn_box_reg: 0.0018 (0.0042)  time: 0.1177  data: 0.0324  max mem: 780\n",
      "Epoch: [0]  [ 4400/12099]  eta: 0:14:47  lr: 0.000300  loss: 0.1039 (0.1829)  loss_classifier: 0.0328 (0.0738)  loss_box_reg: 0.0603 (0.0958)  loss_objectness: 0.0024 (0.0091)  loss_rpn_box_reg: 0.0011 (0.0042)  time: 0.1149  data: 0.0312  max mem: 780\n",
      "Epoch: [0]  [ 4500/12099]  eta: 0:14:35  lr: 0.000300  loss: 0.1112 (0.1815)  loss_classifier: 0.0381 (0.0731)  loss_box_reg: 0.0652 (0.0952)  loss_objectness: 0.0025 (0.0091)  loss_rpn_box_reg: 0.0010 (0.0042)  time: 0.1172  data: 0.0330  max mem: 780\n",
      "Epoch: [0]  [ 4600/12099]  eta: 0:14:24  lr: 0.000300  loss: 0.1234 (0.1805)  loss_classifier: 0.0383 (0.0726)  loss_box_reg: 0.0702 (0.0947)  loss_objectness: 0.0032 (0.0091)  loss_rpn_box_reg: 0.0020 (0.0042)  time: 0.1165  data: 0.0310  max mem: 780\n",
      "Epoch: [0]  [ 4700/12099]  eta: 0:14:12  lr: 0.000300  loss: 0.0938 (0.1793)  loss_classifier: 0.0302 (0.0720)  loss_box_reg: 0.0616 (0.0941)  loss_objectness: 0.0052 (0.0091)  loss_rpn_box_reg: 0.0015 (0.0042)  time: 0.1153  data: 0.0312  max mem: 780\n",
      "Epoch: [0]  [ 4800/12099]  eta: 0:14:01  lr: 0.000300  loss: 0.1033 (0.1780)  loss_classifier: 0.0281 (0.0713)  loss_box_reg: 0.0665 (0.0935)  loss_objectness: 0.0036 (0.0090)  loss_rpn_box_reg: 0.0015 (0.0041)  time: 0.1152  data: 0.0313  max mem: 780\n",
      "Epoch: [0]  [ 4900/12099]  eta: 0:13:49  lr: 0.000300  loss: 0.0948 (0.1769)  loss_classifier: 0.0346 (0.0707)  loss_box_reg: 0.0454 (0.0930)  loss_objectness: 0.0033 (0.0090)  loss_rpn_box_reg: 0.0010 (0.0041)  time: 0.1156  data: 0.0315  max mem: 780\n",
      "Epoch: [0]  [ 5000/12099]  eta: 0:13:37  lr: 0.000300  loss: 0.1116 (0.1758)  loss_classifier: 0.0297 (0.0701)  loss_box_reg: 0.0661 (0.0925)  loss_objectness: 0.0021 (0.0090)  loss_rpn_box_reg: 0.0013 (0.0041)  time: 0.1143  data: 0.0306  max mem: 780\n",
      "Epoch: [0]  [ 5100/12099]  eta: 0:13:26  lr: 0.000300  loss: 0.0990 (0.1749)  loss_classifier: 0.0326 (0.0697)  loss_box_reg: 0.0570 (0.0921)  loss_objectness: 0.0023 (0.0090)  loss_rpn_box_reg: 0.0007 (0.0041)  time: 0.1161  data: 0.0319  max mem: 780\n",
      "Epoch: [0]  [ 5200/12099]  eta: 0:13:15  lr: 0.000300  loss: 0.1142 (0.1741)  loss_classifier: 0.0340 (0.0692)  loss_box_reg: 0.0534 (0.0917)  loss_objectness: 0.0049 (0.0090)  loss_rpn_box_reg: 0.0017 (0.0041)  time: 0.1164  data: 0.0309  max mem: 780\n",
      "Epoch: [0]  [ 5300/12099]  eta: 0:13:03  lr: 0.000300  loss: 0.0907 (0.1733)  loss_classifier: 0.0342 (0.0688)  loss_box_reg: 0.0492 (0.0912)  loss_objectness: 0.0043 (0.0091)  loss_rpn_box_reg: 0.0010 (0.0041)  time: 0.1169  data: 0.0321  max mem: 780\n",
      "Epoch: [0]  [ 5400/12099]  eta: 0:12:52  lr: 0.000300  loss: 0.1102 (0.1726)  loss_classifier: 0.0394 (0.0685)  loss_box_reg: 0.0622 (0.0908)  loss_objectness: 0.0041 (0.0091)  loss_rpn_box_reg: 0.0011 (0.0041)  time: 0.1151  data: 0.0309  max mem: 780\n",
      "Epoch: [0]  [ 5500/12099]  eta: 0:12:40  lr: 0.000300  loss: 0.0934 (0.1716)  loss_classifier: 0.0318 (0.0680)  loss_box_reg: 0.0522 (0.0904)  loss_objectness: 0.0020 (0.0091)  loss_rpn_box_reg: 0.0008 (0.0041)  time: 0.1148  data: 0.0308  max mem: 780\n",
      "Epoch: [0]  [ 5600/12099]  eta: 0:12:28  lr: 0.000300  loss: 0.1292 (0.1709)  loss_classifier: 0.0401 (0.0676)  loss_box_reg: 0.0670 (0.0901)  loss_objectness: 0.0027 (0.0091)  loss_rpn_box_reg: 0.0013 (0.0041)  time: 0.1172  data: 0.0317  max mem: 780\n",
      "Epoch: [0]  [ 5700/12099]  eta: 0:12:17  lr: 0.000300  loss: 0.0909 (0.1700)  loss_classifier: 0.0296 (0.0672)  loss_box_reg: 0.0518 (0.0896)  loss_objectness: 0.0022 (0.0091)  loss_rpn_box_reg: 0.0012 (0.0041)  time: 0.1147  data: 0.0309  max mem: 780\n",
      "Epoch: [0]  [ 5800/12099]  eta: 0:12:05  lr: 0.000300  loss: 0.0999 (0.1694)  loss_classifier: 0.0322 (0.0668)  loss_box_reg: 0.0536 (0.0893)  loss_objectness: 0.0037 (0.0091)  loss_rpn_box_reg: 0.0011 (0.0041)  time: 0.1165  data: 0.0320  max mem: 780\n",
      "Epoch: [0]  [ 5900/12099]  eta: 0:11:54  lr: 0.000300  loss: 0.0826 (0.1686)  loss_classifier: 0.0368 (0.0664)  loss_box_reg: 0.0420 (0.0890)  loss_objectness: 0.0040 (0.0091)  loss_rpn_box_reg: 0.0016 (0.0041)  time: 0.1155  data: 0.0306  max mem: 780\n",
      "Epoch: [0]  [ 6000/12099]  eta: 0:11:42  lr: 0.000300  loss: 0.0781 (0.1676)  loss_classifier: 0.0292 (0.0660)  loss_box_reg: 0.0390 (0.0885)  loss_objectness: 0.0036 (0.0091)  loss_rpn_box_reg: 0.0018 (0.0041)  time: 0.1126  data: 0.0296  max mem: 780\n",
      "Epoch: [0]  [ 6100/12099]  eta: 0:11:31  lr: 0.000300  loss: 0.0860 (0.1668)  loss_classifier: 0.0249 (0.0655)  loss_box_reg: 0.0530 (0.0881)  loss_objectness: 0.0053 (0.0090)  loss_rpn_box_reg: 0.0013 (0.0041)  time: 0.1137  data: 0.0302  max mem: 780\n",
      "Epoch: [0]  [ 6200/12099]  eta: 0:11:19  lr: 0.000300  loss: 0.0767 (0.1661)  loss_classifier: 0.0269 (0.0652)  loss_box_reg: 0.0494 (0.0878)  loss_objectness: 0.0023 (0.0091)  loss_rpn_box_reg: 0.0011 (0.0041)  time: 0.1193  data: 0.0333  max mem: 780\n",
      "Epoch: [0]  [ 6300/12099]  eta: 0:11:08  lr: 0.000300  loss: 0.1194 (0.1654)  loss_classifier: 0.0374 (0.0648)  loss_box_reg: 0.0551 (0.0875)  loss_objectness: 0.0046 (0.0090)  loss_rpn_box_reg: 0.0024 (0.0041)  time: 0.1146  data: 0.0308  max mem: 780\n",
      "Epoch: [0]  [ 6400/12099]  eta: 0:10:56  lr: 0.000300  loss: 0.1074 (0.1647)  loss_classifier: 0.0342 (0.0645)  loss_box_reg: 0.0627 (0.0871)  loss_objectness: 0.0030 (0.0090)  loss_rpn_box_reg: 0.0014 (0.0041)  time: 0.1149  data: 0.0305  max mem: 780\n",
      "Epoch: [0]  [ 6500/12099]  eta: 0:10:45  lr: 0.000300  loss: 0.1082 (0.1642)  loss_classifier: 0.0347 (0.0642)  loss_box_reg: 0.0643 (0.0868)  loss_objectness: 0.0021 (0.0090)  loss_rpn_box_reg: 0.0021 (0.0041)  time: 0.1162  data: 0.0323  max mem: 780\n"
     ]
    },
    {
     "name": "stdout",
     "output_type": "stream",
     "text": [
      "Epoch: [0]  [ 6600/12099]  eta: 0:10:33  lr: 0.000300  loss: 0.1236 (0.1637)  loss_classifier: 0.0354 (0.0639)  loss_box_reg: 0.0766 (0.0866)  loss_objectness: 0.0056 (0.0090)  loss_rpn_box_reg: 0.0024 (0.0041)  time: 0.1138  data: 0.0299  max mem: 780\n",
      "Epoch: [0]  [ 6700/12099]  eta: 0:10:22  lr: 0.000300  loss: 0.1099 (0.1630)  loss_classifier: 0.0324 (0.0636)  loss_box_reg: 0.0584 (0.0863)  loss_objectness: 0.0042 (0.0090)  loss_rpn_box_reg: 0.0013 (0.0041)  time: 0.1141  data: 0.0300  max mem: 780\n",
      "Epoch: [0]  [ 6800/12099]  eta: 0:10:10  lr: 0.000300  loss: 0.1034 (0.1623)  loss_classifier: 0.0304 (0.0632)  loss_box_reg: 0.0583 (0.0860)  loss_objectness: 0.0028 (0.0090)  loss_rpn_box_reg: 0.0018 (0.0041)  time: 0.1161  data: 0.0325  max mem: 780\n",
      "Epoch: [0]  [ 6900/12099]  eta: 0:09:58  lr: 0.000300  loss: 0.1086 (0.1618)  loss_classifier: 0.0363 (0.0630)  loss_box_reg: 0.0668 (0.0857)  loss_objectness: 0.0036 (0.0090)  loss_rpn_box_reg: 0.0010 (0.0041)  time: 0.1146  data: 0.0314  max mem: 780\n",
      "Epoch: [0]  [ 7000/12099]  eta: 0:09:47  lr: 0.000300  loss: 0.1191 (0.1613)  loss_classifier: 0.0375 (0.0627)  loss_box_reg: 0.0625 (0.0854)  loss_objectness: 0.0029 (0.0090)  loss_rpn_box_reg: 0.0017 (0.0041)  time: 0.1133  data: 0.0295  max mem: 780\n",
      "Epoch: [0]  [ 7100/12099]  eta: 0:09:35  lr: 0.000300  loss: 0.0908 (0.1606)  loss_classifier: 0.0348 (0.0624)  loss_box_reg: 0.0494 (0.0851)  loss_objectness: 0.0053 (0.0090)  loss_rpn_box_reg: 0.0009 (0.0041)  time: 0.1151  data: 0.0313  max mem: 780\n",
      "Epoch: [0]  [ 7200/12099]  eta: 0:09:24  lr: 0.000300  loss: 0.1081 (0.1601)  loss_classifier: 0.0338 (0.0622)  loss_box_reg: 0.0658 (0.0848)  loss_objectness: 0.0033 (0.0090)  loss_rpn_box_reg: 0.0022 (0.0041)  time: 0.1155  data: 0.0317  max mem: 780\n",
      "Epoch: [0]  [ 7300/12099]  eta: 0:09:12  lr: 0.000300  loss: 0.1233 (0.1595)  loss_classifier: 0.0353 (0.0619)  loss_box_reg: 0.0784 (0.0846)  loss_objectness: 0.0050 (0.0090)  loss_rpn_box_reg: 0.0011 (0.0041)  time: 0.1162  data: 0.0323  max mem: 780\n",
      "Epoch: [0]  [ 7400/12099]  eta: 0:09:01  lr: 0.000300  loss: 0.0961 (0.1590)  loss_classifier: 0.0340 (0.0616)  loss_box_reg: 0.0569 (0.0843)  loss_objectness: 0.0036 (0.0090)  loss_rpn_box_reg: 0.0011 (0.0041)  time: 0.1180  data: 0.0327  max mem: 780\n",
      "Epoch: [0]  [ 7500/12099]  eta: 0:08:49  lr: 0.000300  loss: 0.1159 (0.1585)  loss_classifier: 0.0317 (0.0613)  loss_box_reg: 0.0709 (0.0841)  loss_objectness: 0.0055 (0.0090)  loss_rpn_box_reg: 0.0013 (0.0041)  time: 0.1173  data: 0.0328  max mem: 780\n",
      "Epoch: [0]  [ 7600/12099]  eta: 0:08:38  lr: 0.000300  loss: 0.1239 (0.1581)  loss_classifier: 0.0333 (0.0611)  loss_box_reg: 0.0755 (0.0840)  loss_objectness: 0.0022 (0.0090)  loss_rpn_box_reg: 0.0017 (0.0041)  time: 0.1170  data: 0.0324  max mem: 780\n",
      "Epoch: [0]  [ 7700/12099]  eta: 0:08:26  lr: 0.000300  loss: 0.1066 (0.1577)  loss_classifier: 0.0364 (0.0609)  loss_box_reg: 0.0614 (0.0838)  loss_objectness: 0.0058 (0.0090)  loss_rpn_box_reg: 0.0017 (0.0041)  time: 0.1156  data: 0.0320  max mem: 780\n",
      "Epoch: [0]  [ 7800/12099]  eta: 0:08:15  lr: 0.000300  loss: 0.0972 (0.1573)  loss_classifier: 0.0313 (0.0607)  loss_box_reg: 0.0603 (0.0836)  loss_objectness: 0.0017 (0.0090)  loss_rpn_box_reg: 0.0010 (0.0041)  time: 0.1148  data: 0.0308  max mem: 780\n",
      "Epoch: [0]  [ 7900/12099]  eta: 0:08:03  lr: 0.000300  loss: 0.1069 (0.1568)  loss_classifier: 0.0300 (0.0604)  loss_box_reg: 0.0590 (0.0833)  loss_objectness: 0.0042 (0.0090)  loss_rpn_box_reg: 0.0012 (0.0041)  time: 0.1145  data: 0.0313  max mem: 780\n",
      "Epoch: [0]  [ 8000/12099]  eta: 0:07:52  lr: 0.000300  loss: 0.1151 (0.1564)  loss_classifier: 0.0349 (0.0602)  loss_box_reg: 0.0667 (0.0832)  loss_objectness: 0.0034 (0.0090)  loss_rpn_box_reg: 0.0020 (0.0041)  time: 0.1143  data: 0.0302  max mem: 780\n",
      "Epoch: [0]  [ 8100/12099]  eta: 0:07:40  lr: 0.000300  loss: 0.1034 (0.1560)  loss_classifier: 0.0318 (0.0599)  loss_box_reg: 0.0607 (0.0830)  loss_objectness: 0.0043 (0.0090)  loss_rpn_box_reg: 0.0017 (0.0041)  time: 0.1150  data: 0.0312  max mem: 780\n",
      "Epoch: [0]  [ 8200/12099]  eta: 0:07:29  lr: 0.000300  loss: 0.1014 (0.1556)  loss_classifier: 0.0295 (0.0597)  loss_box_reg: 0.0635 (0.0828)  loss_objectness: 0.0025 (0.0090)  loss_rpn_box_reg: 0.0022 (0.0041)  time: 0.1160  data: 0.0310  max mem: 780\n",
      "Epoch: [0]  [ 8300/12099]  eta: 0:07:17  lr: 0.000300  loss: 0.1103 (0.1554)  loss_classifier: 0.0354 (0.0596)  loss_box_reg: 0.0679 (0.0827)  loss_objectness: 0.0044 (0.0090)  loss_rpn_box_reg: 0.0017 (0.0041)  time: 0.1149  data: 0.0307  max mem: 780\n",
      "Epoch: [0]  [ 8400/12099]  eta: 0:07:06  lr: 0.000300  loss: 0.1096 (0.1549)  loss_classifier: 0.0340 (0.0594)  loss_box_reg: 0.0673 (0.0825)  loss_objectness: 0.0025 (0.0090)  loss_rpn_box_reg: 0.0014 (0.0041)  time: 0.1159  data: 0.0305  max mem: 780\n",
      "Epoch: [0]  [ 8500/12099]  eta: 0:06:54  lr: 0.000300  loss: 0.0937 (0.1544)  loss_classifier: 0.0310 (0.0591)  loss_box_reg: 0.0485 (0.0822)  loss_objectness: 0.0025 (0.0090)  loss_rpn_box_reg: 0.0028 (0.0041)  time: 0.1149  data: 0.0310  max mem: 780\n",
      "Epoch: [0]  [ 8600/12099]  eta: 0:06:43  lr: 0.000300  loss: 0.1137 (0.1540)  loss_classifier: 0.0373 (0.0589)  loss_box_reg: 0.0573 (0.0820)  loss_objectness: 0.0078 (0.0090)  loss_rpn_box_reg: 0.0018 (0.0041)  time: 0.1155  data: 0.0311  max mem: 780\n",
      "Epoch: [0]  [ 8700/12099]  eta: 0:06:31  lr: 0.000300  loss: 0.1095 (0.1537)  loss_classifier: 0.0267 (0.0587)  loss_box_reg: 0.0652 (0.0818)  loss_objectness: 0.0027 (0.0090)  loss_rpn_box_reg: 0.0019 (0.0041)  time: 0.1147  data: 0.0310  max mem: 780\n",
      "Epoch: [0]  [ 8800/12099]  eta: 0:06:20  lr: 0.000300  loss: 0.1134 (0.1532)  loss_classifier: 0.0294 (0.0585)  loss_box_reg: 0.0490 (0.0816)  loss_objectness: 0.0053 (0.0090)  loss_rpn_box_reg: 0.0011 (0.0041)  time: 0.1154  data: 0.0311  max mem: 780\n",
      "Epoch: [0]  [ 8900/12099]  eta: 0:06:08  lr: 0.000300  loss: 0.1434 (0.1530)  loss_classifier: 0.0337 (0.0584)  loss_box_reg: 0.0774 (0.0815)  loss_objectness: 0.0037 (0.0090)  loss_rpn_box_reg: 0.0010 (0.0041)  time: 0.1145  data: 0.0306  max mem: 780\n",
      "Epoch: [0]  [ 9000/12099]  eta: 0:05:57  lr: 0.000300  loss: 0.1047 (0.1528)  loss_classifier: 0.0290 (0.0583)  loss_box_reg: 0.0656 (0.0814)  loss_objectness: 0.0035 (0.0090)  loss_rpn_box_reg: 0.0011 (0.0041)  time: 0.1149  data: 0.0308  max mem: 780\n",
      "Epoch: [0]  [ 9100/12099]  eta: 0:05:45  lr: 0.000300  loss: 0.1240 (0.1525)  loss_classifier: 0.0382 (0.0581)  loss_box_reg: 0.0548 (0.0812)  loss_objectness: 0.0040 (0.0091)  loss_rpn_box_reg: 0.0018 (0.0041)  time: 0.1152  data: 0.0321  max mem: 780\n",
      "Epoch: [0]  [ 9200/12099]  eta: 0:05:34  lr: 0.000300  loss: 0.1092 (0.1522)  loss_classifier: 0.0324 (0.0579)  loss_box_reg: 0.0700 (0.0811)  loss_objectness: 0.0042 (0.0091)  loss_rpn_box_reg: 0.0011 (0.0041)  time: 0.1139  data: 0.0306  max mem: 780\n",
      "Epoch: [0]  [ 9300/12099]  eta: 0:05:22  lr: 0.000300  loss: 0.1044 (0.1518)  loss_classifier: 0.0222 (0.0577)  loss_box_reg: 0.0643 (0.0809)  loss_objectness: 0.0016 (0.0091)  loss_rpn_box_reg: 0.0016 (0.0041)  time: 0.1162  data: 0.0323  max mem: 780\n",
      "Epoch: [0]  [ 9400/12099]  eta: 0:05:11  lr: 0.000300  loss: 0.1284 (0.1514)  loss_classifier: 0.0345 (0.0575)  loss_box_reg: 0.0622 (0.0808)  loss_objectness: 0.0057 (0.0091)  loss_rpn_box_reg: 0.0020 (0.0041)  time: 0.1140  data: 0.0306  max mem: 780\n",
      "Epoch: [0]  [ 9500/12099]  eta: 0:04:59  lr: 0.000300  loss: 0.1054 (0.1511)  loss_classifier: 0.0329 (0.0574)  loss_box_reg: 0.0674 (0.0806)  loss_objectness: 0.0026 (0.0090)  loss_rpn_box_reg: 0.0014 (0.0041)  time: 0.1142  data: 0.0297  max mem: 780\n",
      "Epoch: [0]  [ 9600/12099]  eta: 0:04:47  lr: 0.000300  loss: 0.0977 (0.1508)  loss_classifier: 0.0297 (0.0572)  loss_box_reg: 0.0591 (0.0804)  loss_objectness: 0.0020 (0.0090)  loss_rpn_box_reg: 0.0010 (0.0041)  time: 0.1154  data: 0.0316  max mem: 780\n",
      "Epoch: [0]  [ 9700/12099]  eta: 0:04:36  lr: 0.000300  loss: 0.1244 (0.1506)  loss_classifier: 0.0404 (0.0571)  loss_box_reg: 0.0830 (0.0804)  loss_objectness: 0.0046 (0.0090)  loss_rpn_box_reg: 0.0015 (0.0041)  time: 0.1173  data: 0.0324  max mem: 780\n",
      "Epoch: [0]  [ 9800/12099]  eta: 0:04:24  lr: 0.000300  loss: 0.0829 (0.1503)  loss_classifier: 0.0264 (0.0569)  loss_box_reg: 0.0442 (0.0802)  loss_objectness: 0.0047 (0.0090)  loss_rpn_box_reg: 0.0011 (0.0041)  time: 0.1143  data: 0.0302  max mem: 780\n"
     ]
    },
    {
     "name": "stdout",
     "output_type": "stream",
     "text": [
      "Epoch: [0]  [ 9900/12099]  eta: 0:04:13  lr: 0.000300  loss: 0.1052 (0.1500)  loss_classifier: 0.0332 (0.0568)  loss_box_reg: 0.0677 (0.0801)  loss_objectness: 0.0039 (0.0090)  loss_rpn_box_reg: 0.0024 (0.0041)  time: 0.1130  data: 0.0295  max mem: 780\n",
      "Epoch: [0]  [10000/12099]  eta: 0:04:01  lr: 0.000300  loss: 0.1094 (0.1497)  loss_classifier: 0.0308 (0.0566)  loss_box_reg: 0.0685 (0.0800)  loss_objectness: 0.0032 (0.0090)  loss_rpn_box_reg: 0.0020 (0.0041)  time: 0.1138  data: 0.0302  max mem: 780\n",
      "Epoch: [0]  [10100/12099]  eta: 0:03:50  lr: 0.000300  loss: 0.1136 (0.1494)  loss_classifier: 0.0307 (0.0564)  loss_box_reg: 0.0568 (0.0799)  loss_objectness: 0.0047 (0.0090)  loss_rpn_box_reg: 0.0052 (0.0041)  time: 0.1134  data: 0.0303  max mem: 780\n",
      "Epoch: [0]  [10200/12099]  eta: 0:03:38  lr: 0.000300  loss: 0.1212 (0.1492)  loss_classifier: 0.0363 (0.0563)  loss_box_reg: 0.0520 (0.0798)  loss_objectness: 0.0040 (0.0091)  loss_rpn_box_reg: 0.0017 (0.0041)  time: 0.1135  data: 0.0300  max mem: 780\n",
      "Epoch: [0]  [10300/12099]  eta: 0:03:27  lr: 0.000300  loss: 0.1036 (0.1489)  loss_classifier: 0.0282 (0.0561)  loss_box_reg: 0.0647 (0.0796)  loss_objectness: 0.0020 (0.0091)  loss_rpn_box_reg: 0.0013 (0.0041)  time: 0.1157  data: 0.0316  max mem: 780\n",
      "Epoch: [0]  [10400/12099]  eta: 0:03:15  lr: 0.000300  loss: 0.0853 (0.1486)  loss_classifier: 0.0323 (0.0560)  loss_box_reg: 0.0556 (0.0795)  loss_objectness: 0.0037 (0.0091)  loss_rpn_box_reg: 0.0016 (0.0041)  time: 0.1146  data: 0.0310  max mem: 780\n",
      "Epoch: [0]  [10500/12099]  eta: 0:03:04  lr: 0.000300  loss: 0.0899 (0.1483)  loss_classifier: 0.0285 (0.0558)  loss_box_reg: 0.0566 (0.0793)  loss_objectness: 0.0030 (0.0090)  loss_rpn_box_reg: 0.0009 (0.0041)  time: 0.1164  data: 0.0325  max mem: 780\n",
      "Epoch: [0]  [10600/12099]  eta: 0:02:52  lr: 0.000300  loss: 0.1162 (0.1481)  loss_classifier: 0.0305 (0.0557)  loss_box_reg: 0.0679 (0.0792)  loss_objectness: 0.0043 (0.0090)  loss_rpn_box_reg: 0.0012 (0.0041)  time: 0.1155  data: 0.0317  max mem: 780\n",
      "Epoch: [0]  [10700/12099]  eta: 0:02:41  lr: 0.000300  loss: 0.0903 (0.1478)  loss_classifier: 0.0312 (0.0556)  loss_box_reg: 0.0485 (0.0791)  loss_objectness: 0.0038 (0.0090)  loss_rpn_box_reg: 0.0008 (0.0041)  time: 0.1153  data: 0.0313  max mem: 780\n",
      "Epoch: [0]  [10800/12099]  eta: 0:02:29  lr: 0.000300  loss: 0.1163 (0.1477)  loss_classifier: 0.0356 (0.0555)  loss_box_reg: 0.0734 (0.0790)  loss_objectness: 0.0031 (0.0090)  loss_rpn_box_reg: 0.0010 (0.0041)  time: 0.1164  data: 0.0323  max mem: 780\n",
      "Epoch: [0]  [10900/12099]  eta: 0:02:18  lr: 0.000300  loss: 0.1321 (0.1474)  loss_classifier: 0.0349 (0.0554)  loss_box_reg: 0.0777 (0.0789)  loss_objectness: 0.0033 (0.0090)  loss_rpn_box_reg: 0.0017 (0.0041)  time: 0.1150  data: 0.0315  max mem: 780\n",
      "Epoch: [0]  [11000/12099]  eta: 0:02:06  lr: 0.000300  loss: 0.0996 (0.1471)  loss_classifier: 0.0260 (0.0552)  loss_box_reg: 0.0576 (0.0788)  loss_objectness: 0.0029 (0.0090)  loss_rpn_box_reg: 0.0016 (0.0041)  time: 0.1160  data: 0.0317  max mem: 780\n",
      "Epoch: [0]  [11100/12099]  eta: 0:01:55  lr: 0.000300  loss: 0.1172 (0.1469)  loss_classifier: 0.0352 (0.0551)  loss_box_reg: 0.0606 (0.0787)  loss_objectness: 0.0069 (0.0090)  loss_rpn_box_reg: 0.0019 (0.0041)  time: 0.1141  data: 0.0301  max mem: 780\n",
      "Epoch: [0]  [11200/12099]  eta: 0:01:43  lr: 0.000300  loss: 0.1267 (0.1467)  loss_classifier: 0.0343 (0.0550)  loss_box_reg: 0.0624 (0.0786)  loss_objectness: 0.0034 (0.0090)  loss_rpn_box_reg: 0.0021 (0.0041)  time: 0.1139  data: 0.0302  max mem: 780\n",
      "Epoch: [0]  [11300/12099]  eta: 0:01:32  lr: 0.000300  loss: 0.1198 (0.1464)  loss_classifier: 0.0397 (0.0549)  loss_box_reg: 0.0715 (0.0785)  loss_objectness: 0.0032 (0.0090)  loss_rpn_box_reg: 0.0016 (0.0041)  time: 0.1151  data: 0.0311  max mem: 780\n",
      "Epoch: [0]  [11400/12099]  eta: 0:01:20  lr: 0.000300  loss: 0.1181 (0.1462)  loss_classifier: 0.0357 (0.0547)  loss_box_reg: 0.0757 (0.0784)  loss_objectness: 0.0033 (0.0089)  loss_rpn_box_reg: 0.0017 (0.0041)  time: 0.1154  data: 0.0309  max mem: 780\n",
      "Epoch: [0]  [11500/12099]  eta: 0:01:09  lr: 0.000300  loss: 0.1133 (0.1459)  loss_classifier: 0.0365 (0.0546)  loss_box_reg: 0.0577 (0.0783)  loss_objectness: 0.0036 (0.0089)  loss_rpn_box_reg: 0.0017 (0.0041)  time: 0.1145  data: 0.0309  max mem: 780\n",
      "Epoch: [0]  [11600/12099]  eta: 0:00:57  lr: 0.000300  loss: 0.1068 (0.1457)  loss_classifier: 0.0288 (0.0545)  loss_box_reg: 0.0740 (0.0782)  loss_objectness: 0.0032 (0.0089)  loss_rpn_box_reg: 0.0017 (0.0041)  time: 0.1166  data: 0.0327  max mem: 780\n",
      "Epoch: [0]  [11700/12099]  eta: 0:00:45  lr: 0.000300  loss: 0.0894 (0.1455)  loss_classifier: 0.0367 (0.0544)  loss_box_reg: 0.0613 (0.0781)  loss_objectness: 0.0033 (0.0089)  loss_rpn_box_reg: 0.0010 (0.0041)  time: 0.1167  data: 0.0327  max mem: 780\n",
      "Epoch: [0]  [11800/12099]  eta: 0:00:34  lr: 0.000300  loss: 0.0764 (0.1453)  loss_classifier: 0.0211 (0.0542)  loss_box_reg: 0.0332 (0.0780)  loss_objectness: 0.0050 (0.0089)  loss_rpn_box_reg: 0.0019 (0.0041)  time: 0.1152  data: 0.0318  max mem: 780\n",
      "Epoch: [0]  [11900/12099]  eta: 0:00:22  lr: 0.000300  loss: 0.1216 (0.1451)  loss_classifier: 0.0377 (0.0541)  loss_box_reg: 0.0741 (0.0779)  loss_objectness: 0.0034 (0.0089)  loss_rpn_box_reg: 0.0021 (0.0041)  time: 0.1145  data: 0.0306  max mem: 780\n",
      "Epoch: [0]  [12000/12099]  eta: 0:00:11  lr: 0.000300  loss: 0.1000 (0.1449)  loss_classifier: 0.0361 (0.0541)  loss_box_reg: 0.0588 (0.0778)  loss_objectness: 0.0039 (0.0089)  loss_rpn_box_reg: 0.0009 (0.0041)  time: 0.1159  data: 0.0313  max mem: 780\n",
      "Epoch: [0]  [12098/12099]  eta: 0:00:00  lr: 0.000300  loss: 0.1050 (0.1448)  loss_classifier: 0.0305 (0.0540)  loss_box_reg: 0.0624 (0.0777)  loss_objectness: 0.0030 (0.0090)  loss_rpn_box_reg: 0.0019 (0.0041)  time: 0.1158  data: 0.0304  max mem: 780\n",
      "Epoch: [0] Total time: 0:23:14 (0.1152 s / it)\n",
      "Epoch: [1]  [    0/12099]  eta: 0:22:04  lr: 0.000300  loss: 0.0762 (0.0762)  loss_classifier: 0.0286 (0.0286)  loss_box_reg: 0.0430 (0.0430)  loss_objectness: 0.0040 (0.0040)  loss_rpn_box_reg: 0.0005 (0.0005)  time: 0.1095  data: 0.0270  max mem: 4009\n",
      "Epoch: [1]  [  100/12099]  eta: 0:23:13  lr: 0.000300  loss: 0.0918 (0.1304)  loss_classifier: 0.0254 (0.0443)  loss_box_reg: 0.0606 (0.0708)  loss_objectness: 0.0046 (0.0107)  loss_rpn_box_reg: 0.0012 (0.0046)  time: 0.1147  data: 0.0306  max mem: 4009\n",
      "Epoch: [1]  [  200/12099]  eta: 0:22:57  lr: 0.000300  loss: 0.1156 (0.1269)  loss_classifier: 0.0377 (0.0438)  loss_box_reg: 0.0717 (0.0681)  loss_objectness: 0.0079 (0.0107)  loss_rpn_box_reg: 0.0014 (0.0043)  time: 0.1149  data: 0.0305  max mem: 4009\n",
      "Epoch: [1]  [  300/12099]  eta: 0:22:44  lr: 0.000300  loss: 0.0922 (0.1256)  loss_classifier: 0.0272 (0.0434)  loss_box_reg: 0.0547 (0.0679)  loss_objectness: 0.0038 (0.0100)  loss_rpn_box_reg: 0.0015 (0.0044)  time: 0.1152  data: 0.0310  max mem: 4009\n",
      "Epoch: [1]  [  400/12099]  eta: 0:22:34  lr: 0.000300  loss: 0.1147 (0.1242)  loss_classifier: 0.0360 (0.0430)  loss_box_reg: 0.0617 (0.0672)  loss_objectness: 0.0053 (0.0098)  loss_rpn_box_reg: 0.0018 (0.0041)  time: 0.1184  data: 0.0341  max mem: 4009\n",
      "Epoch: [1]  [  500/12099]  eta: 0:22:20  lr: 0.000300  loss: 0.1252 (0.1206)  loss_classifier: 0.0347 (0.0416)  loss_box_reg: 0.0747 (0.0657)  loss_objectness: 0.0025 (0.0091)  loss_rpn_box_reg: 0.0019 (0.0043)  time: 0.1127  data: 0.0287  max mem: 4009\n",
      "Epoch: [1]  [  600/12099]  eta: 0:22:09  lr: 0.000300  loss: 0.0954 (0.1218)  loss_classifier: 0.0328 (0.0413)  loss_box_reg: 0.0610 (0.0661)  loss_objectness: 0.0027 (0.0100)  loss_rpn_box_reg: 0.0015 (0.0045)  time: 0.1154  data: 0.0312  max mem: 4009\n",
      "Epoch: [1]  [  700/12099]  eta: 0:22:23  lr: 0.000300  loss: 0.1307 (0.1229)  loss_classifier: 0.0426 (0.0415)  loss_box_reg: 0.0815 (0.0672)  loss_objectness: 0.0056 (0.0097)  loss_rpn_box_reg: 0.0015 (0.0045)  time: 0.1289  data: 0.0370  max mem: 4009\n",
      "Epoch: [1]  [  800/12099]  eta: 0:22:21  lr: 0.000300  loss: 0.0984 (0.1217)  loss_classifier: 0.0369 (0.0412)  loss_box_reg: 0.0547 (0.0665)  loss_objectness: 0.0033 (0.0096)  loss_rpn_box_reg: 0.0010 (0.0043)  time: 0.1189  data: 0.0323  max mem: 4009\n",
      "Epoch: [1]  [  900/12099]  eta: 0:22:13  lr: 0.000300  loss: 0.1056 (0.1225)  loss_classifier: 0.0350 (0.0414)  loss_box_reg: 0.0436 (0.0663)  loss_objectness: 0.0061 (0.0103)  loss_rpn_box_reg: 0.0018 (0.0046)  time: 0.1194  data: 0.0328  max mem: 4009\n"
     ]
    },
    {
     "name": "stdout",
     "output_type": "stream",
     "text": [
      "Epoch: [1]  [ 1000/12099]  eta: 0:22:02  lr: 0.000300  loss: 0.1121 (0.1222)  loss_classifier: 0.0326 (0.0415)  loss_box_reg: 0.0698 (0.0661)  loss_objectness: 0.0053 (0.0102)  loss_rpn_box_reg: 0.0014 (0.0045)  time: 0.1193  data: 0.0332  max mem: 4009\n",
      "Epoch: [1]  [ 1100/12099]  eta: 0:21:51  lr: 0.000300  loss: 0.1128 (0.1222)  loss_classifier: 0.0331 (0.0416)  loss_box_reg: 0.0676 (0.0661)  loss_objectness: 0.0025 (0.0100)  loss_rpn_box_reg: 0.0024 (0.0045)  time: 0.1247  data: 0.0358  max mem: 4009\n",
      "Epoch: [1]  [ 1200/12099]  eta: 0:21:42  lr: 0.000300  loss: 0.1078 (0.1215)  loss_classifier: 0.0389 (0.0414)  loss_box_reg: 0.0628 (0.0658)  loss_objectness: 0.0024 (0.0099)  loss_rpn_box_reg: 0.0012 (0.0044)  time: 0.1199  data: 0.0341  max mem: 4009\n",
      "Epoch: [1]  [ 1300/12099]  eta: 0:21:30  lr: 0.000300  loss: 0.1232 (0.1211)  loss_classifier: 0.0322 (0.0411)  loss_box_reg: 0.0572 (0.0657)  loss_objectness: 0.0049 (0.0099)  loss_rpn_box_reg: 0.0010 (0.0044)  time: 0.1201  data: 0.0330  max mem: 4009\n",
      "Epoch: [1]  [ 1400/12099]  eta: 0:21:19  lr: 0.000300  loss: 0.0856 (0.1207)  loss_classifier: 0.0269 (0.0410)  loss_box_reg: 0.0498 (0.0657)  loss_objectness: 0.0029 (0.0097)  loss_rpn_box_reg: 0.0012 (0.0043)  time: 0.1260  data: 0.0362  max mem: 4009\n",
      "Epoch: [1]  [ 1500/12099]  eta: 0:21:10  lr: 0.000300  loss: 0.0949 (0.1205)  loss_classifier: 0.0281 (0.0409)  loss_box_reg: 0.0550 (0.0657)  loss_objectness: 0.0033 (0.0096)  loss_rpn_box_reg: 0.0018 (0.0044)  time: 0.1211  data: 0.0327  max mem: 4009\n",
      "Epoch: [1]  [ 1600/12099]  eta: 0:20:58  lr: 0.000300  loss: 0.1049 (0.1208)  loss_classifier: 0.0308 (0.0411)  loss_box_reg: 0.0604 (0.0658)  loss_objectness: 0.0030 (0.0096)  loss_rpn_box_reg: 0.0014 (0.0043)  time: 0.1145  data: 0.0301  max mem: 4009\n",
      "Epoch: [1]  [ 1700/12099]  eta: 0:20:44  lr: 0.000300  loss: 0.1033 (0.1208)  loss_classifier: 0.0362 (0.0412)  loss_box_reg: 0.0596 (0.0660)  loss_objectness: 0.0041 (0.0094)  loss_rpn_box_reg: 0.0015 (0.0042)  time: 0.1203  data: 0.0331  max mem: 4009\n",
      "Epoch: [1]  [ 1800/12099]  eta: 0:20:33  lr: 0.000300  loss: 0.0961 (0.1207)  loss_classifier: 0.0312 (0.0411)  loss_box_reg: 0.0599 (0.0661)  loss_objectness: 0.0030 (0.0094)  loss_rpn_box_reg: 0.0015 (0.0042)  time: 0.1269  data: 0.0364  max mem: 4009\n",
      "Epoch: [1]  [ 1900/12099]  eta: 0:20:21  lr: 0.000300  loss: 0.0933 (0.1201)  loss_classifier: 0.0236 (0.0409)  loss_box_reg: 0.0591 (0.0657)  loss_objectness: 0.0031 (0.0093)  loss_rpn_box_reg: 0.0015 (0.0043)  time: 0.1175  data: 0.0321  max mem: 4009\n",
      "Epoch: [1]  [ 2000/12099]  eta: 0:20:08  lr: 0.000300  loss: 0.0868 (0.1191)  loss_classifier: 0.0283 (0.0404)  loss_box_reg: 0.0485 (0.0652)  loss_objectness: 0.0028 (0.0092)  loss_rpn_box_reg: 0.0015 (0.0042)  time: 0.1173  data: 0.0322  max mem: 4009\n",
      "Epoch: [1]  [ 2100/12099]  eta: 0:19:57  lr: 0.000300  loss: 0.1017 (0.1188)  loss_classifier: 0.0307 (0.0402)  loss_box_reg: 0.0530 (0.0650)  loss_objectness: 0.0043 (0.0093)  loss_rpn_box_reg: 0.0013 (0.0043)  time: 0.1167  data: 0.0317  max mem: 4009\n",
      "Epoch: [1]  [ 2200/12099]  eta: 0:19:45  lr: 0.000300  loss: 0.0941 (0.1191)  loss_classifier: 0.0322 (0.0403)  loss_box_reg: 0.0592 (0.0652)  loss_objectness: 0.0022 (0.0092)  loss_rpn_box_reg: 0.0012 (0.0043)  time: 0.1175  data: 0.0322  max mem: 4009\n",
      "Epoch: [1]  [ 2300/12099]  eta: 0:19:33  lr: 0.000300  loss: 0.1163 (0.1196)  loss_classifier: 0.0356 (0.0405)  loss_box_reg: 0.0716 (0.0655)  loss_objectness: 0.0057 (0.0092)  loss_rpn_box_reg: 0.0018 (0.0043)  time: 0.1214  data: 0.0330  max mem: 4009\n",
      "Epoch: [1]  [ 2400/12099]  eta: 0:19:22  lr: 0.000300  loss: 0.1125 (0.1195)  loss_classifier: 0.0386 (0.0404)  loss_box_reg: 0.0613 (0.0654)  loss_objectness: 0.0033 (0.0093)  loss_rpn_box_reg: 0.0019 (0.0044)  time: 0.1165  data: 0.0325  max mem: 4009\n",
      "Epoch: [1]  [ 2500/12099]  eta: 0:19:16  lr: 0.000300  loss: 0.1124 (0.1196)  loss_classifier: 0.0264 (0.0405)  loss_box_reg: 0.0588 (0.0655)  loss_objectness: 0.0062 (0.0093)  loss_rpn_box_reg: 0.0017 (0.0043)  time: 0.1371  data: 0.0394  max mem: 4009\n",
      "Epoch: [1]  [ 2600/12099]  eta: 0:19:13  lr: 0.000300  loss: 0.0799 (0.1192)  loss_classifier: 0.0265 (0.0403)  loss_box_reg: 0.0496 (0.0655)  loss_objectness: 0.0029 (0.0092)  loss_rpn_box_reg: 0.0017 (0.0043)  time: 0.1531  data: 0.0463  max mem: 4009\n",
      "Epoch: [1]  [ 2700/12099]  eta: 0:19:13  lr: 0.000300  loss: 0.0780 (0.1190)  loss_classifier: 0.0276 (0.0402)  loss_box_reg: 0.0425 (0.0654)  loss_objectness: 0.0022 (0.0091)  loss_rpn_box_reg: 0.0010 (0.0043)  time: 0.1535  data: 0.0435  max mem: 4009\n",
      "Epoch: [1]  [ 2800/12099]  eta: 0:19:10  lr: 0.000300  loss: 0.1043 (0.1195)  loss_classifier: 0.0316 (0.0405)  loss_box_reg: 0.0601 (0.0656)  loss_objectness: 0.0042 (0.0091)  loss_rpn_box_reg: 0.0010 (0.0043)  time: 0.1425  data: 0.0392  max mem: 4009\n",
      "Epoch: [1]  [ 2900/12099]  eta: 0:19:05  lr: 0.000300  loss: 0.0997 (0.1198)  loss_classifier: 0.0330 (0.0405)  loss_box_reg: 0.0754 (0.0659)  loss_objectness: 0.0021 (0.0091)  loss_rpn_box_reg: 0.0006 (0.0043)  time: 0.1430  data: 0.0429  max mem: 4009\n",
      "Epoch: [1]  [ 3000/12099]  eta: 0:18:55  lr: 0.000300  loss: 0.0851 (0.1192)  loss_classifier: 0.0286 (0.0403)  loss_box_reg: 0.0555 (0.0656)  loss_objectness: 0.0042 (0.0091)  loss_rpn_box_reg: 0.0016 (0.0042)  time: 0.1354  data: 0.0381  max mem: 4009\n",
      "Epoch: [1]  [ 3100/12099]  eta: 0:18:44  lr: 0.000300  loss: 0.1103 (0.1190)  loss_classifier: 0.0415 (0.0402)  loss_box_reg: 0.0491 (0.0656)  loss_objectness: 0.0025 (0.0090)  loss_rpn_box_reg: 0.0017 (0.0042)  time: 0.1300  data: 0.0344  max mem: 4009\n",
      "Epoch: [1]  [ 3200/12099]  eta: 0:18:33  lr: 0.000300  loss: 0.1176 (0.1188)  loss_classifier: 0.0321 (0.0402)  loss_box_reg: 0.0541 (0.0655)  loss_objectness: 0.0047 (0.0089)  loss_rpn_box_reg: 0.0021 (0.0042)  time: 0.1317  data: 0.0374  max mem: 4009\n",
      "Epoch: [1]  [ 3300/12099]  eta: 0:18:23  lr: 0.000300  loss: 0.0679 (0.1185)  loss_classifier: 0.0238 (0.0400)  loss_box_reg: 0.0399 (0.0653)  loss_objectness: 0.0020 (0.0090)  loss_rpn_box_reg: 0.0014 (0.0042)  time: 0.1330  data: 0.0367  max mem: 4009\n",
      "Epoch: [1]  [ 3400/12099]  eta: 0:18:12  lr: 0.000300  loss: 0.0836 (0.1187)  loss_classifier: 0.0288 (0.0401)  loss_box_reg: 0.0426 (0.0653)  loss_objectness: 0.0027 (0.0090)  loss_rpn_box_reg: 0.0011 (0.0042)  time: 0.1303  data: 0.0345  max mem: 4009\n",
      "Epoch: [1]  [ 3500/12099]  eta: 0:18:01  lr: 0.000300  loss: 0.0973 (0.1189)  loss_classifier: 0.0339 (0.0401)  loss_box_reg: 0.0614 (0.0654)  loss_objectness: 0.0058 (0.0091)  loss_rpn_box_reg: 0.0016 (0.0042)  time: 0.1276  data: 0.0345  max mem: 4009\n",
      "Epoch: [1]  [ 3600/12099]  eta: 0:17:50  lr: 0.000300  loss: 0.1052 (0.1188)  loss_classifier: 0.0382 (0.0401)  loss_box_reg: 0.0587 (0.0655)  loss_objectness: 0.0058 (0.0091)  loss_rpn_box_reg: 0.0015 (0.0042)  time: 0.1385  data: 0.0368  max mem: 4009\n",
      "Epoch: [1]  [ 3700/12099]  eta: 0:17:42  lr: 0.000300  loss: 0.0971 (0.1188)  loss_classifier: 0.0311 (0.0401)  loss_box_reg: 0.0550 (0.0655)  loss_objectness: 0.0051 (0.0091)  loss_rpn_box_reg: 0.0019 (0.0042)  time: 0.1515  data: 0.0458  max mem: 4009\n",
      "Epoch: [1]  [ 3800/12099]  eta: 0:17:34  lr: 0.000300  loss: 0.0787 (0.1187)  loss_classifier: 0.0250 (0.0400)  loss_box_reg: 0.0463 (0.0655)  loss_objectness: 0.0038 (0.0090)  loss_rpn_box_reg: 0.0021 (0.0041)  time: 0.1468  data: 0.0405  max mem: 4009\n",
      "Epoch: [1]  [ 3900/12099]  eta: 0:17:25  lr: 0.000300  loss: 0.1133 (0.1189)  loss_classifier: 0.0344 (0.0401)  loss_box_reg: 0.0756 (0.0656)  loss_objectness: 0.0030 (0.0090)  loss_rpn_box_reg: 0.0028 (0.0042)  time: 0.1491  data: 0.0428  max mem: 4009\n",
      "Epoch: [1]  [ 4000/12099]  eta: 0:17:19  lr: 0.000300  loss: 0.0817 (0.1188)  loss_classifier: 0.0259 (0.0402)  loss_box_reg: 0.0489 (0.0655)  loss_objectness: 0.0028 (0.0090)  loss_rpn_box_reg: 0.0014 (0.0041)  time: 0.1585  data: 0.0521  max mem: 4009\n",
      "Epoch: [1]  [ 4100/12099]  eta: 0:17:07  lr: 0.000300  loss: 0.0799 (0.1188)  loss_classifier: 0.0260 (0.0402)  loss_box_reg: 0.0405 (0.0654)  loss_objectness: 0.0037 (0.0090)  loss_rpn_box_reg: 0.0009 (0.0042)  time: 0.1180  data: 0.0334  max mem: 4009\n",
      "Epoch: [1]  [ 4200/12099]  eta: 0:16:52  lr: 0.000300  loss: 0.0910 (0.1187)  loss_classifier: 0.0264 (0.0401)  loss_box_reg: 0.0578 (0.0654)  loss_objectness: 0.0028 (0.0090)  loss_rpn_box_reg: 0.0021 (0.0042)  time: 0.1158  data: 0.0315  max mem: 4009\n"
     ]
    },
    {
     "name": "stdout",
     "output_type": "stream",
     "text": [
      "Epoch: [1]  [ 4300/12099]  eta: 0:16:37  lr: 0.000300  loss: 0.1160 (0.1186)  loss_classifier: 0.0344 (0.0400)  loss_box_reg: 0.0691 (0.0654)  loss_objectness: 0.0043 (0.0090)  loss_rpn_box_reg: 0.0017 (0.0042)  time: 0.1156  data: 0.0313  max mem: 4009\n",
      "Epoch: [1]  [ 4400/12099]  eta: 0:16:23  lr: 0.000300  loss: 0.0994 (0.1185)  loss_classifier: 0.0299 (0.0400)  loss_box_reg: 0.0527 (0.0653)  loss_objectness: 0.0031 (0.0090)  loss_rpn_box_reg: 0.0011 (0.0042)  time: 0.1167  data: 0.0317  max mem: 4009\n",
      "Epoch: [1]  [ 4500/12099]  eta: 0:16:09  lr: 0.000300  loss: 0.1057 (0.1184)  loss_classifier: 0.0266 (0.0400)  loss_box_reg: 0.0668 (0.0653)  loss_objectness: 0.0059 (0.0089)  loss_rpn_box_reg: 0.0024 (0.0042)  time: 0.1207  data: 0.0336  max mem: 4009\n",
      "Epoch: [1]  [ 4600/12099]  eta: 0:15:58  lr: 0.000300  loss: 0.1158 (0.1183)  loss_classifier: 0.0297 (0.0400)  loss_box_reg: 0.0457 (0.0652)  loss_objectness: 0.0053 (0.0090)  loss_rpn_box_reg: 0.0014 (0.0042)  time: 0.1422  data: 0.0461  max mem: 4009\n",
      "Epoch: [1]  [ 4700/12099]  eta: 0:15:46  lr: 0.000300  loss: 0.0847 (0.1180)  loss_classifier: 0.0266 (0.0399)  loss_box_reg: 0.0520 (0.0651)  loss_objectness: 0.0019 (0.0089)  loss_rpn_box_reg: 0.0013 (0.0042)  time: 0.1475  data: 0.0444  max mem: 4009\n",
      "Epoch: [1]  [ 4800/12099]  eta: 0:15:35  lr: 0.000300  loss: 0.1102 (0.1179)  loss_classifier: 0.0287 (0.0398)  loss_box_reg: 0.0738 (0.0651)  loss_objectness: 0.0047 (0.0089)  loss_rpn_box_reg: 0.0021 (0.0042)  time: 0.1353  data: 0.0360  max mem: 4009\n",
      "Epoch: [1]  [ 4900/12099]  eta: 0:15:24  lr: 0.000300  loss: 0.1081 (0.1178)  loss_classifier: 0.0312 (0.0398)  loss_box_reg: 0.0616 (0.0650)  loss_objectness: 0.0029 (0.0089)  loss_rpn_box_reg: 0.0016 (0.0042)  time: 0.1367  data: 0.0358  max mem: 4009\n",
      "Epoch: [1]  [ 5000/12099]  eta: 0:15:13  lr: 0.000300  loss: 0.0828 (0.1177)  loss_classifier: 0.0274 (0.0397)  loss_box_reg: 0.0486 (0.0650)  loss_objectness: 0.0030 (0.0088)  loss_rpn_box_reg: 0.0013 (0.0042)  time: 0.1467  data: 0.0437  max mem: 4009\n",
      "Epoch: [1]  [ 5100/12099]  eta: 0:15:03  lr: 0.000300  loss: 0.1111 (0.1180)  loss_classifier: 0.0460 (0.0398)  loss_box_reg: 0.0678 (0.0651)  loss_objectness: 0.0059 (0.0089)  loss_rpn_box_reg: 0.0018 (0.0042)  time: 0.1395  data: 0.0372  max mem: 4009\n",
      "Epoch: [1]  [ 5200/12099]  eta: 0:14:51  lr: 0.000300  loss: 0.1016 (0.1179)  loss_classifier: 0.0326 (0.0398)  loss_box_reg: 0.0630 (0.0650)  loss_objectness: 0.0035 (0.0089)  loss_rpn_box_reg: 0.0013 (0.0042)  time: 0.1388  data: 0.0371  max mem: 4009\n",
      "Epoch: [1]  [ 5300/12099]  eta: 0:14:40  lr: 0.000300  loss: 0.1106 (0.1179)  loss_classifier: 0.0342 (0.0398)  loss_box_reg: 0.0635 (0.0650)  loss_objectness: 0.0025 (0.0089)  loss_rpn_box_reg: 0.0014 (0.0042)  time: 0.1361  data: 0.0363  max mem: 4009\n",
      "Epoch: [1]  [ 5400/12099]  eta: 0:14:28  lr: 0.000300  loss: 0.1056 (0.1179)  loss_classifier: 0.0363 (0.0398)  loss_box_reg: 0.0659 (0.0650)  loss_objectness: 0.0025 (0.0089)  loss_rpn_box_reg: 0.0008 (0.0042)  time: 0.1374  data: 0.0383  max mem: 4009\n",
      "Epoch: [1]  [ 5500/12099]  eta: 0:14:16  lr: 0.000300  loss: 0.0970 (0.1178)  loss_classifier: 0.0312 (0.0398)  loss_box_reg: 0.0597 (0.0650)  loss_objectness: 0.0022 (0.0089)  loss_rpn_box_reg: 0.0014 (0.0042)  time: 0.1344  data: 0.0354  max mem: 4009\n",
      "Epoch: [1]  [ 5600/12099]  eta: 0:14:04  lr: 0.000300  loss: 0.0943 (0.1176)  loss_classifier: 0.0302 (0.0397)  loss_box_reg: 0.0435 (0.0649)  loss_objectness: 0.0026 (0.0089)  loss_rpn_box_reg: 0.0021 (0.0042)  time: 0.1534  data: 0.0441  max mem: 4009\n",
      "Epoch: [1]  [ 5700/12099]  eta: 0:13:55  lr: 0.000300  loss: 0.1125 (0.1175)  loss_classifier: 0.0320 (0.0397)  loss_box_reg: 0.0677 (0.0649)  loss_objectness: 0.0024 (0.0088)  loss_rpn_box_reg: 0.0012 (0.0042)  time: 0.1495  data: 0.0430  max mem: 4009\n",
      "Epoch: [1]  [ 5800/12099]  eta: 0:13:44  lr: 0.000300  loss: 0.1035 (0.1177)  loss_classifier: 0.0316 (0.0398)  loss_box_reg: 0.0473 (0.0649)  loss_objectness: 0.0031 (0.0089)  loss_rpn_box_reg: 0.0010 (0.0042)  time: 0.1449  data: 0.0404  max mem: 4009\n",
      "Epoch: [1]  [ 5900/12099]  eta: 0:13:34  lr: 0.000300  loss: 0.0910 (0.1177)  loss_classifier: 0.0256 (0.0397)  loss_box_reg: 0.0555 (0.0649)  loss_objectness: 0.0039 (0.0089)  loss_rpn_box_reg: 0.0012 (0.0042)  time: 0.1594  data: 0.0456  max mem: 4009\n",
      "Epoch: [1]  [ 6000/12099]  eta: 0:13:22  lr: 0.000300  loss: 0.1175 (0.1178)  loss_classifier: 0.0337 (0.0398)  loss_box_reg: 0.0666 (0.0649)  loss_objectness: 0.0022 (0.0089)  loss_rpn_box_reg: 0.0018 (0.0042)  time: 0.1478  data: 0.0433  max mem: 4009\n",
      "Epoch: [1]  [ 6100/12099]  eta: 0:13:10  lr: 0.000300  loss: 0.0936 (0.1178)  loss_classifier: 0.0344 (0.0399)  loss_box_reg: 0.0484 (0.0649)  loss_objectness: 0.0051 (0.0089)  loss_rpn_box_reg: 0.0013 (0.0042)  time: 0.1504  data: 0.0419  max mem: 4009\n",
      "Epoch: [1]  [ 6200/12099]  eta: 0:12:58  lr: 0.000300  loss: 0.0932 (0.1179)  loss_classifier: 0.0268 (0.0398)  loss_box_reg: 0.0557 (0.0650)  loss_objectness: 0.0034 (0.0089)  loss_rpn_box_reg: 0.0013 (0.0042)  time: 0.1517  data: 0.0425  max mem: 4009\n",
      "Epoch: [1]  [ 6300/12099]  eta: 0:12:47  lr: 0.000300  loss: 0.0914 (0.1179)  loss_classifier: 0.0311 (0.0399)  loss_box_reg: 0.0521 (0.0650)  loss_objectness: 0.0031 (0.0089)  loss_rpn_box_reg: 0.0013 (0.0041)  time: 0.1485  data: 0.0412  max mem: 4009\n",
      "Epoch: [1]  [ 6400/12099]  eta: 0:12:35  lr: 0.000300  loss: 0.1035 (0.1180)  loss_classifier: 0.0356 (0.0399)  loss_box_reg: 0.0643 (0.0649)  loss_objectness: 0.0031 (0.0090)  loss_rpn_box_reg: 0.0011 (0.0042)  time: 0.1503  data: 0.0432  max mem: 4009\n",
      "Epoch: [1]  [ 6500/12099]  eta: 0:12:24  lr: 0.000300  loss: 0.1166 (0.1181)  loss_classifier: 0.0328 (0.0399)  loss_box_reg: 0.0637 (0.0650)  loss_objectness: 0.0048 (0.0090)  loss_rpn_box_reg: 0.0021 (0.0042)  time: 0.1563  data: 0.0457  max mem: 4009\n",
      "Epoch: [1]  [ 6600/12099]  eta: 0:12:12  lr: 0.000300  loss: 0.0897 (0.1180)  loss_classifier: 0.0261 (0.0399)  loss_box_reg: 0.0430 (0.0649)  loss_objectness: 0.0036 (0.0090)  loss_rpn_box_reg: 0.0013 (0.0042)  time: 0.1492  data: 0.0404  max mem: 4009\n",
      "Epoch: [1]  [ 6700/12099]  eta: 0:12:01  lr: 0.000300  loss: 0.1034 (0.1180)  loss_classifier: 0.0308 (0.0399)  loss_box_reg: 0.0611 (0.0650)  loss_objectness: 0.0047 (0.0090)  loss_rpn_box_reg: 0.0014 (0.0042)  time: 0.1553  data: 0.0436  max mem: 4009\n",
      "Epoch: [1]  [ 6800/12099]  eta: 0:11:48  lr: 0.000300  loss: 0.1248 (0.1181)  loss_classifier: 0.0280 (0.0399)  loss_box_reg: 0.0710 (0.0650)  loss_objectness: 0.0037 (0.0090)  loss_rpn_box_reg: 0.0015 (0.0042)  time: 0.1370  data: 0.0360  max mem: 4009\n",
      "Epoch: [1]  [ 6900/12099]  eta: 0:11:35  lr: 0.000300  loss: 0.1179 (0.1182)  loss_classifier: 0.0403 (0.0400)  loss_box_reg: 0.0623 (0.0650)  loss_objectness: 0.0066 (0.0090)  loss_rpn_box_reg: 0.0010 (0.0042)  time: 0.1387  data: 0.0383  max mem: 4009\n",
      "Epoch: [1]  [ 7000/12099]  eta: 0:11:22  lr: 0.000300  loss: 0.1053 (0.1183)  loss_classifier: 0.0327 (0.0400)  loss_box_reg: 0.0649 (0.0651)  loss_objectness: 0.0051 (0.0090)  loss_rpn_box_reg: 0.0020 (0.0042)  time: 0.1402  data: 0.0396  max mem: 4009\n",
      "Epoch: [1]  [ 7100/12099]  eta: 0:11:09  lr: 0.000300  loss: 0.1052 (0.1183)  loss_classifier: 0.0288 (0.0400)  loss_box_reg: 0.0567 (0.0651)  loss_objectness: 0.0020 (0.0090)  loss_rpn_box_reg: 0.0020 (0.0042)  time: 0.1587  data: 0.0460  max mem: 4009\n",
      "Epoch: [1]  [ 7200/12099]  eta: 0:10:57  lr: 0.000300  loss: 0.1197 (0.1183)  loss_classifier: 0.0305 (0.0400)  loss_box_reg: 0.0676 (0.0652)  loss_objectness: 0.0022 (0.0090)  loss_rpn_box_reg: 0.0015 (0.0042)  time: 0.1556  data: 0.0432  max mem: 4009\n",
      "Epoch: [1]  [ 7300/12099]  eta: 0:10:45  lr: 0.000300  loss: 0.1280 (0.1185)  loss_classifier: 0.0307 (0.0400)  loss_box_reg: 0.0793 (0.0653)  loss_objectness: 0.0039 (0.0090)  loss_rpn_box_reg: 0.0019 (0.0042)  time: 0.1565  data: 0.0427  max mem: 4009\n",
      "Epoch: [1]  [ 7400/12099]  eta: 0:10:32  lr: 0.000300  loss: 0.1123 (0.1185)  loss_classifier: 0.0308 (0.0400)  loss_box_reg: 0.0665 (0.0654)  loss_objectness: 0.0038 (0.0090)  loss_rpn_box_reg: 0.0020 (0.0042)  time: 0.1451  data: 0.0392  max mem: 4009\n",
      "Epoch: [1]  [ 7500/12099]  eta: 0:10:19  lr: 0.000300  loss: 0.1458 (0.1186)  loss_classifier: 0.0362 (0.0400)  loss_box_reg: 0.0667 (0.0655)  loss_objectness: 0.0034 (0.0090)  loss_rpn_box_reg: 0.0016 (0.0041)  time: 0.1433  data: 0.0378  max mem: 4009\n"
     ]
    },
    {
     "name": "stdout",
     "output_type": "stream",
     "text": [
      "Epoch: [1]  [ 7600/12099]  eta: 0:10:07  lr: 0.000300  loss: 0.1023 (0.1186)  loss_classifier: 0.0290 (0.0400)  loss_box_reg: 0.0686 (0.0655)  loss_objectness: 0.0057 (0.0090)  loss_rpn_box_reg: 0.0014 (0.0042)  time: 0.1572  data: 0.0454  max mem: 4009\n",
      "Epoch: [1]  [ 7700/12099]  eta: 0:09:55  lr: 0.000300  loss: 0.1048 (0.1186)  loss_classifier: 0.0303 (0.0400)  loss_box_reg: 0.0527 (0.0655)  loss_objectness: 0.0031 (0.0090)  loss_rpn_box_reg: 0.0015 (0.0042)  time: 0.1491  data: 0.0411  max mem: 4009\n",
      "Epoch: [1]  [ 7800/12099]  eta: 0:09:42  lr: 0.000300  loss: 0.0883 (0.1187)  loss_classifier: 0.0271 (0.0400)  loss_box_reg: 0.0539 (0.0655)  loss_objectness: 0.0038 (0.0090)  loss_rpn_box_reg: 0.0008 (0.0042)  time: 0.1602  data: 0.0485  max mem: 4009\n",
      "Epoch: [1]  [ 7900/12099]  eta: 0:09:30  lr: 0.000300  loss: 0.0948 (0.1187)  loss_classifier: 0.0317 (0.0400)  loss_box_reg: 0.0540 (0.0654)  loss_objectness: 0.0037 (0.0090)  loss_rpn_box_reg: 0.0013 (0.0042)  time: 0.1457  data: 0.0415  max mem: 4009\n",
      "Epoch: [1]  [ 8000/12099]  eta: 0:09:17  lr: 0.000300  loss: 0.1245 (0.1188)  loss_classifier: 0.0346 (0.0401)  loss_box_reg: 0.0674 (0.0655)  loss_objectness: 0.0053 (0.0090)  loss_rpn_box_reg: 0.0025 (0.0042)  time: 0.1571  data: 0.0445  max mem: 4009\n",
      "Epoch: [1]  [ 8100/12099]  eta: 0:09:04  lr: 0.000300  loss: 0.0716 (0.1186)  loss_classifier: 0.0214 (0.0401)  loss_box_reg: 0.0381 (0.0654)  loss_objectness: 0.0032 (0.0090)  loss_rpn_box_reg: 0.0012 (0.0042)  time: 0.1502  data: 0.0445  max mem: 4009\n",
      "Epoch: [1]  [ 8200/12099]  eta: 0:08:51  lr: 0.000300  loss: 0.1034 (0.1187)  loss_classifier: 0.0291 (0.0401)  loss_box_reg: 0.0633 (0.0655)  loss_objectness: 0.0040 (0.0090)  loss_rpn_box_reg: 0.0015 (0.0042)  time: 0.1464  data: 0.0427  max mem: 4009\n",
      "Epoch: [1]  [ 8300/12099]  eta: 0:08:38  lr: 0.000300  loss: 0.1002 (0.1187)  loss_classifier: 0.0340 (0.0401)  loss_box_reg: 0.0599 (0.0655)  loss_objectness: 0.0027 (0.0090)  loss_rpn_box_reg: 0.0010 (0.0041)  time: 0.1476  data: 0.0396  max mem: 4009\n",
      "Epoch: [1]  [ 8400/12099]  eta: 0:08:25  lr: 0.000300  loss: 0.0938 (0.1185)  loss_classifier: 0.0308 (0.0400)  loss_box_reg: 0.0602 (0.0654)  loss_objectness: 0.0036 (0.0090)  loss_rpn_box_reg: 0.0007 (0.0041)  time: 0.1516  data: 0.0433  max mem: 4009\n",
      "Epoch: [1]  [ 8500/12099]  eta: 0:08:12  lr: 0.000300  loss: 0.0843 (0.1185)  loss_classifier: 0.0254 (0.0399)  loss_box_reg: 0.0521 (0.0655)  loss_objectness: 0.0019 (0.0089)  loss_rpn_box_reg: 0.0012 (0.0041)  time: 0.1500  data: 0.0444  max mem: 4009\n",
      "Epoch: [1]  [ 8600/12099]  eta: 0:07:59  lr: 0.000300  loss: 0.1013 (0.1185)  loss_classifier: 0.0278 (0.0399)  loss_box_reg: 0.0528 (0.0655)  loss_objectness: 0.0057 (0.0089)  loss_rpn_box_reg: 0.0020 (0.0041)  time: 0.1615  data: 0.0466  max mem: 4009\n",
      "Epoch: [1]  [ 8700/12099]  eta: 0:07:46  lr: 0.000300  loss: 0.0757 (0.1185)  loss_classifier: 0.0248 (0.0399)  loss_box_reg: 0.0406 (0.0655)  loss_objectness: 0.0039 (0.0089)  loss_rpn_box_reg: 0.0010 (0.0041)  time: 0.1529  data: 0.0438  max mem: 4009\n",
      "Epoch: [1]  [ 8800/12099]  eta: 0:07:33  lr: 0.000300  loss: 0.0963 (0.1185)  loss_classifier: 0.0288 (0.0399)  loss_box_reg: 0.0610 (0.0655)  loss_objectness: 0.0032 (0.0089)  loss_rpn_box_reg: 0.0013 (0.0041)  time: 0.1450  data: 0.0401  max mem: 4009\n",
      "Epoch: [1]  [ 8900/12099]  eta: 0:07:19  lr: 0.000300  loss: 0.0865 (0.1185)  loss_classifier: 0.0230 (0.0399)  loss_box_reg: 0.0575 (0.0655)  loss_objectness: 0.0022 (0.0089)  loss_rpn_box_reg: 0.0012 (0.0042)  time: 0.1428  data: 0.0378  max mem: 4009\n",
      "Epoch: [1]  [ 9000/12099]  eta: 0:07:06  lr: 0.000300  loss: 0.0813 (0.1183)  loss_classifier: 0.0201 (0.0398)  loss_box_reg: 0.0434 (0.0654)  loss_objectness: 0.0021 (0.0089)  loss_rpn_box_reg: 0.0011 (0.0041)  time: 0.1510  data: 0.0427  max mem: 4009\n",
      "Epoch: [1]  [ 9100/12099]  eta: 0:06:52  lr: 0.000300  loss: 0.1069 (0.1183)  loss_classifier: 0.0292 (0.0398)  loss_box_reg: 0.0491 (0.0654)  loss_objectness: 0.0038 (0.0089)  loss_rpn_box_reg: 0.0010 (0.0041)  time: 0.1465  data: 0.0410  max mem: 4009\n",
      "Epoch: [1]  [ 9200/12099]  eta: 0:06:39  lr: 0.000300  loss: 0.0803 (0.1182)  loss_classifier: 0.0234 (0.0398)  loss_box_reg: 0.0481 (0.0653)  loss_objectness: 0.0025 (0.0089)  loss_rpn_box_reg: 0.0019 (0.0042)  time: 0.1435  data: 0.0390  max mem: 4009\n",
      "Epoch: [1]  [ 9300/12099]  eta: 0:06:25  lr: 0.000300  loss: 0.1126 (0.1183)  loss_classifier: 0.0251 (0.0399)  loss_box_reg: 0.0557 (0.0653)  loss_objectness: 0.0039 (0.0089)  loss_rpn_box_reg: 0.0018 (0.0041)  time: 0.1437  data: 0.0389  max mem: 4009\n",
      "Epoch: [1]  [ 9400/12099]  eta: 0:06:12  lr: 0.000300  loss: 0.0967 (0.1184)  loss_classifier: 0.0254 (0.0399)  loss_box_reg: 0.0602 (0.0654)  loss_objectness: 0.0023 (0.0090)  loss_rpn_box_reg: 0.0015 (0.0042)  time: 0.1439  data: 0.0380  max mem: 4009\n",
      "Epoch: [1]  [ 9500/12099]  eta: 0:05:58  lr: 0.000300  loss: 0.1026 (0.1184)  loss_classifier: 0.0315 (0.0399)  loss_box_reg: 0.0708 (0.0654)  loss_objectness: 0.0042 (0.0090)  loss_rpn_box_reg: 0.0024 (0.0042)  time: 0.1332  data: 0.0366  max mem: 4009\n",
      "Epoch: [1]  [ 9600/12099]  eta: 0:05:45  lr: 0.000300  loss: 0.0947 (0.1183)  loss_classifier: 0.0278 (0.0399)  loss_box_reg: 0.0518 (0.0653)  loss_objectness: 0.0031 (0.0089)  loss_rpn_box_reg: 0.0014 (0.0042)  time: 0.1397  data: 0.0386  max mem: 4009\n",
      "Epoch: [1]  [ 9700/12099]  eta: 0:05:31  lr: 0.000300  loss: 0.1002 (0.1182)  loss_classifier: 0.0322 (0.0399)  loss_box_reg: 0.0575 (0.0653)  loss_objectness: 0.0041 (0.0089)  loss_rpn_box_reg: 0.0017 (0.0042)  time: 0.1414  data: 0.0393  max mem: 4009\n",
      "Epoch: [1]  [ 9800/12099]  eta: 0:05:17  lr: 0.000300  loss: 0.1158 (0.1182)  loss_classifier: 0.0326 (0.0398)  loss_box_reg: 0.0683 (0.0653)  loss_objectness: 0.0057 (0.0089)  loss_rpn_box_reg: 0.0019 (0.0041)  time: 0.1429  data: 0.0396  max mem: 4009\n",
      "Epoch: [1]  [ 9900/12099]  eta: 0:05:04  lr: 0.000300  loss: 0.1219 (0.1181)  loss_classifier: 0.0339 (0.0398)  loss_box_reg: 0.0705 (0.0653)  loss_objectness: 0.0045 (0.0089)  loss_rpn_box_reg: 0.0009 (0.0041)  time: 0.1401  data: 0.0413  max mem: 4009\n",
      "Epoch: [1]  [10000/12099]  eta: 0:04:50  lr: 0.000300  loss: 0.1262 (0.1181)  loss_classifier: 0.0371 (0.0398)  loss_box_reg: 0.0761 (0.0654)  loss_objectness: 0.0067 (0.0089)  loss_rpn_box_reg: 0.0019 (0.0041)  time: 0.1422  data: 0.0434  max mem: 4009\n",
      "Epoch: [1]  [10100/12099]  eta: 0:04:36  lr: 0.000300  loss: 0.0732 (0.1181)  loss_classifier: 0.0223 (0.0398)  loss_box_reg: 0.0411 (0.0653)  loss_objectness: 0.0022 (0.0089)  loss_rpn_box_reg: 0.0011 (0.0041)  time: 0.1593  data: 0.0502  max mem: 4009\n",
      "Epoch: [1]  [10200/12099]  eta: 0:04:22  lr: 0.000300  loss: 0.1131 (0.1181)  loss_classifier: 0.0299 (0.0398)  loss_box_reg: 0.0504 (0.0654)  loss_objectness: 0.0029 (0.0089)  loss_rpn_box_reg: 0.0010 (0.0041)  time: 0.1328  data: 0.0350  max mem: 4009\n",
      "Epoch: [1]  [10300/12099]  eta: 0:04:08  lr: 0.000300  loss: 0.1013 (0.1181)  loss_classifier: 0.0301 (0.0398)  loss_box_reg: 0.0683 (0.0654)  loss_objectness: 0.0023 (0.0089)  loss_rpn_box_reg: 0.0016 (0.0041)  time: 0.1338  data: 0.0365  max mem: 4009\n",
      "Epoch: [1]  [10400/12099]  eta: 0:03:55  lr: 0.000300  loss: 0.1165 (0.1181)  loss_classifier: 0.0376 (0.0397)  loss_box_reg: 0.0581 (0.0654)  loss_objectness: 0.0040 (0.0089)  loss_rpn_box_reg: 0.0019 (0.0041)  time: 0.1397  data: 0.0394  max mem: 4009\n",
      "Epoch: [1]  [10500/12099]  eta: 0:03:41  lr: 0.000300  loss: 0.0902 (0.1182)  loss_classifier: 0.0251 (0.0398)  loss_box_reg: 0.0534 (0.0654)  loss_objectness: 0.0036 (0.0089)  loss_rpn_box_reg: 0.0011 (0.0041)  time: 0.1319  data: 0.0354  max mem: 4009\n",
      "Epoch: [1]  [10600/12099]  eta: 0:03:27  lr: 0.000300  loss: 0.1037 (0.1182)  loss_classifier: 0.0277 (0.0398)  loss_box_reg: 0.0633 (0.0655)  loss_objectness: 0.0059 (0.0089)  loss_rpn_box_reg: 0.0017 (0.0041)  time: 0.1316  data: 0.0359  max mem: 4009\n",
      "Epoch: [1]  [10700/12099]  eta: 0:03:13  lr: 0.000300  loss: 0.1222 (0.1183)  loss_classifier: 0.0354 (0.0398)  loss_box_reg: 0.0608 (0.0655)  loss_objectness: 0.0083 (0.0089)  loss_rpn_box_reg: 0.0017 (0.0041)  time: 0.1333  data: 0.0357  max mem: 4009\n",
      "Epoch: [1]  [10800/12099]  eta: 0:02:59  lr: 0.000300  loss: 0.1075 (0.1182)  loss_classifier: 0.0252 (0.0398)  loss_box_reg: 0.0568 (0.0654)  loss_objectness: 0.0032 (0.0089)  loss_rpn_box_reg: 0.0010 (0.0041)  time: 0.1331  data: 0.0356  max mem: 4009\n"
     ]
    },
    {
     "name": "stdout",
     "output_type": "stream",
     "text": [
      "Epoch: [1]  [10900/12099]  eta: 0:02:45  lr: 0.000300  loss: 0.1024 (0.1183)  loss_classifier: 0.0309 (0.0398)  loss_box_reg: 0.0619 (0.0655)  loss_objectness: 0.0027 (0.0089)  loss_rpn_box_reg: 0.0011 (0.0041)  time: 0.1342  data: 0.0368  max mem: 4009\n",
      "Epoch: [1]  [11000/12099]  eta: 0:02:31  lr: 0.000300  loss: 0.1129 (0.1184)  loss_classifier: 0.0346 (0.0398)  loss_box_reg: 0.0666 (0.0655)  loss_objectness: 0.0049 (0.0089)  loss_rpn_box_reg: 0.0014 (0.0041)  time: 0.1254  data: 0.0335  max mem: 4009\n",
      "Epoch: [1]  [11100/12099]  eta: 0:02:17  lr: 0.000300  loss: 0.0778 (0.1183)  loss_classifier: 0.0218 (0.0398)  loss_box_reg: 0.0454 (0.0655)  loss_objectness: 0.0031 (0.0089)  loss_rpn_box_reg: 0.0012 (0.0041)  time: 0.1193  data: 0.0329  max mem: 4009\n",
      "Epoch: [1]  [11200/12099]  eta: 0:02:03  lr: 0.000300  loss: 0.1199 (0.1183)  loss_classifier: 0.0342 (0.0398)  loss_box_reg: 0.0675 (0.0655)  loss_objectness: 0.0041 (0.0089)  loss_rpn_box_reg: 0.0025 (0.0041)  time: 0.1279  data: 0.0366  max mem: 4009\n",
      "Epoch: [1]  [11300/12099]  eta: 0:01:49  lr: 0.000300  loss: 0.0876 (0.1183)  loss_classifier: 0.0258 (0.0398)  loss_box_reg: 0.0502 (0.0655)  loss_objectness: 0.0040 (0.0089)  loss_rpn_box_reg: 0.0010 (0.0041)  time: 0.1275  data: 0.0345  max mem: 4009\n",
      "Epoch: [1]  [11400/12099]  eta: 0:01:36  lr: 0.000300  loss: 0.1287 (0.1183)  loss_classifier: 0.0342 (0.0398)  loss_box_reg: 0.0706 (0.0656)  loss_objectness: 0.0049 (0.0088)  loss_rpn_box_reg: 0.0017 (0.0041)  time: 0.1232  data: 0.0339  max mem: 4009\n",
      "Epoch: [1]  [11500/12099]  eta: 0:01:22  lr: 0.000300  loss: 0.1023 (0.1184)  loss_classifier: 0.0294 (0.0398)  loss_box_reg: 0.0710 (0.0656)  loss_objectness: 0.0028 (0.0089)  loss_rpn_box_reg: 0.0015 (0.0041)  time: 0.1200  data: 0.0326  max mem: 4009\n",
      "Epoch: [1]  [11600/12099]  eta: 0:01:08  lr: 0.000300  loss: 0.1145 (0.1184)  loss_classifier: 0.0409 (0.0398)  loss_box_reg: 0.0710 (0.0656)  loss_objectness: 0.0046 (0.0089)  loss_rpn_box_reg: 0.0021 (0.0041)  time: 0.1209  data: 0.0332  max mem: 4009\n",
      "Epoch: [1]  [11700/12099]  eta: 0:00:54  lr: 0.000300  loss: 0.1220 (0.1184)  loss_classifier: 0.0332 (0.0398)  loss_box_reg: 0.0758 (0.0656)  loss_objectness: 0.0047 (0.0089)  loss_rpn_box_reg: 0.0014 (0.0041)  time: 0.1205  data: 0.0337  max mem: 4009\n",
      "Epoch: [1]  [11800/12099]  eta: 0:00:40  lr: 0.000300  loss: 0.1124 (0.1184)  loss_classifier: 0.0333 (0.0398)  loss_box_reg: 0.0647 (0.0656)  loss_objectness: 0.0045 (0.0089)  loss_rpn_box_reg: 0.0017 (0.0041)  time: 0.1211  data: 0.0344  max mem: 4009\n",
      "Epoch: [1]  [11900/12099]  eta: 0:00:27  lr: 0.000300  loss: 0.1092 (0.1185)  loss_classifier: 0.0286 (0.0398)  loss_box_reg: 0.0717 (0.0657)  loss_objectness: 0.0053 (0.0089)  loss_rpn_box_reg: 0.0014 (0.0041)  time: 0.1390  data: 0.0408  max mem: 4009\n",
      "Epoch: [1]  [12000/12099]  eta: 0:00:13  lr: 0.000300  loss: 0.0860 (0.1186)  loss_classifier: 0.0246 (0.0399)  loss_box_reg: 0.0600 (0.0657)  loss_objectness: 0.0024 (0.0089)  loss_rpn_box_reg: 0.0013 (0.0041)  time: 0.1243  data: 0.0343  max mem: 4009\n",
      "Epoch: [1]  [12098/12099]  eta: 0:00:00  lr: 0.000300  loss: 0.1177 (0.1185)  loss_classifier: 0.0333 (0.0398)  loss_box_reg: 0.0569 (0.0657)  loss_objectness: 0.0039 (0.0089)  loss_rpn_box_reg: 0.0018 (0.0041)  time: 0.1346  data: 0.0403  max mem: 4009\n",
      "Epoch: [1] Total time: 0:27:34 (0.1367 s / it)\n",
      "Epoch: [2]  [    0/12099]  eta: 0:27:55  lr: 0.000300  loss: 0.0441 (0.0441)  loss_classifier: 0.0187 (0.0187)  loss_box_reg: 0.0243 (0.0243)  loss_objectness: 0.0005 (0.0005)  loss_rpn_box_reg: 0.0006 (0.0006)  time: 0.1385  data: 0.0355  max mem: 4009\n",
      "Epoch: [2]  [  100/12099]  eta: 0:26:01  lr: 0.000300  loss: 0.0893 (0.1144)  loss_classifier: 0.0244 (0.0373)  loss_box_reg: 0.0643 (0.0650)  loss_objectness: 0.0052 (0.0080)  loss_rpn_box_reg: 0.0013 (0.0041)  time: 0.1248  data: 0.0347  max mem: 4009\n",
      "Epoch: [2]  [  200/12099]  eta: 0:25:19  lr: 0.000300  loss: 0.1018 (0.1133)  loss_classifier: 0.0301 (0.0383)  loss_box_reg: 0.0430 (0.0633)  loss_objectness: 0.0025 (0.0080)  loss_rpn_box_reg: 0.0012 (0.0037)  time: 0.1238  data: 0.0339  max mem: 4009\n",
      "Epoch: [2]  [  300/12099]  eta: 0:24:48  lr: 0.000300  loss: 0.1109 (0.1156)  loss_classifier: 0.0339 (0.0392)  loss_box_reg: 0.0659 (0.0646)  loss_objectness: 0.0034 (0.0080)  loss_rpn_box_reg: 0.0010 (0.0039)  time: 0.1183  data: 0.0312  max mem: 4009\n",
      "Epoch: [2]  [  400/12099]  eta: 0:24:23  lr: 0.000300  loss: 0.0713 (0.1145)  loss_classifier: 0.0231 (0.0385)  loss_box_reg: 0.0451 (0.0645)  loss_objectness: 0.0032 (0.0077)  loss_rpn_box_reg: 0.0011 (0.0037)  time: 0.1194  data: 0.0328  max mem: 4009\n",
      "Epoch: [2]  [  500/12099]  eta: 0:24:04  lr: 0.000300  loss: 0.0859 (0.1144)  loss_classifier: 0.0257 (0.0386)  loss_box_reg: 0.0563 (0.0641)  loss_objectness: 0.0024 (0.0078)  loss_rpn_box_reg: 0.0021 (0.0039)  time: 0.1205  data: 0.0323  max mem: 4009\n",
      "Epoch: [2]  [  600/12099]  eta: 0:23:42  lr: 0.000300  loss: 0.0964 (0.1159)  loss_classifier: 0.0255 (0.0390)  loss_box_reg: 0.0629 (0.0644)  loss_objectness: 0.0027 (0.0083)  loss_rpn_box_reg: 0.0017 (0.0042)  time: 0.1182  data: 0.0319  max mem: 4009\n",
      "Epoch: [2]  [  700/12099]  eta: 0:23:23  lr: 0.000300  loss: 0.1042 (0.1173)  loss_classifier: 0.0306 (0.0393)  loss_box_reg: 0.0616 (0.0656)  loss_objectness: 0.0045 (0.0083)  loss_rpn_box_reg: 0.0010 (0.0041)  time: 0.1199  data: 0.0329  max mem: 4009\n",
      "Epoch: [2]  [  800/12099]  eta: 0:23:13  lr: 0.000300  loss: 0.1190 (0.1160)  loss_classifier: 0.0293 (0.0388)  loss_box_reg: 0.0527 (0.0649)  loss_objectness: 0.0047 (0.0083)  loss_rpn_box_reg: 0.0012 (0.0040)  time: 0.1145  data: 0.0307  max mem: 4009\n",
      "Epoch: [2]  [  900/12099]  eta: 0:23:05  lr: 0.000300  loss: 0.1162 (0.1151)  loss_classifier: 0.0302 (0.0384)  loss_box_reg: 0.0550 (0.0643)  loss_objectness: 0.0037 (0.0083)  loss_rpn_box_reg: 0.0024 (0.0041)  time: 0.1156  data: 0.0316  max mem: 4009\n",
      "Epoch: [2]  [ 1000/12099]  eta: 0:22:43  lr: 0.000300  loss: 0.1181 (0.1147)  loss_classifier: 0.0402 (0.0381)  loss_box_reg: 0.0573 (0.0640)  loss_objectness: 0.0072 (0.0085)  loss_rpn_box_reg: 0.0038 (0.0041)  time: 0.1150  data: 0.0304  max mem: 4009\n",
      "Epoch: [2]  [ 1100/12099]  eta: 0:22:23  lr: 0.000300  loss: 0.0844 (0.1149)  loss_classifier: 0.0278 (0.0381)  loss_box_reg: 0.0465 (0.0643)  loss_objectness: 0.0034 (0.0084)  loss_rpn_box_reg: 0.0012 (0.0041)  time: 0.1155  data: 0.0306  max mem: 4009\n",
      "Epoch: [2]  [ 1200/12099]  eta: 0:22:07  lr: 0.000300  loss: 0.0963 (0.1143)  loss_classifier: 0.0254 (0.0380)  loss_box_reg: 0.0514 (0.0638)  loss_objectness: 0.0050 (0.0085)  loss_rpn_box_reg: 0.0026 (0.0040)  time: 0.1311  data: 0.0376  max mem: 4009\n",
      "Epoch: [2]  [ 1300/12099]  eta: 0:21:56  lr: 0.000300  loss: 0.0999 (0.1137)  loss_classifier: 0.0259 (0.0378)  loss_box_reg: 0.0598 (0.0636)  loss_objectness: 0.0027 (0.0083)  loss_rpn_box_reg: 0.0017 (0.0041)  time: 0.1262  data: 0.0348  max mem: 4009\n",
      "Epoch: [2]  [ 1400/12099]  eta: 0:21:47  lr: 0.000300  loss: 0.0923 (0.1143)  loss_classifier: 0.0227 (0.0379)  loss_box_reg: 0.0552 (0.0637)  loss_objectness: 0.0046 (0.0086)  loss_rpn_box_reg: 0.0019 (0.0041)  time: 0.1246  data: 0.0342  max mem: 4009\n",
      "Epoch: [2]  [ 1500/12099]  eta: 0:21:36  lr: 0.000300  loss: 0.1188 (0.1148)  loss_classifier: 0.0353 (0.0381)  loss_box_reg: 0.0799 (0.0640)  loss_objectness: 0.0021 (0.0086)  loss_rpn_box_reg: 0.0011 (0.0041)  time: 0.1195  data: 0.0335  max mem: 4009\n",
      "Epoch: [2]  [ 1600/12099]  eta: 0:21:21  lr: 0.000300  loss: 0.1035 (0.1151)  loss_classifier: 0.0255 (0.0380)  loss_box_reg: 0.0569 (0.0639)  loss_objectness: 0.0061 (0.0089)  loss_rpn_box_reg: 0.0021 (0.0042)  time: 0.1206  data: 0.0331  max mem: 4009\n",
      "Epoch: [2]  [ 1700/12099]  eta: 0:21:07  lr: 0.000300  loss: 0.1012 (0.1157)  loss_classifier: 0.0296 (0.0384)  loss_box_reg: 0.0562 (0.0641)  loss_objectness: 0.0051 (0.0090)  loss_rpn_box_reg: 0.0014 (0.0043)  time: 0.1180  data: 0.0317  max mem: 4009\n",
      "Epoch: [2]  [ 1800/12099]  eta: 0:20:53  lr: 0.000300  loss: 0.0906 (0.1159)  loss_classifier: 0.0293 (0.0386)  loss_box_reg: 0.0510 (0.0642)  loss_objectness: 0.0043 (0.0088)  loss_rpn_box_reg: 0.0021 (0.0042)  time: 0.1188  data: 0.0324  max mem: 4009\n",
      "Epoch: [2]  [ 1900/12099]  eta: 0:20:39  lr: 0.000300  loss: 0.0766 (0.1156)  loss_classifier: 0.0221 (0.0384)  loss_box_reg: 0.0481 (0.0639)  loss_objectness: 0.0038 (0.0089)  loss_rpn_box_reg: 0.0010 (0.0043)  time: 0.1168  data: 0.0307  max mem: 4009\n"
     ]
    },
    {
     "name": "stdout",
     "output_type": "stream",
     "text": [
      "Epoch: [2]  [ 2000/12099]  eta: 0:20:26  lr: 0.000300  loss: 0.1154 (0.1158)  loss_classifier: 0.0354 (0.0387)  loss_box_reg: 0.0634 (0.0640)  loss_objectness: 0.0028 (0.0089)  loss_rpn_box_reg: 0.0015 (0.0043)  time: 0.1196  data: 0.0325  max mem: 4009\n",
      "Epoch: [2]  [ 2100/12099]  eta: 0:20:13  lr: 0.000300  loss: 0.1095 (0.1161)  loss_classifier: 0.0272 (0.0387)  loss_box_reg: 0.0437 (0.0641)  loss_objectness: 0.0030 (0.0090)  loss_rpn_box_reg: 0.0010 (0.0043)  time: 0.1210  data: 0.0328  max mem: 4009\n",
      "Epoch: [2]  [ 2200/12099]  eta: 0:20:02  lr: 0.000300  loss: 0.0703 (0.1160)  loss_classifier: 0.0180 (0.0387)  loss_box_reg: 0.0400 (0.0639)  loss_objectness: 0.0022 (0.0091)  loss_rpn_box_reg: 0.0010 (0.0044)  time: 0.1180  data: 0.0322  max mem: 4009\n",
      "Epoch: [2]  [ 2300/12099]  eta: 0:19:50  lr: 0.000300  loss: 0.0951 (0.1161)  loss_classifier: 0.0295 (0.0387)  loss_box_reg: 0.0560 (0.0640)  loss_objectness: 0.0042 (0.0091)  loss_rpn_box_reg: 0.0016 (0.0043)  time: 0.1192  data: 0.0327  max mem: 4009\n",
      "Epoch: [2]  [ 2400/12099]  eta: 0:19:36  lr: 0.000300  loss: 0.1078 (0.1165)  loss_classifier: 0.0294 (0.0389)  loss_box_reg: 0.0699 (0.0641)  loss_objectness: 0.0042 (0.0091)  loss_rpn_box_reg: 0.0014 (0.0043)  time: 0.1191  data: 0.0324  max mem: 4009\n",
      "Epoch: [2]  [ 2500/12099]  eta: 0:19:23  lr: 0.000300  loss: 0.1116 (0.1172)  loss_classifier: 0.0388 (0.0394)  loss_box_reg: 0.0638 (0.0644)  loss_objectness: 0.0034 (0.0091)  loss_rpn_box_reg: 0.0011 (0.0043)  time: 0.1180  data: 0.0324  max mem: 4009\n",
      "Epoch: [2]  [ 2600/12099]  eta: 0:19:10  lr: 0.000300  loss: 0.0808 (0.1171)  loss_classifier: 0.0241 (0.0393)  loss_box_reg: 0.0568 (0.0644)  loss_objectness: 0.0047 (0.0091)  loss_rpn_box_reg: 0.0021 (0.0043)  time: 0.1193  data: 0.0330  max mem: 4009\n",
      "Epoch: [2]  [ 2700/12099]  eta: 0:18:58  lr: 0.000300  loss: 0.0831 (0.1169)  loss_classifier: 0.0276 (0.0392)  loss_box_reg: 0.0449 (0.0643)  loss_objectness: 0.0038 (0.0090)  loss_rpn_box_reg: 0.0025 (0.0043)  time: 0.1203  data: 0.0327  max mem: 4009\n",
      "Epoch: [2]  [ 2800/12099]  eta: 0:18:47  lr: 0.000300  loss: 0.0799 (0.1166)  loss_classifier: 0.0213 (0.0391)  loss_box_reg: 0.0464 (0.0642)  loss_objectness: 0.0040 (0.0090)  loss_rpn_box_reg: 0.0012 (0.0043)  time: 0.1238  data: 0.0340  max mem: 4009\n",
      "Epoch: [2]  [ 2900/12099]  eta: 0:18:36  lr: 0.000300  loss: 0.1035 (0.1163)  loss_classifier: 0.0264 (0.0389)  loss_box_reg: 0.0634 (0.0641)  loss_objectness: 0.0037 (0.0089)  loss_rpn_box_reg: 0.0008 (0.0043)  time: 0.1204  data: 0.0336  max mem: 4009\n",
      "Epoch: [2]  [ 3000/12099]  eta: 0:18:27  lr: 0.000300  loss: 0.1173 (0.1164)  loss_classifier: 0.0452 (0.0390)  loss_box_reg: 0.0552 (0.0641)  loss_objectness: 0.0086 (0.0089)  loss_rpn_box_reg: 0.0011 (0.0043)  time: 0.1273  data: 0.0360  max mem: 4009\n",
      "Epoch: [2]  [ 3100/12099]  eta: 0:18:15  lr: 0.000300  loss: 0.0943 (0.1164)  loss_classifier: 0.0266 (0.0391)  loss_box_reg: 0.0500 (0.0642)  loss_objectness: 0.0029 (0.0089)  loss_rpn_box_reg: 0.0008 (0.0043)  time: 0.1208  data: 0.0327  max mem: 4009\n",
      "Epoch: [2]  [ 3200/12099]  eta: 0:18:03  lr: 0.000300  loss: 0.0712 (0.1165)  loss_classifier: 0.0233 (0.0391)  loss_box_reg: 0.0442 (0.0642)  loss_objectness: 0.0047 (0.0089)  loss_rpn_box_reg: 0.0007 (0.0043)  time: 0.1202  data: 0.0336  max mem: 4009\n",
      "Epoch: [2]  [ 3300/12099]  eta: 0:17:49  lr: 0.000300  loss: 0.0853 (0.1166)  loss_classifier: 0.0255 (0.0391)  loss_box_reg: 0.0553 (0.0643)  loss_objectness: 0.0036 (0.0089)  loss_rpn_box_reg: 0.0013 (0.0043)  time: 0.1178  data: 0.0318  max mem: 4009\n",
      "Epoch: [2]  [ 3400/12099]  eta: 0:17:37  lr: 0.000300  loss: 0.0908 (0.1167)  loss_classifier: 0.0273 (0.0392)  loss_box_reg: 0.0489 (0.0643)  loss_objectness: 0.0034 (0.0089)  loss_rpn_box_reg: 0.0014 (0.0043)  time: 0.1219  data: 0.0341  max mem: 4009\n",
      "Epoch: [2]  [ 3500/12099]  eta: 0:17:25  lr: 0.000300  loss: 0.0951 (0.1164)  loss_classifier: 0.0229 (0.0391)  loss_box_reg: 0.0564 (0.0642)  loss_objectness: 0.0038 (0.0089)  loss_rpn_box_reg: 0.0009 (0.0042)  time: 0.1190  data: 0.0317  max mem: 4009\n",
      "Epoch: [2]  [ 3600/12099]  eta: 0:17:12  lr: 0.000300  loss: 0.1023 (0.1165)  loss_classifier: 0.0280 (0.0392)  loss_box_reg: 0.0559 (0.0642)  loss_objectness: 0.0070 (0.0089)  loss_rpn_box_reg: 0.0015 (0.0042)  time: 0.1211  data: 0.0335  max mem: 4009\n",
      "Epoch: [2]  [ 3700/12099]  eta: 0:17:03  lr: 0.000300  loss: 0.1037 (0.1167)  loss_classifier: 0.0299 (0.0393)  loss_box_reg: 0.0577 (0.0643)  loss_objectness: 0.0037 (0.0089)  loss_rpn_box_reg: 0.0024 (0.0042)  time: 0.1219  data: 0.0336  max mem: 4009\n",
      "Epoch: [2]  [ 3800/12099]  eta: 0:16:55  lr: 0.000300  loss: 0.0923 (0.1165)  loss_classifier: 0.0283 (0.0392)  loss_box_reg: 0.0535 (0.0643)  loss_objectness: 0.0031 (0.0089)  loss_rpn_box_reg: 0.0011 (0.0042)  time: 0.1464  data: 0.0474  max mem: 4009\n",
      "Epoch: [2]  [ 3900/12099]  eta: 0:16:46  lr: 0.000300  loss: 0.0919 (0.1167)  loss_classifier: 0.0310 (0.0393)  loss_box_reg: 0.0595 (0.0643)  loss_objectness: 0.0024 (0.0089)  loss_rpn_box_reg: 0.0013 (0.0042)  time: 0.1384  data: 0.0441  max mem: 4009\n",
      "Epoch: [2]  [ 4000/12099]  eta: 0:16:36  lr: 0.000300  loss: 0.0849 (0.1165)  loss_classifier: 0.0257 (0.0392)  loss_box_reg: 0.0511 (0.0642)  loss_objectness: 0.0041 (0.0088)  loss_rpn_box_reg: 0.0014 (0.0042)  time: 0.1333  data: 0.0421  max mem: 4009\n",
      "Epoch: [2]  [ 4100/12099]  eta: 0:16:30  lr: 0.000300  loss: 0.0850 (0.1164)  loss_classifier: 0.0273 (0.0392)  loss_box_reg: 0.0548 (0.0642)  loss_objectness: 0.0030 (0.0088)  loss_rpn_box_reg: 0.0019 (0.0042)  time: 0.1549  data: 0.0496  max mem: 4009\n",
      "Epoch: [2]  [ 4200/12099]  eta: 0:16:21  lr: 0.000300  loss: 0.0869 (0.1162)  loss_classifier: 0.0254 (0.0391)  loss_box_reg: 0.0596 (0.0642)  loss_objectness: 0.0018 (0.0088)  loss_rpn_box_reg: 0.0020 (0.0042)  time: 0.1315  data: 0.0410  max mem: 4009\n",
      "Epoch: [2]  [ 4300/12099]  eta: 0:16:11  lr: 0.000300  loss: 0.1083 (0.1160)  loss_classifier: 0.0363 (0.0390)  loss_box_reg: 0.0753 (0.0641)  loss_objectness: 0.0041 (0.0088)  loss_rpn_box_reg: 0.0011 (0.0042)  time: 0.1438  data: 0.0444  max mem: 4009\n",
      "Epoch: [2]  [ 4400/12099]  eta: 0:16:02  lr: 0.000300  loss: 0.1132 (0.1161)  loss_classifier: 0.0288 (0.0390)  loss_box_reg: 0.0675 (0.0641)  loss_objectness: 0.0033 (0.0088)  loss_rpn_box_reg: 0.0021 (0.0042)  time: 0.1462  data: 0.0459  max mem: 4009\n",
      "Epoch: [2]  [ 4500/12099]  eta: 0:15:51  lr: 0.000300  loss: 0.1032 (0.1162)  loss_classifier: 0.0290 (0.0390)  loss_box_reg: 0.0574 (0.0642)  loss_objectness: 0.0036 (0.0088)  loss_rpn_box_reg: 0.0016 (0.0042)  time: 0.1308  data: 0.0398  max mem: 4009\n",
      "Epoch: [2]  [ 4600/12099]  eta: 0:15:42  lr: 0.000300  loss: 0.0859 (0.1163)  loss_classifier: 0.0275 (0.0390)  loss_box_reg: 0.0597 (0.0642)  loss_objectness: 0.0038 (0.0089)  loss_rpn_box_reg: 0.0013 (0.0042)  time: 0.1512  data: 0.0479  max mem: 4009\n",
      "Epoch: [2]  [ 4700/12099]  eta: 0:15:31  lr: 0.000300  loss: 0.1125 (0.1164)  loss_classifier: 0.0337 (0.0390)  loss_box_reg: 0.0531 (0.0643)  loss_objectness: 0.0060 (0.0089)  loss_rpn_box_reg: 0.0011 (0.0042)  time: 0.1279  data: 0.0374  max mem: 4009\n",
      "Epoch: [2]  [ 4800/12099]  eta: 0:15:19  lr: 0.000300  loss: 0.1033 (0.1164)  loss_classifier: 0.0350 (0.0390)  loss_box_reg: 0.0571 (0.0643)  loss_objectness: 0.0040 (0.0089)  loss_rpn_box_reg: 0.0013 (0.0041)  time: 0.1294  data: 0.0393  max mem: 4009\n",
      "Epoch: [2]  [ 4900/12099]  eta: 0:15:07  lr: 0.000300  loss: 0.0809 (0.1163)  loss_classifier: 0.0222 (0.0390)  loss_box_reg: 0.0389 (0.0643)  loss_objectness: 0.0034 (0.0089)  loss_rpn_box_reg: 0.0013 (0.0041)  time: 0.1282  data: 0.0391  max mem: 4009\n",
      "Epoch: [2]  [ 5000/12099]  eta: 0:14:56  lr: 0.000300  loss: 0.1037 (0.1162)  loss_classifier: 0.0323 (0.0389)  loss_box_reg: 0.0590 (0.0642)  loss_objectness: 0.0031 (0.0089)  loss_rpn_box_reg: 0.0009 (0.0041)  time: 0.1420  data: 0.0478  max mem: 4009\n",
      "Epoch: [2]  [ 5100/12099]  eta: 0:14:46  lr: 0.000300  loss: 0.0892 (0.1163)  loss_classifier: 0.0238 (0.0390)  loss_box_reg: 0.0647 (0.0642)  loss_objectness: 0.0029 (0.0089)  loss_rpn_box_reg: 0.0014 (0.0041)  time: 0.1516  data: 0.0507  max mem: 4009\n",
      "Epoch: [2]  [ 5200/12099]  eta: 0:14:35  lr: 0.000300  loss: 0.0960 (0.1163)  loss_classifier: 0.0236 (0.0390)  loss_box_reg: 0.0565 (0.0643)  loss_objectness: 0.0017 (0.0089)  loss_rpn_box_reg: 0.0010 (0.0041)  time: 0.1280  data: 0.0388  max mem: 4009\n"
     ]
    },
    {
     "name": "stdout",
     "output_type": "stream",
     "text": [
      "Epoch: [2]  [ 5300/12099]  eta: 0:14:23  lr: 0.000300  loss: 0.1023 (0.1163)  loss_classifier: 0.0304 (0.0390)  loss_box_reg: 0.0560 (0.0643)  loss_objectness: 0.0042 (0.0088)  loss_rpn_box_reg: 0.0014 (0.0041)  time: 0.1331  data: 0.0412  max mem: 4009\n",
      "Epoch: [2]  [ 5400/12099]  eta: 0:14:11  lr: 0.000300  loss: 0.0999 (0.1161)  loss_classifier: 0.0301 (0.0390)  loss_box_reg: 0.0566 (0.0642)  loss_objectness: 0.0029 (0.0088)  loss_rpn_box_reg: 0.0012 (0.0041)  time: 0.1531  data: 0.0511  max mem: 4009\n",
      "Epoch: [2]  [ 5500/12099]  eta: 0:14:01  lr: 0.000300  loss: 0.0772 (0.1162)  loss_classifier: 0.0270 (0.0391)  loss_box_reg: 0.0523 (0.0642)  loss_objectness: 0.0044 (0.0088)  loss_rpn_box_reg: 0.0012 (0.0041)  time: 0.1567  data: 0.0489  max mem: 4009\n",
      "Epoch: [2]  [ 5600/12099]  eta: 0:13:51  lr: 0.000300  loss: 0.1112 (0.1162)  loss_classifier: 0.0373 (0.0390)  loss_box_reg: 0.0707 (0.0642)  loss_objectness: 0.0049 (0.0088)  loss_rpn_box_reg: 0.0021 (0.0041)  time: 0.1478  data: 0.0449  max mem: 4009\n",
      "Epoch: [2]  [ 5700/12099]  eta: 0:13:41  lr: 0.000300  loss: 0.1170 (0.1162)  loss_classifier: 0.0363 (0.0390)  loss_box_reg: 0.0686 (0.0642)  loss_objectness: 0.0049 (0.0088)  loss_rpn_box_reg: 0.0032 (0.0041)  time: 0.1569  data: 0.0531  max mem: 4009\n",
      "Epoch: [2]  [ 5800/12099]  eta: 0:13:29  lr: 0.000300  loss: 0.1056 (0.1164)  loss_classifier: 0.0341 (0.0390)  loss_box_reg: 0.0595 (0.0644)  loss_objectness: 0.0043 (0.0089)  loss_rpn_box_reg: 0.0016 (0.0041)  time: 0.1411  data: 0.0400  max mem: 4009\n",
      "Epoch: [2]  [ 5900/12099]  eta: 0:13:15  lr: 0.000300  loss: 0.0994 (0.1164)  loss_classifier: 0.0308 (0.0390)  loss_box_reg: 0.0508 (0.0643)  loss_objectness: 0.0034 (0.0089)  loss_rpn_box_reg: 0.0014 (0.0041)  time: 0.1140  data: 0.0307  max mem: 4009\n",
      "Epoch: [2]  [ 6000/12099]  eta: 0:13:01  lr: 0.000300  loss: 0.0832 (0.1164)  loss_classifier: 0.0253 (0.0391)  loss_box_reg: 0.0416 (0.0643)  loss_objectness: 0.0034 (0.0089)  loss_rpn_box_reg: 0.0010 (0.0041)  time: 0.1149  data: 0.0308  max mem: 4009\n",
      "Epoch: [2]  [ 6100/12099]  eta: 0:12:47  lr: 0.000300  loss: 0.0935 (0.1165)  loss_classifier: 0.0240 (0.0391)  loss_box_reg: 0.0486 (0.0644)  loss_objectness: 0.0024 (0.0089)  loss_rpn_box_reg: 0.0008 (0.0041)  time: 0.1142  data: 0.0308  max mem: 4009\n",
      "Epoch: [2]  [ 6200/12099]  eta: 0:12:33  lr: 0.000300  loss: 0.1152 (0.1165)  loss_classifier: 0.0278 (0.0391)  loss_box_reg: 0.0763 (0.0644)  loss_objectness: 0.0045 (0.0089)  loss_rpn_box_reg: 0.0011 (0.0041)  time: 0.1161  data: 0.0310  max mem: 4009\n",
      "Epoch: [2]  [ 6300/12099]  eta: 0:12:19  lr: 0.000300  loss: 0.1320 (0.1166)  loss_classifier: 0.0335 (0.0391)  loss_box_reg: 0.0764 (0.0644)  loss_objectness: 0.0023 (0.0089)  loss_rpn_box_reg: 0.0018 (0.0041)  time: 0.1160  data: 0.0307  max mem: 4009\n",
      "Epoch: [2]  [ 6400/12099]  eta: 0:12:05  lr: 0.000300  loss: 0.0966 (0.1165)  loss_classifier: 0.0305 (0.0390)  loss_box_reg: 0.0518 (0.0644)  loss_objectness: 0.0043 (0.0090)  loss_rpn_box_reg: 0.0019 (0.0041)  time: 0.1140  data: 0.0298  max mem: 4009\n",
      "Epoch: [2]  [ 6500/12099]  eta: 0:11:52  lr: 0.000300  loss: 0.0863 (0.1166)  loss_classifier: 0.0221 (0.0391)  loss_box_reg: 0.0632 (0.0644)  loss_objectness: 0.0021 (0.0090)  loss_rpn_box_reg: 0.0014 (0.0041)  time: 0.1217  data: 0.0338  max mem: 4009\n",
      "Epoch: [2]  [ 6600/12099]  eta: 0:11:39  lr: 0.000300  loss: 0.1032 (0.1167)  loss_classifier: 0.0279 (0.0391)  loss_box_reg: 0.0578 (0.0645)  loss_objectness: 0.0027 (0.0091)  loss_rpn_box_reg: 0.0014 (0.0041)  time: 0.1209  data: 0.0340  max mem: 4009\n",
      "Epoch: [2]  [ 6700/12099]  eta: 0:11:26  lr: 0.000300  loss: 0.1091 (0.1166)  loss_classifier: 0.0384 (0.0391)  loss_box_reg: 0.0697 (0.0645)  loss_objectness: 0.0038 (0.0090)  loss_rpn_box_reg: 0.0021 (0.0041)  time: 0.1190  data: 0.0324  max mem: 4009\n",
      "Epoch: [2]  [ 6800/12099]  eta: 0:11:12  lr: 0.000300  loss: 0.1290 (0.1168)  loss_classifier: 0.0397 (0.0391)  loss_box_reg: 0.0660 (0.0645)  loss_objectness: 0.0069 (0.0090)  loss_rpn_box_reg: 0.0015 (0.0041)  time: 0.1179  data: 0.0321  max mem: 4009\n",
      "Epoch: [2]  [ 6900/12099]  eta: 0:11:00  lr: 0.000300  loss: 0.1124 (0.1166)  loss_classifier: 0.0365 (0.0391)  loss_box_reg: 0.0532 (0.0644)  loss_objectness: 0.0049 (0.0090)  loss_rpn_box_reg: 0.0020 (0.0041)  time: 0.1404  data: 0.0423  max mem: 4009\n",
      "Epoch: [2]  [ 7000/12099]  eta: 0:10:48  lr: 0.000300  loss: 0.0970 (0.1167)  loss_classifier: 0.0298 (0.0391)  loss_box_reg: 0.0553 (0.0645)  loss_objectness: 0.0038 (0.0090)  loss_rpn_box_reg: 0.0016 (0.0041)  time: 0.1189  data: 0.0343  max mem: 4009\n",
      "Epoch: [2]  [ 7100/12099]  eta: 0:10:35  lr: 0.000300  loss: 0.0893 (0.1166)  loss_classifier: 0.0279 (0.0390)  loss_box_reg: 0.0560 (0.0645)  loss_objectness: 0.0024 (0.0090)  loss_rpn_box_reg: 0.0011 (0.0041)  time: 0.1424  data: 0.0422  max mem: 4009\n",
      "Epoch: [2]  [ 7200/12099]  eta: 0:10:23  lr: 0.000300  loss: 0.0961 (0.1165)  loss_classifier: 0.0316 (0.0389)  loss_box_reg: 0.0507 (0.0645)  loss_objectness: 0.0030 (0.0089)  loss_rpn_box_reg: 0.0015 (0.0041)  time: 0.1209  data: 0.0331  max mem: 4009\n",
      "Epoch: [2]  [ 7300/12099]  eta: 0:10:10  lr: 0.000300  loss: 0.0975 (0.1165)  loss_classifier: 0.0273 (0.0390)  loss_box_reg: 0.0660 (0.0645)  loss_objectness: 0.0023 (0.0089)  loss_rpn_box_reg: 0.0015 (0.0041)  time: 0.1197  data: 0.0326  max mem: 4009\n",
      "Epoch: [2]  [ 7400/12099]  eta: 0:09:56  lr: 0.000300  loss: 0.0886 (0.1165)  loss_classifier: 0.0281 (0.0390)  loss_box_reg: 0.0533 (0.0645)  loss_objectness: 0.0022 (0.0089)  loss_rpn_box_reg: 0.0017 (0.0041)  time: 0.1185  data: 0.0319  max mem: 4009\n",
      "Epoch: [2]  [ 7500/12099]  eta: 0:09:43  lr: 0.000300  loss: 0.1080 (0.1166)  loss_classifier: 0.0325 (0.0390)  loss_box_reg: 0.0662 (0.0646)  loss_objectness: 0.0056 (0.0089)  loss_rpn_box_reg: 0.0025 (0.0041)  time: 0.1193  data: 0.0325  max mem: 4009\n",
      "Epoch: [2]  [ 7600/12099]  eta: 0:09:30  lr: 0.000300  loss: 0.0930 (0.1166)  loss_classifier: 0.0297 (0.0390)  loss_box_reg: 0.0507 (0.0646)  loss_objectness: 0.0046 (0.0089)  loss_rpn_box_reg: 0.0010 (0.0041)  time: 0.1188  data: 0.0322  max mem: 4009\n",
      "Epoch: [2]  [ 7700/12099]  eta: 0:09:17  lr: 0.000300  loss: 0.0743 (0.1165)  loss_classifier: 0.0187 (0.0389)  loss_box_reg: 0.0537 (0.0646)  loss_objectness: 0.0034 (0.0089)  loss_rpn_box_reg: 0.0015 (0.0041)  time: 0.1158  data: 0.0313  max mem: 4009\n",
      "Epoch: [2]  [ 7800/12099]  eta: 0:09:04  lr: 0.000300  loss: 0.1029 (0.1166)  loss_classifier: 0.0274 (0.0389)  loss_box_reg: 0.0610 (0.0647)  loss_objectness: 0.0036 (0.0089)  loss_rpn_box_reg: 0.0014 (0.0041)  time: 0.1148  data: 0.0304  max mem: 4009\n",
      "Epoch: [2]  [ 7900/12099]  eta: 0:08:50  lr: 0.000300  loss: 0.1173 (0.1166)  loss_classifier: 0.0302 (0.0389)  loss_box_reg: 0.0754 (0.0647)  loss_objectness: 0.0038 (0.0089)  loss_rpn_box_reg: 0.0017 (0.0041)  time: 0.1141  data: 0.0306  max mem: 4009\n",
      "Epoch: [2]  [ 8000/12099]  eta: 0:08:37  lr: 0.000300  loss: 0.1096 (0.1166)  loss_classifier: 0.0331 (0.0389)  loss_box_reg: 0.0619 (0.0647)  loss_objectness: 0.0055 (0.0089)  loss_rpn_box_reg: 0.0023 (0.0041)  time: 0.1151  data: 0.0311  max mem: 4009\n",
      "Epoch: [2]  [ 8100/12099]  eta: 0:08:24  lr: 0.000300  loss: 0.0848 (0.1165)  loss_classifier: 0.0249 (0.0389)  loss_box_reg: 0.0395 (0.0646)  loss_objectness: 0.0044 (0.0090)  loss_rpn_box_reg: 0.0012 (0.0041)  time: 0.1148  data: 0.0300  max mem: 4009\n",
      "Epoch: [2]  [ 8200/12099]  eta: 0:08:11  lr: 0.000300  loss: 0.0914 (0.1165)  loss_classifier: 0.0247 (0.0389)  loss_box_reg: 0.0572 (0.0646)  loss_objectness: 0.0032 (0.0090)  loss_rpn_box_reg: 0.0009 (0.0041)  time: 0.1172  data: 0.0326  max mem: 4009\n",
      "Epoch: [2]  [ 8300/12099]  eta: 0:07:58  lr: 0.000300  loss: 0.1163 (0.1164)  loss_classifier: 0.0318 (0.0388)  loss_box_reg: 0.0605 (0.0646)  loss_objectness: 0.0043 (0.0090)  loss_rpn_box_reg: 0.0019 (0.0041)  time: 0.1150  data: 0.0313  max mem: 4009\n",
      "Epoch: [2]  [ 8400/12099]  eta: 0:07:45  lr: 0.000300  loss: 0.1174 (0.1164)  loss_classifier: 0.0337 (0.0388)  loss_box_reg: 0.0718 (0.0646)  loss_objectness: 0.0026 (0.0089)  loss_rpn_box_reg: 0.0016 (0.0041)  time: 0.1166  data: 0.0317  max mem: 4009\n",
      "Epoch: [2]  [ 8500/12099]  eta: 0:07:32  lr: 0.000300  loss: 0.0773 (0.1166)  loss_classifier: 0.0226 (0.0389)  loss_box_reg: 0.0435 (0.0647)  loss_objectness: 0.0042 (0.0089)  loss_rpn_box_reg: 0.0017 (0.0041)  time: 0.1139  data: 0.0311  max mem: 4009\n"
     ]
    },
    {
     "name": "stdout",
     "output_type": "stream",
     "text": [
      "Epoch: [2]  [ 8600/12099]  eta: 0:07:19  lr: 0.000300  loss: 0.0945 (0.1165)  loss_classifier: 0.0217 (0.0388)  loss_box_reg: 0.0530 (0.0646)  loss_objectness: 0.0052 (0.0089)  loss_rpn_box_reg: 0.0009 (0.0041)  time: 0.1287  data: 0.0372  max mem: 4009\n",
      "Epoch: [2]  [ 8700/12099]  eta: 0:07:06  lr: 0.000300  loss: 0.1076 (0.1165)  loss_classifier: 0.0268 (0.0388)  loss_box_reg: 0.0575 (0.0646)  loss_objectness: 0.0028 (0.0089)  loss_rpn_box_reg: 0.0020 (0.0041)  time: 0.1190  data: 0.0333  max mem: 4009\n",
      "Epoch: [2]  [ 8800/12099]  eta: 0:06:53  lr: 0.000300  loss: 0.1206 (0.1167)  loss_classifier: 0.0318 (0.0389)  loss_box_reg: 0.0637 (0.0647)  loss_objectness: 0.0038 (0.0090)  loss_rpn_box_reg: 0.0015 (0.0041)  time: 0.1226  data: 0.0336  max mem: 4009\n",
      "Epoch: [2]  [ 8900/12099]  eta: 0:06:41  lr: 0.000300  loss: 0.0846 (0.1168)  loss_classifier: 0.0232 (0.0390)  loss_box_reg: 0.0505 (0.0647)  loss_objectness: 0.0026 (0.0090)  loss_rpn_box_reg: 0.0010 (0.0041)  time: 0.1195  data: 0.0333  max mem: 4009\n",
      "Epoch: [2]  [ 9000/12099]  eta: 0:06:28  lr: 0.000300  loss: 0.1100 (0.1168)  loss_classifier: 0.0344 (0.0389)  loss_box_reg: 0.0770 (0.0647)  loss_objectness: 0.0060 (0.0090)  loss_rpn_box_reg: 0.0023 (0.0041)  time: 0.1157  data: 0.0322  max mem: 4009\n",
      "Epoch: [2]  [ 9100/12099]  eta: 0:06:15  lr: 0.000300  loss: 0.0745 (0.1167)  loss_classifier: 0.0204 (0.0389)  loss_box_reg: 0.0442 (0.0647)  loss_objectness: 0.0035 (0.0090)  loss_rpn_box_reg: 0.0014 (0.0041)  time: 0.1137  data: 0.0301  max mem: 4009\n",
      "Epoch: [2]  [ 9200/12099]  eta: 0:06:03  lr: 0.000300  loss: 0.1152 (0.1166)  loss_classifier: 0.0332 (0.0389)  loss_box_reg: 0.0743 (0.0647)  loss_objectness: 0.0036 (0.0089)  loss_rpn_box_reg: 0.0021 (0.0041)  time: 0.1171  data: 0.0324  max mem: 4009\n",
      "Epoch: [2]  [ 9300/12099]  eta: 0:05:50  lr: 0.000300  loss: 0.1197 (0.1166)  loss_classifier: 0.0280 (0.0388)  loss_box_reg: 0.0754 (0.0647)  loss_objectness: 0.0041 (0.0090)  loss_rpn_box_reg: 0.0019 (0.0041)  time: 0.1148  data: 0.0310  max mem: 4009\n",
      "Epoch: [2]  [ 9400/12099]  eta: 0:05:37  lr: 0.000300  loss: 0.0805 (0.1166)  loss_classifier: 0.0228 (0.0388)  loss_box_reg: 0.0496 (0.0647)  loss_objectness: 0.0046 (0.0090)  loss_rpn_box_reg: 0.0017 (0.0041)  time: 0.1153  data: 0.0312  max mem: 4009\n",
      "Epoch: [2]  [ 9500/12099]  eta: 0:05:24  lr: 0.000300  loss: 0.0915 (0.1165)  loss_classifier: 0.0218 (0.0388)  loss_box_reg: 0.0452 (0.0647)  loss_objectness: 0.0046 (0.0090)  loss_rpn_box_reg: 0.0013 (0.0041)  time: 0.1245  data: 0.0367  max mem: 4009\n",
      "Epoch: [2]  [ 9600/12099]  eta: 0:05:11  lr: 0.000300  loss: 0.0854 (0.1165)  loss_classifier: 0.0353 (0.0388)  loss_box_reg: 0.0494 (0.0646)  loss_objectness: 0.0041 (0.0090)  loss_rpn_box_reg: 0.0011 (0.0041)  time: 0.1148  data: 0.0303  max mem: 4009\n",
      "Epoch: [2]  [ 9700/12099]  eta: 0:04:59  lr: 0.000300  loss: 0.1204 (0.1164)  loss_classifier: 0.0332 (0.0387)  loss_box_reg: 0.0694 (0.0646)  loss_objectness: 0.0048 (0.0090)  loss_rpn_box_reg: 0.0013 (0.0041)  time: 0.1257  data: 0.0350  max mem: 4009\n",
      "Epoch: [2]  [ 9800/12099]  eta: 0:04:46  lr: 0.000300  loss: 0.0741 (0.1164)  loss_classifier: 0.0254 (0.0387)  loss_box_reg: 0.0480 (0.0646)  loss_objectness: 0.0019 (0.0090)  loss_rpn_box_reg: 0.0014 (0.0041)  time: 0.1218  data: 0.0357  max mem: 4009\n",
      "Epoch: [2]  [ 9900/12099]  eta: 0:04:34  lr: 0.000300  loss: 0.1033 (0.1165)  loss_classifier: 0.0349 (0.0388)  loss_box_reg: 0.0640 (0.0646)  loss_objectness: 0.0032 (0.0090)  loss_rpn_box_reg: 0.0018 (0.0041)  time: 0.1305  data: 0.0383  max mem: 4009\n",
      "Epoch: [2]  [10000/12099]  eta: 0:04:21  lr: 0.000300  loss: 0.1064 (0.1164)  loss_classifier: 0.0273 (0.0387)  loss_box_reg: 0.0549 (0.0645)  loss_objectness: 0.0043 (0.0090)  loss_rpn_box_reg: 0.0013 (0.0041)  time: 0.1200  data: 0.0345  max mem: 4009\n",
      "Epoch: [2]  [10100/12099]  eta: 0:04:09  lr: 0.000300  loss: 0.1088 (0.1165)  loss_classifier: 0.0317 (0.0388)  loss_box_reg: 0.0616 (0.0646)  loss_objectness: 0.0060 (0.0090)  loss_rpn_box_reg: 0.0018 (0.0041)  time: 0.1201  data: 0.0320  max mem: 4009\n",
      "Epoch: [2]  [10200/12099]  eta: 0:03:56  lr: 0.000300  loss: 0.1222 (0.1166)  loss_classifier: 0.0346 (0.0388)  loss_box_reg: 0.0660 (0.0647)  loss_objectness: 0.0043 (0.0090)  loss_rpn_box_reg: 0.0017 (0.0041)  time: 0.1169  data: 0.0312  max mem: 4009\n",
      "Epoch: [2]  [10300/12099]  eta: 0:03:44  lr: 0.000300  loss: 0.0818 (0.1166)  loss_classifier: 0.0260 (0.0387)  loss_box_reg: 0.0629 (0.0647)  loss_objectness: 0.0027 (0.0090)  loss_rpn_box_reg: 0.0022 (0.0041)  time: 0.1147  data: 0.0308  max mem: 4009\n",
      "Epoch: [2]  [10400/12099]  eta: 0:03:31  lr: 0.000300  loss: 0.0890 (0.1166)  loss_classifier: 0.0245 (0.0387)  loss_box_reg: 0.0559 (0.0648)  loss_objectness: 0.0036 (0.0090)  loss_rpn_box_reg: 0.0018 (0.0041)  time: 0.1141  data: 0.0307  max mem: 4009\n",
      "Epoch: [2]  [10500/12099]  eta: 0:03:19  lr: 0.000300  loss: 0.0876 (0.1166)  loss_classifier: 0.0270 (0.0387)  loss_box_reg: 0.0547 (0.0648)  loss_objectness: 0.0022 (0.0090)  loss_rpn_box_reg: 0.0011 (0.0041)  time: 0.1169  data: 0.0320  max mem: 4009\n",
      "Epoch: [2]  [10600/12099]  eta: 0:03:06  lr: 0.000300  loss: 0.0774 (0.1167)  loss_classifier: 0.0255 (0.0388)  loss_box_reg: 0.0453 (0.0648)  loss_objectness: 0.0030 (0.0090)  loss_rpn_box_reg: 0.0017 (0.0041)  time: 0.1228  data: 0.0366  max mem: 4009\n",
      "Epoch: [2]  [10700/12099]  eta: 0:02:54  lr: 0.000300  loss: 0.1076 (0.1166)  loss_classifier: 0.0313 (0.0388)  loss_box_reg: 0.0585 (0.0647)  loss_objectness: 0.0031 (0.0090)  loss_rpn_box_reg: 0.0022 (0.0041)  time: 0.1148  data: 0.0305  max mem: 4009\n",
      "Epoch: [2]  [10800/12099]  eta: 0:02:41  lr: 0.000300  loss: 0.0825 (0.1167)  loss_classifier: 0.0196 (0.0388)  loss_box_reg: 0.0426 (0.0648)  loss_objectness: 0.0040 (0.0090)  loss_rpn_box_reg: 0.0021 (0.0041)  time: 0.1180  data: 0.0316  max mem: 4009\n",
      "Epoch: [2]  [10900/12099]  eta: 0:02:29  lr: 0.000300  loss: 0.1161 (0.1166)  loss_classifier: 0.0292 (0.0388)  loss_box_reg: 0.0623 (0.0647)  loss_objectness: 0.0046 (0.0090)  loss_rpn_box_reg: 0.0010 (0.0041)  time: 0.1152  data: 0.0315  max mem: 4009\n",
      "Epoch: [2]  [11000/12099]  eta: 0:02:16  lr: 0.000300  loss: 0.1000 (0.1166)  loss_classifier: 0.0291 (0.0388)  loss_box_reg: 0.0466 (0.0647)  loss_objectness: 0.0042 (0.0090)  loss_rpn_box_reg: 0.0021 (0.0041)  time: 0.1144  data: 0.0302  max mem: 4009\n",
      "Epoch: [2]  [11100/12099]  eta: 0:02:04  lr: 0.000300  loss: 0.1038 (0.1166)  loss_classifier: 0.0309 (0.0388)  loss_box_reg: 0.0586 (0.0647)  loss_objectness: 0.0043 (0.0090)  loss_rpn_box_reg: 0.0013 (0.0041)  time: 0.1268  data: 0.0353  max mem: 4009\n",
      "Epoch: [2]  [11200/12099]  eta: 0:01:51  lr: 0.000300  loss: 0.0894 (0.1165)  loss_classifier: 0.0245 (0.0388)  loss_box_reg: 0.0402 (0.0646)  loss_objectness: 0.0057 (0.0090)  loss_rpn_box_reg: 0.0015 (0.0041)  time: 0.1134  data: 0.0302  max mem: 4009\n",
      "Epoch: [2]  [11300/12099]  eta: 0:01:39  lr: 0.000300  loss: 0.1225 (0.1164)  loss_classifier: 0.0337 (0.0387)  loss_box_reg: 0.0691 (0.0646)  loss_objectness: 0.0039 (0.0090)  loss_rpn_box_reg: 0.0020 (0.0041)  time: 0.1147  data: 0.0309  max mem: 4009\n",
      "Epoch: [2]  [11400/12099]  eta: 0:01:26  lr: 0.000300  loss: 0.1023 (0.1165)  loss_classifier: 0.0332 (0.0387)  loss_box_reg: 0.0578 (0.0646)  loss_objectness: 0.0048 (0.0090)  loss_rpn_box_reg: 0.0009 (0.0041)  time: 0.1149  data: 0.0312  max mem: 4009\n",
      "Epoch: [2]  [11500/12099]  eta: 0:01:14  lr: 0.000300  loss: 0.1131 (0.1165)  loss_classifier: 0.0273 (0.0388)  loss_box_reg: 0.0638 (0.0646)  loss_objectness: 0.0025 (0.0090)  loss_rpn_box_reg: 0.0020 (0.0041)  time: 0.1144  data: 0.0308  max mem: 4009\n",
      "Epoch: [2]  [11600/12099]  eta: 0:01:01  lr: 0.000300  loss: 0.0868 (0.1165)  loss_classifier: 0.0229 (0.0388)  loss_box_reg: 0.0549 (0.0646)  loss_objectness: 0.0025 (0.0090)  loss_rpn_box_reg: 0.0014 (0.0041)  time: 0.1146  data: 0.0316  max mem: 4009\n",
      "Epoch: [2]  [11700/12099]  eta: 0:00:49  lr: 0.000300  loss: 0.1240 (0.1166)  loss_classifier: 0.0378 (0.0388)  loss_box_reg: 0.0746 (0.0647)  loss_objectness: 0.0044 (0.0090)  loss_rpn_box_reg: 0.0019 (0.0041)  time: 0.1130  data: 0.0302  max mem: 4009\n",
      "Epoch: [2]  [11800/12099]  eta: 0:00:37  lr: 0.000300  loss: 0.1110 (0.1166)  loss_classifier: 0.0340 (0.0388)  loss_box_reg: 0.0587 (0.0647)  loss_objectness: 0.0055 (0.0090)  loss_rpn_box_reg: 0.0013 (0.0041)  time: 0.1147  data: 0.0311  max mem: 4009\n"
     ]
    },
    {
     "name": "stdout",
     "output_type": "stream",
     "text": [
      "Epoch: [2]  [11900/12099]  eta: 0:00:24  lr: 0.000300  loss: 0.0836 (0.1166)  loss_classifier: 0.0238 (0.0388)  loss_box_reg: 0.0448 (0.0647)  loss_objectness: 0.0034 (0.0090)  loss_rpn_box_reg: 0.0016 (0.0041)  time: 0.1145  data: 0.0311  max mem: 4009\n",
      "Epoch: [2]  [12000/12099]  eta: 0:00:12  lr: 0.000300  loss: 0.0983 (0.1166)  loss_classifier: 0.0315 (0.0388)  loss_box_reg: 0.0532 (0.0647)  loss_objectness: 0.0033 (0.0090)  loss_rpn_box_reg: 0.0020 (0.0041)  time: 0.1161  data: 0.0316  max mem: 4009\n",
      "Epoch: [2]  [12098/12099]  eta: 0:00:00  lr: 0.000300  loss: 0.1036 (0.1166)  loss_classifier: 0.0287 (0.0388)  loss_box_reg: 0.0502 (0.0647)  loss_objectness: 0.0055 (0.0090)  loss_rpn_box_reg: 0.0010 (0.0041)  time: 0.1140  data: 0.0293  max mem: 4009\n",
      "Epoch: [2] Total time: 0:24:55 (0.1236 s / it)\n",
      "Epoch: [3]  [    0/12099]  eta: 0:22:22  lr: 0.000300  loss: 0.1291 (0.1291)  loss_classifier: 0.0259 (0.0259)  loss_box_reg: 0.0968 (0.0968)  loss_objectness: 0.0040 (0.0040)  loss_rpn_box_reg: 0.0023 (0.0023)  time: 0.1110  data: 0.0270  max mem: 4009\n",
      "Epoch: [3]  [  100/12099]  eta: 0:22:55  lr: 0.000300  loss: 0.1135 (0.1135)  loss_classifier: 0.0286 (0.0395)  loss_box_reg: 0.0670 (0.0608)  loss_objectness: 0.0028 (0.0090)  loss_rpn_box_reg: 0.0019 (0.0042)  time: 0.1153  data: 0.0304  max mem: 4009\n",
      "Epoch: [3]  [  200/12099]  eta: 0:22:42  lr: 0.000300  loss: 0.1238 (0.1129)  loss_classifier: 0.0374 (0.0385)  loss_box_reg: 0.0551 (0.0618)  loss_objectness: 0.0046 (0.0080)  loss_rpn_box_reg: 0.0019 (0.0046)  time: 0.1135  data: 0.0301  max mem: 4009\n",
      "Epoch: [3]  [  300/12099]  eta: 0:22:33  lr: 0.000300  loss: 0.0915 (0.1134)  loss_classifier: 0.0261 (0.0388)  loss_box_reg: 0.0569 (0.0629)  loss_objectness: 0.0037 (0.0073)  loss_rpn_box_reg: 0.0010 (0.0044)  time: 0.1158  data: 0.0326  max mem: 4009\n",
      "Epoch: [3]  [  400/12099]  eta: 0:22:20  lr: 0.000300  loss: 0.0938 (0.1118)  loss_classifier: 0.0310 (0.0378)  loss_box_reg: 0.0404 (0.0619)  loss_objectness: 0.0028 (0.0079)  loss_rpn_box_reg: 0.0012 (0.0042)  time: 0.1144  data: 0.0308  max mem: 4009\n",
      "Epoch: [3]  [  500/12099]  eta: 0:22:10  lr: 0.000300  loss: 0.0953 (0.1095)  loss_classifier: 0.0254 (0.0370)  loss_box_reg: 0.0561 (0.0607)  loss_objectness: 0.0025 (0.0075)  loss_rpn_box_reg: 0.0011 (0.0043)  time: 0.1150  data: 0.0309  max mem: 4009\n",
      "Epoch: [3]  [  600/12099]  eta: 0:21:57  lr: 0.000300  loss: 0.0990 (0.1118)  loss_classifier: 0.0311 (0.0378)  loss_box_reg: 0.0585 (0.0616)  loss_objectness: 0.0039 (0.0080)  loss_rpn_box_reg: 0.0020 (0.0044)  time: 0.1156  data: 0.0308  max mem: 4009\n",
      "Epoch: [3]  [  700/12099]  eta: 0:21:45  lr: 0.000300  loss: 0.1157 (0.1141)  loss_classifier: 0.0343 (0.0381)  loss_box_reg: 0.0572 (0.0623)  loss_objectness: 0.0059 (0.0092)  loss_rpn_box_reg: 0.0024 (0.0045)  time: 0.1135  data: 0.0297  max mem: 4009\n",
      "Epoch: [3]  [  800/12099]  eta: 0:21:41  lr: 0.000300  loss: 0.1061 (0.1143)  loss_classifier: 0.0290 (0.0380)  loss_box_reg: 0.0582 (0.0630)  loss_objectness: 0.0051 (0.0090)  loss_rpn_box_reg: 0.0015 (0.0043)  time: 0.1165  data: 0.0314  max mem: 4009\n",
      "Epoch: [3]  [  900/12099]  eta: 0:21:46  lr: 0.000300  loss: 0.1195 (0.1151)  loss_classifier: 0.0386 (0.0384)  loss_box_reg: 0.0688 (0.0634)  loss_objectness: 0.0085 (0.0090)  loss_rpn_box_reg: 0.0014 (0.0043)  time: 0.1357  data: 0.0379  max mem: 4009\n",
      "Epoch: [3]  [ 1000/12099]  eta: 0:21:42  lr: 0.000300  loss: 0.0977 (0.1153)  loss_classifier: 0.0308 (0.0388)  loss_box_reg: 0.0501 (0.0636)  loss_objectness: 0.0029 (0.0088)  loss_rpn_box_reg: 0.0012 (0.0041)  time: 0.1161  data: 0.0303  max mem: 4009\n",
      "Epoch: [3]  [ 1100/12099]  eta: 0:21:33  lr: 0.000300  loss: 0.0976 (0.1150)  loss_classifier: 0.0333 (0.0387)  loss_box_reg: 0.0559 (0.0634)  loss_objectness: 0.0036 (0.0089)  loss_rpn_box_reg: 0.0008 (0.0041)  time: 0.1197  data: 0.0338  max mem: 4009\n",
      "Epoch: [3]  [ 1200/12099]  eta: 0:21:20  lr: 0.000300  loss: 0.0859 (0.1151)  loss_classifier: 0.0321 (0.0386)  loss_box_reg: 0.0456 (0.0637)  loss_objectness: 0.0033 (0.0087)  loss_rpn_box_reg: 0.0012 (0.0041)  time: 0.1134  data: 0.0296  max mem: 4009\n",
      "Epoch: [3]  [ 1300/12099]  eta: 0:21:09  lr: 0.000300  loss: 0.0769 (0.1148)  loss_classifier: 0.0227 (0.0387)  loss_box_reg: 0.0438 (0.0634)  loss_objectness: 0.0021 (0.0086)  loss_rpn_box_reg: 0.0010 (0.0040)  time: 0.1222  data: 0.0337  max mem: 4009\n",
      "Epoch: [3]  [ 1400/12099]  eta: 0:21:00  lr: 0.000300  loss: 0.0739 (0.1143)  loss_classifier: 0.0234 (0.0384)  loss_box_reg: 0.0495 (0.0634)  loss_objectness: 0.0036 (0.0085)  loss_rpn_box_reg: 0.0011 (0.0039)  time: 0.1173  data: 0.0327  max mem: 4009\n",
      "Epoch: [3]  [ 1500/12099]  eta: 0:20:46  lr: 0.000300  loss: 0.1206 (0.1150)  loss_classifier: 0.0341 (0.0387)  loss_box_reg: 0.0477 (0.0636)  loss_objectness: 0.0024 (0.0086)  loss_rpn_box_reg: 0.0014 (0.0040)  time: 0.1133  data: 0.0305  max mem: 4009\n",
      "Epoch: [3]  [ 1600/12099]  eta: 0:20:33  lr: 0.000300  loss: 0.0994 (0.1146)  loss_classifier: 0.0315 (0.0384)  loss_box_reg: 0.0511 (0.0637)  loss_objectness: 0.0037 (0.0085)  loss_rpn_box_reg: 0.0013 (0.0040)  time: 0.1146  data: 0.0311  max mem: 4009\n",
      "Epoch: [3]  [ 1700/12099]  eta: 0:20:19  lr: 0.000300  loss: 0.0911 (0.1151)  loss_classifier: 0.0258 (0.0385)  loss_box_reg: 0.0609 (0.0640)  loss_objectness: 0.0021 (0.0086)  loss_rpn_box_reg: 0.0016 (0.0040)  time: 0.1161  data: 0.0306  max mem: 4009\n",
      "Epoch: [3]  [ 1800/12099]  eta: 0:20:09  lr: 0.000300  loss: 0.0891 (0.1150)  loss_classifier: 0.0297 (0.0384)  loss_box_reg: 0.0522 (0.0640)  loss_objectness: 0.0023 (0.0085)  loss_rpn_box_reg: 0.0012 (0.0040)  time: 0.1206  data: 0.0331  max mem: 4009\n",
      "Epoch: [3]  [ 1900/12099]  eta: 0:19:59  lr: 0.000300  loss: 0.0892 (0.1155)  loss_classifier: 0.0292 (0.0385)  loss_box_reg: 0.0556 (0.0644)  loss_objectness: 0.0040 (0.0086)  loss_rpn_box_reg: 0.0014 (0.0040)  time: 0.1152  data: 0.0312  max mem: 4009\n",
      "Epoch: [3]  [ 2000/12099]  eta: 0:19:46  lr: 0.000300  loss: 0.1302 (0.1159)  loss_classifier: 0.0344 (0.0386)  loss_box_reg: 0.0751 (0.0646)  loss_objectness: 0.0079 (0.0087)  loss_rpn_box_reg: 0.0016 (0.0040)  time: 0.1216  data: 0.0334  max mem: 4009\n",
      "Epoch: [3]  [ 2100/12099]  eta: 0:19:39  lr: 0.000300  loss: 0.0947 (0.1159)  loss_classifier: 0.0266 (0.0386)  loss_box_reg: 0.0495 (0.0646)  loss_objectness: 0.0032 (0.0087)  loss_rpn_box_reg: 0.0014 (0.0040)  time: 0.1323  data: 0.0423  max mem: 4009\n",
      "Epoch: [3]  [ 2200/12099]  eta: 0:19:28  lr: 0.000300  loss: 0.0874 (0.1162)  loss_classifier: 0.0267 (0.0386)  loss_box_reg: 0.0418 (0.0647)  loss_objectness: 0.0033 (0.0088)  loss_rpn_box_reg: 0.0013 (0.0040)  time: 0.1166  data: 0.0319  max mem: 4009\n",
      "Epoch: [3]  [ 2300/12099]  eta: 0:19:18  lr: 0.000300  loss: 0.1481 (0.1162)  loss_classifier: 0.0528 (0.0386)  loss_box_reg: 0.0778 (0.0648)  loss_objectness: 0.0076 (0.0087)  loss_rpn_box_reg: 0.0025 (0.0040)  time: 0.1188  data: 0.0328  max mem: 4009\n",
      "Epoch: [3]  [ 2400/12099]  eta: 0:19:07  lr: 0.000300  loss: 0.0944 (0.1160)  loss_classifier: 0.0272 (0.0384)  loss_box_reg: 0.0568 (0.0647)  loss_objectness: 0.0032 (0.0088)  loss_rpn_box_reg: 0.0015 (0.0041)  time: 0.1211  data: 0.0334  max mem: 4009\n",
      "Epoch: [3]  [ 2500/12099]  eta: 0:18:56  lr: 0.000300  loss: 0.1063 (0.1162)  loss_classifier: 0.0321 (0.0386)  loss_box_reg: 0.0630 (0.0647)  loss_objectness: 0.0038 (0.0089)  loss_rpn_box_reg: 0.0012 (0.0041)  time: 0.1228  data: 0.0348  max mem: 4009\n",
      "Epoch: [3]  [ 2600/12099]  eta: 0:18:43  lr: 0.000300  loss: 0.1313 (0.1163)  loss_classifier: 0.0432 (0.0387)  loss_box_reg: 0.0731 (0.0648)  loss_objectness: 0.0043 (0.0088)  loss_rpn_box_reg: 0.0014 (0.0041)  time: 0.1143  data: 0.0308  max mem: 4009\n",
      "Epoch: [3]  [ 2700/12099]  eta: 0:18:30  lr: 0.000300  loss: 0.1179 (0.1167)  loss_classifier: 0.0370 (0.0388)  loss_box_reg: 0.0677 (0.0650)  loss_objectness: 0.0055 (0.0088)  loss_rpn_box_reg: 0.0016 (0.0041)  time: 0.1152  data: 0.0307  max mem: 4009\n",
      "Epoch: [3]  [ 2800/12099]  eta: 0:18:18  lr: 0.000300  loss: 0.1132 (0.1168)  loss_classifier: 0.0377 (0.0388)  loss_box_reg: 0.0677 (0.0651)  loss_objectness: 0.0027 (0.0088)  loss_rpn_box_reg: 0.0015 (0.0041)  time: 0.1241  data: 0.0362  max mem: 4009\n",
      "Epoch: [3]  [ 2900/12099]  eta: 0:18:09  lr: 0.000300  loss: 0.0767 (0.1166)  loss_classifier: 0.0198 (0.0387)  loss_box_reg: 0.0439 (0.0650)  loss_objectness: 0.0032 (0.0088)  loss_rpn_box_reg: 0.0010 (0.0041)  time: 0.1224  data: 0.0343  max mem: 4009\n"
     ]
    },
    {
     "name": "stdout",
     "output_type": "stream",
     "text": [
      "Epoch: [3]  [ 3000/12099]  eta: 0:17:58  lr: 0.000300  loss: 0.0898 (0.1168)  loss_classifier: 0.0241 (0.0387)  loss_box_reg: 0.0512 (0.0650)  loss_objectness: 0.0032 (0.0090)  loss_rpn_box_reg: 0.0008 (0.0041)  time: 0.1175  data: 0.0313  max mem: 4009\n",
      "Epoch: [3]  [ 3100/12099]  eta: 0:17:47  lr: 0.000300  loss: 0.0959 (0.1166)  loss_classifier: 0.0225 (0.0387)  loss_box_reg: 0.0609 (0.0649)  loss_objectness: 0.0041 (0.0089)  loss_rpn_box_reg: 0.0013 (0.0041)  time: 0.1196  data: 0.0343  max mem: 4009\n",
      "Epoch: [3]  [ 3200/12099]  eta: 0:17:35  lr: 0.000300  loss: 0.1148 (0.1164)  loss_classifier: 0.0303 (0.0386)  loss_box_reg: 0.0674 (0.0650)  loss_objectness: 0.0030 (0.0088)  loss_rpn_box_reg: 0.0014 (0.0040)  time: 0.1163  data: 0.0314  max mem: 4009\n",
      "Epoch: [3]  [ 3300/12099]  eta: 0:17:23  lr: 0.000300  loss: 0.0720 (0.1163)  loss_classifier: 0.0216 (0.0386)  loss_box_reg: 0.0431 (0.0649)  loss_objectness: 0.0027 (0.0088)  loss_rpn_box_reg: 0.0014 (0.0040)  time: 0.1145  data: 0.0314  max mem: 4009\n",
      "Epoch: [3]  [ 3400/12099]  eta: 0:17:10  lr: 0.000300  loss: 0.1030 (0.1162)  loss_classifier: 0.0268 (0.0385)  loss_box_reg: 0.0492 (0.0648)  loss_objectness: 0.0045 (0.0088)  loss_rpn_box_reg: 0.0018 (0.0040)  time: 0.1143  data: 0.0298  max mem: 4009\n",
      "Epoch: [3]  [ 3500/12099]  eta: 0:16:58  lr: 0.000300  loss: 0.0962 (0.1160)  loss_classifier: 0.0292 (0.0384)  loss_box_reg: 0.0610 (0.0647)  loss_objectness: 0.0037 (0.0088)  loss_rpn_box_reg: 0.0013 (0.0041)  time: 0.1130  data: 0.0298  max mem: 4009\n",
      "Epoch: [3]  [ 3600/12099]  eta: 0:16:46  lr: 0.000300  loss: 0.1106 (0.1160)  loss_classifier: 0.0335 (0.0385)  loss_box_reg: 0.0662 (0.0647)  loss_objectness: 0.0024 (0.0087)  loss_rpn_box_reg: 0.0015 (0.0041)  time: 0.1236  data: 0.0350  max mem: 4009\n",
      "Epoch: [3]  [ 3700/12099]  eta: 0:16:35  lr: 0.000300  loss: 0.0698 (0.1159)  loss_classifier: 0.0278 (0.0385)  loss_box_reg: 0.0446 (0.0646)  loss_objectness: 0.0022 (0.0088)  loss_rpn_box_reg: 0.0013 (0.0041)  time: 0.1226  data: 0.0328  max mem: 4009\n",
      "Epoch: [3]  [ 3800/12099]  eta: 0:16:24  lr: 0.000300  loss: 0.0760 (0.1156)  loss_classifier: 0.0255 (0.0383)  loss_box_reg: 0.0488 (0.0645)  loss_objectness: 0.0042 (0.0087)  loss_rpn_box_reg: 0.0010 (0.0041)  time: 0.1216  data: 0.0335  max mem: 4009\n",
      "Epoch: [3]  [ 3900/12099]  eta: 0:16:12  lr: 0.000300  loss: 0.1114 (0.1153)  loss_classifier: 0.0318 (0.0382)  loss_box_reg: 0.0720 (0.0645)  loss_objectness: 0.0022 (0.0086)  loss_rpn_box_reg: 0.0015 (0.0041)  time: 0.1240  data: 0.0356  max mem: 4009\n",
      "Epoch: [3]  [ 4000/12099]  eta: 0:16:01  lr: 0.000300  loss: 0.1118 (0.1156)  loss_classifier: 0.0293 (0.0383)  loss_box_reg: 0.0564 (0.0645)  loss_objectness: 0.0037 (0.0087)  loss_rpn_box_reg: 0.0016 (0.0040)  time: 0.1200  data: 0.0333  max mem: 4009\n",
      "Epoch: [3]  [ 4100/12099]  eta: 0:15:49  lr: 0.000300  loss: 0.0823 (0.1152)  loss_classifier: 0.0257 (0.0382)  loss_box_reg: 0.0463 (0.0644)  loss_objectness: 0.0039 (0.0086)  loss_rpn_box_reg: 0.0012 (0.0040)  time: 0.1167  data: 0.0306  max mem: 4009\n",
      "Epoch: [3]  [ 4200/12099]  eta: 0:15:37  lr: 0.000300  loss: 0.0702 (0.1153)  loss_classifier: 0.0200 (0.0381)  loss_box_reg: 0.0404 (0.0644)  loss_objectness: 0.0033 (0.0088)  loss_rpn_box_reg: 0.0016 (0.0040)  time: 0.1155  data: 0.0309  max mem: 4009\n",
      "Epoch: [3]  [ 4300/12099]  eta: 0:15:25  lr: 0.000300  loss: 0.1029 (0.1153)  loss_classifier: 0.0211 (0.0381)  loss_box_reg: 0.0583 (0.0643)  loss_objectness: 0.0032 (0.0088)  loss_rpn_box_reg: 0.0017 (0.0040)  time: 0.1178  data: 0.0321  max mem: 4009\n",
      "Epoch: [3]  [ 4400/12099]  eta: 0:15:13  lr: 0.000300  loss: 0.0902 (0.1154)  loss_classifier: 0.0280 (0.0382)  loss_box_reg: 0.0539 (0.0644)  loss_objectness: 0.0031 (0.0088)  loss_rpn_box_reg: 0.0012 (0.0041)  time: 0.1186  data: 0.0330  max mem: 4009\n",
      "Epoch: [3]  [ 4500/12099]  eta: 0:15:02  lr: 0.000300  loss: 0.0890 (0.1155)  loss_classifier: 0.0259 (0.0383)  loss_box_reg: 0.0471 (0.0644)  loss_objectness: 0.0031 (0.0088)  loss_rpn_box_reg: 0.0010 (0.0041)  time: 0.1355  data: 0.0397  max mem: 4009\n",
      "Epoch: [3]  [ 4600/12099]  eta: 0:14:51  lr: 0.000300  loss: 0.1115 (0.1153)  loss_classifier: 0.0287 (0.0382)  loss_box_reg: 0.0558 (0.0643)  loss_objectness: 0.0031 (0.0088)  loss_rpn_box_reg: 0.0014 (0.0040)  time: 0.1265  data: 0.0359  max mem: 4009\n",
      "Epoch: [3]  [ 4700/12099]  eta: 0:14:41  lr: 0.000300  loss: 0.0882 (0.1153)  loss_classifier: 0.0241 (0.0382)  loss_box_reg: 0.0565 (0.0642)  loss_objectness: 0.0037 (0.0088)  loss_rpn_box_reg: 0.0021 (0.0041)  time: 0.1215  data: 0.0333  max mem: 4009\n",
      "Epoch: [3]  [ 4800/12099]  eta: 0:14:29  lr: 0.000300  loss: 0.0817 (0.1152)  loss_classifier: 0.0265 (0.0382)  loss_box_reg: 0.0483 (0.0641)  loss_objectness: 0.0038 (0.0088)  loss_rpn_box_reg: 0.0012 (0.0041)  time: 0.1224  data: 0.0330  max mem: 4009\n",
      "Epoch: [3]  [ 4900/12099]  eta: 0:14:18  lr: 0.000300  loss: 0.0734 (0.1151)  loss_classifier: 0.0260 (0.0382)  loss_box_reg: 0.0445 (0.0641)  loss_objectness: 0.0037 (0.0088)  loss_rpn_box_reg: 0.0019 (0.0041)  time: 0.1216  data: 0.0342  max mem: 4009\n",
      "Epoch: [3]  [ 5000/12099]  eta: 0:14:06  lr: 0.000300  loss: 0.1009 (0.1152)  loss_classifier: 0.0318 (0.0382)  loss_box_reg: 0.0546 (0.0641)  loss_objectness: 0.0028 (0.0088)  loss_rpn_box_reg: 0.0015 (0.0041)  time: 0.1177  data: 0.0325  max mem: 4009\n",
      "Epoch: [3]  [ 5100/12099]  eta: 0:13:54  lr: 0.000300  loss: 0.1135 (0.1152)  loss_classifier: 0.0334 (0.0382)  loss_box_reg: 0.0592 (0.0641)  loss_objectness: 0.0062 (0.0088)  loss_rpn_box_reg: 0.0011 (0.0040)  time: 0.1158  data: 0.0325  max mem: 4009\n",
      "Epoch: [3]  [ 5200/12099]  eta: 0:13:42  lr: 0.000300  loss: 0.0920 (0.1151)  loss_classifier: 0.0299 (0.0382)  loss_box_reg: 0.0527 (0.0641)  loss_objectness: 0.0045 (0.0088)  loss_rpn_box_reg: 0.0011 (0.0040)  time: 0.1174  data: 0.0323  max mem: 4009\n",
      "Epoch: [3]  [ 5300/12099]  eta: 0:13:30  lr: 0.000300  loss: 0.0964 (0.1150)  loss_classifier: 0.0233 (0.0381)  loss_box_reg: 0.0562 (0.0640)  loss_objectness: 0.0050 (0.0088)  loss_rpn_box_reg: 0.0025 (0.0041)  time: 0.1236  data: 0.0352  max mem: 4009\n",
      "Epoch: [3]  [ 5400/12099]  eta: 0:13:18  lr: 0.000300  loss: 0.0868 (0.1150)  loss_classifier: 0.0264 (0.0381)  loss_box_reg: 0.0433 (0.0640)  loss_objectness: 0.0033 (0.0088)  loss_rpn_box_reg: 0.0013 (0.0041)  time: 0.1158  data: 0.0326  max mem: 4009\n",
      "Epoch: [3]  [ 5500/12099]  eta: 0:13:06  lr: 0.000300  loss: 0.1290 (0.1150)  loss_classifier: 0.0340 (0.0380)  loss_box_reg: 0.0818 (0.0640)  loss_objectness: 0.0038 (0.0089)  loss_rpn_box_reg: 0.0019 (0.0041)  time: 0.1147  data: 0.0312  max mem: 4009\n",
      "Epoch: [3]  [ 5600/12099]  eta: 0:12:54  lr: 0.000300  loss: 0.1118 (0.1150)  loss_classifier: 0.0372 (0.0381)  loss_box_reg: 0.0641 (0.0640)  loss_objectness: 0.0043 (0.0088)  loss_rpn_box_reg: 0.0015 (0.0041)  time: 0.1182  data: 0.0339  max mem: 4009\n",
      "Epoch: [3]  [ 5700/12099]  eta: 0:12:41  lr: 0.000300  loss: 0.0803 (0.1149)  loss_classifier: 0.0206 (0.0380)  loss_box_reg: 0.0416 (0.0640)  loss_objectness: 0.0028 (0.0088)  loss_rpn_box_reg: 0.0014 (0.0040)  time: 0.1179  data: 0.0326  max mem: 4009\n",
      "Epoch: [3]  [ 5800/12099]  eta: 0:12:29  lr: 0.000300  loss: 0.0755 (0.1148)  loss_classifier: 0.0207 (0.0380)  loss_box_reg: 0.0393 (0.0640)  loss_objectness: 0.0017 (0.0088)  loss_rpn_box_reg: 0.0007 (0.0040)  time: 0.1156  data: 0.0321  max mem: 4009\n",
      "Epoch: [3]  [ 5900/12099]  eta: 0:12:17  lr: 0.000300  loss: 0.1036 (0.1148)  loss_classifier: 0.0304 (0.0380)  loss_box_reg: 0.0593 (0.0640)  loss_objectness: 0.0032 (0.0088)  loss_rpn_box_reg: 0.0017 (0.0041)  time: 0.1181  data: 0.0318  max mem: 4009\n",
      "Epoch: [3]  [ 6000/12099]  eta: 0:12:05  lr: 0.000300  loss: 0.1049 (0.1147)  loss_classifier: 0.0361 (0.0380)  loss_box_reg: 0.0736 (0.0639)  loss_objectness: 0.0039 (0.0088)  loss_rpn_box_reg: 0.0012 (0.0041)  time: 0.1168  data: 0.0329  max mem: 4009\n",
      "Epoch: [3]  [ 6100/12099]  eta: 0:11:53  lr: 0.000300  loss: 0.1033 (0.1146)  loss_classifier: 0.0220 (0.0379)  loss_box_reg: 0.0738 (0.0638)  loss_objectness: 0.0032 (0.0088)  loss_rpn_box_reg: 0.0014 (0.0041)  time: 0.1158  data: 0.0319  max mem: 4009\n",
      "Epoch: [3]  [ 6200/12099]  eta: 0:11:41  lr: 0.000300  loss: 0.1312 (0.1149)  loss_classifier: 0.0434 (0.0380)  loss_box_reg: 0.0764 (0.0640)  loss_objectness: 0.0126 (0.0088)  loss_rpn_box_reg: 0.0019 (0.0041)  time: 0.1227  data: 0.0344  max mem: 4009\n"
     ]
    },
    {
     "name": "stdout",
     "output_type": "stream",
     "text": [
      "Epoch: [3]  [ 6300/12099]  eta: 0:11:29  lr: 0.000300  loss: 0.1131 (0.1149)  loss_classifier: 0.0324 (0.0380)  loss_box_reg: 0.0755 (0.0640)  loss_objectness: 0.0048 (0.0088)  loss_rpn_box_reg: 0.0022 (0.0041)  time: 0.1161  data: 0.0325  max mem: 4009\n",
      "Epoch: [3]  [ 6400/12099]  eta: 0:11:17  lr: 0.000300  loss: 0.1286 (0.1148)  loss_classifier: 0.0424 (0.0380)  loss_box_reg: 0.0778 (0.0639)  loss_objectness: 0.0046 (0.0088)  loss_rpn_box_reg: 0.0015 (0.0041)  time: 0.1157  data: 0.0310  max mem: 4009\n",
      "Epoch: [3]  [ 6500/12099]  eta: 0:11:05  lr: 0.000300  loss: 0.0785 (0.1149)  loss_classifier: 0.0247 (0.0380)  loss_box_reg: 0.0512 (0.0640)  loss_objectness: 0.0043 (0.0088)  loss_rpn_box_reg: 0.0013 (0.0041)  time: 0.1146  data: 0.0311  max mem: 4009\n",
      "Epoch: [3]  [ 6600/12099]  eta: 0:10:53  lr: 0.000300  loss: 0.1149 (0.1149)  loss_classifier: 0.0274 (0.0380)  loss_box_reg: 0.0545 (0.0640)  loss_objectness: 0.0030 (0.0089)  loss_rpn_box_reg: 0.0018 (0.0041)  time: 0.1159  data: 0.0316  max mem: 4009\n",
      "Epoch: [3]  [ 6700/12099]  eta: 0:10:41  lr: 0.000300  loss: 0.0927 (0.1149)  loss_classifier: 0.0236 (0.0380)  loss_box_reg: 0.0551 (0.0640)  loss_objectness: 0.0032 (0.0089)  loss_rpn_box_reg: 0.0015 (0.0041)  time: 0.1146  data: 0.0315  max mem: 4009\n",
      "Epoch: [3]  [ 6800/12099]  eta: 0:10:29  lr: 0.000300  loss: 0.0852 (0.1148)  loss_classifier: 0.0218 (0.0380)  loss_box_reg: 0.0573 (0.0639)  loss_objectness: 0.0042 (0.0089)  loss_rpn_box_reg: 0.0013 (0.0041)  time: 0.1180  data: 0.0316  max mem: 4009\n",
      "Epoch: [3]  [ 6900/12099]  eta: 0:10:17  lr: 0.000300  loss: 0.0705 (0.1150)  loss_classifier: 0.0223 (0.0380)  loss_box_reg: 0.0528 (0.0641)  loss_objectness: 0.0020 (0.0088)  loss_rpn_box_reg: 0.0019 (0.0041)  time: 0.1164  data: 0.0323  max mem: 4009\n",
      "Epoch: [3]  [ 7000/12099]  eta: 0:10:05  lr: 0.000300  loss: 0.1017 (0.1147)  loss_classifier: 0.0231 (0.0379)  loss_box_reg: 0.0522 (0.0639)  loss_objectness: 0.0039 (0.0088)  loss_rpn_box_reg: 0.0010 (0.0041)  time: 0.1203  data: 0.0331  max mem: 4009\n",
      "Epoch: [3]  [ 7100/12099]  eta: 0:09:54  lr: 0.000300  loss: 0.1126 (0.1147)  loss_classifier: 0.0339 (0.0379)  loss_box_reg: 0.0694 (0.0640)  loss_objectness: 0.0029 (0.0088)  loss_rpn_box_reg: 0.0012 (0.0041)  time: 0.1204  data: 0.0326  max mem: 4009\n",
      "Epoch: [3]  [ 7200/12099]  eta: 0:09:43  lr: 0.000300  loss: 0.1141 (0.1148)  loss_classifier: 0.0325 (0.0380)  loss_box_reg: 0.0683 (0.0640)  loss_objectness: 0.0060 (0.0088)  loss_rpn_box_reg: 0.0018 (0.0041)  time: 0.1291  data: 0.0369  max mem: 4009\n",
      "Epoch: [3]  [ 7300/12099]  eta: 0:09:31  lr: 0.000300  loss: 0.1066 (0.1149)  loss_classifier: 0.0271 (0.0380)  loss_box_reg: 0.0636 (0.0641)  loss_objectness: 0.0044 (0.0088)  loss_rpn_box_reg: 0.0028 (0.0041)  time: 0.1168  data: 0.0316  max mem: 4009\n",
      "Epoch: [3]  [ 7400/12099]  eta: 0:09:19  lr: 0.000300  loss: 0.1252 (0.1148)  loss_classifier: 0.0361 (0.0379)  loss_box_reg: 0.0759 (0.0640)  loss_objectness: 0.0038 (0.0088)  loss_rpn_box_reg: 0.0028 (0.0041)  time: 0.1164  data: 0.0314  max mem: 4009\n",
      "Epoch: [3]  [ 7500/12099]  eta: 0:09:07  lr: 0.000300  loss: 0.0934 (0.1148)  loss_classifier: 0.0305 (0.0380)  loss_box_reg: 0.0557 (0.0640)  loss_objectness: 0.0053 (0.0088)  loss_rpn_box_reg: 0.0015 (0.0041)  time: 0.1172  data: 0.0325  max mem: 4009\n",
      "Epoch: [3]  [ 7600/12099]  eta: 0:08:55  lr: 0.000300  loss: 0.1072 (0.1149)  loss_classifier: 0.0265 (0.0380)  loss_box_reg: 0.0620 (0.0639)  loss_objectness: 0.0044 (0.0088)  loss_rpn_box_reg: 0.0015 (0.0041)  time: 0.1164  data: 0.0317  max mem: 4009\n",
      "Epoch: [3]  [ 7700/12099]  eta: 0:08:43  lr: 0.000300  loss: 0.1180 (0.1148)  loss_classifier: 0.0318 (0.0380)  loss_box_reg: 0.0767 (0.0639)  loss_objectness: 0.0031 (0.0089)  loss_rpn_box_reg: 0.0021 (0.0041)  time: 0.1162  data: 0.0308  max mem: 4009\n",
      "Epoch: [3]  [ 7800/12099]  eta: 0:08:31  lr: 0.000300  loss: 0.1214 (0.1150)  loss_classifier: 0.0338 (0.0380)  loss_box_reg: 0.0764 (0.0640)  loss_objectness: 0.0041 (0.0089)  loss_rpn_box_reg: 0.0022 (0.0041)  time: 0.1148  data: 0.0313  max mem: 4009\n",
      "Epoch: [3]  [ 7900/12099]  eta: 0:08:19  lr: 0.000300  loss: 0.1084 (0.1149)  loss_classifier: 0.0264 (0.0380)  loss_box_reg: 0.0719 (0.0639)  loss_objectness: 0.0039 (0.0089)  loss_rpn_box_reg: 0.0013 (0.0041)  time: 0.1159  data: 0.0316  max mem: 4009\n",
      "Epoch: [3]  [ 8000/12099]  eta: 0:08:07  lr: 0.000300  loss: 0.1110 (0.1148)  loss_classifier: 0.0350 (0.0380)  loss_box_reg: 0.0643 (0.0639)  loss_objectness: 0.0065 (0.0088)  loss_rpn_box_reg: 0.0010 (0.0041)  time: 0.1155  data: 0.0311  max mem: 4009\n",
      "Epoch: [3]  [ 8100/12099]  eta: 0:07:55  lr: 0.000300  loss: 0.1071 (0.1149)  loss_classifier: 0.0352 (0.0380)  loss_box_reg: 0.0617 (0.0639)  loss_objectness: 0.0035 (0.0089)  loss_rpn_box_reg: 0.0018 (0.0041)  time: 0.1154  data: 0.0313  max mem: 4009\n",
      "Epoch: [3]  [ 8200/12099]  eta: 0:07:43  lr: 0.000300  loss: 0.1111 (0.1149)  loss_classifier: 0.0320 (0.0380)  loss_box_reg: 0.0692 (0.0640)  loss_objectness: 0.0043 (0.0088)  loss_rpn_box_reg: 0.0022 (0.0041)  time: 0.1135  data: 0.0301  max mem: 4009\n",
      "Epoch: [3]  [ 8300/12099]  eta: 0:07:30  lr: 0.000300  loss: 0.1047 (0.1148)  loss_classifier: 0.0242 (0.0380)  loss_box_reg: 0.0539 (0.0639)  loss_objectness: 0.0030 (0.0088)  loss_rpn_box_reg: 0.0015 (0.0041)  time: 0.1180  data: 0.0323  max mem: 4009\n",
      "Epoch: [3]  [ 8400/12099]  eta: 0:07:18  lr: 0.000300  loss: 0.1250 (0.1149)  loss_classifier: 0.0386 (0.0380)  loss_box_reg: 0.0621 (0.0640)  loss_objectness: 0.0022 (0.0088)  loss_rpn_box_reg: 0.0021 (0.0041)  time: 0.1143  data: 0.0308  max mem: 4009\n",
      "Epoch: [3]  [ 8500/12099]  eta: 0:07:07  lr: 0.000300  loss: 0.1311 (0.1150)  loss_classifier: 0.0349 (0.0381)  loss_box_reg: 0.0761 (0.0640)  loss_objectness: 0.0071 (0.0089)  loss_rpn_box_reg: 0.0027 (0.0041)  time: 0.1281  data: 0.0382  max mem: 4009\n",
      "Epoch: [3]  [ 8600/12099]  eta: 0:06:55  lr: 0.000300  loss: 0.1029 (0.1150)  loss_classifier: 0.0372 (0.0381)  loss_box_reg: 0.0520 (0.0640)  loss_objectness: 0.0041 (0.0089)  loss_rpn_box_reg: 0.0024 (0.0041)  time: 0.1159  data: 0.0313  max mem: 4009\n",
      "Epoch: [3]  [ 8700/12099]  eta: 0:06:43  lr: 0.000300  loss: 0.1152 (0.1150)  loss_classifier: 0.0370 (0.0381)  loss_box_reg: 0.0705 (0.0640)  loss_objectness: 0.0053 (0.0089)  loss_rpn_box_reg: 0.0015 (0.0041)  time: 0.1171  data: 0.0325  max mem: 4009\n",
      "Epoch: [3]  [ 8800/12099]  eta: 0:06:31  lr: 0.000300  loss: 0.1132 (0.1151)  loss_classifier: 0.0252 (0.0381)  loss_box_reg: 0.0509 (0.0640)  loss_objectness: 0.0080 (0.0089)  loss_rpn_box_reg: 0.0016 (0.0041)  time: 0.1172  data: 0.0320  max mem: 4009\n",
      "Epoch: [3]  [ 8900/12099]  eta: 0:06:19  lr: 0.000300  loss: 0.0997 (0.1152)  loss_classifier: 0.0407 (0.0381)  loss_box_reg: 0.0646 (0.0640)  loss_objectness: 0.0038 (0.0089)  loss_rpn_box_reg: 0.0022 (0.0041)  time: 0.1183  data: 0.0346  max mem: 4009\n",
      "Epoch: [3]  [ 9000/12099]  eta: 0:06:07  lr: 0.000300  loss: 0.1145 (0.1151)  loss_classifier: 0.0277 (0.0381)  loss_box_reg: 0.0625 (0.0640)  loss_objectness: 0.0024 (0.0089)  loss_rpn_box_reg: 0.0013 (0.0041)  time: 0.1166  data: 0.0316  max mem: 4009\n",
      "Epoch: [3]  [ 9100/12099]  eta: 0:05:55  lr: 0.000300  loss: 0.0942 (0.1152)  loss_classifier: 0.0331 (0.0381)  loss_box_reg: 0.0538 (0.0641)  loss_objectness: 0.0024 (0.0088)  loss_rpn_box_reg: 0.0008 (0.0041)  time: 0.1177  data: 0.0324  max mem: 4009\n",
      "Epoch: [3]  [ 9200/12099]  eta: 0:05:43  lr: 0.000300  loss: 0.0790 (0.1151)  loss_classifier: 0.0233 (0.0381)  loss_box_reg: 0.0540 (0.0640)  loss_objectness: 0.0034 (0.0089)  loss_rpn_box_reg: 0.0009 (0.0041)  time: 0.1169  data: 0.0313  max mem: 4009\n",
      "Epoch: [3]  [ 9300/12099]  eta: 0:05:32  lr: 0.000300  loss: 0.1004 (0.1152)  loss_classifier: 0.0297 (0.0381)  loss_box_reg: 0.0582 (0.0640)  loss_objectness: 0.0030 (0.0089)  loss_rpn_box_reg: 0.0016 (0.0041)  time: 0.1139  data: 0.0298  max mem: 4009\n",
      "Epoch: [3]  [ 9400/12099]  eta: 0:05:20  lr: 0.000300  loss: 0.0796 (0.1153)  loss_classifier: 0.0231 (0.0382)  loss_box_reg: 0.0502 (0.0641)  loss_objectness: 0.0027 (0.0089)  loss_rpn_box_reg: 0.0012 (0.0041)  time: 0.1244  data: 0.0359  max mem: 4009\n",
      "Epoch: [3]  [ 9500/12099]  eta: 0:05:08  lr: 0.000300  loss: 0.1244 (0.1152)  loss_classifier: 0.0301 (0.0381)  loss_box_reg: 0.0662 (0.0640)  loss_objectness: 0.0057 (0.0089)  loss_rpn_box_reg: 0.0022 (0.0041)  time: 0.1175  data: 0.0323  max mem: 4009\n"
     ]
    },
    {
     "name": "stdout",
     "output_type": "stream",
     "text": [
      "Epoch: [3]  [ 9600/12099]  eta: 0:04:56  lr: 0.000300  loss: 0.1006 (0.1153)  loss_classifier: 0.0387 (0.0382)  loss_box_reg: 0.0541 (0.0641)  loss_objectness: 0.0038 (0.0089)  loss_rpn_box_reg: 0.0021 (0.0041)  time: 0.1238  data: 0.0351  max mem: 4009\n",
      "Epoch: [3]  [ 9700/12099]  eta: 0:04:44  lr: 0.000300  loss: 0.0999 (0.1153)  loss_classifier: 0.0249 (0.0382)  loss_box_reg: 0.0535 (0.0641)  loss_objectness: 0.0043 (0.0089)  loss_rpn_box_reg: 0.0027 (0.0042)  time: 0.1193  data: 0.0335  max mem: 4009\n",
      "Epoch: [3]  [ 9800/12099]  eta: 0:04:32  lr: 0.000300  loss: 0.1060 (0.1153)  loss_classifier: 0.0319 (0.0382)  loss_box_reg: 0.0573 (0.0641)  loss_objectness: 0.0033 (0.0089)  loss_rpn_box_reg: 0.0018 (0.0041)  time: 0.1153  data: 0.0320  max mem: 4009\n",
      "Epoch: [3]  [ 9900/12099]  eta: 0:04:20  lr: 0.000300  loss: 0.1029 (0.1153)  loss_classifier: 0.0374 (0.0382)  loss_box_reg: 0.0579 (0.0641)  loss_objectness: 0.0028 (0.0089)  loss_rpn_box_reg: 0.0019 (0.0041)  time: 0.1147  data: 0.0307  max mem: 4009\n",
      "Epoch: [3]  [10000/12099]  eta: 0:04:08  lr: 0.000300  loss: 0.0941 (0.1154)  loss_classifier: 0.0309 (0.0383)  loss_box_reg: 0.0542 (0.0641)  loss_objectness: 0.0047 (0.0089)  loss_rpn_box_reg: 0.0019 (0.0041)  time: 0.1147  data: 0.0309  max mem: 4009\n",
      "Epoch: [3]  [10100/12099]  eta: 0:03:57  lr: 0.000300  loss: 0.1310 (0.1157)  loss_classifier: 0.0360 (0.0383)  loss_box_reg: 0.0620 (0.0642)  loss_objectness: 0.0084 (0.0090)  loss_rpn_box_reg: 0.0018 (0.0042)  time: 0.1213  data: 0.0334  max mem: 4009\n",
      "Epoch: [3]  [10200/12099]  eta: 0:03:45  lr: 0.000300  loss: 0.0925 (0.1157)  loss_classifier: 0.0324 (0.0384)  loss_box_reg: 0.0526 (0.0642)  loss_objectness: 0.0053 (0.0090)  loss_rpn_box_reg: 0.0013 (0.0041)  time: 0.1354  data: 0.0410  max mem: 4009\n",
      "Epoch: [3]  [10300/12099]  eta: 0:03:33  lr: 0.000300  loss: 0.0762 (0.1157)  loss_classifier: 0.0228 (0.0384)  loss_box_reg: 0.0472 (0.0642)  loss_objectness: 0.0018 (0.0090)  loss_rpn_box_reg: 0.0012 (0.0041)  time: 0.1204  data: 0.0329  max mem: 4009\n",
      "Epoch: [3]  [10400/12099]  eta: 0:03:21  lr: 0.000300  loss: 0.1089 (0.1157)  loss_classifier: 0.0348 (0.0384)  loss_box_reg: 0.0599 (0.0642)  loss_objectness: 0.0026 (0.0090)  loss_rpn_box_reg: 0.0013 (0.0041)  time: 0.1403  data: 0.0443  max mem: 4009\n",
      "Epoch: [3]  [10500/12099]  eta: 0:03:09  lr: 0.000300  loss: 0.0963 (0.1156)  loss_classifier: 0.0249 (0.0383)  loss_box_reg: 0.0615 (0.0642)  loss_objectness: 0.0033 (0.0090)  loss_rpn_box_reg: 0.0010 (0.0041)  time: 0.1217  data: 0.0343  max mem: 4009\n",
      "Epoch: [3]  [10600/12099]  eta: 0:02:58  lr: 0.000300  loss: 0.0726 (0.1156)  loss_classifier: 0.0177 (0.0383)  loss_box_reg: 0.0435 (0.0642)  loss_objectness: 0.0032 (0.0089)  loss_rpn_box_reg: 0.0006 (0.0041)  time: 0.1151  data: 0.0312  max mem: 4009\n",
      "Epoch: [3]  [10700/12099]  eta: 0:02:46  lr: 0.000300  loss: 0.0960 (0.1157)  loss_classifier: 0.0278 (0.0383)  loss_box_reg: 0.0529 (0.0643)  loss_objectness: 0.0022 (0.0089)  loss_rpn_box_reg: 0.0010 (0.0041)  time: 0.1182  data: 0.0332  max mem: 4009\n",
      "Epoch: [3]  [10800/12099]  eta: 0:02:34  lr: 0.000300  loss: 0.0774 (0.1157)  loss_classifier: 0.0274 (0.0384)  loss_box_reg: 0.0485 (0.0643)  loss_objectness: 0.0029 (0.0089)  loss_rpn_box_reg: 0.0013 (0.0041)  time: 0.1143  data: 0.0303  max mem: 4009\n",
      "Epoch: [3]  [10900/12099]  eta: 0:02:22  lr: 0.000300  loss: 0.0807 (0.1156)  loss_classifier: 0.0285 (0.0383)  loss_box_reg: 0.0431 (0.0642)  loss_objectness: 0.0021 (0.0089)  loss_rpn_box_reg: 0.0008 (0.0041)  time: 0.1188  data: 0.0329  max mem: 4009\n",
      "Epoch: [3]  [11000/12099]  eta: 0:02:10  lr: 0.000300  loss: 0.0978 (0.1156)  loss_classifier: 0.0278 (0.0383)  loss_box_reg: 0.0574 (0.0642)  loss_objectness: 0.0039 (0.0089)  loss_rpn_box_reg: 0.0020 (0.0041)  time: 0.1172  data: 0.0333  max mem: 4009\n",
      "Epoch: [3]  [11100/12099]  eta: 0:01:58  lr: 0.000300  loss: 0.0806 (0.1155)  loss_classifier: 0.0214 (0.0383)  loss_box_reg: 0.0492 (0.0642)  loss_objectness: 0.0032 (0.0089)  loss_rpn_box_reg: 0.0016 (0.0041)  time: 0.1188  data: 0.0337  max mem: 4009\n",
      "Epoch: [3]  [11200/12099]  eta: 0:01:46  lr: 0.000300  loss: 0.1182 (0.1155)  loss_classifier: 0.0348 (0.0383)  loss_box_reg: 0.0802 (0.0642)  loss_objectness: 0.0037 (0.0089)  loss_rpn_box_reg: 0.0013 (0.0041)  time: 0.1143  data: 0.0300  max mem: 4009\n",
      "Epoch: [3]  [11300/12099]  eta: 0:01:35  lr: 0.000300  loss: 0.1226 (0.1156)  loss_classifier: 0.0464 (0.0383)  loss_box_reg: 0.0435 (0.0642)  loss_objectness: 0.0023 (0.0089)  loss_rpn_box_reg: 0.0021 (0.0041)  time: 0.1153  data: 0.0314  max mem: 4009\n",
      "Epoch: [3]  [11400/12099]  eta: 0:01:23  lr: 0.000300  loss: 0.0938 (0.1156)  loss_classifier: 0.0309 (0.0383)  loss_box_reg: 0.0450 (0.0642)  loss_objectness: 0.0040 (0.0089)  loss_rpn_box_reg: 0.0007 (0.0041)  time: 0.1237  data: 0.0349  max mem: 4009\n",
      "Epoch: [3]  [11500/12099]  eta: 0:01:11  lr: 0.000300  loss: 0.0945 (0.1156)  loss_classifier: 0.0323 (0.0383)  loss_box_reg: 0.0567 (0.0642)  loss_objectness: 0.0058 (0.0089)  loss_rpn_box_reg: 0.0018 (0.0041)  time: 0.1189  data: 0.0342  max mem: 4009\n",
      "Epoch: [3]  [11600/12099]  eta: 0:00:59  lr: 0.000300  loss: 0.1017 (0.1155)  loss_classifier: 0.0364 (0.0383)  loss_box_reg: 0.0615 (0.0642)  loss_objectness: 0.0040 (0.0089)  loss_rpn_box_reg: 0.0015 (0.0041)  time: 0.1840  data: 0.0653  max mem: 4009\n",
      "Epoch: [3]  [11700/12099]  eta: 0:00:47  lr: 0.000300  loss: 0.1058 (0.1155)  loss_classifier: 0.0312 (0.0383)  loss_box_reg: 0.0518 (0.0642)  loss_objectness: 0.0036 (0.0089)  loss_rpn_box_reg: 0.0013 (0.0041)  time: 0.1156  data: 0.0310  max mem: 4009\n",
      "Epoch: [3]  [11800/12099]  eta: 0:00:35  lr: 0.000300  loss: 0.0939 (0.1155)  loss_classifier: 0.0261 (0.0383)  loss_box_reg: 0.0482 (0.0642)  loss_objectness: 0.0024 (0.0089)  loss_rpn_box_reg: 0.0013 (0.0041)  time: 0.1147  data: 0.0306  max mem: 4009\n",
      "Epoch: [3]  [11900/12099]  eta: 0:00:23  lr: 0.000300  loss: 0.0889 (0.1156)  loss_classifier: 0.0230 (0.0383)  loss_box_reg: 0.0584 (0.0642)  loss_objectness: 0.0060 (0.0089)  loss_rpn_box_reg: 0.0011 (0.0041)  time: 0.1144  data: 0.0314  max mem: 4009\n",
      "Epoch: [3]  [12000/12099]  eta: 0:00:11  lr: 0.000300  loss: 0.1041 (0.1155)  loss_classifier: 0.0337 (0.0383)  loss_box_reg: 0.0598 (0.0642)  loss_objectness: 0.0024 (0.0089)  loss_rpn_box_reg: 0.0012 (0.0041)  time: 0.1325  data: 0.0392  max mem: 4009\n",
      "Epoch: [3]  [12098/12099]  eta: 0:00:00  lr: 0.000300  loss: 0.0973 (0.1155)  loss_classifier: 0.0243 (0.0383)  loss_box_reg: 0.0583 (0.0642)  loss_objectness: 0.0038 (0.0089)  loss_rpn_box_reg: 0.0013 (0.0041)  time: 0.1149  data: 0.0308  max mem: 4009\n",
      "Epoch: [3] Total time: 0:24:07 (0.1196 s / it)\n",
      "Epoch: [4]  [    0/12099]  eta: 0:27:07  lr: 0.000300  loss: 0.0841 (0.0841)  loss_classifier: 0.0217 (0.0217)  loss_box_reg: 0.0528 (0.0528)  loss_objectness: 0.0080 (0.0080)  loss_rpn_box_reg: 0.0015 (0.0015)  time: 0.1345  data: 0.0345  max mem: 4009\n",
      "Epoch: [4]  [  100/12099]  eta: 0:26:24  lr: 0.000300  loss: 0.0958 (0.1201)  loss_classifier: 0.0323 (0.0386)  loss_box_reg: 0.0550 (0.0615)  loss_objectness: 0.0052 (0.0158)  loss_rpn_box_reg: 0.0014 (0.0042)  time: 0.1349  data: 0.0421  max mem: 4009\n",
      "Epoch: [4]  [  200/12099]  eta: 0:27:20  lr: 0.000300  loss: 0.0824 (0.1104)  loss_classifier: 0.0278 (0.0362)  loss_box_reg: 0.0467 (0.0576)  loss_objectness: 0.0036 (0.0125)  loss_rpn_box_reg: 0.0013 (0.0042)  time: 0.1226  data: 0.0352  max mem: 4009\n",
      "Epoch: [4]  [  300/12099]  eta: 0:26:09  lr: 0.000300  loss: 0.0988 (0.1133)  loss_classifier: 0.0301 (0.0375)  loss_box_reg: 0.0526 (0.0604)  loss_objectness: 0.0030 (0.0114)  loss_rpn_box_reg: 0.0015 (0.0040)  time: 0.1175  data: 0.0324  max mem: 4009\n",
      "Epoch: [4]  [  400/12099]  eta: 0:25:11  lr: 0.000300  loss: 0.0928 (0.1159)  loss_classifier: 0.0316 (0.0382)  loss_box_reg: 0.0484 (0.0625)  loss_objectness: 0.0029 (0.0113)  loss_rpn_box_reg: 0.0011 (0.0039)  time: 0.1155  data: 0.0309  max mem: 4009\n",
      "Epoch: [4]  [  500/12099]  eta: 0:24:36  lr: 0.000300  loss: 0.0951 (0.1163)  loss_classifier: 0.0258 (0.0388)  loss_box_reg: 0.0519 (0.0632)  loss_objectness: 0.0036 (0.0105)  loss_rpn_box_reg: 0.0025 (0.0039)  time: 0.1237  data: 0.0354  max mem: 4009\n",
      "Epoch: [4]  [  600/12099]  eta: 0:24:40  lr: 0.000300  loss: 0.0993 (0.1191)  loss_classifier: 0.0255 (0.0400)  loss_box_reg: 0.0580 (0.0650)  loss_objectness: 0.0088 (0.0103)  loss_rpn_box_reg: 0.0019 (0.0037)  time: 0.1397  data: 0.0434  max mem: 4009\n"
     ]
    },
    {
     "name": "stdout",
     "output_type": "stream",
     "text": [
      "Epoch: [4]  [  700/12099]  eta: 0:24:07  lr: 0.000300  loss: 0.1004 (0.1184)  loss_classifier: 0.0266 (0.0400)  loss_box_reg: 0.0575 (0.0643)  loss_objectness: 0.0036 (0.0102)  loss_rpn_box_reg: 0.0015 (0.0039)  time: 0.1142  data: 0.0306  max mem: 4009\n",
      "Epoch: [4]  [  800/12099]  eta: 0:23:49  lr: 0.000300  loss: 0.0962 (0.1180)  loss_classifier: 0.0349 (0.0400)  loss_box_reg: 0.0516 (0.0640)  loss_objectness: 0.0026 (0.0101)  loss_rpn_box_reg: 0.0019 (0.0039)  time: 0.1261  data: 0.0341  max mem: 4009\n",
      "Epoch: [4]  [  900/12099]  eta: 0:23:33  lr: 0.000300  loss: 0.1003 (0.1188)  loss_classifier: 0.0298 (0.0399)  loss_box_reg: 0.0643 (0.0651)  loss_objectness: 0.0032 (0.0099)  loss_rpn_box_reg: 0.0013 (0.0039)  time: 0.1184  data: 0.0330  max mem: 4009\n",
      "Epoch: [4]  [ 1000/12099]  eta: 0:23:11  lr: 0.000300  loss: 0.0927 (0.1177)  loss_classifier: 0.0244 (0.0393)  loss_box_reg: 0.0689 (0.0651)  loss_objectness: 0.0028 (0.0095)  loss_rpn_box_reg: 0.0011 (0.0038)  time: 0.1189  data: 0.0335  max mem: 4009\n",
      "Epoch: [4]  [ 1100/12099]  eta: 0:22:52  lr: 0.000300  loss: 0.0936 (0.1177)  loss_classifier: 0.0315 (0.0395)  loss_box_reg: 0.0594 (0.0650)  loss_objectness: 0.0030 (0.0093)  loss_rpn_box_reg: 0.0016 (0.0039)  time: 0.1175  data: 0.0331  max mem: 4009\n",
      "Epoch: [4]  [ 1200/12099]  eta: 0:22:35  lr: 0.000300  loss: 0.0793 (0.1176)  loss_classifier: 0.0270 (0.0394)  loss_box_reg: 0.0475 (0.0650)  loss_objectness: 0.0028 (0.0094)  loss_rpn_box_reg: 0.0011 (0.0038)  time: 0.1261  data: 0.0361  max mem: 4009\n",
      "Epoch: [4]  [ 1300/12099]  eta: 0:22:18  lr: 0.000300  loss: 0.0793 (0.1170)  loss_classifier: 0.0230 (0.0391)  loss_box_reg: 0.0485 (0.0648)  loss_objectness: 0.0021 (0.0092)  loss_rpn_box_reg: 0.0013 (0.0038)  time: 0.1163  data: 0.0307  max mem: 4009\n",
      "Epoch: [4]  [ 1400/12099]  eta: 0:22:00  lr: 0.000300  loss: 0.0869 (0.1171)  loss_classifier: 0.0270 (0.0389)  loss_box_reg: 0.0569 (0.0650)  loss_objectness: 0.0053 (0.0093)  loss_rpn_box_reg: 0.0011 (0.0039)  time: 0.1157  data: 0.0317  max mem: 4009\n",
      "Epoch: [4]  [ 1500/12099]  eta: 0:21:41  lr: 0.000300  loss: 0.0987 (0.1164)  loss_classifier: 0.0243 (0.0384)  loss_box_reg: 0.0643 (0.0648)  loss_objectness: 0.0022 (0.0093)  loss_rpn_box_reg: 0.0013 (0.0039)  time: 0.1158  data: 0.0321  max mem: 4009\n",
      "Epoch: [4]  [ 1600/12099]  eta: 0:21:24  lr: 0.000300  loss: 0.0885 (0.1160)  loss_classifier: 0.0285 (0.0384)  loss_box_reg: 0.0511 (0.0645)  loss_objectness: 0.0042 (0.0092)  loss_rpn_box_reg: 0.0010 (0.0039)  time: 0.1169  data: 0.0320  max mem: 4009\n",
      "Epoch: [4]  [ 1700/12099]  eta: 0:21:07  lr: 0.000300  loss: 0.0969 (0.1163)  loss_classifier: 0.0357 (0.0386)  loss_box_reg: 0.0576 (0.0647)  loss_objectness: 0.0027 (0.0091)  loss_rpn_box_reg: 0.0017 (0.0038)  time: 0.1143  data: 0.0311  max mem: 4009\n",
      "Epoch: [4]  [ 1800/12099]  eta: 0:20:51  lr: 0.000300  loss: 0.1088 (0.1157)  loss_classifier: 0.0298 (0.0383)  loss_box_reg: 0.0611 (0.0645)  loss_objectness: 0.0045 (0.0091)  loss_rpn_box_reg: 0.0015 (0.0038)  time: 0.1134  data: 0.0297  max mem: 4009\n",
      "Epoch: [4]  [ 1900/12099]  eta: 0:20:35  lr: 0.000300  loss: 0.0929 (0.1155)  loss_classifier: 0.0265 (0.0383)  loss_box_reg: 0.0502 (0.0643)  loss_objectness: 0.0027 (0.0091)  loss_rpn_box_reg: 0.0010 (0.0038)  time: 0.1150  data: 0.0313  max mem: 4009\n",
      "Epoch: [4]  [ 2000/12099]  eta: 0:20:20  lr: 0.000300  loss: 0.1260 (0.1158)  loss_classifier: 0.0268 (0.0385)  loss_box_reg: 0.0686 (0.0645)  loss_objectness: 0.0042 (0.0091)  loss_rpn_box_reg: 0.0017 (0.0037)  time: 0.1156  data: 0.0324  max mem: 4009\n",
      "Epoch: [4]  [ 2100/12099]  eta: 0:20:05  lr: 0.000300  loss: 0.0796 (0.1158)  loss_classifier: 0.0234 (0.0385)  loss_box_reg: 0.0422 (0.0645)  loss_objectness: 0.0036 (0.0091)  loss_rpn_box_reg: 0.0011 (0.0038)  time: 0.1142  data: 0.0313  max mem: 4009\n",
      "Epoch: [4]  [ 2200/12099]  eta: 0:19:50  lr: 0.000300  loss: 0.0982 (0.1158)  loss_classifier: 0.0357 (0.0386)  loss_box_reg: 0.0623 (0.0644)  loss_objectness: 0.0058 (0.0090)  loss_rpn_box_reg: 0.0015 (0.0038)  time: 0.1159  data: 0.0312  max mem: 4009\n",
      "Epoch: [4]  [ 2300/12099]  eta: 0:19:36  lr: 0.000300  loss: 0.0715 (0.1159)  loss_classifier: 0.0264 (0.0386)  loss_box_reg: 0.0419 (0.0645)  loss_objectness: 0.0032 (0.0090)  loss_rpn_box_reg: 0.0007 (0.0038)  time: 0.1161  data: 0.0321  max mem: 4009\n",
      "Epoch: [4]  [ 2400/12099]  eta: 0:19:22  lr: 0.000300  loss: 0.0718 (0.1160)  loss_classifier: 0.0200 (0.0386)  loss_box_reg: 0.0536 (0.0646)  loss_objectness: 0.0025 (0.0090)  loss_rpn_box_reg: 0.0008 (0.0038)  time: 0.1136  data: 0.0298  max mem: 4009\n",
      "Epoch: [4]  [ 2500/12099]  eta: 0:19:08  lr: 0.000300  loss: 0.0952 (0.1156)  loss_classifier: 0.0253 (0.0384)  loss_box_reg: 0.0377 (0.0644)  loss_objectness: 0.0034 (0.0090)  loss_rpn_box_reg: 0.0011 (0.0038)  time: 0.1143  data: 0.0302  max mem: 4009\n",
      "Epoch: [4]  [ 2600/12099]  eta: 0:18:54  lr: 0.000300  loss: 0.0975 (0.1157)  loss_classifier: 0.0268 (0.0384)  loss_box_reg: 0.0497 (0.0644)  loss_objectness: 0.0035 (0.0091)  loss_rpn_box_reg: 0.0016 (0.0038)  time: 0.1153  data: 0.0317  max mem: 4009\n",
      "Epoch: [4]  [ 2700/12099]  eta: 0:18:40  lr: 0.000300  loss: 0.1075 (0.1158)  loss_classifier: 0.0360 (0.0385)  loss_box_reg: 0.0597 (0.0645)  loss_objectness: 0.0025 (0.0090)  loss_rpn_box_reg: 0.0015 (0.0038)  time: 0.1150  data: 0.0315  max mem: 4009\n",
      "Epoch: [4]  [ 2800/12099]  eta: 0:18:27  lr: 0.000300  loss: 0.0971 (0.1158)  loss_classifier: 0.0267 (0.0385)  loss_box_reg: 0.0584 (0.0645)  loss_objectness: 0.0030 (0.0090)  loss_rpn_box_reg: 0.0011 (0.0038)  time: 0.1148  data: 0.0305  max mem: 4009\n",
      "Epoch: [4]  [ 2900/12099]  eta: 0:18:14  lr: 0.000300  loss: 0.0756 (0.1155)  loss_classifier: 0.0288 (0.0385)  loss_box_reg: 0.0413 (0.0643)  loss_objectness: 0.0038 (0.0090)  loss_rpn_box_reg: 0.0011 (0.0038)  time: 0.1152  data: 0.0315  max mem: 4009\n",
      "Epoch: [4]  [ 3000/12099]  eta: 0:18:00  lr: 0.000300  loss: 0.1210 (0.1153)  loss_classifier: 0.0384 (0.0384)  loss_box_reg: 0.0476 (0.0642)  loss_objectness: 0.0052 (0.0089)  loss_rpn_box_reg: 0.0017 (0.0039)  time: 0.1150  data: 0.0313  max mem: 4009\n",
      "Epoch: [4]  [ 3100/12099]  eta: 0:17:47  lr: 0.000300  loss: 0.1029 (0.1151)  loss_classifier: 0.0314 (0.0383)  loss_box_reg: 0.0577 (0.0640)  loss_objectness: 0.0044 (0.0088)  loss_rpn_box_reg: 0.0012 (0.0039)  time: 0.1162  data: 0.0322  max mem: 4009\n",
      "Epoch: [4]  [ 3200/12099]  eta: 0:17:35  lr: 0.000300  loss: 0.1040 (0.1150)  loss_classifier: 0.0338 (0.0382)  loss_box_reg: 0.0507 (0.0640)  loss_objectness: 0.0028 (0.0089)  loss_rpn_box_reg: 0.0016 (0.0039)  time: 0.1135  data: 0.0302  max mem: 4009\n",
      "Epoch: [4]  [ 3300/12099]  eta: 0:17:22  lr: 0.000300  loss: 0.0881 (0.1147)  loss_classifier: 0.0316 (0.0381)  loss_box_reg: 0.0478 (0.0638)  loss_objectness: 0.0029 (0.0089)  loss_rpn_box_reg: 0.0008 (0.0039)  time: 0.1166  data: 0.0315  max mem: 4009\n",
      "Epoch: [4]  [ 3400/12099]  eta: 0:17:09  lr: 0.000300  loss: 0.0878 (0.1146)  loss_classifier: 0.0171 (0.0380)  loss_box_reg: 0.0438 (0.0639)  loss_objectness: 0.0037 (0.0088)  loss_rpn_box_reg: 0.0014 (0.0039)  time: 0.1157  data: 0.0318  max mem: 4009\n",
      "Epoch: [4]  [ 3500/12099]  eta: 0:16:56  lr: 0.000300  loss: 0.1180 (0.1148)  loss_classifier: 0.0324 (0.0381)  loss_box_reg: 0.0543 (0.0640)  loss_objectness: 0.0050 (0.0088)  loss_rpn_box_reg: 0.0019 (0.0038)  time: 0.1144  data: 0.0303  max mem: 4009\n",
      "Epoch: [4]  [ 3600/12099]  eta: 0:16:44  lr: 0.000300  loss: 0.0830 (0.1144)  loss_classifier: 0.0287 (0.0380)  loss_box_reg: 0.0461 (0.0638)  loss_objectness: 0.0027 (0.0088)  loss_rpn_box_reg: 0.0013 (0.0038)  time: 0.1147  data: 0.0306  max mem: 4009\n",
      "Epoch: [4]  [ 3700/12099]  eta: 0:16:31  lr: 0.000300  loss: 0.0862 (0.1145)  loss_classifier: 0.0261 (0.0381)  loss_box_reg: 0.0574 (0.0637)  loss_objectness: 0.0037 (0.0089)  loss_rpn_box_reg: 0.0011 (0.0039)  time: 0.1151  data: 0.0315  max mem: 4009\n",
      "Epoch: [4]  [ 3800/12099]  eta: 0:16:18  lr: 0.000300  loss: 0.0959 (0.1146)  loss_classifier: 0.0336 (0.0381)  loss_box_reg: 0.0580 (0.0639)  loss_objectness: 0.0038 (0.0088)  loss_rpn_box_reg: 0.0022 (0.0039)  time: 0.1147  data: 0.0315  max mem: 4009\n",
      "Epoch: [4]  [ 3900/12099]  eta: 0:16:06  lr: 0.000300  loss: 0.0966 (0.1145)  loss_classifier: 0.0290 (0.0380)  loss_box_reg: 0.0447 (0.0638)  loss_objectness: 0.0054 (0.0088)  loss_rpn_box_reg: 0.0018 (0.0039)  time: 0.1147  data: 0.0310  max mem: 4009\n"
     ]
    },
    {
     "name": "stdout",
     "output_type": "stream",
     "text": [
      "Epoch: [4]  [ 4000/12099]  eta: 0:15:54  lr: 0.000300  loss: 0.1116 (0.1150)  loss_classifier: 0.0361 (0.0382)  loss_box_reg: 0.0500 (0.0640)  loss_objectness: 0.0055 (0.0089)  loss_rpn_box_reg: 0.0025 (0.0039)  time: 0.1147  data: 0.0312  max mem: 4009\n",
      "Epoch: [4]  [ 4100/12099]  eta: 0:15:41  lr: 0.000300  loss: 0.0825 (0.1149)  loss_classifier: 0.0257 (0.0382)  loss_box_reg: 0.0580 (0.0639)  loss_objectness: 0.0039 (0.0089)  loss_rpn_box_reg: 0.0021 (0.0039)  time: 0.1158  data: 0.0322  max mem: 4009\n",
      "Epoch: [4]  [ 4200/12099]  eta: 0:15:29  lr: 0.000300  loss: 0.1072 (0.1149)  loss_classifier: 0.0260 (0.0382)  loss_box_reg: 0.0565 (0.0639)  loss_objectness: 0.0041 (0.0089)  loss_rpn_box_reg: 0.0023 (0.0039)  time: 0.1139  data: 0.0306  max mem: 4009\n",
      "Epoch: [4]  [ 4300/12099]  eta: 0:15:17  lr: 0.000300  loss: 0.0982 (0.1147)  loss_classifier: 0.0294 (0.0381)  loss_box_reg: 0.0519 (0.0637)  loss_objectness: 0.0029 (0.0089)  loss_rpn_box_reg: 0.0017 (0.0040)  time: 0.1147  data: 0.0314  max mem: 4009\n",
      "Epoch: [4]  [ 4400/12099]  eta: 0:15:05  lr: 0.000300  loss: 0.0975 (0.1147)  loss_classifier: 0.0322 (0.0380)  loss_box_reg: 0.0573 (0.0637)  loss_objectness: 0.0048 (0.0089)  loss_rpn_box_reg: 0.0017 (0.0040)  time: 0.1144  data: 0.0312  max mem: 4009\n",
      "Epoch: [4]  [ 4500/12099]  eta: 0:14:52  lr: 0.000300  loss: 0.1093 (0.1149)  loss_classifier: 0.0324 (0.0382)  loss_box_reg: 0.0655 (0.0637)  loss_objectness: 0.0042 (0.0090)  loss_rpn_box_reg: 0.0020 (0.0040)  time: 0.1168  data: 0.0321  max mem: 4009\n",
      "Epoch: [4]  [ 4600/12099]  eta: 0:14:40  lr: 0.000300  loss: 0.0937 (0.1149)  loss_classifier: 0.0289 (0.0381)  loss_box_reg: 0.0561 (0.0637)  loss_objectness: 0.0052 (0.0090)  loss_rpn_box_reg: 0.0015 (0.0040)  time: 0.1150  data: 0.0311  max mem: 4009\n",
      "Epoch: [4]  [ 4700/12099]  eta: 0:14:28  lr: 0.000300  loss: 0.0971 (0.1151)  loss_classifier: 0.0265 (0.0382)  loss_box_reg: 0.0611 (0.0638)  loss_objectness: 0.0030 (0.0091)  loss_rpn_box_reg: 0.0014 (0.0040)  time: 0.1145  data: 0.0316  max mem: 4009\n",
      "Epoch: [4]  [ 4800/12099]  eta: 0:14:16  lr: 0.000300  loss: 0.1035 (0.1150)  loss_classifier: 0.0266 (0.0381)  loss_box_reg: 0.0618 (0.0638)  loss_objectness: 0.0038 (0.0090)  loss_rpn_box_reg: 0.0012 (0.0040)  time: 0.1135  data: 0.0301  max mem: 4009\n",
      "Epoch: [4]  [ 4900/12099]  eta: 0:14:04  lr: 0.000300  loss: 0.1360 (0.1149)  loss_classifier: 0.0301 (0.0381)  loss_box_reg: 0.0691 (0.0638)  loss_objectness: 0.0062 (0.0090)  loss_rpn_box_reg: 0.0010 (0.0040)  time: 0.1163  data: 0.0327  max mem: 4009\n",
      "Epoch: [4]  [ 5000/12099]  eta: 0:13:52  lr: 0.000300  loss: 0.0772 (0.1150)  loss_classifier: 0.0229 (0.0382)  loss_box_reg: 0.0471 (0.0638)  loss_objectness: 0.0030 (0.0090)  loss_rpn_box_reg: 0.0015 (0.0040)  time: 0.1140  data: 0.0311  max mem: 4009\n",
      "Epoch: [4]  [ 5100/12099]  eta: 0:13:40  lr: 0.000300  loss: 0.1195 (0.1150)  loss_classifier: 0.0342 (0.0382)  loss_box_reg: 0.0656 (0.0638)  loss_objectness: 0.0032 (0.0090)  loss_rpn_box_reg: 0.0016 (0.0040)  time: 0.1137  data: 0.0298  max mem: 4009\n",
      "Epoch: [4]  [ 5200/12099]  eta: 0:13:28  lr: 0.000300  loss: 0.0686 (0.1149)  loss_classifier: 0.0224 (0.0382)  loss_box_reg: 0.0515 (0.0637)  loss_objectness: 0.0020 (0.0090)  loss_rpn_box_reg: 0.0016 (0.0040)  time: 0.1151  data: 0.0313  max mem: 4009\n",
      "Epoch: [4]  [ 5300/12099]  eta: 0:13:16  lr: 0.000300  loss: 0.0698 (0.1149)  loss_classifier: 0.0234 (0.0382)  loss_box_reg: 0.0428 (0.0637)  loss_objectness: 0.0028 (0.0089)  loss_rpn_box_reg: 0.0010 (0.0040)  time: 0.1154  data: 0.0307  max mem: 4009\n",
      "Epoch: [4]  [ 5400/12099]  eta: 0:13:04  lr: 0.000300  loss: 0.0838 (0.1148)  loss_classifier: 0.0255 (0.0381)  loss_box_reg: 0.0506 (0.0637)  loss_objectness: 0.0025 (0.0089)  loss_rpn_box_reg: 0.0012 (0.0041)  time: 0.1147  data: 0.0314  max mem: 4009\n",
      "Epoch: [4]  [ 5500/12099]  eta: 0:12:52  lr: 0.000300  loss: 0.0800 (0.1147)  loss_classifier: 0.0255 (0.0381)  loss_box_reg: 0.0470 (0.0636)  loss_objectness: 0.0020 (0.0089)  loss_rpn_box_reg: 0.0016 (0.0041)  time: 0.1134  data: 0.0300  max mem: 4009\n",
      "Epoch: [4]  [ 5600/12099]  eta: 0:12:40  lr: 0.000300  loss: 0.1038 (0.1146)  loss_classifier: 0.0290 (0.0381)  loss_box_reg: 0.0533 (0.0635)  loss_objectness: 0.0053 (0.0089)  loss_rpn_box_reg: 0.0009 (0.0040)  time: 0.1159  data: 0.0322  max mem: 4009\n",
      "Epoch: [4]  [ 5700/12099]  eta: 0:12:28  lr: 0.000300  loss: 0.0948 (0.1143)  loss_classifier: 0.0287 (0.0380)  loss_box_reg: 0.0457 (0.0635)  loss_objectness: 0.0036 (0.0088)  loss_rpn_box_reg: 0.0013 (0.0040)  time: 0.1148  data: 0.0309  max mem: 4009\n",
      "Epoch: [4]  [ 5800/12099]  eta: 0:12:16  lr: 0.000300  loss: 0.1026 (0.1145)  loss_classifier: 0.0253 (0.0380)  loss_box_reg: 0.0609 (0.0636)  loss_objectness: 0.0024 (0.0088)  loss_rpn_box_reg: 0.0012 (0.0040)  time: 0.1145  data: 0.0311  max mem: 4009\n",
      "Epoch: [4]  [ 5900/12099]  eta: 0:12:04  lr: 0.000300  loss: 0.0803 (0.1144)  loss_classifier: 0.0261 (0.0380)  loss_box_reg: 0.0526 (0.0636)  loss_objectness: 0.0046 (0.0088)  loss_rpn_box_reg: 0.0010 (0.0040)  time: 0.1144  data: 0.0310  max mem: 4009\n",
      "Epoch: [4]  [ 6000/12099]  eta: 0:11:52  lr: 0.000300  loss: 0.1317 (0.1146)  loss_classifier: 0.0411 (0.0381)  loss_box_reg: 0.0731 (0.0637)  loss_objectness: 0.0078 (0.0088)  loss_rpn_box_reg: 0.0016 (0.0040)  time: 0.1149  data: 0.0316  max mem: 4009\n",
      "Epoch: [4]  [ 6100/12099]  eta: 0:11:40  lr: 0.000300  loss: 0.0967 (0.1147)  loss_classifier: 0.0328 (0.0381)  loss_box_reg: 0.0622 (0.0637)  loss_objectness: 0.0030 (0.0088)  loss_rpn_box_reg: 0.0016 (0.0040)  time: 0.1141  data: 0.0310  max mem: 4009\n",
      "Epoch: [4]  [ 6200/12099]  eta: 0:11:28  lr: 0.000300  loss: 0.0669 (0.1145)  loss_classifier: 0.0219 (0.0381)  loss_box_reg: 0.0479 (0.0636)  loss_objectness: 0.0019 (0.0088)  loss_rpn_box_reg: 0.0013 (0.0040)  time: 0.1134  data: 0.0300  max mem: 4009\n",
      "Epoch: [4]  [ 6300/12099]  eta: 0:11:16  lr: 0.000300  loss: 0.1039 (0.1145)  loss_classifier: 0.0286 (0.0381)  loss_box_reg: 0.0528 (0.0636)  loss_objectness: 0.0068 (0.0088)  loss_rpn_box_reg: 0.0013 (0.0040)  time: 0.1143  data: 0.0309  max mem: 4009\n",
      "Epoch: [4]  [ 6400/12099]  eta: 0:11:05  lr: 0.000300  loss: 0.0908 (0.1144)  loss_classifier: 0.0242 (0.0380)  loss_box_reg: 0.0528 (0.0636)  loss_objectness: 0.0029 (0.0088)  loss_rpn_box_reg: 0.0011 (0.0040)  time: 0.1166  data: 0.0316  max mem: 4009\n",
      "Epoch: [4]  [ 6500/12099]  eta: 0:10:53  lr: 0.000300  loss: 0.0867 (0.1144)  loss_classifier: 0.0293 (0.0380)  loss_box_reg: 0.0443 (0.0636)  loss_objectness: 0.0061 (0.0088)  loss_rpn_box_reg: 0.0011 (0.0040)  time: 0.1250  data: 0.0369  max mem: 4009\n",
      "Epoch: [4]  [ 6600/12099]  eta: 0:10:42  lr: 0.000300  loss: 0.0908 (0.1145)  loss_classifier: 0.0291 (0.0381)  loss_box_reg: 0.0520 (0.0636)  loss_objectness: 0.0017 (0.0089)  loss_rpn_box_reg: 0.0015 (0.0040)  time: 0.1148  data: 0.0308  max mem: 4009\n",
      "Epoch: [4]  [ 6700/12099]  eta: 0:10:30  lr: 0.000300  loss: 0.1073 (0.1145)  loss_classifier: 0.0390 (0.0381)  loss_box_reg: 0.0512 (0.0635)  loss_objectness: 0.0073 (0.0089)  loss_rpn_box_reg: 0.0016 (0.0040)  time: 0.1146  data: 0.0309  max mem: 4009\n",
      "Epoch: [4]  [ 6800/12099]  eta: 0:10:18  lr: 0.000300  loss: 0.1289 (0.1147)  loss_classifier: 0.0355 (0.0382)  loss_box_reg: 0.0744 (0.0636)  loss_objectness: 0.0047 (0.0089)  loss_rpn_box_reg: 0.0016 (0.0040)  time: 0.1138  data: 0.0300  max mem: 4009\n",
      "Epoch: [4]  [ 6900/12099]  eta: 0:10:06  lr: 0.000300  loss: 0.1006 (0.1147)  loss_classifier: 0.0242 (0.0382)  loss_box_reg: 0.0657 (0.0636)  loss_objectness: 0.0038 (0.0089)  loss_rpn_box_reg: 0.0014 (0.0040)  time: 0.1148  data: 0.0309  max mem: 4009\n",
      "Epoch: [4]  [ 7000/12099]  eta: 0:09:55  lr: 0.000300  loss: 0.0976 (0.1147)  loss_classifier: 0.0303 (0.0383)  loss_box_reg: 0.0514 (0.0636)  loss_objectness: 0.0029 (0.0089)  loss_rpn_box_reg: 0.0013 (0.0040)  time: 0.1203  data: 0.0329  max mem: 4009\n",
      "Epoch: [4]  [ 7100/12099]  eta: 0:09:43  lr: 0.000300  loss: 0.0833 (0.1147)  loss_classifier: 0.0230 (0.0383)  loss_box_reg: 0.0556 (0.0636)  loss_objectness: 0.0030 (0.0089)  loss_rpn_box_reg: 0.0014 (0.0040)  time: 0.1163  data: 0.0326  max mem: 4009\n",
      "Epoch: [4]  [ 7200/12099]  eta: 0:09:31  lr: 0.000300  loss: 0.1134 (0.1147)  loss_classifier: 0.0290 (0.0382)  loss_box_reg: 0.0806 (0.0636)  loss_objectness: 0.0034 (0.0088)  loss_rpn_box_reg: 0.0014 (0.0040)  time: 0.1162  data: 0.0328  max mem: 4009\n"
     ]
    },
    {
     "name": "stdout",
     "output_type": "stream",
     "text": [
      "Epoch: [4]  [ 7300/12099]  eta: 0:09:20  lr: 0.000300  loss: 0.0887 (0.1147)  loss_classifier: 0.0283 (0.0382)  loss_box_reg: 0.0562 (0.0636)  loss_objectness: 0.0040 (0.0088)  loss_rpn_box_reg: 0.0018 (0.0040)  time: 0.1143  data: 0.0311  max mem: 4009\n",
      "Epoch: [4]  [ 7400/12099]  eta: 0:09:08  lr: 0.000300  loss: 0.0790 (0.1148)  loss_classifier: 0.0189 (0.0382)  loss_box_reg: 0.0470 (0.0637)  loss_objectness: 0.0021 (0.0089)  loss_rpn_box_reg: 0.0010 (0.0040)  time: 0.1231  data: 0.0363  max mem: 4009\n",
      "Epoch: [4]  [ 7500/12099]  eta: 0:08:57  lr: 0.000300  loss: 0.0894 (0.1147)  loss_classifier: 0.0285 (0.0382)  loss_box_reg: 0.0615 (0.0637)  loss_objectness: 0.0027 (0.0088)  loss_rpn_box_reg: 0.0022 (0.0040)  time: 0.1153  data: 0.0306  max mem: 4009\n",
      "Epoch: [4]  [ 7600/12099]  eta: 0:08:45  lr: 0.000300  loss: 0.0904 (0.1146)  loss_classifier: 0.0228 (0.0382)  loss_box_reg: 0.0550 (0.0636)  loss_objectness: 0.0030 (0.0088)  loss_rpn_box_reg: 0.0011 (0.0040)  time: 0.1235  data: 0.0337  max mem: 4009\n",
      "Epoch: [4]  [ 7700/12099]  eta: 0:08:34  lr: 0.000300  loss: 0.0876 (0.1146)  loss_classifier: 0.0295 (0.0381)  loss_box_reg: 0.0541 (0.0636)  loss_objectness: 0.0036 (0.0089)  loss_rpn_box_reg: 0.0017 (0.0040)  time: 0.1182  data: 0.0333  max mem: 4009\n",
      "Epoch: [4]  [ 7800/12099]  eta: 0:08:22  lr: 0.000300  loss: 0.0997 (0.1148)  loss_classifier: 0.0300 (0.0382)  loss_box_reg: 0.0609 (0.0637)  loss_objectness: 0.0026 (0.0089)  loss_rpn_box_reg: 0.0014 (0.0040)  time: 0.1168  data: 0.0319  max mem: 4009\n",
      "Epoch: [4]  [ 7900/12099]  eta: 0:08:10  lr: 0.000300  loss: 0.1197 (0.1148)  loss_classifier: 0.0268 (0.0382)  loss_box_reg: 0.0585 (0.0637)  loss_objectness: 0.0044 (0.0089)  loss_rpn_box_reg: 0.0014 (0.0040)  time: 0.1250  data: 0.0347  max mem: 4009\n",
      "Epoch: [4]  [ 8000/12099]  eta: 0:07:59  lr: 0.000300  loss: 0.1236 (0.1149)  loss_classifier: 0.0297 (0.0382)  loss_box_reg: 0.0717 (0.0638)  loss_objectness: 0.0075 (0.0088)  loss_rpn_box_reg: 0.0023 (0.0040)  time: 0.1163  data: 0.0313  max mem: 4009\n",
      "Epoch: [4]  [ 8100/12099]  eta: 0:07:47  lr: 0.000300  loss: 0.1188 (0.1149)  loss_classifier: 0.0396 (0.0382)  loss_box_reg: 0.0656 (0.0638)  loss_objectness: 0.0038 (0.0088)  loss_rpn_box_reg: 0.0017 (0.0040)  time: 0.1236  data: 0.0347  max mem: 4009\n",
      "Epoch: [4]  [ 8200/12099]  eta: 0:07:36  lr: 0.000300  loss: 0.1003 (0.1149)  loss_classifier: 0.0259 (0.0382)  loss_box_reg: 0.0689 (0.0639)  loss_objectness: 0.0031 (0.0088)  loss_rpn_box_reg: 0.0013 (0.0040)  time: 0.1218  data: 0.0339  max mem: 4009\n",
      "Epoch: [4]  [ 8300/12099]  eta: 0:07:24  lr: 0.000300  loss: 0.1141 (0.1149)  loss_classifier: 0.0349 (0.0382)  loss_box_reg: 0.0535 (0.0638)  loss_objectness: 0.0025 (0.0089)  loss_rpn_box_reg: 0.0017 (0.0040)  time: 0.1165  data: 0.0325  max mem: 4009\n",
      "Epoch: [4]  [ 8400/12099]  eta: 0:07:12  lr: 0.000300  loss: 0.0986 (0.1149)  loss_classifier: 0.0278 (0.0381)  loss_box_reg: 0.0614 (0.0638)  loss_objectness: 0.0038 (0.0089)  loss_rpn_box_reg: 0.0019 (0.0040)  time: 0.1196  data: 0.0322  max mem: 4009\n",
      "Epoch: [4]  [ 8500/12099]  eta: 0:07:01  lr: 0.000300  loss: 0.0992 (0.1149)  loss_classifier: 0.0261 (0.0381)  loss_box_reg: 0.0582 (0.0638)  loss_objectness: 0.0040 (0.0089)  loss_rpn_box_reg: 0.0012 (0.0041)  time: 0.1152  data: 0.0319  max mem: 4009\n",
      "Epoch: [4]  [ 8600/12099]  eta: 0:06:49  lr: 0.000300  loss: 0.0958 (0.1149)  loss_classifier: 0.0481 (0.0382)  loss_box_reg: 0.0579 (0.0638)  loss_objectness: 0.0045 (0.0089)  loss_rpn_box_reg: 0.0014 (0.0041)  time: 0.1195  data: 0.0340  max mem: 4009\n",
      "Epoch: [4]  [ 8700/12099]  eta: 0:06:37  lr: 0.000300  loss: 0.0809 (0.1149)  loss_classifier: 0.0260 (0.0382)  loss_box_reg: 0.0499 (0.0638)  loss_objectness: 0.0029 (0.0089)  loss_rpn_box_reg: 0.0014 (0.0041)  time: 0.1151  data: 0.0319  max mem: 4009\n",
      "Epoch: [4]  [ 8800/12099]  eta: 0:06:25  lr: 0.000300  loss: 0.1048 (0.1149)  loss_classifier: 0.0243 (0.0382)  loss_box_reg: 0.0495 (0.0638)  loss_objectness: 0.0022 (0.0089)  loss_rpn_box_reg: 0.0018 (0.0041)  time: 0.1153  data: 0.0319  max mem: 4009\n",
      "Epoch: [4]  [ 8900/12099]  eta: 0:06:14  lr: 0.000300  loss: 0.1078 (0.1149)  loss_classifier: 0.0393 (0.0382)  loss_box_reg: 0.0689 (0.0638)  loss_objectness: 0.0034 (0.0088)  loss_rpn_box_reg: 0.0012 (0.0041)  time: 0.1168  data: 0.0327  max mem: 4009\n",
      "Epoch: [4]  [ 9000/12099]  eta: 0:06:03  lr: 0.000300  loss: 0.1076 (0.1150)  loss_classifier: 0.0308 (0.0382)  loss_box_reg: 0.0489 (0.0638)  loss_objectness: 0.0040 (0.0089)  loss_rpn_box_reg: 0.0015 (0.0041)  time: 0.1362  data: 0.0429  max mem: 4009\n",
      "Epoch: [4]  [ 9100/12099]  eta: 0:05:51  lr: 0.000300  loss: 0.0887 (0.1149)  loss_classifier: 0.0316 (0.0382)  loss_box_reg: 0.0483 (0.0638)  loss_objectness: 0.0053 (0.0089)  loss_rpn_box_reg: 0.0017 (0.0041)  time: 0.1246  data: 0.0354  max mem: 4009\n",
      "Epoch: [4]  [ 9200/12099]  eta: 0:05:40  lr: 0.000300  loss: 0.1029 (0.1148)  loss_classifier: 0.0286 (0.0381)  loss_box_reg: 0.0523 (0.0638)  loss_objectness: 0.0025 (0.0089)  loss_rpn_box_reg: 0.0022 (0.0041)  time: 0.1210  data: 0.0329  max mem: 4009\n",
      "Epoch: [4]  [ 9300/12099]  eta: 0:05:28  lr: 0.000300  loss: 0.1033 (0.1149)  loss_classifier: 0.0351 (0.0381)  loss_box_reg: 0.0669 (0.0638)  loss_objectness: 0.0038 (0.0089)  loss_rpn_box_reg: 0.0016 (0.0041)  time: 0.1200  data: 0.0321  max mem: 4009\n",
      "Epoch: [4]  [ 9400/12099]  eta: 0:05:17  lr: 0.000300  loss: 0.0868 (0.1150)  loss_classifier: 0.0259 (0.0382)  loss_box_reg: 0.0573 (0.0639)  loss_objectness: 0.0040 (0.0089)  loss_rpn_box_reg: 0.0018 (0.0041)  time: 0.1238  data: 0.0356  max mem: 4009\n",
      "Epoch: [4]  [ 9500/12099]  eta: 0:05:05  lr: 0.000300  loss: 0.0977 (0.1151)  loss_classifier: 0.0252 (0.0382)  loss_box_reg: 0.0669 (0.0640)  loss_objectness: 0.0040 (0.0089)  loss_rpn_box_reg: 0.0026 (0.0041)  time: 0.1195  data: 0.0334  max mem: 4009\n",
      "Epoch: [4]  [ 9600/12099]  eta: 0:04:54  lr: 0.000300  loss: 0.0891 (0.1151)  loss_classifier: 0.0244 (0.0382)  loss_box_reg: 0.0558 (0.0640)  loss_objectness: 0.0028 (0.0088)  loss_rpn_box_reg: 0.0011 (0.0041)  time: 0.1272  data: 0.0361  max mem: 4009\n",
      "Epoch: [4]  [ 9700/12099]  eta: 0:04:42  lr: 0.000300  loss: 0.0984 (0.1151)  loss_classifier: 0.0339 (0.0382)  loss_box_reg: 0.0522 (0.0639)  loss_objectness: 0.0024 (0.0088)  loss_rpn_box_reg: 0.0013 (0.0041)  time: 0.1178  data: 0.0324  max mem: 4009\n",
      "Epoch: [4]  [ 9800/12099]  eta: 0:04:30  lr: 0.000300  loss: 0.1121 (0.1150)  loss_classifier: 0.0337 (0.0382)  loss_box_reg: 0.0602 (0.0639)  loss_objectness: 0.0031 (0.0088)  loss_rpn_box_reg: 0.0012 (0.0041)  time: 0.1239  data: 0.0366  max mem: 4009\n",
      "Epoch: [4]  [ 9900/12099]  eta: 0:04:19  lr: 0.000300  loss: 0.0721 (0.1151)  loss_classifier: 0.0188 (0.0382)  loss_box_reg: 0.0390 (0.0639)  loss_objectness: 0.0033 (0.0089)  loss_rpn_box_reg: 0.0018 (0.0041)  time: 0.1250  data: 0.0362  max mem: 4009\n",
      "Epoch: [4]  [10000/12099]  eta: 0:04:07  lr: 0.000300  loss: 0.0971 (0.1151)  loss_classifier: 0.0272 (0.0382)  loss_box_reg: 0.0546 (0.0639)  loss_objectness: 0.0052 (0.0089)  loss_rpn_box_reg: 0.0013 (0.0041)  time: 0.1356  data: 0.0377  max mem: 4009\n",
      "Epoch: [4]  [10100/12099]  eta: 0:03:56  lr: 0.000300  loss: 0.0973 (0.1151)  loss_classifier: 0.0325 (0.0382)  loss_box_reg: 0.0630 (0.0639)  loss_objectness: 0.0053 (0.0089)  loss_rpn_box_reg: 0.0028 (0.0041)  time: 0.1258  data: 0.0352  max mem: 4009\n",
      "Epoch: [4]  [10200/12099]  eta: 0:03:44  lr: 0.000300  loss: 0.1310 (0.1152)  loss_classifier: 0.0401 (0.0382)  loss_box_reg: 0.0602 (0.0640)  loss_objectness: 0.0076 (0.0089)  loss_rpn_box_reg: 0.0016 (0.0041)  time: 0.1243  data: 0.0349  max mem: 4009\n",
      "Epoch: [4]  [10300/12099]  eta: 0:03:32  lr: 0.000300  loss: 0.1119 (0.1153)  loss_classifier: 0.0384 (0.0383)  loss_box_reg: 0.0729 (0.0640)  loss_objectness: 0.0039 (0.0089)  loss_rpn_box_reg: 0.0025 (0.0041)  time: 0.1243  data: 0.0359  max mem: 4009\n",
      "Epoch: [4]  [10400/12099]  eta: 0:03:21  lr: 0.000300  loss: 0.1152 (0.1153)  loss_classifier: 0.0308 (0.0382)  loss_box_reg: 0.0517 (0.0640)  loss_objectness: 0.0051 (0.0089)  loss_rpn_box_reg: 0.0025 (0.0041)  time: 0.1327  data: 0.0394  max mem: 4009\n",
      "Epoch: [4]  [10500/12099]  eta: 0:03:09  lr: 0.000300  loss: 0.0721 (0.1152)  loss_classifier: 0.0264 (0.0382)  loss_box_reg: 0.0389 (0.0640)  loss_objectness: 0.0020 (0.0089)  loss_rpn_box_reg: 0.0016 (0.0041)  time: 0.1171  data: 0.0314  max mem: 4009\n"
     ]
    },
    {
     "name": "stdout",
     "output_type": "stream",
     "text": [
      "Epoch: [4]  [10600/12099]  eta: 0:02:57  lr: 0.000300  loss: 0.0992 (0.1152)  loss_classifier: 0.0325 (0.0382)  loss_box_reg: 0.0570 (0.0639)  loss_objectness: 0.0031 (0.0089)  loss_rpn_box_reg: 0.0009 (0.0041)  time: 0.1150  data: 0.0313  max mem: 4009\n",
      "Epoch: [4]  [10700/12099]  eta: 0:02:45  lr: 0.000300  loss: 0.1192 (0.1151)  loss_classifier: 0.0299 (0.0382)  loss_box_reg: 0.0707 (0.0639)  loss_objectness: 0.0038 (0.0089)  loss_rpn_box_reg: 0.0009 (0.0041)  time: 0.1129  data: 0.0300  max mem: 4009\n",
      "Epoch: [4]  [10800/12099]  eta: 0:02:33  lr: 0.000300  loss: 0.1065 (0.1151)  loss_classifier: 0.0313 (0.0382)  loss_box_reg: 0.0564 (0.0639)  loss_objectness: 0.0052 (0.0089)  loss_rpn_box_reg: 0.0021 (0.0041)  time: 0.1148  data: 0.0316  max mem: 4009\n",
      "Epoch: [4]  [10900/12099]  eta: 0:02:21  lr: 0.000300  loss: 0.1033 (0.1152)  loss_classifier: 0.0272 (0.0382)  loss_box_reg: 0.0665 (0.0640)  loss_objectness: 0.0015 (0.0089)  loss_rpn_box_reg: 0.0017 (0.0041)  time: 0.1157  data: 0.0311  max mem: 4009\n",
      "Epoch: [4]  [11000/12099]  eta: 0:02:09  lr: 0.000300  loss: 0.0823 (0.1153)  loss_classifier: 0.0255 (0.0382)  loss_box_reg: 0.0551 (0.0640)  loss_objectness: 0.0035 (0.0090)  loss_rpn_box_reg: 0.0015 (0.0041)  time: 0.1255  data: 0.0351  max mem: 4009\n",
      "Epoch: [4]  [11100/12099]  eta: 0:01:58  lr: 0.000300  loss: 0.1046 (0.1152)  loss_classifier: 0.0280 (0.0382)  loss_box_reg: 0.0652 (0.0640)  loss_objectness: 0.0032 (0.0089)  loss_rpn_box_reg: 0.0012 (0.0041)  time: 0.1293  data: 0.0385  max mem: 4009\n",
      "Epoch: [4]  [11200/12099]  eta: 0:01:46  lr: 0.000300  loss: 0.0889 (0.1151)  loss_classifier: 0.0294 (0.0381)  loss_box_reg: 0.0501 (0.0640)  loss_objectness: 0.0024 (0.0089)  loss_rpn_box_reg: 0.0015 (0.0041)  time: 0.1210  data: 0.0339  max mem: 4009\n",
      "Epoch: [4]  [11300/12099]  eta: 0:01:34  lr: 0.000300  loss: 0.0798 (0.1151)  loss_classifier: 0.0221 (0.0381)  loss_box_reg: 0.0416 (0.0639)  loss_objectness: 0.0027 (0.0089)  loss_rpn_box_reg: 0.0010 (0.0041)  time: 0.1272  data: 0.0368  max mem: 4009\n",
      "Epoch: [4]  [11400/12099]  eta: 0:01:22  lr: 0.000300  loss: 0.0982 (0.1151)  loss_classifier: 0.0318 (0.0381)  loss_box_reg: 0.0625 (0.0640)  loss_objectness: 0.0047 (0.0089)  loss_rpn_box_reg: 0.0018 (0.0041)  time: 0.1222  data: 0.0355  max mem: 4009\n",
      "Epoch: [4]  [11500/12099]  eta: 0:01:11  lr: 0.000300  loss: 0.0984 (0.1152)  loss_classifier: 0.0295 (0.0382)  loss_box_reg: 0.0566 (0.0640)  loss_objectness: 0.0026 (0.0089)  loss_rpn_box_reg: 0.0015 (0.0041)  time: 0.1219  data: 0.0335  max mem: 4009\n",
      "Epoch: [4]  [11600/12099]  eta: 0:00:59  lr: 0.000300  loss: 0.0947 (0.1152)  loss_classifier: 0.0267 (0.0382)  loss_box_reg: 0.0478 (0.0640)  loss_objectness: 0.0050 (0.0089)  loss_rpn_box_reg: 0.0009 (0.0041)  time: 0.1199  data: 0.0317  max mem: 4009\n",
      "Epoch: [4]  [11700/12099]  eta: 0:00:47  lr: 0.000300  loss: 0.0915 (0.1151)  loss_classifier: 0.0293 (0.0381)  loss_box_reg: 0.0517 (0.0639)  loss_objectness: 0.0036 (0.0089)  loss_rpn_box_reg: 0.0015 (0.0041)  time: 0.1219  data: 0.0333  max mem: 4009\n",
      "Epoch: [4]  [11800/12099]  eta: 0:00:35  lr: 0.000300  loss: 0.1046 (0.1150)  loss_classifier: 0.0303 (0.0381)  loss_box_reg: 0.0561 (0.0639)  loss_objectness: 0.0021 (0.0089)  loss_rpn_box_reg: 0.0011 (0.0041)  time: 0.1221  data: 0.0337  max mem: 4009\n",
      "Epoch: [4]  [11900/12099]  eta: 0:00:23  lr: 0.000300  loss: 0.0805 (0.1150)  loss_classifier: 0.0260 (0.0381)  loss_box_reg: 0.0426 (0.0639)  loss_objectness: 0.0024 (0.0089)  loss_rpn_box_reg: 0.0012 (0.0041)  time: 0.1227  data: 0.0341  max mem: 4009\n",
      "Epoch: [4]  [12000/12099]  eta: 0:00:11  lr: 0.000300  loss: 0.0775 (0.1150)  loss_classifier: 0.0224 (0.0381)  loss_box_reg: 0.0501 (0.0639)  loss_objectness: 0.0023 (0.0089)  loss_rpn_box_reg: 0.0009 (0.0041)  time: 0.1222  data: 0.0332  max mem: 4009\n",
      "Epoch: [4]  [12098/12099]  eta: 0:00:00  lr: 0.000300  loss: 0.1034 (0.1149)  loss_classifier: 0.0298 (0.0381)  loss_box_reg: 0.0555 (0.0639)  loss_objectness: 0.0053 (0.0089)  loss_rpn_box_reg: 0.0022 (0.0041)  time: 0.1199  data: 0.0329  max mem: 4009\n",
      "Epoch: [4] Total time: 0:23:56 (0.1187 s / it)\n",
      "Epoch: [5]  [    0/12099]  eta: 0:24:48  lr: 0.000030  loss: 0.0731 (0.0731)  loss_classifier: 0.0181 (0.0181)  loss_box_reg: 0.0515 (0.0515)  loss_objectness: 0.0027 (0.0027)  loss_rpn_box_reg: 0.0008 (0.0008)  time: 0.1230  data: 0.0305  max mem: 4009\n",
      "Epoch: [5]  [  100/12099]  eta: 0:24:27  lr: 0.000030  loss: 0.0707 (0.1012)  loss_classifier: 0.0240 (0.0335)  loss_box_reg: 0.0441 (0.0591)  loss_objectness: 0.0026 (0.0061)  loss_rpn_box_reg: 0.0010 (0.0025)  time: 0.1203  data: 0.0324  max mem: 4009\n",
      "Epoch: [5]  [  200/12099]  eta: 0:24:06  lr: 0.000030  loss: 0.1115 (0.1154)  loss_classifier: 0.0308 (0.0389)  loss_box_reg: 0.0607 (0.0647)  loss_objectness: 0.0046 (0.0084)  loss_rpn_box_reg: 0.0013 (0.0034)  time: 0.1201  data: 0.0324  max mem: 4009\n",
      "Epoch: [5]  [  300/12099]  eta: 0:23:54  lr: 0.000030  loss: 0.0875 (0.1187)  loss_classifier: 0.0269 (0.0404)  loss_box_reg: 0.0551 (0.0653)  loss_objectness: 0.0048 (0.0095)  loss_rpn_box_reg: 0.0018 (0.0034)  time: 0.1201  data: 0.0326  max mem: 4009\n",
      "Epoch: [5]  [  400/12099]  eta: 0:23:42  lr: 0.000030  loss: 0.1089 (0.1174)  loss_classifier: 0.0324 (0.0395)  loss_box_reg: 0.0618 (0.0657)  loss_objectness: 0.0044 (0.0089)  loss_rpn_box_reg: 0.0016 (0.0034)  time: 0.1170  data: 0.0320  max mem: 4009\n",
      "Epoch: [5]  [  500/12099]  eta: 0:23:25  lr: 0.000030  loss: 0.0803 (0.1176)  loss_classifier: 0.0285 (0.0391)  loss_box_reg: 0.0491 (0.0660)  loss_objectness: 0.0029 (0.0090)  loss_rpn_box_reg: 0.0013 (0.0035)  time: 0.1197  data: 0.0332  max mem: 4009\n",
      "Epoch: [5]  [  600/12099]  eta: 0:23:06  lr: 0.000030  loss: 0.1034 (0.1173)  loss_classifier: 0.0301 (0.0393)  loss_box_reg: 0.0550 (0.0657)  loss_objectness: 0.0063 (0.0089)  loss_rpn_box_reg: 0.0016 (0.0034)  time: 0.1173  data: 0.0327  max mem: 4009\n",
      "Epoch: [5]  [  700/12099]  eta: 0:23:09  lr: 0.000030  loss: 0.0924 (0.1168)  loss_classifier: 0.0287 (0.0391)  loss_box_reg: 0.0573 (0.0654)  loss_objectness: 0.0040 (0.0089)  loss_rpn_box_reg: 0.0017 (0.0034)  time: 0.1218  data: 0.0350  max mem: 4009\n",
      "Epoch: [5]  [  800/12099]  eta: 0:22:58  lr: 0.000030  loss: 0.0889 (0.1174)  loss_classifier: 0.0213 (0.0391)  loss_box_reg: 0.0375 (0.0660)  loss_objectness: 0.0046 (0.0089)  loss_rpn_box_reg: 0.0011 (0.0034)  time: 0.1204  data: 0.0354  max mem: 4009\n",
      "Epoch: [5]  [  900/12099]  eta: 0:23:06  lr: 0.000030  loss: 0.0845 (0.1175)  loss_classifier: 0.0197 (0.0392)  loss_box_reg: 0.0425 (0.0658)  loss_objectness: 0.0035 (0.0091)  loss_rpn_box_reg: 0.0017 (0.0035)  time: 0.1409  data: 0.0446  max mem: 4009\n",
      "Epoch: [5]  [ 1000/12099]  eta: 0:23:09  lr: 0.000030  loss: 0.1215 (0.1180)  loss_classifier: 0.0359 (0.0391)  loss_box_reg: 0.0652 (0.0655)  loss_objectness: 0.0041 (0.0099)  loss_rpn_box_reg: 0.0026 (0.0036)  time: 0.1250  data: 0.0375  max mem: 4009\n",
      "Epoch: [5]  [ 1100/12099]  eta: 0:22:53  lr: 0.000030  loss: 0.1195 (0.1170)  loss_classifier: 0.0280 (0.0388)  loss_box_reg: 0.0736 (0.0651)  loss_objectness: 0.0036 (0.0097)  loss_rpn_box_reg: 0.0013 (0.0034)  time: 0.1245  data: 0.0363  max mem: 4009\n",
      "Epoch: [5]  [ 1200/12099]  eta: 0:22:36  lr: 0.000030  loss: 0.1039 (0.1173)  loss_classifier: 0.0300 (0.0390)  loss_box_reg: 0.0655 (0.0654)  loss_objectness: 0.0029 (0.0095)  loss_rpn_box_reg: 0.0017 (0.0035)  time: 0.1215  data: 0.0340  max mem: 4009\n",
      "Epoch: [5]  [ 1300/12099]  eta: 0:22:22  lr: 0.000030  loss: 0.1039 (0.1174)  loss_classifier: 0.0250 (0.0389)  loss_box_reg: 0.0590 (0.0656)  loss_objectness: 0.0035 (0.0093)  loss_rpn_box_reg: 0.0013 (0.0036)  time: 0.1285  data: 0.0401  max mem: 4009\n",
      "Epoch: [5]  [ 1400/12099]  eta: 0:22:06  lr: 0.000030  loss: 0.1112 (0.1172)  loss_classifier: 0.0331 (0.0389)  loss_box_reg: 0.0532 (0.0653)  loss_objectness: 0.0057 (0.0093)  loss_rpn_box_reg: 0.0026 (0.0038)  time: 0.1174  data: 0.0317  max mem: 4009\n",
      "Epoch: [5]  [ 1500/12099]  eta: 0:21:50  lr: 0.000030  loss: 0.0720 (0.1172)  loss_classifier: 0.0241 (0.0388)  loss_box_reg: 0.0469 (0.0655)  loss_objectness: 0.0040 (0.0091)  loss_rpn_box_reg: 0.0009 (0.0038)  time: 0.1165  data: 0.0311  max mem: 4009\n",
      "Epoch: [5]  [ 1600/12099]  eta: 0:21:34  lr: 0.000030  loss: 0.0941 (0.1172)  loss_classifier: 0.0231 (0.0389)  loss_box_reg: 0.0566 (0.0653)  loss_objectness: 0.0030 (0.0091)  loss_rpn_box_reg: 0.0018 (0.0039)  time: 0.1181  data: 0.0332  max mem: 4009\n"
     ]
    },
    {
     "name": "stdout",
     "output_type": "stream",
     "text": [
      "Epoch: [5]  [ 1700/12099]  eta: 0:21:19  lr: 0.000030  loss: 0.0837 (0.1170)  loss_classifier: 0.0228 (0.0388)  loss_box_reg: 0.0541 (0.0654)  loss_objectness: 0.0026 (0.0089)  loss_rpn_box_reg: 0.0017 (0.0039)  time: 0.1174  data: 0.0321  max mem: 4009\n",
      "Epoch: [5]  [ 1800/12099]  eta: 0:21:06  lr: 0.000030  loss: 0.1056 (0.1169)  loss_classifier: 0.0296 (0.0388)  loss_box_reg: 0.0616 (0.0652)  loss_objectness: 0.0066 (0.0089)  loss_rpn_box_reg: 0.0015 (0.0039)  time: 0.1201  data: 0.0331  max mem: 4009\n",
      "Epoch: [5]  [ 1900/12099]  eta: 0:20:52  lr: 0.000030  loss: 0.0822 (0.1166)  loss_classifier: 0.0230 (0.0388)  loss_box_reg: 0.0458 (0.0651)  loss_objectness: 0.0048 (0.0089)  loss_rpn_box_reg: 0.0014 (0.0039)  time: 0.1180  data: 0.0322  max mem: 4009\n",
      "Epoch: [5]  [ 2000/12099]  eta: 0:20:40  lr: 0.000030  loss: 0.1123 (0.1168)  loss_classifier: 0.0320 (0.0388)  loss_box_reg: 0.0672 (0.0652)  loss_objectness: 0.0035 (0.0089)  loss_rpn_box_reg: 0.0018 (0.0039)  time: 0.1274  data: 0.0379  max mem: 4009\n",
      "Epoch: [5]  [ 2100/12099]  eta: 0:20:31  lr: 0.000030  loss: 0.1028 (0.1170)  loss_classifier: 0.0232 (0.0389)  loss_box_reg: 0.0527 (0.0652)  loss_objectness: 0.0037 (0.0090)  loss_rpn_box_reg: 0.0017 (0.0039)  time: 0.1308  data: 0.0393  max mem: 4009\n",
      "Epoch: [5]  [ 2200/12099]  eta: 0:20:16  lr: 0.000030  loss: 0.1261 (0.1167)  loss_classifier: 0.0338 (0.0387)  loss_box_reg: 0.0644 (0.0651)  loss_objectness: 0.0050 (0.0089)  loss_rpn_box_reg: 0.0015 (0.0040)  time: 0.1211  data: 0.0340  max mem: 4009\n",
      "Epoch: [5]  [ 2300/12099]  eta: 0:20:02  lr: 0.000030  loss: 0.0911 (0.1168)  loss_classifier: 0.0272 (0.0387)  loss_box_reg: 0.0487 (0.0650)  loss_objectness: 0.0046 (0.0090)  loss_rpn_box_reg: 0.0026 (0.0040)  time: 0.1279  data: 0.0362  max mem: 4009\n",
      "Epoch: [5]  [ 2400/12099]  eta: 0:19:50  lr: 0.000030  loss: 0.0786 (0.1165)  loss_classifier: 0.0312 (0.0386)  loss_box_reg: 0.0439 (0.0649)  loss_objectness: 0.0025 (0.0090)  loss_rpn_box_reg: 0.0015 (0.0040)  time: 0.1186  data: 0.0323  max mem: 4009\n",
      "Epoch: [5]  [ 2500/12099]  eta: 0:19:38  lr: 0.000030  loss: 0.1081 (0.1164)  loss_classifier: 0.0296 (0.0386)  loss_box_reg: 0.0529 (0.0649)  loss_objectness: 0.0025 (0.0089)  loss_rpn_box_reg: 0.0029 (0.0040)  time: 0.1293  data: 0.0364  max mem: 4009\n",
      "Epoch: [5]  [ 2600/12099]  eta: 0:19:30  lr: 0.000030  loss: 0.0873 (0.1163)  loss_classifier: 0.0299 (0.0385)  loss_box_reg: 0.0563 (0.0649)  loss_objectness: 0.0017 (0.0089)  loss_rpn_box_reg: 0.0017 (0.0040)  time: 0.1342  data: 0.0369  max mem: 4009\n",
      "Epoch: [5]  [ 2700/12099]  eta: 0:19:23  lr: 0.000030  loss: 0.0934 (0.1160)  loss_classifier: 0.0264 (0.0383)  loss_box_reg: 0.0498 (0.0648)  loss_objectness: 0.0028 (0.0089)  loss_rpn_box_reg: 0.0010 (0.0040)  time: 0.1418  data: 0.0424  max mem: 4009\n",
      "Epoch: [5]  [ 2800/12099]  eta: 0:19:16  lr: 0.000030  loss: 0.1116 (0.1159)  loss_classifier: 0.0309 (0.0383)  loss_box_reg: 0.0564 (0.0646)  loss_objectness: 0.0041 (0.0089)  loss_rpn_box_reg: 0.0015 (0.0040)  time: 0.1350  data: 0.0391  max mem: 4009\n",
      "Epoch: [5]  [ 2900/12099]  eta: 0:19:06  lr: 0.000030  loss: 0.0948 (0.1162)  loss_classifier: 0.0294 (0.0385)  loss_box_reg: 0.0626 (0.0648)  loss_objectness: 0.0052 (0.0089)  loss_rpn_box_reg: 0.0010 (0.0040)  time: 0.1362  data: 0.0384  max mem: 4009\n",
      "Epoch: [5]  [ 3000/12099]  eta: 0:18:56  lr: 0.000030  loss: 0.1108 (0.1162)  loss_classifier: 0.0287 (0.0385)  loss_box_reg: 0.0809 (0.0649)  loss_objectness: 0.0045 (0.0089)  loss_rpn_box_reg: 0.0017 (0.0039)  time: 0.1196  data: 0.0328  max mem: 4009\n",
      "Epoch: [5]  [ 3100/12099]  eta: 0:18:42  lr: 0.000030  loss: 0.0844 (0.1162)  loss_classifier: 0.0267 (0.0385)  loss_box_reg: 0.0478 (0.0649)  loss_objectness: 0.0051 (0.0089)  loss_rpn_box_reg: 0.0023 (0.0039)  time: 0.1326  data: 0.0398  max mem: 4009\n",
      "Epoch: [5]  [ 3200/12099]  eta: 0:18:34  lr: 0.000030  loss: 0.0799 (0.1160)  loss_classifier: 0.0195 (0.0384)  loss_box_reg: 0.0500 (0.0648)  loss_objectness: 0.0021 (0.0089)  loss_rpn_box_reg: 0.0014 (0.0039)  time: 0.1352  data: 0.0396  max mem: 4009\n",
      "Epoch: [5]  [ 3300/12099]  eta: 0:18:24  lr: 0.000030  loss: 0.0964 (0.1161)  loss_classifier: 0.0316 (0.0384)  loss_box_reg: 0.0505 (0.0647)  loss_objectness: 0.0032 (0.0090)  loss_rpn_box_reg: 0.0014 (0.0039)  time: 0.1301  data: 0.0360  max mem: 4009\n",
      "Epoch: [5]  [ 3400/12099]  eta: 0:18:13  lr: 0.000030  loss: 0.1058 (0.1159)  loss_classifier: 0.0320 (0.0384)  loss_box_reg: 0.0643 (0.0647)  loss_objectness: 0.0023 (0.0089)  loss_rpn_box_reg: 0.0023 (0.0040)  time: 0.1338  data: 0.0365  max mem: 4009\n",
      "Epoch: [5]  [ 3500/12099]  eta: 0:18:02  lr: 0.000030  loss: 0.0811 (0.1158)  loss_classifier: 0.0253 (0.0383)  loss_box_reg: 0.0490 (0.0647)  loss_objectness: 0.0037 (0.0088)  loss_rpn_box_reg: 0.0010 (0.0039)  time: 0.1323  data: 0.0360  max mem: 4009\n",
      "Epoch: [5]  [ 3600/12099]  eta: 0:17:52  lr: 0.000030  loss: 0.1041 (0.1157)  loss_classifier: 0.0253 (0.0382)  loss_box_reg: 0.0567 (0.0646)  loss_objectness: 0.0042 (0.0088)  loss_rpn_box_reg: 0.0020 (0.0040)  time: 0.1356  data: 0.0364  max mem: 4009\n",
      "Epoch: [5]  [ 3700/12099]  eta: 0:17:41  lr: 0.000030  loss: 0.1115 (0.1160)  loss_classifier: 0.0311 (0.0384)  loss_box_reg: 0.0811 (0.0647)  loss_objectness: 0.0025 (0.0089)  loss_rpn_box_reg: 0.0014 (0.0040)  time: 0.1389  data: 0.0387  max mem: 4009\n",
      "Epoch: [5]  [ 3800/12099]  eta: 0:17:31  lr: 0.000030  loss: 0.0950 (0.1159)  loss_classifier: 0.0260 (0.0384)  loss_box_reg: 0.0569 (0.0647)  loss_objectness: 0.0050 (0.0089)  loss_rpn_box_reg: 0.0013 (0.0040)  time: 0.1337  data: 0.0363  max mem: 4009\n",
      "Epoch: [5]  [ 3900/12099]  eta: 0:17:19  lr: 0.000030  loss: 0.0913 (0.1158)  loss_classifier: 0.0232 (0.0384)  loss_box_reg: 0.0510 (0.0646)  loss_objectness: 0.0035 (0.0089)  loss_rpn_box_reg: 0.0023 (0.0040)  time: 0.1331  data: 0.0363  max mem: 4009\n",
      "Epoch: [5]  [ 4000/12099]  eta: 0:17:08  lr: 0.000030  loss: 0.0914 (0.1155)  loss_classifier: 0.0284 (0.0383)  loss_box_reg: 0.0335 (0.0643)  loss_objectness: 0.0067 (0.0088)  loss_rpn_box_reg: 0.0020 (0.0040)  time: 0.1307  data: 0.0365  max mem: 4009\n",
      "Epoch: [5]  [ 4100/12099]  eta: 0:16:57  lr: 0.000030  loss: 0.1343 (0.1156)  loss_classifier: 0.0336 (0.0383)  loss_box_reg: 0.0697 (0.0643)  loss_objectness: 0.0038 (0.0089)  loss_rpn_box_reg: 0.0020 (0.0040)  time: 0.1333  data: 0.0363  max mem: 4009\n",
      "Epoch: [5]  [ 4200/12099]  eta: 0:16:45  lr: 0.000030  loss: 0.1053 (0.1156)  loss_classifier: 0.0280 (0.0384)  loss_box_reg: 0.0662 (0.0644)  loss_objectness: 0.0024 (0.0088)  loss_rpn_box_reg: 0.0013 (0.0040)  time: 0.1302  data: 0.0347  max mem: 4009\n",
      "Epoch: [5]  [ 4300/12099]  eta: 0:16:33  lr: 0.000030  loss: 0.1021 (0.1155)  loss_classifier: 0.0336 (0.0383)  loss_box_reg: 0.0626 (0.0643)  loss_objectness: 0.0046 (0.0088)  loss_rpn_box_reg: 0.0017 (0.0040)  time: 0.1297  data: 0.0387  max mem: 4009\n",
      "Epoch: [5]  [ 4400/12099]  eta: 0:16:22  lr: 0.000030  loss: 0.1104 (0.1154)  loss_classifier: 0.0331 (0.0383)  loss_box_reg: 0.0651 (0.0642)  loss_objectness: 0.0065 (0.0088)  loss_rpn_box_reg: 0.0013 (0.0040)  time: 0.1387  data: 0.0391  max mem: 4009\n",
      "Epoch: [5]  [ 4500/12099]  eta: 0:16:11  lr: 0.000030  loss: 0.1153 (0.1154)  loss_classifier: 0.0204 (0.0383)  loss_box_reg: 0.0679 (0.0643)  loss_objectness: 0.0025 (0.0088)  loss_rpn_box_reg: 0.0016 (0.0040)  time: 0.1352  data: 0.0365  max mem: 4009\n",
      "Epoch: [5]  [ 4600/12099]  eta: 0:15:59  lr: 0.000030  loss: 0.0795 (0.1152)  loss_classifier: 0.0278 (0.0383)  loss_box_reg: 0.0482 (0.0642)  loss_objectness: 0.0034 (0.0087)  loss_rpn_box_reg: 0.0013 (0.0040)  time: 0.1333  data: 0.0362  max mem: 4009\n",
      "Epoch: [5]  [ 4700/12099]  eta: 0:15:47  lr: 0.000030  loss: 0.1230 (0.1154)  loss_classifier: 0.0407 (0.0383)  loss_box_reg: 0.0713 (0.0643)  loss_objectness: 0.0032 (0.0087)  loss_rpn_box_reg: 0.0024 (0.0040)  time: 0.1353  data: 0.0385  max mem: 4009\n",
      "Epoch: [5]  [ 4800/12099]  eta: 0:15:35  lr: 0.000030  loss: 0.1056 (0.1154)  loss_classifier: 0.0298 (0.0383)  loss_box_reg: 0.0635 (0.0643)  loss_objectness: 0.0028 (0.0087)  loss_rpn_box_reg: 0.0022 (0.0040)  time: 0.1340  data: 0.0363  max mem: 4009\n",
      "Epoch: [5]  [ 4900/12099]  eta: 0:15:23  lr: 0.000030  loss: 0.1036 (0.1152)  loss_classifier: 0.0295 (0.0383)  loss_box_reg: 0.0571 (0.0642)  loss_objectness: 0.0040 (0.0087)  loss_rpn_box_reg: 0.0014 (0.0040)  time: 0.1327  data: 0.0358  max mem: 4009\n"
     ]
    },
    {
     "name": "stdout",
     "output_type": "stream",
     "text": [
      "Epoch: [5]  [ 5000/12099]  eta: 0:15:11  lr: 0.000030  loss: 0.0952 (0.1152)  loss_classifier: 0.0280 (0.0383)  loss_box_reg: 0.0532 (0.0641)  loss_objectness: 0.0036 (0.0088)  loss_rpn_box_reg: 0.0013 (0.0040)  time: 0.1333  data: 0.0355  max mem: 4009\n",
      "Epoch: [5]  [ 5100/12099]  eta: 0:14:59  lr: 0.000030  loss: 0.0739 (0.1153)  loss_classifier: 0.0308 (0.0384)  loss_box_reg: 0.0381 (0.0641)  loss_objectness: 0.0036 (0.0087)  loss_rpn_box_reg: 0.0016 (0.0040)  time: 0.1389  data: 0.0377  max mem: 4009\n",
      "Epoch: [5]  [ 5200/12099]  eta: 0:14:48  lr: 0.000030  loss: 0.0773 (0.1153)  loss_classifier: 0.0248 (0.0384)  loss_box_reg: 0.0385 (0.0641)  loss_objectness: 0.0035 (0.0087)  loss_rpn_box_reg: 0.0006 (0.0040)  time: 0.1387  data: 0.0381  max mem: 4009\n",
      "Epoch: [5]  [ 5300/12099]  eta: 0:14:36  lr: 0.000030  loss: 0.1043 (0.1153)  loss_classifier: 0.0321 (0.0384)  loss_box_reg: 0.0488 (0.0641)  loss_objectness: 0.0039 (0.0088)  loss_rpn_box_reg: 0.0018 (0.0040)  time: 0.1327  data: 0.0367  max mem: 4009\n",
      "Epoch: [5]  [ 5400/12099]  eta: 0:14:23  lr: 0.000030  loss: 0.1172 (0.1152)  loss_classifier: 0.0392 (0.0384)  loss_box_reg: 0.0532 (0.0640)  loss_objectness: 0.0049 (0.0087)  loss_rpn_box_reg: 0.0018 (0.0040)  time: 0.1314  data: 0.0367  max mem: 4009\n",
      "Epoch: [5]  [ 5500/12099]  eta: 0:14:09  lr: 0.000030  loss: 0.1078 (0.1153)  loss_classifier: 0.0337 (0.0384)  loss_box_reg: 0.0706 (0.0641)  loss_objectness: 0.0056 (0.0087)  loss_rpn_box_reg: 0.0022 (0.0040)  time: 0.1161  data: 0.0311  max mem: 4009\n",
      "Epoch: [5]  [ 5600/12099]  eta: 0:13:55  lr: 0.000030  loss: 0.1229 (0.1153)  loss_classifier: 0.0307 (0.0385)  loss_box_reg: 0.0711 (0.0641)  loss_objectness: 0.0041 (0.0087)  loss_rpn_box_reg: 0.0027 (0.0040)  time: 0.1154  data: 0.0313  max mem: 4009\n",
      "Epoch: [5]  [ 5700/12099]  eta: 0:13:41  lr: 0.000030  loss: 0.0857 (0.1151)  loss_classifier: 0.0232 (0.0384)  loss_box_reg: 0.0433 (0.0640)  loss_objectness: 0.0023 (0.0087)  loss_rpn_box_reg: 0.0012 (0.0040)  time: 0.1150  data: 0.0303  max mem: 4009\n",
      "Epoch: [5]  [ 5800/12099]  eta: 0:13:26  lr: 0.000030  loss: 0.0838 (0.1151)  loss_classifier: 0.0224 (0.0384)  loss_box_reg: 0.0531 (0.0640)  loss_objectness: 0.0053 (0.0087)  loss_rpn_box_reg: 0.0022 (0.0040)  time: 0.1143  data: 0.0303  max mem: 4009\n",
      "Epoch: [5]  [ 5900/12099]  eta: 0:13:13  lr: 0.000030  loss: 0.0929 (0.1151)  loss_classifier: 0.0233 (0.0384)  loss_box_reg: 0.0532 (0.0640)  loss_objectness: 0.0040 (0.0087)  loss_rpn_box_reg: 0.0017 (0.0040)  time: 0.1210  data: 0.0329  max mem: 4009\n",
      "Epoch: [5]  [ 6000/12099]  eta: 0:13:01  lr: 0.000030  loss: 0.1080 (0.1152)  loss_classifier: 0.0399 (0.0385)  loss_box_reg: 0.0735 (0.0640)  loss_objectness: 0.0032 (0.0087)  loss_rpn_box_reg: 0.0015 (0.0040)  time: 0.1414  data: 0.0408  max mem: 4009\n",
      "Epoch: [5]  [ 6100/12099]  eta: 0:12:48  lr: 0.000030  loss: 0.1210 (0.1153)  loss_classifier: 0.0348 (0.0384)  loss_box_reg: 0.0825 (0.0641)  loss_objectness: 0.0039 (0.0088)  loss_rpn_box_reg: 0.0019 (0.0040)  time: 0.1208  data: 0.0323  max mem: 4009\n",
      "Epoch: [5]  [ 6200/12099]  eta: 0:12:36  lr: 0.000030  loss: 0.1009 (0.1155)  loss_classifier: 0.0264 (0.0385)  loss_box_reg: 0.0563 (0.0642)  loss_objectness: 0.0033 (0.0088)  loss_rpn_box_reg: 0.0011 (0.0040)  time: 0.1362  data: 0.0380  max mem: 4009\n",
      "Epoch: [5]  [ 6300/12099]  eta: 0:12:24  lr: 0.000030  loss: 0.0896 (0.1157)  loss_classifier: 0.0246 (0.0385)  loss_box_reg: 0.0452 (0.0643)  loss_objectness: 0.0060 (0.0088)  loss_rpn_box_reg: 0.0014 (0.0040)  time: 0.1298  data: 0.0345  max mem: 4009\n",
      "Epoch: [5]  [ 6400/12099]  eta: 0:12:11  lr: 0.000030  loss: 0.1011 (0.1157)  loss_classifier: 0.0351 (0.0385)  loss_box_reg: 0.0438 (0.0643)  loss_objectness: 0.0046 (0.0088)  loss_rpn_box_reg: 0.0019 (0.0040)  time: 0.1300  data: 0.0362  max mem: 4009\n",
      "Epoch: [5]  [ 6500/12099]  eta: 0:11:59  lr: 0.000030  loss: 0.0998 (0.1155)  loss_classifier: 0.0233 (0.0384)  loss_box_reg: 0.0666 (0.0643)  loss_objectness: 0.0044 (0.0088)  loss_rpn_box_reg: 0.0009 (0.0040)  time: 0.1349  data: 0.0367  max mem: 4009\n",
      "Epoch: [5]  [ 6600/12099]  eta: 0:11:47  lr: 0.000030  loss: 0.1069 (0.1155)  loss_classifier: 0.0297 (0.0384)  loss_box_reg: 0.0569 (0.0642)  loss_objectness: 0.0071 (0.0088)  loss_rpn_box_reg: 0.0026 (0.0040)  time: 0.1359  data: 0.0368  max mem: 4009\n",
      "Epoch: [5]  [ 6700/12099]  eta: 0:11:34  lr: 0.000030  loss: 0.0986 (0.1154)  loss_classifier: 0.0294 (0.0384)  loss_box_reg: 0.0504 (0.0642)  loss_objectness: 0.0055 (0.0088)  loss_rpn_box_reg: 0.0017 (0.0040)  time: 0.1363  data: 0.0370  max mem: 4009\n",
      "Epoch: [5]  [ 6800/12099]  eta: 0:11:22  lr: 0.000030  loss: 0.1137 (0.1154)  loss_classifier: 0.0266 (0.0384)  loss_box_reg: 0.0580 (0.0641)  loss_objectness: 0.0033 (0.0089)  loss_rpn_box_reg: 0.0026 (0.0040)  time: 0.1326  data: 0.0373  max mem: 4009\n",
      "Epoch: [5]  [ 6900/12099]  eta: 0:11:10  lr: 0.000030  loss: 0.1053 (0.1155)  loss_classifier: 0.0341 (0.0384)  loss_box_reg: 0.0585 (0.0642)  loss_objectness: 0.0027 (0.0089)  loss_rpn_box_reg: 0.0011 (0.0040)  time: 0.1327  data: 0.0358  max mem: 4009\n",
      "Epoch: [5]  [ 7000/12099]  eta: 0:10:57  lr: 0.000030  loss: 0.0859 (0.1156)  loss_classifier: 0.0272 (0.0385)  loss_box_reg: 0.0480 (0.0642)  loss_objectness: 0.0033 (0.0089)  loss_rpn_box_reg: 0.0012 (0.0040)  time: 0.1375  data: 0.0391  max mem: 4009\n",
      "Epoch: [5]  [ 7100/12099]  eta: 0:10:45  lr: 0.000030  loss: 0.1287 (0.1154)  loss_classifier: 0.0322 (0.0384)  loss_box_reg: 0.0650 (0.0641)  loss_objectness: 0.0066 (0.0089)  loss_rpn_box_reg: 0.0018 (0.0040)  time: 0.1276  data: 0.0382  max mem: 4009\n",
      "Epoch: [5]  [ 7200/12099]  eta: 0:10:31  lr: 0.000030  loss: 0.1051 (0.1155)  loss_classifier: 0.0314 (0.0384)  loss_box_reg: 0.0554 (0.0642)  loss_objectness: 0.0027 (0.0089)  loss_rpn_box_reg: 0.0016 (0.0040)  time: 0.1237  data: 0.0351  max mem: 4009\n",
      "Epoch: [5]  [ 7300/12099]  eta: 0:10:18  lr: 0.000030  loss: 0.0882 (0.1155)  loss_classifier: 0.0286 (0.0384)  loss_box_reg: 0.0406 (0.0642)  loss_objectness: 0.0025 (0.0089)  loss_rpn_box_reg: 0.0016 (0.0040)  time: 0.1214  data: 0.0344  max mem: 4009\n",
      "Epoch: [5]  [ 7400/12099]  eta: 0:10:04  lr: 0.000030  loss: 0.0990 (0.1155)  loss_classifier: 0.0312 (0.0384)  loss_box_reg: 0.0606 (0.0642)  loss_objectness: 0.0069 (0.0089)  loss_rpn_box_reg: 0.0021 (0.0040)  time: 0.1172  data: 0.0320  max mem: 4009\n",
      "Epoch: [5]  [ 7500/12099]  eta: 0:09:51  lr: 0.000030  loss: 0.0954 (0.1154)  loss_classifier: 0.0265 (0.0384)  loss_box_reg: 0.0571 (0.0641)  loss_objectness: 0.0034 (0.0089)  loss_rpn_box_reg: 0.0021 (0.0041)  time: 0.1241  data: 0.0341  max mem: 4009\n",
      "Epoch: [5]  [ 7600/12099]  eta: 0:09:38  lr: 0.000030  loss: 0.1368 (0.1154)  loss_classifier: 0.0333 (0.0383)  loss_box_reg: 0.0803 (0.0641)  loss_objectness: 0.0026 (0.0089)  loss_rpn_box_reg: 0.0014 (0.0041)  time: 0.1201  data: 0.0336  max mem: 4009\n",
      "Epoch: [5]  [ 7700/12099]  eta: 0:09:25  lr: 0.000030  loss: 0.1048 (0.1154)  loss_classifier: 0.0239 (0.0383)  loss_box_reg: 0.0561 (0.0641)  loss_objectness: 0.0045 (0.0089)  loss_rpn_box_reg: 0.0011 (0.0041)  time: 0.1183  data: 0.0329  max mem: 4009\n",
      "Epoch: [5]  [ 7800/12099]  eta: 0:09:11  lr: 0.000030  loss: 0.0846 (0.1154)  loss_classifier: 0.0245 (0.0383)  loss_box_reg: 0.0544 (0.0641)  loss_objectness: 0.0032 (0.0089)  loss_rpn_box_reg: 0.0008 (0.0041)  time: 0.1160  data: 0.0309  max mem: 4009\n",
      "Epoch: [5]  [ 7900/12099]  eta: 0:08:58  lr: 0.000030  loss: 0.1128 (0.1154)  loss_classifier: 0.0317 (0.0383)  loss_box_reg: 0.0698 (0.0641)  loss_objectness: 0.0023 (0.0089)  loss_rpn_box_reg: 0.0016 (0.0041)  time: 0.1169  data: 0.0312  max mem: 4009\n",
      "Epoch: [5]  [ 8000/12099]  eta: 0:08:45  lr: 0.000030  loss: 0.0860 (0.1154)  loss_classifier: 0.0250 (0.0384)  loss_box_reg: 0.0520 (0.0641)  loss_objectness: 0.0028 (0.0089)  loss_rpn_box_reg: 0.0011 (0.0041)  time: 0.1178  data: 0.0329  max mem: 4009\n",
      "Epoch: [5]  [ 8100/12099]  eta: 0:08:31  lr: 0.000030  loss: 0.0879 (0.1154)  loss_classifier: 0.0307 (0.0384)  loss_box_reg: 0.0538 (0.0641)  loss_objectness: 0.0043 (0.0089)  loss_rpn_box_reg: 0.0009 (0.0041)  time: 0.1151  data: 0.0304  max mem: 4009\n",
      "Epoch: [5]  [ 8200/12099]  eta: 0:08:18  lr: 0.000030  loss: 0.1284 (0.1154)  loss_classifier: 0.0310 (0.0383)  loss_box_reg: 0.0742 (0.0641)  loss_objectness: 0.0028 (0.0089)  loss_rpn_box_reg: 0.0018 (0.0041)  time: 0.1188  data: 0.0337  max mem: 4009\n"
     ]
    },
    {
     "name": "stdout",
     "output_type": "stream",
     "text": [
      "Epoch: [5]  [ 8300/12099]  eta: 0:08:05  lr: 0.000030  loss: 0.0950 (0.1154)  loss_classifier: 0.0275 (0.0383)  loss_box_reg: 0.0541 (0.0641)  loss_objectness: 0.0035 (0.0089)  loss_rpn_box_reg: 0.0013 (0.0041)  time: 0.1185  data: 0.0329  max mem: 4009\n",
      "Epoch: [5]  [ 8400/12099]  eta: 0:07:52  lr: 0.000030  loss: 0.0895 (0.1153)  loss_classifier: 0.0253 (0.0383)  loss_box_reg: 0.0498 (0.0641)  loss_objectness: 0.0051 (0.0089)  loss_rpn_box_reg: 0.0020 (0.0041)  time: 0.1157  data: 0.0311  max mem: 4009\n",
      "Epoch: [5]  [ 8500/12099]  eta: 0:07:38  lr: 0.000030  loss: 0.1358 (0.1155)  loss_classifier: 0.0361 (0.0384)  loss_box_reg: 0.0877 (0.0641)  loss_objectness: 0.0031 (0.0089)  loss_rpn_box_reg: 0.0021 (0.0041)  time: 0.1173  data: 0.0320  max mem: 4009\n",
      "Epoch: [5]  [ 8600/12099]  eta: 0:07:25  lr: 0.000030  loss: 0.0959 (0.1155)  loss_classifier: 0.0316 (0.0384)  loss_box_reg: 0.0546 (0.0641)  loss_objectness: 0.0027 (0.0089)  loss_rpn_box_reg: 0.0019 (0.0040)  time: 0.1201  data: 0.0335  max mem: 4009\n",
      "Epoch: [5]  [ 8700/12099]  eta: 0:07:12  lr: 0.000030  loss: 0.1030 (0.1155)  loss_classifier: 0.0298 (0.0384)  loss_box_reg: 0.0614 (0.0641)  loss_objectness: 0.0020 (0.0089)  loss_rpn_box_reg: 0.0012 (0.0040)  time: 0.1198  data: 0.0325  max mem: 4009\n",
      "Epoch: [5]  [ 8800/12099]  eta: 0:06:59  lr: 0.000030  loss: 0.0892 (0.1154)  loss_classifier: 0.0251 (0.0384)  loss_box_reg: 0.0562 (0.0641)  loss_objectness: 0.0038 (0.0089)  loss_rpn_box_reg: 0.0009 (0.0040)  time: 0.1175  data: 0.0318  max mem: 4009\n",
      "Epoch: [5]  [ 8900/12099]  eta: 0:06:46  lr: 0.000030  loss: 0.1052 (0.1154)  loss_classifier: 0.0345 (0.0384)  loss_box_reg: 0.0592 (0.0641)  loss_objectness: 0.0041 (0.0089)  loss_rpn_box_reg: 0.0008 (0.0040)  time: 0.1167  data: 0.0307  max mem: 4009\n",
      "Epoch: [5]  [ 9000/12099]  eta: 0:06:33  lr: 0.000030  loss: 0.0995 (0.1153)  loss_classifier: 0.0260 (0.0383)  loss_box_reg: 0.0588 (0.0640)  loss_objectness: 0.0029 (0.0089)  loss_rpn_box_reg: 0.0018 (0.0040)  time: 0.1170  data: 0.0318  max mem: 4009\n",
      "Epoch: [5]  [ 9100/12099]  eta: 0:06:20  lr: 0.000030  loss: 0.0965 (0.1153)  loss_classifier: 0.0314 (0.0383)  loss_box_reg: 0.0585 (0.0640)  loss_objectness: 0.0037 (0.0089)  loss_rpn_box_reg: 0.0018 (0.0041)  time: 0.1158  data: 0.0310  max mem: 4009\n",
      "Epoch: [5]  [ 9200/12099]  eta: 0:06:07  lr: 0.000030  loss: 0.0952 (0.1151)  loss_classifier: 0.0243 (0.0383)  loss_box_reg: 0.0611 (0.0639)  loss_objectness: 0.0020 (0.0089)  loss_rpn_box_reg: 0.0012 (0.0041)  time: 0.1200  data: 0.0337  max mem: 4009\n",
      "Epoch: [5]  [ 9300/12099]  eta: 0:05:54  lr: 0.000030  loss: 0.0987 (0.1151)  loss_classifier: 0.0275 (0.0382)  loss_box_reg: 0.0572 (0.0639)  loss_objectness: 0.0030 (0.0089)  loss_rpn_box_reg: 0.0017 (0.0041)  time: 0.1168  data: 0.0321  max mem: 4009\n",
      "Epoch: [5]  [ 9400/12099]  eta: 0:05:41  lr: 0.000030  loss: 0.1084 (0.1150)  loss_classifier: 0.0360 (0.0382)  loss_box_reg: 0.0623 (0.0638)  loss_objectness: 0.0065 (0.0089)  loss_rpn_box_reg: 0.0016 (0.0041)  time: 0.1191  data: 0.0338  max mem: 4009\n",
      "Epoch: [5]  [ 9500/12099]  eta: 0:05:28  lr: 0.000030  loss: 0.0991 (0.1150)  loss_classifier: 0.0261 (0.0382)  loss_box_reg: 0.0608 (0.0638)  loss_objectness: 0.0033 (0.0089)  loss_rpn_box_reg: 0.0015 (0.0041)  time: 0.1192  data: 0.0331  max mem: 4009\n",
      "Epoch: [5]  [ 9600/12099]  eta: 0:05:15  lr: 0.000030  loss: 0.0969 (0.1148)  loss_classifier: 0.0296 (0.0381)  loss_box_reg: 0.0571 (0.0638)  loss_objectness: 0.0037 (0.0089)  loss_rpn_box_reg: 0.0017 (0.0041)  time: 0.1240  data: 0.0348  max mem: 4009\n",
      "Epoch: [5]  [ 9700/12099]  eta: 0:05:03  lr: 0.000030  loss: 0.0824 (0.1148)  loss_classifier: 0.0318 (0.0381)  loss_box_reg: 0.0475 (0.0637)  loss_objectness: 0.0029 (0.0089)  loss_rpn_box_reg: 0.0018 (0.0041)  time: 0.1156  data: 0.0315  max mem: 4009\n",
      "Epoch: [5]  [ 9800/12099]  eta: 0:04:50  lr: 0.000030  loss: 0.0942 (0.1147)  loss_classifier: 0.0300 (0.0381)  loss_box_reg: 0.0698 (0.0637)  loss_objectness: 0.0032 (0.0089)  loss_rpn_box_reg: 0.0020 (0.0041)  time: 0.1472  data: 0.0464  max mem: 4009\n",
      "Epoch: [5]  [ 9900/12099]  eta: 0:04:38  lr: 0.000030  loss: 0.0730 (0.1147)  loss_classifier: 0.0180 (0.0380)  loss_box_reg: 0.0459 (0.0637)  loss_objectness: 0.0034 (0.0088)  loss_rpn_box_reg: 0.0014 (0.0041)  time: 0.1440  data: 0.0431  max mem: 4009\n",
      "Epoch: [5]  [10000/12099]  eta: 0:04:26  lr: 0.000030  loss: 0.1297 (0.1147)  loss_classifier: 0.0290 (0.0380)  loss_box_reg: 0.0682 (0.0637)  loss_objectness: 0.0040 (0.0088)  loss_rpn_box_reg: 0.0022 (0.0041)  time: 0.1369  data: 0.0390  max mem: 4009\n",
      "Epoch: [5]  [10100/12099]  eta: 0:04:13  lr: 0.000030  loss: 0.1083 (0.1147)  loss_classifier: 0.0309 (0.0380)  loss_box_reg: 0.0481 (0.0637)  loss_objectness: 0.0058 (0.0088)  loss_rpn_box_reg: 0.0030 (0.0041)  time: 0.1279  data: 0.0360  max mem: 4009\n",
      "Epoch: [5]  [10200/12099]  eta: 0:04:00  lr: 0.000030  loss: 0.1060 (0.1148)  loss_classifier: 0.0295 (0.0381)  loss_box_reg: 0.0606 (0.0638)  loss_objectness: 0.0032 (0.0088)  loss_rpn_box_reg: 0.0013 (0.0041)  time: 0.1195  data: 0.0331  max mem: 4009\n",
      "Epoch: [5]  [10300/12099]  eta: 0:03:47  lr: 0.000030  loss: 0.0715 (0.1146)  loss_classifier: 0.0224 (0.0380)  loss_box_reg: 0.0456 (0.0637)  loss_objectness: 0.0031 (0.0088)  loss_rpn_box_reg: 0.0013 (0.0041)  time: 0.1187  data: 0.0322  max mem: 4009\n",
      "Epoch: [5]  [10400/12099]  eta: 0:03:35  lr: 0.000030  loss: 0.1267 (0.1147)  loss_classifier: 0.0355 (0.0381)  loss_box_reg: 0.0595 (0.0637)  loss_objectness: 0.0055 (0.0088)  loss_rpn_box_reg: 0.0019 (0.0041)  time: 0.1352  data: 0.0402  max mem: 4009\n",
      "Epoch: [5]  [10500/12099]  eta: 0:03:22  lr: 0.000030  loss: 0.1004 (0.1146)  loss_classifier: 0.0286 (0.0380)  loss_box_reg: 0.0500 (0.0636)  loss_objectness: 0.0050 (0.0088)  loss_rpn_box_reg: 0.0020 (0.0041)  time: 0.1216  data: 0.0329  max mem: 4009\n",
      "Epoch: [5]  [10600/12099]  eta: 0:03:09  lr: 0.000030  loss: 0.1146 (0.1146)  loss_classifier: 0.0361 (0.0380)  loss_box_reg: 0.0780 (0.0636)  loss_objectness: 0.0041 (0.0089)  loss_rpn_box_reg: 0.0023 (0.0041)  time: 0.1206  data: 0.0321  max mem: 4009\n",
      "Epoch: [5]  [10700/12099]  eta: 0:02:57  lr: 0.000030  loss: 0.0870 (0.1146)  loss_classifier: 0.0285 (0.0380)  loss_box_reg: 0.0491 (0.0636)  loss_objectness: 0.0033 (0.0089)  loss_rpn_box_reg: 0.0010 (0.0041)  time: 0.1197  data: 0.0316  max mem: 4009\n",
      "Epoch: [5]  [10800/12099]  eta: 0:02:44  lr: 0.000030  loss: 0.0924 (0.1145)  loss_classifier: 0.0296 (0.0380)  loss_box_reg: 0.0508 (0.0635)  loss_objectness: 0.0048 (0.0089)  loss_rpn_box_reg: 0.0014 (0.0041)  time: 0.1477  data: 0.0489  max mem: 4009\n",
      "Epoch: [5]  [10900/12099]  eta: 0:02:32  lr: 0.000030  loss: 0.1186 (0.1146)  loss_classifier: 0.0334 (0.0381)  loss_box_reg: 0.0629 (0.0635)  loss_objectness: 0.0036 (0.0089)  loss_rpn_box_reg: 0.0013 (0.0041)  time: 0.1318  data: 0.0404  max mem: 4009\n",
      "Epoch: [5]  [11000/12099]  eta: 0:02:19  lr: 0.000030  loss: 0.0812 (0.1145)  loss_classifier: 0.0267 (0.0381)  loss_box_reg: 0.0471 (0.0635)  loss_objectness: 0.0038 (0.0089)  loss_rpn_box_reg: 0.0013 (0.0041)  time: 0.1222  data: 0.0337  max mem: 4009\n",
      "Epoch: [5]  [11100/12099]  eta: 0:02:06  lr: 0.000030  loss: 0.1193 (0.1146)  loss_classifier: 0.0349 (0.0381)  loss_box_reg: 0.0510 (0.0635)  loss_objectness: 0.0020 (0.0089)  loss_rpn_box_reg: 0.0015 (0.0041)  time: 0.1184  data: 0.0315  max mem: 4009\n",
      "Epoch: [5]  [11200/12099]  eta: 0:01:53  lr: 0.000030  loss: 0.1061 (0.1145)  loss_classifier: 0.0307 (0.0380)  loss_box_reg: 0.0556 (0.0635)  loss_objectness: 0.0032 (0.0089)  loss_rpn_box_reg: 0.0011 (0.0041)  time: 0.1169  data: 0.0312  max mem: 4009\n",
      "Epoch: [5]  [11300/12099]  eta: 0:01:41  lr: 0.000030  loss: 0.1019 (0.1145)  loss_classifier: 0.0268 (0.0380)  loss_box_reg: 0.0603 (0.0635)  loss_objectness: 0.0027 (0.0089)  loss_rpn_box_reg: 0.0011 (0.0041)  time: 0.1212  data: 0.0332  max mem: 4009\n",
      "Epoch: [5]  [11400/12099]  eta: 0:01:28  lr: 0.000030  loss: 0.1199 (0.1145)  loss_classifier: 0.0385 (0.0380)  loss_box_reg: 0.0738 (0.0635)  loss_objectness: 0.0043 (0.0089)  loss_rpn_box_reg: 0.0015 (0.0041)  time: 0.1171  data: 0.0310  max mem: 4009\n",
      "Epoch: [5]  [11500/12099]  eta: 0:01:15  lr: 0.000030  loss: 0.0911 (0.1145)  loss_classifier: 0.0285 (0.0380)  loss_box_reg: 0.0589 (0.0635)  loss_objectness: 0.0037 (0.0089)  loss_rpn_box_reg: 0.0012 (0.0041)  time: 0.1168  data: 0.0321  max mem: 4009\n"
     ]
    },
    {
     "name": "stdout",
     "output_type": "stream",
     "text": [
      "Epoch: [5]  [11600/12099]  eta: 0:01:03  lr: 0.000030  loss: 0.1070 (0.1145)  loss_classifier: 0.0283 (0.0380)  loss_box_reg: 0.0702 (0.0635)  loss_objectness: 0.0096 (0.0089)  loss_rpn_box_reg: 0.0030 (0.0041)  time: 0.1191  data: 0.0335  max mem: 4009\n",
      "Epoch: [5]  [11700/12099]  eta: 0:00:50  lr: 0.000030  loss: 0.0917 (0.1146)  loss_classifier: 0.0283 (0.0380)  loss_box_reg: 0.0535 (0.0636)  loss_objectness: 0.0040 (0.0089)  loss_rpn_box_reg: 0.0026 (0.0041)  time: 0.1200  data: 0.0330  max mem: 4009\n",
      "Epoch: [5]  [11800/12099]  eta: 0:00:37  lr: 0.000030  loss: 0.0983 (0.1146)  loss_classifier: 0.0319 (0.0380)  loss_box_reg: 0.0598 (0.0636)  loss_objectness: 0.0029 (0.0089)  loss_rpn_box_reg: 0.0011 (0.0041)  time: 0.1275  data: 0.0359  max mem: 4009\n",
      "Epoch: [5]  [11900/12099]  eta: 0:00:25  lr: 0.000030  loss: 0.0849 (0.1146)  loss_classifier: 0.0270 (0.0380)  loss_box_reg: 0.0496 (0.0636)  loss_objectness: 0.0052 (0.0090)  loss_rpn_box_reg: 0.0015 (0.0041)  time: 0.1200  data: 0.0319  max mem: 4009\n",
      "Epoch: [5]  [12000/12099]  eta: 0:00:12  lr: 0.000030  loss: 0.0993 (0.1146)  loss_classifier: 0.0313 (0.0380)  loss_box_reg: 0.0550 (0.0635)  loss_objectness: 0.0050 (0.0090)  loss_rpn_box_reg: 0.0014 (0.0041)  time: 0.1232  data: 0.0336  max mem: 4009\n",
      "Epoch: [5]  [12098/12099]  eta: 0:00:00  lr: 0.000030  loss: 0.0890 (0.1146)  loss_classifier: 0.0304 (0.0380)  loss_box_reg: 0.0499 (0.0635)  loss_objectness: 0.0043 (0.0090)  loss_rpn_box_reg: 0.0011 (0.0041)  time: 0.1196  data: 0.0311  max mem: 4009\n",
      "Epoch: [5] Total time: 0:25:27 (0.1263 s / it)\n",
      "Epoch: [6]  [    0/12099]  eta: 0:22:41  lr: 0.000030  loss: 0.1860 (0.1860)  loss_classifier: 0.0565 (0.0565)  loss_box_reg: 0.1260 (0.1260)  loss_objectness: 0.0011 (0.0011)  loss_rpn_box_reg: 0.0024 (0.0024)  time: 0.1125  data: 0.0265  max mem: 4009\n",
      "Epoch: [6]  [  100/12099]  eta: 0:23:37  lr: 0.000030  loss: 0.0716 (0.1126)  loss_classifier: 0.0194 (0.0363)  loss_box_reg: 0.0388 (0.0621)  loss_objectness: 0.0010 (0.0105)  loss_rpn_box_reg: 0.0009 (0.0037)  time: 0.1170  data: 0.0305  max mem: 4009\n",
      "Epoch: [6]  [  200/12099]  eta: 0:23:33  lr: 0.000030  loss: 0.1169 (0.1109)  loss_classifier: 0.0301 (0.0360)  loss_box_reg: 0.0650 (0.0613)  loss_objectness: 0.0033 (0.0093)  loss_rpn_box_reg: 0.0018 (0.0042)  time: 0.1208  data: 0.0336  max mem: 4009\n",
      "Epoch: [6]  [  300/12099]  eta: 0:23:34  lr: 0.000030  loss: 0.0883 (0.1091)  loss_classifier: 0.0242 (0.0358)  loss_box_reg: 0.0608 (0.0611)  loss_objectness: 0.0045 (0.0084)  loss_rpn_box_reg: 0.0011 (0.0039)  time: 0.1193  data: 0.0345  max mem: 4009\n",
      "Epoch: [6]  [  400/12099]  eta: 0:23:44  lr: 0.000030  loss: 0.0991 (0.1089)  loss_classifier: 0.0287 (0.0353)  loss_box_reg: 0.0617 (0.0611)  loss_objectness: 0.0043 (0.0086)  loss_rpn_box_reg: 0.0019 (0.0038)  time: 0.1351  data: 0.0378  max mem: 4009\n",
      "Epoch: [6]  [  500/12099]  eta: 0:23:59  lr: 0.000030  loss: 0.1056 (0.1090)  loss_classifier: 0.0281 (0.0356)  loss_box_reg: 0.0601 (0.0612)  loss_objectness: 0.0025 (0.0083)  loss_rpn_box_reg: 0.0026 (0.0039)  time: 0.1255  data: 0.0339  max mem: 4009\n",
      "Epoch: [6]  [  600/12099]  eta: 0:24:16  lr: 0.000030  loss: 0.0888 (0.1101)  loss_classifier: 0.0234 (0.0360)  loss_box_reg: 0.0476 (0.0615)  loss_objectness: 0.0031 (0.0085)  loss_rpn_box_reg: 0.0018 (0.0040)  time: 0.1383  data: 0.0386  max mem: 4009\n",
      "Epoch: [6]  [  700/12099]  eta: 0:24:25  lr: 0.000030  loss: 0.1215 (0.1116)  loss_classifier: 0.0328 (0.0366)  loss_box_reg: 0.0679 (0.0625)  loss_objectness: 0.0042 (0.0084)  loss_rpn_box_reg: 0.0013 (0.0041)  time: 0.1407  data: 0.0393  max mem: 4009\n",
      "Epoch: [6]  [  800/12099]  eta: 0:24:23  lr: 0.000030  loss: 0.0907 (0.1115)  loss_classifier: 0.0263 (0.0365)  loss_box_reg: 0.0534 (0.0629)  loss_objectness: 0.0024 (0.0081)  loss_rpn_box_reg: 0.0013 (0.0040)  time: 0.1362  data: 0.0378  max mem: 4009\n",
      "Epoch: [6]  [  900/12099]  eta: 0:24:12  lr: 0.000030  loss: 0.1058 (0.1116)  loss_classifier: 0.0367 (0.0368)  loss_box_reg: 0.0615 (0.0627)  loss_objectness: 0.0038 (0.0081)  loss_rpn_box_reg: 0.0013 (0.0039)  time: 0.1408  data: 0.0396  max mem: 4009\n",
      "Epoch: [6]  [ 1000/12099]  eta: 0:23:52  lr: 0.000030  loss: 0.0979 (0.1108)  loss_classifier: 0.0269 (0.0363)  loss_box_reg: 0.0510 (0.0623)  loss_objectness: 0.0053 (0.0081)  loss_rpn_box_reg: 0.0020 (0.0041)  time: 0.1202  data: 0.0340  max mem: 4009\n",
      "Epoch: [6]  [ 1100/12099]  eta: 0:23:29  lr: 0.000030  loss: 0.0960 (0.1108)  loss_classifier: 0.0296 (0.0366)  loss_box_reg: 0.0473 (0.0622)  loss_objectness: 0.0048 (0.0080)  loss_rpn_box_reg: 0.0015 (0.0041)  time: 0.1175  data: 0.0330  max mem: 4009\n",
      "Epoch: [6]  [ 1200/12099]  eta: 0:23:07  lr: 0.000030  loss: 0.0999 (0.1117)  loss_classifier: 0.0335 (0.0367)  loss_box_reg: 0.0506 (0.0625)  loss_objectness: 0.0041 (0.0084)  loss_rpn_box_reg: 0.0012 (0.0041)  time: 0.1169  data: 0.0322  max mem: 4009\n",
      "Epoch: [6]  [ 1300/12099]  eta: 0:22:52  lr: 0.000030  loss: 0.1267 (0.1113)  loss_classifier: 0.0280 (0.0364)  loss_box_reg: 0.0710 (0.0625)  loss_objectness: 0.0040 (0.0083)  loss_rpn_box_reg: 0.0011 (0.0041)  time: 0.1280  data: 0.0373  max mem: 4009\n",
      "Epoch: [6]  [ 1400/12099]  eta: 0:22:38  lr: 0.000030  loss: 0.1044 (0.1111)  loss_classifier: 0.0259 (0.0365)  loss_box_reg: 0.0612 (0.0624)  loss_objectness: 0.0035 (0.0081)  loss_rpn_box_reg: 0.0023 (0.0040)  time: 0.1285  data: 0.0377  max mem: 4009\n",
      "Epoch: [6]  [ 1500/12099]  eta: 0:22:35  lr: 0.000030  loss: 0.1168 (0.1117)  loss_classifier: 0.0411 (0.0366)  loss_box_reg: 0.0776 (0.0627)  loss_objectness: 0.0092 (0.0082)  loss_rpn_box_reg: 0.0022 (0.0042)  time: 0.1379  data: 0.0398  max mem: 4009\n",
      "Epoch: [6]  [ 1600/12099]  eta: 0:22:24  lr: 0.000030  loss: 0.0951 (0.1124)  loss_classifier: 0.0276 (0.0370)  loss_box_reg: 0.0462 (0.0629)  loss_objectness: 0.0046 (0.0084)  loss_rpn_box_reg: 0.0013 (0.0041)  time: 0.1408  data: 0.0405  max mem: 4009\n",
      "Epoch: [6]  [ 1700/12099]  eta: 0:22:16  lr: 0.000030  loss: 0.1037 (0.1128)  loss_classifier: 0.0301 (0.0369)  loss_box_reg: 0.0513 (0.0632)  loss_objectness: 0.0026 (0.0084)  loss_rpn_box_reg: 0.0035 (0.0042)  time: 0.1277  data: 0.0340  max mem: 4009\n",
      "Epoch: [6]  [ 1800/12099]  eta: 0:22:02  lr: 0.000030  loss: 0.0867 (0.1127)  loss_classifier: 0.0270 (0.0369)  loss_box_reg: 0.0525 (0.0631)  loss_objectness: 0.0031 (0.0085)  loss_rpn_box_reg: 0.0010 (0.0042)  time: 0.1376  data: 0.0393  max mem: 4009\n",
      "Epoch: [6]  [ 1900/12099]  eta: 0:21:47  lr: 0.000030  loss: 0.0970 (0.1123)  loss_classifier: 0.0298 (0.0368)  loss_box_reg: 0.0524 (0.0631)  loss_objectness: 0.0040 (0.0083)  loss_rpn_box_reg: 0.0017 (0.0042)  time: 0.1212  data: 0.0324  max mem: 4009\n",
      "Epoch: [6]  [ 2000/12099]  eta: 0:21:35  lr: 0.000030  loss: 0.0889 (0.1124)  loss_classifier: 0.0218 (0.0368)  loss_box_reg: 0.0392 (0.0630)  loss_objectness: 0.0048 (0.0083)  loss_rpn_box_reg: 0.0011 (0.0042)  time: 0.1251  data: 0.0356  max mem: 4009\n",
      "Epoch: [6]  [ 2100/12099]  eta: 0:21:22  lr: 0.000030  loss: 0.0974 (0.1122)  loss_classifier: 0.0263 (0.0367)  loss_box_reg: 0.0579 (0.0631)  loss_objectness: 0.0053 (0.0083)  loss_rpn_box_reg: 0.0021 (0.0041)  time: 0.1299  data: 0.0356  max mem: 4009\n",
      "Epoch: [6]  [ 2200/12099]  eta: 0:21:07  lr: 0.000030  loss: 0.0806 (0.1122)  loss_classifier: 0.0251 (0.0368)  loss_box_reg: 0.0509 (0.0630)  loss_objectness: 0.0034 (0.0083)  loss_rpn_box_reg: 0.0009 (0.0041)  time: 0.1239  data: 0.0334  max mem: 4009\n",
      "Epoch: [6]  [ 2300/12099]  eta: 0:20:53  lr: 0.000030  loss: 0.1011 (0.1132)  loss_classifier: 0.0383 (0.0372)  loss_box_reg: 0.0494 (0.0633)  loss_objectness: 0.0043 (0.0086)  loss_rpn_box_reg: 0.0025 (0.0041)  time: 0.1244  data: 0.0333  max mem: 4009\n",
      "Epoch: [6]  [ 2400/12099]  eta: 0:20:38  lr: 0.000030  loss: 0.0904 (0.1134)  loss_classifier: 0.0324 (0.0373)  loss_box_reg: 0.0485 (0.0634)  loss_objectness: 0.0045 (0.0087)  loss_rpn_box_reg: 0.0008 (0.0041)  time: 0.1243  data: 0.0351  max mem: 4009\n",
      "Epoch: [6]  [ 2500/12099]  eta: 0:20:27  lr: 0.000030  loss: 0.1092 (0.1140)  loss_classifier: 0.0268 (0.0376)  loss_box_reg: 0.0587 (0.0636)  loss_objectness: 0.0047 (0.0088)  loss_rpn_box_reg: 0.0019 (0.0041)  time: 0.1392  data: 0.0434  max mem: 4009\n",
      "Epoch: [6]  [ 2600/12099]  eta: 0:20:17  lr: 0.000030  loss: 0.1034 (0.1142)  loss_classifier: 0.0279 (0.0377)  loss_box_reg: 0.0625 (0.0636)  loss_objectness: 0.0065 (0.0088)  loss_rpn_box_reg: 0.0015 (0.0041)  time: 0.1264  data: 0.0355  max mem: 4009\n"
     ]
    },
    {
     "name": "stdout",
     "output_type": "stream",
     "text": [
      "Epoch: [6]  [ 2700/12099]  eta: 0:20:01  lr: 0.000030  loss: 0.1057 (0.1144)  loss_classifier: 0.0341 (0.0378)  loss_box_reg: 0.0593 (0.0637)  loss_objectness: 0.0038 (0.0088)  loss_rpn_box_reg: 0.0012 (0.0041)  time: 0.1173  data: 0.0322  max mem: 4009\n",
      "Epoch: [6]  [ 2800/12099]  eta: 0:19:44  lr: 0.000030  loss: 0.0787 (0.1140)  loss_classifier: 0.0258 (0.0376)  loss_box_reg: 0.0405 (0.0635)  loss_objectness: 0.0025 (0.0088)  loss_rpn_box_reg: 0.0010 (0.0041)  time: 0.1160  data: 0.0329  max mem: 4009\n",
      "Epoch: [6]  [ 2900/12099]  eta: 0:19:28  lr: 0.000030  loss: 0.1159 (0.1141)  loss_classifier: 0.0270 (0.0376)  loss_box_reg: 0.0671 (0.0635)  loss_objectness: 0.0074 (0.0088)  loss_rpn_box_reg: 0.0023 (0.0041)  time: 0.1175  data: 0.0331  max mem: 4009\n",
      "Epoch: [6]  [ 3000/12099]  eta: 0:19:12  lr: 0.000030  loss: 0.0820 (0.1146)  loss_classifier: 0.0256 (0.0378)  loss_box_reg: 0.0534 (0.0638)  loss_objectness: 0.0022 (0.0088)  loss_rpn_box_reg: 0.0012 (0.0041)  time: 0.1156  data: 0.0322  max mem: 4009\n",
      "Epoch: [6]  [ 3100/12099]  eta: 0:18:57  lr: 0.000030  loss: 0.0874 (0.1142)  loss_classifier: 0.0352 (0.0377)  loss_box_reg: 0.0561 (0.0636)  loss_objectness: 0.0026 (0.0087)  loss_rpn_box_reg: 0.0012 (0.0041)  time: 0.1251  data: 0.0344  max mem: 4009\n",
      "Epoch: [6]  [ 3200/12099]  eta: 0:18:43  lr: 0.000030  loss: 0.1008 (0.1142)  loss_classifier: 0.0288 (0.0377)  loss_box_reg: 0.0631 (0.0636)  loss_objectness: 0.0039 (0.0087)  loss_rpn_box_reg: 0.0013 (0.0041)  time: 0.1241  data: 0.0340  max mem: 4009\n",
      "Epoch: [6]  [ 3300/12099]  eta: 0:18:32  lr: 0.000030  loss: 0.1221 (0.1145)  loss_classifier: 0.0354 (0.0378)  loss_box_reg: 0.0733 (0.0639)  loss_objectness: 0.0025 (0.0087)  loss_rpn_box_reg: 0.0023 (0.0041)  time: 0.1351  data: 0.0393  max mem: 4009\n",
      "Epoch: [6]  [ 3400/12099]  eta: 0:18:25  lr: 0.000030  loss: 0.1205 (0.1146)  loss_classifier: 0.0329 (0.0378)  loss_box_reg: 0.0713 (0.0639)  loss_objectness: 0.0031 (0.0087)  loss_rpn_box_reg: 0.0010 (0.0041)  time: 0.1404  data: 0.0415  max mem: 4009\n",
      "Epoch: [6]  [ 3500/12099]  eta: 0:18:13  lr: 0.000030  loss: 0.1415 (0.1146)  loss_classifier: 0.0442 (0.0379)  loss_box_reg: 0.0648 (0.0639)  loss_objectness: 0.0054 (0.0087)  loss_rpn_box_reg: 0.0011 (0.0041)  time: 0.1217  data: 0.0335  max mem: 4009\n",
      "Epoch: [6]  [ 3600/12099]  eta: 0:17:59  lr: 0.000030  loss: 0.0922 (0.1146)  loss_classifier: 0.0294 (0.0379)  loss_box_reg: 0.0539 (0.0638)  loss_objectness: 0.0039 (0.0087)  loss_rpn_box_reg: 0.0026 (0.0041)  time: 0.1235  data: 0.0337  max mem: 4009\n",
      "Epoch: [6]  [ 3700/12099]  eta: 0:17:46  lr: 0.000030  loss: 0.0877 (0.1149)  loss_classifier: 0.0253 (0.0380)  loss_box_reg: 0.0578 (0.0639)  loss_objectness: 0.0020 (0.0089)  loss_rpn_box_reg: 0.0015 (0.0041)  time: 0.1263  data: 0.0352  max mem: 4009\n",
      "Epoch: [6]  [ 3800/12099]  eta: 0:17:33  lr: 0.000030  loss: 0.0783 (0.1147)  loss_classifier: 0.0225 (0.0379)  loss_box_reg: 0.0470 (0.0638)  loss_objectness: 0.0043 (0.0089)  loss_rpn_box_reg: 0.0012 (0.0041)  time: 0.1337  data: 0.0383  max mem: 4009\n",
      "Epoch: [6]  [ 3900/12099]  eta: 0:17:21  lr: 0.000030  loss: 0.1349 (0.1148)  loss_classifier: 0.0375 (0.0380)  loss_box_reg: 0.0754 (0.0638)  loss_objectness: 0.0046 (0.0089)  loss_rpn_box_reg: 0.0016 (0.0041)  time: 0.1324  data: 0.0366  max mem: 4009\n",
      "Epoch: [6]  [ 4000/12099]  eta: 0:17:08  lr: 0.000030  loss: 0.0923 (0.1145)  loss_classifier: 0.0276 (0.0379)  loss_box_reg: 0.0541 (0.0636)  loss_objectness: 0.0039 (0.0088)  loss_rpn_box_reg: 0.0015 (0.0041)  time: 0.1267  data: 0.0343  max mem: 4009\n",
      "Epoch: [6]  [ 4100/12099]  eta: 0:16:55  lr: 0.000030  loss: 0.0909 (0.1145)  loss_classifier: 0.0309 (0.0379)  loss_box_reg: 0.0519 (0.0636)  loss_objectness: 0.0033 (0.0089)  loss_rpn_box_reg: 0.0014 (0.0042)  time: 0.1243  data: 0.0329  max mem: 4009\n",
      "Epoch: [6]  [ 4200/12099]  eta: 0:16:43  lr: 0.000030  loss: 0.1268 (0.1145)  loss_classifier: 0.0347 (0.0379)  loss_box_reg: 0.0695 (0.0636)  loss_objectness: 0.0033 (0.0089)  loss_rpn_box_reg: 0.0028 (0.0042)  time: 0.1266  data: 0.0351  max mem: 4009\n",
      "Epoch: [6]  [ 4300/12099]  eta: 0:16:30  lr: 0.000030  loss: 0.0708 (0.1142)  loss_classifier: 0.0203 (0.0378)  loss_box_reg: 0.0397 (0.0634)  loss_objectness: 0.0028 (0.0089)  loss_rpn_box_reg: 0.0019 (0.0042)  time: 0.1266  data: 0.0335  max mem: 4009\n",
      "Epoch: [6]  [ 4400/12099]  eta: 0:16:18  lr: 0.000030  loss: 0.1126 (0.1144)  loss_classifier: 0.0260 (0.0378)  loss_box_reg: 0.0610 (0.0635)  loss_objectness: 0.0040 (0.0089)  loss_rpn_box_reg: 0.0014 (0.0041)  time: 0.1265  data: 0.0356  max mem: 4009\n",
      "Epoch: [6]  [ 4500/12099]  eta: 0:16:05  lr: 0.000030  loss: 0.1030 (0.1146)  loss_classifier: 0.0368 (0.0379)  loss_box_reg: 0.0601 (0.0636)  loss_objectness: 0.0047 (0.0089)  loss_rpn_box_reg: 0.0011 (0.0041)  time: 0.1264  data: 0.0357  max mem: 4009\n",
      "Epoch: [6]  [ 4600/12099]  eta: 0:15:52  lr: 0.000030  loss: 0.0820 (0.1146)  loss_classifier: 0.0224 (0.0379)  loss_box_reg: 0.0476 (0.0636)  loss_objectness: 0.0020 (0.0088)  loss_rpn_box_reg: 0.0012 (0.0042)  time: 0.1261  data: 0.0338  max mem: 4009\n",
      "Epoch: [6]  [ 4700/12099]  eta: 0:15:39  lr: 0.000030  loss: 0.1194 (0.1147)  loss_classifier: 0.0369 (0.0379)  loss_box_reg: 0.0514 (0.0637)  loss_objectness: 0.0042 (0.0089)  loss_rpn_box_reg: 0.0022 (0.0042)  time: 0.1286  data: 0.0355  max mem: 4009\n",
      "Epoch: [6]  [ 4800/12099]  eta: 0:15:26  lr: 0.000030  loss: 0.0967 (0.1146)  loss_classifier: 0.0248 (0.0379)  loss_box_reg: 0.0639 (0.0636)  loss_objectness: 0.0037 (0.0089)  loss_rpn_box_reg: 0.0018 (0.0042)  time: 0.1254  data: 0.0335  max mem: 4009\n",
      "Epoch: [6]  [ 4900/12099]  eta: 0:15:14  lr: 0.000030  loss: 0.1276 (0.1147)  loss_classifier: 0.0407 (0.0379)  loss_box_reg: 0.0660 (0.0637)  loss_objectness: 0.0054 (0.0089)  loss_rpn_box_reg: 0.0018 (0.0042)  time: 0.1241  data: 0.0340  max mem: 4009\n",
      "Epoch: [6]  [ 5000/12099]  eta: 0:15:01  lr: 0.000030  loss: 0.0721 (0.1146)  loss_classifier: 0.0224 (0.0379)  loss_box_reg: 0.0418 (0.0636)  loss_objectness: 0.0075 (0.0089)  loss_rpn_box_reg: 0.0017 (0.0042)  time: 0.1230  data: 0.0316  max mem: 4009\n",
      "Epoch: [6]  [ 5100/12099]  eta: 0:14:48  lr: 0.000030  loss: 0.1036 (0.1145)  loss_classifier: 0.0357 (0.0378)  loss_box_reg: 0.0569 (0.0636)  loss_objectness: 0.0047 (0.0089)  loss_rpn_box_reg: 0.0010 (0.0042)  time: 0.1244  data: 0.0339  max mem: 4009\n",
      "Epoch: [6]  [ 5200/12099]  eta: 0:14:37  lr: 0.000030  loss: 0.0912 (0.1144)  loss_classifier: 0.0234 (0.0379)  loss_box_reg: 0.0512 (0.0636)  loss_objectness: 0.0025 (0.0089)  loss_rpn_box_reg: 0.0014 (0.0042)  time: 0.1384  data: 0.0400  max mem: 4009\n",
      "Epoch: [6]  [ 5300/12099]  eta: 0:14:26  lr: 0.000030  loss: 0.0868 (0.1143)  loss_classifier: 0.0266 (0.0378)  loss_box_reg: 0.0482 (0.0635)  loss_objectness: 0.0024 (0.0088)  loss_rpn_box_reg: 0.0011 (0.0042)  time: 0.1431  data: 0.0411  max mem: 4009\n",
      "Epoch: [6]  [ 5400/12099]  eta: 0:14:14  lr: 0.000030  loss: 0.0962 (0.1142)  loss_classifier: 0.0275 (0.0377)  loss_box_reg: 0.0527 (0.0634)  loss_objectness: 0.0052 (0.0088)  loss_rpn_box_reg: 0.0016 (0.0042)  time: 0.1360  data: 0.0399  max mem: 4009\n",
      "Epoch: [6]  [ 5500/12099]  eta: 0:14:01  lr: 0.000030  loss: 0.1050 (0.1141)  loss_classifier: 0.0331 (0.0377)  loss_box_reg: 0.0682 (0.0635)  loss_objectness: 0.0040 (0.0088)  loss_rpn_box_reg: 0.0016 (0.0042)  time: 0.1257  data: 0.0340  max mem: 4009\n",
      "Epoch: [6]  [ 5600/12099]  eta: 0:13:49  lr: 0.000030  loss: 0.0931 (0.1141)  loss_classifier: 0.0321 (0.0377)  loss_box_reg: 0.0566 (0.0635)  loss_objectness: 0.0050 (0.0088)  loss_rpn_box_reg: 0.0012 (0.0041)  time: 0.1299  data: 0.0362  max mem: 4009\n",
      "Epoch: [6]  [ 5700/12099]  eta: 0:13:36  lr: 0.000030  loss: 0.0921 (0.1140)  loss_classifier: 0.0255 (0.0376)  loss_box_reg: 0.0557 (0.0635)  loss_objectness: 0.0019 (0.0088)  loss_rpn_box_reg: 0.0013 (0.0041)  time: 0.1383  data: 0.0400  max mem: 4009\n",
      "Epoch: [6]  [ 5800/12099]  eta: 0:13:24  lr: 0.000030  loss: 0.0960 (0.1141)  loss_classifier: 0.0274 (0.0376)  loss_box_reg: 0.0571 (0.0635)  loss_objectness: 0.0058 (0.0088)  loss_rpn_box_reg: 0.0018 (0.0041)  time: 0.1258  data: 0.0336  max mem: 4009\n",
      "Epoch: [6]  [ 5900/12099]  eta: 0:13:11  lr: 0.000030  loss: 0.1042 (0.1140)  loss_classifier: 0.0338 (0.0376)  loss_box_reg: 0.0612 (0.0635)  loss_objectness: 0.0031 (0.0088)  loss_rpn_box_reg: 0.0012 (0.0041)  time: 0.1240  data: 0.0342  max mem: 4009\n"
     ]
    },
    {
     "name": "stdout",
     "output_type": "stream",
     "text": [
      "Epoch: [6]  [ 6000/12099]  eta: 0:12:58  lr: 0.000030  loss: 0.1009 (0.1139)  loss_classifier: 0.0355 (0.0376)  loss_box_reg: 0.0702 (0.0634)  loss_objectness: 0.0048 (0.0088)  loss_rpn_box_reg: 0.0021 (0.0041)  time: 0.1346  data: 0.0379  max mem: 4009\n",
      "Epoch: [6]  [ 6100/12099]  eta: 0:12:46  lr: 0.000030  loss: 0.0991 (0.1138)  loss_classifier: 0.0257 (0.0375)  loss_box_reg: 0.0572 (0.0634)  loss_objectness: 0.0033 (0.0087)  loss_rpn_box_reg: 0.0016 (0.0041)  time: 0.1265  data: 0.0337  max mem: 4009\n",
      "Epoch: [6]  [ 6200/12099]  eta: 0:12:33  lr: 0.000030  loss: 0.1088 (0.1138)  loss_classifier: 0.0297 (0.0376)  loss_box_reg: 0.0656 (0.0633)  loss_objectness: 0.0071 (0.0088)  loss_rpn_box_reg: 0.0013 (0.0042)  time: 0.1283  data: 0.0346  max mem: 4009\n",
      "Epoch: [6]  [ 6300/12099]  eta: 0:12:20  lr: 0.000030  loss: 0.1119 (0.1140)  loss_classifier: 0.0338 (0.0377)  loss_box_reg: 0.0735 (0.0634)  loss_objectness: 0.0037 (0.0088)  loss_rpn_box_reg: 0.0017 (0.0041)  time: 0.1376  data: 0.0417  max mem: 4009\n",
      "Epoch: [6]  [ 6400/12099]  eta: 0:12:08  lr: 0.000030  loss: 0.0930 (0.1141)  loss_classifier: 0.0333 (0.0377)  loss_box_reg: 0.0686 (0.0635)  loss_objectness: 0.0028 (0.0088)  loss_rpn_box_reg: 0.0012 (0.0041)  time: 0.1223  data: 0.0344  max mem: 4009\n",
      "Epoch: [6]  [ 6500/12099]  eta: 0:11:55  lr: 0.000030  loss: 0.0767 (0.1143)  loss_classifier: 0.0249 (0.0378)  loss_box_reg: 0.0501 (0.0635)  loss_objectness: 0.0023 (0.0089)  loss_rpn_box_reg: 0.0011 (0.0042)  time: 0.1370  data: 0.0391  max mem: 4009\n",
      "Epoch: [6]  [ 6600/12099]  eta: 0:11:43  lr: 0.000030  loss: 0.0833 (0.1142)  loss_classifier: 0.0238 (0.0378)  loss_box_reg: 0.0477 (0.0634)  loss_objectness: 0.0030 (0.0089)  loss_rpn_box_reg: 0.0020 (0.0042)  time: 0.1233  data: 0.0324  max mem: 4009\n",
      "Epoch: [6]  [ 6700/12099]  eta: 0:11:30  lr: 0.000030  loss: 0.0846 (0.1141)  loss_classifier: 0.0242 (0.0377)  loss_box_reg: 0.0572 (0.0633)  loss_objectness: 0.0034 (0.0089)  loss_rpn_box_reg: 0.0010 (0.0041)  time: 0.1392  data: 0.0417  max mem: 4009\n",
      "Epoch: [6]  [ 6800/12099]  eta: 0:11:17  lr: 0.000030  loss: 0.0818 (0.1139)  loss_classifier: 0.0241 (0.0377)  loss_box_reg: 0.0509 (0.0633)  loss_objectness: 0.0028 (0.0089)  loss_rpn_box_reg: 0.0023 (0.0041)  time: 0.1322  data: 0.0362  max mem: 4009\n",
      "Epoch: [6]  [ 6900/12099]  eta: 0:11:04  lr: 0.000030  loss: 0.1048 (0.1138)  loss_classifier: 0.0263 (0.0376)  loss_box_reg: 0.0579 (0.0632)  loss_objectness: 0.0036 (0.0089)  loss_rpn_box_reg: 0.0015 (0.0041)  time: 0.1266  data: 0.0348  max mem: 4009\n",
      "Epoch: [6]  [ 7000/12099]  eta: 0:10:52  lr: 0.000030  loss: 0.0917 (0.1139)  loss_classifier: 0.0283 (0.0376)  loss_box_reg: 0.0535 (0.0632)  loss_objectness: 0.0031 (0.0089)  loss_rpn_box_reg: 0.0013 (0.0041)  time: 0.1301  data: 0.0385  max mem: 4009\n",
      "Epoch: [6]  [ 7100/12099]  eta: 0:10:39  lr: 0.000030  loss: 0.0842 (0.1140)  loss_classifier: 0.0302 (0.0377)  loss_box_reg: 0.0580 (0.0633)  loss_objectness: 0.0036 (0.0089)  loss_rpn_box_reg: 0.0010 (0.0041)  time: 0.1261  data: 0.0342  max mem: 4009\n",
      "Epoch: [6]  [ 7200/12099]  eta: 0:10:26  lr: 0.000030  loss: 0.0932 (0.1140)  loss_classifier: 0.0238 (0.0377)  loss_box_reg: 0.0559 (0.0633)  loss_objectness: 0.0020 (0.0089)  loss_rpn_box_reg: 0.0028 (0.0041)  time: 0.1237  data: 0.0326  max mem: 4009\n",
      "Epoch: [6]  [ 7300/12099]  eta: 0:10:14  lr: 0.000030  loss: 0.1012 (0.1140)  loss_classifier: 0.0233 (0.0377)  loss_box_reg: 0.0576 (0.0633)  loss_objectness: 0.0025 (0.0089)  loss_rpn_box_reg: 0.0015 (0.0041)  time: 0.1284  data: 0.0339  max mem: 4009\n",
      "Epoch: [6]  [ 7400/12099]  eta: 0:10:01  lr: 0.000030  loss: 0.0938 (0.1140)  loss_classifier: 0.0296 (0.0377)  loss_box_reg: 0.0581 (0.0633)  loss_objectness: 0.0040 (0.0089)  loss_rpn_box_reg: 0.0016 (0.0041)  time: 0.1422  data: 0.0422  max mem: 4009\n",
      "Epoch: [6]  [ 7500/12099]  eta: 0:09:48  lr: 0.000030  loss: 0.0846 (0.1139)  loss_classifier: 0.0254 (0.0377)  loss_box_reg: 0.0510 (0.0633)  loss_objectness: 0.0029 (0.0089)  loss_rpn_box_reg: 0.0010 (0.0041)  time: 0.1265  data: 0.0352  max mem: 4009\n",
      "Epoch: [6]  [ 7600/12099]  eta: 0:09:35  lr: 0.000030  loss: 0.0748 (0.1139)  loss_classifier: 0.0199 (0.0377)  loss_box_reg: 0.0416 (0.0632)  loss_objectness: 0.0038 (0.0089)  loss_rpn_box_reg: 0.0015 (0.0041)  time: 0.1250  data: 0.0330  max mem: 4009\n",
      "Epoch: [6]  [ 7700/12099]  eta: 0:09:22  lr: 0.000030  loss: 0.1305 (0.1141)  loss_classifier: 0.0337 (0.0377)  loss_box_reg: 0.0711 (0.0633)  loss_objectness: 0.0038 (0.0089)  loss_rpn_box_reg: 0.0011 (0.0041)  time: 0.1260  data: 0.0342  max mem: 4009\n",
      "Epoch: [6]  [ 7800/12099]  eta: 0:09:09  lr: 0.000030  loss: 0.1095 (0.1142)  loss_classifier: 0.0286 (0.0378)  loss_box_reg: 0.0756 (0.0634)  loss_objectness: 0.0039 (0.0089)  loss_rpn_box_reg: 0.0011 (0.0041)  time: 0.1247  data: 0.0333  max mem: 4009\n",
      "Epoch: [6]  [ 7900/12099]  eta: 0:08:57  lr: 0.000030  loss: 0.0907 (0.1143)  loss_classifier: 0.0333 (0.0378)  loss_box_reg: 0.0580 (0.0634)  loss_objectness: 0.0042 (0.0090)  loss_rpn_box_reg: 0.0017 (0.0042)  time: 0.1290  data: 0.0349  max mem: 4009\n",
      "Epoch: [6]  [ 8000/12099]  eta: 0:08:44  lr: 0.000030  loss: 0.0905 (0.1142)  loss_classifier: 0.0270 (0.0378)  loss_box_reg: 0.0515 (0.0633)  loss_objectness: 0.0053 (0.0090)  loss_rpn_box_reg: 0.0019 (0.0042)  time: 0.1260  data: 0.0335  max mem: 4009\n",
      "Epoch: [6]  [ 8100/12099]  eta: 0:08:31  lr: 0.000030  loss: 0.0913 (0.1142)  loss_classifier: 0.0256 (0.0378)  loss_box_reg: 0.0594 (0.0633)  loss_objectness: 0.0052 (0.0089)  loss_rpn_box_reg: 0.0011 (0.0041)  time: 0.1380  data: 0.0385  max mem: 4009\n",
      "Epoch: [6]  [ 8200/12099]  eta: 0:08:19  lr: 0.000030  loss: 0.1185 (0.1141)  loss_classifier: 0.0349 (0.0377)  loss_box_reg: 0.0657 (0.0633)  loss_objectness: 0.0026 (0.0089)  loss_rpn_box_reg: 0.0022 (0.0041)  time: 0.1262  data: 0.0345  max mem: 4009\n",
      "Epoch: [6]  [ 8300/12099]  eta: 0:08:06  lr: 0.000030  loss: 0.1285 (0.1142)  loss_classifier: 0.0398 (0.0378)  loss_box_reg: 0.0474 (0.0633)  loss_objectness: 0.0061 (0.0090)  loss_rpn_box_reg: 0.0015 (0.0042)  time: 0.1270  data: 0.0340  max mem: 4009\n",
      "Epoch: [6]  [ 8400/12099]  eta: 0:07:53  lr: 0.000030  loss: 0.1062 (0.1141)  loss_classifier: 0.0388 (0.0378)  loss_box_reg: 0.0692 (0.0633)  loss_objectness: 0.0068 (0.0090)  loss_rpn_box_reg: 0.0016 (0.0041)  time: 0.1266  data: 0.0353  max mem: 4009\n",
      "Epoch: [6]  [ 8500/12099]  eta: 0:07:40  lr: 0.000030  loss: 0.1227 (0.1143)  loss_classifier: 0.0351 (0.0378)  loss_box_reg: 0.0743 (0.0634)  loss_objectness: 0.0031 (0.0089)  loss_rpn_box_reg: 0.0020 (0.0041)  time: 0.1282  data: 0.0342  max mem: 4009\n",
      "Epoch: [6]  [ 8600/12099]  eta: 0:07:28  lr: 0.000030  loss: 0.1153 (0.1143)  loss_classifier: 0.0306 (0.0378)  loss_box_reg: 0.0614 (0.0633)  loss_objectness: 0.0030 (0.0090)  loss_rpn_box_reg: 0.0014 (0.0041)  time: 0.1290  data: 0.0359  max mem: 4009\n",
      "Epoch: [6]  [ 8700/12099]  eta: 0:07:15  lr: 0.000030  loss: 0.1051 (0.1142)  loss_classifier: 0.0334 (0.0378)  loss_box_reg: 0.0534 (0.0633)  loss_objectness: 0.0036 (0.0090)  loss_rpn_box_reg: 0.0014 (0.0041)  time: 0.1290  data: 0.0357  max mem: 4009\n",
      "Epoch: [6]  [ 8800/12099]  eta: 0:07:02  lr: 0.000030  loss: 0.1051 (0.1145)  loss_classifier: 0.0279 (0.0379)  loss_box_reg: 0.0639 (0.0634)  loss_objectness: 0.0040 (0.0090)  loss_rpn_box_reg: 0.0024 (0.0041)  time: 0.1355  data: 0.0380  max mem: 4009\n",
      "Epoch: [6]  [ 8900/12099]  eta: 0:06:49  lr: 0.000030  loss: 0.0945 (0.1144)  loss_classifier: 0.0255 (0.0379)  loss_box_reg: 0.0449 (0.0634)  loss_objectness: 0.0038 (0.0090)  loss_rpn_box_reg: 0.0017 (0.0041)  time: 0.1354  data: 0.0393  max mem: 4009\n",
      "Epoch: [6]  [ 9000/12099]  eta: 0:06:36  lr: 0.000030  loss: 0.1142 (0.1145)  loss_classifier: 0.0319 (0.0380)  loss_box_reg: 0.0649 (0.0634)  loss_objectness: 0.0049 (0.0090)  loss_rpn_box_reg: 0.0022 (0.0041)  time: 0.1268  data: 0.0337  max mem: 4009\n",
      "Epoch: [6]  [ 9100/12099]  eta: 0:06:24  lr: 0.000030  loss: 0.1335 (0.1145)  loss_classifier: 0.0420 (0.0380)  loss_box_reg: 0.0628 (0.0635)  loss_objectness: 0.0051 (0.0090)  loss_rpn_box_reg: 0.0016 (0.0041)  time: 0.1269  data: 0.0351  max mem: 4009\n",
      "Epoch: [6]  [ 9200/12099]  eta: 0:06:11  lr: 0.000030  loss: 0.0879 (0.1146)  loss_classifier: 0.0241 (0.0380)  loss_box_reg: 0.0668 (0.0635)  loss_objectness: 0.0082 (0.0090)  loss_rpn_box_reg: 0.0017 (0.0041)  time: 0.1232  data: 0.0331  max mem: 4009\n"
     ]
    },
    {
     "name": "stdout",
     "output_type": "stream",
     "text": [
      "Epoch: [6]  [ 9300/12099]  eta: 0:05:58  lr: 0.000030  loss: 0.1020 (0.1145)  loss_classifier: 0.0302 (0.0380)  loss_box_reg: 0.0688 (0.0635)  loss_objectness: 0.0052 (0.0090)  loss_rpn_box_reg: 0.0011 (0.0041)  time: 0.1239  data: 0.0333  max mem: 4009\n",
      "Epoch: [6]  [ 9400/12099]  eta: 0:05:45  lr: 0.000030  loss: 0.1381 (0.1146)  loss_classifier: 0.0332 (0.0380)  loss_box_reg: 0.0796 (0.0635)  loss_objectness: 0.0067 (0.0090)  loss_rpn_box_reg: 0.0011 (0.0041)  time: 0.1249  data: 0.0332  max mem: 4009\n",
      "Epoch: [6]  [ 9500/12099]  eta: 0:05:32  lr: 0.000030  loss: 0.1279 (0.1146)  loss_classifier: 0.0351 (0.0380)  loss_box_reg: 0.0703 (0.0635)  loss_objectness: 0.0054 (0.0090)  loss_rpn_box_reg: 0.0012 (0.0041)  time: 0.1351  data: 0.0376  max mem: 4009\n",
      "Epoch: [6]  [ 9600/12099]  eta: 0:05:19  lr: 0.000030  loss: 0.0901 (0.1147)  loss_classifier: 0.0236 (0.0380)  loss_box_reg: 0.0509 (0.0636)  loss_objectness: 0.0062 (0.0090)  loss_rpn_box_reg: 0.0016 (0.0041)  time: 0.1275  data: 0.0349  max mem: 4009\n",
      "Epoch: [6]  [ 9700/12099]  eta: 0:05:07  lr: 0.000030  loss: 0.0646 (0.1146)  loss_classifier: 0.0240 (0.0380)  loss_box_reg: 0.0362 (0.0635)  loss_objectness: 0.0020 (0.0090)  loss_rpn_box_reg: 0.0011 (0.0041)  time: 0.1254  data: 0.0338  max mem: 4009\n",
      "Epoch: [6]  [ 9800/12099]  eta: 0:04:54  lr: 0.000030  loss: 0.0855 (0.1146)  loss_classifier: 0.0236 (0.0379)  loss_box_reg: 0.0637 (0.0635)  loss_objectness: 0.0024 (0.0090)  loss_rpn_box_reg: 0.0020 (0.0041)  time: 0.1265  data: 0.0341  max mem: 4009\n",
      "Epoch: [6]  [ 9900/12099]  eta: 0:04:41  lr: 0.000030  loss: 0.0878 (0.1145)  loss_classifier: 0.0248 (0.0379)  loss_box_reg: 0.0559 (0.0634)  loss_objectness: 0.0057 (0.0090)  loss_rpn_box_reg: 0.0014 (0.0041)  time: 0.1309  data: 0.0355  max mem: 4009\n",
      "Epoch: [6]  [10000/12099]  eta: 0:04:28  lr: 0.000030  loss: 0.0988 (0.1145)  loss_classifier: 0.0283 (0.0379)  loss_box_reg: 0.0609 (0.0635)  loss_objectness: 0.0041 (0.0090)  loss_rpn_box_reg: 0.0010 (0.0041)  time: 0.1266  data: 0.0340  max mem: 4009\n",
      "Epoch: [6]  [10100/12099]  eta: 0:04:16  lr: 0.000030  loss: 0.0897 (0.1145)  loss_classifier: 0.0258 (0.0379)  loss_box_reg: 0.0565 (0.0635)  loss_objectness: 0.0019 (0.0090)  loss_rpn_box_reg: 0.0009 (0.0041)  time: 0.1250  data: 0.0342  max mem: 4009\n",
      "Epoch: [6]  [10200/12099]  eta: 0:04:03  lr: 0.000030  loss: 0.1049 (0.1144)  loss_classifier: 0.0261 (0.0378)  loss_box_reg: 0.0717 (0.0635)  loss_objectness: 0.0052 (0.0090)  loss_rpn_box_reg: 0.0011 (0.0041)  time: 0.1380  data: 0.0377  max mem: 4009\n",
      "Epoch: [6]  [10300/12099]  eta: 0:03:50  lr: 0.000030  loss: 0.0934 (0.1144)  loss_classifier: 0.0266 (0.0379)  loss_box_reg: 0.0566 (0.0634)  loss_objectness: 0.0029 (0.0090)  loss_rpn_box_reg: 0.0011 (0.0041)  time: 0.1276  data: 0.0350  max mem: 4009\n",
      "Epoch: [6]  [10400/12099]  eta: 0:03:37  lr: 0.000030  loss: 0.0825 (0.1144)  loss_classifier: 0.0248 (0.0378)  loss_box_reg: 0.0485 (0.0635)  loss_objectness: 0.0032 (0.0090)  loss_rpn_box_reg: 0.0014 (0.0041)  time: 0.1267  data: 0.0340  max mem: 4009\n",
      "Epoch: [6]  [10500/12099]  eta: 0:03:25  lr: 0.000030  loss: 0.0973 (0.1144)  loss_classifier: 0.0340 (0.0378)  loss_box_reg: 0.0518 (0.0635)  loss_objectness: 0.0038 (0.0089)  loss_rpn_box_reg: 0.0016 (0.0041)  time: 0.1568  data: 0.0483  max mem: 4009\n",
      "Epoch: [6]  [10600/12099]  eta: 0:03:12  lr: 0.000030  loss: 0.1259 (0.1145)  loss_classifier: 0.0332 (0.0378)  loss_box_reg: 0.0750 (0.0635)  loss_objectness: 0.0054 (0.0090)  loss_rpn_box_reg: 0.0032 (0.0041)  time: 0.1383  data: 0.0399  max mem: 4009\n",
      "Epoch: [6]  [10700/12099]  eta: 0:03:00  lr: 0.000030  loss: 0.0927 (0.1144)  loss_classifier: 0.0268 (0.0378)  loss_box_reg: 0.0529 (0.0634)  loss_objectness: 0.0034 (0.0090)  loss_rpn_box_reg: 0.0019 (0.0041)  time: 0.1477  data: 0.0439  max mem: 4009\n",
      "Epoch: [6]  [10800/12099]  eta: 0:02:47  lr: 0.000030  loss: 0.0929 (0.1144)  loss_classifier: 0.0260 (0.0378)  loss_box_reg: 0.0559 (0.0635)  loss_objectness: 0.0032 (0.0090)  loss_rpn_box_reg: 0.0015 (0.0041)  time: 0.1509  data: 0.0435  max mem: 4009\n",
      "Epoch: [6]  [10900/12099]  eta: 0:02:34  lr: 0.000030  loss: 0.1111 (0.1144)  loss_classifier: 0.0308 (0.0378)  loss_box_reg: 0.0704 (0.0635)  loss_objectness: 0.0021 (0.0090)  loss_rpn_box_reg: 0.0018 (0.0041)  time: 0.1393  data: 0.0388  max mem: 4009\n",
      "Epoch: [6]  [11000/12099]  eta: 0:02:21  lr: 0.000030  loss: 0.1012 (0.1144)  loss_classifier: 0.0247 (0.0378)  loss_box_reg: 0.0689 (0.0635)  loss_objectness: 0.0036 (0.0090)  loss_rpn_box_reg: 0.0018 (0.0041)  time: 0.1400  data: 0.0401  max mem: 4009\n",
      "Epoch: [6]  [11100/12099]  eta: 0:02:08  lr: 0.000030  loss: 0.0955 (0.1144)  loss_classifier: 0.0322 (0.0378)  loss_box_reg: 0.0512 (0.0635)  loss_objectness: 0.0055 (0.0090)  loss_rpn_box_reg: 0.0020 (0.0041)  time: 0.1315  data: 0.0379  max mem: 4009\n",
      "Epoch: [6]  [11200/12099]  eta: 0:01:55  lr: 0.000030  loss: 0.0927 (0.1144)  loss_classifier: 0.0309 (0.0378)  loss_box_reg: 0.0567 (0.0634)  loss_objectness: 0.0026 (0.0090)  loss_rpn_box_reg: 0.0015 (0.0041)  time: 0.1217  data: 0.0336  max mem: 4009\n",
      "Epoch: [6]  [11300/12099]  eta: 0:01:43  lr: 0.000030  loss: 0.0917 (0.1144)  loss_classifier: 0.0247 (0.0378)  loss_box_reg: 0.0515 (0.0635)  loss_objectness: 0.0028 (0.0090)  loss_rpn_box_reg: 0.0011 (0.0041)  time: 0.1270  data: 0.0348  max mem: 4009\n",
      "Epoch: [6]  [11400/12099]  eta: 0:01:30  lr: 0.000030  loss: 0.0965 (0.1144)  loss_classifier: 0.0327 (0.0378)  loss_box_reg: 0.0543 (0.0634)  loss_objectness: 0.0017 (0.0090)  loss_rpn_box_reg: 0.0016 (0.0041)  time: 0.1269  data: 0.0353  max mem: 4009\n",
      "Epoch: [6]  [11500/12099]  eta: 0:01:17  lr: 0.000030  loss: 0.1221 (0.1144)  loss_classifier: 0.0343 (0.0379)  loss_box_reg: 0.0572 (0.0634)  loss_objectness: 0.0044 (0.0090)  loss_rpn_box_reg: 0.0009 (0.0041)  time: 0.1293  data: 0.0374  max mem: 4009\n",
      "Epoch: [6]  [11600/12099]  eta: 0:01:04  lr: 0.000030  loss: 0.0659 (0.1145)  loss_classifier: 0.0281 (0.0379)  loss_box_reg: 0.0358 (0.0635)  loss_objectness: 0.0036 (0.0090)  loss_rpn_box_reg: 0.0015 (0.0041)  time: 0.1297  data: 0.0357  max mem: 4009\n",
      "Epoch: [6]  [11700/12099]  eta: 0:00:51  lr: 0.000030  loss: 0.0934 (0.1144)  loss_classifier: 0.0286 (0.0379)  loss_box_reg: 0.0593 (0.0634)  loss_objectness: 0.0050 (0.0090)  loss_rpn_box_reg: 0.0013 (0.0041)  time: 0.1213  data: 0.0337  max mem: 4009\n",
      "Epoch: [6]  [11800/12099]  eta: 0:00:38  lr: 0.000030  loss: 0.1091 (0.1144)  loss_classifier: 0.0290 (0.0379)  loss_box_reg: 0.0691 (0.0634)  loss_objectness: 0.0023 (0.0090)  loss_rpn_box_reg: 0.0025 (0.0041)  time: 0.1187  data: 0.0322  max mem: 4009\n",
      "Epoch: [6]  [11900/12099]  eta: 0:00:25  lr: 0.000030  loss: 0.0966 (0.1144)  loss_classifier: 0.0286 (0.0378)  loss_box_reg: 0.0587 (0.0634)  loss_objectness: 0.0021 (0.0090)  loss_rpn_box_reg: 0.0013 (0.0041)  time: 0.1190  data: 0.0322  max mem: 4009\n",
      "Epoch: [6]  [12000/12099]  eta: 0:00:12  lr: 0.000030  loss: 0.1054 (0.1144)  loss_classifier: 0.0287 (0.0379)  loss_box_reg: 0.0638 (0.0635)  loss_objectness: 0.0032 (0.0090)  loss_rpn_box_reg: 0.0023 (0.0041)  time: 0.1202  data: 0.0328  max mem: 4009\n",
      "Epoch: [6]  [12098/12099]  eta: 0:00:00  lr: 0.000030  loss: 0.1105 (0.1144)  loss_classifier: 0.0264 (0.0379)  loss_box_reg: 0.0696 (0.0635)  loss_objectness: 0.0035 (0.0090)  loss_rpn_box_reg: 0.0012 (0.0041)  time: 0.1220  data: 0.0333  max mem: 4009\n",
      "Epoch: [6] Total time: 0:25:57 (0.1287 s / it)\n",
      "Epoch: [7]  [    0/12099]  eta: 0:23:41  lr: 0.000030  loss: 0.1983 (0.1983)  loss_classifier: 0.0959 (0.0959)  loss_box_reg: 0.0883 (0.0883)  loss_objectness: 0.0116 (0.0116)  loss_rpn_box_reg: 0.0024 (0.0024)  time: 0.1175  data: 0.0310  max mem: 4009\n",
      "Epoch: [7]  [  100/12099]  eta: 0:24:55  lr: 0.000030  loss: 0.1104 (0.1256)  loss_classifier: 0.0339 (0.0422)  loss_box_reg: 0.0617 (0.0707)  loss_objectness: 0.0026 (0.0088)  loss_rpn_box_reg: 0.0011 (0.0039)  time: 0.1237  data: 0.0357  max mem: 4009\n",
      "Epoch: [7]  [  200/12099]  eta: 0:24:39  lr: 0.000030  loss: 0.0859 (0.1155)  loss_classifier: 0.0287 (0.0377)  loss_box_reg: 0.0526 (0.0657)  loss_objectness: 0.0037 (0.0084)  loss_rpn_box_reg: 0.0011 (0.0038)  time: 0.1260  data: 0.0367  max mem: 4009\n",
      "Epoch: [7]  [  300/12099]  eta: 0:24:53  lr: 0.000030  loss: 0.0973 (0.1156)  loss_classifier: 0.0260 (0.0369)  loss_box_reg: 0.0449 (0.0636)  loss_objectness: 0.0044 (0.0108)  loss_rpn_box_reg: 0.0016 (0.0043)  time: 0.1396  data: 0.0408  max mem: 4009\n"
     ]
    },
    {
     "name": "stdout",
     "output_type": "stream",
     "text": [
      "Epoch: [7]  [  400/12099]  eta: 0:24:56  lr: 0.000030  loss: 0.1117 (0.1166)  loss_classifier: 0.0378 (0.0371)  loss_box_reg: 0.0722 (0.0645)  loss_objectness: 0.0056 (0.0105)  loss_rpn_box_reg: 0.0016 (0.0045)  time: 0.1276  data: 0.0371  max mem: 4009\n",
      "Epoch: [7]  [  500/12099]  eta: 0:24:36  lr: 0.000030  loss: 0.0985 (0.1150)  loss_classifier: 0.0292 (0.0374)  loss_box_reg: 0.0649 (0.0632)  loss_objectness: 0.0033 (0.0102)  loss_rpn_box_reg: 0.0015 (0.0043)  time: 0.1244  data: 0.0343  max mem: 4009\n",
      "Epoch: [7]  [  600/12099]  eta: 0:24:30  lr: 0.000030  loss: 0.0892 (0.1164)  loss_classifier: 0.0273 (0.0382)  loss_box_reg: 0.0552 (0.0642)  loss_objectness: 0.0025 (0.0099)  loss_rpn_box_reg: 0.0014 (0.0041)  time: 0.1335  data: 0.0364  max mem: 4009\n",
      "Epoch: [7]  [  700/12099]  eta: 0:24:20  lr: 0.000030  loss: 0.0968 (0.1155)  loss_classifier: 0.0239 (0.0380)  loss_box_reg: 0.0623 (0.0633)  loss_objectness: 0.0031 (0.0100)  loss_rpn_box_reg: 0.0006 (0.0042)  time: 0.1398  data: 0.0374  max mem: 4009\n",
      "Epoch: [7]  [  800/12099]  eta: 0:24:03  lr: 0.000030  loss: 0.1006 (0.1152)  loss_classifier: 0.0292 (0.0379)  loss_box_reg: 0.0637 (0.0634)  loss_objectness: 0.0054 (0.0098)  loss_rpn_box_reg: 0.0011 (0.0040)  time: 0.1258  data: 0.0338  max mem: 4009\n",
      "Epoch: [7]  [  900/12099]  eta: 0:23:53  lr: 0.000030  loss: 0.0894 (0.1156)  loss_classifier: 0.0233 (0.0383)  loss_box_reg: 0.0532 (0.0635)  loss_objectness: 0.0029 (0.0098)  loss_rpn_box_reg: 0.0028 (0.0041)  time: 0.1404  data: 0.0393  max mem: 4009\n",
      "Epoch: [7]  [ 1000/12099]  eta: 0:23:54  lr: 0.000030  loss: 0.1008 (0.1153)  loss_classifier: 0.0321 (0.0381)  loss_box_reg: 0.0592 (0.0636)  loss_objectness: 0.0037 (0.0096)  loss_rpn_box_reg: 0.0015 (0.0040)  time: 0.1317  data: 0.0397  max mem: 4009\n",
      "Epoch: [7]  [ 1100/12099]  eta: 0:23:42  lr: 0.000030  loss: 0.0984 (0.1152)  loss_classifier: 0.0307 (0.0382)  loss_box_reg: 0.0594 (0.0637)  loss_objectness: 0.0040 (0.0095)  loss_rpn_box_reg: 0.0015 (0.0039)  time: 0.1274  data: 0.0371  max mem: 4009\n",
      "Epoch: [7]  [ 1200/12099]  eta: 0:23:29  lr: 0.000030  loss: 0.1189 (0.1148)  loss_classifier: 0.0318 (0.0380)  loss_box_reg: 0.0627 (0.0635)  loss_objectness: 0.0033 (0.0093)  loss_rpn_box_reg: 0.0020 (0.0041)  time: 0.1268  data: 0.0375  max mem: 4009\n",
      "Epoch: [7]  [ 1300/12099]  eta: 0:23:13  lr: 0.000030  loss: 0.0986 (0.1141)  loss_classifier: 0.0304 (0.0378)  loss_box_reg: 0.0548 (0.0630)  loss_objectness: 0.0031 (0.0092)  loss_rpn_box_reg: 0.0021 (0.0041)  time: 0.1337  data: 0.0405  max mem: 4009\n",
      "Epoch: [7]  [ 1400/12099]  eta: 0:22:57  lr: 0.000030  loss: 0.0957 (0.1144)  loss_classifier: 0.0237 (0.0380)  loss_box_reg: 0.0542 (0.0629)  loss_objectness: 0.0042 (0.0094)  loss_rpn_box_reg: 0.0012 (0.0040)  time: 0.1206  data: 0.0326  max mem: 4009\n",
      "Epoch: [7]  [ 1500/12099]  eta: 0:22:50  lr: 0.000030  loss: 0.0934 (0.1139)  loss_classifier: 0.0290 (0.0379)  loss_box_reg: 0.0509 (0.0627)  loss_objectness: 0.0040 (0.0093)  loss_rpn_box_reg: 0.0023 (0.0040)  time: 0.1437  data: 0.0458  max mem: 4009\n",
      "Epoch: [7]  [ 1600/12099]  eta: 0:22:34  lr: 0.000030  loss: 0.1192 (0.1136)  loss_classifier: 0.0415 (0.0378)  loss_box_reg: 0.0652 (0.0626)  loss_objectness: 0.0037 (0.0092)  loss_rpn_box_reg: 0.0022 (0.0040)  time: 0.1202  data: 0.0344  max mem: 4009\n",
      "Epoch: [7]  [ 1700/12099]  eta: 0:22:17  lr: 0.000030  loss: 0.1107 (0.1140)  loss_classifier: 0.0329 (0.0380)  loss_box_reg: 0.0668 (0.0629)  loss_objectness: 0.0043 (0.0092)  loss_rpn_box_reg: 0.0012 (0.0039)  time: 0.1309  data: 0.0372  max mem: 4009\n",
      "Epoch: [7]  [ 1800/12099]  eta: 0:21:56  lr: 0.000030  loss: 0.0872 (0.1139)  loss_classifier: 0.0196 (0.0379)  loss_box_reg: 0.0490 (0.0628)  loss_objectness: 0.0032 (0.0092)  loss_rpn_box_reg: 0.0030 (0.0040)  time: 0.1152  data: 0.0311  max mem: 4009\n",
      "Epoch: [7]  [ 1900/12099]  eta: 0:21:36  lr: 0.000030  loss: 0.1095 (0.1134)  loss_classifier: 0.0276 (0.0376)  loss_box_reg: 0.0687 (0.0627)  loss_objectness: 0.0043 (0.0090)  loss_rpn_box_reg: 0.0014 (0.0040)  time: 0.1138  data: 0.0302  max mem: 4009\n",
      "Epoch: [7]  [ 2000/12099]  eta: 0:21:18  lr: 0.000030  loss: 0.0954 (0.1133)  loss_classifier: 0.0265 (0.0377)  loss_box_reg: 0.0632 (0.0626)  loss_objectness: 0.0049 (0.0089)  loss_rpn_box_reg: 0.0017 (0.0041)  time: 0.1146  data: 0.0314  max mem: 4009\n",
      "Epoch: [7]  [ 2100/12099]  eta: 0:21:00  lr: 0.000030  loss: 0.0734 (0.1130)  loss_classifier: 0.0185 (0.0375)  loss_box_reg: 0.0441 (0.0625)  loss_objectness: 0.0045 (0.0089)  loss_rpn_box_reg: 0.0006 (0.0041)  time: 0.1153  data: 0.0307  max mem: 4009\n",
      "Epoch: [7]  [ 2200/12099]  eta: 0:20:42  lr: 0.000030  loss: 0.1035 (0.1138)  loss_classifier: 0.0377 (0.0379)  loss_box_reg: 0.0566 (0.0630)  loss_objectness: 0.0058 (0.0088)  loss_rpn_box_reg: 0.0017 (0.0041)  time: 0.1140  data: 0.0306  max mem: 4009\n",
      "Epoch: [7]  [ 2300/12099]  eta: 0:20:25  lr: 0.000030  loss: 0.1006 (0.1135)  loss_classifier: 0.0233 (0.0379)  loss_box_reg: 0.0461 (0.0629)  loss_objectness: 0.0071 (0.0087)  loss_rpn_box_reg: 0.0032 (0.0041)  time: 0.1151  data: 0.0314  max mem: 4009\n",
      "Epoch: [7]  [ 2400/12099]  eta: 0:20:09  lr: 0.000030  loss: 0.0850 (0.1129)  loss_classifier: 0.0281 (0.0376)  loss_box_reg: 0.0545 (0.0626)  loss_objectness: 0.0042 (0.0087)  loss_rpn_box_reg: 0.0012 (0.0041)  time: 0.1160  data: 0.0309  max mem: 4009\n",
      "Epoch: [7]  [ 2500/12099]  eta: 0:19:52  lr: 0.000030  loss: 0.0865 (0.1131)  loss_classifier: 0.0260 (0.0377)  loss_box_reg: 0.0569 (0.0627)  loss_objectness: 0.0056 (0.0087)  loss_rpn_box_reg: 0.0014 (0.0041)  time: 0.1139  data: 0.0306  max mem: 4009\n",
      "Epoch: [7]  [ 2600/12099]  eta: 0:19:37  lr: 0.000030  loss: 0.0952 (0.1127)  loss_classifier: 0.0323 (0.0375)  loss_box_reg: 0.0497 (0.0625)  loss_objectness: 0.0071 (0.0087)  loss_rpn_box_reg: 0.0013 (0.0040)  time: 0.1150  data: 0.0306  max mem: 4009\n",
      "Epoch: [7]  [ 2700/12099]  eta: 0:19:21  lr: 0.000030  loss: 0.0934 (0.1129)  loss_classifier: 0.0289 (0.0376)  loss_box_reg: 0.0531 (0.0627)  loss_objectness: 0.0029 (0.0086)  loss_rpn_box_reg: 0.0017 (0.0041)  time: 0.1143  data: 0.0307  max mem: 4009\n",
      "Epoch: [7]  [ 2800/12099]  eta: 0:19:06  lr: 0.000030  loss: 0.0838 (0.1129)  loss_classifier: 0.0295 (0.0375)  loss_box_reg: 0.0549 (0.0627)  loss_objectness: 0.0029 (0.0086)  loss_rpn_box_reg: 0.0015 (0.0041)  time: 0.1160  data: 0.0326  max mem: 4009\n",
      "Epoch: [7]  [ 2900/12099]  eta: 0:18:51  lr: 0.000030  loss: 0.1095 (0.1129)  loss_classifier: 0.0280 (0.0375)  loss_box_reg: 0.0608 (0.0628)  loss_objectness: 0.0032 (0.0086)  loss_rpn_box_reg: 0.0015 (0.0041)  time: 0.1161  data: 0.0316  max mem: 4009\n",
      "Epoch: [7]  [ 3000/12099]  eta: 0:18:36  lr: 0.000030  loss: 0.0898 (0.1130)  loss_classifier: 0.0249 (0.0376)  loss_box_reg: 0.0492 (0.0629)  loss_objectness: 0.0032 (0.0085)  loss_rpn_box_reg: 0.0013 (0.0041)  time: 0.1141  data: 0.0305  max mem: 4009\n",
      "Epoch: [7]  [ 3100/12099]  eta: 0:18:21  lr: 0.000030  loss: 0.0850 (0.1133)  loss_classifier: 0.0253 (0.0378)  loss_box_reg: 0.0548 (0.0630)  loss_objectness: 0.0018 (0.0085)  loss_rpn_box_reg: 0.0015 (0.0041)  time: 0.1140  data: 0.0307  max mem: 4009\n",
      "Epoch: [7]  [ 3200/12099]  eta: 0:18:07  lr: 0.000030  loss: 0.0705 (0.1134)  loss_classifier: 0.0266 (0.0378)  loss_box_reg: 0.0402 (0.0629)  loss_objectness: 0.0033 (0.0085)  loss_rpn_box_reg: 0.0013 (0.0041)  time: 0.1152  data: 0.0307  max mem: 4009\n",
      "Epoch: [7]  [ 3300/12099]  eta: 0:17:53  lr: 0.000030  loss: 0.0836 (0.1131)  loss_classifier: 0.0251 (0.0377)  loss_box_reg: 0.0466 (0.0627)  loss_objectness: 0.0017 (0.0085)  loss_rpn_box_reg: 0.0011 (0.0041)  time: 0.1140  data: 0.0304  max mem: 4009\n",
      "Epoch: [7]  [ 3400/12099]  eta: 0:17:39  lr: 0.000030  loss: 0.0872 (0.1136)  loss_classifier: 0.0246 (0.0379)  loss_box_reg: 0.0608 (0.0631)  loss_objectness: 0.0037 (0.0085)  loss_rpn_box_reg: 0.0012 (0.0041)  time: 0.1137  data: 0.0305  max mem: 4009\n",
      "Epoch: [7]  [ 3500/12099]  eta: 0:17:25  lr: 0.000030  loss: 0.0952 (0.1139)  loss_classifier: 0.0289 (0.0380)  loss_box_reg: 0.0498 (0.0630)  loss_objectness: 0.0035 (0.0087)  loss_rpn_box_reg: 0.0011 (0.0042)  time: 0.1149  data: 0.0315  max mem: 4009\n",
      "Epoch: [7]  [ 3600/12099]  eta: 0:17:11  lr: 0.000030  loss: 0.0940 (0.1137)  loss_classifier: 0.0366 (0.0379)  loss_box_reg: 0.0542 (0.0629)  loss_objectness: 0.0035 (0.0087)  loss_rpn_box_reg: 0.0026 (0.0041)  time: 0.1165  data: 0.0328  max mem: 4009\n"
     ]
    },
    {
     "name": "stdout",
     "output_type": "stream",
     "text": [
      "Epoch: [7]  [ 3700/12099]  eta: 0:16:57  lr: 0.000030  loss: 0.0993 (0.1137)  loss_classifier: 0.0273 (0.0379)  loss_box_reg: 0.0623 (0.0630)  loss_objectness: 0.0027 (0.0086)  loss_rpn_box_reg: 0.0020 (0.0042)  time: 0.1132  data: 0.0300  max mem: 4009\n",
      "Epoch: [7]  [ 3800/12099]  eta: 0:16:44  lr: 0.000030  loss: 0.0960 (0.1137)  loss_classifier: 0.0338 (0.0379)  loss_box_reg: 0.0582 (0.0630)  loss_objectness: 0.0032 (0.0086)  loss_rpn_box_reg: 0.0022 (0.0042)  time: 0.1159  data: 0.0326  max mem: 4009\n",
      "Epoch: [7]  [ 3900/12099]  eta: 0:16:31  lr: 0.000030  loss: 0.0911 (0.1136)  loss_classifier: 0.0265 (0.0379)  loss_box_reg: 0.0622 (0.0630)  loss_objectness: 0.0038 (0.0086)  loss_rpn_box_reg: 0.0012 (0.0041)  time: 0.1148  data: 0.0311  max mem: 4009\n",
      "Epoch: [7]  [ 4000/12099]  eta: 0:16:17  lr: 0.000030  loss: 0.1157 (0.1137)  loss_classifier: 0.0331 (0.0378)  loss_box_reg: 0.0635 (0.0631)  loss_objectness: 0.0049 (0.0086)  loss_rpn_box_reg: 0.0021 (0.0042)  time: 0.1150  data: 0.0312  max mem: 4009\n",
      "Epoch: [7]  [ 4100/12099]  eta: 0:16:04  lr: 0.000030  loss: 0.1174 (0.1136)  loss_classifier: 0.0322 (0.0378)  loss_box_reg: 0.0603 (0.0631)  loss_objectness: 0.0038 (0.0086)  loss_rpn_box_reg: 0.0025 (0.0042)  time: 0.1158  data: 0.0322  max mem: 4009\n",
      "Epoch: [7]  [ 4200/12099]  eta: 0:15:51  lr: 0.000030  loss: 0.0947 (0.1137)  loss_classifier: 0.0293 (0.0378)  loss_box_reg: 0.0655 (0.0632)  loss_objectness: 0.0030 (0.0085)  loss_rpn_box_reg: 0.0011 (0.0042)  time: 0.1155  data: 0.0317  max mem: 4009\n",
      "Epoch: [7]  [ 4300/12099]  eta: 0:15:38  lr: 0.000030  loss: 0.0927 (0.1134)  loss_classifier: 0.0342 (0.0377)  loss_box_reg: 0.0585 (0.0631)  loss_objectness: 0.0061 (0.0085)  loss_rpn_box_reg: 0.0019 (0.0041)  time: 0.1156  data: 0.0318  max mem: 4009\n",
      "Epoch: [7]  [ 4400/12099]  eta: 0:15:25  lr: 0.000030  loss: 0.0968 (0.1135)  loss_classifier: 0.0357 (0.0377)  loss_box_reg: 0.0541 (0.0630)  loss_objectness: 0.0041 (0.0085)  loss_rpn_box_reg: 0.0014 (0.0042)  time: 0.1161  data: 0.0323  max mem: 4009\n",
      "Epoch: [7]  [ 4500/12099]  eta: 0:15:12  lr: 0.000030  loss: 0.1191 (0.1135)  loss_classifier: 0.0257 (0.0378)  loss_box_reg: 0.0612 (0.0631)  loss_objectness: 0.0027 (0.0085)  loss_rpn_box_reg: 0.0012 (0.0042)  time: 0.1152  data: 0.0310  max mem: 4009\n",
      "Epoch: [7]  [ 4600/12099]  eta: 0:15:00  lr: 0.000030  loss: 0.0915 (0.1137)  loss_classifier: 0.0307 (0.0378)  loss_box_reg: 0.0505 (0.0631)  loss_objectness: 0.0044 (0.0086)  loss_rpn_box_reg: 0.0009 (0.0041)  time: 0.1137  data: 0.0302  max mem: 4009\n",
      "Epoch: [7]  [ 4700/12099]  eta: 0:14:47  lr: 0.000030  loss: 0.0967 (0.1138)  loss_classifier: 0.0297 (0.0379)  loss_box_reg: 0.0595 (0.0632)  loss_objectness: 0.0066 (0.0086)  loss_rpn_box_reg: 0.0009 (0.0042)  time: 0.1134  data: 0.0297  max mem: 4009\n",
      "Epoch: [7]  [ 4800/12099]  eta: 0:14:34  lr: 0.000030  loss: 0.1017 (0.1137)  loss_classifier: 0.0286 (0.0379)  loss_box_reg: 0.0539 (0.0631)  loss_objectness: 0.0045 (0.0086)  loss_rpn_box_reg: 0.0013 (0.0042)  time: 0.1143  data: 0.0302  max mem: 4009\n",
      "Epoch: [7]  [ 4900/12099]  eta: 0:14:21  lr: 0.000030  loss: 0.0983 (0.1139)  loss_classifier: 0.0286 (0.0379)  loss_box_reg: 0.0583 (0.0632)  loss_objectness: 0.0027 (0.0086)  loss_rpn_box_reg: 0.0014 (0.0042)  time: 0.1142  data: 0.0307  max mem: 4009\n",
      "Epoch: [7]  [ 5000/12099]  eta: 0:14:08  lr: 0.000030  loss: 0.1129 (0.1139)  loss_classifier: 0.0398 (0.0379)  loss_box_reg: 0.0561 (0.0631)  loss_objectness: 0.0070 (0.0086)  loss_rpn_box_reg: 0.0025 (0.0042)  time: 0.1145  data: 0.0310  max mem: 4009\n",
      "Epoch: [7]  [ 5100/12099]  eta: 0:13:56  lr: 0.000030  loss: 0.1128 (0.1140)  loss_classifier: 0.0359 (0.0380)  loss_box_reg: 0.0657 (0.0632)  loss_objectness: 0.0054 (0.0086)  loss_rpn_box_reg: 0.0017 (0.0041)  time: 0.1134  data: 0.0296  max mem: 4009\n",
      "Epoch: [7]  [ 5200/12099]  eta: 0:13:43  lr: 0.000030  loss: 0.0848 (0.1138)  loss_classifier: 0.0235 (0.0379)  loss_box_reg: 0.0463 (0.0631)  loss_objectness: 0.0028 (0.0086)  loss_rpn_box_reg: 0.0011 (0.0041)  time: 0.1143  data: 0.0309  max mem: 4009\n",
      "Epoch: [7]  [ 5300/12099]  eta: 0:13:30  lr: 0.000030  loss: 0.1271 (0.1139)  loss_classifier: 0.0319 (0.0379)  loss_box_reg: 0.0711 (0.0631)  loss_objectness: 0.0032 (0.0087)  loss_rpn_box_reg: 0.0018 (0.0041)  time: 0.1135  data: 0.0300  max mem: 4009\n",
      "Epoch: [7]  [ 5400/12099]  eta: 0:13:18  lr: 0.000030  loss: 0.1057 (0.1140)  loss_classifier: 0.0324 (0.0380)  loss_box_reg: 0.0652 (0.0632)  loss_objectness: 0.0030 (0.0087)  loss_rpn_box_reg: 0.0013 (0.0041)  time: 0.1152  data: 0.0311  max mem: 4009\n",
      "Epoch: [7]  [ 5500/12099]  eta: 0:13:05  lr: 0.000030  loss: 0.0855 (0.1139)  loss_classifier: 0.0283 (0.0380)  loss_box_reg: 0.0508 (0.0631)  loss_objectness: 0.0036 (0.0087)  loss_rpn_box_reg: 0.0015 (0.0041)  time: 0.1133  data: 0.0304  max mem: 4009\n",
      "Epoch: [7]  [ 5600/12099]  eta: 0:12:53  lr: 0.000030  loss: 0.1092 (0.1139)  loss_classifier: 0.0315 (0.0380)  loss_box_reg: 0.0679 (0.0631)  loss_objectness: 0.0041 (0.0087)  loss_rpn_box_reg: 0.0015 (0.0041)  time: 0.1145  data: 0.0307  max mem: 4009\n",
      "Epoch: [7]  [ 5700/12099]  eta: 0:12:41  lr: 0.000030  loss: 0.0862 (0.1141)  loss_classifier: 0.0286 (0.0380)  loss_box_reg: 0.0503 (0.0632)  loss_objectness: 0.0029 (0.0087)  loss_rpn_box_reg: 0.0013 (0.0041)  time: 0.1156  data: 0.0319  max mem: 4009\n",
      "Epoch: [7]  [ 5800/12099]  eta: 0:12:28  lr: 0.000030  loss: 0.1037 (0.1140)  loss_classifier: 0.0301 (0.0380)  loss_box_reg: 0.0633 (0.0632)  loss_objectness: 0.0028 (0.0087)  loss_rpn_box_reg: 0.0008 (0.0041)  time: 0.1132  data: 0.0300  max mem: 4009\n",
      "Epoch: [7]  [ 5900/12099]  eta: 0:12:16  lr: 0.000030  loss: 0.0954 (0.1142)  loss_classifier: 0.0300 (0.0380)  loss_box_reg: 0.0553 (0.0632)  loss_objectness: 0.0034 (0.0087)  loss_rpn_box_reg: 0.0009 (0.0041)  time: 0.1125  data: 0.0290  max mem: 4009\n",
      "Epoch: [7]  [ 6000/12099]  eta: 0:12:03  lr: 0.000030  loss: 0.0836 (0.1141)  loss_classifier: 0.0280 (0.0380)  loss_box_reg: 0.0563 (0.0632)  loss_objectness: 0.0037 (0.0087)  loss_rpn_box_reg: 0.0012 (0.0041)  time: 0.1160  data: 0.0312  max mem: 4009\n",
      "Epoch: [7]  [ 6100/12099]  eta: 0:11:51  lr: 0.000030  loss: 0.0941 (0.1141)  loss_classifier: 0.0282 (0.0380)  loss_box_reg: 0.0513 (0.0632)  loss_objectness: 0.0017 (0.0088)  loss_rpn_box_reg: 0.0010 (0.0041)  time: 0.1163  data: 0.0316  max mem: 4009\n",
      "Epoch: [7]  [ 6200/12099]  eta: 0:11:39  lr: 0.000030  loss: 0.1072 (0.1142)  loss_classifier: 0.0276 (0.0380)  loss_box_reg: 0.0450 (0.0633)  loss_objectness: 0.0030 (0.0088)  loss_rpn_box_reg: 0.0024 (0.0041)  time: 0.1143  data: 0.0307  max mem: 4009\n",
      "Epoch: [7]  [ 6300/12099]  eta: 0:11:27  lr: 0.000030  loss: 0.0956 (0.1141)  loss_classifier: 0.0252 (0.0379)  loss_box_reg: 0.0663 (0.0632)  loss_objectness: 0.0031 (0.0088)  loss_rpn_box_reg: 0.0010 (0.0041)  time: 0.1138  data: 0.0304  max mem: 4009\n",
      "Epoch: [7]  [ 6400/12099]  eta: 0:11:15  lr: 0.000030  loss: 0.1169 (0.1142)  loss_classifier: 0.0423 (0.0380)  loss_box_reg: 0.0607 (0.0633)  loss_objectness: 0.0042 (0.0088)  loss_rpn_box_reg: 0.0011 (0.0041)  time: 0.1141  data: 0.0304  max mem: 4009\n",
      "Epoch: [7]  [ 6500/12099]  eta: 0:11:02  lr: 0.000030  loss: 0.0795 (0.1141)  loss_classifier: 0.0214 (0.0379)  loss_box_reg: 0.0523 (0.0632)  loss_objectness: 0.0032 (0.0088)  loss_rpn_box_reg: 0.0016 (0.0041)  time: 0.1160  data: 0.0318  max mem: 4009\n",
      "Epoch: [7]  [ 6600/12099]  eta: 0:10:50  lr: 0.000030  loss: 0.0628 (0.1140)  loss_classifier: 0.0219 (0.0379)  loss_box_reg: 0.0435 (0.0633)  loss_objectness: 0.0023 (0.0088)  loss_rpn_box_reg: 0.0014 (0.0041)  time: 0.1140  data: 0.0302  max mem: 4009\n",
      "Epoch: [7]  [ 6700/12099]  eta: 0:10:38  lr: 0.000030  loss: 0.1227 (0.1141)  loss_classifier: 0.0396 (0.0379)  loss_box_reg: 0.0697 (0.0633)  loss_objectness: 0.0058 (0.0088)  loss_rpn_box_reg: 0.0015 (0.0041)  time: 0.1141  data: 0.0309  max mem: 4009\n",
      "Epoch: [7]  [ 6800/12099]  eta: 0:10:26  lr: 0.000030  loss: 0.0953 (0.1141)  loss_classifier: 0.0351 (0.0379)  loss_box_reg: 0.0566 (0.0633)  loss_objectness: 0.0048 (0.0088)  loss_rpn_box_reg: 0.0017 (0.0041)  time: 0.1137  data: 0.0301  max mem: 4009\n",
      "Epoch: [7]  [ 6900/12099]  eta: 0:10:14  lr: 0.000030  loss: 0.0885 (0.1141)  loss_classifier: 0.0309 (0.0379)  loss_box_reg: 0.0492 (0.0633)  loss_objectness: 0.0027 (0.0088)  loss_rpn_box_reg: 0.0016 (0.0041)  time: 0.1156  data: 0.0312  max mem: 4009\n"
     ]
    },
    {
     "name": "stdout",
     "output_type": "stream",
     "text": [
      "Epoch: [7]  [ 7000/12099]  eta: 0:10:02  lr: 0.000030  loss: 0.0929 (0.1141)  loss_classifier: 0.0314 (0.0379)  loss_box_reg: 0.0468 (0.0633)  loss_objectness: 0.0053 (0.0088)  loss_rpn_box_reg: 0.0012 (0.0041)  time: 0.1135  data: 0.0298  max mem: 4009\n",
      "Epoch: [7]  [ 7100/12099]  eta: 0:09:50  lr: 0.000030  loss: 0.1001 (0.1140)  loss_classifier: 0.0323 (0.0378)  loss_box_reg: 0.0580 (0.0633)  loss_objectness: 0.0021 (0.0088)  loss_rpn_box_reg: 0.0020 (0.0041)  time: 0.1153  data: 0.0315  max mem: 4009\n",
      "Epoch: [7]  [ 7200/12099]  eta: 0:09:38  lr: 0.000030  loss: 0.0886 (0.1140)  loss_classifier: 0.0247 (0.0378)  loss_box_reg: 0.0595 (0.0633)  loss_objectness: 0.0039 (0.0088)  loss_rpn_box_reg: 0.0025 (0.0041)  time: 0.1132  data: 0.0301  max mem: 4009\n",
      "Epoch: [7]  [ 7300/12099]  eta: 0:09:26  lr: 0.000030  loss: 0.0865 (0.1139)  loss_classifier: 0.0258 (0.0378)  loss_box_reg: 0.0513 (0.0632)  loss_objectness: 0.0037 (0.0088)  loss_rpn_box_reg: 0.0012 (0.0041)  time: 0.1143  data: 0.0306  max mem: 4009\n",
      "Epoch: [7]  [ 7400/12099]  eta: 0:09:14  lr: 0.000030  loss: 0.0719 (0.1141)  loss_classifier: 0.0213 (0.0378)  loss_box_reg: 0.0500 (0.0633)  loss_objectness: 0.0032 (0.0088)  loss_rpn_box_reg: 0.0011 (0.0041)  time: 0.1152  data: 0.0318  max mem: 4009\n",
      "Epoch: [7]  [ 7500/12099]  eta: 0:09:02  lr: 0.000030  loss: 0.1027 (0.1140)  loss_classifier: 0.0270 (0.0378)  loss_box_reg: 0.0584 (0.0633)  loss_objectness: 0.0051 (0.0088)  loss_rpn_box_reg: 0.0028 (0.0041)  time: 0.1200  data: 0.0352  max mem: 4009\n",
      "Epoch: [7]  [ 7600/12099]  eta: 0:08:50  lr: 0.000030  loss: 0.0981 (0.1141)  loss_classifier: 0.0302 (0.0379)  loss_box_reg: 0.0573 (0.0633)  loss_objectness: 0.0033 (0.0088)  loss_rpn_box_reg: 0.0013 (0.0041)  time: 0.1151  data: 0.0316  max mem: 4009\n",
      "Epoch: [7]  [ 7700/12099]  eta: 0:08:38  lr: 0.000030  loss: 0.1323 (0.1141)  loss_classifier: 0.0392 (0.0379)  loss_box_reg: 0.0633 (0.0633)  loss_objectness: 0.0060 (0.0088)  loss_rpn_box_reg: 0.0017 (0.0041)  time: 0.1173  data: 0.0321  max mem: 4009\n",
      "Epoch: [7]  [ 7800/12099]  eta: 0:08:26  lr: 0.000030  loss: 0.1126 (0.1141)  loss_classifier: 0.0288 (0.0379)  loss_box_reg: 0.0592 (0.0633)  loss_objectness: 0.0042 (0.0088)  loss_rpn_box_reg: 0.0013 (0.0041)  time: 0.1127  data: 0.0295  max mem: 4009\n",
      "Epoch: [7]  [ 7900/12099]  eta: 0:08:14  lr: 0.000030  loss: 0.1003 (0.1142)  loss_classifier: 0.0354 (0.0379)  loss_box_reg: 0.0541 (0.0634)  loss_objectness: 0.0032 (0.0088)  loss_rpn_box_reg: 0.0017 (0.0041)  time: 0.1144  data: 0.0312  max mem: 4009\n",
      "Epoch: [7]  [ 8000/12099]  eta: 0:08:02  lr: 0.000030  loss: 0.1334 (0.1144)  loss_classifier: 0.0327 (0.0379)  loss_box_reg: 0.0818 (0.0634)  loss_objectness: 0.0048 (0.0089)  loss_rpn_box_reg: 0.0019 (0.0041)  time: 0.1154  data: 0.0318  max mem: 4009\n",
      "Epoch: [7]  [ 8100/12099]  eta: 0:07:50  lr: 0.000030  loss: 0.0993 (0.1144)  loss_classifier: 0.0291 (0.0379)  loss_box_reg: 0.0513 (0.0635)  loss_objectness: 0.0033 (0.0089)  loss_rpn_box_reg: 0.0017 (0.0041)  time: 0.1143  data: 0.0305  max mem: 4009\n",
      "Epoch: [7]  [ 8200/12099]  eta: 0:07:38  lr: 0.000030  loss: 0.0659 (0.1142)  loss_classifier: 0.0235 (0.0379)  loss_box_reg: 0.0324 (0.0633)  loss_objectness: 0.0036 (0.0089)  loss_rpn_box_reg: 0.0007 (0.0041)  time: 0.1150  data: 0.0311  max mem: 4009\n",
      "Epoch: [7]  [ 8300/12099]  eta: 0:07:26  lr: 0.000030  loss: 0.0854 (0.1142)  loss_classifier: 0.0245 (0.0378)  loss_box_reg: 0.0510 (0.0633)  loss_objectness: 0.0044 (0.0089)  loss_rpn_box_reg: 0.0019 (0.0041)  time: 0.1153  data: 0.0319  max mem: 4009\n",
      "Epoch: [7]  [ 8400/12099]  eta: 0:07:14  lr: 0.000030  loss: 0.0967 (0.1141)  loss_classifier: 0.0265 (0.0378)  loss_box_reg: 0.0509 (0.0633)  loss_objectness: 0.0047 (0.0089)  loss_rpn_box_reg: 0.0015 (0.0041)  time: 0.1153  data: 0.0314  max mem: 4009\n",
      "Epoch: [7]  [ 8500/12099]  eta: 0:07:03  lr: 0.000030  loss: 0.0891 (0.1141)  loss_classifier: 0.0271 (0.0378)  loss_box_reg: 0.0451 (0.0632)  loss_objectness: 0.0028 (0.0089)  loss_rpn_box_reg: 0.0012 (0.0041)  time: 0.1159  data: 0.0305  max mem: 4009\n",
      "Epoch: [7]  [ 8600/12099]  eta: 0:06:51  lr: 0.000030  loss: 0.1049 (0.1141)  loss_classifier: 0.0339 (0.0378)  loss_box_reg: 0.0683 (0.0632)  loss_objectness: 0.0033 (0.0089)  loss_rpn_box_reg: 0.0012 (0.0041)  time: 0.1130  data: 0.0297  max mem: 4009\n",
      "Epoch: [7]  [ 8700/12099]  eta: 0:06:39  lr: 0.000030  loss: 0.0907 (0.1139)  loss_classifier: 0.0283 (0.0378)  loss_box_reg: 0.0469 (0.0631)  loss_objectness: 0.0031 (0.0089)  loss_rpn_box_reg: 0.0013 (0.0041)  time: 0.1134  data: 0.0299  max mem: 4009\n",
      "Epoch: [7]  [ 8800/12099]  eta: 0:06:27  lr: 0.000030  loss: 0.0739 (0.1138)  loss_classifier: 0.0273 (0.0377)  loss_box_reg: 0.0413 (0.0631)  loss_objectness: 0.0022 (0.0089)  loss_rpn_box_reg: 0.0016 (0.0041)  time: 0.1162  data: 0.0328  max mem: 4009\n",
      "Epoch: [7]  [ 8900/12099]  eta: 0:06:15  lr: 0.000030  loss: 0.1309 (0.1138)  loss_classifier: 0.0314 (0.0377)  loss_box_reg: 0.0672 (0.0631)  loss_objectness: 0.0032 (0.0089)  loss_rpn_box_reg: 0.0010 (0.0041)  time: 0.1152  data: 0.0308  max mem: 4009\n",
      "Epoch: [7]  [ 9000/12099]  eta: 0:06:03  lr: 0.000030  loss: 0.1138 (0.1138)  loss_classifier: 0.0401 (0.0377)  loss_box_reg: 0.0582 (0.0631)  loss_objectness: 0.0032 (0.0089)  loss_rpn_box_reg: 0.0015 (0.0041)  time: 0.1146  data: 0.0315  max mem: 4009\n",
      "Epoch: [7]  [ 9100/12099]  eta: 0:05:51  lr: 0.000030  loss: 0.1106 (0.1138)  loss_classifier: 0.0322 (0.0377)  loss_box_reg: 0.0649 (0.0631)  loss_objectness: 0.0047 (0.0088)  loss_rpn_box_reg: 0.0012 (0.0042)  time: 0.1138  data: 0.0307  max mem: 4009\n",
      "Epoch: [7]  [ 9200/12099]  eta: 0:05:40  lr: 0.000030  loss: 0.0718 (0.1138)  loss_classifier: 0.0181 (0.0377)  loss_box_reg: 0.0534 (0.0631)  loss_objectness: 0.0036 (0.0088)  loss_rpn_box_reg: 0.0013 (0.0041)  time: 0.1145  data: 0.0294  max mem: 4009\n",
      "Epoch: [7]  [ 9300/12099]  eta: 0:05:28  lr: 0.000030  loss: 0.0799 (0.1139)  loss_classifier: 0.0206 (0.0377)  loss_box_reg: 0.0488 (0.0632)  loss_objectness: 0.0028 (0.0089)  loss_rpn_box_reg: 0.0014 (0.0042)  time: 0.1134  data: 0.0300  max mem: 4009\n",
      "Epoch: [7]  [ 9400/12099]  eta: 0:05:16  lr: 0.000030  loss: 0.0975 (0.1139)  loss_classifier: 0.0202 (0.0377)  loss_box_reg: 0.0600 (0.0632)  loss_objectness: 0.0031 (0.0088)  loss_rpn_box_reg: 0.0014 (0.0042)  time: 0.1140  data: 0.0300  max mem: 4009\n",
      "Epoch: [7]  [ 9500/12099]  eta: 0:05:04  lr: 0.000030  loss: 0.0979 (0.1139)  loss_classifier: 0.0294 (0.0377)  loss_box_reg: 0.0670 (0.0632)  loss_objectness: 0.0028 (0.0088)  loss_rpn_box_reg: 0.0010 (0.0041)  time: 0.1147  data: 0.0306  max mem: 4009\n",
      "Epoch: [7]  [ 9600/12099]  eta: 0:04:52  lr: 0.000030  loss: 0.0832 (0.1139)  loss_classifier: 0.0252 (0.0377)  loss_box_reg: 0.0549 (0.0632)  loss_objectness: 0.0029 (0.0088)  loss_rpn_box_reg: 0.0010 (0.0041)  time: 0.1146  data: 0.0311  max mem: 4009\n",
      "Epoch: [7]  [ 9700/12099]  eta: 0:04:41  lr: 0.000030  loss: 0.0856 (0.1139)  loss_classifier: 0.0231 (0.0377)  loss_box_reg: 0.0454 (0.0632)  loss_objectness: 0.0027 (0.0089)  loss_rpn_box_reg: 0.0013 (0.0041)  time: 0.1157  data: 0.0324  max mem: 4009\n",
      "Epoch: [7]  [ 9800/12099]  eta: 0:04:29  lr: 0.000030  loss: 0.1088 (0.1140)  loss_classifier: 0.0317 (0.0377)  loss_box_reg: 0.0502 (0.0632)  loss_objectness: 0.0034 (0.0089)  loss_rpn_box_reg: 0.0011 (0.0041)  time: 0.1146  data: 0.0315  max mem: 4009\n",
      "Epoch: [7]  [ 9900/12099]  eta: 0:04:17  lr: 0.000030  loss: 0.0895 (0.1140)  loss_classifier: 0.0271 (0.0377)  loss_box_reg: 0.0672 (0.0632)  loss_objectness: 0.0062 (0.0089)  loss_rpn_box_reg: 0.0032 (0.0041)  time: 0.1156  data: 0.0315  max mem: 4009\n",
      "Epoch: [7]  [10000/12099]  eta: 0:04:05  lr: 0.000030  loss: 0.0890 (0.1140)  loss_classifier: 0.0243 (0.0377)  loss_box_reg: 0.0524 (0.0632)  loss_objectness: 0.0027 (0.0089)  loss_rpn_box_reg: 0.0012 (0.0041)  time: 0.1136  data: 0.0303  max mem: 4009\n",
      "Epoch: [7]  [10100/12099]  eta: 0:03:54  lr: 0.000030  loss: 0.1033 (0.1140)  loss_classifier: 0.0310 (0.0377)  loss_box_reg: 0.0551 (0.0632)  loss_objectness: 0.0023 (0.0089)  loss_rpn_box_reg: 0.0018 (0.0041)  time: 0.1167  data: 0.0330  max mem: 4009\n",
      "Epoch: [7]  [10200/12099]  eta: 0:03:42  lr: 0.000030  loss: 0.1144 (0.1140)  loss_classifier: 0.0330 (0.0378)  loss_box_reg: 0.0627 (0.0632)  loss_objectness: 0.0044 (0.0089)  loss_rpn_box_reg: 0.0019 (0.0041)  time: 0.1142  data: 0.0306  max mem: 4009\n"
     ]
    },
    {
     "name": "stdout",
     "output_type": "stream",
     "text": [
      "Epoch: [7]  [10300/12099]  eta: 0:03:30  lr: 0.000030  loss: 0.1058 (0.1141)  loss_classifier: 0.0390 (0.0378)  loss_box_reg: 0.0666 (0.0632)  loss_objectness: 0.0040 (0.0089)  loss_rpn_box_reg: 0.0033 (0.0041)  time: 0.1169  data: 0.0329  max mem: 4009\n",
      "Epoch: [7]  [10400/12099]  eta: 0:03:18  lr: 0.000030  loss: 0.0926 (0.1140)  loss_classifier: 0.0247 (0.0377)  loss_box_reg: 0.0678 (0.0632)  loss_objectness: 0.0043 (0.0089)  loss_rpn_box_reg: 0.0014 (0.0041)  time: 0.1151  data: 0.0308  max mem: 4009\n",
      "Epoch: [7]  [10500/12099]  eta: 0:03:07  lr: 0.000030  loss: 0.1107 (0.1141)  loss_classifier: 0.0358 (0.0378)  loss_box_reg: 0.0692 (0.0633)  loss_objectness: 0.0041 (0.0089)  loss_rpn_box_reg: 0.0011 (0.0041)  time: 0.1135  data: 0.0299  max mem: 4009\n",
      "Epoch: [7]  [10600/12099]  eta: 0:02:55  lr: 0.000030  loss: 0.0681 (0.1140)  loss_classifier: 0.0205 (0.0377)  loss_box_reg: 0.0382 (0.0633)  loss_objectness: 0.0019 (0.0089)  loss_rpn_box_reg: 0.0007 (0.0041)  time: 0.1144  data: 0.0312  max mem: 4009\n",
      "Epoch: [7]  [10700/12099]  eta: 0:02:43  lr: 0.000030  loss: 0.1062 (0.1141)  loss_classifier: 0.0329 (0.0377)  loss_box_reg: 0.0623 (0.0633)  loss_objectness: 0.0034 (0.0089)  loss_rpn_box_reg: 0.0015 (0.0041)  time: 0.1165  data: 0.0313  max mem: 4009\n",
      "Epoch: [7]  [10800/12099]  eta: 0:02:31  lr: 0.000030  loss: 0.1141 (0.1144)  loss_classifier: 0.0364 (0.0379)  loss_box_reg: 0.0721 (0.0634)  loss_objectness: 0.0053 (0.0090)  loss_rpn_box_reg: 0.0013 (0.0041)  time: 0.1159  data: 0.0318  max mem: 4009\n",
      "Epoch: [7]  [10900/12099]  eta: 0:02:20  lr: 0.000030  loss: 0.0930 (0.1144)  loss_classifier: 0.0253 (0.0379)  loss_box_reg: 0.0655 (0.0634)  loss_objectness: 0.0032 (0.0090)  loss_rpn_box_reg: 0.0008 (0.0041)  time: 0.1140  data: 0.0303  max mem: 4009\n",
      "Epoch: [7]  [11000/12099]  eta: 0:02:08  lr: 0.000030  loss: 0.1001 (0.1144)  loss_classifier: 0.0258 (0.0379)  loss_box_reg: 0.0673 (0.0634)  loss_objectness: 0.0047 (0.0090)  loss_rpn_box_reg: 0.0020 (0.0041)  time: 0.1154  data: 0.0303  max mem: 4009\n",
      "Epoch: [7]  [11100/12099]  eta: 0:01:56  lr: 0.000030  loss: 0.1049 (0.1145)  loss_classifier: 0.0283 (0.0379)  loss_box_reg: 0.0557 (0.0634)  loss_objectness: 0.0019 (0.0090)  loss_rpn_box_reg: 0.0021 (0.0041)  time: 0.1145  data: 0.0313  max mem: 4009\n",
      "Epoch: [7]  [11200/12099]  eta: 0:01:45  lr: 0.000030  loss: 0.1099 (0.1145)  loss_classifier: 0.0308 (0.0379)  loss_box_reg: 0.0628 (0.0635)  loss_objectness: 0.0041 (0.0090)  loss_rpn_box_reg: 0.0013 (0.0041)  time: 0.1151  data: 0.0318  max mem: 4009\n",
      "Epoch: [7]  [11300/12099]  eta: 0:01:33  lr: 0.000030  loss: 0.0986 (0.1145)  loss_classifier: 0.0295 (0.0379)  loss_box_reg: 0.0584 (0.0634)  loss_objectness: 0.0036 (0.0090)  loss_rpn_box_reg: 0.0027 (0.0041)  time: 0.1155  data: 0.0314  max mem: 4009\n",
      "Epoch: [7]  [11400/12099]  eta: 0:01:21  lr: 0.000030  loss: 0.0958 (0.1145)  loss_classifier: 0.0342 (0.0379)  loss_box_reg: 0.0496 (0.0634)  loss_objectness: 0.0040 (0.0090)  loss_rpn_box_reg: 0.0011 (0.0041)  time: 0.1138  data: 0.0301  max mem: 4009\n",
      "Epoch: [7]  [11500/12099]  eta: 0:01:09  lr: 0.000030  loss: 0.0934 (0.1145)  loss_classifier: 0.0255 (0.0379)  loss_box_reg: 0.0612 (0.0634)  loss_objectness: 0.0023 (0.0090)  loss_rpn_box_reg: 0.0009 (0.0041)  time: 0.1140  data: 0.0299  max mem: 4009\n",
      "Epoch: [7]  [11600/12099]  eta: 0:00:58  lr: 0.000030  loss: 0.0949 (0.1145)  loss_classifier: 0.0310 (0.0379)  loss_box_reg: 0.0550 (0.0634)  loss_objectness: 0.0023 (0.0090)  loss_rpn_box_reg: 0.0016 (0.0041)  time: 0.1149  data: 0.0311  max mem: 4009\n",
      "Epoch: [7]  [11700/12099]  eta: 0:00:46  lr: 0.000030  loss: 0.0686 (0.1145)  loss_classifier: 0.0188 (0.0379)  loss_box_reg: 0.0388 (0.0634)  loss_objectness: 0.0043 (0.0090)  loss_rpn_box_reg: 0.0018 (0.0041)  time: 0.1135  data: 0.0304  max mem: 4009\n",
      "Epoch: [7]  [11800/12099]  eta: 0:00:34  lr: 0.000030  loss: 0.1135 (0.1146)  loss_classifier: 0.0315 (0.0380)  loss_box_reg: 0.0646 (0.0635)  loss_objectness: 0.0039 (0.0090)  loss_rpn_box_reg: 0.0018 (0.0041)  time: 0.1141  data: 0.0309  max mem: 4009\n",
      "Epoch: [7]  [11900/12099]  eta: 0:00:23  lr: 0.000030  loss: 0.1208 (0.1146)  loss_classifier: 0.0393 (0.0380)  loss_box_reg: 0.0715 (0.0635)  loss_objectness: 0.0041 (0.0090)  loss_rpn_box_reg: 0.0017 (0.0041)  time: 0.1145  data: 0.0316  max mem: 4009\n",
      "Epoch: [7]  [12000/12099]  eta: 0:00:11  lr: 0.000030  loss: 0.0750 (0.1145)  loss_classifier: 0.0263 (0.0379)  loss_box_reg: 0.0546 (0.0635)  loss_objectness: 0.0020 (0.0090)  loss_rpn_box_reg: 0.0015 (0.0041)  time: 0.1160  data: 0.0323  max mem: 4009\n",
      "Epoch: [7]  [12098/12099]  eta: 0:00:00  lr: 0.000030  loss: 0.0816 (0.1145)  loss_classifier: 0.0216 (0.0379)  loss_box_reg: 0.0461 (0.0635)  loss_objectness: 0.0026 (0.0090)  loss_rpn_box_reg: 0.0011 (0.0041)  time: 0.1144  data: 0.0308  max mem: 4009\n",
      "Epoch: [7] Total time: 0:23:32 (0.1167 s / it)\n",
      "Epoch: [8]  [    0/12099]  eta: 0:23:11  lr: 0.000030  loss: 0.2730 (0.2730)  loss_classifier: 0.0690 (0.0690)  loss_box_reg: 0.1512 (0.1512)  loss_objectness: 0.0518 (0.0518)  loss_rpn_box_reg: 0.0009 (0.0009)  time: 0.1150  data: 0.0245  max mem: 4009\n",
      "Epoch: [8]  [  100/12099]  eta: 0:22:56  lr: 0.000030  loss: 0.1100 (0.1180)  loss_classifier: 0.0324 (0.0400)  loss_box_reg: 0.0502 (0.0633)  loss_objectness: 0.0033 (0.0102)  loss_rpn_box_reg: 0.0015 (0.0045)  time: 0.1136  data: 0.0293  max mem: 4009\n",
      "Epoch: [8]  [  200/12099]  eta: 0:22:44  lr: 0.000030  loss: 0.1208 (0.1144)  loss_classifier: 0.0241 (0.0370)  loss_box_reg: 0.0796 (0.0635)  loss_objectness: 0.0031 (0.0097)  loss_rpn_box_reg: 0.0012 (0.0043)  time: 0.1138  data: 0.0307  max mem: 4009\n",
      "Epoch: [8]  [  300/12099]  eta: 0:22:32  lr: 0.000030  loss: 0.0965 (0.1159)  loss_classifier: 0.0266 (0.0379)  loss_box_reg: 0.0540 (0.0650)  loss_objectness: 0.0036 (0.0089)  loss_rpn_box_reg: 0.0013 (0.0041)  time: 0.1148  data: 0.0311  max mem: 4009\n",
      "Epoch: [8]  [  400/12099]  eta: 0:22:22  lr: 0.000030  loss: 0.0739 (0.1185)  loss_classifier: 0.0189 (0.0387)  loss_box_reg: 0.0381 (0.0664)  loss_objectness: 0.0035 (0.0091)  loss_rpn_box_reg: 0.0011 (0.0042)  time: 0.1156  data: 0.0307  max mem: 4009\n",
      "Epoch: [8]  [  500/12099]  eta: 0:22:10  lr: 0.000030  loss: 0.1210 (0.1190)  loss_classifier: 0.0321 (0.0395)  loss_box_reg: 0.0787 (0.0661)  loss_objectness: 0.0023 (0.0093)  loss_rpn_box_reg: 0.0019 (0.0041)  time: 0.1138  data: 0.0304  max mem: 4009\n",
      "Epoch: [8]  [  600/12099]  eta: 0:22:07  lr: 0.000030  loss: 0.1197 (0.1179)  loss_classifier: 0.0350 (0.0391)  loss_box_reg: 0.0816 (0.0656)  loss_objectness: 0.0028 (0.0092)  loss_rpn_box_reg: 0.0010 (0.0041)  time: 0.1149  data: 0.0311  max mem: 4009\n",
      "Epoch: [8]  [  700/12099]  eta: 0:21:53  lr: 0.000030  loss: 0.1088 (0.1167)  loss_classifier: 0.0266 (0.0387)  loss_box_reg: 0.0607 (0.0647)  loss_objectness: 0.0039 (0.0092)  loss_rpn_box_reg: 0.0016 (0.0041)  time: 0.1150  data: 0.0315  max mem: 4009\n",
      "Epoch: [8]  [  800/12099]  eta: 0:21:40  lr: 0.000030  loss: 0.1103 (0.1178)  loss_classifier: 0.0308 (0.0392)  loss_box_reg: 0.0627 (0.0654)  loss_objectness: 0.0047 (0.0092)  loss_rpn_box_reg: 0.0026 (0.0040)  time: 0.1157  data: 0.0314  max mem: 4009\n",
      "Epoch: [8]  [  900/12099]  eta: 0:21:29  lr: 0.000030  loss: 0.0903 (0.1176)  loss_classifier: 0.0226 (0.0395)  loss_box_reg: 0.0510 (0.0647)  loss_objectness: 0.0046 (0.0094)  loss_rpn_box_reg: 0.0018 (0.0040)  time: 0.1155  data: 0.0310  max mem: 4009\n",
      "Epoch: [8]  [ 1000/12099]  eta: 0:21:17  lr: 0.000030  loss: 0.0901 (0.1176)  loss_classifier: 0.0318 (0.0393)  loss_box_reg: 0.0522 (0.0652)  loss_objectness: 0.0055 (0.0092)  loss_rpn_box_reg: 0.0017 (0.0040)  time: 0.1161  data: 0.0308  max mem: 4009\n",
      "Epoch: [8]  [ 1100/12099]  eta: 0:21:05  lr: 0.000030  loss: 0.0937 (0.1167)  loss_classifier: 0.0231 (0.0389)  loss_box_reg: 0.0605 (0.0646)  loss_objectness: 0.0030 (0.0092)  loss_rpn_box_reg: 0.0012 (0.0040)  time: 0.1133  data: 0.0295  max mem: 4009\n",
      "Epoch: [8]  [ 1200/12099]  eta: 0:20:53  lr: 0.000030  loss: 0.1229 (0.1163)  loss_classifier: 0.0354 (0.0388)  loss_box_reg: 0.0621 (0.0643)  loss_objectness: 0.0098 (0.0091)  loss_rpn_box_reg: 0.0022 (0.0041)  time: 0.1130  data: 0.0298  max mem: 4009\n",
      "Epoch: [8]  [ 1300/12099]  eta: 0:20:42  lr: 0.000030  loss: 0.0901 (0.1157)  loss_classifier: 0.0232 (0.0384)  loss_box_reg: 0.0598 (0.0640)  loss_objectness: 0.0036 (0.0091)  loss_rpn_box_reg: 0.0022 (0.0041)  time: 0.1164  data: 0.0315  max mem: 4009\n"
     ]
    },
    {
     "name": "stdout",
     "output_type": "stream",
     "text": [
      "Epoch: [8]  [ 1400/12099]  eta: 0:20:30  lr: 0.000030  loss: 0.0919 (0.1157)  loss_classifier: 0.0302 (0.0385)  loss_box_reg: 0.0483 (0.0641)  loss_objectness: 0.0036 (0.0090)  loss_rpn_box_reg: 0.0020 (0.0041)  time: 0.1140  data: 0.0300  max mem: 4009\n",
      "Epoch: [8]  [ 1500/12099]  eta: 0:20:18  lr: 0.000030  loss: 0.0903 (0.1156)  loss_classifier: 0.0294 (0.0385)  loss_box_reg: 0.0493 (0.0640)  loss_objectness: 0.0039 (0.0091)  loss_rpn_box_reg: 0.0011 (0.0040)  time: 0.1146  data: 0.0311  max mem: 4009\n",
      "Epoch: [8]  [ 1600/12099]  eta: 0:20:07  lr: 0.000030  loss: 0.0951 (0.1152)  loss_classifier: 0.0300 (0.0384)  loss_box_reg: 0.0610 (0.0638)  loss_objectness: 0.0037 (0.0089)  loss_rpn_box_reg: 0.0013 (0.0041)  time: 0.1179  data: 0.0334  max mem: 4009\n",
      "Epoch: [8]  [ 1700/12099]  eta: 0:19:55  lr: 0.000030  loss: 0.0949 (0.1151)  loss_classifier: 0.0264 (0.0383)  loss_box_reg: 0.0572 (0.0637)  loss_objectness: 0.0024 (0.0090)  loss_rpn_box_reg: 0.0012 (0.0041)  time: 0.1166  data: 0.0318  max mem: 4009\n",
      "Epoch: [8]  [ 1800/12099]  eta: 0:19:43  lr: 0.000030  loss: 0.0977 (0.1150)  loss_classifier: 0.0305 (0.0383)  loss_box_reg: 0.0605 (0.0638)  loss_objectness: 0.0018 (0.0088)  loss_rpn_box_reg: 0.0015 (0.0041)  time: 0.1139  data: 0.0308  max mem: 4009\n",
      "Epoch: [8]  [ 1900/12099]  eta: 0:19:32  lr: 0.000030  loss: 0.1050 (0.1151)  loss_classifier: 0.0284 (0.0381)  loss_box_reg: 0.0732 (0.0642)  loss_objectness: 0.0019 (0.0087)  loss_rpn_box_reg: 0.0017 (0.0040)  time: 0.1133  data: 0.0298  max mem: 4009\n",
      "Epoch: [8]  [ 2000/12099]  eta: 0:19:20  lr: 0.000030  loss: 0.0829 (0.1152)  loss_classifier: 0.0309 (0.0381)  loss_box_reg: 0.0510 (0.0642)  loss_objectness: 0.0036 (0.0087)  loss_rpn_box_reg: 0.0013 (0.0041)  time: 0.1144  data: 0.0312  max mem: 4009\n",
      "Epoch: [8]  [ 2100/12099]  eta: 0:19:09  lr: 0.000030  loss: 0.1105 (0.1149)  loss_classifier: 0.0341 (0.0380)  loss_box_reg: 0.0743 (0.0640)  loss_objectness: 0.0048 (0.0088)  loss_rpn_box_reg: 0.0014 (0.0041)  time: 0.1148  data: 0.0310  max mem: 4009\n",
      "Epoch: [8]  [ 2200/12099]  eta: 0:18:57  lr: 0.000030  loss: 0.1033 (0.1148)  loss_classifier: 0.0319 (0.0379)  loss_box_reg: 0.0553 (0.0638)  loss_objectness: 0.0037 (0.0089)  loss_rpn_box_reg: 0.0023 (0.0042)  time: 0.1130  data: 0.0300  max mem: 4009\n",
      "Epoch: [8]  [ 2300/12099]  eta: 0:18:45  lr: 0.000030  loss: 0.0956 (0.1148)  loss_classifier: 0.0332 (0.0380)  loss_box_reg: 0.0519 (0.0637)  loss_objectness: 0.0026 (0.0089)  loss_rpn_box_reg: 0.0013 (0.0042)  time: 0.1154  data: 0.0305  max mem: 4009\n",
      "Epoch: [8]  [ 2400/12099]  eta: 0:18:34  lr: 0.000030  loss: 0.1175 (0.1150)  loss_classifier: 0.0263 (0.0382)  loss_box_reg: 0.0579 (0.0637)  loss_objectness: 0.0048 (0.0090)  loss_rpn_box_reg: 0.0022 (0.0042)  time: 0.1137  data: 0.0307  max mem: 4009\n",
      "Epoch: [8]  [ 2500/12099]  eta: 0:18:22  lr: 0.000030  loss: 0.0997 (0.1151)  loss_classifier: 0.0351 (0.0382)  loss_box_reg: 0.0627 (0.0637)  loss_objectness: 0.0028 (0.0090)  loss_rpn_box_reg: 0.0009 (0.0042)  time: 0.1154  data: 0.0305  max mem: 4009\n",
      "Epoch: [8]  [ 2600/12099]  eta: 0:18:11  lr: 0.000030  loss: 0.1198 (0.1148)  loss_classifier: 0.0314 (0.0380)  loss_box_reg: 0.0666 (0.0637)  loss_objectness: 0.0090 (0.0090)  loss_rpn_box_reg: 0.0033 (0.0042)  time: 0.1155  data: 0.0321  max mem: 4009\n",
      "Epoch: [8]  [ 2700/12099]  eta: 0:17:59  lr: 0.000030  loss: 0.0945 (0.1151)  loss_classifier: 0.0285 (0.0381)  loss_box_reg: 0.0518 (0.0638)  loss_objectness: 0.0051 (0.0090)  loss_rpn_box_reg: 0.0030 (0.0043)  time: 0.1135  data: 0.0300  max mem: 4009\n",
      "Epoch: [8]  [ 2800/12099]  eta: 0:17:47  lr: 0.000030  loss: 0.0857 (0.1147)  loss_classifier: 0.0262 (0.0379)  loss_box_reg: 0.0464 (0.0637)  loss_objectness: 0.0023 (0.0090)  loss_rpn_box_reg: 0.0010 (0.0042)  time: 0.1144  data: 0.0309  max mem: 4009\n",
      "Epoch: [8]  [ 2900/12099]  eta: 0:17:36  lr: 0.000030  loss: 0.0802 (0.1143)  loss_classifier: 0.0259 (0.0378)  loss_box_reg: 0.0452 (0.0634)  loss_objectness: 0.0030 (0.0089)  loss_rpn_box_reg: 0.0008 (0.0042)  time: 0.1150  data: 0.0318  max mem: 4009\n",
      "Epoch: [8]  [ 3000/12099]  eta: 0:17:26  lr: 0.000030  loss: 0.1237 (0.1142)  loss_classifier: 0.0313 (0.0377)  loss_box_reg: 0.0572 (0.0634)  loss_objectness: 0.0036 (0.0089)  loss_rpn_box_reg: 0.0023 (0.0042)  time: 0.1187  data: 0.0321  max mem: 4009\n",
      "Epoch: [8]  [ 3100/12099]  eta: 0:17:16  lr: 0.000030  loss: 0.0923 (0.1142)  loss_classifier: 0.0234 (0.0378)  loss_box_reg: 0.0539 (0.0634)  loss_objectness: 0.0028 (0.0088)  loss_rpn_box_reg: 0.0011 (0.0041)  time: 0.1256  data: 0.0349  max mem: 4009\n",
      "Epoch: [8]  [ 3200/12099]  eta: 0:17:10  lr: 0.000030  loss: 0.0966 (0.1142)  loss_classifier: 0.0284 (0.0378)  loss_box_reg: 0.0600 (0.0635)  loss_objectness: 0.0030 (0.0088)  loss_rpn_box_reg: 0.0012 (0.0042)  time: 0.1221  data: 0.0326  max mem: 4009\n",
      "Epoch: [8]  [ 3300/12099]  eta: 0:16:59  lr: 0.000030  loss: 0.0855 (0.1144)  loss_classifier: 0.0247 (0.0379)  loss_box_reg: 0.0529 (0.0634)  loss_objectness: 0.0032 (0.0088)  loss_rpn_box_reg: 0.0010 (0.0042)  time: 0.1177  data: 0.0330  max mem: 4009\n",
      "Epoch: [8]  [ 3400/12099]  eta: 0:16:48  lr: 0.000030  loss: 0.0850 (0.1143)  loss_classifier: 0.0232 (0.0379)  loss_box_reg: 0.0445 (0.0635)  loss_objectness: 0.0032 (0.0088)  loss_rpn_box_reg: 0.0012 (0.0042)  time: 0.1178  data: 0.0330  max mem: 4009\n",
      "Epoch: [8]  [ 3500/12099]  eta: 0:16:39  lr: 0.000030  loss: 0.1110 (0.1142)  loss_classifier: 0.0223 (0.0378)  loss_box_reg: 0.0658 (0.0635)  loss_objectness: 0.0036 (0.0088)  loss_rpn_box_reg: 0.0015 (0.0042)  time: 0.1273  data: 0.0348  max mem: 4009\n",
      "Epoch: [8]  [ 3600/12099]  eta: 0:16:33  lr: 0.000030  loss: 0.1047 (0.1143)  loss_classifier: 0.0274 (0.0378)  loss_box_reg: 0.0528 (0.0634)  loss_objectness: 0.0027 (0.0089)  loss_rpn_box_reg: 0.0015 (0.0042)  time: 0.1362  data: 0.0430  max mem: 4009\n",
      "Epoch: [8]  [ 3700/12099]  eta: 0:16:23  lr: 0.000030  loss: 0.1100 (0.1144)  loss_classifier: 0.0348 (0.0378)  loss_box_reg: 0.0676 (0.0635)  loss_objectness: 0.0034 (0.0089)  loss_rpn_box_reg: 0.0017 (0.0042)  time: 0.1208  data: 0.0336  max mem: 4009\n",
      "Epoch: [8]  [ 3800/12099]  eta: 0:16:12  lr: 0.000030  loss: 0.0839 (0.1142)  loss_classifier: 0.0219 (0.0377)  loss_box_reg: 0.0446 (0.0634)  loss_objectness: 0.0021 (0.0089)  loss_rpn_box_reg: 0.0013 (0.0042)  time: 0.1203  data: 0.0335  max mem: 4009\n",
      "Epoch: [8]  [ 3900/12099]  eta: 0:16:01  lr: 0.000030  loss: 0.0825 (0.1139)  loss_classifier: 0.0238 (0.0376)  loss_box_reg: 0.0433 (0.0633)  loss_objectness: 0.0037 (0.0088)  loss_rpn_box_reg: 0.0016 (0.0042)  time: 0.1192  data: 0.0332  max mem: 4009\n",
      "Epoch: [8]  [ 4000/12099]  eta: 0:15:51  lr: 0.000030  loss: 0.1036 (0.1139)  loss_classifier: 0.0331 (0.0376)  loss_box_reg: 0.0480 (0.0633)  loss_objectness: 0.0026 (0.0088)  loss_rpn_box_reg: 0.0016 (0.0042)  time: 0.1284  data: 0.0383  max mem: 4009\n",
      "Epoch: [8]  [ 4100/12099]  eta: 0:15:40  lr: 0.000030  loss: 0.0944 (0.1139)  loss_classifier: 0.0276 (0.0376)  loss_box_reg: 0.0474 (0.0633)  loss_objectness: 0.0037 (0.0088)  loss_rpn_box_reg: 0.0013 (0.0041)  time: 0.1227  data: 0.0354  max mem: 4009\n",
      "Epoch: [8]  [ 4200/12099]  eta: 0:15:30  lr: 0.000030  loss: 0.0803 (0.1137)  loss_classifier: 0.0232 (0.0376)  loss_box_reg: 0.0503 (0.0632)  loss_objectness: 0.0019 (0.0088)  loss_rpn_box_reg: 0.0021 (0.0042)  time: 0.1177  data: 0.0324  max mem: 4009\n",
      "Epoch: [8]  [ 4300/12099]  eta: 0:15:19  lr: 0.000030  loss: 0.0935 (0.1137)  loss_classifier: 0.0307 (0.0376)  loss_box_reg: 0.0640 (0.0631)  loss_objectness: 0.0033 (0.0088)  loss_rpn_box_reg: 0.0018 (0.0041)  time: 0.1222  data: 0.0345  max mem: 4009\n",
      "Epoch: [8]  [ 4400/12099]  eta: 0:15:07  lr: 0.000030  loss: 0.0745 (0.1137)  loss_classifier: 0.0221 (0.0376)  loss_box_reg: 0.0450 (0.0631)  loss_objectness: 0.0059 (0.0089)  loss_rpn_box_reg: 0.0011 (0.0041)  time: 0.1207  data: 0.0333  max mem: 4009\n",
      "Epoch: [8]  [ 4500/12099]  eta: 0:14:56  lr: 0.000030  loss: 0.0759 (0.1138)  loss_classifier: 0.0201 (0.0376)  loss_box_reg: 0.0464 (0.0632)  loss_objectness: 0.0016 (0.0089)  loss_rpn_box_reg: 0.0015 (0.0042)  time: 0.1229  data: 0.0334  max mem: 4009\n",
      "Epoch: [8]  [ 4600/12099]  eta: 0:14:45  lr: 0.000030  loss: 0.0959 (0.1140)  loss_classifier: 0.0249 (0.0377)  loss_box_reg: 0.0548 (0.0632)  loss_objectness: 0.0050 (0.0089)  loss_rpn_box_reg: 0.0013 (0.0041)  time: 0.1215  data: 0.0331  max mem: 4009\n"
     ]
    },
    {
     "name": "stdout",
     "output_type": "stream",
     "text": [
      "Epoch: [8]  [ 4700/12099]  eta: 0:14:34  lr: 0.000030  loss: 0.0842 (0.1138)  loss_classifier: 0.0232 (0.0376)  loss_box_reg: 0.0437 (0.0631)  loss_objectness: 0.0039 (0.0089)  loss_rpn_box_reg: 0.0017 (0.0041)  time: 0.1201  data: 0.0334  max mem: 4009\n",
      "Epoch: [8]  [ 4800/12099]  eta: 0:14:22  lr: 0.000030  loss: 0.0985 (0.1140)  loss_classifier: 0.0300 (0.0377)  loss_box_reg: 0.0412 (0.0632)  loss_objectness: 0.0046 (0.0089)  loss_rpn_box_reg: 0.0013 (0.0042)  time: 0.1187  data: 0.0327  max mem: 4009\n",
      "Epoch: [8]  [ 4900/12099]  eta: 0:14:11  lr: 0.000030  loss: 0.1037 (0.1141)  loss_classifier: 0.0257 (0.0378)  loss_box_reg: 0.0628 (0.0633)  loss_objectness: 0.0023 (0.0089)  loss_rpn_box_reg: 0.0017 (0.0041)  time: 0.1500  data: 0.0501  max mem: 4009\n",
      "Epoch: [8]  [ 5000/12099]  eta: 0:14:01  lr: 0.000030  loss: 0.0925 (0.1141)  loss_classifier: 0.0277 (0.0378)  loss_box_reg: 0.0526 (0.0633)  loss_objectness: 0.0041 (0.0089)  loss_rpn_box_reg: 0.0006 (0.0041)  time: 0.1187  data: 0.0340  max mem: 4009\n",
      "Epoch: [8]  [ 5100/12099]  eta: 0:13:49  lr: 0.000030  loss: 0.1045 (0.1139)  loss_classifier: 0.0322 (0.0377)  loss_box_reg: 0.0617 (0.0632)  loss_objectness: 0.0041 (0.0088)  loss_rpn_box_reg: 0.0021 (0.0041)  time: 0.1229  data: 0.0341  max mem: 4009\n",
      "Epoch: [8]  [ 5200/12099]  eta: 0:13:37  lr: 0.000030  loss: 0.1278 (0.1142)  loss_classifier: 0.0395 (0.0379)  loss_box_reg: 0.0729 (0.0633)  loss_objectness: 0.0054 (0.0089)  loss_rpn_box_reg: 0.0029 (0.0041)  time: 0.1194  data: 0.0341  max mem: 4009\n",
      "Epoch: [8]  [ 5300/12099]  eta: 0:13:26  lr: 0.000030  loss: 0.0814 (0.1143)  loss_classifier: 0.0231 (0.0379)  loss_box_reg: 0.0498 (0.0634)  loss_objectness: 0.0054 (0.0089)  loss_rpn_box_reg: 0.0017 (0.0041)  time: 0.1137  data: 0.0306  max mem: 4009\n",
      "Epoch: [8]  [ 5400/12099]  eta: 0:13:13  lr: 0.000030  loss: 0.0935 (0.1142)  loss_classifier: 0.0247 (0.0378)  loss_box_reg: 0.0684 (0.0634)  loss_objectness: 0.0043 (0.0088)  loss_rpn_box_reg: 0.0010 (0.0041)  time: 0.1152  data: 0.0308  max mem: 4009\n",
      "Epoch: [8]  [ 5500/12099]  eta: 0:13:01  lr: 0.000030  loss: 0.0912 (0.1142)  loss_classifier: 0.0308 (0.0379)  loss_box_reg: 0.0516 (0.0634)  loss_objectness: 0.0036 (0.0088)  loss_rpn_box_reg: 0.0013 (0.0041)  time: 0.1155  data: 0.0307  max mem: 4009\n",
      "Epoch: [8]  [ 5600/12099]  eta: 0:12:49  lr: 0.000030  loss: 0.0887 (0.1140)  loss_classifier: 0.0254 (0.0377)  loss_box_reg: 0.0539 (0.0634)  loss_objectness: 0.0046 (0.0088)  loss_rpn_box_reg: 0.0017 (0.0041)  time: 0.1129  data: 0.0301  max mem: 4009\n",
      "Epoch: [8]  [ 5700/12099]  eta: 0:12:36  lr: 0.000030  loss: 0.1023 (0.1140)  loss_classifier: 0.0283 (0.0377)  loss_box_reg: 0.0552 (0.0634)  loss_objectness: 0.0037 (0.0088)  loss_rpn_box_reg: 0.0011 (0.0041)  time: 0.1156  data: 0.0324  max mem: 4009\n",
      "Epoch: [8]  [ 5800/12099]  eta: 0:12:24  lr: 0.000030  loss: 0.0873 (0.1139)  loss_classifier: 0.0246 (0.0377)  loss_box_reg: 0.0544 (0.0633)  loss_objectness: 0.0050 (0.0088)  loss_rpn_box_reg: 0.0018 (0.0041)  time: 0.1136  data: 0.0302  max mem: 4009\n",
      "Epoch: [8]  [ 5900/12099]  eta: 0:12:12  lr: 0.000030  loss: 0.1037 (0.1138)  loss_classifier: 0.0321 (0.0376)  loss_box_reg: 0.0492 (0.0633)  loss_objectness: 0.0050 (0.0087)  loss_rpn_box_reg: 0.0013 (0.0041)  time: 0.1158  data: 0.0323  max mem: 4009\n",
      "Epoch: [8]  [ 6000/12099]  eta: 0:12:00  lr: 0.000030  loss: 0.0936 (0.1139)  loss_classifier: 0.0253 (0.0376)  loss_box_reg: 0.0572 (0.0633)  loss_objectness: 0.0022 (0.0089)  loss_rpn_box_reg: 0.0011 (0.0041)  time: 0.1133  data: 0.0298  max mem: 4009\n",
      "Epoch: [8]  [ 6100/12099]  eta: 0:11:48  lr: 0.000030  loss: 0.0878 (0.1141)  loss_classifier: 0.0237 (0.0377)  loss_box_reg: 0.0470 (0.0634)  loss_objectness: 0.0022 (0.0089)  loss_rpn_box_reg: 0.0013 (0.0041)  time: 0.1151  data: 0.0310  max mem: 4009\n",
      "Epoch: [8]  [ 6200/12099]  eta: 0:11:36  lr: 0.000030  loss: 0.1107 (0.1141)  loss_classifier: 0.0339 (0.0377)  loss_box_reg: 0.0698 (0.0634)  loss_objectness: 0.0035 (0.0089)  loss_rpn_box_reg: 0.0016 (0.0041)  time: 0.1157  data: 0.0318  max mem: 4009\n",
      "Epoch: [8]  [ 6300/12099]  eta: 0:11:24  lr: 0.000030  loss: 0.1018 (0.1140)  loss_classifier: 0.0329 (0.0377)  loss_box_reg: 0.0568 (0.0633)  loss_objectness: 0.0068 (0.0090)  loss_rpn_box_reg: 0.0012 (0.0041)  time: 0.1158  data: 0.0325  max mem: 4009\n",
      "Epoch: [8]  [ 6400/12099]  eta: 0:11:11  lr: 0.000030  loss: 0.1089 (0.1141)  loss_classifier: 0.0256 (0.0377)  loss_box_reg: 0.0564 (0.0634)  loss_objectness: 0.0043 (0.0089)  loss_rpn_box_reg: 0.0027 (0.0041)  time: 0.1138  data: 0.0309  max mem: 4009\n",
      "Epoch: [8]  [ 6500/12099]  eta: 0:10:59  lr: 0.000030  loss: 0.0754 (0.1141)  loss_classifier: 0.0268 (0.0377)  loss_box_reg: 0.0460 (0.0634)  loss_objectness: 0.0029 (0.0089)  loss_rpn_box_reg: 0.0016 (0.0041)  time: 0.1160  data: 0.0316  max mem: 4009\n",
      "Epoch: [8]  [ 6600/12099]  eta: 0:10:47  lr: 0.000030  loss: 0.1000 (0.1142)  loss_classifier: 0.0260 (0.0378)  loss_box_reg: 0.0596 (0.0634)  loss_objectness: 0.0046 (0.0089)  loss_rpn_box_reg: 0.0016 (0.0041)  time: 0.1138  data: 0.0304  max mem: 4009\n",
      "Epoch: [8]  [ 6700/12099]  eta: 0:10:35  lr: 0.000030  loss: 0.0672 (0.1141)  loss_classifier: 0.0189 (0.0378)  loss_box_reg: 0.0432 (0.0634)  loss_objectness: 0.0027 (0.0089)  loss_rpn_box_reg: 0.0009 (0.0041)  time: 0.1167  data: 0.0323  max mem: 4009\n",
      "Epoch: [8]  [ 6800/12099]  eta: 0:10:23  lr: 0.000030  loss: 0.0814 (0.1140)  loss_classifier: 0.0254 (0.0377)  loss_box_reg: 0.0461 (0.0633)  loss_objectness: 0.0032 (0.0089)  loss_rpn_box_reg: 0.0013 (0.0041)  time: 0.1156  data: 0.0324  max mem: 4009\n",
      "Epoch: [8]  [ 6900/12099]  eta: 0:10:11  lr: 0.000030  loss: 0.0985 (0.1140)  loss_classifier: 0.0289 (0.0377)  loss_box_reg: 0.0558 (0.0633)  loss_objectness: 0.0027 (0.0089)  loss_rpn_box_reg: 0.0018 (0.0041)  time: 0.1161  data: 0.0323  max mem: 4009\n",
      "Epoch: [8]  [ 7000/12099]  eta: 0:10:00  lr: 0.000030  loss: 0.0986 (0.1140)  loss_classifier: 0.0351 (0.0377)  loss_box_reg: 0.0561 (0.0633)  loss_objectness: 0.0053 (0.0089)  loss_rpn_box_reg: 0.0018 (0.0041)  time: 0.1150  data: 0.0311  max mem: 4009\n",
      "Epoch: [8]  [ 7100/12099]  eta: 0:09:48  lr: 0.000030  loss: 0.0866 (0.1140)  loss_classifier: 0.0295 (0.0377)  loss_box_reg: 0.0499 (0.0633)  loss_objectness: 0.0032 (0.0089)  loss_rpn_box_reg: 0.0013 (0.0041)  time: 0.1157  data: 0.0325  max mem: 4009\n",
      "Epoch: [8]  [ 7200/12099]  eta: 0:09:36  lr: 0.000030  loss: 0.0705 (0.1139)  loss_classifier: 0.0268 (0.0377)  loss_box_reg: 0.0495 (0.0633)  loss_objectness: 0.0021 (0.0088)  loss_rpn_box_reg: 0.0010 (0.0041)  time: 0.1132  data: 0.0302  max mem: 4009\n",
      "Epoch: [8]  [ 7300/12099]  eta: 0:09:24  lr: 0.000030  loss: 0.0977 (0.1138)  loss_classifier: 0.0272 (0.0377)  loss_box_reg: 0.0612 (0.0632)  loss_objectness: 0.0031 (0.0088)  loss_rpn_box_reg: 0.0014 (0.0041)  time: 0.1147  data: 0.0296  max mem: 4009\n",
      "Epoch: [8]  [ 7400/12099]  eta: 0:09:12  lr: 0.000030  loss: 0.1067 (0.1139)  loss_classifier: 0.0247 (0.0377)  loss_box_reg: 0.0595 (0.0633)  loss_objectness: 0.0047 (0.0088)  loss_rpn_box_reg: 0.0016 (0.0041)  time: 0.1148  data: 0.0312  max mem: 4009\n",
      "Epoch: [8]  [ 7500/12099]  eta: 0:09:00  lr: 0.000030  loss: 0.0798 (0.1139)  loss_classifier: 0.0246 (0.0377)  loss_box_reg: 0.0469 (0.0633)  loss_objectness: 0.0033 (0.0089)  loss_rpn_box_reg: 0.0008 (0.0041)  time: 0.1149  data: 0.0316  max mem: 4009\n",
      "Epoch: [8]  [ 7600/12099]  eta: 0:08:48  lr: 0.000030  loss: 0.0985 (0.1138)  loss_classifier: 0.0255 (0.0377)  loss_box_reg: 0.0622 (0.0632)  loss_objectness: 0.0043 (0.0089)  loss_rpn_box_reg: 0.0018 (0.0041)  time: 0.1153  data: 0.0307  max mem: 4009\n",
      "Epoch: [8]  [ 7700/12099]  eta: 0:08:36  lr: 0.000030  loss: 0.0954 (0.1137)  loss_classifier: 0.0285 (0.0376)  loss_box_reg: 0.0563 (0.0631)  loss_objectness: 0.0017 (0.0089)  loss_rpn_box_reg: 0.0020 (0.0041)  time: 0.1129  data: 0.0299  max mem: 4009\n",
      "Epoch: [8]  [ 7800/12099]  eta: 0:08:24  lr: 0.000030  loss: 0.0995 (0.1139)  loss_classifier: 0.0369 (0.0377)  loss_box_reg: 0.0481 (0.0632)  loss_objectness: 0.0061 (0.0089)  loss_rpn_box_reg: 0.0010 (0.0041)  time: 0.1157  data: 0.0326  max mem: 4009\n",
      "Epoch: [8]  [ 7900/12099]  eta: 0:08:12  lr: 0.000030  loss: 0.0673 (0.1140)  loss_classifier: 0.0206 (0.0377)  loss_box_reg: 0.0340 (0.0633)  loss_objectness: 0.0032 (0.0089)  loss_rpn_box_reg: 0.0012 (0.0041)  time: 0.1137  data: 0.0312  max mem: 4009\n"
     ]
    },
    {
     "name": "stdout",
     "output_type": "stream",
     "text": [
      "Epoch: [8]  [ 8000/12099]  eta: 0:08:00  lr: 0.000030  loss: 0.1013 (0.1140)  loss_classifier: 0.0367 (0.0377)  loss_box_reg: 0.0691 (0.0633)  loss_objectness: 0.0051 (0.0089)  loss_rpn_box_reg: 0.0013 (0.0041)  time: 0.1126  data: 0.0300  max mem: 4009\n",
      "Epoch: [8]  [ 8100/12099]  eta: 0:07:48  lr: 0.000030  loss: 0.0940 (0.1139)  loss_classifier: 0.0306 (0.0376)  loss_box_reg: 0.0564 (0.0632)  loss_objectness: 0.0036 (0.0089)  loss_rpn_box_reg: 0.0011 (0.0041)  time: 0.1165  data: 0.0326  max mem: 4009\n",
      "Epoch: [8]  [ 8200/12099]  eta: 0:07:37  lr: 0.000030  loss: 0.0957 (0.1139)  loss_classifier: 0.0260 (0.0376)  loss_box_reg: 0.0534 (0.0632)  loss_objectness: 0.0026 (0.0089)  loss_rpn_box_reg: 0.0015 (0.0041)  time: 0.1156  data: 0.0318  max mem: 4009\n",
      "Epoch: [8]  [ 8300/12099]  eta: 0:07:25  lr: 0.000030  loss: 0.0812 (0.1139)  loss_classifier: 0.0239 (0.0376)  loss_box_reg: 0.0524 (0.0633)  loss_objectness: 0.0031 (0.0089)  loss_rpn_box_reg: 0.0018 (0.0041)  time: 0.1154  data: 0.0313  max mem: 4009\n",
      "Epoch: [8]  [ 8400/12099]  eta: 0:07:13  lr: 0.000030  loss: 0.1035 (0.1139)  loss_classifier: 0.0310 (0.0376)  loss_box_reg: 0.0651 (0.0633)  loss_objectness: 0.0049 (0.0089)  loss_rpn_box_reg: 0.0014 (0.0041)  time: 0.1152  data: 0.0303  max mem: 4009\n",
      "Epoch: [8]  [ 8500/12099]  eta: 0:07:01  lr: 0.000030  loss: 0.1008 (0.1139)  loss_classifier: 0.0307 (0.0376)  loss_box_reg: 0.0582 (0.0633)  loss_objectness: 0.0057 (0.0089)  loss_rpn_box_reg: 0.0019 (0.0041)  time: 0.1164  data: 0.0316  max mem: 4009\n",
      "Epoch: [8]  [ 8600/12099]  eta: 0:06:49  lr: 0.000030  loss: 0.1046 (0.1139)  loss_classifier: 0.0241 (0.0376)  loss_box_reg: 0.0631 (0.0633)  loss_objectness: 0.0048 (0.0089)  loss_rpn_box_reg: 0.0012 (0.0041)  time: 0.1143  data: 0.0310  max mem: 4009\n",
      "Epoch: [8]  [ 8700/12099]  eta: 0:06:38  lr: 0.000030  loss: 0.0810 (0.1142)  loss_classifier: 0.0248 (0.0378)  loss_box_reg: 0.0552 (0.0634)  loss_objectness: 0.0025 (0.0089)  loss_rpn_box_reg: 0.0015 (0.0041)  time: 0.1154  data: 0.0308  max mem: 4009\n",
      "Epoch: [8]  [ 8800/12099]  eta: 0:06:26  lr: 0.000030  loss: 0.0661 (0.1140)  loss_classifier: 0.0219 (0.0377)  loss_box_reg: 0.0405 (0.0633)  loss_objectness: 0.0046 (0.0089)  loss_rpn_box_reg: 0.0011 (0.0041)  time: 0.1150  data: 0.0316  max mem: 4009\n",
      "Epoch: [8]  [ 8900/12099]  eta: 0:06:14  lr: 0.000030  loss: 0.0999 (0.1140)  loss_classifier: 0.0258 (0.0377)  loss_box_reg: 0.0624 (0.0633)  loss_objectness: 0.0058 (0.0089)  loss_rpn_box_reg: 0.0019 (0.0041)  time: 0.1150  data: 0.0322  max mem: 4009\n",
      "Epoch: [8]  [ 9000/12099]  eta: 0:06:02  lr: 0.000030  loss: 0.0929 (0.1140)  loss_classifier: 0.0301 (0.0378)  loss_box_reg: 0.0618 (0.0633)  loss_objectness: 0.0020 (0.0089)  loss_rpn_box_reg: 0.0016 (0.0041)  time: 0.1138  data: 0.0310  max mem: 4009\n",
      "Epoch: [8]  [ 9100/12099]  eta: 0:05:50  lr: 0.000030  loss: 0.0862 (0.1140)  loss_classifier: 0.0256 (0.0378)  loss_box_reg: 0.0451 (0.0633)  loss_objectness: 0.0028 (0.0088)  loss_rpn_box_reg: 0.0010 (0.0041)  time: 0.1145  data: 0.0307  max mem: 4009\n",
      "Epoch: [8]  [ 9200/12099]  eta: 0:05:39  lr: 0.000030  loss: 0.1021 (0.1140)  loss_classifier: 0.0273 (0.0378)  loss_box_reg: 0.0495 (0.0633)  loss_objectness: 0.0071 (0.0089)  loss_rpn_box_reg: 0.0014 (0.0041)  time: 0.1150  data: 0.0310  max mem: 4009\n",
      "Epoch: [8]  [ 9300/12099]  eta: 0:05:27  lr: 0.000030  loss: 0.0905 (0.1140)  loss_classifier: 0.0269 (0.0377)  loss_box_reg: 0.0446 (0.0633)  loss_objectness: 0.0022 (0.0089)  loss_rpn_box_reg: 0.0010 (0.0041)  time: 0.1165  data: 0.0324  max mem: 4009\n",
      "Epoch: [8]  [ 9400/12099]  eta: 0:05:15  lr: 0.000030  loss: 0.1041 (0.1141)  loss_classifier: 0.0251 (0.0377)  loss_box_reg: 0.0669 (0.0633)  loss_objectness: 0.0037 (0.0089)  loss_rpn_box_reg: 0.0018 (0.0041)  time: 0.1142  data: 0.0311  max mem: 4009\n",
      "Epoch: [8]  [ 9500/12099]  eta: 0:05:03  lr: 0.000030  loss: 0.0925 (0.1142)  loss_classifier: 0.0242 (0.0378)  loss_box_reg: 0.0567 (0.0633)  loss_objectness: 0.0049 (0.0089)  loss_rpn_box_reg: 0.0016 (0.0041)  time: 0.1142  data: 0.0306  max mem: 4009\n",
      "Epoch: [8]  [ 9600/12099]  eta: 0:04:52  lr: 0.000030  loss: 0.0852 (0.1142)  loss_classifier: 0.0256 (0.0378)  loss_box_reg: 0.0512 (0.0633)  loss_objectness: 0.0024 (0.0089)  loss_rpn_box_reg: 0.0014 (0.0041)  time: 0.1146  data: 0.0309  max mem: 4009\n",
      "Epoch: [8]  [ 9700/12099]  eta: 0:04:40  lr: 0.000030  loss: 0.0806 (0.1142)  loss_classifier: 0.0249 (0.0378)  loss_box_reg: 0.0546 (0.0634)  loss_objectness: 0.0026 (0.0089)  loss_rpn_box_reg: 0.0009 (0.0041)  time: 0.1154  data: 0.0321  max mem: 4009\n",
      "Epoch: [8]  [ 9800/12099]  eta: 0:04:28  lr: 0.000030  loss: 0.0740 (0.1143)  loss_classifier: 0.0282 (0.0378)  loss_box_reg: 0.0404 (0.0634)  loss_objectness: 0.0040 (0.0089)  loss_rpn_box_reg: 0.0006 (0.0041)  time: 0.1152  data: 0.0320  max mem: 4009\n",
      "Epoch: [8]  [ 9900/12099]  eta: 0:04:16  lr: 0.000030  loss: 0.0937 (0.1143)  loss_classifier: 0.0278 (0.0379)  loss_box_reg: 0.0559 (0.0634)  loss_objectness: 0.0036 (0.0089)  loss_rpn_box_reg: 0.0011 (0.0041)  time: 0.1133  data: 0.0301  max mem: 4009\n",
      "Epoch: [8]  [10000/12099]  eta: 0:04:05  lr: 0.000030  loss: 0.0850 (0.1143)  loss_classifier: 0.0214 (0.0379)  loss_box_reg: 0.0375 (0.0634)  loss_objectness: 0.0036 (0.0089)  loss_rpn_box_reg: 0.0016 (0.0041)  time: 0.1218  data: 0.0337  max mem: 4009\n",
      "Epoch: [8]  [10100/12099]  eta: 0:03:53  lr: 0.000030  loss: 0.0960 (0.1143)  loss_classifier: 0.0331 (0.0379)  loss_box_reg: 0.0504 (0.0634)  loss_objectness: 0.0031 (0.0089)  loss_rpn_box_reg: 0.0020 (0.0041)  time: 0.1155  data: 0.0313  max mem: 4009\n",
      "Epoch: [8]  [10200/12099]  eta: 0:03:41  lr: 0.000030  loss: 0.0745 (0.1143)  loss_classifier: 0.0237 (0.0379)  loss_box_reg: 0.0485 (0.0634)  loss_objectness: 0.0025 (0.0089)  loss_rpn_box_reg: 0.0014 (0.0041)  time: 0.1248  data: 0.0341  max mem: 4009\n",
      "Epoch: [8]  [10300/12099]  eta: 0:03:30  lr: 0.000030  loss: 0.1010 (0.1144)  loss_classifier: 0.0298 (0.0379)  loss_box_reg: 0.0668 (0.0634)  loss_objectness: 0.0026 (0.0090)  loss_rpn_box_reg: 0.0012 (0.0041)  time: 0.1237  data: 0.0334  max mem: 4009\n",
      "Epoch: [8]  [10400/12099]  eta: 0:03:18  lr: 0.000030  loss: 0.0823 (0.1144)  loss_classifier: 0.0276 (0.0379)  loss_box_reg: 0.0463 (0.0634)  loss_objectness: 0.0025 (0.0089)  loss_rpn_box_reg: 0.0014 (0.0041)  time: 0.1239  data: 0.0348  max mem: 4009\n",
      "Epoch: [8]  [10500/12099]  eta: 0:03:07  lr: 0.000030  loss: 0.0812 (0.1143)  loss_classifier: 0.0292 (0.0379)  loss_box_reg: 0.0597 (0.0634)  loss_objectness: 0.0019 (0.0089)  loss_rpn_box_reg: 0.0009 (0.0041)  time: 0.1229  data: 0.0333  max mem: 4009\n",
      "Epoch: [8]  [10600/12099]  eta: 0:02:55  lr: 0.000030  loss: 0.0982 (0.1143)  loss_classifier: 0.0258 (0.0379)  loss_box_reg: 0.0597 (0.0634)  loss_objectness: 0.0047 (0.0089)  loss_rpn_box_reg: 0.0021 (0.0041)  time: 0.1230  data: 0.0341  max mem: 4009\n",
      "Epoch: [8]  [10700/12099]  eta: 0:02:44  lr: 0.000030  loss: 0.1303 (0.1144)  loss_classifier: 0.0317 (0.0379)  loss_box_reg: 0.0568 (0.0634)  loss_objectness: 0.0044 (0.0089)  loss_rpn_box_reg: 0.0020 (0.0041)  time: 0.1220  data: 0.0330  max mem: 4009\n",
      "Epoch: [8]  [10800/12099]  eta: 0:02:32  lr: 0.000030  loss: 0.0847 (0.1144)  loss_classifier: 0.0249 (0.0379)  loss_box_reg: 0.0528 (0.0634)  loss_objectness: 0.0046 (0.0090)  loss_rpn_box_reg: 0.0014 (0.0041)  time: 0.1346  data: 0.0422  max mem: 4009\n",
      "Epoch: [8]  [10900/12099]  eta: 0:02:20  lr: 0.000030  loss: 0.1232 (0.1144)  loss_classifier: 0.0416 (0.0379)  loss_box_reg: 0.0674 (0.0634)  loss_objectness: 0.0055 (0.0090)  loss_rpn_box_reg: 0.0012 (0.0041)  time: 0.1306  data: 0.0358  max mem: 4009\n",
      "Epoch: [8]  [11000/12099]  eta: 0:02:09  lr: 0.000030  loss: 0.1004 (0.1143)  loss_classifier: 0.0224 (0.0378)  loss_box_reg: 0.0507 (0.0633)  loss_objectness: 0.0055 (0.0090)  loss_rpn_box_reg: 0.0017 (0.0041)  time: 0.1181  data: 0.0337  max mem: 4009\n",
      "Epoch: [8]  [11100/12099]  eta: 0:01:57  lr: 0.000030  loss: 0.1114 (0.1143)  loss_classifier: 0.0259 (0.0378)  loss_box_reg: 0.0635 (0.0633)  loss_objectness: 0.0024 (0.0090)  loss_rpn_box_reg: 0.0020 (0.0041)  time: 0.1194  data: 0.0335  max mem: 4009\n",
      "Epoch: [8]  [11200/12099]  eta: 0:01:45  lr: 0.000030  loss: 0.0885 (0.1142)  loss_classifier: 0.0295 (0.0378)  loss_box_reg: 0.0573 (0.0633)  loss_objectness: 0.0048 (0.0090)  loss_rpn_box_reg: 0.0011 (0.0041)  time: 0.1183  data: 0.0331  max mem: 4009\n"
     ]
    },
    {
     "name": "stdout",
     "output_type": "stream",
     "text": [
      "Epoch: [8]  [11300/12099]  eta: 0:01:33  lr: 0.000030  loss: 0.1030 (0.1143)  loss_classifier: 0.0267 (0.0378)  loss_box_reg: 0.0585 (0.0633)  loss_objectness: 0.0028 (0.0090)  loss_rpn_box_reg: 0.0010 (0.0041)  time: 0.1194  data: 0.0339  max mem: 4009\n",
      "Epoch: [8]  [11400/12099]  eta: 0:01:22  lr: 0.000030  loss: 0.0784 (0.1142)  loss_classifier: 0.0280 (0.0379)  loss_box_reg: 0.0410 (0.0633)  loss_objectness: 0.0034 (0.0090)  loss_rpn_box_reg: 0.0008 (0.0041)  time: 0.1137  data: 0.0298  max mem: 4009\n",
      "Epoch: [8]  [11500/12099]  eta: 0:01:10  lr: 0.000030  loss: 0.0863 (0.1143)  loss_classifier: 0.0250 (0.0379)  loss_box_reg: 0.0425 (0.0634)  loss_objectness: 0.0024 (0.0090)  loss_rpn_box_reg: 0.0009 (0.0041)  time: 0.1186  data: 0.0341  max mem: 4009\n",
      "Epoch: [8]  [11600/12099]  eta: 0:00:58  lr: 0.000030  loss: 0.0963 (0.1143)  loss_classifier: 0.0305 (0.0378)  loss_box_reg: 0.0516 (0.0634)  loss_objectness: 0.0027 (0.0089)  loss_rpn_box_reg: 0.0013 (0.0041)  time: 0.1167  data: 0.0330  max mem: 4009\n",
      "Epoch: [8]  [11700/12099]  eta: 0:00:46  lr: 0.000030  loss: 0.1002 (0.1143)  loss_classifier: 0.0331 (0.0378)  loss_box_reg: 0.0605 (0.0634)  loss_objectness: 0.0038 (0.0089)  loss_rpn_box_reg: 0.0022 (0.0041)  time: 0.1228  data: 0.0348  max mem: 4009\n",
      "Epoch: [8]  [11800/12099]  eta: 0:00:35  lr: 0.000030  loss: 0.1222 (0.1143)  loss_classifier: 0.0343 (0.0378)  loss_box_reg: 0.0771 (0.0634)  loss_objectness: 0.0042 (0.0089)  loss_rpn_box_reg: 0.0018 (0.0041)  time: 0.1240  data: 0.0337  max mem: 4009\n",
      "Epoch: [8]  [11900/12099]  eta: 0:00:23  lr: 0.000030  loss: 0.1052 (0.1144)  loss_classifier: 0.0253 (0.0379)  loss_box_reg: 0.0652 (0.0635)  loss_objectness: 0.0041 (0.0089)  loss_rpn_box_reg: 0.0021 (0.0041)  time: 0.1237  data: 0.0349  max mem: 4009\n",
      "Epoch: [8]  [12000/12099]  eta: 0:00:11  lr: 0.000030  loss: 0.0887 (0.1144)  loss_classifier: 0.0287 (0.0379)  loss_box_reg: 0.0468 (0.0635)  loss_objectness: 0.0031 (0.0089)  loss_rpn_box_reg: 0.0016 (0.0041)  time: 0.1216  data: 0.0332  max mem: 4009\n",
      "Epoch: [8]  [12098/12099]  eta: 0:00:00  lr: 0.000030  loss: 0.0816 (0.1144)  loss_classifier: 0.0185 (0.0379)  loss_box_reg: 0.0373 (0.0634)  loss_objectness: 0.0051 (0.0089)  loss_rpn_box_reg: 0.0007 (0.0041)  time: 0.1174  data: 0.0332  max mem: 4009\n",
      "Epoch: [8] Total time: 0:23:44 (0.1177 s / it)\n",
      "Epoch: [9]  [    0/12099]  eta: 0:23:11  lr: 0.000030  loss: 0.1202 (0.1202)  loss_classifier: 0.0334 (0.0334)  loss_box_reg: 0.0810 (0.0810)  loss_objectness: 0.0044 (0.0044)  loss_rpn_box_reg: 0.0014 (0.0014)  time: 0.1150  data: 0.0270  max mem: 4009\n",
      "Epoch: [9]  [  100/12099]  eta: 0:23:42  lr: 0.000030  loss: 0.0965 (0.1223)  loss_classifier: 0.0335 (0.0383)  loss_box_reg: 0.0582 (0.0680)  loss_objectness: 0.0044 (0.0123)  loss_rpn_box_reg: 0.0012 (0.0037)  time: 0.1182  data: 0.0316  max mem: 4009\n",
      "Epoch: [9]  [  200/12099]  eta: 0:23:41  lr: 0.000030  loss: 0.0947 (0.1203)  loss_classifier: 0.0300 (0.0387)  loss_box_reg: 0.0556 (0.0658)  loss_objectness: 0.0025 (0.0114)  loss_rpn_box_reg: 0.0009 (0.0044)  time: 0.1242  data: 0.0353  max mem: 4009\n",
      "Epoch: [9]  [  300/12099]  eta: 0:23:18  lr: 0.000030  loss: 0.1032 (0.1170)  loss_classifier: 0.0316 (0.0384)  loss_box_reg: 0.0485 (0.0630)  loss_objectness: 0.0025 (0.0111)  loss_rpn_box_reg: 0.0008 (0.0044)  time: 0.1211  data: 0.0341  max mem: 4009\n",
      "Epoch: [9]  [  400/12099]  eta: 0:23:09  lr: 0.000030  loss: 0.0765 (0.1157)  loss_classifier: 0.0269 (0.0384)  loss_box_reg: 0.0481 (0.0631)  loss_objectness: 0.0042 (0.0100)  loss_rpn_box_reg: 0.0016 (0.0042)  time: 0.1200  data: 0.0329  max mem: 4009\n",
      "Epoch: [9]  [  500/12099]  eta: 0:22:55  lr: 0.000030  loss: 0.1121 (0.1168)  loss_classifier: 0.0269 (0.0389)  loss_box_reg: 0.0619 (0.0639)  loss_objectness: 0.0024 (0.0097)  loss_rpn_box_reg: 0.0015 (0.0043)  time: 0.1171  data: 0.0309  max mem: 4009\n",
      "Epoch: [9]  [  600/12099]  eta: 0:22:44  lr: 0.000030  loss: 0.0828 (0.1139)  loss_classifier: 0.0238 (0.0376)  loss_box_reg: 0.0505 (0.0627)  loss_objectness: 0.0031 (0.0093)  loss_rpn_box_reg: 0.0007 (0.0042)  time: 0.1197  data: 0.0326  max mem: 4009\n",
      "Epoch: [9]  [  700/12099]  eta: 0:22:32  lr: 0.000030  loss: 0.0890 (0.1141)  loss_classifier: 0.0226 (0.0378)  loss_box_reg: 0.0520 (0.0627)  loss_objectness: 0.0041 (0.0094)  loss_rpn_box_reg: 0.0014 (0.0042)  time: 0.1184  data: 0.0322  max mem: 4009\n",
      "Epoch: [9]  [  800/12099]  eta: 0:22:20  lr: 0.000030  loss: 0.1261 (0.1136)  loss_classifier: 0.0325 (0.0376)  loss_box_reg: 0.0637 (0.0623)  loss_objectness: 0.0030 (0.0094)  loss_rpn_box_reg: 0.0019 (0.0042)  time: 0.1179  data: 0.0316  max mem: 4009\n",
      "Epoch: [9]  [  900/12099]  eta: 0:22:09  lr: 0.000030  loss: 0.1224 (0.1140)  loss_classifier: 0.0374 (0.0379)  loss_box_reg: 0.0728 (0.0624)  loss_objectness: 0.0028 (0.0095)  loss_rpn_box_reg: 0.0009 (0.0041)  time: 0.1185  data: 0.0321  max mem: 4009\n",
      "Epoch: [9]  [ 1000/12099]  eta: 0:21:57  lr: 0.000030  loss: 0.0947 (0.1137)  loss_classifier: 0.0338 (0.0379)  loss_box_reg: 0.0612 (0.0624)  loss_objectness: 0.0055 (0.0093)  loss_rpn_box_reg: 0.0023 (0.0041)  time: 0.1178  data: 0.0318  max mem: 4009\n",
      "Epoch: [9]  [ 1100/12099]  eta: 0:21:45  lr: 0.000030  loss: 0.1156 (0.1133)  loss_classifier: 0.0262 (0.0377)  loss_box_reg: 0.0638 (0.0623)  loss_objectness: 0.0032 (0.0092)  loss_rpn_box_reg: 0.0009 (0.0042)  time: 0.1191  data: 0.0333  max mem: 4009\n",
      "Epoch: [9]  [ 1200/12099]  eta: 0:21:33  lr: 0.000030  loss: 0.1122 (0.1136)  loss_classifier: 0.0410 (0.0378)  loss_box_reg: 0.0620 (0.0624)  loss_objectness: 0.0031 (0.0092)  loss_rpn_box_reg: 0.0022 (0.0042)  time: 0.1181  data: 0.0322  max mem: 4009\n",
      "Epoch: [9]  [ 1300/12099]  eta: 0:21:21  lr: 0.000030  loss: 0.0854 (0.1138)  loss_classifier: 0.0232 (0.0379)  loss_box_reg: 0.0540 (0.0625)  loss_objectness: 0.0036 (0.0091)  loss_rpn_box_reg: 0.0015 (0.0042)  time: 0.1179  data: 0.0319  max mem: 4009\n",
      "Epoch: [9]  [ 1400/12099]  eta: 0:21:09  lr: 0.000030  loss: 0.0877 (0.1133)  loss_classifier: 0.0267 (0.0378)  loss_box_reg: 0.0559 (0.0623)  loss_objectness: 0.0034 (0.0091)  loss_rpn_box_reg: 0.0013 (0.0042)  time: 0.1200  data: 0.0322  max mem: 4009\n",
      "Epoch: [9]  [ 1500/12099]  eta: 0:20:57  lr: 0.000030  loss: 0.0728 (0.1128)  loss_classifier: 0.0208 (0.0377)  loss_box_reg: 0.0434 (0.0620)  loss_objectness: 0.0036 (0.0090)  loss_rpn_box_reg: 0.0009 (0.0041)  time: 0.1179  data: 0.0324  max mem: 4009\n",
      "Epoch: [9]  [ 1600/12099]  eta: 0:20:45  lr: 0.000030  loss: 0.1361 (0.1130)  loss_classifier: 0.0381 (0.0379)  loss_box_reg: 0.0668 (0.0621)  loss_objectness: 0.0045 (0.0089)  loss_rpn_box_reg: 0.0018 (0.0041)  time: 0.1200  data: 0.0331  max mem: 4009\n",
      "Epoch: [9]  [ 1700/12099]  eta: 0:20:33  lr: 0.000030  loss: 0.0894 (0.1128)  loss_classifier: 0.0298 (0.0378)  loss_box_reg: 0.0558 (0.0619)  loss_objectness: 0.0041 (0.0089)  loss_rpn_box_reg: 0.0015 (0.0041)  time: 0.1182  data: 0.0318  max mem: 4009\n",
      "Epoch: [9]  [ 1800/12099]  eta: 0:20:21  lr: 0.000030  loss: 0.1232 (0.1131)  loss_classifier: 0.0367 (0.0380)  loss_box_reg: 0.0704 (0.0621)  loss_objectness: 0.0042 (0.0089)  loss_rpn_box_reg: 0.0024 (0.0040)  time: 0.1204  data: 0.0331  max mem: 4009\n",
      "Epoch: [9]  [ 1900/12099]  eta: 0:20:11  lr: 0.000030  loss: 0.0868 (0.1130)  loss_classifier: 0.0317 (0.0380)  loss_box_reg: 0.0510 (0.0622)  loss_objectness: 0.0023 (0.0088)  loss_rpn_box_reg: 0.0008 (0.0040)  time: 0.1207  data: 0.0340  max mem: 4009\n",
      "Epoch: [9]  [ 2000/12099]  eta: 0:19:58  lr: 0.000030  loss: 0.1084 (0.1133)  loss_classifier: 0.0353 (0.0381)  loss_box_reg: 0.0648 (0.0624)  loss_objectness: 0.0047 (0.0088)  loss_rpn_box_reg: 0.0015 (0.0040)  time: 0.1172  data: 0.0309  max mem: 4009\n",
      "Epoch: [9]  [ 2100/12099]  eta: 0:19:46  lr: 0.000030  loss: 0.1163 (0.1144)  loss_classifier: 0.0329 (0.0384)  loss_box_reg: 0.0696 (0.0628)  loss_objectness: 0.0050 (0.0092)  loss_rpn_box_reg: 0.0024 (0.0041)  time: 0.1181  data: 0.0328  max mem: 4009\n",
      "Epoch: [9]  [ 2200/12099]  eta: 0:19:36  lr: 0.000030  loss: 0.0796 (0.1142)  loss_classifier: 0.0258 (0.0382)  loss_box_reg: 0.0457 (0.0628)  loss_objectness: 0.0058 (0.0091)  loss_rpn_box_reg: 0.0012 (0.0040)  time: 0.1173  data: 0.0308  max mem: 4009\n",
      "Epoch: [9]  [ 2300/12099]  eta: 0:19:26  lr: 0.000030  loss: 0.0806 (0.1147)  loss_classifier: 0.0229 (0.0385)  loss_box_reg: 0.0570 (0.0629)  loss_objectness: 0.0033 (0.0093)  loss_rpn_box_reg: 0.0013 (0.0040)  time: 0.1211  data: 0.0340  max mem: 4009\n"
     ]
    },
    {
     "name": "stdout",
     "output_type": "stream",
     "text": [
      "Epoch: [9]  [ 2400/12099]  eta: 0:19:16  lr: 0.000030  loss: 0.0659 (0.1139)  loss_classifier: 0.0200 (0.0383)  loss_box_reg: 0.0378 (0.0626)  loss_objectness: 0.0036 (0.0091)  loss_rpn_box_reg: 0.0011 (0.0040)  time: 0.1192  data: 0.0320  max mem: 4009\n",
      "Epoch: [9]  [ 2500/12099]  eta: 0:19:05  lr: 0.000030  loss: 0.0924 (0.1138)  loss_classifier: 0.0241 (0.0383)  loss_box_reg: 0.0545 (0.0625)  loss_objectness: 0.0035 (0.0091)  loss_rpn_box_reg: 0.0018 (0.0040)  time: 0.1279  data: 0.0356  max mem: 4009\n",
      "Epoch: [9]  [ 2600/12099]  eta: 0:18:56  lr: 0.000030  loss: 0.1032 (0.1137)  loss_classifier: 0.0273 (0.0382)  loss_box_reg: 0.0479 (0.0624)  loss_objectness: 0.0040 (0.0090)  loss_rpn_box_reg: 0.0017 (0.0040)  time: 0.1279  data: 0.0361  max mem: 4009\n",
      "Epoch: [9]  [ 2700/12099]  eta: 0:18:44  lr: 0.000030  loss: 0.1165 (0.1138)  loss_classifier: 0.0380 (0.0382)  loss_box_reg: 0.0601 (0.0624)  loss_objectness: 0.0044 (0.0092)  loss_rpn_box_reg: 0.0017 (0.0040)  time: 0.1191  data: 0.0329  max mem: 4009\n",
      "Epoch: [9]  [ 2800/12099]  eta: 0:18:34  lr: 0.000030  loss: 0.0695 (0.1135)  loss_classifier: 0.0224 (0.0380)  loss_box_reg: 0.0477 (0.0624)  loss_objectness: 0.0034 (0.0091)  loss_rpn_box_reg: 0.0021 (0.0040)  time: 0.1352  data: 0.0394  max mem: 4009\n",
      "Epoch: [9]  [ 2900/12099]  eta: 0:18:22  lr: 0.000030  loss: 0.1195 (0.1137)  loss_classifier: 0.0356 (0.0380)  loss_box_reg: 0.0700 (0.0626)  loss_objectness: 0.0027 (0.0091)  loss_rpn_box_reg: 0.0024 (0.0040)  time: 0.1205  data: 0.0336  max mem: 4009\n",
      "Epoch: [9]  [ 3000/12099]  eta: 0:18:11  lr: 0.000030  loss: 0.0802 (0.1136)  loss_classifier: 0.0255 (0.0380)  loss_box_reg: 0.0380 (0.0623)  loss_objectness: 0.0032 (0.0092)  loss_rpn_box_reg: 0.0010 (0.0040)  time: 0.1343  data: 0.0411  max mem: 4009\n",
      "Epoch: [9]  [ 3100/12099]  eta: 0:17:59  lr: 0.000030  loss: 0.1089 (0.1135)  loss_classifier: 0.0211 (0.0379)  loss_box_reg: 0.0430 (0.0624)  loss_objectness: 0.0042 (0.0092)  loss_rpn_box_reg: 0.0015 (0.0040)  time: 0.1183  data: 0.0327  max mem: 4009\n",
      "Epoch: [9]  [ 3200/12099]  eta: 0:17:47  lr: 0.000030  loss: 0.0994 (0.1134)  loss_classifier: 0.0257 (0.0380)  loss_box_reg: 0.0535 (0.0624)  loss_objectness: 0.0032 (0.0091)  loss_rpn_box_reg: 0.0014 (0.0040)  time: 0.1187  data: 0.0347  max mem: 4009\n",
      "Epoch: [9]  [ 3300/12099]  eta: 0:17:35  lr: 0.000030  loss: 0.0831 (0.1134)  loss_classifier: 0.0250 (0.0379)  loss_box_reg: 0.0576 (0.0625)  loss_objectness: 0.0025 (0.0090)  loss_rpn_box_reg: 0.0014 (0.0040)  time: 0.1149  data: 0.0314  max mem: 4009\n",
      "Epoch: [9]  [ 3400/12099]  eta: 0:17:26  lr: 0.000030  loss: 0.1017 (0.1134)  loss_classifier: 0.0258 (0.0379)  loss_box_reg: 0.0646 (0.0625)  loss_objectness: 0.0041 (0.0090)  loss_rpn_box_reg: 0.0014 (0.0040)  time: 0.1532  data: 0.0469  max mem: 4009\n",
      "Epoch: [9]  [ 3500/12099]  eta: 0:17:17  lr: 0.000030  loss: 0.0920 (0.1134)  loss_classifier: 0.0289 (0.0378)  loss_box_reg: 0.0479 (0.0626)  loss_objectness: 0.0042 (0.0089)  loss_rpn_box_reg: 0.0018 (0.0040)  time: 0.1237  data: 0.0346  max mem: 4009\n",
      "Epoch: [9]  [ 3600/12099]  eta: 0:17:08  lr: 0.000030  loss: 0.0967 (0.1133)  loss_classifier: 0.0220 (0.0378)  loss_box_reg: 0.0416 (0.0626)  loss_objectness: 0.0029 (0.0089)  loss_rpn_box_reg: 0.0012 (0.0040)  time: 0.1186  data: 0.0329  max mem: 4009\n",
      "Epoch: [9]  [ 3700/12099]  eta: 0:16:55  lr: 0.000030  loss: 0.0866 (0.1131)  loss_classifier: 0.0196 (0.0377)  loss_box_reg: 0.0322 (0.0624)  loss_objectness: 0.0038 (0.0089)  loss_rpn_box_reg: 0.0010 (0.0040)  time: 0.1160  data: 0.0322  max mem: 4009\n",
      "Epoch: [9]  [ 3800/12099]  eta: 0:16:42  lr: 0.000030  loss: 0.0645 (0.1130)  loss_classifier: 0.0246 (0.0376)  loss_box_reg: 0.0349 (0.0625)  loss_objectness: 0.0028 (0.0089)  loss_rpn_box_reg: 0.0009 (0.0040)  time: 0.1155  data: 0.0310  max mem: 4009\n",
      "Epoch: [9]  [ 3900/12099]  eta: 0:16:29  lr: 0.000030  loss: 0.0965 (0.1131)  loss_classifier: 0.0244 (0.0376)  loss_box_reg: 0.0582 (0.0626)  loss_objectness: 0.0040 (0.0088)  loss_rpn_box_reg: 0.0013 (0.0040)  time: 0.1211  data: 0.0357  max mem: 4009\n",
      "Epoch: [9]  [ 4000/12099]  eta: 0:16:18  lr: 0.000030  loss: 0.1023 (0.1131)  loss_classifier: 0.0358 (0.0376)  loss_box_reg: 0.0690 (0.0627)  loss_objectness: 0.0029 (0.0088)  loss_rpn_box_reg: 0.0012 (0.0041)  time: 0.1238  data: 0.0356  max mem: 4009\n",
      "Epoch: [9]  [ 4100/12099]  eta: 0:16:07  lr: 0.000030  loss: 0.0999 (0.1132)  loss_classifier: 0.0256 (0.0376)  loss_box_reg: 0.0494 (0.0628)  loss_objectness: 0.0025 (0.0088)  loss_rpn_box_reg: 0.0013 (0.0040)  time: 0.1306  data: 0.0380  max mem: 4009\n",
      "Epoch: [9]  [ 4200/12099]  eta: 0:16:00  lr: 0.000030  loss: 0.0891 (0.1129)  loss_classifier: 0.0236 (0.0375)  loss_box_reg: 0.0593 (0.0627)  loss_objectness: 0.0035 (0.0088)  loss_rpn_box_reg: 0.0011 (0.0040)  time: 0.1440  data: 0.0451  max mem: 4009\n",
      "Epoch: [9]  [ 4300/12099]  eta: 0:15:48  lr: 0.000030  loss: 0.1135 (0.1129)  loss_classifier: 0.0382 (0.0375)  loss_box_reg: 0.0548 (0.0626)  loss_objectness: 0.0034 (0.0088)  loss_rpn_box_reg: 0.0012 (0.0040)  time: 0.1232  data: 0.0337  max mem: 4009\n",
      "Epoch: [9]  [ 4400/12099]  eta: 0:15:35  lr: 0.000030  loss: 0.1111 (0.1130)  loss_classifier: 0.0301 (0.0375)  loss_box_reg: 0.0587 (0.0627)  loss_objectness: 0.0047 (0.0088)  loss_rpn_box_reg: 0.0020 (0.0040)  time: 0.1164  data: 0.0321  max mem: 4009\n",
      "Epoch: [9]  [ 4500/12099]  eta: 0:15:22  lr: 0.000030  loss: 0.0946 (0.1129)  loss_classifier: 0.0298 (0.0375)  loss_box_reg: 0.0502 (0.0626)  loss_objectness: 0.0051 (0.0087)  loss_rpn_box_reg: 0.0007 (0.0040)  time: 0.1153  data: 0.0310  max mem: 4009\n",
      "Epoch: [9]  [ 4600/12099]  eta: 0:15:09  lr: 0.000030  loss: 0.1152 (0.1129)  loss_classifier: 0.0282 (0.0375)  loss_box_reg: 0.0599 (0.0626)  loss_objectness: 0.0068 (0.0087)  loss_rpn_box_reg: 0.0016 (0.0040)  time: 0.1180  data: 0.0336  max mem: 4009\n",
      "Epoch: [9]  [ 4700/12099]  eta: 0:14:57  lr: 0.000030  loss: 0.1168 (0.1130)  loss_classifier: 0.0340 (0.0375)  loss_box_reg: 0.0716 (0.0627)  loss_objectness: 0.0034 (0.0088)  loss_rpn_box_reg: 0.0017 (0.0040)  time: 0.1232  data: 0.0338  max mem: 4009\n",
      "Epoch: [9]  [ 4800/12099]  eta: 0:14:45  lr: 0.000030  loss: 0.0848 (0.1128)  loss_classifier: 0.0290 (0.0374)  loss_box_reg: 0.0512 (0.0626)  loss_objectness: 0.0029 (0.0087)  loss_rpn_box_reg: 0.0019 (0.0040)  time: 0.1211  data: 0.0339  max mem: 4009\n",
      "Epoch: [9]  [ 4900/12099]  eta: 0:14:33  lr: 0.000030  loss: 0.1005 (0.1128)  loss_classifier: 0.0286 (0.0375)  loss_box_reg: 0.0503 (0.0627)  loss_objectness: 0.0062 (0.0087)  loss_rpn_box_reg: 0.0023 (0.0040)  time: 0.1212  data: 0.0352  max mem: 4009\n",
      "Epoch: [9]  [ 5000/12099]  eta: 0:14:21  lr: 0.000030  loss: 0.1011 (0.1127)  loss_classifier: 0.0290 (0.0374)  loss_box_reg: 0.0582 (0.0626)  loss_objectness: 0.0022 (0.0087)  loss_rpn_box_reg: 0.0013 (0.0040)  time: 0.1268  data: 0.0378  max mem: 4009\n",
      "Epoch: [9]  [ 5100/12099]  eta: 0:14:09  lr: 0.000030  loss: 0.1075 (0.1128)  loss_classifier: 0.0324 (0.0375)  loss_box_reg: 0.0667 (0.0626)  loss_objectness: 0.0030 (0.0087)  loss_rpn_box_reg: 0.0015 (0.0040)  time: 0.1195  data: 0.0322  max mem: 4009\n",
      "Epoch: [9]  [ 5200/12099]  eta: 0:13:57  lr: 0.000030  loss: 0.1284 (0.1130)  loss_classifier: 0.0285 (0.0375)  loss_box_reg: 0.0534 (0.0627)  loss_objectness: 0.0040 (0.0087)  loss_rpn_box_reg: 0.0012 (0.0040)  time: 0.1285  data: 0.0371  max mem: 4009\n",
      "Epoch: [9]  [ 5300/12099]  eta: 0:13:45  lr: 0.000030  loss: 0.0933 (0.1130)  loss_classifier: 0.0255 (0.0375)  loss_box_reg: 0.0548 (0.0627)  loss_objectness: 0.0039 (0.0087)  loss_rpn_box_reg: 0.0007 (0.0041)  time: 0.1342  data: 0.0414  max mem: 4009\n",
      "Epoch: [9]  [ 5400/12099]  eta: 0:13:35  lr: 0.000030  loss: 0.1138 (0.1132)  loss_classifier: 0.0271 (0.0376)  loss_box_reg: 0.0741 (0.0628)  loss_objectness: 0.0046 (0.0087)  loss_rpn_box_reg: 0.0024 (0.0040)  time: 0.1221  data: 0.0333  max mem: 4009\n",
      "Epoch: [9]  [ 5500/12099]  eta: 0:13:23  lr: 0.000030  loss: 0.0786 (0.1133)  loss_classifier: 0.0214 (0.0377)  loss_box_reg: 0.0491 (0.0627)  loss_objectness: 0.0050 (0.0088)  loss_rpn_box_reg: 0.0006 (0.0041)  time: 0.1195  data: 0.0315  max mem: 4009\n",
      "Epoch: [9]  [ 5600/12099]  eta: 0:13:11  lr: 0.000030  loss: 0.0602 (0.1133)  loss_classifier: 0.0193 (0.0377)  loss_box_reg: 0.0359 (0.0628)  loss_objectness: 0.0035 (0.0088)  loss_rpn_box_reg: 0.0012 (0.0040)  time: 0.1188  data: 0.0333  max mem: 4009\n"
     ]
    },
    {
     "name": "stdout",
     "output_type": "stream",
     "text": [
      "Epoch: [9]  [ 5700/12099]  eta: 0:12:58  lr: 0.000030  loss: 0.1042 (0.1135)  loss_classifier: 0.0286 (0.0377)  loss_box_reg: 0.0587 (0.0628)  loss_objectness: 0.0047 (0.0089)  loss_rpn_box_reg: 0.0012 (0.0040)  time: 0.1163  data: 0.0319  max mem: 4009\n",
      "Epoch: [9]  [ 5800/12099]  eta: 0:12:47  lr: 0.000030  loss: 0.1037 (0.1135)  loss_classifier: 0.0271 (0.0376)  loss_box_reg: 0.0658 (0.0628)  loss_objectness: 0.0037 (0.0090)  loss_rpn_box_reg: 0.0016 (0.0041)  time: 0.1357  data: 0.0383  max mem: 4009\n",
      "Epoch: [9]  [ 5900/12099]  eta: 0:12:35  lr: 0.000030  loss: 0.0734 (0.1134)  loss_classifier: 0.0251 (0.0376)  loss_box_reg: 0.0484 (0.0627)  loss_objectness: 0.0024 (0.0090)  loss_rpn_box_reg: 0.0020 (0.0041)  time: 0.1181  data: 0.0337  max mem: 4009\n",
      "Epoch: [9]  [ 6000/12099]  eta: 0:12:22  lr: 0.000030  loss: 0.0842 (0.1134)  loss_classifier: 0.0243 (0.0376)  loss_box_reg: 0.0418 (0.0627)  loss_objectness: 0.0037 (0.0090)  loss_rpn_box_reg: 0.0012 (0.0041)  time: 0.1175  data: 0.0323  max mem: 4009\n",
      "Epoch: [9]  [ 6100/12099]  eta: 0:12:10  lr: 0.000030  loss: 0.1054 (0.1133)  loss_classifier: 0.0285 (0.0376)  loss_box_reg: 0.0590 (0.0626)  loss_objectness: 0.0056 (0.0090)  loss_rpn_box_reg: 0.0011 (0.0041)  time: 0.1181  data: 0.0342  max mem: 4009\n",
      "Epoch: [9]  [ 6200/12099]  eta: 0:11:59  lr: 0.000030  loss: 0.1026 (0.1134)  loss_classifier: 0.0306 (0.0375)  loss_box_reg: 0.0734 (0.0627)  loss_objectness: 0.0048 (0.0090)  loss_rpn_box_reg: 0.0015 (0.0041)  time: 0.1484  data: 0.0490  max mem: 4009\n",
      "Epoch: [9]  [ 6300/12099]  eta: 0:11:48  lr: 0.000030  loss: 0.0822 (0.1136)  loss_classifier: 0.0282 (0.0376)  loss_box_reg: 0.0459 (0.0628)  loss_objectness: 0.0030 (0.0090)  loss_rpn_box_reg: 0.0010 (0.0041)  time: 0.1445  data: 0.0430  max mem: 4009\n",
      "Epoch: [9]  [ 6400/12099]  eta: 0:11:37  lr: 0.000030  loss: 0.0942 (0.1136)  loss_classifier: 0.0259 (0.0377)  loss_box_reg: 0.0514 (0.0628)  loss_objectness: 0.0034 (0.0091)  loss_rpn_box_reg: 0.0041 (0.0041)  time: 0.1218  data: 0.0348  max mem: 4009\n",
      "Epoch: [9]  [ 6500/12099]  eta: 0:11:25  lr: 0.000030  loss: 0.0818 (0.1138)  loss_classifier: 0.0251 (0.0377)  loss_box_reg: 0.0420 (0.0629)  loss_objectness: 0.0031 (0.0091)  loss_rpn_box_reg: 0.0006 (0.0041)  time: 0.1386  data: 0.0409  max mem: 4009\n",
      "Epoch: [9]  [ 6600/12099]  eta: 0:11:14  lr: 0.000030  loss: 0.1051 (0.1136)  loss_classifier: 0.0246 (0.0377)  loss_box_reg: 0.0595 (0.0628)  loss_objectness: 0.0029 (0.0090)  loss_rpn_box_reg: 0.0014 (0.0040)  time: 0.1410  data: 0.0402  max mem: 4009\n",
      "Epoch: [9]  [ 6700/12099]  eta: 0:11:01  lr: 0.000030  loss: 0.1126 (0.1136)  loss_classifier: 0.0246 (0.0377)  loss_box_reg: 0.0749 (0.0629)  loss_objectness: 0.0045 (0.0091)  loss_rpn_box_reg: 0.0019 (0.0040)  time: 0.1220  data: 0.0337  max mem: 4009\n",
      "Epoch: [9]  [ 6800/12099]  eta: 0:10:50  lr: 0.000030  loss: 0.1012 (0.1137)  loss_classifier: 0.0288 (0.0377)  loss_box_reg: 0.0515 (0.0629)  loss_objectness: 0.0046 (0.0091)  loss_rpn_box_reg: 0.0022 (0.0041)  time: 0.1250  data: 0.0351  max mem: 4009\n",
      "Epoch: [9]  [ 6900/12099]  eta: 0:10:39  lr: 0.000030  loss: 0.0794 (0.1137)  loss_classifier: 0.0244 (0.0378)  loss_box_reg: 0.0448 (0.0628)  loss_objectness: 0.0023 (0.0090)  loss_rpn_box_reg: 0.0013 (0.0041)  time: 0.1386  data: 0.0407  max mem: 4009\n",
      "Epoch: [9]  [ 7000/12099]  eta: 0:10:27  lr: 0.000030  loss: 0.0961 (0.1138)  loss_classifier: 0.0254 (0.0378)  loss_box_reg: 0.0646 (0.0629)  loss_objectness: 0.0047 (0.0090)  loss_rpn_box_reg: 0.0018 (0.0041)  time: 0.1385  data: 0.0411  max mem: 4009\n",
      "Epoch: [9]  [ 7100/12099]  eta: 0:10:15  lr: 0.000030  loss: 0.0948 (0.1138)  loss_classifier: 0.0246 (0.0378)  loss_box_reg: 0.0432 (0.0629)  loss_objectness: 0.0039 (0.0090)  loss_rpn_box_reg: 0.0022 (0.0041)  time: 0.1197  data: 0.0333  max mem: 4009\n",
      "Epoch: [9]  [ 7200/12099]  eta: 0:10:03  lr: 0.000030  loss: 0.0860 (0.1138)  loss_classifier: 0.0232 (0.0377)  loss_box_reg: 0.0448 (0.0629)  loss_objectness: 0.0024 (0.0090)  loss_rpn_box_reg: 0.0013 (0.0041)  time: 0.1203  data: 0.0337  max mem: 4009\n",
      "Epoch: [9]  [ 7300/12099]  eta: 0:09:51  lr: 0.000030  loss: 0.0992 (0.1138)  loss_classifier: 0.0346 (0.0378)  loss_box_reg: 0.0504 (0.0630)  loss_objectness: 0.0032 (0.0090)  loss_rpn_box_reg: 0.0019 (0.0041)  time: 0.1219  data: 0.0356  max mem: 4009\n",
      "Epoch: [9]  [ 7400/12099]  eta: 0:09:38  lr: 0.000030  loss: 0.1150 (0.1139)  loss_classifier: 0.0376 (0.0378)  loss_box_reg: 0.0639 (0.0630)  loss_objectness: 0.0042 (0.0090)  loss_rpn_box_reg: 0.0021 (0.0041)  time: 0.1306  data: 0.0397  max mem: 4009\n",
      "Epoch: [9]  [ 7500/12099]  eta: 0:09:26  lr: 0.000030  loss: 0.1173 (0.1138)  loss_classifier: 0.0407 (0.0378)  loss_box_reg: 0.0696 (0.0630)  loss_objectness: 0.0051 (0.0090)  loss_rpn_box_reg: 0.0027 (0.0041)  time: 0.1261  data: 0.0369  max mem: 4009\n",
      "Epoch: [9]  [ 7600/12099]  eta: 0:09:14  lr: 0.000030  loss: 0.0969 (0.1139)  loss_classifier: 0.0302 (0.0378)  loss_box_reg: 0.0478 (0.0630)  loss_objectness: 0.0020 (0.0090)  loss_rpn_box_reg: 0.0014 (0.0041)  time: 0.1196  data: 0.0327  max mem: 4009\n",
      "Epoch: [9]  [ 7700/12099]  eta: 0:09:01  lr: 0.000030  loss: 0.1054 (0.1139)  loss_classifier: 0.0338 (0.0378)  loss_box_reg: 0.0794 (0.0630)  loss_objectness: 0.0024 (0.0090)  loss_rpn_box_reg: 0.0015 (0.0041)  time: 0.1189  data: 0.0334  max mem: 4009\n",
      "Epoch: [9]  [ 7800/12099]  eta: 0:08:49  lr: 0.000030  loss: 0.0979 (0.1139)  loss_classifier: 0.0320 (0.0377)  loss_box_reg: 0.0590 (0.0631)  loss_objectness: 0.0037 (0.0090)  loss_rpn_box_reg: 0.0017 (0.0041)  time: 0.1226  data: 0.0353  max mem: 4009\n",
      "Epoch: [9]  [ 7900/12099]  eta: 0:08:36  lr: 0.000030  loss: 0.1077 (0.1139)  loss_classifier: 0.0287 (0.0377)  loss_box_reg: 0.0620 (0.0631)  loss_objectness: 0.0036 (0.0090)  loss_rpn_box_reg: 0.0012 (0.0041)  time: 0.1192  data: 0.0334  max mem: 4009\n",
      "Epoch: [9]  [ 8000/12099]  eta: 0:08:24  lr: 0.000030  loss: 0.0937 (0.1138)  loss_classifier: 0.0303 (0.0377)  loss_box_reg: 0.0511 (0.0630)  loss_objectness: 0.0021 (0.0090)  loss_rpn_box_reg: 0.0014 (0.0041)  time: 0.1203  data: 0.0326  max mem: 4009\n",
      "Epoch: [9]  [ 8100/12099]  eta: 0:08:12  lr: 0.000030  loss: 0.0899 (0.1139)  loss_classifier: 0.0272 (0.0377)  loss_box_reg: 0.0592 (0.0631)  loss_objectness: 0.0031 (0.0090)  loss_rpn_box_reg: 0.0009 (0.0041)  time: 0.1187  data: 0.0326  max mem: 4009\n",
      "Epoch: [9]  [ 8200/12099]  eta: 0:07:59  lr: 0.000030  loss: 0.0945 (0.1138)  loss_classifier: 0.0335 (0.0377)  loss_box_reg: 0.0557 (0.0631)  loss_objectness: 0.0031 (0.0090)  loss_rpn_box_reg: 0.0015 (0.0041)  time: 0.1179  data: 0.0326  max mem: 4009\n",
      "Epoch: [9]  [ 8300/12099]  eta: 0:07:47  lr: 0.000030  loss: 0.1029 (0.1139)  loss_classifier: 0.0301 (0.0377)  loss_box_reg: 0.0672 (0.0631)  loss_objectness: 0.0073 (0.0090)  loss_rpn_box_reg: 0.0022 (0.0041)  time: 0.1188  data: 0.0326  max mem: 4009\n",
      "Epoch: [9]  [ 8400/12099]  eta: 0:07:34  lr: 0.000030  loss: 0.0832 (0.1140)  loss_classifier: 0.0244 (0.0378)  loss_box_reg: 0.0546 (0.0631)  loss_objectness: 0.0038 (0.0090)  loss_rpn_box_reg: 0.0013 (0.0041)  time: 0.1184  data: 0.0322  max mem: 4009\n",
      "Epoch: [9]  [ 8500/12099]  eta: 0:07:22  lr: 0.000030  loss: 0.0804 (0.1138)  loss_classifier: 0.0229 (0.0377)  loss_box_reg: 0.0551 (0.0631)  loss_objectness: 0.0029 (0.0089)  loss_rpn_box_reg: 0.0015 (0.0041)  time: 0.1232  data: 0.0342  max mem: 4009\n",
      "Epoch: [9]  [ 8600/12099]  eta: 0:07:09  lr: 0.000030  loss: 0.1311 (0.1138)  loss_classifier: 0.0378 (0.0377)  loss_box_reg: 0.0801 (0.0631)  loss_objectness: 0.0057 (0.0089)  loss_rpn_box_reg: 0.0022 (0.0041)  time: 0.1209  data: 0.0349  max mem: 4009\n",
      "Epoch: [9]  [ 8700/12099]  eta: 0:06:57  lr: 0.000030  loss: 0.0999 (0.1139)  loss_classifier: 0.0278 (0.0377)  loss_box_reg: 0.0561 (0.0631)  loss_objectness: 0.0059 (0.0089)  loss_rpn_box_reg: 0.0018 (0.0041)  time: 0.1195  data: 0.0318  max mem: 4009\n",
      "Epoch: [9]  [ 8800/12099]  eta: 0:06:44  lr: 0.000030  loss: 0.0832 (0.1138)  loss_classifier: 0.0230 (0.0377)  loss_box_reg: 0.0463 (0.0631)  loss_objectness: 0.0038 (0.0089)  loss_rpn_box_reg: 0.0009 (0.0041)  time: 0.1172  data: 0.0316  max mem: 4009\n",
      "Epoch: [9]  [ 8900/12099]  eta: 0:06:32  lr: 0.000030  loss: 0.1054 (0.1139)  loss_classifier: 0.0296 (0.0377)  loss_box_reg: 0.0653 (0.0631)  loss_objectness: 0.0033 (0.0089)  loss_rpn_box_reg: 0.0013 (0.0041)  time: 0.1192  data: 0.0328  max mem: 4009\n"
     ]
    },
    {
     "name": "stdout",
     "output_type": "stream",
     "text": [
      "Epoch: [9]  [ 9000/12099]  eta: 0:06:20  lr: 0.000030  loss: 0.0996 (0.1140)  loss_classifier: 0.0253 (0.0378)  loss_box_reg: 0.0512 (0.0632)  loss_objectness: 0.0039 (0.0090)  loss_rpn_box_reg: 0.0008 (0.0041)  time: 0.1202  data: 0.0339  max mem: 4009\n",
      "Epoch: [9]  [ 9100/12099]  eta: 0:06:07  lr: 0.000030  loss: 0.0837 (0.1141)  loss_classifier: 0.0283 (0.0378)  loss_box_reg: 0.0521 (0.0632)  loss_objectness: 0.0019 (0.0090)  loss_rpn_box_reg: 0.0016 (0.0041)  time: 0.1196  data: 0.0336  max mem: 4009\n",
      "Epoch: [9]  [ 9200/12099]  eta: 0:05:55  lr: 0.000030  loss: 0.1299 (0.1141)  loss_classifier: 0.0457 (0.0378)  loss_box_reg: 0.0664 (0.0632)  loss_objectness: 0.0048 (0.0089)  loss_rpn_box_reg: 0.0014 (0.0041)  time: 0.1203  data: 0.0323  max mem: 4009\n",
      "Epoch: [9]  [ 9300/12099]  eta: 0:05:43  lr: 0.000030  loss: 0.1112 (0.1142)  loss_classifier: 0.0282 (0.0379)  loss_box_reg: 0.0684 (0.0632)  loss_objectness: 0.0032 (0.0090)  loss_rpn_box_reg: 0.0009 (0.0041)  time: 0.1188  data: 0.0325  max mem: 4009\n",
      "Epoch: [9]  [ 9400/12099]  eta: 0:05:30  lr: 0.000030  loss: 0.0810 (0.1141)  loss_classifier: 0.0238 (0.0379)  loss_box_reg: 0.0494 (0.0632)  loss_objectness: 0.0023 (0.0089)  loss_rpn_box_reg: 0.0008 (0.0041)  time: 0.1197  data: 0.0332  max mem: 4009\n",
      "Epoch: [9]  [ 9500/12099]  eta: 0:05:18  lr: 0.000030  loss: 0.0928 (0.1142)  loss_classifier: 0.0349 (0.0379)  loss_box_reg: 0.0531 (0.0632)  loss_objectness: 0.0034 (0.0089)  loss_rpn_box_reg: 0.0010 (0.0041)  time: 0.1188  data: 0.0322  max mem: 4009\n",
      "Epoch: [9]  [ 9600/12099]  eta: 0:05:06  lr: 0.000030  loss: 0.0937 (0.1143)  loss_classifier: 0.0271 (0.0379)  loss_box_reg: 0.0563 (0.0633)  loss_objectness: 0.0038 (0.0089)  loss_rpn_box_reg: 0.0019 (0.0041)  time: 0.1178  data: 0.0315  max mem: 4009\n",
      "Epoch: [9]  [ 9700/12099]  eta: 0:04:53  lr: 0.000030  loss: 0.1213 (0.1144)  loss_classifier: 0.0389 (0.0380)  loss_box_reg: 0.0769 (0.0634)  loss_objectness: 0.0043 (0.0089)  loss_rpn_box_reg: 0.0013 (0.0041)  time: 0.1264  data: 0.0353  max mem: 4009\n",
      "Epoch: [9]  [ 9800/12099]  eta: 0:04:41  lr: 0.000030  loss: 0.1093 (0.1146)  loss_classifier: 0.0314 (0.0380)  loss_box_reg: 0.0604 (0.0634)  loss_objectness: 0.0032 (0.0090)  loss_rpn_box_reg: 0.0016 (0.0041)  time: 0.1199  data: 0.0328  max mem: 4009\n",
      "Epoch: [9]  [ 9900/12099]  eta: 0:04:29  lr: 0.000030  loss: 0.0891 (0.1146)  loss_classifier: 0.0267 (0.0381)  loss_box_reg: 0.0578 (0.0635)  loss_objectness: 0.0035 (0.0090)  loss_rpn_box_reg: 0.0010 (0.0041)  time: 0.1229  data: 0.0347  max mem: 4009\n",
      "Epoch: [9]  [10000/12099]  eta: 0:04:17  lr: 0.000030  loss: 0.0693 (0.1146)  loss_classifier: 0.0194 (0.0381)  loss_box_reg: 0.0521 (0.0634)  loss_objectness: 0.0047 (0.0090)  loss_rpn_box_reg: 0.0010 (0.0041)  time: 0.1224  data: 0.0336  max mem: 4009\n",
      "Epoch: [9]  [10100/12099]  eta: 0:04:04  lr: 0.000030  loss: 0.0922 (0.1146)  loss_classifier: 0.0253 (0.0381)  loss_box_reg: 0.0546 (0.0634)  loss_objectness: 0.0029 (0.0090)  loss_rpn_box_reg: 0.0011 (0.0041)  time: 0.1179  data: 0.0314  max mem: 4009\n",
      "Epoch: [9]  [10200/12099]  eta: 0:03:52  lr: 0.000030  loss: 0.1023 (0.1145)  loss_classifier: 0.0306 (0.0380)  loss_box_reg: 0.0542 (0.0634)  loss_objectness: 0.0051 (0.0090)  loss_rpn_box_reg: 0.0021 (0.0041)  time: 0.1170  data: 0.0310  max mem: 4009\n",
      "Epoch: [9]  [10300/12099]  eta: 0:03:40  lr: 0.000030  loss: 0.1283 (0.1145)  loss_classifier: 0.0381 (0.0380)  loss_box_reg: 0.0666 (0.0634)  loss_objectness: 0.0066 (0.0090)  loss_rpn_box_reg: 0.0019 (0.0041)  time: 0.1181  data: 0.0319  max mem: 4009\n",
      "Epoch: [9]  [10400/12099]  eta: 0:03:27  lr: 0.000030  loss: 0.1093 (0.1145)  loss_classifier: 0.0275 (0.0380)  loss_box_reg: 0.0542 (0.0634)  loss_objectness: 0.0045 (0.0090)  loss_rpn_box_reg: 0.0011 (0.0041)  time: 0.1245  data: 0.0350  max mem: 4009\n",
      "Epoch: [9]  [10500/12099]  eta: 0:03:15  lr: 0.000030  loss: 0.1097 (0.1146)  loss_classifier: 0.0374 (0.0380)  loss_box_reg: 0.0558 (0.0635)  loss_objectness: 0.0051 (0.0090)  loss_rpn_box_reg: 0.0015 (0.0041)  time: 0.1198  data: 0.0332  max mem: 4009\n",
      "Epoch: [9]  [10600/12099]  eta: 0:03:03  lr: 0.000030  loss: 0.0988 (0.1146)  loss_classifier: 0.0267 (0.0380)  loss_box_reg: 0.0573 (0.0634)  loss_objectness: 0.0046 (0.0090)  loss_rpn_box_reg: 0.0012 (0.0041)  time: 0.1208  data: 0.0336  max mem: 4009\n",
      "Epoch: [9]  [10700/12099]  eta: 0:02:51  lr: 0.000030  loss: 0.0793 (0.1145)  loss_classifier: 0.0278 (0.0380)  loss_box_reg: 0.0392 (0.0634)  loss_objectness: 0.0047 (0.0090)  loss_rpn_box_reg: 0.0014 (0.0041)  time: 0.1192  data: 0.0324  max mem: 4009\n",
      "Epoch: [9]  [10800/12099]  eta: 0:02:38  lr: 0.000030  loss: 0.0990 (0.1144)  loss_classifier: 0.0302 (0.0380)  loss_box_reg: 0.0632 (0.0634)  loss_objectness: 0.0019 (0.0090)  loss_rpn_box_reg: 0.0010 (0.0041)  time: 0.1205  data: 0.0332  max mem: 4009\n",
      "Epoch: [9]  [10900/12099]  eta: 0:02:26  lr: 0.000030  loss: 0.0658 (0.1144)  loss_classifier: 0.0197 (0.0380)  loss_box_reg: 0.0440 (0.0634)  loss_objectness: 0.0031 (0.0090)  loss_rpn_box_reg: 0.0012 (0.0041)  time: 0.1210  data: 0.0334  max mem: 4009\n",
      "Epoch: [9]  [11000/12099]  eta: 0:02:14  lr: 0.000030  loss: 0.0941 (0.1143)  loss_classifier: 0.0317 (0.0380)  loss_box_reg: 0.0551 (0.0633)  loss_objectness: 0.0026 (0.0089)  loss_rpn_box_reg: 0.0012 (0.0041)  time: 0.1187  data: 0.0314  max mem: 4009\n",
      "Epoch: [9]  [11100/12099]  eta: 0:02:02  lr: 0.000030  loss: 0.1435 (0.1144)  loss_classifier: 0.0462 (0.0380)  loss_box_reg: 0.0772 (0.0634)  loss_objectness: 0.0065 (0.0090)  loss_rpn_box_reg: 0.0033 (0.0041)  time: 0.1198  data: 0.0330  max mem: 4009\n",
      "Epoch: [9]  [11200/12099]  eta: 0:01:49  lr: 0.000030  loss: 0.0886 (0.1143)  loss_classifier: 0.0291 (0.0380)  loss_box_reg: 0.0454 (0.0633)  loss_objectness: 0.0020 (0.0089)  loss_rpn_box_reg: 0.0015 (0.0041)  time: 0.1186  data: 0.0324  max mem: 4009\n",
      "Epoch: [9]  [11300/12099]  eta: 0:01:37  lr: 0.000030  loss: 0.0893 (0.1143)  loss_classifier: 0.0256 (0.0380)  loss_box_reg: 0.0500 (0.0634)  loss_objectness: 0.0054 (0.0089)  loss_rpn_box_reg: 0.0014 (0.0041)  time: 0.1178  data: 0.0320  max mem: 4009\n",
      "Epoch: [9]  [11400/12099]  eta: 0:01:25  lr: 0.000030  loss: 0.0981 (0.1143)  loss_classifier: 0.0303 (0.0379)  loss_box_reg: 0.0616 (0.0634)  loss_objectness: 0.0030 (0.0089)  loss_rpn_box_reg: 0.0012 (0.0041)  time: 0.1185  data: 0.0323  max mem: 4009\n",
      "Epoch: [9]  [11500/12099]  eta: 0:01:13  lr: 0.000030  loss: 0.0795 (0.1144)  loss_classifier: 0.0221 (0.0380)  loss_box_reg: 0.0510 (0.0634)  loss_objectness: 0.0039 (0.0089)  loss_rpn_box_reg: 0.0010 (0.0041)  time: 0.1175  data: 0.0315  max mem: 4009\n",
      "Epoch: [9]  [11600/12099]  eta: 0:01:00  lr: 0.000030  loss: 0.1277 (0.1145)  loss_classifier: 0.0323 (0.0380)  loss_box_reg: 0.0687 (0.0634)  loss_objectness: 0.0069 (0.0089)  loss_rpn_box_reg: 0.0016 (0.0041)  time: 0.1184  data: 0.0325  max mem: 4009\n",
      "Epoch: [9]  [11700/12099]  eta: 0:00:48  lr: 0.000030  loss: 0.0889 (0.1145)  loss_classifier: 0.0272 (0.0380)  loss_box_reg: 0.0620 (0.0634)  loss_objectness: 0.0050 (0.0089)  loss_rpn_box_reg: 0.0013 (0.0041)  time: 0.1202  data: 0.0337  max mem: 4009\n",
      "Epoch: [9]  [11800/12099]  eta: 0:00:36  lr: 0.000030  loss: 0.0923 (0.1144)  loss_classifier: 0.0254 (0.0380)  loss_box_reg: 0.0406 (0.0634)  loss_objectness: 0.0030 (0.0089)  loss_rpn_box_reg: 0.0012 (0.0041)  time: 0.1215  data: 0.0334  max mem: 4009\n",
      "Epoch: [9]  [11900/12099]  eta: 0:00:24  lr: 0.000030  loss: 0.0917 (0.1145)  loss_classifier: 0.0316 (0.0380)  loss_box_reg: 0.0547 (0.0634)  loss_objectness: 0.0030 (0.0089)  loss_rpn_box_reg: 0.0014 (0.0041)  time: 0.1211  data: 0.0347  max mem: 4009\n",
      "Epoch: [9]  [12000/12099]  eta: 0:00:12  lr: 0.000030  loss: 0.1199 (0.1145)  loss_classifier: 0.0325 (0.0380)  loss_box_reg: 0.0576 (0.0634)  loss_objectness: 0.0058 (0.0090)  loss_rpn_box_reg: 0.0014 (0.0041)  time: 0.1174  data: 0.0319  max mem: 4009\n",
      "Epoch: [9]  [12098/12099]  eta: 0:00:00  lr: 0.000030  loss: 0.0840 (0.1144)  loss_classifier: 0.0217 (0.0379)  loss_box_reg: 0.0601 (0.0634)  loss_objectness: 0.0022 (0.0090)  loss_rpn_box_reg: 0.0017 (0.0041)  time: 0.1198  data: 0.0332  max mem: 4009\n",
      "Epoch: [9] Total time: 0:24:36 (0.1220 s / it)\n",
      "Epoch: [10]  [    0/12099]  eta: 0:22:10  lr: 0.000003  loss: 0.0622 (0.0622)  loss_classifier: 0.0107 (0.0107)  loss_box_reg: 0.0117 (0.0117)  loss_objectness: 0.0023 (0.0023)  loss_rpn_box_reg: 0.0376 (0.0376)  time: 0.1100  data: 0.0275  max mem: 4009\n"
     ]
    },
    {
     "name": "stdout",
     "output_type": "stream",
     "text": [
      "Epoch: [10]  [  100/12099]  eta: 0:24:08  lr: 0.000003  loss: 0.0669 (0.0974)  loss_classifier: 0.0255 (0.0311)  loss_box_reg: 0.0465 (0.0552)  loss_objectness: 0.0028 (0.0063)  loss_rpn_box_reg: 0.0008 (0.0049)  time: 0.1222  data: 0.0342  max mem: 4009\n",
      "Epoch: [10]  [  200/12099]  eta: 0:24:15  lr: 0.000003  loss: 0.1262 (0.1117)  loss_classifier: 0.0403 (0.0374)  loss_box_reg: 0.0709 (0.0596)  loss_objectness: 0.0098 (0.0101)  loss_rpn_box_reg: 0.0021 (0.0046)  time: 0.1259  data: 0.0360  max mem: 4009\n",
      "Epoch: [10]  [  300/12099]  eta: 0:24:20  lr: 0.000003  loss: 0.1066 (0.1101)  loss_classifier: 0.0345 (0.0369)  loss_box_reg: 0.0470 (0.0594)  loss_objectness: 0.0033 (0.0091)  loss_rpn_box_reg: 0.0013 (0.0047)  time: 0.1216  data: 0.0334  max mem: 4009\n",
      "Epoch: [10]  [  400/12099]  eta: 0:24:12  lr: 0.000003  loss: 0.0896 (0.1114)  loss_classifier: 0.0234 (0.0373)  loss_box_reg: 0.0607 (0.0610)  loss_objectness: 0.0042 (0.0089)  loss_rpn_box_reg: 0.0014 (0.0042)  time: 0.1326  data: 0.0391  max mem: 4009\n",
      "Epoch: [10]  [  500/12099]  eta: 0:24:00  lr: 0.000003  loss: 0.0931 (0.1101)  loss_classifier: 0.0275 (0.0363)  loss_box_reg: 0.0542 (0.0608)  loss_objectness: 0.0032 (0.0086)  loss_rpn_box_reg: 0.0009 (0.0044)  time: 0.1218  data: 0.0332  max mem: 4009\n",
      "Epoch: [10]  [  600/12099]  eta: 0:24:10  lr: 0.000003  loss: 0.0952 (0.1113)  loss_classifier: 0.0271 (0.0366)  loss_box_reg: 0.0657 (0.0615)  loss_objectness: 0.0055 (0.0087)  loss_rpn_box_reg: 0.0024 (0.0044)  time: 0.1407  data: 0.0399  max mem: 4009\n",
      "Epoch: [10]  [  700/12099]  eta: 0:24:07  lr: 0.000003  loss: 0.0797 (0.1113)  loss_classifier: 0.0313 (0.0364)  loss_box_reg: 0.0403 (0.0611)  loss_objectness: 0.0047 (0.0094)  loss_rpn_box_reg: 0.0011 (0.0044)  time: 0.1309  data: 0.0363  max mem: 4009\n",
      "Epoch: [10]  [  800/12099]  eta: 0:23:55  lr: 0.000003  loss: 0.0869 (0.1109)  loss_classifier: 0.0248 (0.0364)  loss_box_reg: 0.0507 (0.0613)  loss_objectness: 0.0023 (0.0091)  loss_rpn_box_reg: 0.0010 (0.0042)  time: 0.1282  data: 0.0357  max mem: 4009\n",
      "Epoch: [10]  [  900/12099]  eta: 0:23:44  lr: 0.000003  loss: 0.0959 (0.1108)  loss_classifier: 0.0300 (0.0364)  loss_box_reg: 0.0564 (0.0615)  loss_objectness: 0.0040 (0.0088)  loss_rpn_box_reg: 0.0014 (0.0041)  time: 0.1290  data: 0.0366  max mem: 4009\n",
      "Epoch: [10]  [ 1000/12099]  eta: 0:23:34  lr: 0.000003  loss: 0.0792 (0.1122)  loss_classifier: 0.0238 (0.0371)  loss_box_reg: 0.0475 (0.0618)  loss_objectness: 0.0044 (0.0090)  loss_rpn_box_reg: 0.0017 (0.0042)  time: 0.1302  data: 0.0360  max mem: 4009\n",
      "Epoch: [10]  [ 1100/12099]  eta: 0:23:23  lr: 0.000003  loss: 0.1201 (0.1140)  loss_classifier: 0.0296 (0.0375)  loss_box_reg: 0.0634 (0.0629)  loss_objectness: 0.0041 (0.0092)  loss_rpn_box_reg: 0.0021 (0.0043)  time: 0.1278  data: 0.0357  max mem: 4009\n",
      "Epoch: [10]  [ 1200/12099]  eta: 0:23:11  lr: 0.000003  loss: 0.1129 (0.1143)  loss_classifier: 0.0284 (0.0377)  loss_box_reg: 0.0670 (0.0629)  loss_objectness: 0.0027 (0.0094)  loss_rpn_box_reg: 0.0016 (0.0044)  time: 0.1318  data: 0.0394  max mem: 4009\n",
      "Epoch: [10]  [ 1300/12099]  eta: 0:22:59  lr: 0.000003  loss: 0.1025 (0.1138)  loss_classifier: 0.0268 (0.0376)  loss_box_reg: 0.0547 (0.0628)  loss_objectness: 0.0029 (0.0091)  loss_rpn_box_reg: 0.0019 (0.0044)  time: 0.1270  data: 0.0350  max mem: 4009\n",
      "Epoch: [10]  [ 1400/12099]  eta: 0:22:48  lr: 0.000003  loss: 0.1093 (0.1135)  loss_classifier: 0.0267 (0.0374)  loss_box_reg: 0.0684 (0.0627)  loss_objectness: 0.0038 (0.0089)  loss_rpn_box_reg: 0.0020 (0.0044)  time: 0.1277  data: 0.0368  max mem: 4009\n",
      "Epoch: [10]  [ 1500/12099]  eta: 0:22:44  lr: 0.000003  loss: 0.0968 (0.1133)  loss_classifier: 0.0242 (0.0373)  loss_box_reg: 0.0554 (0.0629)  loss_objectness: 0.0038 (0.0088)  loss_rpn_box_reg: 0.0012 (0.0043)  time: 0.1284  data: 0.0364  max mem: 4009\n",
      "Epoch: [10]  [ 1600/12099]  eta: 0:22:31  lr: 0.000003  loss: 0.0725 (0.1124)  loss_classifier: 0.0250 (0.0370)  loss_box_reg: 0.0411 (0.0624)  loss_objectness: 0.0029 (0.0087)  loss_rpn_box_reg: 0.0010 (0.0043)  time: 0.1246  data: 0.0352  max mem: 4009\n",
      "Epoch: [10]  [ 1700/12099]  eta: 0:22:17  lr: 0.000003  loss: 0.0960 (0.1134)  loss_classifier: 0.0241 (0.0373)  loss_box_reg: 0.0581 (0.0628)  loss_objectness: 0.0032 (0.0090)  loss_rpn_box_reg: 0.0011 (0.0043)  time: 0.1245  data: 0.0348  max mem: 4009\n",
      "Epoch: [10]  [ 1800/12099]  eta: 0:22:10  lr: 0.000003  loss: 0.0839 (0.1136)  loss_classifier: 0.0273 (0.0374)  loss_box_reg: 0.0469 (0.0630)  loss_objectness: 0.0018 (0.0090)  loss_rpn_box_reg: 0.0009 (0.0042)  time: 0.1325  data: 0.0380  max mem: 4009\n",
      "Epoch: [10]  [ 1900/12099]  eta: 0:22:00  lr: 0.000003  loss: 0.0718 (0.1133)  loss_classifier: 0.0199 (0.0373)  loss_box_reg: 0.0443 (0.0629)  loss_objectness: 0.0025 (0.0090)  loss_rpn_box_reg: 0.0013 (0.0042)  time: 0.1452  data: 0.0414  max mem: 4009\n",
      "Epoch: [10]  [ 2000/12099]  eta: 0:21:50  lr: 0.000003  loss: 0.1051 (0.1135)  loss_classifier: 0.0340 (0.0374)  loss_box_reg: 0.0686 (0.0630)  loss_objectness: 0.0044 (0.0090)  loss_rpn_box_reg: 0.0012 (0.0041)  time: 0.1348  data: 0.0386  max mem: 4009\n",
      "Epoch: [10]  [ 2100/12099]  eta: 0:21:40  lr: 0.000003  loss: 0.0795 (0.1133)  loss_classifier: 0.0233 (0.0373)  loss_box_reg: 0.0452 (0.0628)  loss_objectness: 0.0053 (0.0090)  loss_rpn_box_reg: 0.0026 (0.0042)  time: 0.1310  data: 0.0389  max mem: 4009\n",
      "Epoch: [10]  [ 2200/12099]  eta: 0:21:25  lr: 0.000003  loss: 0.0829 (0.1136)  loss_classifier: 0.0310 (0.0374)  loss_box_reg: 0.0509 (0.0629)  loss_objectness: 0.0047 (0.0089)  loss_rpn_box_reg: 0.0011 (0.0042)  time: 0.1238  data: 0.0343  max mem: 4009\n",
      "Epoch: [10]  [ 2300/12099]  eta: 0:21:11  lr: 0.000003  loss: 0.0824 (0.1133)  loss_classifier: 0.0273 (0.0374)  loss_box_reg: 0.0450 (0.0628)  loss_objectness: 0.0023 (0.0090)  loss_rpn_box_reg: 0.0020 (0.0042)  time: 0.1324  data: 0.0373  max mem: 4009\n",
      "Epoch: [10]  [ 2400/12099]  eta: 0:21:01  lr: 0.000003  loss: 0.1009 (0.1131)  loss_classifier: 0.0320 (0.0373)  loss_box_reg: 0.0575 (0.0627)  loss_objectness: 0.0052 (0.0089)  loss_rpn_box_reg: 0.0017 (0.0042)  time: 0.1376  data: 0.0404  max mem: 4009\n",
      "Epoch: [10]  [ 2500/12099]  eta: 0:20:47  lr: 0.000003  loss: 0.1119 (0.1132)  loss_classifier: 0.0300 (0.0372)  loss_box_reg: 0.0647 (0.0629)  loss_objectness: 0.0028 (0.0088)  loss_rpn_box_reg: 0.0018 (0.0042)  time: 0.1238  data: 0.0347  max mem: 4009\n",
      "Epoch: [10]  [ 2600/12099]  eta: 0:20:40  lr: 0.000003  loss: 0.0890 (0.1129)  loss_classifier: 0.0281 (0.0371)  loss_box_reg: 0.0536 (0.0629)  loss_objectness: 0.0043 (0.0087)  loss_rpn_box_reg: 0.0019 (0.0042)  time: 0.1440  data: 0.0433  max mem: 4009\n",
      "Epoch: [10]  [ 2700/12099]  eta: 0:20:25  lr: 0.000003  loss: 0.1127 (0.1128)  loss_classifier: 0.0436 (0.0371)  loss_box_reg: 0.0620 (0.0628)  loss_objectness: 0.0042 (0.0087)  loss_rpn_box_reg: 0.0022 (0.0043)  time: 0.1228  data: 0.0339  max mem: 4009\n",
      "Epoch: [10]  [ 2800/12099]  eta: 0:20:12  lr: 0.000003  loss: 0.1134 (0.1129)  loss_classifier: 0.0288 (0.0371)  loss_box_reg: 0.0553 (0.0629)  loss_objectness: 0.0028 (0.0087)  loss_rpn_box_reg: 0.0021 (0.0042)  time: 0.1281  data: 0.0380  max mem: 4009\n",
      "Epoch: [10]  [ 2900/12099]  eta: 0:19:57  lr: 0.000003  loss: 0.1219 (0.1130)  loss_classifier: 0.0340 (0.0372)  loss_box_reg: 0.0703 (0.0630)  loss_objectness: 0.0043 (0.0086)  loss_rpn_box_reg: 0.0027 (0.0042)  time: 0.1246  data: 0.0352  max mem: 4009\n",
      "Epoch: [10]  [ 3000/12099]  eta: 0:19:42  lr: 0.000003  loss: 0.0931 (0.1127)  loss_classifier: 0.0297 (0.0371)  loss_box_reg: 0.0475 (0.0628)  loss_objectness: 0.0018 (0.0086)  loss_rpn_box_reg: 0.0020 (0.0042)  time: 0.1211  data: 0.0329  max mem: 4009\n",
      "Epoch: [10]  [ 3100/12099]  eta: 0:19:27  lr: 0.000003  loss: 0.1054 (0.1124)  loss_classifier: 0.0289 (0.0369)  loss_box_reg: 0.0525 (0.0627)  loss_objectness: 0.0030 (0.0085)  loss_rpn_box_reg: 0.0016 (0.0042)  time: 0.1220  data: 0.0340  max mem: 4009\n",
      "Epoch: [10]  [ 3200/12099]  eta: 0:19:13  lr: 0.000003  loss: 0.1079 (0.1126)  loss_classifier: 0.0343 (0.0371)  loss_box_reg: 0.0661 (0.0628)  loss_objectness: 0.0048 (0.0085)  loss_rpn_box_reg: 0.0016 (0.0042)  time: 0.1356  data: 0.0380  max mem: 4009\n",
      "Epoch: [10]  [ 3300/12099]  eta: 0:19:02  lr: 0.000003  loss: 0.0841 (0.1128)  loss_classifier: 0.0222 (0.0371)  loss_box_reg: 0.0508 (0.0629)  loss_objectness: 0.0023 (0.0086)  loss_rpn_box_reg: 0.0011 (0.0042)  time: 0.1269  data: 0.0357  max mem: 4009\n"
     ]
    },
    {
     "name": "stdout",
     "output_type": "stream",
     "text": [
      "Epoch: [10]  [ 3400/12099]  eta: 0:18:47  lr: 0.000003  loss: 0.1202 (0.1130)  loss_classifier: 0.0369 (0.0372)  loss_box_reg: 0.0677 (0.0630)  loss_objectness: 0.0035 (0.0086)  loss_rpn_box_reg: 0.0013 (0.0042)  time: 0.1169  data: 0.0323  max mem: 4009\n",
      "Epoch: [10]  [ 3500/12099]  eta: 0:18:32  lr: 0.000003  loss: 0.0922 (0.1129)  loss_classifier: 0.0274 (0.0371)  loss_box_reg: 0.0636 (0.0629)  loss_objectness: 0.0024 (0.0086)  loss_rpn_box_reg: 0.0011 (0.0042)  time: 0.1217  data: 0.0339  max mem: 4009\n",
      "Epoch: [10]  [ 3600/12099]  eta: 0:18:18  lr: 0.000003  loss: 0.1016 (0.1131)  loss_classifier: 0.0386 (0.0372)  loss_box_reg: 0.0531 (0.0630)  loss_objectness: 0.0073 (0.0087)  loss_rpn_box_reg: 0.0016 (0.0042)  time: 0.1215  data: 0.0346  max mem: 4009\n",
      "Epoch: [10]  [ 3700/12099]  eta: 0:18:03  lr: 0.000003  loss: 0.1179 (0.1133)  loss_classifier: 0.0268 (0.0373)  loss_box_reg: 0.0523 (0.0631)  loss_objectness: 0.0048 (0.0087)  loss_rpn_box_reg: 0.0024 (0.0042)  time: 0.1211  data: 0.0332  max mem: 4009\n",
      "Epoch: [10]  [ 3800/12099]  eta: 0:17:48  lr: 0.000003  loss: 0.0702 (0.1134)  loss_classifier: 0.0185 (0.0373)  loss_box_reg: 0.0423 (0.0631)  loss_objectness: 0.0022 (0.0087)  loss_rpn_box_reg: 0.0015 (0.0042)  time: 0.1202  data: 0.0324  max mem: 4009\n",
      "Epoch: [10]  [ 3900/12099]  eta: 0:17:34  lr: 0.000003  loss: 0.1084 (0.1133)  loss_classifier: 0.0303 (0.0373)  loss_box_reg: 0.0547 (0.0630)  loss_objectness: 0.0022 (0.0088)  loss_rpn_box_reg: 0.0010 (0.0042)  time: 0.1229  data: 0.0340  max mem: 4009\n",
      "Epoch: [10]  [ 4000/12099]  eta: 0:17:19  lr: 0.000003  loss: 0.0869 (0.1134)  loss_classifier: 0.0191 (0.0373)  loss_box_reg: 0.0531 (0.0631)  loss_objectness: 0.0031 (0.0088)  loss_rpn_box_reg: 0.0014 (0.0043)  time: 0.1213  data: 0.0328  max mem: 4009\n",
      "Epoch: [10]  [ 4100/12099]  eta: 0:17:05  lr: 0.000003  loss: 0.1095 (0.1134)  loss_classifier: 0.0322 (0.0373)  loss_box_reg: 0.0615 (0.0631)  loss_objectness: 0.0030 (0.0088)  loss_rpn_box_reg: 0.0011 (0.0042)  time: 0.1223  data: 0.0343  max mem: 4009\n",
      "Epoch: [10]  [ 4200/12099]  eta: 0:16:51  lr: 0.000003  loss: 0.1088 (0.1135)  loss_classifier: 0.0315 (0.0373)  loss_box_reg: 0.0709 (0.0633)  loss_objectness: 0.0030 (0.0088)  loss_rpn_box_reg: 0.0013 (0.0042)  time: 0.1192  data: 0.0320  max mem: 4009\n",
      "Epoch: [10]  [ 4300/12099]  eta: 0:16:38  lr: 0.000003  loss: 0.0937 (0.1134)  loss_classifier: 0.0263 (0.0373)  loss_box_reg: 0.0555 (0.0632)  loss_objectness: 0.0038 (0.0088)  loss_rpn_box_reg: 0.0012 (0.0041)  time: 0.1340  data: 0.0433  max mem: 4009\n",
      "Epoch: [10]  [ 4400/12099]  eta: 0:16:27  lr: 0.000003  loss: 0.0892 (0.1132)  loss_classifier: 0.0306 (0.0372)  loss_box_reg: 0.0523 (0.0630)  loss_objectness: 0.0039 (0.0088)  loss_rpn_box_reg: 0.0011 (0.0041)  time: 0.1716  data: 0.0572  max mem: 4009\n",
      "Epoch: [10]  [ 4500/12099]  eta: 0:16:15  lr: 0.000003  loss: 0.1141 (0.1132)  loss_classifier: 0.0361 (0.0373)  loss_box_reg: 0.0624 (0.0630)  loss_objectness: 0.0080 (0.0088)  loss_rpn_box_reg: 0.0019 (0.0041)  time: 0.1400  data: 0.0437  max mem: 4009\n",
      "Epoch: [10]  [ 4600/12099]  eta: 0:16:01  lr: 0.000003  loss: 0.0774 (0.1131)  loss_classifier: 0.0234 (0.0372)  loss_box_reg: 0.0503 (0.0629)  loss_objectness: 0.0026 (0.0088)  loss_rpn_box_reg: 0.0011 (0.0042)  time: 0.1216  data: 0.0337  max mem: 4009\n",
      "Epoch: [10]  [ 4700/12099]  eta: 0:15:47  lr: 0.000003  loss: 0.0785 (0.1131)  loss_classifier: 0.0220 (0.0372)  loss_box_reg: 0.0408 (0.0629)  loss_objectness: 0.0086 (0.0088)  loss_rpn_box_reg: 0.0013 (0.0041)  time: 0.1220  data: 0.0339  max mem: 4009\n",
      "Epoch: [10]  [ 4800/12099]  eta: 0:15:33  lr: 0.000003  loss: 0.0927 (0.1131)  loss_classifier: 0.0281 (0.0372)  loss_box_reg: 0.0571 (0.0630)  loss_objectness: 0.0022 (0.0088)  loss_rpn_box_reg: 0.0009 (0.0041)  time: 0.1222  data: 0.0337  max mem: 4009\n",
      "Epoch: [10]  [ 4900/12099]  eta: 0:15:20  lr: 0.000003  loss: 0.1156 (0.1135)  loss_classifier: 0.0403 (0.0374)  loss_box_reg: 0.0639 (0.0631)  loss_objectness: 0.0075 (0.0088)  loss_rpn_box_reg: 0.0015 (0.0041)  time: 0.1198  data: 0.0329  max mem: 4009\n",
      "Epoch: [10]  [ 5000/12099]  eta: 0:15:06  lr: 0.000003  loss: 0.0799 (0.1134)  loss_classifier: 0.0217 (0.0374)  loss_box_reg: 0.0481 (0.0631)  loss_objectness: 0.0038 (0.0088)  loss_rpn_box_reg: 0.0015 (0.0041)  time: 0.1204  data: 0.0328  max mem: 4009\n",
      "Epoch: [10]  [ 5100/12099]  eta: 0:14:52  lr: 0.000003  loss: 0.0904 (0.1134)  loss_classifier: 0.0226 (0.0374)  loss_box_reg: 0.0507 (0.0631)  loss_objectness: 0.0052 (0.0088)  loss_rpn_box_reg: 0.0013 (0.0041)  time: 0.1210  data: 0.0331  max mem: 4009\n",
      "Epoch: [10]  [ 5200/12099]  eta: 0:14:39  lr: 0.000003  loss: 0.0850 (0.1135)  loss_classifier: 0.0231 (0.0374)  loss_box_reg: 0.0342 (0.0630)  loss_objectness: 0.0031 (0.0089)  loss_rpn_box_reg: 0.0013 (0.0042)  time: 0.1209  data: 0.0334  max mem: 4009\n",
      "Epoch: [10]  [ 5300/12099]  eta: 0:14:26  lr: 0.000003  loss: 0.1211 (0.1135)  loss_classifier: 0.0339 (0.0374)  loss_box_reg: 0.0599 (0.0630)  loss_objectness: 0.0078 (0.0089)  loss_rpn_box_reg: 0.0012 (0.0042)  time: 0.1203  data: 0.0331  max mem: 4009\n",
      "Epoch: [10]  [ 5400/12099]  eta: 0:14:12  lr: 0.000003  loss: 0.1064 (0.1135)  loss_classifier: 0.0283 (0.0375)  loss_box_reg: 0.0557 (0.0629)  loss_objectness: 0.0054 (0.0089)  loss_rpn_box_reg: 0.0019 (0.0042)  time: 0.1229  data: 0.0346  max mem: 4009\n",
      "Epoch: [10]  [ 5500/12099]  eta: 0:13:59  lr: 0.000003  loss: 0.0767 (0.1135)  loss_classifier: 0.0201 (0.0375)  loss_box_reg: 0.0502 (0.0630)  loss_objectness: 0.0034 (0.0089)  loss_rpn_box_reg: 0.0010 (0.0042)  time: 0.1249  data: 0.0353  max mem: 4009\n",
      "Epoch: [10]  [ 5600/12099]  eta: 0:13:46  lr: 0.000003  loss: 0.0880 (0.1135)  loss_classifier: 0.0257 (0.0375)  loss_box_reg: 0.0403 (0.0629)  loss_objectness: 0.0034 (0.0089)  loss_rpn_box_reg: 0.0021 (0.0042)  time: 0.1219  data: 0.0335  max mem: 4009\n",
      "Epoch: [10]  [ 5700/12099]  eta: 0:13:32  lr: 0.000003  loss: 0.0760 (0.1133)  loss_classifier: 0.0250 (0.0374)  loss_box_reg: 0.0444 (0.0628)  loss_objectness: 0.0038 (0.0089)  loss_rpn_box_reg: 0.0012 (0.0042)  time: 0.1205  data: 0.0334  max mem: 4009\n",
      "Epoch: [10]  [ 5800/12099]  eta: 0:13:19  lr: 0.000003  loss: 0.1089 (0.1134)  loss_classifier: 0.0273 (0.0375)  loss_box_reg: 0.0678 (0.0627)  loss_objectness: 0.0069 (0.0089)  loss_rpn_box_reg: 0.0022 (0.0042)  time: 0.1194  data: 0.0325  max mem: 4009\n",
      "Epoch: [10]  [ 5900/12099]  eta: 0:13:06  lr: 0.000003  loss: 0.0942 (0.1132)  loss_classifier: 0.0241 (0.0374)  loss_box_reg: 0.0405 (0.0626)  loss_objectness: 0.0062 (0.0089)  loss_rpn_box_reg: 0.0016 (0.0042)  time: 0.1216  data: 0.0337  max mem: 4009\n",
      "Epoch: [10]  [ 6000/12099]  eta: 0:12:53  lr: 0.000003  loss: 0.1355 (0.1133)  loss_classifier: 0.0432 (0.0375)  loss_box_reg: 0.0801 (0.0627)  loss_objectness: 0.0063 (0.0089)  loss_rpn_box_reg: 0.0026 (0.0042)  time: 0.1218  data: 0.0337  max mem: 4009\n",
      "Epoch: [10]  [ 6100/12099]  eta: 0:12:39  lr: 0.000003  loss: 0.0862 (0.1134)  loss_classifier: 0.0294 (0.0376)  loss_box_reg: 0.0442 (0.0627)  loss_objectness: 0.0037 (0.0090)  loss_rpn_box_reg: 0.0011 (0.0042)  time: 0.1237  data: 0.0340  max mem: 4009\n",
      "Epoch: [10]  [ 6200/12099]  eta: 0:12:26  lr: 0.000003  loss: 0.1019 (0.1135)  loss_classifier: 0.0296 (0.0375)  loss_box_reg: 0.0668 (0.0627)  loss_objectness: 0.0035 (0.0090)  loss_rpn_box_reg: 0.0018 (0.0042)  time: 0.1208  data: 0.0338  max mem: 4009\n",
      "Epoch: [10]  [ 6300/12099]  eta: 0:12:13  lr: 0.000003  loss: 0.0827 (0.1135)  loss_classifier: 0.0234 (0.0376)  loss_box_reg: 0.0549 (0.0627)  loss_objectness: 0.0031 (0.0089)  loss_rpn_box_reg: 0.0015 (0.0042)  time: 0.1211  data: 0.0335  max mem: 4009\n",
      "Epoch: [10]  [ 6400/12099]  eta: 0:12:00  lr: 0.000003  loss: 0.1289 (0.1135)  loss_classifier: 0.0393 (0.0376)  loss_box_reg: 0.0662 (0.0627)  loss_objectness: 0.0055 (0.0090)  loss_rpn_box_reg: 0.0019 (0.0042)  time: 0.1220  data: 0.0339  max mem: 4009\n",
      "Epoch: [10]  [ 6500/12099]  eta: 0:11:47  lr: 0.000003  loss: 0.0902 (0.1136)  loss_classifier: 0.0299 (0.0376)  loss_box_reg: 0.0588 (0.0628)  loss_objectness: 0.0044 (0.0090)  loss_rpn_box_reg: 0.0015 (0.0042)  time: 0.1334  data: 0.0389  max mem: 4009\n",
      "Epoch: [10]  [ 6600/12099]  eta: 0:11:34  lr: 0.000003  loss: 0.1068 (0.1137)  loss_classifier: 0.0370 (0.0377)  loss_box_reg: 0.0589 (0.0628)  loss_objectness: 0.0039 (0.0090)  loss_rpn_box_reg: 0.0015 (0.0042)  time: 0.1233  data: 0.0360  max mem: 4009\n"
     ]
    },
    {
     "name": "stdout",
     "output_type": "stream",
     "text": [
      "Epoch: [10]  [ 6700/12099]  eta: 0:11:21  lr: 0.000003  loss: 0.0777 (0.1137)  loss_classifier: 0.0278 (0.0377)  loss_box_reg: 0.0484 (0.0629)  loss_objectness: 0.0029 (0.0090)  loss_rpn_box_reg: 0.0018 (0.0042)  time: 0.1183  data: 0.0334  max mem: 4009\n",
      "Epoch: [10]  [ 6800/12099]  eta: 0:11:08  lr: 0.000003  loss: 0.1651 (0.1139)  loss_classifier: 0.0458 (0.0378)  loss_box_reg: 0.0619 (0.0630)  loss_objectness: 0.0032 (0.0090)  loss_rpn_box_reg: 0.0018 (0.0042)  time: 0.1178  data: 0.0328  max mem: 4009\n",
      "Epoch: [10]  [ 6900/12099]  eta: 0:10:55  lr: 0.000003  loss: 0.1029 (0.1140)  loss_classifier: 0.0219 (0.0378)  loss_box_reg: 0.0403 (0.0630)  loss_objectness: 0.0051 (0.0090)  loss_rpn_box_reg: 0.0012 (0.0042)  time: 0.1174  data: 0.0323  max mem: 4009\n",
      "Epoch: [10]  [ 7000/12099]  eta: 0:10:42  lr: 0.000003  loss: 0.0987 (0.1141)  loss_classifier: 0.0325 (0.0378)  loss_box_reg: 0.0603 (0.0630)  loss_objectness: 0.0047 (0.0091)  loss_rpn_box_reg: 0.0027 (0.0042)  time: 0.1203  data: 0.0342  max mem: 4009\n",
      "Epoch: [10]  [ 7100/12099]  eta: 0:10:29  lr: 0.000003  loss: 0.1132 (0.1142)  loss_classifier: 0.0366 (0.0378)  loss_box_reg: 0.0702 (0.0631)  loss_objectness: 0.0035 (0.0090)  loss_rpn_box_reg: 0.0019 (0.0042)  time: 0.1191  data: 0.0341  max mem: 4009\n",
      "Epoch: [10]  [ 7200/12099]  eta: 0:10:16  lr: 0.000003  loss: 0.0974 (0.1142)  loss_classifier: 0.0334 (0.0379)  loss_box_reg: 0.0501 (0.0631)  loss_objectness: 0.0026 (0.0090)  loss_rpn_box_reg: 0.0011 (0.0042)  time: 0.1216  data: 0.0346  max mem: 4009\n",
      "Epoch: [10]  [ 7300/12099]  eta: 0:10:03  lr: 0.000003  loss: 0.0964 (0.1142)  loss_classifier: 0.0305 (0.0379)  loss_box_reg: 0.0525 (0.0632)  loss_objectness: 0.0055 (0.0090)  loss_rpn_box_reg: 0.0022 (0.0042)  time: 0.1207  data: 0.0333  max mem: 4009\n",
      "Epoch: [10]  [ 7400/12099]  eta: 0:09:50  lr: 0.000003  loss: 0.1323 (0.1144)  loss_classifier: 0.0411 (0.0379)  loss_box_reg: 0.0770 (0.0632)  loss_objectness: 0.0029 (0.0090)  loss_rpn_box_reg: 0.0026 (0.0042)  time: 0.1216  data: 0.0340  max mem: 4009\n",
      "Epoch: [10]  [ 7500/12099]  eta: 0:09:37  lr: 0.000003  loss: 0.1058 (0.1143)  loss_classifier: 0.0311 (0.0379)  loss_box_reg: 0.0543 (0.0632)  loss_objectness: 0.0046 (0.0090)  loss_rpn_box_reg: 0.0015 (0.0042)  time: 0.1178  data: 0.0328  max mem: 4009\n",
      "Epoch: [10]  [ 7600/12099]  eta: 0:09:24  lr: 0.000003  loss: 0.1258 (0.1145)  loss_classifier: 0.0308 (0.0380)  loss_box_reg: 0.0766 (0.0633)  loss_objectness: 0.0058 (0.0090)  loss_rpn_box_reg: 0.0010 (0.0042)  time: 0.1312  data: 0.0406  max mem: 4009\n",
      "Epoch: [10]  [ 7700/12099]  eta: 0:09:12  lr: 0.000003  loss: 0.1097 (0.1144)  loss_classifier: 0.0327 (0.0380)  loss_box_reg: 0.0581 (0.0633)  loss_objectness: 0.0046 (0.0090)  loss_rpn_box_reg: 0.0010 (0.0042)  time: 0.1205  data: 0.0342  max mem: 4009\n",
      "Epoch: [10]  [ 7800/12099]  eta: 0:08:59  lr: 0.000003  loss: 0.0862 (0.1145)  loss_classifier: 0.0249 (0.0380)  loss_box_reg: 0.0449 (0.0633)  loss_objectness: 0.0034 (0.0090)  loss_rpn_box_reg: 0.0015 (0.0042)  time: 0.1243  data: 0.0352  max mem: 4009\n",
      "Epoch: [10]  [ 7900/12099]  eta: 0:08:46  lr: 0.000003  loss: 0.1040 (0.1145)  loss_classifier: 0.0327 (0.0380)  loss_box_reg: 0.0682 (0.0634)  loss_objectness: 0.0035 (0.0089)  loss_rpn_box_reg: 0.0012 (0.0042)  time: 0.1214  data: 0.0364  max mem: 4009\n",
      "Epoch: [10]  [ 8000/12099]  eta: 0:08:33  lr: 0.000003  loss: 0.0821 (0.1144)  loss_classifier: 0.0270 (0.0379)  loss_box_reg: 0.0506 (0.0634)  loss_objectness: 0.0027 (0.0089)  loss_rpn_box_reg: 0.0010 (0.0042)  time: 0.1257  data: 0.0365  max mem: 4009\n",
      "Epoch: [10]  [ 8100/12099]  eta: 0:08:21  lr: 0.000003  loss: 0.1034 (0.1144)  loss_classifier: 0.0274 (0.0379)  loss_box_reg: 0.0644 (0.0634)  loss_objectness: 0.0031 (0.0089)  loss_rpn_box_reg: 0.0014 (0.0042)  time: 0.1215  data: 0.0345  max mem: 4009\n",
      "Epoch: [10]  [ 8200/12099]  eta: 0:08:08  lr: 0.000003  loss: 0.0856 (0.1144)  loss_classifier: 0.0244 (0.0379)  loss_box_reg: 0.0570 (0.0634)  loss_objectness: 0.0022 (0.0089)  loss_rpn_box_reg: 0.0013 (0.0042)  time: 0.1243  data: 0.0353  max mem: 4009\n",
      "Epoch: [10]  [ 8300/12099]  eta: 0:07:55  lr: 0.000003  loss: 0.0825 (0.1142)  loss_classifier: 0.0255 (0.0379)  loss_box_reg: 0.0435 (0.0633)  loss_objectness: 0.0037 (0.0089)  loss_rpn_box_reg: 0.0009 (0.0041)  time: 0.1239  data: 0.0364  max mem: 4009\n",
      "Epoch: [10]  [ 8400/12099]  eta: 0:07:42  lr: 0.000003  loss: 0.1175 (0.1142)  loss_classifier: 0.0391 (0.0378)  loss_box_reg: 0.0587 (0.0633)  loss_objectness: 0.0034 (0.0089)  loss_rpn_box_reg: 0.0015 (0.0041)  time: 0.1191  data: 0.0337  max mem: 4009\n",
      "Epoch: [10]  [ 8500/12099]  eta: 0:07:30  lr: 0.000003  loss: 0.0770 (0.1141)  loss_classifier: 0.0219 (0.0378)  loss_box_reg: 0.0410 (0.0633)  loss_objectness: 0.0038 (0.0089)  loss_rpn_box_reg: 0.0012 (0.0041)  time: 0.1185  data: 0.0332  max mem: 4009\n",
      "Epoch: [10]  [ 8600/12099]  eta: 0:07:17  lr: 0.000003  loss: 0.1149 (0.1141)  loss_classifier: 0.0345 (0.0378)  loss_box_reg: 0.0613 (0.0633)  loss_objectness: 0.0026 (0.0089)  loss_rpn_box_reg: 0.0024 (0.0041)  time: 0.1173  data: 0.0325  max mem: 4009\n",
      "Epoch: [10]  [ 8700/12099]  eta: 0:07:04  lr: 0.000003  loss: 0.0951 (0.1142)  loss_classifier: 0.0239 (0.0379)  loss_box_reg: 0.0460 (0.0633)  loss_objectness: 0.0037 (0.0089)  loss_rpn_box_reg: 0.0014 (0.0041)  time: 0.1239  data: 0.0360  max mem: 4009\n",
      "Epoch: [10]  [ 8800/12099]  eta: 0:06:52  lr: 0.000003  loss: 0.1197 (0.1143)  loss_classifier: 0.0272 (0.0379)  loss_box_reg: 0.0745 (0.0633)  loss_objectness: 0.0087 (0.0089)  loss_rpn_box_reg: 0.0031 (0.0041)  time: 0.1201  data: 0.0336  max mem: 4009\n",
      "Epoch: [10]  [ 8900/12099]  eta: 0:06:39  lr: 0.000003  loss: 0.1129 (0.1143)  loss_classifier: 0.0369 (0.0379)  loss_box_reg: 0.0553 (0.0633)  loss_objectness: 0.0040 (0.0090)  loss_rpn_box_reg: 0.0008 (0.0041)  time: 0.1254  data: 0.0360  max mem: 4009\n",
      "Epoch: [10]  [ 9000/12099]  eta: 0:06:27  lr: 0.000003  loss: 0.1043 (0.1143)  loss_classifier: 0.0271 (0.0379)  loss_box_reg: 0.0487 (0.0633)  loss_objectness: 0.0060 (0.0090)  loss_rpn_box_reg: 0.0012 (0.0041)  time: 0.1210  data: 0.0337  max mem: 4009\n",
      "Epoch: [10]  [ 9100/12099]  eta: 0:06:14  lr: 0.000003  loss: 0.0972 (0.1143)  loss_classifier: 0.0279 (0.0379)  loss_box_reg: 0.0561 (0.0633)  loss_objectness: 0.0031 (0.0090)  loss_rpn_box_reg: 0.0011 (0.0041)  time: 0.1203  data: 0.0328  max mem: 4009\n",
      "Epoch: [10]  [ 9200/12099]  eta: 0:06:02  lr: 0.000003  loss: 0.1157 (0.1143)  loss_classifier: 0.0300 (0.0379)  loss_box_reg: 0.0853 (0.0633)  loss_objectness: 0.0025 (0.0090)  loss_rpn_box_reg: 0.0015 (0.0041)  time: 0.1309  data: 0.0391  max mem: 4009\n",
      "Epoch: [10]  [ 9300/12099]  eta: 0:05:49  lr: 0.000003  loss: 0.1026 (0.1144)  loss_classifier: 0.0481 (0.0379)  loss_box_reg: 0.0491 (0.0633)  loss_objectness: 0.0035 (0.0090)  loss_rpn_box_reg: 0.0012 (0.0041)  time: 0.1224  data: 0.0347  max mem: 4009\n",
      "Epoch: [10]  [ 9400/12099]  eta: 0:05:37  lr: 0.000003  loss: 0.1571 (0.1143)  loss_classifier: 0.0320 (0.0379)  loss_box_reg: 0.0634 (0.0633)  loss_objectness: 0.0065 (0.0090)  loss_rpn_box_reg: 0.0017 (0.0041)  time: 0.1186  data: 0.0330  max mem: 4009\n",
      "Epoch: [10]  [ 9500/12099]  eta: 0:05:24  lr: 0.000003  loss: 0.1325 (0.1143)  loss_classifier: 0.0440 (0.0379)  loss_box_reg: 0.0733 (0.0633)  loss_objectness: 0.0043 (0.0090)  loss_rpn_box_reg: 0.0023 (0.0042)  time: 0.1246  data: 0.0359  max mem: 4009\n",
      "Epoch: [10]  [ 9600/12099]  eta: 0:05:11  lr: 0.000003  loss: 0.0824 (0.1142)  loss_classifier: 0.0232 (0.0379)  loss_box_reg: 0.0485 (0.0632)  loss_objectness: 0.0042 (0.0090)  loss_rpn_box_reg: 0.0017 (0.0042)  time: 0.1208  data: 0.0331  max mem: 4009\n",
      "Epoch: [10]  [ 9700/12099]  eta: 0:04:59  lr: 0.000003  loss: 0.1034 (0.1143)  loss_classifier: 0.0221 (0.0379)  loss_box_reg: 0.0676 (0.0633)  loss_objectness: 0.0038 (0.0090)  loss_rpn_box_reg: 0.0012 (0.0042)  time: 0.1207  data: 0.0331  max mem: 4009\n",
      "Epoch: [10]  [ 9800/12099]  eta: 0:04:46  lr: 0.000003  loss: 0.1085 (0.1144)  loss_classifier: 0.0317 (0.0379)  loss_box_reg: 0.0657 (0.0633)  loss_objectness: 0.0052 (0.0090)  loss_rpn_box_reg: 0.0012 (0.0042)  time: 0.1211  data: 0.0329  max mem: 4009\n",
      "Epoch: [10]  [ 9900/12099]  eta: 0:04:34  lr: 0.000003  loss: 0.0891 (0.1143)  loss_classifier: 0.0351 (0.0379)  loss_box_reg: 0.0530 (0.0633)  loss_objectness: 0.0029 (0.0090)  loss_rpn_box_reg: 0.0012 (0.0042)  time: 0.1218  data: 0.0342  max mem: 4009\n"
     ]
    },
    {
     "name": "stdout",
     "output_type": "stream",
     "text": [
      "Epoch: [10]  [10000/12099]  eta: 0:04:21  lr: 0.000003  loss: 0.1113 (0.1144)  loss_classifier: 0.0274 (0.0379)  loss_box_reg: 0.0500 (0.0633)  loss_objectness: 0.0044 (0.0090)  loss_rpn_box_reg: 0.0019 (0.0042)  time: 0.1205  data: 0.0331  max mem: 4009\n",
      "Epoch: [10]  [10100/12099]  eta: 0:04:09  lr: 0.000003  loss: 0.0782 (0.1143)  loss_classifier: 0.0266 (0.0379)  loss_box_reg: 0.0527 (0.0633)  loss_objectness: 0.0023 (0.0090)  loss_rpn_box_reg: 0.0008 (0.0041)  time: 0.1220  data: 0.0344  max mem: 4009\n",
      "Epoch: [10]  [10200/12099]  eta: 0:03:56  lr: 0.000003  loss: 0.0853 (0.1144)  loss_classifier: 0.0251 (0.0379)  loss_box_reg: 0.0412 (0.0633)  loss_objectness: 0.0031 (0.0090)  loss_rpn_box_reg: 0.0014 (0.0042)  time: 0.1216  data: 0.0354  max mem: 4009\n",
      "Epoch: [10]  [10300/12099]  eta: 0:03:44  lr: 0.000003  loss: 0.1286 (0.1144)  loss_classifier: 0.0345 (0.0379)  loss_box_reg: 0.0715 (0.0634)  loss_objectness: 0.0036 (0.0090)  loss_rpn_box_reg: 0.0014 (0.0041)  time: 0.1265  data: 0.0359  max mem: 4009\n",
      "Epoch: [10]  [10400/12099]  eta: 0:03:31  lr: 0.000003  loss: 0.0921 (0.1144)  loss_classifier: 0.0271 (0.0379)  loss_box_reg: 0.0531 (0.0634)  loss_objectness: 0.0059 (0.0090)  loss_rpn_box_reg: 0.0019 (0.0041)  time: 0.1205  data: 0.0335  max mem: 4009\n",
      "Epoch: [10]  [10500/12099]  eta: 0:03:19  lr: 0.000003  loss: 0.0830 (0.1143)  loss_classifier: 0.0264 (0.0379)  loss_box_reg: 0.0527 (0.0634)  loss_objectness: 0.0024 (0.0089)  loss_rpn_box_reg: 0.0015 (0.0041)  time: 0.1204  data: 0.0342  max mem: 4009\n",
      "Epoch: [10]  [10600/12099]  eta: 0:03:06  lr: 0.000003  loss: 0.0812 (0.1143)  loss_classifier: 0.0213 (0.0379)  loss_box_reg: 0.0468 (0.0633)  loss_objectness: 0.0063 (0.0089)  loss_rpn_box_reg: 0.0021 (0.0042)  time: 0.1201  data: 0.0342  max mem: 4009\n",
      "Epoch: [10]  [10700/12099]  eta: 0:02:54  lr: 0.000003  loss: 0.1108 (0.1143)  loss_classifier: 0.0279 (0.0379)  loss_box_reg: 0.0622 (0.0633)  loss_objectness: 0.0035 (0.0089)  loss_rpn_box_reg: 0.0015 (0.0042)  time: 0.1179  data: 0.0333  max mem: 4009\n",
      "Epoch: [10]  [10800/12099]  eta: 0:02:41  lr: 0.000003  loss: 0.0806 (0.1143)  loss_classifier: 0.0295 (0.0379)  loss_box_reg: 0.0477 (0.0633)  loss_objectness: 0.0050 (0.0089)  loss_rpn_box_reg: 0.0014 (0.0042)  time: 0.1266  data: 0.0361  max mem: 4009\n",
      "Epoch: [10]  [10900/12099]  eta: 0:02:29  lr: 0.000003  loss: 0.0811 (0.1143)  loss_classifier: 0.0205 (0.0379)  loss_box_reg: 0.0436 (0.0634)  loss_objectness: 0.0030 (0.0089)  loss_rpn_box_reg: 0.0009 (0.0042)  time: 0.1408  data: 0.0420  max mem: 4009\n",
      "Epoch: [10]  [11000/12099]  eta: 0:02:17  lr: 0.000003  loss: 0.0825 (0.1142)  loss_classifier: 0.0226 (0.0378)  loss_box_reg: 0.0440 (0.0633)  loss_objectness: 0.0032 (0.0089)  loss_rpn_box_reg: 0.0019 (0.0041)  time: 0.1268  data: 0.0349  max mem: 4009\n",
      "Epoch: [10]  [11100/12099]  eta: 0:02:04  lr: 0.000003  loss: 0.0946 (0.1142)  loss_classifier: 0.0272 (0.0378)  loss_box_reg: 0.0623 (0.0634)  loss_objectness: 0.0037 (0.0089)  loss_rpn_box_reg: 0.0018 (0.0041)  time: 0.1284  data: 0.0373  max mem: 4009\n",
      "Epoch: [10]  [11200/12099]  eta: 0:01:52  lr: 0.000003  loss: 0.0903 (0.1142)  loss_classifier: 0.0213 (0.0378)  loss_box_reg: 0.0456 (0.0633)  loss_objectness: 0.0037 (0.0089)  loss_rpn_box_reg: 0.0017 (0.0041)  time: 0.1300  data: 0.0357  max mem: 4009\n",
      "Epoch: [10]  [11300/12099]  eta: 0:01:39  lr: 0.000003  loss: 0.0968 (0.1143)  loss_classifier: 0.0241 (0.0379)  loss_box_reg: 0.0468 (0.0634)  loss_objectness: 0.0045 (0.0089)  loss_rpn_box_reg: 0.0014 (0.0041)  time: 0.1308  data: 0.0369  max mem: 4009\n",
      "Epoch: [10]  [11400/12099]  eta: 0:01:27  lr: 0.000003  loss: 0.0998 (0.1142)  loss_classifier: 0.0291 (0.0378)  loss_box_reg: 0.0600 (0.0633)  loss_objectness: 0.0039 (0.0089)  loss_rpn_box_reg: 0.0021 (0.0041)  time: 0.1244  data: 0.0340  max mem: 4009\n",
      "Epoch: [10]  [11500/12099]  eta: 0:01:14  lr: 0.000003  loss: 0.1061 (0.1142)  loss_classifier: 0.0344 (0.0378)  loss_box_reg: 0.0575 (0.0633)  loss_objectness: 0.0034 (0.0090)  loss_rpn_box_reg: 0.0011 (0.0042)  time: 0.1258  data: 0.0349  max mem: 4009\n",
      "Epoch: [10]  [11600/12099]  eta: 0:01:02  lr: 0.000003  loss: 0.1104 (0.1143)  loss_classifier: 0.0323 (0.0378)  loss_box_reg: 0.0610 (0.0633)  loss_objectness: 0.0040 (0.0090)  loss_rpn_box_reg: 0.0016 (0.0042)  time: 0.1301  data: 0.0372  max mem: 4009\n",
      "Epoch: [10]  [11700/12099]  eta: 0:00:49  lr: 0.000003  loss: 0.0931 (0.1143)  loss_classifier: 0.0314 (0.0378)  loss_box_reg: 0.0575 (0.0633)  loss_objectness: 0.0044 (0.0090)  loss_rpn_box_reg: 0.0016 (0.0041)  time: 0.1477  data: 0.0415  max mem: 4009\n",
      "Epoch: [10]  [11800/12099]  eta: 0:00:37  lr: 0.000003  loss: 0.0856 (0.1142)  loss_classifier: 0.0242 (0.0378)  loss_box_reg: 0.0505 (0.0633)  loss_objectness: 0.0032 (0.0090)  loss_rpn_box_reg: 0.0009 (0.0041)  time: 0.1196  data: 0.0335  max mem: 4009\n",
      "Epoch: [10]  [11900/12099]  eta: 0:00:24  lr: 0.000003  loss: 0.1114 (0.1142)  loss_classifier: 0.0282 (0.0378)  loss_box_reg: 0.0675 (0.0633)  loss_objectness: 0.0040 (0.0089)  loss_rpn_box_reg: 0.0010 (0.0041)  time: 0.1233  data: 0.0347  max mem: 4009\n",
      "Epoch: [10]  [12000/12099]  eta: 0:00:12  lr: 0.000003  loss: 0.1323 (0.1143)  loss_classifier: 0.0407 (0.0379)  loss_box_reg: 0.0534 (0.0634)  loss_objectness: 0.0035 (0.0089)  loss_rpn_box_reg: 0.0015 (0.0041)  time: 0.1195  data: 0.0335  max mem: 4009\n",
      "Epoch: [10]  [12098/12099]  eta: 0:00:00  lr: 0.000003  loss: 0.1232 (0.1143)  loss_classifier: 0.0400 (0.0379)  loss_box_reg: 0.0641 (0.0634)  loss_objectness: 0.0044 (0.0090)  loss_rpn_box_reg: 0.0022 (0.0041)  time: 0.1193  data: 0.0325  max mem: 4009\n",
      "Epoch: [10] Total time: 0:25:12 (0.1250 s / it)\n",
      "Epoch: [11]  [    0/12099]  eta: 0:23:53  lr: 0.000003  loss: 0.0947 (0.0947)  loss_classifier: 0.0318 (0.0318)  loss_box_reg: 0.0555 (0.0555)  loss_objectness: 0.0022 (0.0022)  loss_rpn_box_reg: 0.0053 (0.0053)  time: 0.1185  data: 0.0295  max mem: 4009\n",
      "Epoch: [11]  [  100/12099]  eta: 0:25:13  lr: 0.000003  loss: 0.1172 (0.1219)  loss_classifier: 0.0352 (0.0397)  loss_box_reg: 0.0609 (0.0670)  loss_objectness: 0.0065 (0.0105)  loss_rpn_box_reg: 0.0021 (0.0048)  time: 0.1245  data: 0.0344  max mem: 4009\n",
      "Epoch: [11]  [  200/12099]  eta: 0:24:56  lr: 0.000003  loss: 0.0944 (0.1214)  loss_classifier: 0.0244 (0.0403)  loss_box_reg: 0.0556 (0.0668)  loss_objectness: 0.0030 (0.0105)  loss_rpn_box_reg: 0.0014 (0.0037)  time: 0.1211  data: 0.0329  max mem: 4009\n",
      "Epoch: [11]  [  300/12099]  eta: 0:24:38  lr: 0.000003  loss: 0.1275 (0.1201)  loss_classifier: 0.0333 (0.0400)  loss_box_reg: 0.0669 (0.0667)  loss_objectness: 0.0034 (0.0092)  loss_rpn_box_reg: 0.0021 (0.0042)  time: 0.1245  data: 0.0377  max mem: 4009\n",
      "Epoch: [11]  [  400/12099]  eta: 0:24:33  lr: 0.000003  loss: 0.1101 (0.1182)  loss_classifier: 0.0260 (0.0389)  loss_box_reg: 0.0586 (0.0665)  loss_objectness: 0.0059 (0.0091)  loss_rpn_box_reg: 0.0010 (0.0038)  time: 0.1291  data: 0.0382  max mem: 4009\n",
      "Epoch: [11]  [  500/12099]  eta: 0:24:21  lr: 0.000003  loss: 0.1030 (0.1184)  loss_classifier: 0.0371 (0.0390)  loss_box_reg: 0.0620 (0.0669)  loss_objectness: 0.0052 (0.0087)  loss_rpn_box_reg: 0.0024 (0.0038)  time: 0.1292  data: 0.0386  max mem: 4009\n",
      "Epoch: [11]  [  600/12099]  eta: 0:24:26  lr: 0.000003  loss: 0.0913 (0.1174)  loss_classifier: 0.0269 (0.0386)  loss_box_reg: 0.0517 (0.0664)  loss_objectness: 0.0037 (0.0085)  loss_rpn_box_reg: 0.0019 (0.0039)  time: 0.1270  data: 0.0363  max mem: 4009\n",
      "Epoch: [11]  [  700/12099]  eta: 0:24:15  lr: 0.000003  loss: 0.0992 (0.1164)  loss_classifier: 0.0223 (0.0382)  loss_box_reg: 0.0458 (0.0660)  loss_objectness: 0.0030 (0.0084)  loss_rpn_box_reg: 0.0010 (0.0038)  time: 0.1227  data: 0.0335  max mem: 4009\n",
      "Epoch: [11]  [  800/12099]  eta: 0:24:00  lr: 0.000003  loss: 0.0720 (0.1153)  loss_classifier: 0.0226 (0.0379)  loss_box_reg: 0.0451 (0.0654)  loss_objectness: 0.0023 (0.0083)  loss_rpn_box_reg: 0.0019 (0.0038)  time: 0.1280  data: 0.0385  max mem: 4009\n",
      "Epoch: [11]  [  900/12099]  eta: 0:23:40  lr: 0.000003  loss: 0.1276 (0.1160)  loss_classifier: 0.0398 (0.0382)  loss_box_reg: 0.0553 (0.0654)  loss_objectness: 0.0081 (0.0086)  loss_rpn_box_reg: 0.0017 (0.0038)  time: 0.1223  data: 0.0346  max mem: 4009\n"
     ]
    },
    {
     "name": "stdout",
     "output_type": "stream",
     "text": [
      "Epoch: [11]  [ 1000/12099]  eta: 0:23:34  lr: 0.000003  loss: 0.1071 (0.1159)  loss_classifier: 0.0297 (0.0382)  loss_box_reg: 0.0665 (0.0650)  loss_objectness: 0.0033 (0.0087)  loss_rpn_box_reg: 0.0020 (0.0039)  time: 0.1413  data: 0.0423  max mem: 4009\n",
      "Epoch: [11]  [ 1100/12099]  eta: 0:23:23  lr: 0.000003  loss: 0.0651 (0.1155)  loss_classifier: 0.0221 (0.0380)  loss_box_reg: 0.0374 (0.0647)  loss_objectness: 0.0024 (0.0089)  loss_rpn_box_reg: 0.0027 (0.0039)  time: 0.1248  data: 0.0352  max mem: 4009\n",
      "Epoch: [11]  [ 1200/12099]  eta: 0:23:10  lr: 0.000003  loss: 0.0944 (0.1161)  loss_classifier: 0.0273 (0.0383)  loss_box_reg: 0.0426 (0.0646)  loss_objectness: 0.0060 (0.0094)  loss_rpn_box_reg: 0.0012 (0.0039)  time: 0.1228  data: 0.0344  max mem: 4009\n",
      "Epoch: [11]  [ 1300/12099]  eta: 0:23:02  lr: 0.000003  loss: 0.0841 (0.1164)  loss_classifier: 0.0299 (0.0385)  loss_box_reg: 0.0538 (0.0646)  loss_objectness: 0.0036 (0.0094)  loss_rpn_box_reg: 0.0020 (0.0039)  time: 0.1479  data: 0.0488  max mem: 4009\n",
      "Epoch: [11]  [ 1400/12099]  eta: 0:22:47  lr: 0.000003  loss: 0.0728 (0.1162)  loss_classifier: 0.0246 (0.0385)  loss_box_reg: 0.0447 (0.0645)  loss_objectness: 0.0025 (0.0094)  loss_rpn_box_reg: 0.0011 (0.0039)  time: 0.1227  data: 0.0354  max mem: 4009\n",
      "Epoch: [11]  [ 1500/12099]  eta: 0:22:36  lr: 0.000003  loss: 0.1255 (0.1157)  loss_classifier: 0.0338 (0.0384)  loss_box_reg: 0.0614 (0.0642)  loss_objectness: 0.0061 (0.0093)  loss_rpn_box_reg: 0.0017 (0.0039)  time: 0.1396  data: 0.0415  max mem: 4009\n",
      "Epoch: [11]  [ 1600/12099]  eta: 0:22:32  lr: 0.000003  loss: 0.0890 (0.1149)  loss_classifier: 0.0302 (0.0380)  loss_box_reg: 0.0587 (0.0637)  loss_objectness: 0.0024 (0.0091)  loss_rpn_box_reg: 0.0013 (0.0040)  time: 0.1407  data: 0.0432  max mem: 4009\n",
      "Epoch: [11]  [ 1700/12099]  eta: 0:22:16  lr: 0.000003  loss: 0.0760 (0.1153)  loss_classifier: 0.0218 (0.0381)  loss_box_reg: 0.0451 (0.0639)  loss_objectness: 0.0027 (0.0093)  loss_rpn_box_reg: 0.0015 (0.0039)  time: 0.1214  data: 0.0336  max mem: 4009\n",
      "Epoch: [11]  [ 1800/12099]  eta: 0:22:02  lr: 0.000003  loss: 0.0900 (0.1151)  loss_classifier: 0.0341 (0.0382)  loss_box_reg: 0.0541 (0.0636)  loss_objectness: 0.0032 (0.0093)  loss_rpn_box_reg: 0.0018 (0.0040)  time: 0.1207  data: 0.0343  max mem: 4009\n",
      "Epoch: [11]  [ 1900/12099]  eta: 0:21:48  lr: 0.000003  loss: 0.0924 (0.1149)  loss_classifier: 0.0326 (0.0381)  loss_box_reg: 0.0582 (0.0636)  loss_objectness: 0.0055 (0.0092)  loss_rpn_box_reg: 0.0019 (0.0039)  time: 0.1224  data: 0.0350  max mem: 4009\n",
      "Epoch: [11]  [ 2000/12099]  eta: 0:21:35  lr: 0.000003  loss: 0.0770 (0.1144)  loss_classifier: 0.0259 (0.0380)  loss_box_reg: 0.0358 (0.0634)  loss_objectness: 0.0054 (0.0091)  loss_rpn_box_reg: 0.0012 (0.0040)  time: 0.1320  data: 0.0393  max mem: 4009\n",
      "Epoch: [11]  [ 2100/12099]  eta: 0:21:21  lr: 0.000003  loss: 0.0922 (0.1146)  loss_classifier: 0.0287 (0.0380)  loss_box_reg: 0.0666 (0.0636)  loss_objectness: 0.0035 (0.0090)  loss_rpn_box_reg: 0.0011 (0.0040)  time: 0.1239  data: 0.0360  max mem: 4009\n",
      "Epoch: [11]  [ 2200/12099]  eta: 0:21:05  lr: 0.000003  loss: 0.0945 (0.1144)  loss_classifier: 0.0266 (0.0380)  loss_box_reg: 0.0477 (0.0635)  loss_objectness: 0.0033 (0.0090)  loss_rpn_box_reg: 0.0011 (0.0040)  time: 0.1222  data: 0.0337  max mem: 4009\n",
      "Epoch: [11]  [ 2300/12099]  eta: 0:20:51  lr: 0.000003  loss: 0.0905 (0.1144)  loss_classifier: 0.0221 (0.0379)  loss_box_reg: 0.0602 (0.0635)  loss_objectness: 0.0039 (0.0090)  loss_rpn_box_reg: 0.0025 (0.0040)  time: 0.1315  data: 0.0405  max mem: 4009\n",
      "Epoch: [11]  [ 2400/12099]  eta: 0:20:40  lr: 0.000003  loss: 0.1033 (0.1145)  loss_classifier: 0.0316 (0.0379)  loss_box_reg: 0.0548 (0.0635)  loss_objectness: 0.0050 (0.0090)  loss_rpn_box_reg: 0.0020 (0.0041)  time: 0.1596  data: 0.0491  max mem: 4009\n",
      "Epoch: [11]  [ 2500/12099]  eta: 0:20:35  lr: 0.000003  loss: 0.1152 (0.1143)  loss_classifier: 0.0314 (0.0377)  loss_box_reg: 0.0642 (0.0635)  loss_objectness: 0.0027 (0.0090)  loss_rpn_box_reg: 0.0015 (0.0041)  time: 0.1470  data: 0.0425  max mem: 4009\n",
      "Epoch: [11]  [ 2600/12099]  eta: 0:20:27  lr: 0.000003  loss: 0.0966 (0.1142)  loss_classifier: 0.0278 (0.0378)  loss_box_reg: 0.0575 (0.0634)  loss_objectness: 0.0025 (0.0089)  loss_rpn_box_reg: 0.0015 (0.0040)  time: 0.1449  data: 0.0434  max mem: 4009\n",
      "Epoch: [11]  [ 2700/12099]  eta: 0:20:18  lr: 0.000003  loss: 0.0792 (0.1138)  loss_classifier: 0.0274 (0.0376)  loss_box_reg: 0.0464 (0.0633)  loss_objectness: 0.0028 (0.0089)  loss_rpn_box_reg: 0.0008 (0.0040)  time: 0.1396  data: 0.0404  max mem: 4009\n",
      "Epoch: [11]  [ 2800/12099]  eta: 0:20:09  lr: 0.000003  loss: 0.1201 (0.1142)  loss_classifier: 0.0362 (0.0377)  loss_box_reg: 0.0716 (0.0635)  loss_objectness: 0.0037 (0.0089)  loss_rpn_box_reg: 0.0012 (0.0040)  time: 0.1426  data: 0.0422  max mem: 4009\n",
      "Epoch: [11]  [ 2900/12099]  eta: 0:19:59  lr: 0.000003  loss: 0.0628 (0.1140)  loss_classifier: 0.0219 (0.0377)  loss_box_reg: 0.0427 (0.0634)  loss_objectness: 0.0037 (0.0089)  loss_rpn_box_reg: 0.0005 (0.0040)  time: 0.1384  data: 0.0398  max mem: 4009\n",
      "Epoch: [11]  [ 3000/12099]  eta: 0:19:49  lr: 0.000003  loss: 0.1119 (0.1149)  loss_classifier: 0.0316 (0.0379)  loss_box_reg: 0.0604 (0.0637)  loss_objectness: 0.0019 (0.0093)  loss_rpn_box_reg: 0.0018 (0.0040)  time: 0.1409  data: 0.0407  max mem: 4009\n",
      "Epoch: [11]  [ 3100/12099]  eta: 0:19:39  lr: 0.000003  loss: 0.0885 (0.1147)  loss_classifier: 0.0210 (0.0378)  loss_box_reg: 0.0435 (0.0634)  loss_objectness: 0.0050 (0.0093)  loss_rpn_box_reg: 0.0027 (0.0041)  time: 0.1409  data: 0.0419  max mem: 4009\n",
      "Epoch: [11]  [ 3200/12099]  eta: 0:19:29  lr: 0.000003  loss: 0.1074 (0.1146)  loss_classifier: 0.0312 (0.0377)  loss_box_reg: 0.0601 (0.0634)  loss_objectness: 0.0049 (0.0093)  loss_rpn_box_reg: 0.0011 (0.0041)  time: 0.1449  data: 0.0447  max mem: 4009\n",
      "Epoch: [11]  [ 3300/12099]  eta: 0:19:18  lr: 0.000003  loss: 0.0832 (0.1144)  loss_classifier: 0.0239 (0.0376)  loss_box_reg: 0.0390 (0.0633)  loss_objectness: 0.0052 (0.0093)  loss_rpn_box_reg: 0.0017 (0.0041)  time: 0.1398  data: 0.0405  max mem: 4009\n",
      "Epoch: [11]  [ 3400/12099]  eta: 0:19:07  lr: 0.000003  loss: 0.1017 (0.1144)  loss_classifier: 0.0254 (0.0376)  loss_box_reg: 0.0662 (0.0634)  loss_objectness: 0.0033 (0.0093)  loss_rpn_box_reg: 0.0021 (0.0041)  time: 0.1453  data: 0.0437  max mem: 4009\n",
      "Epoch: [11]  [ 3500/12099]  eta: 0:18:57  lr: 0.000003  loss: 0.1055 (0.1142)  loss_classifier: 0.0238 (0.0376)  loss_box_reg: 0.0587 (0.0632)  loss_objectness: 0.0033 (0.0093)  loss_rpn_box_reg: 0.0023 (0.0041)  time: 0.1519  data: 0.0464  max mem: 4009\n",
      "Epoch: [11]  [ 3600/12099]  eta: 0:18:47  lr: 0.000003  loss: 0.0878 (0.1140)  loss_classifier: 0.0274 (0.0375)  loss_box_reg: 0.0453 (0.0631)  loss_objectness: 0.0049 (0.0093)  loss_rpn_box_reg: 0.0021 (0.0041)  time: 0.1535  data: 0.0463  max mem: 4009\n",
      "Epoch: [11]  [ 3700/12099]  eta: 0:18:37  lr: 0.000003  loss: 0.1550 (0.1141)  loss_classifier: 0.0433 (0.0376)  loss_box_reg: 0.0640 (0.0631)  loss_objectness: 0.0044 (0.0093)  loss_rpn_box_reg: 0.0022 (0.0041)  time: 0.1566  data: 0.0486  max mem: 4009\n",
      "Epoch: [11]  [ 3800/12099]  eta: 0:18:24  lr: 0.000003  loss: 0.0990 (0.1140)  loss_classifier: 0.0271 (0.0376)  loss_box_reg: 0.0433 (0.0630)  loss_objectness: 0.0038 (0.0093)  loss_rpn_box_reg: 0.0017 (0.0041)  time: 0.1336  data: 0.0404  max mem: 4009\n",
      "Epoch: [11]  [ 3900/12099]  eta: 0:18:09  lr: 0.000003  loss: 0.1265 (0.1142)  loss_classifier: 0.0357 (0.0376)  loss_box_reg: 0.0632 (0.0631)  loss_objectness: 0.0031 (0.0093)  loss_rpn_box_reg: 0.0014 (0.0041)  time: 0.1295  data: 0.0389  max mem: 4009\n",
      "Epoch: [11]  [ 4000/12099]  eta: 0:17:54  lr: 0.000003  loss: 0.1315 (0.1143)  loss_classifier: 0.0449 (0.0377)  loss_box_reg: 0.0741 (0.0632)  loss_objectness: 0.0054 (0.0094)  loss_rpn_box_reg: 0.0037 (0.0041)  time: 0.1239  data: 0.0358  max mem: 4009\n",
      "Epoch: [11]  [ 4100/12099]  eta: 0:17:39  lr: 0.000003  loss: 0.0953 (0.1143)  loss_classifier: 0.0277 (0.0376)  loss_box_reg: 0.0405 (0.0630)  loss_objectness: 0.0029 (0.0095)  loss_rpn_box_reg: 0.0008 (0.0042)  time: 0.1222  data: 0.0341  max mem: 4009\n",
      "Epoch: [11]  [ 4200/12099]  eta: 0:17:26  lr: 0.000003  loss: 0.0954 (0.1148)  loss_classifier: 0.0270 (0.0378)  loss_box_reg: 0.0595 (0.0632)  loss_objectness: 0.0037 (0.0096)  loss_rpn_box_reg: 0.0022 (0.0042)  time: 0.1312  data: 0.0376  max mem: 4009\n"
     ]
    },
    {
     "name": "stdout",
     "output_type": "stream",
     "text": [
      "Epoch: [11]  [ 4300/12099]  eta: 0:17:12  lr: 0.000003  loss: 0.1101 (0.1149)  loss_classifier: 0.0377 (0.0379)  loss_box_reg: 0.0661 (0.0632)  loss_objectness: 0.0046 (0.0096)  loss_rpn_box_reg: 0.0023 (0.0042)  time: 0.1214  data: 0.0337  max mem: 4009\n",
      "Epoch: [11]  [ 4400/12099]  eta: 0:16:57  lr: 0.000003  loss: 0.1047 (0.1148)  loss_classifier: 0.0374 (0.0379)  loss_box_reg: 0.0469 (0.0632)  loss_objectness: 0.0041 (0.0096)  loss_rpn_box_reg: 0.0019 (0.0041)  time: 0.1320  data: 0.0392  max mem: 4009\n",
      "Epoch: [11]  [ 4500/12099]  eta: 0:16:43  lr: 0.000003  loss: 0.0903 (0.1147)  loss_classifier: 0.0327 (0.0379)  loss_box_reg: 0.0545 (0.0631)  loss_objectness: 0.0028 (0.0095)  loss_rpn_box_reg: 0.0012 (0.0041)  time: 0.1241  data: 0.0353  max mem: 4009\n",
      "Epoch: [11]  [ 4600/12099]  eta: 0:16:29  lr: 0.000003  loss: 0.1042 (0.1147)  loss_classifier: 0.0350 (0.0379)  loss_box_reg: 0.0571 (0.0631)  loss_objectness: 0.0048 (0.0096)  loss_rpn_box_reg: 0.0013 (0.0041)  time: 0.1298  data: 0.0367  max mem: 4009\n",
      "Epoch: [11]  [ 4700/12099]  eta: 0:16:16  lr: 0.000003  loss: 0.0780 (0.1145)  loss_classifier: 0.0190 (0.0379)  loss_box_reg: 0.0497 (0.0629)  loss_objectness: 0.0035 (0.0095)  loss_rpn_box_reg: 0.0016 (0.0041)  time: 0.1327  data: 0.0392  max mem: 4009\n",
      "Epoch: [11]  [ 4800/12099]  eta: 0:16:02  lr: 0.000003  loss: 0.0692 (0.1143)  loss_classifier: 0.0206 (0.0379)  loss_box_reg: 0.0398 (0.0628)  loss_objectness: 0.0043 (0.0095)  loss_rpn_box_reg: 0.0008 (0.0041)  time: 0.1205  data: 0.0342  max mem: 4009\n",
      "Epoch: [11]  [ 4900/12099]  eta: 0:15:47  lr: 0.000003  loss: 0.1096 (0.1144)  loss_classifier: 0.0298 (0.0379)  loss_box_reg: 0.0600 (0.0629)  loss_objectness: 0.0043 (0.0094)  loss_rpn_box_reg: 0.0010 (0.0041)  time: 0.1281  data: 0.0374  max mem: 4009\n",
      "Epoch: [11]  [ 5000/12099]  eta: 0:15:33  lr: 0.000003  loss: 0.1151 (0.1144)  loss_classifier: 0.0280 (0.0379)  loss_box_reg: 0.0630 (0.0629)  loss_objectness: 0.0040 (0.0094)  loss_rpn_box_reg: 0.0013 (0.0041)  time: 0.1232  data: 0.0357  max mem: 4009\n",
      "Epoch: [11]  [ 5100/12099]  eta: 0:15:19  lr: 0.000003  loss: 0.0951 (0.1144)  loss_classifier: 0.0287 (0.0379)  loss_box_reg: 0.0648 (0.0629)  loss_objectness: 0.0030 (0.0094)  loss_rpn_box_reg: 0.0009 (0.0041)  time: 0.1284  data: 0.0381  max mem: 4009\n",
      "Epoch: [11]  [ 5200/12099]  eta: 0:15:04  lr: 0.000003  loss: 0.0753 (0.1142)  loss_classifier: 0.0181 (0.0379)  loss_box_reg: 0.0457 (0.0629)  loss_objectness: 0.0025 (0.0094)  loss_rpn_box_reg: 0.0012 (0.0041)  time: 0.1214  data: 0.0341  max mem: 4009\n",
      "Epoch: [11]  [ 5300/12099]  eta: 0:14:50  lr: 0.000003  loss: 0.1084 (0.1142)  loss_classifier: 0.0267 (0.0378)  loss_box_reg: 0.0675 (0.0630)  loss_objectness: 0.0030 (0.0093)  loss_rpn_box_reg: 0.0011 (0.0041)  time: 0.1221  data: 0.0354  max mem: 4009\n",
      "Epoch: [11]  [ 5400/12099]  eta: 0:14:37  lr: 0.000003  loss: 0.0973 (0.1142)  loss_classifier: 0.0266 (0.0378)  loss_box_reg: 0.0655 (0.0630)  loss_objectness: 0.0033 (0.0094)  loss_rpn_box_reg: 0.0016 (0.0041)  time: 0.1213  data: 0.0343  max mem: 4009\n",
      "Epoch: [11]  [ 5500/12099]  eta: 0:14:22  lr: 0.000003  loss: 0.0964 (0.1142)  loss_classifier: 0.0318 (0.0378)  loss_box_reg: 0.0534 (0.0630)  loss_objectness: 0.0032 (0.0093)  loss_rpn_box_reg: 0.0023 (0.0041)  time: 0.1213  data: 0.0346  max mem: 4009\n",
      "Epoch: [11]  [ 5600/12099]  eta: 0:14:08  lr: 0.000003  loss: 0.1023 (0.1142)  loss_classifier: 0.0296 (0.0378)  loss_box_reg: 0.0689 (0.0630)  loss_objectness: 0.0042 (0.0094)  loss_rpn_box_reg: 0.0022 (0.0041)  time: 0.1205  data: 0.0349  max mem: 4009\n",
      "Epoch: [11]  [ 5700/12099]  eta: 0:13:54  lr: 0.000003  loss: 0.0838 (0.1139)  loss_classifier: 0.0253 (0.0377)  loss_box_reg: 0.0459 (0.0628)  loss_objectness: 0.0056 (0.0093)  loss_rpn_box_reg: 0.0012 (0.0041)  time: 0.1225  data: 0.0356  max mem: 4009\n",
      "Epoch: [11]  [ 5800/12099]  eta: 0:13:40  lr: 0.000003  loss: 0.0921 (0.1139)  loss_classifier: 0.0270 (0.0377)  loss_box_reg: 0.0547 (0.0627)  loss_objectness: 0.0038 (0.0093)  loss_rpn_box_reg: 0.0016 (0.0041)  time: 0.1216  data: 0.0341  max mem: 4009\n",
      "Epoch: [11]  [ 5900/12099]  eta: 0:13:26  lr: 0.000003  loss: 0.0965 (0.1138)  loss_classifier: 0.0258 (0.0377)  loss_box_reg: 0.0540 (0.0627)  loss_objectness: 0.0044 (0.0093)  loss_rpn_box_reg: 0.0018 (0.0041)  time: 0.1245  data: 0.0366  max mem: 4009\n",
      "Epoch: [11]  [ 6000/12099]  eta: 0:13:13  lr: 0.000003  loss: 0.1060 (0.1137)  loss_classifier: 0.0327 (0.0376)  loss_box_reg: 0.0641 (0.0627)  loss_objectness: 0.0039 (0.0093)  loss_rpn_box_reg: 0.0015 (0.0041)  time: 0.1304  data: 0.0366  max mem: 4009\n",
      "Epoch: [11]  [ 6100/12099]  eta: 0:12:59  lr: 0.000003  loss: 0.1113 (0.1138)  loss_classifier: 0.0359 (0.0376)  loss_box_reg: 0.0543 (0.0628)  loss_objectness: 0.0056 (0.0093)  loss_rpn_box_reg: 0.0016 (0.0041)  time: 0.1210  data: 0.0349  max mem: 4009\n",
      "Epoch: [11]  [ 6200/12099]  eta: 0:12:46  lr: 0.000003  loss: 0.1138 (0.1138)  loss_classifier: 0.0331 (0.0377)  loss_box_reg: 0.0660 (0.0628)  loss_objectness: 0.0027 (0.0093)  loss_rpn_box_reg: 0.0011 (0.0041)  time: 0.1297  data: 0.0382  max mem: 4009\n",
      "Epoch: [11]  [ 6300/12099]  eta: 0:12:33  lr: 0.000003  loss: 0.0989 (0.1138)  loss_classifier: 0.0275 (0.0377)  loss_box_reg: 0.0371 (0.0628)  loss_objectness: 0.0068 (0.0092)  loss_rpn_box_reg: 0.0012 (0.0041)  time: 0.1289  data: 0.0372  max mem: 4009\n",
      "Epoch: [11]  [ 6400/12099]  eta: 0:12:19  lr: 0.000003  loss: 0.0931 (0.1138)  loss_classifier: 0.0300 (0.0376)  loss_box_reg: 0.0525 (0.0628)  loss_objectness: 0.0030 (0.0093)  loss_rpn_box_reg: 0.0014 (0.0041)  time: 0.1176  data: 0.0323  max mem: 4009\n",
      "Epoch: [11]  [ 6500/12099]  eta: 0:12:05  lr: 0.000003  loss: 0.0835 (0.1139)  loss_classifier: 0.0274 (0.0377)  loss_box_reg: 0.0472 (0.0629)  loss_objectness: 0.0032 (0.0092)  loss_rpn_box_reg: 0.0007 (0.0041)  time: 0.1206  data: 0.0346  max mem: 4009\n",
      "Epoch: [11]  [ 6600/12099]  eta: 0:11:52  lr: 0.000003  loss: 0.1080 (0.1139)  loss_classifier: 0.0350 (0.0377)  loss_box_reg: 0.0489 (0.0628)  loss_objectness: 0.0056 (0.0092)  loss_rpn_box_reg: 0.0017 (0.0041)  time: 0.1210  data: 0.0347  max mem: 4009\n",
      "Epoch: [11]  [ 6700/12099]  eta: 0:11:38  lr: 0.000003  loss: 0.0788 (0.1139)  loss_classifier: 0.0260 (0.0377)  loss_box_reg: 0.0529 (0.0628)  loss_objectness: 0.0024 (0.0092)  loss_rpn_box_reg: 0.0014 (0.0041)  time: 0.1200  data: 0.0340  max mem: 4009\n",
      "Epoch: [11]  [ 6800/12099]  eta: 0:11:24  lr: 0.000003  loss: 0.1111 (0.1138)  loss_classifier: 0.0285 (0.0376)  loss_box_reg: 0.0725 (0.0628)  loss_objectness: 0.0025 (0.0092)  loss_rpn_box_reg: 0.0012 (0.0041)  time: 0.1213  data: 0.0347  max mem: 4009\n",
      "Epoch: [11]  [ 6900/12099]  eta: 0:11:11  lr: 0.000003  loss: 0.0819 (0.1138)  loss_classifier: 0.0244 (0.0376)  loss_box_reg: 0.0378 (0.0628)  loss_objectness: 0.0028 (0.0092)  loss_rpn_box_reg: 0.0013 (0.0041)  time: 0.1253  data: 0.0358  max mem: 4009\n",
      "Epoch: [11]  [ 7000/12099]  eta: 0:10:58  lr: 0.000003  loss: 0.0925 (0.1137)  loss_classifier: 0.0315 (0.0376)  loss_box_reg: 0.0411 (0.0628)  loss_objectness: 0.0032 (0.0092)  loss_rpn_box_reg: 0.0015 (0.0041)  time: 0.1233  data: 0.0367  max mem: 4009\n",
      "Epoch: [11]  [ 7100/12099]  eta: 0:10:44  lr: 0.000003  loss: 0.0783 (0.1138)  loss_classifier: 0.0289 (0.0376)  loss_box_reg: 0.0385 (0.0629)  loss_objectness: 0.0020 (0.0092)  loss_rpn_box_reg: 0.0016 (0.0042)  time: 0.1198  data: 0.0328  max mem: 4009\n",
      "Epoch: [11]  [ 7200/12099]  eta: 0:10:31  lr: 0.000003  loss: 0.1173 (0.1139)  loss_classifier: 0.0280 (0.0376)  loss_box_reg: 0.0671 (0.0630)  loss_objectness: 0.0048 (0.0092)  loss_rpn_box_reg: 0.0012 (0.0041)  time: 0.1269  data: 0.0357  max mem: 4009\n",
      "Epoch: [11]  [ 7300/12099]  eta: 0:10:18  lr: 0.000003  loss: 0.0816 (0.1140)  loss_classifier: 0.0243 (0.0377)  loss_box_reg: 0.0399 (0.0630)  loss_objectness: 0.0036 (0.0092)  loss_rpn_box_reg: 0.0010 (0.0041)  time: 0.1234  data: 0.0343  max mem: 4009\n",
      "Epoch: [11]  [ 7400/12099]  eta: 0:10:05  lr: 0.000003  loss: 0.0858 (0.1141)  loss_classifier: 0.0216 (0.0377)  loss_box_reg: 0.0516 (0.0630)  loss_objectness: 0.0038 (0.0092)  loss_rpn_box_reg: 0.0008 (0.0042)  time: 0.1263  data: 0.0351  max mem: 4009\n",
      "Epoch: [11]  [ 7500/12099]  eta: 0:09:52  lr: 0.000003  loss: 0.0775 (0.1141)  loss_classifier: 0.0216 (0.0377)  loss_box_reg: 0.0451 (0.0630)  loss_objectness: 0.0027 (0.0093)  loss_rpn_box_reg: 0.0007 (0.0042)  time: 0.1321  data: 0.0385  max mem: 4009\n"
     ]
    },
    {
     "name": "stdout",
     "output_type": "stream",
     "text": [
      "Epoch: [11]  [ 7600/12099]  eta: 0:09:39  lr: 0.000003  loss: 0.0618 (0.1143)  loss_classifier: 0.0190 (0.0378)  loss_box_reg: 0.0336 (0.0631)  loss_objectness: 0.0019 (0.0093)  loss_rpn_box_reg: 0.0017 (0.0042)  time: 0.1301  data: 0.0375  max mem: 4009\n",
      "Epoch: [11]  [ 7700/12099]  eta: 0:09:26  lr: 0.000003  loss: 0.1081 (0.1144)  loss_classifier: 0.0301 (0.0377)  loss_box_reg: 0.0650 (0.0631)  loss_objectness: 0.0052 (0.0093)  loss_rpn_box_reg: 0.0015 (0.0042)  time: 0.1271  data: 0.0358  max mem: 4009\n",
      "Epoch: [11]  [ 7800/12099]  eta: 0:09:13  lr: 0.000003  loss: 0.1245 (0.1144)  loss_classifier: 0.0337 (0.0378)  loss_box_reg: 0.0700 (0.0631)  loss_objectness: 0.0057 (0.0093)  loss_rpn_box_reg: 0.0006 (0.0042)  time: 0.1218  data: 0.0325  max mem: 4009\n",
      "Epoch: [11]  [ 7900/12099]  eta: 0:08:59  lr: 0.000003  loss: 0.1027 (0.1144)  loss_classifier: 0.0331 (0.0378)  loss_box_reg: 0.0591 (0.0632)  loss_objectness: 0.0041 (0.0093)  loss_rpn_box_reg: 0.0019 (0.0041)  time: 0.1254  data: 0.0369  max mem: 4009\n",
      "Epoch: [11]  [ 8000/12099]  eta: 0:08:46  lr: 0.000003  loss: 0.0823 (0.1144)  loss_classifier: 0.0261 (0.0378)  loss_box_reg: 0.0461 (0.0632)  loss_objectness: 0.0032 (0.0092)  loss_rpn_box_reg: 0.0013 (0.0041)  time: 0.1289  data: 0.0371  max mem: 4009\n",
      "Epoch: [11]  [ 8100/12099]  eta: 0:08:34  lr: 0.000003  loss: 0.1025 (0.1143)  loss_classifier: 0.0285 (0.0378)  loss_box_reg: 0.0662 (0.0632)  loss_objectness: 0.0035 (0.0092)  loss_rpn_box_reg: 0.0012 (0.0041)  time: 0.1351  data: 0.0402  max mem: 4009\n",
      "Epoch: [11]  [ 8200/12099]  eta: 0:08:21  lr: 0.000003  loss: 0.1011 (0.1144)  loss_classifier: 0.0323 (0.0378)  loss_box_reg: 0.0684 (0.0632)  loss_objectness: 0.0024 (0.0092)  loss_rpn_box_reg: 0.0026 (0.0041)  time: 0.1234  data: 0.0353  max mem: 4009\n",
      "Epoch: [11]  [ 8300/12099]  eta: 0:08:08  lr: 0.000003  loss: 0.1032 (0.1144)  loss_classifier: 0.0388 (0.0378)  loss_box_reg: 0.0526 (0.0633)  loss_objectness: 0.0043 (0.0092)  loss_rpn_box_reg: 0.0022 (0.0041)  time: 0.1387  data: 0.0422  max mem: 4009\n",
      "Epoch: [11]  [ 8400/12099]  eta: 0:07:55  lr: 0.000003  loss: 0.1027 (0.1144)  loss_classifier: 0.0318 (0.0378)  loss_box_reg: 0.0507 (0.0633)  loss_objectness: 0.0049 (0.0092)  loss_rpn_box_reg: 0.0010 (0.0041)  time: 0.1227  data: 0.0345  max mem: 4009\n",
      "Epoch: [11]  [ 8500/12099]  eta: 0:07:42  lr: 0.000003  loss: 0.0939 (0.1144)  loss_classifier: 0.0303 (0.0378)  loss_box_reg: 0.0512 (0.0633)  loss_objectness: 0.0043 (0.0092)  loss_rpn_box_reg: 0.0017 (0.0041)  time: 0.1419  data: 0.0431  max mem: 4009\n",
      "Epoch: [11]  [ 8600/12099]  eta: 0:07:30  lr: 0.000003  loss: 0.0735 (0.1143)  loss_classifier: 0.0202 (0.0378)  loss_box_reg: 0.0483 (0.0633)  loss_objectness: 0.0031 (0.0092)  loss_rpn_box_reg: 0.0020 (0.0041)  time: 0.1325  data: 0.0387  max mem: 4009\n",
      "Epoch: [11]  [ 8700/12099]  eta: 0:07:17  lr: 0.000003  loss: 0.0964 (0.1143)  loss_classifier: 0.0285 (0.0378)  loss_box_reg: 0.0517 (0.0632)  loss_objectness: 0.0030 (0.0091)  loss_rpn_box_reg: 0.0022 (0.0041)  time: 0.1465  data: 0.0433  max mem: 4009\n",
      "Epoch: [11]  [ 8800/12099]  eta: 0:07:05  lr: 0.000003  loss: 0.0882 (0.1143)  loss_classifier: 0.0242 (0.0378)  loss_box_reg: 0.0572 (0.0633)  loss_objectness: 0.0034 (0.0091)  loss_rpn_box_reg: 0.0009 (0.0041)  time: 0.1443  data: 0.0426  max mem: 4009\n",
      "Epoch: [11]  [ 8900/12099]  eta: 0:06:53  lr: 0.000003  loss: 0.1050 (0.1142)  loss_classifier: 0.0380 (0.0378)  loss_box_reg: 0.0542 (0.0632)  loss_objectness: 0.0030 (0.0091)  loss_rpn_box_reg: 0.0014 (0.0041)  time: 0.1407  data: 0.0404  max mem: 4009\n",
      "Epoch: [11]  [ 9000/12099]  eta: 0:06:40  lr: 0.000003  loss: 0.0974 (0.1144)  loss_classifier: 0.0345 (0.0378)  loss_box_reg: 0.0635 (0.0633)  loss_objectness: 0.0028 (0.0092)  loss_rpn_box_reg: 0.0014 (0.0041)  time: 0.1429  data: 0.0417  max mem: 4009\n",
      "Epoch: [11]  [ 9100/12099]  eta: 0:06:28  lr: 0.000003  loss: 0.0703 (0.1144)  loss_classifier: 0.0192 (0.0378)  loss_box_reg: 0.0462 (0.0633)  loss_objectness: 0.0044 (0.0092)  loss_rpn_box_reg: 0.0015 (0.0041)  time: 0.1447  data: 0.0414  max mem: 4009\n",
      "Epoch: [11]  [ 9200/12099]  eta: 0:06:15  lr: 0.000003  loss: 0.0863 (0.1144)  loss_classifier: 0.0324 (0.0378)  loss_box_reg: 0.0502 (0.0634)  loss_objectness: 0.0027 (0.0091)  loss_rpn_box_reg: 0.0009 (0.0041)  time: 0.1441  data: 0.0421  max mem: 4009\n",
      "Epoch: [11]  [ 9300/12099]  eta: 0:06:02  lr: 0.000003  loss: 0.1085 (0.1144)  loss_classifier: 0.0279 (0.0378)  loss_box_reg: 0.0566 (0.0633)  loss_objectness: 0.0074 (0.0091)  loss_rpn_box_reg: 0.0017 (0.0041)  time: 0.1251  data: 0.0350  max mem: 4009\n",
      "Epoch: [11]  [ 9400/12099]  eta: 0:05:49  lr: 0.000003  loss: 0.1042 (0.1144)  loss_classifier: 0.0238 (0.0378)  loss_box_reg: 0.0689 (0.0634)  loss_objectness: 0.0031 (0.0091)  loss_rpn_box_reg: 0.0012 (0.0041)  time: 0.1233  data: 0.0345  max mem: 4009\n",
      "Epoch: [11]  [ 9500/12099]  eta: 0:05:37  lr: 0.000003  loss: 0.1004 (0.1144)  loss_classifier: 0.0292 (0.0378)  loss_box_reg: 0.0574 (0.0634)  loss_objectness: 0.0047 (0.0092)  loss_rpn_box_reg: 0.0021 (0.0041)  time: 0.1430  data: 0.0413  max mem: 4009\n",
      "Epoch: [11]  [ 9600/12099]  eta: 0:05:24  lr: 0.000003  loss: 0.1128 (0.1146)  loss_classifier: 0.0285 (0.0378)  loss_box_reg: 0.0624 (0.0634)  loss_objectness: 0.0060 (0.0092)  loss_rpn_box_reg: 0.0018 (0.0041)  time: 0.1399  data: 0.0401  max mem: 4009\n",
      "Epoch: [11]  [ 9700/12099]  eta: 0:05:11  lr: 0.000003  loss: 0.0736 (0.1145)  loss_classifier: 0.0249 (0.0378)  loss_box_reg: 0.0398 (0.0634)  loss_objectness: 0.0023 (0.0092)  loss_rpn_box_reg: 0.0015 (0.0041)  time: 0.1454  data: 0.0426  max mem: 4009\n",
      "Epoch: [11]  [ 9800/12099]  eta: 0:04:59  lr: 0.000003  loss: 0.0829 (0.1146)  loss_classifier: 0.0264 (0.0378)  loss_box_reg: 0.0516 (0.0634)  loss_objectness: 0.0033 (0.0092)  loss_rpn_box_reg: 0.0013 (0.0041)  time: 0.1353  data: 0.0381  max mem: 4009\n",
      "Epoch: [11]  [ 9900/12099]  eta: 0:04:46  lr: 0.000003  loss: 0.0978 (0.1145)  loss_classifier: 0.0285 (0.0378)  loss_box_reg: 0.0500 (0.0634)  loss_objectness: 0.0061 (0.0091)  loss_rpn_box_reg: 0.0027 (0.0041)  time: 0.1661  data: 0.0495  max mem: 4009\n",
      "Epoch: [11]  [10000/12099]  eta: 0:04:34  lr: 0.000003  loss: 0.0810 (0.1145)  loss_classifier: 0.0264 (0.0378)  loss_box_reg: 0.0551 (0.0634)  loss_objectness: 0.0043 (0.0091)  loss_rpn_box_reg: 0.0015 (0.0041)  time: 0.1297  data: 0.0365  max mem: 4009\n",
      "Epoch: [11]  [10100/12099]  eta: 0:04:21  lr: 0.000003  loss: 0.0837 (0.1144)  loss_classifier: 0.0286 (0.0378)  loss_box_reg: 0.0506 (0.0634)  loss_objectness: 0.0020 (0.0091)  loss_rpn_box_reg: 0.0023 (0.0041)  time: 0.1529  data: 0.0456  max mem: 4009\n",
      "Epoch: [11]  [10200/12099]  eta: 0:04:08  lr: 0.000003  loss: 0.1083 (0.1144)  loss_classifier: 0.0281 (0.0378)  loss_box_reg: 0.0481 (0.0634)  loss_objectness: 0.0042 (0.0091)  loss_rpn_box_reg: 0.0017 (0.0041)  time: 0.1582  data: 0.0490  max mem: 4009\n",
      "Epoch: [11]  [10300/12099]  eta: 0:03:55  lr: 0.000003  loss: 0.0969 (0.1145)  loss_classifier: 0.0235 (0.0378)  loss_box_reg: 0.0406 (0.0634)  loss_objectness: 0.0052 (0.0091)  loss_rpn_box_reg: 0.0029 (0.0041)  time: 0.1407  data: 0.0417  max mem: 4009\n",
      "Epoch: [11]  [10400/12099]  eta: 0:03:43  lr: 0.000003  loss: 0.1333 (0.1146)  loss_classifier: 0.0391 (0.0379)  loss_box_reg: 0.0814 (0.0635)  loss_objectness: 0.0050 (0.0091)  loss_rpn_box_reg: 0.0018 (0.0041)  time: 0.1548  data: 0.0465  max mem: 4009\n",
      "Epoch: [11]  [10500/12099]  eta: 0:03:30  lr: 0.000003  loss: 0.1239 (0.1147)  loss_classifier: 0.0377 (0.0379)  loss_box_reg: 0.0538 (0.0635)  loss_objectness: 0.0040 (0.0091)  loss_rpn_box_reg: 0.0016 (0.0041)  time: 0.1323  data: 0.0370  max mem: 4009\n",
      "Epoch: [11]  [10600/12099]  eta: 0:03:16  lr: 0.000003  loss: 0.0917 (0.1147)  loss_classifier: 0.0320 (0.0379)  loss_box_reg: 0.0430 (0.0635)  loss_objectness: 0.0051 (0.0091)  loss_rpn_box_reg: 0.0018 (0.0041)  time: 0.1231  data: 0.0338  max mem: 4009\n",
      "Epoch: [11]  [10700/12099]  eta: 0:03:03  lr: 0.000003  loss: 0.0794 (0.1146)  loss_classifier: 0.0235 (0.0379)  loss_box_reg: 0.0468 (0.0635)  loss_objectness: 0.0052 (0.0091)  loss_rpn_box_reg: 0.0014 (0.0041)  time: 0.1431  data: 0.0420  max mem: 4009\n",
      "Epoch: [11]  [10800/12099]  eta: 0:02:50  lr: 0.000003  loss: 0.1020 (0.1146)  loss_classifier: 0.0273 (0.0379)  loss_box_reg: 0.0537 (0.0635)  loss_objectness: 0.0038 (0.0091)  loss_rpn_box_reg: 0.0015 (0.0041)  time: 0.1171  data: 0.0317  max mem: 4009\n"
     ]
    },
    {
     "name": "stdout",
     "output_type": "stream",
     "text": [
      "Epoch: [11]  [10900/12099]  eta: 0:02:37  lr: 0.000003  loss: 0.1033 (0.1146)  loss_classifier: 0.0322 (0.0379)  loss_box_reg: 0.0612 (0.0634)  loss_objectness: 0.0028 (0.0091)  loss_rpn_box_reg: 0.0016 (0.0041)  time: 0.1191  data: 0.0329  max mem: 4009\n",
      "Epoch: [11]  [11000/12099]  eta: 0:02:24  lr: 0.000003  loss: 0.1236 (0.1146)  loss_classifier: 0.0307 (0.0379)  loss_box_reg: 0.0637 (0.0634)  loss_objectness: 0.0046 (0.0091)  loss_rpn_box_reg: 0.0022 (0.0041)  time: 0.1191  data: 0.0333  max mem: 4009\n",
      "Epoch: [11]  [11100/12099]  eta: 0:02:10  lr: 0.000003  loss: 0.1017 (0.1146)  loss_classifier: 0.0297 (0.0379)  loss_box_reg: 0.0530 (0.0634)  loss_objectness: 0.0040 (0.0091)  loss_rpn_box_reg: 0.0025 (0.0041)  time: 0.1276  data: 0.0377  max mem: 4009\n",
      "Epoch: [11]  [11200/12099]  eta: 0:01:57  lr: 0.000003  loss: 0.0946 (0.1145)  loss_classifier: 0.0321 (0.0379)  loss_box_reg: 0.0624 (0.0634)  loss_objectness: 0.0033 (0.0091)  loss_rpn_box_reg: 0.0013 (0.0041)  time: 0.1189  data: 0.0326  max mem: 4009\n",
      "Epoch: [11]  [11300/12099]  eta: 0:01:44  lr: 0.000003  loss: 0.0842 (0.1144)  loss_classifier: 0.0241 (0.0379)  loss_box_reg: 0.0517 (0.0634)  loss_objectness: 0.0046 (0.0091)  loss_rpn_box_reg: 0.0012 (0.0041)  time: 0.1187  data: 0.0341  max mem: 4009\n",
      "Epoch: [11]  [11400/12099]  eta: 0:01:31  lr: 0.000003  loss: 0.0891 (0.1145)  loss_classifier: 0.0259 (0.0379)  loss_box_reg: 0.0552 (0.0634)  loss_objectness: 0.0062 (0.0091)  loss_rpn_box_reg: 0.0014 (0.0041)  time: 0.1252  data: 0.0360  max mem: 4009\n",
      "Epoch: [11]  [11500/12099]  eta: 0:01:18  lr: 0.000003  loss: 0.1036 (0.1144)  loss_classifier: 0.0276 (0.0379)  loss_box_reg: 0.0586 (0.0633)  loss_objectness: 0.0017 (0.0091)  loss_rpn_box_reg: 0.0018 (0.0041)  time: 0.1227  data: 0.0351  max mem: 4009\n",
      "Epoch: [11]  [11600/12099]  eta: 0:01:05  lr: 0.000003  loss: 0.1252 (0.1145)  loss_classifier: 0.0323 (0.0379)  loss_box_reg: 0.0730 (0.0634)  loss_objectness: 0.0021 (0.0091)  loss_rpn_box_reg: 0.0017 (0.0041)  time: 0.1178  data: 0.0332  max mem: 4009\n",
      "Epoch: [11]  [11700/12099]  eta: 0:00:52  lr: 0.000003  loss: 0.1073 (0.1146)  loss_classifier: 0.0293 (0.0379)  loss_box_reg: 0.0667 (0.0634)  loss_objectness: 0.0043 (0.0091)  loss_rpn_box_reg: 0.0019 (0.0041)  time: 0.1179  data: 0.0329  max mem: 4009\n",
      "Epoch: [11]  [11800/12099]  eta: 0:00:38  lr: 0.000003  loss: 0.0938 (0.1145)  loss_classifier: 0.0304 (0.0379)  loss_box_reg: 0.0534 (0.0634)  loss_objectness: 0.0073 (0.0091)  loss_rpn_box_reg: 0.0015 (0.0041)  time: 0.1190  data: 0.0335  max mem: 4009\n",
      "Epoch: [11]  [11900/12099]  eta: 0:00:25  lr: 0.000003  loss: 0.1051 (0.1144)  loss_classifier: 0.0288 (0.0379)  loss_box_reg: 0.0723 (0.0634)  loss_objectness: 0.0029 (0.0091)  loss_rpn_box_reg: 0.0012 (0.0041)  time: 0.1169  data: 0.0324  max mem: 4009\n",
      "Epoch: [11]  [12000/12099]  eta: 0:00:12  lr: 0.000003  loss: 0.0786 (0.1143)  loss_classifier: 0.0264 (0.0378)  loss_box_reg: 0.0395 (0.0634)  loss_objectness: 0.0053 (0.0090)  loss_rpn_box_reg: 0.0015 (0.0041)  time: 0.1174  data: 0.0328  max mem: 4009\n",
      "Epoch: [11]  [12098/12099]  eta: 0:00:00  lr: 0.000003  loss: 0.0886 (0.1143)  loss_classifier: 0.0280 (0.0378)  loss_box_reg: 0.0532 (0.0634)  loss_objectness: 0.0037 (0.0090)  loss_rpn_box_reg: 0.0014 (0.0041)  time: 0.1213  data: 0.0358  max mem: 4009\n",
      "Epoch: [11] Total time: 0:26:14 (0.1301 s / it)\n",
      "Epoch: [12]  [    0/12099]  eta: 0:24:23  lr: 0.000003  loss: 0.0506 (0.0506)  loss_classifier: 0.0153 (0.0153)  loss_box_reg: 0.0346 (0.0346)  loss_objectness: 0.0004 (0.0004)  loss_rpn_box_reg: 0.0004 (0.0004)  time: 0.1210  data: 0.0270  max mem: 4009\n",
      "Epoch: [12]  [  100/12099]  eta: 0:24:02  lr: 0.000003  loss: 0.1049 (0.1088)  loss_classifier: 0.0323 (0.0353)  loss_box_reg: 0.0631 (0.0635)  loss_objectness: 0.0029 (0.0057)  loss_rpn_box_reg: 0.0021 (0.0042)  time: 0.1212  data: 0.0340  max mem: 4009\n",
      "Epoch: [12]  [  200/12099]  eta: 0:23:41  lr: 0.000003  loss: 0.1136 (0.1144)  loss_classifier: 0.0315 (0.0374)  loss_box_reg: 0.0555 (0.0640)  loss_objectness: 0.0035 (0.0095)  loss_rpn_box_reg: 0.0016 (0.0035)  time: 0.1174  data: 0.0320  max mem: 4009\n",
      "Epoch: [12]  [  300/12099]  eta: 0:23:25  lr: 0.000003  loss: 0.1161 (0.1107)  loss_classifier: 0.0389 (0.0368)  loss_box_reg: 0.0652 (0.0618)  loss_objectness: 0.0034 (0.0087)  loss_rpn_box_reg: 0.0015 (0.0033)  time: 0.1175  data: 0.0326  max mem: 4009\n",
      "Epoch: [12]  [  400/12099]  eta: 0:23:30  lr: 0.000003  loss: 0.0872 (0.1120)  loss_classifier: 0.0269 (0.0370)  loss_box_reg: 0.0496 (0.0625)  loss_objectness: 0.0024 (0.0090)  loss_rpn_box_reg: 0.0014 (0.0036)  time: 0.1435  data: 0.0439  max mem: 4009\n",
      "Epoch: [12]  [  500/12099]  eta: 0:24:16  lr: 0.000003  loss: 0.1014 (0.1114)  loss_classifier: 0.0282 (0.0365)  loss_box_reg: 0.0610 (0.0623)  loss_objectness: 0.0027 (0.0089)  loss_rpn_box_reg: 0.0024 (0.0038)  time: 0.1488  data: 0.0454  max mem: 4009\n",
      "Epoch: [12]  [  600/12099]  eta: 0:24:23  lr: 0.000003  loss: 0.0912 (0.1110)  loss_classifier: 0.0279 (0.0367)  loss_box_reg: 0.0609 (0.0618)  loss_objectness: 0.0072 (0.0086)  loss_rpn_box_reg: 0.0011 (0.0039)  time: 0.1332  data: 0.0382  max mem: 4009\n",
      "Epoch: [12]  [  700/12099]  eta: 0:24:41  lr: 0.000003  loss: 0.0959 (0.1120)  loss_classifier: 0.0283 (0.0367)  loss_box_reg: 0.0603 (0.0621)  loss_objectness: 0.0040 (0.0091)  loss_rpn_box_reg: 0.0021 (0.0041)  time: 0.1453  data: 0.0434  max mem: 4009\n",
      "Epoch: [12]  [  800/12099]  eta: 0:24:34  lr: 0.000003  loss: 0.0951 (0.1137)  loss_classifier: 0.0208 (0.0372)  loss_box_reg: 0.0581 (0.0627)  loss_objectness: 0.0034 (0.0097)  loss_rpn_box_reg: 0.0012 (0.0042)  time: 0.1312  data: 0.0378  max mem: 4009\n",
      "Epoch: [12]  [  900/12099]  eta: 0:24:14  lr: 0.000003  loss: 0.1197 (0.1142)  loss_classifier: 0.0335 (0.0375)  loss_box_reg: 0.0659 (0.0630)  loss_objectness: 0.0037 (0.0094)  loss_rpn_box_reg: 0.0024 (0.0042)  time: 0.1197  data: 0.0326  max mem: 4009\n",
      "Epoch: [12]  [ 1000/12099]  eta: 0:23:51  lr: 0.000003  loss: 0.1223 (0.1143)  loss_classifier: 0.0366 (0.0377)  loss_box_reg: 0.0591 (0.0631)  loss_objectness: 0.0028 (0.0092)  loss_rpn_box_reg: 0.0023 (0.0042)  time: 0.1203  data: 0.0333  max mem: 4009\n",
      "Epoch: [12]  [ 1100/12099]  eta: 0:23:31  lr: 0.000003  loss: 0.1088 (0.1146)  loss_classifier: 0.0321 (0.0379)  loss_box_reg: 0.0598 (0.0630)  loss_objectness: 0.0039 (0.0094)  loss_rpn_box_reg: 0.0014 (0.0043)  time: 0.1298  data: 0.0372  max mem: 4009\n",
      "Epoch: [12]  [ 1200/12099]  eta: 0:23:15  lr: 0.000003  loss: 0.0692 (0.1150)  loss_classifier: 0.0192 (0.0381)  loss_box_reg: 0.0397 (0.0633)  loss_objectness: 0.0039 (0.0094)  loss_rpn_box_reg: 0.0010 (0.0043)  time: 0.1223  data: 0.0345  max mem: 4009\n",
      "Epoch: [12]  [ 1300/12099]  eta: 0:23:06  lr: 0.000003  loss: 0.0995 (0.1154)  loss_classifier: 0.0262 (0.0384)  loss_box_reg: 0.0546 (0.0633)  loss_objectness: 0.0032 (0.0094)  loss_rpn_box_reg: 0.0015 (0.0043)  time: 0.1327  data: 0.0392  max mem: 4009\n",
      "Epoch: [12]  [ 1400/12099]  eta: 0:22:49  lr: 0.000003  loss: 0.0908 (0.1159)  loss_classifier: 0.0257 (0.0385)  loss_box_reg: 0.0545 (0.0636)  loss_objectness: 0.0027 (0.0095)  loss_rpn_box_reg: 0.0013 (0.0043)  time: 0.1181  data: 0.0330  max mem: 4009\n",
      "Epoch: [12]  [ 1500/12099]  eta: 0:22:29  lr: 0.000003  loss: 0.1038 (0.1157)  loss_classifier: 0.0341 (0.0384)  loss_box_reg: 0.0733 (0.0636)  loss_objectness: 0.0036 (0.0094)  loss_rpn_box_reg: 0.0012 (0.0043)  time: 0.1186  data: 0.0329  max mem: 4009\n",
      "Epoch: [12]  [ 1600/12099]  eta: 0:22:11  lr: 0.000003  loss: 0.0833 (0.1157)  loss_classifier: 0.0297 (0.0383)  loss_box_reg: 0.0549 (0.0634)  loss_objectness: 0.0048 (0.0097)  loss_rpn_box_reg: 0.0014 (0.0044)  time: 0.1268  data: 0.0384  max mem: 4009\n",
      "Epoch: [12]  [ 1700/12099]  eta: 0:21:57  lr: 0.000003  loss: 0.0810 (0.1162)  loss_classifier: 0.0241 (0.0385)  loss_box_reg: 0.0514 (0.0636)  loss_objectness: 0.0033 (0.0097)  loss_rpn_box_reg: 0.0008 (0.0044)  time: 0.1206  data: 0.0340  max mem: 4009\n",
      "Epoch: [12]  [ 1800/12099]  eta: 0:21:41  lr: 0.000003  loss: 0.1131 (0.1164)  loss_classifier: 0.0258 (0.0385)  loss_box_reg: 0.0642 (0.0638)  loss_objectness: 0.0056 (0.0098)  loss_rpn_box_reg: 0.0020 (0.0043)  time: 0.1166  data: 0.0325  max mem: 4009\n"
     ]
    },
    {
     "name": "stdout",
     "output_type": "stream",
     "text": [
      "Epoch: [12]  [ 1900/12099]  eta: 0:21:25  lr: 0.000003  loss: 0.0937 (0.1162)  loss_classifier: 0.0313 (0.0384)  loss_box_reg: 0.0467 (0.0637)  loss_objectness: 0.0079 (0.0098)  loss_rpn_box_reg: 0.0016 (0.0044)  time: 0.1188  data: 0.0331  max mem: 4009\n",
      "Epoch: [12]  [ 2000/12099]  eta: 0:21:10  lr: 0.000003  loss: 0.1077 (0.1158)  loss_classifier: 0.0278 (0.0382)  loss_box_reg: 0.0623 (0.0636)  loss_objectness: 0.0026 (0.0097)  loss_rpn_box_reg: 0.0028 (0.0044)  time: 0.1231  data: 0.0365  max mem: 4009\n",
      "Epoch: [12]  [ 2100/12099]  eta: 0:20:58  lr: 0.000003  loss: 0.1002 (0.1153)  loss_classifier: 0.0277 (0.0379)  loss_box_reg: 0.0595 (0.0634)  loss_objectness: 0.0032 (0.0096)  loss_rpn_box_reg: 0.0014 (0.0044)  time: 0.1245  data: 0.0344  max mem: 4009\n",
      "Epoch: [12]  [ 2200/12099]  eta: 0:20:50  lr: 0.000003  loss: 0.0859 (0.1157)  loss_classifier: 0.0218 (0.0382)  loss_box_reg: 0.0524 (0.0636)  loss_objectness: 0.0021 (0.0096)  loss_rpn_box_reg: 0.0011 (0.0044)  time: 0.1431  data: 0.0431  max mem: 4009\n",
      "Epoch: [12]  [ 2300/12099]  eta: 0:20:39  lr: 0.000003  loss: 0.0960 (0.1153)  loss_classifier: 0.0292 (0.0380)  loss_box_reg: 0.0616 (0.0634)  loss_objectness: 0.0064 (0.0095)  loss_rpn_box_reg: 0.0012 (0.0044)  time: 0.1275  data: 0.0365  max mem: 4009\n",
      "Epoch: [12]  [ 2400/12099]  eta: 0:20:26  lr: 0.000003  loss: 0.1125 (0.1151)  loss_classifier: 0.0363 (0.0379)  loss_box_reg: 0.0533 (0.0633)  loss_objectness: 0.0059 (0.0095)  loss_rpn_box_reg: 0.0018 (0.0044)  time: 0.1271  data: 0.0378  max mem: 4009\n",
      "Epoch: [12]  [ 2500/12099]  eta: 0:20:13  lr: 0.000003  loss: 0.1225 (0.1153)  loss_classifier: 0.0370 (0.0380)  loss_box_reg: 0.0738 (0.0635)  loss_objectness: 0.0059 (0.0095)  loss_rpn_box_reg: 0.0026 (0.0043)  time: 0.1283  data: 0.0364  max mem: 4009\n",
      "Epoch: [12]  [ 2600/12099]  eta: 0:20:02  lr: 0.000003  loss: 0.0857 (0.1151)  loss_classifier: 0.0278 (0.0379)  loss_box_reg: 0.0518 (0.0634)  loss_objectness: 0.0026 (0.0094)  loss_rpn_box_reg: 0.0013 (0.0043)  time: 0.1394  data: 0.0424  max mem: 4009\n",
      "Epoch: [12]  [ 2700/12099]  eta: 0:19:51  lr: 0.000003  loss: 0.1003 (0.1150)  loss_classifier: 0.0277 (0.0380)  loss_box_reg: 0.0650 (0.0633)  loss_objectness: 0.0046 (0.0094)  loss_rpn_box_reg: 0.0014 (0.0043)  time: 0.1385  data: 0.0421  max mem: 4009\n",
      "Epoch: [12]  [ 2800/12099]  eta: 0:19:38  lr: 0.000003  loss: 0.0971 (0.1151)  loss_classifier: 0.0287 (0.0380)  loss_box_reg: 0.0571 (0.0635)  loss_objectness: 0.0037 (0.0093)  loss_rpn_box_reg: 0.0017 (0.0043)  time: 0.1270  data: 0.0369  max mem: 4009\n",
      "Epoch: [12]  [ 2900/12099]  eta: 0:19:27  lr: 0.000003  loss: 0.0810 (0.1149)  loss_classifier: 0.0263 (0.0380)  loss_box_reg: 0.0470 (0.0634)  loss_objectness: 0.0037 (0.0092)  loss_rpn_box_reg: 0.0014 (0.0043)  time: 0.1345  data: 0.0397  max mem: 4009\n",
      "Epoch: [12]  [ 3000/12099]  eta: 0:19:17  lr: 0.000003  loss: 0.0804 (0.1150)  loss_classifier: 0.0217 (0.0380)  loss_box_reg: 0.0324 (0.0635)  loss_objectness: 0.0025 (0.0093)  loss_rpn_box_reg: 0.0011 (0.0043)  time: 0.1195  data: 0.0325  max mem: 4009\n",
      "Epoch: [12]  [ 3100/12099]  eta: 0:19:03  lr: 0.000003  loss: 0.0817 (0.1147)  loss_classifier: 0.0195 (0.0378)  loss_box_reg: 0.0473 (0.0634)  loss_objectness: 0.0038 (0.0092)  loss_rpn_box_reg: 0.0012 (0.0043)  time: 0.1204  data: 0.0335  max mem: 4009\n",
      "Epoch: [12]  [ 3200/12099]  eta: 0:18:48  lr: 0.000003  loss: 0.0995 (0.1145)  loss_classifier: 0.0225 (0.0377)  loss_box_reg: 0.0508 (0.0633)  loss_objectness: 0.0024 (0.0093)  loss_rpn_box_reg: 0.0012 (0.0043)  time: 0.1211  data: 0.0336  max mem: 4009\n",
      "Epoch: [12]  [ 3300/12099]  eta: 0:18:36  lr: 0.000003  loss: 0.0770 (0.1142)  loss_classifier: 0.0241 (0.0375)  loss_box_reg: 0.0472 (0.0632)  loss_objectness: 0.0041 (0.0092)  loss_rpn_box_reg: 0.0012 (0.0043)  time: 0.1294  data: 0.0383  max mem: 4009\n",
      "Epoch: [12]  [ 3400/12099]  eta: 0:18:24  lr: 0.000003  loss: 0.0908 (0.1141)  loss_classifier: 0.0282 (0.0375)  loss_box_reg: 0.0586 (0.0631)  loss_objectness: 0.0049 (0.0092)  loss_rpn_box_reg: 0.0013 (0.0043)  time: 0.1319  data: 0.0359  max mem: 4009\n",
      "Epoch: [12]  [ 3500/12099]  eta: 0:18:12  lr: 0.000003  loss: 0.1095 (0.1138)  loss_classifier: 0.0249 (0.0375)  loss_box_reg: 0.0585 (0.0630)  loss_objectness: 0.0041 (0.0091)  loss_rpn_box_reg: 0.0015 (0.0042)  time: 0.1251  data: 0.0347  max mem: 4009\n",
      "Epoch: [12]  [ 3600/12099]  eta: 0:17:59  lr: 0.000003  loss: 0.0989 (0.1136)  loss_classifier: 0.0265 (0.0373)  loss_box_reg: 0.0656 (0.0630)  loss_objectness: 0.0036 (0.0091)  loss_rpn_box_reg: 0.0010 (0.0042)  time: 0.1243  data: 0.0345  max mem: 4009\n",
      "Epoch: [12]  [ 3700/12099]  eta: 0:17:48  lr: 0.000003  loss: 0.1085 (0.1135)  loss_classifier: 0.0307 (0.0373)  loss_box_reg: 0.0605 (0.0629)  loss_objectness: 0.0030 (0.0091)  loss_rpn_box_reg: 0.0009 (0.0042)  time: 0.1491  data: 0.0508  max mem: 4009\n",
      "Epoch: [12]  [ 3800/12099]  eta: 0:17:37  lr: 0.000003  loss: 0.0884 (0.1134)  loss_classifier: 0.0262 (0.0372)  loss_box_reg: 0.0440 (0.0628)  loss_objectness: 0.0036 (0.0092)  loss_rpn_box_reg: 0.0015 (0.0043)  time: 0.1355  data: 0.0397  max mem: 4009\n",
      "Epoch: [12]  [ 3900/12099]  eta: 0:17:25  lr: 0.000003  loss: 0.1110 (0.1135)  loss_classifier: 0.0318 (0.0372)  loss_box_reg: 0.0584 (0.0628)  loss_objectness: 0.0059 (0.0092)  loss_rpn_box_reg: 0.0021 (0.0043)  time: 0.1331  data: 0.0398  max mem: 4009\n",
      "Epoch: [12]  [ 4000/12099]  eta: 0:17:12  lr: 0.000003  loss: 0.0861 (0.1136)  loss_classifier: 0.0280 (0.0372)  loss_box_reg: 0.0526 (0.0629)  loss_objectness: 0.0032 (0.0091)  loss_rpn_box_reg: 0.0018 (0.0043)  time: 0.1302  data: 0.0366  max mem: 4009\n",
      "Epoch: [12]  [ 4100/12099]  eta: 0:17:00  lr: 0.000003  loss: 0.1028 (0.1136)  loss_classifier: 0.0266 (0.0373)  loss_box_reg: 0.0443 (0.0629)  loss_objectness: 0.0045 (0.0092)  loss_rpn_box_reg: 0.0012 (0.0042)  time: 0.1356  data: 0.0407  max mem: 4009\n",
      "Epoch: [12]  [ 4200/12099]  eta: 0:16:46  lr: 0.000003  loss: 0.0921 (0.1137)  loss_classifier: 0.0307 (0.0373)  loss_box_reg: 0.0518 (0.0630)  loss_objectness: 0.0035 (0.0092)  loss_rpn_box_reg: 0.0014 (0.0042)  time: 0.1209  data: 0.0336  max mem: 4009\n",
      "Epoch: [12]  [ 4300/12099]  eta: 0:16:33  lr: 0.000003  loss: 0.0973 (0.1138)  loss_classifier: 0.0337 (0.0373)  loss_box_reg: 0.0707 (0.0631)  loss_objectness: 0.0054 (0.0092)  loss_rpn_box_reg: 0.0015 (0.0042)  time: 0.1268  data: 0.0362  max mem: 4009\n",
      "Epoch: [12]  [ 4400/12099]  eta: 0:16:21  lr: 0.000003  loss: 0.0954 (0.1138)  loss_classifier: 0.0277 (0.0373)  loss_box_reg: 0.0544 (0.0631)  loss_objectness: 0.0029 (0.0093)  loss_rpn_box_reg: 0.0017 (0.0042)  time: 0.1284  data: 0.0354  max mem: 4009\n",
      "Epoch: [12]  [ 4500/12099]  eta: 0:16:08  lr: 0.000003  loss: 0.0828 (0.1135)  loss_classifier: 0.0211 (0.0371)  loss_box_reg: 0.0420 (0.0630)  loss_objectness: 0.0024 (0.0092)  loss_rpn_box_reg: 0.0013 (0.0042)  time: 0.1280  data: 0.0370  max mem: 4009\n",
      "Epoch: [12]  [ 4600/12099]  eta: 0:15:55  lr: 0.000003  loss: 0.1003 (0.1135)  loss_classifier: 0.0320 (0.0371)  loss_box_reg: 0.0587 (0.0629)  loss_objectness: 0.0033 (0.0092)  loss_rpn_box_reg: 0.0012 (0.0042)  time: 0.1299  data: 0.0365  max mem: 4009\n",
      "Epoch: [12]  [ 4700/12099]  eta: 0:15:43  lr: 0.000003  loss: 0.0889 (0.1137)  loss_classifier: 0.0279 (0.0372)  loss_box_reg: 0.0490 (0.0630)  loss_objectness: 0.0048 (0.0092)  loss_rpn_box_reg: 0.0009 (0.0042)  time: 0.1295  data: 0.0365  max mem: 4009\n",
      "Epoch: [12]  [ 4800/12099]  eta: 0:15:30  lr: 0.000003  loss: 0.0882 (0.1135)  loss_classifier: 0.0271 (0.0371)  loss_box_reg: 0.0483 (0.0630)  loss_objectness: 0.0049 (0.0092)  loss_rpn_box_reg: 0.0012 (0.0042)  time: 0.1271  data: 0.0362  max mem: 4009\n",
      "Epoch: [12]  [ 4900/12099]  eta: 0:15:18  lr: 0.000003  loss: 0.0937 (0.1132)  loss_classifier: 0.0303 (0.0370)  loss_box_reg: 0.0579 (0.0629)  loss_objectness: 0.0035 (0.0091)  loss_rpn_box_reg: 0.0010 (0.0042)  time: 0.1298  data: 0.0373  max mem: 4009\n",
      "Epoch: [12]  [ 5000/12099]  eta: 0:15:05  lr: 0.000003  loss: 0.0974 (0.1134)  loss_classifier: 0.0241 (0.0371)  loss_box_reg: 0.0557 (0.0629)  loss_objectness: 0.0041 (0.0092)  loss_rpn_box_reg: 0.0016 (0.0042)  time: 0.1268  data: 0.0359  max mem: 4009\n",
      "Epoch: [12]  [ 5100/12099]  eta: 0:14:52  lr: 0.000003  loss: 0.0927 (0.1137)  loss_classifier: 0.0278 (0.0372)  loss_box_reg: 0.0564 (0.0631)  loss_objectness: 0.0033 (0.0092)  loss_rpn_box_reg: 0.0017 (0.0042)  time: 0.1267  data: 0.0359  max mem: 4009\n"
     ]
    },
    {
     "name": "stdout",
     "output_type": "stream",
     "text": [
      "Epoch: [12]  [ 5200/12099]  eta: 0:14:39  lr: 0.000003  loss: 0.1107 (0.1139)  loss_classifier: 0.0266 (0.0373)  loss_box_reg: 0.0570 (0.0631)  loss_objectness: 0.0059 (0.0093)  loss_rpn_box_reg: 0.0018 (0.0042)  time: 0.1242  data: 0.0340  max mem: 4009\n",
      "Epoch: [12]  [ 5300/12099]  eta: 0:14:26  lr: 0.000003  loss: 0.0825 (0.1139)  loss_classifier: 0.0263 (0.0374)  loss_box_reg: 0.0539 (0.0631)  loss_objectness: 0.0030 (0.0092)  loss_rpn_box_reg: 0.0013 (0.0042)  time: 0.1262  data: 0.0340  max mem: 4009\n",
      "Epoch: [12]  [ 5400/12099]  eta: 0:14:14  lr: 0.000003  loss: 0.0853 (0.1139)  loss_classifier: 0.0276 (0.0374)  loss_box_reg: 0.0495 (0.0631)  loss_objectness: 0.0030 (0.0092)  loss_rpn_box_reg: 0.0016 (0.0042)  time: 0.1287  data: 0.0375  max mem: 4009\n",
      "Epoch: [12]  [ 5500/12099]  eta: 0:14:01  lr: 0.000003  loss: 0.0894 (0.1138)  loss_classifier: 0.0248 (0.0374)  loss_box_reg: 0.0548 (0.0631)  loss_objectness: 0.0045 (0.0091)  loss_rpn_box_reg: 0.0022 (0.0042)  time: 0.1256  data: 0.0352  max mem: 4009\n",
      "Epoch: [12]  [ 5600/12099]  eta: 0:13:48  lr: 0.000003  loss: 0.0953 (0.1136)  loss_classifier: 0.0272 (0.0374)  loss_box_reg: 0.0524 (0.0630)  loss_objectness: 0.0028 (0.0091)  loss_rpn_box_reg: 0.0019 (0.0041)  time: 0.1283  data: 0.0365  max mem: 4009\n",
      "Epoch: [12]  [ 5700/12099]  eta: 0:13:35  lr: 0.000003  loss: 0.0983 (0.1136)  loss_classifier: 0.0248 (0.0373)  loss_box_reg: 0.0650 (0.0630)  loss_objectness: 0.0031 (0.0091)  loss_rpn_box_reg: 0.0011 (0.0041)  time: 0.1249  data: 0.0347  max mem: 4009\n",
      "Epoch: [12]  [ 5800/12099]  eta: 0:13:23  lr: 0.000003  loss: 0.0930 (0.1136)  loss_classifier: 0.0289 (0.0374)  loss_box_reg: 0.0633 (0.0631)  loss_objectness: 0.0034 (0.0091)  loss_rpn_box_reg: 0.0009 (0.0041)  time: 0.1254  data: 0.0346  max mem: 4009\n",
      "Epoch: [12]  [ 5900/12099]  eta: 0:13:10  lr: 0.000003  loss: 0.1085 (0.1135)  loss_classifier: 0.0287 (0.0373)  loss_box_reg: 0.0560 (0.0630)  loss_objectness: 0.0049 (0.0091)  loss_rpn_box_reg: 0.0015 (0.0041)  time: 0.1248  data: 0.0339  max mem: 4009\n",
      "Epoch: [12]  [ 6000/12099]  eta: 0:12:57  lr: 0.000003  loss: 0.0674 (0.1133)  loss_classifier: 0.0203 (0.0372)  loss_box_reg: 0.0395 (0.0629)  loss_objectness: 0.0036 (0.0091)  loss_rpn_box_reg: 0.0010 (0.0041)  time: 0.1256  data: 0.0353  max mem: 4009\n",
      "Epoch: [12]  [ 6100/12099]  eta: 0:12:44  lr: 0.000003  loss: 0.1215 (0.1133)  loss_classifier: 0.0313 (0.0372)  loss_box_reg: 0.0690 (0.0629)  loss_objectness: 0.0036 (0.0091)  loss_rpn_box_reg: 0.0014 (0.0041)  time: 0.1244  data: 0.0347  max mem: 4009\n",
      "Epoch: [12]  [ 6200/12099]  eta: 0:12:31  lr: 0.000003  loss: 0.0881 (0.1132)  loss_classifier: 0.0279 (0.0372)  loss_box_reg: 0.0474 (0.0629)  loss_objectness: 0.0042 (0.0090)  loss_rpn_box_reg: 0.0025 (0.0041)  time: 0.1250  data: 0.0342  max mem: 4009\n",
      "Epoch: [12]  [ 6300/12099]  eta: 0:12:18  lr: 0.000003  loss: 0.1221 (0.1134)  loss_classifier: 0.0353 (0.0373)  loss_box_reg: 0.0722 (0.0629)  loss_objectness: 0.0026 (0.0090)  loss_rpn_box_reg: 0.0015 (0.0041)  time: 0.1253  data: 0.0353  max mem: 4009\n",
      "Epoch: [12]  [ 6400/12099]  eta: 0:12:06  lr: 0.000003  loss: 0.1182 (0.1134)  loss_classifier: 0.0360 (0.0373)  loss_box_reg: 0.0689 (0.0630)  loss_objectness: 0.0052 (0.0091)  loss_rpn_box_reg: 0.0010 (0.0041)  time: 0.1273  data: 0.0355  max mem: 4009\n",
      "Epoch: [12]  [ 6500/12099]  eta: 0:11:53  lr: 0.000003  loss: 0.1238 (0.1136)  loss_classifier: 0.0331 (0.0374)  loss_box_reg: 0.0660 (0.0630)  loss_objectness: 0.0040 (0.0090)  loss_rpn_box_reg: 0.0026 (0.0041)  time: 0.1380  data: 0.0452  max mem: 4009\n",
      "Epoch: [12]  [ 6600/12099]  eta: 0:11:40  lr: 0.000003  loss: 0.1361 (0.1138)  loss_classifier: 0.0352 (0.0375)  loss_box_reg: 0.0835 (0.0632)  loss_objectness: 0.0068 (0.0090)  loss_rpn_box_reg: 0.0011 (0.0041)  time: 0.1309  data: 0.0387  max mem: 4009\n",
      "Epoch: [12]  [ 6700/12099]  eta: 0:11:28  lr: 0.000003  loss: 0.0841 (0.1138)  loss_classifier: 0.0257 (0.0375)  loss_box_reg: 0.0389 (0.0632)  loss_objectness: 0.0032 (0.0090)  loss_rpn_box_reg: 0.0017 (0.0041)  time: 0.1232  data: 0.0337  max mem: 4009\n",
      "Epoch: [12]  [ 6800/12099]  eta: 0:11:15  lr: 0.000003  loss: 0.0852 (0.1137)  loss_classifier: 0.0272 (0.0374)  loss_box_reg: 0.0499 (0.0631)  loss_objectness: 0.0050 (0.0090)  loss_rpn_box_reg: 0.0018 (0.0041)  time: 0.1246  data: 0.0354  max mem: 4009\n",
      "Epoch: [12]  [ 6900/12099]  eta: 0:11:02  lr: 0.000003  loss: 0.0915 (0.1136)  loss_classifier: 0.0338 (0.0374)  loss_box_reg: 0.0534 (0.0631)  loss_objectness: 0.0028 (0.0090)  loss_rpn_box_reg: 0.0012 (0.0041)  time: 0.1232  data: 0.0354  max mem: 4009\n",
      "Epoch: [12]  [ 7000/12099]  eta: 0:10:49  lr: 0.000003  loss: 0.1103 (0.1136)  loss_classifier: 0.0320 (0.0374)  loss_box_reg: 0.0661 (0.0630)  loss_objectness: 0.0052 (0.0090)  loss_rpn_box_reg: 0.0012 (0.0042)  time: 0.1302  data: 0.0381  max mem: 4009\n",
      "Epoch: [12]  [ 7100/12099]  eta: 0:10:37  lr: 0.000003  loss: 0.0721 (0.1136)  loss_classifier: 0.0161 (0.0374)  loss_box_reg: 0.0544 (0.0630)  loss_objectness: 0.0020 (0.0090)  loss_rpn_box_reg: 0.0012 (0.0042)  time: 0.1292  data: 0.0371  max mem: 4009\n",
      "Epoch: [12]  [ 7200/12099]  eta: 0:10:24  lr: 0.000003  loss: 0.0854 (0.1136)  loss_classifier: 0.0252 (0.0374)  loss_box_reg: 0.0420 (0.0629)  loss_objectness: 0.0046 (0.0091)  loss_rpn_box_reg: 0.0012 (0.0042)  time: 0.1226  data: 0.0352  max mem: 4009\n",
      "Epoch: [12]  [ 7300/12099]  eta: 0:10:11  lr: 0.000003  loss: 0.0831 (0.1135)  loss_classifier: 0.0219 (0.0374)  loss_box_reg: 0.0515 (0.0629)  loss_objectness: 0.0041 (0.0090)  loss_rpn_box_reg: 0.0008 (0.0042)  time: 0.1218  data: 0.0343  max mem: 4009\n",
      "Epoch: [12]  [ 7400/12099]  eta: 0:09:58  lr: 0.000003  loss: 0.1349 (0.1137)  loss_classifier: 0.0536 (0.0375)  loss_box_reg: 0.0556 (0.0630)  loss_objectness: 0.0054 (0.0091)  loss_rpn_box_reg: 0.0033 (0.0042)  time: 0.1302  data: 0.0396  max mem: 4009\n"
     ]
    }
   ],
   "source": [
    "# TRAIN\n",
    "all_train_logs, all_trans_valid_logs, all_cis_valid_logs = train(dataloader=train_dataloader, num_epochs=num_epochs)"
   ]
  },
  {
   "cell_type": "markdown",
   "metadata": {},
   "source": [
    "## Checking the log results"
   ]
  },
  {
   "cell_type": "markdown",
   "metadata": {},
   "source": [
    "##### Ensures that if you hit the training cell, you don't lose the variables containing the logs from the last run"
   ]
  },
  {
   "cell_type": "code",
   "execution_count": 27,
   "metadata": {},
   "outputs": [
    {
     "ename": "NameError",
     "evalue": "name 'all_train_logs' is not defined",
     "output_type": "error",
     "traceback": [
      "\u001b[1;31m---------------------------------------------------------------------------\u001b[0m",
      "\u001b[1;31mNameError\u001b[0m                                 Traceback (most recent call last)",
      "\u001b[1;32m~\\AppData\\Local\\Temp/ipykernel_26304/151659712.py\u001b[0m in \u001b[0;36m<module>\u001b[1;34m\u001b[0m\n\u001b[1;32m----> 1\u001b[1;33m \u001b[0mlast_train_logs\u001b[0m \u001b[1;33m=\u001b[0m \u001b[0mall_train_logs\u001b[0m\u001b[1;33m\u001b[0m\u001b[1;33m\u001b[0m\u001b[0m\n\u001b[0m\u001b[0;32m      2\u001b[0m \u001b[0mlast_trans_valid_logs\u001b[0m \u001b[1;33m=\u001b[0m \u001b[0mall_trans_valid_logs\u001b[0m\u001b[1;33m\u001b[0m\u001b[1;33m\u001b[0m\u001b[0m\n\u001b[0;32m      3\u001b[0m \u001b[0mlast_cis_valid_logs\u001b[0m \u001b[1;33m=\u001b[0m \u001b[0mall_cis_valid_logs\u001b[0m\u001b[1;33m\u001b[0m\u001b[1;33m\u001b[0m\u001b[0m\n",
      "\u001b[1;31mNameError\u001b[0m: name 'all_train_logs' is not defined"
     ]
    }
   ],
   "source": [
    "last_train_logs = all_train_logs\n",
    "last_trans_valid_logs = all_trans_valid_logs\n",
    "last_cis_valid_logs = all_cis_valid_logs"
   ]
  },
  {
   "cell_type": "markdown",
   "metadata": {},
   "source": [
    "##### Converts the logs to lists and the tensors to numpy "
   ]
  },
  {
   "cell_type": "code",
   "execution_count": null,
   "metadata": {},
   "outputs": [],
   "source": [
    "train_logs = train_logs_to_lst(last_train_logs)\n",
    "cis_valid_logs = valid_logs_to_lst(last_cis_valid_logs)\n",
    "trans_valid_logs = valid_logs_to_lst(last_trans_valid_logs)"
   ]
  },
  {
   "cell_type": "code",
   "execution_count": null,
   "metadata": {},
   "outputs": [],
   "source": [
    "last_train_logs = all_train_logs\n",
    "last_train_logs = all_train_logs\n",
    "last_trans_valid_logs = all_trans_valid_logs\n",
    "last_cis_valid_logs = all_cis_valid_logs"
   ]
  },
  {
   "cell_type": "code",
   "execution_count": null,
   "metadata": {},
   "outputs": [],
   "source": [
    "train_logs = train_logs_to_lst(last_train_logs)\n",
    "cis_valid_logs = valid_logs_to_lst(last_cis_valid_logs)\n",
    "trans_valid_logs = valid_logs_to_lst(last_trans_valid_logs)"
   ]
  },
  {
   "cell_type": "code",
   "execution_count": null,
   "metadata": {},
   "outputs": [],
   "source": [
    "## Results"
   ]
  },
  {
   "cell_type": "code",
   "execution_count": null,
   "metadata": {},
   "outputs": [],
   "source": []
  },
  {
   "cell_type": "code",
   "execution_count": null,
   "metadata": {},
   "outputs": [],
   "source": [
    "# Train loss to print (here we use global_avg but we can use: value, median, avg, max or global_avg)\n",
    "results_train_loss = []\n",
    "\n",
    "for i in range(num_epochs):\n",
    "    results_train_loss.append(train_logs[i]['loss_box_reg']['global_avg'])\n",
    "    \n",
    "# Cis valid loss to print\n",
    "results_cis_valid_loss = [] # cis\n",
    "\n",
    "for i in range(num_epochs):\n",
    "    loss_interm = 0\n",
    "    for j in range(167):\n",
    "        loss_interm += cis_valid_logs[(167 * i) + j]['loss_box_reg']\n",
    "    results_cis_valid_loss.append(loss_interm)\n",
    "\n",
    "# Trans valid loss to print\n",
    "results_trans_valid_loss = [] # cis\n",
    "\n",
    "for i in range(num_epochs):\n",
    "    loss_interm = 0\n",
    "    for j in range(154):\n",
    "        loss_interm += trans_valid_logs[(154 * i) + j]['loss_box_reg']\n",
    "    results_trans_valid_loss.append(loss_interm)"
   ]
  },
  {
   "cell_type": "code",
   "execution_count": null,
   "metadata": {},
   "outputs": [],
   "source": [
    "# Printing the different plots\n",
    "fig, ax = plt.subplots(1,2, figsize=(20,6))\n",
    "\n",
    "ax[0].plot(np.arange(1, num_epochs + 1), results_train_loss, label='train')\n",
    "ax[0].set_title('Train loss per epoch')\n",
    "ax[0].set_ylabel('loss_box_reg')\n",
    "ax[0].set_xlabel('epoch')\n",
    "\n",
    "plt.title('Train loss per epoch')\n",
    "ax[1].plot(np.arange(1, num_epochs + 1), results_cis_valid_loss, label='cis')\n",
    "ax[1].plot(np.arange(1, num_epochs + 1), results_trans_valid_loss, label='trans')\n",
    "ax[1].set_title('Valid loss per epoch')\n",
    "ax[1].set_ylabel('loss_box_reg')\n",
    "ax[1].set_xlabel('epoch')\n",
    "ax[1].legend()"
   ]
  },
  {
   "cell_type": "code",
   "execution_count": null,
   "metadata": {},
   "outputs": [],
   "source": [
    "fig.savefig(\"saved_figures/\" + time.strftime(\"%Y%m%d_%H%M%S\") + \"_figure.pdf\")"
   ]
  },
  {
   "cell_type": "markdown",
   "metadata": {},
   "source": [
    "## Evaluate the new model"
   ]
  },
  {
   "cell_type": "code",
   "execution_count": null,
   "metadata": {},
   "outputs": [],
   "source": [
    "# takes +- 15min to run on cis_test\n",
    "cis_coco_evaluator_method = evaluate(cis_test_dataloader, cis_coco)"
   ]
  },
  {
   "cell_type": "code",
   "execution_count": null,
   "metadata": {},
   "outputs": [],
   "source": [
    "# trans with method 3\n",
    "model.roi_heads.box_predictor.cls_score[0].weight = nn.Parameter(X_target_proj.float(), requires_grad = False) \n",
    "model.roi_heads.box_predictor.bbox_pred[0].weight = nn.Parameter(X_target_proj.float(), requires_grad = False)\n",
    "model.to(device)"
   ]
  },
  {
   "cell_type": "code",
   "execution_count": null,
   "metadata": {},
   "outputs": [],
   "source": [
    "# takes +- 15min to run on cis_test\n",
    "trans_coco_evaluator_method = evaluate(trans_test_dataloader, trans_coco)"
   ]
  },
  {
   "cell_type": "code",
   "execution_count": null,
   "metadata": {},
   "outputs": [],
   "source": [
    "print('cis test 10 epochs rpn roi 3, method3 with 15 epochs & d=512')\n",
    "print('_'*80)\n",
    "cis_coco_evaluator_method.summarize()"
   ]
  },
  {
   "cell_type": "code",
   "execution_count": null,
   "metadata": {
    "scrolled": true
   },
   "outputs": [],
   "source": [
    "print('trans test 10 epochs rpn+roi 3, method3 with 15 epochs & d=512')\n",
    "print('_'*80)\n",
    "trans_coco_evaluator_method.summarize()"
   ]
  },
  {
   "cell_type": "markdown",
   "metadata": {},
   "source": [
    "### Load a model with Method 3.2"
   ]
  },
  {
   "cell_type": "code",
   "execution_count": null,
   "metadata": {},
   "outputs": [],
   "source": [
    "class FastRCNNPredictor_custom(nn.Module):\n",
    "    \"\"\"\n",
    "    Standard classification + bounding box regression layers\n",
    "    for Fast R-CNN.\n",
    "\n",
    "    Args:\n",
    "        in_channels (int): number of input channels\n",
    "        num_classes (int): number of output classes (including background)\n",
    "    \"\"\"\n",
    "\n",
    "    def __init__(self, in_channels, num_classes, m_transfo):\n",
    "        super(FastRCNNPredictor_custom, self).__init__()\n",
    "        self.cls_score = nn.Sequential(nn.Linear(in_features=1024, out_features = in_channels, bias=False),nn.Linear(in_channels, num_classes))\n",
    "        self.bbox_pred = nn.Sequential(nn.Linear(in_features=1024, out_features = in_channels, bias=False), nn.Linear(in_channels, num_classes * 4))\n",
    "        self.cls_score[0].weight = nn.Parameter(m_transfo, requires_grad = False)\n",
    "        self.bbox_pred[0].weight = nn.Parameter(m_transfo, requires_grad = False)\n",
    "\n",
    "    def forward(self, x):\n",
    "        if x.dim() == 4:\n",
    "            assert list(x.shape[2:]) == [1, 1]\n",
    "        x = x.flatten(start_dim=1)\n",
    "        scores = self.cls_score(x)\n",
    "        bbox_deltas = self.bbox_pred(x)\n",
    "\n",
    "        return scores, bbox_deltas"
   ]
  },
  {
   "cell_type": "code",
   "execution_count": null,
   "metadata": {},
   "outputs": [],
   "source": [
    "device = torch.device('cuda') if torch.cuda.is_available() else torch.device('cpu')\n",
    "\n",
    "# our dataset has two classes only - background and person\n",
    "num_classes = 2\n",
    "\n",
    "# get the model using our helper function\n",
    "model = get_model_from_pretrained(num_classes)\n",
    "\n",
    "# move model to the right device\n",
    "model.to(device)\n",
    "\n",
    "for param in model.parameters(): # to freeze all existing weights\n",
    "\n",
    "    param.requires_grad = False\n",
    "\n",
    "# vector are of size 100 after the transformation\n",
    "model.roi_heads.box_predictor = FastRCNNPredictor_custom(M.shape[0], 2, Xa.T.float())\n",
    "# model.roi_heads.box_predictor = FastRCNNPredictor_custom(in_channels=100, num_classes=2, m_transfo=Xa.T.float()) \n",
    "\n",
    "# move model to the right device\n",
    "model.to(device)\n",
    "\n",
    "# construct an optimizer\n",
    "# We will only retrain model.roi_heads.box_predictor (2 last layers)\n",
    "params = [p for p in model.parameters() if p.requires_grad]\n",
    "optimizer = torch.optim.SGD(params, lr=0.0003, momentum=0.9)\n",
    "\n",
    "lr_scheduler = torch.optim.lr_scheduler.MultiStepLR(optimizer,milestones=[5,10], gamma=0.1)"
   ]
  },
  {
   "cell_type": "code",
   "execution_count": null,
   "metadata": {},
   "outputs": [],
   "source": [
    "# load fine-tuned weights from the model of the projections\n",
    "model.load_state_dict(torch.load('saved_models/50_rpn_roi_1_method3.2_512_model.pt'))\n",
    "optimizer.load_state_dict(torch.load('saved_models/50_rpn_roi_1_method3.2_512_optimizer.pt'))\n",
    "lr_scheduler.load_state_dict(torch.load('saved_models/50_rpn_roi_1_method3.2_512_scheduler.pt'))"
   ]
  },
  {
   "cell_type": "code",
   "execution_count": null,
   "metadata": {},
   "outputs": [],
   "source": []
  }
 ],
 "metadata": {
  "accelerator": "GPU",
  "colab": {
   "collapsed_sections": [],
   "name": "Copy of Step1_TransferLearning.ipynb",
   "provenance": []
  },
  "kernelspec": {
   "display_name": "Animals",
   "language": "python",
   "name": "animals"
  },
  "language_info": {
   "codemirror_mode": {
    "name": "ipython",
    "version": 3
   },
   "file_extension": ".py",
   "mimetype": "text/x-python",
   "name": "python",
   "nbconvert_exporter": "python",
   "pygments_lexer": "ipython3",
   "version": "3.7.11"
  }
 },
 "nbformat": 4,
 "nbformat_minor": 1
}
