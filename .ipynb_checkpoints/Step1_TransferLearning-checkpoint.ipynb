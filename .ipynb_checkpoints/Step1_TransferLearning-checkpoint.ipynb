{
 "cells": [
  {
   "cell_type": "markdown",
   "metadata": {},
   "source": [
    "# Imports"
   ]
  },
  {
   "cell_type": "code",
   "execution_count": 1,
   "metadata": {
    "id": "3RUQCnETVJhK"
   },
   "outputs": [],
   "source": [
    "import time\n",
    "import json\n",
    "import matplotlib.pyplot as plt\n",
    "import torch\n",
    "\n",
    "import torchvision\n",
    "from torch.utils.data import Dataset, DataLoader\n",
    "from torchvision.transforms import ToTensor\n",
    "import os\n",
    "from torchvision.io import read_image\n",
    "from PIL import Image\n",
    "\n",
    "import numpy as np\n",
    "import matplotlib.patches as patches\n",
    "from torchvision import transforms\n",
    "\n",
    "from torchvision.models.detection.faster_rcnn import FastRCNNPredictor\n",
    "\n",
    "from torchmetrics.detection.map import MeanAveragePrecision\n",
    "\n",
    "import pycocotools"
   ]
  },
  {
   "cell_type": "code",
   "execution_count": 2,
   "metadata": {},
   "outputs": [],
   "source": [
    "# imports from local lib files\n",
    "import utils\n",
    "import transforms\n",
    "import coco_eval\n",
    "from engine import train_one_epoch, evaluate"
   ]
  },
  {
   "cell_type": "markdown",
   "metadata": {},
   "source": [
    "# Baseline"
   ]
  },
  {
   "cell_type": "markdown",
   "metadata": {
    "id": "CFo8FhOT4-Yf"
   },
   "source": [
    "## File paths"
   ]
  },
  {
   "cell_type": "code",
   "execution_count": 3,
   "metadata": {
    "id": "IlU99PhcSNDv"
   },
   "outputs": [],
   "source": [
    "output_path = 'output'\n",
    "img_folder = 'eccv_18_all_images_sm'\n",
    "\n",
    "cis_test_ann_path = 'eccv_18_annotation_files/cis_test_annotations.json'\n",
    "cis_val_ann_path = 'eccv_18_annotation_files/cis_val_annotations.json'\n",
    "train_ann_path = 'eccv_18_annotation_files/train_annotations.json'\n",
    "trans_test_ann_path = 'eccv_18_annotation_files/trans_test_annotations.json'\n",
    "trans_val_ann_path = 'eccv_18_annotation_files/trans_val_annotations.json'"
   ]
  },
  {
   "cell_type": "markdown",
   "metadata": {
    "id": "08r4QhagWuKZ"
   },
   "source": [
    "## Basic data exploration"
   ]
  },
  {
   "cell_type": "code",
   "execution_count": 4,
   "metadata": {
    "id": "5tYL7gDDW09R"
   },
   "outputs": [],
   "source": [
    "cis_test_ann = json.load(open(cis_test_ann_path))\n",
    "cis_val_ann = json.load(open(cis_val_ann_path))\n",
    "train_ann = json.load(open(train_ann_path))\n",
    "trans_test_ann = json.load(open(trans_test_ann_path))\n",
    "trans_val_ann = json.load(open(trans_val_ann_path))"
   ]
  },
  {
   "cell_type": "code",
   "execution_count": 5,
   "metadata": {
    "colab": {
     "base_uri": "https://localhost:8080/"
    },
    "id": "Qbuy1jLsWuew",
    "outputId": "7ba79560-5443-4fea-f46c-c0e3acaa1588",
    "scrolled": true
   },
   "outputs": [
    {
     "name": "stdout",
     "output_type": "stream",
     "text": [
      "cis test set length: 15827\n",
      "cis val set length: 3484\n",
      "train set length: 13553\n",
      "trans test set length: 23275\n",
      "trans val set length: 1725\n"
     ]
    }
   ],
   "source": [
    "print('cis test set length:', len(cis_test_ann['images']))\n",
    "print('cis val set length:', len(cis_val_ann['images']))\n",
    "print('train set length:', len(train_ann['images']))\n",
    "print('trans test set length:', len(trans_test_ann['images']))\n",
    "print('trans val set length:', len(trans_val_ann['images']))"
   ]
  },
  {
   "cell_type": "code",
   "execution_count": 6,
   "metadata": {
    "colab": {
     "base_uri": "https://localhost:8080/",
     "height": 286
    },
    "id": "iOwBQIVEYWkN",
    "outputId": "c91a5292-95b4-4e30-9e96-a5cbbc6cdf66"
   },
   "outputs": [],
   "source": [
    "# i = 0\n",
    "\n",
    "# boxes = [trans_val_ann['annotations'][j]['bbox'] for j in range(len(trans_val_ann['annotations'])) \n",
    "#          if trans_val_ann['annotations'][j]['image_id']==trans_val_ann['images'][i]['id'] \n",
    "#          and 'bbox' in trans_val_ann['annotations'][j].keys()]\n",
    "\n",
    "# img_path = os.path.join('eccv_18_all_images_sm', trans_val_ann['images'][i]['file_name']) # to change\n",
    "\n",
    "# image = read_image(img_path)\n",
    "\n",
    "# fig, ax = plt.subplots()\n",
    "# ax.imshow(image[0].squeeze(),cmap=\"gray\")\n",
    "\n",
    "# scale_x = image.shape[2] / trans_val_ann['images'][i]['width'] \n",
    "# scale_y = image.shape[1] / trans_val_ann['images'][i]['height']\n",
    "\n",
    "# boxes = torch.as_tensor(boxes)\n",
    "\n",
    "# for i in range(boxes.shape[0]):\n",
    "#     boxes[i][0] = torch.round(boxes[i][0] * scale_x)\n",
    "#     boxes[i][1] = torch.round(boxes[i][1] * scale_y)\n",
    "#     boxes[i][2] = torch.round(boxes[i][2] * scale_x)\n",
    "#     boxes[i][3] = torch.round(boxes[i][3] * scale_y)\n",
    "\n",
    "#     boxes[i][2] = boxes[i][0] + boxes[i][2]\n",
    "#     boxes[i][3] = boxes[i][1] + boxes[i][3]\n",
    "\n",
    "# target = {}\n",
    "# target[\"boxes\"] = boxes\n",
    "\n",
    "# rect = patches.Rectangle((boxes[0][0], boxes[0][1]), boxes[0][2]-boxes[0][0], \n",
    "#                          boxes[0][3]-boxes[0][1], linewidth=2, edgecolor='r', facecolor='none')\n",
    "# ax.add_patch(rect)"
   ]
  },
  {
   "cell_type": "markdown",
   "metadata": {
    "id": "OMhB4CM354Px"
   },
   "source": [
    "## Utils"
   ]
  },
  {
   "cell_type": "code",
   "execution_count": 7,
   "metadata": {
    "id": "3mHaZNrt7D98"
   },
   "outputs": [],
   "source": [
    "# In paper :  ' ... and employ horizontal flipping for data augmentation. ( for detection)\n",
    "\n",
    "import transforms as T   # from git hub repo\n",
    "\n",
    "data_transform = {'train': T.RandomHorizontalFlip(0.5)}"
   ]
  },
  {
   "cell_type": "code",
   "execution_count": 8,
   "metadata": {},
   "outputs": [],
   "source": [
    "# Returns a list with the idx of images with at least one bounding box (img_wbbox) and a \n",
    "# list with the number of bbox for each valid image (num_bbox)\n",
    "def get_img_with_bbox(file_path):\n",
    "  \n",
    "    file = json.load(open(file_path))\n",
    "    img_wbbox = []\n",
    "    num_bbox = []\n",
    "\n",
    "    for i in range(len(file['images'])):\n",
    "        bboxes = [file['annotations'][j]['bbox'] \n",
    "                  for j in range(len(file['annotations'])) \n",
    "                  if file['annotations'][j]['image_id']==file['images'][i]['id'] \n",
    "                  and 'bbox' in file['annotations'][j].keys()]\n",
    "\n",
    "        if len(bboxes)!=0:\n",
    "            img_wbbox.append(i)\n",
    "\n",
    "            num_bbox.append(len(bboxes))\n",
    "\n",
    "    return img_wbbox, num_bbox"
   ]
  },
  {
   "cell_type": "code",
   "execution_count": 9,
   "metadata": {
    "id": "SdJaZm5aOJ6y"
   },
   "outputs": [],
   "source": [
    "class CustomImageDataset(Dataset):\n",
    "    def __init__(self, label_path, img_dir, valid_img, transform = None):\n",
    "        self.label_file = json.load(open(label_path))\n",
    "        self.img_dir = img_dir\n",
    "        self.transform = transform\n",
    "        self.valid_img = valid_img\n",
    "\n",
    "    def __len__(self):\n",
    "        return len(self.valid_img)\n",
    "\n",
    "    def __getitem__(self, idx):\n",
    "        \n",
    "        idx = self.valid_img[idx] # consider only images with bbox annotations\n",
    "        img_path = os.path.join(self.img_dir, self.label_file['images'][idx]['file_name'])\n",
    "        image = read_image(img_path)\n",
    "\n",
    "        conv = torchvision.transforms.ToTensor()\n",
    "        # if image.shape[0]==1:\n",
    "        # some images have only one channel, we convert them to rgb\n",
    "        image = Image.open(img_path).convert(\"RGB\")\n",
    "        image = conv(image)\n",
    "\n",
    "        boxes = [self.label_file['annotations'][j]['bbox'] \n",
    "                 for j in range(len(self.label_file['annotations'])) \n",
    "                 if self.label_file['annotations'][j]['image_id']==self.label_file['images'][idx]['id']]\n",
    "        \n",
    "        label = [self.label_file['annotations'][j]['category_id'] \n",
    "                 for j in range(len(self.label_file['annotations'])) \n",
    "                 if self.label_file['annotations'][j]['image_id']==self.label_file['images'][idx]['id']]\n",
    "\n",
    "        # transform bbox coords to adjust for resizing\n",
    "        scale_x = image.shape[2] / self.label_file['images'][idx]['width'] \n",
    "        scale_y = image.shape[1] / self.label_file['images'][idx]['height']\n",
    "\n",
    "        boxes = torch.as_tensor(boxes)\n",
    "        for i in range(boxes.shape[0]):\n",
    "            boxes[i][0] = torch.round(boxes[i][0] * scale_x)\n",
    "            boxes[i][1] = torch.round(boxes[i][1] * scale_y)\n",
    "            boxes[i][2] = torch.round(boxes[i][2] * scale_x)\n",
    "            boxes[i][3] = torch.round(boxes[i][3] * scale_y)\n",
    "\n",
    "            boxes[i][2] = boxes[i][0] + boxes[i][2] # to transform to pytorch bbox format\n",
    "            boxes[i][3] = boxes[i][1] + boxes[i][3]\n",
    "\n",
    "        label = torch.as_tensor(label)\n",
    "        label = torch.where(label==30,0,1)  # 0 if empty (categ id = 30), 1 if animal\n",
    "        image_id = torch.tensor([idx])\n",
    "        area = (boxes[:, 3] - boxes[:, 1]) * (boxes[:, 2] - boxes[:, 0])\n",
    "        iscrowd = torch.zeros((boxes.shape[0],), dtype=torch.int64)\n",
    "\n",
    "        target = {}\n",
    "        target[\"boxes\"] = boxes\n",
    "        target[\"labels\"] = label\n",
    "        target[\"image_id\"] = image_id\n",
    "        target['area']=area\n",
    "        target['iscrowd']=iscrowd\n",
    "\n",
    "        # TO DO : resize all to same size\n",
    "\n",
    "        if self.transform:\n",
    "            # transform image AND target\n",
    "            image, target = self.transform(image, target)\n",
    "\n",
    "        return image, target"
   ]
  },
  {
   "cell_type": "markdown",
   "metadata": {},
   "source": [
    " "
   ]
  },
  {
   "cell_type": "markdown",
   "metadata": {
    "id": "iuPqrCPG8wsr"
   },
   "source": [
    "## Pre-trained models\n",
    "Inspred from https://colab.research.google.com/github/pytorch/tutorials/blob/gh-pages/_downloads/torchvision_finetuning_instance_segmentation.ipynb#scrollTo=YjNHjVMOyYlH"
   ]
  },
  {
   "cell_type": "markdown",
   "metadata": {},
   "source": [
    "### Model with only the last layer to train"
   ]
  },
  {
   "cell_type": "code",
   "execution_count": null,
   "metadata": {
    "id": "vuz8DJUgccUx"
   },
   "outputs": [],
   "source": [
    "def get_model_from_pretrained(num_classes):\n",
    "\n",
    "    # load an instance segmentation model pre-trained on COCO\n",
    "    model = torchvision.models.detection.fasterrcnn_resnet50_fpn(pretrained=True)\n",
    "\n",
    "    for param in model.parameters(): # to freeze all existing weights\n",
    "        param.requires_grad = False\n",
    "\n",
    "    # get the number of input features for the classifier\n",
    "    in_features = model.roi_heads.box_predictor.cls_score.in_features\n",
    "    # replace the pre-trained head with a new one\n",
    "    model.roi_heads.box_predictor = FastRCNNPredictor(in_features, num_classes)\n",
    "\n",
    "    return model"
   ]
  },
  {
   "cell_type": "markdown",
   "metadata": {},
   "source": [
    "### Model with deeper layers to train"
   ]
  },
  {
   "cell_type": "code",
   "execution_count": null,
   "metadata": {},
   "outputs": [],
   "source": [
    "def get_model_from_pretrained(num_classes):\n",
    "\n",
    "    # load an instance segmentation model pre-trained on COCO\n",
    "    model = torchvision.models.detection.fasterrcnn_resnet50_fpn(pretrained=True)\n",
    "\n",
    "    for param in model.parameters(): # to freeze all existing weights\n",
    "        param.requires_grad = False\n",
    "\n",
    "    for param in model.roi_heads.parameters():\n",
    "        param.requires_grad = True\n",
    "\n",
    "    # get the number of input features for the classifier\n",
    "    in_features = model.roi_heads.box_predictor.cls_score.in_features\n",
    "    # replace the pre-trained head with a new one\n",
    "    model.roi_heads.box_predictor = FastRCNNPredictor(in_features, num_classes)\n",
    "\n",
    "    return model"
   ]
  },
  {
   "cell_type": "markdown",
   "metadata": {},
   "source": [
    "### Model with even deeper layers to train"
   ]
  },
  {
   "cell_type": "code",
   "execution_count": 10,
   "metadata": {},
   "outputs": [],
   "source": [
    "def get_model_from_pretrained(num_classes):\n",
    "\n",
    "    # load an instance segmentation model pre-trained on COCO\n",
    "    model = torchvision.models.detection.fasterrcnn_resnet50_fpn(pretrained=True)\n",
    "\n",
    "    for param in model.parameters(): # to freeze all existing weights\n",
    "\n",
    "        param.requires_grad = False\n",
    "\n",
    "    for param in model.roi_heads.parameters():\n",
    "\n",
    "        param.requires_grad = True\n",
    "\n",
    "    for param in model.rpn.parameters():\n",
    "\n",
    "        param.requires_grad = True\n",
    "\n",
    "    # get the number of input features for the classifier\n",
    "    in_features = model.roi_heads.box_predictor.cls_score.in_features\n",
    "    # replace the pre-trained head with a new one\n",
    "    model.roi_heads.box_predictor = FastRCNNPredictor(in_features, num_classes)\n",
    "\n",
    "    return model"
   ]
  },
  {
   "cell_type": "markdown",
   "metadata": {},
   "source": [
    "### Params"
   ]
  },
  {
   "cell_type": "code",
   "execution_count": 11,
   "metadata": {
    "id": "hbSuc8Jwc5qT"
   },
   "outputs": [],
   "source": [
    "device = torch.device('cuda') if torch.cuda.is_available() else torch.device('cpu')\n",
    "\n",
    "# our dataset has two classes only - background and person\n",
    "num_classes = 2\n",
    "\n",
    "# get the model using our helper function\n",
    "model = get_model_from_pretrained(num_classes)\n",
    "\n",
    "# move model to the right device\n",
    "model.to(device)\n",
    "\n",
    "# construct an optimizer\n",
    "params = [p for p in model.parameters() if p.requires_grad]\n",
    "optimizer = torch.optim.SGD(params, lr=0.0003, momentum=0.9)\n",
    "\n",
    "# like in the paper, construct the scheduler\n",
    "lr_scheduler = torch.optim.lr_scheduler.MultiStepLR(optimizer,milestones=[5,10], gamma=0.1)"
   ]
  },
  {
   "cell_type": "markdown",
   "metadata": {},
   "source": [
    "## OPTIONAL - Loading/Importing a model\n",
    "#### Need to initiate the model, the optimizer and de scheduler before loading"
   ]
  },
  {
   "cell_type": "code",
   "execution_count": null,
   "metadata": {
    "scrolled": true
   },
   "outputs": [],
   "source": [
    "# NEED TO INITIATE THE MODEL, THE OPTIMIZER AND THE SCHEDULER BEFOREHAND (if )\n",
    "# load the model, the optimizer and the scheduler\n",
    "model.load_state_dict(torch.load('saved_models/15_method_3_model.pt'))\n",
    "optimizer.load_state_dict(torch.load('saved_models/15_method_3_optimizer.pt'))\n",
    "lr_scheduler.load_state_dict(torch.load('saved_models/15_method_3_scheduler.pt'))\n",
    "model.eval()"
   ]
  },
  {
   "cell_type": "markdown",
   "metadata": {},
   "source": [
    "## Create the dataloaders\n",
    "To load the data of the dataset efficiently for the model"
   ]
  },
  {
   "cell_type": "code",
   "execution_count": 13,
   "metadata": {},
   "outputs": [],
   "source": [
    "def create_dataloader(ann_path, batch_size, shuffle=True, transform=None):\n",
    "    images_with_bbox,_ = get_img_with_bbox(ann_path)\n",
    "    data = CustomImageDataset(ann_path, img_folder, images_with_bbox, transform)\n",
    "    return DataLoader(data, batch_size=batch_size, shuffle=shuffle, collate_fn=utils.collate_fn)"
   ]
  },
  {
   "cell_type": "markdown",
   "metadata": {},
   "source": [
    "#### You can specify the data augmentation transformation at will"
   ]
  },
  {
   "cell_type": "code",
   "execution_count": 14,
   "metadata": {},
   "outputs": [],
   "source": [
    "train_dataloader = create_dataloader(train_ann_path, 1)\n",
    "cis_valid_dataloader = create_dataloader(cis_val_ann_path, 10)\n",
    "trans_valid_dataloader = create_dataloader(trans_val_ann_path, 10)\n",
    "cis_test_dataloader = create_dataloader(cis_test_ann_path, 10)\n",
    "trans_test_dataloader = create_dataloader(trans_test_ann_path, 10)"
   ]
  },
  {
   "cell_type": "markdown",
   "metadata": {},
   "source": [
    " "
   ]
  },
  {
   "cell_type": "markdown",
   "metadata": {},
   "source": [
    "## Logs utils"
   ]
  },
  {
   "cell_type": "markdown",
   "metadata": {},
   "source": [
    "#### Train logs utils"
   ]
  },
  {
   "cell_type": "code",
   "execution_count": 15,
   "metadata": {},
   "outputs": [],
   "source": [
    "import time"
   ]
  },
  {
   "cell_type": "code",
   "execution_count": 16,
   "metadata": {},
   "outputs": [],
   "source": [
    "# Converts the smoothed values to a dictionnary of each values\n",
    "def smoothed_value_to_str(smoothed_value):\n",
    "    d_values = {}\n",
    "    d_values['median'] = smoothed_value.median\n",
    "    d_values['avg'] = smoothed_value.avg\n",
    "    d_values['global_avg'] = smoothed_value.global_avg\n",
    "    d_values['max'] = smoothed_value.max\n",
    "    d_values['value'] = smoothed_value.value\n",
    "    return d_values\n",
    "\n",
    "\n",
    "# Converts the train logs from MetricLogger to list\n",
    "def train_logs_to_lst(logs):\n",
    "    lst = []\n",
    "    for i in range(len(logs)):\n",
    "        d = {}\n",
    "        for key in logs[i].meters.keys():\n",
    "            d[key] = smoothed_value_to_str(logs[i].meters[key])\n",
    "        lst.append(d)\n",
    "    return lst\n",
    "\n",
    "\n",
    "# Puts the training logs into a json file with time dependent file name\n",
    "def train_logs_to_json(logs, ftime=time.strftime(\"%Y%m%d_%H%M%S\")):\n",
    "    train_metric_logs = train_logs_to_lst(logs)\n",
    "    filename = ftime + \"_train_logs.json\"\n",
    "    \n",
    "    with open('saved_logs/' + filename, 'w', encoding='utf-8') as f:\n",
    "        json.dump(train_metric_logs, f, ensure_ascii=False, indent=4)"
   ]
  },
  {
   "cell_type": "code",
   "execution_count": 17,
   "metadata": {},
   "outputs": [],
   "source": [
    "# Converts the train logs from MetricLogger to list\n",
    "def train_logs_to_lst(logs):\n",
    "    lst = []\n",
    "    for i in range(len(logs)):\n",
    "        d = {}\n",
    "        for key in logs[i].meters.keys():\n",
    "            d[key] = smoothed_value_to_str(logs[i].meters[key])\n",
    "        lst.append(d)\n",
    "    return lst"
   ]
  },
  {
   "cell_type": "code",
   "execution_count": 18,
   "metadata": {},
   "outputs": [],
   "source": [
    "# Puts the training logs into a json file with time dependent file name\n",
    "def train_logs_to_json(logs, ftime=time.strftime(\"%Y%m%d_%H%M%S\")):\n",
    "    train_metric_logs = train_logs_to_lst(logs)\n",
    "    filename = ftime + \"_train_logs.json\"\n",
    "    \n",
    "    with open('saved_logs/' + filename, 'w', encoding='utf-8') as f:\n",
    "        json.dump(train_metric_logs, f, ensure_ascii=False, indent=4)"
   ]
  },
  {
   "cell_type": "markdown",
   "metadata": {},
   "source": [
    "#### Valid logs utils"
   ]
  },
  {
   "cell_type": "code",
   "execution_count": 19,
   "metadata": {},
   "outputs": [],
   "source": [
    "# Merge the dicts of a list \n",
    "def merge_dict(logs):\n",
    "    logs_better = []\n",
    "    try:\n",
    "        for i in range(len(logs)):\n",
    "            logs_better.append({**logs[i][0], **logs[i][1], **logs[i][2], **logs[i][3]})\n",
    "        return logs_better\n",
    "    except:\n",
    "        print(logs[0])\n",
    "        logs_better = logs\n",
    "        return logs_better"
   ]
  },
  {
   "cell_type": "code",
   "execution_count": 20,
   "metadata": {},
   "outputs": [],
   "source": [
    "# Converts the valid logs from list of dictionnaries to string\n",
    "# TODO: add if type == list to not do anything if its already a list\n",
    "def valid_logs_to_lst(valid_logs):\n",
    "    logs = merge_dict(valid_logs)\n",
    "    lst = []\n",
    "    for i in range(len(logs)):\n",
    "        d = {}\n",
    "        for key in logs[i].keys():\n",
    "            d[key] = logs[i][key].cpu().numpy().tolist()\n",
    "        lst.append(d)\n",
    "    return lst"
   ]
  },
  {
   "cell_type": "code",
   "execution_count": 21,
   "metadata": {},
   "outputs": [],
   "source": [
    "# Puts the cis validation logs into a json file with time dependent file name\n",
    "def cis_valid_logs_to_json(logs, ftime=time.strftime(\"%Y%m%d_%H%M%S\")):\n",
    "    valid_metric_logs = valid_logs_to_lst(logs)\n",
    "    filename = ftime + \"_cis_valid_logs.json\"\n",
    "    \n",
    "    with open('saved_logs/' + filename, 'w', encoding='utf-8') as f:\n",
    "        json.dump(valid_metric_logs, f, ensure_ascii=False, indent=4)"
   ]
  },
  {
   "cell_type": "code",
   "execution_count": 22,
   "metadata": {},
   "outputs": [],
   "source": [
    "# Puts the trans validation logs into a json file with time dependent file name\n",
    "def trans_valid_logs_to_json(logs, ftime=time.strftime(\"%Y%m%d_%H%M%S\")):\n",
    "    valid_metric_logs = valid_logs_to_lst(logs)\n",
    "    filename = ftime + \"_trans_valid_logs.json\"\n",
    "    \n",
    "    with open('saved_logs/' + filename, 'w', encoding='utf-8') as f:\n",
    "        json.dump(valid_metric_logs, f, ensure_ascii=False, indent=4)"
   ]
  },
  {
   "cell_type": "markdown",
   "metadata": {},
   "source": [
    "## Training the model"
   ]
  },
  {
   "cell_type": "code",
   "execution_count": 25,
   "metadata": {},
   "outputs": [],
   "source": [
    "# Defining the train function\n",
    "def train(dataloader, num_epochs, save_logs=True, save_model=True, print_freq=100):\n",
    "    \n",
    "    model.train()\n",
    "    \n",
    "    all_train_logs = []\n",
    "    all_cis_valid_logs = []\n",
    "    all_trans_valid_logs = []\n",
    "\n",
    "    for epoch in range(num_epochs):\n",
    "        \n",
    "        # train for one epoch, printing every 100 images\n",
    "        train_logs = train_one_epoch(model, optimizer, dataloader, device, epoch, print_freq)\n",
    "        all_train_logs.append(train_logs)\n",
    "        \n",
    "        # update the learning rate\n",
    "        lr_scheduler.step()\n",
    "        \n",
    "        # evaluate on the validation dataset after training one epoch\n",
    "        for images, targets in trans_valid_dataloader: # can do batch of 10 prob.\n",
    "            images = [image.to(device) for image in images]\n",
    "            targets = [{k: v.to(device) for k, v in t.items()} for t in targets]\n",
    "\n",
    "            with torch.no_grad():\n",
    "                trans_loss_dict = model(images, targets)\n",
    "                trans_loss_dict = [{k: loss.to('cpu')} for k, loss in trans_loss_dict.items()]\n",
    "                all_trans_valid_logs.append(trans_loss_dict)\n",
    "\n",
    "\n",
    "        for images, targets in cis_valid_dataloader: # can do batch of 10 prob.\n",
    "            images = [image.to(device) for image in images]\n",
    "            targets = [{k: v.to(device) for k, v in t.items()} for t in targets]\n",
    "\n",
    "            with torch.no_grad():\n",
    "                cis_loss_dict = model(images, targets)\n",
    "                cis_loss_dict = [{k: loss.to('cpu')} for k, loss in cis_loss_dict.items()]\n",
    "                all_cis_valid_logs.append(cis_loss_dict)\n",
    "    \n",
    "    filetime = time.strftime(\"%Y%m%d_%H%M%S\")\n",
    "    \n",
    "    if save_logs:\n",
    "        \n",
    "        # save the train, cis valid and trans valid logs\n",
    "        train_logs_to_json(all_train_logs, filetime)\n",
    "        cis_valid_logs_to_json(all_cis_valid_logs, filetime)\n",
    "        trans_valid_logs_to_json(all_trans_valid_logs, filetime)\n",
    "        \n",
    "    if save_model:\n",
    "        \n",
    "        # save the model, the optimizer and the scheduler\n",
    "        torch.save(model.state_dict(), 'saved_models/' + filetime + '_model.pt')\n",
    "        torch.save(optimizer.state_dict(), 'saved_models/' + filetime + '_optimizer.pt')\n",
    "        torch.save(lr_scheduler.state_dict(), 'saved_models/' + filetime + '_scheduler.pt')\n",
    "    \n",
    "    \n",
    "    \n",
    "    return all_train_logs, all_trans_valid_logs, all_cis_valid_logs\n"
   ]
  },
  {
   "cell_type": "markdown",
   "metadata": {},
   "source": [
    "#### Before training"
   ]
  },
  {
   "cell_type": "code",
   "execution_count": 24,
   "metadata": {},
   "outputs": [
    {
     "data": {
      "text/plain": [
       "'NVIDIA GeForce GTX 1080 Ti'"
      ]
     },
     "execution_count": 24,
     "metadata": {},
     "output_type": "execute_result"
    }
   ],
   "source": [
    "# PARAMETERS TO TUNE BEFORE TRAINING\n",
    "num_epochs = 25\n",
    "\n",
    "# CHECK DEVICE BEFORE TRAINING\n",
    "torch.cuda.get_device_name(0)"
   ]
  },
  {
   "cell_type": "markdown",
   "metadata": {},
   "source": [
    "#### This next cell starts the training of the model"
   ]
  },
  {
   "cell_type": "code",
   "execution_count": null,
   "metadata": {
    "scrolled": true
   },
   "outputs": [
    {
     "name": "stderr",
     "output_type": "stream",
     "text": [
      "C:\\Users\\kevin\\miniconda3\\envs\\animals\\lib\\site-packages\\torch\\functional.py:445: UserWarning: torch.meshgrid: in an upcoming release, it will be required to pass the indexing argument. (Triggered internally at  ..\\aten\\src\\ATen\\native\\TensorShape.cpp:2157.)\n",
      "  return _VF.meshgrid(tensors, **kwargs)  # type: ignore[attr-defined]\n"
     ]
    },
    {
     "name": "stdout",
     "output_type": "stream",
     "text": [
      "Epoch: [0]  [    0/12099]  eta: 7:39:39  lr: 0.000001  loss: 0.7805 (0.7805)  loss_classifier: 0.6758 (0.6758)  loss_box_reg: 0.0306 (0.0306)  loss_objectness: 0.0696 (0.0696)  loss_rpn_box_reg: 0.0046 (0.0046)  time: 2.2795  data: 0.0355  max mem: 594\n",
      "Epoch: [0]  [  100/12099]  eta: 0:30:41  lr: 0.000031  loss: 0.3200 (0.5256)  loss_classifier: 0.1587 (0.3526)  loss_box_reg: 0.1138 (0.1244)  loss_objectness: 0.0079 (0.0413)  loss_rpn_box_reg: 0.0023 (0.0073)  time: 0.1356  data: 0.0331  max mem: 652\n",
      "Epoch: [0]  [  200/12099]  eta: 0:29:34  lr: 0.000061  loss: 0.2494 (0.4013)  loss_classifier: 0.1123 (0.2375)  loss_box_reg: 0.1054 (0.1219)  loss_objectness: 0.0058 (0.0342)  loss_rpn_box_reg: 0.0031 (0.0076)  time: 0.1678  data: 0.0545  max mem: 652\n",
      "Epoch: [0]  [  300/12099]  eta: 0:28:08  lr: 0.000091  loss: 0.2388 (0.3575)  loss_classifier: 0.0804 (0.1928)  loss_box_reg: 0.0903 (0.1223)  loss_objectness: 0.0411 (0.0352)  loss_rpn_box_reg: 0.0018 (0.0073)  time: 0.1394  data: 0.0383  max mem: 652\n",
      "Epoch: [0]  [  400/12099]  eta: 0:27:46  lr: 0.000120  loss: 0.1980 (0.3254)  loss_classifier: 0.0704 (0.1665)  loss_box_reg: 0.1037 (0.1184)  loss_objectness: 0.0157 (0.0335)  loss_rpn_box_reg: 0.0025 (0.0070)  time: 0.1396  data: 0.0337  max mem: 652\n",
      "Epoch: [0]  [  500/12099]  eta: 0:27:26  lr: 0.000150  loss: 0.2025 (0.3045)  loss_classifier: 0.0760 (0.1491)  loss_box_reg: 0.1121 (0.1164)  loss_objectness: 0.0036 (0.0321)  loss_rpn_box_reg: 0.0030 (0.0070)  time: 0.1404  data: 0.0350  max mem: 652\n",
      "Epoch: [0]  [  600/12099]  eta: 0:27:08  lr: 0.000180  loss: 0.1853 (0.2907)  loss_classifier: 0.0593 (0.1369)  loss_box_reg: 0.1172 (0.1151)  loss_objectness: 0.0044 (0.0318)  loss_rpn_box_reg: 0.0016 (0.0069)  time: 0.1411  data: 0.0353  max mem: 652\n",
      "Epoch: [0]  [  700/12099]  eta: 0:26:52  lr: 0.000210  loss: 0.1704 (0.2763)  loss_classifier: 0.0620 (0.1276)  loss_box_reg: 0.0704 (0.1120)  loss_objectness: 0.0085 (0.0301)  loss_rpn_box_reg: 0.0022 (0.0067)  time: 0.1439  data: 0.0352  max mem: 652\n",
      "Epoch: [0]  [  800/12099]  eta: 0:26:36  lr: 0.000240  loss: 0.1603 (0.2642)  loss_classifier: 0.0561 (0.1194)  loss_box_reg: 0.0870 (0.1084)  loss_objectness: 0.0057 (0.0296)  loss_rpn_box_reg: 0.0025 (0.0068)  time: 0.1417  data: 0.0355  max mem: 652\n",
      "Epoch: [0]  [  900/12099]  eta: 0:26:16  lr: 0.000270  loss: 0.1479 (0.2545)  loss_classifier: 0.0423 (0.1134)  loss_box_reg: 0.0831 (0.1056)  loss_objectness: 0.0051 (0.0289)  loss_rpn_box_reg: 0.0027 (0.0067)  time: 0.1304  data: 0.0304  max mem: 652\n",
      "Epoch: [0]  [ 1000/12099]  eta: 0:25:51  lr: 0.000300  loss: 0.1645 (0.2455)  loss_classifier: 0.0612 (0.1079)  loss_box_reg: 0.0697 (0.1026)  loss_objectness: 0.0082 (0.0283)  loss_rpn_box_reg: 0.0021 (0.0067)  time: 0.1313  data: 0.0317  max mem: 652\n",
      "Epoch: [0]  [ 1100/12099]  eta: 0:25:33  lr: 0.000300  loss: 0.1262 (0.2368)  loss_classifier: 0.0433 (0.1025)  loss_box_reg: 0.0669 (0.0997)  loss_objectness: 0.0076 (0.0279)  loss_rpn_box_reg: 0.0012 (0.0067)  time: 0.1324  data: 0.0333  max mem: 652\n",
      "Epoch: [0]  [ 1200/12099]  eta: 0:25:11  lr: 0.000300  loss: 0.1384 (0.2296)  loss_classifier: 0.0458 (0.0986)  loss_box_reg: 0.0564 (0.0973)  loss_objectness: 0.0137 (0.0272)  loss_rpn_box_reg: 0.0025 (0.0066)  time: 0.1330  data: 0.0318  max mem: 652\n",
      "Epoch: [0]  [ 1300/12099]  eta: 0:24:57  lr: 0.000300  loss: 0.1555 (0.2231)  loss_classifier: 0.0570 (0.0952)  loss_box_reg: 0.0717 (0.0949)  loss_objectness: 0.0138 (0.0264)  loss_rpn_box_reg: 0.0023 (0.0065)  time: 0.1284  data: 0.0317  max mem: 652\n",
      "Epoch: [0]  [ 1400/12099]  eta: 0:24:34  lr: 0.000300  loss: 0.1370 (0.2170)  loss_classifier: 0.0553 (0.0921)  loss_box_reg: 0.0596 (0.0929)  loss_objectness: 0.0062 (0.0256)  loss_rpn_box_reg: 0.0022 (0.0065)  time: 0.1275  data: 0.0305  max mem: 652\n",
      "Epoch: [0]  [ 1500/12099]  eta: 0:24:15  lr: 0.000300  loss: 0.1217 (0.2117)  loss_classifier: 0.0328 (0.0891)  loss_box_reg: 0.0637 (0.0909)  loss_objectness: 0.0058 (0.0251)  loss_rpn_box_reg: 0.0025 (0.0065)  time: 0.1293  data: 0.0316  max mem: 652\n",
      "Epoch: [0]  [ 1600/12099]  eta: 0:23:54  lr: 0.000300  loss: 0.1344 (0.2068)  loss_classifier: 0.0505 (0.0868)  loss_box_reg: 0.0640 (0.0892)  loss_objectness: 0.0067 (0.0243)  loss_rpn_box_reg: 0.0022 (0.0065)  time: 0.1276  data: 0.0310  max mem: 652\n",
      "Epoch: [0]  [ 1700/12099]  eta: 0:23:45  lr: 0.000300  loss: 0.1156 (0.2024)  loss_classifier: 0.0388 (0.0846)  loss_box_reg: 0.0606 (0.0878)  loss_objectness: 0.0074 (0.0236)  loss_rpn_box_reg: 0.0021 (0.0065)  time: 0.1360  data: 0.0343  max mem: 652\n",
      "Epoch: [0]  [ 1800/12099]  eta: 0:23:31  lr: 0.000300  loss: 0.1174 (0.1983)  loss_classifier: 0.0373 (0.0824)  loss_box_reg: 0.0573 (0.0861)  loss_objectness: 0.0128 (0.0234)  loss_rpn_box_reg: 0.0017 (0.0064)  time: 0.1306  data: 0.0330  max mem: 652\n",
      "Epoch: [0]  [ 1900/12099]  eta: 0:23:16  lr: 0.000300  loss: 0.1127 (0.1946)  loss_classifier: 0.0377 (0.0807)  loss_box_reg: 0.0569 (0.0848)  loss_objectness: 0.0080 (0.0229)  loss_rpn_box_reg: 0.0012 (0.0062)  time: 0.1284  data: 0.0314  max mem: 652\n",
      "Epoch: [0]  [ 2000/12099]  eta: 0:23:03  lr: 0.000300  loss: 0.1130 (0.1916)  loss_classifier: 0.0308 (0.0791)  loss_box_reg: 0.0500 (0.0837)  loss_objectness: 0.0042 (0.0226)  loss_rpn_box_reg: 0.0015 (0.0062)  time: 0.1343  data: 0.0346  max mem: 652\n",
      "Epoch: [0]  [ 2100/12099]  eta: 0:22:47  lr: 0.000300  loss: 0.1369 (0.1890)  loss_classifier: 0.0373 (0.0778)  loss_box_reg: 0.0577 (0.0828)  loss_objectness: 0.0062 (0.0223)  loss_rpn_box_reg: 0.0020 (0.0061)  time: 0.1312  data: 0.0326  max mem: 652\n",
      "Epoch: [0]  [ 2200/12099]  eta: 0:22:36  lr: 0.000300  loss: 0.1388 (0.1862)  loss_classifier: 0.0426 (0.0763)  loss_box_reg: 0.0750 (0.0818)  loss_objectness: 0.0140 (0.0220)  loss_rpn_box_reg: 0.0026 (0.0061)  time: 0.1520  data: 0.0427  max mem: 652\n",
      "Epoch: [0]  [ 2300/12099]  eta: 0:22:22  lr: 0.000300  loss: 0.1335 (0.1846)  loss_classifier: 0.0429 (0.0754)  loss_box_reg: 0.0542 (0.0811)  loss_objectness: 0.0107 (0.0220)  loss_rpn_box_reg: 0.0015 (0.0061)  time: 0.1325  data: 0.0331  max mem: 652\n",
      "Epoch: [0]  [ 2400/12099]  eta: 0:22:08  lr: 0.000300  loss: 0.1155 (0.1825)  loss_classifier: 0.0380 (0.0743)  loss_box_reg: 0.0558 (0.0804)  loss_objectness: 0.0080 (0.0217)  loss_rpn_box_reg: 0.0048 (0.0061)  time: 0.1360  data: 0.0351  max mem: 652\n",
      "Epoch: [0]  [ 2500/12099]  eta: 0:21:56  lr: 0.000300  loss: 0.1196 (0.1808)  loss_classifier: 0.0392 (0.0734)  loss_box_reg: 0.0548 (0.0798)  loss_objectness: 0.0065 (0.0215)  loss_rpn_box_reg: 0.0013 (0.0061)  time: 0.1390  data: 0.0328  max mem: 652\n",
      "Epoch: [0]  [ 2600/12099]  eta: 0:21:46  lr: 0.000300  loss: 0.1140 (0.1790)  loss_classifier: 0.0297 (0.0724)  loss_box_reg: 0.0575 (0.0793)  loss_objectness: 0.0044 (0.0212)  loss_rpn_box_reg: 0.0016 (0.0060)  time: 0.1532  data: 0.0409  max mem: 652\n",
      "Epoch: [0]  [ 2700/12099]  eta: 0:21:35  lr: 0.000300  loss: 0.1067 (0.1767)  loss_classifier: 0.0381 (0.0714)  loss_box_reg: 0.0525 (0.0786)  loss_objectness: 0.0060 (0.0208)  loss_rpn_box_reg: 0.0020 (0.0059)  time: 0.1328  data: 0.0332  max mem: 652\n",
      "Epoch: [0]  [ 2800/12099]  eta: 0:21:22  lr: 0.000300  loss: 0.1060 (0.1750)  loss_classifier: 0.0325 (0.0706)  loss_box_reg: 0.0535 (0.0780)  loss_objectness: 0.0055 (0.0205)  loss_rpn_box_reg: 0.0012 (0.0059)  time: 0.1450  data: 0.0375  max mem: 652\n",
      "Epoch: [0]  [ 2900/12099]  eta: 0:21:09  lr: 0.000300  loss: 0.1027 (0.1736)  loss_classifier: 0.0394 (0.0699)  loss_box_reg: 0.0514 (0.0774)  loss_objectness: 0.0061 (0.0204)  loss_rpn_box_reg: 0.0012 (0.0059)  time: 0.1405  data: 0.0374  max mem: 652\n",
      "Epoch: [0]  [ 3000/12099]  eta: 0:20:54  lr: 0.000300  loss: 0.0955 (0.1722)  loss_classifier: 0.0300 (0.0692)  loss_box_reg: 0.0595 (0.0769)  loss_objectness: 0.0050 (0.0202)  loss_rpn_box_reg: 0.0015 (0.0059)  time: 0.1378  data: 0.0363  max mem: 652\n",
      "Epoch: [0]  [ 3100/12099]  eta: 0:20:42  lr: 0.000300  loss: 0.1176 (0.1707)  loss_classifier: 0.0474 (0.0685)  loss_box_reg: 0.0531 (0.0763)  loss_objectness: 0.0054 (0.0200)  loss_rpn_box_reg: 0.0020 (0.0059)  time: 0.1437  data: 0.0383  max mem: 652\n",
      "Epoch: [0]  [ 3200/12099]  eta: 0:20:30  lr: 0.000300  loss: 0.1320 (0.1697)  loss_classifier: 0.0509 (0.0680)  loss_box_reg: 0.0436 (0.0757)  loss_objectness: 0.0102 (0.0201)  loss_rpn_box_reg: 0.0016 (0.0059)  time: 0.1435  data: 0.0379  max mem: 652\n"
     ]
    },
    {
     "name": "stdout",
     "output_type": "stream",
     "text": [
      "Epoch: [0]  [ 3300/12099]  eta: 0:20:19  lr: 0.000300  loss: 0.1322 (0.1685)  loss_classifier: 0.0445 (0.0673)  loss_box_reg: 0.0465 (0.0753)  loss_objectness: 0.0085 (0.0200)  loss_rpn_box_reg: 0.0022 (0.0059)  time: 0.1408  data: 0.0359  max mem: 652\n",
      "Epoch: [0]  [ 3400/12099]  eta: 0:20:04  lr: 0.000300  loss: 0.1204 (0.1675)  loss_classifier: 0.0377 (0.0668)  loss_box_reg: 0.0579 (0.0751)  loss_objectness: 0.0067 (0.0197)  loss_rpn_box_reg: 0.0029 (0.0059)  time: 0.1353  data: 0.0328  max mem: 652\n",
      "Epoch: [0]  [ 3500/12099]  eta: 0:19:50  lr: 0.000300  loss: 0.1249 (0.1664)  loss_classifier: 0.0427 (0.0662)  loss_box_reg: 0.0497 (0.0748)  loss_objectness: 0.0090 (0.0195)  loss_rpn_box_reg: 0.0025 (0.0059)  time: 0.1486  data: 0.0389  max mem: 652\n",
      "Epoch: [0]  [ 3600/12099]  eta: 0:19:38  lr: 0.000300  loss: 0.1228 (0.1656)  loss_classifier: 0.0336 (0.0657)  loss_box_reg: 0.0603 (0.0746)  loss_objectness: 0.0096 (0.0194)  loss_rpn_box_reg: 0.0020 (0.0059)  time: 0.1510  data: 0.0392  max mem: 652\n",
      "Epoch: [0]  [ 3700/12099]  eta: 0:19:27  lr: 0.000300  loss: 0.0977 (0.1646)  loss_classifier: 0.0327 (0.0652)  loss_box_reg: 0.0511 (0.0742)  loss_objectness: 0.0046 (0.0193)  loss_rpn_box_reg: 0.0030 (0.0059)  time: 0.1562  data: 0.0406  max mem: 652\n",
      "Epoch: [0]  [ 3800/12099]  eta: 0:19:16  lr: 0.000300  loss: 0.1278 (0.1636)  loss_classifier: 0.0440 (0.0648)  loss_box_reg: 0.0642 (0.0739)  loss_objectness: 0.0068 (0.0191)  loss_rpn_box_reg: 0.0027 (0.0059)  time: 0.1408  data: 0.0360  max mem: 652\n",
      "Epoch: [0]  [ 3900/12099]  eta: 0:19:03  lr: 0.000300  loss: 0.1262 (0.1625)  loss_classifier: 0.0446 (0.0642)  loss_box_reg: 0.0539 (0.0736)  loss_objectness: 0.0092 (0.0189)  loss_rpn_box_reg: 0.0017 (0.0058)  time: 0.1358  data: 0.0343  max mem: 652\n",
      "Epoch: [0]  [ 4000/12099]  eta: 0:18:46  lr: 0.000300  loss: 0.1077 (0.1618)  loss_classifier: 0.0402 (0.0638)  loss_box_reg: 0.0506 (0.0733)  loss_objectness: 0.0091 (0.0188)  loss_rpn_box_reg: 0.0020 (0.0058)  time: 0.1254  data: 0.0295  max mem: 652\n",
      "Epoch: [0]  [ 4100/12099]  eta: 0:18:30  lr: 0.000300  loss: 0.1022 (0.1610)  loss_classifier: 0.0318 (0.0634)  loss_box_reg: 0.0482 (0.0731)  loss_objectness: 0.0059 (0.0187)  loss_rpn_box_reg: 0.0020 (0.0058)  time: 0.1266  data: 0.0301  max mem: 652\n",
      "Epoch: [0]  [ 4200/12099]  eta: 0:18:15  lr: 0.000300  loss: 0.1116 (0.1604)  loss_classifier: 0.0402 (0.0630)  loss_box_reg: 0.0545 (0.0728)  loss_objectness: 0.0071 (0.0187)  loss_rpn_box_reg: 0.0015 (0.0058)  time: 0.1411  data: 0.0372  max mem: 652\n",
      "Epoch: [0]  [ 4300/12099]  eta: 0:18:01  lr: 0.000300  loss: 0.1146 (0.1598)  loss_classifier: 0.0309 (0.0628)  loss_box_reg: 0.0642 (0.0726)  loss_objectness: 0.0040 (0.0186)  loss_rpn_box_reg: 0.0012 (0.0058)  time: 0.1384  data: 0.0352  max mem: 652\n",
      "Epoch: [0]  [ 4400/12099]  eta: 0:17:46  lr: 0.000300  loss: 0.1434 (0.1595)  loss_classifier: 0.0437 (0.0625)  loss_box_reg: 0.0779 (0.0727)  loss_objectness: 0.0058 (0.0186)  loss_rpn_box_reg: 0.0041 (0.0058)  time: 0.1294  data: 0.0322  max mem: 652\n",
      "Epoch: [0]  [ 4500/12099]  eta: 0:17:32  lr: 0.000300  loss: 0.0911 (0.1590)  loss_classifier: 0.0331 (0.0622)  loss_box_reg: 0.0475 (0.0726)  loss_objectness: 0.0057 (0.0184)  loss_rpn_box_reg: 0.0014 (0.0058)  time: 0.1305  data: 0.0308  max mem: 652\n",
      "Epoch: [0]  [ 4600/12099]  eta: 0:17:17  lr: 0.000300  loss: 0.1024 (0.1582)  loss_classifier: 0.0263 (0.0618)  loss_box_reg: 0.0555 (0.0724)  loss_objectness: 0.0073 (0.0183)  loss_rpn_box_reg: 0.0017 (0.0057)  time: 0.1407  data: 0.0369  max mem: 652\n",
      "Epoch: [0]  [ 4700/12099]  eta: 0:17:03  lr: 0.000300  loss: 0.1057 (0.1575)  loss_classifier: 0.0299 (0.0615)  loss_box_reg: 0.0619 (0.0721)  loss_objectness: 0.0035 (0.0182)  loss_rpn_box_reg: 0.0010 (0.0057)  time: 0.1380  data: 0.0349  max mem: 652\n",
      "Epoch: [0]  [ 4800/12099]  eta: 0:16:49  lr: 0.000300  loss: 0.1079 (0.1571)  loss_classifier: 0.0347 (0.0613)  loss_box_reg: 0.0562 (0.0719)  loss_objectness: 0.0057 (0.0182)  loss_rpn_box_reg: 0.0016 (0.0057)  time: 0.1428  data: 0.0382  max mem: 652\n",
      "Epoch: [0]  [ 4900/12099]  eta: 0:16:36  lr: 0.000300  loss: 0.1232 (0.1565)  loss_classifier: 0.0365 (0.0610)  loss_box_reg: 0.0613 (0.0717)  loss_objectness: 0.0079 (0.0181)  loss_rpn_box_reg: 0.0025 (0.0057)  time: 0.1266  data: 0.0290  max mem: 652\n",
      "Epoch: [0]  [ 5000/12099]  eta: 0:16:21  lr: 0.000300  loss: 0.1083 (0.1560)  loss_classifier: 0.0414 (0.0607)  loss_box_reg: 0.0571 (0.0715)  loss_objectness: 0.0071 (0.0181)  loss_rpn_box_reg: 0.0019 (0.0057)  time: 0.1329  data: 0.0345  max mem: 652\n",
      "Epoch: [0]  [ 5100/12099]  eta: 0:16:06  lr: 0.000300  loss: 0.1293 (0.1557)  loss_classifier: 0.0444 (0.0605)  loss_box_reg: 0.0622 (0.0714)  loss_objectness: 0.0057 (0.0181)  loss_rpn_box_reg: 0.0019 (0.0057)  time: 0.1279  data: 0.0315  max mem: 652\n",
      "Epoch: [0]  [ 5200/12099]  eta: 0:15:51  lr: 0.000300  loss: 0.1140 (0.1552)  loss_classifier: 0.0342 (0.0602)  loss_box_reg: 0.0643 (0.0713)  loss_objectness: 0.0069 (0.0180)  loss_rpn_box_reg: 0.0015 (0.0056)  time: 0.1256  data: 0.0296  max mem: 652\n",
      "Epoch: [0]  [ 5300/12099]  eta: 0:15:35  lr: 0.000300  loss: 0.1199 (0.1547)  loss_classifier: 0.0433 (0.0600)  loss_box_reg: 0.0642 (0.0711)  loss_objectness: 0.0075 (0.0179)  loss_rpn_box_reg: 0.0016 (0.0056)  time: 0.1276  data: 0.0315  max mem: 652\n",
      "Epoch: [0]  [ 5400/12099]  eta: 0:15:20  lr: 0.000300  loss: 0.1146 (0.1540)  loss_classifier: 0.0340 (0.0597)  loss_box_reg: 0.0540 (0.0709)  loss_objectness: 0.0072 (0.0178)  loss_rpn_box_reg: 0.0026 (0.0056)  time: 0.1268  data: 0.0295  max mem: 652\n",
      "Epoch: [0]  [ 5500/12099]  eta: 0:15:06  lr: 0.000300  loss: 0.1040 (0.1536)  loss_classifier: 0.0318 (0.0595)  loss_box_reg: 0.0613 (0.0708)  loss_objectness: 0.0047 (0.0176)  loss_rpn_box_reg: 0.0020 (0.0056)  time: 0.1491  data: 0.0412  max mem: 652\n",
      "Epoch: [0]  [ 5600/12099]  eta: 0:14:52  lr: 0.000300  loss: 0.1110 (0.1532)  loss_classifier: 0.0459 (0.0593)  loss_box_reg: 0.0553 (0.0707)  loss_objectness: 0.0061 (0.0176)  loss_rpn_box_reg: 0.0011 (0.0056)  time: 0.1305  data: 0.0316  max mem: 652\n",
      "Epoch: [0]  [ 5700/12099]  eta: 0:14:38  lr: 0.000300  loss: 0.1153 (0.1528)  loss_classifier: 0.0445 (0.0591)  loss_box_reg: 0.0575 (0.0706)  loss_objectness: 0.0047 (0.0175)  loss_rpn_box_reg: 0.0021 (0.0056)  time: 0.1334  data: 0.0331  max mem: 652\n",
      "Epoch: [0]  [ 5800/12099]  eta: 0:14:23  lr: 0.000300  loss: 0.1336 (0.1525)  loss_classifier: 0.0415 (0.0590)  loss_box_reg: 0.0534 (0.0705)  loss_objectness: 0.0101 (0.0175)  loss_rpn_box_reg: 0.0017 (0.0055)  time: 0.1293  data: 0.0316  max mem: 652\n",
      "Epoch: [0]  [ 5900/12099]  eta: 0:14:08  lr: 0.000300  loss: 0.1207 (0.1519)  loss_classifier: 0.0337 (0.0587)  loss_box_reg: 0.0630 (0.0703)  loss_objectness: 0.0038 (0.0173)  loss_rpn_box_reg: 0.0025 (0.0055)  time: 0.1283  data: 0.0312  max mem: 652\n",
      "Epoch: [0]  [ 6000/12099]  eta: 0:13:56  lr: 0.000300  loss: 0.1010 (0.1516)  loss_classifier: 0.0349 (0.0585)  loss_box_reg: 0.0476 (0.0702)  loss_objectness: 0.0045 (0.0173)  loss_rpn_box_reg: 0.0021 (0.0055)  time: 0.1338  data: 0.0332  max mem: 652\n",
      "Epoch: [0]  [ 6100/12099]  eta: 0:13:42  lr: 0.000300  loss: 0.1052 (0.1511)  loss_classifier: 0.0335 (0.0583)  loss_box_reg: 0.0526 (0.0700)  loss_objectness: 0.0062 (0.0172)  loss_rpn_box_reg: 0.0015 (0.0055)  time: 0.1317  data: 0.0323  max mem: 652\n",
      "Epoch: [0]  [ 6200/12099]  eta: 0:13:28  lr: 0.000300  loss: 0.1348 (0.1508)  loss_classifier: 0.0344 (0.0581)  loss_box_reg: 0.0664 (0.0699)  loss_objectness: 0.0059 (0.0172)  loss_rpn_box_reg: 0.0018 (0.0055)  time: 0.1401  data: 0.0358  max mem: 652\n",
      "Epoch: [0]  [ 6300/12099]  eta: 0:13:14  lr: 0.000300  loss: 0.1103 (0.1506)  loss_classifier: 0.0342 (0.0580)  loss_box_reg: 0.0635 (0.0700)  loss_objectness: 0.0045 (0.0171)  loss_rpn_box_reg: 0.0012 (0.0055)  time: 0.1306  data: 0.0328  max mem: 652\n",
      "Epoch: [0]  [ 6400/12099]  eta: 0:13:00  lr: 0.000300  loss: 0.1183 (0.1503)  loss_classifier: 0.0361 (0.0579)  loss_box_reg: 0.0686 (0.0698)  loss_objectness: 0.0045 (0.0170)  loss_rpn_box_reg: 0.0016 (0.0055)  time: 0.1301  data: 0.0317  max mem: 652\n",
      "Epoch: [0]  [ 6500/12099]  eta: 0:12:45  lr: 0.000300  loss: 0.1018 (0.1501)  loss_classifier: 0.0363 (0.0577)  loss_box_reg: 0.0565 (0.0699)  loss_objectness: 0.0052 (0.0170)  loss_rpn_box_reg: 0.0016 (0.0055)  time: 0.1291  data: 0.0316  max mem: 652\n"
     ]
    },
    {
     "name": "stdout",
     "output_type": "stream",
     "text": [
      "Epoch: [0]  [ 6600/12099]  eta: 0:12:31  lr: 0.000300  loss: 0.1320 (0.1499)  loss_classifier: 0.0363 (0.0577)  loss_box_reg: 0.0650 (0.0698)  loss_objectness: 0.0057 (0.0170)  loss_rpn_box_reg: 0.0014 (0.0055)  time: 0.1348  data: 0.0343  max mem: 652\n",
      "Epoch: [0]  [ 6700/12099]  eta: 0:12:18  lr: 0.000300  loss: 0.1058 (0.1496)  loss_classifier: 0.0327 (0.0575)  loss_box_reg: 0.0588 (0.0696)  loss_objectness: 0.0109 (0.0169)  loss_rpn_box_reg: 0.0021 (0.0055)  time: 0.1337  data: 0.0326  max mem: 652\n",
      "Epoch: [0]  [ 6800/12099]  eta: 0:12:04  lr: 0.000300  loss: 0.1154 (0.1493)  loss_classifier: 0.0396 (0.0574)  loss_box_reg: 0.0516 (0.0696)  loss_objectness: 0.0075 (0.0169)  loss_rpn_box_reg: 0.0021 (0.0055)  time: 0.1359  data: 0.0347  max mem: 652\n",
      "Epoch: [0]  [ 6900/12099]  eta: 0:11:51  lr: 0.000300  loss: 0.0998 (0.1491)  loss_classifier: 0.0336 (0.0572)  loss_box_reg: 0.0537 (0.0695)  loss_objectness: 0.0056 (0.0168)  loss_rpn_box_reg: 0.0023 (0.0055)  time: 0.1427  data: 0.0380  max mem: 652\n",
      "Epoch: [0]  [ 7000/12099]  eta: 0:11:36  lr: 0.000300  loss: 0.1311 (0.1489)  loss_classifier: 0.0302 (0.0571)  loss_box_reg: 0.0555 (0.0695)  loss_objectness: 0.0045 (0.0168)  loss_rpn_box_reg: 0.0016 (0.0055)  time: 0.1305  data: 0.0317  max mem: 652\n",
      "Epoch: [0]  [ 7100/12099]  eta: 0:11:22  lr: 0.000300  loss: 0.1220 (0.1487)  loss_classifier: 0.0324 (0.0570)  loss_box_reg: 0.0445 (0.0694)  loss_objectness: 0.0043 (0.0168)  loss_rpn_box_reg: 0.0031 (0.0055)  time: 0.1333  data: 0.0328  max mem: 652\n",
      "Epoch: [0]  [ 7200/12099]  eta: 0:11:08  lr: 0.000300  loss: 0.1238 (0.1484)  loss_classifier: 0.0396 (0.0568)  loss_box_reg: 0.0735 (0.0693)  loss_objectness: 0.0055 (0.0167)  loss_rpn_box_reg: 0.0026 (0.0055)  time: 0.1304  data: 0.0315  max mem: 652\n",
      "Epoch: [0]  [ 7300/12099]  eta: 0:10:54  lr: 0.000300  loss: 0.1298 (0.1482)  loss_classifier: 0.0503 (0.0567)  loss_box_reg: 0.0634 (0.0693)  loss_objectness: 0.0063 (0.0167)  loss_rpn_box_reg: 0.0017 (0.0055)  time: 0.1305  data: 0.0322  max mem: 652\n",
      "Epoch: [0]  [ 7400/12099]  eta: 0:10:40  lr: 0.000300  loss: 0.0988 (0.1479)  loss_classifier: 0.0343 (0.0565)  loss_box_reg: 0.0465 (0.0692)  loss_objectness: 0.0054 (0.0167)  loss_rpn_box_reg: 0.0017 (0.0055)  time: 0.1302  data: 0.0317  max mem: 652\n",
      "Epoch: [0]  [ 7500/12099]  eta: 0:10:27  lr: 0.000300  loss: 0.1080 (0.1476)  loss_classifier: 0.0427 (0.0564)  loss_box_reg: 0.0458 (0.0691)  loss_objectness: 0.0067 (0.0166)  loss_rpn_box_reg: 0.0011 (0.0055)  time: 0.1319  data: 0.0325  max mem: 652\n",
      "Epoch: [0]  [ 7600/12099]  eta: 0:10:13  lr: 0.000300  loss: 0.1110 (0.1473)  loss_classifier: 0.0361 (0.0562)  loss_box_reg: 0.0532 (0.0690)  loss_objectness: 0.0078 (0.0166)  loss_rpn_box_reg: 0.0022 (0.0055)  time: 0.1303  data: 0.0321  max mem: 652\n",
      "Epoch: [0]  [ 7700/12099]  eta: 0:09:59  lr: 0.000300  loss: 0.1117 (0.1471)  loss_classifier: 0.0323 (0.0561)  loss_box_reg: 0.0483 (0.0690)  loss_objectness: 0.0065 (0.0165)  loss_rpn_box_reg: 0.0010 (0.0055)  time: 0.1276  data: 0.0305  max mem: 652\n",
      "Epoch: [0]  [ 7800/12099]  eta: 0:09:45  lr: 0.000300  loss: 0.1054 (0.1469)  loss_classifier: 0.0429 (0.0560)  loss_box_reg: 0.0566 (0.0690)  loss_objectness: 0.0095 (0.0165)  loss_rpn_box_reg: 0.0015 (0.0055)  time: 0.1298  data: 0.0317  max mem: 652\n",
      "Epoch: [0]  [ 7900/12099]  eta: 0:09:31  lr: 0.000300  loss: 0.0989 (0.1467)  loss_classifier: 0.0373 (0.0559)  loss_box_reg: 0.0602 (0.0689)  loss_objectness: 0.0054 (0.0164)  loss_rpn_box_reg: 0.0010 (0.0055)  time: 0.1286  data: 0.0312  max mem: 652\n",
      "Epoch: [0]  [ 8000/12099]  eta: 0:09:17  lr: 0.000300  loss: 0.1048 (0.1464)  loss_classifier: 0.0326 (0.0558)  loss_box_reg: 0.0552 (0.0688)  loss_objectness: 0.0056 (0.0164)  loss_rpn_box_reg: 0.0017 (0.0055)  time: 0.1341  data: 0.0342  max mem: 652\n",
      "Epoch: [0]  [ 8100/12099]  eta: 0:09:04  lr: 0.000300  loss: 0.1176 (0.1463)  loss_classifier: 0.0331 (0.0557)  loss_box_reg: 0.0595 (0.0688)  loss_objectness: 0.0041 (0.0164)  loss_rpn_box_reg: 0.0017 (0.0054)  time: 0.1358  data: 0.0344  max mem: 652\n",
      "Epoch: [0]  [ 8200/12099]  eta: 0:08:50  lr: 0.000300  loss: 0.1075 (0.1462)  loss_classifier: 0.0404 (0.0556)  loss_box_reg: 0.0595 (0.0688)  loss_objectness: 0.0057 (0.0163)  loss_rpn_box_reg: 0.0011 (0.0054)  time: 0.1557  data: 0.0439  max mem: 652\n",
      "Epoch: [0]  [ 8300/12099]  eta: 0:08:37  lr: 0.000300  loss: 0.1300 (0.1460)  loss_classifier: 0.0369 (0.0555)  loss_box_reg: 0.0698 (0.0688)  loss_objectness: 0.0040 (0.0163)  loss_rpn_box_reg: 0.0016 (0.0054)  time: 0.1385  data: 0.0339  max mem: 652\n",
      "Epoch: [0]  [ 8400/12099]  eta: 0:08:24  lr: 0.000300  loss: 0.1052 (0.1458)  loss_classifier: 0.0355 (0.0554)  loss_box_reg: 0.0607 (0.0688)  loss_objectness: 0.0104 (0.0162)  loss_rpn_box_reg: 0.0011 (0.0054)  time: 0.1372  data: 0.0353  max mem: 652\n",
      "Epoch: [0]  [ 8500/12099]  eta: 0:08:10  lr: 0.000300  loss: 0.1178 (0.1456)  loss_classifier: 0.0315 (0.0553)  loss_box_reg: 0.0617 (0.0688)  loss_objectness: 0.0052 (0.0162)  loss_rpn_box_reg: 0.0021 (0.0054)  time: 0.1351  data: 0.0340  max mem: 652\n",
      "Epoch: [0]  [ 8600/12099]  eta: 0:07:57  lr: 0.000300  loss: 0.1283 (0.1455)  loss_classifier: 0.0461 (0.0552)  loss_box_reg: 0.0520 (0.0688)  loss_objectness: 0.0032 (0.0161)  loss_rpn_box_reg: 0.0018 (0.0054)  time: 0.1563  data: 0.0452  max mem: 652\n",
      "Epoch: [0]  [ 8700/12099]  eta: 0:07:44  lr: 0.000300  loss: 0.0823 (0.1453)  loss_classifier: 0.0319 (0.0552)  loss_box_reg: 0.0457 (0.0687)  loss_objectness: 0.0043 (0.0161)  loss_rpn_box_reg: 0.0021 (0.0054)  time: 0.1351  data: 0.0328  max mem: 652\n",
      "Epoch: [0]  [ 8800/12099]  eta: 0:07:30  lr: 0.000300  loss: 0.1082 (0.1452)  loss_classifier: 0.0372 (0.0551)  loss_box_reg: 0.0561 (0.0687)  loss_objectness: 0.0061 (0.0161)  loss_rpn_box_reg: 0.0018 (0.0053)  time: 0.1339  data: 0.0323  max mem: 652\n",
      "Epoch: [0]  [ 8900/12099]  eta: 0:07:16  lr: 0.000300  loss: 0.1217 (0.1451)  loss_classifier: 0.0389 (0.0550)  loss_box_reg: 0.0523 (0.0686)  loss_objectness: 0.0040 (0.0161)  loss_rpn_box_reg: 0.0023 (0.0053)  time: 0.1341  data: 0.0319  max mem: 652\n",
      "Epoch: [0]  [ 9000/12099]  eta: 0:07:03  lr: 0.000300  loss: 0.1064 (0.1449)  loss_classifier: 0.0410 (0.0549)  loss_box_reg: 0.0502 (0.0685)  loss_objectness: 0.0074 (0.0161)  loss_rpn_box_reg: 0.0019 (0.0054)  time: 0.1340  data: 0.0314  max mem: 652\n",
      "Epoch: [0]  [ 9100/12099]  eta: 0:06:49  lr: 0.000300  loss: 0.1059 (0.1446)  loss_classifier: 0.0310 (0.0548)  loss_box_reg: 0.0577 (0.0685)  loss_objectness: 0.0084 (0.0160)  loss_rpn_box_reg: 0.0025 (0.0054)  time: 0.1343  data: 0.0337  max mem: 652\n",
      "Epoch: [0]  [ 9200/12099]  eta: 0:06:35  lr: 0.000300  loss: 0.1133 (0.1444)  loss_classifier: 0.0348 (0.0547)  loss_box_reg: 0.0514 (0.0684)  loss_objectness: 0.0048 (0.0160)  loss_rpn_box_reg: 0.0017 (0.0054)  time: 0.1316  data: 0.0326  max mem: 652\n",
      "Epoch: [0]  [ 9300/12099]  eta: 0:06:22  lr: 0.000300  loss: 0.0987 (0.1442)  loss_classifier: 0.0261 (0.0545)  loss_box_reg: 0.0530 (0.0683)  loss_objectness: 0.0044 (0.0160)  loss_rpn_box_reg: 0.0016 (0.0054)  time: 0.1418  data: 0.0354  max mem: 652\n",
      "Epoch: [0]  [ 9400/12099]  eta: 0:06:09  lr: 0.000300  loss: 0.1302 (0.1440)  loss_classifier: 0.0334 (0.0544)  loss_box_reg: 0.0664 (0.0682)  loss_objectness: 0.0075 (0.0159)  loss_rpn_box_reg: 0.0024 (0.0054)  time: 0.1511  data: 0.0373  max mem: 652\n",
      "Epoch: [0]  [ 9500/12099]  eta: 0:05:55  lr: 0.000300  loss: 0.1114 (0.1437)  loss_classifier: 0.0362 (0.0543)  loss_box_reg: 0.0593 (0.0681)  loss_objectness: 0.0041 (0.0159)  loss_rpn_box_reg: 0.0015 (0.0053)  time: 0.1522  data: 0.0380  max mem: 652\n",
      "Epoch: [0]  [ 9600/12099]  eta: 0:05:42  lr: 0.000300  loss: 0.1134 (0.1435)  loss_classifier: 0.0413 (0.0542)  loss_box_reg: 0.0493 (0.0681)  loss_objectness: 0.0064 (0.0158)  loss_rpn_box_reg: 0.0022 (0.0054)  time: 0.1550  data: 0.0396  max mem: 652\n",
      "Epoch: [0]  [ 9700/12099]  eta: 0:05:29  lr: 0.000300  loss: 0.1189 (0.1434)  loss_classifier: 0.0416 (0.0542)  loss_box_reg: 0.0628 (0.0681)  loss_objectness: 0.0044 (0.0158)  loss_rpn_box_reg: 0.0041 (0.0053)  time: 0.1523  data: 0.0377  max mem: 652\n",
      "Epoch: [0]  [ 9800/12099]  eta: 0:05:15  lr: 0.000300  loss: 0.1273 (0.1433)  loss_classifier: 0.0310 (0.0541)  loss_box_reg: 0.0493 (0.0681)  loss_objectness: 0.0078 (0.0158)  loss_rpn_box_reg: 0.0011 (0.0053)  time: 0.1531  data: 0.0390  max mem: 652\n"
     ]
    },
    {
     "name": "stdout",
     "output_type": "stream",
     "text": [
      "Epoch: [0]  [ 9900/12099]  eta: 0:05:02  lr: 0.000300  loss: 0.1201 (0.1431)  loss_classifier: 0.0295 (0.0540)  loss_box_reg: 0.0797 (0.0680)  loss_objectness: 0.0067 (0.0157)  loss_rpn_box_reg: 0.0017 (0.0053)  time: 0.1514  data: 0.0369  max mem: 652\n",
      "Epoch: [0]  [10000/12099]  eta: 0:04:49  lr: 0.000300  loss: 0.1073 (0.1430)  loss_classifier: 0.0324 (0.0539)  loss_box_reg: 0.0502 (0.0681)  loss_objectness: 0.0048 (0.0157)  loss_rpn_box_reg: 0.0024 (0.0053)  time: 0.1535  data: 0.0375  max mem: 652\n",
      "Epoch: [0]  [10100/12099]  eta: 0:04:35  lr: 0.000300  loss: 0.1451 (0.1428)  loss_classifier: 0.0468 (0.0539)  loss_box_reg: 0.0655 (0.0680)  loss_objectness: 0.0058 (0.0156)  loss_rpn_box_reg: 0.0013 (0.0053)  time: 0.1509  data: 0.0360  max mem: 652\n",
      "Epoch: [0]  [10200/12099]  eta: 0:04:22  lr: 0.000300  loss: 0.1440 (0.1427)  loss_classifier: 0.0397 (0.0538)  loss_box_reg: 0.0620 (0.0680)  loss_objectness: 0.0069 (0.0156)  loss_rpn_box_reg: 0.0021 (0.0053)  time: 0.1527  data: 0.0390  max mem: 652\n",
      "Epoch: [0]  [10300/12099]  eta: 0:04:08  lr: 0.000300  loss: 0.1289 (0.1427)  loss_classifier: 0.0430 (0.0538)  loss_box_reg: 0.0649 (0.0680)  loss_objectness: 0.0062 (0.0156)  loss_rpn_box_reg: 0.0016 (0.0053)  time: 0.1505  data: 0.0369  max mem: 652\n",
      "Epoch: [0]  [10400/12099]  eta: 0:03:54  lr: 0.000300  loss: 0.1195 (0.1426)  loss_classifier: 0.0387 (0.0537)  loss_box_reg: 0.0583 (0.0680)  loss_objectness: 0.0079 (0.0156)  loss_rpn_box_reg: 0.0019 (0.0053)  time: 0.1473  data: 0.0395  max mem: 652\n",
      "Epoch: [0]  [10500/12099]  eta: 0:03:40  lr: 0.000300  loss: 0.1169 (0.1424)  loss_classifier: 0.0391 (0.0536)  loss_box_reg: 0.0433 (0.0679)  loss_objectness: 0.0054 (0.0155)  loss_rpn_box_reg: 0.0014 (0.0053)  time: 0.1281  data: 0.0308  max mem: 652\n",
      "Epoch: [0]  [10600/12099]  eta: 0:03:27  lr: 0.000300  loss: 0.1326 (0.1423)  loss_classifier: 0.0323 (0.0536)  loss_box_reg: 0.0718 (0.0679)  loss_objectness: 0.0047 (0.0155)  loss_rpn_box_reg: 0.0030 (0.0053)  time: 0.1320  data: 0.0330  max mem: 652\n",
      "Epoch: [0]  [10700/12099]  eta: 0:03:13  lr: 0.000300  loss: 0.1018 (0.1422)  loss_classifier: 0.0323 (0.0535)  loss_box_reg: 0.0583 (0.0680)  loss_objectness: 0.0052 (0.0154)  loss_rpn_box_reg: 0.0020 (0.0053)  time: 0.1307  data: 0.0323  max mem: 652\n",
      "Epoch: [0]  [10800/12099]  eta: 0:02:59  lr: 0.000300  loss: 0.1108 (0.1421)  loss_classifier: 0.0441 (0.0535)  loss_box_reg: 0.0643 (0.0679)  loss_objectness: 0.0028 (0.0154)  loss_rpn_box_reg: 0.0015 (0.0053)  time: 0.1314  data: 0.0331  max mem: 652\n",
      "Epoch: [0]  [10900/12099]  eta: 0:02:45  lr: 0.000300  loss: 0.0998 (0.1420)  loss_classifier: 0.0333 (0.0534)  loss_box_reg: 0.0508 (0.0679)  loss_objectness: 0.0040 (0.0154)  loss_rpn_box_reg: 0.0022 (0.0053)  time: 0.1301  data: 0.0312  max mem: 652\n",
      "Epoch: [0]  [11000/12099]  eta: 0:02:31  lr: 0.000300  loss: 0.1142 (0.1418)  loss_classifier: 0.0343 (0.0533)  loss_box_reg: 0.0649 (0.0679)  loss_objectness: 0.0075 (0.0153)  loss_rpn_box_reg: 0.0020 (0.0053)  time: 0.1293  data: 0.0318  max mem: 652\n",
      "Epoch: [0]  [11100/12099]  eta: 0:02:17  lr: 0.000300  loss: 0.1272 (0.1416)  loss_classifier: 0.0373 (0.0532)  loss_box_reg: 0.0698 (0.0679)  loss_objectness: 0.0064 (0.0152)  loss_rpn_box_reg: 0.0006 (0.0053)  time: 0.1318  data: 0.0332  max mem: 652\n",
      "Epoch: [0]  [11200/12099]  eta: 0:02:03  lr: 0.000300  loss: 0.1151 (0.1414)  loss_classifier: 0.0414 (0.0531)  loss_box_reg: 0.0574 (0.0678)  loss_objectness: 0.0059 (0.0152)  loss_rpn_box_reg: 0.0018 (0.0053)  time: 0.1345  data: 0.0342  max mem: 652\n",
      "Epoch: [0]  [11300/12099]  eta: 0:01:50  lr: 0.000300  loss: 0.1188 (0.1413)  loss_classifier: 0.0372 (0.0531)  loss_box_reg: 0.0609 (0.0678)  loss_objectness: 0.0042 (0.0152)  loss_rpn_box_reg: 0.0014 (0.0053)  time: 0.1639  data: 0.0495  max mem: 652\n",
      "Epoch: [0]  [11400/12099]  eta: 0:01:36  lr: 0.000300  loss: 0.1101 (0.1412)  loss_classifier: 0.0323 (0.0530)  loss_box_reg: 0.0484 (0.0677)  loss_objectness: 0.0049 (0.0151)  loss_rpn_box_reg: 0.0015 (0.0053)  time: 0.1303  data: 0.0322  max mem: 652\n",
      "Epoch: [0]  [11500/12099]  eta: 0:01:22  lr: 0.000300  loss: 0.1204 (0.1412)  loss_classifier: 0.0403 (0.0530)  loss_box_reg: 0.0720 (0.0678)  loss_objectness: 0.0038 (0.0152)  loss_rpn_box_reg: 0.0012 (0.0053)  time: 0.1359  data: 0.0350  max mem: 652\n",
      "Epoch: [0]  [11600/12099]  eta: 0:01:08  lr: 0.000300  loss: 0.1000 (0.1412)  loss_classifier: 0.0312 (0.0529)  loss_box_reg: 0.0509 (0.0678)  loss_objectness: 0.0066 (0.0151)  loss_rpn_box_reg: 0.0031 (0.0053)  time: 0.1313  data: 0.0332  max mem: 652\n",
      "Epoch: [0]  [11700/12099]  eta: 0:00:54  lr: 0.000300  loss: 0.1096 (0.1411)  loss_classifier: 0.0309 (0.0528)  loss_box_reg: 0.0602 (0.0678)  loss_objectness: 0.0088 (0.0151)  loss_rpn_box_reg: 0.0016 (0.0053)  time: 0.1298  data: 0.0321  max mem: 652\n",
      "Epoch: [0]  [11800/12099]  eta: 0:00:41  lr: 0.000300  loss: 0.1155 (0.1410)  loss_classifier: 0.0370 (0.0528)  loss_box_reg: 0.0680 (0.0678)  loss_objectness: 0.0042 (0.0151)  loss_rpn_box_reg: 0.0017 (0.0053)  time: 0.1313  data: 0.0327  max mem: 652\n",
      "Epoch: [0]  [11900/12099]  eta: 0:00:27  lr: 0.000300  loss: 0.1065 (0.1408)  loss_classifier: 0.0364 (0.0527)  loss_box_reg: 0.0649 (0.0677)  loss_objectness: 0.0033 (0.0150)  loss_rpn_box_reg: 0.0013 (0.0053)  time: 0.1357  data: 0.0351  max mem: 652\n",
      "Epoch: [0]  [12000/12099]  eta: 0:00:13  lr: 0.000300  loss: 0.1085 (0.1407)  loss_classifier: 0.0395 (0.0527)  loss_box_reg: 0.0603 (0.0677)  loss_objectness: 0.0064 (0.0150)  loss_rpn_box_reg: 0.0013 (0.0053)  time: 0.1312  data: 0.0323  max mem: 652\n",
      "Epoch: [0]  [12098/12099]  eta: 0:00:00  lr: 0.000300  loss: 0.0974 (0.1405)  loss_classifier: 0.0386 (0.0526)  loss_box_reg: 0.0561 (0.0677)  loss_objectness: 0.0059 (0.0149)  loss_rpn_box_reg: 0.0016 (0.0053)  time: 0.1315  data: 0.0331  max mem: 652\n",
      "Epoch: [0] Total time: 0:27:45 (0.1376 s / it)\n"
     ]
    }
   ],
   "source": [
    "# TRAIN\n",
    "all_train_logs, all_trans_valid_logs, all_cis_valid_logs = train(dataloader=train_dataloader, num_epochs=num_epochs)"
   ]
  },
  {
   "cell_type": "markdown",
   "metadata": {},
   "source": [
    "### Saving the last training logs to variables\n",
    "##### Ensures that if you hit the training cell, you don't lose the variables containing the logs from the last run"
   ]
  },
  {
   "cell_type": "code",
   "execution_count": null,
   "metadata": {},
   "outputs": [],
   "source": [
    "last_train_logs = all_train_logs\n",
    "last_trans_valid_logs = all_trans_valid_logs\n",
    "last_cis_valid_logs = all_cis_valid_logs"
   ]
  },
  {
   "cell_type": "markdown",
   "metadata": {},
   "source": [
    "## OPTIONAL - Saving manually every logs from training to json files"
   ]
  },
  {
   "cell_type": "code",
   "execution_count": null,
   "metadata": {},
   "outputs": [],
   "source": [
    "# Saves the log with the same time\n",
    "train_logs_to_json(last_train_logs)\n",
    "trans_valid_logs_to_json(last_trans_valid_logs)\n",
    "cis_valid_logs_to_json(last_cis_valid_logs)"
   ]
  },
  {
   "cell_type": "markdown",
   "metadata": {},
   "source": [
    "## OPTIONAL - Saving the model"
   ]
  },
  {
   "cell_type": "code",
   "execution_count": null,
   "metadata": {},
   "outputs": [],
   "source": [
    "# save the model, the optimizer and the scheduler\n",
    "# filetime = \"25_epochs_roi_3_augment_method_3\"\n",
    "filetime = time.strftime(\"%Y%m%d_%H%M%S\")\n",
    "\n",
    "torch.save(model.state_dict(), 'saved_models/' + filetime + '_model.pt')\n",
    "torch.save(optimizer.state_dict(), 'saved_models/' + filetime + '_optimizer.pt')\n",
    "torch.save(lr_scheduler.state_dict(), 'saved_models/' + filetime + '_scheduler.pt')"
   ]
  },
  {
   "cell_type": "markdown",
   "metadata": {},
   "source": [
    "## Exploration of the raw logs\n",
    "##### Only look at the MetricLogger if you just trained the model. You cannot import the model and then check the MetricLogger."
   ]
  },
  {
   "cell_type": "code",
   "execution_count": null,
   "metadata": {},
   "outputs": [],
   "source": [
    "all_train_logs[0].meters"
   ]
  },
  {
   "cell_type": "code",
   "execution_count": null,
   "metadata": {},
   "outputs": [],
   "source": [
    "all_train_logs[0].meters['loss_box_reg'].global_avg"
   ]
  },
  {
   "cell_type": "code",
   "execution_count": null,
   "metadata": {},
   "outputs": [],
   "source": [
    "len(train_dataloader)"
   ]
  },
  {
   "cell_type": "markdown",
   "metadata": {},
   "source": [
    "#### Here we check the amount of logs per epoch for each categories and the type"
   ]
  },
  {
   "cell_type": "code",
   "execution_count": null,
   "metadata": {},
   "outputs": [],
   "source": [
    "print(all_cis_valid_logs[0])\n",
    "print(\"total length:\", len(all_cis_valid_logs))\n",
    "print(\"-\"*8)\n",
    "print(\"per epoch length:\", len(all_cis_valid_logs)/num_epochs)"
   ]
  },
  {
   "cell_type": "code",
   "execution_count": null,
   "metadata": {},
   "outputs": [],
   "source": [
    "print(all_trans_valid_logs[0])\n",
    "print(\"total length:\", len(all_trans_valid_logs))\n",
    "print(\"-\"*8)\n",
    "print(\"per epoch length:\", len(all_trans_valid_logs)/num_epochs)"
   ]
  },
  {
   "cell_type": "markdown",
   "metadata": {},
   "source": [
    "## Looking at/Loading the logs in convenient ways\n",
    "Here we define the variables \"train_logs\", \"cis_valid_logs\" and \"trans_valid_logs\" that will be used in the methods for the results and the visualisations.\n",
    "\n",
    "We can import logs or use the ones from training."
   ]
  },
  {
   "cell_type": "markdown",
   "metadata": {},
   "source": [
    "### OPTIONAL - Can load some logs right here"
   ]
  },
  {
   "cell_type": "code",
   "execution_count": null,
   "metadata": {},
   "outputs": [],
   "source": [
    "# Imported logs - format: name = \"NAME_OR_TIME\"      Exemple file format: \"NAME_OR_TIME_train_logs\"\n",
    "\n",
    "file_time_or_nickname = '10_roi' # VALUE TO CHANGE TO THE IMPORTED FILES\n",
    "\n",
    "# Import training logs\n",
    "with open('saved_logs/' + file_time_or_nickname + '_train_logs.json', \"r\") as f:\n",
    "    train_logs = json.load(f)\n",
    "\n",
    "# Import cis valid logs\n",
    "with open('saved_logs/' + file_time_or_nickname + '_cis_valid_logs.json', \"r\") as f:\n",
    "    cis_valid_logs = json.load(f)\n",
    "\n",
    "# Import trans valid logs\n",
    "with open('saved_logs/' + file_time_or_nickname + '_trans_valid_logs.json', \"r\") as f:\n",
    "    trans_valid_logs = json.load(f)"
   ]
  },
  {
   "cell_type": "markdown",
   "metadata": {},
   "source": [
    "### Put the last trained logs into convenient list variables\n",
    "#### (USE THIS CELL ONLY IF MODEL HAVE BEEN TRAINED IN THIS KERNEL)\n",
    "##### Converts the logs to lists and the tensors to numpy "
   ]
  },
  {
   "cell_type": "code",
   "execution_count": null,
   "metadata": {},
   "outputs": [],
   "source": [
    "train_logs = train_logs_to_lst(last_train_logs)\n",
    "cis_valid_logs = valid_logs_to_lst(last_cis_valid_logs)\n",
    "trans_valid_logs = valid_logs_to_lst(last_trans_valid_logs)"
   ]
  },
  {
   "cell_type": "markdown",
   "metadata": {},
   "source": [
    "## Results"
   ]
  },
  {
   "cell_type": "code",
   "execution_count": null,
   "metadata": {},
   "outputs": [],
   "source": [
    "# To confirm that the data is loaded properly\n",
    "len(train_logs)"
   ]
  },
  {
   "cell_type": "code",
   "execution_count": null,
   "metadata": {},
   "outputs": [],
   "source": [
    "num_epochs = len(train_logs)"
   ]
  },
  {
   "cell_type": "code",
   "execution_count": null,
   "metadata": {},
   "outputs": [],
   "source": [
    "# Train loss to print (here we use global_avg but we can use: value, median, avg, max or global_avg)\n",
    "results_train_loss = []\n",
    "\n",
    "for i in range(num_epochs):\n",
    "    results_train_loss.append(train_logs[i]['loss_box_reg']['global_avg'])"
   ]
  },
  {
   "cell_type": "code",
   "execution_count": null,
   "metadata": {},
   "outputs": [],
   "source": [
    "# Cis valid loss to print\n",
    "results_cis_valid_loss = [] # cis\n",
    "\n",
    "for i in range(num_epochs):\n",
    "    loss_interm = 0\n",
    "    for j in range(167):\n",
    "        loss_interm += cis_valid_logs[(167 * i) + j]['loss_box_reg']\n",
    "    results_cis_valid_loss.append(loss_interm)"
   ]
  },
  {
   "cell_type": "code",
   "execution_count": null,
   "metadata": {},
   "outputs": [],
   "source": [
    "# Trans valid loss to print\n",
    "results_trans_valid_loss = [] # cis\n",
    "\n",
    "for i in range(num_epochs):\n",
    "    loss_interm = 0\n",
    "    for j in range(154):\n",
    "        loss_interm += trans_valid_logs[(154 * i) + j]['loss_box_reg']\n",
    "    results_trans_valid_loss.append(loss_interm)"
   ]
  },
  {
   "cell_type": "markdown",
   "metadata": {},
   "source": [
    "### Plots"
   ]
  },
  {
   "cell_type": "code",
   "execution_count": null,
   "metadata": {},
   "outputs": [],
   "source": [
    "# Printing the different plots\n",
    "fig, ax = plt.subplots(1,2, figsize=(20,6))\n",
    "\n",
    "ax[0].plot(np.arange(1, num_epochs + 1), results_train_loss, label='train')\n",
    "ax[0].set_title('Train loss per epoch')\n",
    "ax[0].set_ylabel('loss_box_reg')\n",
    "ax[0].set_xlabel('epoch')\n",
    "\n",
    "plt.title('Train loss per epoch')\n",
    "ax[1].plot(np.arange(1, num_epochs + 1), results_cis_valid_loss, label='cis')\n",
    "ax[1].plot(np.arange(1, num_epochs + 1), results_trans_valid_loss, label='trans')\n",
    "ax[1].set_title('Valid loss per epoch')\n",
    "ax[1].set_ylabel('loss_box_reg')\n",
    "ax[1].set_xlabel('epoch')\n",
    "ax[1].legend()\n"
   ]
  },
  {
   "cell_type": "markdown",
   "metadata": {},
   "source": [
    "#### Save the figure to pdf format in the figures folder"
   ]
  },
  {
   "cell_type": "code",
   "execution_count": null,
   "metadata": {},
   "outputs": [],
   "source": [
    "fig.savefig(\"figures/\" + time.strftime(\"%Y%m%d_%H%M%S\") + \"_figure.pdf\")"
   ]
  },
  {
   "cell_type": "markdown",
   "metadata": {
    "id": "SPV4Pxyajekr"
   },
   "source": [
    "## Make Predictions with a model"
   ]
  },
  {
   "cell_type": "markdown",
   "metadata": {},
   "source": [
    "### Load 10 random predictions"
   ]
  },
  {
   "cell_type": "code",
   "execution_count": null,
   "metadata": {
    "id": "1dTlEPVhRVHE"
   },
   "outputs": [],
   "source": [
    "# Loads 10 images and makes the model do predictions on these images\n",
    "train_features, train_labels = next(iter(trans_valid_dataloader))\n",
    "image = list(image.to(device) for image in train_features)\n",
    "\n",
    "model.eval()\n",
    "with torch.no_grad():\n",
    "      pred = model(image)"
   ]
  },
  {
   "cell_type": "code",
   "execution_count": null,
   "metadata": {},
   "outputs": [],
   "source": [
    "# Prints 10 images with the predictions before and after NMS\n",
    "# TODO: faire des méthodes pour simplifier le code\n",
    "for image_i in range(len(image)):\n",
    "    fig, ax = plt.subplots(1,3,figsize=(24,16))\n",
    "\n",
    "    ax[0].imshow(train_features[image_i][0].squeeze(),cmap=\"gray\")\n",
    "    rect = patches.Rectangle((train_labels[image_i]['boxes'][0][0], \n",
    "                              train_labels[image_i]['boxes'][0][1]), \n",
    "                             train_labels[image_i]['boxes'][0][2]-train_labels[image_i]['boxes'][0][0], \n",
    "                             train_labels[image_i]['boxes'][0][3]-train_labels[image_i]['boxes'][0][1], \n",
    "                             linewidth=2, edgecolor='r', facecolor='none')\n",
    "    ax[0].add_patch(rect)\n",
    "    ax[0].set_title('Ground truth')\n",
    "\n",
    "    # Predictions\n",
    "    ax[1].imshow(train_features[image_i][0].squeeze(),cmap=\"gray\")\n",
    "    for i in range(len(pred[image_i]['boxes'])):\n",
    "        rect = patches.Rectangle((pred[image_i]['boxes'][i][0].cpu(), \n",
    "                                  pred[image_i]['boxes'][i][1].cpu()), \n",
    "                                 (pred[image_i]['boxes'][i][2]-pred[image_i]['boxes'][i][0]).cpu(), \n",
    "                                 (pred[image_i]['boxes'][i][3]-pred[image_i]['boxes'][i][1]).cpu(), \n",
    "                                 linewidth=2, edgecolor='r', facecolor='none')\n",
    "        ax[1].add_patch(rect)\n",
    "    ax[1].set_title('Pred')\n",
    "\n",
    "    # Predictions after NMS\n",
    "    iou_threshold = 0.01 # param to tune\n",
    "    boxes_to_keep = torchvision.ops.nms(pred[image_i]['boxes'], pred[image_i]['scores'], iou_threshold = iou_threshold).cpu()\n",
    "    ax[2].imshow(train_features[image_i][0].squeeze(),cmap=\"gray\")\n",
    "    for i in boxes_to_keep:\n",
    "        rect = patches.Rectangle((pred[image_i]['boxes'][i][0].cpu(), \n",
    "                                  pred[image_i]['boxes'][i][1].cpu()), \n",
    "                                 (pred[image_i]['boxes'][i][2]-pred[image_i]['boxes'][i][0]).cpu(), \n",
    "                                 (pred[image_i]['boxes'][i][3]-pred[image_i]['boxes'][i][1]).cpu(), \n",
    "                                 linewidth=2, edgecolor='r', facecolor='none')\n",
    "        ax[2].add_patch(rect)\n",
    "\n",
    "    ax[2].set_title('After NMS')"
   ]
  },
  {
   "cell_type": "code",
   "execution_count": null,
   "metadata": {},
   "outputs": [],
   "source": [
    "trans_val_ann['images'][train_labels[3]['image_id']]"
   ]
  },
  {
   "cell_type": "code",
   "execution_count": null,
   "metadata": {
    "colab": {
     "base_uri": "https://localhost:8080/",
     "height": 368
    },
    "id": "tkwIJ6cCeRq3",
    "outputId": "33012e5f-2664-46ef-fa1e-b54bf5e2faf5",
    "scrolled": true
   },
   "outputs": [],
   "source": [
    "# Print a single image chosen by index from the last batch of 10 predictions\n",
    "image_i = 3 # from 0 to 9 included\n",
    "\n",
    "fig, ax = plt.subplots(1,3,figsize=(24,16))\n",
    "\n",
    "ax[0].imshow(train_features[image_i][0].squeeze(),cmap=\"gray\")\n",
    "for i in range(len(train_labels[image_i]['boxes'])):\n",
    "    rect = patches.Rectangle((train_labels[image_i]['boxes'][i][0], \n",
    "                            train_labels[image_i]['boxes'][i][1]), \n",
    "                            train_labels[image_i]['boxes'][i][2]-train_labels[image_i]['boxes'][i][0], \n",
    "                            train_labels[image_i]['boxes'][i][3]-train_labels[image_i]['boxes'][i][1], \n",
    "                            linewidth=2, edgecolor='r', facecolor='none')\n",
    "    ax[0].add_patch(rect)\n",
    "ax[0].set_title('Ground truth')\n",
    "\n",
    "# Predictions\n",
    "ax[1].imshow(train_features[image_i][0].squeeze(),cmap=\"gray\")\n",
    "for i in range(len(pred[image_i]['boxes'])):\n",
    "    rect = patches.Rectangle((pred[image_i]['boxes'][i][0].cpu(), \n",
    "                              pred[image_i]['boxes'][i][1].cpu()), \n",
    "                             (pred[image_i]['boxes'][i][2]-pred[image_i]['boxes'][i][0]).cpu(), \n",
    "                             (pred[image_i]['boxes'][i][3]-pred[image_i]['boxes'][i][1]).cpu(), \n",
    "                             linewidth=2, edgecolor='r', facecolor='none')\n",
    "    ax[1].add_patch(rect)\n",
    "ax[1].set_title('Pred')\n",
    "\n",
    "# Predictions after NMS\n",
    "iou_threshold = 0.01 # param to tune\n",
    "boxes_to_keep = torchvision.ops.nms(pred[image_i]['boxes'], pred[image_i]['scores'], iou_threshold = iou_threshold).cpu()\n",
    "ax[2].imshow(train_features[image_i][0].squeeze(),cmap=\"gray\")\n",
    "for i in boxes_to_keep:\n",
    "    rect = patches.Rectangle((pred[image_i]['boxes'][i][0].cpu(), \n",
    "                              pred[image_i]['boxes'][i][1].cpu()), \n",
    "                             (pred[image_i]['boxes'][i][2]-pred[image_i]['boxes'][i][0]).cpu(), \n",
    "                             (pred[image_i]['boxes'][i][3]-pred[image_i]['boxes'][i][1]).cpu(), \n",
    "                             linewidth=2, edgecolor='r', facecolor='none')\n",
    "    ax[2].add_patch(rect)\n",
    "\n",
    "ax[2].set_title('After NMS')"
   ]
  },
  {
   "cell_type": "code",
   "execution_count": null,
   "metadata": {},
   "outputs": [],
   "source": [
    "boxes_to_keep"
   ]
  },
  {
   "cell_type": "code",
   "execution_count": null,
   "metadata": {},
   "outputs": [],
   "source": [
    "pred[image_i]['boxes'][0]"
   ]
  },
  {
   "cell_type": "code",
   "execution_count": null,
   "metadata": {},
   "outputs": [],
   "source": [
    "train_labels[image_i]['boxes']"
   ]
  },
  {
   "cell_type": "markdown",
   "metadata": {},
   "source": [
    "## Evalutate on COCO detection metrics"
   ]
  },
  {
   "cell_type": "markdown",
   "metadata": {},
   "source": [
    "### Cis Test on COCO metrics\n",
    "##### 'For evaluation, we consider a detected box to be correct if its IoU ≥ 0.5 with a ground truth box.'\n",
    "\n",
    "We need to look at the precison score with IoU=0.5, area=all and maxDets=100.\n",
    "For the recall score, by default it's IoU=0.5:IoU=0.95."
   ]
  },
  {
   "cell_type": "code",
   "execution_count": null,
   "metadata": {
    "scrolled": true
   },
   "outputs": [],
   "source": [
    "# Evaluate perfo on COCO detection metrics\n",
    "\n",
    "# takes +- 25min to run on cis_test\n",
    "\n",
    "from coco_utils import get_coco_api_from_dataset\n",
    "from coco_eval import CocoEvaluator\n",
    "from engine import _get_iou_types \n",
    "\n",
    "apply_nms = True\n",
    "iou_threshold = 0.35 # param to potentially tune\n",
    "the_data_loader = cis_test_dataloader # change to test set\n",
    "\n",
    "coco = get_coco_api_from_dataset(the_data_loader.dataset)\n",
    "iou_types = _get_iou_types(model)\n",
    "coco_evaluator = CocoEvaluator(coco, iou_types)\n",
    "\n",
    "model.eval()\n",
    "\n",
    "for images, targets in the_data_loader:\n",
    "    images = [image.to(device) for image in images]\n",
    "    targets = [{k: v.to(device) for k, v in t.items()} for t in targets]\n",
    "\n",
    "    with torch.no_grad():\n",
    "\n",
    "        pred=model(images)\n",
    "\n",
    "        if apply_nms:\n",
    "            boxes_to_keep = torchvision.ops.nms(pred[0]['boxes'], pred[0]['scores'], iou_threshold=iou_threshold).cpu()\n",
    "            pred[0]['boxes'] = pred[0]['boxes'][boxes_to_keep]\n",
    "            pred[0]['labels'] = pred[0]['labels'][boxes_to_keep]\n",
    "            pred[0]['scores'] = pred[0]['scores'][boxes_to_keep]\n",
    "\n",
    "        outputs = [{k: v.cpu() for k, v in t.items()} for t in pred]\n",
    "        res = {target[\"image_id\"].item(): output for target, output in zip(targets, outputs)}\n",
    "        coco_evaluator.update(res)\n",
    "\n",
    "coco_evaluator.synchronize_between_processes()\n",
    "coco_evaluator.accumulate()\n",
    "print('_'*20)\n",
    "print('Cis Test Data - Summary')\n",
    "print(\" \")\n",
    "coco_evaluator.summarize()"
   ]
  },
  {
   "cell_type": "markdown",
   "metadata": {},
   "source": [
    "### Trans Test on COCO metrics"
   ]
  },
  {
   "cell_type": "code",
   "execution_count": null,
   "metadata": {},
   "outputs": [],
   "source": [
    "# for param in model.roi_heads.box_predictor.cls_score[0].parameters():\n",
    "#     print(param)"
   ]
  },
  {
   "cell_type": "code",
   "execution_count": null,
   "metadata": {},
   "outputs": [],
   "source": [
    "# model.roi_heads.box_predictor.cls_score[0].weight = nn.Parameter(X_target_proj.float(), requires_grad = False) \n",
    "# model.roi_heads.box_predictor.bbox_pred[0].weight = nn.Parameter(X_target_proj.float(), requires_grad = False)\n",
    "# model.to(device)"
   ]
  },
  {
   "cell_type": "code",
   "execution_count": null,
   "metadata": {
    "scrolled": true
   },
   "outputs": [],
   "source": [
    "# Evaluate perfo on COCO detection metrics\n",
    "\n",
    "# takes +- 25min to run on trans_test\n",
    "\n",
    "from coco_utils import get_coco_api_from_dataset\n",
    "from coco_eval import CocoEvaluator\n",
    "from engine import _get_iou_types \n",
    "\n",
    "apply_nms = True\n",
    "iou_threshold = 0.35 # param to potentially tune\n",
    "the_data_loader = trans_test_dataloader # change to test set\n",
    "\n",
    "coco = get_coco_api_from_dataset(the_data_loader.dataset)\n",
    "iou_types = _get_iou_types(model)\n",
    "coco_evaluator = CocoEvaluator(coco, iou_types)\n",
    "\n",
    "model.eval()\n",
    "\n",
    "for images, targets in the_data_loader:\n",
    "    images = [image.to(device) for image in images]\n",
    "    targets = [{k: v.to(device) for k, v in t.items()} for t in targets]\n",
    "\n",
    "    with torch.no_grad():\n",
    "\n",
    "        pred=model(images)\n",
    "\n",
    "        if apply_nms:\n",
    "            boxes_to_keep = torchvision.ops.nms(pred[0]['boxes'], pred[0]['scores'], iou_threshold=iou_threshold).cpu()\n",
    "            pred[0]['boxes'] = pred[0]['boxes'][boxes_to_keep]\n",
    "            pred[0]['labels'] = pred[0]['labels'][boxes_to_keep]\n",
    "            pred[0]['scores'] = pred[0]['scores'][boxes_to_keep]\n",
    "\n",
    "        outputs = [{k: v.cpu() for k, v in t.items()} for t in pred]\n",
    "        res = {target[\"image_id\"].item(): output for target, output in zip(targets, outputs)}\n",
    "        coco_evaluator.update(res)\n",
    "\n",
    "coco_evaluator.synchronize_between_processes()\n",
    "coco_evaluator.accumulate()\n",
    "print('_'*20)\n",
    "print('Trans Test Data - Summary')\n",
    "print(\" \")\n",
    "coco_evaluator.summarize()"
   ]
  },
  {
   "cell_type": "markdown",
   "metadata": {},
   "source": [
    " "
   ]
  },
  {
   "cell_type": "markdown",
   "metadata": {},
   "source": [
    "# Methods"
   ]
  },
  {
   "cell_type": "markdown",
   "metadata": {},
   "source": [
    "## Method 3 (Subspace alignment based Domain adaptation)"
   ]
  },
  {
   "cell_type": "code",
   "execution_count": null,
   "metadata": {},
   "outputs": [],
   "source": [
    "import torchvision.ops.boxes as bops\n",
    "from sklearn.decomposition import PCA\n",
    "from sklearn.preprocessing import StandardScaler\n",
    "from torch import nn"
   ]
  },
  {
   "cell_type": "markdown",
   "metadata": {},
   "source": [
    "Papers \n",
    "\n",
    " 1. https://arxiv.org/pdf/1507.05578.pdf\n",
    "\n",
    " 2.  https://openaccess.thecvf.com/content_iccv_2013/papers/Fernando_Unsupervised_Visual_Domain_2013_ICCV_paper.pdf"
   ]
  },
  {
   "cell_type": "markdown",
   "metadata": {},
   "source": [
    "**Construct source matrix:** \n",
    "\n",
    "We keep output of model.roi_heads.box_head (vector of size 1024) as feature representations of bounding boxes extracted by the RPN (region proposal network). For us to stack a box representation to the source matrix, it has to have a IoU > thres_IoU with the ground truth of the given image. "
   ]
  },
  {
   "cell_type": "code",
   "execution_count": null,
   "metadata": {},
   "outputs": [],
   "source": [
    "# 20 minutes\n",
    "thres_IoU = 0.50\n",
    "count = 0\n",
    "\n",
    "X_source = torch.tensor([])\n",
    "bbox_idx = torch.arange(1000)\n",
    "\n",
    "model.eval()\n",
    "\n",
    "for images, targets in train_dataloader: \n",
    "    images = [image.to(device) for image in images]\n",
    "    targets = [{k: v.to(device) for k, v in t.items()} for t in targets]\n",
    "\n",
    "    count += 1\n",
    "\n",
    "    if count%100 == 0:\n",
    "        print(count)\n",
    "\n",
    "    with torch.no_grad():\n",
    "        outputs = []\n",
    "        hook = model.rpn.register_forward_hook(\n",
    "        lambda self, input, output: outputs.append(output))\n",
    "\n",
    "        outputs1 = []\n",
    "        hook1 = model.roi_heads.box_head.register_forward_hook(\n",
    "        lambda self, input, output: outputs1.append(output))\n",
    "\n",
    "        res = model(images)\n",
    "        hook.remove()\n",
    "        hook1.remove()\n",
    "\n",
    "    coords = outputs[0][0][0].cpu() # [1000,4]\n",
    "    feat = outputs1[0].cpu() # [1000, 1024]\n",
    "\n",
    "    gt = targets[0]['boxes'].cpu()\n",
    "\n",
    "    bbox_idx_to_keep = torch.tensor([])\n",
    "    for i in range(gt.shape[0]):\n",
    "\n",
    "        IoUs = bops.box_iou(gt[i].reshape(1,4), coords)\n",
    "        IoUs = IoUs.reshape(1000)\n",
    "        bbox_idx_to_keep = torch.cat((bbox_idx_to_keep, bbox_idx[IoUs >= thres_IoU]),dim=0)\n",
    "\n",
    "    X_source = torch.cat((X_source,feat[torch.unique(bbox_idx_to_keep).long()]), dim=0)"
   ]
  },
  {
   "cell_type": "code",
   "execution_count": null,
   "metadata": {},
   "outputs": [],
   "source": [
    "X_source.shape"
   ]
  },
  {
   "cell_type": "markdown",
   "metadata": {},
   "source": [
    "### Save 1"
   ]
  },
  {
   "cell_type": "code",
   "execution_count": null,
   "metadata": {},
   "outputs": [],
   "source": [
    "torch.save(X_source, 'saved_data/X_source_05_roi_3_augment.pt')"
   ]
  },
  {
   "cell_type": "code",
   "execution_count": null,
   "metadata": {},
   "outputs": [],
   "source": [
    "# center data\n",
    "scaler = StandardScaler()\n",
    "X_source_scaled = scaler.fit_transform(X_source)"
   ]
  },
  {
   "cell_type": "code",
   "execution_count": null,
   "metadata": {},
   "outputs": [],
   "source": [
    "# Apply PCA, keep only the first 100 components which gives the Projected source matrix\n",
    "\n",
    "pca = PCA(n_components=100)\n",
    "pca.fit(X_source_scaled)\n",
    "\n",
    "X_source_proj = pca.components_\n",
    "X_source_proj = torch.from_numpy(X_source_proj)\n"
   ]
  },
  {
   "cell_type": "code",
   "execution_count": null,
   "metadata": {},
   "outputs": [],
   "source": [
    "X_source_proj.shape"
   ]
  },
  {
   "cell_type": "code",
   "execution_count": null,
   "metadata": {},
   "outputs": [],
   "source": [
    "plt.plot(pca.explained_variance_ratio_) \n",
    "plt.grid()"
   ]
  },
  {
   "cell_type": "markdown",
   "metadata": {},
   "source": [
    "### Save 2"
   ]
  },
  {
   "cell_type": "code",
   "execution_count": null,
   "metadata": {},
   "outputs": [],
   "source": [
    "torch.save(X_source_proj, 'saved_data/X_source_proj_05_roi_3_augment.pt')"
   ]
  },
  {
   "cell_type": "markdown",
   "metadata": {},
   "source": [
    "### Target data with batch size 1"
   ]
  },
  {
   "cell_type": "code",
   "execution_count": null,
   "metadata": {},
   "outputs": [],
   "source": [
    "# Target data/distribution = trans test set - Batch Size 1\n",
    "trans_test_batch1_img,_ = get_img_with_bbox(trans_test_ann_path)\n",
    "trans_test_batch1_data = CustomImageDataset(trans_test_ann_path, img_folder, trans_test_batch1_img)\n",
    "trans_test_batch1_dataloader = DataLoader(trans_test_batch1_data, batch_size=1, shuffle=True, collate_fn=utils.collate_fn)"
   ]
  },
  {
   "cell_type": "markdown",
   "metadata": {},
   "source": [
    " **Construct target matrix:** \n",
    " \n",
    "We keep output of model.roi_heads.box_head (vector of size 1024) as feature representations of bounding boxes\n",
    " extracted by the RPN (region proposal network). For us to stack a box representation to the source matrix, the predicted bbox associated with the feature has to have a confidence score > thres_conf_score (since we don't use target labels we can't use the IoU here).\n"
   ]
  },
  {
   "cell_type": "code",
   "execution_count": null,
   "metadata": {},
   "outputs": [],
   "source": [
    "# 30 minutes\n",
    "thres_conf_score= 0.50 \n",
    "count=0\n",
    "\n",
    "X_target=torch.tensor([])\n",
    "\n",
    "model.eval()\n",
    "\n",
    "for images, targets in trans_test_batch1_dataloader: # trans location valid AND test ?\n",
    "    images = [image.to(device) for image in images]\n",
    "    targets = [{k: v.to(device) for k, v in t.items()} for t in targets]\n",
    "\n",
    "    count+=1\n",
    "\n",
    "    if count%100==0:\n",
    "        print(count)\n",
    "\n",
    "    with torch.no_grad():\n",
    "\n",
    "        outputs = []\n",
    "        hook = model.backbone.register_forward_hook(\n",
    "        lambda self, input, output: outputs.append(output))\n",
    "        res = model(images)\n",
    "        hook.remove()\n",
    "\n",
    "        box_features = model.roi_heads.box_roi_pool(outputs[0], [r['boxes'] for r in res], [i.shape[-2:] for i in images])\n",
    "        box_features = model.roi_heads.box_head(box_features)\n",
    "\n",
    "    X_target = torch.cat((X_target,box_features[res[0]['scores']>=thres_conf_score].cpu()), dim=0)\n"
   ]
  },
  {
   "cell_type": "code",
   "execution_count": null,
   "metadata": {},
   "outputs": [],
   "source": [
    "X_target.shape"
   ]
  },
  {
   "cell_type": "code",
   "execution_count": null,
   "metadata": {},
   "outputs": [],
   "source": [
    "torch.save(X_target, 'saved_data/X_target_05_roi_3_augment.pt')"
   ]
  },
  {
   "cell_type": "code",
   "execution_count": null,
   "metadata": {},
   "outputs": [],
   "source": [
    "# center data\n",
    "scaler = StandardScaler()\n",
    "X_target_scaled = scaler.fit_transform(X_target)"
   ]
  },
  {
   "cell_type": "code",
   "execution_count": null,
   "metadata": {},
   "outputs": [],
   "source": [
    "# Apply PCA, keep only the first 100 components which gives the Projected source matrix\n",
    "\n",
    "pca_proj = PCA(n_components=100)\n",
    "pca_proj.fit(X_target_scaled)\n",
    "\n",
    "X_target_proj = pca_proj.components_\n",
    "X_target_proj = torch.from_numpy(X_target_proj)"
   ]
  },
  {
   "cell_type": "code",
   "execution_count": null,
   "metadata": {
    "scrolled": true
   },
   "outputs": [],
   "source": [
    "plt.plot(pca_proj.explained_variance_ratio_) # we keep 100 dimensions\n",
    "plt.grid()"
   ]
  },
  {
   "cell_type": "code",
   "execution_count": null,
   "metadata": {},
   "outputs": [],
   "source": [
    "X_target_proj.shape"
   ]
  },
  {
   "cell_type": "code",
   "execution_count": null,
   "metadata": {},
   "outputs": [],
   "source": [
    "torch.save(X_target_proj, 'saved_data/X_target_proj_05_roi_3_augment.pt')"
   ]
  },
  {
   "cell_type": "markdown",
   "metadata": {},
   "source": [
    "### Transformation matrix M\n",
    "\n",
    "𝑀 is obtained by minimizing the following Bregman matrix divergence (following closed-form solution given in the paper)"
   ]
  },
  {
   "cell_type": "code",
   "execution_count": null,
   "metadata": {},
   "outputs": [],
   "source": [
    "M = torch.matmul(X_source_proj, X_target_proj.T) "
   ]
  },
  {
   "cell_type": "code",
   "execution_count": null,
   "metadata": {},
   "outputs": [],
   "source": [
    "M.shape"
   ]
  },
  {
   "cell_type": "markdown",
   "metadata": {},
   "source": [
    "### Project source data into target aligned source subspace"
   ]
  },
  {
   "cell_type": "code",
   "execution_count": null,
   "metadata": {},
   "outputs": [],
   "source": [
    "Xa = torch.matmul(X_source_proj.T,M)"
   ]
  },
  {
   "cell_type": "code",
   "execution_count": null,
   "metadata": {},
   "outputs": [],
   "source": [
    "Xa.shape"
   ]
  },
  {
   "cell_type": "code",
   "execution_count": null,
   "metadata": {},
   "outputs": [],
   "source": [
    "# To project a given feature\n",
    "\n",
    "# feat(1,1024) x Xa (1024,100)"
   ]
  },
  {
   "cell_type": "markdown",
   "metadata": {},
   "source": [
    "### Projet target data in target subspace"
   ]
  },
  {
   "cell_type": "code",
   "execution_count": null,
   "metadata": {},
   "outputs": [],
   "source": [
    "# To project a given feature\n",
    "\n",
    "# feat(1,1024) x X_target_proj.T (1024,100)"
   ]
  },
  {
   "cell_type": "markdown",
   "metadata": {},
   "source": [
    "### Train adapted model"
   ]
  },
  {
   "cell_type": "code",
   "execution_count": null,
   "metadata": {},
   "outputs": [],
   "source": [
    "import torchvision.ops.boxes as bops\n",
    "from sklearn.decomposition import PCA\n",
    "from sklearn.preprocessing import StandardScaler\n",
    "from torch import nn"
   ]
  },
  {
   "cell_type": "code",
   "execution_count": null,
   "metadata": {},
   "outputs": [],
   "source": [
    "device = torch.device('cuda') if torch.cuda.is_available() else torch.device('cpu')\n",
    "device"
   ]
  },
  {
   "cell_type": "code",
   "execution_count": null,
   "metadata": {},
   "outputs": [],
   "source": [
    "# Load because it takes time to generate the following matrices so they are saved\n",
    "X_source_proj = torch.load('saved_data/X_source_proj_05_roi_3_augment.pt')\n",
    "X_target_proj = torch.load('saved_data/X_target_proj_05_roi_3_augment.pt')"
   ]
  },
  {
   "cell_type": "code",
   "execution_count": null,
   "metadata": {},
   "outputs": [],
   "source": [
    "X_source_proj.device"
   ]
  },
  {
   "cell_type": "code",
   "execution_count": null,
   "metadata": {},
   "outputs": [],
   "source": [
    "M = torch.matmul(X_source_proj, X_target_proj.T) # transformation matrix\n",
    "print(M.shape)\n",
    "\n",
    "Xa = torch.matmul(X_source_proj.T,M) # target aligned source subspace\n",
    "print(Xa.shape)"
   ]
  },
  {
   "cell_type": "code",
   "execution_count": null,
   "metadata": {},
   "outputs": [],
   "source": [
    "M.to(device)"
   ]
  },
  {
   "cell_type": "code",
   "execution_count": null,
   "metadata": {},
   "outputs": [],
   "source": [
    "Xa.to(device)"
   ]
  },
  {
   "cell_type": "code",
   "execution_count": null,
   "metadata": {},
   "outputs": [],
   "source": [
    "class FastRCNNPredictor_custom(nn.Module):\n",
    "    \"\"\"\n",
    "    Standard classification + bounding box regression layers\n",
    "    for Fast R-CNN.\n",
    "\n",
    "    Args:\n",
    "        in_channels (int): number of input channels\n",
    "        num_classes (int): number of output classes (including background)\n",
    "    \"\"\"\n",
    "\n",
    "    def __init__(self, in_channels, num_classes, m_transfo):\n",
    "        super(FastRCNNPredictor_custom, self).__init__()\n",
    "        self.cls_score = nn.Sequential(nn.Linear(in_features = 1024, out_features = 100, bias=False), nn.Linear(in_channels, num_classes))\n",
    "        self.bbox_pred = nn.Sequential(nn.Linear(in_features = 1024, out_features = 100, bias=False), nn.Linear(in_channels, num_classes * 4))\n",
    "        self.cls_score[0].weight= nn.Parameter(m_transfo, requires_grad = False)\n",
    "        self.bbox_pred[0].weight= nn.Parameter(m_transfo, requires_grad = False)\n",
    "\n",
    "    def forward(self, x):\n",
    "        if x.dim() == 4:\n",
    "            assert list(x.shape[2:]) == [1, 1]\n",
    "        x = x.flatten(start_dim=1)\n",
    "        scores = self.cls_score(x)\n",
    "        bbox_deltas = self.bbox_pred(x)\n",
    "\n",
    "        return scores, bbox_deltas\n"
   ]
  },
  {
   "cell_type": "code",
   "execution_count": null,
   "metadata": {},
   "outputs": [],
   "source": [
    "device = torch.device('cuda') if torch.cuda.is_available() else torch.device('cpu')\n",
    "\n",
    "# our dataset has two classes only - background and person\n",
    "num_classes = 2\n",
    "\n",
    "# get the model using our helper function\n",
    "model = get_model_from_pretrained(num_classes)\n",
    "\n",
    "# move model to the right device\n",
    "model.to(device)\n",
    "\n",
    "# load fine-tuned weights\n",
    "model.load_state_dict(torch.load('saved_models/25_roi_3_augment_model.pt'))\n",
    "\n",
    "\n",
    "for param in model.parameters(): # to freeze all existing weights\n",
    "\n",
    "    param.requires_grad = False\n",
    "\n",
    "# vector are of size 100 after the transformation\n",
    "model.roi_heads.box_predictor = FastRCNNPredictor_custom(in_channels=100, num_classes=2, m_transfo=Xa.T.float()) \n",
    "\n",
    "# move model to the right device\n",
    "model.to(device)\n",
    "\n",
    "# construct an optimizer\n",
    "# We will only retrain model.roi_heads.box_predictor (2 last layers)\n",
    "params = [p for p in model.parameters() if p.requires_grad]\n",
    "optimizer = torch.optim.SGD(params, lr=0.0003, momentum=0.9)\n",
    "\n",
    "lr_scheduler = torch.optim.lr_scheduler.MultiStepLR(optimizer,milestones=[5,10], gamma=0.1)"
   ]
  },
  {
   "cell_type": "code",
   "execution_count": null,
   "metadata": {},
   "outputs": [],
   "source": [
    "# weights to learn\n",
    "for i in range(4):\n",
    "    print(params[i].shape)"
   ]
  },
  {
   "cell_type": "code",
   "execution_count": null,
   "metadata": {},
   "outputs": [],
   "source": [
    "# Nb of weights in the optimizer\n",
    "for i in range(len(optimizer.param_groups[0]['params'])):\n",
    "    print(optimizer.param_groups[0]['params'][i].shape)"
   ]
  },
  {
   "cell_type": "code",
   "execution_count": null,
   "metadata": {},
   "outputs": [],
   "source": [
    "# TRAIN\n",
    "\n",
    "all_train_logs=[]\n",
    "all_trans_valid_logs=[]\n",
    "all_cis_valid_logs=[]\n",
    "\n",
    "num_epochs = 25\n",
    "\n",
    "for epoch in range(num_epochs):\n",
    "    \n",
    "    # train for one epoch, printing every 100 images\n",
    "    train_logs = train_one_epoch(model, optimizer, train_dataloader, device, epoch, print_freq=100)\n",
    "    all_train_logs.append(train_logs)\n",
    "    \n",
    "    # update the learning rate\n",
    "    lr_scheduler.step()\n",
    "    # evaluate on the test dataset\n",
    "\n",
    "    for images, targets in trans_valid_dataloader: # can do batch of 10 prob.\n",
    "        images = [image.to(device) for image in images]\n",
    "        targets = [{k: v.to(device) for k, v in t.items()} for t in targets]\n",
    "\n",
    "        with torch.no_grad():\n",
    "            trans_loss_dict = model(images, targets)\n",
    "            trans_loss_dict= [{k: loss.to('cpu')} for k, loss in trans_loss_dict.items()]\n",
    "            all_trans_valid_logs.append(trans_loss_dict)\n",
    "\n",
    "\n",
    "    for images, targets in cis_valid_dataloader: # can do batch of 10 prob.\n",
    "        images = [image.to(device) for image in images]\n",
    "        targets = [{k: v.to(device) for k, v in t.items()} for t in targets]\n",
    "\n",
    "        with torch.no_grad():\n",
    "            cis_loss_dict = model(images, targets)\n",
    "            cis_loss_dict= [{k: loss.to('cpu')} for k, loss in cis_loss_dict.items()]\n",
    "            all_cis_valid_logs.append(cis_loss_dict)\n"
   ]
  },
  {
   "cell_type": "code",
   "execution_count": null,
   "metadata": {},
   "outputs": [],
   "source": [
    "model"
   ]
  },
  {
   "cell_type": "code",
   "execution_count": null,
   "metadata": {},
   "outputs": [],
   "source": [
    "torch.version.cuda"
   ]
  },
  {
   "cell_type": "code",
   "execution_count": null,
   "metadata": {},
   "outputs": [],
   "source": [
    "torch.version.git_version"
   ]
  },
  {
   "cell_type": "code",
   "execution_count": null,
   "metadata": {},
   "outputs": [],
   "source": [
    "torchvision.version.git_version"
   ]
  },
  {
   "cell_type": "code",
   "execution_count": null,
   "metadata": {},
   "outputs": [],
   "source": []
  }
 ],
 "metadata": {
  "accelerator": "GPU",
  "colab": {
   "collapsed_sections": [],
   "name": "Copy of Step1_TransferLearning.ipynb",
   "provenance": []
  },
  "kernelspec": {
   "display_name": "Animals",
   "language": "python",
   "name": "animals"
  },
  "language_info": {
   "codemirror_mode": {
    "name": "ipython",
    "version": 3
   },
   "file_extension": ".py",
   "mimetype": "text/x-python",
   "name": "python",
   "nbconvert_exporter": "python",
   "pygments_lexer": "ipython3",
   "version": "3.7.11"
  }
 },
 "nbformat": 4,
 "nbformat_minor": 1
}
