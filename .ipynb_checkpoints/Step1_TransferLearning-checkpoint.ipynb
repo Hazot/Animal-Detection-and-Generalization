{
 "cells": [
  {
   "cell_type": "code",
   "execution_count": 1,
   "metadata": {
    "colab": {
     "base_uri": "https://localhost:8080/"
    },
    "id": "LOw_54h_K15W",
    "outputId": "68485a5b-ce4e-4a66-be92-6219b89bfac8"
   },
   "outputs": [],
   "source": [
    "# !pip install torchmetrics\n",
    "# !pip install cython\n",
    "# Install pycocotools, the version by default in Colab\n",
    "# has a bug fixed in https://github.com/cocodataset/cocoapi/pull/354\n",
    "# !pip install -U 'git+https://github.com/cocodataset/cocoapi.git#subdirectory=PythonAPI'\n",
    "\n",
    "# Download TorchVision repo to use some files from\n",
    "# references/detection\n",
    "# git clone https://github.com/pytorch/vision.git\n",
    "# cd vision\n",
    "# git checkout v0.8.2\n",
    "\n",
    "# cp references/detection/utils.py ../\n",
    "# cp references/detection/transforms.py ../\n",
    "# cp references/detection/coco_eval.py ../\n",
    "# cp references/detection/engine.py ../\n",
    "# cp references/detection/coco_utils.py ../"
   ]
  },
  {
   "cell_type": "code",
   "execution_count": 2,
   "metadata": {
    "id": "3RUQCnETVJhK"
   },
   "outputs": [],
   "source": [
    "import json\n",
    "import matplotlib.pyplot as plt\n",
    "import torch\n",
    "\n",
    "import torchvision\n",
    "from torch.utils.data import Dataset\n",
    "from torch.utils.data import DataLoader\n",
    "from torchvision.transforms import ToTensor\n",
    "\n",
    "import os\n",
    "from torchvision.io import read_image\n",
    "from PIL import Image\n",
    "\n",
    "import numpy as np\n",
    "import matplotlib.patches as patches\n",
    "from torchvision import transforms\n",
    "\n",
    "from torchvision.models.detection.faster_rcnn import FastRCNNPredictor\n",
    "\n",
    "from torchmetrics.detection.map import MeanAveragePrecision"
   ]
  },
  {
   "cell_type": "code",
   "execution_count": 4,
   "metadata": {},
   "outputs": [],
   "source": [
    "import pycocotools"
   ]
  },
  {
   "cell_type": "markdown",
   "metadata": {
    "id": "DiEOTFl_24EF"
   },
   "source": [
    "If you are using Google Colab"
   ]
  },
  {
   "cell_type": "code",
   "execution_count": 5,
   "metadata": {
    "colab": {
     "base_uri": "https://localhost:8080/"
    },
    "id": "5VSQf2i3LuN1",
    "outputId": "b457d52a-3e1b-4a7b-a340-5cae31490055"
   },
   "outputs": [],
   "source": [
    "# from google.colab import drive\n",
    "# drive.mount('/content/gdrive')"
   ]
  },
  {
   "cell_type": "code",
   "execution_count": 6,
   "metadata": {
    "colab": {
     "base_uri": "https://localhost:8080/"
    },
    "id": "pJ_QIR08LuaE",
    "outputId": "475d0f24-ff93-4c52-eedf-ee1b2b92a596"
   },
   "outputs": [],
   "source": [
    "# !tar -xf \"/content/gdrive/MyDrive/IFT-Projets/eccv_18_all_images_sm.tar\" -C \"/content/gdrive/MyDrive/IFT-Projets/output\"    #[run this cell to extract tar files] # images"
   ]
  },
  {
   "cell_type": "code",
   "execution_count": 7,
   "metadata": {
    "colab": {
     "base_uri": "https://localhost:8080/"
    },
    "id": "W8y-SY30Lucu",
    "outputId": "8df45c8b-df30-45e4-e17a-f21618df94df"
   },
   "outputs": [],
   "source": [
    "# !tar -xvf \"/content/gdrive/MyDrive/IFT-Projets/eccv_18_annotations.tar\" -C \"/content/gdrive/MyDrive/IFT-Projets/output\"   #[run this cell to extract tar files] # labels"
   ]
  },
  {
   "cell_type": "markdown",
   "metadata": {
    "id": "CFo8FhOT4-Yf"
   },
   "source": [
    "Example of data in annotation files"
   ]
  },
  {
   "cell_type": "code",
   "execution_count": 8,
   "metadata": {
    "id": "IlU99PhcSNDv"
   },
   "outputs": [],
   "source": [
    "# output_path='/content/gdrive/MyDrive/IFT-Projets/output'\n",
    "# img_folder= '/content/gdrive/MyDrive/IFT-Projets/output/eccv_18_all_images_sm'\n",
    "\n",
    "cis_test_ann_path= 'eccv_18_annotation_files/cis_test_annotations.json'\n",
    "cis_val_ann_path= 'eccv_18_annotation_files/cis_val_annotations.json'\n",
    "train_ann_path = 'eccv_18_annotation_files/train_annotations.json'\n",
    "trans_test_ann_path= 'eccv_18_annotation_files/trans_test_annotations.json'\n",
    "trans_val_ann_path = 'eccv_18_annotation_files/trans_val_annotations.json'"
   ]
  },
  {
   "cell_type": "markdown",
   "metadata": {
    "id": "08r4QhagWuKZ"
   },
   "source": [
    "Number of images per split"
   ]
  },
  {
   "cell_type": "code",
   "execution_count": 9,
   "metadata": {
    "id": "5tYL7gDDW09R"
   },
   "outputs": [],
   "source": [
    "cis_test_ann = json.load(open(cis_test_ann_path))\n",
    "cis_val_ann = json.load(open(cis_val_ann_path))\n",
    "train_ann= json.load(open(train_ann_path))\n",
    "trans_test_ann = json.load(open(trans_test_ann_path))\n",
    "trans_val_ann = json.load(open(trans_val_ann_path))"
   ]
  },
  {
   "cell_type": "code",
   "execution_count": 10,
   "metadata": {
    "colab": {
     "base_uri": "https://localhost:8080/"
    },
    "id": "Qbuy1jLsWuew",
    "outputId": "7ba79560-5443-4fea-f46c-c0e3acaa1588"
   },
   "outputs": [
    {
     "name": "stdout",
     "output_type": "stream",
     "text": [
      "15827\n",
      "3484\n",
      "13553\n",
      "23275\n",
      "1725\n"
     ]
    }
   ],
   "source": [
    "print(len(cis_test_ann['images']))\n",
    "print(len(cis_val_ann['images']))\n",
    "print(len(train_ann['images']))\n",
    "print(len(trans_test_ann['images']))\n",
    "print(len(trans_val_ann['images']))"
   ]
  },
  {
   "cell_type": "code",
   "execution_count": 11,
   "metadata": {
    "colab": {
     "base_uri": "https://localhost:8080/"
    },
    "id": "tJSS3CO7heG3",
    "outputId": "32125207-6219-4017-8ad6-399632efd639"
   },
   "outputs": [
    {
     "data": {
      "text/plain": [
       "dict_keys(['info', 'categories', 'images', 'annotations'])"
      ]
     },
     "execution_count": 11,
     "metadata": {},
     "output_type": "execute_result"
    }
   ],
   "source": [
    "trans_val_ann.keys()"
   ]
  },
  {
   "cell_type": "code",
   "execution_count": 12,
   "metadata": {
    "colab": {
     "base_uri": "https://localhost:8080/"
    },
    "id": "K_xxRrJFRE29",
    "outputId": "57e66677-3c9d-478f-e48b-bb3226f53546"
   },
   "outputs": [
    {
     "data": {
      "text/plain": [
       "{'contributor': 'Sara Beery',\n",
       " 'date_created': '2018-07-03 18:34:36.573636',\n",
       " 'version': 'Caltech Camera Traps - ECCV18',\n",
       " 'description': 'Database of camera trap images collected from the NPS and the USGS with help from Justin Brown and Erin Boydston',\n",
       " 'year': 2018}"
      ]
     },
     "execution_count": 12,
     "metadata": {},
     "output_type": "execute_result"
    }
   ],
   "source": [
    "trans_val_ann['info']"
   ]
  },
  {
   "cell_type": "code",
   "execution_count": 13,
   "metadata": {
    "colab": {
     "base_uri": "https://localhost:8080/"
    },
    "id": "ajXJCO_jTGnY",
    "outputId": "f023204a-68dc-48c2-c5b4-2dd2da34b97e"
   },
   "outputs": [
    {
     "data": {
      "text/plain": [
       "[{'id': 6, 'name': 'bobcat'},\n",
       " {'id': 1, 'name': 'opossum'},\n",
       " {'id': 30, 'name': 'empty'},\n",
       " {'id': 9, 'name': 'coyote'},\n",
       " {'id': 3, 'name': 'raccoon'},\n",
       " {'id': 11, 'name': 'bird'},\n",
       " {'id': 8, 'name': 'dog'},\n",
       " {'id': 16, 'name': 'cat'},\n",
       " {'id': 5, 'name': 'squirrel'},\n",
       " {'id': 10, 'name': 'rabbit'},\n",
       " {'id': 7, 'name': 'skunk'},\n",
       " {'id': 99, 'name': 'rodent'},\n",
       " {'id': 21, 'name': 'badger'},\n",
       " {'id': 34, 'name': 'deer'},\n",
       " {'id': 33, 'name': 'car'},\n",
       " {'id': 51, 'name': 'fox'}]"
      ]
     },
     "execution_count": 13,
     "metadata": {},
     "output_type": "execute_result"
    }
   ],
   "source": [
    "trans_val_ann['categories']"
   ]
  },
  {
   "cell_type": "code",
   "execution_count": 14,
   "metadata": {
    "colab": {
     "base_uri": "https://localhost:8080/"
    },
    "id": "ChHLy0fE5s8Z",
    "outputId": "f0fac9dd-5a98-4738-8de9-dc67919292e4"
   },
   "outputs": [
    {
     "data": {
      "text/plain": [
       "{'image_id': '58df680b-23d2-11e8-a6a3-ec086b02610b',\n",
       " 'category_id': 6,\n",
       " 'bbox': [1123.7375892857142,\n",
       "  787.8743750000001,\n",
       "  284.6749107142857,\n",
       "  244.2854464285715],\n",
       " 'id': '19220'}"
      ]
     },
     "execution_count": 14,
     "metadata": {},
     "output_type": "execute_result"
    }
   ],
   "source": [
    "trans_val_ann['annotations'][0]"
   ]
  },
  {
   "cell_type": "markdown",
   "metadata": {
    "id": "DnDM9gbwrQNx"
   },
   "source": [
    "## Horizontal flip debugging"
   ]
  },
  {
   "cell_type": "code",
   "execution_count": 15,
   "metadata": {
    "colab": {
     "base_uri": "https://localhost:8080/",
     "height": 286
    },
    "id": "iOwBQIVEYWkN",
    "outputId": "c91a5292-95b4-4e30-9e96-a5cbbc6cdf66"
   },
   "outputs": [
    {
     "data": {
      "text/plain": [
       "<matplotlib.patches.Rectangle at 0x22381945a08>"
      ]
     },
     "execution_count": 15,
     "metadata": {},
     "output_type": "execute_result"
    },
    {
     "data": {
      "image/png": "[encoded data removed]",
      "text/plain": [
       "<Figure size 432x288 with 1 Axes>"
      ]
     },
     "metadata": {
      "needs_background": "light"
     },
     "output_type": "display_data"
    }
   ],
   "source": [
    "i = 500\n",
    "\n",
    "boxes = [trans_val_ann['annotations'][j]['bbox'] for j in range(len(trans_val_ann['annotations'])) if trans_val_ann['annotations'][j]['image_id']==trans_val_ann['images'][i]['id'] and 'bbox' in trans_val_ann['annotations'][j].keys()]\n",
    "\n",
    "img_path = os.path.join('eccv_18_all_images_sm', trans_val_ann['images'][i]['file_name']) # to change\n",
    "\n",
    "image = read_image(img_path)\n",
    "\n",
    "fig, ax = plt.subplots()\n",
    "ax.imshow(image[0].squeeze(),cmap=\"gray\")\n",
    "\n",
    "scale_x = image.shape[2] / trans_val_ann['images'][i]['width'] \n",
    "scale_y = image.shape[1] / trans_val_ann['images'][i]['height']\n",
    "\n",
    "boxes = torch.as_tensor(boxes)\n",
    "\n",
    "for i in range(boxes.shape[0]):\n",
    "  boxes[i][0] = torch.round(boxes[i][0] * scale_x)\n",
    "  boxes[i][1] = torch.round(boxes[i][1] * scale_y)\n",
    "  boxes[i][2] = torch.round(boxes[i][2] * scale_x)\n",
    "  boxes[i][3] = torch.round(boxes[i][3] * scale_y)\n",
    "\n",
    "  boxes[i][2] = boxes[i][0] + boxes[i][2]\n",
    "  boxes[i][3] = boxes[i][1] + boxes[i][3]\n",
    "\n",
    "target = {}\n",
    "target[\"boxes\"] = boxes\n",
    "\n",
    "rect = patches.Rectangle((boxes[0][0], boxes[0][1]), boxes[0][2]-boxes[0][0], boxes[0][3]-boxes[0][1], linewidth=2, edgecolor='r', facecolor='none')\n",
    "ax.add_patch(rect)"
   ]
  },
  {
   "cell_type": "code",
   "execution_count": 16,
   "metadata": {
    "id": "L-RQS521hTUZ"
   },
   "outputs": [],
   "source": [
    "image = Image.open(img_path).convert(\"RGB\")\n",
    "#image=conv(image)"
   ]
  },
  {
   "cell_type": "code",
   "execution_count": null,
   "metadata": {
    "colab": {
     "base_uri": "https://localhost:8080/"
    },
    "id": "TnnzSWwDY21l",
    "outputId": "394a67d3-5c61-4588-e343-c8f8bd923405"
   },
   "outputs": [],
   "source": [
    "image.size"
   ]
  },
  {
   "cell_type": "code",
   "execution_count": null,
   "metadata": {
    "id": "KQ6SPQCGhdE5"
   },
   "outputs": [],
   "source": [
    "conv=torchvision.transforms.ToTensor()"
   ]
  },
  {
   "cell_type": "code",
   "execution_count": null,
   "metadata": {
    "id": "KQzZM7EvYkCE"
   },
   "outputs": [],
   "source": [
    "width, height = image.size[0], image.size[1]"
   ]
  },
  {
   "cell_type": "code",
   "execution_count": null,
   "metadata": {
    "colab": {
     "base_uri": "https://localhost:8080/"
    },
    "id": "giU8_6W5Y75I",
    "outputId": "25cebcb4-3d63-4836-eba2-f7b86689a00a"
   },
   "outputs": [],
   "source": [
    "image.size[0]"
   ]
  },
  {
   "cell_type": "code",
   "execution_count": null,
   "metadata": {
    "colab": {
     "base_uri": "https://localhost:8080/"
    },
    "id": "BNSinfTNYkIn",
    "outputId": "7ae7ecf8-a108-4042-d840-6a3951d10752"
   },
   "outputs": [],
   "source": [
    "width"
   ]
  },
  {
   "cell_type": "code",
   "execution_count": null,
   "metadata": {},
   "outputs": [],
   "source": [
    "height"
   ]
  },
  {
   "cell_type": "code",
   "execution_count": null,
   "metadata": {
    "id": "CtVK02HYhfB-"
   },
   "outputs": [],
   "source": [
    "image_new = conv(image)"
   ]
  },
  {
   "cell_type": "code",
   "execution_count": null,
   "metadata": {
    "colab": {
     "base_uri": "https://localhost:8080/",
     "height": 286
    },
    "id": "uaH-lkHaZgMj",
    "outputId": "4d3a456c-bd98-4f0e-cb52-b38af0b03bac"
   },
   "outputs": [],
   "source": [
    "trans = data_transform['train']\n",
    "img2,target2= trans(image,target)\n",
    "\n",
    "fig, ax = plt.subplots()\n",
    "ax.imshow(img2[0].squeeze(),cmap=\"gray\")\n",
    "\n",
    "rect = patches.Rectangle((target2['boxes'][0][0], target2['boxes'][0][1]), target2['boxes'][0][2]-target2['boxes'][0][0], target2['boxes'][0][3]-target2['boxes'][0][1], linewidth=2, edgecolor='r', facecolor='none')\n",
    "ax.add_patch(rect)"
   ]
  },
  {
   "cell_type": "code",
   "execution_count": null,
   "metadata": {
    "id": "x3x4H_LXLhW3"
   },
   "outputs": [],
   "source": []
  },
  {
   "cell_type": "code",
   "execution_count": null,
   "metadata": {
    "id": "265w4DW6Lhai"
   },
   "outputs": [],
   "source": []
  },
  {
   "cell_type": "markdown",
   "metadata": {
    "id": "OMhB4CM354Px"
   },
   "source": [
    "## Utils"
   ]
  },
  {
   "cell_type": "code",
   "execution_count": null,
   "metadata": {
    "id": "3mHaZNrt7D98"
   },
   "outputs": [],
   "source": [
    "# In paper :  ' ... and employ horizontal flipping for data augmentation. ( for detection)\n",
    "\n",
    "import transforms as T   # from git hub repo\n",
    "\n",
    "data_transform = {\n",
    "    'train': T.RandomHorizontalFlip(0.5)}"
   ]
  },
  {
   "cell_type": "code",
   "execution_count": null,
   "metadata": {
    "id": "bGYQbOaGzeYb"
   },
   "outputs": [],
   "source": [
    "def get_img_with_bbox(file_path):\n",
    "  \n",
    "  # returns a list with the idx of images with at least one bounding box (img_wbbox) and a list with the number of bbox for each valid image (num_bbox)\n",
    "  file = json.load(open(file_path))\n",
    "  img_wbbox=[]\n",
    "  num_bbox=[]\n",
    "\n",
    "  for i in range(len(file['images'])):\n",
    "    bboxes= [file['annotations'][j]['bbox'] for j in range(len(file['annotations'])) if file['annotations'][j]['image_id']==file['images'][i]['id'] and 'bbox' in file['annotations'][j].keys()]\n",
    "\n",
    "    if len(bboxes)!=0:\n",
    "      img_wbbox.append(i)\n",
    "\n",
    "      num_bbox.append(len(bboxes))\n",
    "\n",
    "  return img_wbbox, num_bbox"
   ]
  },
  {
   "cell_type": "code",
   "execution_count": null,
   "metadata": {
    "id": "SdJaZm5aOJ6y"
   },
   "outputs": [],
   "source": [
    "class CustomImageDataset(Dataset):\n",
    "    def __init__(self, label_path, img_dir, valid_img, transform= None, target_transform=None):\n",
    "        self.label_file = json.load(open(label_path))\n",
    "        self.img_dir = img_dir\n",
    "        self.transform = transform\n",
    "        self.target_transform = target_transform\n",
    "        self.valid_img= valid_img\n",
    "\n",
    "    def __len__(self):\n",
    "        return len(self.valid_img)\n",
    "\n",
    "    def __getitem__(self, idx):\n",
    "        \n",
    "        idx=self.valid_img[idx] # consider only images with bbox annotations\n",
    "        img_path = os.path.join(self.img_dir, self.label_file['images'][idx]['file_name'])\n",
    "        image = read_image(img_path)\n",
    "\n",
    "        conv=torchvision.transforms.ToTensor()\n",
    "        #if image.shape[0]==1:\n",
    "        # some images have only one channel, we convert them to rgb\n",
    "        image = Image.open(img_path).convert(\"RGB\")\n",
    "        image=conv(image)\n",
    "\n",
    "        boxes= [self.label_file['annotations'][j]['bbox'] for j in range(len(self.label_file['annotations'])) if self.label_file['annotations'][j]['image_id']==self.label_file['images'][idx]['id']]\n",
    "        label= [self.label_file['annotations'][j]['category_id'] for j in range(len(self.label_file['annotations'])) if self.label_file['annotations'][j]['image_id']==self.label_file['images'][idx]['id']]\n",
    "\n",
    "        # transform bbox coords to adjust for resizing\n",
    "        scale_x=image.shape[2]/self.label_file['images'][idx]['width'] \n",
    "        scale_y=image.shape[1]/self.label_file['images'][idx]['height']\n",
    "\n",
    "        boxes=torch.as_tensor(boxes)\n",
    "        for i in range(boxes.shape[0]):\n",
    "          boxes[i][0]=torch.round(boxes[i][0]*scale_x)\n",
    "          boxes[i][1]=torch.round(boxes[i][1]*scale_y)\n",
    "          boxes[i][2]=torch.round(boxes[i][2]*scale_x)\n",
    "          boxes[i][3]=torch.round(boxes[i][3]*scale_y)\n",
    "\n",
    "          boxes[i][2]=boxes[i][0]+boxes[i][2] # to transform to pytorch bbox format\n",
    "          boxes[i][3]=boxes[i][1]+boxes[i][3]\n",
    "\n",
    "          #boxes[i][0]*=scale_x\n",
    "          #boxes[i][1]*=scale_y\n",
    "          #boxes[i][2]*=scale_x\n",
    "          #boxes[i][3]*=scale_y\n",
    "\n",
    "        label=torch.as_tensor(label)\n",
    "        label=torch.where(label==30,0,1)  # 0 if empty (categ id = 30), 1 if animal\n",
    "        image_id = torch.tensor([idx])\n",
    "        area = (boxes[:, 3] - boxes[:, 1]) * (boxes[:, 2] - boxes[:, 0])\n",
    "        iscrowd = torch.zeros((boxes.shape[0],), dtype=torch.int64)\n",
    "\n",
    "        target = {}\n",
    "        target[\"boxes\"] = boxes\n",
    "        target[\"labels\"] = label\n",
    "        target[\"image_id\"] = image_id\n",
    "        target['area']=area\n",
    "        target['iscrowd']=iscrowd\n",
    "\n",
    "        # TO DO : resize all to same size\n",
    "\n",
    "        if self.transform:\n",
    "          # transform image AND target\n",
    "            image, target = self.transform(image, target)\n",
    "        if self.target_transform:\n",
    "            label = self.target_transform(label)\n",
    "\n",
    "        return image, target\n"
   ]
  },
  {
   "cell_type": "markdown",
   "metadata": {
    "id": "WpDLz3L47UEc"
   },
   "source": [
    "Example of use"
   ]
  },
  {
   "cell_type": "code",
   "execution_count": null,
   "metadata": {
    "id": "QMPXY53859HC"
   },
   "outputs": [],
   "source": [
    "train_valid_img,_= get_img_with_bbox(train_ann_path)   # takes about 1min to run on train data\n",
    "cis_val_valid_img,_= get_img_with_bbox(cis_val_ann_path)   # takes about 1min to run on train data\n"
   ]
  },
  {
   "cell_type": "code",
   "execution_count": null,
   "metadata": {
    "id": "8EVMl_FsOJ9Z"
   },
   "outputs": [],
   "source": [
    "training_data= CustomImageDataset(train_ann_path,img_folder, train_valid_img)\n",
    "valid_data= CustomImageDataset(cis_val_ann_path,img_folder, val_valid_img)\n",
    "\n",
    "train_dataloader = DataLoader(training_data, batch_size=1, shuffle=True,collate_fn=utils.collate_fn)\n",
    "\n",
    "# In paper : ' We use a batch size of 1'"
   ]
  },
  {
   "cell_type": "code",
   "execution_count": null,
   "metadata": {
    "colab": {
     "base_uri": "https://localhost:8080/",
     "height": 321
    },
    "id": "CQ6gGqEal8d8",
    "outputId": "6fb81220-5e7b-4751-b47d-9c01f003d3aa"
   },
   "outputs": [],
   "source": [
    "train_features, train_labels = next(iter(train_dataloader))\n",
    "#print(f\"Feature batch shape: {train_features.size()}\")\n",
    "print(f\"Target (Bbox) batch shape: {train_labels[0]['boxes'].size()}\")\n",
    "print(f\"Target (category) batch shape: {train_labels[0]['labels'].size()}\")\n",
    "\n",
    "img = train_features[0][0].squeeze()\n",
    "label = train_labels[0]['labels']\n",
    "label_categ='animal'\n",
    "\n",
    "if label[0]==0:\n",
    "  label_categ='background'\n",
    "\n",
    "fig, ax = plt.subplots()\n",
    "ax.imshow(img,cmap=\"gray\")\n",
    "rect = patches.Rectangle((train_labels[0]['boxes'][0][0], train_labels[0]['boxes'][0][1]), train_labels[0]['boxes'][0][2]-train_labels[0]['boxes'][0][0], train_labels[0]['boxes'][0][3]-train_labels[0]['boxes'][0][1], linewidth=2, edgecolor='r', facecolor='none')\n",
    "ax.add_patch(rect)\n",
    "print(f\"Label: {label_categ}\")"
   ]
  },
  {
   "cell_type": "code",
   "execution_count": null,
   "metadata": {
    "id": "Q5149muQLuh7"
   },
   "outputs": [],
   "source": []
  },
  {
   "cell_type": "markdown",
   "metadata": {
    "id": "iuPqrCPG8wsr"
   },
   "source": [
    "## Pre-trained model"
   ]
  },
  {
   "cell_type": "code",
   "execution_count": null,
   "metadata": {
    "id": "6UGQCk7Gcoy7"
   },
   "outputs": [],
   "source": [
    "# Inspired from https://colab.research.google.com/github/pytorch/tutorials/blob/gh-pages/_downloads/torchvision_finetuning_instance_segmentation.ipynb#scrollTo=YjNHjVMOyYlH"
   ]
  },
  {
   "cell_type": "code",
   "execution_count": null,
   "metadata": {
    "id": "vuz8DJUgccUx"
   },
   "outputs": [],
   "source": [
    "def get_model_from_pretrained(num_classes):\n",
    "\n",
    "  # load an instance segmentation model pre-trained on COCO\n",
    "  model = torchvision.models.detection.fasterrcnn_resnet50_fpn(pretrained=True)\n",
    "\n",
    "  for param in model.parameters(): # to freeze all existing weights\n",
    "    param.requires_grad = False\n",
    "\n",
    "  # get the number of input features for the classifier\n",
    "  in_features = model.roi_heads.box_predictor.cls_score.in_features\n",
    "  # replace the pre-trained head with a new one\n",
    "  model.roi_heads.box_predictor = FastRCNNPredictor(in_features, num_classes)\n",
    "\n",
    "  return model"
   ]
  },
  {
   "cell_type": "code",
   "execution_count": null,
   "metadata": {
    "id": "hbSuc8Jwc5qT"
   },
   "outputs": [],
   "source": [
    "device = torch.device('cuda') if torch.cuda.is_available() else torch.device('cpu')\n",
    "\n",
    "# our dataset has two classes only - background and person\n",
    "num_classes = 2\n",
    "\n",
    "# get the model using our helper function\n",
    "model = get_model_from_pretrained(num_classes)\n",
    "\n",
    "# move model to the right device\n",
    "model.to(device)\n",
    "\n",
    "# construct an optimizer\n",
    "params = [p for p in model.parameters() if p.requires_grad]\n",
    "optimizer = torch.optim.SGD(params, lr=0.0003, momentum=0.9)\n",
    "\n",
    "# like in the paper\n",
    "lr_scheduler = torch.optim.lr_scheduler.MultiStepLR(optimizer,milestones=[5,10], gamma=0.1)"
   ]
  },
  {
   "cell_type": "code",
   "execution_count": null,
   "metadata": {
    "id": "hNli84Y1V-Az"
   },
   "outputs": [],
   "source": [
    "train_dataloader = DataLoader(training_data, batch_size=1, shuffle=True, collate_fn=utils.collate_fn)\n",
    "valid_dataloader= DataLoader(valid_data, batch_size=1, shuffle=True, collate_fn=utils.collate_fn)"
   ]
  },
  {
   "cell_type": "code",
   "execution_count": null,
   "metadata": {
    "id": "NdZtIwI_iy9l"
   },
   "outputs": [],
   "source": [
    "trans_val_valid_img,_= get_img_with_bbox(trans_val_ann_path)   # takes about 1min to run on train data\n",
    "trans_valid_data= CustomImageDataset(trans_val_ann_path,img_folder, trans_val_valid_img)\n",
    "trans_valid_dataloader= DataLoader(trans_valid_data, batch_size=1, shuffle=True, collate_fn=utils.collate_fn)"
   ]
  },
  {
   "cell_type": "code",
   "execution_count": null,
   "metadata": {
    "id": "VdGh66kZ_8av"
   },
   "outputs": [],
   "source": [
    "cis_val_valid_img,_= get_img_with_bbox(cis_val_ann_path)   # takes about 1min to run on train data\n",
    "cis_valid_data= CustomImageDataset(cis_val_ann_path,img_folder, cis_val_valid_img)\n",
    "cis_valid_dataloader= DataLoader(cis_valid_data, batch_size=1, shuffle=True, collate_fn=utils.collate_fn)"
   ]
  },
  {
   "cell_type": "code",
   "execution_count": null,
   "metadata": {
    "id": "eNdYtR0kzbAO"
   },
   "outputs": [],
   "source": [
    "# !!TO DO : replace this 'return coco_evaluator' by this 'return metric_logger' on line \n",
    "# #109 of engine.py in evaluate function and CTRL+S"
   ]
  },
  {
   "cell_type": "code",
   "execution_count": null,
   "metadata": {
    "id": "_VTRNc5oohYv"
   },
   "outputs": [],
   "source": [
    "# way around weird behav\n",
    "#del evaluate\n",
    "#from engine_modif import train_one_epoch, evaluate"
   ]
  },
  {
   "cell_type": "code",
   "execution_count": null,
   "metadata": {
    "id": "mFx1Sz9OuDyb"
   },
   "outputs": [],
   "source": [
    "del evaluate"
   ]
  },
  {
   "cell_type": "code",
   "execution_count": null,
   "metadata": {
    "id": "-g1H3WxtuItx"
   },
   "outputs": [],
   "source": [
    "from engine_modif_new5 import evaluate"
   ]
  },
  {
   "cell_type": "code",
   "execution_count": null,
   "metadata": {
    "colab": {
     "base_uri": "https://localhost:8080/"
    },
    "id": "pKGZjyXBRVBn",
    "outputId": "017d37b3-eae9-48d1-aa8a-712c919ea9d9"
   },
   "outputs": [],
   "source": [
    "# TRAIN\n",
    "\n",
    "all_train_logs=[]\n",
    "all_trans_valid_logs=[]\n",
    "all_cis_valid_logs=[]\n",
    "\n",
    "num_epochs = 3\n",
    "\n",
    "for epoch in range(num_epochs):\n",
    "  # train for one epoch, printing every 10 iterations\n",
    "  train_logs=train_one_epoch(model, optimizer, trans_valid_dataloader, device, epoch, print_freq=100)\n",
    "  all_train_logs.append(train_logs)\n",
    "  # update the learning rate\n",
    "  lr_scheduler.step()\n",
    "  # evaluate on the test dataset\n",
    "  trans_valid_logs=evaluate(model, trans_valid_dataloader, device=device)\n",
    "  cis_valid_logs=evaluate(model, cis_valid_dataloader, device=device)\n",
    "  \n",
    "  all_trans_valid_logs.append(trans_valid_logs)\n",
    "  all_cis_valid_logs.append(cis_valid_logs)"
   ]
  },
  {
   "cell_type": "code",
   "execution_count": null,
   "metadata": {
    "colab": {
     "base_uri": "https://localhost:8080/",
     "height": 383
    },
    "id": "pHMiI20IkMK3",
    "outputId": "5b87d0de-d3f2-44c1-9b19-12bce20d70aa"
   },
   "outputs": [],
   "source": [
    "trans_valid_logs=evaluate(model, trans_valid_dataloader, device=device)"
   ]
  },
  {
   "cell_type": "code",
   "execution_count": null,
   "metadata": {
    "id": "4OFQ1cH_rTTh"
   },
   "outputs": [],
   "source": [
    "all_trans_valid_logs=[]\n",
    "all_trans_valid_logs.append(trans_valid_logs)\n"
   ]
  },
  {
   "cell_type": "code",
   "execution_count": null,
   "metadata": {
    "colab": {
     "base_uri": "https://localhost:8080/",
     "height": 287
    },
    "id": "M6aLR3Q3sNRT",
    "outputId": "07d286b6-2a0f-4187-bb0b-a3b9ffa5c550"
   },
   "outputs": [],
   "source": [
    "all_trans_valid_logs[0].meters['loss'].value\n"
   ]
  },
  {
   "cell_type": "code",
   "execution_count": null,
   "metadata": {
    "colab": {
     "base_uri": "https://localhost:8080/"
    },
    "id": "IZIzqsgdxpBk",
    "outputId": "2b5cefd1-8810-47f1-e1fa-f4df63a34a1a"
   },
   "outputs": [],
   "source": [
    "cis_valid_logs.coco_eval.items()"
   ]
  },
  {
   "cell_type": "code",
   "execution_count": null,
   "metadata": {
    "colab": {
     "base_uri": "https://localhost:8080/"
    },
    "id": "x11XEWeNCx8_",
    "outputId": "854d5e97-ea04-4f5d-fe0a-f91e758fb0c6"
   },
   "outputs": [],
   "source": [
    "for iou_type, coco_eval in cis_valid_logs.coco_eval.items():\n",
    "  print(\"IoU metric: {}\".format(iou_type))\n",
    "  coco_eval.summarize()"
   ]
  },
  {
   "cell_type": "code",
   "execution_count": null,
   "metadata": {
    "colab": {
     "base_uri": "https://localhost:8080/"
    },
    "id": "0Ha4nKBUCk1e",
    "outputId": "3aa24fe2-ed5f-4a38-8194-aecd4ba74cdc"
   },
   "outputs": [],
   "source": [
    "cis_valid_logs.coco_eval['bbox']"
   ]
  },
  {
   "cell_type": "code",
   "execution_count": null,
   "metadata": {
    "colab": {
     "base_uri": "https://localhost:8080/"
    },
    "id": "vcBVn-gnBMR7",
    "outputId": "d399d53f-63fc-4b8d-f673-36a22404bdc9"
   },
   "outputs": [],
   "source": [
    "cis_valid_logs.summarize()"
   ]
  },
  {
   "cell_type": "code",
   "execution_count": null,
   "metadata": {
    "id": "KxX6G2qfExQF"
   },
   "outputs": [],
   "source": [
    "test"
   ]
  },
  {
   "cell_type": "code",
   "execution_count": null,
   "metadata": {
    "colab": {
     "base_uri": "https://localhost:8080/",
     "height": 717
    },
    "id": "o9jlXazqwHCv",
    "outputId": "a7c7c674-5462-4436-dd65-e1e5887c8bab"
   },
   "outputs": [],
   "source": [
    "train_loss=[]\n",
    "train_loss_box_reg=[]\n",
    "cis_valid_loss=[]\n",
    "cis_valid_loss_box_reg=[]\n",
    "trans_valid_loss=[]\n",
    "trans_valid_loss_box_reg=[]\n",
    "fig, ax =plt.subplots(1,2, figsize=(20,6))\n",
    "\n",
    "for i in range(1):\n",
    "  train_loss.append(all_train_logs[i].meters['loss'].value)\n",
    "  train_loss_box_reg.append(all_train_logs[i].meters['loss_box_reg'].value)\n",
    "\n",
    "  trans_valid_loss.append(all_trans_valid_logs[i].meters['loss'].value)\n",
    "  trans_valid_loss.append(all_trans_valid_logs[i].meters['loss_box_reg'].value)\n",
    "\n",
    "  #cis_valid_loss.append(all_cis_valid_logs[i].meters['loss'].value)\n",
    "  #cis_valid_loss_box_reg.append(all_cis_valid_logs[i].meters['loss_box_reg'].value)\n",
    "\n",
    "ax[0].plot(np.arange(1),train_loss, label='train')\n",
    "ax[0].plot(np.arange(1),trans_valid_loss, label='trans valid')\n",
    "#ax[0].plot(np.arange(num_epochs),cis_valid_loss, label='cis valid')\n",
    "ax[0].set_ylabel('loss')\n",
    "ax[0].set_xlabel('epoch')\n",
    "ax[0].legend()\n",
    "\n",
    "ax[1].plot(np.arange(num_epochs),train_loss_box_reg,label='train')\n",
    "ax[1].set_ylabel('loss_box_reg')\n",
    "ax[1].set_xlabel('epoch')"
   ]
  },
  {
   "cell_type": "markdown",
   "metadata": {
    "id": "SPV4Pxyajekr"
   },
   "source": [
    "To obtain predicitons"
   ]
  },
  {
   "cell_type": "code",
   "execution_count": null,
   "metadata": {
    "id": "1dTlEPVhRVHE"
   },
   "outputs": [],
   "source": [
    "train_features, train_labels = next(iter(trans_valid_dataloader))\n",
    "image=list(image.to(device) for image in train_features)\n",
    "\n",
    "model.eval()\n",
    "with torch.no_grad():\n",
    "  pred=model(image)"
   ]
  },
  {
   "cell_type": "code",
   "execution_count": null,
   "metadata": {
    "colab": {
     "base_uri": "https://localhost:8080/",
     "height": 368
    },
    "id": "tkwIJ6cCeRq3",
    "outputId": "33012e5f-2664-46ef-fa1e-b54bf5e2faf5"
   },
   "outputs": [],
   "source": [
    "fig, ax = plt.subplots(1,3,figsize=(24,16))\n",
    "\n",
    "ax[0].imshow(train_features[0][0].squeeze(),cmap=\"gray\")\n",
    "rect = patches.Rectangle((train_labels[0]['boxes'][0][0], train_labels[0]['boxes'][0][1]), train_labels[0]['boxes'][0][2]-train_labels[0]['boxes'][0][0], train_labels[0]['boxes'][0][3]-train_labels[0]['boxes'][0][1], linewidth=2, edgecolor='r', facecolor='none')\n",
    "ax[0].add_patch(rect)\n",
    "ax[0].set_title('Ground truth')\n",
    "\n",
    "ax[1].imshow(train_features[0][0].squeeze(),cmap=\"gray\")\n",
    "for i in range(len(pred[0]['boxes'])):\n",
    "  rect = patches.Rectangle((pred[0]['boxes'][i][0].cpu(), pred[0]['boxes'][i][1].cpu()), (pred[0]['boxes'][i][2]-pred[0]['boxes'][i][0]).cpu(), (pred[0]['boxes'][i][3]-pred[0]['boxes'][i][1]).cpu(), linewidth=2, edgecolor='r', facecolor='none')\n",
    "  ax[1].add_patch(rect)\n",
    "ax[1].set_title('Pred')\n",
    "\n",
    "#NMS\n",
    "iou_threshold=0.005 # param to tune\n",
    "boxes_to_keep=torchvision.ops.nms(pred[0]['boxes'],pred[0]['scores'],iou_threshold=iou_threshold).cpu()\n",
    "ax[2].imshow(train_features[0][0].squeeze(),cmap=\"gray\")\n",
    "for i in boxes_to_keep:\n",
    "  rect = patches.Rectangle((pred[0]['boxes'][i][0].cpu(), pred[0]['boxes'][i][1].cpu()), (pred[0]['boxes'][i][2]-pred[0]['boxes'][i][0]).cpu(), (pred[0]['boxes'][i][3]-pred[0]['boxes'][i][1]).cpu(), linewidth=2, edgecolor='r', facecolor='none')\n",
    "  ax[2].add_patch(rect)\n",
    "\n",
    "ax[2].set_title('After NMS')\n"
   ]
  },
  {
   "cell_type": "code",
   "execution_count": null,
   "metadata": {
    "id": "sZDc5hxIvZoN"
   },
   "outputs": [],
   "source": [
    "# ' For evaluation, we consider a detected box to be correct if its IoU≥ 0.5 with a ground truth box.'\n"
   ]
  },
  {
   "cell_type": "code",
   "execution_count": null,
   "metadata": {
    "id": "x7e4y2-nCND0"
   },
   "outputs": [],
   "source": [
    "# doesnt seem to change something to do this before the MAP \n",
    "pred[0]['boxes']=pred[0]['boxes'][boxes_to_keep]\n",
    "pred[0]['labels']=pred[0]['labels'][boxes_to_keep]\n",
    "pred[0]['scores']=pred[0]['scores'][boxes_to_keep]"
   ]
  },
  {
   "cell_type": "markdown",
   "metadata": {
    "id": "3R--lgH4RXfG"
   },
   "source": [
    "Metrics"
   ]
  },
  {
   "cell_type": "code",
   "execution_count": null,
   "metadata": {
    "colab": {
     "base_uri": "https://localhost:8080/"
    },
    "id": "pjYowlRyHjRa",
    "outputId": "812bbc3c-3659-403d-eb41-bb7fe3f1f8eb"
   },
   "outputs": [],
   "source": [
    "metric = MeanAveragePrecision( max_detection_thresholds=[2])\n",
    "metric.update(pred, list(train_labels))\n",
    "from pprint import pprint\n",
    "pprint(metric.compute())"
   ]
  },
  {
   "cell_type": "code",
   "execution_count": null,
   "metadata": {
    "id": "CCPg0pzkP9FN"
   },
   "outputs": [],
   "source": []
  },
  {
   "cell_type": "code",
   "execution_count": null,
   "metadata": {
    "id": "U-lHPVf_P9IB"
   },
   "outputs": [],
   "source": []
  },
  {
   "cell_type": "code",
   "execution_count": null,
   "metadata": {
    "id": "8UPiGTzRP9Ld"
   },
   "outputs": [],
   "source": []
  },
  {
   "cell_type": "code",
   "execution_count": null,
   "metadata": {
    "colab": {
     "base_uri": "https://localhost:8080/"
    },
    "id": "BaOCxXDmRmJd",
    "outputId": "27cee095-b172-43f3-fa06-af480c243c16"
   },
   "outputs": [],
   "source": [
    "model.roi_heads # original roi heads"
   ]
  },
  {
   "cell_type": "code",
   "execution_count": null,
   "metadata": {
    "id": "EPLDTv-aPmSZ"
   },
   "outputs": [],
   "source": [
    "# replace the classifier with a new one, that has\n",
    "# num_classes which is user-defined\n",
    "num_classes = 2  # 1 class (animal) + background\n",
    "# get number of input features for the classifier\n",
    "in_features = model.roi_heads.box_predictor.cls_score.in_features\n",
    "# replace the pre-trained head with a new one\n",
    "model.roi_heads.box_predictor = FastRCNNPredictor(in_features, num_classes)"
   ]
  },
  {
   "cell_type": "code",
   "execution_count": null,
   "metadata": {
    "colab": {
     "base_uri": "https://localhost:8080/"
    },
    "id": "WMSAz_lOP03p",
    "outputId": "b331206d-95f5-4cd4-919f-ef7834ba6015"
   },
   "outputs": [],
   "source": [
    "model.roi_heads # new roi heads"
   ]
  },
  {
   "cell_type": "code",
   "execution_count": null,
   "metadata": {
    "colab": {
     "base_uri": "https://localhost:8080/"
    },
    "id": "Hdiwe3KiR5-y",
    "outputId": "74e74b62-d975-4844-9722-44218ba2b568"
   },
   "outputs": [],
   "source": [
    "model.transform"
   ]
  },
  {
   "cell_type": "code",
   "execution_count": null,
   "metadata": {
    "id": "pWhYPrH2d55v"
   },
   "outputs": [],
   "source": [
    "# We would prob need to change the size in \n",
    "# Resize(min_size=(800,), max_size=1333, mode='bilinear')\n",
    "\n",
    "\n",
    "## CEt Ligne est ecrit par Abdiel\n",
    "## Celle-ci est écrite par Kevin.\n",
    "\n",
    "# As well as the output size in the fc of the FastRCNN Predictor\n",
    "#(cls_score): Linear(in_features=1024, out_features=91, bias=True)\n",
    "#(bbox_pred): Linear(in_features=1024, out_features=364, bias=True)\n"
   ]
  },
  {
   "cell_type": "code",
   "execution_count": null,
   "metadata": {
    "colab": {
     "base_uri": "https://localhost:8080/"
    },
    "id": "wDmoSvdBd4zq",
    "outputId": "35c24f77-a4c3-4be3-b5b0-c78077fdcde9"
   },
   "outputs": [],
   "source": [
    "model"
   ]
  },
  {
   "cell_type": "code",
   "execution_count": null,
   "metadata": {
    "colab": {
     "base_uri": "https://localhost:8080/"
    },
    "id": "Ka0uXOxkj7VB",
    "outputId": "9120aa8a-b615-434f-8892-9f031d992704"
   },
   "outputs": [],
   "source": [
    "model."
   ]
  },
  {
   "cell_type": "code",
   "execution_count": null,
   "metadata": {
    "id": "WWsInJhMHXKG"
   },
   "outputs": [],
   "source": []
  }
 ],
 "metadata": {
  "accelerator": "GPU",
  "colab": {
   "collapsed_sections": [],
   "name": "Copy of Step1_TransferLearning.ipynb",
   "provenance": []
  },
  "kernelspec": {
   "display_name": "Animals",
   "language": "python",
   "name": "animals"
  },
  "language_info": {
   "codemirror_mode": {
    "name": "ipython",
    "version": 3
   },
   "file_extension": ".py",
   "mimetype": "text/x-python",
   "name": "python",
   "nbconvert_exporter": "python",
   "pygments_lexer": "ipython3",
   "version": "3.7.11"
  }
 },
 "nbformat": 4,
 "nbformat_minor": 1
}
