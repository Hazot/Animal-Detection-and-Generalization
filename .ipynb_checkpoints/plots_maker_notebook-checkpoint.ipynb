{
 "cells": [
  {
   "cell_type": "code",
   "execution_count": null,
   "id": "f5fd0f82",
   "metadata": {},
   "outputs": [],
   "source": [
    "import time\n",
    "import json\n",
    "import matplotlib.pyplot as plt\n",
    "import seaborn as sns\n",
    "import os\n",
    "import numpy as np\n",
    "import matplotlib.patches as patches\n",
    "\n",
    "# from torchmetrics.detection import MeanAveragePrecision\n",
    "\n",
    "# import pycocotools"
   ]
  },
  {
   "cell_type": "code",
   "execution_count": null,
   "id": "bf67f5d5",
   "metadata": {},
   "outputs": [],
   "source": [
    "# # imports from local lib files\n",
    "# import utils\n",
    "# import transforms\n",
    "# import coco_eval\n",
    "# from engine import train_one_epoch, evaluate"
   ]
  },
  {
   "cell_type": "code",
   "execution_count": null,
   "id": "d8f6d3d0",
   "metadata": {},
   "outputs": [],
   "source": [
    "# Imports for evaluation from local lib files\n",
    "from coco_utils import get_coco_api_from_dataset\n",
    "from coco_eval import CocoEvaluator\n",
    "from engine import _get_iou_types "
   ]
  }
 ],
 "metadata": {
  "kernelspec": {
   "display_name": "Animals",
   "language": "python",
   "name": "animals"
  },
  "language_info": {
   "codemirror_mode": {
    "name": "ipython",
    "version": 3
   },
   "file_extension": ".py",
   "mimetype": "text/x-python",
   "name": "python",
   "nbconvert_exporter": "python",
   "pygments_lexer": "ipython3",
   "version": "3.7.11"
  }
 },
 "nbformat": 4,
 "nbformat_minor": 5
}
